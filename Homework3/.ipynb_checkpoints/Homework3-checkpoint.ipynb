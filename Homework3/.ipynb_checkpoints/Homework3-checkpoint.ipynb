{
 "cells": [
  {
   "cell_type": "code",
   "execution_count": 1,
   "metadata": {},
   "outputs": [
    {
     "data": {
      "text/html": [
       "'C:/Users/bahad/GitHub/IE582/Homework3'"
      ],
      "text/latex": [
       "'C:/Users/bahad/GitHub/IE582/Homework3'"
      ],
      "text/markdown": [
       "'C:/Users/bahad/GitHub/IE582/Homework3'"
      ],
      "text/plain": [
       "[1] \"C:/Users/bahad/GitHub/IE582/Homework3\""
      ]
     },
     "metadata": {},
     "output_type": "display_data"
    }
   ],
   "source": [
    "getwd()"
   ]
  },
  {
   "cell_type": "code",
   "execution_count": 2,
   "metadata": {},
   "outputs": [
    {
     "name": "stderr",
     "output_type": "stream",
     "text": [
      "\n",
      "Attaching package: 'lubridate'\n",
      "\n",
      "The following objects are masked from 'package:data.table':\n",
      "\n",
      "    hour, isoweek, mday, minute, month, quarter, second, wday, week,\n",
      "    yday, year\n",
      "\n",
      "The following object is masked from 'package:base':\n",
      "\n",
      "    date\n",
      "\n",
      "\n",
      "Attaching package: 'zoo'\n",
      "\n",
      "The following objects are masked from 'package:base':\n",
      "\n",
      "    as.Date, as.Date.numeric\n",
      "\n",
      "Warning message:\n",
      "\"package 'dplyr' was built under R version 3.6.3\"\n",
      "Attaching package: 'dplyr'\n",
      "\n",
      "The following objects are masked from 'package:lubridate':\n",
      "\n",
      "    intersect, setdiff, union\n",
      "\n",
      "The following objects are masked from 'package:data.table':\n",
      "\n",
      "    between, first, last\n",
      "\n",
      "The following objects are masked from 'package:stats':\n",
      "\n",
      "    filter, lag\n",
      "\n",
      "The following objects are masked from 'package:base':\n",
      "\n",
      "    intersect, setdiff, setequal, union\n",
      "\n"
     ]
    }
   ],
   "source": [
    "library(data.table)\n",
    "library(lubridate, quietly=TRUE)\n",
    "library(zoo, quietly = TRUE)\n",
    "library(dplyr, quietly = TRUE)"
   ]
  },
  {
   "cell_type": "code",
   "execution_count": 3,
   "metadata": {},
   "outputs": [],
   "source": [
    "dt=fread(\"GercekZamanliTuketim-01012016-01122020.csv\")\n",
    "dt$Tarih=dmy(dt$Tarih)"
   ]
  },
  {
   "cell_type": "code",
   "execution_count": 4,
   "metadata": {
    "scrolled": false
   },
   "outputs": [],
   "source": [
    "setnames(dt, \"Tüketim Miktarı (MWh)\", \"consumption\")\n",
    "setnames(dt, \"Tarih\", \"date\")\n",
    "setnames(dt, \"Saat\", \"hour\")\n",
    "dt$consumption=gsub('\\\\.', '', dt$consumption)\n",
    "dt$consumption=gsub('\\\\,', '.', dt$consumption)\n",
    "dt$hour=gsub(':00', '', dt$hour)"
   ]
  },
  {
   "cell_type": "code",
   "execution_count": 5,
   "metadata": {},
   "outputs": [
    {
     "name": "stdout",
     "output_type": "stream",
     "text": [
      "Classes 'data.table' and 'data.frame':\t43128 obs. of  3 variables:\n",
      " $ date       : Date, format: \"2016-01-01\" \"2016-01-01\" ...\n",
      " $ hour       : num  0 1 2 3 4 5 6 7 8 9 ...\n",
      " $ consumption: num  26277 24992 23533 22465 22003 ...\n",
      " - attr(*, \".internal.selfref\")=<externalptr> \n"
     ]
    }
   ],
   "source": [
    "dt$consumption=as.numeric(dt$consumption)\n",
    "dt$hour=as.numeric(dt$hour)\n",
    "str(dt)"
   ]
  },
  {
   "cell_type": "code",
   "execution_count": 6,
   "metadata": {},
   "outputs": [],
   "source": [
    "dt_lagged1=copy(dt)\n",
    "dt_lagged1[, Lag_48:=shift(consumption,type=\"lag\",n=48)]\n",
    "dt_lagged1[, Lag_168:=shift(consumption,type=\"lag\",n=168)]"
   ]
  },
  {
   "cell_type": "code",
   "execution_count": 7,
   "metadata": {},
   "outputs": [],
   "source": [
    "train=filter(dt_lagged1,date<=\"2020-10-31\")\n",
    "#train"
   ]
  },
  {
   "cell_type": "code",
   "execution_count": 8,
   "metadata": {},
   "outputs": [],
   "source": [
    "test=filter(dt_lagged1,date>\"2020-10-31\")\n",
    "#test"
   ]
  },
  {
   "cell_type": "code",
   "execution_count": 9,
   "metadata": {},
   "outputs": [
    {
     "name": "stdout",
     "output_type": "stream",
     "text": [
      "[1] \"MAPE value for lag48 equals to: 2675.98290322581\"\n",
      "[1] \"MAPE value for lag168 equals to: 1204.03524193548\"\n"
     ]
    }
   ],
   "source": [
    "MAPE_48=sum(abs(test$consumption-test$Lag_48))/length(test$consumption)\n",
    "MAPE_168=sum(abs(test$consumption-test$Lag_168))/length(test$consumption)\n",
    "print(paste(\"MAPE value for lag48 equals to:\", MAPE_48))\n",
    "print(paste(\"MAPE value for lag168 equals to:\", MAPE_168))"
   ]
  },
  {
   "cell_type": "markdown",
   "metadata": {},
   "source": [
    "# PART B"
   ]
  },
  {
   "cell_type": "code",
   "execution_count": 10,
   "metadata": {},
   "outputs": [
    {
     "name": "stdout",
     "output_type": "stream",
     "text": [
      "Classes 'data.table' and 'data.frame':\t42384 obs. of  5 variables:\n",
      " $ date       : Date, format: \"2016-01-01\" \"2016-01-01\" ...\n",
      " $ hour       : num  0 1 2 3 4 5 6 7 8 9 ...\n",
      " $ consumption: num  26277 24992 23533 22465 22003 ...\n",
      " $ Lag_48     : num  NA NA NA NA NA NA NA NA NA NA ...\n",
      " $ Lag_168    : num  NA NA NA NA NA NA NA NA NA NA ...\n",
      " - attr(*, \".internal.selfref\")=<externalptr> \n"
     ]
    }
   ],
   "source": [
    "str(train)"
   ]
  },
  {
   "cell_type": "code",
   "execution_count": 11,
   "metadata": {},
   "outputs": [
    {
     "data": {
      "text/plain": [
       "\n",
       "Call:\n",
       "lm(formula = consumption ~ Lag_48 + Lag_168, data = train)\n",
       "\n",
       "Residuals:\n",
       "     Min       1Q   Median       3Q      Max \n",
       "-25242.2   -984.2     -0.5   1016.9  16102.6 \n",
       "\n",
       "Coefficients:\n",
       "             Estimate Std. Error t value Pr(>|t|)    \n",
       "(Intercept) 1.574e+03  8.353e+01   18.84   <2e-16 ***\n",
       "Lag_48      3.084e-01  3.096e-03   99.60   <2e-16 ***\n",
       "Lag_168     6.435e-01  3.094e-03  208.03   <2e-16 ***\n",
       "---\n",
       "Signif. codes:  0 '***' 0.001 '**' 0.01 '*' 0.05 '.' 0.1 ' ' 1\n",
       "\n",
       "Residual standard error: 2392 on 42213 degrees of freedom\n",
       "  (168 observations deleted due to missingness)\n",
       "Multiple R-squared:  0.7753,\tAdjusted R-squared:  0.7753 \n",
       "F-statistic: 7.281e+04 on 2 and 42213 DF,  p-value: < 2.2e-16\n"
      ]
     },
     "metadata": {},
     "output_type": "display_data"
    }
   ],
   "source": [
    "Reg=lm(data=train, consumption~Lag_48+Lag_168)\n",
    "summary(Reg)"
   ]
  },
  {
   "cell_type": "code",
   "execution_count": 12,
   "metadata": {},
   "outputs": [
    {
     "name": "stdout",
     "output_type": "stream",
     "text": [
      "[1] \"MAPE value for autoregression model equals to: 1463.39190922374\"\n"
     ]
    }
   ],
   "source": [
    "predictions=predict(Reg,newdata = test)\n",
    "MAPE_reg=sum(abs(predictions-test$consumption))/length(test$consumption)\n",
    "print(paste(\"MAPE value for autoregression model equals to:\", MAPE_reg))"
   ]
  },
  {
   "cell_type": "markdown",
   "metadata": {},
   "source": [
    "# PART C"
   ]
  },
  {
   "cell_type": "code",
   "execution_count": 13,
   "metadata": {},
   "outputs": [],
   "source": [
    "hour0_train=filter(train, hour==0)\n",
    "hour1_train=filter(train, hour==1)\n",
    "hour2_train=filter(train, hour==2)\n",
    "hour3_train=filter(train, hour==3)\n",
    "hour4_train=filter(train, hour==4)\n",
    "hour5_train=filter(train, hour==5)\n",
    "hour6_train=filter(train, hour==6)\n",
    "hour7_train=filter(train, hour==7)\n",
    "hour8_train=filter(train, hour==8)\n",
    "hour9_train=filter(train, hour==9)\n",
    "hour10_train=filter(train, hour==10)\n",
    "hour11_train=filter(train, hour==11)\n",
    "hour12_train=filter(train, hour==12)\n",
    "hour13_train=filter(train, hour==13)\n",
    "hour14_train=filter(train, hour==14)\n",
    "hour15_train=filter(train, hour==15)\n",
    "hour16_train=filter(train, hour==16)\n",
    "hour17_train=filter(train, hour==17)\n",
    "hour18_train=filter(train, hour==18)\n",
    "hour19_train=filter(train, hour==19)\n",
    "hour20_train=filter(train, hour==20)\n",
    "hour21_train=filter(train, hour==21)\n",
    "hour22_train=filter(train, hour==22)\n",
    "hour23_train=filter(train, hour==23)"
   ]
  },
  {
   "cell_type": "code",
   "execution_count": 14,
   "metadata": {},
   "outputs": [],
   "source": [
    "hour0_test=filter(test, hour==0)\n",
    "hour1_test=filter(test, hour==1)\n",
    "hour2_test=filter(test, hour==2)\n",
    "hour3_test=filter(test, hour==3)\n",
    "hour4_test=filter(test, hour==4)\n",
    "hour5_test=filter(test, hour==5)\n",
    "hour6_test=filter(test, hour==6)\n",
    "hour7_test=filter(test, hour==7)\n",
    "hour8_test=filter(test, hour==8)\n",
    "hour9_test=filter(test, hour==9)\n",
    "hour10_test=filter(test, hour==10)\n",
    "hour11_test=filter(test, hour==11)\n",
    "hour12_test=filter(test, hour==12)\n",
    "hour13_test=filter(test, hour==13)\n",
    "hour14_test=filter(test, hour==14)\n",
    "hour15_test=filter(test, hour==15)\n",
    "hour16_test=filter(test, hour==16)\n",
    "hour17_test=filter(test, hour==17)\n",
    "hour18_test=filter(test, hour==18)\n",
    "hour19_test=filter(test, hour==19)\n",
    "hour20_test=filter(test, hour==20)\n",
    "hour21_test=filter(test, hour==21)\n",
    "hour22_test=filter(test, hour==22)\n",
    "hour23_test=filter(test, hour==23)"
   ]
  },
  {
   "cell_type": "code",
   "execution_count": 15,
   "metadata": {},
   "outputs": [
    {
     "data": {
      "text/html": [
       "744"
      ],
      "text/latex": [
       "744"
      ],
      "text/markdown": [
       "744"
      ],
      "text/plain": [
       "[1] 744"
      ]
     },
     "metadata": {},
     "output_type": "display_data"
    }
   ],
   "source": [
    "length(test$consumption)"
   ]
  },
  {
   "cell_type": "code",
   "execution_count": 16,
   "metadata": {},
   "outputs": [
    {
     "data": {
      "text/plain": [
       "\n",
       "Call:\n",
       "lm(formula = consumption ~ Lag_48 + Lag_168, data = hour0_train)\n",
       "\n",
       "Residuals:\n",
       "    Min      1Q  Median      3Q     Max \n",
       "-9164.8  -799.5    41.6   883.0  6407.1 \n",
       "\n",
       "Coefficients:\n",
       "             Estimate Std. Error t value Pr(>|t|)    \n",
       "(Intercept) 2.191e+03  4.314e+02   5.079  4.2e-07 ***\n",
       "Lag_48      4.869e-01  1.685e-02  28.889  < 2e-16 ***\n",
       "Lag_168     4.428e-01  1.682e-02  26.329  < 2e-16 ***\n",
       "---\n",
       "Signif. codes:  0 '***' 0.001 '**' 0.01 '*' 0.05 '.' 0.1 ' ' 1\n",
       "\n",
       "Residual standard error: 1591 on 1756 degrees of freedom\n",
       "  (7 observations deleted due to missingness)\n",
       "Multiple R-squared:  0.7209,\tAdjusted R-squared:  0.7206 \n",
       "F-statistic:  2268 on 2 and 1756 DF,  p-value: < 2.2e-16\n"
      ]
     },
     "metadata": {},
     "output_type": "display_data"
    },
    {
     "data": {
      "text/html": [
       "1041.64821019915"
      ],
      "text/latex": [
       "1041.64821019915"
      ],
      "text/markdown": [
       "1041.64821019915"
      ],
      "text/plain": [
       "[1] 1041.648"
      ]
     },
     "metadata": {},
     "output_type": "display_data"
    }
   ],
   "source": [
    "Reg0=lm(data=hour0_train, consumption~Lag_48+Lag_168)\n",
    "summary(Reg0)\n",
    "predictions0=predict(Reg0,newdata = hour0_test)\n",
    "MAPE_0=sum(abs(predictions0-hour0_test$consumption))/length(hour0_test$consumption)\n",
    "MAPE_0"
   ]
  },
  {
   "cell_type": "code",
   "execution_count": 17,
   "metadata": {},
   "outputs": [
    {
     "data": {
      "text/plain": [
       "\n",
       "Call:\n",
       "lm(formula = consumption ~ Lag_48 + Lag_168, data = hour1_train)\n",
       "\n",
       "Residuals:\n",
       "    Min      1Q  Median      3Q     Max \n",
       "-9387.9  -774.5    76.6   832.3  6453.8 \n",
       "\n",
       "Coefficients:\n",
       "             Estimate Std. Error t value Pr(>|t|)    \n",
       "(Intercept) 2.120e+03  4.130e+02   5.134 3.15e-07 ***\n",
       "Lag_48      4.920e-01  1.687e-02  29.167  < 2e-16 ***\n",
       "Lag_168     4.364e-01  1.683e-02  25.933  < 2e-16 ***\n",
       "---\n",
       "Signif. codes:  0 '***' 0.001 '**' 0.01 '*' 0.05 '.' 0.1 ' ' 1\n",
       "\n",
       "Residual standard error: 1561 on 1756 degrees of freedom\n",
       "  (7 observations deleted due to missingness)\n",
       "Multiple R-squared:  0.717,\tAdjusted R-squared:  0.7167 \n",
       "F-statistic:  2225 on 2 and 1756 DF,  p-value: < 2.2e-16\n"
      ]
     },
     "metadata": {},
     "output_type": "display_data"
    },
    {
     "data": {
      "text/html": [
       "994.720567381292"
      ],
      "text/latex": [
       "994.720567381292"
      ],
      "text/markdown": [
       "994.720567381292"
      ],
      "text/plain": [
       "[1] 994.7206"
      ]
     },
     "metadata": {},
     "output_type": "display_data"
    }
   ],
   "source": [
    "Reg1=lm(data=hour1_train, consumption~Lag_48+Lag_168)\n",
    "summary(Reg1)\n",
    "predictions1=predict(Reg1,newdata = hour1_test)\n",
    "MAPE_1=sum(abs(predictions1-hour1_test$consumption))/length(hour1_test$consumption)\n",
    "MAPE_1"
   ]
  },
  {
   "cell_type": "code",
   "execution_count": 18,
   "metadata": {},
   "outputs": [
    {
     "data": {
      "text/plain": [
       "\n",
       "Call:\n",
       "lm(formula = consumption ~ Lag_48 + Lag_168, data = hour2_train)\n",
       "\n",
       "Residuals:\n",
       "     Min       1Q   Median       3Q      Max \n",
       "-25401.9   -788.9     71.8    841.5  12763.8 \n",
       "\n",
       "Coefficients:\n",
       "             Estimate Std. Error t value Pr(>|t|)    \n",
       "(Intercept) 2.831e+03  4.429e+02   6.392 2.09e-10 ***\n",
       "Lag_48      4.753e-01  1.773e-02  26.816  < 2e-16 ***\n",
       "Lag_168     4.252e-01  1.768e-02  24.047  < 2e-16 ***\n",
       "---\n",
       "Signif. codes:  0 '***' 0.001 '**' 0.01 '*' 0.05 '.' 0.1 ' ' 1\n",
       "\n",
       "Residual standard error: 1704 on 1756 degrees of freedom\n",
       "  (7 observations deleted due to missingness)\n",
       "Multiple R-squared:  0.6575,\tAdjusted R-squared:  0.6571 \n",
       "F-statistic:  1685 on 2 and 1756 DF,  p-value: < 2.2e-16\n"
      ]
     },
     "metadata": {},
     "output_type": "display_data"
    },
    {
     "data": {
      "text/html": [
       "993.952909991861"
      ],
      "text/latex": [
       "993.952909991861"
      ],
      "text/markdown": [
       "993.952909991861"
      ],
      "text/plain": [
       "[1] 993.9529"
      ]
     },
     "metadata": {},
     "output_type": "display_data"
    }
   ],
   "source": [
    "Reg2=lm(data=hour2_train, consumption~Lag_48+Lag_168)\n",
    "summary(Reg2)\n",
    "predictions2=predict(Reg2,newdata = hour2_test)\n",
    "MAPE_2=sum(abs(predictions2-hour2_test$consumption))/length(hour2_test$consumption)\n",
    "MAPE_2"
   ]
  },
  {
   "cell_type": "code",
   "execution_count": 19,
   "metadata": {},
   "outputs": [
    {
     "data": {
      "text/plain": [
       "\n",
       "Call:\n",
       "lm(formula = consumption ~ Lag_48 + Lag_168, data = hour3_train)\n",
       "\n",
       "Residuals:\n",
       "    Min      1Q  Median      3Q     Max \n",
       "-8870.5  -817.7    66.7   871.5  6271.5 \n",
       "\n",
       "Coefficients:\n",
       "             Estimate Std. Error t value Pr(>|t|)    \n",
       "(Intercept) 2.229e+03  4.079e+02   5.463 5.34e-08 ***\n",
       "Lag_48      4.928e-01  1.704e-02  28.913  < 2e-16 ***\n",
       "Lag_168     4.270e-01  1.700e-02  25.112  < 2e-16 ***\n",
       "---\n",
       "Signif. codes:  0 '***' 0.001 '**' 0.01 '*' 0.05 '.' 0.1 ' ' 1\n",
       "\n",
       "Residual standard error: 1521 on 1755 degrees of freedom\n",
       "  (7 observations deleted due to missingness)\n",
       "Multiple R-squared:  0.6918,\tAdjusted R-squared:  0.6915 \n",
       "F-statistic:  1970 on 2 and 1755 DF,  p-value: < 2.2e-16\n"
      ]
     },
     "metadata": {},
     "output_type": "display_data"
    },
    {
     "data": {
      "text/html": [
       "913.382070499048"
      ],
      "text/latex": [
       "913.382070499048"
      ],
      "text/markdown": [
       "913.382070499048"
      ],
      "text/plain": [
       "[1] 913.3821"
      ]
     },
     "metadata": {},
     "output_type": "display_data"
    }
   ],
   "source": [
    "Reg3=lm(data=hour3_train, consumption~Lag_48+Lag_168)\n",
    "summary(Reg3)\n",
    "predictions3=predict(Reg3,newdata = hour3_test)\n",
    "MAPE_3=sum(abs(predictions3-hour3_test$consumption))/length(hour3_test$consumption)\n",
    "MAPE_3"
   ]
  },
  {
   "cell_type": "code",
   "execution_count": 20,
   "metadata": {},
   "outputs": [
    {
     "data": {
      "text/plain": [
       "\n",
       "Call:\n",
       "lm(formula = consumption ~ Lag_48 + Lag_168, data = hour4_train)\n",
       "\n",
       "Residuals:\n",
       "    Min      1Q  Median      3Q     Max \n",
       "-7887.2  -802.8    42.3   861.0  6287.8 \n",
       "\n",
       "Coefficients:\n",
       "             Estimate Std. Error t value Pr(>|t|)    \n",
       "(Intercept) 2.205e+03  4.096e+02   5.384 8.25e-08 ***\n",
       "Lag_48      4.747e-01  1.696e-02  27.990  < 2e-16 ***\n",
       "Lag_168     4.449e-01  1.691e-02  26.320  < 2e-16 ***\n",
       "---\n",
       "Signif. codes:  0 '***' 0.001 '**' 0.01 '*' 0.05 '.' 0.1 ' ' 1\n",
       "\n",
       "Residual standard error: 1495 on 1757 degrees of freedom\n",
       "  (7 observations deleted due to missingness)\n",
       "Multiple R-squared:  0.6843,\tAdjusted R-squared:  0.6839 \n",
       "F-statistic:  1904 on 2 and 1757 DF,  p-value: < 2.2e-16\n"
      ]
     },
     "metadata": {},
     "output_type": "display_data"
    },
    {
     "data": {
      "text/html": [
       "902.666271464207"
      ],
      "text/latex": [
       "902.666271464207"
      ],
      "text/markdown": [
       "902.666271464207"
      ],
      "text/plain": [
       "[1] 902.6663"
      ]
     },
     "metadata": {},
     "output_type": "display_data"
    }
   ],
   "source": [
    "Reg4=lm(data=hour4_train, consumption~Lag_48+Lag_168)\n",
    "summary(Reg4)\n",
    "predictions4=predict(Reg4,newdata = hour4_test)\n",
    "MAPE_4=sum(abs(predictions4-hour4_test$consumption))/length(hour4_test$consumption)\n",
    "MAPE_4"
   ]
  },
  {
   "cell_type": "code",
   "execution_count": 21,
   "metadata": {},
   "outputs": [
    {
     "data": {
      "text/plain": [
       "\n",
       "Call:\n",
       "lm(formula = consumption ~ Lag_48 + Lag_168, data = hour5_train)\n",
       "\n",
       "Residuals:\n",
       "    Min      1Q  Median      3Q     Max \n",
       "-7438.7  -778.2    34.5   839.2  6380.3 \n",
       "\n",
       "Coefficients:\n",
       "             Estimate Std. Error t value Pr(>|t|)    \n",
       "(Intercept) 2.225e+03  4.192e+02   5.308 1.25e-07 ***\n",
       "Lag_48      4.399e-01  1.689e-02  26.044  < 2e-16 ***\n",
       "Lag_168     4.785e-01  1.685e-02  28.401  < 2e-16 ***\n",
       "---\n",
       "Signif. codes:  0 '***' 0.001 '**' 0.01 '*' 0.05 '.' 0.1 ' ' 1\n",
       "\n",
       "Residual standard error: 1486 on 1756 degrees of freedom\n",
       "  (7 observations deleted due to missingness)\n",
       "Multiple R-squared:  0.6705,\tAdjusted R-squared:  0.6701 \n",
       "F-statistic:  1787 on 2 and 1756 DF,  p-value: < 2.2e-16\n"
      ]
     },
     "metadata": {},
     "output_type": "display_data"
    },
    {
     "data": {
      "text/html": [
       "913.218470401409"
      ],
      "text/latex": [
       "913.218470401409"
      ],
      "text/markdown": [
       "913.218470401409"
      ],
      "text/plain": [
       "[1] 913.2185"
      ]
     },
     "metadata": {},
     "output_type": "display_data"
    }
   ],
   "source": [
    "Reg5=lm(data=hour5_train, consumption~Lag_48+Lag_168)\n",
    "summary(Reg5)\n",
    "predictions5=predict(Reg5,newdata = hour5_test)\n",
    "MAPE_5=sum(abs(predictions5-hour5_test$consumption))/length(hour5_test$consumption)\n",
    "MAPE_5"
   ]
  },
  {
   "cell_type": "code",
   "execution_count": 22,
   "metadata": {},
   "outputs": [
    {
     "data": {
      "text/plain": [
       "\n",
       "Call:\n",
       "lm(formula = consumption ~ Lag_48 + Lag_168, data = hour6_train)\n",
       "\n",
       "Residuals:\n",
       "    Min      1Q  Median      3Q     Max \n",
       "-7426.1  -729.0    37.6   849.3  7049.2 \n",
       "\n",
       "Coefficients:\n",
       "             Estimate Std. Error t value Pr(>|t|)    \n",
       "(Intercept) 2.127e+03  4.246e+02    5.01    6e-07 ***\n",
       "Lag_48      3.760e-01  1.651e-02   22.77   <2e-16 ***\n",
       "Lag_168     5.462e-01  1.648e-02   33.15   <2e-16 ***\n",
       "---\n",
       "Signif. codes:  0 '***' 0.001 '**' 0.01 '*' 0.05 '.' 0.1 ' ' 1\n",
       "\n",
       "Residual standard error: 1565 on 1756 degrees of freedom\n",
       "  (7 observations deleted due to missingness)\n",
       "Multiple R-squared:  0.6704,\tAdjusted R-squared:   0.67 \n",
       "F-statistic:  1786 on 2 and 1756 DF,  p-value: < 2.2e-16\n"
      ]
     },
     "metadata": {},
     "output_type": "display_data"
    },
    {
     "data": {
      "text/html": [
       "928.420521138397"
      ],
      "text/latex": [
       "928.420521138397"
      ],
      "text/markdown": [
       "928.420521138397"
      ],
      "text/plain": [
       "[1] 928.4205"
      ]
     },
     "metadata": {},
     "output_type": "display_data"
    }
   ],
   "source": [
    "Reg6=lm(data=hour6_train, consumption~Lag_48+Lag_168)\n",
    "summary(Reg6)\n",
    "predictions6=predict(Reg6,newdata = hour6_test)\n",
    "MAPE_6=sum(abs(predictions6-hour6_test$consumption))/length(hour6_test$consumption)\n",
    "MAPE_6"
   ]
  },
  {
   "cell_type": "code",
   "execution_count": 23,
   "metadata": {},
   "outputs": [
    {
     "data": {
      "text/plain": [
       "\n",
       "Call:\n",
       "lm(formula = consumption ~ Lag_48 + Lag_168, data = hour7_train)\n",
       "\n",
       "Residuals:\n",
       "    Min      1Q  Median      3Q     Max \n",
       "-8817.9  -806.9    65.1   933.5  8965.0 \n",
       "\n",
       "Coefficients:\n",
       "             Estimate Std. Error t value Pr(>|t|)    \n",
       "(Intercept) 2.311e+03  4.726e+02   4.889 1.11e-06 ***\n",
       "Lag_48      2.663e-01  1.568e-02  16.982  < 2e-16 ***\n",
       "Lag_168     6.528e-01  1.565e-02  41.714  < 2e-16 ***\n",
       "---\n",
       "Signif. codes:  0 '***' 0.001 '**' 0.01 '*' 0.05 '.' 0.1 ' ' 1\n",
       "\n",
       "Residual standard error: 1915 on 1756 degrees of freedom\n",
       "  (7 observations deleted due to missingness)\n",
       "Multiple R-squared:  0.6542,\tAdjusted R-squared:  0.6539 \n",
       "F-statistic:  1661 on 2 and 1756 DF,  p-value: < 2.2e-16\n"
      ]
     },
     "metadata": {},
     "output_type": "display_data"
    },
    {
     "data": {
      "text/html": [
       "1143.9683156885"
      ],
      "text/latex": [
       "1143.9683156885"
      ],
      "text/markdown": [
       "1143.9683156885"
      ],
      "text/plain": [
       "[1] 1143.968"
      ]
     },
     "metadata": {},
     "output_type": "display_data"
    }
   ],
   "source": [
    "Reg7=lm(data=hour7_train, consumption~Lag_48+Lag_168)\n",
    "summary(Reg7)\n",
    "predictions7=predict(Reg7,newdata = hour7_test)\n",
    "MAPE_7=sum(abs(predictions7-hour7_test$consumption))/length(hour7_test$consumption)\n",
    "MAPE_7"
   ]
  },
  {
   "cell_type": "code",
   "execution_count": 24,
   "metadata": {},
   "outputs": [
    {
     "data": {
      "text/plain": [
       "\n",
       "Call:\n",
       "lm(formula = consumption ~ Lag_48 + Lag_168, data = hour8_train)\n",
       "\n",
       "Residuals:\n",
       "     Min       1Q   Median       3Q      Max \n",
       "-13443.6  -1020.6    132.4   1181.9  13089.0 \n",
       "\n",
       "Coefficients:\n",
       "             Estimate Std. Error t value Pr(>|t|)    \n",
       "(Intercept) 3.233e+03  6.051e+02   5.343 1.03e-07 ***\n",
       "Lag_48      1.737e-01  1.518e-02  11.441  < 2e-16 ***\n",
       "Lag_168     7.255e-01  1.516e-02  47.852  < 2e-16 ***\n",
       "---\n",
       "Signif. codes:  0 '***' 0.001 '**' 0.01 '*' 0.05 '.' 0.1 ' ' 1\n",
       "\n",
       "Residual standard error: 2709 on 1756 degrees of freedom\n",
       "  (7 observations deleted due to missingness)\n",
       "Multiple R-squared:  0.6178,\tAdjusted R-squared:  0.6173 \n",
       "F-statistic:  1419 on 2 and 1756 DF,  p-value: < 2.2e-16\n"
      ]
     },
     "metadata": {},
     "output_type": "display_data"
    },
    {
     "data": {
      "text/html": [
       "1529.75315325052"
      ],
      "text/latex": [
       "1529.75315325052"
      ],
      "text/markdown": [
       "1529.75315325052"
      ],
      "text/plain": [
       "[1] 1529.753"
      ]
     },
     "metadata": {},
     "output_type": "display_data"
    }
   ],
   "source": [
    "Reg8=lm(data=hour8_train, consumption~Lag_48+Lag_168)\n",
    "summary(Reg8)\n",
    "predictions8=predict(Reg8,newdata = hour8_test)\n",
    "MAPE_8=sum(abs(predictions8-hour8_test$consumption))/length(hour8_test$consumption)\n",
    "MAPE_8"
   ]
  },
  {
   "cell_type": "code",
   "execution_count": 25,
   "metadata": {},
   "outputs": [
    {
     "data": {
      "text/plain": [
       "\n",
       "Call:\n",
       "lm(formula = consumption ~ Lag_48 + Lag_168, data = hour9_train)\n",
       "\n",
       "Residuals:\n",
       "   Min     1Q Median     3Q    Max \n",
       "-15683  -1301    118   1346  15023 \n",
       "\n",
       "Coefficients:\n",
       "             Estimate Std. Error t value Pr(>|t|)    \n",
       "(Intercept) 3.595e+03  6.557e+02   5.482 4.81e-08 ***\n",
       "Lag_48      1.744e-01  1.534e-02  11.365  < 2e-16 ***\n",
       "Lag_168     7.207e-01  1.533e-02  47.005  < 2e-16 ***\n",
       "---\n",
       "Signif. codes:  0 '***' 0.001 '**' 0.01 '*' 0.05 '.' 0.1 ' ' 1\n",
       "\n",
       "Residual standard error: 3060 on 1756 degrees of freedom\n",
       "  (7 observations deleted due to missingness)\n",
       "Multiple R-squared:  0.609,\tAdjusted R-squared:  0.6085 \n",
       "F-statistic:  1367 on 2 and 1756 DF,  p-value: < 2.2e-16\n"
      ]
     },
     "metadata": {},
     "output_type": "display_data"
    },
    {
     "data": {
      "text/html": [
       "1889.2472018965"
      ],
      "text/latex": [
       "1889.2472018965"
      ],
      "text/markdown": [
       "1889.2472018965"
      ],
      "text/plain": [
       "[1] 1889.247"
      ]
     },
     "metadata": {},
     "output_type": "display_data"
    }
   ],
   "source": [
    "Reg9=lm(data=hour9_train, consumption~Lag_48+Lag_168)\n",
    "summary(Reg9)\n",
    "predictions9=predict(Reg9,newdata = hour9_test)\n",
    "MAPE_9=sum(abs(predictions9-hour9_test$consumption))/length(hour9_test$consumption)\n",
    "MAPE_9"
   ]
  },
  {
   "cell_type": "code",
   "execution_count": 26,
   "metadata": {},
   "outputs": [
    {
     "data": {
      "text/plain": [
       "\n",
       "Call:\n",
       "lm(formula = consumption ~ Lag_48 + Lag_168, data = hour10_train)\n",
       "\n",
       "Residuals:\n",
       "     Min       1Q   Median       3Q      Max \n",
       "-16524.5  -1360.2     95.7   1449.3  15554.3 \n",
       "\n",
       "Coefficients:\n",
       "             Estimate Std. Error t value Pr(>|t|)    \n",
       "(Intercept) 3.741e+03  6.679e+02   5.601 2.47e-08 ***\n",
       "Lag_48      2.062e-01  1.584e-02  13.019  < 2e-16 ***\n",
       "Lag_168     6.869e-01  1.584e-02  43.376  < 2e-16 ***\n",
       "---\n",
       "Signif. codes:  0 '***' 0.001 '**' 0.01 '*' 0.05 '.' 0.1 ' ' 1\n",
       "\n",
       "Residual standard error: 3080 on 1756 degrees of freedom\n",
       "  (7 observations deleted due to missingness)\n",
       "Multiple R-squared:  0.5952,\tAdjusted R-squared:  0.5948 \n",
       "F-statistic:  1291 on 2 and 1756 DF,  p-value: < 2.2e-16\n"
      ]
     },
     "metadata": {},
     "output_type": "display_data"
    },
    {
     "data": {
      "text/html": [
       "2125.13279430061"
      ],
      "text/latex": [
       "2125.13279430061"
      ],
      "text/markdown": [
       "2125.13279430061"
      ],
      "text/plain": [
       "[1] 2125.133"
      ]
     },
     "metadata": {},
     "output_type": "display_data"
    }
   ],
   "source": [
    "Reg10=lm(data=hour10_train, consumption~Lag_48+Lag_168)\n",
    "summary(Reg10)\n",
    "predictions10=predict(Reg10,newdata = hour10_test)\n",
    "MAPE_10=sum(abs(predictions10-hour10_test$consumption))/length(hour10_test$consumption)\n",
    "MAPE_10"
   ]
  },
  {
   "cell_type": "code",
   "execution_count": 27,
   "metadata": {},
   "outputs": [
    {
     "data": {
      "text/plain": [
       "\n",
       "Call:\n",
       "lm(formula = consumption ~ Lag_48 + Lag_168, data = hour11_train)\n",
       "\n",
       "Residuals:\n",
       "     Min       1Q   Median       3Q      Max \n",
       "-17064.1  -1439.9     89.1   1517.4  15685.0 \n",
       "\n",
       "Coefficients:\n",
       "             Estimate Std. Error t value Pr(>|t|)    \n",
       "(Intercept) 3958.7062   685.0264   5.779 8.88e-09 ***\n",
       "Lag_48         0.2250     0.0162  13.886  < 2e-16 ***\n",
       "Lag_168        0.6636     0.0162  40.954  < 2e-16 ***\n",
       "---\n",
       "Signif. codes:  0 '***' 0.001 '**' 0.01 '*' 0.05 '.' 0.1 ' ' 1\n",
       "\n",
       "Residual standard error: 3128 on 1756 degrees of freedom\n",
       "  (7 observations deleted due to missingness)\n",
       "Multiple R-squared:  0.5816,\tAdjusted R-squared:  0.5811 \n",
       "F-statistic:  1220 on 2 and 1756 DF,  p-value: < 2.2e-16\n"
      ]
     },
     "metadata": {},
     "output_type": "display_data"
    },
    {
     "data": {
      "text/html": [
       "2217.27807709177"
      ],
      "text/latex": [
       "2217.27807709177"
      ],
      "text/markdown": [
       "2217.27807709177"
      ],
      "text/plain": [
       "[1] 2217.278"
      ]
     },
     "metadata": {},
     "output_type": "display_data"
    }
   ],
   "source": [
    "Reg11=lm(data=hour11_train, consumption~Lag_48+Lag_168)\n",
    "summary(Reg11)\n",
    "predictions11=predict(Reg11,newdata = hour11_test)\n",
    "MAPE_11=sum(abs(predictions11-hour11_test$consumption))/length(hour11_test$consumption)\n",
    "MAPE_11"
   ]
  },
  {
   "cell_type": "code",
   "execution_count": 28,
   "metadata": {},
   "outputs": [
    {
     "data": {
      "text/plain": [
       "\n",
       "Call:\n",
       "lm(formula = consumption ~ Lag_48 + Lag_168, data = hour12_train)\n",
       "\n",
       "Residuals:\n",
       "     Min       1Q   Median       3Q      Max \n",
       "-15478.0  -1435.0     38.3   1514.4  14612.1 \n",
       "\n",
       "Coefficients:\n",
       "             Estimate Std. Error t value Pr(>|t|)    \n",
       "(Intercept) 3.662e+03  6.320e+02   5.794 8.11e-09 ***\n",
       "Lag_48      2.802e-01  1.664e-02  16.836  < 2e-16 ***\n",
       "Lag_168     6.131e-01  1.665e-02  36.829  < 2e-16 ***\n",
       "---\n",
       "Signif. codes:  0 '***' 0.001 '**' 0.01 '*' 0.05 '.' 0.1 ' ' 1\n",
       "\n",
       "Residual standard error: 2871 on 1756 degrees of freedom\n",
       "  (7 observations deleted due to missingness)\n",
       "Multiple R-squared:  0.5912,\tAdjusted R-squared:  0.5908 \n",
       "F-statistic:  1270 on 2 and 1756 DF,  p-value: < 2.2e-16\n"
      ]
     },
     "metadata": {},
     "output_type": "display_data"
    },
    {
     "data": {
      "text/html": [
       "2243.85660103723"
      ],
      "text/latex": [
       "2243.85660103723"
      ],
      "text/markdown": [
       "2243.85660103723"
      ],
      "text/plain": [
       "[1] 2243.857"
      ]
     },
     "metadata": {},
     "output_type": "display_data"
    }
   ],
   "source": [
    "Reg12=lm(data=hour12_train, consumption~Lag_48+Lag_168)\n",
    "summary(Reg12)\n",
    "predictions12=predict(Reg12,newdata = hour12_test)\n",
    "MAPE_12=sum(abs(predictions12-hour12_test$consumption))/length(hour12_test$consumption)\n",
    "MAPE_12"
   ]
  },
  {
   "cell_type": "code",
   "execution_count": 29,
   "metadata": {},
   "outputs": [
    {
     "data": {
      "text/plain": [
       "\n",
       "Call:\n",
       "lm(formula = consumption ~ Lag_48 + Lag_168, data = hour13_train)\n",
       "\n",
       "Residuals:\n",
       "     Min       1Q   Median       3Q      Max \n",
       "-15516.6  -1455.5    -52.5   1531.0  14805.7 \n",
       "\n",
       "Coefficients:\n",
       "             Estimate Std. Error t value Pr(>|t|)    \n",
       "(Intercept) 3.807e+03  6.426e+02   5.924 3.78e-09 ***\n",
       "Lag_48      3.035e-01  1.691e-02  17.946  < 2e-16 ***\n",
       "Lag_168     5.868e-01  1.692e-02  34.691  < 2e-16 ***\n",
       "---\n",
       "Signif. codes:  0 '***' 0.001 '**' 0.01 '*' 0.05 '.' 0.1 ' ' 1\n",
       "\n",
       "Residual standard error: 2942 on 1756 degrees of freedom\n",
       "  (7 observations deleted due to missingness)\n",
       "Multiple R-squared:  0.5828,\tAdjusted R-squared:  0.5824 \n",
       "F-statistic:  1227 on 2 and 1756 DF,  p-value: < 2.2e-16\n"
      ]
     },
     "metadata": {},
     "output_type": "display_data"
    },
    {
     "data": {
      "text/html": [
       "2333.40436523482"
      ],
      "text/latex": [
       "2333.40436523482"
      ],
      "text/markdown": [
       "2333.40436523482"
      ],
      "text/plain": [
       "[1] 2333.404"
      ]
     },
     "metadata": {},
     "output_type": "display_data"
    }
   ],
   "source": [
    "Reg13=lm(data=hour13_train, consumption~Lag_48+Lag_168)\n",
    "summary(Reg13)\n",
    "predictions13=predict(Reg13,newdata = hour13_test)\n",
    "MAPE_13=sum(abs(predictions13-hour13_test$consumption))/length(hour13_test$consumption)\n",
    "MAPE_13"
   ]
  },
  {
   "cell_type": "code",
   "execution_count": 30,
   "metadata": {},
   "outputs": [
    {
     "data": {
      "text/plain": [
       "\n",
       "Call:\n",
       "lm(formula = consumption ~ Lag_48 + Lag_168, data = hour14_train)\n",
       "\n",
       "Residuals:\n",
       "     Min       1Q   Median       3Q      Max \n",
       "-16080.5  -1558.9    -23.7   1657.2  15598.5 \n",
       "\n",
       "Coefficients:\n",
       "             Estimate Std. Error t value Pr(>|t|)    \n",
       "(Intercept) 4.067e+03  6.845e+02   5.941 3.41e-09 ***\n",
       "Lag_48      2.597e-01  1.665e-02  15.595  < 2e-16 ***\n",
       "Lag_168     6.256e-01  1.665e-02  37.565  < 2e-16 ***\n",
       "---\n",
       "Signif. codes:  0 '***' 0.001 '**' 0.01 '*' 0.05 '.' 0.1 ' ' 1\n",
       "\n",
       "Residual standard error: 3162 on 1756 degrees of freedom\n",
       "  (7 observations deleted due to missingness)\n",
       "Multiple R-squared:  0.5688,\tAdjusted R-squared:  0.5683 \n",
       "F-statistic:  1158 on 2 and 1756 DF,  p-value: < 2.2e-16\n"
      ]
     },
     "metadata": {},
     "output_type": "display_data"
    },
    {
     "data": {
      "text/html": [
       "2324.39357538006"
      ],
      "text/latex": [
       "2324.39357538006"
      ],
      "text/markdown": [
       "2324.39357538006"
      ],
      "text/plain": [
       "[1] 2324.394"
      ]
     },
     "metadata": {},
     "output_type": "display_data"
    }
   ],
   "source": [
    "Reg14=lm(data=hour14_train, consumption~Lag_48+Lag_168)\n",
    "summary(Reg14)\n",
    "predictions14=predict(Reg14,newdata = hour14_test)\n",
    "MAPE_14=sum(abs(predictions14-hour14_test$consumption))/length(hour14_test$consumption)\n",
    "MAPE_14"
   ]
  },
  {
   "cell_type": "code",
   "execution_count": 31,
   "metadata": {},
   "outputs": [
    {
     "data": {
      "text/plain": [
       "\n",
       "Call:\n",
       "lm(formula = consumption ~ Lag_48 + Lag_168, data = hour15_train)\n",
       "\n",
       "Residuals:\n",
       "     Min       1Q   Median       3Q      Max \n",
       "-15892.2  -1536.9     29.2   1579.0  15347.2 \n",
       "\n",
       "Coefficients:\n",
       "             Estimate Std. Error t value Pr(>|t|)    \n",
       "(Intercept) 3.951e+03  6.776e+02   5.831 6.56e-09 ***\n",
       "Lag_48      2.564e-01  1.654e-02  15.505  < 2e-16 ***\n",
       "Lag_168     6.319e-01  1.653e-02  38.225  < 2e-16 ***\n",
       "---\n",
       "Signif. codes:  0 '***' 0.001 '**' 0.01 '*' 0.05 '.' 0.1 ' ' 1\n",
       "\n",
       "Residual standard error: 3121 on 1756 degrees of freedom\n",
       "  (7 observations deleted due to missingness)\n",
       "Multiple R-squared:  0.5752,\tAdjusted R-squared:  0.5747 \n",
       "F-statistic:  1189 on 2 and 1756 DF,  p-value: < 2.2e-16\n"
      ]
     },
     "metadata": {},
     "output_type": "display_data"
    },
    {
     "data": {
      "text/html": [
       "2213.26962378446"
      ],
      "text/latex": [
       "2213.26962378446"
      ],
      "text/markdown": [
       "2213.26962378446"
      ],
      "text/plain": [
       "[1] 2213.27"
      ]
     },
     "metadata": {},
     "output_type": "display_data"
    }
   ],
   "source": [
    "Reg15=lm(data=hour15_train, consumption~Lag_48+Lag_168)\n",
    "summary(Reg15)\n",
    "predictions15=predict(Reg15,newdata = hour15_test)\n",
    "MAPE_15=sum(abs(predictions15-hour15_test$consumption))/length(hour15_test$consumption)\n",
    "MAPE_15"
   ]
  },
  {
   "cell_type": "code",
   "execution_count": 32,
   "metadata": {},
   "outputs": [
    {
     "data": {
      "text/plain": [
       "\n",
       "Call:\n",
       "lm(formula = consumption ~ Lag_48 + Lag_168, data = hour16_train)\n",
       "\n",
       "Residuals:\n",
       "     Min       1Q   Median       3Q      Max \n",
       "-15324.5  -1471.0     40.2   1513.4  15030.9 \n",
       "\n",
       "Coefficients:\n",
       "             Estimate Std. Error t value Pr(>|t|)    \n",
       "(Intercept) 3.816e+03  6.732e+02   5.668 1.69e-08 ***\n",
       "Lag_48      2.471e-01  1.632e-02  15.146  < 2e-16 ***\n",
       "Lag_168     6.456e-01  1.631e-02  39.581  < 2e-16 ***\n",
       "---\n",
       "Signif. codes:  0 '***' 0.001 '**' 0.01 '*' 0.05 '.' 0.1 ' ' 1\n",
       "\n",
       "Residual standard error: 3034 on 1756 degrees of freedom\n",
       "  (7 observations deleted due to missingness)\n",
       "Multiple R-squared:  0.5857,\tAdjusted R-squared:  0.5852 \n",
       "F-statistic:  1241 on 2 and 1756 DF,  p-value: < 2.2e-16\n"
      ]
     },
     "metadata": {},
     "output_type": "display_data"
    },
    {
     "data": {
      "text/html": [
       "1941.23387321527"
      ],
      "text/latex": [
       "1941.23387321527"
      ],
      "text/markdown": [
       "1941.23387321527"
      ],
      "text/plain": [
       "[1] 1941.234"
      ]
     },
     "metadata": {},
     "output_type": "display_data"
    }
   ],
   "source": [
    "Reg16=lm(data=hour16_train, consumption~Lag_48+Lag_168)\n",
    "summary(Reg16)\n",
    "predictions16=predict(Reg16,newdata = hour16_test)\n",
    "MAPE_16=sum(abs(predictions16-hour16_test$consumption))/length(hour16_test$consumption)\n",
    "MAPE_16"
   ]
  },
  {
   "cell_type": "code",
   "execution_count": 33,
   "metadata": {},
   "outputs": [
    {
     "data": {
      "text/plain": [
       "\n",
       "Call:\n",
       "lm(formula = consumption ~ Lag_48 + Lag_168, data = hour17_train)\n",
       "\n",
       "Residuals:\n",
       "     Min       1Q   Median       3Q      Max \n",
       "-14128.0  -1329.5     33.5   1374.4  13313.9 \n",
       "\n",
       "Coefficients:\n",
       "             Estimate Std. Error t value Pr(>|t|)    \n",
       "(Intercept) 3389.9375   638.1515   5.312 1.22e-07 ***\n",
       "Lag_48         0.2621     0.0161  16.277  < 2e-16 ***\n",
       "Lag_168        0.6431     0.0161  39.946  < 2e-16 ***\n",
       "---\n",
       "Signif. codes:  0 '***' 0.001 '**' 0.01 '*' 0.05 '.' 0.1 ' ' 1\n",
       "\n",
       "Residual standard error: 2757 on 1756 degrees of freedom\n",
       "  (7 observations deleted due to missingness)\n",
       "Multiple R-squared:  0.615,\tAdjusted R-squared:  0.6146 \n",
       "F-statistic:  1403 on 2 and 1756 DF,  p-value: < 2.2e-16\n"
      ]
     },
     "metadata": {},
     "output_type": "display_data"
    },
    {
     "data": {
      "text/html": [
       "1825.75742917035"
      ],
      "text/latex": [
       "1825.75742917035"
      ],
      "text/markdown": [
       "1825.75742917035"
      ],
      "text/plain": [
       "[1] 1825.757"
      ]
     },
     "metadata": {},
     "output_type": "display_data"
    }
   ],
   "source": [
    "Reg17=lm(data=hour17_train, consumption~Lag_48+Lag_168)\n",
    "summary(Reg17)\n",
    "predictions17=predict(Reg17,newdata = hour17_test)\n",
    "MAPE_17=sum(abs(predictions17-hour17_test$consumption))/length(hour17_test$consumption)\n",
    "MAPE_17"
   ]
  },
  {
   "cell_type": "code",
   "execution_count": 34,
   "metadata": {},
   "outputs": [
    {
     "data": {
      "text/plain": [
       "\n",
       "Call:\n",
       "lm(formula = consumption ~ Lag_48 + Lag_168, data = hour18_train)\n",
       "\n",
       "Residuals:\n",
       "     Min       1Q   Median       3Q      Max \n",
       "-12689.8  -1110.8     63.6   1207.6  10531.0 \n",
       "\n",
       "Coefficients:\n",
       "             Estimate Std. Error t value Pr(>|t|)    \n",
       "(Intercept) 3.018e+03  5.841e+02   5.167 2.64e-07 ***\n",
       "Lag_48      3.337e-01  1.645e-02  20.282  < 2e-16 ***\n",
       "Lag_168     5.820e-01  1.645e-02  35.384  < 2e-16 ***\n",
       "---\n",
       "Signif. codes:  0 '***' 0.001 '**' 0.01 '*' 0.05 '.' 0.1 ' ' 1\n",
       "\n",
       "Residual standard error: 2311 on 1756 degrees of freedom\n",
       "  (7 observations deleted due to missingness)\n",
       "Multiple R-squared:  0.649,\tAdjusted R-squared:  0.6486 \n",
       "F-statistic:  1623 on 2 and 1756 DF,  p-value: < 2.2e-16\n"
      ]
     },
     "metadata": {},
     "output_type": "display_data"
    },
    {
     "data": {
      "text/html": [
       "1490.87629782916"
      ],
      "text/latex": [
       "1490.87629782916"
      ],
      "text/markdown": [
       "1490.87629782916"
      ],
      "text/plain": [
       "[1] 1490.876"
      ]
     },
     "metadata": {},
     "output_type": "display_data"
    }
   ],
   "source": [
    "Reg18=lm(data=hour18_train, consumption~Lag_48+Lag_168)\n",
    "summary(Reg18)\n",
    "predictions18=predict(Reg18,newdata = hour18_test)\n",
    "MAPE_18=sum(abs(predictions18-hour18_test$consumption))/length(hour18_test$consumption)\n",
    "MAPE_18"
   ]
  },
  {
   "cell_type": "code",
   "execution_count": 35,
   "metadata": {},
   "outputs": [
    {
     "data": {
      "text/plain": [
       "\n",
       "Call:\n",
       "lm(formula = consumption ~ Lag_48 + Lag_168, data = hour19_train)\n",
       "\n",
       "Residuals:\n",
       "     Min       1Q   Median       3Q      Max \n",
       "-11664.7  -1016.6     54.8   1078.1   9176.4 \n",
       "\n",
       "Coefficients:\n",
       "             Estimate Std. Error t value Pr(>|t|)    \n",
       "(Intercept) 3.163e+03  5.811e+02   5.443 5.98e-08 ***\n",
       "Lag_48      3.869e-01  1.689e-02  22.908  < 2e-16 ***\n",
       "Lag_168     5.251e-01  1.687e-02  31.121  < 2e-16 ***\n",
       "---\n",
       "Signif. codes:  0 '***' 0.001 '**' 0.01 '*' 0.05 '.' 0.1 ' ' 1\n",
       "\n",
       "Residual standard error: 2058 on 1756 degrees of freedom\n",
       "  (7 observations deleted due to missingness)\n",
       "Multiple R-squared:  0.6467,\tAdjusted R-squared:  0.6463 \n",
       "F-statistic:  1607 on 2 and 1756 DF,  p-value: < 2.2e-16\n"
      ]
     },
     "metadata": {},
     "output_type": "display_data"
    },
    {
     "data": {
      "text/html": [
       "1330.27652902968"
      ],
      "text/latex": [
       "1330.27652902968"
      ],
      "text/markdown": [
       "1330.27652902968"
      ],
      "text/plain": [
       "[1] 1330.277"
      ]
     },
     "metadata": {},
     "output_type": "display_data"
    }
   ],
   "source": [
    "Reg19=lm(data=hour19_train, consumption~Lag_48+Lag_168)\n",
    "summary(Reg19)\n",
    "predictions19=predict(Reg19,newdata = hour19_test)\n",
    "MAPE_19=sum(abs(predictions19-hour19_test$consumption))/length(hour18_test$consumption)\n",
    "MAPE_19"
   ]
  },
  {
   "cell_type": "code",
   "execution_count": 36,
   "metadata": {
    "scrolled": false
   },
   "outputs": [
    {
     "data": {
      "text/plain": [
       "\n",
       "Call:\n",
       "lm(formula = consumption ~ Lag_48 + Lag_168, data = hour20_train)\n",
       "\n",
       "Residuals:\n",
       "     Min       1Q   Median       3Q      Max \n",
       "-10401.3   -990.0     37.1   1045.6   8411.0 \n",
       "\n",
       "Coefficients:\n",
       "             Estimate Std. Error t value Pr(>|t|)    \n",
       "(Intercept) 2.782e+03  5.392e+02    5.16 2.75e-07 ***\n",
       "Lag_48      4.080e-01  1.676e-02   24.34  < 2e-16 ***\n",
       "Lag_168     5.144e-01  1.674e-02   30.73  < 2e-16 ***\n",
       "---\n",
       "Signif. codes:  0 '***' 0.001 '**' 0.01 '*' 0.05 '.' 0.1 ' ' 1\n",
       "\n",
       "Residual standard error: 1915 on 1756 degrees of freedom\n",
       "  (7 observations deleted due to missingness)\n",
       "Multiple R-squared:  0.6835,\tAdjusted R-squared:  0.6831 \n",
       "F-statistic:  1896 on 2 and 1756 DF,  p-value: < 2.2e-16\n"
      ]
     },
     "metadata": {},
     "output_type": "display_data"
    },
    {
     "data": {
      "text/html": [
       "1189.28688153909"
      ],
      "text/latex": [
       "1189.28688153909"
      ],
      "text/markdown": [
       "1189.28688153909"
      ],
      "text/plain": [
       "[1] 1189.287"
      ]
     },
     "metadata": {},
     "output_type": "display_data"
    }
   ],
   "source": [
    "Reg20=lm(data=hour20_train, consumption~Lag_48+Lag_168)\n",
    "summary(Reg20)\n",
    "predictions20=predict(Reg20,newdata = hour20_test)\n",
    "MAPE_20=sum(abs(predictions20-hour20_test$consumption))/length(hour20_test$consumption)\n",
    "MAPE_20"
   ]
  },
  {
   "cell_type": "code",
   "execution_count": 37,
   "metadata": {
    "scrolled": false
   },
   "outputs": [
    {
     "data": {
      "text/plain": [
       "\n",
       "Call:\n",
       "lm(formula = consumption ~ Lag_48 + Lag_168, data = hour21_train)\n",
       "\n",
       "Residuals:\n",
       "     Min       1Q   Median       3Q      Max \n",
       "-10005.4   -938.9      0.0    994.8   8527.6 \n",
       "\n",
       "Coefficients:\n",
       "             Estimate Std. Error t value Pr(>|t|)    \n",
       "(Intercept) 2.658e+03  5.168e+02   5.143    3e-07 ***\n",
       "Lag_48      4.291e-01  1.682e-02  25.516   <2e-16 ***\n",
       "Lag_168     4.954e-01  1.680e-02  29.497   <2e-16 ***\n",
       "---\n",
       "Signif. codes:  0 '***' 0.001 '**' 0.01 '*' 0.05 '.' 0.1 ' ' 1\n",
       "\n",
       "Residual standard error: 1851 on 1756 degrees of freedom\n",
       "  (7 observations deleted due to missingness)\n",
       "Multiple R-squared:  0.6945,\tAdjusted R-squared:  0.6941 \n",
       "F-statistic:  1996 on 2 and 1756 DF,  p-value: < 2.2e-16\n"
      ]
     },
     "metadata": {},
     "output_type": "display_data"
    },
    {
     "data": {
      "text/html": [
       "1156.20658042325"
      ],
      "text/latex": [
       "1156.20658042325"
      ],
      "text/markdown": [
       "1156.20658042325"
      ],
      "text/plain": [
       "[1] 1156.207"
      ]
     },
     "metadata": {},
     "output_type": "display_data"
    }
   ],
   "source": [
    "Reg21=lm(data=hour21_train, consumption~Lag_48+Lag_168)\n",
    "summary(Reg21)\n",
    "predictions21=predict(Reg21,newdata = hour21_test)\n",
    "MAPE_21=sum(abs(predictions21-hour21_test$consumption))/length(hour21_test$consumption)\n",
    "MAPE_21"
   ]
  },
  {
   "cell_type": "code",
   "execution_count": 38,
   "metadata": {
    "scrolled": false
   },
   "outputs": [
    {
     "data": {
      "text/plain": [
       "\n",
       "Call:\n",
       "lm(formula = consumption ~ Lag_48 + Lag_168, data = hour22_train)\n",
       "\n",
       "Residuals:\n",
       "     Min       1Q   Median       3Q      Max \n",
       "-10245.4   -911.0     30.9    994.1   8143.5 \n",
       "\n",
       "Coefficients:\n",
       "             Estimate Std. Error t value Pr(>|t|)    \n",
       "(Intercept) 2.826e+03  5.251e+02   5.381 8.41e-08 ***\n",
       "Lag_48      4.427e-01  1.702e-02  26.007  < 2e-16 ***\n",
       "Lag_168     4.754e-01  1.701e-02  27.950  < 2e-16 ***\n",
       "---\n",
       "Signif. codes:  0 '***' 0.001 '**' 0.01 '*' 0.05 '.' 0.1 ' ' 1\n",
       "\n",
       "Residual standard error: 1828 on 1756 degrees of freedom\n",
       "  (7 observations deleted due to missingness)\n",
       "Multiple R-squared:  0.6759,\tAdjusted R-squared:  0.6755 \n",
       "F-statistic:  1831 on 2 and 1756 DF,  p-value: < 2.2e-16\n"
      ]
     },
     "metadata": {},
     "output_type": "display_data"
    },
    {
     "data": {
      "text/html": [
       "1124.03967361271"
      ],
      "text/latex": [
       "1124.03967361271"
      ],
      "text/markdown": [
       "1124.03967361271"
      ],
      "text/plain": [
       "[1] 1124.04"
      ]
     },
     "metadata": {},
     "output_type": "display_data"
    }
   ],
   "source": [
    "Reg22=lm(data=hour22_train, consumption~Lag_48+Lag_168)\n",
    "summary(Reg22)\n",
    "predictions22=predict(Reg22,newdata = hour22_test)\n",
    "MAPE_22=sum(abs(predictions22-hour22_test$consumption))/length(hour22_test$consumption)\n",
    "MAPE_22"
   ]
  },
  {
   "cell_type": "code",
   "execution_count": 39,
   "metadata": {
    "scrolled": false
   },
   "outputs": [
    {
     "data": {
      "text/plain": [
       "\n",
       "Call:\n",
       "lm(formula = consumption ~ Lag_48 + Lag_168, data = hour23_train)\n",
       "\n",
       "Residuals:\n",
       "    Min      1Q  Median      3Q     Max \n",
       "-9571.0  -852.5    54.6   918.8  7916.6 \n",
       "\n",
       "Coefficients:\n",
       "             Estimate Std. Error t value Pr(>|t|)    \n",
       "(Intercept) 2.541e+03  4.860e+02   5.229  1.9e-07 ***\n",
       "Lag_48      4.511e-01  1.694e-02  26.621  < 2e-16 ***\n",
       "Lag_168     4.720e-01  1.693e-02  27.882  < 2e-16 ***\n",
       "---\n",
       "Signif. codes:  0 '***' 0.001 '**' 0.01 '*' 0.05 '.' 0.1 ' ' 1\n",
       "\n",
       "Residual standard error: 1738 on 1756 degrees of freedom\n",
       "  (7 observations deleted due to missingness)\n",
       "Multiple R-squared:  0.6932,\tAdjusted R-squared:  0.6929 \n",
       "F-statistic:  1984 on 2 and 1756 DF,  p-value: < 2.2e-16\n"
      ]
     },
     "metadata": {},
     "output_type": "display_data"
    },
    {
     "data": {
      "text/html": [
       "1152.93453767325"
      ],
      "text/latex": [
       "1152.93453767325"
      ],
      "text/markdown": [
       "1152.93453767325"
      ],
      "text/plain": [
       "[1] 1152.935"
      ]
     },
     "metadata": {},
     "output_type": "display_data"
    }
   ],
   "source": [
    "Reg23=lm(data=hour23_train, consumption~Lag_48+Lag_168)\n",
    "summary(Reg23)\n",
    "predictions23=predict(Reg23,newdata = hour23_test)\n",
    "MAPE_23=sum(abs(predictions23-hour23_test$consumption))/length(hour23_test$consumption)\n",
    "MAPE_23"
   ]
  },
  {
   "cell_type": "code",
   "execution_count": 40,
   "metadata": {},
   "outputs": [
    {
     "name": "stdout",
     "output_type": "stream",
     "text": [
      "[1] \"MAPE values for hourly results: 35918.9245312326\"\n",
      "[1] \"MAPE values for Regression model results: 1463.39190922374\"\n",
      "[1] \"MAPE values for Lag_168 results: 1204.03524193548\"\n",
      "[1] \"MAPE values for Lag_48 results: 2675.98290322581\"\n"
     ]
    }
   ],
   "source": [
    "MAPE_hourly=MAPE_0+MAPE_1+MAPE_2+MAPE_3+MAPE_4+MAPE_5+MAPE_6+MAPE_7+MAPE_8+MAPE_9+\n",
    "            MAPE_10+MAPE_11+MAPE_12+MAPE_13+MAPE_14+MAPE_15+MAPE_16+MAPE_17+MAPE_18+MAPE_19+\n",
    "            MAPE_20+MAPE_21+MAPE_22+MAPE_23\n",
    "print(paste(\"MAPE values for hourly results:\",MAPE_hourly))\n",
    "print(paste(\"MAPE values for Regression model results:\",MAPE_reg))\n",
    "print(paste(\"MAPE values for Lag_168 results:\",MAPE_168))\n",
    "print(paste(\"MAPE values for Lag_48 results:\",MAPE_48))"
   ]
  },
  {
   "cell_type": "markdown",
   "metadata": {},
   "source": [
    "# PART D"
   ]
  },
  {
   "cell_type": "code",
   "execution_count": 43,
   "metadata": {},
   "outputs": [],
   "source": [
    "cont=copy(dt)"
   ]
  },
  {
   "cell_type": "code",
   "execution_count": 94,
   "metadata": {
    "scrolled": true
   },
   "outputs": [
    {
     "name": "stderr",
     "output_type": "stream",
     "text": [
      "Warning message:\n",
      "\"package 'tidyr' was built under R version 3.6.3\""
     ]
    }
   ],
   "source": [
    "library(tidyr)"
   ]
  },
  {
   "cell_type": "markdown",
   "metadata": {},
   "source": [
    "## Lag Creator Function"
   ]
  },
  {
   "cell_type": "code",
   "execution_count": 44,
   "metadata": {},
   "outputs": [],
   "source": [
    "lag_creator<-function(DT, names){   \n",
    "    hours=c(0:23)\n",
    "    for (which_hour in hours){\n",
    "        new_col<-paste0(names,which_hour)\n",
    "        which_hour=which_hour+1\n",
    "        DT[,(new_col):=shift(DT[,2],type=\"lag\",n=which_hour)]                \n",
    "  \n",
    "        }  \n",
    "    return(DT[])\n",
    "}"
   ]
  },
  {
   "cell_type": "markdown",
   "metadata": {},
   "source": [
    "## Feature Matrix Creator"
   ]
  },
  {
   "cell_type": "code",
   "execution_count": 91,
   "metadata": {},
   "outputs": [],
   "source": [
    "feature_mat<-function(DT,names){\n",
    "    feat_mat=data.table(date=seq.POSIXt(from = as.POSIXct(\"2016-01-01\"),to = as.POSIXct(\"2020-12-01\"),by=\"day\"))\n",
    "    hours=c(0:23)    \n",
    "    for (which_hour in hours){\n",
    "    new_col<-paste0(names,which_hour)\n",
    "    feat_mat[,(new_col):=0]                \n",
    "    } \n",
    "    for(whic_date in seq.POSIXt(from = as.POSIXct(\"2016-01-01\"),to = as.POSIXct(\"2020-12-01\"),by=\"day\")){\n",
    "        current_DT=filter(DT,date==as.POSIXct(whic_date, origin = \"1970-01-01\"))\n",
    "        print(current_DT)\n",
    "        for(which_hour in hours){\n",
    "            feat_mat[date==as.POSIXct(whic_date, origin = \"1970-01-01\"), \n",
    "                     feat_mat[,which_hour+1]:=current_DT[hour==which_hour,consumption]] \n",
    "        }   \n",
    "    }\n",
    "    return(feat_mat[])\n",
    "}"
   ]
  },
  {
   "cell_type": "markdown",
   "metadata": {},
   "source": [
    "## Column Name Creator"
   ]
  },
  {
   "cell_type": "code",
   "execution_count": 133,
   "metadata": {},
   "outputs": [],
   "source": [
    "col_name<-function(DT, names){   \n",
    "    hours=c(0:23)\n",
    "    for (which_hour in hours){\n",
    "        new_col<-paste0(names,which_hour)\n",
    "        setnames(DT,old=as.character(which_hour),new=as.character(new_col))              \n",
    "        }  \n",
    "}"
   ]
  },
  {
   "cell_type": "code",
   "execution_count": 134,
   "metadata": {},
   "outputs": [
    {
     "data": {
      "text/html": [
       "<table>\n",
       "<thead><tr><th scope=col>date</th><th scope=col>Lag_day2_hour_0</th><th scope=col>Lag_day2_hour_1</th><th scope=col>Lag_day2_hour_2</th><th scope=col>Lag_day2_hour_3</th><th scope=col>Lag_day2_hour_4</th><th scope=col>Lag_day2_hour_5</th><th scope=col>Lag_day2_hour_6</th><th scope=col>Lag_day2_hour_7</th><th scope=col>Lag_day2_hour_8</th><th scope=col>...</th><th scope=col>Lag_day2_hour_14</th><th scope=col>Lag_day2_hour_15</th><th scope=col>Lag_day2_hour_16</th><th scope=col>Lag_day2_hour_17</th><th scope=col>Lag_day2_hour_18</th><th scope=col>Lag_day2_hour_19</th><th scope=col>Lag_day2_hour_20</th><th scope=col>Lag_day2_hour_21</th><th scope=col>Lag_day2_hour_22</th><th scope=col>Lag_day2_hour_23</th></tr></thead>\n",
       "<tbody>\n",
       "\t<tr><td>2016-01-03</td><td>26277.24  </td><td>24991.82  </td><td>23532.61  </td><td>22464.78  </td><td>22002.91  </td><td>21957.08  </td><td>22203.54  </td><td>21844.16  </td><td>23094.73  </td><td>...       </td><td>29548.32  </td><td>29390.89  </td><td>30734.97  </td><td>32048.02  </td><td>31438.11  </td><td>30728.47  </td><td>30166.14  </td><td>29461.28  </td><td>29242.83  </td><td>28069.09  </td></tr>\n",
       "\t<tr><td>2016-01-04</td><td>26224.60  </td><td>24708.58  </td><td>23771.58  </td><td>22921.29  </td><td>22870.89  </td><td>23325.63  </td><td>23604.98  </td><td>24022.70  </td><td>26930.48  </td><td>...       </td><td>32796.18  </td><td>32594.55  </td><td>33358.47  </td><td>34387.95  </td><td>33591.26  </td><td>32648.83  </td><td>31897.73  </td><td>31049.20  </td><td>30906.43  </td><td>29621.09  </td></tr>\n",
       "\t<tr><td>2016-01-05</td><td>27613.96  </td><td>25779.28  </td><td>24566.31  </td><td>23878.42  </td><td>23511.38  </td><td>23672.32  </td><td>23827.08  </td><td>23405.11  </td><td>24638.72  </td><td>...       </td><td>31056.47  </td><td>30979.53  </td><td>32297.46  </td><td>33462.96  </td><td>33151.03  </td><td>32450.21  </td><td>32093.93  </td><td>31315.16  </td><td>31014.19  </td><td>29462.06  </td></tr>\n",
       "\t<tr><td>2016-01-06</td><td>27103.09  </td><td>25439.84  </td><td>24395.07  </td><td>23961.03  </td><td>23860.63  </td><td>24418.47  </td><td>25708.59  </td><td>27455.39  </td><td>32982.07  </td><td>...       </td><td>39661.98  </td><td>39211.00  </td><td>39760.12  </td><td>39633.29  </td><td>37621.41  </td><td>35954.18  </td><td>35114.12  </td><td>34066.40  </td><td>33686.83  </td><td>31733.54  </td></tr>\n",
       "\t<tr><td>2016-01-07</td><td>29244.38  </td><td>27637.23  </td><td>26335.78  </td><td>25870.23  </td><td>25975.07  </td><td>26318.48  </td><td>27109.29  </td><td>28570.22  </td><td>33106.00  </td><td>...       </td><td>38086.11  </td><td>37834.89  </td><td>38599.34  </td><td>38669.63  </td><td>36954.78  </td><td>35306.11  </td><td>34301.59  </td><td>33400.82  </td><td>33359.37  </td><td>31629.97  </td></tr>\n",
       "\t<tr><td>2016-01-08</td><td>29189.27  </td><td>27614.02  </td><td>26578.97  </td><td>25719.19  </td><td>25864.63  </td><td>25918.59  </td><td>27091.94  </td><td>28533.05  </td><td>33203.34  </td><td>...       </td><td>36847.22  </td><td>36433.88  </td><td>37581.09  </td><td>37304.52  </td><td>35832.00  </td><td>34499.94  </td><td>33670.00  </td><td>32931.12  </td><td>32913.06  </td><td>31450.65  </td></tr>\n",
       "\t<tr><td>2016-01-09</td><td>28763.95  </td><td>27284.84  </td><td>26321.95  </td><td>25748.49  </td><td>25636.58  </td><td>25932.52  </td><td>26963.74  </td><td>28444.83  </td><td>32804.27  </td><td>...       </td><td>37376.83  </td><td>37100.43  </td><td>37668.65  </td><td>37906.99  </td><td>35841.62  </td><td>34621.65  </td><td>33784.72  </td><td>32638.14  </td><td>32739.98  </td><td>31092.87  </td></tr>\n",
       "\t<tr><td>2016-01-10</td><td>28602.02  </td><td>27112.37  </td><td>25975.34  </td><td>25315.55  </td><td>25128.15  </td><td>25356.22  </td><td>26338.72  </td><td>28086.42  </td><td>32702.24  </td><td>...       </td><td>36555.58  </td><td>36190.41  </td><td>37031.72  </td><td>37773.70  </td><td>35930.69  </td><td>34710.46  </td><td>33907.65  </td><td>33048.69  </td><td>33220.16  </td><td>32021.60  </td></tr>\n",
       "\t<tr><td>2016-01-11</td><td>29906.93  </td><td>28061.98  </td><td>26808.78  </td><td>25798.80  </td><td>25820.46  </td><td>26035.77  </td><td>26451.24  </td><td>26853.42  </td><td>30627.32  </td><td>...       </td><td>33524.80  </td><td>32951.39  </td><td>33655.89  </td><td>35045.14  </td><td>34407.27  </td><td>33494.32  </td><td>32624.31  </td><td>32097.79  </td><td>32176.63  </td><td>30760.17  </td></tr>\n",
       "\t<tr><td>2016-01-12</td><td>28890.37  </td><td>27133.75  </td><td>25656.13  </td><td>24937.87  </td><td>24538.16  </td><td>24616.05  </td><td>24478.14  </td><td>23813.35  </td><td>24676.92  </td><td>...       </td><td>29089.83  </td><td>29447.75  </td><td>30569.07  </td><td>32006.15  </td><td>31706.26  </td><td>31305.87  </td><td>30870.26  </td><td>30462.79  </td><td>30537.75  </td><td>28857.66  </td></tr>\n",
       "\t<tr><td>2016-01-13</td><td>27130.75  </td><td>25403.40  </td><td>24452.96  </td><td>23959.85  </td><td>23839.28  </td><td>24358.46  </td><td>25800.81  </td><td>27336.03  </td><td>32683.24  </td><td>...       </td><td>36383.06  </td><td>36013.19  </td><td>36848.54  </td><td>37368.40  </td><td>35697.30  </td><td>34482.37  </td><td>33526.95  </td><td>32634.16  </td><td>32791.35  </td><td>31147.83  </td></tr>\n",
       "\t<tr><td>2016-01-14</td><td>29161.64  </td><td>27519.24  </td><td>26256.43  </td><td>25766.11  </td><td>25808.92  </td><td>26222.03  </td><td>27290.07  </td><td>28628.67  </td><td>32817.04  </td><td>...       </td><td>34934.00  </td><td>34785.11  </td><td>35690.28  </td><td>36566.50  </td><td>35055.97  </td><td>33912.94  </td><td>33131.98  </td><td>32332.76  </td><td>32523.14  </td><td>30906.87  </td></tr>\n",
       "\t<tr><td>2016-01-15</td><td>28823.02  </td><td>27321.69  </td><td>26265.24  </td><td>25879.07  </td><td>25685.09  </td><td>26018.14  </td><td>27012.72  </td><td>28420.19  </td><td>32572.38  </td><td>...       </td><td>36201.35  </td><td>36012.25  </td><td>36785.82  </td><td>37173.82  </td><td>35574.06  </td><td>34298.68  </td><td>33580.53  </td><td>32554.09  </td><td>32836.52  </td><td>31307.88  </td></tr>\n",
       "\t<tr><td>2016-01-16</td><td>29225.99  </td><td>27650.42  </td><td>26656.23  </td><td>26235.10  </td><td>26136.04  </td><td>26689.30  </td><td>27652.89  </td><td>29176.95  </td><td>33352.18  </td><td>...       </td><td>36279.45  </td><td>35936.67  </td><td>36827.63  </td><td>37481.89  </td><td>36195.39  </td><td>34914.82  </td><td>34091.81  </td><td>33323.90  </td><td>33345.01  </td><td>31938.60  </td></tr>\n",
       "\t<tr><td>2016-01-17</td><td>29667.03  </td><td>27961.70  </td><td>26760.14  </td><td>26351.43  </td><td>26190.00  </td><td>26646.35  </td><td>27845.52  </td><td>29266.49  </td><td>33637.71  </td><td>...       </td><td>35717.39  </td><td>35343.51  </td><td>36473.19  </td><td>37425.77  </td><td>36019.98  </td><td>34574.97  </td><td>33756.40  </td><td>33140.33  </td><td>33272.46  </td><td>31803.26  </td></tr>\n",
       "\t<tr><td>2016-01-18</td><td>29790.90  </td><td>28108.68  </td><td>26867.16  </td><td>26241.31  </td><td>25928.60  </td><td>26137.31  </td><td>26617.72  </td><td>27115.23  </td><td>30856.87  </td><td>...       </td><td>33592.64  </td><td>33087.78  </td><td>33693.47  </td><td>34599.67  </td><td>33773.40  </td><td>32770.63  </td><td>32167.64  </td><td>31414.53  </td><td>31666.20  </td><td>30292.67  </td></tr>\n",
       "\t<tr><td>2016-01-19</td><td>28125.56  </td><td>26344.08  </td><td>25233.20  </td><td>24526.40  </td><td>24131.34  </td><td>24277.13  </td><td>24149.15  </td><td>23448.70  </td><td>24484.28  </td><td>...       </td><td>29060.19  </td><td>28859.44  </td><td>29986.06  </td><td>31083.39  </td><td>31046.20  </td><td>30619.87  </td><td>30216.41  </td><td>29589.83  </td><td>29593.28  </td><td>28448.52  </td></tr>\n",
       "\t<tr><td>2016-01-20</td><td>26425.24  </td><td>25112.59  </td><td>24197.23  </td><td>23839.79  </td><td>23756.17  </td><td>24217.87  </td><td>25384.09  </td><td>27192.81  </td><td>32775.65  </td><td>...       </td><td>38264.20  </td><td>37831.23  </td><td>38590.57  </td><td>38930.54  </td><td>37080.02  </td><td>35590.81  </td><td>34669.59  </td><td>33765.00  </td><td>33590.16  </td><td>32035.19  </td></tr>\n",
       "\t<tr><td>2016-01-21</td><td>29648.05  </td><td>28023.28  </td><td>26957.35  </td><td>26389.70  </td><td>26152.72  </td><td>26578.69  </td><td>27561.29  </td><td>29127.56  </td><td>34277.14  </td><td>...       </td><td>38431.48  </td><td>37914.67  </td><td>38254.38  </td><td>39006.28  </td><td>37419.61  </td><td>35893.88  </td><td>35024.97  </td><td>34132.03  </td><td>34201.22  </td><td>32449.57  </td></tr>\n",
       "\t<tr><td>2016-01-22</td><td>30139.50  </td><td>28410.88  </td><td>27406.34  </td><td>26722.59  </td><td>26551.26  </td><td>27065.87  </td><td>28039.32  </td><td>29469.19  </td><td>34531.37  </td><td>...       </td><td>39016.83  </td><td>38583.86  </td><td>39061.14  </td><td>39678.86  </td><td>37842.79  </td><td>36242.08  </td><td>35265.50  </td><td>34442.99  </td><td>34423.91  </td><td>32661.51  </td></tr>\n",
       "\t<tr><td>2016-01-23</td><td>30396.19  </td><td>28597.47  </td><td>27458.63  </td><td>26728.84  </td><td>26819.66  </td><td>27295.21  </td><td>28233.77  </td><td>29534.69  </td><td>34553.08  </td><td>...       </td><td>38991.04  </td><td>38424.45  </td><td>38816.10  </td><td>39201.65  </td><td>37540.47  </td><td>36208.77  </td><td>35321.99  </td><td>34453.40  </td><td>34506.70  </td><td>32959.37  </td></tr>\n",
       "\t<tr><td>2016-01-24</td><td>30389.96  </td><td>28517.31  </td><td>27397.27  </td><td>26696.24  </td><td>26636.34  </td><td>27118.79  </td><td>28127.63  </td><td>29345.05  </td><td>34622.14  </td><td>...       </td><td>38467.93  </td><td>38201.49  </td><td>38866.07  </td><td>39255.53  </td><td>37130.41  </td><td>35315.89  </td><td>34779.35  </td><td>33927.07  </td><td>34209.59  </td><td>32617.78  </td></tr>\n",
       "\t<tr><td>2016-01-25</td><td>30215.90  </td><td>28509.74  </td><td>27311.13  </td><td>26492.04  </td><td>26476.82  </td><td>26720.30  </td><td>27058.22  </td><td>27679.17  </td><td>31739.43  </td><td>...       </td><td>36555.00  </td><td>35898.79  </td><td>35913.32  </td><td>36651.18  </td><td>35931.07  </td><td>34781.15  </td><td>33951.80  </td><td>33131.48  </td><td>33030.06  </td><td>31630.82  </td></tr>\n",
       "\t<tr><td>2016-01-26</td><td>29349.49  </td><td>27479.98  </td><td>26088.26  </td><td>25306.03  </td><td>24973.17  </td><td>25001.94  </td><td>24899.46  </td><td>24158.93  </td><td>25160.11  </td><td>...       </td><td>31103.80  </td><td>30750.50  </td><td>31481.16  </td><td>32712.77  </td><td>32774.93  </td><td>32341.26  </td><td>31820.10  </td><td>31160.32  </td><td>31284.85  </td><td>30005.39  </td></tr>\n",
       "\t<tr><td>2016-01-27</td><td>28167.47  </td><td>26516.66  </td><td>25339.39  </td><td>24773.74  </td><td>24711.58  </td><td>25145.67  </td><td>26151.07  </td><td>27508.65  </td><td>33542.39  </td><td>...       </td><td>40025.60  </td><td>39686.93  </td><td>39815.53  </td><td>40446.48  </td><td>38716.68  </td><td>36907.14  </td><td>35987.80  </td><td>34823.23  </td><td>34860.72  </td><td>33253.80  </td></tr>\n",
       "\t<tr><td>2016-01-28</td><td>30881.56  </td><td>28955.47  </td><td>27835.79  </td><td>27148.96  </td><td>27041.24  </td><td>27397.01  </td><td>28184.65  </td><td>29740.52  </td><td>34727.66  </td><td>...       </td><td>40809.82  </td><td>40425.55  </td><td>40706.38  </td><td>40871.83  </td><td>38346.97  </td><td>37053.91  </td><td>36025.46  </td><td>34954.00  </td><td>35129.39  </td><td>33279.95  </td></tr>\n",
       "\t<tr><td>2016-01-29</td><td>30851.33  </td><td>29091.24  </td><td>27798.40  </td><td>27168.26  </td><td>27068.64  </td><td>27445.32  </td><td>28126.89  </td><td>29262.17  </td><td>34507.12  </td><td>...       </td><td>39313.51  </td><td>38772.92  </td><td>39181.11  </td><td>39959.57  </td><td>38519.91  </td><td>36987.53  </td><td>36007.95  </td><td>34975.54  </td><td>34932.33  </td><td>33455.88  </td></tr>\n",
       "\t<tr><td>2016-01-30</td><td>31143.68  </td><td>29167.57  </td><td>28046.68  </td><td>27405.39  </td><td>27173.93  </td><td>27536.99  </td><td>28220.87  </td><td>29395.45  </td><td>34668.60  </td><td>...       </td><td>39536.37  </td><td>38936.48  </td><td>39101.10  </td><td>39566.36  </td><td>38081.88  </td><td>36504.46  </td><td>35585.73  </td><td>34747.11  </td><td>34799.91  </td><td>33343.43  </td></tr>\n",
       "\t<tr><td>2016-01-31</td><td>30705.61  </td><td>29000.54  </td><td>27852.55  </td><td>27163.15  </td><td>26971.99  </td><td>27348.29  </td><td>28077.26  </td><td>29062.07  </td><td>34246.13  </td><td>...       </td><td>37475.87  </td><td>36826.00  </td><td>37285.78  </td><td>38110.44  </td><td>36981.81  </td><td>35496.45  </td><td>34642.81  </td><td>33771.10  </td><td>33922.59  </td><td>32485.51  </td></tr>\n",
       "\t<tr><td>2016-02-01</td><td>30323.74  </td><td>28528.18  </td><td>27243.18  </td><td>26511.13  </td><td>26199.54  </td><td>26561.03  </td><td>26644.35  </td><td>27009.01  </td><td>30831.90  </td><td>...       </td><td>34697.06  </td><td>34002.74  </td><td>33457.63  </td><td>34897.48  </td><td>34596.05  </td><td>33538.44  </td><td>32664.18  </td><td>31927.94  </td><td>32124.59  </td><td>30873.86  </td></tr>\n",
       "\t<tr><td>...</td><td>...</td><td>...</td><td>...</td><td>...</td><td>...</td><td>...</td><td>...</td><td>...</td><td>...</td><td>   </td><td>...</td><td>...</td><td>...</td><td>...</td><td>...</td><td>...</td><td>...</td><td>...</td><td>...</td><td>...</td></tr>\n",
       "\t<tr><td>2020-11-04</td><td>27931.36  </td><td>26891.54  </td><td>25998.67  </td><td>25374.78  </td><td>25145.69  </td><td>25529.95  </td><td>26497.51  </td><td>27939.62  </td><td>32244.73  </td><td>...       </td><td>35239.46  </td><td>35526.07  </td><td>36552.09  </td><td>37959.05  </td><td>38720.50  </td><td>37718.10  </td><td>36872.26  </td><td>35834.28  </td><td>34616.98  </td><td>33151.95  </td></tr>\n",
       "\t<tr><td>2020-11-05</td><td>31301.07  </td><td>29875.22  </td><td>28908.73  </td><td>28211.00  </td><td>28054.92  </td><td>28199.32  </td><td>29044.15  </td><td>29957.26  </td><td>33415.53  </td><td>...       </td><td>36868.67  </td><td>36997.12  </td><td>38021.90  </td><td>39038.66  </td><td>39314.53  </td><td>38256.09  </td><td>37282.36  </td><td>36150.19  </td><td>34793.99  </td><td>33281.76  </td></tr>\n",
       "\t<tr><td>2020-11-06</td><td>31278.36  </td><td>29818.62  </td><td>28784.91  </td><td>28117.57  </td><td>27905.46  </td><td>28226.50  </td><td>28966.82  </td><td>29817.81  </td><td>34004.19  </td><td>...       </td><td>37947.51  </td><td>37981.78  </td><td>38329.90  </td><td>39271.36  </td><td>39548.13  </td><td>38494.77  </td><td>37670.14  </td><td>36398.73  </td><td>35086.17  </td><td>33533.38  </td></tr>\n",
       "\t<tr><td>2020-11-07</td><td>31494.01  </td><td>29936.75  </td><td>28798.70  </td><td>28274.43  </td><td>28252.16  </td><td>28349.84  </td><td>29122.89  </td><td>30291.01  </td><td>33916.21  </td><td>...       </td><td>38465.18  </td><td>38696.44  </td><td>39111.30  </td><td>40006.89  </td><td>39891.23  </td><td>38979.84  </td><td>38004.31  </td><td>36617.62  </td><td>35449.89  </td><td>34053.60  </td></tr>\n",
       "\t<tr><td>2020-11-08</td><td>32009.92  </td><td>30508.49  </td><td>29373.18  </td><td>28514.08  </td><td>28223.05  </td><td>28561.94  </td><td>29420.99  </td><td>30594.99  </td><td>34438.66  </td><td>...       </td><td>37473.42  </td><td>37614.03  </td><td>38395.48  </td><td>39456.23  </td><td>39664.77  </td><td>38607.92  </td><td>37701.08  </td><td>36612.05  </td><td>35419.89  </td><td>34157.70  </td></tr>\n",
       "\t<tr><td>2020-11-09</td><td>32079.29  </td><td>30494.62  </td><td>29333.87  </td><td>28368.57  </td><td>28365.36  </td><td>28379.15  </td><td>29135.26  </td><td>29387.25  </td><td>32039.46  </td><td>...       </td><td>33853.06  </td><td>34011.48  </td><td>34934.08  </td><td>36549.26  </td><td>38006.32  </td><td>37261.67  </td><td>36431.01  </td><td>35355.84  </td><td>34199.98  </td><td>32808.00  </td></tr>\n",
       "\t<tr><td>2020-11-10</td><td>30770.20  </td><td>29115.69  </td><td>27826.88  </td><td>27090.40  </td><td>26889.26  </td><td>26760.23  </td><td>26929.14  </td><td>26111.23  </td><td>25452.79  </td><td>...       </td><td>27311.96  </td><td>27914.76  </td><td>29768.90  </td><td>32450.62  </td><td>34677.55  </td><td>34506.00  </td><td>33944.49  </td><td>33195.26  </td><td>32048.87  </td><td>30885.94  </td></tr>\n",
       "\t<tr><td>2020-11-11</td><td>29431.56  </td><td>27820.58  </td><td>26904.55  </td><td>26411.68  </td><td>26359.61  </td><td>26635.71  </td><td>27660.58  </td><td>29448.99  </td><td>33515.58  </td><td>...       </td><td>35004.57  </td><td>35458.30  </td><td>37024.05  </td><td>38939.01  </td><td>39482.19  </td><td>38524.10  </td><td>37725.28  </td><td>36694.07  </td><td>35314.45  </td><td>33838.31  </td></tr>\n",
       "\t<tr><td>2020-11-12</td><td>32039.71  </td><td>30535.97  </td><td>29518.98  </td><td>28949.57  </td><td>28570.41  </td><td>28835.19  </td><td>29687.03  </td><td>31025.24  </td><td>34276.35  </td><td>...       </td><td>35696.60  </td><td>36271.37  </td><td>37674.58  </td><td>39588.11  </td><td>39930.95  </td><td>38616.60  </td><td>38016.34  </td><td>36887.68  </td><td>35579.04  </td><td>34176.40  </td></tr>\n",
       "\t<tr><td>2020-11-13</td><td>32398.76  </td><td>30830.06  </td><td>29728.25  </td><td>28881.86  </td><td>28766.83  </td><td>28953.33  </td><td>29860.46  </td><td>31165.52  </td><td>34533.51  </td><td>...       </td><td>36053.33  </td><td>36466.69  </td><td>37882.03  </td><td>39718.50  </td><td>40308.02  </td><td>39140.15  </td><td>37626.29  </td><td>37088.51  </td><td>35748.63  </td><td>34327.68  </td></tr>\n",
       "\t<tr><td>2020-11-14</td><td>32363.50  </td><td>30840.80  </td><td>29759.03  </td><td>28965.76  </td><td>28714.25  </td><td>29072.24  </td><td>30046.23  </td><td>31394.88  </td><td>34571.78  </td><td>...       </td><td>35636.86  </td><td>36040.27  </td><td>37712.17  </td><td>38810.08  </td><td>40355.11  </td><td>39277.38  </td><td>38298.17  </td><td>37188.86  </td><td>35905.85  </td><td>34497.57  </td></tr>\n",
       "\t<tr><td>2020-11-15</td><td>32468.48  </td><td>30834.32  </td><td>29847.75  </td><td>29145.47  </td><td>28962.57  </td><td>29296.21  </td><td>30292.12  </td><td>31490.94  </td><td>34679.86  </td><td>...       </td><td>35534.50  </td><td>36199.20  </td><td>37660.00  </td><td>39696.79  </td><td>39992.94  </td><td>38932.12  </td><td>37994.92  </td><td>36986.96  </td><td>35724.27  </td><td>34360.70  </td></tr>\n",
       "\t<tr><td>2020-11-16</td><td>32450.53  </td><td>30959.38  </td><td>29924.72  </td><td>29056.63  </td><td>28771.48  </td><td>29022.93  </td><td>29557.49  </td><td>30030.71  </td><td>32698.70  </td><td>...       </td><td>35350.99  </td><td>35556.45  </td><td>36387.39  </td><td>37810.27  </td><td>38873.11  </td><td>37981.81  </td><td>37065.80  </td><td>36019.15  </td><td>34725.68  </td><td>32784.78  </td></tr>\n",
       "\t<tr><td>2020-11-17</td><td>31048.02  </td><td>29392.24  </td><td>28260.55  </td><td>27501.22  </td><td>27232.02  </td><td>27252.27  </td><td>27401.45  </td><td>26907.92  </td><td>26786.69  </td><td>...       </td><td>29082.54  </td><td>29875.90  </td><td>31267.82  </td><td>33723.79  </td><td>35534.51  </td><td>35154.33  </td><td>34511.12  </td><td>33683.09  </td><td>32732.91  </td><td>31167.42  </td></tr>\n",
       "\t<tr><td>2020-11-18</td><td>29921.97  </td><td>27849.58  </td><td>27332.25  </td><td>26704.18  </td><td>26573.26  </td><td>27051.81  </td><td>28037.82  </td><td>29930.18  </td><td>34172.00  </td><td>...       </td><td>36704.66  </td><td>37351.02  </td><td>38792.51  </td><td>40417.23  </td><td>40819.19  </td><td>39720.59  </td><td>38779.80  </td><td>37567.66  </td><td>36467.46  </td><td>35142.84  </td></tr>\n",
       "\t<tr><td>2020-11-19</td><td>33050.14  </td><td>31434.38  </td><td>30240.40  </td><td>29579.22  </td><td>29367.49  </td><td>29740.95  </td><td>30666.30  </td><td>31968.39  </td><td>35379.53  </td><td>...       </td><td>36604.82  </td><td>37306.60  </td><td>38712.18  </td><td>40754.69  </td><td>41334.00  </td><td>40178.34  </td><td>39142.62  </td><td>38244.32  </td><td>36771.07  </td><td>35374.13  </td></tr>\n",
       "\t<tr><td>2020-11-20</td><td>33367.10  </td><td>31647.21  </td><td>30472.93  </td><td>29671.27  </td><td>29514.25  </td><td>29866.15  </td><td>30633.98  </td><td>32002.03  </td><td>35510.91  </td><td>...       </td><td>37557.10  </td><td>38551.32  </td><td>39933.51  </td><td>41551.26  </td><td>41501.39  </td><td>40227.27  </td><td>39311.96  </td><td>37649.06  </td><td>36816.58  </td><td>35620.10  </td></tr>\n",
       "\t<tr><td>2020-11-21</td><td>33455.97  </td><td>31805.17  </td><td>30698.22  </td><td>29846.76  </td><td>29600.96  </td><td>29899.31  </td><td>30743.88  </td><td>32074.70  </td><td>35610.62  </td><td>...       </td><td>39412.98  </td><td>39853.82  </td><td>40918.91  </td><td>42208.11  </td><td>41673.45  </td><td>40553.66  </td><td>39499.32  </td><td>38429.24  </td><td>37270.44  </td><td>35731.83  </td></tr>\n",
       "\t<tr><td>2020-11-22</td><td>33651.81  </td><td>31949.53  </td><td>30832.30  </td><td>29991.21  </td><td>29795.53  </td><td>29951.31  </td><td>30758.76  </td><td>32370.10  </td><td>36386.47  </td><td>...       </td><td>40727.71  </td><td>40550.85  </td><td>40976.32  </td><td>41854.37  </td><td>41564.30  </td><td>40221.79  </td><td>38875.45  </td><td>37749.83  </td><td>36786.90  </td><td>35102.41  </td></tr>\n",
       "\t<tr><td>2020-11-23</td><td>33697.36  </td><td>31916.72  </td><td>30692.47  </td><td>29828.03  </td><td>29425.40  </td><td>29748.05  </td><td>30186.14  </td><td>30564.89  </td><td>32613.91  </td><td>...       </td><td>35312.45  </td><td>35408.44  </td><td>36581.59  </td><td>38630.06  </td><td>39379.15  </td><td>38432.76  </td><td>37293.60  </td><td>36304.68  </td><td>35250.20  </td><td>33817.76  </td></tr>\n",
       "\t<tr><td>2020-11-24</td><td>31685.68  </td><td>30105.78  </td><td>28703.45  </td><td>28072.20  </td><td>27651.60  </td><td>27566.19  </td><td>27737.26  </td><td>27439.05  </td><td>26905.24  </td><td>...       </td><td>29334.07  </td><td>30301.50  </td><td>32108.31  </td><td>34919.68  </td><td>36647.32  </td><td>35999.47  </td><td>35183.37  </td><td>34230.51  </td><td>33602.91  </td><td>32178.03  </td></tr>\n",
       "\t<tr><td>2020-11-25</td><td>30426.00  </td><td>29097.77  </td><td>28176.27  </td><td>27599.20  </td><td>27238.99  </td><td>27754.59  </td><td>28747.47  </td><td>30989.04  </td><td>35068.99  </td><td>...       </td><td>37089.41  </td><td>37586.08  </td><td>39435.91  </td><td>41569.99  </td><td>41710.94  </td><td>40297.34  </td><td>38951.67  </td><td>37856.67  </td><td>36983.95  </td><td>35594.03  </td></tr>\n",
       "\t<tr><td>2020-11-26</td><td>33520.81  </td><td>31518.27  </td><td>30513.78  </td><td>29844.10  </td><td>29650.85  </td><td>29873.42  </td><td>30934.51  </td><td>32239.30  </td><td>35946.87  </td><td>...       </td><td>37830.17  </td><td>38656.92  </td><td>40396.69  </td><td>42486.34  </td><td>42255.24  </td><td>40895.17  </td><td>39240.65  </td><td>38366.41  </td><td>37446.73  </td><td>36186.83  </td></tr>\n",
       "\t<tr><td>2020-11-27</td><td>33585.86  </td><td>32175.55  </td><td>31064.86  </td><td>30213.43  </td><td>29958.96  </td><td>30234.26  </td><td>31138.64  </td><td>32838.39  </td><td>36634.41  </td><td>...       </td><td>40148.58  </td><td>40330.14  </td><td>41279.40  </td><td>42837.79  </td><td>42412.80  </td><td>41146.25  </td><td>39591.41  </td><td>38420.42  </td><td>37519.53  </td><td>36160.62  </td></tr>\n",
       "\t<tr><td>2020-11-28</td><td>33902.71  </td><td>32459.36  </td><td>31023.35  </td><td>30190.73  </td><td>30055.35  </td><td>30335.29  </td><td>31201.79  </td><td>32775.21  </td><td>36882.21  </td><td>...       </td><td>39220.21  </td><td>39460.82  </td><td>40532.72  </td><td>42347.17  </td><td>42312.06  </td><td>40834.67  </td><td>39520.36  </td><td>38511.88  </td><td>37607.20  </td><td>36156.08  </td></tr>\n",
       "\t<tr><td>2020-11-29</td><td>33896.52  </td><td>31841.72  </td><td>30897.69  </td><td>30191.20  </td><td>29956.10  </td><td>30199.97  </td><td>31015.63  </td><td>32518.79  </td><td>36129.99  </td><td>...       </td><td>37205.46  </td><td>37760.66  </td><td>39543.01  </td><td>41895.73  </td><td>42003.77  </td><td>40806.68  </td><td>39426.67  </td><td>38446.22  </td><td>37356.91  </td><td>36119.57  </td></tr>\n",
       "\t<tr><td>2020-11-30</td><td>33935.56  </td><td>31919.44  </td><td>30439.27  </td><td>30020.41  </td><td>29825.63  </td><td>29984.86  </td><td>30444.97  </td><td>31159.67  </td><td>33325.74  </td><td>...       </td><td>35338.14  </td><td>35645.57  </td><td>36905.20  </td><td>39131.92  </td><td>40203.21  </td><td>39037.18  </td><td>38044.69  </td><td>37128.89  </td><td>36016.67  </td><td>34500.14  </td></tr>\n",
       "\t<tr><td>2020-12-01</td><td>32332.68  </td><td>30410.13  </td><td>29119.33  </td><td>28484.61  </td><td>28150.14  </td><td>28065.44  </td><td>28189.16  </td><td>27883.71  </td><td>27219.84  </td><td>...       </td><td>29682.72  </td><td>30568.06  </td><td>32342.53  </td><td>35411.15  </td><td>36984.04  </td><td>36310.77  </td><td>35383.08  </td><td>34491.45  </td><td>33698.14  </td><td>32295.74  </td></tr>\n",
       "\t<tr><td>2020-12-02</td><td>30828.40  </td><td>29350.31  </td><td>27689.33  </td><td>27608.55  </td><td>27566.71  </td><td>27897.84  </td><td>28873.20  </td><td>31137.18  </td><td>35801.80  </td><td>...       </td><td>40062.14  </td><td>40599.60  </td><td>41677.91  </td><td>43043.60  </td><td>42245.38  </td><td>40750.73  </td><td>39294.57  </td><td>38212.74  </td><td>37225.65  </td><td>35775.04  </td></tr>\n",
       "\t<tr><td>2020-12-03</td><td>33842.13  </td><td>32013.00  </td><td>30884.17  </td><td>30082.68  </td><td>29844.18  </td><td>30100.53  </td><td>30743.44  </td><td>32279.80  </td><td>36657.05  </td><td>...       </td><td>41812.33  </td><td>41722.82  </td><td>42341.25  </td><td>43320.35  </td><td>42292.06  </td><td>40720.16  </td><td>39195.74  </td><td>38310.79  </td><td>37173.97  </td><td>35725.46  </td></tr>\n",
       "</tbody>\n",
       "</table>\n"
      ],
      "text/latex": [
       "\\begin{tabular}{r|lllllllllllllllllllllllll}\n",
       " date & Lag\\_day2\\_hour\\_0 & Lag\\_day2\\_hour\\_1 & Lag\\_day2\\_hour\\_2 & Lag\\_day2\\_hour\\_3 & Lag\\_day2\\_hour\\_4 & Lag\\_day2\\_hour\\_5 & Lag\\_day2\\_hour\\_6 & Lag\\_day2\\_hour\\_7 & Lag\\_day2\\_hour\\_8 & ... & Lag\\_day2\\_hour\\_14 & Lag\\_day2\\_hour\\_15 & Lag\\_day2\\_hour\\_16 & Lag\\_day2\\_hour\\_17 & Lag\\_day2\\_hour\\_18 & Lag\\_day2\\_hour\\_19 & Lag\\_day2\\_hour\\_20 & Lag\\_day2\\_hour\\_21 & Lag\\_day2\\_hour\\_22 & Lag\\_day2\\_hour\\_23\\\\\n",
       "\\hline\n",
       "\t 2016-01-03 & 26277.24   & 24991.82   & 23532.61   & 22464.78   & 22002.91   & 21957.08   & 22203.54   & 21844.16   & 23094.73   & ...        & 29548.32   & 29390.89   & 30734.97   & 32048.02   & 31438.11   & 30728.47   & 30166.14   & 29461.28   & 29242.83   & 28069.09  \\\\\n",
       "\t 2016-01-04 & 26224.60   & 24708.58   & 23771.58   & 22921.29   & 22870.89   & 23325.63   & 23604.98   & 24022.70   & 26930.48   & ...        & 32796.18   & 32594.55   & 33358.47   & 34387.95   & 33591.26   & 32648.83   & 31897.73   & 31049.20   & 30906.43   & 29621.09  \\\\\n",
       "\t 2016-01-05 & 27613.96   & 25779.28   & 24566.31   & 23878.42   & 23511.38   & 23672.32   & 23827.08   & 23405.11   & 24638.72   & ...        & 31056.47   & 30979.53   & 32297.46   & 33462.96   & 33151.03   & 32450.21   & 32093.93   & 31315.16   & 31014.19   & 29462.06  \\\\\n",
       "\t 2016-01-06 & 27103.09   & 25439.84   & 24395.07   & 23961.03   & 23860.63   & 24418.47   & 25708.59   & 27455.39   & 32982.07   & ...        & 39661.98   & 39211.00   & 39760.12   & 39633.29   & 37621.41   & 35954.18   & 35114.12   & 34066.40   & 33686.83   & 31733.54  \\\\\n",
       "\t 2016-01-07 & 29244.38   & 27637.23   & 26335.78   & 25870.23   & 25975.07   & 26318.48   & 27109.29   & 28570.22   & 33106.00   & ...        & 38086.11   & 37834.89   & 38599.34   & 38669.63   & 36954.78   & 35306.11   & 34301.59   & 33400.82   & 33359.37   & 31629.97  \\\\\n",
       "\t 2016-01-08 & 29189.27   & 27614.02   & 26578.97   & 25719.19   & 25864.63   & 25918.59   & 27091.94   & 28533.05   & 33203.34   & ...        & 36847.22   & 36433.88   & 37581.09   & 37304.52   & 35832.00   & 34499.94   & 33670.00   & 32931.12   & 32913.06   & 31450.65  \\\\\n",
       "\t 2016-01-09 & 28763.95   & 27284.84   & 26321.95   & 25748.49   & 25636.58   & 25932.52   & 26963.74   & 28444.83   & 32804.27   & ...        & 37376.83   & 37100.43   & 37668.65   & 37906.99   & 35841.62   & 34621.65   & 33784.72   & 32638.14   & 32739.98   & 31092.87  \\\\\n",
       "\t 2016-01-10 & 28602.02   & 27112.37   & 25975.34   & 25315.55   & 25128.15   & 25356.22   & 26338.72   & 28086.42   & 32702.24   & ...        & 36555.58   & 36190.41   & 37031.72   & 37773.70   & 35930.69   & 34710.46   & 33907.65   & 33048.69   & 33220.16   & 32021.60  \\\\\n",
       "\t 2016-01-11 & 29906.93   & 28061.98   & 26808.78   & 25798.80   & 25820.46   & 26035.77   & 26451.24   & 26853.42   & 30627.32   & ...        & 33524.80   & 32951.39   & 33655.89   & 35045.14   & 34407.27   & 33494.32   & 32624.31   & 32097.79   & 32176.63   & 30760.17  \\\\\n",
       "\t 2016-01-12 & 28890.37   & 27133.75   & 25656.13   & 24937.87   & 24538.16   & 24616.05   & 24478.14   & 23813.35   & 24676.92   & ...        & 29089.83   & 29447.75   & 30569.07   & 32006.15   & 31706.26   & 31305.87   & 30870.26   & 30462.79   & 30537.75   & 28857.66  \\\\\n",
       "\t 2016-01-13 & 27130.75   & 25403.40   & 24452.96   & 23959.85   & 23839.28   & 24358.46   & 25800.81   & 27336.03   & 32683.24   & ...        & 36383.06   & 36013.19   & 36848.54   & 37368.40   & 35697.30   & 34482.37   & 33526.95   & 32634.16   & 32791.35   & 31147.83  \\\\\n",
       "\t 2016-01-14 & 29161.64   & 27519.24   & 26256.43   & 25766.11   & 25808.92   & 26222.03   & 27290.07   & 28628.67   & 32817.04   & ...        & 34934.00   & 34785.11   & 35690.28   & 36566.50   & 35055.97   & 33912.94   & 33131.98   & 32332.76   & 32523.14   & 30906.87  \\\\\n",
       "\t 2016-01-15 & 28823.02   & 27321.69   & 26265.24   & 25879.07   & 25685.09   & 26018.14   & 27012.72   & 28420.19   & 32572.38   & ...        & 36201.35   & 36012.25   & 36785.82   & 37173.82   & 35574.06   & 34298.68   & 33580.53   & 32554.09   & 32836.52   & 31307.88  \\\\\n",
       "\t 2016-01-16 & 29225.99   & 27650.42   & 26656.23   & 26235.10   & 26136.04   & 26689.30   & 27652.89   & 29176.95   & 33352.18   & ...        & 36279.45   & 35936.67   & 36827.63   & 37481.89   & 36195.39   & 34914.82   & 34091.81   & 33323.90   & 33345.01   & 31938.60  \\\\\n",
       "\t 2016-01-17 & 29667.03   & 27961.70   & 26760.14   & 26351.43   & 26190.00   & 26646.35   & 27845.52   & 29266.49   & 33637.71   & ...        & 35717.39   & 35343.51   & 36473.19   & 37425.77   & 36019.98   & 34574.97   & 33756.40   & 33140.33   & 33272.46   & 31803.26  \\\\\n",
       "\t 2016-01-18 & 29790.90   & 28108.68   & 26867.16   & 26241.31   & 25928.60   & 26137.31   & 26617.72   & 27115.23   & 30856.87   & ...        & 33592.64   & 33087.78   & 33693.47   & 34599.67   & 33773.40   & 32770.63   & 32167.64   & 31414.53   & 31666.20   & 30292.67  \\\\\n",
       "\t 2016-01-19 & 28125.56   & 26344.08   & 25233.20   & 24526.40   & 24131.34   & 24277.13   & 24149.15   & 23448.70   & 24484.28   & ...        & 29060.19   & 28859.44   & 29986.06   & 31083.39   & 31046.20   & 30619.87   & 30216.41   & 29589.83   & 29593.28   & 28448.52  \\\\\n",
       "\t 2016-01-20 & 26425.24   & 25112.59   & 24197.23   & 23839.79   & 23756.17   & 24217.87   & 25384.09   & 27192.81   & 32775.65   & ...        & 38264.20   & 37831.23   & 38590.57   & 38930.54   & 37080.02   & 35590.81   & 34669.59   & 33765.00   & 33590.16   & 32035.19  \\\\\n",
       "\t 2016-01-21 & 29648.05   & 28023.28   & 26957.35   & 26389.70   & 26152.72   & 26578.69   & 27561.29   & 29127.56   & 34277.14   & ...        & 38431.48   & 37914.67   & 38254.38   & 39006.28   & 37419.61   & 35893.88   & 35024.97   & 34132.03   & 34201.22   & 32449.57  \\\\\n",
       "\t 2016-01-22 & 30139.50   & 28410.88   & 27406.34   & 26722.59   & 26551.26   & 27065.87   & 28039.32   & 29469.19   & 34531.37   & ...        & 39016.83   & 38583.86   & 39061.14   & 39678.86   & 37842.79   & 36242.08   & 35265.50   & 34442.99   & 34423.91   & 32661.51  \\\\\n",
       "\t 2016-01-23 & 30396.19   & 28597.47   & 27458.63   & 26728.84   & 26819.66   & 27295.21   & 28233.77   & 29534.69   & 34553.08   & ...        & 38991.04   & 38424.45   & 38816.10   & 39201.65   & 37540.47   & 36208.77   & 35321.99   & 34453.40   & 34506.70   & 32959.37  \\\\\n",
       "\t 2016-01-24 & 30389.96   & 28517.31   & 27397.27   & 26696.24   & 26636.34   & 27118.79   & 28127.63   & 29345.05   & 34622.14   & ...        & 38467.93   & 38201.49   & 38866.07   & 39255.53   & 37130.41   & 35315.89   & 34779.35   & 33927.07   & 34209.59   & 32617.78  \\\\\n",
       "\t 2016-01-25 & 30215.90   & 28509.74   & 27311.13   & 26492.04   & 26476.82   & 26720.30   & 27058.22   & 27679.17   & 31739.43   & ...        & 36555.00   & 35898.79   & 35913.32   & 36651.18   & 35931.07   & 34781.15   & 33951.80   & 33131.48   & 33030.06   & 31630.82  \\\\\n",
       "\t 2016-01-26 & 29349.49   & 27479.98   & 26088.26   & 25306.03   & 24973.17   & 25001.94   & 24899.46   & 24158.93   & 25160.11   & ...        & 31103.80   & 30750.50   & 31481.16   & 32712.77   & 32774.93   & 32341.26   & 31820.10   & 31160.32   & 31284.85   & 30005.39  \\\\\n",
       "\t 2016-01-27 & 28167.47   & 26516.66   & 25339.39   & 24773.74   & 24711.58   & 25145.67   & 26151.07   & 27508.65   & 33542.39   & ...        & 40025.60   & 39686.93   & 39815.53   & 40446.48   & 38716.68   & 36907.14   & 35987.80   & 34823.23   & 34860.72   & 33253.80  \\\\\n",
       "\t 2016-01-28 & 30881.56   & 28955.47   & 27835.79   & 27148.96   & 27041.24   & 27397.01   & 28184.65   & 29740.52   & 34727.66   & ...        & 40809.82   & 40425.55   & 40706.38   & 40871.83   & 38346.97   & 37053.91   & 36025.46   & 34954.00   & 35129.39   & 33279.95  \\\\\n",
       "\t 2016-01-29 & 30851.33   & 29091.24   & 27798.40   & 27168.26   & 27068.64   & 27445.32   & 28126.89   & 29262.17   & 34507.12   & ...        & 39313.51   & 38772.92   & 39181.11   & 39959.57   & 38519.91   & 36987.53   & 36007.95   & 34975.54   & 34932.33   & 33455.88  \\\\\n",
       "\t 2016-01-30 & 31143.68   & 29167.57   & 28046.68   & 27405.39   & 27173.93   & 27536.99   & 28220.87   & 29395.45   & 34668.60   & ...        & 39536.37   & 38936.48   & 39101.10   & 39566.36   & 38081.88   & 36504.46   & 35585.73   & 34747.11   & 34799.91   & 33343.43  \\\\\n",
       "\t 2016-01-31 & 30705.61   & 29000.54   & 27852.55   & 27163.15   & 26971.99   & 27348.29   & 28077.26   & 29062.07   & 34246.13   & ...        & 37475.87   & 36826.00   & 37285.78   & 38110.44   & 36981.81   & 35496.45   & 34642.81   & 33771.10   & 33922.59   & 32485.51  \\\\\n",
       "\t 2016-02-01 & 30323.74   & 28528.18   & 27243.18   & 26511.13   & 26199.54   & 26561.03   & 26644.35   & 27009.01   & 30831.90   & ...        & 34697.06   & 34002.74   & 33457.63   & 34897.48   & 34596.05   & 33538.44   & 32664.18   & 31927.94   & 32124.59   & 30873.86  \\\\\n",
       "\t ... & ... & ... & ... & ... & ... & ... & ... & ... & ... &     & ... & ... & ... & ... & ... & ... & ... & ... & ... & ...\\\\\n",
       "\t 2020-11-04 & 27931.36   & 26891.54   & 25998.67   & 25374.78   & 25145.69   & 25529.95   & 26497.51   & 27939.62   & 32244.73   & ...        & 35239.46   & 35526.07   & 36552.09   & 37959.05   & 38720.50   & 37718.10   & 36872.26   & 35834.28   & 34616.98   & 33151.95  \\\\\n",
       "\t 2020-11-05 & 31301.07   & 29875.22   & 28908.73   & 28211.00   & 28054.92   & 28199.32   & 29044.15   & 29957.26   & 33415.53   & ...        & 36868.67   & 36997.12   & 38021.90   & 39038.66   & 39314.53   & 38256.09   & 37282.36   & 36150.19   & 34793.99   & 33281.76  \\\\\n",
       "\t 2020-11-06 & 31278.36   & 29818.62   & 28784.91   & 28117.57   & 27905.46   & 28226.50   & 28966.82   & 29817.81   & 34004.19   & ...        & 37947.51   & 37981.78   & 38329.90   & 39271.36   & 39548.13   & 38494.77   & 37670.14   & 36398.73   & 35086.17   & 33533.38  \\\\\n",
       "\t 2020-11-07 & 31494.01   & 29936.75   & 28798.70   & 28274.43   & 28252.16   & 28349.84   & 29122.89   & 30291.01   & 33916.21   & ...        & 38465.18   & 38696.44   & 39111.30   & 40006.89   & 39891.23   & 38979.84   & 38004.31   & 36617.62   & 35449.89   & 34053.60  \\\\\n",
       "\t 2020-11-08 & 32009.92   & 30508.49   & 29373.18   & 28514.08   & 28223.05   & 28561.94   & 29420.99   & 30594.99   & 34438.66   & ...        & 37473.42   & 37614.03   & 38395.48   & 39456.23   & 39664.77   & 38607.92   & 37701.08   & 36612.05   & 35419.89   & 34157.70  \\\\\n",
       "\t 2020-11-09 & 32079.29   & 30494.62   & 29333.87   & 28368.57   & 28365.36   & 28379.15   & 29135.26   & 29387.25   & 32039.46   & ...        & 33853.06   & 34011.48   & 34934.08   & 36549.26   & 38006.32   & 37261.67   & 36431.01   & 35355.84   & 34199.98   & 32808.00  \\\\\n",
       "\t 2020-11-10 & 30770.20   & 29115.69   & 27826.88   & 27090.40   & 26889.26   & 26760.23   & 26929.14   & 26111.23   & 25452.79   & ...        & 27311.96   & 27914.76   & 29768.90   & 32450.62   & 34677.55   & 34506.00   & 33944.49   & 33195.26   & 32048.87   & 30885.94  \\\\\n",
       "\t 2020-11-11 & 29431.56   & 27820.58   & 26904.55   & 26411.68   & 26359.61   & 26635.71   & 27660.58   & 29448.99   & 33515.58   & ...        & 35004.57   & 35458.30   & 37024.05   & 38939.01   & 39482.19   & 38524.10   & 37725.28   & 36694.07   & 35314.45   & 33838.31  \\\\\n",
       "\t 2020-11-12 & 32039.71   & 30535.97   & 29518.98   & 28949.57   & 28570.41   & 28835.19   & 29687.03   & 31025.24   & 34276.35   & ...        & 35696.60   & 36271.37   & 37674.58   & 39588.11   & 39930.95   & 38616.60   & 38016.34   & 36887.68   & 35579.04   & 34176.40  \\\\\n",
       "\t 2020-11-13 & 32398.76   & 30830.06   & 29728.25   & 28881.86   & 28766.83   & 28953.33   & 29860.46   & 31165.52   & 34533.51   & ...        & 36053.33   & 36466.69   & 37882.03   & 39718.50   & 40308.02   & 39140.15   & 37626.29   & 37088.51   & 35748.63   & 34327.68  \\\\\n",
       "\t 2020-11-14 & 32363.50   & 30840.80   & 29759.03   & 28965.76   & 28714.25   & 29072.24   & 30046.23   & 31394.88   & 34571.78   & ...        & 35636.86   & 36040.27   & 37712.17   & 38810.08   & 40355.11   & 39277.38   & 38298.17   & 37188.86   & 35905.85   & 34497.57  \\\\\n",
       "\t 2020-11-15 & 32468.48   & 30834.32   & 29847.75   & 29145.47   & 28962.57   & 29296.21   & 30292.12   & 31490.94   & 34679.86   & ...        & 35534.50   & 36199.20   & 37660.00   & 39696.79   & 39992.94   & 38932.12   & 37994.92   & 36986.96   & 35724.27   & 34360.70  \\\\\n",
       "\t 2020-11-16 & 32450.53   & 30959.38   & 29924.72   & 29056.63   & 28771.48   & 29022.93   & 29557.49   & 30030.71   & 32698.70   & ...        & 35350.99   & 35556.45   & 36387.39   & 37810.27   & 38873.11   & 37981.81   & 37065.80   & 36019.15   & 34725.68   & 32784.78  \\\\\n",
       "\t 2020-11-17 & 31048.02   & 29392.24   & 28260.55   & 27501.22   & 27232.02   & 27252.27   & 27401.45   & 26907.92   & 26786.69   & ...        & 29082.54   & 29875.90   & 31267.82   & 33723.79   & 35534.51   & 35154.33   & 34511.12   & 33683.09   & 32732.91   & 31167.42  \\\\\n",
       "\t 2020-11-18 & 29921.97   & 27849.58   & 27332.25   & 26704.18   & 26573.26   & 27051.81   & 28037.82   & 29930.18   & 34172.00   & ...        & 36704.66   & 37351.02   & 38792.51   & 40417.23   & 40819.19   & 39720.59   & 38779.80   & 37567.66   & 36467.46   & 35142.84  \\\\\n",
       "\t 2020-11-19 & 33050.14   & 31434.38   & 30240.40   & 29579.22   & 29367.49   & 29740.95   & 30666.30   & 31968.39   & 35379.53   & ...        & 36604.82   & 37306.60   & 38712.18   & 40754.69   & 41334.00   & 40178.34   & 39142.62   & 38244.32   & 36771.07   & 35374.13  \\\\\n",
       "\t 2020-11-20 & 33367.10   & 31647.21   & 30472.93   & 29671.27   & 29514.25   & 29866.15   & 30633.98   & 32002.03   & 35510.91   & ...        & 37557.10   & 38551.32   & 39933.51   & 41551.26   & 41501.39   & 40227.27   & 39311.96   & 37649.06   & 36816.58   & 35620.10  \\\\\n",
       "\t 2020-11-21 & 33455.97   & 31805.17   & 30698.22   & 29846.76   & 29600.96   & 29899.31   & 30743.88   & 32074.70   & 35610.62   & ...        & 39412.98   & 39853.82   & 40918.91   & 42208.11   & 41673.45   & 40553.66   & 39499.32   & 38429.24   & 37270.44   & 35731.83  \\\\\n",
       "\t 2020-11-22 & 33651.81   & 31949.53   & 30832.30   & 29991.21   & 29795.53   & 29951.31   & 30758.76   & 32370.10   & 36386.47   & ...        & 40727.71   & 40550.85   & 40976.32   & 41854.37   & 41564.30   & 40221.79   & 38875.45   & 37749.83   & 36786.90   & 35102.41  \\\\\n",
       "\t 2020-11-23 & 33697.36   & 31916.72   & 30692.47   & 29828.03   & 29425.40   & 29748.05   & 30186.14   & 30564.89   & 32613.91   & ...        & 35312.45   & 35408.44   & 36581.59   & 38630.06   & 39379.15   & 38432.76   & 37293.60   & 36304.68   & 35250.20   & 33817.76  \\\\\n",
       "\t 2020-11-24 & 31685.68   & 30105.78   & 28703.45   & 28072.20   & 27651.60   & 27566.19   & 27737.26   & 27439.05   & 26905.24   & ...        & 29334.07   & 30301.50   & 32108.31   & 34919.68   & 36647.32   & 35999.47   & 35183.37   & 34230.51   & 33602.91   & 32178.03  \\\\\n",
       "\t 2020-11-25 & 30426.00   & 29097.77   & 28176.27   & 27599.20   & 27238.99   & 27754.59   & 28747.47   & 30989.04   & 35068.99   & ...        & 37089.41   & 37586.08   & 39435.91   & 41569.99   & 41710.94   & 40297.34   & 38951.67   & 37856.67   & 36983.95   & 35594.03  \\\\\n",
       "\t 2020-11-26 & 33520.81   & 31518.27   & 30513.78   & 29844.10   & 29650.85   & 29873.42   & 30934.51   & 32239.30   & 35946.87   & ...        & 37830.17   & 38656.92   & 40396.69   & 42486.34   & 42255.24   & 40895.17   & 39240.65   & 38366.41   & 37446.73   & 36186.83  \\\\\n",
       "\t 2020-11-27 & 33585.86   & 32175.55   & 31064.86   & 30213.43   & 29958.96   & 30234.26   & 31138.64   & 32838.39   & 36634.41   & ...        & 40148.58   & 40330.14   & 41279.40   & 42837.79   & 42412.80   & 41146.25   & 39591.41   & 38420.42   & 37519.53   & 36160.62  \\\\\n",
       "\t 2020-11-28 & 33902.71   & 32459.36   & 31023.35   & 30190.73   & 30055.35   & 30335.29   & 31201.79   & 32775.21   & 36882.21   & ...        & 39220.21   & 39460.82   & 40532.72   & 42347.17   & 42312.06   & 40834.67   & 39520.36   & 38511.88   & 37607.20   & 36156.08  \\\\\n",
       "\t 2020-11-29 & 33896.52   & 31841.72   & 30897.69   & 30191.20   & 29956.10   & 30199.97   & 31015.63   & 32518.79   & 36129.99   & ...        & 37205.46   & 37760.66   & 39543.01   & 41895.73   & 42003.77   & 40806.68   & 39426.67   & 38446.22   & 37356.91   & 36119.57  \\\\\n",
       "\t 2020-11-30 & 33935.56   & 31919.44   & 30439.27   & 30020.41   & 29825.63   & 29984.86   & 30444.97   & 31159.67   & 33325.74   & ...        & 35338.14   & 35645.57   & 36905.20   & 39131.92   & 40203.21   & 39037.18   & 38044.69   & 37128.89   & 36016.67   & 34500.14  \\\\\n",
       "\t 2020-12-01 & 32332.68   & 30410.13   & 29119.33   & 28484.61   & 28150.14   & 28065.44   & 28189.16   & 27883.71   & 27219.84   & ...        & 29682.72   & 30568.06   & 32342.53   & 35411.15   & 36984.04   & 36310.77   & 35383.08   & 34491.45   & 33698.14   & 32295.74  \\\\\n",
       "\t 2020-12-02 & 30828.40   & 29350.31   & 27689.33   & 27608.55   & 27566.71   & 27897.84   & 28873.20   & 31137.18   & 35801.80   & ...        & 40062.14   & 40599.60   & 41677.91   & 43043.60   & 42245.38   & 40750.73   & 39294.57   & 38212.74   & 37225.65   & 35775.04  \\\\\n",
       "\t 2020-12-03 & 33842.13   & 32013.00   & 30884.17   & 30082.68   & 29844.18   & 30100.53   & 30743.44   & 32279.80   & 36657.05   & ...        & 41812.33   & 41722.82   & 42341.25   & 43320.35   & 42292.06   & 40720.16   & 39195.74   & 38310.79   & 37173.97   & 35725.46  \\\\\n",
       "\\end{tabular}\n"
      ],
      "text/markdown": [
       "\n",
       "| date | Lag_day2_hour_0 | Lag_day2_hour_1 | Lag_day2_hour_2 | Lag_day2_hour_3 | Lag_day2_hour_4 | Lag_day2_hour_5 | Lag_day2_hour_6 | Lag_day2_hour_7 | Lag_day2_hour_8 | ... | Lag_day2_hour_14 | Lag_day2_hour_15 | Lag_day2_hour_16 | Lag_day2_hour_17 | Lag_day2_hour_18 | Lag_day2_hour_19 | Lag_day2_hour_20 | Lag_day2_hour_21 | Lag_day2_hour_22 | Lag_day2_hour_23 |\n",
       "|---|---|---|---|---|---|---|---|---|---|---|---|---|---|---|---|---|---|---|---|---|\n",
       "| 2016-01-03 | 26277.24   | 24991.82   | 23532.61   | 22464.78   | 22002.91   | 21957.08   | 22203.54   | 21844.16   | 23094.73   | ...        | 29548.32   | 29390.89   | 30734.97   | 32048.02   | 31438.11   | 30728.47   | 30166.14   | 29461.28   | 29242.83   | 28069.09   |\n",
       "| 2016-01-04 | 26224.60   | 24708.58   | 23771.58   | 22921.29   | 22870.89   | 23325.63   | 23604.98   | 24022.70   | 26930.48   | ...        | 32796.18   | 32594.55   | 33358.47   | 34387.95   | 33591.26   | 32648.83   | 31897.73   | 31049.20   | 30906.43   | 29621.09   |\n",
       "| 2016-01-05 | 27613.96   | 25779.28   | 24566.31   | 23878.42   | 23511.38   | 23672.32   | 23827.08   | 23405.11   | 24638.72   | ...        | 31056.47   | 30979.53   | 32297.46   | 33462.96   | 33151.03   | 32450.21   | 32093.93   | 31315.16   | 31014.19   | 29462.06   |\n",
       "| 2016-01-06 | 27103.09   | 25439.84   | 24395.07   | 23961.03   | 23860.63   | 24418.47   | 25708.59   | 27455.39   | 32982.07   | ...        | 39661.98   | 39211.00   | 39760.12   | 39633.29   | 37621.41   | 35954.18   | 35114.12   | 34066.40   | 33686.83   | 31733.54   |\n",
       "| 2016-01-07 | 29244.38   | 27637.23   | 26335.78   | 25870.23   | 25975.07   | 26318.48   | 27109.29   | 28570.22   | 33106.00   | ...        | 38086.11   | 37834.89   | 38599.34   | 38669.63   | 36954.78   | 35306.11   | 34301.59   | 33400.82   | 33359.37   | 31629.97   |\n",
       "| 2016-01-08 | 29189.27   | 27614.02   | 26578.97   | 25719.19   | 25864.63   | 25918.59   | 27091.94   | 28533.05   | 33203.34   | ...        | 36847.22   | 36433.88   | 37581.09   | 37304.52   | 35832.00   | 34499.94   | 33670.00   | 32931.12   | 32913.06   | 31450.65   |\n",
       "| 2016-01-09 | 28763.95   | 27284.84   | 26321.95   | 25748.49   | 25636.58   | 25932.52   | 26963.74   | 28444.83   | 32804.27   | ...        | 37376.83   | 37100.43   | 37668.65   | 37906.99   | 35841.62   | 34621.65   | 33784.72   | 32638.14   | 32739.98   | 31092.87   |\n",
       "| 2016-01-10 | 28602.02   | 27112.37   | 25975.34   | 25315.55   | 25128.15   | 25356.22   | 26338.72   | 28086.42   | 32702.24   | ...        | 36555.58   | 36190.41   | 37031.72   | 37773.70   | 35930.69   | 34710.46   | 33907.65   | 33048.69   | 33220.16   | 32021.60   |\n",
       "| 2016-01-11 | 29906.93   | 28061.98   | 26808.78   | 25798.80   | 25820.46   | 26035.77   | 26451.24   | 26853.42   | 30627.32   | ...        | 33524.80   | 32951.39   | 33655.89   | 35045.14   | 34407.27   | 33494.32   | 32624.31   | 32097.79   | 32176.63   | 30760.17   |\n",
       "| 2016-01-12 | 28890.37   | 27133.75   | 25656.13   | 24937.87   | 24538.16   | 24616.05   | 24478.14   | 23813.35   | 24676.92   | ...        | 29089.83   | 29447.75   | 30569.07   | 32006.15   | 31706.26   | 31305.87   | 30870.26   | 30462.79   | 30537.75   | 28857.66   |\n",
       "| 2016-01-13 | 27130.75   | 25403.40   | 24452.96   | 23959.85   | 23839.28   | 24358.46   | 25800.81   | 27336.03   | 32683.24   | ...        | 36383.06   | 36013.19   | 36848.54   | 37368.40   | 35697.30   | 34482.37   | 33526.95   | 32634.16   | 32791.35   | 31147.83   |\n",
       "| 2016-01-14 | 29161.64   | 27519.24   | 26256.43   | 25766.11   | 25808.92   | 26222.03   | 27290.07   | 28628.67   | 32817.04   | ...        | 34934.00   | 34785.11   | 35690.28   | 36566.50   | 35055.97   | 33912.94   | 33131.98   | 32332.76   | 32523.14   | 30906.87   |\n",
       "| 2016-01-15 | 28823.02   | 27321.69   | 26265.24   | 25879.07   | 25685.09   | 26018.14   | 27012.72   | 28420.19   | 32572.38   | ...        | 36201.35   | 36012.25   | 36785.82   | 37173.82   | 35574.06   | 34298.68   | 33580.53   | 32554.09   | 32836.52   | 31307.88   |\n",
       "| 2016-01-16 | 29225.99   | 27650.42   | 26656.23   | 26235.10   | 26136.04   | 26689.30   | 27652.89   | 29176.95   | 33352.18   | ...        | 36279.45   | 35936.67   | 36827.63   | 37481.89   | 36195.39   | 34914.82   | 34091.81   | 33323.90   | 33345.01   | 31938.60   |\n",
       "| 2016-01-17 | 29667.03   | 27961.70   | 26760.14   | 26351.43   | 26190.00   | 26646.35   | 27845.52   | 29266.49   | 33637.71   | ...        | 35717.39   | 35343.51   | 36473.19   | 37425.77   | 36019.98   | 34574.97   | 33756.40   | 33140.33   | 33272.46   | 31803.26   |\n",
       "| 2016-01-18 | 29790.90   | 28108.68   | 26867.16   | 26241.31   | 25928.60   | 26137.31   | 26617.72   | 27115.23   | 30856.87   | ...        | 33592.64   | 33087.78   | 33693.47   | 34599.67   | 33773.40   | 32770.63   | 32167.64   | 31414.53   | 31666.20   | 30292.67   |\n",
       "| 2016-01-19 | 28125.56   | 26344.08   | 25233.20   | 24526.40   | 24131.34   | 24277.13   | 24149.15   | 23448.70   | 24484.28   | ...        | 29060.19   | 28859.44   | 29986.06   | 31083.39   | 31046.20   | 30619.87   | 30216.41   | 29589.83   | 29593.28   | 28448.52   |\n",
       "| 2016-01-20 | 26425.24   | 25112.59   | 24197.23   | 23839.79   | 23756.17   | 24217.87   | 25384.09   | 27192.81   | 32775.65   | ...        | 38264.20   | 37831.23   | 38590.57   | 38930.54   | 37080.02   | 35590.81   | 34669.59   | 33765.00   | 33590.16   | 32035.19   |\n",
       "| 2016-01-21 | 29648.05   | 28023.28   | 26957.35   | 26389.70   | 26152.72   | 26578.69   | 27561.29   | 29127.56   | 34277.14   | ...        | 38431.48   | 37914.67   | 38254.38   | 39006.28   | 37419.61   | 35893.88   | 35024.97   | 34132.03   | 34201.22   | 32449.57   |\n",
       "| 2016-01-22 | 30139.50   | 28410.88   | 27406.34   | 26722.59   | 26551.26   | 27065.87   | 28039.32   | 29469.19   | 34531.37   | ...        | 39016.83   | 38583.86   | 39061.14   | 39678.86   | 37842.79   | 36242.08   | 35265.50   | 34442.99   | 34423.91   | 32661.51   |\n",
       "| 2016-01-23 | 30396.19   | 28597.47   | 27458.63   | 26728.84   | 26819.66   | 27295.21   | 28233.77   | 29534.69   | 34553.08   | ...        | 38991.04   | 38424.45   | 38816.10   | 39201.65   | 37540.47   | 36208.77   | 35321.99   | 34453.40   | 34506.70   | 32959.37   |\n",
       "| 2016-01-24 | 30389.96   | 28517.31   | 27397.27   | 26696.24   | 26636.34   | 27118.79   | 28127.63   | 29345.05   | 34622.14   | ...        | 38467.93   | 38201.49   | 38866.07   | 39255.53   | 37130.41   | 35315.89   | 34779.35   | 33927.07   | 34209.59   | 32617.78   |\n",
       "| 2016-01-25 | 30215.90   | 28509.74   | 27311.13   | 26492.04   | 26476.82   | 26720.30   | 27058.22   | 27679.17   | 31739.43   | ...        | 36555.00   | 35898.79   | 35913.32   | 36651.18   | 35931.07   | 34781.15   | 33951.80   | 33131.48   | 33030.06   | 31630.82   |\n",
       "| 2016-01-26 | 29349.49   | 27479.98   | 26088.26   | 25306.03   | 24973.17   | 25001.94   | 24899.46   | 24158.93   | 25160.11   | ...        | 31103.80   | 30750.50   | 31481.16   | 32712.77   | 32774.93   | 32341.26   | 31820.10   | 31160.32   | 31284.85   | 30005.39   |\n",
       "| 2016-01-27 | 28167.47   | 26516.66   | 25339.39   | 24773.74   | 24711.58   | 25145.67   | 26151.07   | 27508.65   | 33542.39   | ...        | 40025.60   | 39686.93   | 39815.53   | 40446.48   | 38716.68   | 36907.14   | 35987.80   | 34823.23   | 34860.72   | 33253.80   |\n",
       "| 2016-01-28 | 30881.56   | 28955.47   | 27835.79   | 27148.96   | 27041.24   | 27397.01   | 28184.65   | 29740.52   | 34727.66   | ...        | 40809.82   | 40425.55   | 40706.38   | 40871.83   | 38346.97   | 37053.91   | 36025.46   | 34954.00   | 35129.39   | 33279.95   |\n",
       "| 2016-01-29 | 30851.33   | 29091.24   | 27798.40   | 27168.26   | 27068.64   | 27445.32   | 28126.89   | 29262.17   | 34507.12   | ...        | 39313.51   | 38772.92   | 39181.11   | 39959.57   | 38519.91   | 36987.53   | 36007.95   | 34975.54   | 34932.33   | 33455.88   |\n",
       "| 2016-01-30 | 31143.68   | 29167.57   | 28046.68   | 27405.39   | 27173.93   | 27536.99   | 28220.87   | 29395.45   | 34668.60   | ...        | 39536.37   | 38936.48   | 39101.10   | 39566.36   | 38081.88   | 36504.46   | 35585.73   | 34747.11   | 34799.91   | 33343.43   |\n",
       "| 2016-01-31 | 30705.61   | 29000.54   | 27852.55   | 27163.15   | 26971.99   | 27348.29   | 28077.26   | 29062.07   | 34246.13   | ...        | 37475.87   | 36826.00   | 37285.78   | 38110.44   | 36981.81   | 35496.45   | 34642.81   | 33771.10   | 33922.59   | 32485.51   |\n",
       "| 2016-02-01 | 30323.74   | 28528.18   | 27243.18   | 26511.13   | 26199.54   | 26561.03   | 26644.35   | 27009.01   | 30831.90   | ...        | 34697.06   | 34002.74   | 33457.63   | 34897.48   | 34596.05   | 33538.44   | 32664.18   | 31927.94   | 32124.59   | 30873.86   |\n",
       "| ... | ... | ... | ... | ... | ... | ... | ... | ... | ... |     | ... | ... | ... | ... | ... | ... | ... | ... | ... | ... |\n",
       "| 2020-11-04 | 27931.36   | 26891.54   | 25998.67   | 25374.78   | 25145.69   | 25529.95   | 26497.51   | 27939.62   | 32244.73   | ...        | 35239.46   | 35526.07   | 36552.09   | 37959.05   | 38720.50   | 37718.10   | 36872.26   | 35834.28   | 34616.98   | 33151.95   |\n",
       "| 2020-11-05 | 31301.07   | 29875.22   | 28908.73   | 28211.00   | 28054.92   | 28199.32   | 29044.15   | 29957.26   | 33415.53   | ...        | 36868.67   | 36997.12   | 38021.90   | 39038.66   | 39314.53   | 38256.09   | 37282.36   | 36150.19   | 34793.99   | 33281.76   |\n",
       "| 2020-11-06 | 31278.36   | 29818.62   | 28784.91   | 28117.57   | 27905.46   | 28226.50   | 28966.82   | 29817.81   | 34004.19   | ...        | 37947.51   | 37981.78   | 38329.90   | 39271.36   | 39548.13   | 38494.77   | 37670.14   | 36398.73   | 35086.17   | 33533.38   |\n",
       "| 2020-11-07 | 31494.01   | 29936.75   | 28798.70   | 28274.43   | 28252.16   | 28349.84   | 29122.89   | 30291.01   | 33916.21   | ...        | 38465.18   | 38696.44   | 39111.30   | 40006.89   | 39891.23   | 38979.84   | 38004.31   | 36617.62   | 35449.89   | 34053.60   |\n",
       "| 2020-11-08 | 32009.92   | 30508.49   | 29373.18   | 28514.08   | 28223.05   | 28561.94   | 29420.99   | 30594.99   | 34438.66   | ...        | 37473.42   | 37614.03   | 38395.48   | 39456.23   | 39664.77   | 38607.92   | 37701.08   | 36612.05   | 35419.89   | 34157.70   |\n",
       "| 2020-11-09 | 32079.29   | 30494.62   | 29333.87   | 28368.57   | 28365.36   | 28379.15   | 29135.26   | 29387.25   | 32039.46   | ...        | 33853.06   | 34011.48   | 34934.08   | 36549.26   | 38006.32   | 37261.67   | 36431.01   | 35355.84   | 34199.98   | 32808.00   |\n",
       "| 2020-11-10 | 30770.20   | 29115.69   | 27826.88   | 27090.40   | 26889.26   | 26760.23   | 26929.14   | 26111.23   | 25452.79   | ...        | 27311.96   | 27914.76   | 29768.90   | 32450.62   | 34677.55   | 34506.00   | 33944.49   | 33195.26   | 32048.87   | 30885.94   |\n",
       "| 2020-11-11 | 29431.56   | 27820.58   | 26904.55   | 26411.68   | 26359.61   | 26635.71   | 27660.58   | 29448.99   | 33515.58   | ...        | 35004.57   | 35458.30   | 37024.05   | 38939.01   | 39482.19   | 38524.10   | 37725.28   | 36694.07   | 35314.45   | 33838.31   |\n",
       "| 2020-11-12 | 32039.71   | 30535.97   | 29518.98   | 28949.57   | 28570.41   | 28835.19   | 29687.03   | 31025.24   | 34276.35   | ...        | 35696.60   | 36271.37   | 37674.58   | 39588.11   | 39930.95   | 38616.60   | 38016.34   | 36887.68   | 35579.04   | 34176.40   |\n",
       "| 2020-11-13 | 32398.76   | 30830.06   | 29728.25   | 28881.86   | 28766.83   | 28953.33   | 29860.46   | 31165.52   | 34533.51   | ...        | 36053.33   | 36466.69   | 37882.03   | 39718.50   | 40308.02   | 39140.15   | 37626.29   | 37088.51   | 35748.63   | 34327.68   |\n",
       "| 2020-11-14 | 32363.50   | 30840.80   | 29759.03   | 28965.76   | 28714.25   | 29072.24   | 30046.23   | 31394.88   | 34571.78   | ...        | 35636.86   | 36040.27   | 37712.17   | 38810.08   | 40355.11   | 39277.38   | 38298.17   | 37188.86   | 35905.85   | 34497.57   |\n",
       "| 2020-11-15 | 32468.48   | 30834.32   | 29847.75   | 29145.47   | 28962.57   | 29296.21   | 30292.12   | 31490.94   | 34679.86   | ...        | 35534.50   | 36199.20   | 37660.00   | 39696.79   | 39992.94   | 38932.12   | 37994.92   | 36986.96   | 35724.27   | 34360.70   |\n",
       "| 2020-11-16 | 32450.53   | 30959.38   | 29924.72   | 29056.63   | 28771.48   | 29022.93   | 29557.49   | 30030.71   | 32698.70   | ...        | 35350.99   | 35556.45   | 36387.39   | 37810.27   | 38873.11   | 37981.81   | 37065.80   | 36019.15   | 34725.68   | 32784.78   |\n",
       "| 2020-11-17 | 31048.02   | 29392.24   | 28260.55   | 27501.22   | 27232.02   | 27252.27   | 27401.45   | 26907.92   | 26786.69   | ...        | 29082.54   | 29875.90   | 31267.82   | 33723.79   | 35534.51   | 35154.33   | 34511.12   | 33683.09   | 32732.91   | 31167.42   |\n",
       "| 2020-11-18 | 29921.97   | 27849.58   | 27332.25   | 26704.18   | 26573.26   | 27051.81   | 28037.82   | 29930.18   | 34172.00   | ...        | 36704.66   | 37351.02   | 38792.51   | 40417.23   | 40819.19   | 39720.59   | 38779.80   | 37567.66   | 36467.46   | 35142.84   |\n",
       "| 2020-11-19 | 33050.14   | 31434.38   | 30240.40   | 29579.22   | 29367.49   | 29740.95   | 30666.30   | 31968.39   | 35379.53   | ...        | 36604.82   | 37306.60   | 38712.18   | 40754.69   | 41334.00   | 40178.34   | 39142.62   | 38244.32   | 36771.07   | 35374.13   |\n",
       "| 2020-11-20 | 33367.10   | 31647.21   | 30472.93   | 29671.27   | 29514.25   | 29866.15   | 30633.98   | 32002.03   | 35510.91   | ...        | 37557.10   | 38551.32   | 39933.51   | 41551.26   | 41501.39   | 40227.27   | 39311.96   | 37649.06   | 36816.58   | 35620.10   |\n",
       "| 2020-11-21 | 33455.97   | 31805.17   | 30698.22   | 29846.76   | 29600.96   | 29899.31   | 30743.88   | 32074.70   | 35610.62   | ...        | 39412.98   | 39853.82   | 40918.91   | 42208.11   | 41673.45   | 40553.66   | 39499.32   | 38429.24   | 37270.44   | 35731.83   |\n",
       "| 2020-11-22 | 33651.81   | 31949.53   | 30832.30   | 29991.21   | 29795.53   | 29951.31   | 30758.76   | 32370.10   | 36386.47   | ...        | 40727.71   | 40550.85   | 40976.32   | 41854.37   | 41564.30   | 40221.79   | 38875.45   | 37749.83   | 36786.90   | 35102.41   |\n",
       "| 2020-11-23 | 33697.36   | 31916.72   | 30692.47   | 29828.03   | 29425.40   | 29748.05   | 30186.14   | 30564.89   | 32613.91   | ...        | 35312.45   | 35408.44   | 36581.59   | 38630.06   | 39379.15   | 38432.76   | 37293.60   | 36304.68   | 35250.20   | 33817.76   |\n",
       "| 2020-11-24 | 31685.68   | 30105.78   | 28703.45   | 28072.20   | 27651.60   | 27566.19   | 27737.26   | 27439.05   | 26905.24   | ...        | 29334.07   | 30301.50   | 32108.31   | 34919.68   | 36647.32   | 35999.47   | 35183.37   | 34230.51   | 33602.91   | 32178.03   |\n",
       "| 2020-11-25 | 30426.00   | 29097.77   | 28176.27   | 27599.20   | 27238.99   | 27754.59   | 28747.47   | 30989.04   | 35068.99   | ...        | 37089.41   | 37586.08   | 39435.91   | 41569.99   | 41710.94   | 40297.34   | 38951.67   | 37856.67   | 36983.95   | 35594.03   |\n",
       "| 2020-11-26 | 33520.81   | 31518.27   | 30513.78   | 29844.10   | 29650.85   | 29873.42   | 30934.51   | 32239.30   | 35946.87   | ...        | 37830.17   | 38656.92   | 40396.69   | 42486.34   | 42255.24   | 40895.17   | 39240.65   | 38366.41   | 37446.73   | 36186.83   |\n",
       "| 2020-11-27 | 33585.86   | 32175.55   | 31064.86   | 30213.43   | 29958.96   | 30234.26   | 31138.64   | 32838.39   | 36634.41   | ...        | 40148.58   | 40330.14   | 41279.40   | 42837.79   | 42412.80   | 41146.25   | 39591.41   | 38420.42   | 37519.53   | 36160.62   |\n",
       "| 2020-11-28 | 33902.71   | 32459.36   | 31023.35   | 30190.73   | 30055.35   | 30335.29   | 31201.79   | 32775.21   | 36882.21   | ...        | 39220.21   | 39460.82   | 40532.72   | 42347.17   | 42312.06   | 40834.67   | 39520.36   | 38511.88   | 37607.20   | 36156.08   |\n",
       "| 2020-11-29 | 33896.52   | 31841.72   | 30897.69   | 30191.20   | 29956.10   | 30199.97   | 31015.63   | 32518.79   | 36129.99   | ...        | 37205.46   | 37760.66   | 39543.01   | 41895.73   | 42003.77   | 40806.68   | 39426.67   | 38446.22   | 37356.91   | 36119.57   |\n",
       "| 2020-11-30 | 33935.56   | 31919.44   | 30439.27   | 30020.41   | 29825.63   | 29984.86   | 30444.97   | 31159.67   | 33325.74   | ...        | 35338.14   | 35645.57   | 36905.20   | 39131.92   | 40203.21   | 39037.18   | 38044.69   | 37128.89   | 36016.67   | 34500.14   |\n",
       "| 2020-12-01 | 32332.68   | 30410.13   | 29119.33   | 28484.61   | 28150.14   | 28065.44   | 28189.16   | 27883.71   | 27219.84   | ...        | 29682.72   | 30568.06   | 32342.53   | 35411.15   | 36984.04   | 36310.77   | 35383.08   | 34491.45   | 33698.14   | 32295.74   |\n",
       "| 2020-12-02 | 30828.40   | 29350.31   | 27689.33   | 27608.55   | 27566.71   | 27897.84   | 28873.20   | 31137.18   | 35801.80   | ...        | 40062.14   | 40599.60   | 41677.91   | 43043.60   | 42245.38   | 40750.73   | 39294.57   | 38212.74   | 37225.65   | 35775.04   |\n",
       "| 2020-12-03 | 33842.13   | 32013.00   | 30884.17   | 30082.68   | 29844.18   | 30100.53   | 30743.44   | 32279.80   | 36657.05   | ...        | 41812.33   | 41722.82   | 42341.25   | 43320.35   | 42292.06   | 40720.16   | 39195.74   | 38310.79   | 37173.97   | 35725.46   |\n",
       "\n"
      ],
      "text/plain": [
       "     date       Lag_day2_hour_0 Lag_day2_hour_1 Lag_day2_hour_2 Lag_day2_hour_3\n",
       "1    2016-01-03 26277.24        24991.82        23532.61        22464.78       \n",
       "2    2016-01-04 26224.60        24708.58        23771.58        22921.29       \n",
       "3    2016-01-05 27613.96        25779.28        24566.31        23878.42       \n",
       "4    2016-01-06 27103.09        25439.84        24395.07        23961.03       \n",
       "5    2016-01-07 29244.38        27637.23        26335.78        25870.23       \n",
       "6    2016-01-08 29189.27        27614.02        26578.97        25719.19       \n",
       "7    2016-01-09 28763.95        27284.84        26321.95        25748.49       \n",
       "8    2016-01-10 28602.02        27112.37        25975.34        25315.55       \n",
       "9    2016-01-11 29906.93        28061.98        26808.78        25798.80       \n",
       "10   2016-01-12 28890.37        27133.75        25656.13        24937.87       \n",
       "11   2016-01-13 27130.75        25403.40        24452.96        23959.85       \n",
       "12   2016-01-14 29161.64        27519.24        26256.43        25766.11       \n",
       "13   2016-01-15 28823.02        27321.69        26265.24        25879.07       \n",
       "14   2016-01-16 29225.99        27650.42        26656.23        26235.10       \n",
       "15   2016-01-17 29667.03        27961.70        26760.14        26351.43       \n",
       "16   2016-01-18 29790.90        28108.68        26867.16        26241.31       \n",
       "17   2016-01-19 28125.56        26344.08        25233.20        24526.40       \n",
       "18   2016-01-20 26425.24        25112.59        24197.23        23839.79       \n",
       "19   2016-01-21 29648.05        28023.28        26957.35        26389.70       \n",
       "20   2016-01-22 30139.50        28410.88        27406.34        26722.59       \n",
       "21   2016-01-23 30396.19        28597.47        27458.63        26728.84       \n",
       "22   2016-01-24 30389.96        28517.31        27397.27        26696.24       \n",
       "23   2016-01-25 30215.90        28509.74        27311.13        26492.04       \n",
       "24   2016-01-26 29349.49        27479.98        26088.26        25306.03       \n",
       "25   2016-01-27 28167.47        26516.66        25339.39        24773.74       \n",
       "26   2016-01-28 30881.56        28955.47        27835.79        27148.96       \n",
       "27   2016-01-29 30851.33        29091.24        27798.40        27168.26       \n",
       "28   2016-01-30 31143.68        29167.57        28046.68        27405.39       \n",
       "29   2016-01-31 30705.61        29000.54        27852.55        27163.15       \n",
       "30   2016-02-01 30323.74        28528.18        27243.18        26511.13       \n",
       "...  ...        ...             ...             ...             ...            \n",
       "1768 2020-11-04 27931.36        26891.54        25998.67        25374.78       \n",
       "1769 2020-11-05 31301.07        29875.22        28908.73        28211.00       \n",
       "1770 2020-11-06 31278.36        29818.62        28784.91        28117.57       \n",
       "1771 2020-11-07 31494.01        29936.75        28798.70        28274.43       \n",
       "1772 2020-11-08 32009.92        30508.49        29373.18        28514.08       \n",
       "1773 2020-11-09 32079.29        30494.62        29333.87        28368.57       \n",
       "1774 2020-11-10 30770.20        29115.69        27826.88        27090.40       \n",
       "1775 2020-11-11 29431.56        27820.58        26904.55        26411.68       \n",
       "1776 2020-11-12 32039.71        30535.97        29518.98        28949.57       \n",
       "1777 2020-11-13 32398.76        30830.06        29728.25        28881.86       \n",
       "1778 2020-11-14 32363.50        30840.80        29759.03        28965.76       \n",
       "1779 2020-11-15 32468.48        30834.32        29847.75        29145.47       \n",
       "1780 2020-11-16 32450.53        30959.38        29924.72        29056.63       \n",
       "1781 2020-11-17 31048.02        29392.24        28260.55        27501.22       \n",
       "1782 2020-11-18 29921.97        27849.58        27332.25        26704.18       \n",
       "1783 2020-11-19 33050.14        31434.38        30240.40        29579.22       \n",
       "1784 2020-11-20 33367.10        31647.21        30472.93        29671.27       \n",
       "1785 2020-11-21 33455.97        31805.17        30698.22        29846.76       \n",
       "1786 2020-11-22 33651.81        31949.53        30832.30        29991.21       \n",
       "1787 2020-11-23 33697.36        31916.72        30692.47        29828.03       \n",
       "1788 2020-11-24 31685.68        30105.78        28703.45        28072.20       \n",
       "1789 2020-11-25 30426.00        29097.77        28176.27        27599.20       \n",
       "1790 2020-11-26 33520.81        31518.27        30513.78        29844.10       \n",
       "1791 2020-11-27 33585.86        32175.55        31064.86        30213.43       \n",
       "1792 2020-11-28 33902.71        32459.36        31023.35        30190.73       \n",
       "1793 2020-11-29 33896.52        31841.72        30897.69        30191.20       \n",
       "1794 2020-11-30 33935.56        31919.44        30439.27        30020.41       \n",
       "1795 2020-12-01 32332.68        30410.13        29119.33        28484.61       \n",
       "1796 2020-12-02 30828.40        29350.31        27689.33        27608.55       \n",
       "1797 2020-12-03 33842.13        32013.00        30884.17        30082.68       \n",
       "     Lag_day2_hour_4 Lag_day2_hour_5 Lag_day2_hour_6 Lag_day2_hour_7\n",
       "1    22002.91        21957.08        22203.54        21844.16       \n",
       "2    22870.89        23325.63        23604.98        24022.70       \n",
       "3    23511.38        23672.32        23827.08        23405.11       \n",
       "4    23860.63        24418.47        25708.59        27455.39       \n",
       "5    25975.07        26318.48        27109.29        28570.22       \n",
       "6    25864.63        25918.59        27091.94        28533.05       \n",
       "7    25636.58        25932.52        26963.74        28444.83       \n",
       "8    25128.15        25356.22        26338.72        28086.42       \n",
       "9    25820.46        26035.77        26451.24        26853.42       \n",
       "10   24538.16        24616.05        24478.14        23813.35       \n",
       "11   23839.28        24358.46        25800.81        27336.03       \n",
       "12   25808.92        26222.03        27290.07        28628.67       \n",
       "13   25685.09        26018.14        27012.72        28420.19       \n",
       "14   26136.04        26689.30        27652.89        29176.95       \n",
       "15   26190.00        26646.35        27845.52        29266.49       \n",
       "16   25928.60        26137.31        26617.72        27115.23       \n",
       "17   24131.34        24277.13        24149.15        23448.70       \n",
       "18   23756.17        24217.87        25384.09        27192.81       \n",
       "19   26152.72        26578.69        27561.29        29127.56       \n",
       "20   26551.26        27065.87        28039.32        29469.19       \n",
       "21   26819.66        27295.21        28233.77        29534.69       \n",
       "22   26636.34        27118.79        28127.63        29345.05       \n",
       "23   26476.82        26720.30        27058.22        27679.17       \n",
       "24   24973.17        25001.94        24899.46        24158.93       \n",
       "25   24711.58        25145.67        26151.07        27508.65       \n",
       "26   27041.24        27397.01        28184.65        29740.52       \n",
       "27   27068.64        27445.32        28126.89        29262.17       \n",
       "28   27173.93        27536.99        28220.87        29395.45       \n",
       "29   26971.99        27348.29        28077.26        29062.07       \n",
       "30   26199.54        26561.03        26644.35        27009.01       \n",
       "...  ...             ...             ...             ...            \n",
       "1768 25145.69        25529.95        26497.51        27939.62       \n",
       "1769 28054.92        28199.32        29044.15        29957.26       \n",
       "1770 27905.46        28226.50        28966.82        29817.81       \n",
       "1771 28252.16        28349.84        29122.89        30291.01       \n",
       "1772 28223.05        28561.94        29420.99        30594.99       \n",
       "1773 28365.36        28379.15        29135.26        29387.25       \n",
       "1774 26889.26        26760.23        26929.14        26111.23       \n",
       "1775 26359.61        26635.71        27660.58        29448.99       \n",
       "1776 28570.41        28835.19        29687.03        31025.24       \n",
       "1777 28766.83        28953.33        29860.46        31165.52       \n",
       "1778 28714.25        29072.24        30046.23        31394.88       \n",
       "1779 28962.57        29296.21        30292.12        31490.94       \n",
       "1780 28771.48        29022.93        29557.49        30030.71       \n",
       "1781 27232.02        27252.27        27401.45        26907.92       \n",
       "1782 26573.26        27051.81        28037.82        29930.18       \n",
       "1783 29367.49        29740.95        30666.30        31968.39       \n",
       "1784 29514.25        29866.15        30633.98        32002.03       \n",
       "1785 29600.96        29899.31        30743.88        32074.70       \n",
       "1786 29795.53        29951.31        30758.76        32370.10       \n",
       "1787 29425.40        29748.05        30186.14        30564.89       \n",
       "1788 27651.60        27566.19        27737.26        27439.05       \n",
       "1789 27238.99        27754.59        28747.47        30989.04       \n",
       "1790 29650.85        29873.42        30934.51        32239.30       \n",
       "1791 29958.96        30234.26        31138.64        32838.39       \n",
       "1792 30055.35        30335.29        31201.79        32775.21       \n",
       "1793 29956.10        30199.97        31015.63        32518.79       \n",
       "1794 29825.63        29984.86        30444.97        31159.67       \n",
       "1795 28150.14        28065.44        28189.16        27883.71       \n",
       "1796 27566.71        27897.84        28873.20        31137.18       \n",
       "1797 29844.18        30100.53        30743.44        32279.80       \n",
       "     Lag_day2_hour_8 ... Lag_day2_hour_14 Lag_day2_hour_15 Lag_day2_hour_16\n",
       "1    23094.73        ... 29548.32         29390.89         30734.97        \n",
       "2    26930.48        ... 32796.18         32594.55         33358.47        \n",
       "3    24638.72        ... 31056.47         30979.53         32297.46        \n",
       "4    32982.07        ... 39661.98         39211.00         39760.12        \n",
       "5    33106.00        ... 38086.11         37834.89         38599.34        \n",
       "6    33203.34        ... 36847.22         36433.88         37581.09        \n",
       "7    32804.27        ... 37376.83         37100.43         37668.65        \n",
       "8    32702.24        ... 36555.58         36190.41         37031.72        \n",
       "9    30627.32        ... 33524.80         32951.39         33655.89        \n",
       "10   24676.92        ... 29089.83         29447.75         30569.07        \n",
       "11   32683.24        ... 36383.06         36013.19         36848.54        \n",
       "12   32817.04        ... 34934.00         34785.11         35690.28        \n",
       "13   32572.38        ... 36201.35         36012.25         36785.82        \n",
       "14   33352.18        ... 36279.45         35936.67         36827.63        \n",
       "15   33637.71        ... 35717.39         35343.51         36473.19        \n",
       "16   30856.87        ... 33592.64         33087.78         33693.47        \n",
       "17   24484.28        ... 29060.19         28859.44         29986.06        \n",
       "18   32775.65        ... 38264.20         37831.23         38590.57        \n",
       "19   34277.14        ... 38431.48         37914.67         38254.38        \n",
       "20   34531.37        ... 39016.83         38583.86         39061.14        \n",
       "21   34553.08        ... 38991.04         38424.45         38816.10        \n",
       "22   34622.14        ... 38467.93         38201.49         38866.07        \n",
       "23   31739.43        ... 36555.00         35898.79         35913.32        \n",
       "24   25160.11        ... 31103.80         30750.50         31481.16        \n",
       "25   33542.39        ... 40025.60         39686.93         39815.53        \n",
       "26   34727.66        ... 40809.82         40425.55         40706.38        \n",
       "27   34507.12        ... 39313.51         38772.92         39181.11        \n",
       "28   34668.60        ... 39536.37         38936.48         39101.10        \n",
       "29   34246.13        ... 37475.87         36826.00         37285.78        \n",
       "30   30831.90        ... 34697.06         34002.74         33457.63        \n",
       "...  ...                 ...              ...              ...             \n",
       "1768 32244.73        ... 35239.46         35526.07         36552.09        \n",
       "1769 33415.53        ... 36868.67         36997.12         38021.90        \n",
       "1770 34004.19        ... 37947.51         37981.78         38329.90        \n",
       "1771 33916.21        ... 38465.18         38696.44         39111.30        \n",
       "1772 34438.66        ... 37473.42         37614.03         38395.48        \n",
       "1773 32039.46        ... 33853.06         34011.48         34934.08        \n",
       "1774 25452.79        ... 27311.96         27914.76         29768.90        \n",
       "1775 33515.58        ... 35004.57         35458.30         37024.05        \n",
       "1776 34276.35        ... 35696.60         36271.37         37674.58        \n",
       "1777 34533.51        ... 36053.33         36466.69         37882.03        \n",
       "1778 34571.78        ... 35636.86         36040.27         37712.17        \n",
       "1779 34679.86        ... 35534.50         36199.20         37660.00        \n",
       "1780 32698.70        ... 35350.99         35556.45         36387.39        \n",
       "1781 26786.69        ... 29082.54         29875.90         31267.82        \n",
       "1782 34172.00        ... 36704.66         37351.02         38792.51        \n",
       "1783 35379.53        ... 36604.82         37306.60         38712.18        \n",
       "1784 35510.91        ... 37557.10         38551.32         39933.51        \n",
       "1785 35610.62        ... 39412.98         39853.82         40918.91        \n",
       "1786 36386.47        ... 40727.71         40550.85         40976.32        \n",
       "1787 32613.91        ... 35312.45         35408.44         36581.59        \n",
       "1788 26905.24        ... 29334.07         30301.50         32108.31        \n",
       "1789 35068.99        ... 37089.41         37586.08         39435.91        \n",
       "1790 35946.87        ... 37830.17         38656.92         40396.69        \n",
       "1791 36634.41        ... 40148.58         40330.14         41279.40        \n",
       "1792 36882.21        ... 39220.21         39460.82         40532.72        \n",
       "1793 36129.99        ... 37205.46         37760.66         39543.01        \n",
       "1794 33325.74        ... 35338.14         35645.57         36905.20        \n",
       "1795 27219.84        ... 29682.72         30568.06         32342.53        \n",
       "1796 35801.80        ... 40062.14         40599.60         41677.91        \n",
       "1797 36657.05        ... 41812.33         41722.82         42341.25        \n",
       "     Lag_day2_hour_17 Lag_day2_hour_18 Lag_day2_hour_19 Lag_day2_hour_20\n",
       "1    32048.02         31438.11         30728.47         30166.14        \n",
       "2    34387.95         33591.26         32648.83         31897.73        \n",
       "3    33462.96         33151.03         32450.21         32093.93        \n",
       "4    39633.29         37621.41         35954.18         35114.12        \n",
       "5    38669.63         36954.78         35306.11         34301.59        \n",
       "6    37304.52         35832.00         34499.94         33670.00        \n",
       "7    37906.99         35841.62         34621.65         33784.72        \n",
       "8    37773.70         35930.69         34710.46         33907.65        \n",
       "9    35045.14         34407.27         33494.32         32624.31        \n",
       "10   32006.15         31706.26         31305.87         30870.26        \n",
       "11   37368.40         35697.30         34482.37         33526.95        \n",
       "12   36566.50         35055.97         33912.94         33131.98        \n",
       "13   37173.82         35574.06         34298.68         33580.53        \n",
       "14   37481.89         36195.39         34914.82         34091.81        \n",
       "15   37425.77         36019.98         34574.97         33756.40        \n",
       "16   34599.67         33773.40         32770.63         32167.64        \n",
       "17   31083.39         31046.20         30619.87         30216.41        \n",
       "18   38930.54         37080.02         35590.81         34669.59        \n",
       "19   39006.28         37419.61         35893.88         35024.97        \n",
       "20   39678.86         37842.79         36242.08         35265.50        \n",
       "21   39201.65         37540.47         36208.77         35321.99        \n",
       "22   39255.53         37130.41         35315.89         34779.35        \n",
       "23   36651.18         35931.07         34781.15         33951.80        \n",
       "24   32712.77         32774.93         32341.26         31820.10        \n",
       "25   40446.48         38716.68         36907.14         35987.80        \n",
       "26   40871.83         38346.97         37053.91         36025.46        \n",
       "27   39959.57         38519.91         36987.53         36007.95        \n",
       "28   39566.36         38081.88         36504.46         35585.73        \n",
       "29   38110.44         36981.81         35496.45         34642.81        \n",
       "30   34897.48         34596.05         33538.44         32664.18        \n",
       "...  ...              ...              ...              ...             \n",
       "1768 37959.05         38720.50         37718.10         36872.26        \n",
       "1769 39038.66         39314.53         38256.09         37282.36        \n",
       "1770 39271.36         39548.13         38494.77         37670.14        \n",
       "1771 40006.89         39891.23         38979.84         38004.31        \n",
       "1772 39456.23         39664.77         38607.92         37701.08        \n",
       "1773 36549.26         38006.32         37261.67         36431.01        \n",
       "1774 32450.62         34677.55         34506.00         33944.49        \n",
       "1775 38939.01         39482.19         38524.10         37725.28        \n",
       "1776 39588.11         39930.95         38616.60         38016.34        \n",
       "1777 39718.50         40308.02         39140.15         37626.29        \n",
       "1778 38810.08         40355.11         39277.38         38298.17        \n",
       "1779 39696.79         39992.94         38932.12         37994.92        \n",
       "1780 37810.27         38873.11         37981.81         37065.80        \n",
       "1781 33723.79         35534.51         35154.33         34511.12        \n",
       "1782 40417.23         40819.19         39720.59         38779.80        \n",
       "1783 40754.69         41334.00         40178.34         39142.62        \n",
       "1784 41551.26         41501.39         40227.27         39311.96        \n",
       "1785 42208.11         41673.45         40553.66         39499.32        \n",
       "1786 41854.37         41564.30         40221.79         38875.45        \n",
       "1787 38630.06         39379.15         38432.76         37293.60        \n",
       "1788 34919.68         36647.32         35999.47         35183.37        \n",
       "1789 41569.99         41710.94         40297.34         38951.67        \n",
       "1790 42486.34         42255.24         40895.17         39240.65        \n",
       "1791 42837.79         42412.80         41146.25         39591.41        \n",
       "1792 42347.17         42312.06         40834.67         39520.36        \n",
       "1793 41895.73         42003.77         40806.68         39426.67        \n",
       "1794 39131.92         40203.21         39037.18         38044.69        \n",
       "1795 35411.15         36984.04         36310.77         35383.08        \n",
       "1796 43043.60         42245.38         40750.73         39294.57        \n",
       "1797 43320.35         42292.06         40720.16         39195.74        \n",
       "     Lag_day2_hour_21 Lag_day2_hour_22 Lag_day2_hour_23\n",
       "1    29461.28         29242.83         28069.09        \n",
       "2    31049.20         30906.43         29621.09        \n",
       "3    31315.16         31014.19         29462.06        \n",
       "4    34066.40         33686.83         31733.54        \n",
       "5    33400.82         33359.37         31629.97        \n",
       "6    32931.12         32913.06         31450.65        \n",
       "7    32638.14         32739.98         31092.87        \n",
       "8    33048.69         33220.16         32021.60        \n",
       "9    32097.79         32176.63         30760.17        \n",
       "10   30462.79         30537.75         28857.66        \n",
       "11   32634.16         32791.35         31147.83        \n",
       "12   32332.76         32523.14         30906.87        \n",
       "13   32554.09         32836.52         31307.88        \n",
       "14   33323.90         33345.01         31938.60        \n",
       "15   33140.33         33272.46         31803.26        \n",
       "16   31414.53         31666.20         30292.67        \n",
       "17   29589.83         29593.28         28448.52        \n",
       "18   33765.00         33590.16         32035.19        \n",
       "19   34132.03         34201.22         32449.57        \n",
       "20   34442.99         34423.91         32661.51        \n",
       "21   34453.40         34506.70         32959.37        \n",
       "22   33927.07         34209.59         32617.78        \n",
       "23   33131.48         33030.06         31630.82        \n",
       "24   31160.32         31284.85         30005.39        \n",
       "25   34823.23         34860.72         33253.80        \n",
       "26   34954.00         35129.39         33279.95        \n",
       "27   34975.54         34932.33         33455.88        \n",
       "28   34747.11         34799.91         33343.43        \n",
       "29   33771.10         33922.59         32485.51        \n",
       "30   31927.94         32124.59         30873.86        \n",
       "...  ...              ...              ...             \n",
       "1768 35834.28         34616.98         33151.95        \n",
       "1769 36150.19         34793.99         33281.76        \n",
       "1770 36398.73         35086.17         33533.38        \n",
       "1771 36617.62         35449.89         34053.60        \n",
       "1772 36612.05         35419.89         34157.70        \n",
       "1773 35355.84         34199.98         32808.00        \n",
       "1774 33195.26         32048.87         30885.94        \n",
       "1775 36694.07         35314.45         33838.31        \n",
       "1776 36887.68         35579.04         34176.40        \n",
       "1777 37088.51         35748.63         34327.68        \n",
       "1778 37188.86         35905.85         34497.57        \n",
       "1779 36986.96         35724.27         34360.70        \n",
       "1780 36019.15         34725.68         32784.78        \n",
       "1781 33683.09         32732.91         31167.42        \n",
       "1782 37567.66         36467.46         35142.84        \n",
       "1783 38244.32         36771.07         35374.13        \n",
       "1784 37649.06         36816.58         35620.10        \n",
       "1785 38429.24         37270.44         35731.83        \n",
       "1786 37749.83         36786.90         35102.41        \n",
       "1787 36304.68         35250.20         33817.76        \n",
       "1788 34230.51         33602.91         32178.03        \n",
       "1789 37856.67         36983.95         35594.03        \n",
       "1790 38366.41         37446.73         36186.83        \n",
       "1791 38420.42         37519.53         36160.62        \n",
       "1792 38511.88         37607.20         36156.08        \n",
       "1793 38446.22         37356.91         36119.57        \n",
       "1794 37128.89         36016.67         34500.14        \n",
       "1795 34491.45         33698.14         32295.74        \n",
       "1796 38212.74         37225.65         35775.04        \n",
       "1797 38310.79         37173.97         35725.46        "
      ]
     },
     "metadata": {},
     "output_type": "display_data"
    }
   ],
   "source": [
    "data_wide <- spread(cont, hour, consumption)\n",
    "lag_2=copy(data_wide[,date:=date+2])\n",
    "col_name(lag_2,\"Lag_day2_hour_\")\n",
    "lag_2"
   ]
  },
  {
   "cell_type": "code",
   "execution_count": 135,
   "metadata": {},
   "outputs": [
    {
     "data": {
      "text/html": [
       "<table>\n",
       "<thead><tr><th scope=col>date</th><th scope=col>Lag_day7_hour_0</th><th scope=col>Lag_day7_hour_1</th><th scope=col>Lag_day7_hour_2</th><th scope=col>Lag_day7_hour_3</th><th scope=col>Lag_day7_hour_4</th><th scope=col>Lag_day7_hour_5</th><th scope=col>Lag_day7_hour_6</th><th scope=col>Lag_day7_hour_7</th><th scope=col>Lag_day7_hour_8</th><th scope=col>...</th><th scope=col>Lag_day7_hour_14</th><th scope=col>Lag_day7_hour_15</th><th scope=col>Lag_day7_hour_16</th><th scope=col>Lag_day7_hour_17</th><th scope=col>Lag_day7_hour_18</th><th scope=col>Lag_day7_hour_19</th><th scope=col>Lag_day7_hour_20</th><th scope=col>Lag_day7_hour_21</th><th scope=col>Lag_day7_hour_22</th><th scope=col>Lag_day7_hour_23</th></tr></thead>\n",
       "<tbody>\n",
       "\t<tr><td>2016-01-08</td><td>26277.24  </td><td>24991.82  </td><td>23532.61  </td><td>22464.78  </td><td>22002.91  </td><td>21957.08  </td><td>22203.54  </td><td>21844.16  </td><td>23094.73  </td><td>...       </td><td>29548.32  </td><td>29390.89  </td><td>30734.97  </td><td>32048.02  </td><td>31438.11  </td><td>30728.47  </td><td>30166.14  </td><td>29461.28  </td><td>29242.83  </td><td>28069.09  </td></tr>\n",
       "\t<tr><td>2016-01-09</td><td>26224.60  </td><td>24708.58  </td><td>23771.58  </td><td>22921.29  </td><td>22870.89  </td><td>23325.63  </td><td>23604.98  </td><td>24022.70  </td><td>26930.48  </td><td>...       </td><td>32796.18  </td><td>32594.55  </td><td>33358.47  </td><td>34387.95  </td><td>33591.26  </td><td>32648.83  </td><td>31897.73  </td><td>31049.20  </td><td>30906.43  </td><td>29621.09  </td></tr>\n",
       "\t<tr><td>2016-01-10</td><td>27613.96  </td><td>25779.28  </td><td>24566.31  </td><td>23878.42  </td><td>23511.38  </td><td>23672.32  </td><td>23827.08  </td><td>23405.11  </td><td>24638.72  </td><td>...       </td><td>31056.47  </td><td>30979.53  </td><td>32297.46  </td><td>33462.96  </td><td>33151.03  </td><td>32450.21  </td><td>32093.93  </td><td>31315.16  </td><td>31014.19  </td><td>29462.06  </td></tr>\n",
       "\t<tr><td>2016-01-11</td><td>27103.09  </td><td>25439.84  </td><td>24395.07  </td><td>23961.03  </td><td>23860.63  </td><td>24418.47  </td><td>25708.59  </td><td>27455.39  </td><td>32982.07  </td><td>...       </td><td>39661.98  </td><td>39211.00  </td><td>39760.12  </td><td>39633.29  </td><td>37621.41  </td><td>35954.18  </td><td>35114.12  </td><td>34066.40  </td><td>33686.83  </td><td>31733.54  </td></tr>\n",
       "\t<tr><td>2016-01-12</td><td>29244.38  </td><td>27637.23  </td><td>26335.78  </td><td>25870.23  </td><td>25975.07  </td><td>26318.48  </td><td>27109.29  </td><td>28570.22  </td><td>33106.00  </td><td>...       </td><td>38086.11  </td><td>37834.89  </td><td>38599.34  </td><td>38669.63  </td><td>36954.78  </td><td>35306.11  </td><td>34301.59  </td><td>33400.82  </td><td>33359.37  </td><td>31629.97  </td></tr>\n",
       "\t<tr><td>2016-01-13</td><td>29189.27  </td><td>27614.02  </td><td>26578.97  </td><td>25719.19  </td><td>25864.63  </td><td>25918.59  </td><td>27091.94  </td><td>28533.05  </td><td>33203.34  </td><td>...       </td><td>36847.22  </td><td>36433.88  </td><td>37581.09  </td><td>37304.52  </td><td>35832.00  </td><td>34499.94  </td><td>33670.00  </td><td>32931.12  </td><td>32913.06  </td><td>31450.65  </td></tr>\n",
       "\t<tr><td>2016-01-14</td><td>28763.95  </td><td>27284.84  </td><td>26321.95  </td><td>25748.49  </td><td>25636.58  </td><td>25932.52  </td><td>26963.74  </td><td>28444.83  </td><td>32804.27  </td><td>...       </td><td>37376.83  </td><td>37100.43  </td><td>37668.65  </td><td>37906.99  </td><td>35841.62  </td><td>34621.65  </td><td>33784.72  </td><td>32638.14  </td><td>32739.98  </td><td>31092.87  </td></tr>\n",
       "\t<tr><td>2016-01-15</td><td>28602.02  </td><td>27112.37  </td><td>25975.34  </td><td>25315.55  </td><td>25128.15  </td><td>25356.22  </td><td>26338.72  </td><td>28086.42  </td><td>32702.24  </td><td>...       </td><td>36555.58  </td><td>36190.41  </td><td>37031.72  </td><td>37773.70  </td><td>35930.69  </td><td>34710.46  </td><td>33907.65  </td><td>33048.69  </td><td>33220.16  </td><td>32021.60  </td></tr>\n",
       "\t<tr><td>2016-01-16</td><td>29906.93  </td><td>28061.98  </td><td>26808.78  </td><td>25798.80  </td><td>25820.46  </td><td>26035.77  </td><td>26451.24  </td><td>26853.42  </td><td>30627.32  </td><td>...       </td><td>33524.80  </td><td>32951.39  </td><td>33655.89  </td><td>35045.14  </td><td>34407.27  </td><td>33494.32  </td><td>32624.31  </td><td>32097.79  </td><td>32176.63  </td><td>30760.17  </td></tr>\n",
       "\t<tr><td>2016-01-17</td><td>28890.37  </td><td>27133.75  </td><td>25656.13  </td><td>24937.87  </td><td>24538.16  </td><td>24616.05  </td><td>24478.14  </td><td>23813.35  </td><td>24676.92  </td><td>...       </td><td>29089.83  </td><td>29447.75  </td><td>30569.07  </td><td>32006.15  </td><td>31706.26  </td><td>31305.87  </td><td>30870.26  </td><td>30462.79  </td><td>30537.75  </td><td>28857.66  </td></tr>\n",
       "\t<tr><td>2016-01-18</td><td>27130.75  </td><td>25403.40  </td><td>24452.96  </td><td>23959.85  </td><td>23839.28  </td><td>24358.46  </td><td>25800.81  </td><td>27336.03  </td><td>32683.24  </td><td>...       </td><td>36383.06  </td><td>36013.19  </td><td>36848.54  </td><td>37368.40  </td><td>35697.30  </td><td>34482.37  </td><td>33526.95  </td><td>32634.16  </td><td>32791.35  </td><td>31147.83  </td></tr>\n",
       "\t<tr><td>2016-01-19</td><td>29161.64  </td><td>27519.24  </td><td>26256.43  </td><td>25766.11  </td><td>25808.92  </td><td>26222.03  </td><td>27290.07  </td><td>28628.67  </td><td>32817.04  </td><td>...       </td><td>34934.00  </td><td>34785.11  </td><td>35690.28  </td><td>36566.50  </td><td>35055.97  </td><td>33912.94  </td><td>33131.98  </td><td>32332.76  </td><td>32523.14  </td><td>30906.87  </td></tr>\n",
       "\t<tr><td>2016-01-20</td><td>28823.02  </td><td>27321.69  </td><td>26265.24  </td><td>25879.07  </td><td>25685.09  </td><td>26018.14  </td><td>27012.72  </td><td>28420.19  </td><td>32572.38  </td><td>...       </td><td>36201.35  </td><td>36012.25  </td><td>36785.82  </td><td>37173.82  </td><td>35574.06  </td><td>34298.68  </td><td>33580.53  </td><td>32554.09  </td><td>32836.52  </td><td>31307.88  </td></tr>\n",
       "\t<tr><td>2016-01-21</td><td>29225.99  </td><td>27650.42  </td><td>26656.23  </td><td>26235.10  </td><td>26136.04  </td><td>26689.30  </td><td>27652.89  </td><td>29176.95  </td><td>33352.18  </td><td>...       </td><td>36279.45  </td><td>35936.67  </td><td>36827.63  </td><td>37481.89  </td><td>36195.39  </td><td>34914.82  </td><td>34091.81  </td><td>33323.90  </td><td>33345.01  </td><td>31938.60  </td></tr>\n",
       "\t<tr><td>2016-01-22</td><td>29667.03  </td><td>27961.70  </td><td>26760.14  </td><td>26351.43  </td><td>26190.00  </td><td>26646.35  </td><td>27845.52  </td><td>29266.49  </td><td>33637.71  </td><td>...       </td><td>35717.39  </td><td>35343.51  </td><td>36473.19  </td><td>37425.77  </td><td>36019.98  </td><td>34574.97  </td><td>33756.40  </td><td>33140.33  </td><td>33272.46  </td><td>31803.26  </td></tr>\n",
       "\t<tr><td>2016-01-23</td><td>29790.90  </td><td>28108.68  </td><td>26867.16  </td><td>26241.31  </td><td>25928.60  </td><td>26137.31  </td><td>26617.72  </td><td>27115.23  </td><td>30856.87  </td><td>...       </td><td>33592.64  </td><td>33087.78  </td><td>33693.47  </td><td>34599.67  </td><td>33773.40  </td><td>32770.63  </td><td>32167.64  </td><td>31414.53  </td><td>31666.20  </td><td>30292.67  </td></tr>\n",
       "\t<tr><td>2016-01-24</td><td>28125.56  </td><td>26344.08  </td><td>25233.20  </td><td>24526.40  </td><td>24131.34  </td><td>24277.13  </td><td>24149.15  </td><td>23448.70  </td><td>24484.28  </td><td>...       </td><td>29060.19  </td><td>28859.44  </td><td>29986.06  </td><td>31083.39  </td><td>31046.20  </td><td>30619.87  </td><td>30216.41  </td><td>29589.83  </td><td>29593.28  </td><td>28448.52  </td></tr>\n",
       "\t<tr><td>2016-01-25</td><td>26425.24  </td><td>25112.59  </td><td>24197.23  </td><td>23839.79  </td><td>23756.17  </td><td>24217.87  </td><td>25384.09  </td><td>27192.81  </td><td>32775.65  </td><td>...       </td><td>38264.20  </td><td>37831.23  </td><td>38590.57  </td><td>38930.54  </td><td>37080.02  </td><td>35590.81  </td><td>34669.59  </td><td>33765.00  </td><td>33590.16  </td><td>32035.19  </td></tr>\n",
       "\t<tr><td>2016-01-26</td><td>29648.05  </td><td>28023.28  </td><td>26957.35  </td><td>26389.70  </td><td>26152.72  </td><td>26578.69  </td><td>27561.29  </td><td>29127.56  </td><td>34277.14  </td><td>...       </td><td>38431.48  </td><td>37914.67  </td><td>38254.38  </td><td>39006.28  </td><td>37419.61  </td><td>35893.88  </td><td>35024.97  </td><td>34132.03  </td><td>34201.22  </td><td>32449.57  </td></tr>\n",
       "\t<tr><td>2016-01-27</td><td>30139.50  </td><td>28410.88  </td><td>27406.34  </td><td>26722.59  </td><td>26551.26  </td><td>27065.87  </td><td>28039.32  </td><td>29469.19  </td><td>34531.37  </td><td>...       </td><td>39016.83  </td><td>38583.86  </td><td>39061.14  </td><td>39678.86  </td><td>37842.79  </td><td>36242.08  </td><td>35265.50  </td><td>34442.99  </td><td>34423.91  </td><td>32661.51  </td></tr>\n",
       "\t<tr><td>2016-01-28</td><td>30396.19  </td><td>28597.47  </td><td>27458.63  </td><td>26728.84  </td><td>26819.66  </td><td>27295.21  </td><td>28233.77  </td><td>29534.69  </td><td>34553.08  </td><td>...       </td><td>38991.04  </td><td>38424.45  </td><td>38816.10  </td><td>39201.65  </td><td>37540.47  </td><td>36208.77  </td><td>35321.99  </td><td>34453.40  </td><td>34506.70  </td><td>32959.37  </td></tr>\n",
       "\t<tr><td>2016-01-29</td><td>30389.96  </td><td>28517.31  </td><td>27397.27  </td><td>26696.24  </td><td>26636.34  </td><td>27118.79  </td><td>28127.63  </td><td>29345.05  </td><td>34622.14  </td><td>...       </td><td>38467.93  </td><td>38201.49  </td><td>38866.07  </td><td>39255.53  </td><td>37130.41  </td><td>35315.89  </td><td>34779.35  </td><td>33927.07  </td><td>34209.59  </td><td>32617.78  </td></tr>\n",
       "\t<tr><td>2016-01-30</td><td>30215.90  </td><td>28509.74  </td><td>27311.13  </td><td>26492.04  </td><td>26476.82  </td><td>26720.30  </td><td>27058.22  </td><td>27679.17  </td><td>31739.43  </td><td>...       </td><td>36555.00  </td><td>35898.79  </td><td>35913.32  </td><td>36651.18  </td><td>35931.07  </td><td>34781.15  </td><td>33951.80  </td><td>33131.48  </td><td>33030.06  </td><td>31630.82  </td></tr>\n",
       "\t<tr><td>2016-01-31</td><td>29349.49  </td><td>27479.98  </td><td>26088.26  </td><td>25306.03  </td><td>24973.17  </td><td>25001.94  </td><td>24899.46  </td><td>24158.93  </td><td>25160.11  </td><td>...       </td><td>31103.80  </td><td>30750.50  </td><td>31481.16  </td><td>32712.77  </td><td>32774.93  </td><td>32341.26  </td><td>31820.10  </td><td>31160.32  </td><td>31284.85  </td><td>30005.39  </td></tr>\n",
       "\t<tr><td>2016-02-01</td><td>28167.47  </td><td>26516.66  </td><td>25339.39  </td><td>24773.74  </td><td>24711.58  </td><td>25145.67  </td><td>26151.07  </td><td>27508.65  </td><td>33542.39  </td><td>...       </td><td>40025.60  </td><td>39686.93  </td><td>39815.53  </td><td>40446.48  </td><td>38716.68  </td><td>36907.14  </td><td>35987.80  </td><td>34823.23  </td><td>34860.72  </td><td>33253.80  </td></tr>\n",
       "\t<tr><td>2016-02-02</td><td>30881.56  </td><td>28955.47  </td><td>27835.79  </td><td>27148.96  </td><td>27041.24  </td><td>27397.01  </td><td>28184.65  </td><td>29740.52  </td><td>34727.66  </td><td>...       </td><td>40809.82  </td><td>40425.55  </td><td>40706.38  </td><td>40871.83  </td><td>38346.97  </td><td>37053.91  </td><td>36025.46  </td><td>34954.00  </td><td>35129.39  </td><td>33279.95  </td></tr>\n",
       "\t<tr><td>2016-02-03</td><td>30851.33  </td><td>29091.24  </td><td>27798.40  </td><td>27168.26  </td><td>27068.64  </td><td>27445.32  </td><td>28126.89  </td><td>29262.17  </td><td>34507.12  </td><td>...       </td><td>39313.51  </td><td>38772.92  </td><td>39181.11  </td><td>39959.57  </td><td>38519.91  </td><td>36987.53  </td><td>36007.95  </td><td>34975.54  </td><td>34932.33  </td><td>33455.88  </td></tr>\n",
       "\t<tr><td>2016-02-04</td><td>31143.68  </td><td>29167.57  </td><td>28046.68  </td><td>27405.39  </td><td>27173.93  </td><td>27536.99  </td><td>28220.87  </td><td>29395.45  </td><td>34668.60  </td><td>...       </td><td>39536.37  </td><td>38936.48  </td><td>39101.10  </td><td>39566.36  </td><td>38081.88  </td><td>36504.46  </td><td>35585.73  </td><td>34747.11  </td><td>34799.91  </td><td>33343.43  </td></tr>\n",
       "\t<tr><td>2016-02-05</td><td>30705.61  </td><td>29000.54  </td><td>27852.55  </td><td>27163.15  </td><td>26971.99  </td><td>27348.29  </td><td>28077.26  </td><td>29062.07  </td><td>34246.13  </td><td>...       </td><td>37475.87  </td><td>36826.00  </td><td>37285.78  </td><td>38110.44  </td><td>36981.81  </td><td>35496.45  </td><td>34642.81  </td><td>33771.10  </td><td>33922.59  </td><td>32485.51  </td></tr>\n",
       "\t<tr><td>2016-02-06</td><td>30323.74  </td><td>28528.18  </td><td>27243.18  </td><td>26511.13  </td><td>26199.54  </td><td>26561.03  </td><td>26644.35  </td><td>27009.01  </td><td>30831.90  </td><td>...       </td><td>34697.06  </td><td>34002.74  </td><td>33457.63  </td><td>34897.48  </td><td>34596.05  </td><td>33538.44  </td><td>32664.18  </td><td>31927.94  </td><td>32124.59  </td><td>30873.86  </td></tr>\n",
       "\t<tr><td>...</td><td>...</td><td>...</td><td>...</td><td>...</td><td>...</td><td>...</td><td>...</td><td>...</td><td>...</td><td>   </td><td>...</td><td>...</td><td>...</td><td>...</td><td>...</td><td>...</td><td>...</td><td>...</td><td>...</td><td>...</td></tr>\n",
       "\t<tr><td>2020-11-09</td><td>27931.36  </td><td>26891.54  </td><td>25998.67  </td><td>25374.78  </td><td>25145.69  </td><td>25529.95  </td><td>26497.51  </td><td>27939.62  </td><td>32244.73  </td><td>...       </td><td>35239.46  </td><td>35526.07  </td><td>36552.09  </td><td>37959.05  </td><td>38720.50  </td><td>37718.10  </td><td>36872.26  </td><td>35834.28  </td><td>34616.98  </td><td>33151.95  </td></tr>\n",
       "\t<tr><td>2020-11-10</td><td>31301.07  </td><td>29875.22  </td><td>28908.73  </td><td>28211.00  </td><td>28054.92  </td><td>28199.32  </td><td>29044.15  </td><td>29957.26  </td><td>33415.53  </td><td>...       </td><td>36868.67  </td><td>36997.12  </td><td>38021.90  </td><td>39038.66  </td><td>39314.53  </td><td>38256.09  </td><td>37282.36  </td><td>36150.19  </td><td>34793.99  </td><td>33281.76  </td></tr>\n",
       "\t<tr><td>2020-11-11</td><td>31278.36  </td><td>29818.62  </td><td>28784.91  </td><td>28117.57  </td><td>27905.46  </td><td>28226.50  </td><td>28966.82  </td><td>29817.81  </td><td>34004.19  </td><td>...       </td><td>37947.51  </td><td>37981.78  </td><td>38329.90  </td><td>39271.36  </td><td>39548.13  </td><td>38494.77  </td><td>37670.14  </td><td>36398.73  </td><td>35086.17  </td><td>33533.38  </td></tr>\n",
       "\t<tr><td>2020-11-12</td><td>31494.01  </td><td>29936.75  </td><td>28798.70  </td><td>28274.43  </td><td>28252.16  </td><td>28349.84  </td><td>29122.89  </td><td>30291.01  </td><td>33916.21  </td><td>...       </td><td>38465.18  </td><td>38696.44  </td><td>39111.30  </td><td>40006.89  </td><td>39891.23  </td><td>38979.84  </td><td>38004.31  </td><td>36617.62  </td><td>35449.89  </td><td>34053.60  </td></tr>\n",
       "\t<tr><td>2020-11-13</td><td>32009.92  </td><td>30508.49  </td><td>29373.18  </td><td>28514.08  </td><td>28223.05  </td><td>28561.94  </td><td>29420.99  </td><td>30594.99  </td><td>34438.66  </td><td>...       </td><td>37473.42  </td><td>37614.03  </td><td>38395.48  </td><td>39456.23  </td><td>39664.77  </td><td>38607.92  </td><td>37701.08  </td><td>36612.05  </td><td>35419.89  </td><td>34157.70  </td></tr>\n",
       "\t<tr><td>2020-11-14</td><td>32079.29  </td><td>30494.62  </td><td>29333.87  </td><td>28368.57  </td><td>28365.36  </td><td>28379.15  </td><td>29135.26  </td><td>29387.25  </td><td>32039.46  </td><td>...       </td><td>33853.06  </td><td>34011.48  </td><td>34934.08  </td><td>36549.26  </td><td>38006.32  </td><td>37261.67  </td><td>36431.01  </td><td>35355.84  </td><td>34199.98  </td><td>32808.00  </td></tr>\n",
       "\t<tr><td>2020-11-15</td><td>30770.20  </td><td>29115.69  </td><td>27826.88  </td><td>27090.40  </td><td>26889.26  </td><td>26760.23  </td><td>26929.14  </td><td>26111.23  </td><td>25452.79  </td><td>...       </td><td>27311.96  </td><td>27914.76  </td><td>29768.90  </td><td>32450.62  </td><td>34677.55  </td><td>34506.00  </td><td>33944.49  </td><td>33195.26  </td><td>32048.87  </td><td>30885.94  </td></tr>\n",
       "\t<tr><td>2020-11-16</td><td>29431.56  </td><td>27820.58  </td><td>26904.55  </td><td>26411.68  </td><td>26359.61  </td><td>26635.71  </td><td>27660.58  </td><td>29448.99  </td><td>33515.58  </td><td>...       </td><td>35004.57  </td><td>35458.30  </td><td>37024.05  </td><td>38939.01  </td><td>39482.19  </td><td>38524.10  </td><td>37725.28  </td><td>36694.07  </td><td>35314.45  </td><td>33838.31  </td></tr>\n",
       "\t<tr><td>2020-11-17</td><td>32039.71  </td><td>30535.97  </td><td>29518.98  </td><td>28949.57  </td><td>28570.41  </td><td>28835.19  </td><td>29687.03  </td><td>31025.24  </td><td>34276.35  </td><td>...       </td><td>35696.60  </td><td>36271.37  </td><td>37674.58  </td><td>39588.11  </td><td>39930.95  </td><td>38616.60  </td><td>38016.34  </td><td>36887.68  </td><td>35579.04  </td><td>34176.40  </td></tr>\n",
       "\t<tr><td>2020-11-18</td><td>32398.76  </td><td>30830.06  </td><td>29728.25  </td><td>28881.86  </td><td>28766.83  </td><td>28953.33  </td><td>29860.46  </td><td>31165.52  </td><td>34533.51  </td><td>...       </td><td>36053.33  </td><td>36466.69  </td><td>37882.03  </td><td>39718.50  </td><td>40308.02  </td><td>39140.15  </td><td>37626.29  </td><td>37088.51  </td><td>35748.63  </td><td>34327.68  </td></tr>\n",
       "\t<tr><td>2020-11-19</td><td>32363.50  </td><td>30840.80  </td><td>29759.03  </td><td>28965.76  </td><td>28714.25  </td><td>29072.24  </td><td>30046.23  </td><td>31394.88  </td><td>34571.78  </td><td>...       </td><td>35636.86  </td><td>36040.27  </td><td>37712.17  </td><td>38810.08  </td><td>40355.11  </td><td>39277.38  </td><td>38298.17  </td><td>37188.86  </td><td>35905.85  </td><td>34497.57  </td></tr>\n",
       "\t<tr><td>2020-11-20</td><td>32468.48  </td><td>30834.32  </td><td>29847.75  </td><td>29145.47  </td><td>28962.57  </td><td>29296.21  </td><td>30292.12  </td><td>31490.94  </td><td>34679.86  </td><td>...       </td><td>35534.50  </td><td>36199.20  </td><td>37660.00  </td><td>39696.79  </td><td>39992.94  </td><td>38932.12  </td><td>37994.92  </td><td>36986.96  </td><td>35724.27  </td><td>34360.70  </td></tr>\n",
       "\t<tr><td>2020-11-21</td><td>32450.53  </td><td>30959.38  </td><td>29924.72  </td><td>29056.63  </td><td>28771.48  </td><td>29022.93  </td><td>29557.49  </td><td>30030.71  </td><td>32698.70  </td><td>...       </td><td>35350.99  </td><td>35556.45  </td><td>36387.39  </td><td>37810.27  </td><td>38873.11  </td><td>37981.81  </td><td>37065.80  </td><td>36019.15  </td><td>34725.68  </td><td>32784.78  </td></tr>\n",
       "\t<tr><td>2020-11-22</td><td>31048.02  </td><td>29392.24  </td><td>28260.55  </td><td>27501.22  </td><td>27232.02  </td><td>27252.27  </td><td>27401.45  </td><td>26907.92  </td><td>26786.69  </td><td>...       </td><td>29082.54  </td><td>29875.90  </td><td>31267.82  </td><td>33723.79  </td><td>35534.51  </td><td>35154.33  </td><td>34511.12  </td><td>33683.09  </td><td>32732.91  </td><td>31167.42  </td></tr>\n",
       "\t<tr><td>2020-11-23</td><td>29921.97  </td><td>27849.58  </td><td>27332.25  </td><td>26704.18  </td><td>26573.26  </td><td>27051.81  </td><td>28037.82  </td><td>29930.18  </td><td>34172.00  </td><td>...       </td><td>36704.66  </td><td>37351.02  </td><td>38792.51  </td><td>40417.23  </td><td>40819.19  </td><td>39720.59  </td><td>38779.80  </td><td>37567.66  </td><td>36467.46  </td><td>35142.84  </td></tr>\n",
       "\t<tr><td>2020-11-24</td><td>33050.14  </td><td>31434.38  </td><td>30240.40  </td><td>29579.22  </td><td>29367.49  </td><td>29740.95  </td><td>30666.30  </td><td>31968.39  </td><td>35379.53  </td><td>...       </td><td>36604.82  </td><td>37306.60  </td><td>38712.18  </td><td>40754.69  </td><td>41334.00  </td><td>40178.34  </td><td>39142.62  </td><td>38244.32  </td><td>36771.07  </td><td>35374.13  </td></tr>\n",
       "\t<tr><td>2020-11-25</td><td>33367.10  </td><td>31647.21  </td><td>30472.93  </td><td>29671.27  </td><td>29514.25  </td><td>29866.15  </td><td>30633.98  </td><td>32002.03  </td><td>35510.91  </td><td>...       </td><td>37557.10  </td><td>38551.32  </td><td>39933.51  </td><td>41551.26  </td><td>41501.39  </td><td>40227.27  </td><td>39311.96  </td><td>37649.06  </td><td>36816.58  </td><td>35620.10  </td></tr>\n",
       "\t<tr><td>2020-11-26</td><td>33455.97  </td><td>31805.17  </td><td>30698.22  </td><td>29846.76  </td><td>29600.96  </td><td>29899.31  </td><td>30743.88  </td><td>32074.70  </td><td>35610.62  </td><td>...       </td><td>39412.98  </td><td>39853.82  </td><td>40918.91  </td><td>42208.11  </td><td>41673.45  </td><td>40553.66  </td><td>39499.32  </td><td>38429.24  </td><td>37270.44  </td><td>35731.83  </td></tr>\n",
       "\t<tr><td>2020-11-27</td><td>33651.81  </td><td>31949.53  </td><td>30832.30  </td><td>29991.21  </td><td>29795.53  </td><td>29951.31  </td><td>30758.76  </td><td>32370.10  </td><td>36386.47  </td><td>...       </td><td>40727.71  </td><td>40550.85  </td><td>40976.32  </td><td>41854.37  </td><td>41564.30  </td><td>40221.79  </td><td>38875.45  </td><td>37749.83  </td><td>36786.90  </td><td>35102.41  </td></tr>\n",
       "\t<tr><td>2020-11-28</td><td>33697.36  </td><td>31916.72  </td><td>30692.47  </td><td>29828.03  </td><td>29425.40  </td><td>29748.05  </td><td>30186.14  </td><td>30564.89  </td><td>32613.91  </td><td>...       </td><td>35312.45  </td><td>35408.44  </td><td>36581.59  </td><td>38630.06  </td><td>39379.15  </td><td>38432.76  </td><td>37293.60  </td><td>36304.68  </td><td>35250.20  </td><td>33817.76  </td></tr>\n",
       "\t<tr><td>2020-11-29</td><td>31685.68  </td><td>30105.78  </td><td>28703.45  </td><td>28072.20  </td><td>27651.60  </td><td>27566.19  </td><td>27737.26  </td><td>27439.05  </td><td>26905.24  </td><td>...       </td><td>29334.07  </td><td>30301.50  </td><td>32108.31  </td><td>34919.68  </td><td>36647.32  </td><td>35999.47  </td><td>35183.37  </td><td>34230.51  </td><td>33602.91  </td><td>32178.03  </td></tr>\n",
       "\t<tr><td>2020-11-30</td><td>30426.00  </td><td>29097.77  </td><td>28176.27  </td><td>27599.20  </td><td>27238.99  </td><td>27754.59  </td><td>28747.47  </td><td>30989.04  </td><td>35068.99  </td><td>...       </td><td>37089.41  </td><td>37586.08  </td><td>39435.91  </td><td>41569.99  </td><td>41710.94  </td><td>40297.34  </td><td>38951.67  </td><td>37856.67  </td><td>36983.95  </td><td>35594.03  </td></tr>\n",
       "\t<tr><td>2020-12-01</td><td>33520.81  </td><td>31518.27  </td><td>30513.78  </td><td>29844.10  </td><td>29650.85  </td><td>29873.42  </td><td>30934.51  </td><td>32239.30  </td><td>35946.87  </td><td>...       </td><td>37830.17  </td><td>38656.92  </td><td>40396.69  </td><td>42486.34  </td><td>42255.24  </td><td>40895.17  </td><td>39240.65  </td><td>38366.41  </td><td>37446.73  </td><td>36186.83  </td></tr>\n",
       "\t<tr><td>2020-12-02</td><td>33585.86  </td><td>32175.55  </td><td>31064.86  </td><td>30213.43  </td><td>29958.96  </td><td>30234.26  </td><td>31138.64  </td><td>32838.39  </td><td>36634.41  </td><td>...       </td><td>40148.58  </td><td>40330.14  </td><td>41279.40  </td><td>42837.79  </td><td>42412.80  </td><td>41146.25  </td><td>39591.41  </td><td>38420.42  </td><td>37519.53  </td><td>36160.62  </td></tr>\n",
       "\t<tr><td>2020-12-03</td><td>33902.71  </td><td>32459.36  </td><td>31023.35  </td><td>30190.73  </td><td>30055.35  </td><td>30335.29  </td><td>31201.79  </td><td>32775.21  </td><td>36882.21  </td><td>...       </td><td>39220.21  </td><td>39460.82  </td><td>40532.72  </td><td>42347.17  </td><td>42312.06  </td><td>40834.67  </td><td>39520.36  </td><td>38511.88  </td><td>37607.20  </td><td>36156.08  </td></tr>\n",
       "\t<tr><td>2020-12-04</td><td>33896.52  </td><td>31841.72  </td><td>30897.69  </td><td>30191.20  </td><td>29956.10  </td><td>30199.97  </td><td>31015.63  </td><td>32518.79  </td><td>36129.99  </td><td>...       </td><td>37205.46  </td><td>37760.66  </td><td>39543.01  </td><td>41895.73  </td><td>42003.77  </td><td>40806.68  </td><td>39426.67  </td><td>38446.22  </td><td>37356.91  </td><td>36119.57  </td></tr>\n",
       "\t<tr><td>2020-12-05</td><td>33935.56  </td><td>31919.44  </td><td>30439.27  </td><td>30020.41  </td><td>29825.63  </td><td>29984.86  </td><td>30444.97  </td><td>31159.67  </td><td>33325.74  </td><td>...       </td><td>35338.14  </td><td>35645.57  </td><td>36905.20  </td><td>39131.92  </td><td>40203.21  </td><td>39037.18  </td><td>38044.69  </td><td>37128.89  </td><td>36016.67  </td><td>34500.14  </td></tr>\n",
       "\t<tr><td>2020-12-06</td><td>32332.68  </td><td>30410.13  </td><td>29119.33  </td><td>28484.61  </td><td>28150.14  </td><td>28065.44  </td><td>28189.16  </td><td>27883.71  </td><td>27219.84  </td><td>...       </td><td>29682.72  </td><td>30568.06  </td><td>32342.53  </td><td>35411.15  </td><td>36984.04  </td><td>36310.77  </td><td>35383.08  </td><td>34491.45  </td><td>33698.14  </td><td>32295.74  </td></tr>\n",
       "\t<tr><td>2020-12-07</td><td>30828.40  </td><td>29350.31  </td><td>27689.33  </td><td>27608.55  </td><td>27566.71  </td><td>27897.84  </td><td>28873.20  </td><td>31137.18  </td><td>35801.80  </td><td>...       </td><td>40062.14  </td><td>40599.60  </td><td>41677.91  </td><td>43043.60  </td><td>42245.38  </td><td>40750.73  </td><td>39294.57  </td><td>38212.74  </td><td>37225.65  </td><td>35775.04  </td></tr>\n",
       "\t<tr><td>2020-12-08</td><td>33842.13  </td><td>32013.00  </td><td>30884.17  </td><td>30082.68  </td><td>29844.18  </td><td>30100.53  </td><td>30743.44  </td><td>32279.80  </td><td>36657.05  </td><td>...       </td><td>41812.33  </td><td>41722.82  </td><td>42341.25  </td><td>43320.35  </td><td>42292.06  </td><td>40720.16  </td><td>39195.74  </td><td>38310.79  </td><td>37173.97  </td><td>35725.46  </td></tr>\n",
       "</tbody>\n",
       "</table>\n"
      ],
      "text/latex": [
       "\\begin{tabular}{r|lllllllllllllllllllllllll}\n",
       " date & Lag\\_day7\\_hour\\_0 & Lag\\_day7\\_hour\\_1 & Lag\\_day7\\_hour\\_2 & Lag\\_day7\\_hour\\_3 & Lag\\_day7\\_hour\\_4 & Lag\\_day7\\_hour\\_5 & Lag\\_day7\\_hour\\_6 & Lag\\_day7\\_hour\\_7 & Lag\\_day7\\_hour\\_8 & ... & Lag\\_day7\\_hour\\_14 & Lag\\_day7\\_hour\\_15 & Lag\\_day7\\_hour\\_16 & Lag\\_day7\\_hour\\_17 & Lag\\_day7\\_hour\\_18 & Lag\\_day7\\_hour\\_19 & Lag\\_day7\\_hour\\_20 & Lag\\_day7\\_hour\\_21 & Lag\\_day7\\_hour\\_22 & Lag\\_day7\\_hour\\_23\\\\\n",
       "\\hline\n",
       "\t 2016-01-08 & 26277.24   & 24991.82   & 23532.61   & 22464.78   & 22002.91   & 21957.08   & 22203.54   & 21844.16   & 23094.73   & ...        & 29548.32   & 29390.89   & 30734.97   & 32048.02   & 31438.11   & 30728.47   & 30166.14   & 29461.28   & 29242.83   & 28069.09  \\\\\n",
       "\t 2016-01-09 & 26224.60   & 24708.58   & 23771.58   & 22921.29   & 22870.89   & 23325.63   & 23604.98   & 24022.70   & 26930.48   & ...        & 32796.18   & 32594.55   & 33358.47   & 34387.95   & 33591.26   & 32648.83   & 31897.73   & 31049.20   & 30906.43   & 29621.09  \\\\\n",
       "\t 2016-01-10 & 27613.96   & 25779.28   & 24566.31   & 23878.42   & 23511.38   & 23672.32   & 23827.08   & 23405.11   & 24638.72   & ...        & 31056.47   & 30979.53   & 32297.46   & 33462.96   & 33151.03   & 32450.21   & 32093.93   & 31315.16   & 31014.19   & 29462.06  \\\\\n",
       "\t 2016-01-11 & 27103.09   & 25439.84   & 24395.07   & 23961.03   & 23860.63   & 24418.47   & 25708.59   & 27455.39   & 32982.07   & ...        & 39661.98   & 39211.00   & 39760.12   & 39633.29   & 37621.41   & 35954.18   & 35114.12   & 34066.40   & 33686.83   & 31733.54  \\\\\n",
       "\t 2016-01-12 & 29244.38   & 27637.23   & 26335.78   & 25870.23   & 25975.07   & 26318.48   & 27109.29   & 28570.22   & 33106.00   & ...        & 38086.11   & 37834.89   & 38599.34   & 38669.63   & 36954.78   & 35306.11   & 34301.59   & 33400.82   & 33359.37   & 31629.97  \\\\\n",
       "\t 2016-01-13 & 29189.27   & 27614.02   & 26578.97   & 25719.19   & 25864.63   & 25918.59   & 27091.94   & 28533.05   & 33203.34   & ...        & 36847.22   & 36433.88   & 37581.09   & 37304.52   & 35832.00   & 34499.94   & 33670.00   & 32931.12   & 32913.06   & 31450.65  \\\\\n",
       "\t 2016-01-14 & 28763.95   & 27284.84   & 26321.95   & 25748.49   & 25636.58   & 25932.52   & 26963.74   & 28444.83   & 32804.27   & ...        & 37376.83   & 37100.43   & 37668.65   & 37906.99   & 35841.62   & 34621.65   & 33784.72   & 32638.14   & 32739.98   & 31092.87  \\\\\n",
       "\t 2016-01-15 & 28602.02   & 27112.37   & 25975.34   & 25315.55   & 25128.15   & 25356.22   & 26338.72   & 28086.42   & 32702.24   & ...        & 36555.58   & 36190.41   & 37031.72   & 37773.70   & 35930.69   & 34710.46   & 33907.65   & 33048.69   & 33220.16   & 32021.60  \\\\\n",
       "\t 2016-01-16 & 29906.93   & 28061.98   & 26808.78   & 25798.80   & 25820.46   & 26035.77   & 26451.24   & 26853.42   & 30627.32   & ...        & 33524.80   & 32951.39   & 33655.89   & 35045.14   & 34407.27   & 33494.32   & 32624.31   & 32097.79   & 32176.63   & 30760.17  \\\\\n",
       "\t 2016-01-17 & 28890.37   & 27133.75   & 25656.13   & 24937.87   & 24538.16   & 24616.05   & 24478.14   & 23813.35   & 24676.92   & ...        & 29089.83   & 29447.75   & 30569.07   & 32006.15   & 31706.26   & 31305.87   & 30870.26   & 30462.79   & 30537.75   & 28857.66  \\\\\n",
       "\t 2016-01-18 & 27130.75   & 25403.40   & 24452.96   & 23959.85   & 23839.28   & 24358.46   & 25800.81   & 27336.03   & 32683.24   & ...        & 36383.06   & 36013.19   & 36848.54   & 37368.40   & 35697.30   & 34482.37   & 33526.95   & 32634.16   & 32791.35   & 31147.83  \\\\\n",
       "\t 2016-01-19 & 29161.64   & 27519.24   & 26256.43   & 25766.11   & 25808.92   & 26222.03   & 27290.07   & 28628.67   & 32817.04   & ...        & 34934.00   & 34785.11   & 35690.28   & 36566.50   & 35055.97   & 33912.94   & 33131.98   & 32332.76   & 32523.14   & 30906.87  \\\\\n",
       "\t 2016-01-20 & 28823.02   & 27321.69   & 26265.24   & 25879.07   & 25685.09   & 26018.14   & 27012.72   & 28420.19   & 32572.38   & ...        & 36201.35   & 36012.25   & 36785.82   & 37173.82   & 35574.06   & 34298.68   & 33580.53   & 32554.09   & 32836.52   & 31307.88  \\\\\n",
       "\t 2016-01-21 & 29225.99   & 27650.42   & 26656.23   & 26235.10   & 26136.04   & 26689.30   & 27652.89   & 29176.95   & 33352.18   & ...        & 36279.45   & 35936.67   & 36827.63   & 37481.89   & 36195.39   & 34914.82   & 34091.81   & 33323.90   & 33345.01   & 31938.60  \\\\\n",
       "\t 2016-01-22 & 29667.03   & 27961.70   & 26760.14   & 26351.43   & 26190.00   & 26646.35   & 27845.52   & 29266.49   & 33637.71   & ...        & 35717.39   & 35343.51   & 36473.19   & 37425.77   & 36019.98   & 34574.97   & 33756.40   & 33140.33   & 33272.46   & 31803.26  \\\\\n",
       "\t 2016-01-23 & 29790.90   & 28108.68   & 26867.16   & 26241.31   & 25928.60   & 26137.31   & 26617.72   & 27115.23   & 30856.87   & ...        & 33592.64   & 33087.78   & 33693.47   & 34599.67   & 33773.40   & 32770.63   & 32167.64   & 31414.53   & 31666.20   & 30292.67  \\\\\n",
       "\t 2016-01-24 & 28125.56   & 26344.08   & 25233.20   & 24526.40   & 24131.34   & 24277.13   & 24149.15   & 23448.70   & 24484.28   & ...        & 29060.19   & 28859.44   & 29986.06   & 31083.39   & 31046.20   & 30619.87   & 30216.41   & 29589.83   & 29593.28   & 28448.52  \\\\\n",
       "\t 2016-01-25 & 26425.24   & 25112.59   & 24197.23   & 23839.79   & 23756.17   & 24217.87   & 25384.09   & 27192.81   & 32775.65   & ...        & 38264.20   & 37831.23   & 38590.57   & 38930.54   & 37080.02   & 35590.81   & 34669.59   & 33765.00   & 33590.16   & 32035.19  \\\\\n",
       "\t 2016-01-26 & 29648.05   & 28023.28   & 26957.35   & 26389.70   & 26152.72   & 26578.69   & 27561.29   & 29127.56   & 34277.14   & ...        & 38431.48   & 37914.67   & 38254.38   & 39006.28   & 37419.61   & 35893.88   & 35024.97   & 34132.03   & 34201.22   & 32449.57  \\\\\n",
       "\t 2016-01-27 & 30139.50   & 28410.88   & 27406.34   & 26722.59   & 26551.26   & 27065.87   & 28039.32   & 29469.19   & 34531.37   & ...        & 39016.83   & 38583.86   & 39061.14   & 39678.86   & 37842.79   & 36242.08   & 35265.50   & 34442.99   & 34423.91   & 32661.51  \\\\\n",
       "\t 2016-01-28 & 30396.19   & 28597.47   & 27458.63   & 26728.84   & 26819.66   & 27295.21   & 28233.77   & 29534.69   & 34553.08   & ...        & 38991.04   & 38424.45   & 38816.10   & 39201.65   & 37540.47   & 36208.77   & 35321.99   & 34453.40   & 34506.70   & 32959.37  \\\\\n",
       "\t 2016-01-29 & 30389.96   & 28517.31   & 27397.27   & 26696.24   & 26636.34   & 27118.79   & 28127.63   & 29345.05   & 34622.14   & ...        & 38467.93   & 38201.49   & 38866.07   & 39255.53   & 37130.41   & 35315.89   & 34779.35   & 33927.07   & 34209.59   & 32617.78  \\\\\n",
       "\t 2016-01-30 & 30215.90   & 28509.74   & 27311.13   & 26492.04   & 26476.82   & 26720.30   & 27058.22   & 27679.17   & 31739.43   & ...        & 36555.00   & 35898.79   & 35913.32   & 36651.18   & 35931.07   & 34781.15   & 33951.80   & 33131.48   & 33030.06   & 31630.82  \\\\\n",
       "\t 2016-01-31 & 29349.49   & 27479.98   & 26088.26   & 25306.03   & 24973.17   & 25001.94   & 24899.46   & 24158.93   & 25160.11   & ...        & 31103.80   & 30750.50   & 31481.16   & 32712.77   & 32774.93   & 32341.26   & 31820.10   & 31160.32   & 31284.85   & 30005.39  \\\\\n",
       "\t 2016-02-01 & 28167.47   & 26516.66   & 25339.39   & 24773.74   & 24711.58   & 25145.67   & 26151.07   & 27508.65   & 33542.39   & ...        & 40025.60   & 39686.93   & 39815.53   & 40446.48   & 38716.68   & 36907.14   & 35987.80   & 34823.23   & 34860.72   & 33253.80  \\\\\n",
       "\t 2016-02-02 & 30881.56   & 28955.47   & 27835.79   & 27148.96   & 27041.24   & 27397.01   & 28184.65   & 29740.52   & 34727.66   & ...        & 40809.82   & 40425.55   & 40706.38   & 40871.83   & 38346.97   & 37053.91   & 36025.46   & 34954.00   & 35129.39   & 33279.95  \\\\\n",
       "\t 2016-02-03 & 30851.33   & 29091.24   & 27798.40   & 27168.26   & 27068.64   & 27445.32   & 28126.89   & 29262.17   & 34507.12   & ...        & 39313.51   & 38772.92   & 39181.11   & 39959.57   & 38519.91   & 36987.53   & 36007.95   & 34975.54   & 34932.33   & 33455.88  \\\\\n",
       "\t 2016-02-04 & 31143.68   & 29167.57   & 28046.68   & 27405.39   & 27173.93   & 27536.99   & 28220.87   & 29395.45   & 34668.60   & ...        & 39536.37   & 38936.48   & 39101.10   & 39566.36   & 38081.88   & 36504.46   & 35585.73   & 34747.11   & 34799.91   & 33343.43  \\\\\n",
       "\t 2016-02-05 & 30705.61   & 29000.54   & 27852.55   & 27163.15   & 26971.99   & 27348.29   & 28077.26   & 29062.07   & 34246.13   & ...        & 37475.87   & 36826.00   & 37285.78   & 38110.44   & 36981.81   & 35496.45   & 34642.81   & 33771.10   & 33922.59   & 32485.51  \\\\\n",
       "\t 2016-02-06 & 30323.74   & 28528.18   & 27243.18   & 26511.13   & 26199.54   & 26561.03   & 26644.35   & 27009.01   & 30831.90   & ...        & 34697.06   & 34002.74   & 33457.63   & 34897.48   & 34596.05   & 33538.44   & 32664.18   & 31927.94   & 32124.59   & 30873.86  \\\\\n",
       "\t ... & ... & ... & ... & ... & ... & ... & ... & ... & ... &     & ... & ... & ... & ... & ... & ... & ... & ... & ... & ...\\\\\n",
       "\t 2020-11-09 & 27931.36   & 26891.54   & 25998.67   & 25374.78   & 25145.69   & 25529.95   & 26497.51   & 27939.62   & 32244.73   & ...        & 35239.46   & 35526.07   & 36552.09   & 37959.05   & 38720.50   & 37718.10   & 36872.26   & 35834.28   & 34616.98   & 33151.95  \\\\\n",
       "\t 2020-11-10 & 31301.07   & 29875.22   & 28908.73   & 28211.00   & 28054.92   & 28199.32   & 29044.15   & 29957.26   & 33415.53   & ...        & 36868.67   & 36997.12   & 38021.90   & 39038.66   & 39314.53   & 38256.09   & 37282.36   & 36150.19   & 34793.99   & 33281.76  \\\\\n",
       "\t 2020-11-11 & 31278.36   & 29818.62   & 28784.91   & 28117.57   & 27905.46   & 28226.50   & 28966.82   & 29817.81   & 34004.19   & ...        & 37947.51   & 37981.78   & 38329.90   & 39271.36   & 39548.13   & 38494.77   & 37670.14   & 36398.73   & 35086.17   & 33533.38  \\\\\n",
       "\t 2020-11-12 & 31494.01   & 29936.75   & 28798.70   & 28274.43   & 28252.16   & 28349.84   & 29122.89   & 30291.01   & 33916.21   & ...        & 38465.18   & 38696.44   & 39111.30   & 40006.89   & 39891.23   & 38979.84   & 38004.31   & 36617.62   & 35449.89   & 34053.60  \\\\\n",
       "\t 2020-11-13 & 32009.92   & 30508.49   & 29373.18   & 28514.08   & 28223.05   & 28561.94   & 29420.99   & 30594.99   & 34438.66   & ...        & 37473.42   & 37614.03   & 38395.48   & 39456.23   & 39664.77   & 38607.92   & 37701.08   & 36612.05   & 35419.89   & 34157.70  \\\\\n",
       "\t 2020-11-14 & 32079.29   & 30494.62   & 29333.87   & 28368.57   & 28365.36   & 28379.15   & 29135.26   & 29387.25   & 32039.46   & ...        & 33853.06   & 34011.48   & 34934.08   & 36549.26   & 38006.32   & 37261.67   & 36431.01   & 35355.84   & 34199.98   & 32808.00  \\\\\n",
       "\t 2020-11-15 & 30770.20   & 29115.69   & 27826.88   & 27090.40   & 26889.26   & 26760.23   & 26929.14   & 26111.23   & 25452.79   & ...        & 27311.96   & 27914.76   & 29768.90   & 32450.62   & 34677.55   & 34506.00   & 33944.49   & 33195.26   & 32048.87   & 30885.94  \\\\\n",
       "\t 2020-11-16 & 29431.56   & 27820.58   & 26904.55   & 26411.68   & 26359.61   & 26635.71   & 27660.58   & 29448.99   & 33515.58   & ...        & 35004.57   & 35458.30   & 37024.05   & 38939.01   & 39482.19   & 38524.10   & 37725.28   & 36694.07   & 35314.45   & 33838.31  \\\\\n",
       "\t 2020-11-17 & 32039.71   & 30535.97   & 29518.98   & 28949.57   & 28570.41   & 28835.19   & 29687.03   & 31025.24   & 34276.35   & ...        & 35696.60   & 36271.37   & 37674.58   & 39588.11   & 39930.95   & 38616.60   & 38016.34   & 36887.68   & 35579.04   & 34176.40  \\\\\n",
       "\t 2020-11-18 & 32398.76   & 30830.06   & 29728.25   & 28881.86   & 28766.83   & 28953.33   & 29860.46   & 31165.52   & 34533.51   & ...        & 36053.33   & 36466.69   & 37882.03   & 39718.50   & 40308.02   & 39140.15   & 37626.29   & 37088.51   & 35748.63   & 34327.68  \\\\\n",
       "\t 2020-11-19 & 32363.50   & 30840.80   & 29759.03   & 28965.76   & 28714.25   & 29072.24   & 30046.23   & 31394.88   & 34571.78   & ...        & 35636.86   & 36040.27   & 37712.17   & 38810.08   & 40355.11   & 39277.38   & 38298.17   & 37188.86   & 35905.85   & 34497.57  \\\\\n",
       "\t 2020-11-20 & 32468.48   & 30834.32   & 29847.75   & 29145.47   & 28962.57   & 29296.21   & 30292.12   & 31490.94   & 34679.86   & ...        & 35534.50   & 36199.20   & 37660.00   & 39696.79   & 39992.94   & 38932.12   & 37994.92   & 36986.96   & 35724.27   & 34360.70  \\\\\n",
       "\t 2020-11-21 & 32450.53   & 30959.38   & 29924.72   & 29056.63   & 28771.48   & 29022.93   & 29557.49   & 30030.71   & 32698.70   & ...        & 35350.99   & 35556.45   & 36387.39   & 37810.27   & 38873.11   & 37981.81   & 37065.80   & 36019.15   & 34725.68   & 32784.78  \\\\\n",
       "\t 2020-11-22 & 31048.02   & 29392.24   & 28260.55   & 27501.22   & 27232.02   & 27252.27   & 27401.45   & 26907.92   & 26786.69   & ...        & 29082.54   & 29875.90   & 31267.82   & 33723.79   & 35534.51   & 35154.33   & 34511.12   & 33683.09   & 32732.91   & 31167.42  \\\\\n",
       "\t 2020-11-23 & 29921.97   & 27849.58   & 27332.25   & 26704.18   & 26573.26   & 27051.81   & 28037.82   & 29930.18   & 34172.00   & ...        & 36704.66   & 37351.02   & 38792.51   & 40417.23   & 40819.19   & 39720.59   & 38779.80   & 37567.66   & 36467.46   & 35142.84  \\\\\n",
       "\t 2020-11-24 & 33050.14   & 31434.38   & 30240.40   & 29579.22   & 29367.49   & 29740.95   & 30666.30   & 31968.39   & 35379.53   & ...        & 36604.82   & 37306.60   & 38712.18   & 40754.69   & 41334.00   & 40178.34   & 39142.62   & 38244.32   & 36771.07   & 35374.13  \\\\\n",
       "\t 2020-11-25 & 33367.10   & 31647.21   & 30472.93   & 29671.27   & 29514.25   & 29866.15   & 30633.98   & 32002.03   & 35510.91   & ...        & 37557.10   & 38551.32   & 39933.51   & 41551.26   & 41501.39   & 40227.27   & 39311.96   & 37649.06   & 36816.58   & 35620.10  \\\\\n",
       "\t 2020-11-26 & 33455.97   & 31805.17   & 30698.22   & 29846.76   & 29600.96   & 29899.31   & 30743.88   & 32074.70   & 35610.62   & ...        & 39412.98   & 39853.82   & 40918.91   & 42208.11   & 41673.45   & 40553.66   & 39499.32   & 38429.24   & 37270.44   & 35731.83  \\\\\n",
       "\t 2020-11-27 & 33651.81   & 31949.53   & 30832.30   & 29991.21   & 29795.53   & 29951.31   & 30758.76   & 32370.10   & 36386.47   & ...        & 40727.71   & 40550.85   & 40976.32   & 41854.37   & 41564.30   & 40221.79   & 38875.45   & 37749.83   & 36786.90   & 35102.41  \\\\\n",
       "\t 2020-11-28 & 33697.36   & 31916.72   & 30692.47   & 29828.03   & 29425.40   & 29748.05   & 30186.14   & 30564.89   & 32613.91   & ...        & 35312.45   & 35408.44   & 36581.59   & 38630.06   & 39379.15   & 38432.76   & 37293.60   & 36304.68   & 35250.20   & 33817.76  \\\\\n",
       "\t 2020-11-29 & 31685.68   & 30105.78   & 28703.45   & 28072.20   & 27651.60   & 27566.19   & 27737.26   & 27439.05   & 26905.24   & ...        & 29334.07   & 30301.50   & 32108.31   & 34919.68   & 36647.32   & 35999.47   & 35183.37   & 34230.51   & 33602.91   & 32178.03  \\\\\n",
       "\t 2020-11-30 & 30426.00   & 29097.77   & 28176.27   & 27599.20   & 27238.99   & 27754.59   & 28747.47   & 30989.04   & 35068.99   & ...        & 37089.41   & 37586.08   & 39435.91   & 41569.99   & 41710.94   & 40297.34   & 38951.67   & 37856.67   & 36983.95   & 35594.03  \\\\\n",
       "\t 2020-12-01 & 33520.81   & 31518.27   & 30513.78   & 29844.10   & 29650.85   & 29873.42   & 30934.51   & 32239.30   & 35946.87   & ...        & 37830.17   & 38656.92   & 40396.69   & 42486.34   & 42255.24   & 40895.17   & 39240.65   & 38366.41   & 37446.73   & 36186.83  \\\\\n",
       "\t 2020-12-02 & 33585.86   & 32175.55   & 31064.86   & 30213.43   & 29958.96   & 30234.26   & 31138.64   & 32838.39   & 36634.41   & ...        & 40148.58   & 40330.14   & 41279.40   & 42837.79   & 42412.80   & 41146.25   & 39591.41   & 38420.42   & 37519.53   & 36160.62  \\\\\n",
       "\t 2020-12-03 & 33902.71   & 32459.36   & 31023.35   & 30190.73   & 30055.35   & 30335.29   & 31201.79   & 32775.21   & 36882.21   & ...        & 39220.21   & 39460.82   & 40532.72   & 42347.17   & 42312.06   & 40834.67   & 39520.36   & 38511.88   & 37607.20   & 36156.08  \\\\\n",
       "\t 2020-12-04 & 33896.52   & 31841.72   & 30897.69   & 30191.20   & 29956.10   & 30199.97   & 31015.63   & 32518.79   & 36129.99   & ...        & 37205.46   & 37760.66   & 39543.01   & 41895.73   & 42003.77   & 40806.68   & 39426.67   & 38446.22   & 37356.91   & 36119.57  \\\\\n",
       "\t 2020-12-05 & 33935.56   & 31919.44   & 30439.27   & 30020.41   & 29825.63   & 29984.86   & 30444.97   & 31159.67   & 33325.74   & ...        & 35338.14   & 35645.57   & 36905.20   & 39131.92   & 40203.21   & 39037.18   & 38044.69   & 37128.89   & 36016.67   & 34500.14  \\\\\n",
       "\t 2020-12-06 & 32332.68   & 30410.13   & 29119.33   & 28484.61   & 28150.14   & 28065.44   & 28189.16   & 27883.71   & 27219.84   & ...        & 29682.72   & 30568.06   & 32342.53   & 35411.15   & 36984.04   & 36310.77   & 35383.08   & 34491.45   & 33698.14   & 32295.74  \\\\\n",
       "\t 2020-12-07 & 30828.40   & 29350.31   & 27689.33   & 27608.55   & 27566.71   & 27897.84   & 28873.20   & 31137.18   & 35801.80   & ...        & 40062.14   & 40599.60   & 41677.91   & 43043.60   & 42245.38   & 40750.73   & 39294.57   & 38212.74   & 37225.65   & 35775.04  \\\\\n",
       "\t 2020-12-08 & 33842.13   & 32013.00   & 30884.17   & 30082.68   & 29844.18   & 30100.53   & 30743.44   & 32279.80   & 36657.05   & ...        & 41812.33   & 41722.82   & 42341.25   & 43320.35   & 42292.06   & 40720.16   & 39195.74   & 38310.79   & 37173.97   & 35725.46  \\\\\n",
       "\\end{tabular}\n"
      ],
      "text/markdown": [
       "\n",
       "| date | Lag_day7_hour_0 | Lag_day7_hour_1 | Lag_day7_hour_2 | Lag_day7_hour_3 | Lag_day7_hour_4 | Lag_day7_hour_5 | Lag_day7_hour_6 | Lag_day7_hour_7 | Lag_day7_hour_8 | ... | Lag_day7_hour_14 | Lag_day7_hour_15 | Lag_day7_hour_16 | Lag_day7_hour_17 | Lag_day7_hour_18 | Lag_day7_hour_19 | Lag_day7_hour_20 | Lag_day7_hour_21 | Lag_day7_hour_22 | Lag_day7_hour_23 |\n",
       "|---|---|---|---|---|---|---|---|---|---|---|---|---|---|---|---|---|---|---|---|---|\n",
       "| 2016-01-08 | 26277.24   | 24991.82   | 23532.61   | 22464.78   | 22002.91   | 21957.08   | 22203.54   | 21844.16   | 23094.73   | ...        | 29548.32   | 29390.89   | 30734.97   | 32048.02   | 31438.11   | 30728.47   | 30166.14   | 29461.28   | 29242.83   | 28069.09   |\n",
       "| 2016-01-09 | 26224.60   | 24708.58   | 23771.58   | 22921.29   | 22870.89   | 23325.63   | 23604.98   | 24022.70   | 26930.48   | ...        | 32796.18   | 32594.55   | 33358.47   | 34387.95   | 33591.26   | 32648.83   | 31897.73   | 31049.20   | 30906.43   | 29621.09   |\n",
       "| 2016-01-10 | 27613.96   | 25779.28   | 24566.31   | 23878.42   | 23511.38   | 23672.32   | 23827.08   | 23405.11   | 24638.72   | ...        | 31056.47   | 30979.53   | 32297.46   | 33462.96   | 33151.03   | 32450.21   | 32093.93   | 31315.16   | 31014.19   | 29462.06   |\n",
       "| 2016-01-11 | 27103.09   | 25439.84   | 24395.07   | 23961.03   | 23860.63   | 24418.47   | 25708.59   | 27455.39   | 32982.07   | ...        | 39661.98   | 39211.00   | 39760.12   | 39633.29   | 37621.41   | 35954.18   | 35114.12   | 34066.40   | 33686.83   | 31733.54   |\n",
       "| 2016-01-12 | 29244.38   | 27637.23   | 26335.78   | 25870.23   | 25975.07   | 26318.48   | 27109.29   | 28570.22   | 33106.00   | ...        | 38086.11   | 37834.89   | 38599.34   | 38669.63   | 36954.78   | 35306.11   | 34301.59   | 33400.82   | 33359.37   | 31629.97   |\n",
       "| 2016-01-13 | 29189.27   | 27614.02   | 26578.97   | 25719.19   | 25864.63   | 25918.59   | 27091.94   | 28533.05   | 33203.34   | ...        | 36847.22   | 36433.88   | 37581.09   | 37304.52   | 35832.00   | 34499.94   | 33670.00   | 32931.12   | 32913.06   | 31450.65   |\n",
       "| 2016-01-14 | 28763.95   | 27284.84   | 26321.95   | 25748.49   | 25636.58   | 25932.52   | 26963.74   | 28444.83   | 32804.27   | ...        | 37376.83   | 37100.43   | 37668.65   | 37906.99   | 35841.62   | 34621.65   | 33784.72   | 32638.14   | 32739.98   | 31092.87   |\n",
       "| 2016-01-15 | 28602.02   | 27112.37   | 25975.34   | 25315.55   | 25128.15   | 25356.22   | 26338.72   | 28086.42   | 32702.24   | ...        | 36555.58   | 36190.41   | 37031.72   | 37773.70   | 35930.69   | 34710.46   | 33907.65   | 33048.69   | 33220.16   | 32021.60   |\n",
       "| 2016-01-16 | 29906.93   | 28061.98   | 26808.78   | 25798.80   | 25820.46   | 26035.77   | 26451.24   | 26853.42   | 30627.32   | ...        | 33524.80   | 32951.39   | 33655.89   | 35045.14   | 34407.27   | 33494.32   | 32624.31   | 32097.79   | 32176.63   | 30760.17   |\n",
       "| 2016-01-17 | 28890.37   | 27133.75   | 25656.13   | 24937.87   | 24538.16   | 24616.05   | 24478.14   | 23813.35   | 24676.92   | ...        | 29089.83   | 29447.75   | 30569.07   | 32006.15   | 31706.26   | 31305.87   | 30870.26   | 30462.79   | 30537.75   | 28857.66   |\n",
       "| 2016-01-18 | 27130.75   | 25403.40   | 24452.96   | 23959.85   | 23839.28   | 24358.46   | 25800.81   | 27336.03   | 32683.24   | ...        | 36383.06   | 36013.19   | 36848.54   | 37368.40   | 35697.30   | 34482.37   | 33526.95   | 32634.16   | 32791.35   | 31147.83   |\n",
       "| 2016-01-19 | 29161.64   | 27519.24   | 26256.43   | 25766.11   | 25808.92   | 26222.03   | 27290.07   | 28628.67   | 32817.04   | ...        | 34934.00   | 34785.11   | 35690.28   | 36566.50   | 35055.97   | 33912.94   | 33131.98   | 32332.76   | 32523.14   | 30906.87   |\n",
       "| 2016-01-20 | 28823.02   | 27321.69   | 26265.24   | 25879.07   | 25685.09   | 26018.14   | 27012.72   | 28420.19   | 32572.38   | ...        | 36201.35   | 36012.25   | 36785.82   | 37173.82   | 35574.06   | 34298.68   | 33580.53   | 32554.09   | 32836.52   | 31307.88   |\n",
       "| 2016-01-21 | 29225.99   | 27650.42   | 26656.23   | 26235.10   | 26136.04   | 26689.30   | 27652.89   | 29176.95   | 33352.18   | ...        | 36279.45   | 35936.67   | 36827.63   | 37481.89   | 36195.39   | 34914.82   | 34091.81   | 33323.90   | 33345.01   | 31938.60   |\n",
       "| 2016-01-22 | 29667.03   | 27961.70   | 26760.14   | 26351.43   | 26190.00   | 26646.35   | 27845.52   | 29266.49   | 33637.71   | ...        | 35717.39   | 35343.51   | 36473.19   | 37425.77   | 36019.98   | 34574.97   | 33756.40   | 33140.33   | 33272.46   | 31803.26   |\n",
       "| 2016-01-23 | 29790.90   | 28108.68   | 26867.16   | 26241.31   | 25928.60   | 26137.31   | 26617.72   | 27115.23   | 30856.87   | ...        | 33592.64   | 33087.78   | 33693.47   | 34599.67   | 33773.40   | 32770.63   | 32167.64   | 31414.53   | 31666.20   | 30292.67   |\n",
       "| 2016-01-24 | 28125.56   | 26344.08   | 25233.20   | 24526.40   | 24131.34   | 24277.13   | 24149.15   | 23448.70   | 24484.28   | ...        | 29060.19   | 28859.44   | 29986.06   | 31083.39   | 31046.20   | 30619.87   | 30216.41   | 29589.83   | 29593.28   | 28448.52   |\n",
       "| 2016-01-25 | 26425.24   | 25112.59   | 24197.23   | 23839.79   | 23756.17   | 24217.87   | 25384.09   | 27192.81   | 32775.65   | ...        | 38264.20   | 37831.23   | 38590.57   | 38930.54   | 37080.02   | 35590.81   | 34669.59   | 33765.00   | 33590.16   | 32035.19   |\n",
       "| 2016-01-26 | 29648.05   | 28023.28   | 26957.35   | 26389.70   | 26152.72   | 26578.69   | 27561.29   | 29127.56   | 34277.14   | ...        | 38431.48   | 37914.67   | 38254.38   | 39006.28   | 37419.61   | 35893.88   | 35024.97   | 34132.03   | 34201.22   | 32449.57   |\n",
       "| 2016-01-27 | 30139.50   | 28410.88   | 27406.34   | 26722.59   | 26551.26   | 27065.87   | 28039.32   | 29469.19   | 34531.37   | ...        | 39016.83   | 38583.86   | 39061.14   | 39678.86   | 37842.79   | 36242.08   | 35265.50   | 34442.99   | 34423.91   | 32661.51   |\n",
       "| 2016-01-28 | 30396.19   | 28597.47   | 27458.63   | 26728.84   | 26819.66   | 27295.21   | 28233.77   | 29534.69   | 34553.08   | ...        | 38991.04   | 38424.45   | 38816.10   | 39201.65   | 37540.47   | 36208.77   | 35321.99   | 34453.40   | 34506.70   | 32959.37   |\n",
       "| 2016-01-29 | 30389.96   | 28517.31   | 27397.27   | 26696.24   | 26636.34   | 27118.79   | 28127.63   | 29345.05   | 34622.14   | ...        | 38467.93   | 38201.49   | 38866.07   | 39255.53   | 37130.41   | 35315.89   | 34779.35   | 33927.07   | 34209.59   | 32617.78   |\n",
       "| 2016-01-30 | 30215.90   | 28509.74   | 27311.13   | 26492.04   | 26476.82   | 26720.30   | 27058.22   | 27679.17   | 31739.43   | ...        | 36555.00   | 35898.79   | 35913.32   | 36651.18   | 35931.07   | 34781.15   | 33951.80   | 33131.48   | 33030.06   | 31630.82   |\n",
       "| 2016-01-31 | 29349.49   | 27479.98   | 26088.26   | 25306.03   | 24973.17   | 25001.94   | 24899.46   | 24158.93   | 25160.11   | ...        | 31103.80   | 30750.50   | 31481.16   | 32712.77   | 32774.93   | 32341.26   | 31820.10   | 31160.32   | 31284.85   | 30005.39   |\n",
       "| 2016-02-01 | 28167.47   | 26516.66   | 25339.39   | 24773.74   | 24711.58   | 25145.67   | 26151.07   | 27508.65   | 33542.39   | ...        | 40025.60   | 39686.93   | 39815.53   | 40446.48   | 38716.68   | 36907.14   | 35987.80   | 34823.23   | 34860.72   | 33253.80   |\n",
       "| 2016-02-02 | 30881.56   | 28955.47   | 27835.79   | 27148.96   | 27041.24   | 27397.01   | 28184.65   | 29740.52   | 34727.66   | ...        | 40809.82   | 40425.55   | 40706.38   | 40871.83   | 38346.97   | 37053.91   | 36025.46   | 34954.00   | 35129.39   | 33279.95   |\n",
       "| 2016-02-03 | 30851.33   | 29091.24   | 27798.40   | 27168.26   | 27068.64   | 27445.32   | 28126.89   | 29262.17   | 34507.12   | ...        | 39313.51   | 38772.92   | 39181.11   | 39959.57   | 38519.91   | 36987.53   | 36007.95   | 34975.54   | 34932.33   | 33455.88   |\n",
       "| 2016-02-04 | 31143.68   | 29167.57   | 28046.68   | 27405.39   | 27173.93   | 27536.99   | 28220.87   | 29395.45   | 34668.60   | ...        | 39536.37   | 38936.48   | 39101.10   | 39566.36   | 38081.88   | 36504.46   | 35585.73   | 34747.11   | 34799.91   | 33343.43   |\n",
       "| 2016-02-05 | 30705.61   | 29000.54   | 27852.55   | 27163.15   | 26971.99   | 27348.29   | 28077.26   | 29062.07   | 34246.13   | ...        | 37475.87   | 36826.00   | 37285.78   | 38110.44   | 36981.81   | 35496.45   | 34642.81   | 33771.10   | 33922.59   | 32485.51   |\n",
       "| 2016-02-06 | 30323.74   | 28528.18   | 27243.18   | 26511.13   | 26199.54   | 26561.03   | 26644.35   | 27009.01   | 30831.90   | ...        | 34697.06   | 34002.74   | 33457.63   | 34897.48   | 34596.05   | 33538.44   | 32664.18   | 31927.94   | 32124.59   | 30873.86   |\n",
       "| ... | ... | ... | ... | ... | ... | ... | ... | ... | ... |     | ... | ... | ... | ... | ... | ... | ... | ... | ... | ... |\n",
       "| 2020-11-09 | 27931.36   | 26891.54   | 25998.67   | 25374.78   | 25145.69   | 25529.95   | 26497.51   | 27939.62   | 32244.73   | ...        | 35239.46   | 35526.07   | 36552.09   | 37959.05   | 38720.50   | 37718.10   | 36872.26   | 35834.28   | 34616.98   | 33151.95   |\n",
       "| 2020-11-10 | 31301.07   | 29875.22   | 28908.73   | 28211.00   | 28054.92   | 28199.32   | 29044.15   | 29957.26   | 33415.53   | ...        | 36868.67   | 36997.12   | 38021.90   | 39038.66   | 39314.53   | 38256.09   | 37282.36   | 36150.19   | 34793.99   | 33281.76   |\n",
       "| 2020-11-11 | 31278.36   | 29818.62   | 28784.91   | 28117.57   | 27905.46   | 28226.50   | 28966.82   | 29817.81   | 34004.19   | ...        | 37947.51   | 37981.78   | 38329.90   | 39271.36   | 39548.13   | 38494.77   | 37670.14   | 36398.73   | 35086.17   | 33533.38   |\n",
       "| 2020-11-12 | 31494.01   | 29936.75   | 28798.70   | 28274.43   | 28252.16   | 28349.84   | 29122.89   | 30291.01   | 33916.21   | ...        | 38465.18   | 38696.44   | 39111.30   | 40006.89   | 39891.23   | 38979.84   | 38004.31   | 36617.62   | 35449.89   | 34053.60   |\n",
       "| 2020-11-13 | 32009.92   | 30508.49   | 29373.18   | 28514.08   | 28223.05   | 28561.94   | 29420.99   | 30594.99   | 34438.66   | ...        | 37473.42   | 37614.03   | 38395.48   | 39456.23   | 39664.77   | 38607.92   | 37701.08   | 36612.05   | 35419.89   | 34157.70   |\n",
       "| 2020-11-14 | 32079.29   | 30494.62   | 29333.87   | 28368.57   | 28365.36   | 28379.15   | 29135.26   | 29387.25   | 32039.46   | ...        | 33853.06   | 34011.48   | 34934.08   | 36549.26   | 38006.32   | 37261.67   | 36431.01   | 35355.84   | 34199.98   | 32808.00   |\n",
       "| 2020-11-15 | 30770.20   | 29115.69   | 27826.88   | 27090.40   | 26889.26   | 26760.23   | 26929.14   | 26111.23   | 25452.79   | ...        | 27311.96   | 27914.76   | 29768.90   | 32450.62   | 34677.55   | 34506.00   | 33944.49   | 33195.26   | 32048.87   | 30885.94   |\n",
       "| 2020-11-16 | 29431.56   | 27820.58   | 26904.55   | 26411.68   | 26359.61   | 26635.71   | 27660.58   | 29448.99   | 33515.58   | ...        | 35004.57   | 35458.30   | 37024.05   | 38939.01   | 39482.19   | 38524.10   | 37725.28   | 36694.07   | 35314.45   | 33838.31   |\n",
       "| 2020-11-17 | 32039.71   | 30535.97   | 29518.98   | 28949.57   | 28570.41   | 28835.19   | 29687.03   | 31025.24   | 34276.35   | ...        | 35696.60   | 36271.37   | 37674.58   | 39588.11   | 39930.95   | 38616.60   | 38016.34   | 36887.68   | 35579.04   | 34176.40   |\n",
       "| 2020-11-18 | 32398.76   | 30830.06   | 29728.25   | 28881.86   | 28766.83   | 28953.33   | 29860.46   | 31165.52   | 34533.51   | ...        | 36053.33   | 36466.69   | 37882.03   | 39718.50   | 40308.02   | 39140.15   | 37626.29   | 37088.51   | 35748.63   | 34327.68   |\n",
       "| 2020-11-19 | 32363.50   | 30840.80   | 29759.03   | 28965.76   | 28714.25   | 29072.24   | 30046.23   | 31394.88   | 34571.78   | ...        | 35636.86   | 36040.27   | 37712.17   | 38810.08   | 40355.11   | 39277.38   | 38298.17   | 37188.86   | 35905.85   | 34497.57   |\n",
       "| 2020-11-20 | 32468.48   | 30834.32   | 29847.75   | 29145.47   | 28962.57   | 29296.21   | 30292.12   | 31490.94   | 34679.86   | ...        | 35534.50   | 36199.20   | 37660.00   | 39696.79   | 39992.94   | 38932.12   | 37994.92   | 36986.96   | 35724.27   | 34360.70   |\n",
       "| 2020-11-21 | 32450.53   | 30959.38   | 29924.72   | 29056.63   | 28771.48   | 29022.93   | 29557.49   | 30030.71   | 32698.70   | ...        | 35350.99   | 35556.45   | 36387.39   | 37810.27   | 38873.11   | 37981.81   | 37065.80   | 36019.15   | 34725.68   | 32784.78   |\n",
       "| 2020-11-22 | 31048.02   | 29392.24   | 28260.55   | 27501.22   | 27232.02   | 27252.27   | 27401.45   | 26907.92   | 26786.69   | ...        | 29082.54   | 29875.90   | 31267.82   | 33723.79   | 35534.51   | 35154.33   | 34511.12   | 33683.09   | 32732.91   | 31167.42   |\n",
       "| 2020-11-23 | 29921.97   | 27849.58   | 27332.25   | 26704.18   | 26573.26   | 27051.81   | 28037.82   | 29930.18   | 34172.00   | ...        | 36704.66   | 37351.02   | 38792.51   | 40417.23   | 40819.19   | 39720.59   | 38779.80   | 37567.66   | 36467.46   | 35142.84   |\n",
       "| 2020-11-24 | 33050.14   | 31434.38   | 30240.40   | 29579.22   | 29367.49   | 29740.95   | 30666.30   | 31968.39   | 35379.53   | ...        | 36604.82   | 37306.60   | 38712.18   | 40754.69   | 41334.00   | 40178.34   | 39142.62   | 38244.32   | 36771.07   | 35374.13   |\n",
       "| 2020-11-25 | 33367.10   | 31647.21   | 30472.93   | 29671.27   | 29514.25   | 29866.15   | 30633.98   | 32002.03   | 35510.91   | ...        | 37557.10   | 38551.32   | 39933.51   | 41551.26   | 41501.39   | 40227.27   | 39311.96   | 37649.06   | 36816.58   | 35620.10   |\n",
       "| 2020-11-26 | 33455.97   | 31805.17   | 30698.22   | 29846.76   | 29600.96   | 29899.31   | 30743.88   | 32074.70   | 35610.62   | ...        | 39412.98   | 39853.82   | 40918.91   | 42208.11   | 41673.45   | 40553.66   | 39499.32   | 38429.24   | 37270.44   | 35731.83   |\n",
       "| 2020-11-27 | 33651.81   | 31949.53   | 30832.30   | 29991.21   | 29795.53   | 29951.31   | 30758.76   | 32370.10   | 36386.47   | ...        | 40727.71   | 40550.85   | 40976.32   | 41854.37   | 41564.30   | 40221.79   | 38875.45   | 37749.83   | 36786.90   | 35102.41   |\n",
       "| 2020-11-28 | 33697.36   | 31916.72   | 30692.47   | 29828.03   | 29425.40   | 29748.05   | 30186.14   | 30564.89   | 32613.91   | ...        | 35312.45   | 35408.44   | 36581.59   | 38630.06   | 39379.15   | 38432.76   | 37293.60   | 36304.68   | 35250.20   | 33817.76   |\n",
       "| 2020-11-29 | 31685.68   | 30105.78   | 28703.45   | 28072.20   | 27651.60   | 27566.19   | 27737.26   | 27439.05   | 26905.24   | ...        | 29334.07   | 30301.50   | 32108.31   | 34919.68   | 36647.32   | 35999.47   | 35183.37   | 34230.51   | 33602.91   | 32178.03   |\n",
       "| 2020-11-30 | 30426.00   | 29097.77   | 28176.27   | 27599.20   | 27238.99   | 27754.59   | 28747.47   | 30989.04   | 35068.99   | ...        | 37089.41   | 37586.08   | 39435.91   | 41569.99   | 41710.94   | 40297.34   | 38951.67   | 37856.67   | 36983.95   | 35594.03   |\n",
       "| 2020-12-01 | 33520.81   | 31518.27   | 30513.78   | 29844.10   | 29650.85   | 29873.42   | 30934.51   | 32239.30   | 35946.87   | ...        | 37830.17   | 38656.92   | 40396.69   | 42486.34   | 42255.24   | 40895.17   | 39240.65   | 38366.41   | 37446.73   | 36186.83   |\n",
       "| 2020-12-02 | 33585.86   | 32175.55   | 31064.86   | 30213.43   | 29958.96   | 30234.26   | 31138.64   | 32838.39   | 36634.41   | ...        | 40148.58   | 40330.14   | 41279.40   | 42837.79   | 42412.80   | 41146.25   | 39591.41   | 38420.42   | 37519.53   | 36160.62   |\n",
       "| 2020-12-03 | 33902.71   | 32459.36   | 31023.35   | 30190.73   | 30055.35   | 30335.29   | 31201.79   | 32775.21   | 36882.21   | ...        | 39220.21   | 39460.82   | 40532.72   | 42347.17   | 42312.06   | 40834.67   | 39520.36   | 38511.88   | 37607.20   | 36156.08   |\n",
       "| 2020-12-04 | 33896.52   | 31841.72   | 30897.69   | 30191.20   | 29956.10   | 30199.97   | 31015.63   | 32518.79   | 36129.99   | ...        | 37205.46   | 37760.66   | 39543.01   | 41895.73   | 42003.77   | 40806.68   | 39426.67   | 38446.22   | 37356.91   | 36119.57   |\n",
       "| 2020-12-05 | 33935.56   | 31919.44   | 30439.27   | 30020.41   | 29825.63   | 29984.86   | 30444.97   | 31159.67   | 33325.74   | ...        | 35338.14   | 35645.57   | 36905.20   | 39131.92   | 40203.21   | 39037.18   | 38044.69   | 37128.89   | 36016.67   | 34500.14   |\n",
       "| 2020-12-06 | 32332.68   | 30410.13   | 29119.33   | 28484.61   | 28150.14   | 28065.44   | 28189.16   | 27883.71   | 27219.84   | ...        | 29682.72   | 30568.06   | 32342.53   | 35411.15   | 36984.04   | 36310.77   | 35383.08   | 34491.45   | 33698.14   | 32295.74   |\n",
       "| 2020-12-07 | 30828.40   | 29350.31   | 27689.33   | 27608.55   | 27566.71   | 27897.84   | 28873.20   | 31137.18   | 35801.80   | ...        | 40062.14   | 40599.60   | 41677.91   | 43043.60   | 42245.38   | 40750.73   | 39294.57   | 38212.74   | 37225.65   | 35775.04   |\n",
       "| 2020-12-08 | 33842.13   | 32013.00   | 30884.17   | 30082.68   | 29844.18   | 30100.53   | 30743.44   | 32279.80   | 36657.05   | ...        | 41812.33   | 41722.82   | 42341.25   | 43320.35   | 42292.06   | 40720.16   | 39195.74   | 38310.79   | 37173.97   | 35725.46   |\n",
       "\n"
      ],
      "text/plain": [
       "     date       Lag_day7_hour_0 Lag_day7_hour_1 Lag_day7_hour_2 Lag_day7_hour_3\n",
       "1    2016-01-08 26277.24        24991.82        23532.61        22464.78       \n",
       "2    2016-01-09 26224.60        24708.58        23771.58        22921.29       \n",
       "3    2016-01-10 27613.96        25779.28        24566.31        23878.42       \n",
       "4    2016-01-11 27103.09        25439.84        24395.07        23961.03       \n",
       "5    2016-01-12 29244.38        27637.23        26335.78        25870.23       \n",
       "6    2016-01-13 29189.27        27614.02        26578.97        25719.19       \n",
       "7    2016-01-14 28763.95        27284.84        26321.95        25748.49       \n",
       "8    2016-01-15 28602.02        27112.37        25975.34        25315.55       \n",
       "9    2016-01-16 29906.93        28061.98        26808.78        25798.80       \n",
       "10   2016-01-17 28890.37        27133.75        25656.13        24937.87       \n",
       "11   2016-01-18 27130.75        25403.40        24452.96        23959.85       \n",
       "12   2016-01-19 29161.64        27519.24        26256.43        25766.11       \n",
       "13   2016-01-20 28823.02        27321.69        26265.24        25879.07       \n",
       "14   2016-01-21 29225.99        27650.42        26656.23        26235.10       \n",
       "15   2016-01-22 29667.03        27961.70        26760.14        26351.43       \n",
       "16   2016-01-23 29790.90        28108.68        26867.16        26241.31       \n",
       "17   2016-01-24 28125.56        26344.08        25233.20        24526.40       \n",
       "18   2016-01-25 26425.24        25112.59        24197.23        23839.79       \n",
       "19   2016-01-26 29648.05        28023.28        26957.35        26389.70       \n",
       "20   2016-01-27 30139.50        28410.88        27406.34        26722.59       \n",
       "21   2016-01-28 30396.19        28597.47        27458.63        26728.84       \n",
       "22   2016-01-29 30389.96        28517.31        27397.27        26696.24       \n",
       "23   2016-01-30 30215.90        28509.74        27311.13        26492.04       \n",
       "24   2016-01-31 29349.49        27479.98        26088.26        25306.03       \n",
       "25   2016-02-01 28167.47        26516.66        25339.39        24773.74       \n",
       "26   2016-02-02 30881.56        28955.47        27835.79        27148.96       \n",
       "27   2016-02-03 30851.33        29091.24        27798.40        27168.26       \n",
       "28   2016-02-04 31143.68        29167.57        28046.68        27405.39       \n",
       "29   2016-02-05 30705.61        29000.54        27852.55        27163.15       \n",
       "30   2016-02-06 30323.74        28528.18        27243.18        26511.13       \n",
       "...  ...        ...             ...             ...             ...            \n",
       "1768 2020-11-09 27931.36        26891.54        25998.67        25374.78       \n",
       "1769 2020-11-10 31301.07        29875.22        28908.73        28211.00       \n",
       "1770 2020-11-11 31278.36        29818.62        28784.91        28117.57       \n",
       "1771 2020-11-12 31494.01        29936.75        28798.70        28274.43       \n",
       "1772 2020-11-13 32009.92        30508.49        29373.18        28514.08       \n",
       "1773 2020-11-14 32079.29        30494.62        29333.87        28368.57       \n",
       "1774 2020-11-15 30770.20        29115.69        27826.88        27090.40       \n",
       "1775 2020-11-16 29431.56        27820.58        26904.55        26411.68       \n",
       "1776 2020-11-17 32039.71        30535.97        29518.98        28949.57       \n",
       "1777 2020-11-18 32398.76        30830.06        29728.25        28881.86       \n",
       "1778 2020-11-19 32363.50        30840.80        29759.03        28965.76       \n",
       "1779 2020-11-20 32468.48        30834.32        29847.75        29145.47       \n",
       "1780 2020-11-21 32450.53        30959.38        29924.72        29056.63       \n",
       "1781 2020-11-22 31048.02        29392.24        28260.55        27501.22       \n",
       "1782 2020-11-23 29921.97        27849.58        27332.25        26704.18       \n",
       "1783 2020-11-24 33050.14        31434.38        30240.40        29579.22       \n",
       "1784 2020-11-25 33367.10        31647.21        30472.93        29671.27       \n",
       "1785 2020-11-26 33455.97        31805.17        30698.22        29846.76       \n",
       "1786 2020-11-27 33651.81        31949.53        30832.30        29991.21       \n",
       "1787 2020-11-28 33697.36        31916.72        30692.47        29828.03       \n",
       "1788 2020-11-29 31685.68        30105.78        28703.45        28072.20       \n",
       "1789 2020-11-30 30426.00        29097.77        28176.27        27599.20       \n",
       "1790 2020-12-01 33520.81        31518.27        30513.78        29844.10       \n",
       "1791 2020-12-02 33585.86        32175.55        31064.86        30213.43       \n",
       "1792 2020-12-03 33902.71        32459.36        31023.35        30190.73       \n",
       "1793 2020-12-04 33896.52        31841.72        30897.69        30191.20       \n",
       "1794 2020-12-05 33935.56        31919.44        30439.27        30020.41       \n",
       "1795 2020-12-06 32332.68        30410.13        29119.33        28484.61       \n",
       "1796 2020-12-07 30828.40        29350.31        27689.33        27608.55       \n",
       "1797 2020-12-08 33842.13        32013.00        30884.17        30082.68       \n",
       "     Lag_day7_hour_4 Lag_day7_hour_5 Lag_day7_hour_6 Lag_day7_hour_7\n",
       "1    22002.91        21957.08        22203.54        21844.16       \n",
       "2    22870.89        23325.63        23604.98        24022.70       \n",
       "3    23511.38        23672.32        23827.08        23405.11       \n",
       "4    23860.63        24418.47        25708.59        27455.39       \n",
       "5    25975.07        26318.48        27109.29        28570.22       \n",
       "6    25864.63        25918.59        27091.94        28533.05       \n",
       "7    25636.58        25932.52        26963.74        28444.83       \n",
       "8    25128.15        25356.22        26338.72        28086.42       \n",
       "9    25820.46        26035.77        26451.24        26853.42       \n",
       "10   24538.16        24616.05        24478.14        23813.35       \n",
       "11   23839.28        24358.46        25800.81        27336.03       \n",
       "12   25808.92        26222.03        27290.07        28628.67       \n",
       "13   25685.09        26018.14        27012.72        28420.19       \n",
       "14   26136.04        26689.30        27652.89        29176.95       \n",
       "15   26190.00        26646.35        27845.52        29266.49       \n",
       "16   25928.60        26137.31        26617.72        27115.23       \n",
       "17   24131.34        24277.13        24149.15        23448.70       \n",
       "18   23756.17        24217.87        25384.09        27192.81       \n",
       "19   26152.72        26578.69        27561.29        29127.56       \n",
       "20   26551.26        27065.87        28039.32        29469.19       \n",
       "21   26819.66        27295.21        28233.77        29534.69       \n",
       "22   26636.34        27118.79        28127.63        29345.05       \n",
       "23   26476.82        26720.30        27058.22        27679.17       \n",
       "24   24973.17        25001.94        24899.46        24158.93       \n",
       "25   24711.58        25145.67        26151.07        27508.65       \n",
       "26   27041.24        27397.01        28184.65        29740.52       \n",
       "27   27068.64        27445.32        28126.89        29262.17       \n",
       "28   27173.93        27536.99        28220.87        29395.45       \n",
       "29   26971.99        27348.29        28077.26        29062.07       \n",
       "30   26199.54        26561.03        26644.35        27009.01       \n",
       "...  ...             ...             ...             ...            \n",
       "1768 25145.69        25529.95        26497.51        27939.62       \n",
       "1769 28054.92        28199.32        29044.15        29957.26       \n",
       "1770 27905.46        28226.50        28966.82        29817.81       \n",
       "1771 28252.16        28349.84        29122.89        30291.01       \n",
       "1772 28223.05        28561.94        29420.99        30594.99       \n",
       "1773 28365.36        28379.15        29135.26        29387.25       \n",
       "1774 26889.26        26760.23        26929.14        26111.23       \n",
       "1775 26359.61        26635.71        27660.58        29448.99       \n",
       "1776 28570.41        28835.19        29687.03        31025.24       \n",
       "1777 28766.83        28953.33        29860.46        31165.52       \n",
       "1778 28714.25        29072.24        30046.23        31394.88       \n",
       "1779 28962.57        29296.21        30292.12        31490.94       \n",
       "1780 28771.48        29022.93        29557.49        30030.71       \n",
       "1781 27232.02        27252.27        27401.45        26907.92       \n",
       "1782 26573.26        27051.81        28037.82        29930.18       \n",
       "1783 29367.49        29740.95        30666.30        31968.39       \n",
       "1784 29514.25        29866.15        30633.98        32002.03       \n",
       "1785 29600.96        29899.31        30743.88        32074.70       \n",
       "1786 29795.53        29951.31        30758.76        32370.10       \n",
       "1787 29425.40        29748.05        30186.14        30564.89       \n",
       "1788 27651.60        27566.19        27737.26        27439.05       \n",
       "1789 27238.99        27754.59        28747.47        30989.04       \n",
       "1790 29650.85        29873.42        30934.51        32239.30       \n",
       "1791 29958.96        30234.26        31138.64        32838.39       \n",
       "1792 30055.35        30335.29        31201.79        32775.21       \n",
       "1793 29956.10        30199.97        31015.63        32518.79       \n",
       "1794 29825.63        29984.86        30444.97        31159.67       \n",
       "1795 28150.14        28065.44        28189.16        27883.71       \n",
       "1796 27566.71        27897.84        28873.20        31137.18       \n",
       "1797 29844.18        30100.53        30743.44        32279.80       \n",
       "     Lag_day7_hour_8 ... Lag_day7_hour_14 Lag_day7_hour_15 Lag_day7_hour_16\n",
       "1    23094.73        ... 29548.32         29390.89         30734.97        \n",
       "2    26930.48        ... 32796.18         32594.55         33358.47        \n",
       "3    24638.72        ... 31056.47         30979.53         32297.46        \n",
       "4    32982.07        ... 39661.98         39211.00         39760.12        \n",
       "5    33106.00        ... 38086.11         37834.89         38599.34        \n",
       "6    33203.34        ... 36847.22         36433.88         37581.09        \n",
       "7    32804.27        ... 37376.83         37100.43         37668.65        \n",
       "8    32702.24        ... 36555.58         36190.41         37031.72        \n",
       "9    30627.32        ... 33524.80         32951.39         33655.89        \n",
       "10   24676.92        ... 29089.83         29447.75         30569.07        \n",
       "11   32683.24        ... 36383.06         36013.19         36848.54        \n",
       "12   32817.04        ... 34934.00         34785.11         35690.28        \n",
       "13   32572.38        ... 36201.35         36012.25         36785.82        \n",
       "14   33352.18        ... 36279.45         35936.67         36827.63        \n",
       "15   33637.71        ... 35717.39         35343.51         36473.19        \n",
       "16   30856.87        ... 33592.64         33087.78         33693.47        \n",
       "17   24484.28        ... 29060.19         28859.44         29986.06        \n",
       "18   32775.65        ... 38264.20         37831.23         38590.57        \n",
       "19   34277.14        ... 38431.48         37914.67         38254.38        \n",
       "20   34531.37        ... 39016.83         38583.86         39061.14        \n",
       "21   34553.08        ... 38991.04         38424.45         38816.10        \n",
       "22   34622.14        ... 38467.93         38201.49         38866.07        \n",
       "23   31739.43        ... 36555.00         35898.79         35913.32        \n",
       "24   25160.11        ... 31103.80         30750.50         31481.16        \n",
       "25   33542.39        ... 40025.60         39686.93         39815.53        \n",
       "26   34727.66        ... 40809.82         40425.55         40706.38        \n",
       "27   34507.12        ... 39313.51         38772.92         39181.11        \n",
       "28   34668.60        ... 39536.37         38936.48         39101.10        \n",
       "29   34246.13        ... 37475.87         36826.00         37285.78        \n",
       "30   30831.90        ... 34697.06         34002.74         33457.63        \n",
       "...  ...                 ...              ...              ...             \n",
       "1768 32244.73        ... 35239.46         35526.07         36552.09        \n",
       "1769 33415.53        ... 36868.67         36997.12         38021.90        \n",
       "1770 34004.19        ... 37947.51         37981.78         38329.90        \n",
       "1771 33916.21        ... 38465.18         38696.44         39111.30        \n",
       "1772 34438.66        ... 37473.42         37614.03         38395.48        \n",
       "1773 32039.46        ... 33853.06         34011.48         34934.08        \n",
       "1774 25452.79        ... 27311.96         27914.76         29768.90        \n",
       "1775 33515.58        ... 35004.57         35458.30         37024.05        \n",
       "1776 34276.35        ... 35696.60         36271.37         37674.58        \n",
       "1777 34533.51        ... 36053.33         36466.69         37882.03        \n",
       "1778 34571.78        ... 35636.86         36040.27         37712.17        \n",
       "1779 34679.86        ... 35534.50         36199.20         37660.00        \n",
       "1780 32698.70        ... 35350.99         35556.45         36387.39        \n",
       "1781 26786.69        ... 29082.54         29875.90         31267.82        \n",
       "1782 34172.00        ... 36704.66         37351.02         38792.51        \n",
       "1783 35379.53        ... 36604.82         37306.60         38712.18        \n",
       "1784 35510.91        ... 37557.10         38551.32         39933.51        \n",
       "1785 35610.62        ... 39412.98         39853.82         40918.91        \n",
       "1786 36386.47        ... 40727.71         40550.85         40976.32        \n",
       "1787 32613.91        ... 35312.45         35408.44         36581.59        \n",
       "1788 26905.24        ... 29334.07         30301.50         32108.31        \n",
       "1789 35068.99        ... 37089.41         37586.08         39435.91        \n",
       "1790 35946.87        ... 37830.17         38656.92         40396.69        \n",
       "1791 36634.41        ... 40148.58         40330.14         41279.40        \n",
       "1792 36882.21        ... 39220.21         39460.82         40532.72        \n",
       "1793 36129.99        ... 37205.46         37760.66         39543.01        \n",
       "1794 33325.74        ... 35338.14         35645.57         36905.20        \n",
       "1795 27219.84        ... 29682.72         30568.06         32342.53        \n",
       "1796 35801.80        ... 40062.14         40599.60         41677.91        \n",
       "1797 36657.05        ... 41812.33         41722.82         42341.25        \n",
       "     Lag_day7_hour_17 Lag_day7_hour_18 Lag_day7_hour_19 Lag_day7_hour_20\n",
       "1    32048.02         31438.11         30728.47         30166.14        \n",
       "2    34387.95         33591.26         32648.83         31897.73        \n",
       "3    33462.96         33151.03         32450.21         32093.93        \n",
       "4    39633.29         37621.41         35954.18         35114.12        \n",
       "5    38669.63         36954.78         35306.11         34301.59        \n",
       "6    37304.52         35832.00         34499.94         33670.00        \n",
       "7    37906.99         35841.62         34621.65         33784.72        \n",
       "8    37773.70         35930.69         34710.46         33907.65        \n",
       "9    35045.14         34407.27         33494.32         32624.31        \n",
       "10   32006.15         31706.26         31305.87         30870.26        \n",
       "11   37368.40         35697.30         34482.37         33526.95        \n",
       "12   36566.50         35055.97         33912.94         33131.98        \n",
       "13   37173.82         35574.06         34298.68         33580.53        \n",
       "14   37481.89         36195.39         34914.82         34091.81        \n",
       "15   37425.77         36019.98         34574.97         33756.40        \n",
       "16   34599.67         33773.40         32770.63         32167.64        \n",
       "17   31083.39         31046.20         30619.87         30216.41        \n",
       "18   38930.54         37080.02         35590.81         34669.59        \n",
       "19   39006.28         37419.61         35893.88         35024.97        \n",
       "20   39678.86         37842.79         36242.08         35265.50        \n",
       "21   39201.65         37540.47         36208.77         35321.99        \n",
       "22   39255.53         37130.41         35315.89         34779.35        \n",
       "23   36651.18         35931.07         34781.15         33951.80        \n",
       "24   32712.77         32774.93         32341.26         31820.10        \n",
       "25   40446.48         38716.68         36907.14         35987.80        \n",
       "26   40871.83         38346.97         37053.91         36025.46        \n",
       "27   39959.57         38519.91         36987.53         36007.95        \n",
       "28   39566.36         38081.88         36504.46         35585.73        \n",
       "29   38110.44         36981.81         35496.45         34642.81        \n",
       "30   34897.48         34596.05         33538.44         32664.18        \n",
       "...  ...              ...              ...              ...             \n",
       "1768 37959.05         38720.50         37718.10         36872.26        \n",
       "1769 39038.66         39314.53         38256.09         37282.36        \n",
       "1770 39271.36         39548.13         38494.77         37670.14        \n",
       "1771 40006.89         39891.23         38979.84         38004.31        \n",
       "1772 39456.23         39664.77         38607.92         37701.08        \n",
       "1773 36549.26         38006.32         37261.67         36431.01        \n",
       "1774 32450.62         34677.55         34506.00         33944.49        \n",
       "1775 38939.01         39482.19         38524.10         37725.28        \n",
       "1776 39588.11         39930.95         38616.60         38016.34        \n",
       "1777 39718.50         40308.02         39140.15         37626.29        \n",
       "1778 38810.08         40355.11         39277.38         38298.17        \n",
       "1779 39696.79         39992.94         38932.12         37994.92        \n",
       "1780 37810.27         38873.11         37981.81         37065.80        \n",
       "1781 33723.79         35534.51         35154.33         34511.12        \n",
       "1782 40417.23         40819.19         39720.59         38779.80        \n",
       "1783 40754.69         41334.00         40178.34         39142.62        \n",
       "1784 41551.26         41501.39         40227.27         39311.96        \n",
       "1785 42208.11         41673.45         40553.66         39499.32        \n",
       "1786 41854.37         41564.30         40221.79         38875.45        \n",
       "1787 38630.06         39379.15         38432.76         37293.60        \n",
       "1788 34919.68         36647.32         35999.47         35183.37        \n",
       "1789 41569.99         41710.94         40297.34         38951.67        \n",
       "1790 42486.34         42255.24         40895.17         39240.65        \n",
       "1791 42837.79         42412.80         41146.25         39591.41        \n",
       "1792 42347.17         42312.06         40834.67         39520.36        \n",
       "1793 41895.73         42003.77         40806.68         39426.67        \n",
       "1794 39131.92         40203.21         39037.18         38044.69        \n",
       "1795 35411.15         36984.04         36310.77         35383.08        \n",
       "1796 43043.60         42245.38         40750.73         39294.57        \n",
       "1797 43320.35         42292.06         40720.16         39195.74        \n",
       "     Lag_day7_hour_21 Lag_day7_hour_22 Lag_day7_hour_23\n",
       "1    29461.28         29242.83         28069.09        \n",
       "2    31049.20         30906.43         29621.09        \n",
       "3    31315.16         31014.19         29462.06        \n",
       "4    34066.40         33686.83         31733.54        \n",
       "5    33400.82         33359.37         31629.97        \n",
       "6    32931.12         32913.06         31450.65        \n",
       "7    32638.14         32739.98         31092.87        \n",
       "8    33048.69         33220.16         32021.60        \n",
       "9    32097.79         32176.63         30760.17        \n",
       "10   30462.79         30537.75         28857.66        \n",
       "11   32634.16         32791.35         31147.83        \n",
       "12   32332.76         32523.14         30906.87        \n",
       "13   32554.09         32836.52         31307.88        \n",
       "14   33323.90         33345.01         31938.60        \n",
       "15   33140.33         33272.46         31803.26        \n",
       "16   31414.53         31666.20         30292.67        \n",
       "17   29589.83         29593.28         28448.52        \n",
       "18   33765.00         33590.16         32035.19        \n",
       "19   34132.03         34201.22         32449.57        \n",
       "20   34442.99         34423.91         32661.51        \n",
       "21   34453.40         34506.70         32959.37        \n",
       "22   33927.07         34209.59         32617.78        \n",
       "23   33131.48         33030.06         31630.82        \n",
       "24   31160.32         31284.85         30005.39        \n",
       "25   34823.23         34860.72         33253.80        \n",
       "26   34954.00         35129.39         33279.95        \n",
       "27   34975.54         34932.33         33455.88        \n",
       "28   34747.11         34799.91         33343.43        \n",
       "29   33771.10         33922.59         32485.51        \n",
       "30   31927.94         32124.59         30873.86        \n",
       "...  ...              ...              ...             \n",
       "1768 35834.28         34616.98         33151.95        \n",
       "1769 36150.19         34793.99         33281.76        \n",
       "1770 36398.73         35086.17         33533.38        \n",
       "1771 36617.62         35449.89         34053.60        \n",
       "1772 36612.05         35419.89         34157.70        \n",
       "1773 35355.84         34199.98         32808.00        \n",
       "1774 33195.26         32048.87         30885.94        \n",
       "1775 36694.07         35314.45         33838.31        \n",
       "1776 36887.68         35579.04         34176.40        \n",
       "1777 37088.51         35748.63         34327.68        \n",
       "1778 37188.86         35905.85         34497.57        \n",
       "1779 36986.96         35724.27         34360.70        \n",
       "1780 36019.15         34725.68         32784.78        \n",
       "1781 33683.09         32732.91         31167.42        \n",
       "1782 37567.66         36467.46         35142.84        \n",
       "1783 38244.32         36771.07         35374.13        \n",
       "1784 37649.06         36816.58         35620.10        \n",
       "1785 38429.24         37270.44         35731.83        \n",
       "1786 37749.83         36786.90         35102.41        \n",
       "1787 36304.68         35250.20         33817.76        \n",
       "1788 34230.51         33602.91         32178.03        \n",
       "1789 37856.67         36983.95         35594.03        \n",
       "1790 38366.41         37446.73         36186.83        \n",
       "1791 38420.42         37519.53         36160.62        \n",
       "1792 38511.88         37607.20         36156.08        \n",
       "1793 38446.22         37356.91         36119.57        \n",
       "1794 37128.89         36016.67         34500.14        \n",
       "1795 34491.45         33698.14         32295.74        \n",
       "1796 38212.74         37225.65         35775.04        \n",
       "1797 38310.79         37173.97         35725.46        "
      ]
     },
     "metadata": {},
     "output_type": "display_data"
    }
   ],
   "source": [
    "data_wide <- spread(cont, hour, consumption)\n",
    "lag_7=copy(data_wide[,date:=date+7])\n",
    "col_name(lag_7,\"Lag_day7_hour_\")\n",
    "lag_7"
   ]
  },
  {
   "cell_type": "code",
   "execution_count": 140,
   "metadata": {},
   "outputs": [],
   "source": [
    "dt_with_lag2=merge(cont,lag_2,by.x=\"date\",by.y=\"date\",all.x=TRUE)"
   ]
  },
  {
   "cell_type": "code",
   "execution_count": 141,
   "metadata": {},
   "outputs": [],
   "source": [
    "full_dt=merge(dt_with_lag2,lag_7,by.x=\"date\",by.y=\"date\",all.x=TRUE)"
   ]
  },
  {
   "cell_type": "code",
   "execution_count": 157,
   "metadata": {},
   "outputs": [
    {
     "data": {
      "text/html": [
       "<table>\n",
       "<thead><tr><th scope=col>date</th><th scope=col>hour</th><th scope=col>Lag_day2_hour_0</th><th scope=col>Lag_day2_hour_1</th><th scope=col>Lag_day2_hour_2</th><th scope=col>Lag_day2_hour_3</th><th scope=col>Lag_day2_hour_4</th><th scope=col>Lag_day2_hour_5</th><th scope=col>Lag_day2_hour_6</th><th scope=col>Lag_day2_hour_7</th><th scope=col>...</th><th scope=col>Lag_day7_hour_15</th><th scope=col>Lag_day7_hour_16</th><th scope=col>Lag_day7_hour_17</th><th scope=col>Lag_day7_hour_18</th><th scope=col>Lag_day7_hour_19</th><th scope=col>Lag_day7_hour_20</th><th scope=col>Lag_day7_hour_21</th><th scope=col>Lag_day7_hour_22</th><th scope=col>Lag_day7_hour_23</th><th scope=col>consumption</th></tr></thead>\n",
       "<tbody>\n",
       "\t<tr><td>2016-01-01</td><td> 0        </td><td>NA        </td><td>NA        </td><td>NA        </td><td>NA        </td><td>NA        </td><td>NA        </td><td>NA        </td><td>NA        </td><td>...       </td><td>NA        </td><td>NA        </td><td>NA        </td><td>NA        </td><td>NA        </td><td>NA        </td><td>NA        </td><td>NA        </td><td>NA        </td><td>26277.24  </td></tr>\n",
       "\t<tr><td>2016-01-01</td><td> 1        </td><td>NA        </td><td>NA        </td><td>NA        </td><td>NA        </td><td>NA        </td><td>NA        </td><td>NA        </td><td>NA        </td><td>...       </td><td>NA        </td><td>NA        </td><td>NA        </td><td>NA        </td><td>NA        </td><td>NA        </td><td>NA        </td><td>NA        </td><td>NA        </td><td>24991.82  </td></tr>\n",
       "\t<tr><td>2016-01-01</td><td> 2        </td><td>NA        </td><td>NA        </td><td>NA        </td><td>NA        </td><td>NA        </td><td>NA        </td><td>NA        </td><td>NA        </td><td>...       </td><td>NA        </td><td>NA        </td><td>NA        </td><td>NA        </td><td>NA        </td><td>NA        </td><td>NA        </td><td>NA        </td><td>NA        </td><td>23532.61  </td></tr>\n",
       "\t<tr><td>2016-01-01</td><td> 3        </td><td>NA        </td><td>NA        </td><td>NA        </td><td>NA        </td><td>NA        </td><td>NA        </td><td>NA        </td><td>NA        </td><td>...       </td><td>NA        </td><td>NA        </td><td>NA        </td><td>NA        </td><td>NA        </td><td>NA        </td><td>NA        </td><td>NA        </td><td>NA        </td><td>22464.78  </td></tr>\n",
       "\t<tr><td>2016-01-01</td><td> 4        </td><td>NA        </td><td>NA        </td><td>NA        </td><td>NA        </td><td>NA        </td><td>NA        </td><td>NA        </td><td>NA        </td><td>...       </td><td>NA        </td><td>NA        </td><td>NA        </td><td>NA        </td><td>NA        </td><td>NA        </td><td>NA        </td><td>NA        </td><td>NA        </td><td>22002.91  </td></tr>\n",
       "\t<tr><td>2016-01-01</td><td> 5        </td><td>NA        </td><td>NA        </td><td>NA        </td><td>NA        </td><td>NA        </td><td>NA        </td><td>NA        </td><td>NA        </td><td>...       </td><td>NA        </td><td>NA        </td><td>NA        </td><td>NA        </td><td>NA        </td><td>NA        </td><td>NA        </td><td>NA        </td><td>NA        </td><td>21957.08  </td></tr>\n",
       "\t<tr><td>2016-01-01</td><td> 6        </td><td>NA        </td><td>NA        </td><td>NA        </td><td>NA        </td><td>NA        </td><td>NA        </td><td>NA        </td><td>NA        </td><td>...       </td><td>NA        </td><td>NA        </td><td>NA        </td><td>NA        </td><td>NA        </td><td>NA        </td><td>NA        </td><td>NA        </td><td>NA        </td><td>22203.54  </td></tr>\n",
       "\t<tr><td>2016-01-01</td><td> 7        </td><td>NA        </td><td>NA        </td><td>NA        </td><td>NA        </td><td>NA        </td><td>NA        </td><td>NA        </td><td>NA        </td><td>...       </td><td>NA        </td><td>NA        </td><td>NA        </td><td>NA        </td><td>NA        </td><td>NA        </td><td>NA        </td><td>NA        </td><td>NA        </td><td>21844.16  </td></tr>\n",
       "\t<tr><td>2016-01-01</td><td> 8        </td><td>NA        </td><td>NA        </td><td>NA        </td><td>NA        </td><td>NA        </td><td>NA        </td><td>NA        </td><td>NA        </td><td>...       </td><td>NA        </td><td>NA        </td><td>NA        </td><td>NA        </td><td>NA        </td><td>NA        </td><td>NA        </td><td>NA        </td><td>NA        </td><td>23094.73  </td></tr>\n",
       "\t<tr><td>2016-01-01</td><td> 9        </td><td>NA        </td><td>NA        </td><td>NA        </td><td>NA        </td><td>NA        </td><td>NA        </td><td>NA        </td><td>NA        </td><td>...       </td><td>NA        </td><td>NA        </td><td>NA        </td><td>NA        </td><td>NA        </td><td>NA        </td><td>NA        </td><td>NA        </td><td>NA        </td><td>25202.27  </td></tr>\n",
       "\t<tr><td>2016-01-01</td><td>10        </td><td>NA        </td><td>NA        </td><td>NA        </td><td>NA        </td><td>NA        </td><td>NA        </td><td>NA        </td><td>NA        </td><td>...       </td><td>NA        </td><td>NA        </td><td>NA        </td><td>NA        </td><td>NA        </td><td>NA        </td><td>NA        </td><td>NA        </td><td>NA        </td><td>27224.96  </td></tr>\n",
       "\t<tr><td>2016-01-01</td><td>11        </td><td>NA        </td><td>NA        </td><td>NA        </td><td>NA        </td><td>NA        </td><td>NA        </td><td>NA        </td><td>NA        </td><td>...       </td><td>NA        </td><td>NA        </td><td>NA        </td><td>NA        </td><td>NA        </td><td>NA        </td><td>NA        </td><td>NA        </td><td>NA        </td><td>28908.04  </td></tr>\n",
       "\t<tr><td>2016-01-01</td><td>12        </td><td>NA        </td><td>NA        </td><td>NA        </td><td>NA        </td><td>NA        </td><td>NA        </td><td>NA        </td><td>NA        </td><td>...       </td><td>NA        </td><td>NA        </td><td>NA        </td><td>NA        </td><td>NA        </td><td>NA        </td><td>NA        </td><td>NA        </td><td>NA        </td><td>28789.25  </td></tr>\n",
       "\t<tr><td>2016-01-01</td><td>13        </td><td>NA        </td><td>NA        </td><td>NA        </td><td>NA        </td><td>NA        </td><td>NA        </td><td>NA        </td><td>NA        </td><td>...       </td><td>NA        </td><td>NA        </td><td>NA        </td><td>NA        </td><td>NA        </td><td>NA        </td><td>NA        </td><td>NA        </td><td>NA        </td><td>29367.70  </td></tr>\n",
       "\t<tr><td>2016-01-01</td><td>14        </td><td>NA        </td><td>NA        </td><td>NA        </td><td>NA        </td><td>NA        </td><td>NA        </td><td>NA        </td><td>NA        </td><td>...       </td><td>NA        </td><td>NA        </td><td>NA        </td><td>NA        </td><td>NA        </td><td>NA        </td><td>NA        </td><td>NA        </td><td>NA        </td><td>29548.32  </td></tr>\n",
       "\t<tr><td>2016-01-01</td><td>15        </td><td>NA        </td><td>NA        </td><td>NA        </td><td>NA        </td><td>NA        </td><td>NA        </td><td>NA        </td><td>NA        </td><td>...       </td><td>NA        </td><td>NA        </td><td>NA        </td><td>NA        </td><td>NA        </td><td>NA        </td><td>NA        </td><td>NA        </td><td>NA        </td><td>29390.89  </td></tr>\n",
       "\t<tr><td>2016-01-01</td><td>16        </td><td>NA        </td><td>NA        </td><td>NA        </td><td>NA        </td><td>NA        </td><td>NA        </td><td>NA        </td><td>NA        </td><td>...       </td><td>NA        </td><td>NA        </td><td>NA        </td><td>NA        </td><td>NA        </td><td>NA        </td><td>NA        </td><td>NA        </td><td>NA        </td><td>30734.97  </td></tr>\n",
       "\t<tr><td>2016-01-01</td><td>17        </td><td>NA        </td><td>NA        </td><td>NA        </td><td>NA        </td><td>NA        </td><td>NA        </td><td>NA        </td><td>NA        </td><td>...       </td><td>NA        </td><td>NA        </td><td>NA        </td><td>NA        </td><td>NA        </td><td>NA        </td><td>NA        </td><td>NA        </td><td>NA        </td><td>32048.02  </td></tr>\n",
       "\t<tr><td>2016-01-01</td><td>18        </td><td>NA        </td><td>NA        </td><td>NA        </td><td>NA        </td><td>NA        </td><td>NA        </td><td>NA        </td><td>NA        </td><td>...       </td><td>NA        </td><td>NA        </td><td>NA        </td><td>NA        </td><td>NA        </td><td>NA        </td><td>NA        </td><td>NA        </td><td>NA        </td><td>31438.11  </td></tr>\n",
       "\t<tr><td>2016-01-01</td><td>19        </td><td>NA        </td><td>NA        </td><td>NA        </td><td>NA        </td><td>NA        </td><td>NA        </td><td>NA        </td><td>NA        </td><td>...       </td><td>NA        </td><td>NA        </td><td>NA        </td><td>NA        </td><td>NA        </td><td>NA        </td><td>NA        </td><td>NA        </td><td>NA        </td><td>30728.47  </td></tr>\n",
       "\t<tr><td>2016-01-01</td><td>20        </td><td>NA        </td><td>NA        </td><td>NA        </td><td>NA        </td><td>NA        </td><td>NA        </td><td>NA        </td><td>NA        </td><td>...       </td><td>NA        </td><td>NA        </td><td>NA        </td><td>NA        </td><td>NA        </td><td>NA        </td><td>NA        </td><td>NA        </td><td>NA        </td><td>30166.14  </td></tr>\n",
       "\t<tr><td>2016-01-01</td><td>21        </td><td>NA        </td><td>NA        </td><td>NA        </td><td>NA        </td><td>NA        </td><td>NA        </td><td>NA        </td><td>NA        </td><td>...       </td><td>NA        </td><td>NA        </td><td>NA        </td><td>NA        </td><td>NA        </td><td>NA        </td><td>NA        </td><td>NA        </td><td>NA        </td><td>29461.28  </td></tr>\n",
       "\t<tr><td>2016-01-01</td><td>22        </td><td>NA        </td><td>NA        </td><td>NA        </td><td>NA        </td><td>NA        </td><td>NA        </td><td>NA        </td><td>NA        </td><td>...       </td><td>NA        </td><td>NA        </td><td>NA        </td><td>NA        </td><td>NA        </td><td>NA        </td><td>NA        </td><td>NA        </td><td>NA        </td><td>29242.83  </td></tr>\n",
       "\t<tr><td>2016-01-01</td><td>23        </td><td>NA        </td><td>NA        </td><td>NA        </td><td>NA        </td><td>NA        </td><td>NA        </td><td>NA        </td><td>NA        </td><td>...       </td><td>NA        </td><td>NA        </td><td>NA        </td><td>NA        </td><td>NA        </td><td>NA        </td><td>NA        </td><td>NA        </td><td>NA        </td><td>28069.09  </td></tr>\n",
       "\t<tr><td>2016-01-02</td><td> 0        </td><td>NA        </td><td>NA        </td><td>NA        </td><td>NA        </td><td>NA        </td><td>NA        </td><td>NA        </td><td>NA        </td><td>...       </td><td>NA        </td><td>NA        </td><td>NA        </td><td>NA        </td><td>NA        </td><td>NA        </td><td>NA        </td><td>NA        </td><td>NA        </td><td>26224.60  </td></tr>\n",
       "\t<tr><td>2016-01-02</td><td> 1        </td><td>NA        </td><td>NA        </td><td>NA        </td><td>NA        </td><td>NA        </td><td>NA        </td><td>NA        </td><td>NA        </td><td>...       </td><td>NA        </td><td>NA        </td><td>NA        </td><td>NA        </td><td>NA        </td><td>NA        </td><td>NA        </td><td>NA        </td><td>NA        </td><td>24708.58  </td></tr>\n",
       "\t<tr><td>2016-01-02</td><td> 2        </td><td>NA        </td><td>NA        </td><td>NA        </td><td>NA        </td><td>NA        </td><td>NA        </td><td>NA        </td><td>NA        </td><td>...       </td><td>NA        </td><td>NA        </td><td>NA        </td><td>NA        </td><td>NA        </td><td>NA        </td><td>NA        </td><td>NA        </td><td>NA        </td><td>23771.58  </td></tr>\n",
       "\t<tr><td>2016-01-02</td><td> 3        </td><td>NA        </td><td>NA        </td><td>NA        </td><td>NA        </td><td>NA        </td><td>NA        </td><td>NA        </td><td>NA        </td><td>...       </td><td>NA        </td><td>NA        </td><td>NA        </td><td>NA        </td><td>NA        </td><td>NA        </td><td>NA        </td><td>NA        </td><td>NA        </td><td>22921.29  </td></tr>\n",
       "\t<tr><td>2016-01-02</td><td> 4        </td><td>NA        </td><td>NA        </td><td>NA        </td><td>NA        </td><td>NA        </td><td>NA        </td><td>NA        </td><td>NA        </td><td>...       </td><td>NA        </td><td>NA        </td><td>NA        </td><td>NA        </td><td>NA        </td><td>NA        </td><td>NA        </td><td>NA        </td><td>NA        </td><td>22870.89  </td></tr>\n",
       "\t<tr><td>2016-01-02</td><td> 5        </td><td>NA        </td><td>NA        </td><td>NA        </td><td>NA        </td><td>NA        </td><td>NA        </td><td>NA        </td><td>NA        </td><td>...       </td><td>NA        </td><td>NA        </td><td>NA        </td><td>NA        </td><td>NA        </td><td>NA        </td><td>NA        </td><td>NA        </td><td>NA        </td><td>23325.63  </td></tr>\n",
       "\t<tr><td>...</td><td>...</td><td>...</td><td>...</td><td>...</td><td>...</td><td>...</td><td>...</td><td>...</td><td>...</td><td>   </td><td>...</td><td>...</td><td>...</td><td>...</td><td>...</td><td>...</td><td>...</td><td>...</td><td>...</td><td>...</td></tr>\n",
       "\t<tr><td>2020-11-30</td><td>18        </td><td>33935.56  </td><td>31919.44  </td><td>30439.27  </td><td>30020.41  </td><td>29825.63  </td><td>29984.86  </td><td>30444.97  </td><td>31159.67  </td><td>...       </td><td>37586.08  </td><td>39435.91  </td><td>41569.99  </td><td>41710.94  </td><td>40297.34  </td><td>38951.67  </td><td>37856.67  </td><td>36983.95  </td><td>35594.03  </td><td>42245.38  </td></tr>\n",
       "\t<tr><td>2020-11-30</td><td>19        </td><td>33935.56  </td><td>31919.44  </td><td>30439.27  </td><td>30020.41  </td><td>29825.63  </td><td>29984.86  </td><td>30444.97  </td><td>31159.67  </td><td>...       </td><td>37586.08  </td><td>39435.91  </td><td>41569.99  </td><td>41710.94  </td><td>40297.34  </td><td>38951.67  </td><td>37856.67  </td><td>36983.95  </td><td>35594.03  </td><td>40750.73  </td></tr>\n",
       "\t<tr><td>2020-11-30</td><td>20        </td><td>33935.56  </td><td>31919.44  </td><td>30439.27  </td><td>30020.41  </td><td>29825.63  </td><td>29984.86  </td><td>30444.97  </td><td>31159.67  </td><td>...       </td><td>37586.08  </td><td>39435.91  </td><td>41569.99  </td><td>41710.94  </td><td>40297.34  </td><td>38951.67  </td><td>37856.67  </td><td>36983.95  </td><td>35594.03  </td><td>39294.57  </td></tr>\n",
       "\t<tr><td>2020-11-30</td><td>21        </td><td>33935.56  </td><td>31919.44  </td><td>30439.27  </td><td>30020.41  </td><td>29825.63  </td><td>29984.86  </td><td>30444.97  </td><td>31159.67  </td><td>...       </td><td>37586.08  </td><td>39435.91  </td><td>41569.99  </td><td>41710.94  </td><td>40297.34  </td><td>38951.67  </td><td>37856.67  </td><td>36983.95  </td><td>35594.03  </td><td>38212.74  </td></tr>\n",
       "\t<tr><td>2020-11-30</td><td>22        </td><td>33935.56  </td><td>31919.44  </td><td>30439.27  </td><td>30020.41  </td><td>29825.63  </td><td>29984.86  </td><td>30444.97  </td><td>31159.67  </td><td>...       </td><td>37586.08  </td><td>39435.91  </td><td>41569.99  </td><td>41710.94  </td><td>40297.34  </td><td>38951.67  </td><td>37856.67  </td><td>36983.95  </td><td>35594.03  </td><td>37225.65  </td></tr>\n",
       "\t<tr><td>2020-11-30</td><td>23        </td><td>33935.56  </td><td>31919.44  </td><td>30439.27  </td><td>30020.41  </td><td>29825.63  </td><td>29984.86  </td><td>30444.97  </td><td>31159.67  </td><td>...       </td><td>37586.08  </td><td>39435.91  </td><td>41569.99  </td><td>41710.94  </td><td>40297.34  </td><td>38951.67  </td><td>37856.67  </td><td>36983.95  </td><td>35594.03  </td><td>35775.04  </td></tr>\n",
       "\t<tr><td>2020-12-01</td><td> 0        </td><td>32332.68  </td><td>30410.13  </td><td>29119.33  </td><td>28484.61  </td><td>28150.14  </td><td>28065.44  </td><td>28189.16  </td><td>27883.71  </td><td>...       </td><td>38656.92  </td><td>40396.69  </td><td>42486.34  </td><td>42255.24  </td><td>40895.17  </td><td>39240.65  </td><td>38366.41  </td><td>37446.73  </td><td>36186.83  </td><td>33842.13  </td></tr>\n",
       "\t<tr><td>2020-12-01</td><td> 1        </td><td>32332.68  </td><td>30410.13  </td><td>29119.33  </td><td>28484.61  </td><td>28150.14  </td><td>28065.44  </td><td>28189.16  </td><td>27883.71  </td><td>...       </td><td>38656.92  </td><td>40396.69  </td><td>42486.34  </td><td>42255.24  </td><td>40895.17  </td><td>39240.65  </td><td>38366.41  </td><td>37446.73  </td><td>36186.83  </td><td>32013.00  </td></tr>\n",
       "\t<tr><td>2020-12-01</td><td> 2        </td><td>32332.68  </td><td>30410.13  </td><td>29119.33  </td><td>28484.61  </td><td>28150.14  </td><td>28065.44  </td><td>28189.16  </td><td>27883.71  </td><td>...       </td><td>38656.92  </td><td>40396.69  </td><td>42486.34  </td><td>42255.24  </td><td>40895.17  </td><td>39240.65  </td><td>38366.41  </td><td>37446.73  </td><td>36186.83  </td><td>30884.17  </td></tr>\n",
       "\t<tr><td>2020-12-01</td><td> 3        </td><td>32332.68  </td><td>30410.13  </td><td>29119.33  </td><td>28484.61  </td><td>28150.14  </td><td>28065.44  </td><td>28189.16  </td><td>27883.71  </td><td>...       </td><td>38656.92  </td><td>40396.69  </td><td>42486.34  </td><td>42255.24  </td><td>40895.17  </td><td>39240.65  </td><td>38366.41  </td><td>37446.73  </td><td>36186.83  </td><td>30082.68  </td></tr>\n",
       "\t<tr><td>2020-12-01</td><td> 4        </td><td>32332.68  </td><td>30410.13  </td><td>29119.33  </td><td>28484.61  </td><td>28150.14  </td><td>28065.44  </td><td>28189.16  </td><td>27883.71  </td><td>...       </td><td>38656.92  </td><td>40396.69  </td><td>42486.34  </td><td>42255.24  </td><td>40895.17  </td><td>39240.65  </td><td>38366.41  </td><td>37446.73  </td><td>36186.83  </td><td>29844.18  </td></tr>\n",
       "\t<tr><td>2020-12-01</td><td> 5        </td><td>32332.68  </td><td>30410.13  </td><td>29119.33  </td><td>28484.61  </td><td>28150.14  </td><td>28065.44  </td><td>28189.16  </td><td>27883.71  </td><td>...       </td><td>38656.92  </td><td>40396.69  </td><td>42486.34  </td><td>42255.24  </td><td>40895.17  </td><td>39240.65  </td><td>38366.41  </td><td>37446.73  </td><td>36186.83  </td><td>30100.53  </td></tr>\n",
       "\t<tr><td>2020-12-01</td><td> 6        </td><td>32332.68  </td><td>30410.13  </td><td>29119.33  </td><td>28484.61  </td><td>28150.14  </td><td>28065.44  </td><td>28189.16  </td><td>27883.71  </td><td>...       </td><td>38656.92  </td><td>40396.69  </td><td>42486.34  </td><td>42255.24  </td><td>40895.17  </td><td>39240.65  </td><td>38366.41  </td><td>37446.73  </td><td>36186.83  </td><td>30743.44  </td></tr>\n",
       "\t<tr><td>2020-12-01</td><td> 7        </td><td>32332.68  </td><td>30410.13  </td><td>29119.33  </td><td>28484.61  </td><td>28150.14  </td><td>28065.44  </td><td>28189.16  </td><td>27883.71  </td><td>...       </td><td>38656.92  </td><td>40396.69  </td><td>42486.34  </td><td>42255.24  </td><td>40895.17  </td><td>39240.65  </td><td>38366.41  </td><td>37446.73  </td><td>36186.83  </td><td>32279.80  </td></tr>\n",
       "\t<tr><td>2020-12-01</td><td> 8        </td><td>32332.68  </td><td>30410.13  </td><td>29119.33  </td><td>28484.61  </td><td>28150.14  </td><td>28065.44  </td><td>28189.16  </td><td>27883.71  </td><td>...       </td><td>38656.92  </td><td>40396.69  </td><td>42486.34  </td><td>42255.24  </td><td>40895.17  </td><td>39240.65  </td><td>38366.41  </td><td>37446.73  </td><td>36186.83  </td><td>36657.05  </td></tr>\n",
       "\t<tr><td>2020-12-01</td><td> 9        </td><td>32332.68  </td><td>30410.13  </td><td>29119.33  </td><td>28484.61  </td><td>28150.14  </td><td>28065.44  </td><td>28189.16  </td><td>27883.71  </td><td>...       </td><td>38656.92  </td><td>40396.69  </td><td>42486.34  </td><td>42255.24  </td><td>40895.17  </td><td>39240.65  </td><td>38366.41  </td><td>37446.73  </td><td>36186.83  </td><td>39815.64  </td></tr>\n",
       "\t<tr><td>2020-12-01</td><td>10        </td><td>32332.68  </td><td>30410.13  </td><td>29119.33  </td><td>28484.61  </td><td>28150.14  </td><td>28065.44  </td><td>28189.16  </td><td>27883.71  </td><td>...       </td><td>38656.92  </td><td>40396.69  </td><td>42486.34  </td><td>42255.24  </td><td>40895.17  </td><td>39240.65  </td><td>38366.41  </td><td>37446.73  </td><td>36186.83  </td><td>40846.18  </td></tr>\n",
       "\t<tr><td>2020-12-01</td><td>11        </td><td>32332.68  </td><td>30410.13  </td><td>29119.33  </td><td>28484.61  </td><td>28150.14  </td><td>28065.44  </td><td>28189.16  </td><td>27883.71  </td><td>...       </td><td>38656.92  </td><td>40396.69  </td><td>42486.34  </td><td>42255.24  </td><td>40895.17  </td><td>39240.65  </td><td>38366.41  </td><td>37446.73  </td><td>36186.83  </td><td>41320.19  </td></tr>\n",
       "\t<tr><td>2020-12-01</td><td>12        </td><td>32332.68  </td><td>30410.13  </td><td>29119.33  </td><td>28484.61  </td><td>28150.14  </td><td>28065.44  </td><td>28189.16  </td><td>27883.71  </td><td>...       </td><td>38656.92  </td><td>40396.69  </td><td>42486.34  </td><td>42255.24  </td><td>40895.17  </td><td>39240.65  </td><td>38366.41  </td><td>37446.73  </td><td>36186.83  </td><td>40054.73  </td></tr>\n",
       "\t<tr><td>2020-12-01</td><td>13        </td><td>32332.68  </td><td>30410.13  </td><td>29119.33  </td><td>28484.61  </td><td>28150.14  </td><td>28065.44  </td><td>28189.16  </td><td>27883.71  </td><td>...       </td><td>38656.92  </td><td>40396.69  </td><td>42486.34  </td><td>42255.24  </td><td>40895.17  </td><td>39240.65  </td><td>38366.41  </td><td>37446.73  </td><td>36186.83  </td><td>40874.30  </td></tr>\n",
       "\t<tr><td>2020-12-01</td><td>14        </td><td>32332.68  </td><td>30410.13  </td><td>29119.33  </td><td>28484.61  </td><td>28150.14  </td><td>28065.44  </td><td>28189.16  </td><td>27883.71  </td><td>...       </td><td>38656.92  </td><td>40396.69  </td><td>42486.34  </td><td>42255.24  </td><td>40895.17  </td><td>39240.65  </td><td>38366.41  </td><td>37446.73  </td><td>36186.83  </td><td>41812.33  </td></tr>\n",
       "\t<tr><td>2020-12-01</td><td>15        </td><td>32332.68  </td><td>30410.13  </td><td>29119.33  </td><td>28484.61  </td><td>28150.14  </td><td>28065.44  </td><td>28189.16  </td><td>27883.71  </td><td>...       </td><td>38656.92  </td><td>40396.69  </td><td>42486.34  </td><td>42255.24  </td><td>40895.17  </td><td>39240.65  </td><td>38366.41  </td><td>37446.73  </td><td>36186.83  </td><td>41722.82  </td></tr>\n",
       "\t<tr><td>2020-12-01</td><td>16        </td><td>32332.68  </td><td>30410.13  </td><td>29119.33  </td><td>28484.61  </td><td>28150.14  </td><td>28065.44  </td><td>28189.16  </td><td>27883.71  </td><td>...       </td><td>38656.92  </td><td>40396.69  </td><td>42486.34  </td><td>42255.24  </td><td>40895.17  </td><td>39240.65  </td><td>38366.41  </td><td>37446.73  </td><td>36186.83  </td><td>42341.25  </td></tr>\n",
       "\t<tr><td>2020-12-01</td><td>17        </td><td>32332.68  </td><td>30410.13  </td><td>29119.33  </td><td>28484.61  </td><td>28150.14  </td><td>28065.44  </td><td>28189.16  </td><td>27883.71  </td><td>...       </td><td>38656.92  </td><td>40396.69  </td><td>42486.34  </td><td>42255.24  </td><td>40895.17  </td><td>39240.65  </td><td>38366.41  </td><td>37446.73  </td><td>36186.83  </td><td>43320.35  </td></tr>\n",
       "\t<tr><td>2020-12-01</td><td>18        </td><td>32332.68  </td><td>30410.13  </td><td>29119.33  </td><td>28484.61  </td><td>28150.14  </td><td>28065.44  </td><td>28189.16  </td><td>27883.71  </td><td>...       </td><td>38656.92  </td><td>40396.69  </td><td>42486.34  </td><td>42255.24  </td><td>40895.17  </td><td>39240.65  </td><td>38366.41  </td><td>37446.73  </td><td>36186.83  </td><td>42292.06  </td></tr>\n",
       "\t<tr><td>2020-12-01</td><td>19        </td><td>32332.68  </td><td>30410.13  </td><td>29119.33  </td><td>28484.61  </td><td>28150.14  </td><td>28065.44  </td><td>28189.16  </td><td>27883.71  </td><td>...       </td><td>38656.92  </td><td>40396.69  </td><td>42486.34  </td><td>42255.24  </td><td>40895.17  </td><td>39240.65  </td><td>38366.41  </td><td>37446.73  </td><td>36186.83  </td><td>40720.16  </td></tr>\n",
       "\t<tr><td>2020-12-01</td><td>20        </td><td>32332.68  </td><td>30410.13  </td><td>29119.33  </td><td>28484.61  </td><td>28150.14  </td><td>28065.44  </td><td>28189.16  </td><td>27883.71  </td><td>...       </td><td>38656.92  </td><td>40396.69  </td><td>42486.34  </td><td>42255.24  </td><td>40895.17  </td><td>39240.65  </td><td>38366.41  </td><td>37446.73  </td><td>36186.83  </td><td>39195.74  </td></tr>\n",
       "\t<tr><td>2020-12-01</td><td>21        </td><td>32332.68  </td><td>30410.13  </td><td>29119.33  </td><td>28484.61  </td><td>28150.14  </td><td>28065.44  </td><td>28189.16  </td><td>27883.71  </td><td>...       </td><td>38656.92  </td><td>40396.69  </td><td>42486.34  </td><td>42255.24  </td><td>40895.17  </td><td>39240.65  </td><td>38366.41  </td><td>37446.73  </td><td>36186.83  </td><td>38310.79  </td></tr>\n",
       "\t<tr><td>2020-12-01</td><td>22        </td><td>32332.68  </td><td>30410.13  </td><td>29119.33  </td><td>28484.61  </td><td>28150.14  </td><td>28065.44  </td><td>28189.16  </td><td>27883.71  </td><td>...       </td><td>38656.92  </td><td>40396.69  </td><td>42486.34  </td><td>42255.24  </td><td>40895.17  </td><td>39240.65  </td><td>38366.41  </td><td>37446.73  </td><td>36186.83  </td><td>37173.97  </td></tr>\n",
       "\t<tr><td>2020-12-01</td><td>23        </td><td>32332.68  </td><td>30410.13  </td><td>29119.33  </td><td>28484.61  </td><td>28150.14  </td><td>28065.44  </td><td>28189.16  </td><td>27883.71  </td><td>...       </td><td>38656.92  </td><td>40396.69  </td><td>42486.34  </td><td>42255.24  </td><td>40895.17  </td><td>39240.65  </td><td>38366.41  </td><td>37446.73  </td><td>36186.83  </td><td>35725.46  </td></tr>\n",
       "</tbody>\n",
       "</table>\n"
      ],
      "text/latex": [
       "\\begin{tabular}{r|lllllllllllllllllllllllllllllllllllllllllllllllllll}\n",
       " date & hour & Lag\\_day2\\_hour\\_0 & Lag\\_day2\\_hour\\_1 & Lag\\_day2\\_hour\\_2 & Lag\\_day2\\_hour\\_3 & Lag\\_day2\\_hour\\_4 & Lag\\_day2\\_hour\\_5 & Lag\\_day2\\_hour\\_6 & Lag\\_day2\\_hour\\_7 & ... & Lag\\_day7\\_hour\\_15 & Lag\\_day7\\_hour\\_16 & Lag\\_day7\\_hour\\_17 & Lag\\_day7\\_hour\\_18 & Lag\\_day7\\_hour\\_19 & Lag\\_day7\\_hour\\_20 & Lag\\_day7\\_hour\\_21 & Lag\\_day7\\_hour\\_22 & Lag\\_day7\\_hour\\_23 & consumption\\\\\n",
       "\\hline\n",
       "\t 2016-01-01 &  0         & NA         & NA         & NA         & NA         & NA         & NA         & NA         & NA         & ...        & NA         & NA         & NA         & NA         & NA         & NA         & NA         & NA         & NA         & 26277.24  \\\\\n",
       "\t 2016-01-01 &  1         & NA         & NA         & NA         & NA         & NA         & NA         & NA         & NA         & ...        & NA         & NA         & NA         & NA         & NA         & NA         & NA         & NA         & NA         & 24991.82  \\\\\n",
       "\t 2016-01-01 &  2         & NA         & NA         & NA         & NA         & NA         & NA         & NA         & NA         & ...        & NA         & NA         & NA         & NA         & NA         & NA         & NA         & NA         & NA         & 23532.61  \\\\\n",
       "\t 2016-01-01 &  3         & NA         & NA         & NA         & NA         & NA         & NA         & NA         & NA         & ...        & NA         & NA         & NA         & NA         & NA         & NA         & NA         & NA         & NA         & 22464.78  \\\\\n",
       "\t 2016-01-01 &  4         & NA         & NA         & NA         & NA         & NA         & NA         & NA         & NA         & ...        & NA         & NA         & NA         & NA         & NA         & NA         & NA         & NA         & NA         & 22002.91  \\\\\n",
       "\t 2016-01-01 &  5         & NA         & NA         & NA         & NA         & NA         & NA         & NA         & NA         & ...        & NA         & NA         & NA         & NA         & NA         & NA         & NA         & NA         & NA         & 21957.08  \\\\\n",
       "\t 2016-01-01 &  6         & NA         & NA         & NA         & NA         & NA         & NA         & NA         & NA         & ...        & NA         & NA         & NA         & NA         & NA         & NA         & NA         & NA         & NA         & 22203.54  \\\\\n",
       "\t 2016-01-01 &  7         & NA         & NA         & NA         & NA         & NA         & NA         & NA         & NA         & ...        & NA         & NA         & NA         & NA         & NA         & NA         & NA         & NA         & NA         & 21844.16  \\\\\n",
       "\t 2016-01-01 &  8         & NA         & NA         & NA         & NA         & NA         & NA         & NA         & NA         & ...        & NA         & NA         & NA         & NA         & NA         & NA         & NA         & NA         & NA         & 23094.73  \\\\\n",
       "\t 2016-01-01 &  9         & NA         & NA         & NA         & NA         & NA         & NA         & NA         & NA         & ...        & NA         & NA         & NA         & NA         & NA         & NA         & NA         & NA         & NA         & 25202.27  \\\\\n",
       "\t 2016-01-01 & 10         & NA         & NA         & NA         & NA         & NA         & NA         & NA         & NA         & ...        & NA         & NA         & NA         & NA         & NA         & NA         & NA         & NA         & NA         & 27224.96  \\\\\n",
       "\t 2016-01-01 & 11         & NA         & NA         & NA         & NA         & NA         & NA         & NA         & NA         & ...        & NA         & NA         & NA         & NA         & NA         & NA         & NA         & NA         & NA         & 28908.04  \\\\\n",
       "\t 2016-01-01 & 12         & NA         & NA         & NA         & NA         & NA         & NA         & NA         & NA         & ...        & NA         & NA         & NA         & NA         & NA         & NA         & NA         & NA         & NA         & 28789.25  \\\\\n",
       "\t 2016-01-01 & 13         & NA         & NA         & NA         & NA         & NA         & NA         & NA         & NA         & ...        & NA         & NA         & NA         & NA         & NA         & NA         & NA         & NA         & NA         & 29367.70  \\\\\n",
       "\t 2016-01-01 & 14         & NA         & NA         & NA         & NA         & NA         & NA         & NA         & NA         & ...        & NA         & NA         & NA         & NA         & NA         & NA         & NA         & NA         & NA         & 29548.32  \\\\\n",
       "\t 2016-01-01 & 15         & NA         & NA         & NA         & NA         & NA         & NA         & NA         & NA         & ...        & NA         & NA         & NA         & NA         & NA         & NA         & NA         & NA         & NA         & 29390.89  \\\\\n",
       "\t 2016-01-01 & 16         & NA         & NA         & NA         & NA         & NA         & NA         & NA         & NA         & ...        & NA         & NA         & NA         & NA         & NA         & NA         & NA         & NA         & NA         & 30734.97  \\\\\n",
       "\t 2016-01-01 & 17         & NA         & NA         & NA         & NA         & NA         & NA         & NA         & NA         & ...        & NA         & NA         & NA         & NA         & NA         & NA         & NA         & NA         & NA         & 32048.02  \\\\\n",
       "\t 2016-01-01 & 18         & NA         & NA         & NA         & NA         & NA         & NA         & NA         & NA         & ...        & NA         & NA         & NA         & NA         & NA         & NA         & NA         & NA         & NA         & 31438.11  \\\\\n",
       "\t 2016-01-01 & 19         & NA         & NA         & NA         & NA         & NA         & NA         & NA         & NA         & ...        & NA         & NA         & NA         & NA         & NA         & NA         & NA         & NA         & NA         & 30728.47  \\\\\n",
       "\t 2016-01-01 & 20         & NA         & NA         & NA         & NA         & NA         & NA         & NA         & NA         & ...        & NA         & NA         & NA         & NA         & NA         & NA         & NA         & NA         & NA         & 30166.14  \\\\\n",
       "\t 2016-01-01 & 21         & NA         & NA         & NA         & NA         & NA         & NA         & NA         & NA         & ...        & NA         & NA         & NA         & NA         & NA         & NA         & NA         & NA         & NA         & 29461.28  \\\\\n",
       "\t 2016-01-01 & 22         & NA         & NA         & NA         & NA         & NA         & NA         & NA         & NA         & ...        & NA         & NA         & NA         & NA         & NA         & NA         & NA         & NA         & NA         & 29242.83  \\\\\n",
       "\t 2016-01-01 & 23         & NA         & NA         & NA         & NA         & NA         & NA         & NA         & NA         & ...        & NA         & NA         & NA         & NA         & NA         & NA         & NA         & NA         & NA         & 28069.09  \\\\\n",
       "\t 2016-01-02 &  0         & NA         & NA         & NA         & NA         & NA         & NA         & NA         & NA         & ...        & NA         & NA         & NA         & NA         & NA         & NA         & NA         & NA         & NA         & 26224.60  \\\\\n",
       "\t 2016-01-02 &  1         & NA         & NA         & NA         & NA         & NA         & NA         & NA         & NA         & ...        & NA         & NA         & NA         & NA         & NA         & NA         & NA         & NA         & NA         & 24708.58  \\\\\n",
       "\t 2016-01-02 &  2         & NA         & NA         & NA         & NA         & NA         & NA         & NA         & NA         & ...        & NA         & NA         & NA         & NA         & NA         & NA         & NA         & NA         & NA         & 23771.58  \\\\\n",
       "\t 2016-01-02 &  3         & NA         & NA         & NA         & NA         & NA         & NA         & NA         & NA         & ...        & NA         & NA         & NA         & NA         & NA         & NA         & NA         & NA         & NA         & 22921.29  \\\\\n",
       "\t 2016-01-02 &  4         & NA         & NA         & NA         & NA         & NA         & NA         & NA         & NA         & ...        & NA         & NA         & NA         & NA         & NA         & NA         & NA         & NA         & NA         & 22870.89  \\\\\n",
       "\t 2016-01-02 &  5         & NA         & NA         & NA         & NA         & NA         & NA         & NA         & NA         & ...        & NA         & NA         & NA         & NA         & NA         & NA         & NA         & NA         & NA         & 23325.63  \\\\\n",
       "\t ... & ... & ... & ... & ... & ... & ... & ... & ... & ... &     & ... & ... & ... & ... & ... & ... & ... & ... & ... & ...\\\\\n",
       "\t 2020-11-30 & 18         & 33935.56   & 31919.44   & 30439.27   & 30020.41   & 29825.63   & 29984.86   & 30444.97   & 31159.67   & ...        & 37586.08   & 39435.91   & 41569.99   & 41710.94   & 40297.34   & 38951.67   & 37856.67   & 36983.95   & 35594.03   & 42245.38  \\\\\n",
       "\t 2020-11-30 & 19         & 33935.56   & 31919.44   & 30439.27   & 30020.41   & 29825.63   & 29984.86   & 30444.97   & 31159.67   & ...        & 37586.08   & 39435.91   & 41569.99   & 41710.94   & 40297.34   & 38951.67   & 37856.67   & 36983.95   & 35594.03   & 40750.73  \\\\\n",
       "\t 2020-11-30 & 20         & 33935.56   & 31919.44   & 30439.27   & 30020.41   & 29825.63   & 29984.86   & 30444.97   & 31159.67   & ...        & 37586.08   & 39435.91   & 41569.99   & 41710.94   & 40297.34   & 38951.67   & 37856.67   & 36983.95   & 35594.03   & 39294.57  \\\\\n",
       "\t 2020-11-30 & 21         & 33935.56   & 31919.44   & 30439.27   & 30020.41   & 29825.63   & 29984.86   & 30444.97   & 31159.67   & ...        & 37586.08   & 39435.91   & 41569.99   & 41710.94   & 40297.34   & 38951.67   & 37856.67   & 36983.95   & 35594.03   & 38212.74  \\\\\n",
       "\t 2020-11-30 & 22         & 33935.56   & 31919.44   & 30439.27   & 30020.41   & 29825.63   & 29984.86   & 30444.97   & 31159.67   & ...        & 37586.08   & 39435.91   & 41569.99   & 41710.94   & 40297.34   & 38951.67   & 37856.67   & 36983.95   & 35594.03   & 37225.65  \\\\\n",
       "\t 2020-11-30 & 23         & 33935.56   & 31919.44   & 30439.27   & 30020.41   & 29825.63   & 29984.86   & 30444.97   & 31159.67   & ...        & 37586.08   & 39435.91   & 41569.99   & 41710.94   & 40297.34   & 38951.67   & 37856.67   & 36983.95   & 35594.03   & 35775.04  \\\\\n",
       "\t 2020-12-01 &  0         & 32332.68   & 30410.13   & 29119.33   & 28484.61   & 28150.14   & 28065.44   & 28189.16   & 27883.71   & ...        & 38656.92   & 40396.69   & 42486.34   & 42255.24   & 40895.17   & 39240.65   & 38366.41   & 37446.73   & 36186.83   & 33842.13  \\\\\n",
       "\t 2020-12-01 &  1         & 32332.68   & 30410.13   & 29119.33   & 28484.61   & 28150.14   & 28065.44   & 28189.16   & 27883.71   & ...        & 38656.92   & 40396.69   & 42486.34   & 42255.24   & 40895.17   & 39240.65   & 38366.41   & 37446.73   & 36186.83   & 32013.00  \\\\\n",
       "\t 2020-12-01 &  2         & 32332.68   & 30410.13   & 29119.33   & 28484.61   & 28150.14   & 28065.44   & 28189.16   & 27883.71   & ...        & 38656.92   & 40396.69   & 42486.34   & 42255.24   & 40895.17   & 39240.65   & 38366.41   & 37446.73   & 36186.83   & 30884.17  \\\\\n",
       "\t 2020-12-01 &  3         & 32332.68   & 30410.13   & 29119.33   & 28484.61   & 28150.14   & 28065.44   & 28189.16   & 27883.71   & ...        & 38656.92   & 40396.69   & 42486.34   & 42255.24   & 40895.17   & 39240.65   & 38366.41   & 37446.73   & 36186.83   & 30082.68  \\\\\n",
       "\t 2020-12-01 &  4         & 32332.68   & 30410.13   & 29119.33   & 28484.61   & 28150.14   & 28065.44   & 28189.16   & 27883.71   & ...        & 38656.92   & 40396.69   & 42486.34   & 42255.24   & 40895.17   & 39240.65   & 38366.41   & 37446.73   & 36186.83   & 29844.18  \\\\\n",
       "\t 2020-12-01 &  5         & 32332.68   & 30410.13   & 29119.33   & 28484.61   & 28150.14   & 28065.44   & 28189.16   & 27883.71   & ...        & 38656.92   & 40396.69   & 42486.34   & 42255.24   & 40895.17   & 39240.65   & 38366.41   & 37446.73   & 36186.83   & 30100.53  \\\\\n",
       "\t 2020-12-01 &  6         & 32332.68   & 30410.13   & 29119.33   & 28484.61   & 28150.14   & 28065.44   & 28189.16   & 27883.71   & ...        & 38656.92   & 40396.69   & 42486.34   & 42255.24   & 40895.17   & 39240.65   & 38366.41   & 37446.73   & 36186.83   & 30743.44  \\\\\n",
       "\t 2020-12-01 &  7         & 32332.68   & 30410.13   & 29119.33   & 28484.61   & 28150.14   & 28065.44   & 28189.16   & 27883.71   & ...        & 38656.92   & 40396.69   & 42486.34   & 42255.24   & 40895.17   & 39240.65   & 38366.41   & 37446.73   & 36186.83   & 32279.80  \\\\\n",
       "\t 2020-12-01 &  8         & 32332.68   & 30410.13   & 29119.33   & 28484.61   & 28150.14   & 28065.44   & 28189.16   & 27883.71   & ...        & 38656.92   & 40396.69   & 42486.34   & 42255.24   & 40895.17   & 39240.65   & 38366.41   & 37446.73   & 36186.83   & 36657.05  \\\\\n",
       "\t 2020-12-01 &  9         & 32332.68   & 30410.13   & 29119.33   & 28484.61   & 28150.14   & 28065.44   & 28189.16   & 27883.71   & ...        & 38656.92   & 40396.69   & 42486.34   & 42255.24   & 40895.17   & 39240.65   & 38366.41   & 37446.73   & 36186.83   & 39815.64  \\\\\n",
       "\t 2020-12-01 & 10         & 32332.68   & 30410.13   & 29119.33   & 28484.61   & 28150.14   & 28065.44   & 28189.16   & 27883.71   & ...        & 38656.92   & 40396.69   & 42486.34   & 42255.24   & 40895.17   & 39240.65   & 38366.41   & 37446.73   & 36186.83   & 40846.18  \\\\\n",
       "\t 2020-12-01 & 11         & 32332.68   & 30410.13   & 29119.33   & 28484.61   & 28150.14   & 28065.44   & 28189.16   & 27883.71   & ...        & 38656.92   & 40396.69   & 42486.34   & 42255.24   & 40895.17   & 39240.65   & 38366.41   & 37446.73   & 36186.83   & 41320.19  \\\\\n",
       "\t 2020-12-01 & 12         & 32332.68   & 30410.13   & 29119.33   & 28484.61   & 28150.14   & 28065.44   & 28189.16   & 27883.71   & ...        & 38656.92   & 40396.69   & 42486.34   & 42255.24   & 40895.17   & 39240.65   & 38366.41   & 37446.73   & 36186.83   & 40054.73  \\\\\n",
       "\t 2020-12-01 & 13         & 32332.68   & 30410.13   & 29119.33   & 28484.61   & 28150.14   & 28065.44   & 28189.16   & 27883.71   & ...        & 38656.92   & 40396.69   & 42486.34   & 42255.24   & 40895.17   & 39240.65   & 38366.41   & 37446.73   & 36186.83   & 40874.30  \\\\\n",
       "\t 2020-12-01 & 14         & 32332.68   & 30410.13   & 29119.33   & 28484.61   & 28150.14   & 28065.44   & 28189.16   & 27883.71   & ...        & 38656.92   & 40396.69   & 42486.34   & 42255.24   & 40895.17   & 39240.65   & 38366.41   & 37446.73   & 36186.83   & 41812.33  \\\\\n",
       "\t 2020-12-01 & 15         & 32332.68   & 30410.13   & 29119.33   & 28484.61   & 28150.14   & 28065.44   & 28189.16   & 27883.71   & ...        & 38656.92   & 40396.69   & 42486.34   & 42255.24   & 40895.17   & 39240.65   & 38366.41   & 37446.73   & 36186.83   & 41722.82  \\\\\n",
       "\t 2020-12-01 & 16         & 32332.68   & 30410.13   & 29119.33   & 28484.61   & 28150.14   & 28065.44   & 28189.16   & 27883.71   & ...        & 38656.92   & 40396.69   & 42486.34   & 42255.24   & 40895.17   & 39240.65   & 38366.41   & 37446.73   & 36186.83   & 42341.25  \\\\\n",
       "\t 2020-12-01 & 17         & 32332.68   & 30410.13   & 29119.33   & 28484.61   & 28150.14   & 28065.44   & 28189.16   & 27883.71   & ...        & 38656.92   & 40396.69   & 42486.34   & 42255.24   & 40895.17   & 39240.65   & 38366.41   & 37446.73   & 36186.83   & 43320.35  \\\\\n",
       "\t 2020-12-01 & 18         & 32332.68   & 30410.13   & 29119.33   & 28484.61   & 28150.14   & 28065.44   & 28189.16   & 27883.71   & ...        & 38656.92   & 40396.69   & 42486.34   & 42255.24   & 40895.17   & 39240.65   & 38366.41   & 37446.73   & 36186.83   & 42292.06  \\\\\n",
       "\t 2020-12-01 & 19         & 32332.68   & 30410.13   & 29119.33   & 28484.61   & 28150.14   & 28065.44   & 28189.16   & 27883.71   & ...        & 38656.92   & 40396.69   & 42486.34   & 42255.24   & 40895.17   & 39240.65   & 38366.41   & 37446.73   & 36186.83   & 40720.16  \\\\\n",
       "\t 2020-12-01 & 20         & 32332.68   & 30410.13   & 29119.33   & 28484.61   & 28150.14   & 28065.44   & 28189.16   & 27883.71   & ...        & 38656.92   & 40396.69   & 42486.34   & 42255.24   & 40895.17   & 39240.65   & 38366.41   & 37446.73   & 36186.83   & 39195.74  \\\\\n",
       "\t 2020-12-01 & 21         & 32332.68   & 30410.13   & 29119.33   & 28484.61   & 28150.14   & 28065.44   & 28189.16   & 27883.71   & ...        & 38656.92   & 40396.69   & 42486.34   & 42255.24   & 40895.17   & 39240.65   & 38366.41   & 37446.73   & 36186.83   & 38310.79  \\\\\n",
       "\t 2020-12-01 & 22         & 32332.68   & 30410.13   & 29119.33   & 28484.61   & 28150.14   & 28065.44   & 28189.16   & 27883.71   & ...        & 38656.92   & 40396.69   & 42486.34   & 42255.24   & 40895.17   & 39240.65   & 38366.41   & 37446.73   & 36186.83   & 37173.97  \\\\\n",
       "\t 2020-12-01 & 23         & 32332.68   & 30410.13   & 29119.33   & 28484.61   & 28150.14   & 28065.44   & 28189.16   & 27883.71   & ...        & 38656.92   & 40396.69   & 42486.34   & 42255.24   & 40895.17   & 39240.65   & 38366.41   & 37446.73   & 36186.83   & 35725.46  \\\\\n",
       "\\end{tabular}\n"
      ],
      "text/markdown": [
       "\n",
       "| date | hour | Lag_day2_hour_0 | Lag_day2_hour_1 | Lag_day2_hour_2 | Lag_day2_hour_3 | Lag_day2_hour_4 | Lag_day2_hour_5 | Lag_day2_hour_6 | Lag_day2_hour_7 | ... | Lag_day7_hour_15 | Lag_day7_hour_16 | Lag_day7_hour_17 | Lag_day7_hour_18 | Lag_day7_hour_19 | Lag_day7_hour_20 | Lag_day7_hour_21 | Lag_day7_hour_22 | Lag_day7_hour_23 | consumption |\n",
       "|---|---|---|---|---|---|---|---|---|---|---|---|---|---|---|---|---|---|---|---|---|\n",
       "| 2016-01-01 |  0         | NA         | NA         | NA         | NA         | NA         | NA         | NA         | NA         | ...        | NA         | NA         | NA         | NA         | NA         | NA         | NA         | NA         | NA         | 26277.24   |\n",
       "| 2016-01-01 |  1         | NA         | NA         | NA         | NA         | NA         | NA         | NA         | NA         | ...        | NA         | NA         | NA         | NA         | NA         | NA         | NA         | NA         | NA         | 24991.82   |\n",
       "| 2016-01-01 |  2         | NA         | NA         | NA         | NA         | NA         | NA         | NA         | NA         | ...        | NA         | NA         | NA         | NA         | NA         | NA         | NA         | NA         | NA         | 23532.61   |\n",
       "| 2016-01-01 |  3         | NA         | NA         | NA         | NA         | NA         | NA         | NA         | NA         | ...        | NA         | NA         | NA         | NA         | NA         | NA         | NA         | NA         | NA         | 22464.78   |\n",
       "| 2016-01-01 |  4         | NA         | NA         | NA         | NA         | NA         | NA         | NA         | NA         | ...        | NA         | NA         | NA         | NA         | NA         | NA         | NA         | NA         | NA         | 22002.91   |\n",
       "| 2016-01-01 |  5         | NA         | NA         | NA         | NA         | NA         | NA         | NA         | NA         | ...        | NA         | NA         | NA         | NA         | NA         | NA         | NA         | NA         | NA         | 21957.08   |\n",
       "| 2016-01-01 |  6         | NA         | NA         | NA         | NA         | NA         | NA         | NA         | NA         | ...        | NA         | NA         | NA         | NA         | NA         | NA         | NA         | NA         | NA         | 22203.54   |\n",
       "| 2016-01-01 |  7         | NA         | NA         | NA         | NA         | NA         | NA         | NA         | NA         | ...        | NA         | NA         | NA         | NA         | NA         | NA         | NA         | NA         | NA         | 21844.16   |\n",
       "| 2016-01-01 |  8         | NA         | NA         | NA         | NA         | NA         | NA         | NA         | NA         | ...        | NA         | NA         | NA         | NA         | NA         | NA         | NA         | NA         | NA         | 23094.73   |\n",
       "| 2016-01-01 |  9         | NA         | NA         | NA         | NA         | NA         | NA         | NA         | NA         | ...        | NA         | NA         | NA         | NA         | NA         | NA         | NA         | NA         | NA         | 25202.27   |\n",
       "| 2016-01-01 | 10         | NA         | NA         | NA         | NA         | NA         | NA         | NA         | NA         | ...        | NA         | NA         | NA         | NA         | NA         | NA         | NA         | NA         | NA         | 27224.96   |\n",
       "| 2016-01-01 | 11         | NA         | NA         | NA         | NA         | NA         | NA         | NA         | NA         | ...        | NA         | NA         | NA         | NA         | NA         | NA         | NA         | NA         | NA         | 28908.04   |\n",
       "| 2016-01-01 | 12         | NA         | NA         | NA         | NA         | NA         | NA         | NA         | NA         | ...        | NA         | NA         | NA         | NA         | NA         | NA         | NA         | NA         | NA         | 28789.25   |\n",
       "| 2016-01-01 | 13         | NA         | NA         | NA         | NA         | NA         | NA         | NA         | NA         | ...        | NA         | NA         | NA         | NA         | NA         | NA         | NA         | NA         | NA         | 29367.70   |\n",
       "| 2016-01-01 | 14         | NA         | NA         | NA         | NA         | NA         | NA         | NA         | NA         | ...        | NA         | NA         | NA         | NA         | NA         | NA         | NA         | NA         | NA         | 29548.32   |\n",
       "| 2016-01-01 | 15         | NA         | NA         | NA         | NA         | NA         | NA         | NA         | NA         | ...        | NA         | NA         | NA         | NA         | NA         | NA         | NA         | NA         | NA         | 29390.89   |\n",
       "| 2016-01-01 | 16         | NA         | NA         | NA         | NA         | NA         | NA         | NA         | NA         | ...        | NA         | NA         | NA         | NA         | NA         | NA         | NA         | NA         | NA         | 30734.97   |\n",
       "| 2016-01-01 | 17         | NA         | NA         | NA         | NA         | NA         | NA         | NA         | NA         | ...        | NA         | NA         | NA         | NA         | NA         | NA         | NA         | NA         | NA         | 32048.02   |\n",
       "| 2016-01-01 | 18         | NA         | NA         | NA         | NA         | NA         | NA         | NA         | NA         | ...        | NA         | NA         | NA         | NA         | NA         | NA         | NA         | NA         | NA         | 31438.11   |\n",
       "| 2016-01-01 | 19         | NA         | NA         | NA         | NA         | NA         | NA         | NA         | NA         | ...        | NA         | NA         | NA         | NA         | NA         | NA         | NA         | NA         | NA         | 30728.47   |\n",
       "| 2016-01-01 | 20         | NA         | NA         | NA         | NA         | NA         | NA         | NA         | NA         | ...        | NA         | NA         | NA         | NA         | NA         | NA         | NA         | NA         | NA         | 30166.14   |\n",
       "| 2016-01-01 | 21         | NA         | NA         | NA         | NA         | NA         | NA         | NA         | NA         | ...        | NA         | NA         | NA         | NA         | NA         | NA         | NA         | NA         | NA         | 29461.28   |\n",
       "| 2016-01-01 | 22         | NA         | NA         | NA         | NA         | NA         | NA         | NA         | NA         | ...        | NA         | NA         | NA         | NA         | NA         | NA         | NA         | NA         | NA         | 29242.83   |\n",
       "| 2016-01-01 | 23         | NA         | NA         | NA         | NA         | NA         | NA         | NA         | NA         | ...        | NA         | NA         | NA         | NA         | NA         | NA         | NA         | NA         | NA         | 28069.09   |\n",
       "| 2016-01-02 |  0         | NA         | NA         | NA         | NA         | NA         | NA         | NA         | NA         | ...        | NA         | NA         | NA         | NA         | NA         | NA         | NA         | NA         | NA         | 26224.60   |\n",
       "| 2016-01-02 |  1         | NA         | NA         | NA         | NA         | NA         | NA         | NA         | NA         | ...        | NA         | NA         | NA         | NA         | NA         | NA         | NA         | NA         | NA         | 24708.58   |\n",
       "| 2016-01-02 |  2         | NA         | NA         | NA         | NA         | NA         | NA         | NA         | NA         | ...        | NA         | NA         | NA         | NA         | NA         | NA         | NA         | NA         | NA         | 23771.58   |\n",
       "| 2016-01-02 |  3         | NA         | NA         | NA         | NA         | NA         | NA         | NA         | NA         | ...        | NA         | NA         | NA         | NA         | NA         | NA         | NA         | NA         | NA         | 22921.29   |\n",
       "| 2016-01-02 |  4         | NA         | NA         | NA         | NA         | NA         | NA         | NA         | NA         | ...        | NA         | NA         | NA         | NA         | NA         | NA         | NA         | NA         | NA         | 22870.89   |\n",
       "| 2016-01-02 |  5         | NA         | NA         | NA         | NA         | NA         | NA         | NA         | NA         | ...        | NA         | NA         | NA         | NA         | NA         | NA         | NA         | NA         | NA         | 23325.63   |\n",
       "| ... | ... | ... | ... | ... | ... | ... | ... | ... | ... |     | ... | ... | ... | ... | ... | ... | ... | ... | ... | ... |\n",
       "| 2020-11-30 | 18         | 33935.56   | 31919.44   | 30439.27   | 30020.41   | 29825.63   | 29984.86   | 30444.97   | 31159.67   | ...        | 37586.08   | 39435.91   | 41569.99   | 41710.94   | 40297.34   | 38951.67   | 37856.67   | 36983.95   | 35594.03   | 42245.38   |\n",
       "| 2020-11-30 | 19         | 33935.56   | 31919.44   | 30439.27   | 30020.41   | 29825.63   | 29984.86   | 30444.97   | 31159.67   | ...        | 37586.08   | 39435.91   | 41569.99   | 41710.94   | 40297.34   | 38951.67   | 37856.67   | 36983.95   | 35594.03   | 40750.73   |\n",
       "| 2020-11-30 | 20         | 33935.56   | 31919.44   | 30439.27   | 30020.41   | 29825.63   | 29984.86   | 30444.97   | 31159.67   | ...        | 37586.08   | 39435.91   | 41569.99   | 41710.94   | 40297.34   | 38951.67   | 37856.67   | 36983.95   | 35594.03   | 39294.57   |\n",
       "| 2020-11-30 | 21         | 33935.56   | 31919.44   | 30439.27   | 30020.41   | 29825.63   | 29984.86   | 30444.97   | 31159.67   | ...        | 37586.08   | 39435.91   | 41569.99   | 41710.94   | 40297.34   | 38951.67   | 37856.67   | 36983.95   | 35594.03   | 38212.74   |\n",
       "| 2020-11-30 | 22         | 33935.56   | 31919.44   | 30439.27   | 30020.41   | 29825.63   | 29984.86   | 30444.97   | 31159.67   | ...        | 37586.08   | 39435.91   | 41569.99   | 41710.94   | 40297.34   | 38951.67   | 37856.67   | 36983.95   | 35594.03   | 37225.65   |\n",
       "| 2020-11-30 | 23         | 33935.56   | 31919.44   | 30439.27   | 30020.41   | 29825.63   | 29984.86   | 30444.97   | 31159.67   | ...        | 37586.08   | 39435.91   | 41569.99   | 41710.94   | 40297.34   | 38951.67   | 37856.67   | 36983.95   | 35594.03   | 35775.04   |\n",
       "| 2020-12-01 |  0         | 32332.68   | 30410.13   | 29119.33   | 28484.61   | 28150.14   | 28065.44   | 28189.16   | 27883.71   | ...        | 38656.92   | 40396.69   | 42486.34   | 42255.24   | 40895.17   | 39240.65   | 38366.41   | 37446.73   | 36186.83   | 33842.13   |\n",
       "| 2020-12-01 |  1         | 32332.68   | 30410.13   | 29119.33   | 28484.61   | 28150.14   | 28065.44   | 28189.16   | 27883.71   | ...        | 38656.92   | 40396.69   | 42486.34   | 42255.24   | 40895.17   | 39240.65   | 38366.41   | 37446.73   | 36186.83   | 32013.00   |\n",
       "| 2020-12-01 |  2         | 32332.68   | 30410.13   | 29119.33   | 28484.61   | 28150.14   | 28065.44   | 28189.16   | 27883.71   | ...        | 38656.92   | 40396.69   | 42486.34   | 42255.24   | 40895.17   | 39240.65   | 38366.41   | 37446.73   | 36186.83   | 30884.17   |\n",
       "| 2020-12-01 |  3         | 32332.68   | 30410.13   | 29119.33   | 28484.61   | 28150.14   | 28065.44   | 28189.16   | 27883.71   | ...        | 38656.92   | 40396.69   | 42486.34   | 42255.24   | 40895.17   | 39240.65   | 38366.41   | 37446.73   | 36186.83   | 30082.68   |\n",
       "| 2020-12-01 |  4         | 32332.68   | 30410.13   | 29119.33   | 28484.61   | 28150.14   | 28065.44   | 28189.16   | 27883.71   | ...        | 38656.92   | 40396.69   | 42486.34   | 42255.24   | 40895.17   | 39240.65   | 38366.41   | 37446.73   | 36186.83   | 29844.18   |\n",
       "| 2020-12-01 |  5         | 32332.68   | 30410.13   | 29119.33   | 28484.61   | 28150.14   | 28065.44   | 28189.16   | 27883.71   | ...        | 38656.92   | 40396.69   | 42486.34   | 42255.24   | 40895.17   | 39240.65   | 38366.41   | 37446.73   | 36186.83   | 30100.53   |\n",
       "| 2020-12-01 |  6         | 32332.68   | 30410.13   | 29119.33   | 28484.61   | 28150.14   | 28065.44   | 28189.16   | 27883.71   | ...        | 38656.92   | 40396.69   | 42486.34   | 42255.24   | 40895.17   | 39240.65   | 38366.41   | 37446.73   | 36186.83   | 30743.44   |\n",
       "| 2020-12-01 |  7         | 32332.68   | 30410.13   | 29119.33   | 28484.61   | 28150.14   | 28065.44   | 28189.16   | 27883.71   | ...        | 38656.92   | 40396.69   | 42486.34   | 42255.24   | 40895.17   | 39240.65   | 38366.41   | 37446.73   | 36186.83   | 32279.80   |\n",
       "| 2020-12-01 |  8         | 32332.68   | 30410.13   | 29119.33   | 28484.61   | 28150.14   | 28065.44   | 28189.16   | 27883.71   | ...        | 38656.92   | 40396.69   | 42486.34   | 42255.24   | 40895.17   | 39240.65   | 38366.41   | 37446.73   | 36186.83   | 36657.05   |\n",
       "| 2020-12-01 |  9         | 32332.68   | 30410.13   | 29119.33   | 28484.61   | 28150.14   | 28065.44   | 28189.16   | 27883.71   | ...        | 38656.92   | 40396.69   | 42486.34   | 42255.24   | 40895.17   | 39240.65   | 38366.41   | 37446.73   | 36186.83   | 39815.64   |\n",
       "| 2020-12-01 | 10         | 32332.68   | 30410.13   | 29119.33   | 28484.61   | 28150.14   | 28065.44   | 28189.16   | 27883.71   | ...        | 38656.92   | 40396.69   | 42486.34   | 42255.24   | 40895.17   | 39240.65   | 38366.41   | 37446.73   | 36186.83   | 40846.18   |\n",
       "| 2020-12-01 | 11         | 32332.68   | 30410.13   | 29119.33   | 28484.61   | 28150.14   | 28065.44   | 28189.16   | 27883.71   | ...        | 38656.92   | 40396.69   | 42486.34   | 42255.24   | 40895.17   | 39240.65   | 38366.41   | 37446.73   | 36186.83   | 41320.19   |\n",
       "| 2020-12-01 | 12         | 32332.68   | 30410.13   | 29119.33   | 28484.61   | 28150.14   | 28065.44   | 28189.16   | 27883.71   | ...        | 38656.92   | 40396.69   | 42486.34   | 42255.24   | 40895.17   | 39240.65   | 38366.41   | 37446.73   | 36186.83   | 40054.73   |\n",
       "| 2020-12-01 | 13         | 32332.68   | 30410.13   | 29119.33   | 28484.61   | 28150.14   | 28065.44   | 28189.16   | 27883.71   | ...        | 38656.92   | 40396.69   | 42486.34   | 42255.24   | 40895.17   | 39240.65   | 38366.41   | 37446.73   | 36186.83   | 40874.30   |\n",
       "| 2020-12-01 | 14         | 32332.68   | 30410.13   | 29119.33   | 28484.61   | 28150.14   | 28065.44   | 28189.16   | 27883.71   | ...        | 38656.92   | 40396.69   | 42486.34   | 42255.24   | 40895.17   | 39240.65   | 38366.41   | 37446.73   | 36186.83   | 41812.33   |\n",
       "| 2020-12-01 | 15         | 32332.68   | 30410.13   | 29119.33   | 28484.61   | 28150.14   | 28065.44   | 28189.16   | 27883.71   | ...        | 38656.92   | 40396.69   | 42486.34   | 42255.24   | 40895.17   | 39240.65   | 38366.41   | 37446.73   | 36186.83   | 41722.82   |\n",
       "| 2020-12-01 | 16         | 32332.68   | 30410.13   | 29119.33   | 28484.61   | 28150.14   | 28065.44   | 28189.16   | 27883.71   | ...        | 38656.92   | 40396.69   | 42486.34   | 42255.24   | 40895.17   | 39240.65   | 38366.41   | 37446.73   | 36186.83   | 42341.25   |\n",
       "| 2020-12-01 | 17         | 32332.68   | 30410.13   | 29119.33   | 28484.61   | 28150.14   | 28065.44   | 28189.16   | 27883.71   | ...        | 38656.92   | 40396.69   | 42486.34   | 42255.24   | 40895.17   | 39240.65   | 38366.41   | 37446.73   | 36186.83   | 43320.35   |\n",
       "| 2020-12-01 | 18         | 32332.68   | 30410.13   | 29119.33   | 28484.61   | 28150.14   | 28065.44   | 28189.16   | 27883.71   | ...        | 38656.92   | 40396.69   | 42486.34   | 42255.24   | 40895.17   | 39240.65   | 38366.41   | 37446.73   | 36186.83   | 42292.06   |\n",
       "| 2020-12-01 | 19         | 32332.68   | 30410.13   | 29119.33   | 28484.61   | 28150.14   | 28065.44   | 28189.16   | 27883.71   | ...        | 38656.92   | 40396.69   | 42486.34   | 42255.24   | 40895.17   | 39240.65   | 38366.41   | 37446.73   | 36186.83   | 40720.16   |\n",
       "| 2020-12-01 | 20         | 32332.68   | 30410.13   | 29119.33   | 28484.61   | 28150.14   | 28065.44   | 28189.16   | 27883.71   | ...        | 38656.92   | 40396.69   | 42486.34   | 42255.24   | 40895.17   | 39240.65   | 38366.41   | 37446.73   | 36186.83   | 39195.74   |\n",
       "| 2020-12-01 | 21         | 32332.68   | 30410.13   | 29119.33   | 28484.61   | 28150.14   | 28065.44   | 28189.16   | 27883.71   | ...        | 38656.92   | 40396.69   | 42486.34   | 42255.24   | 40895.17   | 39240.65   | 38366.41   | 37446.73   | 36186.83   | 38310.79   |\n",
       "| 2020-12-01 | 22         | 32332.68   | 30410.13   | 29119.33   | 28484.61   | 28150.14   | 28065.44   | 28189.16   | 27883.71   | ...        | 38656.92   | 40396.69   | 42486.34   | 42255.24   | 40895.17   | 39240.65   | 38366.41   | 37446.73   | 36186.83   | 37173.97   |\n",
       "| 2020-12-01 | 23         | 32332.68   | 30410.13   | 29119.33   | 28484.61   | 28150.14   | 28065.44   | 28189.16   | 27883.71   | ...        | 38656.92   | 40396.69   | 42486.34   | 42255.24   | 40895.17   | 39240.65   | 38366.41   | 37446.73   | 36186.83   | 35725.46   |\n",
       "\n"
      ],
      "text/plain": [
       "      date       hour Lag_day2_hour_0 Lag_day2_hour_1 Lag_day2_hour_2\n",
       "1     2016-01-01  0   NA              NA              NA             \n",
       "2     2016-01-01  1   NA              NA              NA             \n",
       "3     2016-01-01  2   NA              NA              NA             \n",
       "4     2016-01-01  3   NA              NA              NA             \n",
       "5     2016-01-01  4   NA              NA              NA             \n",
       "6     2016-01-01  5   NA              NA              NA             \n",
       "7     2016-01-01  6   NA              NA              NA             \n",
       "8     2016-01-01  7   NA              NA              NA             \n",
       "9     2016-01-01  8   NA              NA              NA             \n",
       "10    2016-01-01  9   NA              NA              NA             \n",
       "11    2016-01-01 10   NA              NA              NA             \n",
       "12    2016-01-01 11   NA              NA              NA             \n",
       "13    2016-01-01 12   NA              NA              NA             \n",
       "14    2016-01-01 13   NA              NA              NA             \n",
       "15    2016-01-01 14   NA              NA              NA             \n",
       "16    2016-01-01 15   NA              NA              NA             \n",
       "17    2016-01-01 16   NA              NA              NA             \n",
       "18    2016-01-01 17   NA              NA              NA             \n",
       "19    2016-01-01 18   NA              NA              NA             \n",
       "20    2016-01-01 19   NA              NA              NA             \n",
       "21    2016-01-01 20   NA              NA              NA             \n",
       "22    2016-01-01 21   NA              NA              NA             \n",
       "23    2016-01-01 22   NA              NA              NA             \n",
       "24    2016-01-01 23   NA              NA              NA             \n",
       "25    2016-01-02  0   NA              NA              NA             \n",
       "26    2016-01-02  1   NA              NA              NA             \n",
       "27    2016-01-02  2   NA              NA              NA             \n",
       "28    2016-01-02  3   NA              NA              NA             \n",
       "29    2016-01-02  4   NA              NA              NA             \n",
       "30    2016-01-02  5   NA              NA              NA             \n",
       "...   ...        ...  ...             ...             ...            \n",
       "43099 2020-11-30 18   33935.56        31919.44        30439.27       \n",
       "43100 2020-11-30 19   33935.56        31919.44        30439.27       \n",
       "43101 2020-11-30 20   33935.56        31919.44        30439.27       \n",
       "43102 2020-11-30 21   33935.56        31919.44        30439.27       \n",
       "43103 2020-11-30 22   33935.56        31919.44        30439.27       \n",
       "43104 2020-11-30 23   33935.56        31919.44        30439.27       \n",
       "43105 2020-12-01  0   32332.68        30410.13        29119.33       \n",
       "43106 2020-12-01  1   32332.68        30410.13        29119.33       \n",
       "43107 2020-12-01  2   32332.68        30410.13        29119.33       \n",
       "43108 2020-12-01  3   32332.68        30410.13        29119.33       \n",
       "43109 2020-12-01  4   32332.68        30410.13        29119.33       \n",
       "43110 2020-12-01  5   32332.68        30410.13        29119.33       \n",
       "43111 2020-12-01  6   32332.68        30410.13        29119.33       \n",
       "43112 2020-12-01  7   32332.68        30410.13        29119.33       \n",
       "43113 2020-12-01  8   32332.68        30410.13        29119.33       \n",
       "43114 2020-12-01  9   32332.68        30410.13        29119.33       \n",
       "43115 2020-12-01 10   32332.68        30410.13        29119.33       \n",
       "43116 2020-12-01 11   32332.68        30410.13        29119.33       \n",
       "43117 2020-12-01 12   32332.68        30410.13        29119.33       \n",
       "43118 2020-12-01 13   32332.68        30410.13        29119.33       \n",
       "43119 2020-12-01 14   32332.68        30410.13        29119.33       \n",
       "43120 2020-12-01 15   32332.68        30410.13        29119.33       \n",
       "43121 2020-12-01 16   32332.68        30410.13        29119.33       \n",
       "43122 2020-12-01 17   32332.68        30410.13        29119.33       \n",
       "43123 2020-12-01 18   32332.68        30410.13        29119.33       \n",
       "43124 2020-12-01 19   32332.68        30410.13        29119.33       \n",
       "43125 2020-12-01 20   32332.68        30410.13        29119.33       \n",
       "43126 2020-12-01 21   32332.68        30410.13        29119.33       \n",
       "43127 2020-12-01 22   32332.68        30410.13        29119.33       \n",
       "43128 2020-12-01 23   32332.68        30410.13        29119.33       \n",
       "      Lag_day2_hour_3 Lag_day2_hour_4 Lag_day2_hour_5 Lag_day2_hour_6\n",
       "1     NA              NA              NA              NA             \n",
       "2     NA              NA              NA              NA             \n",
       "3     NA              NA              NA              NA             \n",
       "4     NA              NA              NA              NA             \n",
       "5     NA              NA              NA              NA             \n",
       "6     NA              NA              NA              NA             \n",
       "7     NA              NA              NA              NA             \n",
       "8     NA              NA              NA              NA             \n",
       "9     NA              NA              NA              NA             \n",
       "10    NA              NA              NA              NA             \n",
       "11    NA              NA              NA              NA             \n",
       "12    NA              NA              NA              NA             \n",
       "13    NA              NA              NA              NA             \n",
       "14    NA              NA              NA              NA             \n",
       "15    NA              NA              NA              NA             \n",
       "16    NA              NA              NA              NA             \n",
       "17    NA              NA              NA              NA             \n",
       "18    NA              NA              NA              NA             \n",
       "19    NA              NA              NA              NA             \n",
       "20    NA              NA              NA              NA             \n",
       "21    NA              NA              NA              NA             \n",
       "22    NA              NA              NA              NA             \n",
       "23    NA              NA              NA              NA             \n",
       "24    NA              NA              NA              NA             \n",
       "25    NA              NA              NA              NA             \n",
       "26    NA              NA              NA              NA             \n",
       "27    NA              NA              NA              NA             \n",
       "28    NA              NA              NA              NA             \n",
       "29    NA              NA              NA              NA             \n",
       "30    NA              NA              NA              NA             \n",
       "...   ...             ...             ...             ...            \n",
       "43099 30020.41        29825.63        29984.86        30444.97       \n",
       "43100 30020.41        29825.63        29984.86        30444.97       \n",
       "43101 30020.41        29825.63        29984.86        30444.97       \n",
       "43102 30020.41        29825.63        29984.86        30444.97       \n",
       "43103 30020.41        29825.63        29984.86        30444.97       \n",
       "43104 30020.41        29825.63        29984.86        30444.97       \n",
       "43105 28484.61        28150.14        28065.44        28189.16       \n",
       "43106 28484.61        28150.14        28065.44        28189.16       \n",
       "43107 28484.61        28150.14        28065.44        28189.16       \n",
       "43108 28484.61        28150.14        28065.44        28189.16       \n",
       "43109 28484.61        28150.14        28065.44        28189.16       \n",
       "43110 28484.61        28150.14        28065.44        28189.16       \n",
       "43111 28484.61        28150.14        28065.44        28189.16       \n",
       "43112 28484.61        28150.14        28065.44        28189.16       \n",
       "43113 28484.61        28150.14        28065.44        28189.16       \n",
       "43114 28484.61        28150.14        28065.44        28189.16       \n",
       "43115 28484.61        28150.14        28065.44        28189.16       \n",
       "43116 28484.61        28150.14        28065.44        28189.16       \n",
       "43117 28484.61        28150.14        28065.44        28189.16       \n",
       "43118 28484.61        28150.14        28065.44        28189.16       \n",
       "43119 28484.61        28150.14        28065.44        28189.16       \n",
       "43120 28484.61        28150.14        28065.44        28189.16       \n",
       "43121 28484.61        28150.14        28065.44        28189.16       \n",
       "43122 28484.61        28150.14        28065.44        28189.16       \n",
       "43123 28484.61        28150.14        28065.44        28189.16       \n",
       "43124 28484.61        28150.14        28065.44        28189.16       \n",
       "43125 28484.61        28150.14        28065.44        28189.16       \n",
       "43126 28484.61        28150.14        28065.44        28189.16       \n",
       "43127 28484.61        28150.14        28065.44        28189.16       \n",
       "43128 28484.61        28150.14        28065.44        28189.16       \n",
       "      Lag_day2_hour_7 ... Lag_day7_hour_15 Lag_day7_hour_16 Lag_day7_hour_17\n",
       "1     NA              ... NA               NA               NA              \n",
       "2     NA              ... NA               NA               NA              \n",
       "3     NA              ... NA               NA               NA              \n",
       "4     NA              ... NA               NA               NA              \n",
       "5     NA              ... NA               NA               NA              \n",
       "6     NA              ... NA               NA               NA              \n",
       "7     NA              ... NA               NA               NA              \n",
       "8     NA              ... NA               NA               NA              \n",
       "9     NA              ... NA               NA               NA              \n",
       "10    NA              ... NA               NA               NA              \n",
       "11    NA              ... NA               NA               NA              \n",
       "12    NA              ... NA               NA               NA              \n",
       "13    NA              ... NA               NA               NA              \n",
       "14    NA              ... NA               NA               NA              \n",
       "15    NA              ... NA               NA               NA              \n",
       "16    NA              ... NA               NA               NA              \n",
       "17    NA              ... NA               NA               NA              \n",
       "18    NA              ... NA               NA               NA              \n",
       "19    NA              ... NA               NA               NA              \n",
       "20    NA              ... NA               NA               NA              \n",
       "21    NA              ... NA               NA               NA              \n",
       "22    NA              ... NA               NA               NA              \n",
       "23    NA              ... NA               NA               NA              \n",
       "24    NA              ... NA               NA               NA              \n",
       "25    NA              ... NA               NA               NA              \n",
       "26    NA              ... NA               NA               NA              \n",
       "27    NA              ... NA               NA               NA              \n",
       "28    NA              ... NA               NA               NA              \n",
       "29    NA              ... NA               NA               NA              \n",
       "30    NA              ... NA               NA               NA              \n",
       "...   ...                 ...              ...              ...             \n",
       "43099 31159.67        ... 37586.08         39435.91         41569.99        \n",
       "43100 31159.67        ... 37586.08         39435.91         41569.99        \n",
       "43101 31159.67        ... 37586.08         39435.91         41569.99        \n",
       "43102 31159.67        ... 37586.08         39435.91         41569.99        \n",
       "43103 31159.67        ... 37586.08         39435.91         41569.99        \n",
       "43104 31159.67        ... 37586.08         39435.91         41569.99        \n",
       "43105 27883.71        ... 38656.92         40396.69         42486.34        \n",
       "43106 27883.71        ... 38656.92         40396.69         42486.34        \n",
       "43107 27883.71        ... 38656.92         40396.69         42486.34        \n",
       "43108 27883.71        ... 38656.92         40396.69         42486.34        \n",
       "43109 27883.71        ... 38656.92         40396.69         42486.34        \n",
       "43110 27883.71        ... 38656.92         40396.69         42486.34        \n",
       "43111 27883.71        ... 38656.92         40396.69         42486.34        \n",
       "43112 27883.71        ... 38656.92         40396.69         42486.34        \n",
       "43113 27883.71        ... 38656.92         40396.69         42486.34        \n",
       "43114 27883.71        ... 38656.92         40396.69         42486.34        \n",
       "43115 27883.71        ... 38656.92         40396.69         42486.34        \n",
       "43116 27883.71        ... 38656.92         40396.69         42486.34        \n",
       "43117 27883.71        ... 38656.92         40396.69         42486.34        \n",
       "43118 27883.71        ... 38656.92         40396.69         42486.34        \n",
       "43119 27883.71        ... 38656.92         40396.69         42486.34        \n",
       "43120 27883.71        ... 38656.92         40396.69         42486.34        \n",
       "43121 27883.71        ... 38656.92         40396.69         42486.34        \n",
       "43122 27883.71        ... 38656.92         40396.69         42486.34        \n",
       "43123 27883.71        ... 38656.92         40396.69         42486.34        \n",
       "43124 27883.71        ... 38656.92         40396.69         42486.34        \n",
       "43125 27883.71        ... 38656.92         40396.69         42486.34        \n",
       "43126 27883.71        ... 38656.92         40396.69         42486.34        \n",
       "43127 27883.71        ... 38656.92         40396.69         42486.34        \n",
       "43128 27883.71        ... 38656.92         40396.69         42486.34        \n",
       "      Lag_day7_hour_18 Lag_day7_hour_19 Lag_day7_hour_20 Lag_day7_hour_21\n",
       "1     NA               NA               NA               NA              \n",
       "2     NA               NA               NA               NA              \n",
       "3     NA               NA               NA               NA              \n",
       "4     NA               NA               NA               NA              \n",
       "5     NA               NA               NA               NA              \n",
       "6     NA               NA               NA               NA              \n",
       "7     NA               NA               NA               NA              \n",
       "8     NA               NA               NA               NA              \n",
       "9     NA               NA               NA               NA              \n",
       "10    NA               NA               NA               NA              \n",
       "11    NA               NA               NA               NA              \n",
       "12    NA               NA               NA               NA              \n",
       "13    NA               NA               NA               NA              \n",
       "14    NA               NA               NA               NA              \n",
       "15    NA               NA               NA               NA              \n",
       "16    NA               NA               NA               NA              \n",
       "17    NA               NA               NA               NA              \n",
       "18    NA               NA               NA               NA              \n",
       "19    NA               NA               NA               NA              \n",
       "20    NA               NA               NA               NA              \n",
       "21    NA               NA               NA               NA              \n",
       "22    NA               NA               NA               NA              \n",
       "23    NA               NA               NA               NA              \n",
       "24    NA               NA               NA               NA              \n",
       "25    NA               NA               NA               NA              \n",
       "26    NA               NA               NA               NA              \n",
       "27    NA               NA               NA               NA              \n",
       "28    NA               NA               NA               NA              \n",
       "29    NA               NA               NA               NA              \n",
       "30    NA               NA               NA               NA              \n",
       "...   ...              ...              ...              ...             \n",
       "43099 41710.94         40297.34         38951.67         37856.67        \n",
       "43100 41710.94         40297.34         38951.67         37856.67        \n",
       "43101 41710.94         40297.34         38951.67         37856.67        \n",
       "43102 41710.94         40297.34         38951.67         37856.67        \n",
       "43103 41710.94         40297.34         38951.67         37856.67        \n",
       "43104 41710.94         40297.34         38951.67         37856.67        \n",
       "43105 42255.24         40895.17         39240.65         38366.41        \n",
       "43106 42255.24         40895.17         39240.65         38366.41        \n",
       "43107 42255.24         40895.17         39240.65         38366.41        \n",
       "43108 42255.24         40895.17         39240.65         38366.41        \n",
       "43109 42255.24         40895.17         39240.65         38366.41        \n",
       "43110 42255.24         40895.17         39240.65         38366.41        \n",
       "43111 42255.24         40895.17         39240.65         38366.41        \n",
       "43112 42255.24         40895.17         39240.65         38366.41        \n",
       "43113 42255.24         40895.17         39240.65         38366.41        \n",
       "43114 42255.24         40895.17         39240.65         38366.41        \n",
       "43115 42255.24         40895.17         39240.65         38366.41        \n",
       "43116 42255.24         40895.17         39240.65         38366.41        \n",
       "43117 42255.24         40895.17         39240.65         38366.41        \n",
       "43118 42255.24         40895.17         39240.65         38366.41        \n",
       "43119 42255.24         40895.17         39240.65         38366.41        \n",
       "43120 42255.24         40895.17         39240.65         38366.41        \n",
       "43121 42255.24         40895.17         39240.65         38366.41        \n",
       "43122 42255.24         40895.17         39240.65         38366.41        \n",
       "43123 42255.24         40895.17         39240.65         38366.41        \n",
       "43124 42255.24         40895.17         39240.65         38366.41        \n",
       "43125 42255.24         40895.17         39240.65         38366.41        \n",
       "43126 42255.24         40895.17         39240.65         38366.41        \n",
       "43127 42255.24         40895.17         39240.65         38366.41        \n",
       "43128 42255.24         40895.17         39240.65         38366.41        \n",
       "      Lag_day7_hour_22 Lag_day7_hour_23 consumption\n",
       "1     NA               NA               26277.24   \n",
       "2     NA               NA               24991.82   \n",
       "3     NA               NA               23532.61   \n",
       "4     NA               NA               22464.78   \n",
       "5     NA               NA               22002.91   \n",
       "6     NA               NA               21957.08   \n",
       "7     NA               NA               22203.54   \n",
       "8     NA               NA               21844.16   \n",
       "9     NA               NA               23094.73   \n",
       "10    NA               NA               25202.27   \n",
       "11    NA               NA               27224.96   \n",
       "12    NA               NA               28908.04   \n",
       "13    NA               NA               28789.25   \n",
       "14    NA               NA               29367.70   \n",
       "15    NA               NA               29548.32   \n",
       "16    NA               NA               29390.89   \n",
       "17    NA               NA               30734.97   \n",
       "18    NA               NA               32048.02   \n",
       "19    NA               NA               31438.11   \n",
       "20    NA               NA               30728.47   \n",
       "21    NA               NA               30166.14   \n",
       "22    NA               NA               29461.28   \n",
       "23    NA               NA               29242.83   \n",
       "24    NA               NA               28069.09   \n",
       "25    NA               NA               26224.60   \n",
       "26    NA               NA               24708.58   \n",
       "27    NA               NA               23771.58   \n",
       "28    NA               NA               22921.29   \n",
       "29    NA               NA               22870.89   \n",
       "30    NA               NA               23325.63   \n",
       "...   ...              ...              ...        \n",
       "43099 36983.95         35594.03         42245.38   \n",
       "43100 36983.95         35594.03         40750.73   \n",
       "43101 36983.95         35594.03         39294.57   \n",
       "43102 36983.95         35594.03         38212.74   \n",
       "43103 36983.95         35594.03         37225.65   \n",
       "43104 36983.95         35594.03         35775.04   \n",
       "43105 37446.73         36186.83         33842.13   \n",
       "43106 37446.73         36186.83         32013.00   \n",
       "43107 37446.73         36186.83         30884.17   \n",
       "43108 37446.73         36186.83         30082.68   \n",
       "43109 37446.73         36186.83         29844.18   \n",
       "43110 37446.73         36186.83         30100.53   \n",
       "43111 37446.73         36186.83         30743.44   \n",
       "43112 37446.73         36186.83         32279.80   \n",
       "43113 37446.73         36186.83         36657.05   \n",
       "43114 37446.73         36186.83         39815.64   \n",
       "43115 37446.73         36186.83         40846.18   \n",
       "43116 37446.73         36186.83         41320.19   \n",
       "43117 37446.73         36186.83         40054.73   \n",
       "43118 37446.73         36186.83         40874.30   \n",
       "43119 37446.73         36186.83         41812.33   \n",
       "43120 37446.73         36186.83         41722.82   \n",
       "43121 37446.73         36186.83         42341.25   \n",
       "43122 37446.73         36186.83         43320.35   \n",
       "43123 37446.73         36186.83         42292.06   \n",
       "43124 37446.73         36186.83         40720.16   \n",
       "43125 37446.73         36186.83         39195.74   \n",
       "43126 37446.73         36186.83         38310.79   \n",
       "43127 37446.73         36186.83         37173.97   \n",
       "43128 37446.73         36186.83         35725.46   "
      ]
     },
     "metadata": {},
     "output_type": "display_data"
    },
    {
     "data": {
      "text/html": [
       "<table>\n",
       "<thead><tr><th scope=col>date</th><th scope=col>hour</th><th scope=col>consumption</th><th scope=col>Lag_day2_hour_0</th><th scope=col>Lag_day2_hour_1</th><th scope=col>Lag_day2_hour_2</th><th scope=col>Lag_day2_hour_3</th><th scope=col>Lag_day2_hour_4</th><th scope=col>Lag_day2_hour_5</th><th scope=col>Lag_day2_hour_6</th><th scope=col>...</th><th scope=col>Lag_day7_hour_14</th><th scope=col>Lag_day7_hour_15</th><th scope=col>Lag_day7_hour_16</th><th scope=col>Lag_day7_hour_17</th><th scope=col>Lag_day7_hour_18</th><th scope=col>Lag_day7_hour_19</th><th scope=col>Lag_day7_hour_20</th><th scope=col>Lag_day7_hour_21</th><th scope=col>Lag_day7_hour_22</th><th scope=col>Lag_day7_hour_23</th></tr></thead>\n",
       "<tbody>\n",
       "\t<tr><td>2016-01-01</td><td> 0        </td><td>26277.24  </td><td>NA        </td><td>NA        </td><td>NA        </td><td>NA        </td><td>NA        </td><td>NA        </td><td>NA        </td><td>...       </td><td>NA        </td><td>NA        </td><td>NA        </td><td>NA        </td><td>NA        </td><td>NA        </td><td>NA        </td><td>NA        </td><td>NA        </td><td>NA        </td></tr>\n",
       "\t<tr><td>2016-01-01</td><td> 1        </td><td>24991.82  </td><td>NA        </td><td>NA        </td><td>NA        </td><td>NA        </td><td>NA        </td><td>NA        </td><td>NA        </td><td>...       </td><td>NA        </td><td>NA        </td><td>NA        </td><td>NA        </td><td>NA        </td><td>NA        </td><td>NA        </td><td>NA        </td><td>NA        </td><td>NA        </td></tr>\n",
       "\t<tr><td>2016-01-01</td><td> 2        </td><td>23532.61  </td><td>NA        </td><td>NA        </td><td>NA        </td><td>NA        </td><td>NA        </td><td>NA        </td><td>NA        </td><td>...       </td><td>NA        </td><td>NA        </td><td>NA        </td><td>NA        </td><td>NA        </td><td>NA        </td><td>NA        </td><td>NA        </td><td>NA        </td><td>NA        </td></tr>\n",
       "\t<tr><td>2016-01-01</td><td> 3        </td><td>22464.78  </td><td>NA        </td><td>NA        </td><td>NA        </td><td>NA        </td><td>NA        </td><td>NA        </td><td>NA        </td><td>...       </td><td>NA        </td><td>NA        </td><td>NA        </td><td>NA        </td><td>NA        </td><td>NA        </td><td>NA        </td><td>NA        </td><td>NA        </td><td>NA        </td></tr>\n",
       "\t<tr><td>2016-01-01</td><td> 4        </td><td>22002.91  </td><td>NA        </td><td>NA        </td><td>NA        </td><td>NA        </td><td>NA        </td><td>NA        </td><td>NA        </td><td>...       </td><td>NA        </td><td>NA        </td><td>NA        </td><td>NA        </td><td>NA        </td><td>NA        </td><td>NA        </td><td>NA        </td><td>NA        </td><td>NA        </td></tr>\n",
       "\t<tr><td>2016-01-01</td><td> 5        </td><td>21957.08  </td><td>NA        </td><td>NA        </td><td>NA        </td><td>NA        </td><td>NA        </td><td>NA        </td><td>NA        </td><td>...       </td><td>NA        </td><td>NA        </td><td>NA        </td><td>NA        </td><td>NA        </td><td>NA        </td><td>NA        </td><td>NA        </td><td>NA        </td><td>NA        </td></tr>\n",
       "\t<tr><td>2016-01-01</td><td> 6        </td><td>22203.54  </td><td>NA        </td><td>NA        </td><td>NA        </td><td>NA        </td><td>NA        </td><td>NA        </td><td>NA        </td><td>...       </td><td>NA        </td><td>NA        </td><td>NA        </td><td>NA        </td><td>NA        </td><td>NA        </td><td>NA        </td><td>NA        </td><td>NA        </td><td>NA        </td></tr>\n",
       "\t<tr><td>2016-01-01</td><td> 7        </td><td>21844.16  </td><td>NA        </td><td>NA        </td><td>NA        </td><td>NA        </td><td>NA        </td><td>NA        </td><td>NA        </td><td>...       </td><td>NA        </td><td>NA        </td><td>NA        </td><td>NA        </td><td>NA        </td><td>NA        </td><td>NA        </td><td>NA        </td><td>NA        </td><td>NA        </td></tr>\n",
       "\t<tr><td>2016-01-01</td><td> 8        </td><td>23094.73  </td><td>NA        </td><td>NA        </td><td>NA        </td><td>NA        </td><td>NA        </td><td>NA        </td><td>NA        </td><td>...       </td><td>NA        </td><td>NA        </td><td>NA        </td><td>NA        </td><td>NA        </td><td>NA        </td><td>NA        </td><td>NA        </td><td>NA        </td><td>NA        </td></tr>\n",
       "\t<tr><td>2016-01-01</td><td> 9        </td><td>25202.27  </td><td>NA        </td><td>NA        </td><td>NA        </td><td>NA        </td><td>NA        </td><td>NA        </td><td>NA        </td><td>...       </td><td>NA        </td><td>NA        </td><td>NA        </td><td>NA        </td><td>NA        </td><td>NA        </td><td>NA        </td><td>NA        </td><td>NA        </td><td>NA        </td></tr>\n",
       "\t<tr><td>2016-01-01</td><td>10        </td><td>27224.96  </td><td>NA        </td><td>NA        </td><td>NA        </td><td>NA        </td><td>NA        </td><td>NA        </td><td>NA        </td><td>...       </td><td>NA        </td><td>NA        </td><td>NA        </td><td>NA        </td><td>NA        </td><td>NA        </td><td>NA        </td><td>NA        </td><td>NA        </td><td>NA        </td></tr>\n",
       "\t<tr><td>2016-01-01</td><td>11        </td><td>28908.04  </td><td>NA        </td><td>NA        </td><td>NA        </td><td>NA        </td><td>NA        </td><td>NA        </td><td>NA        </td><td>...       </td><td>NA        </td><td>NA        </td><td>NA        </td><td>NA        </td><td>NA        </td><td>NA        </td><td>NA        </td><td>NA        </td><td>NA        </td><td>NA        </td></tr>\n",
       "\t<tr><td>2016-01-01</td><td>12        </td><td>28789.25  </td><td>NA        </td><td>NA        </td><td>NA        </td><td>NA        </td><td>NA        </td><td>NA        </td><td>NA        </td><td>...       </td><td>NA        </td><td>NA        </td><td>NA        </td><td>NA        </td><td>NA        </td><td>NA        </td><td>NA        </td><td>NA        </td><td>NA        </td><td>NA        </td></tr>\n",
       "\t<tr><td>2016-01-01</td><td>13        </td><td>29367.70  </td><td>NA        </td><td>NA        </td><td>NA        </td><td>NA        </td><td>NA        </td><td>NA        </td><td>NA        </td><td>...       </td><td>NA        </td><td>NA        </td><td>NA        </td><td>NA        </td><td>NA        </td><td>NA        </td><td>NA        </td><td>NA        </td><td>NA        </td><td>NA        </td></tr>\n",
       "\t<tr><td>2016-01-01</td><td>14        </td><td>29548.32  </td><td>NA        </td><td>NA        </td><td>NA        </td><td>NA        </td><td>NA        </td><td>NA        </td><td>NA        </td><td>...       </td><td>NA        </td><td>NA        </td><td>NA        </td><td>NA        </td><td>NA        </td><td>NA        </td><td>NA        </td><td>NA        </td><td>NA        </td><td>NA        </td></tr>\n",
       "\t<tr><td>2016-01-01</td><td>15        </td><td>29390.89  </td><td>NA        </td><td>NA        </td><td>NA        </td><td>NA        </td><td>NA        </td><td>NA        </td><td>NA        </td><td>...       </td><td>NA        </td><td>NA        </td><td>NA        </td><td>NA        </td><td>NA        </td><td>NA        </td><td>NA        </td><td>NA        </td><td>NA        </td><td>NA        </td></tr>\n",
       "\t<tr><td>2016-01-01</td><td>16        </td><td>30734.97  </td><td>NA        </td><td>NA        </td><td>NA        </td><td>NA        </td><td>NA        </td><td>NA        </td><td>NA        </td><td>...       </td><td>NA        </td><td>NA        </td><td>NA        </td><td>NA        </td><td>NA        </td><td>NA        </td><td>NA        </td><td>NA        </td><td>NA        </td><td>NA        </td></tr>\n",
       "\t<tr><td>2016-01-01</td><td>17        </td><td>32048.02  </td><td>NA        </td><td>NA        </td><td>NA        </td><td>NA        </td><td>NA        </td><td>NA        </td><td>NA        </td><td>...       </td><td>NA        </td><td>NA        </td><td>NA        </td><td>NA        </td><td>NA        </td><td>NA        </td><td>NA        </td><td>NA        </td><td>NA        </td><td>NA        </td></tr>\n",
       "\t<tr><td>2016-01-01</td><td>18        </td><td>31438.11  </td><td>NA        </td><td>NA        </td><td>NA        </td><td>NA        </td><td>NA        </td><td>NA        </td><td>NA        </td><td>...       </td><td>NA        </td><td>NA        </td><td>NA        </td><td>NA        </td><td>NA        </td><td>NA        </td><td>NA        </td><td>NA        </td><td>NA        </td><td>NA        </td></tr>\n",
       "\t<tr><td>2016-01-01</td><td>19        </td><td>30728.47  </td><td>NA        </td><td>NA        </td><td>NA        </td><td>NA        </td><td>NA        </td><td>NA        </td><td>NA        </td><td>...       </td><td>NA        </td><td>NA        </td><td>NA        </td><td>NA        </td><td>NA        </td><td>NA        </td><td>NA        </td><td>NA        </td><td>NA        </td><td>NA        </td></tr>\n",
       "\t<tr><td>2016-01-01</td><td>20        </td><td>30166.14  </td><td>NA        </td><td>NA        </td><td>NA        </td><td>NA        </td><td>NA        </td><td>NA        </td><td>NA        </td><td>...       </td><td>NA        </td><td>NA        </td><td>NA        </td><td>NA        </td><td>NA        </td><td>NA        </td><td>NA        </td><td>NA        </td><td>NA        </td><td>NA        </td></tr>\n",
       "\t<tr><td>2016-01-01</td><td>21        </td><td>29461.28  </td><td>NA        </td><td>NA        </td><td>NA        </td><td>NA        </td><td>NA        </td><td>NA        </td><td>NA        </td><td>...       </td><td>NA        </td><td>NA        </td><td>NA        </td><td>NA        </td><td>NA        </td><td>NA        </td><td>NA        </td><td>NA        </td><td>NA        </td><td>NA        </td></tr>\n",
       "\t<tr><td>2016-01-01</td><td>22        </td><td>29242.83  </td><td>NA        </td><td>NA        </td><td>NA        </td><td>NA        </td><td>NA        </td><td>NA        </td><td>NA        </td><td>...       </td><td>NA        </td><td>NA        </td><td>NA        </td><td>NA        </td><td>NA        </td><td>NA        </td><td>NA        </td><td>NA        </td><td>NA        </td><td>NA        </td></tr>\n",
       "\t<tr><td>2016-01-01</td><td>23        </td><td>28069.09  </td><td>NA        </td><td>NA        </td><td>NA        </td><td>NA        </td><td>NA        </td><td>NA        </td><td>NA        </td><td>...       </td><td>NA        </td><td>NA        </td><td>NA        </td><td>NA        </td><td>NA        </td><td>NA        </td><td>NA        </td><td>NA        </td><td>NA        </td><td>NA        </td></tr>\n",
       "\t<tr><td>2016-01-02</td><td> 0        </td><td>26224.60  </td><td>NA        </td><td>NA        </td><td>NA        </td><td>NA        </td><td>NA        </td><td>NA        </td><td>NA        </td><td>...       </td><td>NA        </td><td>NA        </td><td>NA        </td><td>NA        </td><td>NA        </td><td>NA        </td><td>NA        </td><td>NA        </td><td>NA        </td><td>NA        </td></tr>\n",
       "\t<tr><td>2016-01-02</td><td> 1        </td><td>24708.58  </td><td>NA        </td><td>NA        </td><td>NA        </td><td>NA        </td><td>NA        </td><td>NA        </td><td>NA        </td><td>...       </td><td>NA        </td><td>NA        </td><td>NA        </td><td>NA        </td><td>NA        </td><td>NA        </td><td>NA        </td><td>NA        </td><td>NA        </td><td>NA        </td></tr>\n",
       "\t<tr><td>2016-01-02</td><td> 2        </td><td>23771.58  </td><td>NA        </td><td>NA        </td><td>NA        </td><td>NA        </td><td>NA        </td><td>NA        </td><td>NA        </td><td>...       </td><td>NA        </td><td>NA        </td><td>NA        </td><td>NA        </td><td>NA        </td><td>NA        </td><td>NA        </td><td>NA        </td><td>NA        </td><td>NA        </td></tr>\n",
       "\t<tr><td>2016-01-02</td><td> 3        </td><td>22921.29  </td><td>NA        </td><td>NA        </td><td>NA        </td><td>NA        </td><td>NA        </td><td>NA        </td><td>NA        </td><td>...       </td><td>NA        </td><td>NA        </td><td>NA        </td><td>NA        </td><td>NA        </td><td>NA        </td><td>NA        </td><td>NA        </td><td>NA        </td><td>NA        </td></tr>\n",
       "\t<tr><td>2016-01-02</td><td> 4        </td><td>22870.89  </td><td>NA        </td><td>NA        </td><td>NA        </td><td>NA        </td><td>NA        </td><td>NA        </td><td>NA        </td><td>...       </td><td>NA        </td><td>NA        </td><td>NA        </td><td>NA        </td><td>NA        </td><td>NA        </td><td>NA        </td><td>NA        </td><td>NA        </td><td>NA        </td></tr>\n",
       "\t<tr><td>2016-01-02</td><td> 5        </td><td>23325.63  </td><td>NA        </td><td>NA        </td><td>NA        </td><td>NA        </td><td>NA        </td><td>NA        </td><td>NA        </td><td>...       </td><td>NA        </td><td>NA        </td><td>NA        </td><td>NA        </td><td>NA        </td><td>NA        </td><td>NA        </td><td>NA        </td><td>NA        </td><td>NA        </td></tr>\n",
       "\t<tr><td>...</td><td>...</td><td>...</td><td>...</td><td>...</td><td>...</td><td>...</td><td>...</td><td>...</td><td>...</td><td>   </td><td>...</td><td>...</td><td>...</td><td>...</td><td>...</td><td>...</td><td>...</td><td>...</td><td>...</td><td>...</td></tr>\n",
       "\t<tr><td>2020-11-30</td><td>18        </td><td>42245.38  </td><td>33935.56  </td><td>31919.44  </td><td>30439.27  </td><td>30020.41  </td><td>29825.63  </td><td>29984.86  </td><td>30444.97  </td><td>...       </td><td>37089.41  </td><td>37586.08  </td><td>39435.91  </td><td>41569.99  </td><td>41710.94  </td><td>40297.34  </td><td>38951.67  </td><td>37856.67  </td><td>36983.95  </td><td>35594.03  </td></tr>\n",
       "\t<tr><td>2020-11-30</td><td>19        </td><td>40750.73  </td><td>33935.56  </td><td>31919.44  </td><td>30439.27  </td><td>30020.41  </td><td>29825.63  </td><td>29984.86  </td><td>30444.97  </td><td>...       </td><td>37089.41  </td><td>37586.08  </td><td>39435.91  </td><td>41569.99  </td><td>41710.94  </td><td>40297.34  </td><td>38951.67  </td><td>37856.67  </td><td>36983.95  </td><td>35594.03  </td></tr>\n",
       "\t<tr><td>2020-11-30</td><td>20        </td><td>39294.57  </td><td>33935.56  </td><td>31919.44  </td><td>30439.27  </td><td>30020.41  </td><td>29825.63  </td><td>29984.86  </td><td>30444.97  </td><td>...       </td><td>37089.41  </td><td>37586.08  </td><td>39435.91  </td><td>41569.99  </td><td>41710.94  </td><td>40297.34  </td><td>38951.67  </td><td>37856.67  </td><td>36983.95  </td><td>35594.03  </td></tr>\n",
       "\t<tr><td>2020-11-30</td><td>21        </td><td>38212.74  </td><td>33935.56  </td><td>31919.44  </td><td>30439.27  </td><td>30020.41  </td><td>29825.63  </td><td>29984.86  </td><td>30444.97  </td><td>...       </td><td>37089.41  </td><td>37586.08  </td><td>39435.91  </td><td>41569.99  </td><td>41710.94  </td><td>40297.34  </td><td>38951.67  </td><td>37856.67  </td><td>36983.95  </td><td>35594.03  </td></tr>\n",
       "\t<tr><td>2020-11-30</td><td>22        </td><td>37225.65  </td><td>33935.56  </td><td>31919.44  </td><td>30439.27  </td><td>30020.41  </td><td>29825.63  </td><td>29984.86  </td><td>30444.97  </td><td>...       </td><td>37089.41  </td><td>37586.08  </td><td>39435.91  </td><td>41569.99  </td><td>41710.94  </td><td>40297.34  </td><td>38951.67  </td><td>37856.67  </td><td>36983.95  </td><td>35594.03  </td></tr>\n",
       "\t<tr><td>2020-11-30</td><td>23        </td><td>35775.04  </td><td>33935.56  </td><td>31919.44  </td><td>30439.27  </td><td>30020.41  </td><td>29825.63  </td><td>29984.86  </td><td>30444.97  </td><td>...       </td><td>37089.41  </td><td>37586.08  </td><td>39435.91  </td><td>41569.99  </td><td>41710.94  </td><td>40297.34  </td><td>38951.67  </td><td>37856.67  </td><td>36983.95  </td><td>35594.03  </td></tr>\n",
       "\t<tr><td>2020-12-01</td><td> 0        </td><td>33842.13  </td><td>32332.68  </td><td>30410.13  </td><td>29119.33  </td><td>28484.61  </td><td>28150.14  </td><td>28065.44  </td><td>28189.16  </td><td>...       </td><td>37830.17  </td><td>38656.92  </td><td>40396.69  </td><td>42486.34  </td><td>42255.24  </td><td>40895.17  </td><td>39240.65  </td><td>38366.41  </td><td>37446.73  </td><td>36186.83  </td></tr>\n",
       "\t<tr><td>2020-12-01</td><td> 1        </td><td>32013.00  </td><td>32332.68  </td><td>30410.13  </td><td>29119.33  </td><td>28484.61  </td><td>28150.14  </td><td>28065.44  </td><td>28189.16  </td><td>...       </td><td>37830.17  </td><td>38656.92  </td><td>40396.69  </td><td>42486.34  </td><td>42255.24  </td><td>40895.17  </td><td>39240.65  </td><td>38366.41  </td><td>37446.73  </td><td>36186.83  </td></tr>\n",
       "\t<tr><td>2020-12-01</td><td> 2        </td><td>30884.17  </td><td>32332.68  </td><td>30410.13  </td><td>29119.33  </td><td>28484.61  </td><td>28150.14  </td><td>28065.44  </td><td>28189.16  </td><td>...       </td><td>37830.17  </td><td>38656.92  </td><td>40396.69  </td><td>42486.34  </td><td>42255.24  </td><td>40895.17  </td><td>39240.65  </td><td>38366.41  </td><td>37446.73  </td><td>36186.83  </td></tr>\n",
       "\t<tr><td>2020-12-01</td><td> 3        </td><td>30082.68  </td><td>32332.68  </td><td>30410.13  </td><td>29119.33  </td><td>28484.61  </td><td>28150.14  </td><td>28065.44  </td><td>28189.16  </td><td>...       </td><td>37830.17  </td><td>38656.92  </td><td>40396.69  </td><td>42486.34  </td><td>42255.24  </td><td>40895.17  </td><td>39240.65  </td><td>38366.41  </td><td>37446.73  </td><td>36186.83  </td></tr>\n",
       "\t<tr><td>2020-12-01</td><td> 4        </td><td>29844.18  </td><td>32332.68  </td><td>30410.13  </td><td>29119.33  </td><td>28484.61  </td><td>28150.14  </td><td>28065.44  </td><td>28189.16  </td><td>...       </td><td>37830.17  </td><td>38656.92  </td><td>40396.69  </td><td>42486.34  </td><td>42255.24  </td><td>40895.17  </td><td>39240.65  </td><td>38366.41  </td><td>37446.73  </td><td>36186.83  </td></tr>\n",
       "\t<tr><td>2020-12-01</td><td> 5        </td><td>30100.53  </td><td>32332.68  </td><td>30410.13  </td><td>29119.33  </td><td>28484.61  </td><td>28150.14  </td><td>28065.44  </td><td>28189.16  </td><td>...       </td><td>37830.17  </td><td>38656.92  </td><td>40396.69  </td><td>42486.34  </td><td>42255.24  </td><td>40895.17  </td><td>39240.65  </td><td>38366.41  </td><td>37446.73  </td><td>36186.83  </td></tr>\n",
       "\t<tr><td>2020-12-01</td><td> 6        </td><td>30743.44  </td><td>32332.68  </td><td>30410.13  </td><td>29119.33  </td><td>28484.61  </td><td>28150.14  </td><td>28065.44  </td><td>28189.16  </td><td>...       </td><td>37830.17  </td><td>38656.92  </td><td>40396.69  </td><td>42486.34  </td><td>42255.24  </td><td>40895.17  </td><td>39240.65  </td><td>38366.41  </td><td>37446.73  </td><td>36186.83  </td></tr>\n",
       "\t<tr><td>2020-12-01</td><td> 7        </td><td>32279.80  </td><td>32332.68  </td><td>30410.13  </td><td>29119.33  </td><td>28484.61  </td><td>28150.14  </td><td>28065.44  </td><td>28189.16  </td><td>...       </td><td>37830.17  </td><td>38656.92  </td><td>40396.69  </td><td>42486.34  </td><td>42255.24  </td><td>40895.17  </td><td>39240.65  </td><td>38366.41  </td><td>37446.73  </td><td>36186.83  </td></tr>\n",
       "\t<tr><td>2020-12-01</td><td> 8        </td><td>36657.05  </td><td>32332.68  </td><td>30410.13  </td><td>29119.33  </td><td>28484.61  </td><td>28150.14  </td><td>28065.44  </td><td>28189.16  </td><td>...       </td><td>37830.17  </td><td>38656.92  </td><td>40396.69  </td><td>42486.34  </td><td>42255.24  </td><td>40895.17  </td><td>39240.65  </td><td>38366.41  </td><td>37446.73  </td><td>36186.83  </td></tr>\n",
       "\t<tr><td>2020-12-01</td><td> 9        </td><td>39815.64  </td><td>32332.68  </td><td>30410.13  </td><td>29119.33  </td><td>28484.61  </td><td>28150.14  </td><td>28065.44  </td><td>28189.16  </td><td>...       </td><td>37830.17  </td><td>38656.92  </td><td>40396.69  </td><td>42486.34  </td><td>42255.24  </td><td>40895.17  </td><td>39240.65  </td><td>38366.41  </td><td>37446.73  </td><td>36186.83  </td></tr>\n",
       "\t<tr><td>2020-12-01</td><td>10        </td><td>40846.18  </td><td>32332.68  </td><td>30410.13  </td><td>29119.33  </td><td>28484.61  </td><td>28150.14  </td><td>28065.44  </td><td>28189.16  </td><td>...       </td><td>37830.17  </td><td>38656.92  </td><td>40396.69  </td><td>42486.34  </td><td>42255.24  </td><td>40895.17  </td><td>39240.65  </td><td>38366.41  </td><td>37446.73  </td><td>36186.83  </td></tr>\n",
       "\t<tr><td>2020-12-01</td><td>11        </td><td>41320.19  </td><td>32332.68  </td><td>30410.13  </td><td>29119.33  </td><td>28484.61  </td><td>28150.14  </td><td>28065.44  </td><td>28189.16  </td><td>...       </td><td>37830.17  </td><td>38656.92  </td><td>40396.69  </td><td>42486.34  </td><td>42255.24  </td><td>40895.17  </td><td>39240.65  </td><td>38366.41  </td><td>37446.73  </td><td>36186.83  </td></tr>\n",
       "\t<tr><td>2020-12-01</td><td>12        </td><td>40054.73  </td><td>32332.68  </td><td>30410.13  </td><td>29119.33  </td><td>28484.61  </td><td>28150.14  </td><td>28065.44  </td><td>28189.16  </td><td>...       </td><td>37830.17  </td><td>38656.92  </td><td>40396.69  </td><td>42486.34  </td><td>42255.24  </td><td>40895.17  </td><td>39240.65  </td><td>38366.41  </td><td>37446.73  </td><td>36186.83  </td></tr>\n",
       "\t<tr><td>2020-12-01</td><td>13        </td><td>40874.30  </td><td>32332.68  </td><td>30410.13  </td><td>29119.33  </td><td>28484.61  </td><td>28150.14  </td><td>28065.44  </td><td>28189.16  </td><td>...       </td><td>37830.17  </td><td>38656.92  </td><td>40396.69  </td><td>42486.34  </td><td>42255.24  </td><td>40895.17  </td><td>39240.65  </td><td>38366.41  </td><td>37446.73  </td><td>36186.83  </td></tr>\n",
       "\t<tr><td>2020-12-01</td><td>14        </td><td>41812.33  </td><td>32332.68  </td><td>30410.13  </td><td>29119.33  </td><td>28484.61  </td><td>28150.14  </td><td>28065.44  </td><td>28189.16  </td><td>...       </td><td>37830.17  </td><td>38656.92  </td><td>40396.69  </td><td>42486.34  </td><td>42255.24  </td><td>40895.17  </td><td>39240.65  </td><td>38366.41  </td><td>37446.73  </td><td>36186.83  </td></tr>\n",
       "\t<tr><td>2020-12-01</td><td>15        </td><td>41722.82  </td><td>32332.68  </td><td>30410.13  </td><td>29119.33  </td><td>28484.61  </td><td>28150.14  </td><td>28065.44  </td><td>28189.16  </td><td>...       </td><td>37830.17  </td><td>38656.92  </td><td>40396.69  </td><td>42486.34  </td><td>42255.24  </td><td>40895.17  </td><td>39240.65  </td><td>38366.41  </td><td>37446.73  </td><td>36186.83  </td></tr>\n",
       "\t<tr><td>2020-12-01</td><td>16        </td><td>42341.25  </td><td>32332.68  </td><td>30410.13  </td><td>29119.33  </td><td>28484.61  </td><td>28150.14  </td><td>28065.44  </td><td>28189.16  </td><td>...       </td><td>37830.17  </td><td>38656.92  </td><td>40396.69  </td><td>42486.34  </td><td>42255.24  </td><td>40895.17  </td><td>39240.65  </td><td>38366.41  </td><td>37446.73  </td><td>36186.83  </td></tr>\n",
       "\t<tr><td>2020-12-01</td><td>17        </td><td>43320.35  </td><td>32332.68  </td><td>30410.13  </td><td>29119.33  </td><td>28484.61  </td><td>28150.14  </td><td>28065.44  </td><td>28189.16  </td><td>...       </td><td>37830.17  </td><td>38656.92  </td><td>40396.69  </td><td>42486.34  </td><td>42255.24  </td><td>40895.17  </td><td>39240.65  </td><td>38366.41  </td><td>37446.73  </td><td>36186.83  </td></tr>\n",
       "\t<tr><td>2020-12-01</td><td>18        </td><td>42292.06  </td><td>32332.68  </td><td>30410.13  </td><td>29119.33  </td><td>28484.61  </td><td>28150.14  </td><td>28065.44  </td><td>28189.16  </td><td>...       </td><td>37830.17  </td><td>38656.92  </td><td>40396.69  </td><td>42486.34  </td><td>42255.24  </td><td>40895.17  </td><td>39240.65  </td><td>38366.41  </td><td>37446.73  </td><td>36186.83  </td></tr>\n",
       "\t<tr><td>2020-12-01</td><td>19        </td><td>40720.16  </td><td>32332.68  </td><td>30410.13  </td><td>29119.33  </td><td>28484.61  </td><td>28150.14  </td><td>28065.44  </td><td>28189.16  </td><td>...       </td><td>37830.17  </td><td>38656.92  </td><td>40396.69  </td><td>42486.34  </td><td>42255.24  </td><td>40895.17  </td><td>39240.65  </td><td>38366.41  </td><td>37446.73  </td><td>36186.83  </td></tr>\n",
       "\t<tr><td>2020-12-01</td><td>20        </td><td>39195.74  </td><td>32332.68  </td><td>30410.13  </td><td>29119.33  </td><td>28484.61  </td><td>28150.14  </td><td>28065.44  </td><td>28189.16  </td><td>...       </td><td>37830.17  </td><td>38656.92  </td><td>40396.69  </td><td>42486.34  </td><td>42255.24  </td><td>40895.17  </td><td>39240.65  </td><td>38366.41  </td><td>37446.73  </td><td>36186.83  </td></tr>\n",
       "\t<tr><td>2020-12-01</td><td>21        </td><td>38310.79  </td><td>32332.68  </td><td>30410.13  </td><td>29119.33  </td><td>28484.61  </td><td>28150.14  </td><td>28065.44  </td><td>28189.16  </td><td>...       </td><td>37830.17  </td><td>38656.92  </td><td>40396.69  </td><td>42486.34  </td><td>42255.24  </td><td>40895.17  </td><td>39240.65  </td><td>38366.41  </td><td>37446.73  </td><td>36186.83  </td></tr>\n",
       "\t<tr><td>2020-12-01</td><td>22        </td><td>37173.97  </td><td>32332.68  </td><td>30410.13  </td><td>29119.33  </td><td>28484.61  </td><td>28150.14  </td><td>28065.44  </td><td>28189.16  </td><td>...       </td><td>37830.17  </td><td>38656.92  </td><td>40396.69  </td><td>42486.34  </td><td>42255.24  </td><td>40895.17  </td><td>39240.65  </td><td>38366.41  </td><td>37446.73  </td><td>36186.83  </td></tr>\n",
       "\t<tr><td>2020-12-01</td><td>23        </td><td>35725.46  </td><td>32332.68  </td><td>30410.13  </td><td>29119.33  </td><td>28484.61  </td><td>28150.14  </td><td>28065.44  </td><td>28189.16  </td><td>...       </td><td>37830.17  </td><td>38656.92  </td><td>40396.69  </td><td>42486.34  </td><td>42255.24  </td><td>40895.17  </td><td>39240.65  </td><td>38366.41  </td><td>37446.73  </td><td>36186.83  </td></tr>\n",
       "</tbody>\n",
       "</table>\n"
      ],
      "text/latex": [
       "\\begin{tabular}{r|lllllllllllllllllllllllllllllllllllllllllllllllllll}\n",
       " date & hour & consumption & Lag\\_day2\\_hour\\_0 & Lag\\_day2\\_hour\\_1 & Lag\\_day2\\_hour\\_2 & Lag\\_day2\\_hour\\_3 & Lag\\_day2\\_hour\\_4 & Lag\\_day2\\_hour\\_5 & Lag\\_day2\\_hour\\_6 & ... & Lag\\_day7\\_hour\\_14 & Lag\\_day7\\_hour\\_15 & Lag\\_day7\\_hour\\_16 & Lag\\_day7\\_hour\\_17 & Lag\\_day7\\_hour\\_18 & Lag\\_day7\\_hour\\_19 & Lag\\_day7\\_hour\\_20 & Lag\\_day7\\_hour\\_21 & Lag\\_day7\\_hour\\_22 & Lag\\_day7\\_hour\\_23\\\\\n",
       "\\hline\n",
       "\t 2016-01-01 &  0         & 26277.24   & NA         & NA         & NA         & NA         & NA         & NA         & NA         & ...        & NA         & NA         & NA         & NA         & NA         & NA         & NA         & NA         & NA         & NA        \\\\\n",
       "\t 2016-01-01 &  1         & 24991.82   & NA         & NA         & NA         & NA         & NA         & NA         & NA         & ...        & NA         & NA         & NA         & NA         & NA         & NA         & NA         & NA         & NA         & NA        \\\\\n",
       "\t 2016-01-01 &  2         & 23532.61   & NA         & NA         & NA         & NA         & NA         & NA         & NA         & ...        & NA         & NA         & NA         & NA         & NA         & NA         & NA         & NA         & NA         & NA        \\\\\n",
       "\t 2016-01-01 &  3         & 22464.78   & NA         & NA         & NA         & NA         & NA         & NA         & NA         & ...        & NA         & NA         & NA         & NA         & NA         & NA         & NA         & NA         & NA         & NA        \\\\\n",
       "\t 2016-01-01 &  4         & 22002.91   & NA         & NA         & NA         & NA         & NA         & NA         & NA         & ...        & NA         & NA         & NA         & NA         & NA         & NA         & NA         & NA         & NA         & NA        \\\\\n",
       "\t 2016-01-01 &  5         & 21957.08   & NA         & NA         & NA         & NA         & NA         & NA         & NA         & ...        & NA         & NA         & NA         & NA         & NA         & NA         & NA         & NA         & NA         & NA        \\\\\n",
       "\t 2016-01-01 &  6         & 22203.54   & NA         & NA         & NA         & NA         & NA         & NA         & NA         & ...        & NA         & NA         & NA         & NA         & NA         & NA         & NA         & NA         & NA         & NA        \\\\\n",
       "\t 2016-01-01 &  7         & 21844.16   & NA         & NA         & NA         & NA         & NA         & NA         & NA         & ...        & NA         & NA         & NA         & NA         & NA         & NA         & NA         & NA         & NA         & NA        \\\\\n",
       "\t 2016-01-01 &  8         & 23094.73   & NA         & NA         & NA         & NA         & NA         & NA         & NA         & ...        & NA         & NA         & NA         & NA         & NA         & NA         & NA         & NA         & NA         & NA        \\\\\n",
       "\t 2016-01-01 &  9         & 25202.27   & NA         & NA         & NA         & NA         & NA         & NA         & NA         & ...        & NA         & NA         & NA         & NA         & NA         & NA         & NA         & NA         & NA         & NA        \\\\\n",
       "\t 2016-01-01 & 10         & 27224.96   & NA         & NA         & NA         & NA         & NA         & NA         & NA         & ...        & NA         & NA         & NA         & NA         & NA         & NA         & NA         & NA         & NA         & NA        \\\\\n",
       "\t 2016-01-01 & 11         & 28908.04   & NA         & NA         & NA         & NA         & NA         & NA         & NA         & ...        & NA         & NA         & NA         & NA         & NA         & NA         & NA         & NA         & NA         & NA        \\\\\n",
       "\t 2016-01-01 & 12         & 28789.25   & NA         & NA         & NA         & NA         & NA         & NA         & NA         & ...        & NA         & NA         & NA         & NA         & NA         & NA         & NA         & NA         & NA         & NA        \\\\\n",
       "\t 2016-01-01 & 13         & 29367.70   & NA         & NA         & NA         & NA         & NA         & NA         & NA         & ...        & NA         & NA         & NA         & NA         & NA         & NA         & NA         & NA         & NA         & NA        \\\\\n",
       "\t 2016-01-01 & 14         & 29548.32   & NA         & NA         & NA         & NA         & NA         & NA         & NA         & ...        & NA         & NA         & NA         & NA         & NA         & NA         & NA         & NA         & NA         & NA        \\\\\n",
       "\t 2016-01-01 & 15         & 29390.89   & NA         & NA         & NA         & NA         & NA         & NA         & NA         & ...        & NA         & NA         & NA         & NA         & NA         & NA         & NA         & NA         & NA         & NA        \\\\\n",
       "\t 2016-01-01 & 16         & 30734.97   & NA         & NA         & NA         & NA         & NA         & NA         & NA         & ...        & NA         & NA         & NA         & NA         & NA         & NA         & NA         & NA         & NA         & NA        \\\\\n",
       "\t 2016-01-01 & 17         & 32048.02   & NA         & NA         & NA         & NA         & NA         & NA         & NA         & ...        & NA         & NA         & NA         & NA         & NA         & NA         & NA         & NA         & NA         & NA        \\\\\n",
       "\t 2016-01-01 & 18         & 31438.11   & NA         & NA         & NA         & NA         & NA         & NA         & NA         & ...        & NA         & NA         & NA         & NA         & NA         & NA         & NA         & NA         & NA         & NA        \\\\\n",
       "\t 2016-01-01 & 19         & 30728.47   & NA         & NA         & NA         & NA         & NA         & NA         & NA         & ...        & NA         & NA         & NA         & NA         & NA         & NA         & NA         & NA         & NA         & NA        \\\\\n",
       "\t 2016-01-01 & 20         & 30166.14   & NA         & NA         & NA         & NA         & NA         & NA         & NA         & ...        & NA         & NA         & NA         & NA         & NA         & NA         & NA         & NA         & NA         & NA        \\\\\n",
       "\t 2016-01-01 & 21         & 29461.28   & NA         & NA         & NA         & NA         & NA         & NA         & NA         & ...        & NA         & NA         & NA         & NA         & NA         & NA         & NA         & NA         & NA         & NA        \\\\\n",
       "\t 2016-01-01 & 22         & 29242.83   & NA         & NA         & NA         & NA         & NA         & NA         & NA         & ...        & NA         & NA         & NA         & NA         & NA         & NA         & NA         & NA         & NA         & NA        \\\\\n",
       "\t 2016-01-01 & 23         & 28069.09   & NA         & NA         & NA         & NA         & NA         & NA         & NA         & ...        & NA         & NA         & NA         & NA         & NA         & NA         & NA         & NA         & NA         & NA        \\\\\n",
       "\t 2016-01-02 &  0         & 26224.60   & NA         & NA         & NA         & NA         & NA         & NA         & NA         & ...        & NA         & NA         & NA         & NA         & NA         & NA         & NA         & NA         & NA         & NA        \\\\\n",
       "\t 2016-01-02 &  1         & 24708.58   & NA         & NA         & NA         & NA         & NA         & NA         & NA         & ...        & NA         & NA         & NA         & NA         & NA         & NA         & NA         & NA         & NA         & NA        \\\\\n",
       "\t 2016-01-02 &  2         & 23771.58   & NA         & NA         & NA         & NA         & NA         & NA         & NA         & ...        & NA         & NA         & NA         & NA         & NA         & NA         & NA         & NA         & NA         & NA        \\\\\n",
       "\t 2016-01-02 &  3         & 22921.29   & NA         & NA         & NA         & NA         & NA         & NA         & NA         & ...        & NA         & NA         & NA         & NA         & NA         & NA         & NA         & NA         & NA         & NA        \\\\\n",
       "\t 2016-01-02 &  4         & 22870.89   & NA         & NA         & NA         & NA         & NA         & NA         & NA         & ...        & NA         & NA         & NA         & NA         & NA         & NA         & NA         & NA         & NA         & NA        \\\\\n",
       "\t 2016-01-02 &  5         & 23325.63   & NA         & NA         & NA         & NA         & NA         & NA         & NA         & ...        & NA         & NA         & NA         & NA         & NA         & NA         & NA         & NA         & NA         & NA        \\\\\n",
       "\t ... & ... & ... & ... & ... & ... & ... & ... & ... & ... &     & ... & ... & ... & ... & ... & ... & ... & ... & ... & ...\\\\\n",
       "\t 2020-11-30 & 18         & 42245.38   & 33935.56   & 31919.44   & 30439.27   & 30020.41   & 29825.63   & 29984.86   & 30444.97   & ...        & 37089.41   & 37586.08   & 39435.91   & 41569.99   & 41710.94   & 40297.34   & 38951.67   & 37856.67   & 36983.95   & 35594.03  \\\\\n",
       "\t 2020-11-30 & 19         & 40750.73   & 33935.56   & 31919.44   & 30439.27   & 30020.41   & 29825.63   & 29984.86   & 30444.97   & ...        & 37089.41   & 37586.08   & 39435.91   & 41569.99   & 41710.94   & 40297.34   & 38951.67   & 37856.67   & 36983.95   & 35594.03  \\\\\n",
       "\t 2020-11-30 & 20         & 39294.57   & 33935.56   & 31919.44   & 30439.27   & 30020.41   & 29825.63   & 29984.86   & 30444.97   & ...        & 37089.41   & 37586.08   & 39435.91   & 41569.99   & 41710.94   & 40297.34   & 38951.67   & 37856.67   & 36983.95   & 35594.03  \\\\\n",
       "\t 2020-11-30 & 21         & 38212.74   & 33935.56   & 31919.44   & 30439.27   & 30020.41   & 29825.63   & 29984.86   & 30444.97   & ...        & 37089.41   & 37586.08   & 39435.91   & 41569.99   & 41710.94   & 40297.34   & 38951.67   & 37856.67   & 36983.95   & 35594.03  \\\\\n",
       "\t 2020-11-30 & 22         & 37225.65   & 33935.56   & 31919.44   & 30439.27   & 30020.41   & 29825.63   & 29984.86   & 30444.97   & ...        & 37089.41   & 37586.08   & 39435.91   & 41569.99   & 41710.94   & 40297.34   & 38951.67   & 37856.67   & 36983.95   & 35594.03  \\\\\n",
       "\t 2020-11-30 & 23         & 35775.04   & 33935.56   & 31919.44   & 30439.27   & 30020.41   & 29825.63   & 29984.86   & 30444.97   & ...        & 37089.41   & 37586.08   & 39435.91   & 41569.99   & 41710.94   & 40297.34   & 38951.67   & 37856.67   & 36983.95   & 35594.03  \\\\\n",
       "\t 2020-12-01 &  0         & 33842.13   & 32332.68   & 30410.13   & 29119.33   & 28484.61   & 28150.14   & 28065.44   & 28189.16   & ...        & 37830.17   & 38656.92   & 40396.69   & 42486.34   & 42255.24   & 40895.17   & 39240.65   & 38366.41   & 37446.73   & 36186.83  \\\\\n",
       "\t 2020-12-01 &  1         & 32013.00   & 32332.68   & 30410.13   & 29119.33   & 28484.61   & 28150.14   & 28065.44   & 28189.16   & ...        & 37830.17   & 38656.92   & 40396.69   & 42486.34   & 42255.24   & 40895.17   & 39240.65   & 38366.41   & 37446.73   & 36186.83  \\\\\n",
       "\t 2020-12-01 &  2         & 30884.17   & 32332.68   & 30410.13   & 29119.33   & 28484.61   & 28150.14   & 28065.44   & 28189.16   & ...        & 37830.17   & 38656.92   & 40396.69   & 42486.34   & 42255.24   & 40895.17   & 39240.65   & 38366.41   & 37446.73   & 36186.83  \\\\\n",
       "\t 2020-12-01 &  3         & 30082.68   & 32332.68   & 30410.13   & 29119.33   & 28484.61   & 28150.14   & 28065.44   & 28189.16   & ...        & 37830.17   & 38656.92   & 40396.69   & 42486.34   & 42255.24   & 40895.17   & 39240.65   & 38366.41   & 37446.73   & 36186.83  \\\\\n",
       "\t 2020-12-01 &  4         & 29844.18   & 32332.68   & 30410.13   & 29119.33   & 28484.61   & 28150.14   & 28065.44   & 28189.16   & ...        & 37830.17   & 38656.92   & 40396.69   & 42486.34   & 42255.24   & 40895.17   & 39240.65   & 38366.41   & 37446.73   & 36186.83  \\\\\n",
       "\t 2020-12-01 &  5         & 30100.53   & 32332.68   & 30410.13   & 29119.33   & 28484.61   & 28150.14   & 28065.44   & 28189.16   & ...        & 37830.17   & 38656.92   & 40396.69   & 42486.34   & 42255.24   & 40895.17   & 39240.65   & 38366.41   & 37446.73   & 36186.83  \\\\\n",
       "\t 2020-12-01 &  6         & 30743.44   & 32332.68   & 30410.13   & 29119.33   & 28484.61   & 28150.14   & 28065.44   & 28189.16   & ...        & 37830.17   & 38656.92   & 40396.69   & 42486.34   & 42255.24   & 40895.17   & 39240.65   & 38366.41   & 37446.73   & 36186.83  \\\\\n",
       "\t 2020-12-01 &  7         & 32279.80   & 32332.68   & 30410.13   & 29119.33   & 28484.61   & 28150.14   & 28065.44   & 28189.16   & ...        & 37830.17   & 38656.92   & 40396.69   & 42486.34   & 42255.24   & 40895.17   & 39240.65   & 38366.41   & 37446.73   & 36186.83  \\\\\n",
       "\t 2020-12-01 &  8         & 36657.05   & 32332.68   & 30410.13   & 29119.33   & 28484.61   & 28150.14   & 28065.44   & 28189.16   & ...        & 37830.17   & 38656.92   & 40396.69   & 42486.34   & 42255.24   & 40895.17   & 39240.65   & 38366.41   & 37446.73   & 36186.83  \\\\\n",
       "\t 2020-12-01 &  9         & 39815.64   & 32332.68   & 30410.13   & 29119.33   & 28484.61   & 28150.14   & 28065.44   & 28189.16   & ...        & 37830.17   & 38656.92   & 40396.69   & 42486.34   & 42255.24   & 40895.17   & 39240.65   & 38366.41   & 37446.73   & 36186.83  \\\\\n",
       "\t 2020-12-01 & 10         & 40846.18   & 32332.68   & 30410.13   & 29119.33   & 28484.61   & 28150.14   & 28065.44   & 28189.16   & ...        & 37830.17   & 38656.92   & 40396.69   & 42486.34   & 42255.24   & 40895.17   & 39240.65   & 38366.41   & 37446.73   & 36186.83  \\\\\n",
       "\t 2020-12-01 & 11         & 41320.19   & 32332.68   & 30410.13   & 29119.33   & 28484.61   & 28150.14   & 28065.44   & 28189.16   & ...        & 37830.17   & 38656.92   & 40396.69   & 42486.34   & 42255.24   & 40895.17   & 39240.65   & 38366.41   & 37446.73   & 36186.83  \\\\\n",
       "\t 2020-12-01 & 12         & 40054.73   & 32332.68   & 30410.13   & 29119.33   & 28484.61   & 28150.14   & 28065.44   & 28189.16   & ...        & 37830.17   & 38656.92   & 40396.69   & 42486.34   & 42255.24   & 40895.17   & 39240.65   & 38366.41   & 37446.73   & 36186.83  \\\\\n",
       "\t 2020-12-01 & 13         & 40874.30   & 32332.68   & 30410.13   & 29119.33   & 28484.61   & 28150.14   & 28065.44   & 28189.16   & ...        & 37830.17   & 38656.92   & 40396.69   & 42486.34   & 42255.24   & 40895.17   & 39240.65   & 38366.41   & 37446.73   & 36186.83  \\\\\n",
       "\t 2020-12-01 & 14         & 41812.33   & 32332.68   & 30410.13   & 29119.33   & 28484.61   & 28150.14   & 28065.44   & 28189.16   & ...        & 37830.17   & 38656.92   & 40396.69   & 42486.34   & 42255.24   & 40895.17   & 39240.65   & 38366.41   & 37446.73   & 36186.83  \\\\\n",
       "\t 2020-12-01 & 15         & 41722.82   & 32332.68   & 30410.13   & 29119.33   & 28484.61   & 28150.14   & 28065.44   & 28189.16   & ...        & 37830.17   & 38656.92   & 40396.69   & 42486.34   & 42255.24   & 40895.17   & 39240.65   & 38366.41   & 37446.73   & 36186.83  \\\\\n",
       "\t 2020-12-01 & 16         & 42341.25   & 32332.68   & 30410.13   & 29119.33   & 28484.61   & 28150.14   & 28065.44   & 28189.16   & ...        & 37830.17   & 38656.92   & 40396.69   & 42486.34   & 42255.24   & 40895.17   & 39240.65   & 38366.41   & 37446.73   & 36186.83  \\\\\n",
       "\t 2020-12-01 & 17         & 43320.35   & 32332.68   & 30410.13   & 29119.33   & 28484.61   & 28150.14   & 28065.44   & 28189.16   & ...        & 37830.17   & 38656.92   & 40396.69   & 42486.34   & 42255.24   & 40895.17   & 39240.65   & 38366.41   & 37446.73   & 36186.83  \\\\\n",
       "\t 2020-12-01 & 18         & 42292.06   & 32332.68   & 30410.13   & 29119.33   & 28484.61   & 28150.14   & 28065.44   & 28189.16   & ...        & 37830.17   & 38656.92   & 40396.69   & 42486.34   & 42255.24   & 40895.17   & 39240.65   & 38366.41   & 37446.73   & 36186.83  \\\\\n",
       "\t 2020-12-01 & 19         & 40720.16   & 32332.68   & 30410.13   & 29119.33   & 28484.61   & 28150.14   & 28065.44   & 28189.16   & ...        & 37830.17   & 38656.92   & 40396.69   & 42486.34   & 42255.24   & 40895.17   & 39240.65   & 38366.41   & 37446.73   & 36186.83  \\\\\n",
       "\t 2020-12-01 & 20         & 39195.74   & 32332.68   & 30410.13   & 29119.33   & 28484.61   & 28150.14   & 28065.44   & 28189.16   & ...        & 37830.17   & 38656.92   & 40396.69   & 42486.34   & 42255.24   & 40895.17   & 39240.65   & 38366.41   & 37446.73   & 36186.83  \\\\\n",
       "\t 2020-12-01 & 21         & 38310.79   & 32332.68   & 30410.13   & 29119.33   & 28484.61   & 28150.14   & 28065.44   & 28189.16   & ...        & 37830.17   & 38656.92   & 40396.69   & 42486.34   & 42255.24   & 40895.17   & 39240.65   & 38366.41   & 37446.73   & 36186.83  \\\\\n",
       "\t 2020-12-01 & 22         & 37173.97   & 32332.68   & 30410.13   & 29119.33   & 28484.61   & 28150.14   & 28065.44   & 28189.16   & ...        & 37830.17   & 38656.92   & 40396.69   & 42486.34   & 42255.24   & 40895.17   & 39240.65   & 38366.41   & 37446.73   & 36186.83  \\\\\n",
       "\t 2020-12-01 & 23         & 35725.46   & 32332.68   & 30410.13   & 29119.33   & 28484.61   & 28150.14   & 28065.44   & 28189.16   & ...        & 37830.17   & 38656.92   & 40396.69   & 42486.34   & 42255.24   & 40895.17   & 39240.65   & 38366.41   & 37446.73   & 36186.83  \\\\\n",
       "\\end{tabular}\n"
      ],
      "text/markdown": [
       "\n",
       "| date | hour | consumption | Lag_day2_hour_0 | Lag_day2_hour_1 | Lag_day2_hour_2 | Lag_day2_hour_3 | Lag_day2_hour_4 | Lag_day2_hour_5 | Lag_day2_hour_6 | ... | Lag_day7_hour_14 | Lag_day7_hour_15 | Lag_day7_hour_16 | Lag_day7_hour_17 | Lag_day7_hour_18 | Lag_day7_hour_19 | Lag_day7_hour_20 | Lag_day7_hour_21 | Lag_day7_hour_22 | Lag_day7_hour_23 |\n",
       "|---|---|---|---|---|---|---|---|---|---|---|---|---|---|---|---|---|---|---|---|---|\n",
       "| 2016-01-01 |  0         | 26277.24   | NA         | NA         | NA         | NA         | NA         | NA         | NA         | ...        | NA         | NA         | NA         | NA         | NA         | NA         | NA         | NA         | NA         | NA         |\n",
       "| 2016-01-01 |  1         | 24991.82   | NA         | NA         | NA         | NA         | NA         | NA         | NA         | ...        | NA         | NA         | NA         | NA         | NA         | NA         | NA         | NA         | NA         | NA         |\n",
       "| 2016-01-01 |  2         | 23532.61   | NA         | NA         | NA         | NA         | NA         | NA         | NA         | ...        | NA         | NA         | NA         | NA         | NA         | NA         | NA         | NA         | NA         | NA         |\n",
       "| 2016-01-01 |  3         | 22464.78   | NA         | NA         | NA         | NA         | NA         | NA         | NA         | ...        | NA         | NA         | NA         | NA         | NA         | NA         | NA         | NA         | NA         | NA         |\n",
       "| 2016-01-01 |  4         | 22002.91   | NA         | NA         | NA         | NA         | NA         | NA         | NA         | ...        | NA         | NA         | NA         | NA         | NA         | NA         | NA         | NA         | NA         | NA         |\n",
       "| 2016-01-01 |  5         | 21957.08   | NA         | NA         | NA         | NA         | NA         | NA         | NA         | ...        | NA         | NA         | NA         | NA         | NA         | NA         | NA         | NA         | NA         | NA         |\n",
       "| 2016-01-01 |  6         | 22203.54   | NA         | NA         | NA         | NA         | NA         | NA         | NA         | ...        | NA         | NA         | NA         | NA         | NA         | NA         | NA         | NA         | NA         | NA         |\n",
       "| 2016-01-01 |  7         | 21844.16   | NA         | NA         | NA         | NA         | NA         | NA         | NA         | ...        | NA         | NA         | NA         | NA         | NA         | NA         | NA         | NA         | NA         | NA         |\n",
       "| 2016-01-01 |  8         | 23094.73   | NA         | NA         | NA         | NA         | NA         | NA         | NA         | ...        | NA         | NA         | NA         | NA         | NA         | NA         | NA         | NA         | NA         | NA         |\n",
       "| 2016-01-01 |  9         | 25202.27   | NA         | NA         | NA         | NA         | NA         | NA         | NA         | ...        | NA         | NA         | NA         | NA         | NA         | NA         | NA         | NA         | NA         | NA         |\n",
       "| 2016-01-01 | 10         | 27224.96   | NA         | NA         | NA         | NA         | NA         | NA         | NA         | ...        | NA         | NA         | NA         | NA         | NA         | NA         | NA         | NA         | NA         | NA         |\n",
       "| 2016-01-01 | 11         | 28908.04   | NA         | NA         | NA         | NA         | NA         | NA         | NA         | ...        | NA         | NA         | NA         | NA         | NA         | NA         | NA         | NA         | NA         | NA         |\n",
       "| 2016-01-01 | 12         | 28789.25   | NA         | NA         | NA         | NA         | NA         | NA         | NA         | ...        | NA         | NA         | NA         | NA         | NA         | NA         | NA         | NA         | NA         | NA         |\n",
       "| 2016-01-01 | 13         | 29367.70   | NA         | NA         | NA         | NA         | NA         | NA         | NA         | ...        | NA         | NA         | NA         | NA         | NA         | NA         | NA         | NA         | NA         | NA         |\n",
       "| 2016-01-01 | 14         | 29548.32   | NA         | NA         | NA         | NA         | NA         | NA         | NA         | ...        | NA         | NA         | NA         | NA         | NA         | NA         | NA         | NA         | NA         | NA         |\n",
       "| 2016-01-01 | 15         | 29390.89   | NA         | NA         | NA         | NA         | NA         | NA         | NA         | ...        | NA         | NA         | NA         | NA         | NA         | NA         | NA         | NA         | NA         | NA         |\n",
       "| 2016-01-01 | 16         | 30734.97   | NA         | NA         | NA         | NA         | NA         | NA         | NA         | ...        | NA         | NA         | NA         | NA         | NA         | NA         | NA         | NA         | NA         | NA         |\n",
       "| 2016-01-01 | 17         | 32048.02   | NA         | NA         | NA         | NA         | NA         | NA         | NA         | ...        | NA         | NA         | NA         | NA         | NA         | NA         | NA         | NA         | NA         | NA         |\n",
       "| 2016-01-01 | 18         | 31438.11   | NA         | NA         | NA         | NA         | NA         | NA         | NA         | ...        | NA         | NA         | NA         | NA         | NA         | NA         | NA         | NA         | NA         | NA         |\n",
       "| 2016-01-01 | 19         | 30728.47   | NA         | NA         | NA         | NA         | NA         | NA         | NA         | ...        | NA         | NA         | NA         | NA         | NA         | NA         | NA         | NA         | NA         | NA         |\n",
       "| 2016-01-01 | 20         | 30166.14   | NA         | NA         | NA         | NA         | NA         | NA         | NA         | ...        | NA         | NA         | NA         | NA         | NA         | NA         | NA         | NA         | NA         | NA         |\n",
       "| 2016-01-01 | 21         | 29461.28   | NA         | NA         | NA         | NA         | NA         | NA         | NA         | ...        | NA         | NA         | NA         | NA         | NA         | NA         | NA         | NA         | NA         | NA         |\n",
       "| 2016-01-01 | 22         | 29242.83   | NA         | NA         | NA         | NA         | NA         | NA         | NA         | ...        | NA         | NA         | NA         | NA         | NA         | NA         | NA         | NA         | NA         | NA         |\n",
       "| 2016-01-01 | 23         | 28069.09   | NA         | NA         | NA         | NA         | NA         | NA         | NA         | ...        | NA         | NA         | NA         | NA         | NA         | NA         | NA         | NA         | NA         | NA         |\n",
       "| 2016-01-02 |  0         | 26224.60   | NA         | NA         | NA         | NA         | NA         | NA         | NA         | ...        | NA         | NA         | NA         | NA         | NA         | NA         | NA         | NA         | NA         | NA         |\n",
       "| 2016-01-02 |  1         | 24708.58   | NA         | NA         | NA         | NA         | NA         | NA         | NA         | ...        | NA         | NA         | NA         | NA         | NA         | NA         | NA         | NA         | NA         | NA         |\n",
       "| 2016-01-02 |  2         | 23771.58   | NA         | NA         | NA         | NA         | NA         | NA         | NA         | ...        | NA         | NA         | NA         | NA         | NA         | NA         | NA         | NA         | NA         | NA         |\n",
       "| 2016-01-02 |  3         | 22921.29   | NA         | NA         | NA         | NA         | NA         | NA         | NA         | ...        | NA         | NA         | NA         | NA         | NA         | NA         | NA         | NA         | NA         | NA         |\n",
       "| 2016-01-02 |  4         | 22870.89   | NA         | NA         | NA         | NA         | NA         | NA         | NA         | ...        | NA         | NA         | NA         | NA         | NA         | NA         | NA         | NA         | NA         | NA         |\n",
       "| 2016-01-02 |  5         | 23325.63   | NA         | NA         | NA         | NA         | NA         | NA         | NA         | ...        | NA         | NA         | NA         | NA         | NA         | NA         | NA         | NA         | NA         | NA         |\n",
       "| ... | ... | ... | ... | ... | ... | ... | ... | ... | ... |     | ... | ... | ... | ... | ... | ... | ... | ... | ... | ... |\n",
       "| 2020-11-30 | 18         | 42245.38   | 33935.56   | 31919.44   | 30439.27   | 30020.41   | 29825.63   | 29984.86   | 30444.97   | ...        | 37089.41   | 37586.08   | 39435.91   | 41569.99   | 41710.94   | 40297.34   | 38951.67   | 37856.67   | 36983.95   | 35594.03   |\n",
       "| 2020-11-30 | 19         | 40750.73   | 33935.56   | 31919.44   | 30439.27   | 30020.41   | 29825.63   | 29984.86   | 30444.97   | ...        | 37089.41   | 37586.08   | 39435.91   | 41569.99   | 41710.94   | 40297.34   | 38951.67   | 37856.67   | 36983.95   | 35594.03   |\n",
       "| 2020-11-30 | 20         | 39294.57   | 33935.56   | 31919.44   | 30439.27   | 30020.41   | 29825.63   | 29984.86   | 30444.97   | ...        | 37089.41   | 37586.08   | 39435.91   | 41569.99   | 41710.94   | 40297.34   | 38951.67   | 37856.67   | 36983.95   | 35594.03   |\n",
       "| 2020-11-30 | 21         | 38212.74   | 33935.56   | 31919.44   | 30439.27   | 30020.41   | 29825.63   | 29984.86   | 30444.97   | ...        | 37089.41   | 37586.08   | 39435.91   | 41569.99   | 41710.94   | 40297.34   | 38951.67   | 37856.67   | 36983.95   | 35594.03   |\n",
       "| 2020-11-30 | 22         | 37225.65   | 33935.56   | 31919.44   | 30439.27   | 30020.41   | 29825.63   | 29984.86   | 30444.97   | ...        | 37089.41   | 37586.08   | 39435.91   | 41569.99   | 41710.94   | 40297.34   | 38951.67   | 37856.67   | 36983.95   | 35594.03   |\n",
       "| 2020-11-30 | 23         | 35775.04   | 33935.56   | 31919.44   | 30439.27   | 30020.41   | 29825.63   | 29984.86   | 30444.97   | ...        | 37089.41   | 37586.08   | 39435.91   | 41569.99   | 41710.94   | 40297.34   | 38951.67   | 37856.67   | 36983.95   | 35594.03   |\n",
       "| 2020-12-01 |  0         | 33842.13   | 32332.68   | 30410.13   | 29119.33   | 28484.61   | 28150.14   | 28065.44   | 28189.16   | ...        | 37830.17   | 38656.92   | 40396.69   | 42486.34   | 42255.24   | 40895.17   | 39240.65   | 38366.41   | 37446.73   | 36186.83   |\n",
       "| 2020-12-01 |  1         | 32013.00   | 32332.68   | 30410.13   | 29119.33   | 28484.61   | 28150.14   | 28065.44   | 28189.16   | ...        | 37830.17   | 38656.92   | 40396.69   | 42486.34   | 42255.24   | 40895.17   | 39240.65   | 38366.41   | 37446.73   | 36186.83   |\n",
       "| 2020-12-01 |  2         | 30884.17   | 32332.68   | 30410.13   | 29119.33   | 28484.61   | 28150.14   | 28065.44   | 28189.16   | ...        | 37830.17   | 38656.92   | 40396.69   | 42486.34   | 42255.24   | 40895.17   | 39240.65   | 38366.41   | 37446.73   | 36186.83   |\n",
       "| 2020-12-01 |  3         | 30082.68   | 32332.68   | 30410.13   | 29119.33   | 28484.61   | 28150.14   | 28065.44   | 28189.16   | ...        | 37830.17   | 38656.92   | 40396.69   | 42486.34   | 42255.24   | 40895.17   | 39240.65   | 38366.41   | 37446.73   | 36186.83   |\n",
       "| 2020-12-01 |  4         | 29844.18   | 32332.68   | 30410.13   | 29119.33   | 28484.61   | 28150.14   | 28065.44   | 28189.16   | ...        | 37830.17   | 38656.92   | 40396.69   | 42486.34   | 42255.24   | 40895.17   | 39240.65   | 38366.41   | 37446.73   | 36186.83   |\n",
       "| 2020-12-01 |  5         | 30100.53   | 32332.68   | 30410.13   | 29119.33   | 28484.61   | 28150.14   | 28065.44   | 28189.16   | ...        | 37830.17   | 38656.92   | 40396.69   | 42486.34   | 42255.24   | 40895.17   | 39240.65   | 38366.41   | 37446.73   | 36186.83   |\n",
       "| 2020-12-01 |  6         | 30743.44   | 32332.68   | 30410.13   | 29119.33   | 28484.61   | 28150.14   | 28065.44   | 28189.16   | ...        | 37830.17   | 38656.92   | 40396.69   | 42486.34   | 42255.24   | 40895.17   | 39240.65   | 38366.41   | 37446.73   | 36186.83   |\n",
       "| 2020-12-01 |  7         | 32279.80   | 32332.68   | 30410.13   | 29119.33   | 28484.61   | 28150.14   | 28065.44   | 28189.16   | ...        | 37830.17   | 38656.92   | 40396.69   | 42486.34   | 42255.24   | 40895.17   | 39240.65   | 38366.41   | 37446.73   | 36186.83   |\n",
       "| 2020-12-01 |  8         | 36657.05   | 32332.68   | 30410.13   | 29119.33   | 28484.61   | 28150.14   | 28065.44   | 28189.16   | ...        | 37830.17   | 38656.92   | 40396.69   | 42486.34   | 42255.24   | 40895.17   | 39240.65   | 38366.41   | 37446.73   | 36186.83   |\n",
       "| 2020-12-01 |  9         | 39815.64   | 32332.68   | 30410.13   | 29119.33   | 28484.61   | 28150.14   | 28065.44   | 28189.16   | ...        | 37830.17   | 38656.92   | 40396.69   | 42486.34   | 42255.24   | 40895.17   | 39240.65   | 38366.41   | 37446.73   | 36186.83   |\n",
       "| 2020-12-01 | 10         | 40846.18   | 32332.68   | 30410.13   | 29119.33   | 28484.61   | 28150.14   | 28065.44   | 28189.16   | ...        | 37830.17   | 38656.92   | 40396.69   | 42486.34   | 42255.24   | 40895.17   | 39240.65   | 38366.41   | 37446.73   | 36186.83   |\n",
       "| 2020-12-01 | 11         | 41320.19   | 32332.68   | 30410.13   | 29119.33   | 28484.61   | 28150.14   | 28065.44   | 28189.16   | ...        | 37830.17   | 38656.92   | 40396.69   | 42486.34   | 42255.24   | 40895.17   | 39240.65   | 38366.41   | 37446.73   | 36186.83   |\n",
       "| 2020-12-01 | 12         | 40054.73   | 32332.68   | 30410.13   | 29119.33   | 28484.61   | 28150.14   | 28065.44   | 28189.16   | ...        | 37830.17   | 38656.92   | 40396.69   | 42486.34   | 42255.24   | 40895.17   | 39240.65   | 38366.41   | 37446.73   | 36186.83   |\n",
       "| 2020-12-01 | 13         | 40874.30   | 32332.68   | 30410.13   | 29119.33   | 28484.61   | 28150.14   | 28065.44   | 28189.16   | ...        | 37830.17   | 38656.92   | 40396.69   | 42486.34   | 42255.24   | 40895.17   | 39240.65   | 38366.41   | 37446.73   | 36186.83   |\n",
       "| 2020-12-01 | 14         | 41812.33   | 32332.68   | 30410.13   | 29119.33   | 28484.61   | 28150.14   | 28065.44   | 28189.16   | ...        | 37830.17   | 38656.92   | 40396.69   | 42486.34   | 42255.24   | 40895.17   | 39240.65   | 38366.41   | 37446.73   | 36186.83   |\n",
       "| 2020-12-01 | 15         | 41722.82   | 32332.68   | 30410.13   | 29119.33   | 28484.61   | 28150.14   | 28065.44   | 28189.16   | ...        | 37830.17   | 38656.92   | 40396.69   | 42486.34   | 42255.24   | 40895.17   | 39240.65   | 38366.41   | 37446.73   | 36186.83   |\n",
       "| 2020-12-01 | 16         | 42341.25   | 32332.68   | 30410.13   | 29119.33   | 28484.61   | 28150.14   | 28065.44   | 28189.16   | ...        | 37830.17   | 38656.92   | 40396.69   | 42486.34   | 42255.24   | 40895.17   | 39240.65   | 38366.41   | 37446.73   | 36186.83   |\n",
       "| 2020-12-01 | 17         | 43320.35   | 32332.68   | 30410.13   | 29119.33   | 28484.61   | 28150.14   | 28065.44   | 28189.16   | ...        | 37830.17   | 38656.92   | 40396.69   | 42486.34   | 42255.24   | 40895.17   | 39240.65   | 38366.41   | 37446.73   | 36186.83   |\n",
       "| 2020-12-01 | 18         | 42292.06   | 32332.68   | 30410.13   | 29119.33   | 28484.61   | 28150.14   | 28065.44   | 28189.16   | ...        | 37830.17   | 38656.92   | 40396.69   | 42486.34   | 42255.24   | 40895.17   | 39240.65   | 38366.41   | 37446.73   | 36186.83   |\n",
       "| 2020-12-01 | 19         | 40720.16   | 32332.68   | 30410.13   | 29119.33   | 28484.61   | 28150.14   | 28065.44   | 28189.16   | ...        | 37830.17   | 38656.92   | 40396.69   | 42486.34   | 42255.24   | 40895.17   | 39240.65   | 38366.41   | 37446.73   | 36186.83   |\n",
       "| 2020-12-01 | 20         | 39195.74   | 32332.68   | 30410.13   | 29119.33   | 28484.61   | 28150.14   | 28065.44   | 28189.16   | ...        | 37830.17   | 38656.92   | 40396.69   | 42486.34   | 42255.24   | 40895.17   | 39240.65   | 38366.41   | 37446.73   | 36186.83   |\n",
       "| 2020-12-01 | 21         | 38310.79   | 32332.68   | 30410.13   | 29119.33   | 28484.61   | 28150.14   | 28065.44   | 28189.16   | ...        | 37830.17   | 38656.92   | 40396.69   | 42486.34   | 42255.24   | 40895.17   | 39240.65   | 38366.41   | 37446.73   | 36186.83   |\n",
       "| 2020-12-01 | 22         | 37173.97   | 32332.68   | 30410.13   | 29119.33   | 28484.61   | 28150.14   | 28065.44   | 28189.16   | ...        | 37830.17   | 38656.92   | 40396.69   | 42486.34   | 42255.24   | 40895.17   | 39240.65   | 38366.41   | 37446.73   | 36186.83   |\n",
       "| 2020-12-01 | 23         | 35725.46   | 32332.68   | 30410.13   | 29119.33   | 28484.61   | 28150.14   | 28065.44   | 28189.16   | ...        | 37830.17   | 38656.92   | 40396.69   | 42486.34   | 42255.24   | 40895.17   | 39240.65   | 38366.41   | 37446.73   | 36186.83   |\n",
       "\n"
      ],
      "text/plain": [
       "      date       hour consumption Lag_day2_hour_0 Lag_day2_hour_1\n",
       "1     2016-01-01  0   26277.24    NA              NA             \n",
       "2     2016-01-01  1   24991.82    NA              NA             \n",
       "3     2016-01-01  2   23532.61    NA              NA             \n",
       "4     2016-01-01  3   22464.78    NA              NA             \n",
       "5     2016-01-01  4   22002.91    NA              NA             \n",
       "6     2016-01-01  5   21957.08    NA              NA             \n",
       "7     2016-01-01  6   22203.54    NA              NA             \n",
       "8     2016-01-01  7   21844.16    NA              NA             \n",
       "9     2016-01-01  8   23094.73    NA              NA             \n",
       "10    2016-01-01  9   25202.27    NA              NA             \n",
       "11    2016-01-01 10   27224.96    NA              NA             \n",
       "12    2016-01-01 11   28908.04    NA              NA             \n",
       "13    2016-01-01 12   28789.25    NA              NA             \n",
       "14    2016-01-01 13   29367.70    NA              NA             \n",
       "15    2016-01-01 14   29548.32    NA              NA             \n",
       "16    2016-01-01 15   29390.89    NA              NA             \n",
       "17    2016-01-01 16   30734.97    NA              NA             \n",
       "18    2016-01-01 17   32048.02    NA              NA             \n",
       "19    2016-01-01 18   31438.11    NA              NA             \n",
       "20    2016-01-01 19   30728.47    NA              NA             \n",
       "21    2016-01-01 20   30166.14    NA              NA             \n",
       "22    2016-01-01 21   29461.28    NA              NA             \n",
       "23    2016-01-01 22   29242.83    NA              NA             \n",
       "24    2016-01-01 23   28069.09    NA              NA             \n",
       "25    2016-01-02  0   26224.60    NA              NA             \n",
       "26    2016-01-02  1   24708.58    NA              NA             \n",
       "27    2016-01-02  2   23771.58    NA              NA             \n",
       "28    2016-01-02  3   22921.29    NA              NA             \n",
       "29    2016-01-02  4   22870.89    NA              NA             \n",
       "30    2016-01-02  5   23325.63    NA              NA             \n",
       "...   ...        ...  ...         ...             ...            \n",
       "43099 2020-11-30 18   42245.38    33935.56        31919.44       \n",
       "43100 2020-11-30 19   40750.73    33935.56        31919.44       \n",
       "43101 2020-11-30 20   39294.57    33935.56        31919.44       \n",
       "43102 2020-11-30 21   38212.74    33935.56        31919.44       \n",
       "43103 2020-11-30 22   37225.65    33935.56        31919.44       \n",
       "43104 2020-11-30 23   35775.04    33935.56        31919.44       \n",
       "43105 2020-12-01  0   33842.13    32332.68        30410.13       \n",
       "43106 2020-12-01  1   32013.00    32332.68        30410.13       \n",
       "43107 2020-12-01  2   30884.17    32332.68        30410.13       \n",
       "43108 2020-12-01  3   30082.68    32332.68        30410.13       \n",
       "43109 2020-12-01  4   29844.18    32332.68        30410.13       \n",
       "43110 2020-12-01  5   30100.53    32332.68        30410.13       \n",
       "43111 2020-12-01  6   30743.44    32332.68        30410.13       \n",
       "43112 2020-12-01  7   32279.80    32332.68        30410.13       \n",
       "43113 2020-12-01  8   36657.05    32332.68        30410.13       \n",
       "43114 2020-12-01  9   39815.64    32332.68        30410.13       \n",
       "43115 2020-12-01 10   40846.18    32332.68        30410.13       \n",
       "43116 2020-12-01 11   41320.19    32332.68        30410.13       \n",
       "43117 2020-12-01 12   40054.73    32332.68        30410.13       \n",
       "43118 2020-12-01 13   40874.30    32332.68        30410.13       \n",
       "43119 2020-12-01 14   41812.33    32332.68        30410.13       \n",
       "43120 2020-12-01 15   41722.82    32332.68        30410.13       \n",
       "43121 2020-12-01 16   42341.25    32332.68        30410.13       \n",
       "43122 2020-12-01 17   43320.35    32332.68        30410.13       \n",
       "43123 2020-12-01 18   42292.06    32332.68        30410.13       \n",
       "43124 2020-12-01 19   40720.16    32332.68        30410.13       \n",
       "43125 2020-12-01 20   39195.74    32332.68        30410.13       \n",
       "43126 2020-12-01 21   38310.79    32332.68        30410.13       \n",
       "43127 2020-12-01 22   37173.97    32332.68        30410.13       \n",
       "43128 2020-12-01 23   35725.46    32332.68        30410.13       \n",
       "      Lag_day2_hour_2 Lag_day2_hour_3 Lag_day2_hour_4 Lag_day2_hour_5\n",
       "1     NA              NA              NA              NA             \n",
       "2     NA              NA              NA              NA             \n",
       "3     NA              NA              NA              NA             \n",
       "4     NA              NA              NA              NA             \n",
       "5     NA              NA              NA              NA             \n",
       "6     NA              NA              NA              NA             \n",
       "7     NA              NA              NA              NA             \n",
       "8     NA              NA              NA              NA             \n",
       "9     NA              NA              NA              NA             \n",
       "10    NA              NA              NA              NA             \n",
       "11    NA              NA              NA              NA             \n",
       "12    NA              NA              NA              NA             \n",
       "13    NA              NA              NA              NA             \n",
       "14    NA              NA              NA              NA             \n",
       "15    NA              NA              NA              NA             \n",
       "16    NA              NA              NA              NA             \n",
       "17    NA              NA              NA              NA             \n",
       "18    NA              NA              NA              NA             \n",
       "19    NA              NA              NA              NA             \n",
       "20    NA              NA              NA              NA             \n",
       "21    NA              NA              NA              NA             \n",
       "22    NA              NA              NA              NA             \n",
       "23    NA              NA              NA              NA             \n",
       "24    NA              NA              NA              NA             \n",
       "25    NA              NA              NA              NA             \n",
       "26    NA              NA              NA              NA             \n",
       "27    NA              NA              NA              NA             \n",
       "28    NA              NA              NA              NA             \n",
       "29    NA              NA              NA              NA             \n",
       "30    NA              NA              NA              NA             \n",
       "...   ...             ...             ...             ...            \n",
       "43099 30439.27        30020.41        29825.63        29984.86       \n",
       "43100 30439.27        30020.41        29825.63        29984.86       \n",
       "43101 30439.27        30020.41        29825.63        29984.86       \n",
       "43102 30439.27        30020.41        29825.63        29984.86       \n",
       "43103 30439.27        30020.41        29825.63        29984.86       \n",
       "43104 30439.27        30020.41        29825.63        29984.86       \n",
       "43105 29119.33        28484.61        28150.14        28065.44       \n",
       "43106 29119.33        28484.61        28150.14        28065.44       \n",
       "43107 29119.33        28484.61        28150.14        28065.44       \n",
       "43108 29119.33        28484.61        28150.14        28065.44       \n",
       "43109 29119.33        28484.61        28150.14        28065.44       \n",
       "43110 29119.33        28484.61        28150.14        28065.44       \n",
       "43111 29119.33        28484.61        28150.14        28065.44       \n",
       "43112 29119.33        28484.61        28150.14        28065.44       \n",
       "43113 29119.33        28484.61        28150.14        28065.44       \n",
       "43114 29119.33        28484.61        28150.14        28065.44       \n",
       "43115 29119.33        28484.61        28150.14        28065.44       \n",
       "43116 29119.33        28484.61        28150.14        28065.44       \n",
       "43117 29119.33        28484.61        28150.14        28065.44       \n",
       "43118 29119.33        28484.61        28150.14        28065.44       \n",
       "43119 29119.33        28484.61        28150.14        28065.44       \n",
       "43120 29119.33        28484.61        28150.14        28065.44       \n",
       "43121 29119.33        28484.61        28150.14        28065.44       \n",
       "43122 29119.33        28484.61        28150.14        28065.44       \n",
       "43123 29119.33        28484.61        28150.14        28065.44       \n",
       "43124 29119.33        28484.61        28150.14        28065.44       \n",
       "43125 29119.33        28484.61        28150.14        28065.44       \n",
       "43126 29119.33        28484.61        28150.14        28065.44       \n",
       "43127 29119.33        28484.61        28150.14        28065.44       \n",
       "43128 29119.33        28484.61        28150.14        28065.44       \n",
       "      Lag_day2_hour_6 ... Lag_day7_hour_14 Lag_day7_hour_15 Lag_day7_hour_16\n",
       "1     NA              ... NA               NA               NA              \n",
       "2     NA              ... NA               NA               NA              \n",
       "3     NA              ... NA               NA               NA              \n",
       "4     NA              ... NA               NA               NA              \n",
       "5     NA              ... NA               NA               NA              \n",
       "6     NA              ... NA               NA               NA              \n",
       "7     NA              ... NA               NA               NA              \n",
       "8     NA              ... NA               NA               NA              \n",
       "9     NA              ... NA               NA               NA              \n",
       "10    NA              ... NA               NA               NA              \n",
       "11    NA              ... NA               NA               NA              \n",
       "12    NA              ... NA               NA               NA              \n",
       "13    NA              ... NA               NA               NA              \n",
       "14    NA              ... NA               NA               NA              \n",
       "15    NA              ... NA               NA               NA              \n",
       "16    NA              ... NA               NA               NA              \n",
       "17    NA              ... NA               NA               NA              \n",
       "18    NA              ... NA               NA               NA              \n",
       "19    NA              ... NA               NA               NA              \n",
       "20    NA              ... NA               NA               NA              \n",
       "21    NA              ... NA               NA               NA              \n",
       "22    NA              ... NA               NA               NA              \n",
       "23    NA              ... NA               NA               NA              \n",
       "24    NA              ... NA               NA               NA              \n",
       "25    NA              ... NA               NA               NA              \n",
       "26    NA              ... NA               NA               NA              \n",
       "27    NA              ... NA               NA               NA              \n",
       "28    NA              ... NA               NA               NA              \n",
       "29    NA              ... NA               NA               NA              \n",
       "30    NA              ... NA               NA               NA              \n",
       "...   ...                 ...              ...              ...             \n",
       "43099 30444.97        ... 37089.41         37586.08         39435.91        \n",
       "43100 30444.97        ... 37089.41         37586.08         39435.91        \n",
       "43101 30444.97        ... 37089.41         37586.08         39435.91        \n",
       "43102 30444.97        ... 37089.41         37586.08         39435.91        \n",
       "43103 30444.97        ... 37089.41         37586.08         39435.91        \n",
       "43104 30444.97        ... 37089.41         37586.08         39435.91        \n",
       "43105 28189.16        ... 37830.17         38656.92         40396.69        \n",
       "43106 28189.16        ... 37830.17         38656.92         40396.69        \n",
       "43107 28189.16        ... 37830.17         38656.92         40396.69        \n",
       "43108 28189.16        ... 37830.17         38656.92         40396.69        \n",
       "43109 28189.16        ... 37830.17         38656.92         40396.69        \n",
       "43110 28189.16        ... 37830.17         38656.92         40396.69        \n",
       "43111 28189.16        ... 37830.17         38656.92         40396.69        \n",
       "43112 28189.16        ... 37830.17         38656.92         40396.69        \n",
       "43113 28189.16        ... 37830.17         38656.92         40396.69        \n",
       "43114 28189.16        ... 37830.17         38656.92         40396.69        \n",
       "43115 28189.16        ... 37830.17         38656.92         40396.69        \n",
       "43116 28189.16        ... 37830.17         38656.92         40396.69        \n",
       "43117 28189.16        ... 37830.17         38656.92         40396.69        \n",
       "43118 28189.16        ... 37830.17         38656.92         40396.69        \n",
       "43119 28189.16        ... 37830.17         38656.92         40396.69        \n",
       "43120 28189.16        ... 37830.17         38656.92         40396.69        \n",
       "43121 28189.16        ... 37830.17         38656.92         40396.69        \n",
       "43122 28189.16        ... 37830.17         38656.92         40396.69        \n",
       "43123 28189.16        ... 37830.17         38656.92         40396.69        \n",
       "43124 28189.16        ... 37830.17         38656.92         40396.69        \n",
       "43125 28189.16        ... 37830.17         38656.92         40396.69        \n",
       "43126 28189.16        ... 37830.17         38656.92         40396.69        \n",
       "43127 28189.16        ... 37830.17         38656.92         40396.69        \n",
       "43128 28189.16        ... 37830.17         38656.92         40396.69        \n",
       "      Lag_day7_hour_17 Lag_day7_hour_18 Lag_day7_hour_19 Lag_day7_hour_20\n",
       "1     NA               NA               NA               NA              \n",
       "2     NA               NA               NA               NA              \n",
       "3     NA               NA               NA               NA              \n",
       "4     NA               NA               NA               NA              \n",
       "5     NA               NA               NA               NA              \n",
       "6     NA               NA               NA               NA              \n",
       "7     NA               NA               NA               NA              \n",
       "8     NA               NA               NA               NA              \n",
       "9     NA               NA               NA               NA              \n",
       "10    NA               NA               NA               NA              \n",
       "11    NA               NA               NA               NA              \n",
       "12    NA               NA               NA               NA              \n",
       "13    NA               NA               NA               NA              \n",
       "14    NA               NA               NA               NA              \n",
       "15    NA               NA               NA               NA              \n",
       "16    NA               NA               NA               NA              \n",
       "17    NA               NA               NA               NA              \n",
       "18    NA               NA               NA               NA              \n",
       "19    NA               NA               NA               NA              \n",
       "20    NA               NA               NA               NA              \n",
       "21    NA               NA               NA               NA              \n",
       "22    NA               NA               NA               NA              \n",
       "23    NA               NA               NA               NA              \n",
       "24    NA               NA               NA               NA              \n",
       "25    NA               NA               NA               NA              \n",
       "26    NA               NA               NA               NA              \n",
       "27    NA               NA               NA               NA              \n",
       "28    NA               NA               NA               NA              \n",
       "29    NA               NA               NA               NA              \n",
       "30    NA               NA               NA               NA              \n",
       "...   ...              ...              ...              ...             \n",
       "43099 41569.99         41710.94         40297.34         38951.67        \n",
       "43100 41569.99         41710.94         40297.34         38951.67        \n",
       "43101 41569.99         41710.94         40297.34         38951.67        \n",
       "43102 41569.99         41710.94         40297.34         38951.67        \n",
       "43103 41569.99         41710.94         40297.34         38951.67        \n",
       "43104 41569.99         41710.94         40297.34         38951.67        \n",
       "43105 42486.34         42255.24         40895.17         39240.65        \n",
       "43106 42486.34         42255.24         40895.17         39240.65        \n",
       "43107 42486.34         42255.24         40895.17         39240.65        \n",
       "43108 42486.34         42255.24         40895.17         39240.65        \n",
       "43109 42486.34         42255.24         40895.17         39240.65        \n",
       "43110 42486.34         42255.24         40895.17         39240.65        \n",
       "43111 42486.34         42255.24         40895.17         39240.65        \n",
       "43112 42486.34         42255.24         40895.17         39240.65        \n",
       "43113 42486.34         42255.24         40895.17         39240.65        \n",
       "43114 42486.34         42255.24         40895.17         39240.65        \n",
       "43115 42486.34         42255.24         40895.17         39240.65        \n",
       "43116 42486.34         42255.24         40895.17         39240.65        \n",
       "43117 42486.34         42255.24         40895.17         39240.65        \n",
       "43118 42486.34         42255.24         40895.17         39240.65        \n",
       "43119 42486.34         42255.24         40895.17         39240.65        \n",
       "43120 42486.34         42255.24         40895.17         39240.65        \n",
       "43121 42486.34         42255.24         40895.17         39240.65        \n",
       "43122 42486.34         42255.24         40895.17         39240.65        \n",
       "43123 42486.34         42255.24         40895.17         39240.65        \n",
       "43124 42486.34         42255.24         40895.17         39240.65        \n",
       "43125 42486.34         42255.24         40895.17         39240.65        \n",
       "43126 42486.34         42255.24         40895.17         39240.65        \n",
       "43127 42486.34         42255.24         40895.17         39240.65        \n",
       "43128 42486.34         42255.24         40895.17         39240.65        \n",
       "      Lag_day7_hour_21 Lag_day7_hour_22 Lag_day7_hour_23\n",
       "1     NA               NA               NA              \n",
       "2     NA               NA               NA              \n",
       "3     NA               NA               NA              \n",
       "4     NA               NA               NA              \n",
       "5     NA               NA               NA              \n",
       "6     NA               NA               NA              \n",
       "7     NA               NA               NA              \n",
       "8     NA               NA               NA              \n",
       "9     NA               NA               NA              \n",
       "10    NA               NA               NA              \n",
       "11    NA               NA               NA              \n",
       "12    NA               NA               NA              \n",
       "13    NA               NA               NA              \n",
       "14    NA               NA               NA              \n",
       "15    NA               NA               NA              \n",
       "16    NA               NA               NA              \n",
       "17    NA               NA               NA              \n",
       "18    NA               NA               NA              \n",
       "19    NA               NA               NA              \n",
       "20    NA               NA               NA              \n",
       "21    NA               NA               NA              \n",
       "22    NA               NA               NA              \n",
       "23    NA               NA               NA              \n",
       "24    NA               NA               NA              \n",
       "25    NA               NA               NA              \n",
       "26    NA               NA               NA              \n",
       "27    NA               NA               NA              \n",
       "28    NA               NA               NA              \n",
       "29    NA               NA               NA              \n",
       "30    NA               NA               NA              \n",
       "...   ...              ...              ...             \n",
       "43099 37856.67         36983.95         35594.03        \n",
       "43100 37856.67         36983.95         35594.03        \n",
       "43101 37856.67         36983.95         35594.03        \n",
       "43102 37856.67         36983.95         35594.03        \n",
       "43103 37856.67         36983.95         35594.03        \n",
       "43104 37856.67         36983.95         35594.03        \n",
       "43105 38366.41         37446.73         36186.83        \n",
       "43106 38366.41         37446.73         36186.83        \n",
       "43107 38366.41         37446.73         36186.83        \n",
       "43108 38366.41         37446.73         36186.83        \n",
       "43109 38366.41         37446.73         36186.83        \n",
       "43110 38366.41         37446.73         36186.83        \n",
       "43111 38366.41         37446.73         36186.83        \n",
       "43112 38366.41         37446.73         36186.83        \n",
       "43113 38366.41         37446.73         36186.83        \n",
       "43114 38366.41         37446.73         36186.83        \n",
       "43115 38366.41         37446.73         36186.83        \n",
       "43116 38366.41         37446.73         36186.83        \n",
       "43117 38366.41         37446.73         36186.83        \n",
       "43118 38366.41         37446.73         36186.83        \n",
       "43119 38366.41         37446.73         36186.83        \n",
       "43120 38366.41         37446.73         36186.83        \n",
       "43121 38366.41         37446.73         36186.83        \n",
       "43122 38366.41         37446.73         36186.83        \n",
       "43123 38366.41         37446.73         36186.83        \n",
       "43124 38366.41         37446.73         36186.83        \n",
       "43125 38366.41         37446.73         36186.83        \n",
       "43126 38366.41         37446.73         36186.83        \n",
       "43127 38366.41         37446.73         36186.83        \n",
       "43128 38366.41         37446.73         36186.83        "
      ]
     },
     "metadata": {},
     "output_type": "display_data"
    }
   ],
   "source": [
    "full_dt %>% relocate(consumption, .after = last_col())\n",
    "full_dt"
   ]
  },
  {
   "cell_type": "code",
   "execution_count": null,
   "metadata": {},
   "outputs": [],
   "source": []
  }
 ],
 "metadata": {
  "kernelspec": {
   "display_name": "R",
   "language": "R",
   "name": "ir"
  },
  "language_info": {
   "codemirror_mode": "r",
   "file_extension": ".r",
   "mimetype": "text/x-r-source",
   "name": "R",
   "pygments_lexer": "r",
   "version": "3.6.1"
  }
 },
 "nbformat": 4,
 "nbformat_minor": 4
}
