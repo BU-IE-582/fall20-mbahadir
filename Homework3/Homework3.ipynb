{
 "cells": [
  {
   "cell_type": "code",
   "execution_count": 1,
   "metadata": {},
   "outputs": [],
   "source": [
    "getwd()"
   ]
  },
  {
   "cell_type": "code",
   "execution_count": 106,
   "metadata": {},
   "outputs": [],
   "source": [
    "library(data.table)\n",
    "library(lubridate, quietly=TRUE)\n",
    "library(zoo, quietly = TRUE)\n",
    "library(dplyr, quietly = TRUE)\n",
    "library(glmnet)\n",
    "library(MLmetrics)\n",
    "library(\"mvtnorm\") \n",
    "library(tidyr)\n",
    "library(ggplot2)"
   ]
  },
  {
   "cell_type": "code",
   "execution_count": 3,
   "metadata": {},
   "outputs": [],
   "source": [
    "dt=fread(\"GercekZamanliTuketim-01012016-01122020.csv\")\n",
    "dt$Tarih=dmy(dt$Tarih)"
   ]
  },
  {
   "cell_type": "code",
   "execution_count": 4,
   "metadata": {
    "scrolled": false
   },
   "outputs": [],
   "source": [
    "setnames(dt, \"Tüketim Miktarı (MWh)\", \"consumption\")\n",
    "setnames(dt, \"Tarih\", \"date\")\n",
    "setnames(dt, \"Saat\", \"hour\")\n",
    "dt$consumption=gsub('\\\\.', '', dt$consumption)\n",
    "dt$consumption=gsub('\\\\,', '.', dt$consumption)\n",
    "dt$hour=gsub(':00', '', dt$hour)"
   ]
  },
  {
   "cell_type": "code",
   "execution_count": 5,
   "metadata": {},
   "outputs": [
    {
     "name": "stdout",
     "output_type": "stream",
     "text": [
      "Classes 'data.table' and 'data.frame':\t43128 obs. of  3 variables:\n",
      " $ date       : Date, format: \"2016-01-01\" \"2016-01-01\" ...\n",
      " $ hour       : num  0 1 2 3 4 5 6 7 8 9 ...\n",
      " $ consumption: num  26277 24992 23533 22465 22003 ...\n",
      " - attr(*, \".internal.selfref\")=<externalptr> \n"
     ]
    }
   ],
   "source": [
    "dt$consumption=as.numeric(dt$consumption)\n",
    "dt$hour=as.numeric(dt$hour)\n",
    "str(dt)"
   ]
  },
  {
   "cell_type": "code",
   "execution_count": 6,
   "metadata": {},
   "outputs": [],
   "source": [
    "dt<-dt[-2068]"
   ]
  },
  {
   "cell_type": "code",
   "execution_count": 7,
   "metadata": {},
   "outputs": [
    {
     "name": "stdout",
     "output_type": "stream",
     "text": [
      "Classes 'data.table' and 'data.frame':\t43127 obs. of  3 variables:\n",
      " $ date       : Date, format: \"2016-01-01\" \"2016-01-01\" ...\n",
      " $ hour       : num  0 1 2 3 4 5 6 7 8 9 ...\n",
      " $ consumption: num  26277 24992 23533 22465 22003 ...\n",
      " - attr(*, \".internal.selfref\")=<externalptr> \n"
     ]
    }
   ],
   "source": [
    "str(dt)"
   ]
  },
  {
   "cell_type": "code",
   "execution_count": 8,
   "metadata": {},
   "outputs": [],
   "source": [
    "dt_lagged1=copy(dt)\n",
    "dt_lagged1[, Lag_48:=shift(consumption,type=\"lag\",n=48)]\n",
    "dt_lagged1[, Lag_168:=shift(consumption,type=\"lag\",n=168)]"
   ]
  },
  {
   "cell_type": "code",
   "execution_count": 9,
   "metadata": {},
   "outputs": [],
   "source": [
    "train=filter(dt_lagged1,date<=\"2020-10-31\")\n",
    "#train"
   ]
  },
  {
   "cell_type": "code",
   "execution_count": 10,
   "metadata": {},
   "outputs": [],
   "source": [
    "test=filter(dt_lagged1,date>\"2020-10-31\")\n",
    "#test"
   ]
  },
  {
   "cell_type": "code",
   "execution_count": 11,
   "metadata": {},
   "outputs": [
    {
     "name": "stdout",
     "output_type": "stream",
     "text": [
      "[1] \"MAPE value for lag48 equals to: 0.0818808509914842\"\n",
      "[1] \"MAPE value for lag168 equals to: 0.0365111250910964\"\n"
     ]
    }
   ],
   "source": [
    "MAPE_48=MAPE(test$consumption,test$Lag_48)\n",
    "MAPE_48_values=abs(((test$consumption-test$Lag_48)/test$Lag_48))\n",
    "print(paste(\"MAPE value for lag48 equals to:\", MAPE_48))\n",
    "MAPE_168=MAPE(test$consumption,test$Lag_168)\n",
    "MAPE_168_values=abs(((test$consumption-test$Lag_168)/test$Lag_168))\n",
    "print(paste(\"MAPE value for lag168 equals to:\", MAPE_168))"
   ]
  },
  {
   "cell_type": "markdown",
   "metadata": {},
   "source": [
    "### Summary Statistics for Lag 48 Model"
   ]
  },
  {
   "cell_type": "code",
   "execution_count": 12,
   "metadata": {},
   "outputs": [
    {
     "data": {
      "text/plain": [
       "     Min.   1st Qu.    Median      Mean   3rd Qu.      Max. \n",
       "0.0000955 0.0166310 0.0572291 0.0818809 0.1040364 0.4467156 "
      ]
     },
     "metadata": {},
     "output_type": "display_data"
    }
   ],
   "source": [
    "summary(MAPE_48_values)"
   ]
  },
  {
   "cell_type": "markdown",
   "metadata": {},
   "source": [
    "### Summary Statistics for Lag 168 Model"
   ]
  },
  {
   "cell_type": "code",
   "execution_count": 13,
   "metadata": {},
   "outputs": [
    {
     "data": {
      "text/plain": [
       "     Min.   1st Qu.    Median      Mean   3rd Qu.      Max. \n",
       "8.522e-05 1.354e-02 2.573e-02 3.651e-02 4.766e-02 2.432e-01 "
      ]
     },
     "metadata": {},
     "output_type": "display_data"
    }
   ],
   "source": [
    "summary(MAPE_168_values)"
   ]
  },
  {
   "cell_type": "markdown",
   "metadata": {},
   "source": [
    "# PART B"
   ]
  },
  {
   "cell_type": "code",
   "execution_count": 14,
   "metadata": {},
   "outputs": [
    {
     "name": "stdout",
     "output_type": "stream",
     "text": [
      "Classes 'data.table' and 'data.frame':\t42383 obs. of  5 variables:\n",
      " $ date       : Date, format: \"2016-01-01\" \"2016-01-01\" ...\n",
      " $ hour       : num  0 1 2 3 4 5 6 7 8 9 ...\n",
      " $ consumption: num  26277 24992 23533 22465 22003 ...\n",
      " $ Lag_48     : num  NA NA NA NA NA NA NA NA NA NA ...\n",
      " $ Lag_168    : num  NA NA NA NA NA NA NA NA NA NA ...\n",
      " - attr(*, \".internal.selfref\")=<externalptr> \n"
     ]
    }
   ],
   "source": [
    "str(train)"
   ]
  },
  {
   "cell_type": "code",
   "execution_count": 15,
   "metadata": {},
   "outputs": [
    {
     "data": {
      "text/plain": [
       "\n",
       "Call:\n",
       "lm(formula = consumption ~ Lag_48 + Lag_168, data = train)\n",
       "\n",
       "Residuals:\n",
       "     Min       1Q   Median       3Q      Max \n",
       "-25242.5   -985.7     -1.2   1017.1  16101.2 \n",
       "\n",
       "Coefficients:\n",
       "             Estimate Std. Error t value Pr(>|t|)    \n",
       "(Intercept) 1.574e+03  8.355e+01   18.84   <2e-16 ***\n",
       "Lag_48      3.086e-01  3.097e-03   99.64   <2e-16 ***\n",
       "Lag_168     6.434e-01  3.094e-03  207.94   <2e-16 ***\n",
       "---\n",
       "Signif. codes:  0 '***' 0.001 '**' 0.01 '*' 0.05 '.' 0.1 ' ' 1\n",
       "\n",
       "Residual standard error: 2392 on 42212 degrees of freedom\n",
       "  (168 observations deleted due to missingness)\n",
       "Multiple R-squared:  0.7752,\tAdjusted R-squared:  0.7752 \n",
       "F-statistic: 7.278e+04 on 2 and 42212 DF,  p-value: < 2.2e-16\n"
      ]
     },
     "metadata": {},
     "output_type": "display_data"
    }
   ],
   "source": [
    "Reg=lm(data=train, consumption~Lag_48+Lag_168)\n",
    "summary(Reg)"
   ]
  },
  {
   "cell_type": "code",
   "execution_count": 16,
   "metadata": {},
   "outputs": [
    {
     "name": "stdout",
     "output_type": "stream",
     "text": [
      "[1] \"MAPE value for autoregression model equals to: 0.0423023288459373\"\n"
     ]
    }
   ],
   "source": [
    "predictions=predict(Reg,newdata = test)\n",
    "MAPE_reg=MAPE(predictions,test$consumption)\n",
    "MAPE_reg_values=as.vector(abs(((test$consumption-predictions)/test$consumption)))\n",
    "print(paste(\"MAPE value for autoregression model equals to:\", MAPE_reg))"
   ]
  },
  {
   "cell_type": "markdown",
   "metadata": {},
   "source": [
    "### Summary Statistics for Time Series Regression Model"
   ]
  },
  {
   "cell_type": "code",
   "execution_count": 17,
   "metadata": {},
   "outputs": [
    {
     "data": {
      "text/plain": [
       "     Min.   1st Qu.    Median      Mean   3rd Qu.      Max. \n",
       "3.669e-05 1.827e-02 3.309e-02 4.230e-02 5.706e-02 1.661e-01 "
      ]
     },
     "metadata": {},
     "output_type": "display_data"
    }
   ],
   "source": [
    "summary(MAPE_reg_values)"
   ]
  },
  {
   "cell_type": "markdown",
   "metadata": {},
   "source": [
    "# PART C"
   ]
  },
  {
   "cell_type": "markdown",
   "metadata": {},
   "source": [
    "## Data Preparation"
   ]
  },
  {
   "cell_type": "markdown",
   "metadata": {},
   "source": [
    "All datasets are constructed by considering the hour information. There are 24 models for prediction."
   ]
  },
  {
   "cell_type": "code",
   "execution_count": 18,
   "metadata": {},
   "outputs": [],
   "source": [
    "names_train<-paste0(\"hour\",0:23,\"_train\")\n",
    "names_test<-paste0(\"hour\",0:23,\"_test\")"
   ]
  },
  {
   "cell_type": "code",
   "execution_count": 19,
   "metadata": {},
   "outputs": [],
   "source": [
    "train_split <- split(train, train$hour)\n",
    "new_names_train <- names_train\n",
    "for (i in 1:length(train_split)) {\n",
    "  assign(new_names_train[i], train_split[[i]])\n",
    "}"
   ]
  },
  {
   "cell_type": "code",
   "execution_count": 20,
   "metadata": {},
   "outputs": [],
   "source": [
    "test_split <- split(test, test$hour)\n",
    "new_names_test <- names_test\n",
    "for (i in 1:length(test_split)) {\n",
    "  assign(new_names_test[i], test_split[[i]])\n",
    "}"
   ]
  },
  {
   "cell_type": "markdown",
   "metadata": {},
   "source": [
    "## Models"
   ]
  },
  {
   "cell_type": "code",
   "execution_count": 21,
   "metadata": {},
   "outputs": [],
   "source": [
    "mape_result_c=rep(0,24)"
   ]
  },
  {
   "cell_type": "markdown",
   "metadata": {},
   "source": [
    "## Model for Hour 0"
   ]
  },
  {
   "cell_type": "code",
   "execution_count": 22,
   "metadata": {},
   "outputs": [
    {
     "data": {
      "text/plain": [
       "\n",
       "Call:\n",
       "lm(formula = consumption ~ Lag_48 + Lag_168, data = hour0_train)\n",
       "\n",
       "Residuals:\n",
       "    Min      1Q  Median      3Q     Max \n",
       "-9161.4  -801.5    42.1   883.4  6410.7 \n",
       "\n",
       "Coefficients:\n",
       "             Estimate Std. Error t value Pr(>|t|)    \n",
       "(Intercept) 2.150e+03  4.325e+02    4.97 7.34e-07 ***\n",
       "Lag_48      4.878e-01  1.686e-02   28.94  < 2e-16 ***\n",
       "Lag_168     4.431e-01  1.685e-02   26.30  < 2e-16 ***\n",
       "---\n",
       "Signif. codes:  0 '***' 0.001 '**' 0.01 '*' 0.05 '.' 0.1 ' ' 1\n",
       "\n",
       "Residual standard error: 1592 on 1756 degrees of freedom\n",
       "  (7 observations deleted due to missingness)\n",
       "Multiple R-squared:  0.7205,\tAdjusted R-squared:  0.7202 \n",
       "F-statistic:  2263 on 2 and 1756 DF,  p-value: < 2.2e-16\n"
      ]
     },
     "metadata": {},
     "output_type": "display_data"
    },
    {
     "data": {
      "text/html": [
       "0.0326781573641774"
      ],
      "text/latex": [
       "0.0326781573641774"
      ],
      "text/markdown": [
       "0.0326781573641774"
      ],
      "text/plain": [
       "[1] 0.03267816"
      ]
     },
     "metadata": {},
     "output_type": "display_data"
    }
   ],
   "source": [
    "Reg0=lm(data=hour0_train, consumption~Lag_48+Lag_168)\n",
    "summary(Reg0)\n",
    "predictions0=predict(Reg0,newdata = hour0_test)\n",
    "MAPE_0=MAPE(predictions0,hour0_test$consumption)\n",
    "MAPE_0_values=as.vector(abs((hour0_test$consumption-predictions0)/length(test$consumption)))\n",
    "MAPE0c_reg_values=as.vector(abs(((hour0_test$consumption-predictions0)/hour0_test$consumption)))\n",
    "mape_result_c[1]<-MAPE_0\n",
    "MAPE_0"
   ]
  },
  {
   "cell_type": "markdown",
   "metadata": {},
   "source": [
    "### Summary Statistics for Hour 0"
   ]
  },
  {
   "cell_type": "code",
   "execution_count": 23,
   "metadata": {
    "scrolled": true
   },
   "outputs": [
    {
     "data": {
      "text/plain": [
       "    Min.  1st Qu.   Median     Mean  3rd Qu.     Max. \n",
       "0.009225 0.018975 0.031534 0.032678 0.045920 0.067888 "
      ]
     },
     "metadata": {},
     "output_type": "display_data"
    }
   ],
   "source": [
    "summary(MAPE0c_reg_values)"
   ]
  },
  {
   "cell_type": "markdown",
   "metadata": {},
   "source": [
    "## Model for Hour 1"
   ]
  },
  {
   "cell_type": "code",
   "execution_count": 24,
   "metadata": {},
   "outputs": [
    {
     "data": {
      "text/plain": [
       "\n",
       "Call:\n",
       "lm(formula = consumption ~ Lag_48 + Lag_168, data = hour1_train)\n",
       "\n",
       "Residuals:\n",
       "    Min      1Q  Median      3Q     Max \n",
       "-9386.4  -776.2    76.1   832.4  6461.9 \n",
       "\n",
       "Coefficients:\n",
       "             Estimate Std. Error t value Pr(>|t|)    \n",
       "(Intercept) 2.086e+03  4.139e+02   5.039 5.15e-07 ***\n",
       "Lag_48      4.926e-01  1.687e-02  29.204  < 2e-16 ***\n",
       "Lag_168     4.369e-01  1.685e-02  25.923  < 2e-16 ***\n",
       "---\n",
       "Signif. codes:  0 '***' 0.001 '**' 0.01 '*' 0.05 '.' 0.1 ' ' 1\n",
       "\n",
       "Residual standard error: 1562 on 1756 degrees of freedom\n",
       "  (7 observations deleted due to missingness)\n",
       "Multiple R-squared:  0.7167,\tAdjusted R-squared:  0.7164 \n",
       "F-statistic:  2221 on 2 and 1756 DF,  p-value: < 2.2e-16\n"
      ]
     },
     "metadata": {},
     "output_type": "display_data"
    },
    {
     "data": {
      "text/html": [
       "0.0328606728370167"
      ],
      "text/latex": [
       "0.0328606728370167"
      ],
      "text/markdown": [
       "0.0328606728370167"
      ],
      "text/plain": [
       "[1] 0.03286067"
      ]
     },
     "metadata": {},
     "output_type": "display_data"
    }
   ],
   "source": [
    "Reg1=lm(data=hour1_train, consumption~Lag_48+Lag_168)\n",
    "summary(Reg1)\n",
    "predictions1=predict(Reg1,newdata = hour1_test)\n",
    "MAPE_1=MAPE(predictions1,hour1_test$consumption)\n",
    "MAPE_1_values=as.vector(abs((hour1_test$consumption-predictions1)/length(test$consumption)))\n",
    "MAPE1c_reg_values=as.vector(abs(((hour1_test$consumption-predictions1)/hour1_test$consumption)))\n",
    "mape_result_c[2]<-MAPE_1\n",
    "MAPE_1"
   ]
  },
  {
   "cell_type": "markdown",
   "metadata": {},
   "source": [
    "### Summary Statistics for Hour 1"
   ]
  },
  {
   "cell_type": "code",
   "execution_count": 25,
   "metadata": {
    "scrolled": true
   },
   "outputs": [
    {
     "data": {
      "text/plain": [
       "    Min.  1st Qu.   Median     Mean  3rd Qu.     Max. \n",
       "0.001582 0.020248 0.030097 0.032861 0.045811 0.075048 "
      ]
     },
     "metadata": {},
     "output_type": "display_data"
    }
   ],
   "source": [
    "summary(MAPE1c_reg_values)"
   ]
  },
  {
   "cell_type": "markdown",
   "metadata": {},
   "source": [
    "## Model for Hour 2"
   ]
  },
  {
   "cell_type": "code",
   "execution_count": 26,
   "metadata": {},
   "outputs": [
    {
     "data": {
      "text/plain": [
       "\n",
       "Call:\n",
       "lm(formula = consumption ~ Lag_48 + Lag_168, data = hour2_train)\n",
       "\n",
       "Residuals:\n",
       "     Min       1Q   Median       3Q      Max \n",
       "-25291.0   -799.0     78.7    871.1   6350.5 \n",
       "\n",
       "Coefficients:\n",
       "             Estimate Std. Error t value Pr(>|t|)    \n",
       "(Intercept) 1.950e+03  4.407e+02   4.424 1.03e-05 ***\n",
       "Lag_48      4.987e-01  1.823e-02  27.354  < 2e-16 ***\n",
       "Lag_168     4.323e-01  1.820e-02  23.756  < 2e-16 ***\n",
       "---\n",
       "Signif. codes:  0 '***' 0.001 '**' 0.01 '*' 0.05 '.' 0.1 ' ' 1\n",
       "\n",
       "Residual standard error: 1660 on 1756 degrees of freedom\n",
       "  (7 observations deleted due to missingness)\n",
       "Multiple R-squared:  0.6748,\tAdjusted R-squared:  0.6745 \n",
       "F-statistic:  1822 on 2 and 1756 DF,  p-value: < 2.2e-16\n"
      ]
     },
     "metadata": {},
     "output_type": "display_data"
    },
    {
     "data": {
      "text/html": [
       "0.0341566699918791"
      ],
      "text/latex": [
       "0.0341566699918791"
      ],
      "text/markdown": [
       "0.0341566699918791"
      ],
      "text/plain": [
       "[1] 0.03415667"
      ]
     },
     "metadata": {},
     "output_type": "display_data"
    }
   ],
   "source": [
    "Reg2=lm(data=hour2_train, consumption~Lag_48+Lag_168)\n",
    "summary(Reg2)\n",
    "predictions2=predict(Reg2,newdata = hour2_test)\n",
    "MAPE_2=MAPE(predictions2,hour2_test$consumption)\n",
    "MAPE_2_values=as.vector(abs((hour2_test$consumption-predictions2)/length(test$consumption)))\n",
    "MAPE2c_reg_values=as.vector(abs(((hour2_test$consumption-predictions2)/hour2_test$consumption)))\n",
    "mape_result_c[3]<-MAPE_2\n",
    "MAPE_2"
   ]
  },
  {
   "cell_type": "markdown",
   "metadata": {},
   "source": [
    "### Summary Statistics for Hour 2"
   ]
  },
  {
   "cell_type": "code",
   "execution_count": 27,
   "metadata": {
    "scrolled": true
   },
   "outputs": [
    {
     "data": {
      "text/plain": [
       "    Min.  1st Qu.   Median     Mean  3rd Qu.     Max. \n",
       "0.001649 0.021411 0.033975 0.034157 0.045180 0.066947 "
      ]
     },
     "metadata": {},
     "output_type": "display_data"
    }
   ],
   "source": [
    "summary(MAPE2c_reg_values)"
   ]
  },
  {
   "cell_type": "markdown",
   "metadata": {},
   "source": [
    "## Model for Hour 3"
   ]
  },
  {
   "cell_type": "code",
   "execution_count": 28,
   "metadata": {},
   "outputs": [
    {
     "data": {
      "text/plain": [
       "\n",
       "Call:\n",
       "lm(formula = consumption ~ Lag_48 + Lag_168, data = hour3_train)\n",
       "\n",
       "Residuals:\n",
       "    Min      1Q  Median      3Q     Max \n",
       "-8891.9  -830.3    63.5   836.8 12046.2 \n",
       "\n",
       "Coefficients:\n",
       "             Estimate Std. Error t value Pr(>|t|)    \n",
       "(Intercept) 3.041e+03  4.113e+02   7.394 2.19e-13 ***\n",
       "Lag_48      4.697e-01  1.659e-02  28.311  < 2e-16 ***\n",
       "Lag_168     4.212e-01  1.656e-02  25.433  < 2e-16 ***\n",
       "---\n",
       "Signif. codes:  0 '***' 0.001 '**' 0.01 '*' 0.05 '.' 0.1 ' ' 1\n",
       "\n",
       "Residual standard error: 1564 on 1755 degrees of freedom\n",
       "  (7 observations deleted due to missingness)\n",
       "Multiple R-squared:  0.6742,\tAdjusted R-squared:  0.6738 \n",
       "F-statistic:  1816 on 2 and 1755 DF,  p-value: < 2.2e-16\n"
      ]
     },
     "metadata": {},
     "output_type": "display_data"
    },
    {
     "data": {
      "text/html": [
       "0.0320678737328794"
      ],
      "text/latex": [
       "0.0320678737328794"
      ],
      "text/markdown": [
       "0.0320678737328794"
      ],
      "text/plain": [
       "[1] 0.03206787"
      ]
     },
     "metadata": {},
     "output_type": "display_data"
    }
   ],
   "source": [
    "Reg3=lm(data=hour3_train, consumption~Lag_48+Lag_168)\n",
    "summary(Reg3)\n",
    "predictions3=predict(Reg3,newdata = hour3_test)\n",
    "MAPE_3=MAPE(predictions3,hour3_test$consumption)\n",
    "MAPE_3_values=as.vector(abs((hour3_test$consumption-predictions3)/length(test$consumption)))\n",
    "MAPE3c_reg_values=as.vector(abs(((hour3_test$consumption-predictions3)/hour3_test$consumption)))\n",
    "mape_result_c[4]<-MAPE_3\n",
    "MAPE_3"
   ]
  },
  {
   "cell_type": "markdown",
   "metadata": {},
   "source": [
    "### Summary Statistics for Hour 3"
   ]
  },
  {
   "cell_type": "code",
   "execution_count": 29,
   "metadata": {
    "scrolled": true
   },
   "outputs": [
    {
     "data": {
      "text/plain": [
       "    Min.  1st Qu.   Median     Mean  3rd Qu.     Max. \n",
       "0.002293 0.019134 0.025323 0.032068 0.042729 0.064820 "
      ]
     },
     "metadata": {},
     "output_type": "display_data"
    }
   ],
   "source": [
    "summary(MAPE3c_reg_values)"
   ]
  },
  {
   "cell_type": "markdown",
   "metadata": {},
   "source": [
    "## Model for Hour 4"
   ]
  },
  {
   "cell_type": "code",
   "execution_count": 30,
   "metadata": {},
   "outputs": [
    {
     "data": {
      "text/plain": [
       "\n",
       "Call:\n",
       "lm(formula = consumption ~ Lag_48 + Lag_168, data = hour4_train)\n",
       "\n",
       "Residuals:\n",
       "    Min      1Q  Median      3Q     Max \n",
       "-7887.3  -805.0    40.2   861.5  6287.3 \n",
       "\n",
       "Coefficients:\n",
       "             Estimate Std. Error t value Pr(>|t|)    \n",
       "(Intercept) 2.207e+03  4.098e+02   5.385 8.24e-08 ***\n",
       "Lag_48      4.747e-01  1.696e-02  27.980  < 2e-16 ***\n",
       "Lag_168     4.449e-01  1.691e-02  26.302  < 2e-16 ***\n",
       "---\n",
       "Signif. codes:  0 '***' 0.001 '**' 0.01 '*' 0.05 '.' 0.1 ' ' 1\n",
       "\n",
       "Residual standard error: 1495 on 1756 degrees of freedom\n",
       "  (7 observations deleted due to missingness)\n",
       "Multiple R-squared:  0.6841,\tAdjusted R-squared:  0.6837 \n",
       "F-statistic:  1901 on 2 and 1756 DF,  p-value: < 2.2e-16\n"
      ]
     },
     "metadata": {},
     "output_type": "display_data"
    },
    {
     "data": {
      "text/html": [
       "0.0318298166936024"
      ],
      "text/latex": [
       "0.0318298166936024"
      ],
      "text/markdown": [
       "0.0318298166936024"
      ],
      "text/plain": [
       "[1] 0.03182982"
      ]
     },
     "metadata": {},
     "output_type": "display_data"
    }
   ],
   "source": [
    "Reg4=lm(data=hour4_train, consumption~Lag_48+Lag_168)\n",
    "summary(Reg4)\n",
    "predictions4=predict(Reg4,newdata = hour4_test)\n",
    "MAPE_4=MAPE(predictions4,hour4_test$consumption)\n",
    "MAPE_4_values=as.vector(abs((hour4_test$consumption-predictions4)/length(test$consumption)))\n",
    "MAPE4c_reg_values=as.vector(abs(((hour4_test$consumption-predictions4)/hour4_test$consumption)))\n",
    "mape_result_c[5]<-MAPE_4\n",
    "MAPE_4"
   ]
  },
  {
   "cell_type": "markdown",
   "metadata": {},
   "source": [
    "### Summary Statistics for Hour 4"
   ]
  },
  {
   "cell_type": "code",
   "execution_count": 31,
   "metadata": {
    "scrolled": true
   },
   "outputs": [
    {
     "data": {
      "text/plain": [
       "     Min.   1st Qu.    Median      Mean   3rd Qu.      Max. \n",
       "0.0007094 0.0195199 0.0314371 0.0318298 0.0416672 0.0642227 "
      ]
     },
     "metadata": {},
     "output_type": "display_data"
    }
   ],
   "source": [
    "summary(MAPE4c_reg_values)"
   ]
  },
  {
   "cell_type": "markdown",
   "metadata": {},
   "source": [
    "## Model for Hour 5"
   ]
  },
  {
   "cell_type": "code",
   "execution_count": 32,
   "metadata": {},
   "outputs": [
    {
     "data": {
      "text/plain": [
       "\n",
       "Call:\n",
       "lm(formula = consumption ~ Lag_48 + Lag_168, data = hour5_train)\n",
       "\n",
       "Residuals:\n",
       "    Min      1Q  Median      3Q     Max \n",
       "-7438.8  -778.2    34.5   839.2  6380.5 \n",
       "\n",
       "Coefficients:\n",
       "             Estimate Std. Error t value Pr(>|t|)    \n",
       "(Intercept) 2.225e+03  4.192e+02   5.308 1.25e-07 ***\n",
       "Lag_48      4.398e-01  1.689e-02  26.043  < 2e-16 ***\n",
       "Lag_168     4.785e-01  1.685e-02  28.405  < 2e-16 ***\n",
       "---\n",
       "Signif. codes:  0 '***' 0.001 '**' 0.01 '*' 0.05 '.' 0.1 ' ' 1\n",
       "\n",
       "Residual standard error: 1486 on 1756 degrees of freedom\n",
       "  (7 observations deleted due to missingness)\n",
       "Multiple R-squared:  0.6705,\tAdjusted R-squared:  0.6701 \n",
       "F-statistic:  1787 on 2 and 1756 DF,  p-value: < 2.2e-16\n"
      ]
     },
     "metadata": {},
     "output_type": "display_data"
    },
    {
     "data": {
      "text/html": [
       "0.0318737009684422"
      ],
      "text/latex": [
       "0.0318737009684422"
      ],
      "text/markdown": [
       "0.0318737009684422"
      ],
      "text/plain": [
       "[1] 0.0318737"
      ]
     },
     "metadata": {},
     "output_type": "display_data"
    }
   ],
   "source": [
    "Reg5=lm(data=hour5_train, consumption~Lag_48+Lag_168)\n",
    "summary(Reg5)\n",
    "predictions5=predict(Reg5,newdata = hour5_test)\n",
    "MAPE_5=MAPE(predictions5,hour5_test$consumption)\n",
    "MAPE_5_values=as.vector(abs((hour5_test$consumption-predictions5)/length(test$consumption)))\n",
    "MAPE5c_reg_values=as.vector(abs(((hour5_test$consumption-predictions5)/hour5_test$consumption)))\n",
    "mape_result_c[6]<-MAPE_5\n",
    "MAPE_5"
   ]
  },
  {
   "cell_type": "markdown",
   "metadata": {},
   "source": [
    "### Summary Statistics for Hour 5"
   ]
  },
  {
   "cell_type": "code",
   "execution_count": 33,
   "metadata": {
    "scrolled": true
   },
   "outputs": [
    {
     "data": {
      "text/plain": [
       "    Min.  1st Qu.   Median     Mean  3rd Qu.     Max. \n",
       "0.002724 0.019877 0.028510 0.031874 0.046308 0.063261 "
      ]
     },
     "metadata": {},
     "output_type": "display_data"
    }
   ],
   "source": [
    "summary(MAPE5c_reg_values)"
   ]
  },
  {
   "cell_type": "markdown",
   "metadata": {},
   "source": [
    "## Model for Hour 6"
   ]
  },
  {
   "cell_type": "code",
   "execution_count": 34,
   "metadata": {},
   "outputs": [
    {
     "data": {
      "text/plain": [
       "\n",
       "Call:\n",
       "lm(formula = consumption ~ Lag_48 + Lag_168, data = hour6_train)\n",
       "\n",
       "Residuals:\n",
       "    Min      1Q  Median      3Q     Max \n",
       "-7425.2  -730.8    38.1   849.2  7051.5 \n",
       "\n",
       "Coefficients:\n",
       "             Estimate Std. Error t value Pr(>|t|)    \n",
       "(Intercept) 2.119e+03  4.248e+02   4.988 6.71e-07 ***\n",
       "Lag_48      3.760e-01  1.651e-02  22.771  < 2e-16 ***\n",
       "Lag_168     5.464e-01  1.649e-02  33.140  < 2e-16 ***\n",
       "---\n",
       "Signif. codes:  0 '***' 0.001 '**' 0.01 '*' 0.05 '.' 0.1 ' ' 1\n",
       "\n",
       "Residual standard error: 1565 on 1756 degrees of freedom\n",
       "  (7 observations deleted due to missingness)\n",
       "Multiple R-squared:  0.6703,\tAdjusted R-squared:  0.6699 \n",
       "F-statistic:  1785 on 2 and 1756 DF,  p-value: < 2.2e-16\n"
      ]
     },
     "metadata": {},
     "output_type": "display_data"
    },
    {
     "data": {
      "text/html": [
       "0.0314791367625476"
      ],
      "text/latex": [
       "0.0314791367625476"
      ],
      "text/markdown": [
       "0.0314791367625476"
      ],
      "text/plain": [
       "[1] 0.03147914"
      ]
     },
     "metadata": {},
     "output_type": "display_data"
    }
   ],
   "source": [
    "Reg6=lm(data=hour6_train, consumption~Lag_48+Lag_168)\n",
    "summary(Reg6)\n",
    "predictions6=predict(Reg6,newdata = hour6_test)\n",
    "MAPE_6=MAPE(predictions6,hour6_test$consumption)\n",
    "MAPE_6_values=as.vector(abs((hour6_test$consumption-predictions6)/length(test$consumption)))\n",
    "MAPE6c_reg_values=as.vector(abs(((hour6_test$consumption-predictions6)/hour6_test$consumption)))\n",
    "mape_result_c[7]<-MAPE_6\n",
    "MAPE_6"
   ]
  },
  {
   "cell_type": "markdown",
   "metadata": {},
   "source": [
    "### Summary Statistics for Hour 6"
   ]
  },
  {
   "cell_type": "code",
   "execution_count": 35,
   "metadata": {
    "scrolled": true
   },
   "outputs": [
    {
     "data": {
      "text/plain": [
       "    Min.  1st Qu.   Median     Mean  3rd Qu.     Max. \n",
       "0.001469 0.012045 0.028691 0.031479 0.051667 0.067635 "
      ]
     },
     "metadata": {},
     "output_type": "display_data"
    }
   ],
   "source": [
    "summary(MAPE6c_reg_values)"
   ]
  },
  {
   "cell_type": "markdown",
   "metadata": {},
   "source": [
    "## Model for Hour 7"
   ]
  },
  {
   "cell_type": "code",
   "execution_count": 36,
   "metadata": {},
   "outputs": [
    {
     "data": {
      "text/plain": [
       "\n",
       "Call:\n",
       "lm(formula = consumption ~ Lag_48 + Lag_168, data = hour7_train)\n",
       "\n",
       "Residuals:\n",
       "    Min      1Q  Median      3Q     Max \n",
       "-8818.6  -809.1    61.4   929.9  8945.6 \n",
       "\n",
       "Coefficients:\n",
       "             Estimate Std. Error t value Pr(>|t|)    \n",
       "(Intercept) 2.376e+03  4.723e+02    5.03 5.41e-07 ***\n",
       "Lag_48      2.661e-01  1.570e-02   16.95  < 2e-16 ***\n",
       "Lag_168     6.509e-01  1.565e-02   41.59  < 2e-16 ***\n",
       "---\n",
       "Signif. codes:  0 '***' 0.001 '**' 0.01 '*' 0.05 '.' 0.1 ' ' 1\n",
       "\n",
       "Residual standard error: 1917 on 1756 degrees of freedom\n",
       "  (7 observations deleted due to missingness)\n",
       "Multiple R-squared:  0.6535,\tAdjusted R-squared:  0.6531 \n",
       "F-statistic:  1656 on 2 and 1756 DF,  p-value: < 2.2e-16\n"
      ]
     },
     "metadata": {},
     "output_type": "display_data"
    },
    {
     "data": {
      "text/html": [
       "0.0377669297128062"
      ],
      "text/latex": [
       "0.0377669297128062"
      ],
      "text/markdown": [
       "0.0377669297128062"
      ],
      "text/plain": [
       "[1] 0.03776693"
      ]
     },
     "metadata": {},
     "output_type": "display_data"
    }
   ],
   "source": [
    "Reg7=lm(data=hour7_train, consumption~Lag_48+Lag_168)\n",
    "summary(Reg7)\n",
    "predictions7=predict(Reg7,newdata = hour7_test)\n",
    "MAPE_7=MAPE(predictions7,hour7_test$consumption)\n",
    "MAPE_7_values=as.vector(abs((hour7_test$consumption-predictions7)/length(test$consumption)))\n",
    "MAPE7c_reg_values=as.vector(abs(((hour7_test$consumption-predictions7)/hour7_test$consumption)))\n",
    "mape_result_c[8]<-MAPE_7\n",
    "MAPE_7"
   ]
  },
  {
   "cell_type": "markdown",
   "metadata": {},
   "source": [
    "### Summary Statistics for Hour 7"
   ]
  },
  {
   "cell_type": "code",
   "execution_count": 37,
   "metadata": {
    "scrolled": true
   },
   "outputs": [
    {
     "data": {
      "text/plain": [
       "    Min.  1st Qu.   Median     Mean  3rd Qu.     Max. \n",
       "0.003466 0.018366 0.036097 0.037767 0.049894 0.092366 "
      ]
     },
     "metadata": {},
     "output_type": "display_data"
    }
   ],
   "source": [
    "summary(MAPE7c_reg_values)"
   ]
  },
  {
   "cell_type": "markdown",
   "metadata": {},
   "source": [
    "## Model for Hour 8"
   ]
  },
  {
   "cell_type": "code",
   "execution_count": 38,
   "metadata": {},
   "outputs": [
    {
     "data": {
      "text/plain": [
       "\n",
       "Call:\n",
       "lm(formula = consumption ~ Lag_48 + Lag_168, data = hour8_train)\n",
       "\n",
       "Residuals:\n",
       "     Min       1Q   Median       3Q      Max \n",
       "-13437.6  -1026.7    132.3   1185.9  13039.3 \n",
       "\n",
       "Coefficients:\n",
       "             Estimate Std. Error t value Pr(>|t|)    \n",
       "(Intercept) 3.381e+03  6.050e+02   5.589 2.65e-08 ***\n",
       "Lag_48      1.730e-01  1.523e-02  11.365  < 2e-16 ***\n",
       "Lag_168     7.220e-01  1.517e-02  47.579  < 2e-16 ***\n",
       "---\n",
       "Signif. codes:  0 '***' 0.001 '**' 0.01 '*' 0.05 '.' 0.1 ' ' 1\n",
       "\n",
       "Residual standard error: 2717 on 1756 degrees of freedom\n",
       "  (7 observations deleted due to missingness)\n",
       "Multiple R-squared:  0.6155,\tAdjusted R-squared:  0.6151 \n",
       "F-statistic:  1406 on 2 and 1756 DF,  p-value: < 2.2e-16\n"
      ]
     },
     "metadata": {},
     "output_type": "display_data"
    },
    {
     "data": {
      "text/html": [
       "0.046774711470155"
      ],
      "text/latex": [
       "0.046774711470155"
      ],
      "text/markdown": [
       "0.046774711470155"
      ],
      "text/plain": [
       "[1] 0.04677471"
      ]
     },
     "metadata": {},
     "output_type": "display_data"
    }
   ],
   "source": [
    "Reg8=lm(data=hour8_train, consumption~Lag_48+Lag_168)\n",
    "summary(Reg8)\n",
    "predictions8=predict(Reg8,newdata = hour8_test)\n",
    "MAPE_8=MAPE(predictions8,hour8_test$consumption)\n",
    "MAPE_8_values=as.vector(abs((hour8_test$consumption-predictions8)/length(test$consumption)))\n",
    "MAPE8c_reg_values=as.vector(abs(((hour8_test$consumption-predictions8)/hour8_test$consumption)))\n",
    "mape_result_c[9]<-MAPE_8\n",
    "MAPE_8"
   ]
  },
  {
   "cell_type": "markdown",
   "metadata": {},
   "source": [
    "### Summary Statistics for Hour 8"
   ]
  },
  {
   "cell_type": "code",
   "execution_count": 39,
   "metadata": {
    "scrolled": true
   },
   "outputs": [
    {
     "data": {
      "text/plain": [
       "     Min.   1st Qu.    Median      Mean   3rd Qu.      Max. \n",
       "0.0004843 0.0263494 0.0391519 0.0467747 0.0675130 0.1284437 "
      ]
     },
     "metadata": {},
     "output_type": "display_data"
    }
   ],
   "source": [
    "summary(MAPE8c_reg_values)"
   ]
  },
  {
   "cell_type": "markdown",
   "metadata": {},
   "source": [
    "## Model for Hour 9"
   ]
  },
  {
   "cell_type": "code",
   "execution_count": 40,
   "metadata": {},
   "outputs": [
    {
     "data": {
      "text/plain": [
       "\n",
       "Call:\n",
       "lm(formula = consumption ~ Lag_48 + Lag_168, data = hour9_train)\n",
       "\n",
       "Residuals:\n",
       "     Min       1Q   Median       3Q      Max \n",
       "-15684.4  -1304.8    118.6   1354.7  15003.9 \n",
       "\n",
       "Coefficients:\n",
       "             Estimate Std. Error t value Pr(>|t|)    \n",
       "(Intercept) 3.650e+03  6.553e+02    5.57 2.94e-08 ***\n",
       "Lag_48      1.741e-01  1.535e-02   11.34  < 2e-16 ***\n",
       "Lag_168     7.195e-01  1.533e-02   46.94  < 2e-16 ***\n",
       "---\n",
       "Signif. codes:  0 '***' 0.001 '**' 0.01 '*' 0.05 '.' 0.1 ' ' 1\n",
       "\n",
       "Residual standard error: 3061 on 1756 degrees of freedom\n",
       "  (7 observations deleted due to missingness)\n",
       "Multiple R-squared:  0.6085,\tAdjusted R-squared:  0.608 \n",
       "F-statistic:  1365 on 2 and 1756 DF,  p-value: < 2.2e-16\n"
      ]
     },
     "metadata": {},
     "output_type": "display_data"
    },
    {
     "data": {
      "text/html": [
       "0.0548491715526489"
      ],
      "text/latex": [
       "0.0548491715526489"
      ],
      "text/markdown": [
       "0.0548491715526489"
      ],
      "text/plain": [
       "[1] 0.05484917"
      ]
     },
     "metadata": {},
     "output_type": "display_data"
    }
   ],
   "source": [
    "Reg9=lm(data=hour9_train, consumption~Lag_48+Lag_168)\n",
    "summary(Reg9)\n",
    "predictions9=predict(Reg9,newdata = hour9_test)\n",
    "MAPE_9=MAPE(predictions9,hour9_test$consumption)\n",
    "MAPE_9_values=as.vector(abs((hour9_test$consumption-predictions9)/length(test$consumption)))\n",
    "MAPE9c_reg_values=as.vector(abs(((hour9_test$consumption-predictions9)/hour9_test$consumption)))\n",
    "mape_result_c[10]<-MAPE_9\n",
    "MAPE_9"
   ]
  },
  {
   "cell_type": "markdown",
   "metadata": {},
   "source": [
    "### Summary Statistics for Hour 9"
   ]
  },
  {
   "cell_type": "code",
   "execution_count": 41,
   "metadata": {
    "scrolled": true
   },
   "outputs": [
    {
     "data": {
      "text/plain": [
       "    Min.  1st Qu.   Median     Mean  3rd Qu.     Max. \n",
       "0.002536 0.025265 0.050889 0.054849 0.083051 0.157453 "
      ]
     },
     "metadata": {},
     "output_type": "display_data"
    }
   ],
   "source": [
    "summary(MAPE9c_reg_values)"
   ]
  },
  {
   "cell_type": "markdown",
   "metadata": {},
   "source": [
    "## Model for Hour 10"
   ]
  },
  {
   "cell_type": "code",
   "execution_count": 42,
   "metadata": {},
   "outputs": [
    {
     "data": {
      "text/plain": [
       "\n",
       "Call:\n",
       "lm(formula = consumption ~ Lag_48 + Lag_168, data = hour10_train)\n",
       "\n",
       "Residuals:\n",
       "     Min       1Q   Median       3Q      Max \n",
       "-16524.8  -1361.2     93.2   1456.1  15547.8 \n",
       "\n",
       "Coefficients:\n",
       "             Estimate Std. Error t value Pr(>|t|)    \n",
       "(Intercept) 3.756e+03  6.676e+02   5.626 2.14e-08 ***\n",
       "Lag_48      2.061e-01  1.584e-02  13.015  < 2e-16 ***\n",
       "Lag_168     6.866e-01  1.583e-02  43.378  < 2e-16 ***\n",
       "---\n",
       "Signif. codes:  0 '***' 0.001 '**' 0.01 '*' 0.05 '.' 0.1 ' ' 1\n",
       "\n",
       "Residual standard error: 3079 on 1756 degrees of freedom\n",
       "  (7 observations deleted due to missingness)\n",
       "Multiple R-squared:  0.5953,\tAdjusted R-squared:  0.5948 \n",
       "F-statistic:  1292 on 2 and 1756 DF,  p-value: < 2.2e-16\n"
      ]
     },
     "metadata": {},
     "output_type": "display_data"
    },
    {
     "data": {
      "text/html": [
       "0.0608656555171933"
      ],
      "text/latex": [
       "0.0608656555171933"
      ],
      "text/markdown": [
       "0.0608656555171933"
      ],
      "text/plain": [
       "[1] 0.06086566"
      ]
     },
     "metadata": {},
     "output_type": "display_data"
    }
   ],
   "source": [
    "Reg10=lm(data=hour10_train, consumption~Lag_48+Lag_168)\n",
    "summary(Reg10)\n",
    "predictions10=predict(Reg10,newdata = hour10_test)\n",
    "MAPE_10=MAPE(predictions10,hour10_test$consumption)\n",
    "MAPE_10_values=as.vector(abs((hour10_test$consumption-predictions10)/length(test$consumption)))\n",
    "MAPE10c_reg_values=as.vector(abs(((hour10_test$consumption-predictions10)/hour10_test$consumption)))\n",
    "mape_result_c[11]<-MAPE_10\n",
    "MAPE_10"
   ]
  },
  {
   "cell_type": "markdown",
   "metadata": {},
   "source": [
    "### Summary Statistics for Hour 10"
   ]
  },
  {
   "cell_type": "code",
   "execution_count": 43,
   "metadata": {
    "scrolled": true
   },
   "outputs": [
    {
     "data": {
      "text/plain": [
       "   Min. 1st Qu.  Median    Mean 3rd Qu.    Max. \n",
       "0.00718 0.03141 0.05529 0.06087 0.08546 0.14294 "
      ]
     },
     "metadata": {},
     "output_type": "display_data"
    }
   ],
   "source": [
    "summary(MAPE10c_reg_values)"
   ]
  },
  {
   "cell_type": "markdown",
   "metadata": {},
   "source": [
    "## Model for Hour 11"
   ]
  },
  {
   "cell_type": "code",
   "execution_count": 44,
   "metadata": {},
   "outputs": [
    {
     "data": {
      "text/plain": [
       "\n",
       "Call:\n",
       "lm(formula = consumption ~ Lag_48 + Lag_168, data = hour11_train)\n",
       "\n",
       "Residuals:\n",
       "     Min       1Q   Median       3Q      Max \n",
       "-17064.8  -1439.6     88.9   1520.9  15682.7 \n",
       "\n",
       "Coefficients:\n",
       "             Estimate Std. Error t value Pr(>|t|)    \n",
       "(Intercept) 3964.3939   684.8797   5.788  8.4e-09 ***\n",
       "Lag_48         0.2249     0.0162  13.884  < 2e-16 ***\n",
       "Lag_168        0.6635     0.0162  40.961  < 2e-16 ***\n",
       "---\n",
       "Signif. codes:  0 '***' 0.001 '**' 0.01 '*' 0.05 '.' 0.1 ' ' 1\n",
       "\n",
       "Residual standard error: 3128 on 1756 degrees of freedom\n",
       "  (7 observations deleted due to missingness)\n",
       "Multiple R-squared:  0.5817,\tAdjusted R-squared:  0.5812 \n",
       "F-statistic:  1221 on 2 and 1756 DF,  p-value: < 2.2e-16\n"
      ]
     },
     "metadata": {},
     "output_type": "display_data"
    },
    {
     "data": {
      "text/html": [
       "0.0627335523496044"
      ],
      "text/latex": [
       "0.0627335523496044"
      ],
      "text/markdown": [
       "0.0627335523496044"
      ],
      "text/plain": [
       "[1] 0.06273355"
      ]
     },
     "metadata": {},
     "output_type": "display_data"
    }
   ],
   "source": [
    "Reg11=lm(data=hour11_train, consumption~Lag_48+Lag_168)\n",
    "summary(Reg11)\n",
    "predictions11=predict(Reg11,newdata = hour11_test)\n",
    "MAPE_11=MAPE(predictions11,hour11_test$consumption)\n",
    "MAPE_11_values=as.vector(abs((hour11_test$consumption-predictions11)/length(test$consumption)))\n",
    "MAPE11c_reg_values=as.vector(abs(((hour11_test$consumption-predictions11)/hour11_test$consumption)))\n",
    "mape_result_c[12]<-MAPE_11\n",
    "MAPE_11"
   ]
  },
  {
   "cell_type": "markdown",
   "metadata": {},
   "source": [
    "### Summary Statistics for Hour 11"
   ]
  },
  {
   "cell_type": "code",
   "execution_count": 45,
   "metadata": {
    "scrolled": true
   },
   "outputs": [
    {
     "data": {
      "text/plain": [
       "     Min.   1st Qu.    Median      Mean   3rd Qu.      Max. \n",
       "0.0006648 0.0305524 0.0564425 0.0627335 0.0814580 0.1478300 "
      ]
     },
     "metadata": {},
     "output_type": "display_data"
    }
   ],
   "source": [
    "summary(MAPE11c_reg_values)"
   ]
  },
  {
   "cell_type": "markdown",
   "metadata": {},
   "source": [
    "## Model for Hour 12"
   ]
  },
  {
   "cell_type": "code",
   "execution_count": 46,
   "metadata": {},
   "outputs": [
    {
     "data": {
      "text/plain": [
       "\n",
       "Call:\n",
       "lm(formula = consumption ~ Lag_48 + Lag_168, data = hour12_train)\n",
       "\n",
       "Residuals:\n",
       "     Min       1Q   Median       3Q      Max \n",
       "-15473.8  -1435.7     47.4   1514.9  14620.3 \n",
       "\n",
       "Coefficients:\n",
       "             Estimate Std. Error t value Pr(>|t|)    \n",
       "(Intercept) 3.642e+03  6.327e+02   5.756 1.01e-08 ***\n",
       "Lag_48      2.804e-01  1.664e-02  16.850  < 2e-16 ***\n",
       "Lag_168     6.133e-01  1.665e-02  36.828  < 2e-16 ***\n",
       "---\n",
       "Signif. codes:  0 '***' 0.001 '**' 0.01 '*' 0.05 '.' 0.1 ' ' 1\n",
       "\n",
       "Residual standard error: 2872 on 1756 degrees of freedom\n",
       "  (7 observations deleted due to missingness)\n",
       "Multiple R-squared:  0.591,\tAdjusted R-squared:  0.5905 \n",
       "F-statistic:  1269 on 2 and 1756 DF,  p-value: < 2.2e-16\n"
      ]
     },
     "metadata": {},
     "output_type": "display_data"
    },
    {
     "data": {
      "text/html": [
       "0.0654612829573795"
      ],
      "text/latex": [
       "0.0654612829573795"
      ],
      "text/markdown": [
       "0.0654612829573795"
      ],
      "text/plain": [
       "[1] 0.06546128"
      ]
     },
     "metadata": {},
     "output_type": "display_data"
    }
   ],
   "source": [
    "Reg12=lm(data=hour12_train, consumption~Lag_48+Lag_168)\n",
    "summary(Reg12)\n",
    "predictions12=predict(Reg12,newdata = hour12_test)\n",
    "MAPE_12=MAPE(predictions12,hour12_test$consumption)\n",
    "MAPE_12_values=as.vector(abs((hour12_test$consumption-predictions12)/length(test$consumption)))\n",
    "MAPE12c_reg_values=as.vector(abs(((hour12_test$consumption-predictions12)/hour12_test$consumption)))\n",
    "mape_result_c[13]<-MAPE_12\n",
    "MAPE_12"
   ]
  },
  {
   "cell_type": "markdown",
   "metadata": {},
   "source": [
    "### Summary Statistics for Hour 12"
   ]
  },
  {
   "cell_type": "code",
   "execution_count": 47,
   "metadata": {
    "scrolled": true
   },
   "outputs": [
    {
     "data": {
      "text/plain": [
       "    Min.  1st Qu.   Median     Mean  3rd Qu.     Max. \n",
       "0.002505 0.030372 0.059841 0.065461 0.090265 0.158904 "
      ]
     },
     "metadata": {},
     "output_type": "display_data"
    }
   ],
   "source": [
    "summary(MAPE12c_reg_values)"
   ]
  },
  {
   "cell_type": "markdown",
   "metadata": {},
   "source": [
    "## Model for Hour 13"
   ]
  },
  {
   "cell_type": "code",
   "execution_count": 48,
   "metadata": {},
   "outputs": [
    {
     "data": {
      "text/plain": [
       "\n",
       "Call:\n",
       "lm(formula = consumption ~ Lag_48 + Lag_168, data = hour13_train)\n",
       "\n",
       "Residuals:\n",
       "     Min       1Q   Median       3Q      Max \n",
       "-15517.1  -1450.5    -54.6   1529.1  14801.9 \n",
       "\n",
       "Coefficients:\n",
       "             Estimate Std. Error t value Pr(>|t|)    \n",
       "(Intercept) 3.815e+03  6.423e+02    5.94 3.43e-09 ***\n",
       "Lag_48      3.035e-01  1.691e-02   17.95  < 2e-16 ***\n",
       "Lag_168     5.866e-01  1.691e-02   34.69  < 2e-16 ***\n",
       "---\n",
       "Signif. codes:  0 '***' 0.001 '**' 0.01 '*' 0.05 '.' 0.1 ' ' 1\n",
       "\n",
       "Residual standard error: 2941 on 1756 degrees of freedom\n",
       "  (7 observations deleted due to missingness)\n",
       "Multiple R-squared:  0.583,\tAdjusted R-squared:  0.5825 \n",
       "F-statistic:  1227 on 2 and 1756 DF,  p-value: < 2.2e-16\n"
      ]
     },
     "metadata": {},
     "output_type": "display_data"
    },
    {
     "data": {
      "text/html": [
       "0.0668429943441783"
      ],
      "text/latex": [
       "0.0668429943441783"
      ],
      "text/markdown": [
       "0.0668429943441783"
      ],
      "text/plain": [
       "[1] 0.06684299"
      ]
     },
     "metadata": {},
     "output_type": "display_data"
    }
   ],
   "source": [
    "Reg13=lm(data=hour13_train, consumption~Lag_48+Lag_168)\n",
    "summary(Reg13)\n",
    "predictions13=predict(Reg13,newdata = hour13_test)\n",
    "MAPE_13=MAPE(predictions13,hour13_test$consumption)\n",
    "MAPE_13_values=as.vector(abs((hour13_test$consumption-predictions13)/length(test$consumption)))\n",
    "MAPE13c_reg_values=as.vector(abs(((hour13_test$consumption-predictions13)/hour13_test$consumption)))\n",
    "mape_result_c[14]<-MAPE_13\n",
    "MAPE_13"
   ]
  },
  {
   "cell_type": "markdown",
   "metadata": {},
   "source": [
    "### Summary Statistics for Hour 13"
   ]
  },
  {
   "cell_type": "code",
   "execution_count": 49,
   "metadata": {
    "scrolled": true
   },
   "outputs": [
    {
     "data": {
      "text/plain": [
       "    Min.  1st Qu.   Median     Mean  3rd Qu.     Max. \n",
       "0.007738 0.028769 0.055068 0.066843 0.091715 0.165669 "
      ]
     },
     "metadata": {},
     "output_type": "display_data"
    }
   ],
   "source": [
    "summary(MAPE13c_reg_values)"
   ]
  },
  {
   "cell_type": "markdown",
   "metadata": {},
   "source": [
    "## Model for Hour 14"
   ]
  },
  {
   "cell_type": "code",
   "execution_count": 50,
   "metadata": {},
   "outputs": [
    {
     "data": {
      "text/plain": [
       "\n",
       "Call:\n",
       "lm(formula = consumption ~ Lag_48 + Lag_168, data = hour14_train)\n",
       "\n",
       "Residuals:\n",
       "     Min       1Q   Median       3Q      Max \n",
       "-16080.8  -1559.3    -24.5   1660.5  15596.8 \n",
       "\n",
       "Coefficients:\n",
       "             Estimate Std. Error t value Pr(>|t|)    \n",
       "(Intercept) 4.070e+03  6.844e+02   5.947 3.29e-09 ***\n",
       "Lag_48      2.597e-01  1.666e-02  15.594  < 2e-16 ***\n",
       "Lag_168     6.255e-01  1.665e-02  37.558  < 2e-16 ***\n",
       "---\n",
       "Signif. codes:  0 '***' 0.001 '**' 0.01 '*' 0.05 '.' 0.1 ' ' 1\n",
       "\n",
       "Residual standard error: 3162 on 1756 degrees of freedom\n",
       "  (7 observations deleted due to missingness)\n",
       "Multiple R-squared:  0.5688,\tAdjusted R-squared:  0.5683 \n",
       "F-statistic:  1158 on 2 and 1756 DF,  p-value: < 2.2e-16\n"
      ]
     },
     "metadata": {},
     "output_type": "display_data"
    },
    {
     "data": {
      "text/html": [
       "0.0648165043715042"
      ],
      "text/latex": [
       "0.0648165043715042"
      ],
      "text/markdown": [
       "0.0648165043715042"
      ],
      "text/plain": [
       "[1] 0.0648165"
      ]
     },
     "metadata": {},
     "output_type": "display_data"
    }
   ],
   "source": [
    "Reg14=lm(data=hour14_train, consumption~Lag_48+Lag_168)\n",
    "summary(Reg14)\n",
    "predictions14=predict(Reg14,newdata = hour14_test)\n",
    "MAPE_14=MAPE(predictions14,hour14_test$consumption)\n",
    "MAPE_14_values=as.vector(abs((hour14_test$consumption-predictions14)/length(test$consumption)))\n",
    "MAPE14c_reg_values=as.vector(abs(((hour14_test$consumption-predictions14)/hour14_test$consumption)))\n",
    "mape_result_c[15]<-MAPE_14\n",
    "MAPE_14"
   ]
  },
  {
   "cell_type": "markdown",
   "metadata": {},
   "source": [
    "### Summary Statistics for Hour 14"
   ]
  },
  {
   "cell_type": "code",
   "execution_count": 51,
   "metadata": {
    "scrolled": true
   },
   "outputs": [
    {
     "data": {
      "text/plain": [
       "    Min.  1st Qu.   Median     Mean  3rd Qu.     Max. \n",
       "0.002868 0.032373 0.049492 0.064816 0.092688 0.152370 "
      ]
     },
     "metadata": {},
     "output_type": "display_data"
    }
   ],
   "source": [
    "summary(MAPE14c_reg_values)"
   ]
  },
  {
   "cell_type": "markdown",
   "metadata": {},
   "source": [
    "## Model for Hour 15"
   ]
  },
  {
   "cell_type": "code",
   "execution_count": 52,
   "metadata": {},
   "outputs": [
    {
     "data": {
      "text/plain": [
       "\n",
       "Call:\n",
       "lm(formula = consumption ~ Lag_48 + Lag_168, data = hour15_train)\n",
       "\n",
       "Residuals:\n",
       "     Min       1Q   Median       3Q      Max \n",
       "-15891.3  -1539.9     29.9   1574.7  15348.3 \n",
       "\n",
       "Coefficients:\n",
       "             Estimate Std. Error t value Pr(>|t|)    \n",
       "(Intercept) 3.944e+03  6.778e+02   5.819 7.03e-09 ***\n",
       "Lag_48      2.565e-01  1.654e-02  15.511  < 2e-16 ***\n",
       "Lag_168     6.320e-01  1.653e-02  38.223  < 2e-16 ***\n",
       "---\n",
       "Signif. codes:  0 '***' 0.001 '**' 0.01 '*' 0.05 '.' 0.1 ' ' 1\n",
       "\n",
       "Residual standard error: 3122 on 1756 degrees of freedom\n",
       "  (7 observations deleted due to missingness)\n",
       "Multiple R-squared:  0.5751,\tAdjusted R-squared:  0.5746 \n",
       "F-statistic:  1188 on 2 and 1756 DF,  p-value: < 2.2e-16\n"
      ]
     },
     "metadata": {},
     "output_type": "display_data"
    },
    {
     "data": {
      "text/html": [
       "0.0608366387665008"
      ],
      "text/latex": [
       "0.0608366387665008"
      ],
      "text/markdown": [
       "0.0608366387665008"
      ],
      "text/plain": [
       "[1] 0.06083664"
      ]
     },
     "metadata": {},
     "output_type": "display_data"
    }
   ],
   "source": [
    "Reg15=lm(data=hour15_train, consumption~Lag_48+Lag_168)\n",
    "summary(Reg15)\n",
    "predictions15=predict(Reg15,newdata = hour15_test)\n",
    "MAPE_15=MAPE(predictions15,hour15_test$consumption)\n",
    "MAPE_15_values=as.vector(abs((hour15_test$consumption-predictions15)/length(test$consumption)))\n",
    "MAPE15c_reg_values=as.vector(abs(((hour15_test$consumption-predictions15)/hour15_test$consumption)))\n",
    "mape_result_c[16]<-MAPE_15\n",
    "MAPE_15"
   ]
  },
  {
   "cell_type": "markdown",
   "metadata": {},
   "source": [
    "### Summary Statistics for Hour 15"
   ]
  },
  {
   "cell_type": "code",
   "execution_count": 53,
   "metadata": {
    "scrolled": true
   },
   "outputs": [
    {
     "data": {
      "text/plain": [
       "    Min.  1st Qu.   Median     Mean  3rd Qu.     Max. \n",
       "0.007913 0.028417 0.054564 0.060837 0.088889 0.131991 "
      ]
     },
     "metadata": {},
     "output_type": "display_data"
    }
   ],
   "source": [
    "summary(MAPE15c_reg_values)"
   ]
  },
  {
   "cell_type": "markdown",
   "metadata": {},
   "source": [
    "## Model for Hour 16"
   ]
  },
  {
   "cell_type": "code",
   "execution_count": 54,
   "metadata": {},
   "outputs": [
    {
     "data": {
      "text/plain": [
       "\n",
       "Call:\n",
       "lm(formula = consumption ~ Lag_48 + Lag_168, data = hour16_train)\n",
       "\n",
       "Residuals:\n",
       "     Min       1Q   Median       3Q      Max \n",
       "-15324.4  -1471.2     40.1   1513.3  15030.2 \n",
       "\n",
       "Coefficients:\n",
       "             Estimate Std. Error t value Pr(>|t|)    \n",
       "(Intercept) 3.816e+03  6.732e+02   5.668 1.68e-08 ***\n",
       "Lag_48      2.471e-01  1.632e-02  15.147  < 2e-16 ***\n",
       "Lag_168     6.456e-01  1.631e-02  39.578  < 2e-16 ***\n",
       "---\n",
       "Signif. codes:  0 '***' 0.001 '**' 0.01 '*' 0.05 '.' 0.1 ' ' 1\n",
       "\n",
       "Residual standard error: 3034 on 1756 degrees of freedom\n",
       "  (7 observations deleted due to missingness)\n",
       "Multiple R-squared:  0.5856,\tAdjusted R-squared:  0.5852 \n",
       "F-statistic:  1241 on 2 and 1756 DF,  p-value: < 2.2e-16\n"
      ]
     },
     "metadata": {},
     "output_type": "display_data"
    },
    {
     "data": {
      "text/html": [
       "0.0514756378246305"
      ],
      "text/latex": [
       "0.0514756378246305"
      ],
      "text/markdown": [
       "0.0514756378246305"
      ],
      "text/plain": [
       "[1] 0.05147564"
      ]
     },
     "metadata": {},
     "output_type": "display_data"
    }
   ],
   "source": [
    "Reg16=lm(data=hour16_train, consumption~Lag_48+Lag_168)\n",
    "summary(Reg16)\n",
    "predictions16=predict(Reg16,newdata = hour16_test)\n",
    "MAPE_16=MAPE(predictions16,hour16_test$consumption)\n",
    "MAPE_16_values=as.vector(abs((hour16_test$consumption-predictions16)/length(test$consumption)))\n",
    "MAPE16c_reg_values=as.vector(abs(((hour16_test$consumption-predictions16)/hour16_test$consumption)))\n",
    "mape_result_c[17]<-MAPE_16\n",
    "MAPE_16"
   ]
  },
  {
   "cell_type": "markdown",
   "metadata": {},
   "source": [
    "### Summary Statistics for Hour 16"
   ]
  },
  {
   "cell_type": "code",
   "execution_count": 55,
   "metadata": {
    "scrolled": true
   },
   "outputs": [
    {
     "data": {
      "text/plain": [
       "    Min.  1st Qu.   Median     Mean  3rd Qu.     Max. \n",
       "0.004497 0.023207 0.051934 0.051476 0.076302 0.115052 "
      ]
     },
     "metadata": {},
     "output_type": "display_data"
    }
   ],
   "source": [
    "summary(MAPE16c_reg_values)"
   ]
  },
  {
   "cell_type": "markdown",
   "metadata": {},
   "source": [
    "## Model for Hour 17"
   ]
  },
  {
   "cell_type": "code",
   "execution_count": 56,
   "metadata": {},
   "outputs": [
    {
     "data": {
      "text/plain": [
       "\n",
       "Call:\n",
       "lm(formula = consumption ~ Lag_48 + Lag_168, data = hour17_train)\n",
       "\n",
       "Residuals:\n",
       "     Min       1Q   Median       3Q      Max \n",
       "-14128.5  -1325.8     32.9   1374.0  13313.3 \n",
       "\n",
       "Coefficients:\n",
       "             Estimate Std. Error t value Pr(>|t|)    \n",
       "(Intercept) 3.393e+03  6.380e+02   5.318 1.18e-07 ***\n",
       "Lag_48      2.620e-01  1.610e-02  16.276  < 2e-16 ***\n",
       "Lag_168     6.430e-01  1.609e-02  39.956  < 2e-16 ***\n",
       "---\n",
       "Signif. codes:  0 '***' 0.001 '**' 0.01 '*' 0.05 '.' 0.1 ' ' 1\n",
       "\n",
       "Residual standard error: 2757 on 1756 degrees of freedom\n",
       "  (7 observations deleted due to missingness)\n",
       "Multiple R-squared:  0.6151,\tAdjusted R-squared:  0.6147 \n",
       "F-statistic:  1403 on 2 and 1756 DF,  p-value: < 2.2e-16\n"
      ]
     },
     "metadata": {},
     "output_type": "display_data"
    },
    {
     "data": {
      "text/html": [
       "0.0460860619496733"
      ],
      "text/latex": [
       "0.0460860619496733"
      ],
      "text/markdown": [
       "0.0460860619496733"
      ],
      "text/plain": [
       "[1] 0.04608606"
      ]
     },
     "metadata": {},
     "output_type": "display_data"
    }
   ],
   "source": [
    "Reg17=lm(data=hour17_train, consumption~Lag_48+Lag_168)\n",
    "summary(Reg17)\n",
    "predictions17=predict(Reg17,newdata = hour17_test)\n",
    "MAPE_17=MAPE(predictions17,hour17_test$consumption)\n",
    "MAPE_17_values=as.vector(abs((hour17_test$consumption-predictions17)/length(test$consumption)))\n",
    "MAPE17c_reg_values=as.vector(abs(((hour17_test$consumption-predictions17)/hour17_test$consumption)))\n",
    "mape_result_c[18]<-MAPE_17\n",
    "MAPE_17"
   ]
  },
  {
   "cell_type": "markdown",
   "metadata": {},
   "source": [
    "### Summary Statistics for Hour 17"
   ]
  },
  {
   "cell_type": "code",
   "execution_count": 57,
   "metadata": {
    "scrolled": true
   },
   "outputs": [
    {
     "data": {
      "text/plain": [
       "   Min. 1st Qu.  Median    Mean 3rd Qu.    Max. \n",
       "0.00355 0.02078 0.04277 0.04609 0.06660 0.10860 "
      ]
     },
     "metadata": {},
     "output_type": "display_data"
    }
   ],
   "source": [
    "summary(MAPE17c_reg_values)"
   ]
  },
  {
   "cell_type": "markdown",
   "metadata": {},
   "source": [
    "## Model for Hour 18"
   ]
  },
  {
   "cell_type": "code",
   "execution_count": 58,
   "metadata": {},
   "outputs": [
    {
     "data": {
      "text/plain": [
       "\n",
       "Call:\n",
       "lm(formula = consumption ~ Lag_48 + Lag_168, data = hour18_train)\n",
       "\n",
       "Residuals:\n",
       "     Min       1Q   Median       3Q      Max \n",
       "-12693.7  -1110.1     62.7   1205.5  10528.9 \n",
       "\n",
       "Coefficients:\n",
       "             Estimate Std. Error t value Pr(>|t|)    \n",
       "(Intercept) 3.036e+03  5.830e+02   5.208 2.14e-07 ***\n",
       "Lag_48      3.331e-01  1.644e-02  20.257  < 2e-16 ***\n",
       "Lag_168     5.822e-01  1.642e-02  35.446  < 2e-16 ***\n",
       "---\n",
       "Signif. codes:  0 '***' 0.001 '**' 0.01 '*' 0.05 '.' 0.1 ' ' 1\n",
       "\n",
       "Residual standard error: 2308 on 1756 degrees of freedom\n",
       "  (7 observations deleted due to missingness)\n",
       "Multiple R-squared:  0.6496,\tAdjusted R-squared:  0.6492 \n",
       "F-statistic:  1628 on 2 and 1756 DF,  p-value: < 2.2e-16\n"
      ]
     },
     "metadata": {},
     "output_type": "display_data"
    },
    {
     "data": {
      "text/html": [
       "0.0373407839700896"
      ],
      "text/latex": [
       "0.0373407839700896"
      ],
      "text/markdown": [
       "0.0373407839700896"
      ],
      "text/plain": [
       "[1] 0.03734078"
      ]
     },
     "metadata": {},
     "output_type": "display_data"
    }
   ],
   "source": [
    "Reg18=lm(data=hour18_train, consumption~Lag_48+Lag_168)\n",
    "summary(Reg18)\n",
    "predictions18=predict(Reg18,newdata = hour18_test)\n",
    "MAPE_18=MAPE(predictions18,hour18_test$consumption)\n",
    "MAPE_18_values=as.vector(abs((hour18_test$consumption-predictions18)/length(test$consumption)))\n",
    "MAPE18c_reg_values=as.vector(abs(((hour18_test$consumption-predictions18)/hour18_test$consumption)))\n",
    "mape_result_c[19]<-MAPE_18\n",
    "MAPE_18"
   ]
  },
  {
   "cell_type": "markdown",
   "metadata": {},
   "source": [
    "### Summary Statistics for Hour 18"
   ]
  },
  {
   "cell_type": "code",
   "execution_count": 59,
   "metadata": {
    "scrolled": true
   },
   "outputs": [
    {
     "data": {
      "text/plain": [
       "    Min.  1st Qu.   Median     Mean  3rd Qu.     Max. \n",
       "0.003682 0.022419 0.033798 0.037341 0.051810 0.086056 "
      ]
     },
     "metadata": {},
     "output_type": "display_data"
    }
   ],
   "source": [
    "summary(MAPE18c_reg_values)"
   ]
  },
  {
   "cell_type": "markdown",
   "metadata": {},
   "source": [
    "## Model for Hour 19"
   ]
  },
  {
   "cell_type": "code",
   "execution_count": 60,
   "metadata": {},
   "outputs": [
    {
     "data": {
      "text/plain": [
       "\n",
       "Call:\n",
       "lm(formula = consumption ~ Lag_48 + Lag_168, data = hour19_train)\n",
       "\n",
       "Residuals:\n",
       "     Min       1Q   Median       3Q      Max \n",
       "-11663.8  -1015.7     49.5   1079.1   9177.4 \n",
       "\n",
       "Coefficients:\n",
       "             Estimate Std. Error t value Pr(>|t|)    \n",
       "(Intercept) 3.157e+03  5.813e+02   5.431 6.38e-08 ***\n",
       "Lag_48      3.870e-01  1.689e-02  22.917  < 2e-16 ***\n",
       "Lag_168     5.251e-01  1.687e-02  31.125  < 2e-16 ***\n",
       "---\n",
       "Signif. codes:  0 '***' 0.001 '**' 0.01 '*' 0.05 '.' 0.1 ' ' 1\n",
       "\n",
       "Residual standard error: 2058 on 1756 degrees of freedom\n",
       "  (7 observations deleted due to missingness)\n",
       "Multiple R-squared:  0.6466,\tAdjusted R-squared:  0.6462 \n",
       "F-statistic:  1606 on 2 and 1756 DF,  p-value: < 2.2e-16\n"
      ]
     },
     "metadata": {},
     "output_type": "display_data"
    },
    {
     "data": {
      "text/html": [
       "0.0343438300999241"
      ],
      "text/latex": [
       "0.0343438300999241"
      ],
      "text/markdown": [
       "0.0343438300999241"
      ],
      "text/plain": [
       "[1] 0.03434383"
      ]
     },
     "metadata": {},
     "output_type": "display_data"
    }
   ],
   "source": [
    "Reg19=lm(data=hour19_train, consumption~Lag_48+Lag_168)\n",
    "summary(Reg19)\n",
    "predictions19=predict(Reg19,newdata = hour19_test)\n",
    "MAPE_19=MAPE(predictions19,hour19_test$consumption)\n",
    "MAPE_19_values=as.vector(abs((hour19_test$consumption-predictions19)/length(test$consumption)))\n",
    "MAPE19c_reg_values=as.vector(abs(((hour19_test$consumption-predictions19)/hour19_test$consumption)))\n",
    "mape_result_c[20]<-MAPE_19\n",
    "MAPE_19"
   ]
  },
  {
   "cell_type": "markdown",
   "metadata": {},
   "source": [
    "### Summary Statistics for Hour 19"
   ]
  },
  {
   "cell_type": "code",
   "execution_count": 61,
   "metadata": {
    "scrolled": true
   },
   "outputs": [
    {
     "data": {
      "text/plain": [
       "    Min.  1st Qu.   Median     Mean  3rd Qu.     Max. \n",
       "0.001535 0.019999 0.032542 0.034344 0.046236 0.078123 "
      ]
     },
     "metadata": {},
     "output_type": "display_data"
    }
   ],
   "source": [
    "summary(MAPE19c_reg_values)"
   ]
  },
  {
   "cell_type": "markdown",
   "metadata": {},
   "source": [
    "## Model for Hour 20"
   ]
  },
  {
   "cell_type": "code",
   "execution_count": 62,
   "metadata": {
    "scrolled": false
   },
   "outputs": [
    {
     "data": {
      "text/plain": [
       "\n",
       "Call:\n",
       "lm(formula = consumption ~ Lag_48 + Lag_168, data = hour20_train)\n",
       "\n",
       "Residuals:\n",
       "     Min       1Q   Median       3Q      Max \n",
       "-10398.7  -1001.7     36.3   1045.7   8419.5 \n",
       "\n",
       "Coefficients:\n",
       "             Estimate Std. Error t value Pr(>|t|)    \n",
       "(Intercept) 2.755e+03  5.396e+02   5.106 3.65e-07 ***\n",
       "Lag_48      4.083e-01  1.676e-02  24.362  < 2e-16 ***\n",
       "Lag_168     5.148e-01  1.675e-02  30.737  < 2e-16 ***\n",
       "---\n",
       "Signif. codes:  0 '***' 0.001 '**' 0.01 '*' 0.05 '.' 0.1 ' ' 1\n",
       "\n",
       "Residual standard error: 1915 on 1756 degrees of freedom\n",
       "  (7 observations deleted due to missingness)\n",
       "Multiple R-squared:  0.6835,\tAdjusted R-squared:  0.6831 \n",
       "F-statistic:  1896 on 2 and 1756 DF,  p-value: < 2.2e-16\n"
      ]
     },
     "metadata": {},
     "output_type": "display_data"
    },
    {
     "data": {
      "text/html": [
       "0.0316516551237087"
      ],
      "text/latex": [
       "0.0316516551237087"
      ],
      "text/markdown": [
       "0.0316516551237087"
      ],
      "text/plain": [
       "[1] 0.03165166"
      ]
     },
     "metadata": {},
     "output_type": "display_data"
    }
   ],
   "source": [
    "Reg20=lm(data=hour20_train, consumption~Lag_48+Lag_168)\n",
    "summary(Reg20)\n",
    "predictions20=predict(Reg20,newdata = hour20_test)\n",
    "MAPE_20=MAPE(predictions20,hour20_test$consumption)\n",
    "MAPE_20_values=as.vector(abs((hour20_test$consumption-predictions20)/length(test$consumption)))\n",
    "MAPE20c_reg_values=as.vector(abs(((hour20_test$consumption-predictions20)/hour20_test$consumption)))\n",
    "mape_result_c[21]<-MAPE_20\n",
    "MAPE_20"
   ]
  },
  {
   "cell_type": "markdown",
   "metadata": {},
   "source": [
    "### Summary Statistics for Hour 20"
   ]
  },
  {
   "cell_type": "code",
   "execution_count": 63,
   "metadata": {
    "scrolled": true
   },
   "outputs": [
    {
     "data": {
      "text/plain": [
       "    Min.  1st Qu.   Median     Mean  3rd Qu.     Max. \n",
       "0.001192 0.014285 0.029516 0.031652 0.044634 0.077237 "
      ]
     },
     "metadata": {},
     "output_type": "display_data"
    }
   ],
   "source": [
    "summary(MAPE20c_reg_values)"
   ]
  },
  {
   "cell_type": "markdown",
   "metadata": {},
   "source": [
    "## Model for Hour 21"
   ]
  },
  {
   "cell_type": "code",
   "execution_count": 64,
   "metadata": {
    "scrolled": false
   },
   "outputs": [
    {
     "data": {
      "text/plain": [
       "\n",
       "Call:\n",
       "lm(formula = consumption ~ Lag_48 + Lag_168, data = hour21_train)\n",
       "\n",
       "Residuals:\n",
       "     Min       1Q   Median       3Q      Max \n",
       "-10004.2   -937.4      2.1    994.0   8535.8 \n",
       "\n",
       "Coefficients:\n",
       "             Estimate Std. Error t value Pr(>|t|)    \n",
       "(Intercept) 2.631e+03  5.172e+02   5.087 4.03e-07 ***\n",
       "Lag_48      4.293e-01  1.681e-02  25.532  < 2e-16 ***\n",
       "Lag_168     4.960e-01  1.680e-02  29.514  < 2e-16 ***\n",
       "---\n",
       "Signif. codes:  0 '***' 0.001 '**' 0.01 '*' 0.05 '.' 0.1 ' ' 1\n",
       "\n",
       "Residual standard error: 1851 on 1756 degrees of freedom\n",
       "  (7 observations deleted due to missingness)\n",
       "Multiple R-squared:  0.6945,\tAdjusted R-squared:  0.6942 \n",
       "F-statistic:  1996 on 2 and 1756 DF,  p-value: < 2.2e-16\n"
      ]
     },
     "metadata": {},
     "output_type": "display_data"
    },
    {
     "data": {
      "text/html": [
       "0.0316699727543111"
      ],
      "text/latex": [
       "0.0316699727543111"
      ],
      "text/markdown": [
       "0.0316699727543111"
      ],
      "text/plain": [
       "[1] 0.03166997"
      ]
     },
     "metadata": {},
     "output_type": "display_data"
    }
   ],
   "source": [
    "Reg21=lm(data=hour21_train, consumption~Lag_48+Lag_168)\n",
    "summary(Reg21)\n",
    "predictions21=predict(Reg21,newdata = hour21_test)\n",
    "MAPE_21=MAPE(predictions21,hour21_test$consumption)\n",
    "MAPE_21_values=as.vector(abs((hour21_test$consumption-predictions21)/length(test$consumption)))\n",
    "MAPE21c_reg_values=as.vector(abs(((hour21_test$consumption-predictions21)/hour21_test$consumption)))\n",
    "mape_result_c[22]<-MAPE_21\n",
    "MAPE_21"
   ]
  },
  {
   "cell_type": "markdown",
   "metadata": {},
   "source": [
    "### Summary Statistics for Hour 21"
   ]
  },
  {
   "cell_type": "code",
   "execution_count": 65,
   "metadata": {
    "scrolled": true
   },
   "outputs": [
    {
     "data": {
      "text/plain": [
       "    Min.  1st Qu.   Median     Mean  3rd Qu.     Max. \n",
       "0.001069 0.015928 0.026658 0.031670 0.044359 0.075996 "
      ]
     },
     "metadata": {},
     "output_type": "display_data"
    }
   ],
   "source": [
    "summary(MAPE21c_reg_values)"
   ]
  },
  {
   "cell_type": "markdown",
   "metadata": {},
   "source": [
    "## Model for Hour 22"
   ]
  },
  {
   "cell_type": "code",
   "execution_count": 66,
   "metadata": {
    "scrolled": false
   },
   "outputs": [
    {
     "data": {
      "text/plain": [
       "\n",
       "Call:\n",
       "lm(formula = consumption ~ Lag_48 + Lag_168, data = hour22_train)\n",
       "\n",
       "Residuals:\n",
       "     Min       1Q   Median       3Q      Max \n",
       "-10245.5   -910.7     30.9    994.4   8145.5 \n",
       "\n",
       "Coefficients:\n",
       "             Estimate Std. Error t value Pr(>|t|)    \n",
       "(Intercept) 2.820e+03  5.251e+02   5.371 8.89e-08 ***\n",
       "Lag_48      4.426e-01  1.702e-02  26.007  < 2e-16 ***\n",
       "Lag_168     4.756e-01  1.701e-02  27.961  < 2e-16 ***\n",
       "---\n",
       "Signif. codes:  0 '***' 0.001 '**' 0.01 '*' 0.05 '.' 0.1 ' ' 1\n",
       "\n",
       "Residual standard error: 1828 on 1756 degrees of freedom\n",
       "  (7 observations deleted due to missingness)\n",
       "Multiple R-squared:  0.6759,\tAdjusted R-squared:  0.6755 \n",
       "F-statistic:  1831 on 2 and 1756 DF,  p-value: < 2.2e-16\n"
      ]
     },
     "metadata": {},
     "output_type": "display_data"
    },
    {
     "data": {
      "text/html": [
       "0.0316686727885877"
      ],
      "text/latex": [
       "0.0316686727885877"
      ],
      "text/markdown": [
       "0.0316686727885877"
      ],
      "text/plain": [
       "[1] 0.03166867"
      ]
     },
     "metadata": {},
     "output_type": "display_data"
    }
   ],
   "source": [
    "Reg22=lm(data=hour22_train, consumption~Lag_48+Lag_168)\n",
    "summary(Reg22)\n",
    "predictions22=predict(Reg22,newdata = hour22_test)\n",
    "MAPE_22=MAPE(predictions22,hour22_test$consumption)\n",
    "MAPE_22_values=as.vector(abs((hour22_test$consumption-predictions22)/length(test$consumption)))\n",
    "MAPE22c_reg_values=as.vector(abs(((hour22_test$consumption-predictions22)/hour22_test$consumption)))\n",
    "mape_result_c[23]<-MAPE_22\n",
    "MAPE_22"
   ]
  },
  {
   "cell_type": "markdown",
   "metadata": {},
   "source": [
    "### Summary Statistics for Hour 22"
   ]
  },
  {
   "cell_type": "code",
   "execution_count": 67,
   "metadata": {
    "scrolled": true
   },
   "outputs": [
    {
     "data": {
      "text/plain": [
       "    Min.  1st Qu.   Median     Mean  3rd Qu.     Max. \n",
       "0.005957 0.016798 0.029447 0.031669 0.042879 0.069104 "
      ]
     },
     "metadata": {},
     "output_type": "display_data"
    }
   ],
   "source": [
    "summary(MAPE22c_reg_values)"
   ]
  },
  {
   "cell_type": "markdown",
   "metadata": {},
   "source": [
    "## Model for Hour 23"
   ]
  },
  {
   "cell_type": "code",
   "execution_count": 68,
   "metadata": {
    "scrolled": false
   },
   "outputs": [
    {
     "data": {
      "text/plain": [
       "\n",
       "Call:\n",
       "lm(formula = consumption ~ Lag_48 + Lag_168, data = hour23_train)\n",
       "\n",
       "Residuals:\n",
       "    Min      1Q  Median      3Q     Max \n",
       "-9569.1  -861.2    52.7   916.2  7928.2 \n",
       "\n",
       "Coefficients:\n",
       "             Estimate Std. Error t value Pr(>|t|)    \n",
       "(Intercept) 2.501e+03  4.866e+02   5.141 3.04e-07 ***\n",
       "Lag_48      4.514e-01  1.694e-02  26.648  < 2e-16 ***\n",
       "Lag_168     4.728e-01  1.695e-02  27.896  < 2e-16 ***\n",
       "---\n",
       "Signif. codes:  0 '***' 0.001 '**' 0.01 '*' 0.05 '.' 0.1 ' ' 1\n",
       "\n",
       "Residual standard error: 1738 on 1756 degrees of freedom\n",
       "  (7 observations deleted due to missingness)\n",
       "Multiple R-squared:  0.6932,\tAdjusted R-squared:  0.6928 \n",
       "F-statistic:  1984 on 2 and 1756 DF,  p-value: < 2.2e-16\n"
      ]
     },
     "metadata": {},
     "output_type": "display_data"
    },
    {
     "data": {
      "text/html": [
       "0.0338978260108936"
      ],
      "text/latex": [
       "0.0338978260108936"
      ],
      "text/markdown": [
       "0.0338978260108936"
      ],
      "text/plain": [
       "[1] 0.03389783"
      ]
     },
     "metadata": {},
     "output_type": "display_data"
    }
   ],
   "source": [
    "Reg23=lm(data=hour23_train, consumption~Lag_48+Lag_168)\n",
    "summary(Reg23)\n",
    "predictions23=predict(Reg23,newdata = hour23_test)\n",
    "MAPE_23=MAPE(predictions23,hour23_test$consumption)\n",
    "MAPE_23_values=as.vector(abs((hour23_test$consumption-predictions23))/length(test$consumption))\n",
    "MAPE23c_reg_values=as.vector(abs(((hour23_test$consumption-predictions23)/hour23_test$consumption)))\n",
    "mape_result_c[24]<-MAPE_23\n",
    "MAPE_23"
   ]
  },
  {
   "cell_type": "markdown",
   "metadata": {},
   "source": [
    "### Summary Statistics for Hour 23"
   ]
  },
  {
   "cell_type": "code",
   "execution_count": 69,
   "metadata": {
    "scrolled": true
   },
   "outputs": [
    {
     "data": {
      "text/plain": [
       "    Min.  1st Qu.   Median     Mean  3rd Qu.     Max. \n",
       "0.006217 0.019815 0.028767 0.033898 0.046809 0.074769 "
      ]
     },
     "metadata": {},
     "output_type": "display_data"
    }
   ],
   "source": [
    "summary(MAPE23c_reg_values)"
   ]
  },
  {
   "cell_type": "code",
   "execution_count": 70,
   "metadata": {},
   "outputs": [
    {
     "data": {
      "image/png": "[encoded data removed]",
      "text/plain": [
       "Plot with title \"MAPE Values for Hourly Regression Model\""
      ]
     },
     "metadata": {},
     "output_type": "display_data"
    }
   ],
   "source": [
    "plot(mape_result_c,type=\"l\",ylab=\"MAPE Values (Quantity)\",xlab=\"Hours\",main=\"MAPE Values for Hourly Regression Model\")"
   ]
  },
  {
   "cell_type": "code",
   "execution_count": 71,
   "metadata": {},
   "outputs": [],
   "source": [
    "C_all_val=c(MAPE0c_reg_values,MAPE1c_reg_values,MAPE2c_reg_values,MAPE3c_reg_values,MAPE4c_reg_values,MAPE5c_reg_values,\n",
    "           MAPE6c_reg_values,MAPE7c_reg_values,MAPE8c_reg_values,MAPE9c_reg_values,MAPE10c_reg_values,MAPE11c_reg_values,\n",
    "           MAPE12c_reg_values,MAPE13c_reg_values,MAPE14c_reg_values,MAPE15c_reg_values,MAPE16c_reg_values,MAPE17c_reg_values,\n",
    "           MAPE18c_reg_values,MAPE19c_reg_values,MAPE20c_reg_values,MAPE21c_reg_values,MAPE22c_reg_values,MAPE23c_reg_values)"
   ]
  },
  {
   "cell_type": "markdown",
   "metadata": {},
   "source": [
    "## General Summary Statistic for Hourly Model"
   ]
  },
  {
   "cell_type": "code",
   "execution_count": 72,
   "metadata": {},
   "outputs": [
    {
     "data": {
      "text/plain": [
       "     Min.   1st Qu.    Median      Mean   3rd Qu.      Max. \n",
       "0.0004843 0.0216021 0.0372756 0.0435845 0.0590627 0.1656688 "
      ]
     },
     "metadata": {},
     "output_type": "display_data"
    }
   ],
   "source": [
    "summary(C_all_val)"
   ]
  },
  {
   "cell_type": "markdown",
   "metadata": {},
   "source": [
    "# PART D"
   ]
  },
  {
   "cell_type": "code",
   "execution_count": 73,
   "metadata": {},
   "outputs": [],
   "source": [
    "cont=copy(dt)"
   ]
  },
  {
   "cell_type": "markdown",
   "metadata": {},
   "source": [
    "## Lag Creator Function"
   ]
  },
  {
   "cell_type": "code",
   "execution_count": 74,
   "metadata": {},
   "outputs": [],
   "source": [
    "lag_creator<-function(DT, names){   \n",
    "    hours=c(0:23)\n",
    "    for (which_hour in hours){\n",
    "        new_col<-paste0(names,which_hour)\n",
    "        which_hour=which_hour+1\n",
    "        DT[,(new_col):=shift(DT[,2],type=\"lag\",n=which_hour)]                \n",
    "  \n",
    "        }  \n",
    "    return(DT[])\n",
    "}"
   ]
  },
  {
   "cell_type": "markdown",
   "metadata": {},
   "source": [
    "## Feature Matrix Creator"
   ]
  },
  {
   "cell_type": "code",
   "execution_count": 75,
   "metadata": {},
   "outputs": [],
   "source": [
    "feature_mat<-function(DT,names){\n",
    "    feat_mat=data.table(date=seq.POSIXt(from = as.POSIXct(\"2016-01-01\"),to = as.POSIXct(\"2020-12-01\"),by=\"day\"))\n",
    "    hours=c(0:23)    \n",
    "    for (which_hour in hours){\n",
    "    new_col<-paste0(names,which_hour)\n",
    "    feat_mat[,(new_col):=0]                \n",
    "    } \n",
    "    for(whic_date in seq.POSIXt(from = as.POSIXct(\"2016-01-01\"),to = as.POSIXct(\"2020-12-01\"),by=\"day\")){\n",
    "        current_DT=filter(DT,date==as.POSIXct(whic_date, origin = \"1970-01-01\"))\n",
    "        print(current_DT)\n",
    "        for(which_hour in hours){\n",
    "            feat_mat[date==as.POSIXct(whic_date, origin = \"1970-01-01\"), \n",
    "                     feat_mat[,which_hour+1]:=current_DT[hour==which_hour,consumption]] \n",
    "        }   \n",
    "    }\n",
    "    return(feat_mat[])\n",
    "}"
   ]
  },
  {
   "cell_type": "markdown",
   "metadata": {},
   "source": [
    "## Column Name Creator"
   ]
  },
  {
   "cell_type": "code",
   "execution_count": 76,
   "metadata": {},
   "outputs": [],
   "source": [
    "col_name<-function(DT, names){   \n",
    "    hours=c(0:23)\n",
    "    for (which_hour in hours){\n",
    "        new_col<-paste0(names,which_hour)\n",
    "        setnames(DT,old=as.character(which_hour),new=as.character(new_col))              \n",
    "        }  \n",
    "}"
   ]
  },
  {
   "cell_type": "code",
   "execution_count": 77,
   "metadata": {},
   "outputs": [],
   "source": [
    "data_wide <- spread(cont, hour, consumption)\n",
    "lag_2=copy(data_wide[,date:=date+2])\n",
    "col_name(lag_2,\"Lag_day2_hour_\")\n",
    "#lag_2"
   ]
  },
  {
   "cell_type": "code",
   "execution_count": 78,
   "metadata": {},
   "outputs": [],
   "source": [
    "data_wide <- spread(cont, hour, consumption)\n",
    "lag_7=copy(data_wide[,date:=date+7])\n",
    "col_name(lag_7,\"Lag_day7_hour_\")\n",
    "#lag_7"
   ]
  },
  {
   "cell_type": "code",
   "execution_count": 79,
   "metadata": {},
   "outputs": [],
   "source": [
    "dt_with_lag2=merge(cont,lag_2,by.x=\"date\",by.y=\"date\",all.x=TRUE)"
   ]
  },
  {
   "cell_type": "code",
   "execution_count": 80,
   "metadata": {},
   "outputs": [],
   "source": [
    "full_dt=merge(dt_with_lag2,lag_7,by.x=\"date\",by.y=\"date\",all.x=TRUE)"
   ]
  },
  {
   "cell_type": "markdown",
   "metadata": {},
   "source": [
    "## Final Dataset for Part D"
   ]
  },
  {
   "cell_type": "code",
   "execution_count": 81,
   "metadata": {},
   "outputs": [
    {
     "data": {
      "text/html": [
       "<table>\n",
       "<thead><tr><th scope=col>date</th><th scope=col>hour</th><th scope=col>Lag_day2_hour_0</th><th scope=col>Lag_day2_hour_1</th><th scope=col>Lag_day2_hour_2</th><th scope=col>Lag_day2_hour_3</th><th scope=col>Lag_day2_hour_4</th><th scope=col>Lag_day2_hour_5</th><th scope=col>Lag_day2_hour_6</th><th scope=col>Lag_day2_hour_7</th><th scope=col>...</th><th scope=col>Lag_day7_hour_15</th><th scope=col>Lag_day7_hour_16</th><th scope=col>Lag_day7_hour_17</th><th scope=col>Lag_day7_hour_18</th><th scope=col>Lag_day7_hour_19</th><th scope=col>Lag_day7_hour_20</th><th scope=col>Lag_day7_hour_21</th><th scope=col>Lag_day7_hour_22</th><th scope=col>Lag_day7_hour_23</th><th scope=col>consumption</th></tr></thead>\n",
       "<tbody>\n",
       "\t<tr><td>2016-01-01</td><td> 0        </td><td>NA        </td><td>NA        </td><td>NA        </td><td>NA        </td><td>NA        </td><td>NA        </td><td>NA        </td><td>NA        </td><td>...       </td><td>NA        </td><td>NA        </td><td>NA        </td><td>NA        </td><td>NA        </td><td>NA        </td><td>NA        </td><td>NA        </td><td>NA        </td><td>26277.24  </td></tr>\n",
       "\t<tr><td>2016-01-01</td><td> 1        </td><td>NA        </td><td>NA        </td><td>NA        </td><td>NA        </td><td>NA        </td><td>NA        </td><td>NA        </td><td>NA        </td><td>...       </td><td>NA        </td><td>NA        </td><td>NA        </td><td>NA        </td><td>NA        </td><td>NA        </td><td>NA        </td><td>NA        </td><td>NA        </td><td>24991.82  </td></tr>\n",
       "\t<tr><td>2016-01-01</td><td> 2        </td><td>NA        </td><td>NA        </td><td>NA        </td><td>NA        </td><td>NA        </td><td>NA        </td><td>NA        </td><td>NA        </td><td>...       </td><td>NA        </td><td>NA        </td><td>NA        </td><td>NA        </td><td>NA        </td><td>NA        </td><td>NA        </td><td>NA        </td><td>NA        </td><td>23532.61  </td></tr>\n",
       "\t<tr><td>2016-01-01</td><td> 3        </td><td>NA        </td><td>NA        </td><td>NA        </td><td>NA        </td><td>NA        </td><td>NA        </td><td>NA        </td><td>NA        </td><td>...       </td><td>NA        </td><td>NA        </td><td>NA        </td><td>NA        </td><td>NA        </td><td>NA        </td><td>NA        </td><td>NA        </td><td>NA        </td><td>22464.78  </td></tr>\n",
       "\t<tr><td>2016-01-01</td><td> 4        </td><td>NA        </td><td>NA        </td><td>NA        </td><td>NA        </td><td>NA        </td><td>NA        </td><td>NA        </td><td>NA        </td><td>...       </td><td>NA        </td><td>NA        </td><td>NA        </td><td>NA        </td><td>NA        </td><td>NA        </td><td>NA        </td><td>NA        </td><td>NA        </td><td>22002.91  </td></tr>\n",
       "\t<tr><td>2016-01-01</td><td> 5        </td><td>NA        </td><td>NA        </td><td>NA        </td><td>NA        </td><td>NA        </td><td>NA        </td><td>NA        </td><td>NA        </td><td>...       </td><td>NA        </td><td>NA        </td><td>NA        </td><td>NA        </td><td>NA        </td><td>NA        </td><td>NA        </td><td>NA        </td><td>NA        </td><td>21957.08  </td></tr>\n",
       "\t<tr><td>2016-01-01</td><td> 6        </td><td>NA        </td><td>NA        </td><td>NA        </td><td>NA        </td><td>NA        </td><td>NA        </td><td>NA        </td><td>NA        </td><td>...       </td><td>NA        </td><td>NA        </td><td>NA        </td><td>NA        </td><td>NA        </td><td>NA        </td><td>NA        </td><td>NA        </td><td>NA        </td><td>22203.54  </td></tr>\n",
       "\t<tr><td>2016-01-01</td><td> 7        </td><td>NA        </td><td>NA        </td><td>NA        </td><td>NA        </td><td>NA        </td><td>NA        </td><td>NA        </td><td>NA        </td><td>...       </td><td>NA        </td><td>NA        </td><td>NA        </td><td>NA        </td><td>NA        </td><td>NA        </td><td>NA        </td><td>NA        </td><td>NA        </td><td>21844.16  </td></tr>\n",
       "\t<tr><td>2016-01-01</td><td> 8        </td><td>NA        </td><td>NA        </td><td>NA        </td><td>NA        </td><td>NA        </td><td>NA        </td><td>NA        </td><td>NA        </td><td>...       </td><td>NA        </td><td>NA        </td><td>NA        </td><td>NA        </td><td>NA        </td><td>NA        </td><td>NA        </td><td>NA        </td><td>NA        </td><td>23094.73  </td></tr>\n",
       "\t<tr><td>2016-01-01</td><td> 9        </td><td>NA        </td><td>NA        </td><td>NA        </td><td>NA        </td><td>NA        </td><td>NA        </td><td>NA        </td><td>NA        </td><td>...       </td><td>NA        </td><td>NA        </td><td>NA        </td><td>NA        </td><td>NA        </td><td>NA        </td><td>NA        </td><td>NA        </td><td>NA        </td><td>25202.27  </td></tr>\n",
       "\t<tr><td>2016-01-01</td><td>10        </td><td>NA        </td><td>NA        </td><td>NA        </td><td>NA        </td><td>NA        </td><td>NA        </td><td>NA        </td><td>NA        </td><td>...       </td><td>NA        </td><td>NA        </td><td>NA        </td><td>NA        </td><td>NA        </td><td>NA        </td><td>NA        </td><td>NA        </td><td>NA        </td><td>27224.96  </td></tr>\n",
       "\t<tr><td>2016-01-01</td><td>11        </td><td>NA        </td><td>NA        </td><td>NA        </td><td>NA        </td><td>NA        </td><td>NA        </td><td>NA        </td><td>NA        </td><td>...       </td><td>NA        </td><td>NA        </td><td>NA        </td><td>NA        </td><td>NA        </td><td>NA        </td><td>NA        </td><td>NA        </td><td>NA        </td><td>28908.04  </td></tr>\n",
       "\t<tr><td>2016-01-01</td><td>12        </td><td>NA        </td><td>NA        </td><td>NA        </td><td>NA        </td><td>NA        </td><td>NA        </td><td>NA        </td><td>NA        </td><td>...       </td><td>NA        </td><td>NA        </td><td>NA        </td><td>NA        </td><td>NA        </td><td>NA        </td><td>NA        </td><td>NA        </td><td>NA        </td><td>28789.25  </td></tr>\n",
       "\t<tr><td>2016-01-01</td><td>13        </td><td>NA        </td><td>NA        </td><td>NA        </td><td>NA        </td><td>NA        </td><td>NA        </td><td>NA        </td><td>NA        </td><td>...       </td><td>NA        </td><td>NA        </td><td>NA        </td><td>NA        </td><td>NA        </td><td>NA        </td><td>NA        </td><td>NA        </td><td>NA        </td><td>29367.70  </td></tr>\n",
       "\t<tr><td>2016-01-01</td><td>14        </td><td>NA        </td><td>NA        </td><td>NA        </td><td>NA        </td><td>NA        </td><td>NA        </td><td>NA        </td><td>NA        </td><td>...       </td><td>NA        </td><td>NA        </td><td>NA        </td><td>NA        </td><td>NA        </td><td>NA        </td><td>NA        </td><td>NA        </td><td>NA        </td><td>29548.32  </td></tr>\n",
       "\t<tr><td>2016-01-01</td><td>15        </td><td>NA        </td><td>NA        </td><td>NA        </td><td>NA        </td><td>NA        </td><td>NA        </td><td>NA        </td><td>NA        </td><td>...       </td><td>NA        </td><td>NA        </td><td>NA        </td><td>NA        </td><td>NA        </td><td>NA        </td><td>NA        </td><td>NA        </td><td>NA        </td><td>29390.89  </td></tr>\n",
       "\t<tr><td>2016-01-01</td><td>16        </td><td>NA        </td><td>NA        </td><td>NA        </td><td>NA        </td><td>NA        </td><td>NA        </td><td>NA        </td><td>NA        </td><td>...       </td><td>NA        </td><td>NA        </td><td>NA        </td><td>NA        </td><td>NA        </td><td>NA        </td><td>NA        </td><td>NA        </td><td>NA        </td><td>30734.97  </td></tr>\n",
       "\t<tr><td>2016-01-01</td><td>17        </td><td>NA        </td><td>NA        </td><td>NA        </td><td>NA        </td><td>NA        </td><td>NA        </td><td>NA        </td><td>NA        </td><td>...       </td><td>NA        </td><td>NA        </td><td>NA        </td><td>NA        </td><td>NA        </td><td>NA        </td><td>NA        </td><td>NA        </td><td>NA        </td><td>32048.02  </td></tr>\n",
       "\t<tr><td>2016-01-01</td><td>18        </td><td>NA        </td><td>NA        </td><td>NA        </td><td>NA        </td><td>NA        </td><td>NA        </td><td>NA        </td><td>NA        </td><td>...       </td><td>NA        </td><td>NA        </td><td>NA        </td><td>NA        </td><td>NA        </td><td>NA        </td><td>NA        </td><td>NA        </td><td>NA        </td><td>31438.11  </td></tr>\n",
       "\t<tr><td>2016-01-01</td><td>19        </td><td>NA        </td><td>NA        </td><td>NA        </td><td>NA        </td><td>NA        </td><td>NA        </td><td>NA        </td><td>NA        </td><td>...       </td><td>NA        </td><td>NA        </td><td>NA        </td><td>NA        </td><td>NA        </td><td>NA        </td><td>NA        </td><td>NA        </td><td>NA        </td><td>30728.47  </td></tr>\n",
       "\t<tr><td>2016-01-01</td><td>20        </td><td>NA        </td><td>NA        </td><td>NA        </td><td>NA        </td><td>NA        </td><td>NA        </td><td>NA        </td><td>NA        </td><td>...       </td><td>NA        </td><td>NA        </td><td>NA        </td><td>NA        </td><td>NA        </td><td>NA        </td><td>NA        </td><td>NA        </td><td>NA        </td><td>30166.14  </td></tr>\n",
       "\t<tr><td>2016-01-01</td><td>21        </td><td>NA        </td><td>NA        </td><td>NA        </td><td>NA        </td><td>NA        </td><td>NA        </td><td>NA        </td><td>NA        </td><td>...       </td><td>NA        </td><td>NA        </td><td>NA        </td><td>NA        </td><td>NA        </td><td>NA        </td><td>NA        </td><td>NA        </td><td>NA        </td><td>29461.28  </td></tr>\n",
       "\t<tr><td>2016-01-01</td><td>22        </td><td>NA        </td><td>NA        </td><td>NA        </td><td>NA        </td><td>NA        </td><td>NA        </td><td>NA        </td><td>NA        </td><td>...       </td><td>NA        </td><td>NA        </td><td>NA        </td><td>NA        </td><td>NA        </td><td>NA        </td><td>NA        </td><td>NA        </td><td>NA        </td><td>29242.83  </td></tr>\n",
       "\t<tr><td>2016-01-01</td><td>23        </td><td>NA        </td><td>NA        </td><td>NA        </td><td>NA        </td><td>NA        </td><td>NA        </td><td>NA        </td><td>NA        </td><td>...       </td><td>NA        </td><td>NA        </td><td>NA        </td><td>NA        </td><td>NA        </td><td>NA        </td><td>NA        </td><td>NA        </td><td>NA        </td><td>28069.09  </td></tr>\n",
       "\t<tr><td>2016-01-02</td><td> 0        </td><td>NA        </td><td>NA        </td><td>NA        </td><td>NA        </td><td>NA        </td><td>NA        </td><td>NA        </td><td>NA        </td><td>...       </td><td>NA        </td><td>NA        </td><td>NA        </td><td>NA        </td><td>NA        </td><td>NA        </td><td>NA        </td><td>NA        </td><td>NA        </td><td>26224.60  </td></tr>\n",
       "\t<tr><td>2016-01-02</td><td> 1        </td><td>NA        </td><td>NA        </td><td>NA        </td><td>NA        </td><td>NA        </td><td>NA        </td><td>NA        </td><td>NA        </td><td>...       </td><td>NA        </td><td>NA        </td><td>NA        </td><td>NA        </td><td>NA        </td><td>NA        </td><td>NA        </td><td>NA        </td><td>NA        </td><td>24708.58  </td></tr>\n",
       "\t<tr><td>2016-01-02</td><td> 2        </td><td>NA        </td><td>NA        </td><td>NA        </td><td>NA        </td><td>NA        </td><td>NA        </td><td>NA        </td><td>NA        </td><td>...       </td><td>NA        </td><td>NA        </td><td>NA        </td><td>NA        </td><td>NA        </td><td>NA        </td><td>NA        </td><td>NA        </td><td>NA        </td><td>23771.58  </td></tr>\n",
       "\t<tr><td>2016-01-02</td><td> 3        </td><td>NA        </td><td>NA        </td><td>NA        </td><td>NA        </td><td>NA        </td><td>NA        </td><td>NA        </td><td>NA        </td><td>...       </td><td>NA        </td><td>NA        </td><td>NA        </td><td>NA        </td><td>NA        </td><td>NA        </td><td>NA        </td><td>NA        </td><td>NA        </td><td>22921.29  </td></tr>\n",
       "\t<tr><td>2016-01-02</td><td> 4        </td><td>NA        </td><td>NA        </td><td>NA        </td><td>NA        </td><td>NA        </td><td>NA        </td><td>NA        </td><td>NA        </td><td>...       </td><td>NA        </td><td>NA        </td><td>NA        </td><td>NA        </td><td>NA        </td><td>NA        </td><td>NA        </td><td>NA        </td><td>NA        </td><td>22870.89  </td></tr>\n",
       "\t<tr><td>2016-01-02</td><td> 5        </td><td>NA        </td><td>NA        </td><td>NA        </td><td>NA        </td><td>NA        </td><td>NA        </td><td>NA        </td><td>NA        </td><td>...       </td><td>NA        </td><td>NA        </td><td>NA        </td><td>NA        </td><td>NA        </td><td>NA        </td><td>NA        </td><td>NA        </td><td>NA        </td><td>23325.63  </td></tr>\n",
       "\t<tr><td>...</td><td>...</td><td>...</td><td>...</td><td>...</td><td>...</td><td>...</td><td>...</td><td>...</td><td>...</td><td>   </td><td>...</td><td>...</td><td>...</td><td>...</td><td>...</td><td>...</td><td>...</td><td>...</td><td>...</td><td>...</td></tr>\n",
       "\t<tr><td>2020-11-30</td><td>18        </td><td>33935.56  </td><td>31919.44  </td><td>30439.27  </td><td>30020.41  </td><td>29825.63  </td><td>29984.86  </td><td>30444.97  </td><td>31159.67  </td><td>...       </td><td>37586.08  </td><td>39435.91  </td><td>41569.99  </td><td>41710.94  </td><td>40297.34  </td><td>38951.67  </td><td>37856.67  </td><td>36983.95  </td><td>35594.03  </td><td>42245.38  </td></tr>\n",
       "\t<tr><td>2020-11-30</td><td>19        </td><td>33935.56  </td><td>31919.44  </td><td>30439.27  </td><td>30020.41  </td><td>29825.63  </td><td>29984.86  </td><td>30444.97  </td><td>31159.67  </td><td>...       </td><td>37586.08  </td><td>39435.91  </td><td>41569.99  </td><td>41710.94  </td><td>40297.34  </td><td>38951.67  </td><td>37856.67  </td><td>36983.95  </td><td>35594.03  </td><td>40750.73  </td></tr>\n",
       "\t<tr><td>2020-11-30</td><td>20        </td><td>33935.56  </td><td>31919.44  </td><td>30439.27  </td><td>30020.41  </td><td>29825.63  </td><td>29984.86  </td><td>30444.97  </td><td>31159.67  </td><td>...       </td><td>37586.08  </td><td>39435.91  </td><td>41569.99  </td><td>41710.94  </td><td>40297.34  </td><td>38951.67  </td><td>37856.67  </td><td>36983.95  </td><td>35594.03  </td><td>39294.57  </td></tr>\n",
       "\t<tr><td>2020-11-30</td><td>21        </td><td>33935.56  </td><td>31919.44  </td><td>30439.27  </td><td>30020.41  </td><td>29825.63  </td><td>29984.86  </td><td>30444.97  </td><td>31159.67  </td><td>...       </td><td>37586.08  </td><td>39435.91  </td><td>41569.99  </td><td>41710.94  </td><td>40297.34  </td><td>38951.67  </td><td>37856.67  </td><td>36983.95  </td><td>35594.03  </td><td>38212.74  </td></tr>\n",
       "\t<tr><td>2020-11-30</td><td>22        </td><td>33935.56  </td><td>31919.44  </td><td>30439.27  </td><td>30020.41  </td><td>29825.63  </td><td>29984.86  </td><td>30444.97  </td><td>31159.67  </td><td>...       </td><td>37586.08  </td><td>39435.91  </td><td>41569.99  </td><td>41710.94  </td><td>40297.34  </td><td>38951.67  </td><td>37856.67  </td><td>36983.95  </td><td>35594.03  </td><td>37225.65  </td></tr>\n",
       "\t<tr><td>2020-11-30</td><td>23        </td><td>33935.56  </td><td>31919.44  </td><td>30439.27  </td><td>30020.41  </td><td>29825.63  </td><td>29984.86  </td><td>30444.97  </td><td>31159.67  </td><td>...       </td><td>37586.08  </td><td>39435.91  </td><td>41569.99  </td><td>41710.94  </td><td>40297.34  </td><td>38951.67  </td><td>37856.67  </td><td>36983.95  </td><td>35594.03  </td><td>35775.04  </td></tr>\n",
       "\t<tr><td>2020-12-01</td><td> 0        </td><td>32332.68  </td><td>30410.13  </td><td>29119.33  </td><td>28484.61  </td><td>28150.14  </td><td>28065.44  </td><td>28189.16  </td><td>27883.71  </td><td>...       </td><td>38656.92  </td><td>40396.69  </td><td>42486.34  </td><td>42255.24  </td><td>40895.17  </td><td>39240.65  </td><td>38366.41  </td><td>37446.73  </td><td>36186.83  </td><td>33842.13  </td></tr>\n",
       "\t<tr><td>2020-12-01</td><td> 1        </td><td>32332.68  </td><td>30410.13  </td><td>29119.33  </td><td>28484.61  </td><td>28150.14  </td><td>28065.44  </td><td>28189.16  </td><td>27883.71  </td><td>...       </td><td>38656.92  </td><td>40396.69  </td><td>42486.34  </td><td>42255.24  </td><td>40895.17  </td><td>39240.65  </td><td>38366.41  </td><td>37446.73  </td><td>36186.83  </td><td>32013.00  </td></tr>\n",
       "\t<tr><td>2020-12-01</td><td> 2        </td><td>32332.68  </td><td>30410.13  </td><td>29119.33  </td><td>28484.61  </td><td>28150.14  </td><td>28065.44  </td><td>28189.16  </td><td>27883.71  </td><td>...       </td><td>38656.92  </td><td>40396.69  </td><td>42486.34  </td><td>42255.24  </td><td>40895.17  </td><td>39240.65  </td><td>38366.41  </td><td>37446.73  </td><td>36186.83  </td><td>30884.17  </td></tr>\n",
       "\t<tr><td>2020-12-01</td><td> 3        </td><td>32332.68  </td><td>30410.13  </td><td>29119.33  </td><td>28484.61  </td><td>28150.14  </td><td>28065.44  </td><td>28189.16  </td><td>27883.71  </td><td>...       </td><td>38656.92  </td><td>40396.69  </td><td>42486.34  </td><td>42255.24  </td><td>40895.17  </td><td>39240.65  </td><td>38366.41  </td><td>37446.73  </td><td>36186.83  </td><td>30082.68  </td></tr>\n",
       "\t<tr><td>2020-12-01</td><td> 4        </td><td>32332.68  </td><td>30410.13  </td><td>29119.33  </td><td>28484.61  </td><td>28150.14  </td><td>28065.44  </td><td>28189.16  </td><td>27883.71  </td><td>...       </td><td>38656.92  </td><td>40396.69  </td><td>42486.34  </td><td>42255.24  </td><td>40895.17  </td><td>39240.65  </td><td>38366.41  </td><td>37446.73  </td><td>36186.83  </td><td>29844.18  </td></tr>\n",
       "\t<tr><td>2020-12-01</td><td> 5        </td><td>32332.68  </td><td>30410.13  </td><td>29119.33  </td><td>28484.61  </td><td>28150.14  </td><td>28065.44  </td><td>28189.16  </td><td>27883.71  </td><td>...       </td><td>38656.92  </td><td>40396.69  </td><td>42486.34  </td><td>42255.24  </td><td>40895.17  </td><td>39240.65  </td><td>38366.41  </td><td>37446.73  </td><td>36186.83  </td><td>30100.53  </td></tr>\n",
       "\t<tr><td>2020-12-01</td><td> 6        </td><td>32332.68  </td><td>30410.13  </td><td>29119.33  </td><td>28484.61  </td><td>28150.14  </td><td>28065.44  </td><td>28189.16  </td><td>27883.71  </td><td>...       </td><td>38656.92  </td><td>40396.69  </td><td>42486.34  </td><td>42255.24  </td><td>40895.17  </td><td>39240.65  </td><td>38366.41  </td><td>37446.73  </td><td>36186.83  </td><td>30743.44  </td></tr>\n",
       "\t<tr><td>2020-12-01</td><td> 7        </td><td>32332.68  </td><td>30410.13  </td><td>29119.33  </td><td>28484.61  </td><td>28150.14  </td><td>28065.44  </td><td>28189.16  </td><td>27883.71  </td><td>...       </td><td>38656.92  </td><td>40396.69  </td><td>42486.34  </td><td>42255.24  </td><td>40895.17  </td><td>39240.65  </td><td>38366.41  </td><td>37446.73  </td><td>36186.83  </td><td>32279.80  </td></tr>\n",
       "\t<tr><td>2020-12-01</td><td> 8        </td><td>32332.68  </td><td>30410.13  </td><td>29119.33  </td><td>28484.61  </td><td>28150.14  </td><td>28065.44  </td><td>28189.16  </td><td>27883.71  </td><td>...       </td><td>38656.92  </td><td>40396.69  </td><td>42486.34  </td><td>42255.24  </td><td>40895.17  </td><td>39240.65  </td><td>38366.41  </td><td>37446.73  </td><td>36186.83  </td><td>36657.05  </td></tr>\n",
       "\t<tr><td>2020-12-01</td><td> 9        </td><td>32332.68  </td><td>30410.13  </td><td>29119.33  </td><td>28484.61  </td><td>28150.14  </td><td>28065.44  </td><td>28189.16  </td><td>27883.71  </td><td>...       </td><td>38656.92  </td><td>40396.69  </td><td>42486.34  </td><td>42255.24  </td><td>40895.17  </td><td>39240.65  </td><td>38366.41  </td><td>37446.73  </td><td>36186.83  </td><td>39815.64  </td></tr>\n",
       "\t<tr><td>2020-12-01</td><td>10        </td><td>32332.68  </td><td>30410.13  </td><td>29119.33  </td><td>28484.61  </td><td>28150.14  </td><td>28065.44  </td><td>28189.16  </td><td>27883.71  </td><td>...       </td><td>38656.92  </td><td>40396.69  </td><td>42486.34  </td><td>42255.24  </td><td>40895.17  </td><td>39240.65  </td><td>38366.41  </td><td>37446.73  </td><td>36186.83  </td><td>40846.18  </td></tr>\n",
       "\t<tr><td>2020-12-01</td><td>11        </td><td>32332.68  </td><td>30410.13  </td><td>29119.33  </td><td>28484.61  </td><td>28150.14  </td><td>28065.44  </td><td>28189.16  </td><td>27883.71  </td><td>...       </td><td>38656.92  </td><td>40396.69  </td><td>42486.34  </td><td>42255.24  </td><td>40895.17  </td><td>39240.65  </td><td>38366.41  </td><td>37446.73  </td><td>36186.83  </td><td>41320.19  </td></tr>\n",
       "\t<tr><td>2020-12-01</td><td>12        </td><td>32332.68  </td><td>30410.13  </td><td>29119.33  </td><td>28484.61  </td><td>28150.14  </td><td>28065.44  </td><td>28189.16  </td><td>27883.71  </td><td>...       </td><td>38656.92  </td><td>40396.69  </td><td>42486.34  </td><td>42255.24  </td><td>40895.17  </td><td>39240.65  </td><td>38366.41  </td><td>37446.73  </td><td>36186.83  </td><td>40054.73  </td></tr>\n",
       "\t<tr><td>2020-12-01</td><td>13        </td><td>32332.68  </td><td>30410.13  </td><td>29119.33  </td><td>28484.61  </td><td>28150.14  </td><td>28065.44  </td><td>28189.16  </td><td>27883.71  </td><td>...       </td><td>38656.92  </td><td>40396.69  </td><td>42486.34  </td><td>42255.24  </td><td>40895.17  </td><td>39240.65  </td><td>38366.41  </td><td>37446.73  </td><td>36186.83  </td><td>40874.30  </td></tr>\n",
       "\t<tr><td>2020-12-01</td><td>14        </td><td>32332.68  </td><td>30410.13  </td><td>29119.33  </td><td>28484.61  </td><td>28150.14  </td><td>28065.44  </td><td>28189.16  </td><td>27883.71  </td><td>...       </td><td>38656.92  </td><td>40396.69  </td><td>42486.34  </td><td>42255.24  </td><td>40895.17  </td><td>39240.65  </td><td>38366.41  </td><td>37446.73  </td><td>36186.83  </td><td>41812.33  </td></tr>\n",
       "\t<tr><td>2020-12-01</td><td>15        </td><td>32332.68  </td><td>30410.13  </td><td>29119.33  </td><td>28484.61  </td><td>28150.14  </td><td>28065.44  </td><td>28189.16  </td><td>27883.71  </td><td>...       </td><td>38656.92  </td><td>40396.69  </td><td>42486.34  </td><td>42255.24  </td><td>40895.17  </td><td>39240.65  </td><td>38366.41  </td><td>37446.73  </td><td>36186.83  </td><td>41722.82  </td></tr>\n",
       "\t<tr><td>2020-12-01</td><td>16        </td><td>32332.68  </td><td>30410.13  </td><td>29119.33  </td><td>28484.61  </td><td>28150.14  </td><td>28065.44  </td><td>28189.16  </td><td>27883.71  </td><td>...       </td><td>38656.92  </td><td>40396.69  </td><td>42486.34  </td><td>42255.24  </td><td>40895.17  </td><td>39240.65  </td><td>38366.41  </td><td>37446.73  </td><td>36186.83  </td><td>42341.25  </td></tr>\n",
       "\t<tr><td>2020-12-01</td><td>17        </td><td>32332.68  </td><td>30410.13  </td><td>29119.33  </td><td>28484.61  </td><td>28150.14  </td><td>28065.44  </td><td>28189.16  </td><td>27883.71  </td><td>...       </td><td>38656.92  </td><td>40396.69  </td><td>42486.34  </td><td>42255.24  </td><td>40895.17  </td><td>39240.65  </td><td>38366.41  </td><td>37446.73  </td><td>36186.83  </td><td>43320.35  </td></tr>\n",
       "\t<tr><td>2020-12-01</td><td>18        </td><td>32332.68  </td><td>30410.13  </td><td>29119.33  </td><td>28484.61  </td><td>28150.14  </td><td>28065.44  </td><td>28189.16  </td><td>27883.71  </td><td>...       </td><td>38656.92  </td><td>40396.69  </td><td>42486.34  </td><td>42255.24  </td><td>40895.17  </td><td>39240.65  </td><td>38366.41  </td><td>37446.73  </td><td>36186.83  </td><td>42292.06  </td></tr>\n",
       "\t<tr><td>2020-12-01</td><td>19        </td><td>32332.68  </td><td>30410.13  </td><td>29119.33  </td><td>28484.61  </td><td>28150.14  </td><td>28065.44  </td><td>28189.16  </td><td>27883.71  </td><td>...       </td><td>38656.92  </td><td>40396.69  </td><td>42486.34  </td><td>42255.24  </td><td>40895.17  </td><td>39240.65  </td><td>38366.41  </td><td>37446.73  </td><td>36186.83  </td><td>40720.16  </td></tr>\n",
       "\t<tr><td>2020-12-01</td><td>20        </td><td>32332.68  </td><td>30410.13  </td><td>29119.33  </td><td>28484.61  </td><td>28150.14  </td><td>28065.44  </td><td>28189.16  </td><td>27883.71  </td><td>...       </td><td>38656.92  </td><td>40396.69  </td><td>42486.34  </td><td>42255.24  </td><td>40895.17  </td><td>39240.65  </td><td>38366.41  </td><td>37446.73  </td><td>36186.83  </td><td>39195.74  </td></tr>\n",
       "\t<tr><td>2020-12-01</td><td>21        </td><td>32332.68  </td><td>30410.13  </td><td>29119.33  </td><td>28484.61  </td><td>28150.14  </td><td>28065.44  </td><td>28189.16  </td><td>27883.71  </td><td>...       </td><td>38656.92  </td><td>40396.69  </td><td>42486.34  </td><td>42255.24  </td><td>40895.17  </td><td>39240.65  </td><td>38366.41  </td><td>37446.73  </td><td>36186.83  </td><td>38310.79  </td></tr>\n",
       "\t<tr><td>2020-12-01</td><td>22        </td><td>32332.68  </td><td>30410.13  </td><td>29119.33  </td><td>28484.61  </td><td>28150.14  </td><td>28065.44  </td><td>28189.16  </td><td>27883.71  </td><td>...       </td><td>38656.92  </td><td>40396.69  </td><td>42486.34  </td><td>42255.24  </td><td>40895.17  </td><td>39240.65  </td><td>38366.41  </td><td>37446.73  </td><td>36186.83  </td><td>37173.97  </td></tr>\n",
       "\t<tr><td>2020-12-01</td><td>23        </td><td>32332.68  </td><td>30410.13  </td><td>29119.33  </td><td>28484.61  </td><td>28150.14  </td><td>28065.44  </td><td>28189.16  </td><td>27883.71  </td><td>...       </td><td>38656.92  </td><td>40396.69  </td><td>42486.34  </td><td>42255.24  </td><td>40895.17  </td><td>39240.65  </td><td>38366.41  </td><td>37446.73  </td><td>36186.83  </td><td>35725.46  </td></tr>\n",
       "</tbody>\n",
       "</table>\n"
      ],
      "text/latex": [
       "\\begin{tabular}{r|lllllllllllllllllllllllllllllllllllllllllllllllllll}\n",
       " date & hour & Lag\\_day2\\_hour\\_0 & Lag\\_day2\\_hour\\_1 & Lag\\_day2\\_hour\\_2 & Lag\\_day2\\_hour\\_3 & Lag\\_day2\\_hour\\_4 & Lag\\_day2\\_hour\\_5 & Lag\\_day2\\_hour\\_6 & Lag\\_day2\\_hour\\_7 & ... & Lag\\_day7\\_hour\\_15 & Lag\\_day7\\_hour\\_16 & Lag\\_day7\\_hour\\_17 & Lag\\_day7\\_hour\\_18 & Lag\\_day7\\_hour\\_19 & Lag\\_day7\\_hour\\_20 & Lag\\_day7\\_hour\\_21 & Lag\\_day7\\_hour\\_22 & Lag\\_day7\\_hour\\_23 & consumption\\\\\n",
       "\\hline\n",
       "\t 2016-01-01 &  0         & NA         & NA         & NA         & NA         & NA         & NA         & NA         & NA         & ...        & NA         & NA         & NA         & NA         & NA         & NA         & NA         & NA         & NA         & 26277.24  \\\\\n",
       "\t 2016-01-01 &  1         & NA         & NA         & NA         & NA         & NA         & NA         & NA         & NA         & ...        & NA         & NA         & NA         & NA         & NA         & NA         & NA         & NA         & NA         & 24991.82  \\\\\n",
       "\t 2016-01-01 &  2         & NA         & NA         & NA         & NA         & NA         & NA         & NA         & NA         & ...        & NA         & NA         & NA         & NA         & NA         & NA         & NA         & NA         & NA         & 23532.61  \\\\\n",
       "\t 2016-01-01 &  3         & NA         & NA         & NA         & NA         & NA         & NA         & NA         & NA         & ...        & NA         & NA         & NA         & NA         & NA         & NA         & NA         & NA         & NA         & 22464.78  \\\\\n",
       "\t 2016-01-01 &  4         & NA         & NA         & NA         & NA         & NA         & NA         & NA         & NA         & ...        & NA         & NA         & NA         & NA         & NA         & NA         & NA         & NA         & NA         & 22002.91  \\\\\n",
       "\t 2016-01-01 &  5         & NA         & NA         & NA         & NA         & NA         & NA         & NA         & NA         & ...        & NA         & NA         & NA         & NA         & NA         & NA         & NA         & NA         & NA         & 21957.08  \\\\\n",
       "\t 2016-01-01 &  6         & NA         & NA         & NA         & NA         & NA         & NA         & NA         & NA         & ...        & NA         & NA         & NA         & NA         & NA         & NA         & NA         & NA         & NA         & 22203.54  \\\\\n",
       "\t 2016-01-01 &  7         & NA         & NA         & NA         & NA         & NA         & NA         & NA         & NA         & ...        & NA         & NA         & NA         & NA         & NA         & NA         & NA         & NA         & NA         & 21844.16  \\\\\n",
       "\t 2016-01-01 &  8         & NA         & NA         & NA         & NA         & NA         & NA         & NA         & NA         & ...        & NA         & NA         & NA         & NA         & NA         & NA         & NA         & NA         & NA         & 23094.73  \\\\\n",
       "\t 2016-01-01 &  9         & NA         & NA         & NA         & NA         & NA         & NA         & NA         & NA         & ...        & NA         & NA         & NA         & NA         & NA         & NA         & NA         & NA         & NA         & 25202.27  \\\\\n",
       "\t 2016-01-01 & 10         & NA         & NA         & NA         & NA         & NA         & NA         & NA         & NA         & ...        & NA         & NA         & NA         & NA         & NA         & NA         & NA         & NA         & NA         & 27224.96  \\\\\n",
       "\t 2016-01-01 & 11         & NA         & NA         & NA         & NA         & NA         & NA         & NA         & NA         & ...        & NA         & NA         & NA         & NA         & NA         & NA         & NA         & NA         & NA         & 28908.04  \\\\\n",
       "\t 2016-01-01 & 12         & NA         & NA         & NA         & NA         & NA         & NA         & NA         & NA         & ...        & NA         & NA         & NA         & NA         & NA         & NA         & NA         & NA         & NA         & 28789.25  \\\\\n",
       "\t 2016-01-01 & 13         & NA         & NA         & NA         & NA         & NA         & NA         & NA         & NA         & ...        & NA         & NA         & NA         & NA         & NA         & NA         & NA         & NA         & NA         & 29367.70  \\\\\n",
       "\t 2016-01-01 & 14         & NA         & NA         & NA         & NA         & NA         & NA         & NA         & NA         & ...        & NA         & NA         & NA         & NA         & NA         & NA         & NA         & NA         & NA         & 29548.32  \\\\\n",
       "\t 2016-01-01 & 15         & NA         & NA         & NA         & NA         & NA         & NA         & NA         & NA         & ...        & NA         & NA         & NA         & NA         & NA         & NA         & NA         & NA         & NA         & 29390.89  \\\\\n",
       "\t 2016-01-01 & 16         & NA         & NA         & NA         & NA         & NA         & NA         & NA         & NA         & ...        & NA         & NA         & NA         & NA         & NA         & NA         & NA         & NA         & NA         & 30734.97  \\\\\n",
       "\t 2016-01-01 & 17         & NA         & NA         & NA         & NA         & NA         & NA         & NA         & NA         & ...        & NA         & NA         & NA         & NA         & NA         & NA         & NA         & NA         & NA         & 32048.02  \\\\\n",
       "\t 2016-01-01 & 18         & NA         & NA         & NA         & NA         & NA         & NA         & NA         & NA         & ...        & NA         & NA         & NA         & NA         & NA         & NA         & NA         & NA         & NA         & 31438.11  \\\\\n",
       "\t 2016-01-01 & 19         & NA         & NA         & NA         & NA         & NA         & NA         & NA         & NA         & ...        & NA         & NA         & NA         & NA         & NA         & NA         & NA         & NA         & NA         & 30728.47  \\\\\n",
       "\t 2016-01-01 & 20         & NA         & NA         & NA         & NA         & NA         & NA         & NA         & NA         & ...        & NA         & NA         & NA         & NA         & NA         & NA         & NA         & NA         & NA         & 30166.14  \\\\\n",
       "\t 2016-01-01 & 21         & NA         & NA         & NA         & NA         & NA         & NA         & NA         & NA         & ...        & NA         & NA         & NA         & NA         & NA         & NA         & NA         & NA         & NA         & 29461.28  \\\\\n",
       "\t 2016-01-01 & 22         & NA         & NA         & NA         & NA         & NA         & NA         & NA         & NA         & ...        & NA         & NA         & NA         & NA         & NA         & NA         & NA         & NA         & NA         & 29242.83  \\\\\n",
       "\t 2016-01-01 & 23         & NA         & NA         & NA         & NA         & NA         & NA         & NA         & NA         & ...        & NA         & NA         & NA         & NA         & NA         & NA         & NA         & NA         & NA         & 28069.09  \\\\\n",
       "\t 2016-01-02 &  0         & NA         & NA         & NA         & NA         & NA         & NA         & NA         & NA         & ...        & NA         & NA         & NA         & NA         & NA         & NA         & NA         & NA         & NA         & 26224.60  \\\\\n",
       "\t 2016-01-02 &  1         & NA         & NA         & NA         & NA         & NA         & NA         & NA         & NA         & ...        & NA         & NA         & NA         & NA         & NA         & NA         & NA         & NA         & NA         & 24708.58  \\\\\n",
       "\t 2016-01-02 &  2         & NA         & NA         & NA         & NA         & NA         & NA         & NA         & NA         & ...        & NA         & NA         & NA         & NA         & NA         & NA         & NA         & NA         & NA         & 23771.58  \\\\\n",
       "\t 2016-01-02 &  3         & NA         & NA         & NA         & NA         & NA         & NA         & NA         & NA         & ...        & NA         & NA         & NA         & NA         & NA         & NA         & NA         & NA         & NA         & 22921.29  \\\\\n",
       "\t 2016-01-02 &  4         & NA         & NA         & NA         & NA         & NA         & NA         & NA         & NA         & ...        & NA         & NA         & NA         & NA         & NA         & NA         & NA         & NA         & NA         & 22870.89  \\\\\n",
       "\t 2016-01-02 &  5         & NA         & NA         & NA         & NA         & NA         & NA         & NA         & NA         & ...        & NA         & NA         & NA         & NA         & NA         & NA         & NA         & NA         & NA         & 23325.63  \\\\\n",
       "\t ... & ... & ... & ... & ... & ... & ... & ... & ... & ... &     & ... & ... & ... & ... & ... & ... & ... & ... & ... & ...\\\\\n",
       "\t 2020-11-30 & 18         & 33935.56   & 31919.44   & 30439.27   & 30020.41   & 29825.63   & 29984.86   & 30444.97   & 31159.67   & ...        & 37586.08   & 39435.91   & 41569.99   & 41710.94   & 40297.34   & 38951.67   & 37856.67   & 36983.95   & 35594.03   & 42245.38  \\\\\n",
       "\t 2020-11-30 & 19         & 33935.56   & 31919.44   & 30439.27   & 30020.41   & 29825.63   & 29984.86   & 30444.97   & 31159.67   & ...        & 37586.08   & 39435.91   & 41569.99   & 41710.94   & 40297.34   & 38951.67   & 37856.67   & 36983.95   & 35594.03   & 40750.73  \\\\\n",
       "\t 2020-11-30 & 20         & 33935.56   & 31919.44   & 30439.27   & 30020.41   & 29825.63   & 29984.86   & 30444.97   & 31159.67   & ...        & 37586.08   & 39435.91   & 41569.99   & 41710.94   & 40297.34   & 38951.67   & 37856.67   & 36983.95   & 35594.03   & 39294.57  \\\\\n",
       "\t 2020-11-30 & 21         & 33935.56   & 31919.44   & 30439.27   & 30020.41   & 29825.63   & 29984.86   & 30444.97   & 31159.67   & ...        & 37586.08   & 39435.91   & 41569.99   & 41710.94   & 40297.34   & 38951.67   & 37856.67   & 36983.95   & 35594.03   & 38212.74  \\\\\n",
       "\t 2020-11-30 & 22         & 33935.56   & 31919.44   & 30439.27   & 30020.41   & 29825.63   & 29984.86   & 30444.97   & 31159.67   & ...        & 37586.08   & 39435.91   & 41569.99   & 41710.94   & 40297.34   & 38951.67   & 37856.67   & 36983.95   & 35594.03   & 37225.65  \\\\\n",
       "\t 2020-11-30 & 23         & 33935.56   & 31919.44   & 30439.27   & 30020.41   & 29825.63   & 29984.86   & 30444.97   & 31159.67   & ...        & 37586.08   & 39435.91   & 41569.99   & 41710.94   & 40297.34   & 38951.67   & 37856.67   & 36983.95   & 35594.03   & 35775.04  \\\\\n",
       "\t 2020-12-01 &  0         & 32332.68   & 30410.13   & 29119.33   & 28484.61   & 28150.14   & 28065.44   & 28189.16   & 27883.71   & ...        & 38656.92   & 40396.69   & 42486.34   & 42255.24   & 40895.17   & 39240.65   & 38366.41   & 37446.73   & 36186.83   & 33842.13  \\\\\n",
       "\t 2020-12-01 &  1         & 32332.68   & 30410.13   & 29119.33   & 28484.61   & 28150.14   & 28065.44   & 28189.16   & 27883.71   & ...        & 38656.92   & 40396.69   & 42486.34   & 42255.24   & 40895.17   & 39240.65   & 38366.41   & 37446.73   & 36186.83   & 32013.00  \\\\\n",
       "\t 2020-12-01 &  2         & 32332.68   & 30410.13   & 29119.33   & 28484.61   & 28150.14   & 28065.44   & 28189.16   & 27883.71   & ...        & 38656.92   & 40396.69   & 42486.34   & 42255.24   & 40895.17   & 39240.65   & 38366.41   & 37446.73   & 36186.83   & 30884.17  \\\\\n",
       "\t 2020-12-01 &  3         & 32332.68   & 30410.13   & 29119.33   & 28484.61   & 28150.14   & 28065.44   & 28189.16   & 27883.71   & ...        & 38656.92   & 40396.69   & 42486.34   & 42255.24   & 40895.17   & 39240.65   & 38366.41   & 37446.73   & 36186.83   & 30082.68  \\\\\n",
       "\t 2020-12-01 &  4         & 32332.68   & 30410.13   & 29119.33   & 28484.61   & 28150.14   & 28065.44   & 28189.16   & 27883.71   & ...        & 38656.92   & 40396.69   & 42486.34   & 42255.24   & 40895.17   & 39240.65   & 38366.41   & 37446.73   & 36186.83   & 29844.18  \\\\\n",
       "\t 2020-12-01 &  5         & 32332.68   & 30410.13   & 29119.33   & 28484.61   & 28150.14   & 28065.44   & 28189.16   & 27883.71   & ...        & 38656.92   & 40396.69   & 42486.34   & 42255.24   & 40895.17   & 39240.65   & 38366.41   & 37446.73   & 36186.83   & 30100.53  \\\\\n",
       "\t 2020-12-01 &  6         & 32332.68   & 30410.13   & 29119.33   & 28484.61   & 28150.14   & 28065.44   & 28189.16   & 27883.71   & ...        & 38656.92   & 40396.69   & 42486.34   & 42255.24   & 40895.17   & 39240.65   & 38366.41   & 37446.73   & 36186.83   & 30743.44  \\\\\n",
       "\t 2020-12-01 &  7         & 32332.68   & 30410.13   & 29119.33   & 28484.61   & 28150.14   & 28065.44   & 28189.16   & 27883.71   & ...        & 38656.92   & 40396.69   & 42486.34   & 42255.24   & 40895.17   & 39240.65   & 38366.41   & 37446.73   & 36186.83   & 32279.80  \\\\\n",
       "\t 2020-12-01 &  8         & 32332.68   & 30410.13   & 29119.33   & 28484.61   & 28150.14   & 28065.44   & 28189.16   & 27883.71   & ...        & 38656.92   & 40396.69   & 42486.34   & 42255.24   & 40895.17   & 39240.65   & 38366.41   & 37446.73   & 36186.83   & 36657.05  \\\\\n",
       "\t 2020-12-01 &  9         & 32332.68   & 30410.13   & 29119.33   & 28484.61   & 28150.14   & 28065.44   & 28189.16   & 27883.71   & ...        & 38656.92   & 40396.69   & 42486.34   & 42255.24   & 40895.17   & 39240.65   & 38366.41   & 37446.73   & 36186.83   & 39815.64  \\\\\n",
       "\t 2020-12-01 & 10         & 32332.68   & 30410.13   & 29119.33   & 28484.61   & 28150.14   & 28065.44   & 28189.16   & 27883.71   & ...        & 38656.92   & 40396.69   & 42486.34   & 42255.24   & 40895.17   & 39240.65   & 38366.41   & 37446.73   & 36186.83   & 40846.18  \\\\\n",
       "\t 2020-12-01 & 11         & 32332.68   & 30410.13   & 29119.33   & 28484.61   & 28150.14   & 28065.44   & 28189.16   & 27883.71   & ...        & 38656.92   & 40396.69   & 42486.34   & 42255.24   & 40895.17   & 39240.65   & 38366.41   & 37446.73   & 36186.83   & 41320.19  \\\\\n",
       "\t 2020-12-01 & 12         & 32332.68   & 30410.13   & 29119.33   & 28484.61   & 28150.14   & 28065.44   & 28189.16   & 27883.71   & ...        & 38656.92   & 40396.69   & 42486.34   & 42255.24   & 40895.17   & 39240.65   & 38366.41   & 37446.73   & 36186.83   & 40054.73  \\\\\n",
       "\t 2020-12-01 & 13         & 32332.68   & 30410.13   & 29119.33   & 28484.61   & 28150.14   & 28065.44   & 28189.16   & 27883.71   & ...        & 38656.92   & 40396.69   & 42486.34   & 42255.24   & 40895.17   & 39240.65   & 38366.41   & 37446.73   & 36186.83   & 40874.30  \\\\\n",
       "\t 2020-12-01 & 14         & 32332.68   & 30410.13   & 29119.33   & 28484.61   & 28150.14   & 28065.44   & 28189.16   & 27883.71   & ...        & 38656.92   & 40396.69   & 42486.34   & 42255.24   & 40895.17   & 39240.65   & 38366.41   & 37446.73   & 36186.83   & 41812.33  \\\\\n",
       "\t 2020-12-01 & 15         & 32332.68   & 30410.13   & 29119.33   & 28484.61   & 28150.14   & 28065.44   & 28189.16   & 27883.71   & ...        & 38656.92   & 40396.69   & 42486.34   & 42255.24   & 40895.17   & 39240.65   & 38366.41   & 37446.73   & 36186.83   & 41722.82  \\\\\n",
       "\t 2020-12-01 & 16         & 32332.68   & 30410.13   & 29119.33   & 28484.61   & 28150.14   & 28065.44   & 28189.16   & 27883.71   & ...        & 38656.92   & 40396.69   & 42486.34   & 42255.24   & 40895.17   & 39240.65   & 38366.41   & 37446.73   & 36186.83   & 42341.25  \\\\\n",
       "\t 2020-12-01 & 17         & 32332.68   & 30410.13   & 29119.33   & 28484.61   & 28150.14   & 28065.44   & 28189.16   & 27883.71   & ...        & 38656.92   & 40396.69   & 42486.34   & 42255.24   & 40895.17   & 39240.65   & 38366.41   & 37446.73   & 36186.83   & 43320.35  \\\\\n",
       "\t 2020-12-01 & 18         & 32332.68   & 30410.13   & 29119.33   & 28484.61   & 28150.14   & 28065.44   & 28189.16   & 27883.71   & ...        & 38656.92   & 40396.69   & 42486.34   & 42255.24   & 40895.17   & 39240.65   & 38366.41   & 37446.73   & 36186.83   & 42292.06  \\\\\n",
       "\t 2020-12-01 & 19         & 32332.68   & 30410.13   & 29119.33   & 28484.61   & 28150.14   & 28065.44   & 28189.16   & 27883.71   & ...        & 38656.92   & 40396.69   & 42486.34   & 42255.24   & 40895.17   & 39240.65   & 38366.41   & 37446.73   & 36186.83   & 40720.16  \\\\\n",
       "\t 2020-12-01 & 20         & 32332.68   & 30410.13   & 29119.33   & 28484.61   & 28150.14   & 28065.44   & 28189.16   & 27883.71   & ...        & 38656.92   & 40396.69   & 42486.34   & 42255.24   & 40895.17   & 39240.65   & 38366.41   & 37446.73   & 36186.83   & 39195.74  \\\\\n",
       "\t 2020-12-01 & 21         & 32332.68   & 30410.13   & 29119.33   & 28484.61   & 28150.14   & 28065.44   & 28189.16   & 27883.71   & ...        & 38656.92   & 40396.69   & 42486.34   & 42255.24   & 40895.17   & 39240.65   & 38366.41   & 37446.73   & 36186.83   & 38310.79  \\\\\n",
       "\t 2020-12-01 & 22         & 32332.68   & 30410.13   & 29119.33   & 28484.61   & 28150.14   & 28065.44   & 28189.16   & 27883.71   & ...        & 38656.92   & 40396.69   & 42486.34   & 42255.24   & 40895.17   & 39240.65   & 38366.41   & 37446.73   & 36186.83   & 37173.97  \\\\\n",
       "\t 2020-12-01 & 23         & 32332.68   & 30410.13   & 29119.33   & 28484.61   & 28150.14   & 28065.44   & 28189.16   & 27883.71   & ...        & 38656.92   & 40396.69   & 42486.34   & 42255.24   & 40895.17   & 39240.65   & 38366.41   & 37446.73   & 36186.83   & 35725.46  \\\\\n",
       "\\end{tabular}\n"
      ],
      "text/markdown": [
       "\n",
       "| date | hour | Lag_day2_hour_0 | Lag_day2_hour_1 | Lag_day2_hour_2 | Lag_day2_hour_3 | Lag_day2_hour_4 | Lag_day2_hour_5 | Lag_day2_hour_6 | Lag_day2_hour_7 | ... | Lag_day7_hour_15 | Lag_day7_hour_16 | Lag_day7_hour_17 | Lag_day7_hour_18 | Lag_day7_hour_19 | Lag_day7_hour_20 | Lag_day7_hour_21 | Lag_day7_hour_22 | Lag_day7_hour_23 | consumption |\n",
       "|---|---|---|---|---|---|---|---|---|---|---|---|---|---|---|---|---|---|---|---|---|\n",
       "| 2016-01-01 |  0         | NA         | NA         | NA         | NA         | NA         | NA         | NA         | NA         | ...        | NA         | NA         | NA         | NA         | NA         | NA         | NA         | NA         | NA         | 26277.24   |\n",
       "| 2016-01-01 |  1         | NA         | NA         | NA         | NA         | NA         | NA         | NA         | NA         | ...        | NA         | NA         | NA         | NA         | NA         | NA         | NA         | NA         | NA         | 24991.82   |\n",
       "| 2016-01-01 |  2         | NA         | NA         | NA         | NA         | NA         | NA         | NA         | NA         | ...        | NA         | NA         | NA         | NA         | NA         | NA         | NA         | NA         | NA         | 23532.61   |\n",
       "| 2016-01-01 |  3         | NA         | NA         | NA         | NA         | NA         | NA         | NA         | NA         | ...        | NA         | NA         | NA         | NA         | NA         | NA         | NA         | NA         | NA         | 22464.78   |\n",
       "| 2016-01-01 |  4         | NA         | NA         | NA         | NA         | NA         | NA         | NA         | NA         | ...        | NA         | NA         | NA         | NA         | NA         | NA         | NA         | NA         | NA         | 22002.91   |\n",
       "| 2016-01-01 |  5         | NA         | NA         | NA         | NA         | NA         | NA         | NA         | NA         | ...        | NA         | NA         | NA         | NA         | NA         | NA         | NA         | NA         | NA         | 21957.08   |\n",
       "| 2016-01-01 |  6         | NA         | NA         | NA         | NA         | NA         | NA         | NA         | NA         | ...        | NA         | NA         | NA         | NA         | NA         | NA         | NA         | NA         | NA         | 22203.54   |\n",
       "| 2016-01-01 |  7         | NA         | NA         | NA         | NA         | NA         | NA         | NA         | NA         | ...        | NA         | NA         | NA         | NA         | NA         | NA         | NA         | NA         | NA         | 21844.16   |\n",
       "| 2016-01-01 |  8         | NA         | NA         | NA         | NA         | NA         | NA         | NA         | NA         | ...        | NA         | NA         | NA         | NA         | NA         | NA         | NA         | NA         | NA         | 23094.73   |\n",
       "| 2016-01-01 |  9         | NA         | NA         | NA         | NA         | NA         | NA         | NA         | NA         | ...        | NA         | NA         | NA         | NA         | NA         | NA         | NA         | NA         | NA         | 25202.27   |\n",
       "| 2016-01-01 | 10         | NA         | NA         | NA         | NA         | NA         | NA         | NA         | NA         | ...        | NA         | NA         | NA         | NA         | NA         | NA         | NA         | NA         | NA         | 27224.96   |\n",
       "| 2016-01-01 | 11         | NA         | NA         | NA         | NA         | NA         | NA         | NA         | NA         | ...        | NA         | NA         | NA         | NA         | NA         | NA         | NA         | NA         | NA         | 28908.04   |\n",
       "| 2016-01-01 | 12         | NA         | NA         | NA         | NA         | NA         | NA         | NA         | NA         | ...        | NA         | NA         | NA         | NA         | NA         | NA         | NA         | NA         | NA         | 28789.25   |\n",
       "| 2016-01-01 | 13         | NA         | NA         | NA         | NA         | NA         | NA         | NA         | NA         | ...        | NA         | NA         | NA         | NA         | NA         | NA         | NA         | NA         | NA         | 29367.70   |\n",
       "| 2016-01-01 | 14         | NA         | NA         | NA         | NA         | NA         | NA         | NA         | NA         | ...        | NA         | NA         | NA         | NA         | NA         | NA         | NA         | NA         | NA         | 29548.32   |\n",
       "| 2016-01-01 | 15         | NA         | NA         | NA         | NA         | NA         | NA         | NA         | NA         | ...        | NA         | NA         | NA         | NA         | NA         | NA         | NA         | NA         | NA         | 29390.89   |\n",
       "| 2016-01-01 | 16         | NA         | NA         | NA         | NA         | NA         | NA         | NA         | NA         | ...        | NA         | NA         | NA         | NA         | NA         | NA         | NA         | NA         | NA         | 30734.97   |\n",
       "| 2016-01-01 | 17         | NA         | NA         | NA         | NA         | NA         | NA         | NA         | NA         | ...        | NA         | NA         | NA         | NA         | NA         | NA         | NA         | NA         | NA         | 32048.02   |\n",
       "| 2016-01-01 | 18         | NA         | NA         | NA         | NA         | NA         | NA         | NA         | NA         | ...        | NA         | NA         | NA         | NA         | NA         | NA         | NA         | NA         | NA         | 31438.11   |\n",
       "| 2016-01-01 | 19         | NA         | NA         | NA         | NA         | NA         | NA         | NA         | NA         | ...        | NA         | NA         | NA         | NA         | NA         | NA         | NA         | NA         | NA         | 30728.47   |\n",
       "| 2016-01-01 | 20         | NA         | NA         | NA         | NA         | NA         | NA         | NA         | NA         | ...        | NA         | NA         | NA         | NA         | NA         | NA         | NA         | NA         | NA         | 30166.14   |\n",
       "| 2016-01-01 | 21         | NA         | NA         | NA         | NA         | NA         | NA         | NA         | NA         | ...        | NA         | NA         | NA         | NA         | NA         | NA         | NA         | NA         | NA         | 29461.28   |\n",
       "| 2016-01-01 | 22         | NA         | NA         | NA         | NA         | NA         | NA         | NA         | NA         | ...        | NA         | NA         | NA         | NA         | NA         | NA         | NA         | NA         | NA         | 29242.83   |\n",
       "| 2016-01-01 | 23         | NA         | NA         | NA         | NA         | NA         | NA         | NA         | NA         | ...        | NA         | NA         | NA         | NA         | NA         | NA         | NA         | NA         | NA         | 28069.09   |\n",
       "| 2016-01-02 |  0         | NA         | NA         | NA         | NA         | NA         | NA         | NA         | NA         | ...        | NA         | NA         | NA         | NA         | NA         | NA         | NA         | NA         | NA         | 26224.60   |\n",
       "| 2016-01-02 |  1         | NA         | NA         | NA         | NA         | NA         | NA         | NA         | NA         | ...        | NA         | NA         | NA         | NA         | NA         | NA         | NA         | NA         | NA         | 24708.58   |\n",
       "| 2016-01-02 |  2         | NA         | NA         | NA         | NA         | NA         | NA         | NA         | NA         | ...        | NA         | NA         | NA         | NA         | NA         | NA         | NA         | NA         | NA         | 23771.58   |\n",
       "| 2016-01-02 |  3         | NA         | NA         | NA         | NA         | NA         | NA         | NA         | NA         | ...        | NA         | NA         | NA         | NA         | NA         | NA         | NA         | NA         | NA         | 22921.29   |\n",
       "| 2016-01-02 |  4         | NA         | NA         | NA         | NA         | NA         | NA         | NA         | NA         | ...        | NA         | NA         | NA         | NA         | NA         | NA         | NA         | NA         | NA         | 22870.89   |\n",
       "| 2016-01-02 |  5         | NA         | NA         | NA         | NA         | NA         | NA         | NA         | NA         | ...        | NA         | NA         | NA         | NA         | NA         | NA         | NA         | NA         | NA         | 23325.63   |\n",
       "| ... | ... | ... | ... | ... | ... | ... | ... | ... | ... |     | ... | ... | ... | ... | ... | ... | ... | ... | ... | ... |\n",
       "| 2020-11-30 | 18         | 33935.56   | 31919.44   | 30439.27   | 30020.41   | 29825.63   | 29984.86   | 30444.97   | 31159.67   | ...        | 37586.08   | 39435.91   | 41569.99   | 41710.94   | 40297.34   | 38951.67   | 37856.67   | 36983.95   | 35594.03   | 42245.38   |\n",
       "| 2020-11-30 | 19         | 33935.56   | 31919.44   | 30439.27   | 30020.41   | 29825.63   | 29984.86   | 30444.97   | 31159.67   | ...        | 37586.08   | 39435.91   | 41569.99   | 41710.94   | 40297.34   | 38951.67   | 37856.67   | 36983.95   | 35594.03   | 40750.73   |\n",
       "| 2020-11-30 | 20         | 33935.56   | 31919.44   | 30439.27   | 30020.41   | 29825.63   | 29984.86   | 30444.97   | 31159.67   | ...        | 37586.08   | 39435.91   | 41569.99   | 41710.94   | 40297.34   | 38951.67   | 37856.67   | 36983.95   | 35594.03   | 39294.57   |\n",
       "| 2020-11-30 | 21         | 33935.56   | 31919.44   | 30439.27   | 30020.41   | 29825.63   | 29984.86   | 30444.97   | 31159.67   | ...        | 37586.08   | 39435.91   | 41569.99   | 41710.94   | 40297.34   | 38951.67   | 37856.67   | 36983.95   | 35594.03   | 38212.74   |\n",
       "| 2020-11-30 | 22         | 33935.56   | 31919.44   | 30439.27   | 30020.41   | 29825.63   | 29984.86   | 30444.97   | 31159.67   | ...        | 37586.08   | 39435.91   | 41569.99   | 41710.94   | 40297.34   | 38951.67   | 37856.67   | 36983.95   | 35594.03   | 37225.65   |\n",
       "| 2020-11-30 | 23         | 33935.56   | 31919.44   | 30439.27   | 30020.41   | 29825.63   | 29984.86   | 30444.97   | 31159.67   | ...        | 37586.08   | 39435.91   | 41569.99   | 41710.94   | 40297.34   | 38951.67   | 37856.67   | 36983.95   | 35594.03   | 35775.04   |\n",
       "| 2020-12-01 |  0         | 32332.68   | 30410.13   | 29119.33   | 28484.61   | 28150.14   | 28065.44   | 28189.16   | 27883.71   | ...        | 38656.92   | 40396.69   | 42486.34   | 42255.24   | 40895.17   | 39240.65   | 38366.41   | 37446.73   | 36186.83   | 33842.13   |\n",
       "| 2020-12-01 |  1         | 32332.68   | 30410.13   | 29119.33   | 28484.61   | 28150.14   | 28065.44   | 28189.16   | 27883.71   | ...        | 38656.92   | 40396.69   | 42486.34   | 42255.24   | 40895.17   | 39240.65   | 38366.41   | 37446.73   | 36186.83   | 32013.00   |\n",
       "| 2020-12-01 |  2         | 32332.68   | 30410.13   | 29119.33   | 28484.61   | 28150.14   | 28065.44   | 28189.16   | 27883.71   | ...        | 38656.92   | 40396.69   | 42486.34   | 42255.24   | 40895.17   | 39240.65   | 38366.41   | 37446.73   | 36186.83   | 30884.17   |\n",
       "| 2020-12-01 |  3         | 32332.68   | 30410.13   | 29119.33   | 28484.61   | 28150.14   | 28065.44   | 28189.16   | 27883.71   | ...        | 38656.92   | 40396.69   | 42486.34   | 42255.24   | 40895.17   | 39240.65   | 38366.41   | 37446.73   | 36186.83   | 30082.68   |\n",
       "| 2020-12-01 |  4         | 32332.68   | 30410.13   | 29119.33   | 28484.61   | 28150.14   | 28065.44   | 28189.16   | 27883.71   | ...        | 38656.92   | 40396.69   | 42486.34   | 42255.24   | 40895.17   | 39240.65   | 38366.41   | 37446.73   | 36186.83   | 29844.18   |\n",
       "| 2020-12-01 |  5         | 32332.68   | 30410.13   | 29119.33   | 28484.61   | 28150.14   | 28065.44   | 28189.16   | 27883.71   | ...        | 38656.92   | 40396.69   | 42486.34   | 42255.24   | 40895.17   | 39240.65   | 38366.41   | 37446.73   | 36186.83   | 30100.53   |\n",
       "| 2020-12-01 |  6         | 32332.68   | 30410.13   | 29119.33   | 28484.61   | 28150.14   | 28065.44   | 28189.16   | 27883.71   | ...        | 38656.92   | 40396.69   | 42486.34   | 42255.24   | 40895.17   | 39240.65   | 38366.41   | 37446.73   | 36186.83   | 30743.44   |\n",
       "| 2020-12-01 |  7         | 32332.68   | 30410.13   | 29119.33   | 28484.61   | 28150.14   | 28065.44   | 28189.16   | 27883.71   | ...        | 38656.92   | 40396.69   | 42486.34   | 42255.24   | 40895.17   | 39240.65   | 38366.41   | 37446.73   | 36186.83   | 32279.80   |\n",
       "| 2020-12-01 |  8         | 32332.68   | 30410.13   | 29119.33   | 28484.61   | 28150.14   | 28065.44   | 28189.16   | 27883.71   | ...        | 38656.92   | 40396.69   | 42486.34   | 42255.24   | 40895.17   | 39240.65   | 38366.41   | 37446.73   | 36186.83   | 36657.05   |\n",
       "| 2020-12-01 |  9         | 32332.68   | 30410.13   | 29119.33   | 28484.61   | 28150.14   | 28065.44   | 28189.16   | 27883.71   | ...        | 38656.92   | 40396.69   | 42486.34   | 42255.24   | 40895.17   | 39240.65   | 38366.41   | 37446.73   | 36186.83   | 39815.64   |\n",
       "| 2020-12-01 | 10         | 32332.68   | 30410.13   | 29119.33   | 28484.61   | 28150.14   | 28065.44   | 28189.16   | 27883.71   | ...        | 38656.92   | 40396.69   | 42486.34   | 42255.24   | 40895.17   | 39240.65   | 38366.41   | 37446.73   | 36186.83   | 40846.18   |\n",
       "| 2020-12-01 | 11         | 32332.68   | 30410.13   | 29119.33   | 28484.61   | 28150.14   | 28065.44   | 28189.16   | 27883.71   | ...        | 38656.92   | 40396.69   | 42486.34   | 42255.24   | 40895.17   | 39240.65   | 38366.41   | 37446.73   | 36186.83   | 41320.19   |\n",
       "| 2020-12-01 | 12         | 32332.68   | 30410.13   | 29119.33   | 28484.61   | 28150.14   | 28065.44   | 28189.16   | 27883.71   | ...        | 38656.92   | 40396.69   | 42486.34   | 42255.24   | 40895.17   | 39240.65   | 38366.41   | 37446.73   | 36186.83   | 40054.73   |\n",
       "| 2020-12-01 | 13         | 32332.68   | 30410.13   | 29119.33   | 28484.61   | 28150.14   | 28065.44   | 28189.16   | 27883.71   | ...        | 38656.92   | 40396.69   | 42486.34   | 42255.24   | 40895.17   | 39240.65   | 38366.41   | 37446.73   | 36186.83   | 40874.30   |\n",
       "| 2020-12-01 | 14         | 32332.68   | 30410.13   | 29119.33   | 28484.61   | 28150.14   | 28065.44   | 28189.16   | 27883.71   | ...        | 38656.92   | 40396.69   | 42486.34   | 42255.24   | 40895.17   | 39240.65   | 38366.41   | 37446.73   | 36186.83   | 41812.33   |\n",
       "| 2020-12-01 | 15         | 32332.68   | 30410.13   | 29119.33   | 28484.61   | 28150.14   | 28065.44   | 28189.16   | 27883.71   | ...        | 38656.92   | 40396.69   | 42486.34   | 42255.24   | 40895.17   | 39240.65   | 38366.41   | 37446.73   | 36186.83   | 41722.82   |\n",
       "| 2020-12-01 | 16         | 32332.68   | 30410.13   | 29119.33   | 28484.61   | 28150.14   | 28065.44   | 28189.16   | 27883.71   | ...        | 38656.92   | 40396.69   | 42486.34   | 42255.24   | 40895.17   | 39240.65   | 38366.41   | 37446.73   | 36186.83   | 42341.25   |\n",
       "| 2020-12-01 | 17         | 32332.68   | 30410.13   | 29119.33   | 28484.61   | 28150.14   | 28065.44   | 28189.16   | 27883.71   | ...        | 38656.92   | 40396.69   | 42486.34   | 42255.24   | 40895.17   | 39240.65   | 38366.41   | 37446.73   | 36186.83   | 43320.35   |\n",
       "| 2020-12-01 | 18         | 32332.68   | 30410.13   | 29119.33   | 28484.61   | 28150.14   | 28065.44   | 28189.16   | 27883.71   | ...        | 38656.92   | 40396.69   | 42486.34   | 42255.24   | 40895.17   | 39240.65   | 38366.41   | 37446.73   | 36186.83   | 42292.06   |\n",
       "| 2020-12-01 | 19         | 32332.68   | 30410.13   | 29119.33   | 28484.61   | 28150.14   | 28065.44   | 28189.16   | 27883.71   | ...        | 38656.92   | 40396.69   | 42486.34   | 42255.24   | 40895.17   | 39240.65   | 38366.41   | 37446.73   | 36186.83   | 40720.16   |\n",
       "| 2020-12-01 | 20         | 32332.68   | 30410.13   | 29119.33   | 28484.61   | 28150.14   | 28065.44   | 28189.16   | 27883.71   | ...        | 38656.92   | 40396.69   | 42486.34   | 42255.24   | 40895.17   | 39240.65   | 38366.41   | 37446.73   | 36186.83   | 39195.74   |\n",
       "| 2020-12-01 | 21         | 32332.68   | 30410.13   | 29119.33   | 28484.61   | 28150.14   | 28065.44   | 28189.16   | 27883.71   | ...        | 38656.92   | 40396.69   | 42486.34   | 42255.24   | 40895.17   | 39240.65   | 38366.41   | 37446.73   | 36186.83   | 38310.79   |\n",
       "| 2020-12-01 | 22         | 32332.68   | 30410.13   | 29119.33   | 28484.61   | 28150.14   | 28065.44   | 28189.16   | 27883.71   | ...        | 38656.92   | 40396.69   | 42486.34   | 42255.24   | 40895.17   | 39240.65   | 38366.41   | 37446.73   | 36186.83   | 37173.97   |\n",
       "| 2020-12-01 | 23         | 32332.68   | 30410.13   | 29119.33   | 28484.61   | 28150.14   | 28065.44   | 28189.16   | 27883.71   | ...        | 38656.92   | 40396.69   | 42486.34   | 42255.24   | 40895.17   | 39240.65   | 38366.41   | 37446.73   | 36186.83   | 35725.46   |\n",
       "\n"
      ],
      "text/plain": [
       "      date       hour Lag_day2_hour_0 Lag_day2_hour_1 Lag_day2_hour_2\n",
       "1     2016-01-01  0   NA              NA              NA             \n",
       "2     2016-01-01  1   NA              NA              NA             \n",
       "3     2016-01-01  2   NA              NA              NA             \n",
       "4     2016-01-01  3   NA              NA              NA             \n",
       "5     2016-01-01  4   NA              NA              NA             \n",
       "6     2016-01-01  5   NA              NA              NA             \n",
       "7     2016-01-01  6   NA              NA              NA             \n",
       "8     2016-01-01  7   NA              NA              NA             \n",
       "9     2016-01-01  8   NA              NA              NA             \n",
       "10    2016-01-01  9   NA              NA              NA             \n",
       "11    2016-01-01 10   NA              NA              NA             \n",
       "12    2016-01-01 11   NA              NA              NA             \n",
       "13    2016-01-01 12   NA              NA              NA             \n",
       "14    2016-01-01 13   NA              NA              NA             \n",
       "15    2016-01-01 14   NA              NA              NA             \n",
       "16    2016-01-01 15   NA              NA              NA             \n",
       "17    2016-01-01 16   NA              NA              NA             \n",
       "18    2016-01-01 17   NA              NA              NA             \n",
       "19    2016-01-01 18   NA              NA              NA             \n",
       "20    2016-01-01 19   NA              NA              NA             \n",
       "21    2016-01-01 20   NA              NA              NA             \n",
       "22    2016-01-01 21   NA              NA              NA             \n",
       "23    2016-01-01 22   NA              NA              NA             \n",
       "24    2016-01-01 23   NA              NA              NA             \n",
       "25    2016-01-02  0   NA              NA              NA             \n",
       "26    2016-01-02  1   NA              NA              NA             \n",
       "27    2016-01-02  2   NA              NA              NA             \n",
       "28    2016-01-02  3   NA              NA              NA             \n",
       "29    2016-01-02  4   NA              NA              NA             \n",
       "30    2016-01-02  5   NA              NA              NA             \n",
       "...   ...        ...  ...             ...             ...            \n",
       "43098 2020-11-30 18   33935.56        31919.44        30439.27       \n",
       "43099 2020-11-30 19   33935.56        31919.44        30439.27       \n",
       "43100 2020-11-30 20   33935.56        31919.44        30439.27       \n",
       "43101 2020-11-30 21   33935.56        31919.44        30439.27       \n",
       "43102 2020-11-30 22   33935.56        31919.44        30439.27       \n",
       "43103 2020-11-30 23   33935.56        31919.44        30439.27       \n",
       "43104 2020-12-01  0   32332.68        30410.13        29119.33       \n",
       "43105 2020-12-01  1   32332.68        30410.13        29119.33       \n",
       "43106 2020-12-01  2   32332.68        30410.13        29119.33       \n",
       "43107 2020-12-01  3   32332.68        30410.13        29119.33       \n",
       "43108 2020-12-01  4   32332.68        30410.13        29119.33       \n",
       "43109 2020-12-01  5   32332.68        30410.13        29119.33       \n",
       "43110 2020-12-01  6   32332.68        30410.13        29119.33       \n",
       "43111 2020-12-01  7   32332.68        30410.13        29119.33       \n",
       "43112 2020-12-01  8   32332.68        30410.13        29119.33       \n",
       "43113 2020-12-01  9   32332.68        30410.13        29119.33       \n",
       "43114 2020-12-01 10   32332.68        30410.13        29119.33       \n",
       "43115 2020-12-01 11   32332.68        30410.13        29119.33       \n",
       "43116 2020-12-01 12   32332.68        30410.13        29119.33       \n",
       "43117 2020-12-01 13   32332.68        30410.13        29119.33       \n",
       "43118 2020-12-01 14   32332.68        30410.13        29119.33       \n",
       "43119 2020-12-01 15   32332.68        30410.13        29119.33       \n",
       "43120 2020-12-01 16   32332.68        30410.13        29119.33       \n",
       "43121 2020-12-01 17   32332.68        30410.13        29119.33       \n",
       "43122 2020-12-01 18   32332.68        30410.13        29119.33       \n",
       "43123 2020-12-01 19   32332.68        30410.13        29119.33       \n",
       "43124 2020-12-01 20   32332.68        30410.13        29119.33       \n",
       "43125 2020-12-01 21   32332.68        30410.13        29119.33       \n",
       "43126 2020-12-01 22   32332.68        30410.13        29119.33       \n",
       "43127 2020-12-01 23   32332.68        30410.13        29119.33       \n",
       "      Lag_day2_hour_3 Lag_day2_hour_4 Lag_day2_hour_5 Lag_day2_hour_6\n",
       "1     NA              NA              NA              NA             \n",
       "2     NA              NA              NA              NA             \n",
       "3     NA              NA              NA              NA             \n",
       "4     NA              NA              NA              NA             \n",
       "5     NA              NA              NA              NA             \n",
       "6     NA              NA              NA              NA             \n",
       "7     NA              NA              NA              NA             \n",
       "8     NA              NA              NA              NA             \n",
       "9     NA              NA              NA              NA             \n",
       "10    NA              NA              NA              NA             \n",
       "11    NA              NA              NA              NA             \n",
       "12    NA              NA              NA              NA             \n",
       "13    NA              NA              NA              NA             \n",
       "14    NA              NA              NA              NA             \n",
       "15    NA              NA              NA              NA             \n",
       "16    NA              NA              NA              NA             \n",
       "17    NA              NA              NA              NA             \n",
       "18    NA              NA              NA              NA             \n",
       "19    NA              NA              NA              NA             \n",
       "20    NA              NA              NA              NA             \n",
       "21    NA              NA              NA              NA             \n",
       "22    NA              NA              NA              NA             \n",
       "23    NA              NA              NA              NA             \n",
       "24    NA              NA              NA              NA             \n",
       "25    NA              NA              NA              NA             \n",
       "26    NA              NA              NA              NA             \n",
       "27    NA              NA              NA              NA             \n",
       "28    NA              NA              NA              NA             \n",
       "29    NA              NA              NA              NA             \n",
       "30    NA              NA              NA              NA             \n",
       "...   ...             ...             ...             ...            \n",
       "43098 30020.41        29825.63        29984.86        30444.97       \n",
       "43099 30020.41        29825.63        29984.86        30444.97       \n",
       "43100 30020.41        29825.63        29984.86        30444.97       \n",
       "43101 30020.41        29825.63        29984.86        30444.97       \n",
       "43102 30020.41        29825.63        29984.86        30444.97       \n",
       "43103 30020.41        29825.63        29984.86        30444.97       \n",
       "43104 28484.61        28150.14        28065.44        28189.16       \n",
       "43105 28484.61        28150.14        28065.44        28189.16       \n",
       "43106 28484.61        28150.14        28065.44        28189.16       \n",
       "43107 28484.61        28150.14        28065.44        28189.16       \n",
       "43108 28484.61        28150.14        28065.44        28189.16       \n",
       "43109 28484.61        28150.14        28065.44        28189.16       \n",
       "43110 28484.61        28150.14        28065.44        28189.16       \n",
       "43111 28484.61        28150.14        28065.44        28189.16       \n",
       "43112 28484.61        28150.14        28065.44        28189.16       \n",
       "43113 28484.61        28150.14        28065.44        28189.16       \n",
       "43114 28484.61        28150.14        28065.44        28189.16       \n",
       "43115 28484.61        28150.14        28065.44        28189.16       \n",
       "43116 28484.61        28150.14        28065.44        28189.16       \n",
       "43117 28484.61        28150.14        28065.44        28189.16       \n",
       "43118 28484.61        28150.14        28065.44        28189.16       \n",
       "43119 28484.61        28150.14        28065.44        28189.16       \n",
       "43120 28484.61        28150.14        28065.44        28189.16       \n",
       "43121 28484.61        28150.14        28065.44        28189.16       \n",
       "43122 28484.61        28150.14        28065.44        28189.16       \n",
       "43123 28484.61        28150.14        28065.44        28189.16       \n",
       "43124 28484.61        28150.14        28065.44        28189.16       \n",
       "43125 28484.61        28150.14        28065.44        28189.16       \n",
       "43126 28484.61        28150.14        28065.44        28189.16       \n",
       "43127 28484.61        28150.14        28065.44        28189.16       \n",
       "      Lag_day2_hour_7 ... Lag_day7_hour_15 Lag_day7_hour_16 Lag_day7_hour_17\n",
       "1     NA              ... NA               NA               NA              \n",
       "2     NA              ... NA               NA               NA              \n",
       "3     NA              ... NA               NA               NA              \n",
       "4     NA              ... NA               NA               NA              \n",
       "5     NA              ... NA               NA               NA              \n",
       "6     NA              ... NA               NA               NA              \n",
       "7     NA              ... NA               NA               NA              \n",
       "8     NA              ... NA               NA               NA              \n",
       "9     NA              ... NA               NA               NA              \n",
       "10    NA              ... NA               NA               NA              \n",
       "11    NA              ... NA               NA               NA              \n",
       "12    NA              ... NA               NA               NA              \n",
       "13    NA              ... NA               NA               NA              \n",
       "14    NA              ... NA               NA               NA              \n",
       "15    NA              ... NA               NA               NA              \n",
       "16    NA              ... NA               NA               NA              \n",
       "17    NA              ... NA               NA               NA              \n",
       "18    NA              ... NA               NA               NA              \n",
       "19    NA              ... NA               NA               NA              \n",
       "20    NA              ... NA               NA               NA              \n",
       "21    NA              ... NA               NA               NA              \n",
       "22    NA              ... NA               NA               NA              \n",
       "23    NA              ... NA               NA               NA              \n",
       "24    NA              ... NA               NA               NA              \n",
       "25    NA              ... NA               NA               NA              \n",
       "26    NA              ... NA               NA               NA              \n",
       "27    NA              ... NA               NA               NA              \n",
       "28    NA              ... NA               NA               NA              \n",
       "29    NA              ... NA               NA               NA              \n",
       "30    NA              ... NA               NA               NA              \n",
       "...   ...                 ...              ...              ...             \n",
       "43098 31159.67        ... 37586.08         39435.91         41569.99        \n",
       "43099 31159.67        ... 37586.08         39435.91         41569.99        \n",
       "43100 31159.67        ... 37586.08         39435.91         41569.99        \n",
       "43101 31159.67        ... 37586.08         39435.91         41569.99        \n",
       "43102 31159.67        ... 37586.08         39435.91         41569.99        \n",
       "43103 31159.67        ... 37586.08         39435.91         41569.99        \n",
       "43104 27883.71        ... 38656.92         40396.69         42486.34        \n",
       "43105 27883.71        ... 38656.92         40396.69         42486.34        \n",
       "43106 27883.71        ... 38656.92         40396.69         42486.34        \n",
       "43107 27883.71        ... 38656.92         40396.69         42486.34        \n",
       "43108 27883.71        ... 38656.92         40396.69         42486.34        \n",
       "43109 27883.71        ... 38656.92         40396.69         42486.34        \n",
       "43110 27883.71        ... 38656.92         40396.69         42486.34        \n",
       "43111 27883.71        ... 38656.92         40396.69         42486.34        \n",
       "43112 27883.71        ... 38656.92         40396.69         42486.34        \n",
       "43113 27883.71        ... 38656.92         40396.69         42486.34        \n",
       "43114 27883.71        ... 38656.92         40396.69         42486.34        \n",
       "43115 27883.71        ... 38656.92         40396.69         42486.34        \n",
       "43116 27883.71        ... 38656.92         40396.69         42486.34        \n",
       "43117 27883.71        ... 38656.92         40396.69         42486.34        \n",
       "43118 27883.71        ... 38656.92         40396.69         42486.34        \n",
       "43119 27883.71        ... 38656.92         40396.69         42486.34        \n",
       "43120 27883.71        ... 38656.92         40396.69         42486.34        \n",
       "43121 27883.71        ... 38656.92         40396.69         42486.34        \n",
       "43122 27883.71        ... 38656.92         40396.69         42486.34        \n",
       "43123 27883.71        ... 38656.92         40396.69         42486.34        \n",
       "43124 27883.71        ... 38656.92         40396.69         42486.34        \n",
       "43125 27883.71        ... 38656.92         40396.69         42486.34        \n",
       "43126 27883.71        ... 38656.92         40396.69         42486.34        \n",
       "43127 27883.71        ... 38656.92         40396.69         42486.34        \n",
       "      Lag_day7_hour_18 Lag_day7_hour_19 Lag_day7_hour_20 Lag_day7_hour_21\n",
       "1     NA               NA               NA               NA              \n",
       "2     NA               NA               NA               NA              \n",
       "3     NA               NA               NA               NA              \n",
       "4     NA               NA               NA               NA              \n",
       "5     NA               NA               NA               NA              \n",
       "6     NA               NA               NA               NA              \n",
       "7     NA               NA               NA               NA              \n",
       "8     NA               NA               NA               NA              \n",
       "9     NA               NA               NA               NA              \n",
       "10    NA               NA               NA               NA              \n",
       "11    NA               NA               NA               NA              \n",
       "12    NA               NA               NA               NA              \n",
       "13    NA               NA               NA               NA              \n",
       "14    NA               NA               NA               NA              \n",
       "15    NA               NA               NA               NA              \n",
       "16    NA               NA               NA               NA              \n",
       "17    NA               NA               NA               NA              \n",
       "18    NA               NA               NA               NA              \n",
       "19    NA               NA               NA               NA              \n",
       "20    NA               NA               NA               NA              \n",
       "21    NA               NA               NA               NA              \n",
       "22    NA               NA               NA               NA              \n",
       "23    NA               NA               NA               NA              \n",
       "24    NA               NA               NA               NA              \n",
       "25    NA               NA               NA               NA              \n",
       "26    NA               NA               NA               NA              \n",
       "27    NA               NA               NA               NA              \n",
       "28    NA               NA               NA               NA              \n",
       "29    NA               NA               NA               NA              \n",
       "30    NA               NA               NA               NA              \n",
       "...   ...              ...              ...              ...             \n",
       "43098 41710.94         40297.34         38951.67         37856.67        \n",
       "43099 41710.94         40297.34         38951.67         37856.67        \n",
       "43100 41710.94         40297.34         38951.67         37856.67        \n",
       "43101 41710.94         40297.34         38951.67         37856.67        \n",
       "43102 41710.94         40297.34         38951.67         37856.67        \n",
       "43103 41710.94         40297.34         38951.67         37856.67        \n",
       "43104 42255.24         40895.17         39240.65         38366.41        \n",
       "43105 42255.24         40895.17         39240.65         38366.41        \n",
       "43106 42255.24         40895.17         39240.65         38366.41        \n",
       "43107 42255.24         40895.17         39240.65         38366.41        \n",
       "43108 42255.24         40895.17         39240.65         38366.41        \n",
       "43109 42255.24         40895.17         39240.65         38366.41        \n",
       "43110 42255.24         40895.17         39240.65         38366.41        \n",
       "43111 42255.24         40895.17         39240.65         38366.41        \n",
       "43112 42255.24         40895.17         39240.65         38366.41        \n",
       "43113 42255.24         40895.17         39240.65         38366.41        \n",
       "43114 42255.24         40895.17         39240.65         38366.41        \n",
       "43115 42255.24         40895.17         39240.65         38366.41        \n",
       "43116 42255.24         40895.17         39240.65         38366.41        \n",
       "43117 42255.24         40895.17         39240.65         38366.41        \n",
       "43118 42255.24         40895.17         39240.65         38366.41        \n",
       "43119 42255.24         40895.17         39240.65         38366.41        \n",
       "43120 42255.24         40895.17         39240.65         38366.41        \n",
       "43121 42255.24         40895.17         39240.65         38366.41        \n",
       "43122 42255.24         40895.17         39240.65         38366.41        \n",
       "43123 42255.24         40895.17         39240.65         38366.41        \n",
       "43124 42255.24         40895.17         39240.65         38366.41        \n",
       "43125 42255.24         40895.17         39240.65         38366.41        \n",
       "43126 42255.24         40895.17         39240.65         38366.41        \n",
       "43127 42255.24         40895.17         39240.65         38366.41        \n",
       "      Lag_day7_hour_22 Lag_day7_hour_23 consumption\n",
       "1     NA               NA               26277.24   \n",
       "2     NA               NA               24991.82   \n",
       "3     NA               NA               23532.61   \n",
       "4     NA               NA               22464.78   \n",
       "5     NA               NA               22002.91   \n",
       "6     NA               NA               21957.08   \n",
       "7     NA               NA               22203.54   \n",
       "8     NA               NA               21844.16   \n",
       "9     NA               NA               23094.73   \n",
       "10    NA               NA               25202.27   \n",
       "11    NA               NA               27224.96   \n",
       "12    NA               NA               28908.04   \n",
       "13    NA               NA               28789.25   \n",
       "14    NA               NA               29367.70   \n",
       "15    NA               NA               29548.32   \n",
       "16    NA               NA               29390.89   \n",
       "17    NA               NA               30734.97   \n",
       "18    NA               NA               32048.02   \n",
       "19    NA               NA               31438.11   \n",
       "20    NA               NA               30728.47   \n",
       "21    NA               NA               30166.14   \n",
       "22    NA               NA               29461.28   \n",
       "23    NA               NA               29242.83   \n",
       "24    NA               NA               28069.09   \n",
       "25    NA               NA               26224.60   \n",
       "26    NA               NA               24708.58   \n",
       "27    NA               NA               23771.58   \n",
       "28    NA               NA               22921.29   \n",
       "29    NA               NA               22870.89   \n",
       "30    NA               NA               23325.63   \n",
       "...   ...              ...              ...        \n",
       "43098 36983.95         35594.03         42245.38   \n",
       "43099 36983.95         35594.03         40750.73   \n",
       "43100 36983.95         35594.03         39294.57   \n",
       "43101 36983.95         35594.03         38212.74   \n",
       "43102 36983.95         35594.03         37225.65   \n",
       "43103 36983.95         35594.03         35775.04   \n",
       "43104 37446.73         36186.83         33842.13   \n",
       "43105 37446.73         36186.83         32013.00   \n",
       "43106 37446.73         36186.83         30884.17   \n",
       "43107 37446.73         36186.83         30082.68   \n",
       "43108 37446.73         36186.83         29844.18   \n",
       "43109 37446.73         36186.83         30100.53   \n",
       "43110 37446.73         36186.83         30743.44   \n",
       "43111 37446.73         36186.83         32279.80   \n",
       "43112 37446.73         36186.83         36657.05   \n",
       "43113 37446.73         36186.83         39815.64   \n",
       "43114 37446.73         36186.83         40846.18   \n",
       "43115 37446.73         36186.83         41320.19   \n",
       "43116 37446.73         36186.83         40054.73   \n",
       "43117 37446.73         36186.83         40874.30   \n",
       "43118 37446.73         36186.83         41812.33   \n",
       "43119 37446.73         36186.83         41722.82   \n",
       "43120 37446.73         36186.83         42341.25   \n",
       "43121 37446.73         36186.83         43320.35   \n",
       "43122 37446.73         36186.83         42292.06   \n",
       "43123 37446.73         36186.83         40720.16   \n",
       "43124 37446.73         36186.83         39195.74   \n",
       "43125 37446.73         36186.83         38310.79   \n",
       "43126 37446.73         36186.83         37173.97   \n",
       "43127 37446.73         36186.83         35725.46   "
      ]
     },
     "metadata": {},
     "output_type": "display_data"
    }
   ],
   "source": [
    "full_dt %>% relocate(consumption, .after = last_col())\n",
    "#full_dt"
   ]
  },
  {
   "cell_type": "code",
   "execution_count": 82,
   "metadata": {},
   "outputs": [],
   "source": [
    "train_d=filter(full_dt,date<=\"2020-10-31\")\n",
    "#train"
   ]
  },
  {
   "cell_type": "code",
   "execution_count": 83,
   "metadata": {},
   "outputs": [],
   "source": [
    "test_d=filter(full_dt,date>\"2020-10-31\")\n",
    "#test"
   ]
  },
  {
   "cell_type": "code",
   "execution_count": 84,
   "metadata": {},
   "outputs": [],
   "source": [
    "names_train<-paste0(\"train_d\",0:23)\n",
    "names_test<-paste0(\"test_d\",0:23)"
   ]
  },
  {
   "cell_type": "code",
   "execution_count": 85,
   "metadata": {},
   "outputs": [],
   "source": [
    "train_split <- split(train_d, train_d$hour)\n",
    "new_names_train <- names_train\n",
    "for (i in 1:length(train_split)) {\n",
    "  assign(new_names_train[i], train_split[[i]])\n",
    "}"
   ]
  },
  {
   "cell_type": "code",
   "execution_count": 86,
   "metadata": {},
   "outputs": [],
   "source": [
    "test_split <- split(test_d, test_d$hour)\n",
    "new_names_test <- names_test\n",
    "for (i in 1:length(test_split)) {\n",
    "  assign(new_names_test[i], test_split[[i]])\n",
    "}"
   ]
  },
  {
   "cell_type": "markdown",
   "metadata": {},
   "source": [
    "## Model Training"
   ]
  },
  {
   "cell_type": "code",
   "execution_count": 87,
   "metadata": {},
   "outputs": [],
   "source": [
    "#print(cvfit$name)\n",
    "#print(cvfit$glmnet.fit)\n",
    "#print(cvfit$lambda.1se)\n",
    "#print(cvfit$lambda.min)\n",
    "#plot(cvfit)\n",
    "#coef(cvfit,s=\"lambda.min\")\n",
    "#coef(cvfit,s=\"lambda.1se\")"
   ]
  },
  {
   "cell_type": "code",
   "execution_count": 88,
   "metadata": {},
   "outputs": [],
   "source": [
    "mape_result_d=rep(0,24)"
   ]
  },
  {
   "cell_type": "code",
   "execution_count": 89,
   "metadata": {},
   "outputs": [],
   "source": [
    "set.seed(1)"
   ]
  },
  {
   "cell_type": "code",
   "execution_count": 90,
   "metadata": {
    "scrolled": false
   },
   "outputs": [],
   "source": [
    "train_mat0=as.matrix(train_d0[complete.cases(train_d0),-c('date',\"hour\",\"consumption\"),with=F])\n",
    "train_mat1=as.matrix(train_d1[complete.cases(train_d1),-c('date',\"hour\",\"consumption\"),with=F])\n",
    "train_mat2=as.matrix(train_d2[complete.cases(train_d2),-c('date',\"hour\",\"consumption\"),with=F])\n",
    "train_mat3=as.matrix(train_d3[complete.cases(train_d3),-c('date',\"hour\",\"consumption\"),with=F])\n",
    "train_mat4=as.matrix(train_d4[complete.cases(train_d4),-c('date',\"hour\",\"consumption\"),with=F])\n",
    "train_mat5=as.matrix(train_d5[complete.cases(train_d5),-c('date',\"hour\",\"consumption\"),with=F])\n",
    "train_mat6=as.matrix(train_d6[complete.cases(train_d6),-c('date',\"hour\",\"consumption\"),with=F])\n",
    "train_mat7=as.matrix(train_d7[complete.cases(train_d7),-c('date',\"hour\",\"consumption\"),with=F])\n",
    "train_mat8=as.matrix(train_d8[complete.cases(train_d8),-c('date',\"hour\",\"consumption\"),with=F])\n",
    "train_mat9=as.matrix(train_d9[complete.cases(train_d9),-c('date',\"hour\",\"consumption\"),with=F])\n",
    "train_mat10=as.matrix(train_d10[complete.cases(train_d10),-c('date',\"hour\",\"consumption\"),with=F])\n",
    "train_mat11=as.matrix(train_d11[complete.cases(train_d11),-c('date',\"hour\",\"consumption\"),with=F])\n",
    "train_mat12=as.matrix(train_d12[complete.cases(train_d12),-c('date',\"hour\",\"consumption\"),with=F])\n",
    "train_mat13=as.matrix(train_d13[complete.cases(train_d13),-c('date',\"hour\",\"consumption\"),with=F])\n",
    "train_mat14=as.matrix(train_d14[complete.cases(train_d14),-c('date',\"hour\",\"consumption\"),with=F])\n",
    "train_mat15=as.matrix(train_d15[complete.cases(train_d15),-c('date',\"hour\",\"consumption\"),with=F])\n",
    "train_mat16=as.matrix(train_d16[complete.cases(train_d16),-c('date',\"hour\",\"consumption\"),with=F])\n",
    "train_mat17=as.matrix(train_d17[complete.cases(train_d17),-c('date',\"hour\",\"consumption\"),with=F])\n",
    "train_mat18=as.matrix(train_d18[complete.cases(train_d18),-c('date',\"hour\",\"consumption\"),with=F])\n",
    "train_mat19=as.matrix(train_d19[complete.cases(train_d19),-c('date',\"hour\",\"consumption\"),with=F])\n",
    "train_mat20=as.matrix(train_d20[complete.cases(train_d20),-c('date',\"hour\",\"consumption\"),with=F])\n",
    "train_mat21=as.matrix(train_d21[complete.cases(train_d21),-c('date',\"hour\",\"consumption\"),with=F])\n",
    "train_mat22=as.matrix(train_d22[complete.cases(train_d22),-c('date',\"hour\",\"consumption\"),with=F])\n",
    "train_mat23=as.matrix(train_d23[complete.cases(train_d23),-c('date',\"hour\",\"consumption\"),with=F])"
   ]
  },
  {
   "cell_type": "code",
   "execution_count": 91,
   "metadata": {},
   "outputs": [],
   "source": [
    "result_vec0=as.vector(t(train_d0[complete.cases(train_d0),\"consumption\"]))\n",
    "result_vec1=as.vector(t(train_d1[complete.cases(train_d1),\"consumption\"]))\n",
    "result_vec2=as.vector(t(train_d2[complete.cases(train_d2),\"consumption\"]))\n",
    "result_vec3=as.vector(t(train_d3[complete.cases(train_d3),\"consumption\"]))\n",
    "result_vec4=as.vector(t(train_d4[complete.cases(train_d4),\"consumption\"]))\n",
    "result_vec5=as.vector(t(train_d5[complete.cases(train_d5),\"consumption\"]))\n",
    "result_vec6=as.vector(t(train_d6[complete.cases(train_d6),\"consumption\"]))\n",
    "result_vec7=as.vector(t(train_d7[complete.cases(train_d7),\"consumption\"]))\n",
    "result_vec8=as.vector(t(train_d8[complete.cases(train_d8),\"consumption\"]))\n",
    "result_vec9=as.vector(t(train_d9[complete.cases(train_d9),\"consumption\"]))\n",
    "result_vec10=as.vector(t(train_d10[complete.cases(train_d10),\"consumption\"]))\n",
    "result_vec11=as.vector(t(train_d11[complete.cases(train_d11),\"consumption\"]))\n",
    "result_vec12=as.vector(t(train_d12[complete.cases(train_d12),\"consumption\"]))\n",
    "result_vec13=as.vector(t(train_d13[complete.cases(train_d13),\"consumption\"]))\n",
    "result_vec14=as.vector(t(train_d14[complete.cases(train_d14),\"consumption\"]))\n",
    "result_vec15=as.vector(t(train_d15[complete.cases(train_d15),\"consumption\"]))\n",
    "result_vec16=as.vector(t(train_d16[complete.cases(train_d16),\"consumption\"]))\n",
    "result_vec17=as.vector(t(train_d17[complete.cases(train_d17),\"consumption\"]))\n",
    "result_vec18=as.vector(t(train_d18[complete.cases(train_d18),\"consumption\"]))\n",
    "result_vec19=as.vector(t(train_d19[complete.cases(train_d19),\"consumption\"]))\n",
    "result_vec20=as.vector(t(train_d20[complete.cases(train_d20),\"consumption\"]))\n",
    "result_vec21=as.vector(t(train_d21[complete.cases(train_d21),\"consumption\"]))\n",
    "result_vec22=as.vector(t(train_d22[complete.cases(train_d22),\"consumption\"]))\n",
    "result_vec23=as.vector(t(train_d23[complete.cases(train_d23),\"consumption\"]))"
   ]
  },
  {
   "cell_type": "markdown",
   "metadata": {},
   "source": [
    "## Important Note: Type of Measure determined as mae"
   ]
  },
  {
   "cell_type": "code",
   "execution_count": 92,
   "metadata": {},
   "outputs": [],
   "source": [
    "cvfit0=cv.glmnet(train_mat0,result_vec0,family='gaussian',nfolds = 10,type.measure=\"mae\")\n",
    "cvfit1=cv.glmnet(train_mat1,result_vec1,family='gaussian',nfolds = 10,type.measure=\"mae\")\n",
    "cvfit2=cv.glmnet(train_mat2,result_vec2,family='gaussian',nfolds = 10,type.measure=\"mae\")\n",
    "cvfit3=cv.glmnet(train_mat3,result_vec3,family='gaussian',nfolds = 10,type.measure=\"mae\")\n",
    "cvfit4=cv.glmnet(train_mat4,result_vec4,family='gaussian',nfolds = 10,type.measure=\"mae\")\n",
    "cvfit5=cv.glmnet(train_mat5,result_vec5,family='gaussian',nfolds = 10,type.measure=\"mae\")\n",
    "cvfit6=cv.glmnet(train_mat6,result_vec6,family='gaussian',nfolds = 10,type.measure=\"mae\")\n",
    "cvfit7=cv.glmnet(train_mat7,result_vec7,family='gaussian',nfolds = 10,type.measure=\"mae\")\n",
    "cvfit8=cv.glmnet(train_mat8,result_vec8,family='gaussian',nfolds = 10,type.measure=\"mae\")\n",
    "cvfit9=cv.glmnet(train_mat9,result_vec9,family='gaussian',nfolds = 10,type.measure=\"mae\")\n",
    "cvfit10=cv.glmnet(train_mat10,result_vec10,family='gaussian',nfolds = 10,type.measure=\"mae\")\n",
    "cvfit11=cv.glmnet(train_mat11,result_vec11,family='gaussian',nfolds = 10,type.measure=\"mae\")\n",
    "cvfit12=cv.glmnet(train_mat12,result_vec12,family='gaussian',nfolds = 10,type.measure=\"mae\")\n",
    "cvfit13=cv.glmnet(train_mat13,result_vec13,family='gaussian',nfolds = 10,type.measure=\"mae\")\n",
    "cvfit14=cv.glmnet(train_mat14,result_vec14,family='gaussian',nfolds = 10,type.measure=\"mae\")\n",
    "cvfit15=cv.glmnet(train_mat15,result_vec15,family='gaussian',nfolds = 10,type.measure=\"mae\")\n",
    "cvfit16=cv.glmnet(train_mat16,result_vec16,family='gaussian',nfolds = 10,type.measure=\"mae\")\n",
    "cvfit17=cv.glmnet(train_mat17,result_vec17,family='gaussian',nfolds = 10,type.measure=\"mae\")\n",
    "cvfit18=cv.glmnet(train_mat18,result_vec18,family='gaussian',nfolds = 10,type.measure=\"mae\")\n",
    "cvfit19=cv.glmnet(train_mat19,result_vec19,family='gaussian',nfolds = 10,type.measure=\"mae\")\n",
    "cvfit20=cv.glmnet(train_mat20,result_vec20,family='gaussian',nfolds = 10,type.measure=\"mae\")\n",
    "cvfit21=cv.glmnet(train_mat21,result_vec21,family='gaussian',nfolds = 10,type.measure=\"mae\")\n",
    "cvfit22=cv.glmnet(train_mat22,result_vec22,family='gaussian',nfolds = 10,type.measure=\"mae\")\n",
    "cvfit23=cv.glmnet(train_mat23,result_vec23,family='gaussian',nfolds = 10,type.measure=\"mae\")"
   ]
  },
  {
   "cell_type": "code",
   "execution_count": 93,
   "metadata": {
    "scrolled": false
   },
   "outputs": [
    {
     "name": "stdout",
     "output_type": "stream",
     "text": [
      "[1] \"Hour 0\"\n",
      "[1] \"Min value for Lambda= 2.69421511209774\"\n",
      "[1] \"1se value for Lambda= 9.02993850173514\"\n",
      "49 x 1 sparse Matrix of class \"dgCMatrix\"\n",
      "                             1\n",
      "(Intercept)      1368.86152133\n",
      "Lag_day2_hour_0    -0.22440602\n",
      "Lag_day2_hour_1    -0.06112433\n",
      "Lag_day2_hour_2     .         \n",
      "Lag_day2_hour_3     .         \n",
      "Lag_day2_hour_4     0.03505511\n",
      "Lag_day2_hour_5     .         \n",
      "Lag_day2_hour_6     .         \n",
      "Lag_day2_hour_7     0.39057738\n",
      "Lag_day2_hour_8     .         \n",
      "Lag_day2_hour_9    -0.58620664\n",
      "Lag_day2_hour_10   -0.14370971\n",
      "Lag_day2_hour_11   -0.10384129\n",
      "Lag_day2_hour_12    .         \n",
      "Lag_day2_hour_13    0.32470760\n",
      "Lag_day2_hour_14    .         \n",
      "Lag_day2_hour_15    .         \n",
      "Lag_day2_hour_16    0.01964243\n",
      "Lag_day2_hour_17    .         \n",
      "Lag_day2_hour_18    .         \n",
      "Lag_day2_hour_19    .         \n",
      "Lag_day2_hour_20   -0.01284033\n",
      "Lag_day2_hour_21    .         \n",
      "Lag_day2_hour_22    0.27314067\n",
      "Lag_day2_hour_23    1.04198291\n",
      "Lag_day7_hour_0     0.08044803\n",
      "Lag_day7_hour_1     .         \n",
      "Lag_day7_hour_2     .         \n",
      "Lag_day7_hour_3     .         \n",
      "Lag_day7_hour_4     .         \n",
      "Lag_day7_hour_5     .         \n",
      "Lag_day7_hour_6     0.12052488\n",
      "Lag_day7_hour_7     0.18682570\n",
      "Lag_day7_hour_8     .         \n",
      "Lag_day7_hour_9     .         \n",
      "Lag_day7_hour_10    .         \n",
      "Lag_day7_hour_11    0.04084598\n",
      "Lag_day7_hour_12    0.02183069\n",
      "Lag_day7_hour_13    .         \n",
      "Lag_day7_hour_14    0.04672106\n",
      "Lag_day7_hour_15    .         \n",
      "Lag_day7_hour_16    .         \n",
      "Lag_day7_hour_17    .         \n",
      "Lag_day7_hour_18   -0.01618301\n",
      "Lag_day7_hour_19   -0.19516967\n",
      "Lag_day7_hour_20   -0.20979365\n",
      "Lag_day7_hour_21    .         \n",
      "Lag_day7_hour_22    .         \n",
      "Lag_day7_hour_23    .         \n",
      "[1] \"Plot for 0'th hour's Cross Validation\"\n"
     ]
    },
    {
     "data": {
      "image/png": "[encoded data removed]",
      "text/plain": [
       "plot without title"
      ]
     },
     "metadata": {},
     "output_type": "display_data"
    },
    {
     "name": "stdout",
     "output_type": "stream",
     "text": [
      "[1] \"Hour 1\"\n",
      "[1] \"Min value for Lambda= 1.78681328807348\"\n",
      "[1] \"1se value for Lambda= 5.45666959736646\"\n",
      "49 x 1 sparse Matrix of class \"dgCMatrix\"\n",
      "                             1\n",
      "(Intercept)       1.370259e+03\n",
      "Lag_day2_hour_0  -4.482659e-01\n",
      "Lag_day2_hour_1   .           \n",
      "Lag_day2_hour_2   .           \n",
      "Lag_day2_hour_3   4.370851e-05\n",
      "Lag_day2_hour_4   2.703915e-01\n",
      "Lag_day2_hour_5   .           \n",
      "Lag_day2_hour_6   .           \n",
      "Lag_day2_hour_7   3.545145e-01\n",
      "Lag_day2_hour_8   .           \n",
      "Lag_day2_hour_9  -5.945923e-01\n",
      "Lag_day2_hour_10  .           \n",
      "Lag_day2_hour_11 -2.856690e-01\n",
      "Lag_day2_hour_12  9.021815e-03\n",
      "Lag_day2_hour_13  3.234469e-01\n",
      "Lag_day2_hour_14  .           \n",
      "Lag_day2_hour_15  .           \n",
      "Lag_day2_hour_16  9.255235e-02\n",
      "Lag_day2_hour_17  .           \n",
      "Lag_day2_hour_18  .           \n",
      "Lag_day2_hour_19  .           \n",
      "Lag_day2_hour_20 -1.436557e-01\n",
      "Lag_day2_hour_21  1.009379e-03\n",
      "Lag_day2_hour_22  3.252758e-01\n",
      "Lag_day2_hour_23  1.043699e+00\n",
      "Lag_day7_hour_0   .           \n",
      "Lag_day7_hour_1   6.851044e-02\n",
      "Lag_day7_hour_2   .           \n",
      "Lag_day7_hour_3   .           \n",
      "Lag_day7_hour_4   .           \n",
      "Lag_day7_hour_5   .           \n",
      "Lag_day7_hour_6   7.413331e-02\n",
      "Lag_day7_hour_7   2.387580e-01\n",
      "Lag_day7_hour_8   .           \n",
      "Lag_day7_hour_9   .           \n",
      "Lag_day7_hour_10  .           \n",
      "Lag_day7_hour_11  .           \n",
      "Lag_day7_hour_12  .           \n",
      "Lag_day7_hour_13  .           \n",
      "Lag_day7_hour_14  1.002548e-01\n",
      "Lag_day7_hour_15  1.536900e-02\n",
      "Lag_day7_hour_16  .           \n",
      "Lag_day7_hour_17 -9.023844e-03\n",
      "Lag_day7_hour_18 -9.111822e-02\n",
      "Lag_day7_hour_19 -8.492483e-02\n",
      "Lag_day7_hour_20 -2.356758e-01\n",
      "Lag_day7_hour_21  .           \n",
      "Lag_day7_hour_22 -5.271443e-03\n",
      "Lag_day7_hour_23  .           \n",
      "[1] \"Plot for 1'th hour's Cross Validation\"\n"
     ]
    },
    {
     "data": {
      "image/png": "[encoded data removed]",
      "text/plain": [
       "plot without title"
      ]
     },
     "metadata": {},
     "output_type": "display_data"
    },
    {
     "name": "stdout",
     "output_type": "stream",
     "text": [
      "[1] \"Hour 2\"\n",
      "[1] \"Min value for Lambda= 2.04912564696771\"\n",
      "[1] \"1se value for Lambda= 9.96408159402096\"\n",
      "49 x 1 sparse Matrix of class \"dgCMatrix\"\n",
      "                             1\n",
      "(Intercept)       1.800329e+03\n",
      "Lag_day2_hour_0  -6.842063e-01\n",
      "Lag_day2_hour_1   .           \n",
      "Lag_day2_hour_2   2.385729e-05\n",
      "Lag_day2_hour_3   2.826531e-01\n",
      "Lag_day2_hour_4   3.037186e-01\n",
      "Lag_day2_hour_5   .           \n",
      "Lag_day2_hour_6   .           \n",
      "Lag_day2_hour_7   2.713106e-01\n",
      "Lag_day2_hour_8   .           \n",
      "Lag_day2_hour_9  -4.730271e-01\n",
      "Lag_day2_hour_10 -1.786534e-01\n",
      "Lag_day2_hour_11 -2.603415e-01\n",
      "Lag_day2_hour_12  1.948278e-01\n",
      "Lag_day2_hour_13  1.818766e-01\n",
      "Lag_day2_hour_14  .           \n",
      "Lag_day2_hour_15  5.520478e-05\n",
      "Lag_day2_hour_16  1.124358e-01\n",
      "Lag_day2_hour_17  .           \n",
      "Lag_day2_hour_18 -2.232604e-02\n",
      "Lag_day2_hour_19  .           \n",
      "Lag_day2_hour_20 -1.540590e-01\n",
      "Lag_day2_hour_21  1.136349e-01\n",
      "Lag_day2_hour_22  2.737914e-01\n",
      "Lag_day2_hour_23  9.844208e-01\n",
      "Lag_day7_hour_0  -2.512746e-02\n",
      "Lag_day7_hour_1   .           \n",
      "Lag_day7_hour_2   .           \n",
      "Lag_day7_hour_3   5.426740e-02\n",
      "Lag_day7_hour_4   .           \n",
      "Lag_day7_hour_5   .           \n",
      "Lag_day7_hour_6   1.043437e-01\n",
      "Lag_day7_hour_7   2.269694e-01\n",
      "Lag_day7_hour_8   3.772277e-02\n",
      "Lag_day7_hour_9   .           \n",
      "Lag_day7_hour_10  .           \n",
      "Lag_day7_hour_11  .           \n",
      "Lag_day7_hour_12  .           \n",
      "Lag_day7_hour_13  .           \n",
      "Lag_day7_hour_14  5.482259e-02\n",
      "Lag_day7_hour_15  6.031312e-02\n",
      "Lag_day7_hour_16  1.399185e-03\n",
      "Lag_day7_hour_17  .           \n",
      "Lag_day7_hour_18 -8.289962e-02\n",
      "Lag_day7_hour_19 -1.010319e-01\n",
      "Lag_day7_hour_20 -2.303430e-01\n",
      "Lag_day7_hour_21  .           \n",
      "Lag_day7_hour_22 -4.223077e-02\n",
      "Lag_day7_hour_23  .           \n",
      "[1] \"Plot for 2'th hour's Cross Validation\"\n"
     ]
    },
    {
     "data": {
      "image/png": "[encoded data removed]",
      "text/plain": [
       "plot without title"
      ]
     },
     "metadata": {},
     "output_type": "display_data"
    },
    {
     "name": "stdout",
     "output_type": "stream",
     "text": [
      "[1] \"Hour 3\"\n",
      "[1] \"Min value for Lambda= 1.01908010939191\"\n",
      "[1] \"1se value for Lambda= 7.18940869746412\"\n",
      "49 x 1 sparse Matrix of class \"dgCMatrix\"\n",
      "                             1\n",
      "(Intercept)       1.924504e+03\n",
      "Lag_day2_hour_0  -6.521702e-01\n",
      "Lag_day2_hour_1  -2.539439e-01\n",
      "Lag_day2_hour_2   .           \n",
      "Lag_day2_hour_3   1.692159e-01\n",
      "Lag_day2_hour_4   6.613499e-01\n",
      "Lag_day2_hour_5   .           \n",
      "Lag_day2_hour_6   .           \n",
      "Lag_day2_hour_7   2.768708e-01\n",
      "Lag_day2_hour_8   .           \n",
      "Lag_day2_hour_9  -5.430618e-01\n",
      "Lag_day2_hour_10 -2.153011e-02\n",
      "Lag_day2_hour_11 -3.300013e-01\n",
      "Lag_day2_hour_12  4.323491e-02\n",
      "Lag_day2_hour_13  3.571806e-01\n",
      "Lag_day2_hour_14 -5.462359e-02\n",
      "Lag_day2_hour_15  5.534575e-03\n",
      "Lag_day2_hour_16  1.004755e-01\n",
      "Lag_day2_hour_17  .           \n",
      "Lag_day2_hour_18  .           \n",
      "Lag_day2_hour_19  2.582739e-02\n",
      "Lag_day2_hour_20 -2.101376e-01\n",
      "Lag_day2_hour_21  7.770036e-02\n",
      "Lag_day2_hour_22  2.900126e-01\n",
      "Lag_day2_hour_23  9.913948e-01\n",
      "Lag_day7_hour_0   .           \n",
      "Lag_day7_hour_1   1.055840e-02\n",
      "Lag_day7_hour_2   .           \n",
      "Lag_day7_hour_3   .           \n",
      "Lag_day7_hour_4   .           \n",
      "Lag_day7_hour_5   .           \n",
      "Lag_day7_hour_6   2.414492e-02\n",
      "Lag_day7_hour_7   3.184974e-01\n",
      "Lag_day7_hour_8   .           \n",
      "Lag_day7_hour_9  -2.858867e-03\n",
      "Lag_day7_hour_10  .           \n",
      "Lag_day7_hour_11  .           \n",
      "Lag_day7_hour_12 -6.515155e-03\n",
      "Lag_day7_hour_13  2.827184e-02\n",
      "Lag_day7_hour_14  3.382778e-02\n",
      "Lag_day7_hour_15  7.080987e-02\n",
      "Lag_day7_hour_16  .           \n",
      "Lag_day7_hour_17 -4.735649e-03\n",
      "Lag_day7_hour_18 -1.177451e-01\n",
      "Lag_day7_hour_19 -7.884480e-02\n",
      "Lag_day7_hour_20 -1.849399e-01\n",
      "Lag_day7_hour_21  .           \n",
      "Lag_day7_hour_22 -3.540756e-02\n",
      "Lag_day7_hour_23  .           \n",
      "[1] \"Plot for 3'th hour's Cross Validation\"\n"
     ]
    },
    {
     "data": {
      "image/png": "[encoded data removed]",
      "text/plain": [
       "plot without title"
      ]
     },
     "metadata": {},
     "output_type": "display_data"
    },
    {
     "name": "stdout",
     "output_type": "stream",
     "text": [
      "[1] \"Hour 4\"\n",
      "[1] \"Min value for Lambda= 3.00660411585782\"\n",
      "[1] \"1se value for Lambda= 9.18173453254706\"\n",
      "49 x 1 sparse Matrix of class \"dgCMatrix\"\n",
      "                             1\n",
      "(Intercept)       1.725107e+03\n",
      "Lag_day2_hour_0  -5.557449e-01\n",
      "Lag_day2_hour_1  -2.298094e-01\n",
      "Lag_day2_hour_2   .           \n",
      "Lag_day2_hour_3   .           \n",
      "Lag_day2_hour_4   6.263802e-01\n",
      "Lag_day2_hour_5   1.021932e-01\n",
      "Lag_day2_hour_6   .           \n",
      "Lag_day2_hour_7   1.995943e-01\n",
      "Lag_day2_hour_8   .           \n",
      "Lag_day2_hour_9  -4.663138e-01\n",
      "Lag_day2_hour_10 -1.296091e-01\n",
      "Lag_day2_hour_11 -1.694535e-01\n",
      "Lag_day2_hour_12  .           \n",
      "Lag_day2_hour_13  3.146706e-01\n",
      "Lag_day2_hour_14  .           \n",
      "Lag_day2_hour_15  .           \n",
      "Lag_day2_hour_16  1.117374e-02\n",
      "Lag_day2_hour_17  .           \n",
      "Lag_day2_hour_18  .           \n",
      "Lag_day2_hour_19  .           \n",
      "Lag_day2_hour_20  .           \n",
      "Lag_day2_hour_21  .           \n",
      "Lag_day2_hour_22  3.175510e-01\n",
      "Lag_day2_hour_23  8.674208e-01\n",
      "Lag_day7_hour_0   .           \n",
      "Lag_day7_hour_1   .           \n",
      "Lag_day7_hour_2   .           \n",
      "Lag_day7_hour_3   .           \n",
      "Lag_day7_hour_4   .           \n",
      "Lag_day7_hour_5   1.102905e-02\n",
      "Lag_day7_hour_6   3.511434e-02\n",
      "Lag_day7_hour_7   2.980120e-01\n",
      "Lag_day7_hour_8   2.525305e-02\n",
      "Lag_day7_hour_9   .           \n",
      "Lag_day7_hour_10  .           \n",
      "Lag_day7_hour_11  .           \n",
      "Lag_day7_hour_12  .           \n",
      "Lag_day7_hour_13  3.412838e-03\n",
      "Lag_day7_hour_14  4.547529e-02\n",
      "Lag_day7_hour_15  4.597992e-02\n",
      "Lag_day7_hour_16  .           \n",
      "Lag_day7_hour_17  .           \n",
      "Lag_day7_hour_18 -1.827504e-02\n",
      "Lag_day7_hour_19 -1.761890e-01\n",
      "Lag_day7_hour_20 -1.469903e-01\n",
      "Lag_day7_hour_21  .           \n",
      "Lag_day7_hour_22 -3.979133e-02\n",
      "Lag_day7_hour_23 -1.797803e-02\n",
      "[1] \"Plot for 4'th hour's Cross Validation\"\n"
     ]
    },
    {
     "data": {
      "image/png": "[encoded data removed]",
      "text/plain": [
       "plot without title"
      ]
     },
     "metadata": {},
     "output_type": "display_data"
    },
    {
     "name": "stdout",
     "output_type": "stream",
     "text": [
      "[1] \"Hour 5\"\n",
      "[1] \"Min value for Lambda= 4.49619383147231\"\n",
      "[1] \"1se value for Lambda= 12.5109264079849\"\n",
      "49 x 1 sparse Matrix of class \"dgCMatrix\"\n",
      "                             1\n",
      "(Intercept)       1.019161e+03\n",
      "Lag_day2_hour_0  -4.895879e-01\n",
      "Lag_day2_hour_1  -3.124841e-01\n",
      "Lag_day2_hour_2   .           \n",
      "Lag_day2_hour_3   .           \n",
      "Lag_day2_hour_4   .           \n",
      "Lag_day2_hour_5   7.229138e-01\n",
      "Lag_day2_hour_6   1.396637e-01\n",
      "Lag_day2_hour_7   7.704330e-02\n",
      "Lag_day2_hour_8   .           \n",
      "Lag_day2_hour_9  -5.872459e-01\n",
      "Lag_day2_hour_10  .           \n",
      "Lag_day2_hour_11 -1.029651e-01\n",
      "Lag_day2_hour_12  .           \n",
      "Lag_day2_hour_13  2.576592e-01\n",
      "Lag_day2_hour_14  .           \n",
      "Lag_day2_hour_15  .           \n",
      "Lag_day2_hour_16  .           \n",
      "Lag_day2_hour_17  .           \n",
      "Lag_day2_hour_18  .           \n",
      "Lag_day2_hour_19  .           \n",
      "Lag_day2_hour_20  .           \n",
      "Lag_day2_hour_21  .           \n",
      "Lag_day2_hour_22  4.135737e-01\n",
      "Lag_day2_hour_23  7.535157e-01\n",
      "Lag_day7_hour_0   .           \n",
      "Lag_day7_hour_1   .           \n",
      "Lag_day7_hour_2  -9.189887e-03\n",
      "Lag_day7_hour_3   .           \n",
      "Lag_day7_hour_4   .           \n",
      "Lag_day7_hour_5   .           \n",
      "Lag_day7_hour_6   3.322620e-02\n",
      "Lag_day7_hour_7   3.077563e-01\n",
      "Lag_day7_hour_8   6.750700e-02\n",
      "Lag_day7_hour_9   .           \n",
      "Lag_day7_hour_10  .           \n",
      "Lag_day7_hour_11  .           \n",
      "Lag_day7_hour_12  .           \n",
      "Lag_day7_hour_13  .           \n",
      "Lag_day7_hour_14  1.614253e-02\n",
      "Lag_day7_hour_15  5.061292e-02\n",
      "Lag_day7_hour_16  .           \n",
      "Lag_day7_hour_17  .           \n",
      "Lag_day7_hour_18  .           \n",
      "Lag_day7_hour_19 -1.371588e-01\n",
      "Lag_day7_hour_20 -2.842575e-02\n",
      "Lag_day7_hour_21 -1.181346e-01\n",
      "Lag_day7_hour_22 -9.302936e-02\n",
      "Lag_day7_hour_23  .           \n",
      "[1] \"Plot for 5'th hour's Cross Validation\"\n"
     ]
    },
    {
     "data": {
      "image/png": "[encoded data removed]",
      "text/plain": [
       "plot without title"
      ]
     },
     "metadata": {},
     "output_type": "display_data"
    },
    {
     "name": "stdout",
     "output_type": "stream",
     "text": [
      "[1] \"Hour 6\"\n",
      "[1] \"Min value for Lambda= 1.00193729522683\"\n",
      "[1] \"1se value for Lambda= 12.3523512465609\"\n",
      "49 x 1 sparse Matrix of class \"dgCMatrix\"\n",
      "                             1\n",
      "(Intercept)       1.749760e+03\n",
      "Lag_day2_hour_0  -5.956721e-01\n",
      "Lag_day2_hour_1  -2.850100e-01\n",
      "Lag_day2_hour_2  -2.116887e-01\n",
      "Lag_day2_hour_3   .           \n",
      "Lag_day2_hour_4   2.390512e-01\n",
      "Lag_day2_hour_5   3.800029e-01\n",
      "Lag_day2_hour_6   6.124618e-01\n",
      "Lag_day2_hour_7   1.371126e-01\n",
      "Lag_day2_hour_8  -1.912465e-02\n",
      "Lag_day2_hour_9  -6.988451e-01\n",
      "Lag_day2_hour_10  .           \n",
      "Lag_day2_hour_11 -1.782031e-01\n",
      "Lag_day2_hour_12  2.310048e-02\n",
      "Lag_day2_hour_13  5.705472e-01\n",
      "Lag_day2_hour_14 -2.155569e-01\n",
      "Lag_day2_hour_15  1.950122e-04\n",
      "Lag_day2_hour_16  4.777512e-03\n",
      "Lag_day2_hour_17  .           \n",
      "Lag_day2_hour_18  .           \n",
      "Lag_day2_hour_19  2.866482e-03\n",
      "Lag_day2_hour_20  .           \n",
      "Lag_day2_hour_21  1.043735e-01\n",
      "Lag_day2_hour_22  3.366017e-01\n",
      "Lag_day2_hour_23  7.398663e-01\n",
      "Lag_day7_hour_0  -1.411005e-02\n",
      "Lag_day7_hour_1   .           \n",
      "Lag_day7_hour_2   .           \n",
      "Lag_day7_hour_3   .           \n",
      "Lag_day7_hour_4  -1.971978e-01\n",
      "Lag_day7_hour_5  -2.063113e-01\n",
      "Lag_day7_hour_6   2.015240e-01\n",
      "Lag_day7_hour_7   6.220723e-01\n",
      "Lag_day7_hour_8   .           \n",
      "Lag_day7_hour_9   .           \n",
      "Lag_day7_hour_10 -1.181716e-06\n",
      "Lag_day7_hour_11 -3.290241e-02\n",
      "Lag_day7_hour_12 -9.126085e-02\n",
      "Lag_day7_hour_13  9.712042e-03\n",
      "Lag_day7_hour_14  3.114081e-02\n",
      "Lag_day7_hour_15  2.026772e-01\n",
      "Lag_day7_hour_16  .           \n",
      "Lag_day7_hour_17 -3.856409e-02\n",
      "Lag_day7_hour_18 -3.777444e-02\n",
      "Lag_day7_hour_19  .           \n",
      "Lag_day7_hour_20 -3.975980e-01\n",
      "Lag_day7_hour_21  .           \n",
      "Lag_day7_hour_22 -5.962188e-03\n",
      "Lag_day7_hour_23  .           \n",
      "[1] \"Plot for 6'th hour's Cross Validation\"\n"
     ]
    },
    {
     "data": {
      "image/png": "[encoded data removed]",
      "text/plain": [
       "plot without title"
      ]
     },
     "metadata": {},
     "output_type": "display_data"
    },
    {
     "name": "stdout",
     "output_type": "stream",
     "text": [
      "[1] \"Hour 7\"\n",
      "[1] \"Min value for Lambda= 2.82149794876375\"\n",
      "[1] \"1se value for Lambda= 9.45653999404346\"\n",
      "49 x 1 sparse Matrix of class \"dgCMatrix\"\n",
      "                             1\n",
      "(Intercept)       2.801575e+03\n",
      "Lag_day2_hour_0  -6.082141e-01\n",
      "Lag_day2_hour_1  -2.677989e-01\n",
      "Lag_day2_hour_2  -1.823681e-01\n",
      "Lag_day2_hour_3   .           \n",
      "Lag_day2_hour_4   7.247340e-02\n",
      "Lag_day2_hour_5   7.494439e-01\n",
      "Lag_day2_hour_6   9.349964e-02\n",
      "Lag_day2_hour_7   4.377055e-01\n",
      "Lag_day2_hour_8  -1.492425e-04\n",
      "Lag_day2_hour_9  -8.320644e-01\n",
      "Lag_day2_hour_10  .           \n",
      "Lag_day2_hour_11 -1.431174e-01\n",
      "Lag_day2_hour_12  .           \n",
      "Lag_day2_hour_13  7.420556e-01\n",
      "Lag_day2_hour_14 -3.304999e-01\n",
      "Lag_day2_hour_15  .           \n",
      "Lag_day2_hour_16  .           \n",
      "Lag_day2_hour_17 -1.517028e-02\n",
      "Lag_day2_hour_18  .           \n",
      "Lag_day2_hour_19  .           \n",
      "Lag_day2_hour_20  1.035212e-01\n",
      "Lag_day2_hour_21  1.241896e-01\n",
      "Lag_day2_hour_22  2.478438e-01\n",
      "Lag_day2_hour_23  7.996758e-01\n",
      "Lag_day7_hour_0  -2.857685e-02\n",
      "Lag_day7_hour_1   .           \n",
      "Lag_day7_hour_2   .           \n",
      "Lag_day7_hour_3   .           \n",
      "Lag_day7_hour_4  -5.940626e-02\n",
      "Lag_day7_hour_5  -7.169845e-01\n",
      "Lag_day7_hour_6   .           \n",
      "Lag_day7_hour_7   1.109575e+00\n",
      "Lag_day7_hour_8   7.436888e-02\n",
      "Lag_day7_hour_9   .           \n",
      "Lag_day7_hour_10  .           \n",
      "Lag_day7_hour_11  .           \n",
      "Lag_day7_hour_12 -1.205133e-01\n",
      "Lag_day7_hour_13  .           \n",
      "Lag_day7_hour_14  .           \n",
      "Lag_day7_hour_15  1.867754e-01\n",
      "Lag_day7_hour_16  5.254254e-02\n",
      "Lag_day7_hour_17  .           \n",
      "Lag_day7_hour_18  .           \n",
      "Lag_day7_hour_19 -1.103921e-01\n",
      "Lag_day7_hour_20 -4.192325e-01\n",
      "Lag_day7_hour_21  .           \n",
      "Lag_day7_hour_22  .           \n",
      "Lag_day7_hour_23  .           \n",
      "[1] \"Plot for 7'th hour's Cross Validation\"\n"
     ]
    },
    {
     "data": {
      "image/png": "[encoded data removed]",
      "text/plain": [
       "plot without title"
      ]
     },
     "metadata": {},
     "output_type": "display_data"
    },
    {
     "name": "stdout",
     "output_type": "stream",
     "text": [
      "[1] \"Hour 8\"\n",
      "[1] \"Min value for Lambda= 4.98418912002518\"\n",
      "[1] \"1se value for Lambda= 15.2209933854307\"\n",
      "49 x 1 sparse Matrix of class \"dgCMatrix\"\n",
      "                             1\n",
      "(Intercept)       4.951590e+03\n",
      "Lag_day2_hour_0  -1.044158e+00\n",
      "Lag_day2_hour_1  -9.898787e-02\n",
      "Lag_day2_hour_2  -2.266860e-01\n",
      "Lag_day2_hour_3   .           \n",
      "Lag_day2_hour_4   1.480620e-04\n",
      "Lag_day2_hour_5   1.230309e+00\n",
      "Lag_day2_hour_6   8.558890e-02\n",
      "Lag_day2_hour_7   3.234478e-01\n",
      "Lag_day2_hour_8   .           \n",
      "Lag_day2_hour_9  -9.010697e-01\n",
      "Lag_day2_hour_10  .           \n",
      "Lag_day2_hour_11 -3.468502e-01\n",
      "Lag_day2_hour_12  .           \n",
      "Lag_day2_hour_13  1.309836e+00\n",
      "Lag_day2_hour_14 -6.078237e-01\n",
      "Lag_day2_hour_15  .           \n",
      "Lag_day2_hour_16  .           \n",
      "Lag_day2_hour_17 -7.455748e-02\n",
      "Lag_day2_hour_18  .           \n",
      "Lag_day2_hour_19  .           \n",
      "Lag_day2_hour_20  2.296502e-01\n",
      "Lag_day2_hour_21  1.810867e-01\n",
      "Lag_day2_hour_22  1.207267e-01\n",
      "Lag_day2_hour_23  1.029941e+00\n",
      "Lag_day7_hour_0   .           \n",
      "Lag_day7_hour_1   .           \n",
      "Lag_day7_hour_2   .           \n",
      "Lag_day7_hour_3   .           \n",
      "Lag_day7_hour_4   .           \n",
      "Lag_day7_hour_5  -1.153610e+00\n",
      "Lag_day7_hour_6   .           \n",
      "Lag_day7_hour_7   7.973589e-01\n",
      "Lag_day7_hour_8   7.014485e-01\n",
      "Lag_day7_hour_9   .           \n",
      "Lag_day7_hour_10  .           \n",
      "Lag_day7_hour_11  .           \n",
      "Lag_day7_hour_12 -1.674541e-01\n",
      "Lag_day7_hour_13  .           \n",
      "Lag_day7_hour_14  .           \n",
      "Lag_day7_hour_15  1.654768e-01\n",
      "Lag_day7_hour_16  1.845538e-01\n",
      "Lag_day7_hour_17  .           \n",
      "Lag_day7_hour_18 -4.315439e-02\n",
      "Lag_day7_hour_19 -2.414868e-01\n",
      "Lag_day7_hour_20 -4.816942e-01\n",
      "Lag_day7_hour_21  .           \n",
      "Lag_day7_hour_22  .           \n",
      "Lag_day7_hour_23  .           \n",
      "[1] \"Plot for 8'th hour's Cross Validation\"\n"
     ]
    },
    {
     "data": {
      "image/png": "[encoded data removed]",
      "text/plain": [
       "plot without title"
      ]
     },
     "metadata": {},
     "output_type": "display_data"
    },
    {
     "name": "stdout",
     "output_type": "stream",
     "text": [
      "[1] \"Hour 9\"\n",
      "[1] \"Min value for Lambda= 5.03246162903855\"\n",
      "[1] \"1se value for Lambda= 15.3684106528531\"\n",
      "49 x 1 sparse Matrix of class \"dgCMatrix\"\n",
      "                             1\n",
      "(Intercept)       6.238115e+03\n",
      "Lag_day2_hour_0  -1.059918e+00\n",
      "Lag_day2_hour_1  -1.287285e-01\n",
      "Lag_day2_hour_2  -3.954999e-01\n",
      "Lag_day2_hour_3   .           \n",
      "Lag_day2_hour_4   1.496373e-01\n",
      "Lag_day2_hour_5   1.299628e+00\n",
      "Lag_day2_hour_6   1.055258e-02\n",
      "Lag_day2_hour_7   4.733613e-01\n",
      "Lag_day2_hour_8   .           \n",
      "Lag_day2_hour_9  -1.121795e+00\n",
      "Lag_day2_hour_10  .           \n",
      "Lag_day2_hour_11 -3.006846e-01\n",
      "Lag_day2_hour_12  .           \n",
      "Lag_day2_hour_13  1.706640e+00\n",
      "Lag_day2_hour_14 -8.737146e-01\n",
      "Lag_day2_hour_15  .           \n",
      "Lag_day2_hour_16  .           \n",
      "Lag_day2_hour_17 -2.836439e-03\n",
      "Lag_day2_hour_18  .           \n",
      "Lag_day2_hour_19  .           \n",
      "Lag_day2_hour_20  2.481592e-01\n",
      "Lag_day2_hour_21  6.541238e-02\n",
      "Lag_day2_hour_22  1.153775e-04\n",
      "Lag_day2_hour_23  1.243071e+00\n",
      "Lag_day7_hour_0   .           \n",
      "Lag_day7_hour_1   4.470848e-02\n",
      "Lag_day7_hour_2   .           \n",
      "Lag_day7_hour_3   .           \n",
      "Lag_day7_hour_4   .           \n",
      "Lag_day7_hour_5  -1.289800e+00\n",
      "Lag_day7_hour_6   .           \n",
      "Lag_day7_hour_7   6.691874e-01\n",
      "Lag_day7_hour_8   8.235219e-01\n",
      "Lag_day7_hour_9   2.462675e-02\n",
      "Lag_day7_hour_10  .           \n",
      "Lag_day7_hour_11  .           \n",
      "Lag_day7_hour_12 -4.617267e-02\n",
      "Lag_day7_hour_13  .           \n",
      "Lag_day7_hour_14  .           \n",
      "Lag_day7_hour_15  1.581873e-01\n",
      "Lag_day7_hour_16  1.724738e-01\n",
      "Lag_day7_hour_17  .           \n",
      "Lag_day7_hour_18 -9.911936e-02\n",
      "Lag_day7_hour_19 -2.932835e-01\n",
      "Lag_day7_hour_20 -5.187378e-01\n",
      "Lag_day7_hour_21  .           \n",
      "Lag_day7_hour_22  .           \n",
      "Lag_day7_hour_23  4.139786e-02\n",
      "[1] \"Plot for 9'th hour's Cross Validation\"\n"
     ]
    },
    {
     "data": {
      "image/png": "[encoded data removed]",
      "text/plain": [
       "plot without title"
      ]
     },
     "metadata": {},
     "output_type": "display_data"
    },
    {
     "name": "stdout",
     "output_type": "stream",
     "text": [
      "[1] \"Hour 10\"\n",
      "[1] \"Min value for Lambda= 8.53586183319473\"\n",
      "[1] \"1se value for Lambda= 19.7189479212926\"\n",
      "49 x 1 sparse Matrix of class \"dgCMatrix\"\n",
      "                             1\n",
      "(Intercept)       6.651159e+03\n",
      "Lag_day2_hour_0  -7.112966e-01\n",
      "Lag_day2_hour_1  -1.859685e-01\n",
      "Lag_day2_hour_2  -3.894575e-01\n",
      "Lag_day2_hour_3   .           \n",
      "Lag_day2_hour_4   .           \n",
      "Lag_day2_hour_5   1.087873e+00\n",
      "Lag_day2_hour_6   .           \n",
      "Lag_day2_hour_7   5.330958e-01\n",
      "Lag_day2_hour_8   .           \n",
      "Lag_day2_hour_9  -1.307624e+00\n",
      "Lag_day2_hour_10  .           \n",
      "Lag_day2_hour_11 -1.227771e-04\n",
      "Lag_day2_hour_12  .           \n",
      "Lag_day2_hour_13  1.391807e+00\n",
      "Lag_day2_hour_14 -6.025803e-01\n",
      "Lag_day2_hour_15  .           \n",
      "Lag_day2_hour_16  .           \n",
      "Lag_day2_hour_17  .           \n",
      "Lag_day2_hour_18  .           \n",
      "Lag_day2_hour_19  .           \n",
      "Lag_day2_hour_20  1.707213e-01\n",
      "Lag_day2_hour_21  .           \n",
      "Lag_day2_hour_22  8.650057e-04\n",
      "Lag_day2_hour_23  1.244481e+00\n",
      "Lag_day7_hour_0   .           \n",
      "Lag_day7_hour_1   .           \n",
      "Lag_day7_hour_2   .           \n",
      "Lag_day7_hour_3   .           \n",
      "Lag_day7_hour_4   .           \n",
      "Lag_day7_hour_5  -1.060424e+00\n",
      "Lag_day7_hour_6   .           \n",
      "Lag_day7_hour_7   4.607611e-01\n",
      "Lag_day7_hour_8   5.617246e-01\n",
      "Lag_day7_hour_9   2.834871e-01\n",
      "Lag_day7_hour_10  3.254309e-03\n",
      "Lag_day7_hour_11  .           \n",
      "Lag_day7_hour_12  .           \n",
      "Lag_day7_hour_13  .           \n",
      "Lag_day7_hour_14  .           \n",
      "Lag_day7_hour_15  1.645295e-01\n",
      "Lag_day7_hour_16  6.307803e-02\n",
      "Lag_day7_hour_17  .           \n",
      "Lag_day7_hour_18  .           \n",
      "Lag_day7_hour_19 -3.804076e-01\n",
      "Lag_day7_hour_20 -3.840837e-01\n",
      "Lag_day7_hour_21  .           \n",
      "Lag_day7_hour_22  .           \n",
      "Lag_day7_hour_23  .           \n",
      "[1] \"Plot for 10'th hour's Cross Validation\"\n"
     ]
    },
    {
     "data": {
      "image/png": "[encoded data removed]",
      "text/plain": [
       "plot without title"
      ]
     },
     "metadata": {},
     "output_type": "display_data"
    },
    {
     "name": "stdout",
     "output_type": "stream",
     "text": [
      "[1] \"Hour 11\"\n",
      "[1] \"Min value for Lambda= 7.65060365654641\"\n",
      "[1] \"1se value for Lambda= 21.2882591167938\"\n",
      "49 x 1 sparse Matrix of class \"dgCMatrix\"\n",
      "                             1\n",
      "(Intercept)       7.159033e+03\n",
      "Lag_day2_hour_0  -7.252933e-01\n",
      "Lag_day2_hour_1  -2.351743e-01\n",
      "Lag_day2_hour_2  -3.694814e-01\n",
      "Lag_day2_hour_3   .           \n",
      "Lag_day2_hour_4   .           \n",
      "Lag_day2_hour_5   1.103015e+00\n",
      "Lag_day2_hour_6   .           \n",
      "Lag_day2_hour_7   6.066261e-01\n",
      "Lag_day2_hour_8  -6.256839e-02\n",
      "Lag_day2_hour_9  -1.339216e+00\n",
      "Lag_day2_hour_10  .           \n",
      "Lag_day2_hour_11 -6.459095e-05\n",
      "Lag_day2_hour_12  .           \n",
      "Lag_day2_hour_13  1.518734e+00\n",
      "Lag_day2_hour_14 -6.358505e-01\n",
      "Lag_day2_hour_15  .           \n",
      "Lag_day2_hour_16  .           \n",
      "Lag_day2_hour_17  .           \n",
      "Lag_day2_hour_18  .           \n",
      "Lag_day2_hour_19  .           \n",
      "Lag_day2_hour_20  6.315826e-02\n",
      "Lag_day2_hour_21  .           \n",
      "Lag_day2_hour_22  .           \n",
      "Lag_day2_hour_23  1.317446e+00\n",
      "Lag_day7_hour_0   .           \n",
      "Lag_day7_hour_1   .           \n",
      "Lag_day7_hour_2   .           \n",
      "Lag_day7_hour_3   .           \n",
      "Lag_day7_hour_4   .           \n",
      "Lag_day7_hour_5  -1.013440e+00\n",
      "Lag_day7_hour_6   .           \n",
      "Lag_day7_hour_7   4.111574e-01\n",
      "Lag_day7_hour_8   5.319322e-01\n",
      "Lag_day7_hour_9   1.955853e-01\n",
      "Lag_day7_hour_10  4.840881e-02\n",
      "Lag_day7_hour_11  .           \n",
      "Lag_day7_hour_12  .           \n",
      "Lag_day7_hour_13  .           \n",
      "Lag_day7_hour_14  .           \n",
      "Lag_day7_hour_15  2.644822e-01\n",
      "Lag_day7_hour_16  7.431983e-03\n",
      "Lag_day7_hour_17  .           \n",
      "Lag_day7_hour_18 -1.574168e-04\n",
      "Lag_day7_hour_19 -4.491980e-01\n",
      "Lag_day7_hour_20 -2.827375e-01\n",
      "Lag_day7_hour_21  .           \n",
      "Lag_day7_hour_22  .           \n",
      "Lag_day7_hour_23  .           \n",
      "[1] \"Plot for 11'th hour's Cross Validation\"\n"
     ]
    },
    {
     "data": {
      "image/png": "[encoded data removed]",
      "text/plain": [
       "plot without title"
      ]
     },
     "metadata": {},
     "output_type": "display_data"
    },
    {
     "name": "stdout",
     "output_type": "stream",
     "text": [
      "[1] \"Hour 12\"\n",
      "[1] \"Min value for Lambda= 2.76062901361623\"\n",
      "[1] \"1se value for Lambda= 13.4238389838118\"\n",
      "49 x 1 sparse Matrix of class \"dgCMatrix\"\n",
      "                             1\n",
      "(Intercept)       5.729510e+03\n",
      "Lag_day2_hour_0  -8.286437e-01\n",
      "Lag_day2_hour_1  -2.241796e-01\n",
      "Lag_day2_hour_2  -4.743517e-01\n",
      "Lag_day2_hour_3  -2.264203e-01\n",
      "Lag_day2_hour_4   3.409439e-01\n",
      "Lag_day2_hour_5   1.157508e+00\n",
      "Lag_day2_hour_6   .           \n",
      "Lag_day2_hour_7   8.547851e-01\n",
      "Lag_day2_hour_8  -3.880451e-01\n",
      "Lag_day2_hour_9  -1.191282e+00\n",
      "Lag_day2_hour_10  .           \n",
      "Lag_day2_hour_11 -3.809638e-02\n",
      "Lag_day2_hour_12  7.058721e-02\n",
      "Lag_day2_hour_13  1.727348e+00\n",
      "Lag_day2_hour_14 -9.030351e-01\n",
      "Lag_day2_hour_15  .           \n",
      "Lag_day2_hour_16  .           \n",
      "Lag_day2_hour_17  2.885936e-02\n",
      "Lag_day2_hour_18  1.427745e-01\n",
      "Lag_day2_hour_19  .           \n",
      "Lag_day2_hour_20 -1.817045e-04\n",
      "Lag_day2_hour_21  .           \n",
      "Lag_day2_hour_22  .           \n",
      "Lag_day2_hour_23  1.189442e+00\n",
      "Lag_day7_hour_0   6.813142e-02\n",
      "Lag_day7_hour_1   3.092875e-01\n",
      "Lag_day7_hour_2   .           \n",
      "Lag_day7_hour_3   .           \n",
      "Lag_day7_hour_4  -5.238622e-02\n",
      "Lag_day7_hour_5  -1.189753e+00\n",
      "Lag_day7_hour_6  -2.168155e-01\n",
      "Lag_day7_hour_7   6.086716e-01\n",
      "Lag_day7_hour_8   3.618598e-01\n",
      "Lag_day7_hour_9   1.135458e-01\n",
      "Lag_day7_hour_10  .           \n",
      "Lag_day7_hour_11  .           \n",
      "Lag_day7_hour_12  .           \n",
      "Lag_day7_hour_13  1.340531e-01\n",
      "Lag_day7_hour_14  .           \n",
      "Lag_day7_hour_15  1.248243e-01\n",
      "Lag_day7_hour_16  1.574468e-01\n",
      "Lag_day7_hour_17  3.623081e-02\n",
      "Lag_day7_hour_18 -3.199677e-01\n",
      "Lag_day7_hour_19 -2.858463e-01\n",
      "Lag_day7_hour_20 -2.974244e-01\n",
      "Lag_day7_hour_21  2.138392e-02\n",
      "Lag_day7_hour_22  .           \n",
      "Lag_day7_hour_23  1.688499e-01\n",
      "[1] \"Plot for 12'th hour's Cross Validation\"\n"
     ]
    },
    {
     "data": {
      "image/png": "[encoded data removed]",
      "text/plain": [
       "plot without title"
      ]
     },
     "metadata": {},
     "output_type": "display_data"
    },
    {
     "name": "stdout",
     "output_type": "stream",
     "text": [
      "[1] \"Hour 13\"\n",
      "[1] \"Min value for Lambda= 1.57312101383713\"\n",
      "[1] \"1se value for Lambda= 10.1121368817583\"\n",
      "49 x 1 sparse Matrix of class \"dgCMatrix\"\n",
      "                             1\n",
      "(Intercept)       6.548873e+03\n",
      "Lag_day2_hour_0  -1.063133e+00\n",
      "Lag_day2_hour_1  -1.174082e-01\n",
      "Lag_day2_hour_2  -7.038733e-01\n",
      "Lag_day2_hour_3  -4.281564e-01\n",
      "Lag_day2_hour_4   7.361059e-01\n",
      "Lag_day2_hour_5   1.379113e+00\n",
      "Lag_day2_hour_6   .           \n",
      "Lag_day2_hour_7   8.645047e-01\n",
      "Lag_day2_hour_8  -4.496475e-01\n",
      "Lag_day2_hour_9  -1.223183e+00\n",
      "Lag_day2_hour_10  .           \n",
      "Lag_day2_hour_11 -1.086683e-01\n",
      "Lag_day2_hour_12  1.733068e-01\n",
      "Lag_day2_hour_13  1.810946e+00\n",
      "Lag_day2_hour_14 -1.010070e+00\n",
      "Lag_day2_hour_15  1.124331e-04\n",
      "Lag_day2_hour_16  .           \n",
      "Lag_day2_hour_17  4.422552e-02\n",
      "Lag_day2_hour_18  3.042696e-01\n",
      "Lag_day2_hour_19  .           \n",
      "Lag_day2_hour_20 -1.655563e-01\n",
      "Lag_day2_hour_21  .           \n",
      "Lag_day2_hour_22 -8.613340e-02\n",
      "Lag_day2_hour_23  1.336659e+00\n",
      "Lag_day7_hour_0   .           \n",
      "Lag_day7_hour_1   4.792448e-01\n",
      "Lag_day7_hour_2   .           \n",
      "Lag_day7_hour_3   6.114134e-02\n",
      "Lag_day7_hour_4  -2.014380e-01\n",
      "Lag_day7_hour_5  -1.146702e+00\n",
      "Lag_day7_hour_6  -3.556516e-01\n",
      "Lag_day7_hour_7   5.387283e-01\n",
      "Lag_day7_hour_8   6.336358e-01\n",
      "Lag_day7_hour_9   5.619231e-02\n",
      "Lag_day7_hour_10  1.277499e-03\n",
      "Lag_day7_hour_11 -2.886408e-01\n",
      "Lag_day7_hour_12 -4.804332e-01\n",
      "Lag_day7_hour_13  9.102303e-01\n",
      "Lag_day7_hour_14  .           \n",
      "Lag_day7_hour_15  1.135546e-02\n",
      "Lag_day7_hour_16  1.727190e-01\n",
      "Lag_day7_hour_17  1.451314e-01\n",
      "Lag_day7_hour_18 -5.765313e-01\n",
      "Lag_day7_hour_19 -2.496720e-01\n",
      "Lag_day7_hour_20 -4.234764e-01\n",
      "Lag_day7_hour_21  2.926304e-01\n",
      "Lag_day7_hour_22  .           \n",
      "Lag_day7_hour_23  1.347453e-01\n",
      "[1] \"Plot for 13'th hour's Cross Validation\"\n"
     ]
    },
    {
     "data": {
      "image/png": "[encoded data removed]",
      "text/plain": [
       "plot without title"
      ]
     },
     "metadata": {},
     "output_type": "display_data"
    },
    {
     "name": "stdout",
     "output_type": "stream",
     "text": [
      "[1] \"Hour 14\"\n",
      "[1] \"Min value for Lambda= 2.65692742842888\"\n",
      "[1] \"1se value for Lambda= 18.7440977273863\"\n",
      "49 x 1 sparse Matrix of class \"dgCMatrix\"\n",
      "                             1\n",
      "(Intercept)       6.543560e+03\n",
      "Lag_day2_hour_0  -1.157761e+00\n",
      "Lag_day2_hour_1  -2.116996e-01\n",
      "Lag_day2_hour_2  -5.114675e-01\n",
      "Lag_day2_hour_3  -2.777385e-01\n",
      "Lag_day2_hour_4   5.971485e-01\n",
      "Lag_day2_hour_5   1.438817e+00\n",
      "Lag_day2_hour_6   .           \n",
      "Lag_day2_hour_7   6.923888e-01\n",
      "Lag_day2_hour_8  -3.284964e-01\n",
      "Lag_day2_hour_9  -1.293086e+00\n",
      "Lag_day2_hour_10  .           \n",
      "Lag_day2_hour_11 -8.354049e-02\n",
      "Lag_day2_hour_12  5.271359e-03\n",
      "Lag_day2_hour_13  1.784268e+00\n",
      "Lag_day2_hour_14 -8.420439e-01\n",
      "Lag_day2_hour_15  .           \n",
      "Lag_day2_hour_16  .           \n",
      "Lag_day2_hour_17  .           \n",
      "Lag_day2_hour_18  2.606166e-01\n",
      "Lag_day2_hour_19  .           \n",
      "Lag_day2_hour_20 -2.300343e-02\n",
      "Lag_day2_hour_21  .           \n",
      "Lag_day2_hour_22  .           \n",
      "Lag_day2_hour_23  1.284526e+00\n",
      "Lag_day7_hour_0   6.078568e-03\n",
      "Lag_day7_hour_1   4.633069e-01\n",
      "Lag_day7_hour_2   .           \n",
      "Lag_day7_hour_3   1.371990e-04\n",
      "Lag_day7_hour_4  -1.137791e-01\n",
      "Lag_day7_hour_5  -1.382640e+00\n",
      "Lag_day7_hour_6  -1.780446e-01\n",
      "Lag_day7_hour_7   5.377347e-01\n",
      "Lag_day7_hour_8   6.262433e-01\n",
      "Lag_day7_hour_9   .           \n",
      "Lag_day7_hour_10  .           \n",
      "Lag_day7_hour_11 -1.261146e-01\n",
      "Lag_day7_hour_12 -3.119740e-01\n",
      "Lag_day7_hour_13  1.834826e-01\n",
      "Lag_day7_hour_14  .           \n",
      "Lag_day7_hour_15  4.029179e-01\n",
      "Lag_day7_hour_16  3.575205e-01\n",
      "Lag_day7_hour_17  3.383080e-02\n",
      "Lag_day7_hour_18 -4.426422e-01\n",
      "Lag_day7_hour_19 -3.851952e-01\n",
      "Lag_day7_hour_20 -3.210396e-01\n",
      "Lag_day7_hour_21  1.078348e-01\n",
      "Lag_day7_hour_22  .           \n",
      "Lag_day7_hour_23  2.125321e-01\n",
      "[1] \"Plot for 14'th hour's Cross Validation\"\n"
     ]
    },
    {
     "data": {
      "image/png": "[encoded data removed]",
      "text/plain": [
       "plot without title"
      ]
     },
     "metadata": {},
     "output_type": "display_data"
    },
    {
     "name": "stdout",
     "output_type": "stream",
     "text": [
      "[1] \"Hour 15\"\n",
      "[1] \"Min value for Lambda= 1.83686241019543\"\n",
      "[1] \"1se value for Lambda= 14.2221585158545\"\n",
      "49 x 1 sparse Matrix of class \"dgCMatrix\"\n",
      "                             1\n",
      "(Intercept)       6.432141e+03\n",
      "Lag_day2_hour_0  -1.209254e+00\n",
      "Lag_day2_hour_1  -1.445003e-01\n",
      "Lag_day2_hour_2  -7.343929e-01\n",
      "Lag_day2_hour_3  -3.049975e-01\n",
      "Lag_day2_hour_4   8.713309e-01\n",
      "Lag_day2_hour_5   1.438803e+00\n",
      "Lag_day2_hour_6   .           \n",
      "Lag_day2_hour_7   6.902788e-01\n",
      "Lag_day2_hour_8  -3.816734e-01\n",
      "Lag_day2_hour_9  -1.190614e+00\n",
      "Lag_day2_hour_10  5.727530e-03\n",
      "Lag_day2_hour_11 -1.861058e-01\n",
      "Lag_day2_hour_12  6.705414e-02\n",
      "Lag_day2_hour_13  1.732338e+00\n",
      "Lag_day2_hour_14 -8.775182e-01\n",
      "Lag_day2_hour_15  1.546186e-02\n",
      "Lag_day2_hour_16  .           \n",
      "Lag_day2_hour_17  .           \n",
      "Lag_day2_hour_18  3.552739e-01\n",
      "Lag_day2_hour_19  .           \n",
      "Lag_day2_hour_20 -8.963827e-02\n",
      "Lag_day2_hour_21 -3.772401e-05\n",
      "Lag_day2_hour_22 -5.311703e-02\n",
      "Lag_day2_hour_23  1.352520e+00\n",
      "Lag_day7_hour_0   .           \n",
      "Lag_day7_hour_1   4.866591e-01\n",
      "Lag_day7_hour_2   5.966430e-05\n",
      "Lag_day7_hour_3   1.456033e-01\n",
      "Lag_day7_hour_4  -3.053029e-01\n",
      "Lag_day7_hour_5  -1.291052e+00\n",
      "Lag_day7_hour_6  -3.226685e-01\n",
      "Lag_day7_hour_7   6.366021e-01\n",
      "Lag_day7_hour_8   6.363955e-01\n",
      "Lag_day7_hour_9   .           \n",
      "Lag_day7_hour_10  .           \n",
      "Lag_day7_hour_11 -2.443665e-01\n",
      "Lag_day7_hour_12 -2.897750e-01\n",
      "Lag_day7_hour_13  7.173224e-02\n",
      "Lag_day7_hour_14  .           \n",
      "Lag_day7_hour_15  4.692692e-01\n",
      "Lag_day7_hour_16  4.604977e-01\n",
      "Lag_day7_hour_17  1.202377e-01\n",
      "Lag_day7_hour_18 -6.082945e-01\n",
      "Lag_day7_hour_19 -3.087750e-01\n",
      "Lag_day7_hour_20 -3.812091e-01\n",
      "Lag_day7_hour_21  2.186669e-01\n",
      "Lag_day7_hour_22  .           \n",
      "Lag_day7_hour_23  1.703152e-01\n",
      "[1] \"Plot for 15'th hour's Cross Validation\"\n"
     ]
    },
    {
     "data": {
      "image/png": "[encoded data removed]",
      "text/plain": [
       "plot without title"
      ]
     },
     "metadata": {},
     "output_type": "display_data"
    },
    {
     "name": "stdout",
     "output_type": "stream",
     "text": [
      "[1] \"Hour 16\"\n",
      "[1] \"Min value for Lambda= 2.65405782611951\"\n",
      "[1] \"1se value for Lambda= 11.7591255377717\"\n",
      "49 x 1 sparse Matrix of class \"dgCMatrix\"\n",
      "                             1\n",
      "(Intercept)       6.104704e+03\n",
      "Lag_day2_hour_0  -1.134579e+00\n",
      "Lag_day2_hour_1  -1.424280e-01\n",
      "Lag_day2_hour_2  -5.690304e-01\n",
      "Lag_day2_hour_3  -2.161327e-01\n",
      "Lag_day2_hour_4   6.538991e-01\n",
      "Lag_day2_hour_5   1.341014e+00\n",
      "Lag_day2_hour_6   .           \n",
      "Lag_day2_hour_7   5.108192e-01\n",
      "Lag_day2_hour_8  -1.653694e-01\n",
      "Lag_day2_hour_9  -1.252750e+00\n",
      "Lag_day2_hour_10  .           \n",
      "Lag_day2_hour_11 -1.143874e-01\n",
      "Lag_day2_hour_12  .           \n",
      "Lag_day2_hour_13  1.584576e+00\n",
      "Lag_day2_hour_14 -8.131806e-01\n",
      "Lag_day2_hour_15  .           \n",
      "Lag_day2_hour_16  .           \n",
      "Lag_day2_hour_17  1.506577e-06\n",
      "Lag_day2_hour_18  3.832875e-01\n",
      "Lag_day2_hour_19  .           \n",
      "Lag_day2_hour_20  .           \n",
      "Lag_day2_hour_21  .           \n",
      "Lag_day2_hour_22 -1.016467e-04\n",
      "Lag_day2_hour_23  1.234746e+00\n",
      "Lag_day7_hour_0   .           \n",
      "Lag_day7_hour_1   3.915116e-01\n",
      "Lag_day7_hour_2   3.259664e-03\n",
      "Lag_day7_hour_3   6.557763e-02\n",
      "Lag_day7_hour_4  -1.893954e-01\n",
      "Lag_day7_hour_5  -1.348309e+00\n",
      "Lag_day7_hour_6  -1.765417e-01\n",
      "Lag_day7_hour_7   6.367459e-01\n",
      "Lag_day7_hour_8   5.599136e-01\n",
      "Lag_day7_hour_9   .           \n",
      "Lag_day7_hour_10  .           \n",
      "Lag_day7_hour_11 -2.716590e-01\n",
      "Lag_day7_hour_12 -2.250685e-01\n",
      "Lag_day7_hour_13  9.677957e-04\n",
      "Lag_day7_hour_14  2.230463e-03\n",
      "Lag_day7_hour_15  2.535091e-01\n",
      "Lag_day7_hour_16  6.223218e-01\n",
      "Lag_day7_hour_17  2.247263e-01\n",
      "Lag_day7_hour_18 -4.831315e-01\n",
      "Lag_day7_hour_19 -4.084578e-01\n",
      "Lag_day7_hour_20 -2.714868e-01\n",
      "Lag_day7_hour_21  1.437699e-01\n",
      "Lag_day7_hour_22  .           \n",
      "Lag_day7_hour_23  1.692949e-01\n",
      "[1] \"Plot for 16'th hour's Cross Validation\"\n"
     ]
    },
    {
     "data": {
      "image/png": "[encoded data removed]",
      "text/plain": [
       "plot without title"
      ]
     },
     "metadata": {},
     "output_type": "display_data"
    },
    {
     "name": "stdout",
     "output_type": "stream",
     "text": [
      "[1] \"Hour 17\"\n",
      "[1] \"Min value for Lambda= 1.46556083708526\"\n",
      "[1] \"1se value for Lambda= 13.667869388845\"\n",
      "49 x 1 sparse Matrix of class \"dgCMatrix\"\n",
      "                             1\n",
      "(Intercept)       6.542095e+03\n",
      "Lag_day2_hour_0  -1.192400e+00\n",
      "Lag_day2_hour_1  -8.639161e-02\n",
      "Lag_day2_hour_2  -5.521481e-01\n",
      "Lag_day2_hour_3  -3.373079e-01\n",
      "Lag_day2_hour_4   7.811217e-01\n",
      "Lag_day2_hour_5   1.312703e+00\n",
      "Lag_day2_hour_6   1.042556e-01\n",
      "Lag_day2_hour_7   4.824255e-01\n",
      "Lag_day2_hour_8  -3.377728e-01\n",
      "Lag_day2_hour_9  -1.001745e+00\n",
      "Lag_day2_hour_10  .           \n",
      "Lag_day2_hour_11 -1.601750e-01\n",
      "Lag_day2_hour_12  7.411563e-02\n",
      "Lag_day2_hour_13  1.498575e+00\n",
      "Lag_day2_hour_14 -1.021315e+00\n",
      "Lag_day2_hour_15  .           \n",
      "Lag_day2_hour_16  .           \n",
      "Lag_day2_hour_17  1.299737e-01\n",
      "Lag_day2_hour_18  5.378279e-01\n",
      "Lag_day2_hour_19 -3.093233e-02\n",
      "Lag_day2_hour_20 -4.327604e-04\n",
      "Lag_day2_hour_21  .           \n",
      "Lag_day2_hour_22 -1.209248e-01\n",
      "Lag_day2_hour_23  1.186787e+00\n",
      "Lag_day7_hour_0   .           \n",
      "Lag_day7_hour_1   2.130071e-01\n",
      "Lag_day7_hour_2   1.477393e-01\n",
      "Lag_day7_hour_3   1.659870e-01\n",
      "Lag_day7_hour_4  -2.883051e-01\n",
      "Lag_day7_hour_5  -1.307119e+00\n",
      "Lag_day7_hour_6  -7.797046e-02\n",
      "Lag_day7_hour_7   6.461204e-01\n",
      "Lag_day7_hour_8   4.679277e-01\n",
      "Lag_day7_hour_9   .           \n",
      "Lag_day7_hour_10  .           \n",
      "Lag_day7_hour_11 -3.197831e-01\n",
      "Lag_day7_hour_12 -2.123808e-01\n",
      "Lag_day7_hour_13  4.126819e-02\n",
      "Lag_day7_hour_14  6.171871e-02\n",
      "Lag_day7_hour_15  1.078642e-01\n",
      "Lag_day7_hour_16  3.333724e-01\n",
      "Lag_day7_hour_17  6.504654e-01\n",
      "Lag_day7_hour_18 -5.014727e-01\n",
      "Lag_day7_hour_19 -4.736609e-01\n",
      "Lag_day7_hour_20 -3.022307e-01\n",
      "Lag_day7_hour_21  2.800230e-01\n",
      "Lag_day7_hour_22  .           \n",
      "Lag_day7_hour_23  1.188818e-01\n",
      "[1] \"Plot for 17'th hour's Cross Validation\"\n"
     ]
    },
    {
     "data": {
      "image/png": "[encoded data removed]",
      "text/plain": [
       "plot without title"
      ]
     },
     "metadata": {},
     "output_type": "display_data"
    },
    {
     "name": "stdout",
     "output_type": "stream",
     "text": [
      "[1] \"Hour 18\"\n",
      "[1] \"Min value for Lambda= 2.73015697125176\"\n",
      "[1] \"1se value for Lambda= 8.33750489796835\"\n",
      "49 x 1 sparse Matrix of class \"dgCMatrix\"\n",
      "                             1\n",
      "(Intercept)      5748.65371264\n",
      "Lag_day2_hour_0    -0.80157660\n",
      "Lag_day2_hour_1    -0.18674960\n",
      "Lag_day2_hour_2    -0.47311096\n",
      "Lag_day2_hour_3     .         \n",
      "Lag_day2_hour_4     0.51200644\n",
      "Lag_day2_hour_5     0.85549493\n",
      "Lag_day2_hour_6     0.11383832\n",
      "Lag_day2_hour_7     0.33784632\n",
      "Lag_day2_hour_8    -0.20362042\n",
      "Lag_day2_hour_9    -0.85389216\n",
      "Lag_day2_hour_10    .         \n",
      "Lag_day2_hour_11   -0.14258663\n",
      "Lag_day2_hour_12    .         \n",
      "Lag_day2_hour_13    1.12369914\n",
      "Lag_day2_hour_14   -0.68720212\n",
      "Lag_day2_hour_15    .         \n",
      "Lag_day2_hour_16   -0.10334484\n",
      "Lag_day2_hour_17    .         \n",
      "Lag_day2_hour_18    0.80256109\n",
      "Lag_day2_hour_19   -0.09304138\n",
      "Lag_day2_hour_20    .         \n",
      "Lag_day2_hour_21    .         \n",
      "Lag_day2_hour_22    .         \n",
      "Lag_day2_hour_23    0.91398957\n",
      "Lag_day7_hour_0     .         \n",
      "Lag_day7_hour_1     0.09380114\n",
      "Lag_day7_hour_2     .         \n",
      "Lag_day7_hour_3     .         \n",
      "Lag_day7_hour_4     .         \n",
      "Lag_day7_hour_5    -0.99254757\n",
      "Lag_day7_hour_6     .         \n",
      "Lag_day7_hour_7     0.58405343\n",
      "Lag_day7_hour_8     0.27167442\n",
      "Lag_day7_hour_9     .         \n",
      "Lag_day7_hour_10    .         \n",
      "Lag_day7_hour_11   -0.28080989\n",
      "Lag_day7_hour_12   -0.04133659\n",
      "Lag_day7_hour_13    0.01291182\n",
      "Lag_day7_hour_14    .         \n",
      "Lag_day7_hour_15    0.14033042\n",
      "Lag_day7_hour_16    0.30288646\n",
      "Lag_day7_hour_17    0.06934070\n",
      "Lag_day7_hour_18    .         \n",
      "Lag_day7_hour_19   -0.22466133\n",
      "Lag_day7_hour_20   -0.20579674\n",
      "Lag_day7_hour_21    0.10395567\n",
      "Lag_day7_hour_22    .         \n",
      "Lag_day7_hour_23    0.04693296\n",
      "[1] \"Plot for 18'th hour's Cross Validation\"\n"
     ]
    },
    {
     "data": {
      "image/png": "[encoded data removed]",
      "text/plain": [
       "plot without title"
      ]
     },
     "metadata": {},
     "output_type": "display_data"
    },
    {
     "name": "stdout",
     "output_type": "stream",
     "text": [
      "[1] \"Hour 19\"\n",
      "[1] \"Min value for Lambda= 1.8062389437265\"\n",
      "[1] \"1se value for Lambda= 6.64403278563332\"\n",
      "49 x 1 sparse Matrix of class \"dgCMatrix\"\n",
      "                             1\n",
      "(Intercept)       5.262401e+03\n",
      "Lag_day2_hour_0  -7.409632e-01\n",
      "Lag_day2_hour_1  -2.983657e-01\n",
      "Lag_day2_hour_2  -3.242630e-01\n",
      "Lag_day2_hour_3  -4.730748e-03\n",
      "Lag_day2_hour_4   4.324748e-01\n",
      "Lag_day2_hour_5   8.390361e-01\n",
      "Lag_day2_hour_6   1.787349e-01\n",
      "Lag_day2_hour_7   2.058802e-01\n",
      "Lag_day2_hour_8  -1.746047e-01\n",
      "Lag_day2_hour_9  -7.178277e-01\n",
      "Lag_day2_hour_10  .           \n",
      "Lag_day2_hour_11 -1.645151e-01\n",
      "Lag_day2_hour_12  8.837417e-02\n",
      "Lag_day2_hour_13  9.719676e-01\n",
      "Lag_day2_hour_14 -6.559573e-01\n",
      "Lag_day2_hour_15  .           \n",
      "Lag_day2_hour_16  .           \n",
      "Lag_day2_hour_17 -3.282935e-02\n",
      "Lag_day2_hour_18  1.357037e-01\n",
      "Lag_day2_hour_19  4.796104e-01\n",
      "Lag_day2_hour_20  .           \n",
      "Lag_day2_hour_21  4.524064e-02\n",
      "Lag_day2_hour_22 -1.987704e-01\n",
      "Lag_day2_hour_23  1.011535e+00\n",
      "Lag_day7_hour_0   .           \n",
      "Lag_day7_hour_1   1.284885e-01\n",
      "Lag_day7_hour_2   1.703482e-03\n",
      "Lag_day7_hour_3   1.516532e-02\n",
      "Lag_day7_hour_4  -1.056359e-01\n",
      "Lag_day7_hour_5  -7.981390e-01\n",
      "Lag_day7_hour_6  -7.823568e-02\n",
      "Lag_day7_hour_7   5.906755e-01\n",
      "Lag_day7_hour_8   2.767671e-01\n",
      "Lag_day7_hour_9   .           \n",
      "Lag_day7_hour_10 -2.902686e-03\n",
      "Lag_day7_hour_11 -4.065547e-01\n",
      "Lag_day7_hour_12  .           \n",
      "Lag_day7_hour_13  8.687569e-02\n",
      "Lag_day7_hour_14  7.165585e-04\n",
      "Lag_day7_hour_15  2.707404e-01\n",
      "Lag_day7_hour_16  8.410458e-02\n",
      "Lag_day7_hour_17  .           \n",
      "Lag_day7_hour_18 -1.007420e-01\n",
      "Lag_day7_hour_19  .           \n",
      "Lag_day7_hour_20 -1.371508e-01\n",
      "Lag_day7_hour_21  8.136868e-02\n",
      "Lag_day7_hour_22  .           \n",
      "Lag_day7_hour_23  3.696031e-02\n",
      "[1] \"Plot for 19'th hour's Cross Validation\"\n"
     ]
    },
    {
     "data": {
      "image/png": "[encoded data removed]",
      "text/plain": [
       "plot without title"
      ]
     },
     "metadata": {},
     "output_type": "display_data"
    },
    {
     "name": "stdout",
     "output_type": "stream",
     "text": [
      "[1] \"Hour 20\"\n",
      "[1] \"Min value for Lambda= 1.38770135881068\"\n",
      "[1] \"1se value for Lambda= 6.14837940854135\"\n",
      "49 x 1 sparse Matrix of class \"dgCMatrix\"\n",
      "                             1\n",
      "(Intercept)       5.147104e+03\n",
      "Lag_day2_hour_0  -4.678264e-01\n",
      "Lag_day2_hour_1  -2.012178e-01\n",
      "Lag_day2_hour_2  -7.534127e-01\n",
      "Lag_day2_hour_3  -3.229321e-02\n",
      "Lag_day2_hour_4   4.117754e-01\n",
      "Lag_day2_hour_5   1.036655e+00\n",
      "Lag_day2_hour_6   3.790222e-02\n",
      "Lag_day2_hour_7   2.057442e-01\n",
      "Lag_day2_hour_8  -1.242737e-01\n",
      "Lag_day2_hour_9  -7.191583e-01\n",
      "Lag_day2_hour_10  .           \n",
      "Lag_day2_hour_11 -5.554248e-02\n",
      "Lag_day2_hour_12  1.007799e-01\n",
      "Lag_day2_hour_13  8.769963e-01\n",
      "Lag_day2_hour_14 -6.853597e-01\n",
      "Lag_day2_hour_15  .           \n",
      "Lag_day2_hour_16  .           \n",
      "Lag_day2_hour_17  .           \n",
      "Lag_day2_hour_18  1.077350e-01\n",
      "Lag_day2_hour_19 -4.913973e-03\n",
      "Lag_day2_hour_20  4.189472e-01\n",
      "Lag_day2_hour_21  2.169873e-01\n",
      "Lag_day2_hour_22 -3.003994e-01\n",
      "Lag_day2_hour_23  9.517337e-01\n",
      "Lag_day7_hour_0   .           \n",
      "Lag_day7_hour_1   1.745725e-01\n",
      "Lag_day7_hour_2   .           \n",
      "Lag_day7_hour_3   4.619512e-02\n",
      "Lag_day7_hour_4  -5.902397e-02\n",
      "Lag_day7_hour_5  -8.389447e-01\n",
      "Lag_day7_hour_6  -1.091088e-01\n",
      "Lag_day7_hour_7   5.033214e-01\n",
      "Lag_day7_hour_8   3.275679e-01\n",
      "Lag_day7_hour_9   .           \n",
      "Lag_day7_hour_10  .           \n",
      "Lag_day7_hour_11 -4.150724e-01\n",
      "Lag_day7_hour_12 -5.557637e-02\n",
      "Lag_day7_hour_13  9.010237e-02\n",
      "Lag_day7_hour_14  1.479300e-02\n",
      "Lag_day7_hour_15  2.750675e-01\n",
      "Lag_day7_hour_16  1.033635e-01\n",
      "Lag_day7_hour_17  .           \n",
      "Lag_day7_hour_18 -1.979561e-01\n",
      "Lag_day7_hour_19 -1.787073e-01\n",
      "Lag_day7_hour_20 -7.443312e-02\n",
      "Lag_day7_hour_21  2.917341e-01\n",
      "Lag_day7_hour_22  .           \n",
      "Lag_day7_hour_23  6.950864e-02\n",
      "[1] \"Plot for 20'th hour's Cross Validation\"\n"
     ]
    },
    {
     "data": {
      "image/png": "[encoded data removed]",
      "text/plain": [
       "plot without title"
      ]
     },
     "metadata": {},
     "output_type": "display_data"
    },
    {
     "name": "stdout",
     "output_type": "stream",
     "text": [
      "[1] \"Hour 21\"\n",
      "[1] \"Min value for Lambda= 1.79871021063998\"\n",
      "[1] \"1se value for Lambda= 7.26142415412999\"\n",
      "49 x 1 sparse Matrix of class \"dgCMatrix\"\n",
      "                             1\n",
      "(Intercept)       5.392627e+03\n",
      "Lag_day2_hour_0  -4.195344e-01\n",
      "Lag_day2_hour_1  -2.904317e-01\n",
      "Lag_day2_hour_2  -5.133500e-01\n",
      "Lag_day2_hour_3   .           \n",
      "Lag_day2_hour_4   4.882473e-01\n",
      "Lag_day2_hour_5   6.132877e-01\n",
      "Lag_day2_hour_6   1.098250e-01\n",
      "Lag_day2_hour_7   2.317010e-01\n",
      "Lag_day2_hour_8  -1.209301e-01\n",
      "Lag_day2_hour_9  -6.913857e-01\n",
      "Lag_day2_hour_10  .           \n",
      "Lag_day2_hour_11 -2.876687e-02\n",
      "Lag_day2_hour_12  4.949652e-02\n",
      "Lag_day2_hour_13  7.452298e-01\n",
      "Lag_day2_hour_14 -5.297039e-01\n",
      "Lag_day2_hour_15  .           \n",
      "Lag_day2_hour_16  .           \n",
      "Lag_day2_hour_17 -8.252434e-03\n",
      "Lag_day2_hour_18  5.257011e-02\n",
      "Lag_day2_hour_19  .           \n",
      "Lag_day2_hour_20  3.956173e-02\n",
      "Lag_day2_hour_21  5.708245e-01\n",
      "Lag_day2_hour_22 -1.992208e-01\n",
      "Lag_day2_hour_23  8.871887e-01\n",
      "Lag_day7_hour_0   .           \n",
      "Lag_day7_hour_1   1.437950e-01\n",
      "Lag_day7_hour_2   .           \n",
      "Lag_day7_hour_3   1.796757e-02\n",
      "Lag_day7_hour_4   .           \n",
      "Lag_day7_hour_5  -8.824983e-01\n",
      "Lag_day7_hour_6  -2.086637e-02\n",
      "Lag_day7_hour_7   4.362283e-01\n",
      "Lag_day7_hour_8   3.155274e-01\n",
      "Lag_day7_hour_9   .           \n",
      "Lag_day7_hour_10  .           \n",
      "Lag_day7_hour_11 -3.889865e-01\n",
      "Lag_day7_hour_12 -1.577234e-03\n",
      "Lag_day7_hour_13  6.159793e-02\n",
      "Lag_day7_hour_14  1.985977e-02\n",
      "Lag_day7_hour_15  1.829728e-01\n",
      "Lag_day7_hour_16  1.342935e-01\n",
      "Lag_day7_hour_17  .           \n",
      "Lag_day7_hour_18 -1.056094e-01\n",
      "Lag_day7_hour_19 -2.996080e-01\n",
      "Lag_day7_hour_20 -1.788252e-01\n",
      "Lag_day7_hour_21  4.817033e-01\n",
      "Lag_day7_hour_22  .           \n",
      "Lag_day7_hour_23  4.996198e-02\n",
      "[1] \"Plot for 21'th hour's Cross Validation\"\n"
     ]
    },
    {
     "data": {
      "image/png": "[encoded data removed]",
      "text/plain": [
       "plot without title"
      ]
     },
     "metadata": {},
     "output_type": "display_data"
    },
    {
     "name": "stdout",
     "output_type": "stream",
     "text": [
      "[1] \"Hour 22\"\n",
      "[1] \"Min value for Lambda= 1.69279611340011\"\n",
      "[1] \"1se value for Lambda= 6.83384711619971\"\n",
      "49 x 1 sparse Matrix of class \"dgCMatrix\"\n",
      "                             1\n",
      "(Intercept)      6141.94674719\n",
      "Lag_day2_hour_0    -0.50725032\n",
      "Lag_day2_hour_1    -0.23998754\n",
      "Lag_day2_hour_2    -0.40023149\n",
      "Lag_day2_hour_3     .         \n",
      "Lag_day2_hour_4     0.38272921\n",
      "Lag_day2_hour_5     0.68889937\n",
      "Lag_day2_hour_6     0.07953959\n",
      "Lag_day2_hour_7     0.22572967\n",
      "Lag_day2_hour_8    -0.14424735\n",
      "Lag_day2_hour_9    -0.65690435\n",
      "Lag_day2_hour_10    .         \n",
      "Lag_day2_hour_11    .         \n",
      "Lag_day2_hour_12    0.07548104\n",
      "Lag_day2_hour_13    0.69908723\n",
      "Lag_day2_hour_14   -0.52444662\n",
      "Lag_day2_hour_15    .         \n",
      "Lag_day2_hour_16    .         \n",
      "Lag_day2_hour_17    .         \n",
      "Lag_day2_hour_18    0.05112492\n",
      "Lag_day2_hour_19    .         \n",
      "Lag_day2_hour_20    .         \n",
      "Lag_day2_hour_21    0.26934256\n",
      "Lag_day2_hour_22    .         \n",
      "Lag_day2_hour_23    0.98066937\n",
      "Lag_day7_hour_0     .         \n",
      "Lag_day7_hour_1     0.13700417\n",
      "Lag_day7_hour_2     .         \n",
      "Lag_day7_hour_3     .         \n",
      "Lag_day7_hour_4    -0.02361158\n",
      "Lag_day7_hour_5    -0.80441664\n",
      "Lag_day7_hour_6    -0.01216750\n",
      "Lag_day7_hour_7     0.46129231\n",
      "Lag_day7_hour_8     0.22705960\n",
      "Lag_day7_hour_9     .         \n",
      "Lag_day7_hour_10    .         \n",
      "Lag_day7_hour_11   -0.22867932\n",
      "Lag_day7_hour_12   -0.14818188\n",
      "Lag_day7_hour_13    0.11743061\n",
      "Lag_day7_hour_14    0.01550372\n",
      "Lag_day7_hour_15    0.11241981\n",
      "Lag_day7_hour_16    0.23253074\n",
      "Lag_day7_hour_17    .         \n",
      "Lag_day7_hour_18   -0.14093494\n",
      "Lag_day7_hour_19   -0.30769662\n",
      "Lag_day7_hour_20   -0.27522024\n",
      "Lag_day7_hour_21    0.28217691\n",
      "Lag_day7_hour_22    0.13212779\n",
      "Lag_day7_hour_23    0.18387578\n",
      "[1] \"Plot for 22'th hour's Cross Validation\"\n"
     ]
    },
    {
     "data": {
      "image/png": "[encoded data removed]",
      "text/plain": [
       "plot without title"
      ]
     },
     "metadata": {},
     "output_type": "display_data"
    },
    {
     "name": "stdout",
     "output_type": "stream",
     "text": [
      "[1] \"Hour 23\"\n",
      "[1] \"Min value for Lambda= 2.00861423140434\"\n",
      "[1] \"1se value for Lambda= 11.7644953494129\"\n",
      "49 x 1 sparse Matrix of class \"dgCMatrix\"\n",
      "                             1\n",
      "(Intercept)       5.015369e+03\n",
      "Lag_day2_hour_0  -4.164973e-01\n",
      "Lag_day2_hour_1  -3.139196e-01\n",
      "Lag_day2_hour_2  -1.490418e-01\n",
      "Lag_day2_hour_3   .           \n",
      "Lag_day2_hour_4   2.532433e-01\n",
      "Lag_day2_hour_5   5.404575e-01\n",
      "Lag_day2_hour_6   8.758219e-02\n",
      "Lag_day2_hour_7   1.613777e-01\n",
      "Lag_day2_hour_8  -8.284585e-02\n",
      "Lag_day2_hour_9  -6.163662e-01\n",
      "Lag_day2_hour_10  .           \n",
      "Lag_day2_hour_11 -1.281591e-02\n",
      "Lag_day2_hour_12  4.109805e-02\n",
      "Lag_day2_hour_13  6.593678e-01\n",
      "Lag_day2_hour_14 -4.672758e-01\n",
      "Lag_day2_hour_15  .           \n",
      "Lag_day2_hour_16  .           \n",
      "Lag_day2_hour_17 -9.144405e-03\n",
      "Lag_day2_hour_18  2.353896e-02\n",
      "Lag_day2_hour_19  .           \n",
      "Lag_day2_hour_20  .           \n",
      "Lag_day2_hour_21  2.564285e-01\n",
      "Lag_day2_hour_22 -4.226447e-02\n",
      "Lag_day2_hour_23  1.013523e+00\n",
      "Lag_day7_hour_0   .           \n",
      "Lag_day7_hour_1   1.175011e-01\n",
      "Lag_day7_hour_2   .           \n",
      "Lag_day7_hour_3   .           \n",
      "Lag_day7_hour_4  -2.124010e-02\n",
      "Lag_day7_hour_5  -7.769034e-01\n",
      "Lag_day7_hour_6   .           \n",
      "Lag_day7_hour_7   4.900243e-01\n",
      "Lag_day7_hour_8   1.644971e-01\n",
      "Lag_day7_hour_9   .           \n",
      "Lag_day7_hour_10  .           \n",
      "Lag_day7_hour_11 -2.368174e-01\n",
      "Lag_day7_hour_12  .           \n",
      "Lag_day7_hour_13  2.747842e-04\n",
      "Lag_day7_hour_14  6.639029e-02\n",
      "Lag_day7_hour_15  .           \n",
      "Lag_day7_hour_16  2.518759e-01\n",
      "Lag_day7_hour_17  .           \n",
      "Lag_day7_hour_18 -6.245800e-02\n",
      "Lag_day7_hour_19 -3.135607e-01\n",
      "Lag_day7_hour_20 -1.945440e-01\n",
      "Lag_day7_hour_21  1.523717e-01\n",
      "Lag_day7_hour_22  1.174797e-03\n",
      "Lag_day7_hour_23  3.604180e-01\n",
      "[1] \"Plot for 23'th hour's Cross Validation\"\n"
     ]
    },
    {
     "data": {
      "image/png": "[encoded data removed]",
      "text/plain": [
       "plot without title"
      ]
     },
     "metadata": {},
     "output_type": "display_data"
    }
   ],
   "source": [
    "for(i in seq(0,23,by=1)){    \n",
    "    plot(get(paste0(\"cvfit\",i)))\n",
    "    print(paste(\"Hour\",i))\n",
    "    print(paste(\"Min value for Lambda=\",get(paste0(\"cvfit\",i))$lambda.min))\n",
    "    print(paste(\"1se value for Lambda=\",get(paste0(\"cvfit\",i))$lambda.1se))    \n",
    "    print(coef(get(paste0(\"cvfit\",i)), s = 'lambda.min'))\n",
    "    print(paste0(\"Plot for \",i,\"'th hour's Cross Validation\"))\n",
    "}"
   ]
  },
  {
   "cell_type": "code",
   "execution_count": 94,
   "metadata": {},
   "outputs": [],
   "source": [
    "test_mat0=as.matrix(test_d0[complete.cases(test_d0),-c('date',\"hour\",\"consumption\")])\n",
    "test_mat1=as.matrix(test_d1[complete.cases(test_d1),-c('date',\"hour\",\"consumption\")])\n",
    "test_mat2=as.matrix(test_d2[complete.cases(test_d2),-c('date',\"hour\",\"consumption\")])\n",
    "test_mat3=as.matrix(test_d3[complete.cases(test_d3),-c('date',\"hour\",\"consumption\")])\n",
    "test_mat4=as.matrix(test_d4[complete.cases(test_d4),-c('date',\"hour\",\"consumption\")])\n",
    "test_mat5=as.matrix(test_d5[complete.cases(test_d5),-c('date',\"hour\",\"consumption\")])\n",
    "test_mat6=as.matrix(test_d6[complete.cases(test_d6),-c('date',\"hour\",\"consumption\")])\n",
    "test_mat7=as.matrix(test_d7[complete.cases(test_d7),-c('date',\"hour\",\"consumption\")])\n",
    "test_mat8=as.matrix(test_d8[complete.cases(test_d8),-c('date',\"hour\",\"consumption\")])\n",
    "test_mat9=as.matrix(test_d9[complete.cases(test_d9),-c('date',\"hour\",\"consumption\")])\n",
    "test_mat10=as.matrix(test_d10[complete.cases(test_d10),-c('date',\"hour\",\"consumption\")])\n",
    "test_mat11=as.matrix(test_d11[complete.cases(test_d11),-c('date',\"hour\",\"consumption\")])\n",
    "test_mat12=as.matrix(test_d12[complete.cases(test_d12),-c('date',\"hour\",\"consumption\")])\n",
    "test_mat13=as.matrix(test_d13[complete.cases(test_d13),-c('date',\"hour\",\"consumption\")])\n",
    "test_mat14=as.matrix(test_d14[complete.cases(test_d14),-c('date',\"hour\",\"consumption\")])\n",
    "test_mat15=as.matrix(test_d15[complete.cases(test_d15),-c('date',\"hour\",\"consumption\")])\n",
    "test_mat16=as.matrix(test_d16[complete.cases(test_d16),-c('date',\"hour\",\"consumption\")])\n",
    "test_mat17=as.matrix(test_d17[complete.cases(test_d17),-c('date',\"hour\",\"consumption\")])\n",
    "test_mat18=as.matrix(test_d18[complete.cases(test_d18),-c('date',\"hour\",\"consumption\")])\n",
    "test_mat19=as.matrix(test_d19[complete.cases(test_d19),-c('date',\"hour\",\"consumption\")])\n",
    "test_mat20=as.matrix(test_d20[complete.cases(test_d20),-c('date',\"hour\",\"consumption\")])\n",
    "test_mat21=as.matrix(test_d21[complete.cases(test_d21),-c('date',\"hour\",\"consumption\")])\n",
    "test_mat22=as.matrix(test_d22[complete.cases(test_d22),-c('date',\"hour\",\"consumption\")])\n",
    "test_mat23=as.matrix(test_d23[complete.cases(test_d23),-c('date',\"hour\",\"consumption\")])"
   ]
  },
  {
   "cell_type": "code",
   "execution_count": 95,
   "metadata": {},
   "outputs": [],
   "source": [
    "lasso_model0 <- glmnet(train_mat0,result_vec0, alpha = 1, lambda = cvfit0$lambda.min, standardize = FALSE)\n",
    "lasso_model1 <- glmnet(train_mat1,result_vec1, alpha = 1, lambda = cvfit1$lambda.min, standardize = FALSE)\n",
    "lasso_model2 <- glmnet(train_mat2,result_vec2, alpha = 1, lambda = cvfit2$lambda.min, standardize = FALSE)\n",
    "lasso_model3 <- glmnet(train_mat3,result_vec3, alpha = 1, lambda = cvfit3$lambda.min, standardize = FALSE)\n",
    "lasso_model4 <- glmnet(train_mat4,result_vec4, alpha = 1, lambda = cvfit4$lambda.min, standardize = FALSE)\n",
    "lasso_model5 <- glmnet(train_mat5,result_vec5, alpha = 1, lambda = cvfit5$lambda.min, standardize = FALSE)\n",
    "lasso_model6 <- glmnet(train_mat6,result_vec6, alpha = 1, lambda = cvfit6$lambda.min, standardize = FALSE)\n",
    "lasso_model7 <- glmnet(train_mat7,result_vec7, alpha = 1, lambda = cvfit7$lambda.min, standardize = FALSE)\n",
    "lasso_model8 <- glmnet(train_mat8,result_vec8, alpha = 1, lambda = cvfit8$lambda.min, standardize = FALSE)\n",
    "lasso_model9 <- glmnet(train_mat9,result_vec9, alpha = 1, lambda = cvfit9$lambda.min, standardize = FALSE)\n",
    "lasso_model10 <- glmnet(train_mat10,result_vec10, alpha = 1, lambda = cvfit10$lambda.min, standardize = FALSE)\n",
    "lasso_model11 <- glmnet(train_mat11,result_vec11, alpha = 1, lambda = cvfit11$lambda.min, standardize = FALSE)\n",
    "lasso_model12 <- glmnet(train_mat12,result_vec12, alpha = 1, lambda = cvfit12$lambda.min, standardize = FALSE)\n",
    "lasso_model13 <- glmnet(train_mat13,result_vec13, alpha = 1, lambda = cvfit13$lambda.min, standardize = FALSE)\n",
    "lasso_model14 <- glmnet(train_mat14,result_vec14, alpha = 1, lambda = cvfit14$lambda.min, standardize = FALSE)\n",
    "lasso_model15 <- glmnet(train_mat15,result_vec15, alpha = 1, lambda = cvfit15$lambda.min, standardize = FALSE)\n",
    "lasso_model16 <- glmnet(train_mat16,result_vec16, alpha = 1, lambda = cvfit16$lambda.min, standardize = FALSE)\n",
    "lasso_model17 <- glmnet(train_mat17,result_vec17, alpha = 1, lambda = cvfit17$lambda.min, standardize = FALSE)\n",
    "lasso_model18 <- glmnet(train_mat18,result_vec18, alpha = 1, lambda = cvfit18$lambda.min, standardize = FALSE)\n",
    "lasso_model19 <- glmnet(train_mat19,result_vec19, alpha = 1, lambda = cvfit19$lambda.min, standardize = FALSE)\n",
    "lasso_model20 <- glmnet(train_mat20,result_vec20, alpha = 1, lambda = cvfit20$lambda.min, standardize = FALSE)\n",
    "lasso_model21 <- glmnet(train_mat21,result_vec21, alpha = 1, lambda = cvfit21$lambda.min, standardize = FALSE)\n",
    "lasso_model22 <- glmnet(train_mat22,result_vec22, alpha = 1, lambda = cvfit22$lambda.min, standardize = FALSE)\n",
    "lasso_model23 <- glmnet(train_mat23,result_vec23, alpha = 1, lambda = cvfit23$lambda.min, standardize = FALSE)"
   ]
  },
  {
   "cell_type": "code",
   "execution_count": 96,
   "metadata": {},
   "outputs": [],
   "source": [
    "predicts_hour0 <- predict(lasso_model0, s = cvfit0$lambda.min, newx = test_mat0)\n",
    "predicts_hour1 <- predict(lasso_model1, s = cvfit1$lambda.min, newx = test_mat1)\n",
    "predicts_hour2 <- predict(lasso_model2, s = cvfit2$lambda.min, newx = test_mat2)\n",
    "predicts_hour3 <- predict(lasso_model3, s = cvfit3$lambda.min, newx = test_mat3)\n",
    "predicts_hour4 <- predict(lasso_model4, s = cvfit4$lambda.min, newx = test_mat4)\n",
    "predicts_hour5 <- predict(lasso_model5, s = cvfit5$lambda.min, newx = test_mat5)\n",
    "predicts_hour6 <- predict(lasso_model6, s = cvfit6$lambda.min, newx = test_mat6)\n",
    "predicts_hour7 <- predict(lasso_model7, s = cvfit7$lambda.min, newx = test_mat7)\n",
    "predicts_hour8 <- predict(lasso_model8, s = cvfit8$lambda.min, newx = test_mat8)\n",
    "predicts_hour9 <- predict(lasso_model9, s = cvfit9$lambda.min, newx = test_mat9)\n",
    "predicts_hour10 <- predict(lasso_model10, s = cvfit10$lambda.min, newx = test_mat10)\n",
    "predicts_hour11 <- predict(lasso_model11, s = cvfit11$lambda.min, newx = test_mat11)\n",
    "predicts_hour12 <- predict(lasso_model12, s = cvfit12$lambda.min, newx = test_mat12)\n",
    "predicts_hour13 <- predict(lasso_model13, s = cvfit13$lambda.min, newx = test_mat13)\n",
    "predicts_hour14 <- predict(lasso_model14, s = cvfit14$lambda.min, newx = test_mat14)\n",
    "predicts_hour15 <- predict(lasso_model15, s = cvfit15$lambda.min, newx = test_mat15)\n",
    "predicts_hour16 <- predict(lasso_model16, s = cvfit16$lambda.min, newx = test_mat16)\n",
    "predicts_hour17 <- predict(lasso_model17, s = cvfit17$lambda.min, newx = test_mat17)\n",
    "predicts_hour18 <- predict(lasso_model18, s = cvfit18$lambda.min, newx = test_mat18)\n",
    "predicts_hour19 <- predict(lasso_model19, s = cvfit19$lambda.min, newx = test_mat19)\n",
    "predicts_hour20 <- predict(lasso_model20, s = cvfit20$lambda.min, newx = test_mat20)\n",
    "predicts_hour21 <- predict(lasso_model21, s = cvfit21$lambda.min, newx = test_mat21)\n",
    "predicts_hour22 <- predict(lasso_model22, s = cvfit22$lambda.min, newx = test_mat22)\n",
    "predicts_hour23 <- predict(lasso_model23, s = cvfit23$lambda.min, newx = test_mat23)"
   ]
  },
  {
   "cell_type": "code",
   "execution_count": 97,
   "metadata": {},
   "outputs": [],
   "source": [
    "mape_result_d[1] <- MAPE(test_d0$consumption, predicts_hour0)\n",
    "mape_result_d[2] <- MAPE(test_d1$consumption, predicts_hour1)\n",
    "mape_result_d[3] <- MAPE(test_d2$consumption, predicts_hour2)\n",
    "mape_result_d[4] <- MAPE(test_d3$consumption, predicts_hour3)\n",
    "mape_result_d[5] <- MAPE(test_d4$consumption, predicts_hour4)\n",
    "mape_result_d[6] <- MAPE(test_d5$consumption, predicts_hour5)\n",
    "mape_result_d[7] <- MAPE(test_d6$consumption, predicts_hour6)\n",
    "mape_result_d[8] <- MAPE(test_d7$consumption, predicts_hour7)\n",
    "mape_result_d[9] <- MAPE(test_d8$consumption, predicts_hour8)\n",
    "mape_result_d[10] <- MAPE(test_d9$consumption, predicts_hour9)\n",
    "mape_result_d[11] <- MAPE(test_d10$consumption, predicts_hour10)\n",
    "mape_result_d[12] <- MAPE(test_d11$consumption, predicts_hour11)\n",
    "mape_result_d[13] <- MAPE(test_d12$consumption, predicts_hour12)\n",
    "mape_result_d[14] <- MAPE(test_d13$consumption, predicts_hour13)\n",
    "mape_result_d[15] <- MAPE(test_d14$consumption, predicts_hour14)\n",
    "mape_result_d[16] <- MAPE(test_d15$consumption, predicts_hour15)\n",
    "mape_result_d[17] <- MAPE(test_d16$consumption, predicts_hour16)\n",
    "mape_result_d[18] <- MAPE(test_d17$consumption, predicts_hour17)\n",
    "mape_result_d[19] <- MAPE(test_d18$consumption, predicts_hour18)\n",
    "mape_result_d[20] <- MAPE(test_d19$consumption, predicts_hour19)\n",
    "mape_result_d[21] <- MAPE(test_d20$consumption, predicts_hour20)\n",
    "mape_result_d[22] <- MAPE(test_d21$consumption, predicts_hour21)\n",
    "mape_result_d[23] <- MAPE(test_d22$consumption, predicts_hour22)\n",
    "mape_result_d[24] <- MAPE(test_d23$consumption, predicts_hour23)\n",
    "#mape_result_d"
   ]
  },
  {
   "cell_type": "code",
   "execution_count": 98,
   "metadata": {},
   "outputs": [
    {
     "data": {
      "image/png": "[encoded data removed]",
      "text/plain": [
       "Plot with title \"MAPE Values for Hourly Model with Lasso Penalty\""
      ]
     },
     "metadata": {},
     "output_type": "display_data"
    }
   ],
   "source": [
    "plot(mape_result_d,type=\"l\",ylab=\"MAPE Values (Quantity)\",xlab=\"Hours\",main=\"MAPE Values for Hourly Model with Lasso Penalty\")"
   ]
  },
  {
   "cell_type": "code",
   "execution_count": 99,
   "metadata": {},
   "outputs": [],
   "source": [
    "MAPE0d_reg_values=as.vector(abs(((hour0_test$consumption-predicts_hour0)/predicts_hour0)))\n",
    "MAPE1d_reg_values=as.vector(abs(((hour1_test$consumption-predicts_hour1)/predicts_hour1)))\n",
    "MAPE2d_reg_values=as.vector(abs(((hour2_test$consumption-predicts_hour2)/predicts_hour2)))\n",
    "MAPE3d_reg_values=as.vector(abs(((hour3_test$consumption-predicts_hour3)/predicts_hour3)))\n",
    "MAPE4d_reg_values=as.vector(abs(((hour4_test$consumption-predicts_hour4)/predicts_hour4)))\n",
    "MAPE5d_reg_values=as.vector(abs(((hour5_test$consumption-predicts_hour5)/predicts_hour5)))\n",
    "MAPE6d_reg_values=as.vector(abs(((hour6_test$consumption-predicts_hour6)/predicts_hour6)))\n",
    "MAPE7d_reg_values=as.vector(abs(((hour7_test$consumption-predicts_hour7)/predicts_hour7)))\n",
    "MAPE8d_reg_values=as.vector(abs(((hour8_test$consumption-predicts_hour8)/predicts_hour8)))\n",
    "MAPE9d_reg_values=as.vector(abs(((hour9_test$consumption-predicts_hour9)/predicts_hour9)))\n",
    "MAPE10d_reg_values=as.vector(abs(((hour10_test$consumption-predicts_hour10)/predicts_hour10)))\n",
    "MAPE11d_reg_values=as.vector(abs(((hour11_test$consumption-predicts_hour11)/predicts_hour11)))\n",
    "MAPE12d_reg_values=as.vector(abs(((hour12_test$consumption-predicts_hour12)/predicts_hour12)))\n",
    "MAPE13d_reg_values=as.vector(abs(((hour13_test$consumption-predicts_hour13)/predicts_hour13)))\n",
    "MAPE14d_reg_values=as.vector(abs(((hour14_test$consumption-predicts_hour14)/predicts_hour14)))\n",
    "MAPE15d_reg_values=as.vector(abs(((hour15_test$consumption-predicts_hour15)/predicts_hour15)))\n",
    "MAPE16d_reg_values=as.vector(abs(((hour16_test$consumption-predicts_hour16)/predicts_hour16)))\n",
    "MAPE17d_reg_values=as.vector(abs(((hour17_test$consumption-predicts_hour17)/predicts_hour17)))\n",
    "MAPE18d_reg_values=as.vector(abs(((hour18_test$consumption-predicts_hour18)/predicts_hour18)))\n",
    "MAPE19d_reg_values=as.vector(abs(((hour19_test$consumption-predicts_hour19)/predicts_hour19)))\n",
    "MAPE20d_reg_values=as.vector(abs(((hour20_test$consumption-predicts_hour20)/predicts_hour20)))\n",
    "MAPE21d_reg_values=as.vector(abs(((hour21_test$consumption-predicts_hour21)/predicts_hour21)))\n",
    "MAPE22d_reg_values=as.vector(abs(((hour22_test$consumption-predicts_hour22)/predicts_hour22)))\n",
    "MAPE23d_reg_values=as.vector(abs(((hour23_test$consumption-predicts_hour23)/predicts_hour23)))\n"
   ]
  },
  {
   "cell_type": "code",
   "execution_count": 100,
   "metadata": {},
   "outputs": [],
   "source": [
    "D_all_val=c(MAPE0d_reg_values,MAPE1d_reg_values,MAPE2d_reg_values,MAPE3d_reg_values,MAPE4d_reg_values,MAPE5d_reg_values,\n",
    "           MAPE6d_reg_values,MAPE7d_reg_values,MAPE8d_reg_values,MAPE9d_reg_values,MAPE10d_reg_values,MAPE11d_reg_values,\n",
    "           MAPE12d_reg_values,MAPE13d_reg_values,MAPE14d_reg_values,MAPE15d_reg_values,MAPE16d_reg_values,MAPE17d_reg_values,\n",
    "           MAPE18d_reg_values,MAPE19d_reg_values,MAPE20d_reg_values,MAPE21d_reg_values,MAPE22d_reg_values,MAPE23d_reg_values)"
   ]
  },
  {
   "cell_type": "markdown",
   "metadata": {},
   "source": [
    "## General Summary Statistic for Hourly Model with Lasso Penalty"
   ]
  },
  {
   "cell_type": "code",
   "execution_count": 101,
   "metadata": {},
   "outputs": [
    {
     "data": {
      "text/plain": [
       "     Min.   1st Qu.    Median      Mean   3rd Qu.      Max. \n",
       "0.0001601 0.0085149 0.0171214 0.0255044 0.0321593 0.1574406 "
      ]
     },
     "metadata": {},
     "output_type": "display_data"
    }
   ],
   "source": [
    "summary(D_all_val)"
   ]
  },
  {
   "cell_type": "markdown",
   "metadata": {},
   "source": [
    "## Results of Lasso Models"
   ]
  },
  {
   "cell_type": "markdown",
   "metadata": {},
   "source": [
    "When lambda version is determined as min, both lags' values become important. Namely, both lags have significant role to predict the consumption. In the cv.glmnet \"measure.type\" is determined as \"mae\", which caused from fixed loss function type. In other words, model objective must be determined in terms of fixed loss type. How many features were selected for model depends on the hour, but in general number of features is arranged in between 40 to 15. Also, lambda values are also varied  between the hourly models. In general it is hard to say that there are fixed number of selected number of features and values of lambda for all hours. However, there are similar models for different hours. These models have the same significant parameters and similar coefficients for these parameters. It's hard to observe that but similar models are sequent hour models in general.\n",
    "\n",
    "Moreover, it can be said that prediction performance is similar to predictions without the lasso penalty in terms of hourly results. So, it can be said that predicting midday consumption is harder than midnight, which can be caused by the volume of the deviation in consumption values that differs for different hours.\n",
    "\n",
    "Lastly, the performance of the Lasso model was evaluated at the end of homework, which enables us to observe the difference and actual performance of the model by comparing the other models. So, the performance of the Lasso Model can be found at the end of Homework. "
   ]
  },
  {
   "cell_type": "markdown",
   "metadata": {},
   "source": [
    "# Part F"
   ]
  },
  {
   "cell_type": "markdown",
   "metadata": {},
   "source": [
    "The obtained averages of MAPE values are one of the good indicators for performance. So all the mean of MAPE values for each part displayed as follows:"
   ]
  },
  {
   "cell_type": "code",
   "execution_count": 102,
   "metadata": {},
   "outputs": [
    {
     "name": "stdout",
     "output_type": "stream",
     "text": [
      "[1] \"MAPE values for Lag_48 results(PART A): 0.0818808509914842\"\n",
      "[1] \"MAPE values for Lag_168 results(PART A): 0.0365111250910964\"\n",
      "[1] \"MAPE values for Regression Model: 0.0423023288459373\"\n",
      "[1] \"MAPE values(average of all hour) for hourly results(PART C): 0.0435844962464306\"\n",
      "[1] \"MAPE values for Part D results(PART D): 0.0255043860515335\"\n"
     ]
    }
   ],
   "source": [
    "MAPE_hourly=(MAPE_0+MAPE_1+MAPE_2+MAPE_3+MAPE_4+MAPE_5+MAPE_6+MAPE_7+MAPE_8+MAPE_9+\n",
    "            MAPE_10+MAPE_11+MAPE_12+MAPE_13+MAPE_14+MAPE_15+MAPE_16+MAPE_17+MAPE_18+MAPE_19+\n",
    "            MAPE_20+MAPE_21+MAPE_22+MAPE_23)/24\n",
    "\n",
    "\n",
    "print(paste(\"MAPE values for Lag_48 results(PART A):\",MAPE_48))\n",
    "print(paste(\"MAPE values for Lag_168 results(PART A):\",MAPE_168))\n",
    "print(paste(\"MAPE values for Regression Model:\",MAPE_reg))\n",
    "print(paste(\"MAPE values(average of all hour) for hourly results(PART C):\",MAPE_hourly))\n",
    "print(paste(\"MAPE values for Part D results(PART D):\",mean(mape_result_d)))"
   ]
  },
  {
   "cell_type": "code",
   "execution_count": 103,
   "metadata": {},
   "outputs": [
    {
     "name": "stderr",
     "output_type": "stream",
     "text": [
      "Warning message in melt.data.table(MAPE_dt):\n",
      "\"To be consistent with reshape2's melt, id.vars and measure.vars are internally guessed when both are 'NULL'. All non-numeric/integer/logical type columns are considered id.vars, which in this case are columns []. Consider providing at least one of 'id' or 'measure' vars in future.\""
     ]
    }
   ],
   "source": [
    "MAPE_dt=data.table(\"MAPE of Lag 48\"=MAPE_48_values,\"MAPE of Lag 168\"=MAPE_168_values,\"MAPE of Regr.\"=MAPE_reg_values,\"MAPE of Seasonality\"=C_all_val ,\"MAPE of Lasso\"=D_all_val)\n",
    "melted_dt=melt(MAPE_dt)"
   ]
  },
  {
   "cell_type": "markdown",
   "metadata": {},
   "source": [
    "For understanding the statistical features of the obtained errors for each part, a data table is added. In this data table, it can be observed min, max, quartiles, and standard deviation of each part's errors. Similar information can also be achieved in the boxplot, but in order to get precise values, the data table is much more convenient and useful. "
   ]
  },
  {
   "cell_type": "markdown",
   "metadata": {},
   "source": [
    "### Summary Table for Errors"
   ]
  },
  {
   "cell_type": "code",
   "execution_count": 104,
   "metadata": {},
   "outputs": [
    {
     "data": {
      "text/html": [
       "<table>\n",
       "<thead><tr><th scope=col>variable</th><th scope=col>Average Mape</th><th scope=col>Minimum</th><th scope=col>Lower Quartile</th><th scope=col>Upper Quartile</th><th scope=col>Maximum</th><th scope=col>Standard Deviation</th></tr></thead>\n",
       "<tbody>\n",
       "\t<tr><td>MAPE of Lag 48     </td><td>0.08188085         </td><td>9.546393e-05       </td><td>0.016631012        </td><td>0.10403641         </td><td>0.4467156          </td><td>0.08754893         </td></tr>\n",
       "\t<tr><td>MAPE of Lag 168    </td><td>0.03651113         </td><td>8.522179e-05       </td><td>0.013539404        </td><td>0.04765597         </td><td>0.2432434          </td><td>0.03555525         </td></tr>\n",
       "\t<tr><td>MAPE of Regr.      </td><td>0.04230233         </td><td>3.668726e-05       </td><td>0.018270815        </td><td>0.05706363         </td><td>0.1661240          </td><td>0.03378905         </td></tr>\n",
       "\t<tr><td>MAPE of Seasonality</td><td>0.04358450         </td><td>4.843149e-04       </td><td>0.021602144        </td><td>0.05906268         </td><td>0.1656688          </td><td>0.03063277         </td></tr>\n",
       "\t<tr><td>MAPE of Lasso      </td><td>0.02550439         </td><td>1.601431e-04       </td><td>0.008514905        </td><td>0.03215926         </td><td>0.1574406          </td><td>0.02705346         </td></tr>\n",
       "</tbody>\n",
       "</table>\n"
      ],
      "text/latex": [
       "\\begin{tabular}{r|lllllll}\n",
       " variable & Average Mape & Minimum & Lower Quartile & Upper Quartile & Maximum & Standard Deviation\\\\\n",
       "\\hline\n",
       "\t MAPE of Lag 48      & 0.08188085          & 9.546393e-05        & 0.016631012         & 0.10403641          & 0.4467156           & 0.08754893         \\\\\n",
       "\t MAPE of Lag 168     & 0.03651113          & 8.522179e-05        & 0.013539404         & 0.04765597          & 0.2432434           & 0.03555525         \\\\\n",
       "\t MAPE of Regr.       & 0.04230233          & 3.668726e-05        & 0.018270815         & 0.05706363          & 0.1661240           & 0.03378905         \\\\\n",
       "\t MAPE of Seasonality & 0.04358450          & 4.843149e-04        & 0.021602144         & 0.05906268          & 0.1656688           & 0.03063277         \\\\\n",
       "\t MAPE of Lasso       & 0.02550439          & 1.601431e-04        & 0.008514905         & 0.03215926          & 0.1574406           & 0.02705346         \\\\\n",
       "\\end{tabular}\n"
      ],
      "text/markdown": [
       "\n",
       "| variable | Average Mape | Minimum | Lower Quartile | Upper Quartile | Maximum | Standard Deviation |\n",
       "|---|---|---|---|---|---|---|\n",
       "| MAPE of Lag 48      | 0.08188085          | 9.546393e-05        | 0.016631012         | 0.10403641          | 0.4467156           | 0.08754893          |\n",
       "| MAPE of Lag 168     | 0.03651113          | 8.522179e-05        | 0.013539404         | 0.04765597          | 0.2432434           | 0.03555525          |\n",
       "| MAPE of Regr.       | 0.04230233          | 3.668726e-05        | 0.018270815         | 0.05706363          | 0.1661240           | 0.03378905          |\n",
       "| MAPE of Seasonality | 0.04358450          | 4.843149e-04        | 0.021602144         | 0.05906268          | 0.1656688           | 0.03063277          |\n",
       "| MAPE of Lasso       | 0.02550439          | 1.601431e-04        | 0.008514905         | 0.03215926          | 0.1574406           | 0.02705346          |\n",
       "\n"
      ],
      "text/plain": [
       "  variable            Average Mape Minimum      Lower Quartile Upper Quartile\n",
       "1 MAPE of Lag 48      0.08188085   9.546393e-05 0.016631012    0.10403641    \n",
       "2 MAPE of Lag 168     0.03651113   8.522179e-05 0.013539404    0.04765597    \n",
       "3 MAPE of Regr.       0.04230233   3.668726e-05 0.018270815    0.05706363    \n",
       "4 MAPE of Seasonality 0.04358450   4.843149e-04 0.021602144    0.05906268    \n",
       "5 MAPE of Lasso       0.02550439   1.601431e-04 0.008514905    0.03215926    \n",
       "  Maximum   Standard Deviation\n",
       "1 0.4467156 0.08754893        \n",
       "2 0.2432434 0.03555525        \n",
       "3 0.1661240 0.03378905        \n",
       "4 0.1656688 0.03063277        \n",
       "5 0.1574406 0.02705346        "
      ]
     },
     "metadata": {},
     "output_type": "display_data"
    }
   ],
   "source": [
    "feature_summary=melted_dt[,list(\"Average Mape\"=mean(value),Minimum=min(value),\"Lower Quartile\"=quantile(value)[2],\n",
    "                             \"Upper Quartile\"=quantile(value)[4],Maximum=max(value),\"Standard Deviation\"=sd(value))\n",
    "                               ,by=list(variable)]\n",
    "feature_summary                     "
   ]
  },
  {
   "cell_type": "markdown",
   "metadata": {},
   "source": [
    "### Boxplot for Obtained Results"
   ]
  },
  {
   "cell_type": "code",
   "execution_count": 105,
   "metadata": {},
   "outputs": [
    {
     "data": {
      "image/png": "[encoded data removed]",
      "text/plain": [
       "plot without title"
      ]
     },
     "metadata": {},
     "output_type": "display_data"
    }
   ],
   "source": [
    "ggplot(melted_dt,aes(x=variable,y=value*100,fill=variable))+geom_boxplot(position=position_dodge())+\n",
    "        theme(legend.position = \"none\")+ggtitle(\"Comparison of MAPE Values\")+xlab(\"Models\")+ylab(\"MAPE Values (Percentage)\")"
   ]
  },
  {
   "cell_type": "markdown",
   "metadata": {},
   "source": [
    "## Final Thoughts"
   ]
  },
  {
   "cell_type": "markdown",
   "metadata": {},
   "source": [
    "In the beginning, it can be said that consumption values from 1 week before are much useful for predicting the consumption which must be caused by similar consumption patterns for week's days. Namely, consumption's volume depends on which day is of the week because similar tasks are performed on the same days. In addition, Lag 168 is a good predictor for naive approach. \n",
    "\n",
    "It is hard to say that the Lag 48 Model is a good naive approach for prediction. In general, consumption of weekdays and weekends differs a lot. However, the Weekend's consumption is predicted by using Thursday and Friday consumption values which are irrelevant to the consumption pattern on weekends in the Lag 48 Model. \n",
    "\n",
    "The Mean absolute error in Regression Model is higher than the Lag 168 Model. However, the biggest absolute error is 50 percent decreased. This fact is very important when making a bid in order to save money. Because it becomes much costly when there is a huge difference between prediction and actual consumption. So, the regression model can be considered as a good prediction model.\n",
    "\n",
    "The biggest difference for the Seasonality model is the increased number of features for each model. But, much as there is an increase in the number of features, all models have a small input size to train the model. So, it may hard to establish a good predictor for consumption with the limited dataset. However, the maximum value of the error decreased in this model compared to the Regression Model. In addition, the Mean absolute error increased in this model, which is one of the deficits for this model.\n",
    "\n",
    "Finally, the best model achieved by the Lasso model. This model is the best in terms of both mean absolute error and the maximum value of absolute error. Input size must be the key factor for understanding the improvement between the seasonality model and lasso model. If models have limited input, coefficients tend to become big numbers for fitting the training set. Namely, the training set doesn't have enough data to represent all the cases for consumption, which caused overfitting for the training model. By applying the lasso function, the over-fitting problem was discarded and a decrease is achieved in generalization errors(in test set prediction)."
   ]
  },
  {
   "cell_type": "code",
   "execution_count": null,
   "metadata": {},
   "outputs": [],
   "source": []
  }
 ],
 "metadata": {
  "kernelspec": {
   "display_name": "R",
   "language": "R",
   "name": "ir"
  },
  "language_info": {
   "codemirror_mode": "r",
   "file_extension": ".r",
   "mimetype": "text/x-r-source",
   "name": "R",
   "pygments_lexer": "r",
   "version": "3.6.1"
  }
 },
 "nbformat": 4,
 "nbformat_minor": 4
}
