{
 "cells": [
  {
   "cell_type": "code",
   "execution_count": 3,
   "metadata": {},
   "outputs": [],
   "source": [
    "library(data.table)\n",
    "library(glmnet)\n",
    "library(ggplot2)\n",
    "library(lubridate, quietly=TRUE)\n",
    "library(zoo, quietly = TRUE)\n",
    "library(dplyr, quietly = TRUE)\n",
    "library(GGally, quietly=TRUE)\n",
    "library(caTools)\n",
    "library(rpart)\n",
    "library(rattle)\n",
    "library(caret)\n",
    "library(e1071)\n",
    "library(randomForest)\n",
    "library(gbm)\n",
    "library(fastDummies)"
   ]
  },
  {
   "cell_type": "markdown",
   "metadata": {},
   "source": [
    "### Performance Function"
   ]
  },
  {
   "cell_type": "code",
   "execution_count": 4,
   "metadata": {},
   "outputs": [],
   "source": [
    "perf_dt=function(type,actual,forecast){\n",
    "    name=type\n",
    "    n=length(actual)\n",
    "    error=actual-forecast\n",
    "    mean=mean(actual)\n",
    "    sd=sd(actual)\n",
    "    FBias=sum(error)/sum(actual)\n",
    "    MPE=sum(error/actual)/n\n",
    "    MAPE=sum(abs(error/actual))/n\n",
    "    RMSE=sqrt(sum(error^2))/n\n",
    "    MAD=sum(abs(error))/n\n",
    "    WMAPE=MAD/mean\n",
    "    l=data.frame(name,n,mean,sd,FBias,MAPE,RMSE,MAD,WMAPE)\n",
    "    return(l)\n",
    "}"
   ]
  },
  {
   "cell_type": "markdown",
   "metadata": {},
   "source": [
    "# Student Performance Dataset"
   ]
  },
  {
   "cell_type": "markdown",
   "metadata": {},
   "source": [
    "Attribute Information:\n",
    "\n",
    "instr: Instructor's identifier; values taken from {1,2,3}\n",
    "\n",
    "class: Course code (descriptor); values taken from {1-13}\n",
    "\n",
    "repeat: Number of times the student is taking this course; values taken from {0,1,2,3,...}\n",
    "\n",
    "attendance: Code of the level of attendance; values from {0, 1, 2, 3, 4}\n",
    "\n",
    "difficulty: Level of difficulty of the course as perceived by the student; values taken from {1,2,3,4,5}\n",
    "\n",
    "Q1: The semester course content, teaching method and evaluation system were provided at the start.\n",
    "\n",
    "Q2: The course aims and objectives were clearly stated at the beginning of the period.\n",
    "\n",
    "Q3: The course was worth the amount of credit assigned to it.\n",
    "\n",
    "Q4: The course was taught according to the syllabus announced on the first day of class.\n",
    "\n",
    "Q5: The class discussions, homework assignments, applications and studies were satisfactory.\n",
    "\n",
    "Q6: The textbook and other courses resources were sufficient and up to date.\n",
    "\n",
    "Q7: The course allowed field work, applications, laboratory, discussion and other studies.\n",
    "\n",
    "Q8: The quizzes, assignments, projects and exams contributed to helping the learning.\n",
    "\n",
    "Q9: I greatly enjoyed the class and was eager to actively participate during the lectures.\n",
    "\n",
    "Q10: My initial expectations about the course were met at the end of the period or year.\n",
    "\n",
    "Q11: The course was relevant and beneficial to my professional development.\n",
    "\n",
    "Q12: The course helped me look at life and the world with a new perspective.\n",
    "\n",
    "Q13: The Instructor's knowledge was relevant and up to date.\n",
    "\n",
    "Q14: The Instructor came prepared for classes.\n",
    "\n",
    "Q15: The Instructor taught in accordance with the announced lesson plan.\n",
    "\n",
    "Q16: The Instructor was committed to the course and was understandable.\n",
    "\n",
    "Q17: The Instructor arrived on time for classes.\n",
    "\n",
    "Q18: The Instructor has a smooth and easy to follow delivery/speech.\n",
    "\n",
    "Q19: The Instructor made effective use of class hours.\n",
    "\n",
    "Q20: The Instructor explained the course and was eager to be helpful to students.\n",
    "\n",
    "Q21: The Instructor demonstrated a positive approach to students.\n",
    "\n",
    "Q22: The Instructor was open and respectful of the views of students about the course.\n",
    "\n",
    "Q23: The Instructor encouraged participation in the course.\n",
    "\n",
    "Q24: The Instructor gave relevant homework assignments/projects, and helped/guided students.\n",
    "\n",
    "Q25: The Instructor responded to questions about the course inside and outside of the course.\n",
    "\n",
    "Q26: The Instructor's evaluation system (midterm and final questions, projects, assignments, etc.) effectively measured the course objectives.\n",
    "\n",
    "Q27: The Instructor provided solutions to exams and discussed them with students.\n",
    "\n",
    "Q28: The Instructor treated all students in a right and objective manner.\n",
    "\n",
    "Q1-Q28 are all Likert-type, meaning that the values are taken from {1,2,3,4,5}"
   ]
  },
  {
   "cell_type": "markdown",
   "metadata": {},
   "source": [
    "### Loading Dataset"
   ]
  },
  {
   "cell_type": "code",
   "execution_count": 5,
   "metadata": {},
   "outputs": [],
   "source": [
    "std_eva=read.csv(\"turkiye-student-evaluation_R_Specific.csv\")\n",
    "std_eva=as.data.table(std_eva)"
   ]
  },
  {
   "cell_type": "code",
   "execution_count": 6,
   "metadata": {},
   "outputs": [],
   "source": [
    "for (i in colnames(std_eva)){\n",
    "   std_eva[[i]]=as.factor(std_eva[[i]])\n",
    "}"
   ]
  },
  {
   "cell_type": "code",
   "execution_count": 7,
   "metadata": {},
   "outputs": [
    {
     "name": "stderr",
     "output_type": "stream",
     "text": [
      "Warning message in `[.data.table`(std_eva, , `:=`(y, difficulty)):\n",
      "\"Invalid .internal.selfref detected and fixed by taking a (shallow) copy of the data.table so that := can add this new column by reference. At an earlier point, this data.table has been copied by R (or was created manually using structure() or similar). Avoid names<- and attr<- which in R currently (and oddly) may copy the whole data.table. Use set* syntax instead to avoid copying: ?set, ?setnames and ?setattr. If this message doesn't help, please report your use case to the data.table issue tracker so the root cause can be fixed or this message improved.\""
     ]
    }
   ],
   "source": [
    "std_eva[,y:=difficulty]\n",
    "std_eva[,difficulty:=NULL]"
   ]
  },
  {
   "cell_type": "code",
   "execution_count": 8,
   "metadata": {
    "scrolled": false
   },
   "outputs": [
    {
     "name": "stdout",
     "output_type": "stream",
     "text": [
      "Classes 'data.table' and 'data.frame':\t5820 obs. of  33 variables:\n",
      " $ instr     : Factor w/ 3 levels \"1\",\"2\",\"3\": 1 1 1 1 1 1 1 1 1 1 ...\n",
      " $ class     : Factor w/ 13 levels \"1\",\"2\",\"3\",\"4\",..: 2 2 2 2 2 2 2 2 2 2 ...\n",
      " $ nb.repeat : Factor w/ 3 levels \"1\",\"2\",\"3\": 1 1 1 1 1 1 1 1 1 1 ...\n",
      " $ attendance: Factor w/ 5 levels \"0\",\"1\",\"2\",\"3\",..: 1 2 3 2 1 4 2 2 2 5 ...\n",
      " $ Q1        : Factor w/ 5 levels \"1\",\"2\",\"3\",\"4\",..: 3 3 5 3 1 4 4 5 4 4 ...\n",
      " $ Q2        : Factor w/ 5 levels \"1\",\"2\",\"3\",\"4\",..: 3 3 5 3 1 4 4 5 4 4 ...\n",
      " $ Q3        : Factor w/ 5 levels \"1\",\"2\",\"3\",\"4\",..: 3 3 5 3 1 4 4 5 4 4 ...\n",
      " $ Q4        : Factor w/ 5 levels \"1\",\"2\",\"3\",\"4\",..: 3 3 5 3 1 4 4 5 4 4 ...\n",
      " $ Q5        : Factor w/ 5 levels \"1\",\"2\",\"3\",\"4\",..: 3 3 5 3 1 4 4 5 4 4 ...\n",
      " $ Q6        : Factor w/ 5 levels \"1\",\"2\",\"3\",\"4\",..: 3 3 5 3 1 4 4 5 4 4 ...\n",
      " $ Q7        : Factor w/ 5 levels \"1\",\"2\",\"3\",\"4\",..: 3 3 5 3 1 4 4 5 4 4 ...\n",
      " $ Q8        : Factor w/ 5 levels \"1\",\"2\",\"3\",\"4\",..: 3 3 5 3 1 4 4 5 4 4 ...\n",
      " $ Q9        : Factor w/ 5 levels \"1\",\"2\",\"3\",\"4\",..: 3 3 5 3 1 4 4 5 4 4 ...\n",
      " $ Q10       : Factor w/ 5 levels \"1\",\"2\",\"3\",\"4\",..: 3 3 5 3 1 4 4 5 4 4 ...\n",
      " $ Q11       : Factor w/ 5 levels \"1\",\"2\",\"3\",\"4\",..: 3 3 5 3 1 4 4 5 5 4 ...\n",
      " $ Q12       : Factor w/ 5 levels \"1\",\"2\",\"3\",\"4\",..: 3 3 5 3 1 4 4 5 4 4 ...\n",
      " $ Q13       : Factor w/ 5 levels \"1\",\"2\",\"3\",\"4\",..: 3 3 5 3 1 4 4 5 4 4 ...\n",
      " $ Q14       : Factor w/ 5 levels \"1\",\"2\",\"3\",\"4\",..: 3 3 5 3 1 4 4 5 4 4 ...\n",
      " $ Q15       : Factor w/ 5 levels \"1\",\"2\",\"3\",\"4\",..: 3 3 5 3 1 4 4 5 4 4 ...\n",
      " $ Q16       : Factor w/ 5 levels \"1\",\"2\",\"3\",\"4\",..: 3 3 5 3 1 4 4 5 4 4 ...\n",
      " $ Q17       : Factor w/ 5 levels \"1\",\"2\",\"3\",\"4\",..: 3 3 5 3 1 4 4 5 4 4 ...\n",
      " $ Q18       : Factor w/ 5 levels \"1\",\"2\",\"3\",\"4\",..: 3 3 5 3 1 4 4 5 4 4 ...\n",
      " $ Q19       : Factor w/ 5 levels \"1\",\"2\",\"3\",\"4\",..: 3 3 5 3 1 4 4 5 4 4 ...\n",
      " $ Q20       : Factor w/ 5 levels \"1\",\"2\",\"3\",\"4\",..: 3 3 5 3 1 4 4 5 4 4 ...\n",
      " $ Q21       : Factor w/ 5 levels \"1\",\"2\",\"3\",\"4\",..: 3 3 5 3 1 4 4 5 4 4 ...\n",
      " $ Q22       : Factor w/ 5 levels \"1\",\"2\",\"3\",\"4\",..: 3 3 5 3 1 4 4 5 4 4 ...\n",
      " $ Q23       : Factor w/ 5 levels \"1\",\"2\",\"3\",\"4\",..: 3 3 5 3 1 4 4 5 4 4 ...\n",
      " $ Q24       : Factor w/ 5 levels \"1\",\"2\",\"3\",\"4\",..: 3 3 5 3 1 4 4 5 4 4 ...\n",
      " $ Q25       : Factor w/ 5 levels \"1\",\"2\",\"3\",\"4\",..: 3 3 5 3 1 4 4 5 4 4 ...\n",
      " $ Q26       : Factor w/ 5 levels \"1\",\"2\",\"3\",\"4\",..: 3 3 5 3 1 4 4 5 4 4 ...\n",
      " $ Q27       : Factor w/ 5 levels \"1\",\"2\",\"3\",\"4\",..: 3 3 5 3 1 4 4 5 4 4 ...\n",
      " $ Q28       : Factor w/ 5 levels \"1\",\"2\",\"3\",\"4\",..: 3 3 5 3 1 4 4 5 4 4 ...\n",
      " $ y         : Factor w/ 5 levels \"1\",\"2\",\"3\",\"4\",..: 4 3 4 3 1 3 3 3 3 4 ...\n",
      " - attr(*, \".internal.selfref\")=<externalptr> \n"
     ]
    }
   ],
   "source": [
    "str(std_eva)"
   ]
  },
  {
   "cell_type": "code",
   "execution_count": 9,
   "metadata": {},
   "outputs": [],
   "source": [
    "set.seed(35)\n",
    "spl=sample.split(std_eva$y, SplitRatio = 0.8)\n",
    "train=subset(std_eva,spl==TRUE)\n",
    "test=subset(std_eva,spl==FALSE)"
   ]
  },
  {
   "cell_type": "markdown",
   "metadata": {},
   "source": [
    "## Penalized Regression Approaches(PRA)"
   ]
  },
  {
   "cell_type": "markdown",
   "metadata": {},
   "source": [
    "### L1 Penalty with Mean Square Error measure"
   ]
  },
  {
   "cell_type": "markdown",
   "metadata": {},
   "source": [
    "In order to tune lambda values, glmnet packages are used to get best lambda values for Penalized Regression. "
   ]
  },
  {
   "cell_type": "code",
   "execution_count": 10,
   "metadata": {},
   "outputs": [],
   "source": [
    "train_mat=data.matrix(train[complete.cases(train),-c(\"y\"),with=F])\n",
    "\n",
    "result_vec=as.vector(t(train[complete.cases(train),\"y\"]))\n",
    "\n",
    "cvfit=cv.glmnet(train_mat,result_vec,family=\"multinomial\",nfolds = 10, type.measure=\"mse\")\n",
    "\n",
    "test_mat=data.matrix(test[complete.cases(test),-c(\"y\")])\n",
    "\n",
    "lasso_model_mse_min <- glmnet(train_mat,result_vec, alpha = 1, lambda = cvfit$lambda.min, standardize = FALSE,family=\"multinomial\")\n",
    "lasso_model_mse_1se <- glmnet(train_mat,result_vec, alpha = 1, lambda = cvfit$lambda.1se, standardize = FALSE,family=\"multinomial\")\n",
    "lasso_model_mse_10th <- glmnet(train_mat,result_vec, alpha = 1, lambda = cvfit$lambda[10], standardize = FALSE,family=\"multinomial\")"
   ]
  },
  {
   "cell_type": "code",
   "execution_count": 11,
   "metadata": {},
   "outputs": [],
   "source": [
    "# train_mat=data.matrix(train[complete.cases(train),-c(\"y\"),with=F])\n",
    "\n",
    "# result_vec=as.vector(t(train[complete.cases(train),\"y\"]))\n",
    "\n",
    "# cvfit=cv.glmnet(train_mat,result_vec,family=\"multinomial\",nfolds = 10)\n",
    "\n",
    "# test_mat=data.matrix(test[complete.cases(test),-c(\"y\")])\n",
    "\n",
    "# lasso_model <- glmnet(train_mat,result_vec, alpha = 1, lambda = cvfit$lambda.min, standardize = FALSE,family=\"multinomial\")"
   ]
  },
  {
   "cell_type": "code",
   "execution_count": 12,
   "metadata": {},
   "outputs": [
    {
     "data": {
      "image/png": "[encoded data removed]",
      "text/plain": [
       "plot without title"
      ]
     },
     "metadata": {},
     "output_type": "display_data"
    }
   ],
   "source": [
    "plot(cvfit)"
   ]
  },
  {
   "cell_type": "markdown",
   "metadata": {},
   "source": [
    "### Lambda Values for Mean Square Error Values"
   ]
  },
  {
   "cell_type": "code",
   "execution_count": 13,
   "metadata": {},
   "outputs": [
    {
     "data": {
      "text/html": [
       "0.00217931358111362"
      ],
      "text/latex": [
       "0.00217931358111362"
      ],
      "text/markdown": [
       "0.00217931358111362"
      ],
      "text/plain": [
       "[1] 0.002179314"
      ]
     },
     "metadata": {},
     "output_type": "display_data"
    }
   ],
   "source": [
    "cvfit$lambda.min"
   ]
  },
  {
   "cell_type": "code",
   "execution_count": 14,
   "metadata": {},
   "outputs": [
    {
     "data": {
      "text/html": [
       "0.00730419316746016"
      ],
      "text/latex": [
       "0.00730419316746016"
      ],
      "text/markdown": [
       "0.00730419316746016"
      ],
      "text/plain": [
       "[1] 0.007304193"
      ]
     },
     "metadata": {},
     "output_type": "display_data"
    }
   ],
   "source": [
    "cvfit$lambda.1se"
   ]
  },
  {
   "cell_type": "code",
   "execution_count": 15,
   "metadata": {},
   "outputs": [
    {
     "data": {
      "text/html": [
       "0.098829222863566"
      ],
      "text/latex": [
       "0.098829222863566"
      ],
      "text/markdown": [
       "0.098829222863566"
      ],
      "text/plain": [
       "[1] 0.09882922"
      ]
     },
     "metadata": {},
     "output_type": "display_data"
    }
   ],
   "source": [
    "cvfit$lambda[10]"
   ]
  },
  {
   "cell_type": "markdown",
   "metadata": {},
   "source": [
    "2 possible lambda values are determined by the cv.glmnet(). One of them is used for getting minimum Mean-Squared Error. The other one is determined by looking how many paramater is used in the model. Namely, this lambda value can be beneficial for reducing the possibility of over-fitting model on train dataset. Lastly, one random lambda was selected to compare results for these 3 lambda values."
   ]
  },
  {
   "cell_type": "code",
   "execution_count": 16,
   "metadata": {},
   "outputs": [],
   "source": [
    "prediction_pra_mse_min <- predict(lasso_model_mse_min, s = cvfit$lambda.min, newx = test_mat, type=\"class\")\n",
    "prediction_pra_mse_1se <- predict(lasso_model_mse_1se, s = cvfit$lambda.1se, newx = test_mat, type=\"class\")\n",
    "prediction_pra_mse_10th <- predict(lasso_model_mse_10th, s = cvfit$lambda[10], newx = test_mat, type=\"class\")"
   ]
  },
  {
   "cell_type": "markdown",
   "metadata": {},
   "source": [
    "## L1 Penalty with Mean Absolute Error measure"
   ]
  },
  {
   "cell_type": "code",
   "execution_count": 17,
   "metadata": {},
   "outputs": [],
   "source": [
    "train_mat=data.matrix(train[complete.cases(train),-c(\"y\"),with=F])\n",
    "\n",
    "result_vec=as.vector(t(train[complete.cases(train),\"y\"]))\n",
    "\n",
    "cvfit_mae=cv.glmnet(train_mat,result_vec,family=\"multinomial\",nfolds = 10, type.measure=\"mae\")\n",
    "\n",
    "test_mat=data.matrix(test[complete.cases(test),-c(\"y\")])\n",
    "\n",
    "lasso_model_mae_min <- glmnet(train_mat,result_vec, alpha = 1, lambda = cvfit_mae$lambda.min, standardize = FALSE,family=\"multinomial\")\n",
    "lasso_model_mae_1se <- glmnet(train_mat,result_vec, alpha = 1, lambda = cvfit_mae$lambda.1se, standardize = FALSE,family=\"multinomial\")\n",
    "lasso_model_mae_10th <- glmnet(train_mat,result_vec, alpha = 1, lambda = cvfit_mae$lambda[10], standardize = FALSE,family=\"multinomial\")"
   ]
  },
  {
   "cell_type": "code",
   "execution_count": 18,
   "metadata": {},
   "outputs": [
    {
     "data": {
      "image/png": "[encoded data removed]",
      "text/plain": [
       "plot without title"
      ]
     },
     "metadata": {},
     "output_type": "display_data"
    }
   ],
   "source": [
    "plot(cvfit_mae)"
   ]
  },
  {
   "cell_type": "markdown",
   "metadata": {},
   "source": [
    "### Lambda Values for Mean Square Error Values"
   ]
  },
  {
   "cell_type": "code",
   "execution_count": 19,
   "metadata": {},
   "outputs": [
    {
     "data": {
      "text/html": [
       "0.000194005783019307"
      ],
      "text/latex": [
       "0.000194005783019307"
      ],
      "text/markdown": [
       "0.000194005783019307"
      ],
      "text/plain": [
       "[1] 0.0001940058"
      ]
     },
     "metadata": {},
     "output_type": "display_data"
    }
   ],
   "source": [
    "cvfit_mae$lambda.min"
   ]
  },
  {
   "cell_type": "code",
   "execution_count": 20,
   "metadata": {},
   "outputs": [
    {
     "data": {
      "text/html": [
       "0.00150211631735635"
      ],
      "text/latex": [
       "0.00150211631735635"
      ],
      "text/markdown": [
       "0.00150211631735635"
      ],
      "text/plain": [
       "[1] 0.001502116"
      ]
     },
     "metadata": {},
     "output_type": "display_data"
    }
   ],
   "source": [
    "cvfit_mae$lambda.1se"
   ]
  },
  {
   "cell_type": "code",
   "execution_count": 21,
   "metadata": {},
   "outputs": [
    {
     "data": {
      "text/html": [
       "0.098829222863566"
      ],
      "text/latex": [
       "0.098829222863566"
      ],
      "text/markdown": [
       "0.098829222863566"
      ],
      "text/plain": [
       "[1] 0.09882922"
      ]
     },
     "metadata": {},
     "output_type": "display_data"
    }
   ],
   "source": [
    "cvfit_mae$lambda[10]"
   ]
  },
  {
   "cell_type": "markdown",
   "metadata": {},
   "source": [
    "2 possible lambda values are determined by the cv.glmnet(). One of them is used for getting minimum Mean-Squared Error. The other one is determined by looking how many paramater is used in the model. Namely, this lambda value can be beneficial for reducing the possibility of over-fitting model on train dataset. Lastly, one random lambda was selected to compare results for these 3 lambda values."
   ]
  },
  {
   "cell_type": "code",
   "execution_count": 22,
   "metadata": {},
   "outputs": [],
   "source": [
    "prediction_pra_mae_min <- predict(lasso_model_mae_min, s = cvfit_mae$lambda.min, newx = test_mat, type=\"class\")\n",
    "prediction_pra_mae_1se <- predict(lasso_model_mae_1se, s = cvfit_mae$lambda.1se, newx = test_mat, type=\"class\")\n",
    "prediction_pra_mae_10th <- predict(lasso_model_mae_10th, s = cvfit_mae$lambda[10], newx = test_mat, type=\"class\")"
   ]
  },
  {
   "cell_type": "markdown",
   "metadata": {},
   "source": [
    "### Performance Measure for Lasso Regression"
   ]
  },
  {
   "cell_type": "code",
   "execution_count": 23,
   "metadata": {},
   "outputs": [
    {
     "data": {
      "text/html": [
       "<table>\n",
       "<thead><tr><th scope=col>name</th><th scope=col>n</th><th scope=col>mean</th><th scope=col>sd</th><th scope=col>FBias</th><th scope=col>MAPE</th><th scope=col>RMSE</th><th scope=col>MAD</th><th scope=col>WMAPE</th></tr></thead>\n",
       "<tbody>\n",
       "\t<tr><td>Student Data Set for Lasso Function with min lambda and mse objective</td><td>1164                                                                 </td><td>2.782646                                                             </td><td>1.348866                                                             </td><td>0.1367706                                                            </td><td>0.3633448                                                            </td><td>0.04160241                                                           </td><td>0.9183849                                                            </td><td>0.3300401                                                            </td></tr>\n",
       "</tbody>\n",
       "</table>\n"
      ],
      "text/latex": [
       "\\begin{tabular}{r|lllllllll}\n",
       " name & n & mean & sd & FBias & MAPE & RMSE & MAD & WMAPE\\\\\n",
       "\\hline\n",
       "\t Student Data Set for Lasso Function with min lambda and mse objective & 1164                                                                  & 2.782646                                                              & 1.348866                                                              & 0.1367706                                                             & 0.3633448                                                             & 0.04160241                                                            & 0.9183849                                                             & 0.3300401                                                            \\\\\n",
       "\\end{tabular}\n"
      ],
      "text/markdown": [
       "\n",
       "| name | n | mean | sd | FBias | MAPE | RMSE | MAD | WMAPE |\n",
       "|---|---|---|---|---|---|---|---|---|\n",
       "| Student Data Set for Lasso Function with min lambda and mse objective | 1164                                                                  | 2.782646                                                              | 1.348866                                                              | 0.1367706                                                             | 0.3633448                                                             | 0.04160241                                                            | 0.9183849                                                             | 0.3300401                                                             |\n",
       "\n"
      ],
      "text/plain": [
       "  name                                                                  n   \n",
       "1 Student Data Set for Lasso Function with min lambda and mse objective 1164\n",
       "  mean     sd       FBias     MAPE      RMSE       MAD       WMAPE    \n",
       "1 2.782646 1.348866 0.1367706 0.3633448 0.04160241 0.9183849 0.3300401"
      ]
     },
     "metadata": {},
     "output_type": "display_data"
    },
    {
     "data": {
      "text/html": [
       "<table>\n",
       "<thead><tr><th scope=col>name</th><th scope=col>n</th><th scope=col>mean</th><th scope=col>sd</th><th scope=col>FBias</th><th scope=col>MAPE</th><th scope=col>RMSE</th><th scope=col>MAD</th><th scope=col>WMAPE</th></tr></thead>\n",
       "<tbody>\n",
       "\t<tr><td>Student Data Set for Lasso Function with 1se lambda and mse objective</td><td>1164                                                                 </td><td>2.782646                                                             </td><td>1.348866                                                             </td><td>0.1769065                                                            </td><td>0.3489404                                                            </td><td>0.04135329                                                           </td><td>0.9218213                                                            </td><td>0.3312751                                                            </td></tr>\n",
       "</tbody>\n",
       "</table>\n"
      ],
      "text/latex": [
       "\\begin{tabular}{r|lllllllll}\n",
       " name & n & mean & sd & FBias & MAPE & RMSE & MAD & WMAPE\\\\\n",
       "\\hline\n",
       "\t Student Data Set for Lasso Function with 1se lambda and mse objective & 1164                                                                  & 2.782646                                                              & 1.348866                                                              & 0.1769065                                                             & 0.3489404                                                             & 0.04135329                                                            & 0.9218213                                                             & 0.3312751                                                            \\\\\n",
       "\\end{tabular}\n"
      ],
      "text/markdown": [
       "\n",
       "| name | n | mean | sd | FBias | MAPE | RMSE | MAD | WMAPE |\n",
       "|---|---|---|---|---|---|---|---|---|\n",
       "| Student Data Set for Lasso Function with 1se lambda and mse objective | 1164                                                                  | 2.782646                                                              | 1.348866                                                              | 0.1769065                                                             | 0.3489404                                                             | 0.04135329                                                            | 0.9218213                                                             | 0.3312751                                                             |\n",
       "\n"
      ],
      "text/plain": [
       "  name                                                                  n   \n",
       "1 Student Data Set for Lasso Function with 1se lambda and mse objective 1164\n",
       "  mean     sd       FBias     MAPE      RMSE       MAD       WMAPE    \n",
       "1 2.782646 1.348866 0.1769065 0.3489404 0.04135329 0.9218213 0.3312751"
      ]
     },
     "metadata": {},
     "output_type": "display_data"
    },
    {
     "data": {
      "text/html": [
       "<table>\n",
       "<thead><tr><th scope=col>name</th><th scope=col>n</th><th scope=col>mean</th><th scope=col>sd</th><th scope=col>FBias</th><th scope=col>MAPE</th><th scope=col>RMSE</th><th scope=col>MAD</th><th scope=col>WMAPE</th></tr></thead>\n",
       "<tbody>\n",
       "\t<tr><td>Student Data Set for Lasso Function with 10th lambda and mse objective</td><td>1164                                                                  </td><td>2.782646                                                              </td><td>1.348866                                                              </td><td>0.2701451                                                             </td><td>0.3632732                                                             </td><td>0.0456783                                                             </td><td>1.054124                                                              </td><td>0.3788206                                                             </td></tr>\n",
       "</tbody>\n",
       "</table>\n"
      ],
      "text/latex": [
       "\\begin{tabular}{r|lllllllll}\n",
       " name & n & mean & sd & FBias & MAPE & RMSE & MAD & WMAPE\\\\\n",
       "\\hline\n",
       "\t Student Data Set for Lasso Function with 10th lambda and mse objective & 1164                                                                   & 2.782646                                                               & 1.348866                                                               & 0.2701451                                                              & 0.3632732                                                              & 0.0456783                                                              & 1.054124                                                               & 0.3788206                                                             \\\\\n",
       "\\end{tabular}\n"
      ],
      "text/markdown": [
       "\n",
       "| name | n | mean | sd | FBias | MAPE | RMSE | MAD | WMAPE |\n",
       "|---|---|---|---|---|---|---|---|---|\n",
       "| Student Data Set for Lasso Function with 10th lambda and mse objective | 1164                                                                   | 2.782646                                                               | 1.348866                                                               | 0.2701451                                                              | 0.3632732                                                              | 0.0456783                                                              | 1.054124                                                               | 0.3788206                                                              |\n",
       "\n"
      ],
      "text/plain": [
       "  name                                                                   n   \n",
       "1 Student Data Set for Lasso Function with 10th lambda and mse objective 1164\n",
       "  mean     sd       FBias     MAPE      RMSE      MAD      WMAPE    \n",
       "1 2.782646 1.348866 0.2701451 0.3632732 0.0456783 1.054124 0.3788206"
      ]
     },
     "metadata": {},
     "output_type": "display_data"
    },
    {
     "data": {
      "text/html": [
       "<table>\n",
       "<thead><tr><th scope=col>name</th><th scope=col>n</th><th scope=col>mean</th><th scope=col>sd</th><th scope=col>FBias</th><th scope=col>MAPE</th><th scope=col>RMSE</th><th scope=col>MAD</th><th scope=col>WMAPE</th></tr></thead>\n",
       "<tbody>\n",
       "\t<tr><td>Student Data Set for Lasso Function with min lambda and mae objective</td><td>1164                                                                 </td><td>2.782646                                                             </td><td>1.348866                                                             </td><td>0.1228774                                                            </td><td>0.3716924                                                            </td><td>0.04206991                                                           </td><td>0.9226804                                                            </td><td>0.3315838                                                            </td></tr>\n",
       "</tbody>\n",
       "</table>\n"
      ],
      "text/latex": [
       "\\begin{tabular}{r|lllllllll}\n",
       " name & n & mean & sd & FBias & MAPE & RMSE & MAD & WMAPE\\\\\n",
       "\\hline\n",
       "\t Student Data Set for Lasso Function with min lambda and mae objective & 1164                                                                  & 2.782646                                                              & 1.348866                                                              & 0.1228774                                                             & 0.3716924                                                             & 0.04206991                                                            & 0.9226804                                                             & 0.3315838                                                            \\\\\n",
       "\\end{tabular}\n"
      ],
      "text/markdown": [
       "\n",
       "| name | n | mean | sd | FBias | MAPE | RMSE | MAD | WMAPE |\n",
       "|---|---|---|---|---|---|---|---|---|\n",
       "| Student Data Set for Lasso Function with min lambda and mae objective | 1164                                                                  | 2.782646                                                              | 1.348866                                                              | 0.1228774                                                             | 0.3716924                                                             | 0.04206991                                                            | 0.9226804                                                             | 0.3315838                                                             |\n",
       "\n"
      ],
      "text/plain": [
       "  name                                                                  n   \n",
       "1 Student Data Set for Lasso Function with min lambda and mae objective 1164\n",
       "  mean     sd       FBias     MAPE      RMSE       MAD       WMAPE    \n",
       "1 2.782646 1.348866 0.1228774 0.3716924 0.04206991 0.9226804 0.3315838"
      ]
     },
     "metadata": {},
     "output_type": "display_data"
    },
    {
     "data": {
      "text/html": [
       "<table>\n",
       "<thead><tr><th scope=col>name</th><th scope=col>n</th><th scope=col>mean</th><th scope=col>sd</th><th scope=col>FBias</th><th scope=col>MAPE</th><th scope=col>RMSE</th><th scope=col>MAD</th><th scope=col>WMAPE</th></tr></thead>\n",
       "<tbody>\n",
       "\t<tr><td>Student Data Set for Lasso Function with 1se lambda and mae objective</td><td>1164                                                                 </td><td>2.782646                                                             </td><td>1.348866                                                             </td><td>0.1305959                                                            </td><td>0.3678694                                                            </td><td>0.04172641                                                           </td><td>0.9218213                                                            </td><td>0.3312751                                                            </td></tr>\n",
       "</tbody>\n",
       "</table>\n"
      ],
      "text/latex": [
       "\\begin{tabular}{r|lllllllll}\n",
       " name & n & mean & sd & FBias & MAPE & RMSE & MAD & WMAPE\\\\\n",
       "\\hline\n",
       "\t Student Data Set for Lasso Function with 1se lambda and mae objective & 1164                                                                  & 2.782646                                                              & 1.348866                                                              & 0.1305959                                                             & 0.3678694                                                             & 0.04172641                                                            & 0.9218213                                                             & 0.3312751                                                            \\\\\n",
       "\\end{tabular}\n"
      ],
      "text/markdown": [
       "\n",
       "| name | n | mean | sd | FBias | MAPE | RMSE | MAD | WMAPE |\n",
       "|---|---|---|---|---|---|---|---|---|\n",
       "| Student Data Set for Lasso Function with 1se lambda and mae objective | 1164                                                                  | 2.782646                                                              | 1.348866                                                              | 0.1305959                                                             | 0.3678694                                                             | 0.04172641                                                            | 0.9218213                                                             | 0.3312751                                                             |\n",
       "\n"
      ],
      "text/plain": [
       "  name                                                                  n   \n",
       "1 Student Data Set for Lasso Function with 1se lambda and mae objective 1164\n",
       "  mean     sd       FBias     MAPE      RMSE       MAD       WMAPE    \n",
       "1 2.782646 1.348866 0.1305959 0.3678694 0.04172641 0.9218213 0.3312751"
      ]
     },
     "metadata": {},
     "output_type": "display_data"
    },
    {
     "data": {
      "text/html": [
       "<table>\n",
       "<thead><tr><th scope=col>name</th><th scope=col>n</th><th scope=col>mean</th><th scope=col>sd</th><th scope=col>FBias</th><th scope=col>MAPE</th><th scope=col>RMSE</th><th scope=col>MAD</th><th scope=col>WMAPE</th></tr></thead>\n",
       "<tbody>\n",
       "\t<tr><td>Student Data Set for Lasso Function with 10th lambda and mae objective</td><td>1164                                                                  </td><td>2.782646                                                              </td><td>1.348866                                                              </td><td>0.2701451                                                             </td><td>0.3632732                                                             </td><td>0.0456783                                                             </td><td>1.054124                                                              </td><td>0.3788206                                                             </td></tr>\n",
       "</tbody>\n",
       "</table>\n"
      ],
      "text/latex": [
       "\\begin{tabular}{r|lllllllll}\n",
       " name & n & mean & sd & FBias & MAPE & RMSE & MAD & WMAPE\\\\\n",
       "\\hline\n",
       "\t Student Data Set for Lasso Function with 10th lambda and mae objective & 1164                                                                   & 2.782646                                                               & 1.348866                                                               & 0.2701451                                                              & 0.3632732                                                              & 0.0456783                                                              & 1.054124                                                               & 0.3788206                                                             \\\\\n",
       "\\end{tabular}\n"
      ],
      "text/markdown": [
       "\n",
       "| name | n | mean | sd | FBias | MAPE | RMSE | MAD | WMAPE |\n",
       "|---|---|---|---|---|---|---|---|---|\n",
       "| Student Data Set for Lasso Function with 10th lambda and mae objective | 1164                                                                   | 2.782646                                                               | 1.348866                                                               | 0.2701451                                                              | 0.3632732                                                              | 0.0456783                                                              | 1.054124                                                               | 0.3788206                                                              |\n",
       "\n"
      ],
      "text/plain": [
       "  name                                                                   n   \n",
       "1 Student Data Set for Lasso Function with 10th lambda and mae objective 1164\n",
       "  mean     sd       FBias     MAPE      RMSE      MAD      WMAPE    \n",
       "1 2.782646 1.348866 0.2701451 0.3632732 0.0456783 1.054124 0.3788206"
      ]
     },
     "metadata": {},
     "output_type": "display_data"
    }
   ],
   "source": [
    "perf_dt(\"Student Data Set for Lasso Function with min lambda and mse objective\", as.numeric(test$y), as.numeric(prediction_pra_mse_min))\n",
    "perf_dt(\"Student Data Set for Lasso Function with 1se lambda and mse objective\", as.numeric(test$y), as.numeric(prediction_pra_mse_1se))\n",
    "perf_dt(\"Student Data Set for Lasso Function with 10th lambda and mse objective\", as.numeric(test$y), as.numeric(prediction_pra_mse_10th))\n",
    "\n",
    "perf_dt(\"Student Data Set for Lasso Function with min lambda and mae objective\", as.numeric(test$y), as.numeric(prediction_pra_mae_min))\n",
    "perf_dt(\"Student Data Set for Lasso Function with 1se lambda and mae objective\", as.numeric(test$y), as.numeric(prediction_pra_mae_1se))\n",
    "perf_dt(\"Student Data Set for Lasso Function with 10th lambda and mae objective\", as.numeric(test$y), as.numeric(prediction_pra_mae_10th))"
   ]
  },
  {
   "cell_type": "code",
   "execution_count": 24,
   "metadata": {},
   "outputs": [
    {
     "data": {
      "text/plain": [
       "Confusion Matrix and Statistics\n",
       "\n",
       "          Reference\n",
       "Prediction   1   2   3   4   5\n",
       "         1 249  28  61  49  37\n",
       "         2   0   1   0   1   0\n",
       "         3  57  70 255 155  60\n",
       "         4   9   8  23  29  14\n",
       "         5   9   3  16  11  19\n",
       "\n",
       "Overall Statistics\n",
       "                                          \n",
       "               Accuracy : 0.4751          \n",
       "                 95% CI : (0.4461, 0.5042)\n",
       "    No Information Rate : 0.305           \n",
       "    P-Value [Acc > NIR] : < 2.2e-16       \n",
       "                                          \n",
       "                  Kappa : 0.2724          \n",
       "                                          \n",
       " Mcnemar's Test P-Value : < 2.2e-16       \n",
       "\n",
       "Statistics by Class:\n",
       "\n",
       "                     Class: 1  Class: 2 Class: 3 Class: 4 Class: 5\n",
       "Precision              0.5873 0.5000000   0.4271  0.34940  0.32759\n",
       "Recall                 0.7685 0.0090909   0.7183  0.11837  0.14615\n",
       "F1                     0.6658 0.0178571   0.5357  0.17683  0.20213\n",
       "Prevalence             0.2784 0.0945017   0.3050  0.21048  0.11168\n",
       "Detection Rate         0.2139 0.0008591   0.2191  0.02491  0.01632\n",
       "Detection Prevalence   0.3643 0.0017182   0.5129  0.07131  0.04983\n",
       "Balanced Accuracy      0.7801 0.5040711   0.6478  0.52980  0.55422"
      ]
     },
     "metadata": {},
     "output_type": "display_data"
    }
   ],
   "source": [
    "confusionMatrix(data = as.factor(prediction_pra_mae_min), reference = as.factor(test$y), mode = \"prec_recall\")"
   ]
  },
  {
   "cell_type": "markdown",
   "metadata": {},
   "source": [
    "### Glmnet with Caret Library"
   ]
  },
  {
   "cell_type": "code",
   "execution_count": 25,
   "metadata": {},
   "outputs": [],
   "source": [
    "fitControl=trainControl(method = \"repeatedcv\",\n",
    "                           number = 10) "
   ]
  },
  {
   "cell_type": "markdown",
   "metadata": {},
   "source": [
    "In order to compare obtained result with resamples function, the same process will be made with caret() library. "
   ]
  },
  {
   "cell_type": "code",
   "execution_count": 26,
   "metadata": {},
   "outputs": [],
   "source": [
    "lambda_grid <- expand.grid(alpha = 1, lambda = c(cvfit$lambda.min,\n",
    "                                                 cvfit$lambda.1se,\n",
    "                                                 cvfit$lambda[10]))"
   ]
  },
  {
   "cell_type": "code",
   "execution_count": 27,
   "metadata": {},
   "outputs": [],
   "source": [
    "lm_model <- train(y ~ ., data = train, method = \"glmnet\", \n",
    "                   trControl = fitControl, tuneGrid = lambda_grid)"
   ]
  },
  {
   "cell_type": "code",
   "execution_count": 28,
   "metadata": {},
   "outputs": [
    {
     "data": {
      "text/plain": [
       "glmnet \n",
       "\n",
       "4656 samples\n",
       "  32 predictor\n",
       "   5 classes: '1', '2', '3', '4', '5' \n",
       "\n",
       "No pre-processing\n",
       "Resampling: Cross-Validated (10 fold, repeated 1 times) \n",
       "Summary of sample sizes: 4190, 4190, 4190, 4191, 4190, 4192, ... \n",
       "Resampling results across tuning parameters:\n",
       "\n",
       "  lambda       Accuracy   Kappa    \n",
       "  0.002179314  0.5199788  0.3445326\n",
       "  0.007304193  0.5158988  0.3296490\n",
       "  0.098829223  0.3047682  0.0000000\n",
       "\n",
       "Tuning parameter 'alpha' was held constant at a value of 1\n",
       "Accuracy was used to select the optimal model using the largest value.\n",
       "The final values used for the model were alpha = 1 and lambda = 0.002179314."
      ]
     },
     "metadata": {},
     "output_type": "display_data"
    },
    {
     "data": {
      "image/png": "[encoded data removed]",
      "text/plain": [
       "plot without title"
      ]
     },
     "metadata": {},
     "output_type": "display_data"
    }
   ],
   "source": [
    "lm_model\n",
    "plot(lm_model)"
   ]
  },
  {
   "cell_type": "markdown",
   "metadata": {},
   "source": [
    "## Decision Tree(DT)"
   ]
  },
  {
   "cell_type": "code",
   "execution_count": 29,
   "metadata": {},
   "outputs": [],
   "source": [
    "set.seed(35)"
   ]
  },
  {
   "cell_type": "code",
   "execution_count": 30,
   "metadata": {},
   "outputs": [],
   "source": [
    "train_dt=cbind(train[,\"y\"],dummy_cols(train[,1:32])[,33:196])\n",
    "test_dt=cbind(test[,\"y\"],dummy_cols(test[,1:32])[,33:196])"
   ]
  },
  {
   "cell_type": "code",
   "execution_count": 31,
   "metadata": {
    "scrolled": false
   },
   "outputs": [
    {
     "name": "stdout",
     "output_type": "stream",
     "text": [
      "CART \n",
      "\n",
      "4656 samples\n",
      " 164 predictor\n",
      "   5 classes: '1', '2', '3', '4', '5' \n",
      "\n",
      "No pre-processing\n",
      "Resampling: Cross-Validated (10 fold) \n",
      "Summary of sample sizes: 4191, 4191, 4191, 4190, 4190, 4189, ... \n",
      "Resampling results across tuning parameters:\n",
      "\n",
      "  cp    Accuracy   Kappa    \n",
      "  0.00  0.5098971  0.3282372\n",
      "  0.02  0.4935544  0.2805483\n",
      "  0.04  0.4935544  0.2805483\n",
      "  0.06  0.4935544  0.2805483\n",
      "  0.08  0.4935544  0.2805483\n",
      "  0.10  0.4935544  0.2805483\n",
      "  0.12  0.4935544  0.2805483\n",
      "  0.14  0.4935544  0.2805483\n",
      "  0.16  0.4935544  0.2805483\n",
      "  0.18  0.4935544  0.2805483\n",
      "  0.20  0.4935544  0.2805483\n",
      "\n",
      "Accuracy was used to select the optimal model using the largest value.\n",
      "The final value used for the model was cp = 0.\n",
      "CART \n",
      "\n",
      "4656 samples\n",
      " 164 predictor\n",
      "   5 classes: '1', '2', '3', '4', '5' \n",
      "\n",
      "No pre-processing\n",
      "Resampling: Cross-Validated (10 fold) \n",
      "Summary of sample sizes: 4190, 4190, 4191, 4190, 4190, 4190, ... \n",
      "Resampling results across tuning parameters:\n",
      "\n",
      "  cp    Accuracy   Kappa    \n",
      "  0.00  0.5139601  0.3349571\n",
      "  0.02  0.4935562  0.2805604\n",
      "  0.04  0.4935562  0.2805604\n",
      "  0.06  0.4935562  0.2805604\n",
      "  0.08  0.4935562  0.2805604\n",
      "  0.10  0.4935562  0.2805604\n",
      "  0.12  0.4935562  0.2805604\n",
      "  0.14  0.4935562  0.2805604\n",
      "  0.16  0.4935562  0.2805604\n",
      "  0.18  0.4935562  0.2805604\n",
      "  0.20  0.4935562  0.2805604\n",
      "\n",
      "Accuracy was used to select the optimal model using the largest value.\n",
      "The final value used for the model was cp = 0.\n"
     ]
    },
    {
     "data": {
      "image/png": "[encoded data removed]",
      "text/plain": [
       "plot without title"
      ]
     },
     "metadata": {},
     "output_type": "display_data"
    },
    {
     "name": "stdout",
     "output_type": "stream",
     "text": [
      "CART \n",
      "\n",
      "4656 samples\n",
      " 164 predictor\n",
      "   5 classes: '1', '2', '3', '4', '5' \n",
      "\n",
      "No pre-processing\n",
      "Resampling: Cross-Validated (10 fold) \n",
      "Summary of sample sizes: 4190, 4190, 4190, 4191, 4191, 4191, ... \n",
      "Resampling results across tuning parameters:\n",
      "\n",
      "  cp    Accuracy   Kappa    \n",
      "  0.00  0.5133075  0.3330089\n",
      "  0.02  0.4935608  0.2805711\n",
      "  0.04  0.4935608  0.2805711\n",
      "  0.06  0.4935608  0.2805711\n",
      "  0.08  0.4935608  0.2805711\n",
      "  0.10  0.4935608  0.2805711\n",
      "  0.12  0.4935608  0.2805711\n",
      "  0.14  0.4935608  0.2805711\n",
      "  0.16  0.4935608  0.2805711\n",
      "  0.18  0.4935608  0.2805711\n",
      "  0.20  0.4935608  0.2805711\n",
      "\n",
      "Accuracy was used to select the optimal model using the largest value.\n",
      "The final value used for the model was cp = 0.\n"
     ]
    },
    {
     "data": {
      "image/png": "[encoded data removed]",
      "text/plain": [
       "plot without title"
      ]
     },
     "metadata": {},
     "output_type": "display_data"
    },
    {
     "name": "stdout",
     "output_type": "stream",
     "text": [
      "CART \n",
      "\n",
      "4656 samples\n",
      " 164 predictor\n",
      "   5 classes: '1', '2', '3', '4', '5' \n",
      "\n",
      "No pre-processing\n",
      "Resampling: Cross-Validated (10 fold) \n",
      "Summary of sample sizes: 4191, 4191, 4191, 4190, 4190, 4189, ... \n",
      "Resampling results across tuning parameters:\n",
      "\n",
      "  cp    Accuracy   Kappa    \n",
      "  0.00  0.5150252  0.3351185\n",
      "  0.02  0.4935604  0.2805660\n",
      "  0.04  0.4935604  0.2805660\n",
      "  0.06  0.4935604  0.2805660\n",
      "  0.08  0.4935604  0.2805660\n",
      "  0.10  0.4935604  0.2805660\n",
      "  0.12  0.4935604  0.2805660\n",
      "  0.14  0.4935604  0.2805660\n",
      "  0.16  0.4935604  0.2805660\n",
      "  0.18  0.4935604  0.2805660\n",
      "  0.20  0.4935604  0.2805660\n",
      "\n",
      "Accuracy was used to select the optimal model using the largest value.\n",
      "The final value used for the model was cp = 0.\n"
     ]
    },
    {
     "data": {
      "image/png": "[encoded data removed]",
      "text/plain": [
       "plot without title"
      ]
     },
     "metadata": {},
     "output_type": "display_data"
    },
    {
     "name": "stdout",
     "output_type": "stream",
     "text": [
      "CART \n",
      "\n",
      "4656 samples\n",
      " 164 predictor\n",
      "   5 classes: '1', '2', '3', '4', '5' \n",
      "\n",
      "No pre-processing\n",
      "Resampling: Cross-Validated (10 fold) \n",
      "Summary of sample sizes: 4190, 4191, 4190, 4191, 4191, 4190, ... \n",
      "Resampling results across tuning parameters:\n",
      "\n",
      "  cp    Accuracy   Kappa    \n",
      "  0.00  0.5098749  0.3286852\n",
      "  0.02  0.4935558  0.2805471\n",
      "  0.04  0.4935558  0.2805471\n",
      "  0.06  0.4935558  0.2805471\n",
      "  0.08  0.4935558  0.2805471\n",
      "  0.10  0.4935558  0.2805471\n",
      "  0.12  0.4935558  0.2805471\n",
      "  0.14  0.4935558  0.2805471\n",
      "  0.16  0.4935558  0.2805471\n",
      "  0.18  0.4935558  0.2805471\n",
      "  0.20  0.4935558  0.2805471\n",
      "\n",
      "Accuracy was used to select the optimal model using the largest value.\n",
      "The final value used for the model was cp = 0.\n"
     ]
    },
    {
     "data": {
      "image/png": "[encoded data removed]",
      "text/plain": [
       "plot without title"
      ]
     },
     "metadata": {},
     "output_type": "display_data"
    },
    {
     "data": {
      "image/png": "[encoded data removed]",
      "text/plain": [
       "plot without title"
      ]
     },
     "metadata": {},
     "output_type": "display_data"
    },
    {
     "name": "stdout",
     "output_type": "stream",
     "text": [
      "CART \n",
      "\n",
      "4656 samples\n",
      " 164 predictor\n",
      "   5 classes: '1', '2', '3', '4', '5' \n",
      "\n",
      "No pre-processing\n",
      "Resampling: Cross-Validated (10 fold) \n",
      "Summary of sample sizes: 4190, 4191, 4191, 4190, 4191, 4190, ... \n",
      "Resampling results across tuning parameters:\n",
      "\n",
      "  cp    Accuracy   Kappa    \n",
      "  0.00  0.5070815  0.3240939\n",
      "  0.02  0.4935535  0.2805507\n",
      "  0.04  0.4935535  0.2805507\n",
      "  0.06  0.4935535  0.2805507\n",
      "  0.08  0.4935535  0.2805507\n",
      "  0.10  0.4935535  0.2805507\n",
      "  0.12  0.4935535  0.2805507\n",
      "  0.14  0.4935535  0.2805507\n",
      "  0.16  0.4935535  0.2805507\n",
      "  0.18  0.4935535  0.2805507\n",
      "  0.20  0.4935535  0.2805507\n",
      "\n",
      "Accuracy was used to select the optimal model using the largest value.\n",
      "The final value used for the model was cp = 0.\n"
     ]
    },
    {
     "data": {
      "image/png": "[encoded data removed]",
      "text/plain": [
       "plot without title"
      ]
     },
     "metadata": {},
     "output_type": "display_data"
    }
   ],
   "source": [
    "numFolds=trainControl(method=\"cv\",number = 10)\n",
    "cpGrid=expand.grid(.cp=(0:10)*0.02)\n",
    "#minbucket_grid=expand.grid(.cp=(5:10))\n",
    "for(i in 100:105){\n",
    "    tr=train(y~.,\n",
    "          data=train_dt, \n",
    "          method=\"rpart\",\n",
    "          trControl=numFolds,\n",
    "          tuneGrid= cpGrid,\n",
    "            # minbucket=minbucket_grid\n",
    "           control= rpart.control(minbucket = i)\n",
    "            )\n",
    "    trellis.par.set(caretTheme())\n",
    "    print(plot(tr))    \n",
    "    print(tr)\n",
    "}"
   ]
  },
  {
   "cell_type": "code",
   "execution_count": 74,
   "metadata": {},
   "outputs": [
    {
     "name": "stdout",
     "output_type": "stream",
     "text": [
      "CART \n",
      "\n",
      "4656 samples\n",
      " 164 predictor\n",
      "   5 classes: '1', '2', '3', '4', '5' \n",
      "\n",
      "No pre-processing\n",
      "Resampling: Cross-Validated (10 fold) \n",
      "Summary of sample sizes: 4190, 4192, 4190, 4190, 4191, 4191, ... \n",
      "Resampling results across tuning parameters:\n",
      "\n",
      "  cp    Accuracy   Kappa    \n",
      "  0.00  0.4641210  0.2867510\n",
      "  0.01  0.4935627  0.2805461\n",
      "  0.02  0.4935627  0.2805461\n",
      "  0.03  0.4935627  0.2805461\n",
      "  0.04  0.4935627  0.2805461\n",
      "  0.05  0.4935627  0.2805461\n",
      "  0.06  0.4935627  0.2805461\n",
      "  0.07  0.4935627  0.2805461\n",
      "  0.08  0.4935627  0.2805461\n",
      "  0.09  0.4935627  0.2805461\n",
      "  0.10  0.4935627  0.2805461\n",
      "\n",
      "Accuracy was used to select the optimal model using the largest value.\n",
      "The final value used for the model was cp = 0.1.\n"
     ]
    },
    {
     "data": {
      "image/png": "[encoded data removed]",
      "text/plain": [
       "plot without title"
      ]
     },
     "metadata": {},
     "output_type": "display_data"
    }
   ],
   "source": [
    "numFolds=trainControl(method=\"cv\",number = 10)\n",
    "cpGrid=expand.grid(.cp=(0:10)*0.01)\n",
    "tr_last=train(y~.,\n",
    "      data=train_dt, \n",
    "      method=\"rpart\",\n",
    "      trControl=numFolds,\n",
    "      tuneGrid= cpGrid,\n",
    "        # minbucket=minbucket_grid\n",
    "       control= rpart.control(minsplit = 8)\n",
    "        )\n",
    "trellis.par.set(caretTheme())\n",
    "print(plot(tr_last))    \n",
    "print(tr_last)"
   ]
  },
  {
   "cell_type": "code",
   "execution_count": 33,
   "metadata": {},
   "outputs": [
    {
     "data": {
      "text/html": [
       "<dl class=dl-horizontal>\n",
       "\t<dt>attendance_0</dt>\n",
       "\t\t<dd>519.073230534664</dd>\n",
       "\t<dt>Q17_1</dt>\n",
       "\t\t<dd>31.4487364428168</dd>\n",
       "\t<dt>Q25_1</dt>\n",
       "\t\t<dd>24.0092504025806</dd>\n",
       "\t<dt>Q14_1</dt>\n",
       "\t\t<dd>21.3039827515856</dd>\n",
       "\t<dt>Q15_1</dt>\n",
       "\t\t<dd>20.6276658388369</dd>\n",
       "\t<dt>Q3_1</dt>\n",
       "\t\t<dd>20.2895073824625</dd>\n",
       "</dl>\n"
      ],
      "text/latex": [
       "\\begin{description*}\n",
       "\\item[attendance\\textbackslash{}\\_0] 519.073230534664\n",
       "\\item[Q17\\textbackslash{}\\_1] 31.4487364428168\n",
       "\\item[Q25\\textbackslash{}\\_1] 24.0092504025806\n",
       "\\item[Q14\\textbackslash{}\\_1] 21.3039827515856\n",
       "\\item[Q15\\textbackslash{}\\_1] 20.6276658388369\n",
       "\\item[Q3\\textbackslash{}\\_1] 20.2895073824625\n",
       "\\end{description*}\n"
      ],
      "text/markdown": [
       "attendance_0\n",
       ":   519.073230534664Q17_1\n",
       ":   31.4487364428168Q25_1\n",
       ":   24.0092504025806Q14_1\n",
       ":   21.3039827515856Q15_1\n",
       ":   20.6276658388369Q3_1\n",
       ":   20.2895073824625\n",
       "\n"
      ],
      "text/plain": [
       "attendance_0        Q17_1        Q25_1        Q14_1        Q15_1         Q3_1 \n",
       "   519.07323     31.44874     24.00925     21.30398     20.62767     20.28951 "
      ]
     },
     "metadata": {},
     "output_type": "display_data"
    },
    {
     "data": {
      "image/png": "[encoded data removed]",
      "text/plain": [
       "Plot with title \"\""
      ]
     },
     "metadata": {},
     "output_type": "display_data"
    }
   ],
   "source": [
    "reg_tree_std=tr$finalModel\n",
    "fancyRpartPlot(reg_tree_std)\n",
    "reg_tree_std$variable.importance"
   ]
  },
  {
   "cell_type": "code",
   "execution_count": 34,
   "metadata": {},
   "outputs": [],
   "source": [
    "predicted_std=predict(reg_tree_std,newdata=test_dt,type=\"class\")"
   ]
  },
  {
   "cell_type": "code",
   "execution_count": 35,
   "metadata": {},
   "outputs": [
    {
     "data": {
      "text/plain": [
       "predicted_std\n",
       "  1   2   3   4   5 \n",
       "367   0 797   0   0 "
      ]
     },
     "metadata": {},
     "output_type": "display_data"
    }
   ],
   "source": [
    "table(predicted_std)"
   ]
  },
  {
   "cell_type": "markdown",
   "metadata": {},
   "source": [
    "### Performanca Measure"
   ]
  },
  {
   "cell_type": "code",
   "execution_count": 36,
   "metadata": {},
   "outputs": [
    {
     "data": {
      "text/plain": [
       "Confusion Matrix and Statistics\n",
       "\n",
       "          Reference\n",
       "Prediction   1   2   3   4   5\n",
       "         1 257  14  40  24  32\n",
       "         2   0   0   0   0   0\n",
       "         3  67  96 315 221  98\n",
       "         4   0   0   0   0   0\n",
       "         5   0   0   0   0   0\n",
       "\n",
       "Overall Statistics\n",
       "                                          \n",
       "               Accuracy : 0.4914          \n",
       "                 95% CI : (0.4623, 0.5205)\n",
       "    No Information Rate : 0.305           \n",
       "    P-Value [Acc > NIR] : < 2.2e-16       \n",
       "                                          \n",
       "                  Kappa : 0.277           \n",
       "                                          \n",
       " Mcnemar's Test P-Value : NA              \n",
       "\n",
       "Statistics by Class:\n",
       "\n",
       "                     Class: 1 Class: 2 Class: 3 Class: 4 Class: 5\n",
       "Precision              0.7003       NA   0.3952       NA       NA\n",
       "Recall                 0.7932   0.0000   0.8873   0.0000   0.0000\n",
       "F1                     0.7438       NA   0.5469       NA       NA\n",
       "Prevalence             0.2784   0.0945   0.3050   0.2105   0.1117\n",
       "Detection Rate         0.2208   0.0000   0.2706   0.0000   0.0000\n",
       "Detection Prevalence   0.3153   0.0000   0.6847   0.0000   0.0000\n",
       "Balanced Accuracy      0.8311   0.5000   0.6458   0.5000   0.5000"
      ]
     },
     "metadata": {},
     "output_type": "display_data"
    }
   ],
   "source": [
    "confusionMatrix(data = as.factor(predicted_std), reference = as.factor(test$y), mode = \"prec_recall\")"
   ]
  },
  {
   "cell_type": "code",
   "execution_count": 37,
   "metadata": {
    "scrolled": true
   },
   "outputs": [
    {
     "data": {
      "text/html": [
       "<table>\n",
       "<thead><tr><th scope=col>name</th><th scope=col>n</th><th scope=col>mean</th><th scope=col>sd</th><th scope=col>FBias</th><th scope=col>MAPE</th><th scope=col>RMSE</th><th scope=col>MAD</th><th scope=col>WMAPE</th></tr></thead>\n",
       "<tbody>\n",
       "\t<tr><td>First Data Set for Decision Tree</td><td>1164                            </td><td>2.369416                        </td><td>0.9296636                       </td><td>-0.1744017                      </td><td>0.437858                        </td><td>0.03724006                      </td><td>0.8084192                       </td><td>0.3411893                       </td></tr>\n",
       "</tbody>\n",
       "</table>\n"
      ],
      "text/latex": [
       "\\begin{tabular}{r|lllllllll}\n",
       " name & n & mean & sd & FBias & MAPE & RMSE & MAD & WMAPE\\\\\n",
       "\\hline\n",
       "\t First Data Set for Decision Tree & 1164                             & 2.369416                         & 0.9296636                        & -0.1744017                       & 0.437858                         & 0.03724006                       & 0.8084192                        & 0.3411893                       \\\\\n",
       "\\end{tabular}\n"
      ],
      "text/markdown": [
       "\n",
       "| name | n | mean | sd | FBias | MAPE | RMSE | MAD | WMAPE |\n",
       "|---|---|---|---|---|---|---|---|---|\n",
       "| First Data Set for Decision Tree | 1164                             | 2.369416                         | 0.9296636                        | -0.1744017                       | 0.437858                         | 0.03724006                       | 0.8084192                        | 0.3411893                        |\n",
       "\n"
      ],
      "text/plain": [
       "  name                             n    mean     sd        FBias      MAPE    \n",
       "1 First Data Set for Decision Tree 1164 2.369416 0.9296636 -0.1744017 0.437858\n",
       "  RMSE       MAD       WMAPE    \n",
       "1 0.03724006 0.8084192 0.3411893"
      ]
     },
     "metadata": {},
     "output_type": "display_data"
    }
   ],
   "source": [
    "perf_dt(\"First Data Set for Decision Tree\", as.numeric(predicted_std), as.numeric(test$y))"
   ]
  },
  {
   "cell_type": "markdown",
   "metadata": {},
   "source": [
    "## Random Forest(RF)"
   ]
  },
  {
   "cell_type": "code",
   "execution_count": 73,
   "metadata": {},
   "outputs": [],
   "source": [
    "library(ranger)"
   ]
  },
  {
   "cell_type": "code",
   "execution_count": 39,
   "metadata": {},
   "outputs": [],
   "source": [
    "fitControl=trainControl(method = \"repeatedcv\",\n",
    "                           number = 10) "
   ]
  },
  {
   "cell_type": "code",
   "execution_count": 40,
   "metadata": {},
   "outputs": [
    {
     "data": {
      "text/html": [
       "<table>\n",
       "<thead><tr><th scope=col>mtry</th><th scope=col>splitrule</th><th scope=col>min.node.size</th></tr></thead>\n",
       "<tbody>\n",
       "\t<tr><td> 4        </td><td>extratrees</td><td>5         </td></tr>\n",
       "\t<tr><td> 8        </td><td>extratrees</td><td>5         </td></tr>\n",
       "\t<tr><td>10        </td><td>extratrees</td><td>5         </td></tr>\n",
       "\t<tr><td>15        </td><td>extratrees</td><td>5         </td></tr>\n",
       "</tbody>\n",
       "</table>\n"
      ],
      "text/latex": [
       "\\begin{tabular}{r|lll}\n",
       " mtry & splitrule & min.node.size\\\\\n",
       "\\hline\n",
       "\t  4         & extratrees & 5         \\\\\n",
       "\t  8         & extratrees & 5         \\\\\n",
       "\t 10         & extratrees & 5         \\\\\n",
       "\t 15         & extratrees & 5         \\\\\n",
       "\\end{tabular}\n"
      ],
      "text/markdown": [
       "\n",
       "| mtry | splitrule | min.node.size |\n",
       "|---|---|---|\n",
       "|  4         | extratrees | 5          |\n",
       "|  8         | extratrees | 5          |\n",
       "| 10         | extratrees | 5          |\n",
       "| 15         | extratrees | 5          |\n",
       "\n"
      ],
      "text/plain": [
       "  mtry splitrule  min.node.size\n",
       "1  4   extratrees 5            \n",
       "2  8   extratrees 5            \n",
       "3 10   extratrees 5            \n",
       "4 15   extratrees 5            "
      ]
     },
     "metadata": {},
     "output_type": "display_data"
    }
   ],
   "source": [
    "rf_grid=expand.grid(mtry=c(4,8,10,15),\n",
    "                   splitrule = c(\"extratrees\"),\n",
    "                   min.node.size= c(5))\n",
    "rf_grid  "
   ]
  },
  {
   "cell_type": "code",
   "execution_count": 41,
   "metadata": {},
   "outputs": [],
   "source": [
    "rf_fit=train(y ~ ., data = train, \n",
    "                 method = \"ranger\", \n",
    "                 trControl = fitControl, num.trees=500,\n",
    "                 tuneGrid = rf_grid) "
   ]
  },
  {
   "cell_type": "code",
   "execution_count": 42,
   "metadata": {},
   "outputs": [
    {
     "data": {
      "text/plain": [
       "Random Forest \n",
       "\n",
       "4656 samples\n",
       "  32 predictor\n",
       "   5 classes: '1', '2', '3', '4', '5' \n",
       "\n",
       "No pre-processing\n",
       "Resampling: Cross-Validated (10 fold, repeated 1 times) \n",
       "Summary of sample sizes: 4190, 4191, 4190, 4190, 4190, 4192, ... \n",
       "Resampling results across tuning parameters:\n",
       "\n",
       "  mtry  Accuracy   Kappa    \n",
       "   4    0.4374783  0.2109921\n",
       "   8    0.4819396  0.2853275\n",
       "  10    0.4886044  0.2969695\n",
       "  15    0.4920430  0.3057549\n",
       "\n",
       "Tuning parameter 'splitrule' was held constant at a value of extratrees\n",
       "\n",
       "Tuning parameter 'min.node.size' was held constant at a value of 5\n",
       "Accuracy was used to select the optimal model using the largest value.\n",
       "The final values used for the model were mtry = 15, splitrule = extratrees\n",
       " and min.node.size = 5."
      ]
     },
     "metadata": {},
     "output_type": "display_data"
    },
    {
     "data": {
      "image/png": "[encoded data removed]",
      "text/plain": [
       "plot without title"
      ]
     },
     "metadata": {},
     "output_type": "display_data"
    }
   ],
   "source": [
    "rf_fit\n",
    "plot(rf_fit)"
   ]
  },
  {
   "cell_type": "code",
   "execution_count": 43,
   "metadata": {},
   "outputs": [],
   "source": [
    "RandomForest_std=predict(rf_fit,newdata=test)"
   ]
  },
  {
   "cell_type": "markdown",
   "metadata": {},
   "source": [
    "### Performanca Measure"
   ]
  },
  {
   "cell_type": "code",
   "execution_count": 44,
   "metadata": {
    "scrolled": true
   },
   "outputs": [
    {
     "data": {
      "text/html": [
       "<table>\n",
       "<thead><tr><th scope=col>name</th><th scope=col>n</th><th scope=col>mean</th><th scope=col>sd</th><th scope=col>FBias</th><th scope=col>MAPE</th><th scope=col>RMSE</th><th scope=col>MAD</th><th scope=col>WMAPE</th></tr></thead>\n",
       "<tbody>\n",
       "\t<tr><td>First Data Set for Random Forest</td><td>1164                            </td><td>2.66323                         </td><td>1.199737                        </td><td>-0.04483871                     </td><td>0.3870275                       </td><td>0.03781045                      </td><td>0.8049828                       </td><td>0.3022581                       </td></tr>\n",
       "</tbody>\n",
       "</table>\n"
      ],
      "text/latex": [
       "\\begin{tabular}{r|lllllllll}\n",
       " name & n & mean & sd & FBias & MAPE & RMSE & MAD & WMAPE\\\\\n",
       "\\hline\n",
       "\t First Data Set for Random Forest & 1164                             & 2.66323                          & 1.199737                         & -0.04483871                      & 0.3870275                        & 0.03781045                       & 0.8049828                        & 0.3022581                       \\\\\n",
       "\\end{tabular}\n"
      ],
      "text/markdown": [
       "\n",
       "| name | n | mean | sd | FBias | MAPE | RMSE | MAD | WMAPE |\n",
       "|---|---|---|---|---|---|---|---|---|\n",
       "| First Data Set for Random Forest | 1164                             | 2.66323                          | 1.199737                         | -0.04483871                      | 0.3870275                        | 0.03781045                       | 0.8049828                        | 0.3022581                        |\n",
       "\n"
      ],
      "text/plain": [
       "  name                             n    mean    sd       FBias       MAPE     \n",
       "1 First Data Set for Random Forest 1164 2.66323 1.199737 -0.04483871 0.3870275\n",
       "  RMSE       MAD       WMAPE    \n",
       "1 0.03781045 0.8049828 0.3022581"
      ]
     },
     "metadata": {},
     "output_type": "display_data"
    }
   ],
   "source": [
    "perf_dt(\"First Data Set for Random Forest\", as.numeric(RandomForest_std), as.numeric(test$y))"
   ]
  },
  {
   "cell_type": "code",
   "execution_count": 45,
   "metadata": {},
   "outputs": [
    {
     "data": {
      "text/plain": [
       "Confusion Matrix and Statistics\n",
       "\n",
       "          Reference\n",
       "Prediction   1   2   3   4   5\n",
       "         1 242  11  37  20  23\n",
       "         2   0  14   7   6   3\n",
       "         3  58  70 246 137  56\n",
       "         4  15  13  47  65  24\n",
       "         5   9   2  18  17  24\n",
       "\n",
       "Overall Statistics\n",
       "                                          \n",
       "               Accuracy : 0.5077          \n",
       "                 95% CI : (0.4786, 0.5368)\n",
       "    No Information Rate : 0.305           \n",
       "    P-Value [Acc > NIR] : < 2.2e-16       \n",
       "                                          \n",
       "                  Kappa : 0.3284          \n",
       "                                          \n",
       " Mcnemar's Test P-Value : < 2.2e-16       \n",
       "\n",
       "Statistics by Class:\n",
       "\n",
       "                     Class: 1 Class: 2 Class: 3 Class: 4 Class: 5\n",
       "Precision              0.7267  0.46667   0.4339  0.39634  0.34286\n",
       "Recall                 0.7469  0.12727   0.6930  0.26531  0.18462\n",
       "F1                     0.7367  0.20000   0.5336  0.31785  0.24000\n",
       "Prevalence             0.2784  0.09450   0.3050  0.21048  0.11168\n",
       "Detection Rate         0.2079  0.01203   0.2113  0.05584  0.02062\n",
       "Detection Prevalence   0.2861  0.02577   0.4871  0.14089  0.06014\n",
       "Balanced Accuracy      0.8193  0.55605   0.6481  0.57879  0.57006"
      ]
     },
     "metadata": {},
     "output_type": "display_data"
    }
   ],
   "source": [
    "confusionMatrix(data = as.factor(RandomForest_std), reference = as.factor(test$y), mode = \"prec_recall\")"
   ]
  },
  {
   "cell_type": "markdown",
   "metadata": {},
   "source": [
    "### Performanca Measure"
   ]
  },
  {
   "cell_type": "code",
   "execution_count": 46,
   "metadata": {
    "scrolled": true
   },
   "outputs": [
    {
     "data": {
      "text/html": [
       "<table>\n",
       "<thead><tr><th scope=col>name</th><th scope=col>n</th><th scope=col>mean</th><th scope=col>sd</th><th scope=col>FBias</th><th scope=col>MAPE</th><th scope=col>RMSE</th><th scope=col>MAD</th><th scope=col>WMAPE</th></tr></thead>\n",
       "<tbody>\n",
       "\t<tr><td>First Data Set for Random Forest</td><td>1164                            </td><td>2.66323                         </td><td>1.199737                        </td><td>-0.04483871                     </td><td>0.3870275                       </td><td>0.03781045                      </td><td>0.8049828                       </td><td>0.3022581                       </td></tr>\n",
       "</tbody>\n",
       "</table>\n"
      ],
      "text/latex": [
       "\\begin{tabular}{r|lllllllll}\n",
       " name & n & mean & sd & FBias & MAPE & RMSE & MAD & WMAPE\\\\\n",
       "\\hline\n",
       "\t First Data Set for Random Forest & 1164                             & 2.66323                          & 1.199737                         & -0.04483871                      & 0.3870275                        & 0.03781045                       & 0.8049828                        & 0.3022581                       \\\\\n",
       "\\end{tabular}\n"
      ],
      "text/markdown": [
       "\n",
       "| name | n | mean | sd | FBias | MAPE | RMSE | MAD | WMAPE |\n",
       "|---|---|---|---|---|---|---|---|---|\n",
       "| First Data Set for Random Forest | 1164                             | 2.66323                          | 1.199737                         | -0.04483871                      | 0.3870275                        | 0.03781045                       | 0.8049828                        | 0.3022581                        |\n",
       "\n"
      ],
      "text/plain": [
       "  name                             n    mean    sd       FBias       MAPE     \n",
       "1 First Data Set for Random Forest 1164 2.66323 1.199737 -0.04483871 0.3870275\n",
       "  RMSE       MAD       WMAPE    \n",
       "1 0.03781045 0.8049828 0.3022581"
      ]
     },
     "metadata": {},
     "output_type": "display_data"
    }
   ],
   "source": [
    "perf_dt(\"First Data Set for Random Forest\", as.numeric(RandomForest_std), as.numeric(test$y))"
   ]
  },
  {
   "cell_type": "markdown",
   "metadata": {},
   "source": [
    "## Stochastic Gradient Boosting(SGB)"
   ]
  },
  {
   "cell_type": "code",
   "execution_count": 47,
   "metadata": {},
   "outputs": [],
   "source": [
    "set.seed(35)"
   ]
  },
  {
   "cell_type": "code",
   "execution_count": 48,
   "metadata": {},
   "outputs": [
    {
     "data": {
      "image/png": "[encoded data removed]",
      "text/plain": [
       "plot without title"
      ]
     },
     "metadata": {},
     "output_type": "display_data"
    }
   ],
   "source": [
    "gbmGrid=expand.grid(interaction.depth = c(1, 3, 5), \n",
    "                        n.trees = (1:5)*50, \n",
    "                        shrinkage = c(0.1, 0.3, 0.5),\n",
    "                        n.minobsinnode = 20)\n",
    "                                                                \n",
    "\n",
    "gbm_fit=train(y ~ ., data = train, \n",
    "                 method = \"gbm\", \n",
    "                 trControl = fitControl,  \n",
    "                 tuneGrid = gbmGrid,\n",
    "                 verbose=F) #verbose is an argument from gbm, prints to screen\n",
    "\n",
    "plot(gbm_fit)"
   ]
  },
  {
   "cell_type": "code",
   "execution_count": 51,
   "metadata": {},
   "outputs": [],
   "source": [
    "predicted_sgb=predict(gbm_fit,test)"
   ]
  },
  {
   "cell_type": "markdown",
   "metadata": {},
   "source": [
    "### Performanca Measure"
   ]
  },
  {
   "cell_type": "code",
   "execution_count": 52,
   "metadata": {},
   "outputs": [
    {
     "data": {
      "text/plain": [
       "Confusion Matrix and Statistics\n",
       "\n",
       "          Reference\n",
       "Prediction   1   2   3   4   5\n",
       "         1 254  11  33  21  30\n",
       "         2   1  13  12   4   2\n",
       "         3  47  70 243 141  48\n",
       "         4  15  12  45  65  26\n",
       "         5   7   4  22  14  24\n",
       "\n",
       "Overall Statistics\n",
       "                                          \n",
       "               Accuracy : 0.5146          \n",
       "                 95% CI : (0.4855, 0.5437)\n",
       "    No Information Rate : 0.305           \n",
       "    P-Value [Acc > NIR] : < 2.2e-16       \n",
       "                                          \n",
       "                  Kappa : 0.3385          \n",
       "                                          \n",
       " Mcnemar's Test P-Value : < 2.2e-16       \n",
       "\n",
       "Statistics by Class:\n",
       "\n",
       "                     Class: 1 Class: 2 Class: 3 Class: 4 Class: 5\n",
       "Precision              0.7278  0.40625   0.4426  0.39877  0.33803\n",
       "Recall                 0.7840  0.11818   0.6845  0.26531  0.18462\n",
       "F1                     0.7548  0.18310   0.5376  0.31863  0.23881\n",
       "Prevalence             0.2784  0.09450   0.3050  0.21048  0.11168\n",
       "Detection Rate         0.2182  0.01117   0.2088  0.05584  0.02062\n",
       "Detection Prevalence   0.2998  0.02749   0.4716  0.14003  0.06100\n",
       "Balanced Accuracy      0.8354  0.55008   0.6531  0.57933  0.56958"
      ]
     },
     "metadata": {},
     "output_type": "display_data"
    }
   ],
   "source": [
    "confusionMatrix(data = as.factor(predicted_sgb), reference = as.factor(test$y), mode = \"prec_recall\")"
   ]
  },
  {
   "cell_type": "code",
   "execution_count": 53,
   "metadata": {
    "scrolled": true
   },
   "outputs": [
    {
     "data": {
      "text/html": [
       "<table>\n",
       "<thead><tr><th scope=col>name</th><th scope=col>n</th><th scope=col>mean</th><th scope=col>sd</th><th scope=col>FBias</th><th scope=col>MAPE</th><th scope=col>RMSE</th><th scope=col>MAD</th><th scope=col>WMAPE</th></tr></thead>\n",
       "<tbody>\n",
       "\t<tr><td>First Data Set for Random Forest</td><td>1164                            </td><td>2.63488                         </td><td>1.216052                        </td><td>-0.05608086                     </td><td>0.3967068                       </td><td>0.03797601                      </td><td>0.7955326                       </td><td>0.3019237                       </td></tr>\n",
       "</tbody>\n",
       "</table>\n"
      ],
      "text/latex": [
       "\\begin{tabular}{r|lllllllll}\n",
       " name & n & mean & sd & FBias & MAPE & RMSE & MAD & WMAPE\\\\\n",
       "\\hline\n",
       "\t First Data Set for Random Forest & 1164                             & 2.63488                          & 1.216052                         & -0.05608086                      & 0.3967068                        & 0.03797601                       & 0.7955326                        & 0.3019237                       \\\\\n",
       "\\end{tabular}\n"
      ],
      "text/markdown": [
       "\n",
       "| name | n | mean | sd | FBias | MAPE | RMSE | MAD | WMAPE |\n",
       "|---|---|---|---|---|---|---|---|---|\n",
       "| First Data Set for Random Forest | 1164                             | 2.63488                          | 1.216052                         | -0.05608086                      | 0.3967068                        | 0.03797601                       | 0.7955326                        | 0.3019237                        |\n",
       "\n"
      ],
      "text/plain": [
       "  name                             n    mean    sd       FBias       MAPE     \n",
       "1 First Data Set for Random Forest 1164 2.63488 1.216052 -0.05608086 0.3967068\n",
       "  RMSE       MAD       WMAPE    \n",
       "1 0.03797601 0.7955326 0.3019237"
      ]
     },
     "metadata": {},
     "output_type": "display_data"
    }
   ],
   "source": [
    "perf_dt(\"First Data Set for Random Forest\", as.numeric(predicted_sgb), as.numeric(test$y))"
   ]
  },
  {
   "cell_type": "markdown",
   "metadata": {},
   "source": [
    "# General Result for 4 Method for Student Evaluation"
   ]
  },
  {
   "cell_type": "markdown",
   "metadata": {},
   "source": [
    "### Linear Regression with Penalty"
   ]
  },
  {
   "cell_type": "code",
   "execution_count": 54,
   "metadata": {},
   "outputs": [
    {
     "data": {
      "text/plain": [
       "Confusion Matrix and Statistics\n",
       "\n",
       "          Reference\n",
       "Prediction   1   2   3   4   5\n",
       "         1 249  28  61  49  37\n",
       "         2   0   1   0   1   0\n",
       "         3  57  70 255 155  60\n",
       "         4   9   8  23  29  14\n",
       "         5   9   3  16  11  19\n",
       "\n",
       "Overall Statistics\n",
       "                                          \n",
       "               Accuracy : 0.4751          \n",
       "                 95% CI : (0.4461, 0.5042)\n",
       "    No Information Rate : 0.305           \n",
       "    P-Value [Acc > NIR] : < 2.2e-16       \n",
       "                                          \n",
       "                  Kappa : 0.2724          \n",
       "                                          \n",
       " Mcnemar's Test P-Value : < 2.2e-16       \n",
       "\n",
       "Statistics by Class:\n",
       "\n",
       "                     Class: 1  Class: 2 Class: 3 Class: 4 Class: 5\n",
       "Precision              0.5873 0.5000000   0.4271  0.34940  0.32759\n",
       "Recall                 0.7685 0.0090909   0.7183  0.11837  0.14615\n",
       "F1                     0.6658 0.0178571   0.5357  0.17683  0.20213\n",
       "Prevalence             0.2784 0.0945017   0.3050  0.21048  0.11168\n",
       "Detection Rate         0.2139 0.0008591   0.2191  0.02491  0.01632\n",
       "Detection Prevalence   0.3643 0.0017182   0.5129  0.07131  0.04983\n",
       "Balanced Accuracy      0.7801 0.5040711   0.6478  0.52980  0.55422"
      ]
     },
     "metadata": {},
     "output_type": "display_data"
    }
   ],
   "source": [
    "lrp=confusionMatrix(data = as.factor(prediction_pra_mae_min), reference = as.factor(test$y), mode = \"prec_recall\")\n",
    "lrp"
   ]
  },
  {
   "cell_type": "markdown",
   "metadata": {},
   "source": [
    "### Decision Tree"
   ]
  },
  {
   "cell_type": "code",
   "execution_count": 55,
   "metadata": {},
   "outputs": [
    {
     "data": {
      "text/plain": [
       "Confusion Matrix and Statistics\n",
       "\n",
       "          Reference\n",
       "Prediction   1   2   3   4   5\n",
       "         1 257  14  40  24  32\n",
       "         2   0   0   0   0   0\n",
       "         3  67  96 315 221  98\n",
       "         4   0   0   0   0   0\n",
       "         5   0   0   0   0   0\n",
       "\n",
       "Overall Statistics\n",
       "                                          \n",
       "               Accuracy : 0.4914          \n",
       "                 95% CI : (0.4623, 0.5205)\n",
       "    No Information Rate : 0.305           \n",
       "    P-Value [Acc > NIR] : < 2.2e-16       \n",
       "                                          \n",
       "                  Kappa : 0.277           \n",
       "                                          \n",
       " Mcnemar's Test P-Value : NA              \n",
       "\n",
       "Statistics by Class:\n",
       "\n",
       "                     Class: 1 Class: 2 Class: 3 Class: 4 Class: 5\n",
       "Precision              0.7003       NA   0.3952       NA       NA\n",
       "Recall                 0.7932   0.0000   0.8873   0.0000   0.0000\n",
       "F1                     0.7438       NA   0.5469       NA       NA\n",
       "Prevalence             0.2784   0.0945   0.3050   0.2105   0.1117\n",
       "Detection Rate         0.2208   0.0000   0.2706   0.0000   0.0000\n",
       "Detection Prevalence   0.3153   0.0000   0.6847   0.0000   0.0000\n",
       "Balanced Accuracy      0.8311   0.5000   0.6458   0.5000   0.5000"
      ]
     },
     "metadata": {},
     "output_type": "display_data"
    }
   ],
   "source": [
    "dtr=confusionMatrix(data = as.factor(predicted_std), reference = as.factor(test$y), mode = \"prec_recall\")\n",
    "dtr"
   ]
  },
  {
   "cell_type": "markdown",
   "metadata": {},
   "source": [
    "### Random Forest"
   ]
  },
  {
   "cell_type": "code",
   "execution_count": 56,
   "metadata": {},
   "outputs": [
    {
     "data": {
      "text/plain": [
       "Confusion Matrix and Statistics\n",
       "\n",
       "          Reference\n",
       "Prediction   1   2   3   4   5\n",
       "         1 242  11  37  20  23\n",
       "         2   0  14   7   6   3\n",
       "         3  58  70 246 137  56\n",
       "         4  15  13  47  65  24\n",
       "         5   9   2  18  17  24\n",
       "\n",
       "Overall Statistics\n",
       "                                          \n",
       "               Accuracy : 0.5077          \n",
       "                 95% CI : (0.4786, 0.5368)\n",
       "    No Information Rate : 0.305           \n",
       "    P-Value [Acc > NIR] : < 2.2e-16       \n",
       "                                          \n",
       "                  Kappa : 0.3284          \n",
       "                                          \n",
       " Mcnemar's Test P-Value : < 2.2e-16       \n",
       "\n",
       "Statistics by Class:\n",
       "\n",
       "                     Class: 1 Class: 2 Class: 3 Class: 4 Class: 5\n",
       "Precision              0.7267  0.46667   0.4339  0.39634  0.34286\n",
       "Recall                 0.7469  0.12727   0.6930  0.26531  0.18462\n",
       "F1                     0.7367  0.20000   0.5336  0.31785  0.24000\n",
       "Prevalence             0.2784  0.09450   0.3050  0.21048  0.11168\n",
       "Detection Rate         0.2079  0.01203   0.2113  0.05584  0.02062\n",
       "Detection Prevalence   0.2861  0.02577   0.4871  0.14089  0.06014\n",
       "Balanced Accuracy      0.8193  0.55605   0.6481  0.57879  0.57006"
      ]
     },
     "metadata": {},
     "output_type": "display_data"
    }
   ],
   "source": [
    "rfr=confusionMatrix(data = as.factor(RandomForest_std), reference = as.factor(test$y), mode = \"prec_recall\")\n",
    "rfr"
   ]
  },
  {
   "cell_type": "markdown",
   "metadata": {},
   "source": [
    "### Stochastic Gradient Boosting"
   ]
  },
  {
   "cell_type": "code",
   "execution_count": 57,
   "metadata": {},
   "outputs": [
    {
     "data": {
      "text/plain": [
       "Confusion Matrix and Statistics\n",
       "\n",
       "          Reference\n",
       "Prediction   1   2   3   4   5\n",
       "         1 254  11  33  21  30\n",
       "         2   1  13  12   4   2\n",
       "         3  47  70 243 141  48\n",
       "         4  15  12  45  65  26\n",
       "         5   7   4  22  14  24\n",
       "\n",
       "Overall Statistics\n",
       "                                          \n",
       "               Accuracy : 0.5146          \n",
       "                 95% CI : (0.4855, 0.5437)\n",
       "    No Information Rate : 0.305           \n",
       "    P-Value [Acc > NIR] : < 2.2e-16       \n",
       "                                          \n",
       "                  Kappa : 0.3385          \n",
       "                                          \n",
       " Mcnemar's Test P-Value : < 2.2e-16       \n",
       "\n",
       "Statistics by Class:\n",
       "\n",
       "                     Class: 1 Class: 2 Class: 3 Class: 4 Class: 5\n",
       "Precision              0.7278  0.40625   0.4426  0.39877  0.33803\n",
       "Recall                 0.7840  0.11818   0.6845  0.26531  0.18462\n",
       "F1                     0.7548  0.18310   0.5376  0.31863  0.23881\n",
       "Prevalence             0.2784  0.09450   0.3050  0.21048  0.11168\n",
       "Detection Rate         0.2182  0.01117   0.2088  0.05584  0.02062\n",
       "Detection Prevalence   0.2998  0.02749   0.4716  0.14003  0.06100\n",
       "Balanced Accuracy      0.8354  0.55008   0.6531  0.57933  0.56958"
      ]
     },
     "metadata": {},
     "output_type": "display_data"
    }
   ],
   "source": [
    "sgbr=confusionMatrix(data = as.factor(predicted_sgb), reference = as.factor(test$y), mode = \"prec_recall\")\n",
    "sgbr"
   ]
  },
  {
   "cell_type": "markdown",
   "metadata": {},
   "source": [
    "By looking the Accuracy, it can be said that best performance are optained in the Random Forest and Stochastic Gradient Boosting. Indeed, these 2 model's performance is too similar, which can be understood by looking the Precision, Recall, and F1 score of the models. The biggest difference occurs in the precision and recall values of the model. So, main objective can determine which model must be used. Moreover, performance of the other two model is also similar. Indeed decision tree's approach is more proper for classification problems. The reason behind the similarity can be explained by complexity of the models. Namely, Decision Tree's complexity is less than constructed Linear Regression with lasso, but it still has similar performance compared to the other."
   ]
  },
  {
   "cell_type": "markdown",
   "metadata": {},
   "source": [
    "# Conclusion of Models"
   ]
  },
  {
   "cell_type": "markdown",
   "metadata": {},
   "source": [
    "## Linear Regression with Penalty"
   ]
  },
  {
   "cell_type": "markdown",
   "metadata": {},
   "source": [
    "Different Penalty types are tried in the glmnet package by using mean absolute percentage error and mean square error objective. In these 2 penalty, 3 different lambdas are tried to obtain a model. In addition, all the possible lambda values are checked by plotting the cv.glmnet() results. Predictions are made based on these models. Best model performance are observed in this test dataset. After all, caret() packages are used to make a model can be comparable with other method's models. Namely, caret library is used in all the methods to obtain similar report types. Penalized Regression Approach is made with 3 different lambda values. These are lambda.min, lambda.1se, and random a lambda value achieved in the previous cv.glmnet() process. Model results are as follows:"
   ]
  },
  {
   "cell_type": "code",
   "execution_count": 58,
   "metadata": {},
   "outputs": [
    {
     "data": {
      "text/plain": [
       "glmnet \n",
       "\n",
       "4656 samples\n",
       "  32 predictor\n",
       "   5 classes: '1', '2', '3', '4', '5' \n",
       "\n",
       "No pre-processing\n",
       "Resampling: Cross-Validated (10 fold, repeated 1 times) \n",
       "Summary of sample sizes: 4190, 4190, 4190, 4191, 4190, 4192, ... \n",
       "Resampling results across tuning parameters:\n",
       "\n",
       "  lambda       Accuracy   Kappa    \n",
       "  0.002179314  0.5199788  0.3445326\n",
       "  0.007304193  0.5158988  0.3296490\n",
       "  0.098829223  0.3047682  0.0000000\n",
       "\n",
       "Tuning parameter 'alpha' was held constant at a value of 1\n",
       "Accuracy was used to select the optimal model using the largest value.\n",
       "The final values used for the model were alpha = 1 and lambda = 0.002179314."
      ]
     },
     "metadata": {},
     "output_type": "display_data"
    }
   ],
   "source": [
    "lm_model"
   ]
  },
  {
   "cell_type": "markdown",
   "metadata": {},
   "source": [
    "### Best Model for Penalized Regression Approach"
   ]
  },
  {
   "cell_type": "markdown",
   "metadata": {},
   "source": [
    "RMSE will be the objective parameter for evaluation of the model. In this perpective, **alpha = 1, lambda = 0.002179314 and MAE Penalty type** is the best tuned parameter for this model for Student Evaluation Dataset."
   ]
  },
  {
   "cell_type": "code",
   "execution_count": 59,
   "metadata": {},
   "outputs": [
    {
     "name": "stdout",
     "output_type": "stream",
     "text": [
      " Accuracy \n",
      "0.4750859 \n"
     ]
    }
   ],
   "source": [
    "print(lrp$overall[1])"
   ]
  },
  {
   "cell_type": "markdown",
   "metadata": {},
   "source": [
    "## Decision Tree"
   ]
  },
  {
   "cell_type": "markdown",
   "metadata": {},
   "source": [
    "**6 different minbucket** values are tried to get best model for Decision Tree. However, in caret library there is no available packages for rpart for tuning the minimal number of observation per tree leaf. So for loop is tried to get information related to effects in the change of number of variable in the tree leaf. In addition, all models tested with **10 different cp value**. After looking the created model's result, the best model is selected. The best Accuracy value is selected with considering the minbucket values and cp values. Selected model evaluated 1 more time and named as tr_last. Model results are as follows:"
   ]
  },
  {
   "cell_type": "code",
   "execution_count": 75,
   "metadata": {},
   "outputs": [
    {
     "data": {
      "text/plain": [
       "CART \n",
       "\n",
       "4656 samples\n",
       " 164 predictor\n",
       "   5 classes: '1', '2', '3', '4', '5' \n",
       "\n",
       "No pre-processing\n",
       "Resampling: Cross-Validated (10 fold) \n",
       "Summary of sample sizes: 4190, 4192, 4190, 4190, 4191, 4191, ... \n",
       "Resampling results across tuning parameters:\n",
       "\n",
       "  cp    Accuracy   Kappa    \n",
       "  0.00  0.4641210  0.2867510\n",
       "  0.01  0.4935627  0.2805461\n",
       "  0.02  0.4935627  0.2805461\n",
       "  0.03  0.4935627  0.2805461\n",
       "  0.04  0.4935627  0.2805461\n",
       "  0.05  0.4935627  0.2805461\n",
       "  0.06  0.4935627  0.2805461\n",
       "  0.07  0.4935627  0.2805461\n",
       "  0.08  0.4935627  0.2805461\n",
       "  0.09  0.4935627  0.2805461\n",
       "  0.10  0.4935627  0.2805461\n",
       "\n",
       "Accuracy was used to select the optimal model using the largest value.\n",
       "The final value used for the model was cp = 0.1."
      ]
     },
     "metadata": {},
     "output_type": "display_data"
    }
   ],
   "source": [
    "tr_last"
   ]
  },
  {
   "cell_type": "markdown",
   "metadata": {},
   "source": [
    "### Best Model for Decision Tree"
   ]
  },
  {
   "cell_type": "markdown",
   "metadata": {},
   "source": [
    "RMSE will be the objective parameter for evaluation of the model. In this perpective, **cp=0.1 and minbucket = 8** is the best tuned parameter for this model for Student Evaluation Dataset."
   ]
  },
  {
   "cell_type": "code",
   "execution_count": 61,
   "metadata": {},
   "outputs": [
    {
     "name": "stdout",
     "output_type": "stream",
     "text": [
      " Accuracy \n",
      "0.4914089 \n"
     ]
    }
   ],
   "source": [
    "print(dtr$overall[1])"
   ]
  },
  {
   "cell_type": "markdown",
   "metadata": {},
   "source": [
    "## Random Forest"
   ]
  },
  {
   "cell_type": "markdown",
   "metadata": {},
   "source": [
    "As mentioned in the homework description, only mtry namely number of selected feature for model is modified. 4 different number is determined. Best model is achived the model with the 10 number of feature. Model results are as follows:"
   ]
  },
  {
   "cell_type": "code",
   "execution_count": 62,
   "metadata": {},
   "outputs": [
    {
     "data": {
      "text/plain": [
       "Random Forest \n",
       "\n",
       "4656 samples\n",
       "  32 predictor\n",
       "   5 classes: '1', '2', '3', '4', '5' \n",
       "\n",
       "No pre-processing\n",
       "Resampling: Cross-Validated (10 fold, repeated 1 times) \n",
       "Summary of sample sizes: 4190, 4191, 4190, 4190, 4190, 4192, ... \n",
       "Resampling results across tuning parameters:\n",
       "\n",
       "  mtry  Accuracy   Kappa    \n",
       "   4    0.4374783  0.2109921\n",
       "   8    0.4819396  0.2853275\n",
       "  10    0.4886044  0.2969695\n",
       "  15    0.4920430  0.3057549\n",
       "\n",
       "Tuning parameter 'splitrule' was held constant at a value of extratrees\n",
       "\n",
       "Tuning parameter 'min.node.size' was held constant at a value of 5\n",
       "Accuracy was used to select the optimal model using the largest value.\n",
       "The final values used for the model were mtry = 15, splitrule = extratrees\n",
       " and min.node.size = 5."
      ]
     },
     "metadata": {},
     "output_type": "display_data"
    }
   ],
   "source": [
    "rf_fit"
   ]
  },
  {
   "cell_type": "markdown",
   "metadata": {},
   "source": [
    "### Best Model for Random Forest"
   ]
  },
  {
   "cell_type": "markdown",
   "metadata": {},
   "source": [
    "RMSE will be the objective parameter for evaluation of the model. In this perpective, **mtry=15** is the best tuned parameter for this model for Student Evaluation Dataset."
   ]
  },
  {
   "cell_type": "code",
   "execution_count": 63,
   "metadata": {},
   "outputs": [
    {
     "name": "stdout",
     "output_type": "stream",
     "text": [
      "Accuracy \n",
      "0.507732 \n"
     ]
    }
   ],
   "source": [
    "print(rfr$overall[1])"
   ]
  },
  {
   "cell_type": "markdown",
   "metadata": {},
   "source": [
    "## Stochastic Gradient Boosting"
   ]
  },
  {
   "cell_type": "markdown",
   "metadata": {},
   "source": [
    "**Different 5 shrinkage value, 3 interaction.depth, 5 n.trees values** are tried to obtain the best model. This model is the one which takes the most time to create the models. The reason behind this fact caused from number of tuned parameter in the approach. However, it has the best Accuracy value with Random Forest. Model results are as follows:"
   ]
  },
  {
   "cell_type": "code",
   "execution_count": 64,
   "metadata": {},
   "outputs": [
    {
     "data": {
      "text/plain": [
       "Stochastic Gradient Boosting \n",
       "\n",
       "4656 samples\n",
       "  32 predictor\n",
       "   5 classes: '1', '2', '3', '4', '5' \n",
       "\n",
       "No pre-processing\n",
       "Resampling: Cross-Validated (10 fold, repeated 1 times) \n",
       "Summary of sample sizes: 4191, 4191, 4191, 4190, 4190, 4189, ... \n",
       "Resampling results across tuning parameters:\n",
       "\n",
       "  shrinkage  interaction.depth  n.trees  Accuracy   Kappa    \n",
       "  0.1        1                   50      0.5045147  0.3078019\n",
       "  0.1        1                  100      0.5116004  0.3253585\n",
       "  0.1        1                  150      0.5128862  0.3312142\n",
       "  0.1        1                  200      0.5189012  0.3425569\n",
       "  0.1        1                  250      0.5199714  0.3450251\n",
       "  0.1        3                   50      0.5116027  0.3307548\n",
       "  0.1        3                  100      0.5150413  0.3412033\n",
       "  0.1        3                  150      0.5173949  0.3463261\n",
       "  0.1        3                  200      0.5131017  0.3420885\n",
       "  0.1        3                  250      0.5154663  0.3455269\n",
       "  0.1        5                   50      0.5221169  0.3483885\n",
       "  0.1        5                  100      0.5186834  0.3484588\n",
       "  0.1        5                  150      0.5088006  0.3374475\n",
       "  0.1        5                  200      0.5036458  0.3321000\n",
       "  0.1        5                  250      0.5060132  0.3359096\n",
       "  0.3        1                   50      0.5060192  0.3232565\n",
       "  0.3        1                  100      0.5176113  0.3432444\n",
       "  0.3        1                  150      0.5139702  0.3397873\n",
       "  0.3        1                  200      0.5126789  0.3391042\n",
       "  0.3        1                  250      0.5126766  0.3395951\n",
       "  0.3        3                   50      0.5060077  0.3321892\n",
       "  0.3        3                  100      0.4991361  0.3268248\n",
       "  0.3        3                  150      0.4957054  0.3237940\n",
       "  0.3        3                  200      0.4946324  0.3238476\n",
       "  0.3        3                  250      0.4853925  0.3122594\n",
       "  0.3        5                   50      0.4963469  0.3233189\n",
       "  0.3        5                  100      0.4942009  0.3236316\n",
       "  0.3        5                  150      0.4860349  0.3132129\n",
       "  0.3        5                  200      0.4804522  0.3073159\n",
       "  0.3        5                  250      0.4768019  0.3029899\n",
       "  0.5        1                   50      0.5103133  0.3317787\n",
       "  0.5        1                  100      0.5096709  0.3342149\n",
       "  0.5        1                  150      0.5092362  0.3356185\n",
       "  0.5        1                  200      0.5038696  0.3274632\n",
       "  0.5        1                  250      0.5103120  0.3385400\n",
       "  0.5        3                   50      0.5010790  0.3317603\n",
       "  0.5        3                  100      0.4821731  0.3081454\n",
       "  0.5        3                  150      0.4768032  0.3023704\n",
       "  0.5        3                  200      0.4692708  0.2936197\n",
       "  0.5        3                  250      0.4666976  0.2907881\n",
       "  0.5        5                   50      0.4821699  0.3085435\n",
       "  0.5        5                  100      0.4750957  0.3022930\n",
       "  0.5        5                  150      0.4637080  0.2876027\n",
       "  0.5        5                  200      0.4557584  0.2760911\n",
       "  0.5        5                  250      0.4525368  0.2733735\n",
       "\n",
       "Tuning parameter 'n.minobsinnode' was held constant at a value of 20\n",
       "Accuracy was used to select the optimal model using the largest value.\n",
       "The final values used for the model were n.trees = 50, interaction.depth =\n",
       " 5, shrinkage = 0.1 and n.minobsinnode = 20."
      ]
     },
     "metadata": {},
     "output_type": "display_data"
    }
   ],
   "source": [
    "gbm_fit"
   ]
  },
  {
   "cell_type": "markdown",
   "metadata": {},
   "source": [
    "### Best Model for Stochastic Gradient Boosting"
   ]
  },
  {
   "cell_type": "markdown",
   "metadata": {},
   "source": [
    "RMSE will be the objective parameter for evaluation of the model. In this perpective, **n.trees = 50 interaction.depth =\n",
    " 5, shrinkage = 0.1 and n.minobsinnode = 20** is the best tuned parameter for this model for Student Evaluation Dataset."
   ]
  },
  {
   "cell_type": "code",
   "execution_count": 65,
   "metadata": {},
   "outputs": [
    {
     "name": "stdout",
     "output_type": "stream",
     "text": [
      " Accuracy \n",
      "0.5146048 \n"
     ]
    }
   ],
   "source": [
    "print(sgbr$overall[1])"
   ]
  },
  {
   "cell_type": "markdown",
   "metadata": {},
   "source": [
    "# Comparision of Results in Training and Test Dataset"
   ]
  },
  {
   "cell_type": "code",
   "execution_count": 71,
   "metadata": {},
   "outputs": [],
   "source": [
    "train=list(\"Linear Regression with Lasso Results\"=lm_model$results$Accuracy[which.min(lm_model$results$Accuracy)],\n",
    "            \"Decision Tree Results\"=    tr_last$results$Accuracy[which.min(tr_last$results$Accuracy)],\n",
    "            \"Random Forest Results\"=    rf_fit$results$Accuracy[which.min(rf_fit$results$Accuracy)],\n",
    "            \"Result Stochastic Gradient Boosting Results\"=    gbm_fit$results$Accuracy[which.min(gbm_fit$results$Accuracy)])"
   ]
  },
  {
   "cell_type": "markdown",
   "metadata": {},
   "source": [
    "## Accuracy in The Train Dataset¶"
   ]
  },
  {
   "cell_type": "code",
   "execution_count": 72,
   "metadata": {},
   "outputs": [
    {
     "data": {
      "text/html": [
       "<table>\n",
       "<thead><tr><th scope=col>Linear Regression with Lasso Results</th><th scope=col>Decision Tree Results</th><th scope=col>Random Forest Results</th><th scope=col>Result Stochastic Gradient Boosting Results</th></tr></thead>\n",
       "<tbody>\n",
       "\t<tr><td>0.3047682</td><td>0.4652249</td><td>0.4374783</td><td>0.4525368</td></tr>\n",
       "</tbody>\n",
       "</table>\n"
      ],
      "text/latex": [
       "\\begin{tabular}{llll}\n",
       " Linear Regression with Lasso Results & Decision Tree Results & Random Forest Results & Result Stochastic Gradient Boosting Results\\\\\n",
       "\\hline\n",
       "\t 0.3047682 & 0.4652249 & 0.4374783 & 0.4525368\\\\\n",
       "\\end{tabular}\n"
      ],
      "text/markdown": [
       "\n",
       "| Linear Regression with Lasso Results | Decision Tree Results | Random Forest Results | Result Stochastic Gradient Boosting Results |\n",
       "|---|---|---|---|\n",
       "| 0.3047682 | 0.4652249 | 0.4374783 | 0.4525368 |\n",
       "\n"
      ],
      "text/plain": [
       "     Linear Regression with Lasso Results Decision Tree Results\n",
       "[1,] 0.3047682                            0.4652249            \n",
       "     Random Forest Results Result Stochastic Gradient Boosting Results\n",
       "[1,] 0.4374783             0.4525368                                  "
      ]
     },
     "metadata": {},
     "output_type": "display_data"
    }
   ],
   "source": [
    "t(train)"
   ]
  },
  {
   "cell_type": "code",
   "execution_count": 68,
   "metadata": {},
   "outputs": [],
   "source": [
    "test=list(\"Linear Regression with Lasso Results\"=lrp$overall[1],\n",
    "            \"Decision Tree Results\"=    dtr$overall[1],\n",
    "            \"Random Forest Results\"=    rfr$overall[1],\n",
    "            \"Result Stochastic Gradient Boosting Results\"=    sgbr$overall[1])"
   ]
  },
  {
   "cell_type": "markdown",
   "metadata": {},
   "source": [
    "## Accuracy in The Test Dataset"
   ]
  },
  {
   "cell_type": "code",
   "execution_count": 69,
   "metadata": {
    "scrolled": true
   },
   "outputs": [
    {
     "data": {
      "text/html": [
       "<table>\n",
       "<thead><tr><th scope=col>Linear Regression with Lasso Results</th><th scope=col>Decision Tree Results</th><th scope=col>Random Forest Results</th><th scope=col>Result Stochastic Gradient Boosting Results</th></tr></thead>\n",
       "<tbody>\n",
       "\t<tr><td>0.4750859</td><td>0.4914089</td><td>0.507732 </td><td>0.5146048</td></tr>\n",
       "</tbody>\n",
       "</table>\n"
      ],
      "text/latex": [
       "\\begin{tabular}{llll}\n",
       " Linear Regression with Lasso Results & Decision Tree Results & Random Forest Results & Result Stochastic Gradient Boosting Results\\\\\n",
       "\\hline\n",
       "\t 0.4750859 & 0.4914089 & 0.507732  & 0.5146048\\\\\n",
       "\\end{tabular}\n"
      ],
      "text/markdown": [
       "\n",
       "| Linear Regression with Lasso Results | Decision Tree Results | Random Forest Results | Result Stochastic Gradient Boosting Results |\n",
       "|---|---|---|---|\n",
       "| 0.4750859 | 0.4914089 | 0.507732  | 0.5146048 |\n",
       "\n"
      ],
      "text/plain": [
       "     Linear Regression with Lasso Results Decision Tree Results\n",
       "[1,] 0.4750859                            0.4914089            \n",
       "     Random Forest Results Result Stochastic Gradient Boosting Results\n",
       "[1,] 0.507732              0.5146048                                  "
      ]
     },
     "metadata": {},
     "output_type": "display_data"
    }
   ],
   "source": [
    "t(test)"
   ]
  },
  {
   "cell_type": "markdown",
   "metadata": {},
   "source": [
    "Models got similar performance as achieved in the training dataset. Namely, it is hard to say that there is an over-fitting or under-fitting. Student Evaluation values can be described as nulti-classification problem, so having the worst performance measure both training and test data sets aren't a suprise for Linear Regression model. In addition to under/over-fitting, it can be said that error rates are consistent for both datasets, which can be observed looking the correlation between the results pf performance of the models in both dataset. Interestingly, all the models have more accuracy in the test dataset. However, accuracy can be bad performance measure for this type dataset(imbalance in the dataset) because by having a bias in the major part of the class, model still can get better accuracy at the end. The reason behind this fact occured from the formula of the Accuracy measurement. So, F1-Score or Recall can be more reasonable to compare the models."
   ]
  },
  {
   "cell_type": "code",
   "execution_count": null,
   "metadata": {},
   "outputs": [],
   "source": []
  }
 ],
 "metadata": {
  "kernelspec": {
   "display_name": "R",
   "language": "R",
   "name": "ir"
  },
  "language_info": {
   "codemirror_mode": "r",
   "file_extension": ".r",
   "mimetype": "text/x-r-source",
   "name": "R",
   "pygments_lexer": "r",
   "version": "3.6.1"
  }
 },
 "nbformat": 4,
 "nbformat_minor": 4
}
