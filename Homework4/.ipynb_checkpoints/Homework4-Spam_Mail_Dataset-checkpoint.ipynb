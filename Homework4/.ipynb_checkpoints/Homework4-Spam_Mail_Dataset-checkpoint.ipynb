{
 "cells": [
  {
   "cell_type": "code",
   "execution_count": 104,
   "metadata": {},
   "outputs": [],
   "source": [
    "library(data.table)\n",
    "library(glmnet)\n",
    "library(ggplot2)\n",
    "library(lubridate, quietly=TRUE)\n",
    "library(zoo, quietly = TRUE)\n",
    "library(dplyr, quietly = TRUE)\n",
    "library(GGally, quietly=TRUE)\n",
    "library(caTools)\n",
    "library(rpart)\n",
    "library(rattle)\n",
    "library(caret)\n",
    "library(e1071)\n",
    "library(randomForest)\n",
    "library(gbm)"
   ]
  },
  {
   "cell_type": "markdown",
   "metadata": {},
   "source": [
    "### Performance Function"
   ]
  },
  {
   "cell_type": "code",
   "execution_count": 105,
   "metadata": {},
   "outputs": [],
   "source": [
    "perf_dt=function(type,actual,forecast){\n",
    "    name=type\n",
    "    n=length(actual)\n",
    "    error=actual-forecast\n",
    "    mean=mean(actual)\n",
    "    sd=sd(actual)\n",
    "    FBias=sum(error)/sum(actual)\n",
    "    MPE=sum(error/actual)/n\n",
    "    MAPE=sum(abs(error/actual))/n\n",
    "    RMSE=sqrt(sum(error^2))/n\n",
    "    MAD=sum(abs(error))/n\n",
    "    WMAPE=MAD/mean\n",
    "    l=data.frame(name,n,mean,sd,FBias,MAPE,RMSE,MAD,WMAPE)\n",
    "    return(l)\n",
    "}"
   ]
  },
  {
   "cell_type": "markdown",
   "metadata": {},
   "source": [
    "# Second Dataset"
   ]
  },
  {
   "cell_type": "markdown",
   "metadata": {},
   "source": [
    "The \"spam\" concept is diverse: advertisements for products/web sites, make money fast schemes, chain letters, pornography...\n",
    "\n",
    "Our collection of spam e-mails came from our postmaster and individuals who had filed spam. Our collection of non-spam e-mails came from filed work and personal e-mails, and hence the word 'george' and the area code '650' are indicators of non-spam. These are useful when constructing a personalized spam filter. One would either have to blind such non-spam indicators or get a very wide collection of non-spam to generate a general purpose spam filter.\n",
    "\n",
    "For background on spam:\n",
    "\n",
    "Cranor, Lorrie F., LaMacchia, Brian A. Spam!\n",
    "Communications of the ACM, 41(8):74-83, 1998.\n",
    "\n",
    "(a) Hewlett-Packard Internal-only Technical Report. External forthcoming.\n",
    "(b) Determine whether a given email is spam or not.\n",
    "(c) ~7% misclassification error. False positives (marking good mail as spam) are very undesirable.If we insist on zero false positives in the training/testing set, 20-25% of the spam passed through the filter.\n",
    "\n",
    "\n",
    "Attribute Information:\n",
    "\n",
    "The last column of 'spambase.data' denotes whether the e-mail was considered spam (1) or not (0), i.e. unsolicited commercial e-mail. Most of the attributes indicate whether a particular word or character was frequently occuring in the e-mail. The run-length attributes (55-57) measure the length of sequences of consecutive capital letters. For the statistical measures of each attribute, see the end of this file. Here are the definitions of the attributes:\n",
    "\n",
    "48 continuous real [0,100] attributes of type word_freq_WORD\n",
    "= percentage of words in the e-mail that match WORD, i.e. 100 * (number of times the WORD appears in the e-mail) / total number of words in e-mail. A \"word\" in this case is any string of alphanumeric characters bounded by non-alphanumeric characters or end-of-string.\n",
    "\n",
    "6 continuous real [0,100] attributes of type char_freq_CHAR]\n",
    "= percentage of characters in the e-mail that match CHAR, i.e. 100 * (number of CHAR occurences) / total characters in e-mail\n",
    "\n",
    "1 continuous real [1,...] attribute of type capital_run_length_average\n",
    "= average length of uninterrupted sequences of capital letters\n",
    "\n",
    "1 continuous integer [1,...] attribute of type capital_run_length_longest\n",
    "= length of longest uninterrupted sequence of capital letters\n",
    "\n",
    "1 continuous integer [1,...] attribute of type capital_run_length_total\n",
    "= sum of length of uninterrupted sequences of capital letters\n",
    "= total number of capital letters in the e-mail\n",
    "\n",
    "1 nominal {0,1} class attribute of type spam\n",
    "= denotes whether the e-mail was considered spam (1) or not (0), i.e. unsolicited commercial e-mail.\n",
    "\n"
   ]
  },
  {
   "cell_type": "markdown",
   "metadata": {},
   "source": [
    "### Loading Dataset"
   ]
  },
  {
   "cell_type": "code",
   "execution_count": 106,
   "metadata": {},
   "outputs": [],
   "source": [
    "spam=read.csv(\"spambase.data\")\n",
    "spam=as.data.table(spam[1000:nrow(spam),])\n",
    "spam=na.omit(spam)\n",
    "spam$X1=as.factor(spam$X1)"
   ]
  },
  {
   "cell_type": "code",
   "execution_count": 107,
   "metadata": {
    "scrolled": false
   },
   "outputs": [
    {
     "name": "stdout",
     "output_type": "stream",
     "text": [
      "Classes 'data.table' and 'data.frame':\t3601 obs. of  58 variables:\n",
      " $ X0     : num  0.45 0.45 0.82 0.09 0 0 0 0.47 0 1.47 ...\n",
      " $ X0.64  : num  0.9 0.91 0 0.49 0 0 0 0 0.72 0 ...\n",
      " $ X0.64.1: num  0.9 0.91 0.82 0.59 1.31 1.31 0.6 0.94 1.81 0 ...\n",
      " $ X0.1   : num  0 0 0 0 0 0 0 0 0 0 ...\n",
      " $ X0.32  : num  0.45 0.45 0.41 0.39 0 0 0 0.94 0 0 ...\n",
      " $ X0.2   : num  0 0 0 0.19 0 0 0.6 0 0.36 0 ...\n",
      " $ X0.3   : num  0 0 0.41 0 0 0 0 0.94 0 0 ...\n",
      " $ X0.4   : num  0.45 0.45 0.82 0 0 0 0 0 0.36 0 ...\n",
      " $ X0.5   : num  0 0 0.41 0.09 0 0 0.6 0 0.72 0 ...\n",
      " $ X0.6   : num  1.8 1.83 1.23 0.39 0 0 0 0 1.08 1.47 ...\n",
      " $ X0.7   : num  0 0 1.65 0 0 0 0 0 0.36 0 ...\n",
      " $ X0.64.2: num  2.26 2.29 0.41 1.57 1.31 1.31 1.8 0.47 0.72 0 ...\n",
      " $ X0.8   : num  0 0 0 0.19 0 0 0 0 0 1.47 ...\n",
      " $ X0.9   : num  0.45 0.91 0 0 0 0 0 0 0.36 0 ...\n",
      " $ X0.10  : num  0 0 0 0 0 0 0 0 0 0 ...\n",
      " $ X0.32.1: num  0.45 0.45 2.47 0 0 0 0.3 0 0.36 7.35 ...\n",
      " $ X0.11  : num  0 0 1.65 0.09 0 0 0 0.47 0.36 0 ...\n",
      " $ X1.29  : num  0 0 0 0 0 0 0 0 0.36 0 ...\n",
      " $ X1.93  : num  1.8 1.83 1.23 3.75 1.31 1.31 2.7 4.24 1.08 2.94 ...\n",
      " $ X0.12  : num  0 0 1.23 0.09 0 0 0 0 0 0 ...\n",
      " $ X0.96  : num  4.97 5.04 2.06 1.08 5.26 5.26 1.2 0.94 2.53 1.47 ...\n",
      " $ X0.13  : num  0 0 0 0 0 0 0 0 0 0 ...\n",
      " $ X0.14  : num  0 0 0 0 0 0 0 1.41 0 0 ...\n",
      " $ X0.15  : num  0 0 0.82 0.09 1.31 1.31 0.6 0 0 4.41 ...\n",
      " $ X0.16  : num  0 0 0 0 0 0 0 0 0 0 ...\n",
      " $ X0.17  : num  0 0 0 0 0 0 0 0 0 0 ...\n",
      " $ X0.18  : num  0 0 0 0 0 0 0 0 0 0 ...\n",
      " $ X0.19  : num  0 0 0 0 0 0 0 0 0 0 ...\n",
      " $ X0.20  : num  0 0 0 0 0 0 0 0 0 0 ...\n",
      " $ X0.21  : num  0 0 0 0 0 0 0 0 0 0 ...\n",
      " $ X0.22  : num  0 0 0 0 0 0 0 0 0 0 ...\n",
      " $ X0.23  : num  0 0 0 0 0 0 0 0 0 0 ...\n",
      " $ X0.24  : num  0 0 0 0 0 0 0 0 0 0 ...\n",
      " $ X0.25  : num  0 0 0 0 0 0 0 0 0 0 ...\n",
      " $ X0.26  : num  0 0 0 0 0 0 0 0.47 0 0 ...\n",
      " $ X0.27  : num  0 0 0 0 0 0 0 0 0 0 ...\n",
      " $ X0.28  : num  0 0 0 0 0 0 0 0 1.08 0 ...\n",
      " $ X0.29  : num  0 0 0 0 0 0 0 0 0 0 ...\n",
      " $ X0.30  : num  0 0 0 0 0 0 0 0 0 0 ...\n",
      " $ X0.31  : num  0 0 0 0 0 0 0 0 0 0 ...\n",
      " $ X0.33  : num  0 0 0 0 0 0 0 0 0 0 ...\n",
      " $ X0.34  : num  0 0 0 0 0 0 0 0 0 0 ...\n",
      " $ X0.35  : num  0 0 0 0 0 0 0 0 0 0 ...\n",
      " $ X0.36  : num  0 0 0 0 0 0 0 0 0 0 ...\n",
      " $ X0.37  : num  0 0 0 0 0 0 0 0.47 0.36 0 ...\n",
      " $ X0.38  : num  0 0 0 0 0 0 0 0 0 0 ...\n",
      " $ X0.39  : num  0 0 0 0 0 0 0 0 0 0 ...\n",
      " $ X0.40  : num  0 0 0 0 0 0 0 0 0 0 ...\n",
      " $ X0.41  : num  0 0 0 0.768 0 0 0 0 0 0 ...\n",
      " $ X0.42  : num  0.244 0.245 0 0.037 0 0 0.094 0.073 0.334 0 ...\n",
      " $ X0.43  : num  0 0 0 0 0 0 0.047 0 0 0 ...\n",
      " $ X0.778 : num  1.63 1.63 0.53 5.85 0 ...\n",
      " $ X0.44  : num  0.244 0.245 0.132 1.313 0.212 ...\n",
      " $ X0.45  : num  0.081 0.081 0.132 0 0 0 0 0 0.066 0 ...\n",
      " $ X3.756 : num  64.42 64.42 6.4 5.96 4.82 ...\n",
      " $ X61    : int  708 708 76 54 25 25 31 91 393 63 ...\n",
      " $ X278   : int  773 773 301 757 53 53 201 219 736 107 ...\n",
      " $ X1     : Factor w/ 2 levels \"0\",\"1\": 2 2 2 2 2 2 2 2 2 2 ...\n",
      " - attr(*, \".internal.selfref\")=<externalptr> \n"
     ]
    }
   ],
   "source": [
    "str(spam)"
   ]
  },
  {
   "cell_type": "code",
   "execution_count": 108,
   "metadata": {},
   "outputs": [],
   "source": [
    "set.seed(35)\n",
    "spl=sample.split(spam$X1, SplitRatio = 0.8)\n",
    "train_spam=subset(spam,spl==TRUE)\n",
    "test_spam=subset(spam,spl==FALSE)"
   ]
  },
  {
   "cell_type": "markdown",
   "metadata": {},
   "source": [
    "## Penalized Regression Approaches(PRA)"
   ]
  },
  {
   "cell_type": "markdown",
   "metadata": {},
   "source": [
    "### L1 Penalty with Mean Square Error measure"
   ]
  },
  {
   "cell_type": "markdown",
   "metadata": {},
   "source": [
    "In order to tune lambda values, glmnet packages are used to get best lambda values for Penalized Regression. "
   ]
  },
  {
   "cell_type": "code",
   "execution_count": null,
   "metadata": {},
   "outputs": [],
   "source": [
    "train_mat_spam=data.matrix(train_spam[complete.cases(train_spam),-c(\"X1\"),with=F])\n",
    "\n",
    "result_vec_spam=as.vector(t(train_spam[complete.cases(train_spam),\"X1\"]))\n",
    "\n",
    "cvfit_spam=cv.glmnet(train_mat_spam,result_vec_spam,family=\"binomial\",nfolds = 10,type.measure = \"mse\")\n",
    "\n",
    "test_mat_spam=data.matrix(test_spam[complete.cases(test_spam),-c(\"X1\")])\n",
    "\n",
    "lasso_model_spam_mse_min <- glmnet(train_mat_spam,result_vec_spam,family=\"binomial\", alpha = 1, lambda = cvfit_spam$lambda.min, standardize = FALSE)\n",
    "lasso_model_spam_mse_1se <- glmnet(train_mat_spam,result_vec_spam,family=\"binomial\", alpha = 1, lambda = cvfit_spam$lambda.1se, standardize = FALSE)\n",
    "lasso_model_spam_mse_10th <- glmnet(train_mat_spam,result_vec_spam,family=\"binomial\", alpha = 1, lambda = cvfit_spam$lambda[10], standardize = FALSE)"
   ]
  },
  {
   "cell_type": "code",
   "execution_count": null,
   "metadata": {},
   "outputs": [],
   "source": [
    "# train_mat_spam=data.matrix(train_spam[complete.cases(train_spam),-c(\"X1\"),with=F])\n",
    "\n",
    "# result_vec_spam=as.vector(t(train_spam[complete.cases(train_spam),\"X1\"]))\n",
    "\n",
    "# cvfit_spam=cv.glmnet(train_mat_spam,result_vec_spam,family=\"binomial\",nfolds = 10)\n",
    "\n",
    "# test_mat_spam=data.matrix(test_spam[complete.cases(test_spam),-c(\"X1\")])\n",
    "\n",
    "# lasso_model_spam <- glmnet(train_mat_spam,result_vec_spam, alpha = 1,family=\"binomial\", lambda = cvfit_spam$lambda.min, standardize = FALSE)"
   ]
  },
  {
   "cell_type": "code",
   "execution_count": null,
   "metadata": {},
   "outputs": [],
   "source": [
    "plot(cvfit_spam)"
   ]
  },
  {
   "cell_type": "markdown",
   "metadata": {},
   "source": [
    "### Lambda Values for Mean Square Error Values"
   ]
  },
  {
   "cell_type": "code",
   "execution_count": null,
   "metadata": {},
   "outputs": [],
   "source": [
    "cvfit_spam$lambda.min"
   ]
  },
  {
   "cell_type": "code",
   "execution_count": null,
   "metadata": {},
   "outputs": [],
   "source": [
    "cvfit_spam$lambda.1se"
   ]
  },
  {
   "cell_type": "code",
   "execution_count": null,
   "metadata": {},
   "outputs": [],
   "source": [
    "cvfit_spam$lambda[10]"
   ]
  },
  {
   "cell_type": "markdown",
   "metadata": {},
   "source": [
    "2 possible lambda values are determined by the cv.glmnet(). One of them is used for getting minimum Mean-Squared Error. The other one is determined by looking how many paramater is used in the model. Namely, this lambda value can be beneficial for reducing the possibility of over-fitting model on train dataset. Lastly, one random lambda was selected to compare results for these 3 lambda values."
   ]
  },
  {
   "cell_type": "code",
   "execution_count": null,
   "metadata": {},
   "outputs": [],
   "source": [
    "prediction_pra_mse_spam_min <- predict(lasso_model_spam_mse_min, s = cvfit_spam$lambda.min, newx = test_mat_spam,type=\"class\")\n",
    "prediction_pra_mse_spam_1se <- predict(lasso_model_spam_mse_1se, s = cvfit_spam$lambda.1se, newx = test_mat_spam,type=\"class\")\n",
    "prediction_pra_mse_spam_10th <-predict(lasso_model_spam_mse_10th, s = cvfit_spam$lambda[10], newx = test_mat_spam,type=\"class\")"
   ]
  },
  {
   "cell_type": "markdown",
   "metadata": {},
   "source": [
    "## L1 Penalty with Mean Absolute Error measure"
   ]
  },
  {
   "cell_type": "code",
   "execution_count": null,
   "metadata": {},
   "outputs": [],
   "source": [
    "train_mat_spam=data.matrix(train_spam[complete.cases(train_spam),-c(\"X1\"),with=F])\n",
    "\n",
    "result_vec_spam=as.vector(t(train_spam[complete.cases(train_spam),\"X1\"]))\n",
    "\n",
    "cvfit_spam_mae=cv.glmnet(train_mat_spam,result_vec_spam,family=\"binomial\",nfolds = 10,type.measure = \"mae\")\n",
    "\n",
    "test_mat_spam=data.matrix(test_spam[complete.cases(test_spam),-c(\"X1\")])\n",
    "\n",
    "lasso_model_spam_mae_min <- glmnet(train_mat_spam,result_vec_spam,family=\"binomial\", alpha = 1, lambda = cvfit_spam_mae$lambda.min, standardize = FALSE)\n",
    "lasso_model_spam_mae_1se <- glmnet(train_mat_spam,result_vec_spam, family=\"binomial\",alpha = 1, lambda = cvfit_spam_mae$lambda.1se, standardize = FALSE)\n",
    "lasso_model_spam_mae_10th <- glmnet(train_mat_spam,result_vec_spam,family=\"binomial\", alpha = 1, lambda = cvfit_spam_mae$lambda[10], standardize = FALSE)"
   ]
  },
  {
   "cell_type": "code",
   "execution_count": null,
   "metadata": {},
   "outputs": [],
   "source": [
    "plot(cvfit_spam_mae)"
   ]
  },
  {
   "cell_type": "markdown",
   "metadata": {},
   "source": [
    "### Lambda Values for Mean Absolute Error Values"
   ]
  },
  {
   "cell_type": "code",
   "execution_count": null,
   "metadata": {},
   "outputs": [],
   "source": [
    "cvfit_spam_mae$lambda.min"
   ]
  },
  {
   "cell_type": "code",
   "execution_count": null,
   "metadata": {},
   "outputs": [],
   "source": [
    "cvfit_spam_mae$lambda.1se"
   ]
  },
  {
   "cell_type": "code",
   "execution_count": null,
   "metadata": {},
   "outputs": [],
   "source": [
    "cvfit_spam_mae$lambda[10]"
   ]
  },
  {
   "cell_type": "markdown",
   "metadata": {},
   "source": [
    "2 possible lambda values are determined by the cv.glmnet(). One of them is used for getting minimum Mean-Squared Error. The other one is determined by looking how many paramater is used in the model. Namely, this lambda value can be beneficial for reducing the possibility of over-fitting model on train dataset. Lastly, one random lambda was selected to compare results for these 3 lambda values."
   ]
  },
  {
   "cell_type": "code",
   "execution_count": null,
   "metadata": {},
   "outputs": [],
   "source": [
    "prediction_pra_mae_spam_min <- predict(lasso_model_spam_mae_min, s = cvfit_spam$lambda.min, newx = test_mat_spam,type=\"class\")\n",
    "prediction_pra_mae_spam_1se <- predict(lasso_model_spam_mae_1se, s = cvfit_spam$lambda.1se, newx = test_mat_spam,type=\"class\")\n",
    "prediction_pra_mae_spam_10th <- predict(lasso_model_spam_mae_10th, s = cvfit_spam$lambda[10], newx = test_mat_spam,type=\"response\")"
   ]
  },
  {
   "cell_type": "markdown",
   "metadata": {},
   "source": [
    "### Performance Measure for Lasso Regression"
   ]
  },
  {
   "cell_type": "code",
   "execution_count": null,
   "metadata": {},
   "outputs": [],
   "source": [
    "perf_dt(\"Spam Data Set for Lasso Function with min lambda and mse objective\", as.numeric(test_spam$X1), as.numeric(prediction_pra_mse_spam_min))\n",
    "perf_dt(\"Spam Data Set for Lasso Function with 1se lambda and mse objective\", as.numeric(test_spam$X1), as.numeric(prediction_pra_mse_spam_1se))\n",
    "perf_dt(\"Spam Data Set for Lasso Function with 10th lambda and mse objective\", as.numeric(test_spam$X1), as.numeric(prediction_pra_mse_spam_10th))\n",
    "\n",
    "perf_dt(\"Spam Data Set for Lasso Function with min lambda and mae objective\", as.numeric(test_spam$X1), as.numeric(prediction_pra_mae_spam_min))\n",
    "perf_dt(\"Spam Data Set for Lasso Function with 1se lambda and mae objective\", as.numeric(test_spam$X1), as.numeric(prediction_pra_mae_spam_1se))\n",
    "perf_dt(\"Spam Data Set for Lasso Function with 10th lambda and mae objective\", as.numeric(test_spam$X1), as.numeric(prediction_pra_mae_spam_10th))"
   ]
  },
  {
   "cell_type": "code",
   "execution_count": null,
   "metadata": {},
   "outputs": [],
   "source": [
    "confusionMatrix(data = as.factor(prediction_pra_mae_spam_min), reference = as.factor(test_spam$X1), mode = \"prec_recall\")"
   ]
  },
  {
   "cell_type": "markdown",
   "metadata": {},
   "source": [
    "## Decision Tree(DT)"
   ]
  },
  {
   "cell_type": "code",
   "execution_count": null,
   "metadata": {},
   "outputs": [],
   "source": [
    "set.seed(35)"
   ]
  },
  {
   "cell_type": "code",
   "execution_count": null,
   "metadata": {
    "scrolled": false
   },
   "outputs": [],
   "source": [
    "numFolds=trainControl(method=\"cv\",number = 10)\n",
    "cpGrid=expand.grid(.cp=(0:10)*0.02)\n",
    "#minbucket_grid=expand.grid(.cp=(5:10))\n",
    "for(i in 5:10){\n",
    "    tr=train(X1~.,\n",
    "          data=train_spam, \n",
    "          method=\"rpart\",\n",
    "          trControl=numFolds,\n",
    "          tuneGrid= cpGrid,\n",
    "            # minbucket=minbucket_grid\n",
    "           control= rpart.control(minsplit = i)\n",
    "            )\n",
    "    trellis.par.set(caretTheme())\n",
    "    print(plot(tr))    \n",
    "    print(tr)\n",
    "}"
   ]
  },
  {
   "cell_type": "code",
   "execution_count": null,
   "metadata": {},
   "outputs": [],
   "source": [
    "numFolds=trainControl(method=\"cv\",number = 10)\n",
    "cpGrid=expand.grid(.cp=(0:10)*0.01)\n",
    "tr=train(X1~.,\n",
    "      data=train_spam, \n",
    "      method=\"rpart\",\n",
    "      trControl=numFolds,\n",
    "      tuneGrid= cpGrid,\n",
    "        # minbucket=minbucket_grid\n",
    "       control= rpart.control(minsplit = 10)\n",
    "        )\n",
    "trellis.par.set(caretTheme())\n",
    "print(plot(tr))    \n",
    "print(tr)"
   ]
  },
  {
   "cell_type": "code",
   "execution_count": null,
   "metadata": {
    "scrolled": false
   },
   "outputs": [],
   "source": [
    "reg_tree_spam=tr$finalModel\n",
    "fancyRpartPlot(reg_tree_spam)\n",
    "reg_tree_spam$variable.importance"
   ]
  },
  {
   "cell_type": "code",
   "execution_count": null,
   "metadata": {},
   "outputs": [],
   "source": [
    "predicted_pisa=predict(reg_tree_spam,newdata=test_spam,type=\"class\")"
   ]
  },
  {
   "cell_type": "code",
   "execution_count": null,
   "metadata": {},
   "outputs": [],
   "source": [
    "table(test_spam$X1,predicted_pisa)"
   ]
  },
  {
   "cell_type": "markdown",
   "metadata": {},
   "source": [
    "### Performanca Measure"
   ]
  },
  {
   "cell_type": "code",
   "execution_count": null,
   "metadata": {},
   "outputs": [],
   "source": [
    "confusionMatrix(data = as.factor(predicted_pisa), reference = as.factor(test_spam$X1), mode = \"prec_recall\")"
   ]
  },
  {
   "cell_type": "code",
   "execution_count": null,
   "metadata": {},
   "outputs": [],
   "source": [
    "perf_dt(\"Decision Tree-Daily\",as.numeric(test_spam$X1),as.numeric(predicted_pisa))"
   ]
  },
  {
   "cell_type": "markdown",
   "metadata": {},
   "source": [
    "## Random Forest(RF)"
   ]
  },
  {
   "cell_type": "code",
   "execution_count": null,
   "metadata": {},
   "outputs": [],
   "source": [
    "library(ranger)"
   ]
  },
  {
   "cell_type": "code",
   "execution_count": null,
   "metadata": {},
   "outputs": [],
   "source": [
    "fitControl=trainControl(method = \"repeatedcv\",\n",
    "                           number = 10) "
   ]
  },
  {
   "cell_type": "code",
   "execution_count": null,
   "metadata": {},
   "outputs": [],
   "source": [
    "rf_grid=expand.grid(mtry=c(4,8,10,15),\n",
    "                   splitrule = c(\"extratrees\"),\n",
    "                   min.node.size= c(5))\n",
    "rf_grid  "
   ]
  },
  {
   "cell_type": "code",
   "execution_count": null,
   "metadata": {},
   "outputs": [],
   "source": [
    "rf_fit=train(X1 ~ ., data = train_spam, \n",
    "                 method = \"ranger\", \n",
    "                 trControl = fitControl, num.trees=500,\n",
    "                 tuneGrid = rf_grid) "
   ]
  },
  {
   "cell_type": "code",
   "execution_count": null,
   "metadata": {},
   "outputs": [],
   "source": [
    "rf_fit\n",
    "plot(rf_fit)"
   ]
  },
  {
   "cell_type": "code",
   "execution_count": null,
   "metadata": {},
   "outputs": [],
   "source": [
    "PredictRandomForest_spam=predict(rf_fit,newdata=test_spam)"
   ]
  },
  {
   "cell_type": "markdown",
   "metadata": {},
   "source": [
    "### Performanca Measure"
   ]
  },
  {
   "cell_type": "code",
   "execution_count": null,
   "metadata": {},
   "outputs": [],
   "source": [
    "confusionMatrix(data = as.factor(PredictRandomForest_spam), reference = as.factor(test_spam$X1), mode = \"prec_recall\")"
   ]
  },
  {
   "cell_type": "markdown",
   "metadata": {},
   "source": [
    "### Performanca Measure"
   ]
  },
  {
   "cell_type": "code",
   "execution_count": null,
   "metadata": {
    "scrolled": true
   },
   "outputs": [],
   "source": [
    "perf_dt(\"Random Forest-daily\",as.numeric(test_spam$X1),as.numeric(PredictRandomForest_spam))"
   ]
  },
  {
   "cell_type": "markdown",
   "metadata": {},
   "source": [
    "## Stochastic Gradient Boosting(SGB)"
   ]
  },
  {
   "cell_type": "code",
   "execution_count": null,
   "metadata": {},
   "outputs": [],
   "source": [
    "set.seed(35)"
   ]
  },
  {
   "cell_type": "code",
   "execution_count": null,
   "metadata": {},
   "outputs": [],
   "source": [
    "gbmGrid=expand.grid(interaction.depth = c(1, 3, 5), \n",
    "                        n.trees = (1:5)*50, \n",
    "                        shrinkage = c(0.1, 0.3, 0.5),\n",
    "                        n.minobsinnode = 20)\n",
    "                                                                \n",
    "\n",
    "gbm_fit=train(X1 ~ ., data = train_spam, \n",
    "                 method = \"gbm\", \n",
    "                 trControl = fitControl,  \n",
    "                 tuneGrid = gbmGrid,\n",
    "                 verbose=F) #verbose is an argument from gbm, prints to screen\n",
    "\n",
    "plot(gbm_fit)"
   ]
  },
  {
   "cell_type": "code",
   "execution_count": null,
   "metadata": {},
   "outputs": [],
   "source": [
    "predicted_spam_sgb=predict(gbm_fit,test_spam)"
   ]
  },
  {
   "cell_type": "markdown",
   "metadata": {},
   "source": [
    "### Performanca Measure"
   ]
  },
  {
   "cell_type": "code",
   "execution_count": null,
   "metadata": {},
   "outputs": [],
   "source": [
    "confusionMatrix(data = as.factor(predicted_spam_sgb), reference = as.factor(test_spam$X1), mode = \"prec_recall\")"
   ]
  },
  {
   "cell_type": "code",
   "execution_count": null,
   "metadata": {
    "scrolled": false
   },
   "outputs": [],
   "source": [
    "perf_dt(\"First Data Set for Stochastic Gradient Boosting\", as.numeric(predicted_spam_sgb), as.numeric(test_spam$X1))"
   ]
  },
  {
   "cell_type": "markdown",
   "metadata": {},
   "source": [
    "# General Result for 4 Method for Pisa Reading Results"
   ]
  },
  {
   "cell_type": "code",
   "execution_count": null,
   "metadata": {},
   "outputs": [],
   "source": [
    "perf_dt(\"Pisa Data Set for Lasso Function with min lambda and mse objective\", as.numeric(test_spam$X1), as.numeric(prediction_pra_mae_spam_min))\n",
    "perf_dt(\"Decision Tree with CV for Pisa Dataset\",as.numeric(test_spam$X1),as.numeric(predicted_pisa))\n",
    "perf_dt(\"First Data Set for Random Forest\", as.numeric(test_spam$X1), as.numeric(PredictRandomForest_spam))\n",
    "perf_dt(\"First Data Set for Stochastic Gradient Boosting\", as.numeric(test_spam$X1), as.numeric(predicted_spam_sgb))"
   ]
  },
  {
   "cell_type": "markdown",
   "metadata": {},
   "source": [
    "## Performance"
   ]
  },
  {
   "cell_type": "code",
   "execution_count": null,
   "metadata": {
    "scrolled": false
   },
   "outputs": [],
   "source": [
    "results = resamples(list(\"Random Forest\"=rf_fit,#\"Linear Regression with Penalty\"=lasso_model_spam_mae_min,\n",
    "                         \"Stochastic Gradient Boosting\"=gbm_fit),metrics='Accuracy')\n",
    "summary(results)\n",
    "bwplot(results)\n",
    "densityplot(results)"
   ]
  },
  {
   "cell_type": "code",
   "execution_count": 100,
   "metadata": {},
   "outputs": [
    {
     "data": {
      "text/plain": [
       "Confusion Matrix and Statistics\n",
       "\n",
       "          Reference\n",
       "Prediction   0   1\n",
       "         0 538  32\n",
       "         1  20 131\n",
       "                                          \n",
       "               Accuracy : 0.9279          \n",
       "                 95% CI : (0.9065, 0.9457)\n",
       "    No Information Rate : 0.7739          \n",
       "    P-Value [Acc > NIR] : <2e-16          \n",
       "                                          \n",
       "                  Kappa : 0.7884          \n",
       "                                          \n",
       " Mcnemar's Test P-Value : 0.1272          \n",
       "                                          \n",
       "              Precision : 0.9439          \n",
       "                 Recall : 0.9642          \n",
       "                     F1 : 0.9539          \n",
       "             Prevalence : 0.7739          \n",
       "         Detection Rate : 0.7462          \n",
       "   Detection Prevalence : 0.7906          \n",
       "      Balanced Accuracy : 0.8839          \n",
       "                                          \n",
       "       'Positive' Class : 0               \n",
       "                                          "
      ]
     },
     "metadata": {},
     "output_type": "display_data"
    }
   ],
   "source": [
    "confusionMatrix(data = as.factor(prediction_pra_mae_spam_min), reference = as.factor(test_spam$X1), mode = \"prec_recall\")"
   ]
  },
  {
   "cell_type": "code",
   "execution_count": 101,
   "metadata": {},
   "outputs": [
    {
     "data": {
      "text/plain": [
       "Confusion Matrix and Statistics\n",
       "\n",
       "          Reference\n",
       "Prediction   0   1\n",
       "         0 533  30\n",
       "         1  25 133\n",
       "                                         \n",
       "               Accuracy : 0.9237         \n",
       "                 95% CI : (0.9019, 0.942)\n",
       "    No Information Rate : 0.7739         \n",
       "    P-Value [Acc > NIR] : <2e-16         \n",
       "                                         \n",
       "                  Kappa : 0.7796         \n",
       "                                         \n",
       " Mcnemar's Test P-Value : 0.5896         \n",
       "                                         \n",
       "              Precision : 0.9467         \n",
       "                 Recall : 0.9552         \n",
       "                     F1 : 0.9509         \n",
       "             Prevalence : 0.7739         \n",
       "         Detection Rate : 0.7393         \n",
       "   Detection Prevalence : 0.7809         \n",
       "      Balanced Accuracy : 0.8856         \n",
       "                                         \n",
       "       'Positive' Class : 0              \n",
       "                                         "
      ]
     },
     "metadata": {},
     "output_type": "display_data"
    }
   ],
   "source": [
    "confusionMatrix(data = as.factor(predicted_pisa), reference = as.factor(test_spam$X1), mode = \"prec_recall\")"
   ]
  },
  {
   "cell_type": "code",
   "execution_count": 102,
   "metadata": {},
   "outputs": [
    {
     "data": {
      "text/plain": [
       "Confusion Matrix and Statistics\n",
       "\n",
       "          Reference\n",
       "Prediction   0   1\n",
       "         0 548  15\n",
       "         1  10 148\n",
       "                                          \n",
       "               Accuracy : 0.9653          \n",
       "                 95% CI : (0.9492, 0.9774)\n",
       "    No Information Rate : 0.7739          \n",
       "    P-Value [Acc > NIR] : <2e-16          \n",
       "                                          \n",
       "                  Kappa : 0.8998          \n",
       "                                          \n",
       " Mcnemar's Test P-Value : 0.4237          \n",
       "                                          \n",
       "              Precision : 0.9734          \n",
       "                 Recall : 0.9821          \n",
       "                     F1 : 0.9777          \n",
       "             Prevalence : 0.7739          \n",
       "         Detection Rate : 0.7601          \n",
       "   Detection Prevalence : 0.7809          \n",
       "      Balanced Accuracy : 0.9450          \n",
       "                                          \n",
       "       'Positive' Class : 0               \n",
       "                                          "
      ]
     },
     "metadata": {},
     "output_type": "display_data"
    }
   ],
   "source": [
    "confusionMatrix(data = as.factor(PredictRandomForest_spam), reference = as.factor(test_spam$X1), mode = \"prec_recall\")"
   ]
  },
  {
   "cell_type": "code",
   "execution_count": 103,
   "metadata": {},
   "outputs": [
    {
     "data": {
      "text/plain": [
       "Confusion Matrix and Statistics\n",
       "\n",
       "          Reference\n",
       "Prediction   0   1\n",
       "         0 545  16\n",
       "         1  13 147\n",
       "                                          \n",
       "               Accuracy : 0.9598          \n",
       "                 95% CI : (0.9427, 0.9729)\n",
       "    No Information Rate : 0.7739          \n",
       "    P-Value [Acc > NIR] : <2e-16          \n",
       "                                          \n",
       "                  Kappa : 0.8843          \n",
       "                                          \n",
       " Mcnemar's Test P-Value : 0.7103          \n",
       "                                          \n",
       "              Precision : 0.9715          \n",
       "                 Recall : 0.9767          \n",
       "                     F1 : 0.9741          \n",
       "             Prevalence : 0.7739          \n",
       "         Detection Rate : 0.7559          \n",
       "   Detection Prevalence : 0.7781          \n",
       "      Balanced Accuracy : 0.9393          \n",
       "                                          \n",
       "       'Positive' Class : 0               \n",
       "                                          "
      ]
     },
     "metadata": {},
     "output_type": "display_data"
    }
   ],
   "source": [
    "confusionMatrix(data = as.factor(predicted_spam_sgb), reference = as.factor(test_spam$X1), mode = \"prec_recall\")"
   ]
  },
  {
   "cell_type": "code",
   "execution_count": null,
   "metadata": {},
   "outputs": [],
   "source": []
  }
 ],
 "metadata": {
  "kernelspec": {
   "display_name": "R",
   "language": "R",
   "name": "ir"
  },
  "language_info": {
   "codemirror_mode": "r",
   "file_extension": ".r",
   "mimetype": "text/x-r-source",
   "name": "R",
   "pygments_lexer": "r",
   "version": "3.6.1"
  }
 },
 "nbformat": 4,
 "nbformat_minor": 4
}
