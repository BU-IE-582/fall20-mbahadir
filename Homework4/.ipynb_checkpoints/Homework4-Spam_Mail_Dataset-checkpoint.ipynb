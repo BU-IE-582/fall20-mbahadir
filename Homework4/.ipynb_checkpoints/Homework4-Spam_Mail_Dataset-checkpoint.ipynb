{
 "cells": [
  {
   "cell_type": "code",
   "execution_count": 5,
   "metadata": {},
   "outputs": [],
   "source": [
    "library(data.table)\n",
    "library(glmnet)\n",
    "library(ggplot2)\n",
    "library(lubridate, quietly=TRUE)\n",
    "library(zoo, quietly = TRUE)\n",
    "library(dplyr, quietly = TRUE)\n",
    "library(GGally, quietly=TRUE)\n",
    "library(caTools)\n",
    "library(rpart)\n",
    "library(rattle)\n",
    "library(caret)\n",
    "library(e1071)\n",
    "library(randomForest)\n",
    "library(gbm)"
   ]
  },
  {
   "cell_type": "markdown",
   "metadata": {},
   "source": [
    "### Performance Function"
   ]
  },
  {
   "cell_type": "code",
   "execution_count": 3,
   "metadata": {},
   "outputs": [],
   "source": [
    "perf_dt=function(type,actual,forecast){\n",
    "    name=type\n",
    "    n=length(actual)\n",
    "    error=actual-forecast\n",
    "    mean=mean(actual)\n",
    "    sd=sd(actual)\n",
    "    FBias=sum(error)/sum(actual)\n",
    "    MPE=sum(error/actual)/n\n",
    "    MAPE=sum(abs(error/actual))/n\n",
    "    RMSE=sqrt(sum(error^2))/n\n",
    "    MAD=sum(abs(error))/n\n",
    "    WMAPE=MAD/mean\n",
    "    l=data.frame(name,n,mean,sd,FBias,MAPE,RMSE,MAD,WMAPE)\n",
    "    return(l)\n",
    "}"
   ]
  },
  {
   "cell_type": "markdown",
   "metadata": {},
   "source": [
    "# Spam Mail Dataset"
   ]
  },
  {
   "cell_type": "markdown",
   "metadata": {},
   "source": [
    "The \"spam\" concept is diverse: advertisements for products/web sites, make money fast schemes, chain letters, pornography...\n",
    "\n",
    "Our collection of spam e-mails came from our postmaster and individuals who had filed spam. Our collection of non-spam e-mails came from filed work and personal e-mails, and hence the word 'george' and the area code '650' are indicators of non-spam. These are useful when constructing a personalized spam filter. One would either have to blind such non-spam indicators or get a very wide collection of non-spam to generate a general purpose spam filter.\n",
    "\n",
    "For background on spam:\n",
    "\n",
    "Cranor, Lorrie F., LaMacchia, Brian A. Spam!\n",
    "Communications of the ACM, 41(8):74-83, 1998.\n",
    "\n",
    "(a) Hewlett-Packard Internal-only Technical Report. External forthcoming.\n",
    "(b) Determine whether a given email is spam or not.\n",
    "(c) ~7% misclassification error. False positives (marking good mail as spam) are very undesirable.If we insist on zero false positives in the training/testing set, 20-25% of the spam passed through the filter.\n",
    "\n",
    "\n",
    "Attribute Information:\n",
    "\n",
    "The last column of 'spambase.data' denotes whether the e-mail was considered spam (1) or not (0), i.e. unsolicited commercial e-mail. Most of the attributes indicate whether a particular word or character was frequently occuring in the e-mail. The run-length attributes (55-57) measure the length of sequences of consecutive capital letters. For the statistical measures of each attribute, see the end of this file. Here are the definitions of the attributes:\n",
    "\n",
    "48 continuous real [0,100] attributes of type word_freq_WORD\n",
    "= percentage of words in the e-mail that match WORD, i.e. 100 * (number of times the WORD appears in the e-mail) / total number of words in e-mail. A \"word\" in this case is any string of alphanumeric characters bounded by non-alphanumeric characters or end-of-string.\n",
    "\n",
    "6 continuous real [0,100] attributes of type char_freq_CHAR]\n",
    "= percentage of characters in the e-mail that match CHAR, i.e. 100 * (number of CHAR occurences) / total characters in e-mail\n",
    "\n",
    "1 continuous real [1,...] attribute of type capital_run_length_average\n",
    "= average length of uninterrupted sequences of capital letters\n",
    "\n",
    "1 continuous integer [1,...] attribute of type capital_run_length_longest\n",
    "= length of longest uninterrupted sequence of capital letters\n",
    "\n",
    "1 continuous integer [1,...] attribute of type capital_run_length_total\n",
    "= sum of length of uninterrupted sequences of capital letters\n",
    "= total number of capital letters in the e-mail\n",
    "\n",
    "1 nominal {0,1} class attribute of type spam\n",
    "= denotes whether the e-mail was considered spam (1) or not (0), i.e. unsolicited commercial e-mail.\n",
    "\n"
   ]
  },
  {
   "cell_type": "markdown",
   "metadata": {},
   "source": [
    "### Loading Dataset"
   ]
  },
  {
   "cell_type": "code",
   "execution_count": 6,
   "metadata": {},
   "outputs": [],
   "source": [
    "spam=read.csv(\"spambase.data\")\n",
    "spam=as.data.table(spam[1000:nrow(spam),])\n",
    "spam=na.omit(spam)\n",
    "spam$X1=as.factor(spam$X1)"
   ]
  },
  {
   "cell_type": "code",
   "execution_count": 7,
   "metadata": {
    "scrolled": false
   },
   "outputs": [
    {
     "name": "stdout",
     "output_type": "stream",
     "text": [
      "Classes 'data.table' and 'data.frame':\t3601 obs. of  58 variables:\n",
      " $ X0     : num  0.45 0.45 0.82 0.09 0 0 0 0.47 0 1.47 ...\n",
      " $ X0.64  : num  0.9 0.91 0 0.49 0 0 0 0 0.72 0 ...\n",
      " $ X0.64.1: num  0.9 0.91 0.82 0.59 1.31 1.31 0.6 0.94 1.81 0 ...\n",
      " $ X0.1   : num  0 0 0 0 0 0 0 0 0 0 ...\n",
      " $ X0.32  : num  0.45 0.45 0.41 0.39 0 0 0 0.94 0 0 ...\n",
      " $ X0.2   : num  0 0 0 0.19 0 0 0.6 0 0.36 0 ...\n",
      " $ X0.3   : num  0 0 0.41 0 0 0 0 0.94 0 0 ...\n",
      " $ X0.4   : num  0.45 0.45 0.82 0 0 0 0 0 0.36 0 ...\n",
      " $ X0.5   : num  0 0 0.41 0.09 0 0 0.6 0 0.72 0 ...\n",
      " $ X0.6   : num  1.8 1.83 1.23 0.39 0 0 0 0 1.08 1.47 ...\n",
      " $ X0.7   : num  0 0 1.65 0 0 0 0 0 0.36 0 ...\n",
      " $ X0.64.2: num  2.26 2.29 0.41 1.57 1.31 1.31 1.8 0.47 0.72 0 ...\n",
      " $ X0.8   : num  0 0 0 0.19 0 0 0 0 0 1.47 ...\n",
      " $ X0.9   : num  0.45 0.91 0 0 0 0 0 0 0.36 0 ...\n",
      " $ X0.10  : num  0 0 0 0 0 0 0 0 0 0 ...\n",
      " $ X0.32.1: num  0.45 0.45 2.47 0 0 0 0.3 0 0.36 7.35 ...\n",
      " $ X0.11  : num  0 0 1.65 0.09 0 0 0 0.47 0.36 0 ...\n",
      " $ X1.29  : num  0 0 0 0 0 0 0 0 0.36 0 ...\n",
      " $ X1.93  : num  1.8 1.83 1.23 3.75 1.31 1.31 2.7 4.24 1.08 2.94 ...\n",
      " $ X0.12  : num  0 0 1.23 0.09 0 0 0 0 0 0 ...\n",
      " $ X0.96  : num  4.97 5.04 2.06 1.08 5.26 5.26 1.2 0.94 2.53 1.47 ...\n",
      " $ X0.13  : num  0 0 0 0 0 0 0 0 0 0 ...\n",
      " $ X0.14  : num  0 0 0 0 0 0 0 1.41 0 0 ...\n",
      " $ X0.15  : num  0 0 0.82 0.09 1.31 1.31 0.6 0 0 4.41 ...\n",
      " $ X0.16  : num  0 0 0 0 0 0 0 0 0 0 ...\n",
      " $ X0.17  : num  0 0 0 0 0 0 0 0 0 0 ...\n",
      " $ X0.18  : num  0 0 0 0 0 0 0 0 0 0 ...\n",
      " $ X0.19  : num  0 0 0 0 0 0 0 0 0 0 ...\n",
      " $ X0.20  : num  0 0 0 0 0 0 0 0 0 0 ...\n",
      " $ X0.21  : num  0 0 0 0 0 0 0 0 0 0 ...\n",
      " $ X0.22  : num  0 0 0 0 0 0 0 0 0 0 ...\n",
      " $ X0.23  : num  0 0 0 0 0 0 0 0 0 0 ...\n",
      " $ X0.24  : num  0 0 0 0 0 0 0 0 0 0 ...\n",
      " $ X0.25  : num  0 0 0 0 0 0 0 0 0 0 ...\n",
      " $ X0.26  : num  0 0 0 0 0 0 0 0.47 0 0 ...\n",
      " $ X0.27  : num  0 0 0 0 0 0 0 0 0 0 ...\n",
      " $ X0.28  : num  0 0 0 0 0 0 0 0 1.08 0 ...\n",
      " $ X0.29  : num  0 0 0 0 0 0 0 0 0 0 ...\n",
      " $ X0.30  : num  0 0 0 0 0 0 0 0 0 0 ...\n",
      " $ X0.31  : num  0 0 0 0 0 0 0 0 0 0 ...\n",
      " $ X0.33  : num  0 0 0 0 0 0 0 0 0 0 ...\n",
      " $ X0.34  : num  0 0 0 0 0 0 0 0 0 0 ...\n",
      " $ X0.35  : num  0 0 0 0 0 0 0 0 0 0 ...\n",
      " $ X0.36  : num  0 0 0 0 0 0 0 0 0 0 ...\n",
      " $ X0.37  : num  0 0 0 0 0 0 0 0.47 0.36 0 ...\n",
      " $ X0.38  : num  0 0 0 0 0 0 0 0 0 0 ...\n",
      " $ X0.39  : num  0 0 0 0 0 0 0 0 0 0 ...\n",
      " $ X0.40  : num  0 0 0 0 0 0 0 0 0 0 ...\n",
      " $ X0.41  : num  0 0 0 0.768 0 0 0 0 0 0 ...\n",
      " $ X0.42  : num  0.244 0.245 0 0.037 0 0 0.094 0.073 0.334 0 ...\n",
      " $ X0.43  : num  0 0 0 0 0 0 0.047 0 0 0 ...\n",
      " $ X0.778 : num  1.63 1.63 0.53 5.85 0 ...\n",
      " $ X0.44  : num  0.244 0.245 0.132 1.313 0.212 ...\n",
      " $ X0.45  : num  0.081 0.081 0.132 0 0 0 0 0 0.066 0 ...\n",
      " $ X3.756 : num  64.42 64.42 6.4 5.96 4.82 ...\n",
      " $ X61    : int  708 708 76 54 25 25 31 91 393 63 ...\n",
      " $ X278   : int  773 773 301 757 53 53 201 219 736 107 ...\n",
      " $ X1     : Factor w/ 2 levels \"0\",\"1\": 2 2 2 2 2 2 2 2 2 2 ...\n",
      " - attr(*, \".internal.selfref\")=<externalptr> \n"
     ]
    }
   ],
   "source": [
    "str(spam)"
   ]
  },
  {
   "cell_type": "code",
   "execution_count": 8,
   "metadata": {},
   "outputs": [
    {
     "data": {
      "text/plain": [
       "\n",
       "   0    1 \n",
       "2788  813 "
      ]
     },
     "metadata": {},
     "output_type": "display_data"
    }
   ],
   "source": [
    "table(spam$X1)"
   ]
  },
  {
   "cell_type": "markdown",
   "metadata": {},
   "source": [
    "Imbalance problem exist in the dataset."
   ]
  },
  {
   "cell_type": "code",
   "execution_count": 6,
   "metadata": {},
   "outputs": [],
   "source": [
    "set.seed(35)\n",
    "spl=sample.split(spam$X1, SplitRatio = 0.8)\n",
    "train_spam=subset(spam,spl==TRUE)\n",
    "test_spam=subset(spam,spl==FALSE)"
   ]
  },
  {
   "cell_type": "markdown",
   "metadata": {},
   "source": [
    "## Penalized Regression Approaches(PRA)"
   ]
  },
  {
   "cell_type": "markdown",
   "metadata": {},
   "source": [
    "### L1 Penalty with Mean Square Error measure"
   ]
  },
  {
   "cell_type": "markdown",
   "metadata": {},
   "source": [
    "In order to tune lambda values, glmnet packages are used to get best lambda values for Penalized Regression. "
   ]
  },
  {
   "cell_type": "code",
   "execution_count": 7,
   "metadata": {},
   "outputs": [],
   "source": [
    "train_mat_spam=data.matrix(train_spam[complete.cases(train_spam),-c(\"X1\"),with=F])\n",
    "\n",
    "result_vec_spam=as.vector(t(train_spam[complete.cases(train_spam),\"X1\"]))\n",
    "\n",
    "cvfit_spam=cv.glmnet(train_mat_spam,result_vec_spam,family=\"binomial\",nfolds = 10,type.measure = \"mse\")\n",
    "\n",
    "test_mat_spam=data.matrix(test_spam[complete.cases(test_spam),-c(\"X1\")])\n",
    "\n",
    "lasso_model_spam_mse_min <- glmnet(train_mat_spam,result_vec_spam,family=\"binomial\", alpha = 1, lambda = cvfit_spam$lambda.min, standardize = FALSE)\n",
    "lasso_model_spam_mse_1se <- glmnet(train_mat_spam,result_vec_spam,family=\"binomial\", alpha = 1, lambda = cvfit_spam$lambda.1se, standardize = FALSE)\n",
    "lasso_model_spam_mse_10th <- glmnet(train_mat_spam,result_vec_spam,family=\"binomial\", alpha = 1, lambda = cvfit_spam$lambda[10], standardize = FALSE)"
   ]
  },
  {
   "cell_type": "code",
   "execution_count": 8,
   "metadata": {},
   "outputs": [
    {
     "data": {
      "image/png": "[encoded data removed]",
      "text/plain": [
       "plot without title"
      ]
     },
     "metadata": {},
     "output_type": "display_data"
    }
   ],
   "source": [
    "plot(cvfit_spam)"
   ]
  },
  {
   "cell_type": "markdown",
   "metadata": {},
   "source": [
    "### Lambda Values for Mean Square Error Values"
   ]
  },
  {
   "cell_type": "code",
   "execution_count": 9,
   "metadata": {},
   "outputs": [
    {
     "data": {
      "text/html": [
       "1.79272561636051e-05"
      ],
      "text/latex": [
       "1.79272561636051e-05"
      ],
      "text/markdown": [
       "1.79272561636051e-05"
      ],
      "text/plain": [
       "[1] 1.792726e-05"
      ]
     },
     "metadata": {},
     "output_type": "display_data"
    }
   ],
   "source": [
    "cvfit_spam$lambda.min"
   ]
  },
  {
   "cell_type": "code",
   "execution_count": 10,
   "metadata": {},
   "outputs": [
    {
     "data": {
      "text/html": [
       "0.000674949684198235"
      ],
      "text/latex": [
       "0.000674949684198235"
      ],
      "text/markdown": [
       "0.000674949684198235"
      ],
      "text/plain": [
       "[1] 0.0006749497"
      ]
     },
     "metadata": {},
     "output_type": "display_data"
    }
   ],
   "source": [
    "cvfit_spam$lambda.1se"
   ]
  },
  {
   "cell_type": "code",
   "execution_count": 11,
   "metadata": {},
   "outputs": [
    {
     "data": {
      "text/html": [
       "0.064427217664051"
      ],
      "text/latex": [
       "0.064427217664051"
      ],
      "text/markdown": [
       "0.064427217664051"
      ],
      "text/plain": [
       "[1] 0.06442722"
      ]
     },
     "metadata": {},
     "output_type": "display_data"
    }
   ],
   "source": [
    "cvfit_spam$lambda[10]"
   ]
  },
  {
   "cell_type": "markdown",
   "metadata": {},
   "source": [
    "3 possible lambda values are determined by the cv.glmnet(). One of them is used for getting minimum Mean-Squared Error. The other one is determined by looking how many paramater is used in the model. Namely, this lambda value can be beneficial for reducing the possibility of over-fitting model on train dataset. Lastly, one random lambda was selected to compare results for these 3 lambda values."
   ]
  },
  {
   "cell_type": "code",
   "execution_count": 12,
   "metadata": {},
   "outputs": [],
   "source": [
    "prediction_pra_mse_spam_min <- predict(lasso_model_spam_mse_min, s = cvfit_spam$lambda.min, newx = test_mat_spam,type=\"class\")\n",
    "prediction_pra_mse_spam_1se <- predict(lasso_model_spam_mse_1se, s = cvfit_spam$lambda.1se, newx = test_mat_spam,type=\"class\")\n",
    "prediction_pra_mse_spam_10th <-predict(lasso_model_spam_mse_10th, s = cvfit_spam$lambda[10], newx = test_mat_spam,type=\"class\")"
   ]
  },
  {
   "cell_type": "markdown",
   "metadata": {},
   "source": [
    "## L1 Penalty with Mean Absolute Error measure"
   ]
  },
  {
   "cell_type": "code",
   "execution_count": 13,
   "metadata": {},
   "outputs": [],
   "source": [
    "train_mat_spam=data.matrix(train_spam[complete.cases(train_spam),-c(\"X1\"),with=F])\n",
    "\n",
    "result_vec_spam=as.vector(t(train_spam[complete.cases(train_spam),\"X1\"]))\n",
    "\n",
    "cvfit_spam_mae=cv.glmnet(train_mat_spam,result_vec_spam,family=\"binomial\",nfolds = 10,type.measure = \"mae\")\n",
    "\n",
    "test_mat_spam=data.matrix(test_spam[complete.cases(test_spam),-c(\"X1\")])\n",
    "\n",
    "lasso_model_spam_mae_min <- glmnet(train_mat_spam,result_vec_spam,family=\"binomial\", alpha = 1, lambda = cvfit_spam_mae$lambda.min, standardize = FALSE)\n",
    "lasso_model_spam_mae_1se <- glmnet(train_mat_spam,result_vec_spam, family=\"binomial\",alpha = 1, lambda = cvfit_spam_mae$lambda.1se, standardize = FALSE)\n",
    "lasso_model_spam_mae_10th <- glmnet(train_mat_spam,result_vec_spam,family=\"binomial\", alpha = 1, lambda = cvfit_spam_mae$lambda[10], standardize = FALSE)"
   ]
  },
  {
   "cell_type": "code",
   "execution_count": 14,
   "metadata": {},
   "outputs": [
    {
     "data": {
      "image/png": "[encoded data removed]",
      "text/plain": [
       "plot without title"
      ]
     },
     "metadata": {},
     "output_type": "display_data"
    }
   ],
   "source": [
    "plot(cvfit_spam_mae)"
   ]
  },
  {
   "cell_type": "markdown",
   "metadata": {},
   "source": [
    "### Lambda Values for Mean Absolute Error Values"
   ]
  },
  {
   "cell_type": "code",
   "execution_count": 15,
   "metadata": {},
   "outputs": [
    {
     "data": {
      "text/html": [
       "1.63346481370342e-05"
      ],
      "text/latex": [
       "1.63346481370342e-05"
      ],
      "text/markdown": [
       "1.63346481370342e-05"
      ],
      "text/plain": [
       "[1] 1.633465e-05"
      ]
     },
     "metadata": {},
     "output_type": "display_data"
    }
   ],
   "source": [
    "cvfit_spam_mae$lambda.min"
   ]
  },
  {
   "cell_type": "code",
   "execution_count": 16,
   "metadata": {},
   "outputs": [
    {
     "data": {
      "text/html": [
       "0.000105000312388014"
      ],
      "text/latex": [
       "0.000105000312388014"
      ],
      "text/markdown": [
       "0.000105000312388014"
      ],
      "text/plain": [
       "[1] 0.0001050003"
      ]
     },
     "metadata": {},
     "output_type": "display_data"
    }
   ],
   "source": [
    "cvfit_spam_mae$lambda.1se"
   ]
  },
  {
   "cell_type": "code",
   "execution_count": 17,
   "metadata": {},
   "outputs": [
    {
     "data": {
      "text/html": [
       "0.064427217664051"
      ],
      "text/latex": [
       "0.064427217664051"
      ],
      "text/markdown": [
       "0.064427217664051"
      ],
      "text/plain": [
       "[1] 0.06442722"
      ]
     },
     "metadata": {},
     "output_type": "display_data"
    }
   ],
   "source": [
    "cvfit_spam_mae$lambda[10]"
   ]
  },
  {
   "cell_type": "markdown",
   "metadata": {},
   "source": [
    "3 possible lambda values are determined by the cv.glmnet(). One of them is used for getting minimum Mean-Squared Error. The other one is determined by looking how many paramater is used in the model. Namely, this lambda value can be beneficial for reducing the possibility of over-fitting model on train dataset. Lastly, one random lambda was selected to compare results for these 3 lambda values."
   ]
  },
  {
   "cell_type": "code",
   "execution_count": 18,
   "metadata": {},
   "outputs": [],
   "source": [
    "prediction_pra_mae_spam_min <- predict(lasso_model_spam_mae_min, s = cvfit_spam_mae$lambda.min, newx = test_mat_spam,type=\"class\")\n",
    "prediction_pra_mae_spam_1se <- predict(lasso_model_spam_mae_1se, s = cvfit_spam_mae$lambda.1se, newx = test_mat_spam,type=\"class\")\n",
    "prediction_pra_mae_spam_10th <- predict(lasso_model_spam_mae_10th, s = cvfit_spam_mae$lambda[10], newx = test_mat_spam,type=\"response\")"
   ]
  },
  {
   "cell_type": "markdown",
   "metadata": {},
   "source": [
    "### Performance Measure for Lasso Regression"
   ]
  },
  {
   "cell_type": "code",
   "execution_count": 19,
   "metadata": {},
   "outputs": [
    {
     "data": {
      "text/html": [
       "<table>\n",
       "<thead><tr><th scope=col>name</th><th scope=col>n</th><th scope=col>mean</th><th scope=col>sd</th><th scope=col>FBias</th><th scope=col>MAPE</th><th scope=col>RMSE</th><th scope=col>MAD</th><th scope=col>WMAPE</th></tr></thead>\n",
       "<tbody>\n",
       "\t<tr><td>Spam Data Set for Lasso Function with min lambda and mse objective</td><td>721                                                               </td><td>1.226075                                                          </td><td>0.4185786                                                         </td><td>0.8303167                                                         </td><td>0.8821082                                                         </td><td>0.03922923                                                        </td><td>1.018031                                                          </td><td>0.8303167                                                         </td></tr>\n",
       "</tbody>\n",
       "</table>\n"
      ],
      "text/latex": [
       "\\begin{tabular}{r|lllllllll}\n",
       " name & n & mean & sd & FBias & MAPE & RMSE & MAD & WMAPE\\\\\n",
       "\\hline\n",
       "\t Spam Data Set for Lasso Function with min lambda and mse objective & 721                                                                & 1.226075                                                           & 0.4185786                                                          & 0.8303167                                                          & 0.8821082                                                          & 0.03922923                                                         & 1.018031                                                           & 0.8303167                                                         \\\\\n",
       "\\end{tabular}\n"
      ],
      "text/markdown": [
       "\n",
       "| name | n | mean | sd | FBias | MAPE | RMSE | MAD | WMAPE |\n",
       "|---|---|---|---|---|---|---|---|---|\n",
       "| Spam Data Set for Lasso Function with min lambda and mse objective | 721                                                                | 1.226075                                                           | 0.4185786                                                          | 0.8303167                                                          | 0.8821082                                                          | 0.03922923                                                         | 1.018031                                                           | 0.8303167                                                          |\n",
       "\n"
      ],
      "text/plain": [
       "  name                                                               n  \n",
       "1 Spam Data Set for Lasso Function with min lambda and mse objective 721\n",
       "  mean     sd        FBias     MAPE      RMSE       MAD      WMAPE    \n",
       "1 1.226075 0.4185786 0.8303167 0.8821082 0.03922923 1.018031 0.8303167"
      ]
     },
     "metadata": {},
     "output_type": "display_data"
    },
    {
     "data": {
      "text/html": [
       "<table>\n",
       "<thead><tr><th scope=col>name</th><th scope=col>n</th><th scope=col>mean</th><th scope=col>sd</th><th scope=col>FBias</th><th scope=col>MAPE</th><th scope=col>RMSE</th><th scope=col>MAD</th><th scope=col>WMAPE</th></tr></thead>\n",
       "<tbody>\n",
       "\t<tr><td>Spam Data Set for Lasso Function with 1se lambda and mse objective</td><td>721                                                               </td><td>1.226075                                                          </td><td>0.4185786                                                         </td><td>0.8280543                                                         </td><td>0.8800277                                                         </td><td>0.03913103                                                        </td><td>1.015257                                                          </td><td>0.8280543                                                         </td></tr>\n",
       "</tbody>\n",
       "</table>\n"
      ],
      "text/latex": [
       "\\begin{tabular}{r|lllllllll}\n",
       " name & n & mean & sd & FBias & MAPE & RMSE & MAD & WMAPE\\\\\n",
       "\\hline\n",
       "\t Spam Data Set for Lasso Function with 1se lambda and mse objective & 721                                                                & 1.226075                                                           & 0.4185786                                                          & 0.8280543                                                          & 0.8800277                                                          & 0.03913103                                                         & 1.015257                                                           & 0.8280543                                                         \\\\\n",
       "\\end{tabular}\n"
      ],
      "text/markdown": [
       "\n",
       "| name | n | mean | sd | FBias | MAPE | RMSE | MAD | WMAPE |\n",
       "|---|---|---|---|---|---|---|---|---|\n",
       "| Spam Data Set for Lasso Function with 1se lambda and mse objective | 721                                                                | 1.226075                                                           | 0.4185786                                                          | 0.8280543                                                          | 0.8800277                                                          | 0.03913103                                                         | 1.015257                                                           | 0.8280543                                                          |\n",
       "\n"
      ],
      "text/plain": [
       "  name                                                               n  \n",
       "1 Spam Data Set for Lasso Function with 1se lambda and mse objective 721\n",
       "  mean     sd        FBias     MAPE      RMSE       MAD      WMAPE    \n",
       "1 1.226075 0.4185786 0.8280543 0.8800277 0.03913103 1.015257 0.8280543"
      ]
     },
     "metadata": {},
     "output_type": "display_data"
    },
    {
     "data": {
      "text/html": [
       "<table>\n",
       "<thead><tr><th scope=col>name</th><th scope=col>n</th><th scope=col>mean</th><th scope=col>sd</th><th scope=col>FBias</th><th scope=col>MAPE</th><th scope=col>RMSE</th><th scope=col>MAD</th><th scope=col>WMAPE</th></tr></thead>\n",
       "<tbody>\n",
       "\t<tr><td>Spam Data Set for Lasso Function with 10th lambda and mse objective</td><td>721                                                                </td><td>1.226075                                                           </td><td>0.4185786                                                          </td><td>0.9332579                                                          </td><td>0.9486824                                                          </td><td>0.04522008                                                         </td><td>1.144244                                                           </td><td>0.9332579                                                          </td></tr>\n",
       "</tbody>\n",
       "</table>\n"
      ],
      "text/latex": [
       "\\begin{tabular}{r|lllllllll}\n",
       " name & n & mean & sd & FBias & MAPE & RMSE & MAD & WMAPE\\\\\n",
       "\\hline\n",
       "\t Spam Data Set for Lasso Function with 10th lambda and mse objective & 721                                                                 & 1.226075                                                            & 0.4185786                                                           & 0.9332579                                                           & 0.9486824                                                           & 0.04522008                                                          & 1.144244                                                            & 0.9332579                                                          \\\\\n",
       "\\end{tabular}\n"
      ],
      "text/markdown": [
       "\n",
       "| name | n | mean | sd | FBias | MAPE | RMSE | MAD | WMAPE |\n",
       "|---|---|---|---|---|---|---|---|---|\n",
       "| Spam Data Set for Lasso Function with 10th lambda and mse objective | 721                                                                 | 1.226075                                                            | 0.4185786                                                           | 0.9332579                                                           | 0.9486824                                                           | 0.04522008                                                          | 1.144244                                                            | 0.9332579                                                           |\n",
       "\n"
      ],
      "text/plain": [
       "  name                                                                n  \n",
       "1 Spam Data Set for Lasso Function with 10th lambda and mse objective 721\n",
       "  mean     sd        FBias     MAPE      RMSE       MAD      WMAPE    \n",
       "1 1.226075 0.4185786 0.9332579 0.9486824 0.04522008 1.144244 0.9332579"
      ]
     },
     "metadata": {},
     "output_type": "display_data"
    },
    {
     "data": {
      "text/html": [
       "<table>\n",
       "<thead><tr><th scope=col>name</th><th scope=col>n</th><th scope=col>mean</th><th scope=col>sd</th><th scope=col>FBias</th><th scope=col>MAPE</th><th scope=col>RMSE</th><th scope=col>MAD</th><th scope=col>WMAPE</th></tr></thead>\n",
       "<tbody>\n",
       "\t<tr><td>Spam Data Set for Lasso Function with min lambda and mae objective</td><td>721                                                               </td><td>1.226075                                                          </td><td>0.4185786                                                         </td><td>0.8303167                                                         </td><td>0.8821082                                                         </td><td>0.03922923                                                        </td><td>1.018031                                                          </td><td>0.8303167                                                         </td></tr>\n",
       "</tbody>\n",
       "</table>\n"
      ],
      "text/latex": [
       "\\begin{tabular}{r|lllllllll}\n",
       " name & n & mean & sd & FBias & MAPE & RMSE & MAD & WMAPE\\\\\n",
       "\\hline\n",
       "\t Spam Data Set for Lasso Function with min lambda and mae objective & 721                                                                & 1.226075                                                           & 0.4185786                                                          & 0.8303167                                                          & 0.8821082                                                          & 0.03922923                                                         & 1.018031                                                           & 0.8303167                                                         \\\\\n",
       "\\end{tabular}\n"
      ],
      "text/markdown": [
       "\n",
       "| name | n | mean | sd | FBias | MAPE | RMSE | MAD | WMAPE |\n",
       "|---|---|---|---|---|---|---|---|---|\n",
       "| Spam Data Set for Lasso Function with min lambda and mae objective | 721                                                                | 1.226075                                                           | 0.4185786                                                          | 0.8303167                                                          | 0.8821082                                                          | 0.03922923                                                         | 1.018031                                                           | 0.8303167                                                          |\n",
       "\n"
      ],
      "text/plain": [
       "  name                                                               n  \n",
       "1 Spam Data Set for Lasso Function with min lambda and mae objective 721\n",
       "  mean     sd        FBias     MAPE      RMSE       MAD      WMAPE    \n",
       "1 1.226075 0.4185786 0.8303167 0.8821082 0.03922923 1.018031 0.8303167"
      ]
     },
     "metadata": {},
     "output_type": "display_data"
    },
    {
     "data": {
      "text/html": [
       "<table>\n",
       "<thead><tr><th scope=col>name</th><th scope=col>n</th><th scope=col>mean</th><th scope=col>sd</th><th scope=col>FBias</th><th scope=col>MAPE</th><th scope=col>RMSE</th><th scope=col>MAD</th><th scope=col>WMAPE</th></tr></thead>\n",
       "<tbody>\n",
       "\t<tr><td>Spam Data Set for Lasso Function with 1se lambda and mae objective</td><td>721                                                               </td><td>1.226075                                                          </td><td>0.4185786                                                         </td><td>0.831448                                                          </td><td>0.8828017                                                         </td><td>0.03930271                                                        </td><td>1.019417                                                          </td><td>0.831448                                                          </td></tr>\n",
       "</tbody>\n",
       "</table>\n"
      ],
      "text/latex": [
       "\\begin{tabular}{r|lllllllll}\n",
       " name & n & mean & sd & FBias & MAPE & RMSE & MAD & WMAPE\\\\\n",
       "\\hline\n",
       "\t Spam Data Set for Lasso Function with 1se lambda and mae objective & 721                                                                & 1.226075                                                           & 0.4185786                                                          & 0.831448                                                           & 0.8828017                                                          & 0.03930271                                                         & 1.019417                                                           & 0.831448                                                          \\\\\n",
       "\\end{tabular}\n"
      ],
      "text/markdown": [
       "\n",
       "| name | n | mean | sd | FBias | MAPE | RMSE | MAD | WMAPE |\n",
       "|---|---|---|---|---|---|---|---|---|\n",
       "| Spam Data Set for Lasso Function with 1se lambda and mae objective | 721                                                                | 1.226075                                                           | 0.4185786                                                          | 0.831448                                                           | 0.8828017                                                          | 0.03930271                                                         | 1.019417                                                           | 0.831448                                                           |\n",
       "\n"
      ],
      "text/plain": [
       "  name                                                               n  \n",
       "1 Spam Data Set for Lasso Function with 1se lambda and mae objective 721\n",
       "  mean     sd        FBias    MAPE      RMSE       MAD      WMAPE   \n",
       "1 1.226075 0.4185786 0.831448 0.8828017 0.03930271 1.019417 0.831448"
      ]
     },
     "metadata": {},
     "output_type": "display_data"
    },
    {
     "data": {
      "text/html": [
       "<table>\n",
       "<thead><tr><th scope=col>name</th><th scope=col>n</th><th scope=col>mean</th><th scope=col>sd</th><th scope=col>FBias</th><th scope=col>MAPE</th><th scope=col>RMSE</th><th scope=col>MAD</th><th scope=col>WMAPE</th></tr></thead>\n",
       "<tbody>\n",
       "\t<tr><td>Spam Data Set for Lasso Function with 10th lambda and mae objective</td><td>721                                                                </td><td>1.226075                                                           </td><td>0.4185786                                                          </td><td>0.8227484                                                          </td><td>0.8290385                                                          </td><td>0.03987065                                                         </td><td>1.008751                                                           </td><td>0.8227484                                                          </td></tr>\n",
       "</tbody>\n",
       "</table>\n"
      ],
      "text/latex": [
       "\\begin{tabular}{r|lllllllll}\n",
       " name & n & mean & sd & FBias & MAPE & RMSE & MAD & WMAPE\\\\\n",
       "\\hline\n",
       "\t Spam Data Set for Lasso Function with 10th lambda and mae objective & 721                                                                 & 1.226075                                                            & 0.4185786                                                           & 0.8227484                                                           & 0.8290385                                                           & 0.03987065                                                          & 1.008751                                                            & 0.8227484                                                          \\\\\n",
       "\\end{tabular}\n"
      ],
      "text/markdown": [
       "\n",
       "| name | n | mean | sd | FBias | MAPE | RMSE | MAD | WMAPE |\n",
       "|---|---|---|---|---|---|---|---|---|\n",
       "| Spam Data Set for Lasso Function with 10th lambda and mae objective | 721                                                                 | 1.226075                                                            | 0.4185786                                                           | 0.8227484                                                           | 0.8290385                                                           | 0.03987065                                                          | 1.008751                                                            | 0.8227484                                                           |\n",
       "\n"
      ],
      "text/plain": [
       "  name                                                                n  \n",
       "1 Spam Data Set for Lasso Function with 10th lambda and mae objective 721\n",
       "  mean     sd        FBias     MAPE      RMSE       MAD      WMAPE    \n",
       "1 1.226075 0.4185786 0.8227484 0.8290385 0.03987065 1.008751 0.8227484"
      ]
     },
     "metadata": {},
     "output_type": "display_data"
    }
   ],
   "source": [
    "perf_dt(\"Spam Data Set for Lasso Function with min lambda and mse objective\", as.numeric(test_spam$X1), as.numeric(prediction_pra_mse_spam_min))\n",
    "perf_dt(\"Spam Data Set for Lasso Function with 1se lambda and mse objective\", as.numeric(test_spam$X1), as.numeric(prediction_pra_mse_spam_1se))\n",
    "perf_dt(\"Spam Data Set for Lasso Function with 10th lambda and mse objective\", as.numeric(test_spam$X1), as.numeric(prediction_pra_mse_spam_10th))\n",
    "\n",
    "perf_dt(\"Spam Data Set for Lasso Function with min lambda and mae objective\", as.numeric(test_spam$X1), as.numeric(prediction_pra_mae_spam_min))\n",
    "perf_dt(\"Spam Data Set for Lasso Function with 1se lambda and mae objective\", as.numeric(test_spam$X1), as.numeric(prediction_pra_mae_spam_1se))\n",
    "perf_dt(\"Spam Data Set for Lasso Function with 10th lambda and mae objective\", as.numeric(test_spam$X1), as.numeric(prediction_pra_mae_spam_10th))"
   ]
  },
  {
   "cell_type": "code",
   "execution_count": 20,
   "metadata": {},
   "outputs": [
    {
     "data": {
      "text/plain": [
       "Confusion Matrix and Statistics\n",
       "\n",
       "          Reference\n",
       "Prediction   0   1\n",
       "         0 538  33\n",
       "         1  20 130\n",
       "                                          \n",
       "               Accuracy : 0.9265          \n",
       "                 95% CI : (0.9049, 0.9445)\n",
       "    No Information Rate : 0.7739          \n",
       "    P-Value [Acc > NIR] : < 2e-16         \n",
       "                                          \n",
       "                  Kappa : 0.7838          \n",
       "                                          \n",
       " Mcnemar's Test P-Value : 0.09929         \n",
       "                                          \n",
       "              Precision : 0.9422          \n",
       "                 Recall : 0.9642          \n",
       "                     F1 : 0.9531          \n",
       "             Prevalence : 0.7739          \n",
       "         Detection Rate : 0.7462          \n",
       "   Detection Prevalence : 0.7920          \n",
       "      Balanced Accuracy : 0.8809          \n",
       "                                          \n",
       "       'Positive' Class : 0               \n",
       "                                          "
      ]
     },
     "metadata": {},
     "output_type": "display_data"
    }
   ],
   "source": [
    "confusionMatrix(data = as.factor(prediction_pra_mae_spam_min), reference = as.factor(test_spam$X1), mode = \"prec_recall\")"
   ]
  },
  {
   "cell_type": "markdown",
   "metadata": {},
   "source": [
    "### Glmnet with Caret Library"
   ]
  },
  {
   "cell_type": "code",
   "execution_count": 21,
   "metadata": {},
   "outputs": [],
   "source": [
    "fitControl=trainControl(method = \"repeatedcv\",\n",
    "                           number = 10) "
   ]
  },
  {
   "cell_type": "markdown",
   "metadata": {},
   "source": [
    "In order to compare obtained result with resamples function, the same process will be made with caret() library. "
   ]
  },
  {
   "cell_type": "code",
   "execution_count": 22,
   "metadata": {},
   "outputs": [],
   "source": [
    "lambda_grid <- expand.grid(alpha = 1, lambda = c(cvfit_spam_mae$lambda.min,\n",
    "                                                 cvfit_spam_mae$lambda.1se,\n",
    "                                                 cvfit_spam_mae$lambda[10]))"
   ]
  },
  {
   "cell_type": "code",
   "execution_count": 23,
   "metadata": {},
   "outputs": [],
   "source": [
    "lm_model <- train(X1 ~ ., data = train_spam, method = \"glmnet\", \n",
    "                   trControl = fitControl, tuneGrid = lambda_grid)"
   ]
  },
  {
   "cell_type": "code",
   "execution_count": 24,
   "metadata": {},
   "outputs": [
    {
     "data": {
      "text/plain": [
       "glmnet \n",
       "\n",
       "2880 samples\n",
       "  57 predictor\n",
       "   2 classes: '0', '1' \n",
       "\n",
       "No pre-processing\n",
       "Resampling: Cross-Validated (10 fold, repeated 1 times) \n",
       "Summary of sample sizes: 2592, 2592, 2592, 2592, 2592, 2592, ... \n",
       "Resampling results across tuning parameters:\n",
       "\n",
       "  lambda        Accuracy   Kappa    \n",
       "  1.633465e-05  0.9309028  0.7962956\n",
       "  1.050003e-04  0.9309028  0.7960720\n",
       "  6.442722e-02  0.8225694  0.3270203\n",
       "\n",
       "Tuning parameter 'alpha' was held constant at a value of 1\n",
       "Accuracy was used to select the optimal model using the largest value.\n",
       "The final values used for the model were alpha = 1 and lambda = 0.0001050003."
      ]
     },
     "metadata": {},
     "output_type": "display_data"
    },
    {
     "data": {
      "image/png": "[encoded data removed]",
      "text/plain": [
       "plot without title"
      ]
     },
     "metadata": {},
     "output_type": "display_data"
    }
   ],
   "source": [
    "lm_model\n",
    "plot(lm_model)"
   ]
  },
  {
   "cell_type": "markdown",
   "metadata": {},
   "source": [
    "## Decision Tree(DT)"
   ]
  },
  {
   "cell_type": "code",
   "execution_count": 25,
   "metadata": {},
   "outputs": [],
   "source": [
    "set.seed(35)"
   ]
  },
  {
   "cell_type": "code",
   "execution_count": 26,
   "metadata": {
    "scrolled": false
   },
   "outputs": [
    {
     "name": "stdout",
     "output_type": "stream",
     "text": [
      "CART \n",
      "\n",
      "2880 samples\n",
      "  57 predictor\n",
      "   2 classes: '0', '1' \n",
      "\n",
      "No pre-processing\n",
      "Resampling: Cross-Validated (10 fold) \n",
      "Summary of sample sizes: 2592, 2592, 2592, 2592, 2592, 2592, ... \n",
      "Resampling results across tuning parameters:\n",
      "\n",
      "  cp    Accuracy   Kappa    \n",
      "  0.00  0.9340278  0.8087801\n",
      "  0.02  0.9190972  0.7609213\n",
      "  0.04  0.9104167  0.7271412\n",
      "  0.06  0.9076389  0.7204783\n",
      "  0.08  0.9076389  0.7204783\n",
      "  0.10  0.8864583  0.6626205\n",
      "  0.12  0.8642361  0.5729517\n",
      "  0.14  0.8642361  0.5729517\n",
      "  0.16  0.8642361  0.5729517\n",
      "  0.18  0.8642361  0.5729517\n",
      "  0.20  0.8642361  0.5729517\n",
      "\n",
      "Accuracy was used to select the optimal model using the largest value.\n",
      "The final value used for the model was cp = 0.\n",
      "CART \n",
      "\n",
      "2880 samples\n",
      "  57 predictor\n",
      "   2 classes: '0', '1' \n",
      "\n",
      "No pre-processing\n",
      "Resampling: Cross-Validated (10 fold) \n",
      "Summary of sample sizes: 2592, 2592, 2592, 2592, 2592, 2592, ... \n",
      "Resampling results across tuning parameters:\n",
      "\n",
      "  cp    Accuracy   Kappa    \n",
      "  0.00  0.9298611  0.7961466\n",
      "  0.02  0.9225694  0.7679097\n",
      "  0.04  0.9093750  0.7238321\n",
      "  0.06  0.9069444  0.7178358\n",
      "  0.08  0.9069444  0.7178358\n",
      "  0.10  0.8916667  0.6754215\n",
      "  0.12  0.8645833  0.5775733\n",
      "  0.14  0.8621528  0.5672128\n",
      "  0.16  0.8621528  0.5672128\n",
      "  0.18  0.8621528  0.5672128\n",
      "  0.20  0.8621528  0.5672128\n",
      "\n",
      "Accuracy was used to select the optimal model using the largest value.\n",
      "The final value used for the model was cp = 0.\n"
     ]
    },
    {
     "data": {
      "image/png": "[encoded data removed]",
      "text/plain": [
       "plot without title"
      ]
     },
     "metadata": {},
     "output_type": "display_data"
    },
    {
     "name": "stdout",
     "output_type": "stream",
     "text": [
      "CART \n",
      "\n",
      "2880 samples\n",
      "  57 predictor\n",
      "   2 classes: '0', '1' \n",
      "\n",
      "No pre-processing\n",
      "Resampling: Cross-Validated (10 fold) \n",
      "Summary of sample sizes: 2592, 2592, 2592, 2592, 2592, 2592, ... \n",
      "Resampling results across tuning parameters:\n",
      "\n",
      "  cp    Accuracy   Kappa    \n",
      "  0.00  0.9322917  0.8035185\n",
      "  0.02  0.9187500  0.7597719\n",
      "  0.04  0.9097222  0.7251398\n",
      "  0.06  0.9076389  0.7199242\n",
      "  0.08  0.9076389  0.7199242\n",
      "  0.10  0.8940972  0.6863736\n",
      "  0.12  0.8625000  0.5671995\n",
      "  0.14  0.8625000  0.5671995\n",
      "  0.16  0.8625000  0.5671995\n",
      "  0.18  0.8625000  0.5671995\n",
      "  0.20  0.8625000  0.5671995\n",
      "\n",
      "Accuracy was used to select the optimal model using the largest value.\n",
      "The final value used for the model was cp = 0.\n"
     ]
    },
    {
     "data": {
      "image/png": "[encoded data removed]",
      "text/plain": [
       "plot without title"
      ]
     },
     "metadata": {},
     "output_type": "display_data"
    },
    {
     "name": "stdout",
     "output_type": "stream",
     "text": [
      "CART \n",
      "\n",
      "2880 samples\n",
      "  57 predictor\n",
      "   2 classes: '0', '1' \n",
      "\n",
      "No pre-processing\n",
      "Resampling: Cross-Validated (10 fold) \n",
      "Summary of sample sizes: 2592, 2592, 2592, 2592, 2592, 2592, ... \n",
      "Resampling results across tuning parameters:\n",
      "\n",
      "  cp    Accuracy   Kappa    \n",
      "  0.00  0.9288194  0.7924377\n",
      "  0.02  0.9197917  0.7609801\n",
      "  0.04  0.9111111  0.7298064\n",
      "  0.06  0.9111111  0.7298064\n",
      "  0.08  0.9111111  0.7298064\n",
      "  0.10  0.8895833  0.6734995\n",
      "  0.12  0.8656250  0.5788136\n",
      "  0.14  0.8656250  0.5788136\n",
      "  0.16  0.8656250  0.5788136\n",
      "  0.18  0.8656250  0.5788136\n",
      "  0.20  0.8656250  0.5788136\n",
      "\n",
      "Accuracy was used to select the optimal model using the largest value.\n",
      "The final value used for the model was cp = 0.\n"
     ]
    },
    {
     "data": {
      "image/png": "[encoded data removed]",
      "text/plain": [
       "plot without title"
      ]
     },
     "metadata": {},
     "output_type": "display_data"
    },
    {
     "name": "stdout",
     "output_type": "stream",
     "text": [
      "CART \n",
      "\n",
      "2880 samples\n",
      "  57 predictor\n",
      "   2 classes: '0', '1' \n",
      "\n",
      "No pre-processing\n",
      "Resampling: Cross-Validated (10 fold) \n",
      "Summary of sample sizes: 2592, 2592, 2592, 2592, 2592, 2592, ... \n",
      "Resampling results across tuning parameters:\n",
      "\n",
      "  cp    Accuracy   Kappa    \n",
      "  0.00  0.9270833  0.7904146\n",
      "  0.02  0.9159722  0.7515066\n",
      "  0.04  0.9097222  0.7259301\n",
      "  0.06  0.9097222  0.7259301\n",
      "  0.08  0.9097222  0.7259301\n",
      "  0.10  0.8881944  0.6676887\n",
      "  0.12  0.8645833  0.5768221\n",
      "  0.14  0.8645833  0.5768221\n",
      "  0.16  0.8645833  0.5768221\n",
      "  0.18  0.8645833  0.5768221\n",
      "  0.20  0.8645833  0.5768221\n",
      "\n",
      "Accuracy was used to select the optimal model using the largest value.\n",
      "The final value used for the model was cp = 0.\n"
     ]
    },
    {
     "data": {
      "image/png": "[encoded data removed]",
      "text/plain": [
       "plot without title"
      ]
     },
     "metadata": {},
     "output_type": "display_data"
    },
    {
     "data": {
      "image/png": "[encoded data removed]",
      "text/plain": [
       "plot without title"
      ]
     },
     "metadata": {},
     "output_type": "display_data"
    },
    {
     "name": "stdout",
     "output_type": "stream",
     "text": [
      "CART \n",
      "\n",
      "2880 samples\n",
      "  57 predictor\n",
      "   2 classes: '0', '1' \n",
      "\n",
      "No pre-processing\n",
      "Resampling: Cross-Validated (10 fold) \n",
      "Summary of sample sizes: 2592, 2592, 2592, 2592, 2592, 2592, ... \n",
      "Resampling results across tuning parameters:\n",
      "\n",
      "  cp    Accuracy   Kappa    \n",
      "  0.00  0.9312500  0.8002861\n",
      "  0.02  0.9173611  0.7553284\n",
      "  0.04  0.9104167  0.7285238\n",
      "  0.06  0.9104167  0.7285238\n",
      "  0.08  0.9104167  0.7285238\n",
      "  0.10  0.8940972  0.6876975\n",
      "  0.12  0.8649306  0.5771439\n",
      "  0.14  0.8649306  0.5771439\n",
      "  0.16  0.8649306  0.5771439\n",
      "  0.18  0.8649306  0.5771439\n",
      "  0.20  0.8649306  0.5771439\n",
      "\n",
      "Accuracy was used to select the optimal model using the largest value.\n",
      "The final value used for the model was cp = 0.\n"
     ]
    },
    {
     "data": {
      "image/png": "[encoded data removed]",
      "text/plain": [
       "plot without title"
      ]
     },
     "metadata": {},
     "output_type": "display_data"
    }
   ],
   "source": [
    "numFolds=trainControl(method=\"cv\",number = 10)\n",
    "cpGrid=expand.grid(.cp=(0:10)*0.02)\n",
    "#minbucket_grid=expand.grid(.cp=(5:10))\n",
    "for(i in 5:10){\n",
    "    tr=train(X1~.,\n",
    "          data=train_spam, \n",
    "          method=\"rpart\",\n",
    "          trControl=numFolds,\n",
    "          tuneGrid= cpGrid,\n",
    "            # minbucket=minbucket_grid\n",
    "           control= rpart.control(minsplit = i)\n",
    "            )\n",
    "    trellis.par.set(caretTheme())\n",
    "    print(plot(tr))    \n",
    "    print(tr)\n",
    "}"
   ]
  },
  {
   "cell_type": "markdown",
   "metadata": {},
   "source": [
    "Best minbucket is determined by looking the plots and the RMSE values in the models. The model with smallest RMSE value's minbucket is determined as optimal minbucket size for Decision Tree. This model is names as tr_last to keep information of this model to compare with other models."
   ]
  },
  {
   "cell_type": "code",
   "execution_count": 84,
   "metadata": {},
   "outputs": [
    {
     "name": "stdout",
     "output_type": "stream",
     "text": [
      "CART \n",
      "\n",
      "2880 samples\n",
      "  57 predictor\n",
      "   2 classes: '0', '1' \n",
      "\n",
      "No pre-processing\n",
      "Resampling: Cross-Validated (10 fold) \n",
      "Summary of sample sizes: 2592, 2592, 2592, 2592, 2592, 2592, ... \n",
      "Resampling results across tuning parameters:\n",
      "\n",
      "  cp    Accuracy   Kappa    \n",
      "  0.00  0.9284722  0.7906848\n",
      "  0.01  0.9246528  0.7753364\n",
      "  0.02  0.9149306  0.7450010\n",
      "  0.03  0.9086806  0.7235983\n",
      "  0.04  0.9097222  0.7250175\n",
      "  0.05  0.9097222  0.7250175\n",
      "  0.06  0.9076389  0.7198955\n",
      "  0.07  0.9076389  0.7198955\n",
      "  0.08  0.9076389  0.7198955\n",
      "  0.09  0.8979167  0.6961644\n",
      "  0.10  0.8934028  0.6851602\n",
      "\n",
      "Accuracy was used to select the optimal model using the largest value.\n",
      "The final value used for the model was cp = 0.\n"
     ]
    },
    {
     "data": {
      "image/png": "[encoded data removed]",
      "text/plain": [
       "plot without title"
      ]
     },
     "metadata": {},
     "output_type": "display_data"
    }
   ],
   "source": [
    "numFolds=trainControl(method=\"cv\",number = 10)\n",
    "cpGrid=expand.grid(.cp=(0:10)*0.01)\n",
    "tr_last=train(X1~.,\n",
    "      data=train_spam, \n",
    "      method=\"rpart\",\n",
    "      trControl=numFolds,\n",
    "      tuneGrid= cpGrid,\n",
    "        # minbucket=minbucket_grid\n",
    "       control= rpart.control(minbucket = 10)\n",
    "        )\n",
    "trellis.par.set(caretTheme())\n",
    "print(plot(tr_last))    \n",
    "print(tr_last)"
   ]
  },
  {
   "cell_type": "code",
   "execution_count": 85,
   "metadata": {
    "scrolled": false
   },
   "outputs": [
    {
     "data": {
      "text/html": [
       "<dl class=dl-horizontal>\n",
       "\t<dt>X0.44</dt>\n",
       "\t\t<dd>354.05957281028</dd>\n",
       "\t<dt>X0.3</dt>\n",
       "\t\t<dd>156.140850086301</dd>\n",
       "\t<dt>X0.15</dt>\n",
       "\t\t<dd>118.914121937347</dd>\n",
       "\t<dt>X0.14</dt>\n",
       "\t\t<dd>111.980035306156</dd>\n",
       "\t<dt>X0.16</dt>\n",
       "\t\t<dd>92.7568973997472</dd>\n",
       "\t<dt>X61</dt>\n",
       "\t\t<dd>87.836172025377</dd>\n",
       "\t<dt>X0.17</dt>\n",
       "\t\t<dd>53.6103149967316</dd>\n",
       "\t<dt>X0.12</dt>\n",
       "\t\t<dd>48.4811808261788</dd>\n",
       "\t<dt>X0.778</dt>\n",
       "\t\t<dd>46.1360070837169</dd>\n",
       "\t<dt>X0.32.1</dt>\n",
       "\t\t<dd>43.5766607667635</dd>\n",
       "\t<dt>X0.18</dt>\n",
       "\t\t<dd>36.022148669851</dd>\n",
       "\t<dt>X0.19</dt>\n",
       "\t\t<dd>27.728678041093</dd>\n",
       "\t<dt>X278</dt>\n",
       "\t\t<dd>22.4337891920143</dd>\n",
       "\t<dt>X3.756</dt>\n",
       "\t\t<dd>21.8537995019442</dd>\n",
       "\t<dt>X0.22</dt>\n",
       "\t\t<dd>17.0498738212808</dd>\n",
       "\t<dt>X0.32</dt>\n",
       "\t\t<dd>16.0671548243693</dd>\n",
       "\t<dt>X0.26</dt>\n",
       "\t\t<dd>10.0166481687014</dd>\n",
       "\t<dt>X0.11</dt>\n",
       "\t\t<dd>9.8063935309973</dd>\n",
       "\t<dt>X0.2</dt>\n",
       "\t\t<dd>9.22610960031958</dd>\n",
       "\t<dt>X0.20</dt>\n",
       "\t\t<dd>9.18070128838194</dd>\n",
       "\t<dt>X0.38</dt>\n",
       "\t\t<dd>8.71606691919191</dd>\n",
       "\t<dt>X0.23</dt>\n",
       "\t\t<dd>8.58569843031552</dd>\n",
       "\t<dt>X0.25</dt>\n",
       "\t\t<dd>8.58569843031552</dd>\n",
       "\t<dt>X0.96</dt>\n",
       "\t\t<dd>7.29549206349207</dd>\n",
       "\t<dt>X0.34</dt>\n",
       "\t\t<dd>7.29119827651397</dd>\n",
       "\t<dt>X0.41</dt>\n",
       "\t\t<dd>5.34227594591016</dd>\n",
       "\t<dt>X0.8</dt>\n",
       "\t\t<dd>4.10867117159273</dd>\n",
       "\t<dt>X0.4</dt>\n",
       "\t\t<dd>4.08877628032345</dd>\n",
       "\t<dt>X1.93</dt>\n",
       "\t\t<dd>4.03345020603493</dd>\n",
       "\t<dt>X0.45</dt>\n",
       "\t\t<dd>3.82348831115228</dd>\n",
       "\t<dt>X0.64.1</dt>\n",
       "\t\t<dd>3.52334953799433</dd>\n",
       "\t<dt>X0.9</dt>\n",
       "\t\t<dd>3.10952716046835</dd>\n",
       "\t<dt>X1.29</dt>\n",
       "\t\t<dd>2.86737468528712</dd>\n",
       "\t<dt>X0.13</dt>\n",
       "\t\t<dd>2.79202279202271</dd>\n",
       "\t<dt>X0.29</dt>\n",
       "\t\t<dd>2.56935706613472</dd>\n",
       "\t<dt>X0.5</dt>\n",
       "\t\t<dd>2.02960006914852</dd>\n",
       "\t<dt>X0.27</dt>\n",
       "\t\t<dd>1.71290471075648</dd>\n",
       "\t<dt>X0.28</dt>\n",
       "\t\t<dd>1.64449526073266</dd>\n",
       "\t<dt>X0.7</dt>\n",
       "\t\t<dd>1.64198817794528</dd>\n",
       "\t<dt>X0.37</dt>\n",
       "\t\t<dd>1.57907323921175</dd>\n",
       "\t<dt>X0.64.2</dt>\n",
       "\t\t<dd>1.16380675535899</dd>\n",
       "\t<dt>X0.40</dt>\n",
       "\t\t<dd>0.847001446411245</dd>\n",
       "\t<dt>X0.1</dt>\n",
       "\t\t<dd>0.789197805982522</dd>\n",
       "\t<dt>X0.64</dt>\n",
       "\t\t<dd>0.594650205761317</dd>\n",
       "\t<dt>X0.6</dt>\n",
       "\t\t<dd>0.445987654320988</dd>\n",
       "\t<dt>X0.21</dt>\n",
       "\t\t<dd>0.102383765824649</dd>\n",
       "</dl>\n"
      ],
      "text/latex": [
       "\\begin{description*}\n",
       "\\item[X0.44] 354.05957281028\n",
       "\\item[X0.3] 156.140850086301\n",
       "\\item[X0.15] 118.914121937347\n",
       "\\item[X0.14] 111.980035306156\n",
       "\\item[X0.16] 92.7568973997472\n",
       "\\item[X61] 87.836172025377\n",
       "\\item[X0.17] 53.6103149967316\n",
       "\\item[X0.12] 48.4811808261788\n",
       "\\item[X0.778] 46.1360070837169\n",
       "\\item[X0.32.1] 43.5766607667635\n",
       "\\item[X0.18] 36.022148669851\n",
       "\\item[X0.19] 27.728678041093\n",
       "\\item[X278] 22.4337891920143\n",
       "\\item[X3.756] 21.8537995019442\n",
       "\\item[X0.22] 17.0498738212808\n",
       "\\item[X0.32] 16.0671548243693\n",
       "\\item[X0.26] 10.0166481687014\n",
       "\\item[X0.11] 9.8063935309973\n",
       "\\item[X0.2] 9.22610960031958\n",
       "\\item[X0.20] 9.18070128838194\n",
       "\\item[X0.38] 8.71606691919191\n",
       "\\item[X0.23] 8.58569843031552\n",
       "\\item[X0.25] 8.58569843031552\n",
       "\\item[X0.96] 7.29549206349207\n",
       "\\item[X0.34] 7.29119827651397\n",
       "\\item[X0.41] 5.34227594591016\n",
       "\\item[X0.8] 4.10867117159273\n",
       "\\item[X0.4] 4.08877628032345\n",
       "\\item[X1.93] 4.03345020603493\n",
       "\\item[X0.45] 3.82348831115228\n",
       "\\item[X0.64.1] 3.52334953799433\n",
       "\\item[X0.9] 3.10952716046835\n",
       "\\item[X1.29] 2.86737468528712\n",
       "\\item[X0.13] 2.79202279202271\n",
       "\\item[X0.29] 2.56935706613472\n",
       "\\item[X0.5] 2.02960006914852\n",
       "\\item[X0.27] 1.71290471075648\n",
       "\\item[X0.28] 1.64449526073266\n",
       "\\item[X0.7] 1.64198817794528\n",
       "\\item[X0.37] 1.57907323921175\n",
       "\\item[X0.64.2] 1.16380675535899\n",
       "\\item[X0.40] 0.847001446411245\n",
       "\\item[X0.1] 0.789197805982522\n",
       "\\item[X0.64] 0.594650205761317\n",
       "\\item[X0.6] 0.445987654320988\n",
       "\\item[X0.21] 0.102383765824649\n",
       "\\end{description*}\n"
      ],
      "text/markdown": [
       "X0.44\n",
       ":   354.05957281028X0.3\n",
       ":   156.140850086301X0.15\n",
       ":   118.914121937347X0.14\n",
       ":   111.980035306156X0.16\n",
       ":   92.7568973997472X61\n",
       ":   87.836172025377X0.17\n",
       ":   53.6103149967316X0.12\n",
       ":   48.4811808261788X0.778\n",
       ":   46.1360070837169X0.32.1\n",
       ":   43.5766607667635X0.18\n",
       ":   36.022148669851X0.19\n",
       ":   27.728678041093X278\n",
       ":   22.4337891920143X3.756\n",
       ":   21.8537995019442X0.22\n",
       ":   17.0498738212808X0.32\n",
       ":   16.0671548243693X0.26\n",
       ":   10.0166481687014X0.11\n",
       ":   9.8063935309973X0.2\n",
       ":   9.22610960031958X0.20\n",
       ":   9.18070128838194X0.38\n",
       ":   8.71606691919191X0.23\n",
       ":   8.58569843031552X0.25\n",
       ":   8.58569843031552X0.96\n",
       ":   7.29549206349207X0.34\n",
       ":   7.29119827651397X0.41\n",
       ":   5.34227594591016X0.8\n",
       ":   4.10867117159273X0.4\n",
       ":   4.08877628032345X1.93\n",
       ":   4.03345020603493X0.45\n",
       ":   3.82348831115228X0.64.1\n",
       ":   3.52334953799433X0.9\n",
       ":   3.10952716046835X1.29\n",
       ":   2.86737468528712X0.13\n",
       ":   2.79202279202271X0.29\n",
       ":   2.56935706613472X0.5\n",
       ":   2.02960006914852X0.27\n",
       ":   1.71290471075648X0.28\n",
       ":   1.64449526073266X0.7\n",
       ":   1.64198817794528X0.37\n",
       ":   1.57907323921175X0.64.2\n",
       ":   1.16380675535899X0.40\n",
       ":   0.847001446411245X0.1\n",
       ":   0.789197805982522X0.64\n",
       ":   0.594650205761317X0.6\n",
       ":   0.445987654320988X0.21\n",
       ":   0.102383765824649\n",
       "\n"
      ],
      "text/plain": [
       "      X0.44        X0.3       X0.15       X0.14       X0.16         X61 \n",
       "354.0595728 156.1408501 118.9141219 111.9800353  92.7568974  87.8361720 \n",
       "      X0.17       X0.12      X0.778     X0.32.1       X0.18       X0.19 \n",
       " 53.6103150  48.4811808  46.1360071  43.5766608  36.0221487  27.7286780 \n",
       "       X278      X3.756       X0.22       X0.32       X0.26       X0.11 \n",
       " 22.4337892  21.8537995  17.0498738  16.0671548  10.0166482   9.8063935 \n",
       "       X0.2       X0.20       X0.38       X0.23       X0.25       X0.96 \n",
       "  9.2261096   9.1807013   8.7160669   8.5856984   8.5856984   7.2954921 \n",
       "      X0.34       X0.41        X0.8        X0.4       X1.93       X0.45 \n",
       "  7.2911983   5.3422759   4.1086712   4.0887763   4.0334502   3.8234883 \n",
       "    X0.64.1        X0.9       X1.29       X0.13       X0.29        X0.5 \n",
       "  3.5233495   3.1095272   2.8673747   2.7920228   2.5693571   2.0296001 \n",
       "      X0.27       X0.28        X0.7       X0.37     X0.64.2       X0.40 \n",
       "  1.7129047   1.6444953   1.6419882   1.5790732   1.1638068   0.8470014 \n",
       "       X0.1       X0.64        X0.6       X0.21 \n",
       "  0.7891978   0.5946502   0.4459877   0.1023838 "
      ]
     },
     "metadata": {},
     "output_type": "display_data"
    },
    {
     "data": {
      "image/png": "[encoded data removed]",
      "text/plain": [
       "Plot with title \"\""
      ]
     },
     "metadata": {},
     "output_type": "display_data"
    }
   ],
   "source": [
    "reg_tree_spam=tr_last$finalModel\n",
    "fancyRpartPlot(reg_tree_spam)\n",
    "reg_tree_spam$variable.importance"
   ]
  },
  {
   "cell_type": "code",
   "execution_count": 99,
   "metadata": {},
   "outputs": [],
   "source": [
    "predicted_spam=predict(reg_tree_spam,newdata=test_spam,type=\"class\")"
   ]
  },
  {
   "cell_type": "code",
   "execution_count": 100,
   "metadata": {},
   "outputs": [
    {
     "data": {
      "text/plain": [
       "   predicted_spam\n",
       "      0   1\n",
       "  0 536  22\n",
       "  1  30 133"
      ]
     },
     "metadata": {},
     "output_type": "display_data"
    }
   ],
   "source": [
    "table(test_spam$X1,predicted_spam)"
   ]
  },
  {
   "cell_type": "markdown",
   "metadata": {},
   "source": [
    "### Performanca Measure"
   ]
  },
  {
   "cell_type": "code",
   "execution_count": 101,
   "metadata": {},
   "outputs": [
    {
     "data": {
      "text/plain": [
       "Confusion Matrix and Statistics\n",
       "\n",
       "          Reference\n",
       "Prediction   0   1\n",
       "         0 536  30\n",
       "         1  22 133\n",
       "                                          \n",
       "               Accuracy : 0.9279          \n",
       "                 95% CI : (0.9065, 0.9457)\n",
       "    No Information Rate : 0.7739          \n",
       "    P-Value [Acc > NIR] : <2e-16          \n",
       "                                          \n",
       "                  Kappa : 0.7903          \n",
       "                                          \n",
       " Mcnemar's Test P-Value : 0.3317          \n",
       "                                          \n",
       "              Precision : 0.9470          \n",
       "                 Recall : 0.9606          \n",
       "                     F1 : 0.9537          \n",
       "             Prevalence : 0.7739          \n",
       "         Detection Rate : 0.7434          \n",
       "   Detection Prevalence : 0.7850          \n",
       "      Balanced Accuracy : 0.8883          \n",
       "                                          \n",
       "       'Positive' Class : 0               \n",
       "                                          "
      ]
     },
     "metadata": {},
     "output_type": "display_data"
    }
   ],
   "source": [
    "confusionMatrix(data = as.factor(predicted_spam), reference = as.factor(test_spam$X1), mode = \"prec_recall\")"
   ]
  },
  {
   "cell_type": "code",
   "execution_count": 67,
   "metadata": {},
   "outputs": [
    {
     "data": {
      "text/html": [
       "<table>\n",
       "<thead><tr><th scope=col>name</th><th scope=col>n</th><th scope=col>mean</th><th scope=col>sd</th><th scope=col>FBias</th><th scope=col>MAPE</th><th scope=col>RMSE</th><th scope=col>MAD</th><th scope=col>WMAPE</th></tr></thead>\n",
       "<tbody>\n",
       "\t<tr><td>Decision Tree-Daily</td><td>721                </td><td>1.226075           </td><td>0.4185786          </td><td>0.005656109        </td><td>0.0554785          </td><td>0.01028599         </td><td>0.07628294         </td><td>0.06221719         </td></tr>\n",
       "</tbody>\n",
       "</table>\n"
      ],
      "text/latex": [
       "\\begin{tabular}{r|lllllllll}\n",
       " name & n & mean & sd & FBias & MAPE & RMSE & MAD & WMAPE\\\\\n",
       "\\hline\n",
       "\t Decision Tree-Daily & 721                 & 1.226075            & 0.4185786           & 0.005656109         & 0.0554785           & 0.01028599          & 0.07628294          & 0.06221719         \\\\\n",
       "\\end{tabular}\n"
      ],
      "text/markdown": [
       "\n",
       "| name | n | mean | sd | FBias | MAPE | RMSE | MAD | WMAPE |\n",
       "|---|---|---|---|---|---|---|---|---|\n",
       "| Decision Tree-Daily | 721                 | 1.226075            | 0.4185786           | 0.005656109         | 0.0554785           | 0.01028599          | 0.07628294          | 0.06221719          |\n",
       "\n"
      ],
      "text/plain": [
       "  name                n   mean     sd        FBias       MAPE      RMSE      \n",
       "1 Decision Tree-Daily 721 1.226075 0.4185786 0.005656109 0.0554785 0.01028599\n",
       "  MAD        WMAPE     \n",
       "1 0.07628294 0.06221719"
      ]
     },
     "metadata": {},
     "output_type": "display_data"
    }
   ],
   "source": [
    "perf_dt(\"Decision Tree-Daily\",as.numeric(test_spam$X1),as.numeric(predicted_spam))"
   ]
  },
  {
   "cell_type": "markdown",
   "metadata": {},
   "source": [
    "## Random Forest(RF)"
   ]
  },
  {
   "cell_type": "code",
   "execution_count": 35,
   "metadata": {},
   "outputs": [],
   "source": [
    "library(ranger)"
   ]
  },
  {
   "cell_type": "code",
   "execution_count": 36,
   "metadata": {},
   "outputs": [],
   "source": [
    "fitControl=trainControl(method = \"repeatedcv\",\n",
    "                           number = 10) "
   ]
  },
  {
   "cell_type": "code",
   "execution_count": 37,
   "metadata": {},
   "outputs": [
    {
     "data": {
      "text/html": [
       "<table>\n",
       "<thead><tr><th scope=col>mtry</th><th scope=col>splitrule</th><th scope=col>min.node.size</th></tr></thead>\n",
       "<tbody>\n",
       "\t<tr><td> 4        </td><td>extratrees</td><td>5         </td></tr>\n",
       "\t<tr><td> 8        </td><td>extratrees</td><td>5         </td></tr>\n",
       "\t<tr><td>10        </td><td>extratrees</td><td>5         </td></tr>\n",
       "\t<tr><td>15        </td><td>extratrees</td><td>5         </td></tr>\n",
       "</tbody>\n",
       "</table>\n"
      ],
      "text/latex": [
       "\\begin{tabular}{r|lll}\n",
       " mtry & splitrule & min.node.size\\\\\n",
       "\\hline\n",
       "\t  4         & extratrees & 5         \\\\\n",
       "\t  8         & extratrees & 5         \\\\\n",
       "\t 10         & extratrees & 5         \\\\\n",
       "\t 15         & extratrees & 5         \\\\\n",
       "\\end{tabular}\n"
      ],
      "text/markdown": [
       "\n",
       "| mtry | splitrule | min.node.size |\n",
       "|---|---|---|\n",
       "|  4         | extratrees | 5          |\n",
       "|  8         | extratrees | 5          |\n",
       "| 10         | extratrees | 5          |\n",
       "| 15         | extratrees | 5          |\n",
       "\n"
      ],
      "text/plain": [
       "  mtry splitrule  min.node.size\n",
       "1  4   extratrees 5            \n",
       "2  8   extratrees 5            \n",
       "3 10   extratrees 5            \n",
       "4 15   extratrees 5            "
      ]
     },
     "metadata": {},
     "output_type": "display_data"
    }
   ],
   "source": [
    "rf_grid=expand.grid(mtry=c(4,8,10,15),\n",
    "                   splitrule = c(\"extratrees\"),\n",
    "                   min.node.size= c(5))\n",
    "rf_grid  "
   ]
  },
  {
   "cell_type": "code",
   "execution_count": 38,
   "metadata": {},
   "outputs": [],
   "source": [
    "rf_fit=train(X1 ~ ., data = train_spam, \n",
    "                 method = \"ranger\", \n",
    "                 trControl = fitControl, num.trees=500,\n",
    "                 tuneGrid = rf_grid) "
   ]
  },
  {
   "cell_type": "code",
   "execution_count": 39,
   "metadata": {},
   "outputs": [
    {
     "data": {
      "text/plain": [
       "Random Forest \n",
       "\n",
       "2880 samples\n",
       "  57 predictor\n",
       "   2 classes: '0', '1' \n",
       "\n",
       "No pre-processing\n",
       "Resampling: Cross-Validated (10 fold, repeated 1 times) \n",
       "Summary of sample sizes: 2592, 2592, 2592, 2592, 2592, 2592, ... \n",
       "Resampling results across tuning parameters:\n",
       "\n",
       "  mtry  Accuracy   Kappa    \n",
       "   4    0.9475694  0.8420506\n",
       "   8    0.9538194  0.8625748\n",
       "  10    0.9545139  0.8654099\n",
       "  15    0.9527778  0.8597787\n",
       "\n",
       "Tuning parameter 'splitrule' was held constant at a value of extratrees\n",
       "\n",
       "Tuning parameter 'min.node.size' was held constant at a value of 5\n",
       "Accuracy was used to select the optimal model using the largest value.\n",
       "The final values used for the model were mtry = 10, splitrule = extratrees\n",
       " and min.node.size = 5."
      ]
     },
     "metadata": {},
     "output_type": "display_data"
    },
    {
     "data": {
      "image/png": "[encoded data removed]",
      "text/plain": [
       "plot without title"
      ]
     },
     "metadata": {},
     "output_type": "display_data"
    }
   ],
   "source": [
    "rf_fit\n",
    "plot(rf_fit)"
   ]
  },
  {
   "cell_type": "code",
   "execution_count": 40,
   "metadata": {},
   "outputs": [],
   "source": [
    "PredictRandomForest_spam=predict(rf_fit,newdata=test_spam)"
   ]
  },
  {
   "cell_type": "markdown",
   "metadata": {},
   "source": [
    "### Performanca Measure"
   ]
  },
  {
   "cell_type": "code",
   "execution_count": 41,
   "metadata": {},
   "outputs": [
    {
     "data": {
      "text/plain": [
       "Confusion Matrix and Statistics\n",
       "\n",
       "          Reference\n",
       "Prediction   0   1\n",
       "         0 547  18\n",
       "         1  11 145\n",
       "                                          \n",
       "               Accuracy : 0.9598          \n",
       "                 95% CI : (0.9427, 0.9729)\n",
       "    No Information Rate : 0.7739          \n",
       "    P-Value [Acc > NIR] : <2e-16          \n",
       "                                          \n",
       "                  Kappa : 0.8833          \n",
       "                                          \n",
       " Mcnemar's Test P-Value : 0.2652          \n",
       "                                          \n",
       "              Precision : 0.9681          \n",
       "                 Recall : 0.9803          \n",
       "                     F1 : 0.9742          \n",
       "             Prevalence : 0.7739          \n",
       "         Detection Rate : 0.7587          \n",
       "   Detection Prevalence : 0.7836          \n",
       "      Balanced Accuracy : 0.9349          \n",
       "                                          \n",
       "       'Positive' Class : 0               \n",
       "                                          "
      ]
     },
     "metadata": {},
     "output_type": "display_data"
    }
   ],
   "source": [
    "confusionMatrix(data = as.factor(PredictRandomForest_spam), reference = as.factor(test_spam$X1), mode = \"prec_recall\")"
   ]
  },
  {
   "cell_type": "code",
   "execution_count": 42,
   "metadata": {
    "scrolled": true
   },
   "outputs": [
    {
     "data": {
      "text/html": [
       "<table>\n",
       "<thead><tr><th scope=col>name</th><th scope=col>n</th><th scope=col>mean</th><th scope=col>sd</th><th scope=col>FBias</th><th scope=col>MAPE</th><th scope=col>RMSE</th><th scope=col>MAD</th><th scope=col>WMAPE</th></tr></thead>\n",
       "<tbody>\n",
       "\t<tr><td>Random Forest-daily</td><td>721                </td><td>1.226075           </td><td>0.4185786          </td><td>0.007918552        </td><td>0.02773925         </td><td>0.007469022        </td><td>0.04022191         </td><td>0.03280543         </td></tr>\n",
       "</tbody>\n",
       "</table>\n"
      ],
      "text/latex": [
       "\\begin{tabular}{r|lllllllll}\n",
       " name & n & mean & sd & FBias & MAPE & RMSE & MAD & WMAPE\\\\\n",
       "\\hline\n",
       "\t Random Forest-daily & 721                 & 1.226075            & 0.4185786           & 0.007918552         & 0.02773925          & 0.007469022         & 0.04022191          & 0.03280543         \\\\\n",
       "\\end{tabular}\n"
      ],
      "text/markdown": [
       "\n",
       "| name | n | mean | sd | FBias | MAPE | RMSE | MAD | WMAPE |\n",
       "|---|---|---|---|---|---|---|---|---|\n",
       "| Random Forest-daily | 721                 | 1.226075            | 0.4185786           | 0.007918552         | 0.02773925          | 0.007469022         | 0.04022191          | 0.03280543          |\n",
       "\n"
      ],
      "text/plain": [
       "  name                n   mean     sd        FBias       MAPE       RMSE       \n",
       "1 Random Forest-daily 721 1.226075 0.4185786 0.007918552 0.02773925 0.007469022\n",
       "  MAD        WMAPE     \n",
       "1 0.04022191 0.03280543"
      ]
     },
     "metadata": {},
     "output_type": "display_data"
    }
   ],
   "source": [
    "perf_dt(\"Random Forest-daily\",as.numeric(test_spam$X1),as.numeric(PredictRandomForest_spam))"
   ]
  },
  {
   "cell_type": "markdown",
   "metadata": {},
   "source": [
    "## Stochastic Gradient Boosting(SGB)"
   ]
  },
  {
   "cell_type": "code",
   "execution_count": 43,
   "metadata": {},
   "outputs": [],
   "source": [
    "set.seed(35)"
   ]
  },
  {
   "cell_type": "code",
   "execution_count": 44,
   "metadata": {},
   "outputs": [
    {
     "data": {
      "image/png": "[encoded data removed]",
      "text/plain": [
       "plot without title"
      ]
     },
     "metadata": {},
     "output_type": "display_data"
    }
   ],
   "source": [
    "gbmGrid=expand.grid(interaction.depth = c(1, 3, 5), \n",
    "                        n.trees = (1:5)*50, \n",
    "                        shrinkage = c(0.1, 0.3, 0.5),\n",
    "                        n.minobsinnode = 20)\n",
    "                                                                \n",
    "\n",
    "gbm_fit=train(X1 ~ ., data = train_spam, \n",
    "                 method = \"gbm\", \n",
    "                 trControl = fitControl,  \n",
    "                 tuneGrid = gbmGrid,\n",
    "                 verbose=F) #verbose is an argument from gbm, prints to screen\n",
    "\n",
    "plot(gbm_fit)"
   ]
  },
  {
   "cell_type": "code",
   "execution_count": 45,
   "metadata": {},
   "outputs": [],
   "source": [
    "predicted_spam_sgb=predict(gbm_fit,test_spam)"
   ]
  },
  {
   "cell_type": "markdown",
   "metadata": {},
   "source": [
    "### Performanca Measure"
   ]
  },
  {
   "cell_type": "code",
   "execution_count": 46,
   "metadata": {},
   "outputs": [
    {
     "data": {
      "text/plain": [
       "Confusion Matrix and Statistics\n",
       "\n",
       "          Reference\n",
       "Prediction   0   1\n",
       "         0 545  16\n",
       "         1  13 147\n",
       "                                          \n",
       "               Accuracy : 0.9598          \n",
       "                 95% CI : (0.9427, 0.9729)\n",
       "    No Information Rate : 0.7739          \n",
       "    P-Value [Acc > NIR] : <2e-16          \n",
       "                                          \n",
       "                  Kappa : 0.8843          \n",
       "                                          \n",
       " Mcnemar's Test P-Value : 0.7103          \n",
       "                                          \n",
       "              Precision : 0.9715          \n",
       "                 Recall : 0.9767          \n",
       "                     F1 : 0.9741          \n",
       "             Prevalence : 0.7739          \n",
       "         Detection Rate : 0.7559          \n",
       "   Detection Prevalence : 0.7781          \n",
       "      Balanced Accuracy : 0.9393          \n",
       "                                          \n",
       "       'Positive' Class : 0               \n",
       "                                          "
      ]
     },
     "metadata": {},
     "output_type": "display_data"
    }
   ],
   "source": [
    "confusionMatrix(data = as.factor(predicted_spam_sgb), reference = as.factor(test_spam$X1), mode = \"prec_recall\")"
   ]
  },
  {
   "cell_type": "code",
   "execution_count": 47,
   "metadata": {
    "scrolled": false
   },
   "outputs": [
    {
     "data": {
      "text/html": [
       "<table>\n",
       "<thead><tr><th scope=col>name</th><th scope=col>n</th><th scope=col>mean</th><th scope=col>sd</th><th scope=col>FBias</th><th scope=col>MAPE</th><th scope=col>RMSE</th><th scope=col>MAD</th><th scope=col>WMAPE</th></tr></thead>\n",
       "<tbody>\n",
       "\t<tr><td>First Data Set for Stochastic Gradient Boosting</td><td>721                                            </td><td>1.221914                                       </td><td>0.4158221                                      </td><td>-0.003405221                                   </td><td>0.03120666                                     </td><td>0.007469022                                    </td><td>0.04022191                                     </td><td>0.03291714                                     </td></tr>\n",
       "</tbody>\n",
       "</table>\n"
      ],
      "text/latex": [
       "\\begin{tabular}{r|lllllllll}\n",
       " name & n & mean & sd & FBias & MAPE & RMSE & MAD & WMAPE\\\\\n",
       "\\hline\n",
       "\t First Data Set for Stochastic Gradient Boosting & 721                                             & 1.221914                                        & 0.4158221                                       & -0.003405221                                    & 0.03120666                                      & 0.007469022                                     & 0.04022191                                      & 0.03291714                                     \\\\\n",
       "\\end{tabular}\n"
      ],
      "text/markdown": [
       "\n",
       "| name | n | mean | sd | FBias | MAPE | RMSE | MAD | WMAPE |\n",
       "|---|---|---|---|---|---|---|---|---|\n",
       "| First Data Set for Stochastic Gradient Boosting | 721                                             | 1.221914                                        | 0.4158221                                       | -0.003405221                                    | 0.03120666                                      | 0.007469022                                     | 0.04022191                                      | 0.03291714                                      |\n",
       "\n"
      ],
      "text/plain": [
       "  name                                            n   mean     sd       \n",
       "1 First Data Set for Stochastic Gradient Boosting 721 1.221914 0.4158221\n",
       "  FBias        MAPE       RMSE        MAD        WMAPE     \n",
       "1 -0.003405221 0.03120666 0.007469022 0.04022191 0.03291714"
      ]
     },
     "metadata": {},
     "output_type": "display_data"
    }
   ],
   "source": [
    "perf_dt(\"First Data Set for Stochastic Gradient Boosting\", as.numeric(predicted_spam_sgb), as.numeric(test_spam$X1))"
   ]
  },
  {
   "cell_type": "markdown",
   "metadata": {},
   "source": [
    "# General Result for 4 Method for Spam Results"
   ]
  },
  {
   "cell_type": "markdown",
   "metadata": {},
   "source": [
    "### Linear Regression with Penalty"
   ]
  },
  {
   "cell_type": "code",
   "execution_count": 70,
   "metadata": {},
   "outputs": [
    {
     "data": {
      "text/plain": [
       "Confusion Matrix and Statistics\n",
       "\n",
       "          Reference\n",
       "Prediction   0   1\n",
       "         0 538  33\n",
       "         1  20 130\n",
       "                                          \n",
       "               Accuracy : 0.9265          \n",
       "                 95% CI : (0.9049, 0.9445)\n",
       "    No Information Rate : 0.7739          \n",
       "    P-Value [Acc > NIR] : < 2e-16         \n",
       "                                          \n",
       "                  Kappa : 0.7838          \n",
       "                                          \n",
       " Mcnemar's Test P-Value : 0.09929         \n",
       "                                          \n",
       "              Precision : 0.9422          \n",
       "                 Recall : 0.9642          \n",
       "                     F1 : 0.9531          \n",
       "             Prevalence : 0.7739          \n",
       "         Detection Rate : 0.7462          \n",
       "   Detection Prevalence : 0.7920          \n",
       "      Balanced Accuracy : 0.8809          \n",
       "                                          \n",
       "       'Positive' Class : 0               \n",
       "                                          "
      ]
     },
     "metadata": {},
     "output_type": "display_data"
    }
   ],
   "source": [
    "lrp=confusionMatrix(data = as.factor(prediction_pra_mae_spam_min), reference = as.factor(test_spam$X1), mode = \"prec_recall\")\n",
    "lrp"
   ]
  },
  {
   "cell_type": "markdown",
   "metadata": {},
   "source": [
    "### Decision Tree"
   ]
  },
  {
   "cell_type": "code",
   "execution_count": 71,
   "metadata": {},
   "outputs": [
    {
     "data": {
      "text/plain": [
       "Confusion Matrix and Statistics\n",
       "\n",
       "          Reference\n",
       "Prediction   0   1\n",
       "         0 533  30\n",
       "         1  25 133\n",
       "                                         \n",
       "               Accuracy : 0.9237         \n",
       "                 95% CI : (0.9019, 0.942)\n",
       "    No Information Rate : 0.7739         \n",
       "    P-Value [Acc > NIR] : <2e-16         \n",
       "                                         \n",
       "                  Kappa : 0.7796         \n",
       "                                         \n",
       " Mcnemar's Test P-Value : 0.5896         \n",
       "                                         \n",
       "              Precision : 0.9467         \n",
       "                 Recall : 0.9552         \n",
       "                     F1 : 0.9509         \n",
       "             Prevalence : 0.7739         \n",
       "         Detection Rate : 0.7393         \n",
       "   Detection Prevalence : 0.7809         \n",
       "      Balanced Accuracy : 0.8856         \n",
       "                                         \n",
       "       'Positive' Class : 0              \n",
       "                                         "
      ]
     },
     "metadata": {},
     "output_type": "display_data"
    }
   ],
   "source": [
    "dtr=confusionMatrix(data = as.factor(predicted_spam), reference = as.factor(test_spam$X1), mode = \"prec_recall\")\n",
    "dtr"
   ]
  },
  {
   "cell_type": "markdown",
   "metadata": {},
   "source": [
    "### Random Forest"
   ]
  },
  {
   "cell_type": "code",
   "execution_count": 72,
   "metadata": {},
   "outputs": [
    {
     "data": {
      "text/plain": [
       "Confusion Matrix and Statistics\n",
       "\n",
       "          Reference\n",
       "Prediction   0   1\n",
       "         0 547  18\n",
       "         1  11 145\n",
       "                                          \n",
       "               Accuracy : 0.9598          \n",
       "                 95% CI : (0.9427, 0.9729)\n",
       "    No Information Rate : 0.7739          \n",
       "    P-Value [Acc > NIR] : <2e-16          \n",
       "                                          \n",
       "                  Kappa : 0.8833          \n",
       "                                          \n",
       " Mcnemar's Test P-Value : 0.2652          \n",
       "                                          \n",
       "              Precision : 0.9681          \n",
       "                 Recall : 0.9803          \n",
       "                     F1 : 0.9742          \n",
       "             Prevalence : 0.7739          \n",
       "         Detection Rate : 0.7587          \n",
       "   Detection Prevalence : 0.7836          \n",
       "      Balanced Accuracy : 0.9349          \n",
       "                                          \n",
       "       'Positive' Class : 0               \n",
       "                                          "
      ]
     },
     "metadata": {},
     "output_type": "display_data"
    }
   ],
   "source": [
    "rfr=confusionMatrix(data = as.factor(PredictRandomForest_spam), reference = as.factor(test_spam$X1), mode = \"prec_recall\")\n",
    "rfr"
   ]
  },
  {
   "cell_type": "markdown",
   "metadata": {},
   "source": [
    "### Stochastic Gradient Boosting"
   ]
  },
  {
   "cell_type": "code",
   "execution_count": 73,
   "metadata": {},
   "outputs": [
    {
     "data": {
      "text/plain": [
       "Confusion Matrix and Statistics\n",
       "\n",
       "          Reference\n",
       "Prediction   0   1\n",
       "         0 545  16\n",
       "         1  13 147\n",
       "                                          \n",
       "               Accuracy : 0.9598          \n",
       "                 95% CI : (0.9427, 0.9729)\n",
       "    No Information Rate : 0.7739          \n",
       "    P-Value [Acc > NIR] : <2e-16          \n",
       "                                          \n",
       "                  Kappa : 0.8843          \n",
       "                                          \n",
       " Mcnemar's Test P-Value : 0.7103          \n",
       "                                          \n",
       "              Precision : 0.9715          \n",
       "                 Recall : 0.9767          \n",
       "                     F1 : 0.9741          \n",
       "             Prevalence : 0.7739          \n",
       "         Detection Rate : 0.7559          \n",
       "   Detection Prevalence : 0.7781          \n",
       "      Balanced Accuracy : 0.9393          \n",
       "                                          \n",
       "       'Positive' Class : 0               \n",
       "                                          "
      ]
     },
     "metadata": {},
     "output_type": "display_data"
    }
   ],
   "source": [
    "sgbr=confusionMatrix(data = as.factor(predicted_spam_sgb), reference = as.factor(test_spam$X1), mode = \"prec_recall\")\n",
    "sgbr"
   ]
  },
  {
   "cell_type": "markdown",
   "metadata": {},
   "source": [
    "By looking the Accuracy, it can be said that best performance are optained in the Random Forest and Stochastic Gradient Boosting. Indeed, these 2 model's performance is too similar, which can be understood by looking the Precision, Recall, and F1 score of the models. The biggest difference occurs in the precision and recall values of the model. So, main objective can determine which model must be used. Moreover, performance of the other two model is also similar. Indeed decision tree's approach is more proper for classification problems. The reason behind the similarity can be explained by complexity of the models. Namely, Decision Tree's complexity is less than constructed Linear Regression with lasso, but it still has similar performance compared to the other."
   ]
  },
  {
   "cell_type": "markdown",
   "metadata": {},
   "source": [
    "# Conclusion of Models"
   ]
  },
  {
   "cell_type": "markdown",
   "metadata": {},
   "source": [
    "## Linear Regression with Penalty"
   ]
  },
  {
   "cell_type": "markdown",
   "metadata": {},
   "source": [
    "Different Penalty types are tried in the glmnet package by using mean absolute percentage error and mean square error objective. In these 2 penalty, 3 different lambdas are tried to obtain a model. In addition, all the possible lambda values are checked by plotting the cv.glmnet() results. Predictions are made based on these models. Best model performance are observed in this test dataset. After all, caret() packages are used to make a model can be comparable with other method's models. Namely, caret library is used in all the methods to obtain similar report types. Penalized Regression Approach is made with 3 different lambda values. These are lambda.min, lambda.1se, and random a lambda value achieved in the previous cv.glmnet() process. Model results are as follows:"
   ]
  },
  {
   "cell_type": "code",
   "execution_count": 74,
   "metadata": {},
   "outputs": [
    {
     "data": {
      "text/plain": [
       "glmnet \n",
       "\n",
       "2880 samples\n",
       "  57 predictor\n",
       "   2 classes: '0', '1' \n",
       "\n",
       "No pre-processing\n",
       "Resampling: Cross-Validated (10 fold, repeated 1 times) \n",
       "Summary of sample sizes: 2592, 2592, 2592, 2592, 2592, 2592, ... \n",
       "Resampling results across tuning parameters:\n",
       "\n",
       "  lambda        Accuracy   Kappa    \n",
       "  1.633465e-05  0.9309028  0.7962956\n",
       "  1.050003e-04  0.9309028  0.7960720\n",
       "  6.442722e-02  0.8225694  0.3270203\n",
       "\n",
       "Tuning parameter 'alpha' was held constant at a value of 1\n",
       "Accuracy was used to select the optimal model using the largest value.\n",
       "The final values used for the model were alpha = 1 and lambda = 0.0001050003."
      ]
     },
     "metadata": {},
     "output_type": "display_data"
    }
   ],
   "source": [
    "lm_model"
   ]
  },
  {
   "cell_type": "markdown",
   "metadata": {},
   "source": [
    "### Best Model for Penalized Regression Approach"
   ]
  },
  {
   "cell_type": "markdown",
   "metadata": {},
   "source": [
    "RMSE will be the objective parameter for evaluation of the model. In this perpective, **alpha = 1, lambda = 0.0001050003 and MAE Penalty type** is the best tuned parameter for this model for Spam Mail Dataset."
   ]
  },
  {
   "cell_type": "code",
   "execution_count": 82,
   "metadata": {},
   "outputs": [
    {
     "name": "stdout",
     "output_type": "stream",
     "text": [
      "Accuracy \n",
      "0.926491 \n"
     ]
    }
   ],
   "source": [
    "print(lrp$overall[1])"
   ]
  },
  {
   "cell_type": "markdown",
   "metadata": {},
   "source": [
    "## Decision Tree"
   ]
  },
  {
   "cell_type": "markdown",
   "metadata": {},
   "source": [
    "**6 different minbucket** values are tried to get best model for Decision Tree. However, in caret library there is no available packages for rpart for tuning the minimal number of observation per tree leaf. So for loop is tried to get information related to effects in the change of number of variable in the tree leaf. In addition, all models tested with **10 different cp value**. After looking the created model's result, the best model is selected. The best Accuracy value is selected with considering the minbucket values and cp values. Selected model evaluated 1 more time and named as tr_last. Model results are as follows:"
   ]
  },
  {
   "cell_type": "code",
   "execution_count": 86,
   "metadata": {},
   "outputs": [
    {
     "data": {
      "text/plain": [
       "CART \n",
       "\n",
       "2880 samples\n",
       "  57 predictor\n",
       "   2 classes: '0', '1' \n",
       "\n",
       "No pre-processing\n",
       "Resampling: Cross-Validated (10 fold) \n",
       "Summary of sample sizes: 2592, 2592, 2592, 2592, 2592, 2592, ... \n",
       "Resampling results across tuning parameters:\n",
       "\n",
       "  cp    Accuracy   Kappa    \n",
       "  0.00  0.9284722  0.7906848\n",
       "  0.01  0.9246528  0.7753364\n",
       "  0.02  0.9149306  0.7450010\n",
       "  0.03  0.9086806  0.7235983\n",
       "  0.04  0.9097222  0.7250175\n",
       "  0.05  0.9097222  0.7250175\n",
       "  0.06  0.9076389  0.7198955\n",
       "  0.07  0.9076389  0.7198955\n",
       "  0.08  0.9076389  0.7198955\n",
       "  0.09  0.8979167  0.6961644\n",
       "  0.10  0.8934028  0.6851602\n",
       "\n",
       "Accuracy was used to select the optimal model using the largest value.\n",
       "The final value used for the model was cp = 0."
      ]
     },
     "metadata": {},
     "output_type": "display_data"
    }
   ],
   "source": [
    "tr_last"
   ]
  },
  {
   "cell_type": "markdown",
   "metadata": {},
   "source": [
    "### Best Model for Decision Tree"
   ]
  },
  {
   "cell_type": "markdown",
   "metadata": {},
   "source": [
    "RMSE will be the objective parameter for evaluation of the model. In this perpective, **cp=0 and minbucket = 10** is the best tuned parameter for this model for Spam Mail Dataset."
   ]
  },
  {
   "cell_type": "code",
   "execution_count": 87,
   "metadata": {},
   "outputs": [
    {
     "name": "stdout",
     "output_type": "stream",
     "text": [
      " Accuracy \n",
      "0.9237171 \n"
     ]
    }
   ],
   "source": [
    "print(dtr$overall[1])"
   ]
  },
  {
   "cell_type": "markdown",
   "metadata": {},
   "source": [
    "## Random Forest"
   ]
  },
  {
   "cell_type": "markdown",
   "metadata": {},
   "source": [
    "As mentioned in the homework description, only mtry namely number of selected feature for model is modified. 4 different number is determined. Best model is achived the model with the 10 number of feature. Model results are as follows:"
   ]
  },
  {
   "cell_type": "code",
   "execution_count": 88,
   "metadata": {},
   "outputs": [
    {
     "data": {
      "text/plain": [
       "Random Forest \n",
       "\n",
       "2880 samples\n",
       "  57 predictor\n",
       "   2 classes: '0', '1' \n",
       "\n",
       "No pre-processing\n",
       "Resampling: Cross-Validated (10 fold, repeated 1 times) \n",
       "Summary of sample sizes: 2592, 2592, 2592, 2592, 2592, 2592, ... \n",
       "Resampling results across tuning parameters:\n",
       "\n",
       "  mtry  Accuracy   Kappa    \n",
       "   4    0.9475694  0.8420506\n",
       "   8    0.9538194  0.8625748\n",
       "  10    0.9545139  0.8654099\n",
       "  15    0.9527778  0.8597787\n",
       "\n",
       "Tuning parameter 'splitrule' was held constant at a value of extratrees\n",
       "\n",
       "Tuning parameter 'min.node.size' was held constant at a value of 5\n",
       "Accuracy was used to select the optimal model using the largest value.\n",
       "The final values used for the model were mtry = 10, splitrule = extratrees\n",
       " and min.node.size = 5."
      ]
     },
     "metadata": {},
     "output_type": "display_data"
    }
   ],
   "source": [
    "rf_fit"
   ]
  },
  {
   "cell_type": "markdown",
   "metadata": {},
   "source": [
    "### Best Model for Random Forest"
   ]
  },
  {
   "cell_type": "markdown",
   "metadata": {},
   "source": [
    "RMSE will be the objective parameter for evaluation of the model. In this perpective, **mtry=10** is the best tuned parameter for this model for Spam Mail Dataset."
   ]
  },
  {
   "cell_type": "code",
   "execution_count": 89,
   "metadata": {},
   "outputs": [
    {
     "name": "stdout",
     "output_type": "stream",
     "text": [
      " Accuracy \n",
      "0.9597781 \n"
     ]
    }
   ],
   "source": [
    "print(rfr$overall[1])"
   ]
  },
  {
   "cell_type": "markdown",
   "metadata": {},
   "source": [
    "## Stochastic Gradient Boosting"
   ]
  },
  {
   "cell_type": "markdown",
   "metadata": {},
   "source": [
    "**Different 5 shrinkage value, 3 interaction.depth, 5 n.trees values** are tried to obtain the best model. This model is the one which takes the most time to create the models. The reason behind this fact caused from number of tuned parameter in the approach. However, it has the best Accuracy value with Random Forest. Model results are as follows:"
   ]
  },
  {
   "cell_type": "code",
   "execution_count": 90,
   "metadata": {},
   "outputs": [
    {
     "data": {
      "text/plain": [
       "Stochastic Gradient Boosting \n",
       "\n",
       "2880 samples\n",
       "  57 predictor\n",
       "   2 classes: '0', '1' \n",
       "\n",
       "No pre-processing\n",
       "Resampling: Cross-Validated (10 fold, repeated 1 times) \n",
       "Summary of sample sizes: 2592, 2592, 2592, 2592, 2592, 2592, ... \n",
       "Resampling results across tuning parameters:\n",
       "\n",
       "  shrinkage  interaction.depth  n.trees  Accuracy   Kappa    \n",
       "  0.1        1                   50      0.9267361  0.7729207\n",
       "  0.1        1                  100      0.9416667  0.8245584\n",
       "  0.1        1                  150      0.9447917  0.8349425\n",
       "  0.1        1                  200      0.9454861  0.8373744\n",
       "  0.1        1                  250      0.9451389  0.8367385\n",
       "  0.1        3                   50      0.9454861  0.8371056\n",
       "  0.1        3                  100      0.9500000  0.8522543\n",
       "  0.1        3                  150      0.9513889  0.8565429\n",
       "  0.1        3                  200      0.9517361  0.8579397\n",
       "  0.1        3                  250      0.9552083  0.8685325\n",
       "  0.1        5                   50      0.9493056  0.8495489\n",
       "  0.1        5                  100      0.9513889  0.8567872\n",
       "  0.1        5                  150      0.9527778  0.8609011\n",
       "  0.1        5                  200      0.9548611  0.8676870\n",
       "  0.1        5                  250      0.9538194  0.8647661\n",
       "  0.3        1                   50      0.9472222  0.8425043\n",
       "  0.3        1                  100      0.9468750  0.8420356\n",
       "  0.3        1                  150      0.9475694  0.8435273\n",
       "  0.3        1                  200      0.9496528  0.8511846\n",
       "  0.3        1                  250      0.9482639  0.8464367\n",
       "  0.3        3                   50      0.9486111  0.8482189\n",
       "  0.3        3                  100      0.9510417  0.8566427\n",
       "  0.3        3                  150      0.9503472  0.8546606\n",
       "  0.3        3                  200      0.9503472  0.8542272\n",
       "  0.3        3                  250      0.9513889  0.8578558\n",
       "  0.3        5                   50      0.9538194  0.8656637\n",
       "  0.3        5                  100      0.9545139  0.8682425\n",
       "  0.3        5                  150      0.9534722  0.8652767\n",
       "  0.3        5                  200      0.9545139  0.8679997\n",
       "  0.3        5                  250      0.9534722  0.8658951\n",
       "  0.5        1                   50      0.9451389  0.8375765\n",
       "  0.5        1                  100      0.9489583  0.8486332\n",
       "  0.5        1                  150      0.9472222  0.8434787\n",
       "  0.5        1                  200      0.9461806  0.8407719\n",
       "  0.5        1                  250      0.9489583  0.8503366\n",
       "  0.5        3                   50      0.9482639  0.8473022\n",
       "  0.5        3                  100      0.9496528  0.8539205\n",
       "  0.5        3                  150      0.9510417  0.8576333\n",
       "  0.5        3                  200      0.9534722  0.8642496\n",
       "  0.5        3                  250      0.9500000  0.8545526\n",
       "  0.5        5                   50      0.9527778  0.8613930\n",
       "  0.5        5                  100      0.9541667  0.8659682\n",
       "  0.5        5                  150      0.9496528  0.8520059\n",
       "  0.5        5                  200      0.9461806  0.8435420\n",
       "  0.5        5                  250      0.9409722  0.8310891\n",
       "\n",
       "Tuning parameter 'n.minobsinnode' was held constant at a value of 20\n",
       "Accuracy was used to select the optimal model using the largest value.\n",
       "The final values used for the model were n.trees = 250, interaction.depth =\n",
       " 3, shrinkage = 0.1 and n.minobsinnode = 20."
      ]
     },
     "metadata": {},
     "output_type": "display_data"
    }
   ],
   "source": [
    "gbm_fit"
   ]
  },
  {
   "cell_type": "markdown",
   "metadata": {},
   "source": [
    "### Best Model for Stochastic Gradient Boosting"
   ]
  },
  {
   "cell_type": "markdown",
   "metadata": {},
   "source": [
    "RMSE will be the objective parameter for evaluation of the model. In this perpective, **n.trees = 250 interaction.depth =\n",
    " 3, shrinkage = 0.1 and n.minobsinnode = 20** is the best tuned parameter for this model for Spam Mail Dataset."
   ]
  },
  {
   "cell_type": "code",
   "execution_count": 92,
   "metadata": {},
   "outputs": [
    {
     "name": "stdout",
     "output_type": "stream",
     "text": [
      " Accuracy \n",
      "0.9597781 \n"
     ]
    }
   ],
   "source": [
    "print(sgbr$overall[1])"
   ]
  },
  {
   "cell_type": "markdown",
   "metadata": {},
   "source": [
    "# Comparision of Results in Training and Test Dataset"
   ]
  },
  {
   "cell_type": "code",
   "execution_count": 103,
   "metadata": {},
   "outputs": [],
   "source": [
    "train=list(\"Linear Regression with Lasso Results\"=lm_model$results$Accuracy[which.min(lm_model$results$Accuracy)],\n",
    "            \"Decision Tree Results\"=    tr_last$results$Accuracy[which.min(tr_last$results$Accuracy)],\n",
    "            \"Random Forest Results\"=    rf_fit$results$Accuracy[which.min(rf_fit$results$Accuracy)],\n",
    "            \"Result Stochastic Gradient Boosting Results\"=    gbm_fit$results$Accuracy[which.min(gbm_fit$results$Accuracy)])"
   ]
  },
  {
   "cell_type": "markdown",
   "metadata": {},
   "source": [
    "## Accuracy in The Train Dataset¶"
   ]
  },
  {
   "cell_type": "code",
   "execution_count": 104,
   "metadata": {},
   "outputs": [
    {
     "data": {
      "text/html": [
       "<table>\n",
       "<thead><tr><th scope=col>Linear Regression with Lasso Results</th><th scope=col>Decision Tree Results</th><th scope=col>Random Forest Results</th><th scope=col>Result Stochastic Gradient Boosting Results</th></tr></thead>\n",
       "<tbody>\n",
       "\t<tr><td>0.8225694</td><td>0.8934028</td><td>0.9475694</td><td>0.9267361</td></tr>\n",
       "</tbody>\n",
       "</table>\n"
      ],
      "text/latex": [
       "\\begin{tabular}{llll}\n",
       " Linear Regression with Lasso Results & Decision Tree Results & Random Forest Results & Result Stochastic Gradient Boosting Results\\\\\n",
       "\\hline\n",
       "\t 0.8225694 & 0.8934028 & 0.9475694 & 0.9267361\\\\\n",
       "\\end{tabular}\n"
      ],
      "text/markdown": [
       "\n",
       "| Linear Regression with Lasso Results | Decision Tree Results | Random Forest Results | Result Stochastic Gradient Boosting Results |\n",
       "|---|---|---|---|\n",
       "| 0.8225694 | 0.8934028 | 0.9475694 | 0.9267361 |\n",
       "\n"
      ],
      "text/plain": [
       "     Linear Regression with Lasso Results Decision Tree Results\n",
       "[1,] 0.8225694                            0.8934028            \n",
       "     Random Forest Results Result Stochastic Gradient Boosting Results\n",
       "[1,] 0.9475694             0.9267361                                  "
      ]
     },
     "metadata": {},
     "output_type": "display_data"
    }
   ],
   "source": [
    "t(train)"
   ]
  },
  {
   "cell_type": "code",
   "execution_count": 94,
   "metadata": {},
   "outputs": [],
   "source": [
    "test=list(\"Linear Regression with Lasso Results\"=lrp$overall[1],\n",
    "            \"Decision Tree Results\"=    dtr$overall[1],\n",
    "            \"Random Forest Results\"=    rfr$overall[1],\n",
    "            \"Result Stochastic Gradient Boosting Results\"=    sgbr$overall[1])"
   ]
  },
  {
   "cell_type": "markdown",
   "metadata": {},
   "source": [
    "## Accuracy in The Test Dataset"
   ]
  },
  {
   "cell_type": "code",
   "execution_count": 96,
   "metadata": {
    "scrolled": true
   },
   "outputs": [
    {
     "data": {
      "text/html": [
       "<table>\n",
       "<thead><tr><th scope=col>Linear Regression with Lasso Results</th><th scope=col>Decision Tree Results</th><th scope=col>Random Forest Results</th><th scope=col>Result Stochastic Gradient Boosting Results</th></tr></thead>\n",
       "<tbody>\n",
       "\t<tr><td>0.926491 </td><td>0.9237171</td><td>0.9597781</td><td>0.9597781</td></tr>\n",
       "</tbody>\n",
       "</table>\n"
      ],
      "text/latex": [
       "\\begin{tabular}{llll}\n",
       " Linear Regression with Lasso Results & Decision Tree Results & Random Forest Results & Result Stochastic Gradient Boosting Results\\\\\n",
       "\\hline\n",
       "\t 0.926491  & 0.9237171 & 0.9597781 & 0.9597781\\\\\n",
       "\\end{tabular}\n"
      ],
      "text/markdown": [
       "\n",
       "| Linear Regression with Lasso Results | Decision Tree Results | Random Forest Results | Result Stochastic Gradient Boosting Results |\n",
       "|---|---|---|---|\n",
       "| 0.926491  | 0.9237171 | 0.9597781 | 0.9597781 |\n",
       "\n"
      ],
      "text/plain": [
       "     Linear Regression with Lasso Results Decision Tree Results\n",
       "[1,] 0.926491                             0.9237171            \n",
       "     Random Forest Results Result Stochastic Gradient Boosting Results\n",
       "[1,] 0.9597781             0.9597781                                  "
      ]
     },
     "metadata": {},
     "output_type": "display_data"
    }
   ],
   "source": [
    "t(test)"
   ]
  },
  {
   "cell_type": "markdown",
   "metadata": {},
   "source": [
    "Models got similar performance as achieved in the training dataset. Namely, it is hard to say that there is an over-fitting or under-fitting. Spam Estimation can be described as classification problem, so having the worst performance measure both training and test data sets aren't a suprise for Linear Regression model. In addition to under/over-fitting, it can be said that error rates are consistent for both datasets, which can be observed looking the correlation between the results pf performance of the models in both dataset. However, there is still some problems related to consistency. It can be understood by looking the how much performance measure are changed between the datasets. Interestingly, all the models have more accuracy in the test dataset. However, accuracy can be bad performance measure for this type dataset(imbalance in the dataset) because by having a bias in the major part of the class, model still can get better accuracy at the end. The reason behind this fact occured from the formula of the Accuracy measurement. So, F1-Score or Recall can be more reasonable to compare the models."
   ]
  },
  {
   "cell_type": "code",
   "execution_count": null,
   "metadata": {},
   "outputs": [],
   "source": []
  }
 ],
 "metadata": {
  "kernelspec": {
   "display_name": "R",
   "language": "R",
   "name": "ir"
  },
  "language_info": {
   "codemirror_mode": "r",
   "file_extension": ".r",
   "mimetype": "text/x-r-source",
   "name": "R",
   "pygments_lexer": "r",
   "version": "3.6.1"
  }
 },
 "nbformat": 4,
 "nbformat_minor": 4
}
