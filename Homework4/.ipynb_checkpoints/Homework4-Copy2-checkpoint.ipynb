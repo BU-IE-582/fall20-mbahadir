{
 "cells": [
  {
   "cell_type": "code",
   "execution_count": 267,
   "metadata": {},
   "outputs": [],
   "source": [
    "library(data.table)\n",
    "library(glmnet)\n",
    "library(ggplot2)\n",
    "library(lubridate, quietly=TRUE)\n",
    "library(zoo, quietly = TRUE)\n",
    "library(dplyr, quietly = TRUE)\n",
    "library(GGally, quietly=TRUE)\n",
    "library(caTools)\n",
    "library(rpart)\n",
    "library(rattle)\n",
    "library(caret)\n",
    "library(e1071)\n",
    "library(randomForest)"
   ]
  },
  {
   "cell_type": "markdown",
   "metadata": {},
   "source": [
    "### Performance Function"
   ]
  },
  {
   "cell_type": "code",
   "execution_count": 124,
   "metadata": {},
   "outputs": [],
   "source": [
    "perf_dt=function(type,actual,forecast){\n",
    "    name=type\n",
    "    n=length(actual)\n",
    "    error=actual-forecast\n",
    "    mean=mean(actual)\n",
    "    sd=sd(actual)\n",
    "    FBias=sum(error)/sum(actual)\n",
    "    MPE=sum(error/actual)/n\n",
    "    MAPE=sum(abs(error/actual))/n\n",
    "    RMSE=sqrt(sum(error^2))/n\n",
    "    MAD=sum(abs(error))/n\n",
    "    WMAPE=MAD/mean\n",
    "    l=data.frame(name,n,mean,sd,FBias,MAPE,RMSE,MAD,WMAPE)\n",
    "    return(l)\n",
    "}"
   ]
  },
  {
   "cell_type": "markdown",
   "metadata": {},
   "source": [
    "# Student Performance Dataset"
   ]
  },
  {
   "cell_type": "markdown",
   "metadata": {},
   "source": [
    "### Loading Dataset"
   ]
  },
  {
   "cell_type": "code",
   "execution_count": 166,
   "metadata": {},
   "outputs": [],
   "source": [
    "std_eva=read.csv(\"turkiye-student-evaluation_R_Specific.csv\")\n",
    "std_eva=as.data.table(std_eva)"
   ]
  },
  {
   "cell_type": "code",
   "execution_count": 167,
   "metadata": {},
   "outputs": [],
   "source": [
    "std_eva$instr=as.factor(std_eva$instr)\n",
    "std_eva$class=as.factor(std_eva$class)"
   ]
  },
  {
   "cell_type": "code",
   "execution_count": 168,
   "metadata": {},
   "outputs": [
    {
     "name": "stdout",
     "output_type": "stream",
     "text": [
      "Classes 'data.table' and 'data.frame':\t5820 obs. of  33 variables:\n",
      " $ instr     : Factor w/ 3 levels \"1\",\"2\",\"3\": 1 1 1 1 1 1 1 1 1 1 ...\n",
      " $ class     : Factor w/ 13 levels \"1\",\"2\",\"3\",\"4\",..: 2 2 2 2 2 2 2 2 2 2 ...\n",
      " $ nb.repeat : int  1 1 1 1 1 1 1 1 1 1 ...\n",
      " $ attendance: int  0 1 2 1 0 3 1 1 1 4 ...\n",
      " $ difficulty: int  4 3 4 3 1 3 3 3 3 4 ...\n",
      " $ Q1        : int  3 3 5 3 1 4 4 5 4 4 ...\n",
      " $ Q2        : int  3 3 5 3 1 4 4 5 4 4 ...\n",
      " $ Q3        : int  3 3 5 3 1 4 4 5 4 4 ...\n",
      " $ Q4        : int  3 3 5 3 1 4 4 5 4 4 ...\n",
      " $ Q5        : int  3 3 5 3 1 4 4 5 4 4 ...\n",
      " $ Q6        : int  3 3 5 3 1 4 4 5 4 4 ...\n",
      " $ Q7        : int  3 3 5 3 1 4 4 5 4 4 ...\n",
      " $ Q8        : int  3 3 5 3 1 4 4 5 4 4 ...\n",
      " $ Q9        : int  3 3 5 3 1 4 4 5 4 4 ...\n",
      " $ Q10       : int  3 3 5 3 1 4 4 5 4 4 ...\n",
      " $ Q11       : int  3 3 5 3 1 4 4 5 5 4 ...\n",
      " $ Q12       : int  3 3 5 3 1 4 4 5 4 4 ...\n",
      " $ Q13       : int  3 3 5 3 1 4 4 5 4 4 ...\n",
      " $ Q14       : int  3 3 5 3 1 4 4 5 4 4 ...\n",
      " $ Q15       : int  3 3 5 3 1 4 4 5 4 4 ...\n",
      " $ Q16       : int  3 3 5 3 1 4 4 5 4 4 ...\n",
      " $ Q17       : int  3 3 5 3 1 4 4 5 4 4 ...\n",
      " $ Q18       : int  3 3 5 3 1 4 4 5 4 4 ...\n",
      " $ Q19       : int  3 3 5 3 1 4 4 5 4 4 ...\n",
      " $ Q20       : int  3 3 5 3 1 4 4 5 4 4 ...\n",
      " $ Q21       : int  3 3 5 3 1 4 4 5 4 4 ...\n",
      " $ Q22       : int  3 3 5 3 1 4 4 5 4 4 ...\n",
      " $ Q23       : int  3 3 5 3 1 4 4 5 4 4 ...\n",
      " $ Q24       : int  3 3 5 3 1 4 4 5 4 4 ...\n",
      " $ Q25       : int  3 3 5 3 1 4 4 5 4 4 ...\n",
      " $ Q26       : int  3 3 5 3 1 4 4 5 4 4 ...\n",
      " $ Q27       : int  3 3 5 3 1 4 4 5 4 4 ...\n",
      " $ Q28       : int  3 3 5 3 1 4 4 5 4 4 ...\n",
      " - attr(*, \".internal.selfref\")=<externalptr> \n"
     ]
    }
   ],
   "source": [
    "str(std_eva)"
   ]
  },
  {
   "cell_type": "code",
   "execution_count": 169,
   "metadata": {},
   "outputs": [],
   "source": [
    "set.seed(35)\n",
    "spl=sample.split(std_eva$difficulty, SplitRatio = 0.8)\n",
    "train=subset(std_eva,spl==TRUE)\n",
    "test=subset(std_eva,spl==FALSE)"
   ]
  },
  {
   "cell_type": "markdown",
   "metadata": {},
   "source": [
    "## Penalized Regression Approaches(PRA)"
   ]
  },
  {
   "cell_type": "code",
   "execution_count": 170,
   "metadata": {},
   "outputs": [],
   "source": [
    "train_mat=data.matrix(train[complete.cases(train),-c(\"difficulty\"),with=F])\n",
    "\n",
    "result_vec=as.vector(t(train[complete.cases(train),\"difficulty\"]))\n",
    "\n",
    "cvfit=cv.glmnet(train_mat,result_vec,family=\"multinomial\",nfolds = 10,type.measure=\"class\")\n",
    "\n",
    "test_mat=data.matrix(test[complete.cases(test),-c(\"difficulty\")])\n",
    "\n",
    "lasso_model <- glmnet(train_mat,result_vec, alpha = 1, lambda = cvfit$lambda.min, standardize = FALSE)"
   ]
  },
  {
   "cell_type": "code",
   "execution_count": 171,
   "metadata": {},
   "outputs": [],
   "source": [
    "predicts_hour <- predict(lasso_model, s = cvfit$lambda.min, newx = test_mat,type=\"response\")"
   ]
  },
  {
   "cell_type": "code",
   "execution_count": 172,
   "metadata": {},
   "outputs": [],
   "source": [
    "res_pr_1=data.table(actual=test$difficulty,\n",
    "                   prediction_val=round(predicts_hour+0.5))\n",
    "setnames(res_pr_1, \"prediction_val.1\", \"prediction\")"
   ]
  },
  {
   "cell_type": "code",
   "execution_count": 173,
   "metadata": {},
   "outputs": [
    {
     "data": {
      "text/html": [
       "<table>\n",
       "<thead><tr><th scope=col>name</th><th scope=col>n</th><th scope=col>mean</th><th scope=col>sd</th><th scope=col>FBias</th><th scope=col>MAPE</th><th scope=col>RMSE</th><th scope=col>MAD</th><th scope=col>WMAPE</th></tr></thead>\n",
       "<tbody>\n",
       "\t<tr><td>First Data Set for Lasso Function</td><td>1164                             </td><td>2.782646                         </td><td>1.348866                         </td><td>-0.1960482                       </td><td>0.6912085                        </td><td>0.0401948                        </td><td>1.079897                         </td><td>0.3880827                        </td></tr>\n",
       "</tbody>\n",
       "</table>\n"
      ],
      "text/latex": [
       "\\begin{tabular}{r|lllllllll}\n",
       " name & n & mean & sd & FBias & MAPE & RMSE & MAD & WMAPE\\\\\n",
       "\\hline\n",
       "\t First Data Set for Lasso Function & 1164                              & 2.782646                          & 1.348866                          & -0.1960482                        & 0.6912085                         & 0.0401948                         & 1.079897                          & 0.3880827                        \\\\\n",
       "\\end{tabular}\n"
      ],
      "text/markdown": [
       "\n",
       "| name | n | mean | sd | FBias | MAPE | RMSE | MAD | WMAPE |\n",
       "|---|---|---|---|---|---|---|---|---|\n",
       "| First Data Set for Lasso Function | 1164                              | 2.782646                          | 1.348866                          | -0.1960482                        | 0.6912085                         | 0.0401948                         | 1.079897                          | 0.3880827                         |\n",
       "\n"
      ],
      "text/plain": [
       "  name                              n    mean     sd       FBias      MAPE     \n",
       "1 First Data Set for Lasso Function 1164 2.782646 1.348866 -0.1960482 0.6912085\n",
       "  RMSE      MAD      WMAPE    \n",
       "1 0.0401948 1.079897 0.3880827"
      ]
     },
     "metadata": {},
     "output_type": "display_data"
    }
   ],
   "source": [
    "perf_dt(\"First Data Set for Lasso Function\", as.numeric(res_pr_1$actual), res_pr_1$prediction)"
   ]
  },
  {
   "cell_type": "markdown",
   "metadata": {},
   "source": [
    "## Decision Tree(DT)"
   ]
  },
  {
   "cell_type": "code",
   "execution_count": 175,
   "metadata": {},
   "outputs": [
    {
     "data": {
      "text/html": [
       "<dl class=dl-horizontal>\n",
       "\t<dt>attendance</dt>\n",
       "\t\t<dd>519.073230534664</dd>\n",
       "\t<dt>class</dt>\n",
       "\t\t<dd>66.3797501175982</dd>\n",
       "\t<dt>Q17</dt>\n",
       "\t\t<dd>31.7123697944968</dd>\n",
       "\t<dt>Q25</dt>\n",
       "\t\t<dd>24.0092504025806</dd>\n",
       "\t<dt>Q14</dt>\n",
       "\t\t<dd>21.3039827515856</dd>\n",
       "\t<dt>Q15</dt>\n",
       "\t\t<dd>20.6276658388369</dd>\n",
       "\t<dt>Q3</dt>\n",
       "\t\t<dd>20.2895073824625</dd>\n",
       "\t<dt>Q10</dt>\n",
       "\t\t<dd>18.1626642269832</dd>\n",
       "\t<dt>instr</dt>\n",
       "\t\t<dd>15.5669562395413</dd>\n",
       "\t<dt>Q7</dt>\n",
       "\t\t<dd>10.7572861086854</dd>\n",
       "\t<dt>Q24</dt>\n",
       "\t\t<dd>10.6793347600717</dd>\n",
       "\t<dt>Q8</dt>\n",
       "\t\t<dd>10.601383411458</dd>\n",
       "\t<dt>Q26</dt>\n",
       "\t\t<dd>10.5234320628444</dd>\n",
       "\t<dt>Q9</dt>\n",
       "\t\t<dd>10.2116266683897</dd>\n",
       "\t<dt>Q11</dt>\n",
       "\t\t<dd>0.589298080225845</dd>\n",
       "\t<dt>Q21</dt>\n",
       "\t\t<dd>0.41871179384468</dd>\n",
       "\t<dt>Q22</dt>\n",
       "\t\t<dd>0.201601974814104</dd>\n",
       "</dl>\n"
      ],
      "text/latex": [
       "\\begin{description*}\n",
       "\\item[attendance] 519.073230534664\n",
       "\\item[class] 66.3797501175982\n",
       "\\item[Q17] 31.7123697944968\n",
       "\\item[Q25] 24.0092504025806\n",
       "\\item[Q14] 21.3039827515856\n",
       "\\item[Q15] 20.6276658388369\n",
       "\\item[Q3] 20.2895073824625\n",
       "\\item[Q10] 18.1626642269832\n",
       "\\item[instr] 15.5669562395413\n",
       "\\item[Q7] 10.7572861086854\n",
       "\\item[Q24] 10.6793347600717\n",
       "\\item[Q8] 10.601383411458\n",
       "\\item[Q26] 10.5234320628444\n",
       "\\item[Q9] 10.2116266683897\n",
       "\\item[Q11] 0.589298080225845\n",
       "\\item[Q21] 0.41871179384468\n",
       "\\item[Q22] 0.201601974814104\n",
       "\\end{description*}\n"
      ],
      "text/markdown": [
       "attendance\n",
       ":   519.073230534664class\n",
       ":   66.3797501175982Q17\n",
       ":   31.7123697944968Q25\n",
       ":   24.0092504025806Q14\n",
       ":   21.3039827515856Q15\n",
       ":   20.6276658388369Q3\n",
       ":   20.2895073824625Q10\n",
       ":   18.1626642269832instr\n",
       ":   15.5669562395413Q7\n",
       ":   10.7572861086854Q24\n",
       ":   10.6793347600717Q8\n",
       ":   10.601383411458Q26\n",
       ":   10.5234320628444Q9\n",
       ":   10.2116266683897Q11\n",
       ":   0.589298080225845Q21\n",
       ":   0.41871179384468Q22\n",
       ":   0.201601974814104\n",
       "\n"
      ],
      "text/plain": [
       " attendance       class         Q17         Q25         Q14         Q15 \n",
       "519.0732305  66.3797501  31.7123698  24.0092504  21.3039828  20.6276658 \n",
       "         Q3         Q10       instr          Q7         Q24          Q8 \n",
       " 20.2895074  18.1626642  15.5669562  10.7572861  10.6793348  10.6013834 \n",
       "        Q26          Q9         Q11         Q21         Q22 \n",
       " 10.5234321  10.2116267   0.5892981   0.4187118   0.2016020 "
      ]
     },
     "metadata": {},
     "output_type": "display_data"
    },
    {
     "data": {
      "image/png": "[encoded data removed]",
      "text/plain": [
       "Plot with title \"\""
      ]
     },
     "metadata": {},
     "output_type": "display_data"
    }
   ],
   "source": [
    "reg_tree_std=rpart(difficulty~.,train,method='class',minbucket=100)\n",
    "fancyRpartPlot(reg_tree_std)\n",
    "reg_tree_std$variable.importance"
   ]
  },
  {
   "cell_type": "code",
   "execution_count": 164,
   "metadata": {},
   "outputs": [],
   "source": [
    "predicted_std=predict(reg_tree_std,newdata=test,type=\"class\")"
   ]
  },
  {
   "cell_type": "markdown",
   "metadata": {},
   "source": [
    "### Performanca Measure"
   ]
  },
  {
   "cell_type": "code",
   "execution_count": 165,
   "metadata": {},
   "outputs": [
    {
     "data": {
      "text/html": [
       "<table>\n",
       "<thead><tr><th scope=col>1</th><th scope=col>2</th><th scope=col>3</th><th scope=col>4</th><th scope=col>5</th></tr></thead>\n",
       "<tbody>\n",
       "\t<tr><td>0.69055375</td><td>0.05537459</td><td>0.1179153 </td><td>0.07882736</td><td>0.05732899</td></tr>\n",
       "\t<tr><td>0.05285868</td><td>0.09600863</td><td>0.4163970 </td><td>0.34088457</td><td>0.09385113</td></tr>\n",
       "\t<tr><td>0.05285868</td><td>0.09600863</td><td>0.4163970 </td><td>0.34088457</td><td>0.09385113</td></tr>\n",
       "\t<tr><td>0.05285868</td><td>0.09600863</td><td>0.4163970 </td><td>0.34088457</td><td>0.09385113</td></tr>\n",
       "\t<tr><td>0.05285868</td><td>0.09600863</td><td>0.4163970 </td><td>0.34088457</td><td>0.09385113</td></tr>\n",
       "\t<tr><td>0.05285868</td><td>0.09600863</td><td>0.4163970 </td><td>0.34088457</td><td>0.09385113</td></tr>\n",
       "\t<tr><td>0.69055375</td><td>0.05537459</td><td>0.1179153 </td><td>0.07882736</td><td>0.05732899</td></tr>\n",
       "\t<tr><td>0.05285868</td><td>0.09600863</td><td>0.4163970 </td><td>0.34088457</td><td>0.09385113</td></tr>\n",
       "\t<tr><td>0.05285868</td><td>0.09600863</td><td>0.4163970 </td><td>0.34088457</td><td>0.09385113</td></tr>\n",
       "\t<tr><td>0.05285868</td><td>0.09600863</td><td>0.4163970 </td><td>0.34088457</td><td>0.09385113</td></tr>\n",
       "\t<tr><td>0.05285868</td><td>0.09600863</td><td>0.4163970 </td><td>0.34088457</td><td>0.09385113</td></tr>\n",
       "\t<tr><td>0.05285868</td><td>0.09600863</td><td>0.4163970 </td><td>0.34088457</td><td>0.09385113</td></tr>\n",
       "\t<tr><td>0.05285868</td><td>0.09600863</td><td>0.4163970 </td><td>0.34088457</td><td>0.09385113</td></tr>\n",
       "\t<tr><td>0.05285868</td><td>0.09600863</td><td>0.4163970 </td><td>0.34088457</td><td>0.09385113</td></tr>\n",
       "\t<tr><td>0.05285868</td><td>0.09600863</td><td>0.4163970 </td><td>0.34088457</td><td>0.09385113</td></tr>\n",
       "\t<tr><td>0.05285868</td><td>0.09600863</td><td>0.4163970 </td><td>0.34088457</td><td>0.09385113</td></tr>\n",
       "\t<tr><td>0.05285868</td><td>0.09600863</td><td>0.4163970 </td><td>0.34088457</td><td>0.09385113</td></tr>\n",
       "\t<tr><td>0.05285868</td><td>0.09600863</td><td>0.4163970 </td><td>0.34088457</td><td>0.09385113</td></tr>\n",
       "\t<tr><td>0.05285868</td><td>0.09600863</td><td>0.4163970 </td><td>0.34088457</td><td>0.09385113</td></tr>\n",
       "\t<tr><td>0.05285868</td><td>0.09600863</td><td>0.4163970 </td><td>0.34088457</td><td>0.09385113</td></tr>\n",
       "\t<tr><td>0.69055375</td><td>0.05537459</td><td>0.1179153 </td><td>0.07882736</td><td>0.05732899</td></tr>\n",
       "\t<tr><td>0.05285868</td><td>0.09600863</td><td>0.4163970 </td><td>0.34088457</td><td>0.09385113</td></tr>\n",
       "\t<tr><td>0.05285868</td><td>0.09600863</td><td>0.4163970 </td><td>0.34088457</td><td>0.09385113</td></tr>\n",
       "\t<tr><td>0.69055375</td><td>0.05537459</td><td>0.1179153 </td><td>0.07882736</td><td>0.05732899</td></tr>\n",
       "\t<tr><td>0.05285868</td><td>0.09600863</td><td>0.4163970 </td><td>0.34088457</td><td>0.09385113</td></tr>\n",
       "\t<tr><td>0.05285868</td><td>0.09600863</td><td>0.4163970 </td><td>0.34088457</td><td>0.09385113</td></tr>\n",
       "\t<tr><td>0.69055375</td><td>0.05537459</td><td>0.1179153 </td><td>0.07882736</td><td>0.05732899</td></tr>\n",
       "\t<tr><td>0.69055375</td><td>0.05537459</td><td>0.1179153 </td><td>0.07882736</td><td>0.05732899</td></tr>\n",
       "\t<tr><td>0.07547170</td><td>0.04905660</td><td>0.2981132 </td><td>0.38113208</td><td>0.19622642</td></tr>\n",
       "\t<tr><td>0.07547170</td><td>0.04905660</td><td>0.2981132 </td><td>0.38113208</td><td>0.19622642</td></tr>\n",
       "\t<tr><td>...</td><td>...</td><td>...</td><td>...</td><td>...</td></tr>\n",
       "\t<tr><td>0.08662093</td><td>0.18524871</td><td>0.4819897 </td><td>0.15694683</td><td>0.08919383</td></tr>\n",
       "\t<tr><td>0.08662093</td><td>0.18524871</td><td>0.4819897 </td><td>0.15694683</td><td>0.08919383</td></tr>\n",
       "\t<tr><td>0.08662093</td><td>0.18524871</td><td>0.4819897 </td><td>0.15694683</td><td>0.08919383</td></tr>\n",
       "\t<tr><td>0.69055375</td><td>0.05537459</td><td>0.1179153 </td><td>0.07882736</td><td>0.05732899</td></tr>\n",
       "\t<tr><td>0.08662093</td><td>0.18524871</td><td>0.4819897 </td><td>0.15694683</td><td>0.08919383</td></tr>\n",
       "\t<tr><td>0.69055375</td><td>0.05537459</td><td>0.1179153 </td><td>0.07882736</td><td>0.05732899</td></tr>\n",
       "\t<tr><td>0.69055375</td><td>0.05537459</td><td>0.1179153 </td><td>0.07882736</td><td>0.05732899</td></tr>\n",
       "\t<tr><td>0.69055375</td><td>0.05537459</td><td>0.1179153 </td><td>0.07882736</td><td>0.05732899</td></tr>\n",
       "\t<tr><td>0.08662093</td><td>0.18524871</td><td>0.4819897 </td><td>0.15694683</td><td>0.08919383</td></tr>\n",
       "\t<tr><td>0.69055375</td><td>0.05537459</td><td>0.1179153 </td><td>0.07882736</td><td>0.05732899</td></tr>\n",
       "\t<tr><td>0.08662093</td><td>0.18524871</td><td>0.4819897 </td><td>0.15694683</td><td>0.08919383</td></tr>\n",
       "\t<tr><td>0.69055375</td><td>0.05537459</td><td>0.1179153 </td><td>0.07882736</td><td>0.05732899</td></tr>\n",
       "\t<tr><td>0.08662093</td><td>0.18524871</td><td>0.4819897 </td><td>0.15694683</td><td>0.08919383</td></tr>\n",
       "\t<tr><td>0.08662093</td><td>0.18524871</td><td>0.4819897 </td><td>0.15694683</td><td>0.08919383</td></tr>\n",
       "\t<tr><td>0.08662093</td><td>0.18524871</td><td>0.4819897 </td><td>0.15694683</td><td>0.08919383</td></tr>\n",
       "\t<tr><td>0.08662093</td><td>0.18524871</td><td>0.4819897 </td><td>0.15694683</td><td>0.08919383</td></tr>\n",
       "\t<tr><td>0.08662093</td><td>0.18524871</td><td>0.4819897 </td><td>0.15694683</td><td>0.08919383</td></tr>\n",
       "\t<tr><td>0.69055375</td><td>0.05537459</td><td>0.1179153 </td><td>0.07882736</td><td>0.05732899</td></tr>\n",
       "\t<tr><td>0.08662093</td><td>0.18524871</td><td>0.4819897 </td><td>0.15694683</td><td>0.08919383</td></tr>\n",
       "\t<tr><td>0.08662093</td><td>0.18524871</td><td>0.4819897 </td><td>0.15694683</td><td>0.08919383</td></tr>\n",
       "\t<tr><td>0.08662093</td><td>0.18524871</td><td>0.4819897 </td><td>0.15694683</td><td>0.08919383</td></tr>\n",
       "\t<tr><td>0.08662093</td><td>0.18524871</td><td>0.4819897 </td><td>0.15694683</td><td>0.08919383</td></tr>\n",
       "\t<tr><td>0.69055375</td><td>0.05537459</td><td>0.1179153 </td><td>0.07882736</td><td>0.05732899</td></tr>\n",
       "\t<tr><td>0.08662093</td><td>0.18524871</td><td>0.4819897 </td><td>0.15694683</td><td>0.08919383</td></tr>\n",
       "\t<tr><td>0.69055375</td><td>0.05537459</td><td>0.1179153 </td><td>0.07882736</td><td>0.05732899</td></tr>\n",
       "\t<tr><td>0.08662093</td><td>0.18524871</td><td>0.4819897 </td><td>0.15694683</td><td>0.08919383</td></tr>\n",
       "\t<tr><td>0.08662093</td><td>0.18524871</td><td>0.4819897 </td><td>0.15694683</td><td>0.08919383</td></tr>\n",
       "\t<tr><td>0.08662093</td><td>0.18524871</td><td>0.4819897 </td><td>0.15694683</td><td>0.08919383</td></tr>\n",
       "\t<tr><td>0.08662093</td><td>0.18524871</td><td>0.4819897 </td><td>0.15694683</td><td>0.08919383</td></tr>\n",
       "\t<tr><td>0.08662093</td><td>0.18524871</td><td>0.4819897 </td><td>0.15694683</td><td>0.08919383</td></tr>\n",
       "</tbody>\n",
       "</table>\n"
      ],
      "text/latex": [
       "\\begin{tabular}{r|lllll}\n",
       " 1 & 2 & 3 & 4 & 5\\\\\n",
       "\\hline\n",
       "\t 0.69055375 & 0.05537459 & 0.1179153  & 0.07882736 & 0.05732899\\\\\n",
       "\t 0.05285868 & 0.09600863 & 0.4163970  & 0.34088457 & 0.09385113\\\\\n",
       "\t 0.05285868 & 0.09600863 & 0.4163970  & 0.34088457 & 0.09385113\\\\\n",
       "\t 0.05285868 & 0.09600863 & 0.4163970  & 0.34088457 & 0.09385113\\\\\n",
       "\t 0.05285868 & 0.09600863 & 0.4163970  & 0.34088457 & 0.09385113\\\\\n",
       "\t 0.05285868 & 0.09600863 & 0.4163970  & 0.34088457 & 0.09385113\\\\\n",
       "\t 0.69055375 & 0.05537459 & 0.1179153  & 0.07882736 & 0.05732899\\\\\n",
       "\t 0.05285868 & 0.09600863 & 0.4163970  & 0.34088457 & 0.09385113\\\\\n",
       "\t 0.05285868 & 0.09600863 & 0.4163970  & 0.34088457 & 0.09385113\\\\\n",
       "\t 0.05285868 & 0.09600863 & 0.4163970  & 0.34088457 & 0.09385113\\\\\n",
       "\t 0.05285868 & 0.09600863 & 0.4163970  & 0.34088457 & 0.09385113\\\\\n",
       "\t 0.05285868 & 0.09600863 & 0.4163970  & 0.34088457 & 0.09385113\\\\\n",
       "\t 0.05285868 & 0.09600863 & 0.4163970  & 0.34088457 & 0.09385113\\\\\n",
       "\t 0.05285868 & 0.09600863 & 0.4163970  & 0.34088457 & 0.09385113\\\\\n",
       "\t 0.05285868 & 0.09600863 & 0.4163970  & 0.34088457 & 0.09385113\\\\\n",
       "\t 0.05285868 & 0.09600863 & 0.4163970  & 0.34088457 & 0.09385113\\\\\n",
       "\t 0.05285868 & 0.09600863 & 0.4163970  & 0.34088457 & 0.09385113\\\\\n",
       "\t 0.05285868 & 0.09600863 & 0.4163970  & 0.34088457 & 0.09385113\\\\\n",
       "\t 0.05285868 & 0.09600863 & 0.4163970  & 0.34088457 & 0.09385113\\\\\n",
       "\t 0.05285868 & 0.09600863 & 0.4163970  & 0.34088457 & 0.09385113\\\\\n",
       "\t 0.69055375 & 0.05537459 & 0.1179153  & 0.07882736 & 0.05732899\\\\\n",
       "\t 0.05285868 & 0.09600863 & 0.4163970  & 0.34088457 & 0.09385113\\\\\n",
       "\t 0.05285868 & 0.09600863 & 0.4163970  & 0.34088457 & 0.09385113\\\\\n",
       "\t 0.69055375 & 0.05537459 & 0.1179153  & 0.07882736 & 0.05732899\\\\\n",
       "\t 0.05285868 & 0.09600863 & 0.4163970  & 0.34088457 & 0.09385113\\\\\n",
       "\t 0.05285868 & 0.09600863 & 0.4163970  & 0.34088457 & 0.09385113\\\\\n",
       "\t 0.69055375 & 0.05537459 & 0.1179153  & 0.07882736 & 0.05732899\\\\\n",
       "\t 0.69055375 & 0.05537459 & 0.1179153  & 0.07882736 & 0.05732899\\\\\n",
       "\t 0.07547170 & 0.04905660 & 0.2981132  & 0.38113208 & 0.19622642\\\\\n",
       "\t 0.07547170 & 0.04905660 & 0.2981132  & 0.38113208 & 0.19622642\\\\\n",
       "\t ... & ... & ... & ... & ...\\\\\n",
       "\t 0.08662093 & 0.18524871 & 0.4819897  & 0.15694683 & 0.08919383\\\\\n",
       "\t 0.08662093 & 0.18524871 & 0.4819897  & 0.15694683 & 0.08919383\\\\\n",
       "\t 0.08662093 & 0.18524871 & 0.4819897  & 0.15694683 & 0.08919383\\\\\n",
       "\t 0.69055375 & 0.05537459 & 0.1179153  & 0.07882736 & 0.05732899\\\\\n",
       "\t 0.08662093 & 0.18524871 & 0.4819897  & 0.15694683 & 0.08919383\\\\\n",
       "\t 0.69055375 & 0.05537459 & 0.1179153  & 0.07882736 & 0.05732899\\\\\n",
       "\t 0.69055375 & 0.05537459 & 0.1179153  & 0.07882736 & 0.05732899\\\\\n",
       "\t 0.69055375 & 0.05537459 & 0.1179153  & 0.07882736 & 0.05732899\\\\\n",
       "\t 0.08662093 & 0.18524871 & 0.4819897  & 0.15694683 & 0.08919383\\\\\n",
       "\t 0.69055375 & 0.05537459 & 0.1179153  & 0.07882736 & 0.05732899\\\\\n",
       "\t 0.08662093 & 0.18524871 & 0.4819897  & 0.15694683 & 0.08919383\\\\\n",
       "\t 0.69055375 & 0.05537459 & 0.1179153  & 0.07882736 & 0.05732899\\\\\n",
       "\t 0.08662093 & 0.18524871 & 0.4819897  & 0.15694683 & 0.08919383\\\\\n",
       "\t 0.08662093 & 0.18524871 & 0.4819897  & 0.15694683 & 0.08919383\\\\\n",
       "\t 0.08662093 & 0.18524871 & 0.4819897  & 0.15694683 & 0.08919383\\\\\n",
       "\t 0.08662093 & 0.18524871 & 0.4819897  & 0.15694683 & 0.08919383\\\\\n",
       "\t 0.08662093 & 0.18524871 & 0.4819897  & 0.15694683 & 0.08919383\\\\\n",
       "\t 0.69055375 & 0.05537459 & 0.1179153  & 0.07882736 & 0.05732899\\\\\n",
       "\t 0.08662093 & 0.18524871 & 0.4819897  & 0.15694683 & 0.08919383\\\\\n",
       "\t 0.08662093 & 0.18524871 & 0.4819897  & 0.15694683 & 0.08919383\\\\\n",
       "\t 0.08662093 & 0.18524871 & 0.4819897  & 0.15694683 & 0.08919383\\\\\n",
       "\t 0.08662093 & 0.18524871 & 0.4819897  & 0.15694683 & 0.08919383\\\\\n",
       "\t 0.69055375 & 0.05537459 & 0.1179153  & 0.07882736 & 0.05732899\\\\\n",
       "\t 0.08662093 & 0.18524871 & 0.4819897  & 0.15694683 & 0.08919383\\\\\n",
       "\t 0.69055375 & 0.05537459 & 0.1179153  & 0.07882736 & 0.05732899\\\\\n",
       "\t 0.08662093 & 0.18524871 & 0.4819897  & 0.15694683 & 0.08919383\\\\\n",
       "\t 0.08662093 & 0.18524871 & 0.4819897  & 0.15694683 & 0.08919383\\\\\n",
       "\t 0.08662093 & 0.18524871 & 0.4819897  & 0.15694683 & 0.08919383\\\\\n",
       "\t 0.08662093 & 0.18524871 & 0.4819897  & 0.15694683 & 0.08919383\\\\\n",
       "\t 0.08662093 & 0.18524871 & 0.4819897  & 0.15694683 & 0.08919383\\\\\n",
       "\\end{tabular}\n"
      ],
      "text/markdown": [
       "\n",
       "| 1 | 2 | 3 | 4 | 5 |\n",
       "|---|---|---|---|---|\n",
       "| 0.69055375 | 0.05537459 | 0.1179153  | 0.07882736 | 0.05732899 |\n",
       "| 0.05285868 | 0.09600863 | 0.4163970  | 0.34088457 | 0.09385113 |\n",
       "| 0.05285868 | 0.09600863 | 0.4163970  | 0.34088457 | 0.09385113 |\n",
       "| 0.05285868 | 0.09600863 | 0.4163970  | 0.34088457 | 0.09385113 |\n",
       "| 0.05285868 | 0.09600863 | 0.4163970  | 0.34088457 | 0.09385113 |\n",
       "| 0.05285868 | 0.09600863 | 0.4163970  | 0.34088457 | 0.09385113 |\n",
       "| 0.69055375 | 0.05537459 | 0.1179153  | 0.07882736 | 0.05732899 |\n",
       "| 0.05285868 | 0.09600863 | 0.4163970  | 0.34088457 | 0.09385113 |\n",
       "| 0.05285868 | 0.09600863 | 0.4163970  | 0.34088457 | 0.09385113 |\n",
       "| 0.05285868 | 0.09600863 | 0.4163970  | 0.34088457 | 0.09385113 |\n",
       "| 0.05285868 | 0.09600863 | 0.4163970  | 0.34088457 | 0.09385113 |\n",
       "| 0.05285868 | 0.09600863 | 0.4163970  | 0.34088457 | 0.09385113 |\n",
       "| 0.05285868 | 0.09600863 | 0.4163970  | 0.34088457 | 0.09385113 |\n",
       "| 0.05285868 | 0.09600863 | 0.4163970  | 0.34088457 | 0.09385113 |\n",
       "| 0.05285868 | 0.09600863 | 0.4163970  | 0.34088457 | 0.09385113 |\n",
       "| 0.05285868 | 0.09600863 | 0.4163970  | 0.34088457 | 0.09385113 |\n",
       "| 0.05285868 | 0.09600863 | 0.4163970  | 0.34088457 | 0.09385113 |\n",
       "| 0.05285868 | 0.09600863 | 0.4163970  | 0.34088457 | 0.09385113 |\n",
       "| 0.05285868 | 0.09600863 | 0.4163970  | 0.34088457 | 0.09385113 |\n",
       "| 0.05285868 | 0.09600863 | 0.4163970  | 0.34088457 | 0.09385113 |\n",
       "| 0.69055375 | 0.05537459 | 0.1179153  | 0.07882736 | 0.05732899 |\n",
       "| 0.05285868 | 0.09600863 | 0.4163970  | 0.34088457 | 0.09385113 |\n",
       "| 0.05285868 | 0.09600863 | 0.4163970  | 0.34088457 | 0.09385113 |\n",
       "| 0.69055375 | 0.05537459 | 0.1179153  | 0.07882736 | 0.05732899 |\n",
       "| 0.05285868 | 0.09600863 | 0.4163970  | 0.34088457 | 0.09385113 |\n",
       "| 0.05285868 | 0.09600863 | 0.4163970  | 0.34088457 | 0.09385113 |\n",
       "| 0.69055375 | 0.05537459 | 0.1179153  | 0.07882736 | 0.05732899 |\n",
       "| 0.69055375 | 0.05537459 | 0.1179153  | 0.07882736 | 0.05732899 |\n",
       "| 0.07547170 | 0.04905660 | 0.2981132  | 0.38113208 | 0.19622642 |\n",
       "| 0.07547170 | 0.04905660 | 0.2981132  | 0.38113208 | 0.19622642 |\n",
       "| ... | ... | ... | ... | ... |\n",
       "| 0.08662093 | 0.18524871 | 0.4819897  | 0.15694683 | 0.08919383 |\n",
       "| 0.08662093 | 0.18524871 | 0.4819897  | 0.15694683 | 0.08919383 |\n",
       "| 0.08662093 | 0.18524871 | 0.4819897  | 0.15694683 | 0.08919383 |\n",
       "| 0.69055375 | 0.05537459 | 0.1179153  | 0.07882736 | 0.05732899 |\n",
       "| 0.08662093 | 0.18524871 | 0.4819897  | 0.15694683 | 0.08919383 |\n",
       "| 0.69055375 | 0.05537459 | 0.1179153  | 0.07882736 | 0.05732899 |\n",
       "| 0.69055375 | 0.05537459 | 0.1179153  | 0.07882736 | 0.05732899 |\n",
       "| 0.69055375 | 0.05537459 | 0.1179153  | 0.07882736 | 0.05732899 |\n",
       "| 0.08662093 | 0.18524871 | 0.4819897  | 0.15694683 | 0.08919383 |\n",
       "| 0.69055375 | 0.05537459 | 0.1179153  | 0.07882736 | 0.05732899 |\n",
       "| 0.08662093 | 0.18524871 | 0.4819897  | 0.15694683 | 0.08919383 |\n",
       "| 0.69055375 | 0.05537459 | 0.1179153  | 0.07882736 | 0.05732899 |\n",
       "| 0.08662093 | 0.18524871 | 0.4819897  | 0.15694683 | 0.08919383 |\n",
       "| 0.08662093 | 0.18524871 | 0.4819897  | 0.15694683 | 0.08919383 |\n",
       "| 0.08662093 | 0.18524871 | 0.4819897  | 0.15694683 | 0.08919383 |\n",
       "| 0.08662093 | 0.18524871 | 0.4819897  | 0.15694683 | 0.08919383 |\n",
       "| 0.08662093 | 0.18524871 | 0.4819897  | 0.15694683 | 0.08919383 |\n",
       "| 0.69055375 | 0.05537459 | 0.1179153  | 0.07882736 | 0.05732899 |\n",
       "| 0.08662093 | 0.18524871 | 0.4819897  | 0.15694683 | 0.08919383 |\n",
       "| 0.08662093 | 0.18524871 | 0.4819897  | 0.15694683 | 0.08919383 |\n",
       "| 0.08662093 | 0.18524871 | 0.4819897  | 0.15694683 | 0.08919383 |\n",
       "| 0.08662093 | 0.18524871 | 0.4819897  | 0.15694683 | 0.08919383 |\n",
       "| 0.69055375 | 0.05537459 | 0.1179153  | 0.07882736 | 0.05732899 |\n",
       "| 0.08662093 | 0.18524871 | 0.4819897  | 0.15694683 | 0.08919383 |\n",
       "| 0.69055375 | 0.05537459 | 0.1179153  | 0.07882736 | 0.05732899 |\n",
       "| 0.08662093 | 0.18524871 | 0.4819897  | 0.15694683 | 0.08919383 |\n",
       "| 0.08662093 | 0.18524871 | 0.4819897  | 0.15694683 | 0.08919383 |\n",
       "| 0.08662093 | 0.18524871 | 0.4819897  | 0.15694683 | 0.08919383 |\n",
       "| 0.08662093 | 0.18524871 | 0.4819897  | 0.15694683 | 0.08919383 |\n",
       "| 0.08662093 | 0.18524871 | 0.4819897  | 0.15694683 | 0.08919383 |\n",
       "\n"
      ],
      "text/plain": [
       "     1          2          3         4          5         \n",
       "1    0.69055375 0.05537459 0.1179153 0.07882736 0.05732899\n",
       "2    0.05285868 0.09600863 0.4163970 0.34088457 0.09385113\n",
       "3    0.05285868 0.09600863 0.4163970 0.34088457 0.09385113\n",
       "4    0.05285868 0.09600863 0.4163970 0.34088457 0.09385113\n",
       "5    0.05285868 0.09600863 0.4163970 0.34088457 0.09385113\n",
       "6    0.05285868 0.09600863 0.4163970 0.34088457 0.09385113\n",
       "7    0.69055375 0.05537459 0.1179153 0.07882736 0.05732899\n",
       "8    0.05285868 0.09600863 0.4163970 0.34088457 0.09385113\n",
       "9    0.05285868 0.09600863 0.4163970 0.34088457 0.09385113\n",
       "10   0.05285868 0.09600863 0.4163970 0.34088457 0.09385113\n",
       "11   0.05285868 0.09600863 0.4163970 0.34088457 0.09385113\n",
       "12   0.05285868 0.09600863 0.4163970 0.34088457 0.09385113\n",
       "13   0.05285868 0.09600863 0.4163970 0.34088457 0.09385113\n",
       "14   0.05285868 0.09600863 0.4163970 0.34088457 0.09385113\n",
       "15   0.05285868 0.09600863 0.4163970 0.34088457 0.09385113\n",
       "16   0.05285868 0.09600863 0.4163970 0.34088457 0.09385113\n",
       "17   0.05285868 0.09600863 0.4163970 0.34088457 0.09385113\n",
       "18   0.05285868 0.09600863 0.4163970 0.34088457 0.09385113\n",
       "19   0.05285868 0.09600863 0.4163970 0.34088457 0.09385113\n",
       "20   0.05285868 0.09600863 0.4163970 0.34088457 0.09385113\n",
       "21   0.69055375 0.05537459 0.1179153 0.07882736 0.05732899\n",
       "22   0.05285868 0.09600863 0.4163970 0.34088457 0.09385113\n",
       "23   0.05285868 0.09600863 0.4163970 0.34088457 0.09385113\n",
       "24   0.69055375 0.05537459 0.1179153 0.07882736 0.05732899\n",
       "25   0.05285868 0.09600863 0.4163970 0.34088457 0.09385113\n",
       "26   0.05285868 0.09600863 0.4163970 0.34088457 0.09385113\n",
       "27   0.69055375 0.05537459 0.1179153 0.07882736 0.05732899\n",
       "28   0.69055375 0.05537459 0.1179153 0.07882736 0.05732899\n",
       "29   0.07547170 0.04905660 0.2981132 0.38113208 0.19622642\n",
       "30   0.07547170 0.04905660 0.2981132 0.38113208 0.19622642\n",
       "...  ...        ...        ...       ...        ...       \n",
       "1135 0.08662093 0.18524871 0.4819897 0.15694683 0.08919383\n",
       "1136 0.08662093 0.18524871 0.4819897 0.15694683 0.08919383\n",
       "1137 0.08662093 0.18524871 0.4819897 0.15694683 0.08919383\n",
       "1138 0.69055375 0.05537459 0.1179153 0.07882736 0.05732899\n",
       "1139 0.08662093 0.18524871 0.4819897 0.15694683 0.08919383\n",
       "1140 0.69055375 0.05537459 0.1179153 0.07882736 0.05732899\n",
       "1141 0.69055375 0.05537459 0.1179153 0.07882736 0.05732899\n",
       "1142 0.69055375 0.05537459 0.1179153 0.07882736 0.05732899\n",
       "1143 0.08662093 0.18524871 0.4819897 0.15694683 0.08919383\n",
       "1144 0.69055375 0.05537459 0.1179153 0.07882736 0.05732899\n",
       "1145 0.08662093 0.18524871 0.4819897 0.15694683 0.08919383\n",
       "1146 0.69055375 0.05537459 0.1179153 0.07882736 0.05732899\n",
       "1147 0.08662093 0.18524871 0.4819897 0.15694683 0.08919383\n",
       "1148 0.08662093 0.18524871 0.4819897 0.15694683 0.08919383\n",
       "1149 0.08662093 0.18524871 0.4819897 0.15694683 0.08919383\n",
       "1150 0.08662093 0.18524871 0.4819897 0.15694683 0.08919383\n",
       "1151 0.08662093 0.18524871 0.4819897 0.15694683 0.08919383\n",
       "1152 0.69055375 0.05537459 0.1179153 0.07882736 0.05732899\n",
       "1153 0.08662093 0.18524871 0.4819897 0.15694683 0.08919383\n",
       "1154 0.08662093 0.18524871 0.4819897 0.15694683 0.08919383\n",
       "1155 0.08662093 0.18524871 0.4819897 0.15694683 0.08919383\n",
       "1156 0.08662093 0.18524871 0.4819897 0.15694683 0.08919383\n",
       "1157 0.69055375 0.05537459 0.1179153 0.07882736 0.05732899\n",
       "1158 0.08662093 0.18524871 0.4819897 0.15694683 0.08919383\n",
       "1159 0.69055375 0.05537459 0.1179153 0.07882736 0.05732899\n",
       "1160 0.08662093 0.18524871 0.4819897 0.15694683 0.08919383\n",
       "1161 0.08662093 0.18524871 0.4819897 0.15694683 0.08919383\n",
       "1162 0.08662093 0.18524871 0.4819897 0.15694683 0.08919383\n",
       "1163 0.08662093 0.18524871 0.4819897 0.15694683 0.08919383\n",
       "1164 0.08662093 0.18524871 0.4819897 0.15694683 0.08919383"
      ]
     },
     "metadata": {},
     "output_type": "display_data"
    }
   ],
   "source": [
    "Predicted_std=which.max(Predicted_std)"
   ]
  },
  {
   "cell_type": "code",
   "execution_count": 158,
   "metadata": {},
   "outputs": [
    {
     "name": "stderr",
     "output_type": "stream",
     "text": [
      "Warning message in Ops.ordered(actual, forecast):\n",
      "\"'-' is not meaningful for ordered factors\"Warning message in mean.default(actual):\n",
      "\"argument is not numeric or logical: returning NA\""
     ]
    },
    {
     "ename": "ERROR",
     "evalue": "Error in var(if (is.vector(x) || is.factor(x)) x else as.double(x), na.rm = na.rm): Calling var(x) on a factor x is defunct.\n  Use something like 'all(duplicated(x)[-1L])' to test for a constant vector.\n",
     "output_type": "error",
     "traceback": [
      "Error in var(if (is.vector(x) || is.factor(x)) x else as.double(x), na.rm = na.rm): Calling var(x) on a factor x is defunct.\n  Use something like 'all(duplicated(x)[-1L])' to test for a constant vector.\nTraceback:\n",
      "1. perf_dt(\"Decision Tree-Daily\", test$difficulty, Predicted_std)",
      "2. sd(actual)   # at line 6 of file <text>",
      "3. var(if (is.vector(x) || is.factor(x)) x else as.double(x), na.rm = na.rm)"
     ]
    }
   ],
   "source": [
    "perf_dt(\"Decision Tree-Daily\",test$difficulty,Predicted_std)"
   ]
  },
  {
   "cell_type": "markdown",
   "metadata": {},
   "source": [
    "## Random Forest(RF)"
   ]
  },
  {
   "cell_type": "code",
   "execution_count": 264,
   "metadata": {},
   "outputs": [],
   "source": [
    "library(randomForest)"
   ]
  },
  {
   "cell_type": "code",
   "execution_count": 265,
   "metadata": {},
   "outputs": [],
   "source": [
    "train_random_forest_daily=train_daily[8:.N]"
   ]
  },
  {
   "cell_type": "code",
   "execution_count": 314,
   "metadata": {},
   "outputs": [
    {
     "data": {
      "text/plain": [
       "\n",
       "Call:\n",
       " randomForest(formula = Consumption ~ . - date, data = train_random_forest_daily,      ntree = 300, nodesize = 30) \n",
       "               Type of random forest: regression\n",
       "                     Number of trees: 300\n",
       "No. of variables tried at each split: 5\n",
       "\n",
       "          Mean of squared residuals: 768322035\n",
       "                    % Var explained: 88.73"
      ]
     },
     "metadata": {},
     "output_type": "display_data"
    }
   ],
   "source": [
    "random_forest_daily=randomForest(Consumption~.-date,data=train_random_forest_daily,\n",
    "                           ntree=300,nodesize=30)\n",
    "random_forest_daily"
   ]
  },
  {
   "cell_type": "code",
   "execution_count": 315,
   "metadata": {},
   "outputs": [
    {
     "data": {
      "image/png": "[encoded data removed]",
      "text/plain": [
       "Plot with title \"random_forest_daily\""
      ]
     },
     "metadata": {},
     "output_type": "display_data"
    }
   ],
   "source": [
    "varImpPlot(random_forest_daily)"
   ]
  },
  {
   "cell_type": "code",
   "execution_count": 316,
   "metadata": {},
   "outputs": [],
   "source": [
    "PredictRandomForest_daily=predict(random_forest_daily,newdata=test_daily)"
   ]
  },
  {
   "cell_type": "markdown",
   "metadata": {},
   "source": [
    "### Performanca Measure"
   ]
  },
  {
   "cell_type": "code",
   "execution_count": 317,
   "metadata": {
    "scrolled": true
   },
   "outputs": [
    {
     "data": {
      "text/html": [
       "<table>\n",
       "<thead><tr><th scope=col>name</th><th scope=col>n</th><th scope=col>mean</th><th scope=col>sd</th><th scope=col>FBias</th><th scope=col>MAPE</th><th scope=col>RMSE</th><th scope=col>MAD</th><th scope=col>WMAPE</th></tr></thead>\n",
       "<tbody>\n",
       "\t<tr><td>Decision Tree-daily</td><td>38                 </td><td>839774.3           </td><td>61167.81           </td><td>-0.007851525       </td><td>0.02863335         </td><td>6843.236           </td><td>22683.19           </td><td>0.02701105         </td></tr>\n",
       "</tbody>\n",
       "</table>\n"
      ],
      "text/latex": [
       "\\begin{tabular}{r|lllllllll}\n",
       " name & n & mean & sd & FBias & MAPE & RMSE & MAD & WMAPE\\\\\n",
       "\\hline\n",
       "\t Decision Tree-daily & 38                  & 839774.3            & 61167.81            & -0.007851525        & 0.02863335          & 6843.236            & 22683.19            & 0.02701105         \\\\\n",
       "\\end{tabular}\n"
      ],
      "text/markdown": [
       "\n",
       "| name | n | mean | sd | FBias | MAPE | RMSE | MAD | WMAPE |\n",
       "|---|---|---|---|---|---|---|---|---|\n",
       "| Decision Tree-daily | 38                  | 839774.3            | 61167.81            | -0.007851525        | 0.02863335          | 6843.236            | 22683.19            | 0.02701105          |\n",
       "\n"
      ],
      "text/plain": [
       "  name                n  mean     sd       FBias        MAPE       RMSE    \n",
       "1 Decision Tree-daily 38 839774.3 61167.81 -0.007851525 0.02863335 6843.236\n",
       "  MAD      WMAPE     \n",
       "1 22683.19 0.02701105"
      ]
     },
     "metadata": {},
     "output_type": "display_data"
    },
    {
     "data": {
      "text/html": [
       "<table>\n",
       "<thead><tr><th scope=col>name</th><th scope=col>n</th><th scope=col>mean</th><th scope=col>sd</th><th scope=col>FBias</th><th scope=col>MAPE</th><th scope=col>RMSE</th><th scope=col>MAD</th><th scope=col>WMAPE</th></tr></thead>\n",
       "<tbody>\n",
       "\t<tr><td>Random Forest-daily</td><td>38                 </td><td>839774.3           </td><td>61167.81           </td><td>0.02093843         </td><td>0.03681139         </td><td>5762.231           </td><td>30286.1            </td><td>0.03606457         </td></tr>\n",
       "</tbody>\n",
       "</table>\n"
      ],
      "text/latex": [
       "\\begin{tabular}{r|lllllllll}\n",
       " name & n & mean & sd & FBias & MAPE & RMSE & MAD & WMAPE\\\\\n",
       "\\hline\n",
       "\t Random Forest-daily & 38                  & 839774.3            & 61167.81            & 0.02093843          & 0.03681139          & 5762.231            & 30286.1             & 0.03606457         \\\\\n",
       "\\end{tabular}\n"
      ],
      "text/markdown": [
       "\n",
       "| name | n | mean | sd | FBias | MAPE | RMSE | MAD | WMAPE |\n",
       "|---|---|---|---|---|---|---|---|---|\n",
       "| Random Forest-daily | 38                  | 839774.3            | 61167.81            | 0.02093843          | 0.03681139          | 5762.231            | 30286.1             | 0.03606457          |\n",
       "\n"
      ],
      "text/plain": [
       "  name                n  mean     sd       FBias      MAPE       RMSE    \n",
       "1 Random Forest-daily 38 839774.3 61167.81 0.02093843 0.03681139 5762.231\n",
       "  MAD     WMAPE     \n",
       "1 30286.1 0.03606457"
      ]
     },
     "metadata": {},
     "output_type": "display_data"
    }
   ],
   "source": [
    "perf_dt(\"Decision Tree-daily\",test_daily$Consumption,PredictCART_daily)\n",
    "perf_dt(\"Random Forest-daily\",test_daily$Consumption,PredictRandomForest_daily)"
   ]
  },
  {
   "cell_type": "markdown",
   "metadata": {},
   "source": [
    "## Stochastic Gradient Boosting(SGB)"
   ]
  },
  {
   "cell_type": "code",
   "execution_count": null,
   "metadata": {},
   "outputs": [],
   "source": [
    "# plot results\n",
    "plot(t, y1, t=\"l\", ylim=range(y1,y2)*c(1,1.2))\n",
    "lines(t, y2, col=2)\n",
    "legend(\"top\", legend=c(\"y1\", \"y2\"), col=1:2, lty=1, ncol=2, bty=\"n\")\n",
    "\n",
    "require(gbm)\n",
    "dat=data.frame(t=t,y=y1)\n",
    "noftrees=100\n",
    "depth=5\n",
    "learning_rate=0.01\n",
    "sampling_fraction=1\n",
    "y=y1\n",
    "boosting_model=gbm(y~., data=dat,distribution = \"gaussian\", n.trees = noftrees,\n",
    "        interaction.depth = depth, n.minobsinnode = 5, shrinkage =learning_rate ,\n",
    "        bag.fraction = sampling_fraction)\n",
    "        \n",
    "for(i in 1:noftrees){\n",
    "    print(i)\n",
    "    predicted=predict(boosting_model,dat,n.trees=i)\n",
    "\n",
    "    if(i %% 10 ==0){\n",
    "       plot(t, y, t=\"l\", ylim=range(y1,y2)*c(1,1.2),main=paste0('Tree:',i))\n",
    "        lines(t, predicted, col=2)\n",
    "        legend(\"top\", legend=c(\"y\", \"predicted\"), col=1:2, lty=1, ncol=2, bty=\"n\")\n",
    "        Sys.sleep(1)\n",
    "    }\n",
    "}    "
   ]
  },
  {
   "cell_type": "code",
   "execution_count": null,
   "metadata": {},
   "outputs": [],
   "source": []
  },
  {
   "cell_type": "code",
   "execution_count": null,
   "metadata": {},
   "outputs": [],
   "source": []
  },
  {
   "cell_type": "code",
   "execution_count": null,
   "metadata": {},
   "outputs": [],
   "source": []
  },
  {
   "cell_type": "code",
   "execution_count": null,
   "metadata": {},
   "outputs": [],
   "source": []
  },
  {
   "cell_type": "code",
   "execution_count": null,
   "metadata": {},
   "outputs": [],
   "source": []
  },
  {
   "cell_type": "code",
   "execution_count": null,
   "metadata": {},
   "outputs": [],
   "source": []
  },
  {
   "cell_type": "code",
   "execution_count": null,
   "metadata": {},
   "outputs": [],
   "source": []
  },
  {
   "cell_type": "code",
   "execution_count": null,
   "metadata": {},
   "outputs": [],
   "source": []
  },
  {
   "cell_type": "code",
   "execution_count": null,
   "metadata": {},
   "outputs": [],
   "source": []
  },
  {
   "cell_type": "code",
   "execution_count": null,
   "metadata": {},
   "outputs": [],
   "source": []
  },
  {
   "cell_type": "code",
   "execution_count": null,
   "metadata": {},
   "outputs": [],
   "source": []
  },
  {
   "cell_type": "code",
   "execution_count": null,
   "metadata": {},
   "outputs": [],
   "source": []
  },
  {
   "cell_type": "markdown",
   "metadata": {},
   "source": [
    "# Second Dataset"
   ]
  },
  {
   "cell_type": "markdown",
   "metadata": {},
   "source": [
    "### Loading Dataset"
   ]
  },
  {
   "cell_type": "code",
   "execution_count": 244,
   "metadata": {},
   "outputs": [],
   "source": [
    "diabet=read.csv(\"diabetic_data.csv\")\n",
    "diabet=as.data.table(diabet)"
   ]
  },
  {
   "cell_type": "code",
   "execution_count": 257,
   "metadata": {},
   "outputs": [],
   "source": [
    "chan=diabet %>% filter(readmitted==\">30\") %>% \n",
    "    mutate(readmitted=1)\n",
    "\n",
    "chan1=diabet %>% filter(readmitted==\"NO\") %>% \n",
    "    mutate(readmitted=1)\n",
    "\n",
    "chan2=diabet %>% filter(readmitted==\"<30\") %>% \n",
    "    mutate(readmitted=0)"
   ]
  },
  {
   "cell_type": "code",
   "execution_count": 258,
   "metadata": {},
   "outputs": [],
   "source": [
    "all_diabet=do.call(\"rbind\", list(chan, chan1, chan2))"
   ]
  },
  {
   "cell_type": "code",
   "execution_count": 259,
   "metadata": {
    "scrolled": true
   },
   "outputs": [
    {
     "name": "stdout",
     "output_type": "stream",
     "text": [
      "Classes 'data.table' and 'data.frame':\t101766 obs. of  50 variables:\n",
      " $ encounter_id            : int  149190 35754 63768 28236 62256 89682 183930 248916 250872 252822 ...\n",
      " $ patient_nbr             : int  55629189 82637451 114882984 89869032 49726791 107389323 107400762 115196778 41606064 18196434 ...\n",
      " $ race                    : Factor w/ 6 levels \"?\",\"AfricanAmerican\",..: 4 4 4 2 2 2 4 4 4 4 ...\n",
      " $ gender                  : Factor w/ 3 levels \"Female\",\"Male\",..: 1 2 2 1 1 2 1 1 2 1 ...\n",
      " $ age                     : Factor w/ 10 levels \"[0-10)\",\"[10-20)\",..: 2 6 8 5 7 8 9 6 3 9 ...\n",
      " $ weight                  : Factor w/ 10 levels \"?\",\"[0-25)\",\"[100-125)\",..: 1 1 1 1 1 1 1 1 1 1 ...\n",
      " $ admission_type_id       : int  1 2 1 1 3 1 2 1 2 1 ...\n",
      " $ discharge_disposition_id: int  1 1 1 1 1 1 6 1 1 2 ...\n",
      " $ admission_source_id     : int  7 2 7 7 2 7 1 1 2 7 ...\n",
      " $ time_in_hospital        : int  3 3 5 9 1 5 11 2 10 5 ...\n",
      " $ payer_code              : Factor w/ 18 levels \"?\",\"BC\",\"CH\",..: 1 1 1 1 1 1 1 1 1 1 ...\n",
      " $ medical_specialty       : Factor w/ 73 levels \"?\",\"AllergyandImmunology\",..: 1 1 1 1 1 1 1 64 1 5 ...\n",
      " $ num_lab_procedures      : int  59 31 73 47 49 35 42 25 53 52 ...\n",
      " $ num_procedures          : int  0 6 0 2 5 5 2 2 0 0 ...\n",
      " $ num_medications         : int  18 16 12 17 2 23 19 11 20 14 ...\n",
      " $ number_outpatient       : int  0 0 0 0 0 0 0 0 0 0 ...\n",
      " $ number_emergency        : int  0 0 0 0 0 0 0 0 0 0 ...\n",
      " $ number_inpatient        : int  0 0 0 0 0 0 0 0 0 0 ...\n",
      " $ diag_1                  : Factor w/ 717 levels \"?\",\"10\",\"11\",..: 145 265 278 122 350 256 710 695 146 278 ...\n",
      " $ diag_2                  : Factor w/ 749 levels \"?\",\"11\",\"110\",..: 81 248 316 243 650 260 473 388 82 247 ...\n",
      " $ diag_3                  : Factor w/ 790 levels \"?\",\"11\",\"110\",..: 123 88 88 668 432 260 770 89 130 258 ...\n",
      " $ number_diagnoses        : int  9 9 8 9 8 9 8 3 6 8 ...\n",
      " $ max_glu_serum           : Factor w/ 4 levels \">200\",\">300\",..: 3 3 3 3 3 3 3 3 3 3 ...\n",
      " $ A1Cresult               : Factor w/ 4 levels \">7\",\">8\",\"None\",..: 3 3 3 3 3 3 3 3 3 3 ...\n",
      " $ metformin               : Factor w/ 4 levels \"Down\",\"No\",\"Steady\",..: 2 2 2 2 2 2 2 2 2 3 ...\n",
      " $ repaglinide             : Factor w/ 4 levels \"Down\",\"No\",\"Steady\",..: 2 2 2 2 2 2 2 2 2 2 ...\n",
      " $ nateglinide             : Factor w/ 4 levels \"Down\",\"No\",\"Steady\",..: 2 2 2 2 2 2 2 2 2 2 ...\n",
      " $ chlorpropamide          : Factor w/ 4 levels \"Down\",\"No\",\"Steady\",..: 2 2 2 2 2 2 2 2 2 2 ...\n",
      " $ glimepiride             : Factor w/ 4 levels \"Down\",\"No\",\"Steady\",..: 2 2 2 2 2 2 2 2 2 2 ...\n",
      " $ acetohexamide           : Factor w/ 2 levels \"No\",\"Steady\": 1 1 1 1 1 1 1 1 1 1 ...\n",
      " $ glipizide               : Factor w/ 4 levels \"Down\",\"No\",\"Steady\",..: 2 2 2 2 2 2 2 2 2 2 ...\n",
      " $ glyburide               : Factor w/ 4 levels \"Down\",\"No\",\"Steady\",..: 2 2 3 2 2 2 2 2 2 3 ...\n",
      " $ tolbutamide             : Factor w/ 2 levels \"No\",\"Steady\": 1 1 1 1 1 1 1 1 1 1 ...\n",
      " $ pioglitazone            : Factor w/ 4 levels \"Down\",\"No\",\"Steady\",..: 2 2 2 2 2 2 2 2 2 2 ...\n",
      " $ rosiglitazone           : Factor w/ 4 levels \"Down\",\"No\",\"Steady\",..: 2 2 2 2 2 2 2 2 2 2 ...\n",
      " $ acarbose                : Factor w/ 4 levels \"Down\",\"No\",\"Steady\",..: 2 2 2 2 2 2 2 2 2 2 ...\n",
      " $ miglitol                : Factor w/ 4 levels \"Down\",\"No\",\"Steady\",..: 2 2 2 2 2 2 2 2 2 2 ...\n",
      " $ troglitazone            : Factor w/ 2 levels \"No\",\"Steady\": 1 1 1 1 1 1 1 1 1 1 ...\n",
      " $ tolazamide              : Factor w/ 3 levels \"No\",\"Steady\",..: 1 1 1 1 1 1 1 1 1 1 ...\n",
      " $ examide                 : Factor w/ 1 level \"No\": 1 1 1 1 1 1 1 1 1 1 ...\n",
      " $ citoglipton             : Factor w/ 1 level \"No\": 1 1 1 1 1 1 1 1 1 1 ...\n",
      " $ insulin                 : Factor w/ 4 levels \"Down\",\"No\",\"Steady\",..: 4 3 2 3 3 3 2 3 1 2 ...\n",
      " $ glyburide.metformin     : Factor w/ 4 levels \"Down\",\"No\",\"Steady\",..: 2 2 2 2 2 2 2 2 2 2 ...\n",
      " $ glipizide.metformin     : Factor w/ 2 levels \"No\",\"Steady\": 1 1 1 1 1 1 1 1 1 1 ...\n",
      " $ glimepiride.pioglitazone: Factor w/ 2 levels \"No\",\"Steady\": 1 1 1 1 1 1 1 1 1 1 ...\n",
      " $ metformin.rosiglitazone : Factor w/ 2 levels \"No\",\"Steady\": 1 1 1 1 1 1 1 1 1 1 ...\n",
      " $ metformin.pioglitazone  : Factor w/ 2 levels \"No\",\"Steady\": 1 1 1 1 1 1 1 1 1 1 ...\n",
      " $ change                  : Factor w/ 2 levels \"Ch\",\"No\": 1 2 2 2 2 2 2 2 1 1 ...\n",
      " $ diabetesMed             : Factor w/ 2 levels \"No\",\"Yes\": 2 2 2 2 2 2 1 2 2 2 ...\n",
      " $ readmitted              : Factor w/ 2 levels \"0\",\"1\": 2 2 2 2 2 2 2 2 2 2 ...\n",
      " - attr(*, \".internal.selfref\")=<externalptr> \n"
     ]
    }
   ],
   "source": [
    "all_diabet$readmitted=as.factor(all_diabet$readmitted)\n",
    "str(all_diabet)"
   ]
  },
  {
   "cell_type": "code",
   "execution_count": 260,
   "metadata": {},
   "outputs": [],
   "source": [
    "set.seed(35)\n",
    "spl=sample.split(all_diabet$readmitted, SplitRatio = 0.8)\n",
    "train_diabet=subset(all_diabet,spl==TRUE)\n",
    "test_diabet=subset(all_diabet,spl==FALSE)"
   ]
  },
  {
   "cell_type": "markdown",
   "metadata": {},
   "source": [
    "## Penalized Regression Approaches(PRA)"
   ]
  },
  {
   "cell_type": "code",
   "execution_count": 261,
   "metadata": {},
   "outputs": [],
   "source": [
    "train_mat_diabet=data.matrix(train_diabet[complete.cases(train_diabet),-c(\"readmitted\"),with=F])\n",
    "\n",
    "result_vec_diabet=as.vector(t(train_diabet[complete.cases(train_diabet),\"readmitted\"]))\n",
    "\n",
    "cvfit_diabet=cv.glmnet(train_mat_diabet,result_vec_diabet,family=\"multinomial\",nfolds = 10)\n",
    "\n",
    "test_mat_diabet=data.matrix(test_diabet[complete.cases(test_diabet),-c(\"readmitted\")])\n",
    "\n",
    "lasso_model_diabet <- glmnet(train_mat_diabet,result_vec_diabet, alpha = 1,family=\"multinomial\", lambda = cvfit_diabet$lambda.min, standardize = FALSE)"
   ]
  },
  {
   "cell_type": "code",
   "execution_count": 269,
   "metadata": {},
   "outputs": [],
   "source": [
    "prediction_diabet_pra <- predict(lasso_model_diabet, s = cvfit_diabet$lambda.1se, newx = test_mat_diabet,type=\"class\")"
   ]
  },
  {
   "cell_type": "code",
   "execution_count": 270,
   "metadata": {},
   "outputs": [
    {
     "data": {
      "text/plain": [
       "                     \n",
       "prediction_diabet_pra     0     1\n",
       "                    0    38    37\n",
       "                    1  2233 18045"
      ]
     },
     "metadata": {},
     "output_type": "display_data"
    }
   ],
   "source": [
    "table(prediction_diabet_pra,test_diabet$readmitted)"
   ]
  },
  {
   "cell_type": "code",
   "execution_count": 271,
   "metadata": {},
   "outputs": [],
   "source": [
    "res_pr_diabet=data.table(actual=test_diabet$readmitted,\n",
    "                   prediction_val=prediction_diabet_pra)\n",
    "setnames(res_pr_diabet, \"prediction_val.1\", \"prediction\")"
   ]
  },
  {
   "cell_type": "code",
   "execution_count": 272,
   "metadata": {},
   "outputs": [
    {
     "data": {
      "text/html": [
       "<table>\n",
       "<thead><tr><th scope=col>name</th><th scope=col>n</th><th scope=col>mean</th><th scope=col>sd</th><th scope=col>FBias</th><th scope=col>MAPE</th><th scope=col>RMSE</th><th scope=col>MAD</th><th scope=col>WMAPE</th></tr></thead>\n",
       "<tbody>\n",
       "\t<tr><td>Diabet Data Set for Lasso Function</td><td>20353                             </td><td>1.888419                          </td><td>0.3148575                         </td><td>0.472408                          </td><td>0.4469857                         </td><td>0.006634021                       </td><td>0.8921044                         </td><td>0.472408                          </td></tr>\n",
       "</tbody>\n",
       "</table>\n"
      ],
      "text/latex": [
       "\\begin{tabular}{r|lllllllll}\n",
       " name & n & mean & sd & FBias & MAPE & RMSE & MAD & WMAPE\\\\\n",
       "\\hline\n",
       "\t Diabet Data Set for Lasso Function & 20353                              & 1.888419                           & 0.3148575                          & 0.472408                           & 0.4469857                          & 0.006634021                        & 0.8921044                          & 0.472408                          \\\\\n",
       "\\end{tabular}\n"
      ],
      "text/markdown": [
       "\n",
       "| name | n | mean | sd | FBias | MAPE | RMSE | MAD | WMAPE |\n",
       "|---|---|---|---|---|---|---|---|---|\n",
       "| Diabet Data Set for Lasso Function | 20353                              | 1.888419                           | 0.3148575                          | 0.472408                           | 0.4469857                          | 0.006634021                        | 0.8921044                          | 0.472408                           |\n",
       "\n"
      ],
      "text/plain": [
       "  name                               n     mean     sd        FBias   \n",
       "1 Diabet Data Set for Lasso Function 20353 1.888419 0.3148575 0.472408\n",
       "  MAPE      RMSE        MAD       WMAPE   \n",
       "1 0.4469857 0.006634021 0.8921044 0.472408"
      ]
     },
     "metadata": {},
     "output_type": "display_data"
    }
   ],
   "source": [
    "perf_dt(\"Diabet Data Set for Lasso Function\", as.numeric(res_pr_diabet$actual), as.numeric(res_pr_diabet$prediction))"
   ]
  },
  {
   "cell_type": "code",
   "execution_count": 275,
   "metadata": {},
   "outputs": [
    {
     "data": {
      "text/plain": [
       "Confusion Matrix and Statistics\n",
       "\n",
       "          Reference\n",
       "Prediction     0     1\n",
       "         0    38    37\n",
       "         1  2233 18045\n",
       "                                          \n",
       "               Accuracy : 0.8885          \n",
       "                 95% CI : (0.8841, 0.8928)\n",
       "    No Information Rate : 0.8884          \n",
       "    P-Value [Acc > NIR] : 0.4967          \n",
       "                                          \n",
       "                  Kappa : 0.0254          \n",
       "                                          \n",
       " Mcnemar's Test P-Value : <2e-16          \n",
       "                                          \n",
       "              Precision : 0.506667        \n",
       "                 Recall : 0.016733        \n",
       "                     F1 : 0.032396        \n",
       "             Prevalence : 0.111581        \n",
       "         Detection Rate : 0.001867        \n",
       "   Detection Prevalence : 0.003685        \n",
       "      Balanced Accuracy : 0.507343        \n",
       "                                          \n",
       "       'Positive' Class : 0               \n",
       "                                          "
      ]
     },
     "metadata": {},
     "output_type": "display_data"
    }
   ],
   "source": [
    "confusionMatrix(data = as.factor(prediction_diabet_pra), reference = as.factor(test_diabet$readmitted), mode = \"prec_recall\")"
   ]
  },
  {
   "cell_type": "markdown",
   "metadata": {},
   "source": [
    "## Decision Tree(DT)"
   ]
  },
  {
   "cell_type": "code",
   "execution_count": 278,
   "metadata": {},
   "outputs": [
    {
     "data": {
      "text/plain": [
       "NULL"
      ]
     },
     "metadata": {},
     "output_type": "display_data"
    }
   ],
   "source": [
    "reg_tree_diabet=rpart(readmitted~.,train_diabet,method='class',minbucket=100)\n",
    "#fancyRpartPlot(reg_tree_diabet)\n",
    "reg_tree_diabet$variable.importance"
   ]
  },
  {
   "cell_type": "code",
   "execution_count": 164,
   "metadata": {},
   "outputs": [],
   "source": [
    "predicted_std=predict(reg_tree_std,newdata=test,type=\"class\")"
   ]
  },
  {
   "cell_type": "markdown",
   "metadata": {},
   "source": [
    "### Performanca Measure"
   ]
  },
  {
   "cell_type": "code",
   "execution_count": 165,
   "metadata": {},
   "outputs": [
    {
     "data": {
      "text/html": [
       "<table>\n",
       "<thead><tr><th scope=col>1</th><th scope=col>2</th><th scope=col>3</th><th scope=col>4</th><th scope=col>5</th></tr></thead>\n",
       "<tbody>\n",
       "\t<tr><td>0.69055375</td><td>0.05537459</td><td>0.1179153 </td><td>0.07882736</td><td>0.05732899</td></tr>\n",
       "\t<tr><td>0.05285868</td><td>0.09600863</td><td>0.4163970 </td><td>0.34088457</td><td>0.09385113</td></tr>\n",
       "\t<tr><td>0.05285868</td><td>0.09600863</td><td>0.4163970 </td><td>0.34088457</td><td>0.09385113</td></tr>\n",
       "\t<tr><td>0.05285868</td><td>0.09600863</td><td>0.4163970 </td><td>0.34088457</td><td>0.09385113</td></tr>\n",
       "\t<tr><td>0.05285868</td><td>0.09600863</td><td>0.4163970 </td><td>0.34088457</td><td>0.09385113</td></tr>\n",
       "\t<tr><td>0.05285868</td><td>0.09600863</td><td>0.4163970 </td><td>0.34088457</td><td>0.09385113</td></tr>\n",
       "\t<tr><td>0.69055375</td><td>0.05537459</td><td>0.1179153 </td><td>0.07882736</td><td>0.05732899</td></tr>\n",
       "\t<tr><td>0.05285868</td><td>0.09600863</td><td>0.4163970 </td><td>0.34088457</td><td>0.09385113</td></tr>\n",
       "\t<tr><td>0.05285868</td><td>0.09600863</td><td>0.4163970 </td><td>0.34088457</td><td>0.09385113</td></tr>\n",
       "\t<tr><td>0.05285868</td><td>0.09600863</td><td>0.4163970 </td><td>0.34088457</td><td>0.09385113</td></tr>\n",
       "\t<tr><td>0.05285868</td><td>0.09600863</td><td>0.4163970 </td><td>0.34088457</td><td>0.09385113</td></tr>\n",
       "\t<tr><td>0.05285868</td><td>0.09600863</td><td>0.4163970 </td><td>0.34088457</td><td>0.09385113</td></tr>\n",
       "\t<tr><td>0.05285868</td><td>0.09600863</td><td>0.4163970 </td><td>0.34088457</td><td>0.09385113</td></tr>\n",
       "\t<tr><td>0.05285868</td><td>0.09600863</td><td>0.4163970 </td><td>0.34088457</td><td>0.09385113</td></tr>\n",
       "\t<tr><td>0.05285868</td><td>0.09600863</td><td>0.4163970 </td><td>0.34088457</td><td>0.09385113</td></tr>\n",
       "\t<tr><td>0.05285868</td><td>0.09600863</td><td>0.4163970 </td><td>0.34088457</td><td>0.09385113</td></tr>\n",
       "\t<tr><td>0.05285868</td><td>0.09600863</td><td>0.4163970 </td><td>0.34088457</td><td>0.09385113</td></tr>\n",
       "\t<tr><td>0.05285868</td><td>0.09600863</td><td>0.4163970 </td><td>0.34088457</td><td>0.09385113</td></tr>\n",
       "\t<tr><td>0.05285868</td><td>0.09600863</td><td>0.4163970 </td><td>0.34088457</td><td>0.09385113</td></tr>\n",
       "\t<tr><td>0.05285868</td><td>0.09600863</td><td>0.4163970 </td><td>0.34088457</td><td>0.09385113</td></tr>\n",
       "\t<tr><td>0.69055375</td><td>0.05537459</td><td>0.1179153 </td><td>0.07882736</td><td>0.05732899</td></tr>\n",
       "\t<tr><td>0.05285868</td><td>0.09600863</td><td>0.4163970 </td><td>0.34088457</td><td>0.09385113</td></tr>\n",
       "\t<tr><td>0.05285868</td><td>0.09600863</td><td>0.4163970 </td><td>0.34088457</td><td>0.09385113</td></tr>\n",
       "\t<tr><td>0.69055375</td><td>0.05537459</td><td>0.1179153 </td><td>0.07882736</td><td>0.05732899</td></tr>\n",
       "\t<tr><td>0.05285868</td><td>0.09600863</td><td>0.4163970 </td><td>0.34088457</td><td>0.09385113</td></tr>\n",
       "\t<tr><td>0.05285868</td><td>0.09600863</td><td>0.4163970 </td><td>0.34088457</td><td>0.09385113</td></tr>\n",
       "\t<tr><td>0.69055375</td><td>0.05537459</td><td>0.1179153 </td><td>0.07882736</td><td>0.05732899</td></tr>\n",
       "\t<tr><td>0.69055375</td><td>0.05537459</td><td>0.1179153 </td><td>0.07882736</td><td>0.05732899</td></tr>\n",
       "\t<tr><td>0.07547170</td><td>0.04905660</td><td>0.2981132 </td><td>0.38113208</td><td>0.19622642</td></tr>\n",
       "\t<tr><td>0.07547170</td><td>0.04905660</td><td>0.2981132 </td><td>0.38113208</td><td>0.19622642</td></tr>\n",
       "\t<tr><td>...</td><td>...</td><td>...</td><td>...</td><td>...</td></tr>\n",
       "\t<tr><td>0.08662093</td><td>0.18524871</td><td>0.4819897 </td><td>0.15694683</td><td>0.08919383</td></tr>\n",
       "\t<tr><td>0.08662093</td><td>0.18524871</td><td>0.4819897 </td><td>0.15694683</td><td>0.08919383</td></tr>\n",
       "\t<tr><td>0.08662093</td><td>0.18524871</td><td>0.4819897 </td><td>0.15694683</td><td>0.08919383</td></tr>\n",
       "\t<tr><td>0.69055375</td><td>0.05537459</td><td>0.1179153 </td><td>0.07882736</td><td>0.05732899</td></tr>\n",
       "\t<tr><td>0.08662093</td><td>0.18524871</td><td>0.4819897 </td><td>0.15694683</td><td>0.08919383</td></tr>\n",
       "\t<tr><td>0.69055375</td><td>0.05537459</td><td>0.1179153 </td><td>0.07882736</td><td>0.05732899</td></tr>\n",
       "\t<tr><td>0.69055375</td><td>0.05537459</td><td>0.1179153 </td><td>0.07882736</td><td>0.05732899</td></tr>\n",
       "\t<tr><td>0.69055375</td><td>0.05537459</td><td>0.1179153 </td><td>0.07882736</td><td>0.05732899</td></tr>\n",
       "\t<tr><td>0.08662093</td><td>0.18524871</td><td>0.4819897 </td><td>0.15694683</td><td>0.08919383</td></tr>\n",
       "\t<tr><td>0.69055375</td><td>0.05537459</td><td>0.1179153 </td><td>0.07882736</td><td>0.05732899</td></tr>\n",
       "\t<tr><td>0.08662093</td><td>0.18524871</td><td>0.4819897 </td><td>0.15694683</td><td>0.08919383</td></tr>\n",
       "\t<tr><td>0.69055375</td><td>0.05537459</td><td>0.1179153 </td><td>0.07882736</td><td>0.05732899</td></tr>\n",
       "\t<tr><td>0.08662093</td><td>0.18524871</td><td>0.4819897 </td><td>0.15694683</td><td>0.08919383</td></tr>\n",
       "\t<tr><td>0.08662093</td><td>0.18524871</td><td>0.4819897 </td><td>0.15694683</td><td>0.08919383</td></tr>\n",
       "\t<tr><td>0.08662093</td><td>0.18524871</td><td>0.4819897 </td><td>0.15694683</td><td>0.08919383</td></tr>\n",
       "\t<tr><td>0.08662093</td><td>0.18524871</td><td>0.4819897 </td><td>0.15694683</td><td>0.08919383</td></tr>\n",
       "\t<tr><td>0.08662093</td><td>0.18524871</td><td>0.4819897 </td><td>0.15694683</td><td>0.08919383</td></tr>\n",
       "\t<tr><td>0.69055375</td><td>0.05537459</td><td>0.1179153 </td><td>0.07882736</td><td>0.05732899</td></tr>\n",
       "\t<tr><td>0.08662093</td><td>0.18524871</td><td>0.4819897 </td><td>0.15694683</td><td>0.08919383</td></tr>\n",
       "\t<tr><td>0.08662093</td><td>0.18524871</td><td>0.4819897 </td><td>0.15694683</td><td>0.08919383</td></tr>\n",
       "\t<tr><td>0.08662093</td><td>0.18524871</td><td>0.4819897 </td><td>0.15694683</td><td>0.08919383</td></tr>\n",
       "\t<tr><td>0.08662093</td><td>0.18524871</td><td>0.4819897 </td><td>0.15694683</td><td>0.08919383</td></tr>\n",
       "\t<tr><td>0.69055375</td><td>0.05537459</td><td>0.1179153 </td><td>0.07882736</td><td>0.05732899</td></tr>\n",
       "\t<tr><td>0.08662093</td><td>0.18524871</td><td>0.4819897 </td><td>0.15694683</td><td>0.08919383</td></tr>\n",
       "\t<tr><td>0.69055375</td><td>0.05537459</td><td>0.1179153 </td><td>0.07882736</td><td>0.05732899</td></tr>\n",
       "\t<tr><td>0.08662093</td><td>0.18524871</td><td>0.4819897 </td><td>0.15694683</td><td>0.08919383</td></tr>\n",
       "\t<tr><td>0.08662093</td><td>0.18524871</td><td>0.4819897 </td><td>0.15694683</td><td>0.08919383</td></tr>\n",
       "\t<tr><td>0.08662093</td><td>0.18524871</td><td>0.4819897 </td><td>0.15694683</td><td>0.08919383</td></tr>\n",
       "\t<tr><td>0.08662093</td><td>0.18524871</td><td>0.4819897 </td><td>0.15694683</td><td>0.08919383</td></tr>\n",
       "\t<tr><td>0.08662093</td><td>0.18524871</td><td>0.4819897 </td><td>0.15694683</td><td>0.08919383</td></tr>\n",
       "</tbody>\n",
       "</table>\n"
      ],
      "text/latex": [
       "\\begin{tabular}{r|lllll}\n",
       " 1 & 2 & 3 & 4 & 5\\\\\n",
       "\\hline\n",
       "\t 0.69055375 & 0.05537459 & 0.1179153  & 0.07882736 & 0.05732899\\\\\n",
       "\t 0.05285868 & 0.09600863 & 0.4163970  & 0.34088457 & 0.09385113\\\\\n",
       "\t 0.05285868 & 0.09600863 & 0.4163970  & 0.34088457 & 0.09385113\\\\\n",
       "\t 0.05285868 & 0.09600863 & 0.4163970  & 0.34088457 & 0.09385113\\\\\n",
       "\t 0.05285868 & 0.09600863 & 0.4163970  & 0.34088457 & 0.09385113\\\\\n",
       "\t 0.05285868 & 0.09600863 & 0.4163970  & 0.34088457 & 0.09385113\\\\\n",
       "\t 0.69055375 & 0.05537459 & 0.1179153  & 0.07882736 & 0.05732899\\\\\n",
       "\t 0.05285868 & 0.09600863 & 0.4163970  & 0.34088457 & 0.09385113\\\\\n",
       "\t 0.05285868 & 0.09600863 & 0.4163970  & 0.34088457 & 0.09385113\\\\\n",
       "\t 0.05285868 & 0.09600863 & 0.4163970  & 0.34088457 & 0.09385113\\\\\n",
       "\t 0.05285868 & 0.09600863 & 0.4163970  & 0.34088457 & 0.09385113\\\\\n",
       "\t 0.05285868 & 0.09600863 & 0.4163970  & 0.34088457 & 0.09385113\\\\\n",
       "\t 0.05285868 & 0.09600863 & 0.4163970  & 0.34088457 & 0.09385113\\\\\n",
       "\t 0.05285868 & 0.09600863 & 0.4163970  & 0.34088457 & 0.09385113\\\\\n",
       "\t 0.05285868 & 0.09600863 & 0.4163970  & 0.34088457 & 0.09385113\\\\\n",
       "\t 0.05285868 & 0.09600863 & 0.4163970  & 0.34088457 & 0.09385113\\\\\n",
       "\t 0.05285868 & 0.09600863 & 0.4163970  & 0.34088457 & 0.09385113\\\\\n",
       "\t 0.05285868 & 0.09600863 & 0.4163970  & 0.34088457 & 0.09385113\\\\\n",
       "\t 0.05285868 & 0.09600863 & 0.4163970  & 0.34088457 & 0.09385113\\\\\n",
       "\t 0.05285868 & 0.09600863 & 0.4163970  & 0.34088457 & 0.09385113\\\\\n",
       "\t 0.69055375 & 0.05537459 & 0.1179153  & 0.07882736 & 0.05732899\\\\\n",
       "\t 0.05285868 & 0.09600863 & 0.4163970  & 0.34088457 & 0.09385113\\\\\n",
       "\t 0.05285868 & 0.09600863 & 0.4163970  & 0.34088457 & 0.09385113\\\\\n",
       "\t 0.69055375 & 0.05537459 & 0.1179153  & 0.07882736 & 0.05732899\\\\\n",
       "\t 0.05285868 & 0.09600863 & 0.4163970  & 0.34088457 & 0.09385113\\\\\n",
       "\t 0.05285868 & 0.09600863 & 0.4163970  & 0.34088457 & 0.09385113\\\\\n",
       "\t 0.69055375 & 0.05537459 & 0.1179153  & 0.07882736 & 0.05732899\\\\\n",
       "\t 0.69055375 & 0.05537459 & 0.1179153  & 0.07882736 & 0.05732899\\\\\n",
       "\t 0.07547170 & 0.04905660 & 0.2981132  & 0.38113208 & 0.19622642\\\\\n",
       "\t 0.07547170 & 0.04905660 & 0.2981132  & 0.38113208 & 0.19622642\\\\\n",
       "\t ... & ... & ... & ... & ...\\\\\n",
       "\t 0.08662093 & 0.18524871 & 0.4819897  & 0.15694683 & 0.08919383\\\\\n",
       "\t 0.08662093 & 0.18524871 & 0.4819897  & 0.15694683 & 0.08919383\\\\\n",
       "\t 0.08662093 & 0.18524871 & 0.4819897  & 0.15694683 & 0.08919383\\\\\n",
       "\t 0.69055375 & 0.05537459 & 0.1179153  & 0.07882736 & 0.05732899\\\\\n",
       "\t 0.08662093 & 0.18524871 & 0.4819897  & 0.15694683 & 0.08919383\\\\\n",
       "\t 0.69055375 & 0.05537459 & 0.1179153  & 0.07882736 & 0.05732899\\\\\n",
       "\t 0.69055375 & 0.05537459 & 0.1179153  & 0.07882736 & 0.05732899\\\\\n",
       "\t 0.69055375 & 0.05537459 & 0.1179153  & 0.07882736 & 0.05732899\\\\\n",
       "\t 0.08662093 & 0.18524871 & 0.4819897  & 0.15694683 & 0.08919383\\\\\n",
       "\t 0.69055375 & 0.05537459 & 0.1179153  & 0.07882736 & 0.05732899\\\\\n",
       "\t 0.08662093 & 0.18524871 & 0.4819897  & 0.15694683 & 0.08919383\\\\\n",
       "\t 0.69055375 & 0.05537459 & 0.1179153  & 0.07882736 & 0.05732899\\\\\n",
       "\t 0.08662093 & 0.18524871 & 0.4819897  & 0.15694683 & 0.08919383\\\\\n",
       "\t 0.08662093 & 0.18524871 & 0.4819897  & 0.15694683 & 0.08919383\\\\\n",
       "\t 0.08662093 & 0.18524871 & 0.4819897  & 0.15694683 & 0.08919383\\\\\n",
       "\t 0.08662093 & 0.18524871 & 0.4819897  & 0.15694683 & 0.08919383\\\\\n",
       "\t 0.08662093 & 0.18524871 & 0.4819897  & 0.15694683 & 0.08919383\\\\\n",
       "\t 0.69055375 & 0.05537459 & 0.1179153  & 0.07882736 & 0.05732899\\\\\n",
       "\t 0.08662093 & 0.18524871 & 0.4819897  & 0.15694683 & 0.08919383\\\\\n",
       "\t 0.08662093 & 0.18524871 & 0.4819897  & 0.15694683 & 0.08919383\\\\\n",
       "\t 0.08662093 & 0.18524871 & 0.4819897  & 0.15694683 & 0.08919383\\\\\n",
       "\t 0.08662093 & 0.18524871 & 0.4819897  & 0.15694683 & 0.08919383\\\\\n",
       "\t 0.69055375 & 0.05537459 & 0.1179153  & 0.07882736 & 0.05732899\\\\\n",
       "\t 0.08662093 & 0.18524871 & 0.4819897  & 0.15694683 & 0.08919383\\\\\n",
       "\t 0.69055375 & 0.05537459 & 0.1179153  & 0.07882736 & 0.05732899\\\\\n",
       "\t 0.08662093 & 0.18524871 & 0.4819897  & 0.15694683 & 0.08919383\\\\\n",
       "\t 0.08662093 & 0.18524871 & 0.4819897  & 0.15694683 & 0.08919383\\\\\n",
       "\t 0.08662093 & 0.18524871 & 0.4819897  & 0.15694683 & 0.08919383\\\\\n",
       "\t 0.08662093 & 0.18524871 & 0.4819897  & 0.15694683 & 0.08919383\\\\\n",
       "\t 0.08662093 & 0.18524871 & 0.4819897  & 0.15694683 & 0.08919383\\\\\n",
       "\\end{tabular}\n"
      ],
      "text/markdown": [
       "\n",
       "| 1 | 2 | 3 | 4 | 5 |\n",
       "|---|---|---|---|---|\n",
       "| 0.69055375 | 0.05537459 | 0.1179153  | 0.07882736 | 0.05732899 |\n",
       "| 0.05285868 | 0.09600863 | 0.4163970  | 0.34088457 | 0.09385113 |\n",
       "| 0.05285868 | 0.09600863 | 0.4163970  | 0.34088457 | 0.09385113 |\n",
       "| 0.05285868 | 0.09600863 | 0.4163970  | 0.34088457 | 0.09385113 |\n",
       "| 0.05285868 | 0.09600863 | 0.4163970  | 0.34088457 | 0.09385113 |\n",
       "| 0.05285868 | 0.09600863 | 0.4163970  | 0.34088457 | 0.09385113 |\n",
       "| 0.69055375 | 0.05537459 | 0.1179153  | 0.07882736 | 0.05732899 |\n",
       "| 0.05285868 | 0.09600863 | 0.4163970  | 0.34088457 | 0.09385113 |\n",
       "| 0.05285868 | 0.09600863 | 0.4163970  | 0.34088457 | 0.09385113 |\n",
       "| 0.05285868 | 0.09600863 | 0.4163970  | 0.34088457 | 0.09385113 |\n",
       "| 0.05285868 | 0.09600863 | 0.4163970  | 0.34088457 | 0.09385113 |\n",
       "| 0.05285868 | 0.09600863 | 0.4163970  | 0.34088457 | 0.09385113 |\n",
       "| 0.05285868 | 0.09600863 | 0.4163970  | 0.34088457 | 0.09385113 |\n",
       "| 0.05285868 | 0.09600863 | 0.4163970  | 0.34088457 | 0.09385113 |\n",
       "| 0.05285868 | 0.09600863 | 0.4163970  | 0.34088457 | 0.09385113 |\n",
       "| 0.05285868 | 0.09600863 | 0.4163970  | 0.34088457 | 0.09385113 |\n",
       "| 0.05285868 | 0.09600863 | 0.4163970  | 0.34088457 | 0.09385113 |\n",
       "| 0.05285868 | 0.09600863 | 0.4163970  | 0.34088457 | 0.09385113 |\n",
       "| 0.05285868 | 0.09600863 | 0.4163970  | 0.34088457 | 0.09385113 |\n",
       "| 0.05285868 | 0.09600863 | 0.4163970  | 0.34088457 | 0.09385113 |\n",
       "| 0.69055375 | 0.05537459 | 0.1179153  | 0.07882736 | 0.05732899 |\n",
       "| 0.05285868 | 0.09600863 | 0.4163970  | 0.34088457 | 0.09385113 |\n",
       "| 0.05285868 | 0.09600863 | 0.4163970  | 0.34088457 | 0.09385113 |\n",
       "| 0.69055375 | 0.05537459 | 0.1179153  | 0.07882736 | 0.05732899 |\n",
       "| 0.05285868 | 0.09600863 | 0.4163970  | 0.34088457 | 0.09385113 |\n",
       "| 0.05285868 | 0.09600863 | 0.4163970  | 0.34088457 | 0.09385113 |\n",
       "| 0.69055375 | 0.05537459 | 0.1179153  | 0.07882736 | 0.05732899 |\n",
       "| 0.69055375 | 0.05537459 | 0.1179153  | 0.07882736 | 0.05732899 |\n",
       "| 0.07547170 | 0.04905660 | 0.2981132  | 0.38113208 | 0.19622642 |\n",
       "| 0.07547170 | 0.04905660 | 0.2981132  | 0.38113208 | 0.19622642 |\n",
       "| ... | ... | ... | ... | ... |\n",
       "| 0.08662093 | 0.18524871 | 0.4819897  | 0.15694683 | 0.08919383 |\n",
       "| 0.08662093 | 0.18524871 | 0.4819897  | 0.15694683 | 0.08919383 |\n",
       "| 0.08662093 | 0.18524871 | 0.4819897  | 0.15694683 | 0.08919383 |\n",
       "| 0.69055375 | 0.05537459 | 0.1179153  | 0.07882736 | 0.05732899 |\n",
       "| 0.08662093 | 0.18524871 | 0.4819897  | 0.15694683 | 0.08919383 |\n",
       "| 0.69055375 | 0.05537459 | 0.1179153  | 0.07882736 | 0.05732899 |\n",
       "| 0.69055375 | 0.05537459 | 0.1179153  | 0.07882736 | 0.05732899 |\n",
       "| 0.69055375 | 0.05537459 | 0.1179153  | 0.07882736 | 0.05732899 |\n",
       "| 0.08662093 | 0.18524871 | 0.4819897  | 0.15694683 | 0.08919383 |\n",
       "| 0.69055375 | 0.05537459 | 0.1179153  | 0.07882736 | 0.05732899 |\n",
       "| 0.08662093 | 0.18524871 | 0.4819897  | 0.15694683 | 0.08919383 |\n",
       "| 0.69055375 | 0.05537459 | 0.1179153  | 0.07882736 | 0.05732899 |\n",
       "| 0.08662093 | 0.18524871 | 0.4819897  | 0.15694683 | 0.08919383 |\n",
       "| 0.08662093 | 0.18524871 | 0.4819897  | 0.15694683 | 0.08919383 |\n",
       "| 0.08662093 | 0.18524871 | 0.4819897  | 0.15694683 | 0.08919383 |\n",
       "| 0.08662093 | 0.18524871 | 0.4819897  | 0.15694683 | 0.08919383 |\n",
       "| 0.08662093 | 0.18524871 | 0.4819897  | 0.15694683 | 0.08919383 |\n",
       "| 0.69055375 | 0.05537459 | 0.1179153  | 0.07882736 | 0.05732899 |\n",
       "| 0.08662093 | 0.18524871 | 0.4819897  | 0.15694683 | 0.08919383 |\n",
       "| 0.08662093 | 0.18524871 | 0.4819897  | 0.15694683 | 0.08919383 |\n",
       "| 0.08662093 | 0.18524871 | 0.4819897  | 0.15694683 | 0.08919383 |\n",
       "| 0.08662093 | 0.18524871 | 0.4819897  | 0.15694683 | 0.08919383 |\n",
       "| 0.69055375 | 0.05537459 | 0.1179153  | 0.07882736 | 0.05732899 |\n",
       "| 0.08662093 | 0.18524871 | 0.4819897  | 0.15694683 | 0.08919383 |\n",
       "| 0.69055375 | 0.05537459 | 0.1179153  | 0.07882736 | 0.05732899 |\n",
       "| 0.08662093 | 0.18524871 | 0.4819897  | 0.15694683 | 0.08919383 |\n",
       "| 0.08662093 | 0.18524871 | 0.4819897  | 0.15694683 | 0.08919383 |\n",
       "| 0.08662093 | 0.18524871 | 0.4819897  | 0.15694683 | 0.08919383 |\n",
       "| 0.08662093 | 0.18524871 | 0.4819897  | 0.15694683 | 0.08919383 |\n",
       "| 0.08662093 | 0.18524871 | 0.4819897  | 0.15694683 | 0.08919383 |\n",
       "\n"
      ],
      "text/plain": [
       "     1          2          3         4          5         \n",
       "1    0.69055375 0.05537459 0.1179153 0.07882736 0.05732899\n",
       "2    0.05285868 0.09600863 0.4163970 0.34088457 0.09385113\n",
       "3    0.05285868 0.09600863 0.4163970 0.34088457 0.09385113\n",
       "4    0.05285868 0.09600863 0.4163970 0.34088457 0.09385113\n",
       "5    0.05285868 0.09600863 0.4163970 0.34088457 0.09385113\n",
       "6    0.05285868 0.09600863 0.4163970 0.34088457 0.09385113\n",
       "7    0.69055375 0.05537459 0.1179153 0.07882736 0.05732899\n",
       "8    0.05285868 0.09600863 0.4163970 0.34088457 0.09385113\n",
       "9    0.05285868 0.09600863 0.4163970 0.34088457 0.09385113\n",
       "10   0.05285868 0.09600863 0.4163970 0.34088457 0.09385113\n",
       "11   0.05285868 0.09600863 0.4163970 0.34088457 0.09385113\n",
       "12   0.05285868 0.09600863 0.4163970 0.34088457 0.09385113\n",
       "13   0.05285868 0.09600863 0.4163970 0.34088457 0.09385113\n",
       "14   0.05285868 0.09600863 0.4163970 0.34088457 0.09385113\n",
       "15   0.05285868 0.09600863 0.4163970 0.34088457 0.09385113\n",
       "16   0.05285868 0.09600863 0.4163970 0.34088457 0.09385113\n",
       "17   0.05285868 0.09600863 0.4163970 0.34088457 0.09385113\n",
       "18   0.05285868 0.09600863 0.4163970 0.34088457 0.09385113\n",
       "19   0.05285868 0.09600863 0.4163970 0.34088457 0.09385113\n",
       "20   0.05285868 0.09600863 0.4163970 0.34088457 0.09385113\n",
       "21   0.69055375 0.05537459 0.1179153 0.07882736 0.05732899\n",
       "22   0.05285868 0.09600863 0.4163970 0.34088457 0.09385113\n",
       "23   0.05285868 0.09600863 0.4163970 0.34088457 0.09385113\n",
       "24   0.69055375 0.05537459 0.1179153 0.07882736 0.05732899\n",
       "25   0.05285868 0.09600863 0.4163970 0.34088457 0.09385113\n",
       "26   0.05285868 0.09600863 0.4163970 0.34088457 0.09385113\n",
       "27   0.69055375 0.05537459 0.1179153 0.07882736 0.05732899\n",
       "28   0.69055375 0.05537459 0.1179153 0.07882736 0.05732899\n",
       "29   0.07547170 0.04905660 0.2981132 0.38113208 0.19622642\n",
       "30   0.07547170 0.04905660 0.2981132 0.38113208 0.19622642\n",
       "...  ...        ...        ...       ...        ...       \n",
       "1135 0.08662093 0.18524871 0.4819897 0.15694683 0.08919383\n",
       "1136 0.08662093 0.18524871 0.4819897 0.15694683 0.08919383\n",
       "1137 0.08662093 0.18524871 0.4819897 0.15694683 0.08919383\n",
       "1138 0.69055375 0.05537459 0.1179153 0.07882736 0.05732899\n",
       "1139 0.08662093 0.18524871 0.4819897 0.15694683 0.08919383\n",
       "1140 0.69055375 0.05537459 0.1179153 0.07882736 0.05732899\n",
       "1141 0.69055375 0.05537459 0.1179153 0.07882736 0.05732899\n",
       "1142 0.69055375 0.05537459 0.1179153 0.07882736 0.05732899\n",
       "1143 0.08662093 0.18524871 0.4819897 0.15694683 0.08919383\n",
       "1144 0.69055375 0.05537459 0.1179153 0.07882736 0.05732899\n",
       "1145 0.08662093 0.18524871 0.4819897 0.15694683 0.08919383\n",
       "1146 0.69055375 0.05537459 0.1179153 0.07882736 0.05732899\n",
       "1147 0.08662093 0.18524871 0.4819897 0.15694683 0.08919383\n",
       "1148 0.08662093 0.18524871 0.4819897 0.15694683 0.08919383\n",
       "1149 0.08662093 0.18524871 0.4819897 0.15694683 0.08919383\n",
       "1150 0.08662093 0.18524871 0.4819897 0.15694683 0.08919383\n",
       "1151 0.08662093 0.18524871 0.4819897 0.15694683 0.08919383\n",
       "1152 0.69055375 0.05537459 0.1179153 0.07882736 0.05732899\n",
       "1153 0.08662093 0.18524871 0.4819897 0.15694683 0.08919383\n",
       "1154 0.08662093 0.18524871 0.4819897 0.15694683 0.08919383\n",
       "1155 0.08662093 0.18524871 0.4819897 0.15694683 0.08919383\n",
       "1156 0.08662093 0.18524871 0.4819897 0.15694683 0.08919383\n",
       "1157 0.69055375 0.05537459 0.1179153 0.07882736 0.05732899\n",
       "1158 0.08662093 0.18524871 0.4819897 0.15694683 0.08919383\n",
       "1159 0.69055375 0.05537459 0.1179153 0.07882736 0.05732899\n",
       "1160 0.08662093 0.18524871 0.4819897 0.15694683 0.08919383\n",
       "1161 0.08662093 0.18524871 0.4819897 0.15694683 0.08919383\n",
       "1162 0.08662093 0.18524871 0.4819897 0.15694683 0.08919383\n",
       "1163 0.08662093 0.18524871 0.4819897 0.15694683 0.08919383\n",
       "1164 0.08662093 0.18524871 0.4819897 0.15694683 0.08919383"
      ]
     },
     "metadata": {},
     "output_type": "display_data"
    }
   ],
   "source": [
    "Predicted_std=which.max(Predicted_std)"
   ]
  },
  {
   "cell_type": "code",
   "execution_count": 158,
   "metadata": {},
   "outputs": [
    {
     "name": "stderr",
     "output_type": "stream",
     "text": [
      "Warning message in Ops.ordered(actual, forecast):\n",
      "\"'-' is not meaningful for ordered factors\"Warning message in mean.default(actual):\n",
      "\"argument is not numeric or logical: returning NA\""
     ]
    },
    {
     "ename": "ERROR",
     "evalue": "Error in var(if (is.vector(x) || is.factor(x)) x else as.double(x), na.rm = na.rm): Calling var(x) on a factor x is defunct.\n  Use something like 'all(duplicated(x)[-1L])' to test for a constant vector.\n",
     "output_type": "error",
     "traceback": [
      "Error in var(if (is.vector(x) || is.factor(x)) x else as.double(x), na.rm = na.rm): Calling var(x) on a factor x is defunct.\n  Use something like 'all(duplicated(x)[-1L])' to test for a constant vector.\nTraceback:\n",
      "1. perf_dt(\"Decision Tree-Daily\", test$difficulty, Predicted_std)",
      "2. sd(actual)   # at line 6 of file <text>",
      "3. var(if (is.vector(x) || is.factor(x)) x else as.double(x), na.rm = na.rm)"
     ]
    }
   ],
   "source": [
    "perf_dt(\"Decision Tree-Daily\",test$difficulty,Predicted_std)"
   ]
  },
  {
   "cell_type": "markdown",
   "metadata": {},
   "source": [
    "## Random Forest(RF)"
   ]
  },
  {
   "cell_type": "code",
   "execution_count": 264,
   "metadata": {},
   "outputs": [],
   "source": [
    "library(randomForest)"
   ]
  },
  {
   "cell_type": "code",
   "execution_count": 265,
   "metadata": {},
   "outputs": [],
   "source": [
    "train_random_forest_daily=train_daily[8:.N]"
   ]
  },
  {
   "cell_type": "code",
   "execution_count": 314,
   "metadata": {},
   "outputs": [
    {
     "data": {
      "text/plain": [
       "\n",
       "Call:\n",
       " randomForest(formula = Consumption ~ . - date, data = train_random_forest_daily,      ntree = 300, nodesize = 30) \n",
       "               Type of random forest: regression\n",
       "                     Number of trees: 300\n",
       "No. of variables tried at each split: 5\n",
       "\n",
       "          Mean of squared residuals: 768322035\n",
       "                    % Var explained: 88.73"
      ]
     },
     "metadata": {},
     "output_type": "display_data"
    }
   ],
   "source": [
    "random_forest_daily=randomForest(Consumption~.-date,data=train_random_forest_daily,\n",
    "                           ntree=300,nodesize=30)\n",
    "random_forest_daily"
   ]
  },
  {
   "cell_type": "code",
   "execution_count": 315,
   "metadata": {},
   "outputs": [
    {
     "data": {
      "image/png": "[encoded data removed]",
      "text/plain": [
       "Plot with title \"random_forest_daily\""
      ]
     },
     "metadata": {},
     "output_type": "display_data"
    }
   ],
   "source": [
    "varImpPlot(random_forest_daily)"
   ]
  },
  {
   "cell_type": "code",
   "execution_count": 316,
   "metadata": {},
   "outputs": [],
   "source": [
    "PredictRandomForest_daily=predict(random_forest_daily,newdata=test_daily)"
   ]
  },
  {
   "cell_type": "markdown",
   "metadata": {},
   "source": [
    "### Performanca Measure"
   ]
  },
  {
   "cell_type": "code",
   "execution_count": 317,
   "metadata": {
    "scrolled": true
   },
   "outputs": [
    {
     "data": {
      "text/html": [
       "<table>\n",
       "<thead><tr><th scope=col>name</th><th scope=col>n</th><th scope=col>mean</th><th scope=col>sd</th><th scope=col>FBias</th><th scope=col>MAPE</th><th scope=col>RMSE</th><th scope=col>MAD</th><th scope=col>WMAPE</th></tr></thead>\n",
       "<tbody>\n",
       "\t<tr><td>Decision Tree-daily</td><td>38                 </td><td>839774.3           </td><td>61167.81           </td><td>-0.007851525       </td><td>0.02863335         </td><td>6843.236           </td><td>22683.19           </td><td>0.02701105         </td></tr>\n",
       "</tbody>\n",
       "</table>\n"
      ],
      "text/latex": [
       "\\begin{tabular}{r|lllllllll}\n",
       " name & n & mean & sd & FBias & MAPE & RMSE & MAD & WMAPE\\\\\n",
       "\\hline\n",
       "\t Decision Tree-daily & 38                  & 839774.3            & 61167.81            & -0.007851525        & 0.02863335          & 6843.236            & 22683.19            & 0.02701105         \\\\\n",
       "\\end{tabular}\n"
      ],
      "text/markdown": [
       "\n",
       "| name | n | mean | sd | FBias | MAPE | RMSE | MAD | WMAPE |\n",
       "|---|---|---|---|---|---|---|---|---|\n",
       "| Decision Tree-daily | 38                  | 839774.3            | 61167.81            | -0.007851525        | 0.02863335          | 6843.236            | 22683.19            | 0.02701105          |\n",
       "\n"
      ],
      "text/plain": [
       "  name                n  mean     sd       FBias        MAPE       RMSE    \n",
       "1 Decision Tree-daily 38 839774.3 61167.81 -0.007851525 0.02863335 6843.236\n",
       "  MAD      WMAPE     \n",
       "1 22683.19 0.02701105"
      ]
     },
     "metadata": {},
     "output_type": "display_data"
    },
    {
     "data": {
      "text/html": [
       "<table>\n",
       "<thead><tr><th scope=col>name</th><th scope=col>n</th><th scope=col>mean</th><th scope=col>sd</th><th scope=col>FBias</th><th scope=col>MAPE</th><th scope=col>RMSE</th><th scope=col>MAD</th><th scope=col>WMAPE</th></tr></thead>\n",
       "<tbody>\n",
       "\t<tr><td>Random Forest-daily</td><td>38                 </td><td>839774.3           </td><td>61167.81           </td><td>0.02093843         </td><td>0.03681139         </td><td>5762.231           </td><td>30286.1            </td><td>0.03606457         </td></tr>\n",
       "</tbody>\n",
       "</table>\n"
      ],
      "text/latex": [
       "\\begin{tabular}{r|lllllllll}\n",
       " name & n & mean & sd & FBias & MAPE & RMSE & MAD & WMAPE\\\\\n",
       "\\hline\n",
       "\t Random Forest-daily & 38                  & 839774.3            & 61167.81            & 0.02093843          & 0.03681139          & 5762.231            & 30286.1             & 0.03606457         \\\\\n",
       "\\end{tabular}\n"
      ],
      "text/markdown": [
       "\n",
       "| name | n | mean | sd | FBias | MAPE | RMSE | MAD | WMAPE |\n",
       "|---|---|---|---|---|---|---|---|---|\n",
       "| Random Forest-daily | 38                  | 839774.3            | 61167.81            | 0.02093843          | 0.03681139          | 5762.231            | 30286.1             | 0.03606457          |\n",
       "\n"
      ],
      "text/plain": [
       "  name                n  mean     sd       FBias      MAPE       RMSE    \n",
       "1 Random Forest-daily 38 839774.3 61167.81 0.02093843 0.03681139 5762.231\n",
       "  MAD     WMAPE     \n",
       "1 30286.1 0.03606457"
      ]
     },
     "metadata": {},
     "output_type": "display_data"
    }
   ],
   "source": [
    "perf_dt(\"Decision Tree-daily\",test_daily$Consumption,PredictCART_daily)\n",
    "perf_dt(\"Random Forest-daily\",test_daily$Consumption,PredictRandomForest_daily)"
   ]
  },
  {
   "cell_type": "markdown",
   "metadata": {},
   "source": [
    "## Stochastic Gradient Boosting(SGB)"
   ]
  },
  {
   "cell_type": "code",
   "execution_count": null,
   "metadata": {},
   "outputs": [],
   "source": [
    "# plot results\n",
    "plot(t, y1, t=\"l\", ylim=range(y1,y2)*c(1,1.2))\n",
    "lines(t, y2, col=2)\n",
    "legend(\"top\", legend=c(\"y1\", \"y2\"), col=1:2, lty=1, ncol=2, bty=\"n\")\n",
    "\n",
    "require(gbm)\n",
    "dat=data.frame(t=t,y=y1)\n",
    "noftrees=100\n",
    "depth=5\n",
    "learning_rate=0.01\n",
    "sampling_fraction=1\n",
    "y=y1\n",
    "boosting_model=gbm(y~., data=dat,distribution = \"gaussian\", n.trees = noftrees,\n",
    "        interaction.depth = depth, n.minobsinnode = 5, shrinkage =learning_rate ,\n",
    "        bag.fraction = sampling_fraction)\n",
    "        \n",
    "for(i in 1:noftrees){\n",
    "    print(i)\n",
    "    predicted=predict(boosting_model,dat,n.trees=i)\n",
    "\n",
    "    if(i %% 10 ==0){\n",
    "       plot(t, y, t=\"l\", ylim=range(y1,y2)*c(1,1.2),main=paste0('Tree:',i))\n",
    "        lines(t, predicted, col=2)\n",
    "        legend(\"top\", legend=c(\"y\", \"predicted\"), col=1:2, lty=1, ncol=2, bty=\"n\")\n",
    "        Sys.sleep(1)\n",
    "    }\n",
    "}    "
   ]
  },
  {
   "cell_type": "code",
   "execution_count": null,
   "metadata": {},
   "outputs": [],
   "source": []
  },
  {
   "cell_type": "code",
   "execution_count": null,
   "metadata": {},
   "outputs": [],
   "source": []
  },
  {
   "cell_type": "code",
   "execution_count": null,
   "metadata": {},
   "outputs": [],
   "source": []
  },
  {
   "cell_type": "code",
   "execution_count": null,
   "metadata": {},
   "outputs": [],
   "source": []
  },
  {
   "cell_type": "code",
   "execution_count": null,
   "metadata": {},
   "outputs": [],
   "source": []
  },
  {
   "cell_type": "code",
   "execution_count": null,
   "metadata": {},
   "outputs": [],
   "source": []
  },
  {
   "cell_type": "code",
   "execution_count": null,
   "metadata": {},
   "outputs": [],
   "source": []
  },
  {
   "cell_type": "code",
   "execution_count": null,
   "metadata": {},
   "outputs": [],
   "source": []
  },
  {
   "cell_type": "code",
   "execution_count": null,
   "metadata": {},
   "outputs": [],
   "source": []
  },
  {
   "cell_type": "code",
   "execution_count": null,
   "metadata": {},
   "outputs": [],
   "source": []
  },
  {
   "cell_type": "code",
   "execution_count": null,
   "metadata": {},
   "outputs": [],
   "source": []
  },
  {
   "cell_type": "markdown",
   "metadata": {},
   "source": [
    "# Third Dataset"
   ]
  },
  {
   "cell_type": "markdown",
   "metadata": {},
   "source": [
    "### Loading Dataset"
   ]
  },
  {
   "cell_type": "code",
   "execution_count": 53,
   "metadata": {},
   "outputs": [],
   "source": [
    "pisa_train=read.csv(\"pisa_train.csv\")"
   ]
  },
  {
   "cell_type": "code",
   "execution_count": 54,
   "metadata": {},
   "outputs": [
    {
     "name": "stdout",
     "output_type": "stream",
     "text": [
      "'data.frame':\t3663 obs. of  24 variables:\n",
      " $ grade                : int  11 11 9 10 10 10 10 10 9 10 ...\n",
      " $ male                 : int  1 1 1 0 1 1 0 0 0 1 ...\n",
      " $ raceeth              : Factor w/ 7 levels \"American Indian/Alaska Native\",..: NA 7 7 3 4 3 2 7 7 5 ...\n",
      " $ preschool            : int  NA 0 1 1 1 1 0 1 1 1 ...\n",
      " $ expectBachelors      : int  0 0 1 1 0 1 1 1 0 1 ...\n",
      " $ motherHS             : int  NA 1 1 0 1 NA 1 1 1 1 ...\n",
      " $ motherBachelors      : int  NA 1 1 0 0 NA 0 0 NA 1 ...\n",
      " $ motherWork           : int  1 1 1 1 1 1 1 0 1 1 ...\n",
      " $ fatherHS             : int  NA 1 1 1 1 1 NA 1 0 0 ...\n",
      " $ fatherBachelors      : int  NA 0 NA 0 0 0 NA 0 NA 0 ...\n",
      " $ fatherWork           : int  1 1 1 1 0 1 NA 1 1 1 ...\n",
      " $ selfBornUS           : int  1 1 1 1 1 1 0 1 1 1 ...\n",
      " $ motherBornUS         : int  0 1 1 1 1 1 1 1 1 1 ...\n",
      " $ fatherBornUS         : int  0 1 1 1 0 1 NA 1 1 1 ...\n",
      " $ englishAtHome        : int  0 1 1 1 1 1 1 1 1 1 ...\n",
      " $ computerForSchoolwork: int  1 1 1 1 1 1 1 1 1 1 ...\n",
      " $ read30MinsADay       : int  0 1 0 1 1 0 0 1 0 0 ...\n",
      " $ minutesPerWeekEnglish: int  225 450 250 200 250 300 250 300 378 294 ...\n",
      " $ studentsInEnglish    : int  NA 25 28 23 35 20 28 30 20 24 ...\n",
      " $ schoolHasLibrary     : int  1 1 1 1 1 1 1 1 0 1 ...\n",
      " $ publicSchool         : int  1 1 1 1 1 1 1 1 1 1 ...\n",
      " $ urban                : int  1 0 0 1 1 0 1 0 1 0 ...\n",
      " $ schoolSize           : int  673 1173 1233 2640 1095 227 2080 1913 502 899 ...\n",
      " $ readingScore         : num  476 575 555 458 614 ...\n"
     ]
    }
   ],
   "source": [
    "str(pisa_train)"
   ]
  },
  {
   "cell_type": "code",
   "execution_count": 169,
   "metadata": {},
   "outputs": [],
   "source": [
    "set.seed(35)\n",
    "spl=sample.split(std_eva$difficulty, SplitRatio = 0.8)\n",
    "train=subset(std_eva,spl==TRUE)\n",
    "test=subset(std_eva,spl==FALSE)"
   ]
  },
  {
   "cell_type": "markdown",
   "metadata": {},
   "source": [
    "## Penalized Regression Approaches(PRA)"
   ]
  },
  {
   "cell_type": "code",
   "execution_count": 170,
   "metadata": {},
   "outputs": [],
   "source": [
    "train_mat=data.matrix(train[complete.cases(train),-c(\"difficulty\"),with=F])\n",
    "\n",
    "result_vec=as.vector(t(train[complete.cases(train),\"difficulty\"]))\n",
    "\n",
    "cvfit=cv.glmnet(train_mat,result_vec,family=\"multinomial\",nfolds = 10,type.measure=\"class\")\n",
    "\n",
    "test_mat=data.matrix(test[complete.cases(test),-c(\"difficulty\")])\n",
    "\n",
    "lasso_model <- glmnet(train_mat,result_vec, alpha = 1, lambda = cvfit$lambda.min, standardize = FALSE)"
   ]
  },
  {
   "cell_type": "code",
   "execution_count": 171,
   "metadata": {},
   "outputs": [],
   "source": [
    "predicts_hour <- predict(lasso_model, s = cvfit$lambda.min, newx = test_mat,type=\"response\")"
   ]
  },
  {
   "cell_type": "code",
   "execution_count": 172,
   "metadata": {},
   "outputs": [],
   "source": [
    "res_pr_1=data.table(actual=test$difficulty,\n",
    "                   prediction_val=round(predicts_hour+0.5))\n",
    "setnames(res_pr_1, \"prediction_val.1\", \"prediction\")"
   ]
  },
  {
   "cell_type": "code",
   "execution_count": 173,
   "metadata": {},
   "outputs": [
    {
     "data": {
      "text/html": [
       "<table>\n",
       "<thead><tr><th scope=col>name</th><th scope=col>n</th><th scope=col>mean</th><th scope=col>sd</th><th scope=col>FBias</th><th scope=col>MAPE</th><th scope=col>RMSE</th><th scope=col>MAD</th><th scope=col>WMAPE</th></tr></thead>\n",
       "<tbody>\n",
       "\t<tr><td>First Data Set for Lasso Function</td><td>1164                             </td><td>2.782646                         </td><td>1.348866                         </td><td>-0.1960482                       </td><td>0.6912085                        </td><td>0.0401948                        </td><td>1.079897                         </td><td>0.3880827                        </td></tr>\n",
       "</tbody>\n",
       "</table>\n"
      ],
      "text/latex": [
       "\\begin{tabular}{r|lllllllll}\n",
       " name & n & mean & sd & FBias & MAPE & RMSE & MAD & WMAPE\\\\\n",
       "\\hline\n",
       "\t First Data Set for Lasso Function & 1164                              & 2.782646                          & 1.348866                          & -0.1960482                        & 0.6912085                         & 0.0401948                         & 1.079897                          & 0.3880827                        \\\\\n",
       "\\end{tabular}\n"
      ],
      "text/markdown": [
       "\n",
       "| name | n | mean | sd | FBias | MAPE | RMSE | MAD | WMAPE |\n",
       "|---|---|---|---|---|---|---|---|---|\n",
       "| First Data Set for Lasso Function | 1164                              | 2.782646                          | 1.348866                          | -0.1960482                        | 0.6912085                         | 0.0401948                         | 1.079897                          | 0.3880827                         |\n",
       "\n"
      ],
      "text/plain": [
       "  name                              n    mean     sd       FBias      MAPE     \n",
       "1 First Data Set for Lasso Function 1164 2.782646 1.348866 -0.1960482 0.6912085\n",
       "  RMSE      MAD      WMAPE    \n",
       "1 0.0401948 1.079897 0.3880827"
      ]
     },
     "metadata": {},
     "output_type": "display_data"
    }
   ],
   "source": [
    "perf_dt(\"First Data Set for Lasso Function\", as.numeric(res_pr_1$actual), res_pr_1$prediction)"
   ]
  },
  {
   "cell_type": "markdown",
   "metadata": {},
   "source": [
    "## Decision Tree(DT)"
   ]
  },
  {
   "cell_type": "code",
   "execution_count": 175,
   "metadata": {},
   "outputs": [
    {
     "data": {
      "text/html": [
       "<dl class=dl-horizontal>\n",
       "\t<dt>attendance</dt>\n",
       "\t\t<dd>519.073230534664</dd>\n",
       "\t<dt>class</dt>\n",
       "\t\t<dd>66.3797501175982</dd>\n",
       "\t<dt>Q17</dt>\n",
       "\t\t<dd>31.7123697944968</dd>\n",
       "\t<dt>Q25</dt>\n",
       "\t\t<dd>24.0092504025806</dd>\n",
       "\t<dt>Q14</dt>\n",
       "\t\t<dd>21.3039827515856</dd>\n",
       "\t<dt>Q15</dt>\n",
       "\t\t<dd>20.6276658388369</dd>\n",
       "\t<dt>Q3</dt>\n",
       "\t\t<dd>20.2895073824625</dd>\n",
       "\t<dt>Q10</dt>\n",
       "\t\t<dd>18.1626642269832</dd>\n",
       "\t<dt>instr</dt>\n",
       "\t\t<dd>15.5669562395413</dd>\n",
       "\t<dt>Q7</dt>\n",
       "\t\t<dd>10.7572861086854</dd>\n",
       "\t<dt>Q24</dt>\n",
       "\t\t<dd>10.6793347600717</dd>\n",
       "\t<dt>Q8</dt>\n",
       "\t\t<dd>10.601383411458</dd>\n",
       "\t<dt>Q26</dt>\n",
       "\t\t<dd>10.5234320628444</dd>\n",
       "\t<dt>Q9</dt>\n",
       "\t\t<dd>10.2116266683897</dd>\n",
       "\t<dt>Q11</dt>\n",
       "\t\t<dd>0.589298080225845</dd>\n",
       "\t<dt>Q21</dt>\n",
       "\t\t<dd>0.41871179384468</dd>\n",
       "\t<dt>Q22</dt>\n",
       "\t\t<dd>0.201601974814104</dd>\n",
       "</dl>\n"
      ],
      "text/latex": [
       "\\begin{description*}\n",
       "\\item[attendance] 519.073230534664\n",
       "\\item[class] 66.3797501175982\n",
       "\\item[Q17] 31.7123697944968\n",
       "\\item[Q25] 24.0092504025806\n",
       "\\item[Q14] 21.3039827515856\n",
       "\\item[Q15] 20.6276658388369\n",
       "\\item[Q3] 20.2895073824625\n",
       "\\item[Q10] 18.1626642269832\n",
       "\\item[instr] 15.5669562395413\n",
       "\\item[Q7] 10.7572861086854\n",
       "\\item[Q24] 10.6793347600717\n",
       "\\item[Q8] 10.601383411458\n",
       "\\item[Q26] 10.5234320628444\n",
       "\\item[Q9] 10.2116266683897\n",
       "\\item[Q11] 0.589298080225845\n",
       "\\item[Q21] 0.41871179384468\n",
       "\\item[Q22] 0.201601974814104\n",
       "\\end{description*}\n"
      ],
      "text/markdown": [
       "attendance\n",
       ":   519.073230534664class\n",
       ":   66.3797501175982Q17\n",
       ":   31.7123697944968Q25\n",
       ":   24.0092504025806Q14\n",
       ":   21.3039827515856Q15\n",
       ":   20.6276658388369Q3\n",
       ":   20.2895073824625Q10\n",
       ":   18.1626642269832instr\n",
       ":   15.5669562395413Q7\n",
       ":   10.7572861086854Q24\n",
       ":   10.6793347600717Q8\n",
       ":   10.601383411458Q26\n",
       ":   10.5234320628444Q9\n",
       ":   10.2116266683897Q11\n",
       ":   0.589298080225845Q21\n",
       ":   0.41871179384468Q22\n",
       ":   0.201601974814104\n",
       "\n"
      ],
      "text/plain": [
       " attendance       class         Q17         Q25         Q14         Q15 \n",
       "519.0732305  66.3797501  31.7123698  24.0092504  21.3039828  20.6276658 \n",
       "         Q3         Q10       instr          Q7         Q24          Q8 \n",
       " 20.2895074  18.1626642  15.5669562  10.7572861  10.6793348  10.6013834 \n",
       "        Q26          Q9         Q11         Q21         Q22 \n",
       " 10.5234321  10.2116267   0.5892981   0.4187118   0.2016020 "
      ]
     },
     "metadata": {},
     "output_type": "display_data"
    },
    {
     "data": {
      "image/png": "[encoded data removed]",
      "text/plain": [
       "Plot with title \"\""
      ]
     },
     "metadata": {},
     "output_type": "display_data"
    }
   ],
   "source": [
    "reg_tree_std=rpart(difficulty~.,train,method='class',minbucket=100)\n",
    "fancyRpartPlot(reg_tree_std)\n",
    "reg_tree_std$variable.importance"
   ]
  },
  {
   "cell_type": "code",
   "execution_count": 164,
   "metadata": {},
   "outputs": [],
   "source": [
    "predicted_std=predict(reg_tree_std,newdata=test,type=\"class\")"
   ]
  },
  {
   "cell_type": "markdown",
   "metadata": {},
   "source": [
    "### Performanca Measure"
   ]
  },
  {
   "cell_type": "code",
   "execution_count": 165,
   "metadata": {},
   "outputs": [
    {
     "data": {
      "text/html": [
       "<table>\n",
       "<thead><tr><th scope=col>1</th><th scope=col>2</th><th scope=col>3</th><th scope=col>4</th><th scope=col>5</th></tr></thead>\n",
       "<tbody>\n",
       "\t<tr><td>0.69055375</td><td>0.05537459</td><td>0.1179153 </td><td>0.07882736</td><td>0.05732899</td></tr>\n",
       "\t<tr><td>0.05285868</td><td>0.09600863</td><td>0.4163970 </td><td>0.34088457</td><td>0.09385113</td></tr>\n",
       "\t<tr><td>0.05285868</td><td>0.09600863</td><td>0.4163970 </td><td>0.34088457</td><td>0.09385113</td></tr>\n",
       "\t<tr><td>0.05285868</td><td>0.09600863</td><td>0.4163970 </td><td>0.34088457</td><td>0.09385113</td></tr>\n",
       "\t<tr><td>0.05285868</td><td>0.09600863</td><td>0.4163970 </td><td>0.34088457</td><td>0.09385113</td></tr>\n",
       "\t<tr><td>0.05285868</td><td>0.09600863</td><td>0.4163970 </td><td>0.34088457</td><td>0.09385113</td></tr>\n",
       "\t<tr><td>0.69055375</td><td>0.05537459</td><td>0.1179153 </td><td>0.07882736</td><td>0.05732899</td></tr>\n",
       "\t<tr><td>0.05285868</td><td>0.09600863</td><td>0.4163970 </td><td>0.34088457</td><td>0.09385113</td></tr>\n",
       "\t<tr><td>0.05285868</td><td>0.09600863</td><td>0.4163970 </td><td>0.34088457</td><td>0.09385113</td></tr>\n",
       "\t<tr><td>0.05285868</td><td>0.09600863</td><td>0.4163970 </td><td>0.34088457</td><td>0.09385113</td></tr>\n",
       "\t<tr><td>0.05285868</td><td>0.09600863</td><td>0.4163970 </td><td>0.34088457</td><td>0.09385113</td></tr>\n",
       "\t<tr><td>0.05285868</td><td>0.09600863</td><td>0.4163970 </td><td>0.34088457</td><td>0.09385113</td></tr>\n",
       "\t<tr><td>0.05285868</td><td>0.09600863</td><td>0.4163970 </td><td>0.34088457</td><td>0.09385113</td></tr>\n",
       "\t<tr><td>0.05285868</td><td>0.09600863</td><td>0.4163970 </td><td>0.34088457</td><td>0.09385113</td></tr>\n",
       "\t<tr><td>0.05285868</td><td>0.09600863</td><td>0.4163970 </td><td>0.34088457</td><td>0.09385113</td></tr>\n",
       "\t<tr><td>0.05285868</td><td>0.09600863</td><td>0.4163970 </td><td>0.34088457</td><td>0.09385113</td></tr>\n",
       "\t<tr><td>0.05285868</td><td>0.09600863</td><td>0.4163970 </td><td>0.34088457</td><td>0.09385113</td></tr>\n",
       "\t<tr><td>0.05285868</td><td>0.09600863</td><td>0.4163970 </td><td>0.34088457</td><td>0.09385113</td></tr>\n",
       "\t<tr><td>0.05285868</td><td>0.09600863</td><td>0.4163970 </td><td>0.34088457</td><td>0.09385113</td></tr>\n",
       "\t<tr><td>0.05285868</td><td>0.09600863</td><td>0.4163970 </td><td>0.34088457</td><td>0.09385113</td></tr>\n",
       "\t<tr><td>0.69055375</td><td>0.05537459</td><td>0.1179153 </td><td>0.07882736</td><td>0.05732899</td></tr>\n",
       "\t<tr><td>0.05285868</td><td>0.09600863</td><td>0.4163970 </td><td>0.34088457</td><td>0.09385113</td></tr>\n",
       "\t<tr><td>0.05285868</td><td>0.09600863</td><td>0.4163970 </td><td>0.34088457</td><td>0.09385113</td></tr>\n",
       "\t<tr><td>0.69055375</td><td>0.05537459</td><td>0.1179153 </td><td>0.07882736</td><td>0.05732899</td></tr>\n",
       "\t<tr><td>0.05285868</td><td>0.09600863</td><td>0.4163970 </td><td>0.34088457</td><td>0.09385113</td></tr>\n",
       "\t<tr><td>0.05285868</td><td>0.09600863</td><td>0.4163970 </td><td>0.34088457</td><td>0.09385113</td></tr>\n",
       "\t<tr><td>0.69055375</td><td>0.05537459</td><td>0.1179153 </td><td>0.07882736</td><td>0.05732899</td></tr>\n",
       "\t<tr><td>0.69055375</td><td>0.05537459</td><td>0.1179153 </td><td>0.07882736</td><td>0.05732899</td></tr>\n",
       "\t<tr><td>0.07547170</td><td>0.04905660</td><td>0.2981132 </td><td>0.38113208</td><td>0.19622642</td></tr>\n",
       "\t<tr><td>0.07547170</td><td>0.04905660</td><td>0.2981132 </td><td>0.38113208</td><td>0.19622642</td></tr>\n",
       "\t<tr><td>...</td><td>...</td><td>...</td><td>...</td><td>...</td></tr>\n",
       "\t<tr><td>0.08662093</td><td>0.18524871</td><td>0.4819897 </td><td>0.15694683</td><td>0.08919383</td></tr>\n",
       "\t<tr><td>0.08662093</td><td>0.18524871</td><td>0.4819897 </td><td>0.15694683</td><td>0.08919383</td></tr>\n",
       "\t<tr><td>0.08662093</td><td>0.18524871</td><td>0.4819897 </td><td>0.15694683</td><td>0.08919383</td></tr>\n",
       "\t<tr><td>0.69055375</td><td>0.05537459</td><td>0.1179153 </td><td>0.07882736</td><td>0.05732899</td></tr>\n",
       "\t<tr><td>0.08662093</td><td>0.18524871</td><td>0.4819897 </td><td>0.15694683</td><td>0.08919383</td></tr>\n",
       "\t<tr><td>0.69055375</td><td>0.05537459</td><td>0.1179153 </td><td>0.07882736</td><td>0.05732899</td></tr>\n",
       "\t<tr><td>0.69055375</td><td>0.05537459</td><td>0.1179153 </td><td>0.07882736</td><td>0.05732899</td></tr>\n",
       "\t<tr><td>0.69055375</td><td>0.05537459</td><td>0.1179153 </td><td>0.07882736</td><td>0.05732899</td></tr>\n",
       "\t<tr><td>0.08662093</td><td>0.18524871</td><td>0.4819897 </td><td>0.15694683</td><td>0.08919383</td></tr>\n",
       "\t<tr><td>0.69055375</td><td>0.05537459</td><td>0.1179153 </td><td>0.07882736</td><td>0.05732899</td></tr>\n",
       "\t<tr><td>0.08662093</td><td>0.18524871</td><td>0.4819897 </td><td>0.15694683</td><td>0.08919383</td></tr>\n",
       "\t<tr><td>0.69055375</td><td>0.05537459</td><td>0.1179153 </td><td>0.07882736</td><td>0.05732899</td></tr>\n",
       "\t<tr><td>0.08662093</td><td>0.18524871</td><td>0.4819897 </td><td>0.15694683</td><td>0.08919383</td></tr>\n",
       "\t<tr><td>0.08662093</td><td>0.18524871</td><td>0.4819897 </td><td>0.15694683</td><td>0.08919383</td></tr>\n",
       "\t<tr><td>0.08662093</td><td>0.18524871</td><td>0.4819897 </td><td>0.15694683</td><td>0.08919383</td></tr>\n",
       "\t<tr><td>0.08662093</td><td>0.18524871</td><td>0.4819897 </td><td>0.15694683</td><td>0.08919383</td></tr>\n",
       "\t<tr><td>0.08662093</td><td>0.18524871</td><td>0.4819897 </td><td>0.15694683</td><td>0.08919383</td></tr>\n",
       "\t<tr><td>0.69055375</td><td>0.05537459</td><td>0.1179153 </td><td>0.07882736</td><td>0.05732899</td></tr>\n",
       "\t<tr><td>0.08662093</td><td>0.18524871</td><td>0.4819897 </td><td>0.15694683</td><td>0.08919383</td></tr>\n",
       "\t<tr><td>0.08662093</td><td>0.18524871</td><td>0.4819897 </td><td>0.15694683</td><td>0.08919383</td></tr>\n",
       "\t<tr><td>0.08662093</td><td>0.18524871</td><td>0.4819897 </td><td>0.15694683</td><td>0.08919383</td></tr>\n",
       "\t<tr><td>0.08662093</td><td>0.18524871</td><td>0.4819897 </td><td>0.15694683</td><td>0.08919383</td></tr>\n",
       "\t<tr><td>0.69055375</td><td>0.05537459</td><td>0.1179153 </td><td>0.07882736</td><td>0.05732899</td></tr>\n",
       "\t<tr><td>0.08662093</td><td>0.18524871</td><td>0.4819897 </td><td>0.15694683</td><td>0.08919383</td></tr>\n",
       "\t<tr><td>0.69055375</td><td>0.05537459</td><td>0.1179153 </td><td>0.07882736</td><td>0.05732899</td></tr>\n",
       "\t<tr><td>0.08662093</td><td>0.18524871</td><td>0.4819897 </td><td>0.15694683</td><td>0.08919383</td></tr>\n",
       "\t<tr><td>0.08662093</td><td>0.18524871</td><td>0.4819897 </td><td>0.15694683</td><td>0.08919383</td></tr>\n",
       "\t<tr><td>0.08662093</td><td>0.18524871</td><td>0.4819897 </td><td>0.15694683</td><td>0.08919383</td></tr>\n",
       "\t<tr><td>0.08662093</td><td>0.18524871</td><td>0.4819897 </td><td>0.15694683</td><td>0.08919383</td></tr>\n",
       "\t<tr><td>0.08662093</td><td>0.18524871</td><td>0.4819897 </td><td>0.15694683</td><td>0.08919383</td></tr>\n",
       "</tbody>\n",
       "</table>\n"
      ],
      "text/latex": [
       "\\begin{tabular}{r|lllll}\n",
       " 1 & 2 & 3 & 4 & 5\\\\\n",
       "\\hline\n",
       "\t 0.69055375 & 0.05537459 & 0.1179153  & 0.07882736 & 0.05732899\\\\\n",
       "\t 0.05285868 & 0.09600863 & 0.4163970  & 0.34088457 & 0.09385113\\\\\n",
       "\t 0.05285868 & 0.09600863 & 0.4163970  & 0.34088457 & 0.09385113\\\\\n",
       "\t 0.05285868 & 0.09600863 & 0.4163970  & 0.34088457 & 0.09385113\\\\\n",
       "\t 0.05285868 & 0.09600863 & 0.4163970  & 0.34088457 & 0.09385113\\\\\n",
       "\t 0.05285868 & 0.09600863 & 0.4163970  & 0.34088457 & 0.09385113\\\\\n",
       "\t 0.69055375 & 0.05537459 & 0.1179153  & 0.07882736 & 0.05732899\\\\\n",
       "\t 0.05285868 & 0.09600863 & 0.4163970  & 0.34088457 & 0.09385113\\\\\n",
       "\t 0.05285868 & 0.09600863 & 0.4163970  & 0.34088457 & 0.09385113\\\\\n",
       "\t 0.05285868 & 0.09600863 & 0.4163970  & 0.34088457 & 0.09385113\\\\\n",
       "\t 0.05285868 & 0.09600863 & 0.4163970  & 0.34088457 & 0.09385113\\\\\n",
       "\t 0.05285868 & 0.09600863 & 0.4163970  & 0.34088457 & 0.09385113\\\\\n",
       "\t 0.05285868 & 0.09600863 & 0.4163970  & 0.34088457 & 0.09385113\\\\\n",
       "\t 0.05285868 & 0.09600863 & 0.4163970  & 0.34088457 & 0.09385113\\\\\n",
       "\t 0.05285868 & 0.09600863 & 0.4163970  & 0.34088457 & 0.09385113\\\\\n",
       "\t 0.05285868 & 0.09600863 & 0.4163970  & 0.34088457 & 0.09385113\\\\\n",
       "\t 0.05285868 & 0.09600863 & 0.4163970  & 0.34088457 & 0.09385113\\\\\n",
       "\t 0.05285868 & 0.09600863 & 0.4163970  & 0.34088457 & 0.09385113\\\\\n",
       "\t 0.05285868 & 0.09600863 & 0.4163970  & 0.34088457 & 0.09385113\\\\\n",
       "\t 0.05285868 & 0.09600863 & 0.4163970  & 0.34088457 & 0.09385113\\\\\n",
       "\t 0.69055375 & 0.05537459 & 0.1179153  & 0.07882736 & 0.05732899\\\\\n",
       "\t 0.05285868 & 0.09600863 & 0.4163970  & 0.34088457 & 0.09385113\\\\\n",
       "\t 0.05285868 & 0.09600863 & 0.4163970  & 0.34088457 & 0.09385113\\\\\n",
       "\t 0.69055375 & 0.05537459 & 0.1179153  & 0.07882736 & 0.05732899\\\\\n",
       "\t 0.05285868 & 0.09600863 & 0.4163970  & 0.34088457 & 0.09385113\\\\\n",
       "\t 0.05285868 & 0.09600863 & 0.4163970  & 0.34088457 & 0.09385113\\\\\n",
       "\t 0.69055375 & 0.05537459 & 0.1179153  & 0.07882736 & 0.05732899\\\\\n",
       "\t 0.69055375 & 0.05537459 & 0.1179153  & 0.07882736 & 0.05732899\\\\\n",
       "\t 0.07547170 & 0.04905660 & 0.2981132  & 0.38113208 & 0.19622642\\\\\n",
       "\t 0.07547170 & 0.04905660 & 0.2981132  & 0.38113208 & 0.19622642\\\\\n",
       "\t ... & ... & ... & ... & ...\\\\\n",
       "\t 0.08662093 & 0.18524871 & 0.4819897  & 0.15694683 & 0.08919383\\\\\n",
       "\t 0.08662093 & 0.18524871 & 0.4819897  & 0.15694683 & 0.08919383\\\\\n",
       "\t 0.08662093 & 0.18524871 & 0.4819897  & 0.15694683 & 0.08919383\\\\\n",
       "\t 0.69055375 & 0.05537459 & 0.1179153  & 0.07882736 & 0.05732899\\\\\n",
       "\t 0.08662093 & 0.18524871 & 0.4819897  & 0.15694683 & 0.08919383\\\\\n",
       "\t 0.69055375 & 0.05537459 & 0.1179153  & 0.07882736 & 0.05732899\\\\\n",
       "\t 0.69055375 & 0.05537459 & 0.1179153  & 0.07882736 & 0.05732899\\\\\n",
       "\t 0.69055375 & 0.05537459 & 0.1179153  & 0.07882736 & 0.05732899\\\\\n",
       "\t 0.08662093 & 0.18524871 & 0.4819897  & 0.15694683 & 0.08919383\\\\\n",
       "\t 0.69055375 & 0.05537459 & 0.1179153  & 0.07882736 & 0.05732899\\\\\n",
       "\t 0.08662093 & 0.18524871 & 0.4819897  & 0.15694683 & 0.08919383\\\\\n",
       "\t 0.69055375 & 0.05537459 & 0.1179153  & 0.07882736 & 0.05732899\\\\\n",
       "\t 0.08662093 & 0.18524871 & 0.4819897  & 0.15694683 & 0.08919383\\\\\n",
       "\t 0.08662093 & 0.18524871 & 0.4819897  & 0.15694683 & 0.08919383\\\\\n",
       "\t 0.08662093 & 0.18524871 & 0.4819897  & 0.15694683 & 0.08919383\\\\\n",
       "\t 0.08662093 & 0.18524871 & 0.4819897  & 0.15694683 & 0.08919383\\\\\n",
       "\t 0.08662093 & 0.18524871 & 0.4819897  & 0.15694683 & 0.08919383\\\\\n",
       "\t 0.69055375 & 0.05537459 & 0.1179153  & 0.07882736 & 0.05732899\\\\\n",
       "\t 0.08662093 & 0.18524871 & 0.4819897  & 0.15694683 & 0.08919383\\\\\n",
       "\t 0.08662093 & 0.18524871 & 0.4819897  & 0.15694683 & 0.08919383\\\\\n",
       "\t 0.08662093 & 0.18524871 & 0.4819897  & 0.15694683 & 0.08919383\\\\\n",
       "\t 0.08662093 & 0.18524871 & 0.4819897  & 0.15694683 & 0.08919383\\\\\n",
       "\t 0.69055375 & 0.05537459 & 0.1179153  & 0.07882736 & 0.05732899\\\\\n",
       "\t 0.08662093 & 0.18524871 & 0.4819897  & 0.15694683 & 0.08919383\\\\\n",
       "\t 0.69055375 & 0.05537459 & 0.1179153  & 0.07882736 & 0.05732899\\\\\n",
       "\t 0.08662093 & 0.18524871 & 0.4819897  & 0.15694683 & 0.08919383\\\\\n",
       "\t 0.08662093 & 0.18524871 & 0.4819897  & 0.15694683 & 0.08919383\\\\\n",
       "\t 0.08662093 & 0.18524871 & 0.4819897  & 0.15694683 & 0.08919383\\\\\n",
       "\t 0.08662093 & 0.18524871 & 0.4819897  & 0.15694683 & 0.08919383\\\\\n",
       "\t 0.08662093 & 0.18524871 & 0.4819897  & 0.15694683 & 0.08919383\\\\\n",
       "\\end{tabular}\n"
      ],
      "text/markdown": [
       "\n",
       "| 1 | 2 | 3 | 4 | 5 |\n",
       "|---|---|---|---|---|\n",
       "| 0.69055375 | 0.05537459 | 0.1179153  | 0.07882736 | 0.05732899 |\n",
       "| 0.05285868 | 0.09600863 | 0.4163970  | 0.34088457 | 0.09385113 |\n",
       "| 0.05285868 | 0.09600863 | 0.4163970  | 0.34088457 | 0.09385113 |\n",
       "| 0.05285868 | 0.09600863 | 0.4163970  | 0.34088457 | 0.09385113 |\n",
       "| 0.05285868 | 0.09600863 | 0.4163970  | 0.34088457 | 0.09385113 |\n",
       "| 0.05285868 | 0.09600863 | 0.4163970  | 0.34088457 | 0.09385113 |\n",
       "| 0.69055375 | 0.05537459 | 0.1179153  | 0.07882736 | 0.05732899 |\n",
       "| 0.05285868 | 0.09600863 | 0.4163970  | 0.34088457 | 0.09385113 |\n",
       "| 0.05285868 | 0.09600863 | 0.4163970  | 0.34088457 | 0.09385113 |\n",
       "| 0.05285868 | 0.09600863 | 0.4163970  | 0.34088457 | 0.09385113 |\n",
       "| 0.05285868 | 0.09600863 | 0.4163970  | 0.34088457 | 0.09385113 |\n",
       "| 0.05285868 | 0.09600863 | 0.4163970  | 0.34088457 | 0.09385113 |\n",
       "| 0.05285868 | 0.09600863 | 0.4163970  | 0.34088457 | 0.09385113 |\n",
       "| 0.05285868 | 0.09600863 | 0.4163970  | 0.34088457 | 0.09385113 |\n",
       "| 0.05285868 | 0.09600863 | 0.4163970  | 0.34088457 | 0.09385113 |\n",
       "| 0.05285868 | 0.09600863 | 0.4163970  | 0.34088457 | 0.09385113 |\n",
       "| 0.05285868 | 0.09600863 | 0.4163970  | 0.34088457 | 0.09385113 |\n",
       "| 0.05285868 | 0.09600863 | 0.4163970  | 0.34088457 | 0.09385113 |\n",
       "| 0.05285868 | 0.09600863 | 0.4163970  | 0.34088457 | 0.09385113 |\n",
       "| 0.05285868 | 0.09600863 | 0.4163970  | 0.34088457 | 0.09385113 |\n",
       "| 0.69055375 | 0.05537459 | 0.1179153  | 0.07882736 | 0.05732899 |\n",
       "| 0.05285868 | 0.09600863 | 0.4163970  | 0.34088457 | 0.09385113 |\n",
       "| 0.05285868 | 0.09600863 | 0.4163970  | 0.34088457 | 0.09385113 |\n",
       "| 0.69055375 | 0.05537459 | 0.1179153  | 0.07882736 | 0.05732899 |\n",
       "| 0.05285868 | 0.09600863 | 0.4163970  | 0.34088457 | 0.09385113 |\n",
       "| 0.05285868 | 0.09600863 | 0.4163970  | 0.34088457 | 0.09385113 |\n",
       "| 0.69055375 | 0.05537459 | 0.1179153  | 0.07882736 | 0.05732899 |\n",
       "| 0.69055375 | 0.05537459 | 0.1179153  | 0.07882736 | 0.05732899 |\n",
       "| 0.07547170 | 0.04905660 | 0.2981132  | 0.38113208 | 0.19622642 |\n",
       "| 0.07547170 | 0.04905660 | 0.2981132  | 0.38113208 | 0.19622642 |\n",
       "| ... | ... | ... | ... | ... |\n",
       "| 0.08662093 | 0.18524871 | 0.4819897  | 0.15694683 | 0.08919383 |\n",
       "| 0.08662093 | 0.18524871 | 0.4819897  | 0.15694683 | 0.08919383 |\n",
       "| 0.08662093 | 0.18524871 | 0.4819897  | 0.15694683 | 0.08919383 |\n",
       "| 0.69055375 | 0.05537459 | 0.1179153  | 0.07882736 | 0.05732899 |\n",
       "| 0.08662093 | 0.18524871 | 0.4819897  | 0.15694683 | 0.08919383 |\n",
       "| 0.69055375 | 0.05537459 | 0.1179153  | 0.07882736 | 0.05732899 |\n",
       "| 0.69055375 | 0.05537459 | 0.1179153  | 0.07882736 | 0.05732899 |\n",
       "| 0.69055375 | 0.05537459 | 0.1179153  | 0.07882736 | 0.05732899 |\n",
       "| 0.08662093 | 0.18524871 | 0.4819897  | 0.15694683 | 0.08919383 |\n",
       "| 0.69055375 | 0.05537459 | 0.1179153  | 0.07882736 | 0.05732899 |\n",
       "| 0.08662093 | 0.18524871 | 0.4819897  | 0.15694683 | 0.08919383 |\n",
       "| 0.69055375 | 0.05537459 | 0.1179153  | 0.07882736 | 0.05732899 |\n",
       "| 0.08662093 | 0.18524871 | 0.4819897  | 0.15694683 | 0.08919383 |\n",
       "| 0.08662093 | 0.18524871 | 0.4819897  | 0.15694683 | 0.08919383 |\n",
       "| 0.08662093 | 0.18524871 | 0.4819897  | 0.15694683 | 0.08919383 |\n",
       "| 0.08662093 | 0.18524871 | 0.4819897  | 0.15694683 | 0.08919383 |\n",
       "| 0.08662093 | 0.18524871 | 0.4819897  | 0.15694683 | 0.08919383 |\n",
       "| 0.69055375 | 0.05537459 | 0.1179153  | 0.07882736 | 0.05732899 |\n",
       "| 0.08662093 | 0.18524871 | 0.4819897  | 0.15694683 | 0.08919383 |\n",
       "| 0.08662093 | 0.18524871 | 0.4819897  | 0.15694683 | 0.08919383 |\n",
       "| 0.08662093 | 0.18524871 | 0.4819897  | 0.15694683 | 0.08919383 |\n",
       "| 0.08662093 | 0.18524871 | 0.4819897  | 0.15694683 | 0.08919383 |\n",
       "| 0.69055375 | 0.05537459 | 0.1179153  | 0.07882736 | 0.05732899 |\n",
       "| 0.08662093 | 0.18524871 | 0.4819897  | 0.15694683 | 0.08919383 |\n",
       "| 0.69055375 | 0.05537459 | 0.1179153  | 0.07882736 | 0.05732899 |\n",
       "| 0.08662093 | 0.18524871 | 0.4819897  | 0.15694683 | 0.08919383 |\n",
       "| 0.08662093 | 0.18524871 | 0.4819897  | 0.15694683 | 0.08919383 |\n",
       "| 0.08662093 | 0.18524871 | 0.4819897  | 0.15694683 | 0.08919383 |\n",
       "| 0.08662093 | 0.18524871 | 0.4819897  | 0.15694683 | 0.08919383 |\n",
       "| 0.08662093 | 0.18524871 | 0.4819897  | 0.15694683 | 0.08919383 |\n",
       "\n"
      ],
      "text/plain": [
       "     1          2          3         4          5         \n",
       "1    0.69055375 0.05537459 0.1179153 0.07882736 0.05732899\n",
       "2    0.05285868 0.09600863 0.4163970 0.34088457 0.09385113\n",
       "3    0.05285868 0.09600863 0.4163970 0.34088457 0.09385113\n",
       "4    0.05285868 0.09600863 0.4163970 0.34088457 0.09385113\n",
       "5    0.05285868 0.09600863 0.4163970 0.34088457 0.09385113\n",
       "6    0.05285868 0.09600863 0.4163970 0.34088457 0.09385113\n",
       "7    0.69055375 0.05537459 0.1179153 0.07882736 0.05732899\n",
       "8    0.05285868 0.09600863 0.4163970 0.34088457 0.09385113\n",
       "9    0.05285868 0.09600863 0.4163970 0.34088457 0.09385113\n",
       "10   0.05285868 0.09600863 0.4163970 0.34088457 0.09385113\n",
       "11   0.05285868 0.09600863 0.4163970 0.34088457 0.09385113\n",
       "12   0.05285868 0.09600863 0.4163970 0.34088457 0.09385113\n",
       "13   0.05285868 0.09600863 0.4163970 0.34088457 0.09385113\n",
       "14   0.05285868 0.09600863 0.4163970 0.34088457 0.09385113\n",
       "15   0.05285868 0.09600863 0.4163970 0.34088457 0.09385113\n",
       "16   0.05285868 0.09600863 0.4163970 0.34088457 0.09385113\n",
       "17   0.05285868 0.09600863 0.4163970 0.34088457 0.09385113\n",
       "18   0.05285868 0.09600863 0.4163970 0.34088457 0.09385113\n",
       "19   0.05285868 0.09600863 0.4163970 0.34088457 0.09385113\n",
       "20   0.05285868 0.09600863 0.4163970 0.34088457 0.09385113\n",
       "21   0.69055375 0.05537459 0.1179153 0.07882736 0.05732899\n",
       "22   0.05285868 0.09600863 0.4163970 0.34088457 0.09385113\n",
       "23   0.05285868 0.09600863 0.4163970 0.34088457 0.09385113\n",
       "24   0.69055375 0.05537459 0.1179153 0.07882736 0.05732899\n",
       "25   0.05285868 0.09600863 0.4163970 0.34088457 0.09385113\n",
       "26   0.05285868 0.09600863 0.4163970 0.34088457 0.09385113\n",
       "27   0.69055375 0.05537459 0.1179153 0.07882736 0.05732899\n",
       "28   0.69055375 0.05537459 0.1179153 0.07882736 0.05732899\n",
       "29   0.07547170 0.04905660 0.2981132 0.38113208 0.19622642\n",
       "30   0.07547170 0.04905660 0.2981132 0.38113208 0.19622642\n",
       "...  ...        ...        ...       ...        ...       \n",
       "1135 0.08662093 0.18524871 0.4819897 0.15694683 0.08919383\n",
       "1136 0.08662093 0.18524871 0.4819897 0.15694683 0.08919383\n",
       "1137 0.08662093 0.18524871 0.4819897 0.15694683 0.08919383\n",
       "1138 0.69055375 0.05537459 0.1179153 0.07882736 0.05732899\n",
       "1139 0.08662093 0.18524871 0.4819897 0.15694683 0.08919383\n",
       "1140 0.69055375 0.05537459 0.1179153 0.07882736 0.05732899\n",
       "1141 0.69055375 0.05537459 0.1179153 0.07882736 0.05732899\n",
       "1142 0.69055375 0.05537459 0.1179153 0.07882736 0.05732899\n",
       "1143 0.08662093 0.18524871 0.4819897 0.15694683 0.08919383\n",
       "1144 0.69055375 0.05537459 0.1179153 0.07882736 0.05732899\n",
       "1145 0.08662093 0.18524871 0.4819897 0.15694683 0.08919383\n",
       "1146 0.69055375 0.05537459 0.1179153 0.07882736 0.05732899\n",
       "1147 0.08662093 0.18524871 0.4819897 0.15694683 0.08919383\n",
       "1148 0.08662093 0.18524871 0.4819897 0.15694683 0.08919383\n",
       "1149 0.08662093 0.18524871 0.4819897 0.15694683 0.08919383\n",
       "1150 0.08662093 0.18524871 0.4819897 0.15694683 0.08919383\n",
       "1151 0.08662093 0.18524871 0.4819897 0.15694683 0.08919383\n",
       "1152 0.69055375 0.05537459 0.1179153 0.07882736 0.05732899\n",
       "1153 0.08662093 0.18524871 0.4819897 0.15694683 0.08919383\n",
       "1154 0.08662093 0.18524871 0.4819897 0.15694683 0.08919383\n",
       "1155 0.08662093 0.18524871 0.4819897 0.15694683 0.08919383\n",
       "1156 0.08662093 0.18524871 0.4819897 0.15694683 0.08919383\n",
       "1157 0.69055375 0.05537459 0.1179153 0.07882736 0.05732899\n",
       "1158 0.08662093 0.18524871 0.4819897 0.15694683 0.08919383\n",
       "1159 0.69055375 0.05537459 0.1179153 0.07882736 0.05732899\n",
       "1160 0.08662093 0.18524871 0.4819897 0.15694683 0.08919383\n",
       "1161 0.08662093 0.18524871 0.4819897 0.15694683 0.08919383\n",
       "1162 0.08662093 0.18524871 0.4819897 0.15694683 0.08919383\n",
       "1163 0.08662093 0.18524871 0.4819897 0.15694683 0.08919383\n",
       "1164 0.08662093 0.18524871 0.4819897 0.15694683 0.08919383"
      ]
     },
     "metadata": {},
     "output_type": "display_data"
    }
   ],
   "source": [
    "Predicted_std=which.max(Predicted_std)"
   ]
  },
  {
   "cell_type": "code",
   "execution_count": 158,
   "metadata": {},
   "outputs": [
    {
     "name": "stderr",
     "output_type": "stream",
     "text": [
      "Warning message in Ops.ordered(actual, forecast):\n",
      "\"'-' is not meaningful for ordered factors\"Warning message in mean.default(actual):\n",
      "\"argument is not numeric or logical: returning NA\""
     ]
    },
    {
     "ename": "ERROR",
     "evalue": "Error in var(if (is.vector(x) || is.factor(x)) x else as.double(x), na.rm = na.rm): Calling var(x) on a factor x is defunct.\n  Use something like 'all(duplicated(x)[-1L])' to test for a constant vector.\n",
     "output_type": "error",
     "traceback": [
      "Error in var(if (is.vector(x) || is.factor(x)) x else as.double(x), na.rm = na.rm): Calling var(x) on a factor x is defunct.\n  Use something like 'all(duplicated(x)[-1L])' to test for a constant vector.\nTraceback:\n",
      "1. perf_dt(\"Decision Tree-Daily\", test$difficulty, Predicted_std)",
      "2. sd(actual)   # at line 6 of file <text>",
      "3. var(if (is.vector(x) || is.factor(x)) x else as.double(x), na.rm = na.rm)"
     ]
    }
   ],
   "source": [
    "perf_dt(\"Decision Tree-Daily\",test$difficulty,Predicted_std)"
   ]
  },
  {
   "cell_type": "markdown",
   "metadata": {},
   "source": [
    "## Random Forest(RF)"
   ]
  },
  {
   "cell_type": "code",
   "execution_count": 264,
   "metadata": {},
   "outputs": [],
   "source": [
    "library(randomForest)"
   ]
  },
  {
   "cell_type": "code",
   "execution_count": 265,
   "metadata": {},
   "outputs": [],
   "source": [
    "train_random_forest_daily=train_daily[8:.N]"
   ]
  },
  {
   "cell_type": "code",
   "execution_count": 314,
   "metadata": {},
   "outputs": [
    {
     "data": {
      "text/plain": [
       "\n",
       "Call:\n",
       " randomForest(formula = Consumption ~ . - date, data = train_random_forest_daily,      ntree = 300, nodesize = 30) \n",
       "               Type of random forest: regression\n",
       "                     Number of trees: 300\n",
       "No. of variables tried at each split: 5\n",
       "\n",
       "          Mean of squared residuals: 768322035\n",
       "                    % Var explained: 88.73"
      ]
     },
     "metadata": {},
     "output_type": "display_data"
    }
   ],
   "source": [
    "random_forest_daily=randomForest(Consumption~.-date,data=train_random_forest_daily,\n",
    "                           ntree=300,nodesize=30)\n",
    "random_forest_daily"
   ]
  },
  {
   "cell_type": "code",
   "execution_count": 315,
   "metadata": {},
   "outputs": [
    {
     "data": {
      "image/png": "[encoded data removed]",
      "text/plain": [
       "Plot with title \"random_forest_daily\""
      ]
     },
     "metadata": {},
     "output_type": "display_data"
    }
   ],
   "source": [
    "varImpPlot(random_forest_daily)"
   ]
  },
  {
   "cell_type": "code",
   "execution_count": 316,
   "metadata": {},
   "outputs": [],
   "source": [
    "PredictRandomForest_daily=predict(random_forest_daily,newdata=test_daily)"
   ]
  },
  {
   "cell_type": "markdown",
   "metadata": {},
   "source": [
    "### Performanca Measure"
   ]
  },
  {
   "cell_type": "code",
   "execution_count": 317,
   "metadata": {
    "scrolled": true
   },
   "outputs": [
    {
     "data": {
      "text/html": [
       "<table>\n",
       "<thead><tr><th scope=col>name</th><th scope=col>n</th><th scope=col>mean</th><th scope=col>sd</th><th scope=col>FBias</th><th scope=col>MAPE</th><th scope=col>RMSE</th><th scope=col>MAD</th><th scope=col>WMAPE</th></tr></thead>\n",
       "<tbody>\n",
       "\t<tr><td>Decision Tree-daily</td><td>38                 </td><td>839774.3           </td><td>61167.81           </td><td>-0.007851525       </td><td>0.02863335         </td><td>6843.236           </td><td>22683.19           </td><td>0.02701105         </td></tr>\n",
       "</tbody>\n",
       "</table>\n"
      ],
      "text/latex": [
       "\\begin{tabular}{r|lllllllll}\n",
       " name & n & mean & sd & FBias & MAPE & RMSE & MAD & WMAPE\\\\\n",
       "\\hline\n",
       "\t Decision Tree-daily & 38                  & 839774.3            & 61167.81            & -0.007851525        & 0.02863335          & 6843.236            & 22683.19            & 0.02701105         \\\\\n",
       "\\end{tabular}\n"
      ],
      "text/markdown": [
       "\n",
       "| name | n | mean | sd | FBias | MAPE | RMSE | MAD | WMAPE |\n",
       "|---|---|---|---|---|---|---|---|---|\n",
       "| Decision Tree-daily | 38                  | 839774.3            | 61167.81            | -0.007851525        | 0.02863335          | 6843.236            | 22683.19            | 0.02701105          |\n",
       "\n"
      ],
      "text/plain": [
       "  name                n  mean     sd       FBias        MAPE       RMSE    \n",
       "1 Decision Tree-daily 38 839774.3 61167.81 -0.007851525 0.02863335 6843.236\n",
       "  MAD      WMAPE     \n",
       "1 22683.19 0.02701105"
      ]
     },
     "metadata": {},
     "output_type": "display_data"
    },
    {
     "data": {
      "text/html": [
       "<table>\n",
       "<thead><tr><th scope=col>name</th><th scope=col>n</th><th scope=col>mean</th><th scope=col>sd</th><th scope=col>FBias</th><th scope=col>MAPE</th><th scope=col>RMSE</th><th scope=col>MAD</th><th scope=col>WMAPE</th></tr></thead>\n",
       "<tbody>\n",
       "\t<tr><td>Random Forest-daily</td><td>38                 </td><td>839774.3           </td><td>61167.81           </td><td>0.02093843         </td><td>0.03681139         </td><td>5762.231           </td><td>30286.1            </td><td>0.03606457         </td></tr>\n",
       "</tbody>\n",
       "</table>\n"
      ],
      "text/latex": [
       "\\begin{tabular}{r|lllllllll}\n",
       " name & n & mean & sd & FBias & MAPE & RMSE & MAD & WMAPE\\\\\n",
       "\\hline\n",
       "\t Random Forest-daily & 38                  & 839774.3            & 61167.81            & 0.02093843          & 0.03681139          & 5762.231            & 30286.1             & 0.03606457         \\\\\n",
       "\\end{tabular}\n"
      ],
      "text/markdown": [
       "\n",
       "| name | n | mean | sd | FBias | MAPE | RMSE | MAD | WMAPE |\n",
       "|---|---|---|---|---|---|---|---|---|\n",
       "| Random Forest-daily | 38                  | 839774.3            | 61167.81            | 0.02093843          | 0.03681139          | 5762.231            | 30286.1             | 0.03606457          |\n",
       "\n"
      ],
      "text/plain": [
       "  name                n  mean     sd       FBias      MAPE       RMSE    \n",
       "1 Random Forest-daily 38 839774.3 61167.81 0.02093843 0.03681139 5762.231\n",
       "  MAD     WMAPE     \n",
       "1 30286.1 0.03606457"
      ]
     },
     "metadata": {},
     "output_type": "display_data"
    }
   ],
   "source": [
    "perf_dt(\"Decision Tree-daily\",test_daily$Consumption,PredictCART_daily)\n",
    "perf_dt(\"Random Forest-daily\",test_daily$Consumption,PredictRandomForest_daily)"
   ]
  },
  {
   "cell_type": "markdown",
   "metadata": {},
   "source": [
    "## Stochastic Gradient Boosting(SGB)"
   ]
  },
  {
   "cell_type": "code",
   "execution_count": null,
   "metadata": {},
   "outputs": [],
   "source": [
    "# plot results\n",
    "plot(t, y1, t=\"l\", ylim=range(y1,y2)*c(1,1.2))\n",
    "lines(t, y2, col=2)\n",
    "legend(\"top\", legend=c(\"y1\", \"y2\"), col=1:2, lty=1, ncol=2, bty=\"n\")\n",
    "\n",
    "require(gbm)\n",
    "dat=data.frame(t=t,y=y1)\n",
    "noftrees=100\n",
    "depth=5\n",
    "learning_rate=0.01\n",
    "sampling_fraction=1\n",
    "y=y1\n",
    "boosting_model=gbm(y~., data=dat,distribution = \"gaussian\", n.trees = noftrees,\n",
    "        interaction.depth = depth, n.minobsinnode = 5, shrinkage =learning_rate ,\n",
    "        bag.fraction = sampling_fraction)\n",
    "        \n",
    "for(i in 1:noftrees){\n",
    "    print(i)\n",
    "    predicted=predict(boosting_model,dat,n.trees=i)\n",
    "\n",
    "    if(i %% 10 ==0){\n",
    "       plot(t, y, t=\"l\", ylim=range(y1,y2)*c(1,1.2),main=paste0('Tree:',i))\n",
    "        lines(t, predicted, col=2)\n",
    "        legend(\"top\", legend=c(\"y\", \"predicted\"), col=1:2, lty=1, ncol=2, bty=\"n\")\n",
    "        Sys.sleep(1)\n",
    "    }\n",
    "}    "
   ]
  },
  {
   "cell_type": "code",
   "execution_count": null,
   "metadata": {},
   "outputs": [],
   "source": []
  },
  {
   "cell_type": "code",
   "execution_count": null,
   "metadata": {},
   "outputs": [],
   "source": []
  },
  {
   "cell_type": "code",
   "execution_count": null,
   "metadata": {},
   "outputs": [],
   "source": []
  },
  {
   "cell_type": "code",
   "execution_count": null,
   "metadata": {},
   "outputs": [],
   "source": []
  },
  {
   "cell_type": "code",
   "execution_count": null,
   "metadata": {},
   "outputs": [],
   "source": []
  },
  {
   "cell_type": "code",
   "execution_count": null,
   "metadata": {},
   "outputs": [],
   "source": []
  },
  {
   "cell_type": "code",
   "execution_count": null,
   "metadata": {},
   "outputs": [],
   "source": []
  },
  {
   "cell_type": "code",
   "execution_count": null,
   "metadata": {},
   "outputs": [],
   "source": []
  },
  {
   "cell_type": "code",
   "execution_count": null,
   "metadata": {},
   "outputs": [],
   "source": []
  },
  {
   "cell_type": "code",
   "execution_count": null,
   "metadata": {},
   "outputs": [],
   "source": []
  },
  {
   "cell_type": "code",
   "execution_count": null,
   "metadata": {},
   "outputs": [],
   "source": []
  },
  {
   "cell_type": "markdown",
   "metadata": {},
   "source": [
    "# Fourth Dataset"
   ]
  },
  {
   "cell_type": "markdown",
   "metadata": {},
   "source": [
    "### Loading Dataset"
   ]
  },
  {
   "cell_type": "code",
   "execution_count": 57,
   "metadata": {},
   "outputs": [],
   "source": [
    "spam_dt=read.csv(\"spambase.data\")"
   ]
  },
  {
   "cell_type": "code",
   "execution_count": 58,
   "metadata": {},
   "outputs": [
    {
     "name": "stdout",
     "output_type": "stream",
     "text": [
      "'data.frame':\t4600 obs. of  58 variables:\n",
      " $ X0     : num  0.21 0.06 0 0 0 0 0 0.15 0.06 0 ...\n",
      " $ X0.64  : num  0.28 0 0 0 0 0 0 0 0.12 0 ...\n",
      " $ X0.64.1: num  0.5 0.71 0 0 0 0 0 0.46 0.77 0 ...\n",
      " $ X0.1   : num  0 0 0 0 0 0 0 0 0 0 ...\n",
      " $ X0.32  : num  0.14 1.23 0.63 0.63 1.85 1.92 1.88 0.61 0.19 0 ...\n",
      " $ X0.2   : num  0.28 0.19 0 0 0 0 0 0 0.32 0 ...\n",
      " $ X0.3   : num  0.21 0.19 0.31 0.31 0 0 0 0.3 0.38 0.96 ...\n",
      " $ X0.4   : num  0.07 0.12 0.63 0.63 1.85 0 1.88 0 0 0 ...\n",
      " $ X0.5   : num  0 0.64 0.31 0.31 0 0 0 0.92 0.06 0 ...\n",
      " $ X0.6   : num  0.94 0.25 0.63 0.63 0 0.64 0 0.76 0 1.92 ...\n",
      " $ X0.7   : num  0.21 0.38 0.31 0.31 0 0.96 0 0.76 0 0.96 ...\n",
      " $ X0.64.2: num  0.79 0.45 0.31 0.31 0 1.28 0 0.92 0.64 0 ...\n",
      " $ X0.8   : num  0.65 0.12 0.31 0.31 0 0 0 0 0.25 0 ...\n",
      " $ X0.9   : num  0.21 0 0 0 0 0 0 0 0 0 ...\n",
      " $ X0.10  : num  0.14 1.75 0 0 0 0 0 0 0.12 0 ...\n",
      " $ X0.32.1: num  0.14 0.06 0.31 0.31 0 0.96 0 0 0 0 ...\n",
      " $ X0.11  : num  0.07 0.06 0 0 0 0 0 0 0 0 ...\n",
      " $ X1.29  : num  0.28 1.03 0 0 0 0.32 0 0.15 0.12 0.96 ...\n",
      " $ X1.93  : num  3.47 1.36 3.18 3.18 0 3.85 0 1.23 1.67 3.84 ...\n",
      " $ X0.12  : num  0 0.32 0 0 0 0 0 3.53 0.06 0 ...\n",
      " $ X0.96  : num  1.59 0.51 0.31 0.31 0 0.64 0 2 0.71 0.96 ...\n",
      " $ X0.13  : num  0 0 0 0 0 0 0 0 0 0 ...\n",
      " $ X0.14  : num  0.43 1.16 0 0 0 0 0 0 0.19 0 ...\n",
      " $ X0.15  : num  0.43 0.06 0 0 0 0 0 0.15 0 0 ...\n",
      " $ X0.16  : num  0 0 0 0 0 0 0 0 0 0 ...\n",
      " $ X0.17  : num  0 0 0 0 0 0 0 0 0 0 ...\n",
      " $ X0.18  : num  0 0 0 0 0 0 0 0 0 0 ...\n",
      " $ X0.19  : num  0 0 0 0 0 0 0 0 0 0 ...\n",
      " $ X0.20  : num  0 0 0 0 0 0 0 0 0 0 ...\n",
      " $ X0.21  : num  0 0 0 0 0 0 0 0 0 0 ...\n",
      " $ X0.22  : num  0 0 0 0 0 0 0 0 0 0 ...\n",
      " $ X0.23  : num  0 0 0 0 0 0 0 0 0 0 ...\n",
      " $ X0.24  : num  0 0 0 0 0 0 0 0.15 0 0 ...\n",
      " $ X0.25  : num  0 0 0 0 0 0 0 0 0 0 ...\n",
      " $ X0.26  : num  0 0 0 0 0 0 0 0 0 0 ...\n",
      " $ X0.27  : num  0 0 0 0 0 0 0 0 0 0 ...\n",
      " $ X0.28  : num  0.07 0 0 0 0 0 0 0 0 0 ...\n",
      " $ X0.29  : num  0 0 0 0 0 0 0 0 0 0 ...\n",
      " $ X0.30  : num  0 0 0 0 0 0 0 0 0 0 ...\n",
      " $ X0.31  : num  0 0.06 0 0 0 0 0 0 0 0.96 ...\n",
      " $ X0.33  : num  0 0 0 0 0 0 0 0 0 0 ...\n",
      " $ X0.34  : num  0 0 0 0 0 0 0 0 0 0 ...\n",
      " $ X0.35  : num  0 0.12 0 0 0 0 0 0.3 0 0 ...\n",
      " $ X0.36  : num  0 0 0 0 0 0 0 0 0.06 0 ...\n",
      " $ X0.37  : num  0 0.06 0 0 0 0 0 0 0 0 ...\n",
      " $ X0.38  : num  0 0.06 0 0 0 0 0 0 0 0 ...\n",
      " $ X0.39  : num  0 0 0 0 0 0 0 0 0 0 ...\n",
      " $ X0.40  : num  0 0 0 0 0 0 0 0 0 0 ...\n",
      " $ X0.41  : num  0 0.01 0 0 0 0 0 0 0.04 0 ...\n",
      " $ X0.42  : num  0.132 0.143 0.137 0.135 0.223 0.054 0.206 0.271 0.03 0 ...\n",
      " $ X0.43  : num  0 0 0 0 0 0 0 0 0 0 ...\n",
      " $ X0.778 : num  0.372 0.276 0.137 0.135 0 0.164 0 0.181 0.244 0.462 ...\n",
      " $ X0.44  : num  0.18 0.184 0 0 0 0.054 0 0.203 0.081 0 ...\n",
      " $ X0.45  : num  0.048 0.01 0 0 0 0 0 0.022 0 0 ...\n",
      " $ X3.756 : num  5.11 9.82 3.54 3.54 3 ...\n",
      " $ X61    : int  101 485 40 40 15 4 11 445 43 6 ...\n",
      " $ X278   : int  1028 2259 191 191 54 112 49 1257 749 21 ...\n",
      " $ X1     : int  1 1 1 1 1 1 1 1 1 1 ...\n"
     ]
    }
   ],
   "source": [
    "str(spam_dt)"
   ]
  },
  {
   "cell_type": "code",
   "execution_count": 169,
   "metadata": {},
   "outputs": [],
   "source": [
    "set.seed(35)\n",
    "spl=sample.split(std_eva$difficulty, SplitRatio = 0.8)\n",
    "train=subset(std_eva,spl==TRUE)\n",
    "test=subset(std_eva,spl==FALSE)"
   ]
  },
  {
   "cell_type": "markdown",
   "metadata": {},
   "source": [
    "## Penalized Regression Approaches(PRA)"
   ]
  },
  {
   "cell_type": "code",
   "execution_count": 170,
   "metadata": {},
   "outputs": [],
   "source": [
    "train_mat=data.matrix(train[complete.cases(train),-c(\"difficulty\"),with=F])\n",
    "\n",
    "result_vec=as.vector(t(train[complete.cases(train),\"difficulty\"]))\n",
    "\n",
    "cvfit=cv.glmnet(train_mat,result_vec,family=\"multinomial\",nfolds = 10,type.measure=\"class\")\n",
    "\n",
    "test_mat=data.matrix(test[complete.cases(test),-c(\"difficulty\")])\n",
    "\n",
    "lasso_model <- glmnet(train_mat,result_vec, alpha = 1, lambda = cvfit$lambda.min, standardize = FALSE)"
   ]
  },
  {
   "cell_type": "code",
   "execution_count": 171,
   "metadata": {},
   "outputs": [],
   "source": [
    "predicts_hour <- predict(lasso_model, s = cvfit$lambda.min, newx = test_mat,type=\"response\")"
   ]
  },
  {
   "cell_type": "code",
   "execution_count": 172,
   "metadata": {},
   "outputs": [],
   "source": [
    "res_pr_1=data.table(actual=test$difficulty,\n",
    "                   prediction_val=round(predicts_hour+0.5))\n",
    "setnames(res_pr_1, \"prediction_val.1\", \"prediction\")"
   ]
  },
  {
   "cell_type": "code",
   "execution_count": 173,
   "metadata": {},
   "outputs": [
    {
     "data": {
      "text/html": [
       "<table>\n",
       "<thead><tr><th scope=col>name</th><th scope=col>n</th><th scope=col>mean</th><th scope=col>sd</th><th scope=col>FBias</th><th scope=col>MAPE</th><th scope=col>RMSE</th><th scope=col>MAD</th><th scope=col>WMAPE</th></tr></thead>\n",
       "<tbody>\n",
       "\t<tr><td>First Data Set for Lasso Function</td><td>1164                             </td><td>2.782646                         </td><td>1.348866                         </td><td>-0.1960482                       </td><td>0.6912085                        </td><td>0.0401948                        </td><td>1.079897                         </td><td>0.3880827                        </td></tr>\n",
       "</tbody>\n",
       "</table>\n"
      ],
      "text/latex": [
       "\\begin{tabular}{r|lllllllll}\n",
       " name & n & mean & sd & FBias & MAPE & RMSE & MAD & WMAPE\\\\\n",
       "\\hline\n",
       "\t First Data Set for Lasso Function & 1164                              & 2.782646                          & 1.348866                          & -0.1960482                        & 0.6912085                         & 0.0401948                         & 1.079897                          & 0.3880827                        \\\\\n",
       "\\end{tabular}\n"
      ],
      "text/markdown": [
       "\n",
       "| name | n | mean | sd | FBias | MAPE | RMSE | MAD | WMAPE |\n",
       "|---|---|---|---|---|---|---|---|---|\n",
       "| First Data Set for Lasso Function | 1164                              | 2.782646                          | 1.348866                          | -0.1960482                        | 0.6912085                         | 0.0401948                         | 1.079897                          | 0.3880827                         |\n",
       "\n"
      ],
      "text/plain": [
       "  name                              n    mean     sd       FBias      MAPE     \n",
       "1 First Data Set for Lasso Function 1164 2.782646 1.348866 -0.1960482 0.6912085\n",
       "  RMSE      MAD      WMAPE    \n",
       "1 0.0401948 1.079897 0.3880827"
      ]
     },
     "metadata": {},
     "output_type": "display_data"
    }
   ],
   "source": [
    "perf_dt(\"First Data Set for Lasso Function\", as.numeric(res_pr_1$actual), res_pr_1$prediction)"
   ]
  },
  {
   "cell_type": "markdown",
   "metadata": {},
   "source": [
    "## Decision Tree(DT)"
   ]
  },
  {
   "cell_type": "code",
   "execution_count": 175,
   "metadata": {},
   "outputs": [
    {
     "data": {
      "text/html": [
       "<dl class=dl-horizontal>\n",
       "\t<dt>attendance</dt>\n",
       "\t\t<dd>519.073230534664</dd>\n",
       "\t<dt>class</dt>\n",
       "\t\t<dd>66.3797501175982</dd>\n",
       "\t<dt>Q17</dt>\n",
       "\t\t<dd>31.7123697944968</dd>\n",
       "\t<dt>Q25</dt>\n",
       "\t\t<dd>24.0092504025806</dd>\n",
       "\t<dt>Q14</dt>\n",
       "\t\t<dd>21.3039827515856</dd>\n",
       "\t<dt>Q15</dt>\n",
       "\t\t<dd>20.6276658388369</dd>\n",
       "\t<dt>Q3</dt>\n",
       "\t\t<dd>20.2895073824625</dd>\n",
       "\t<dt>Q10</dt>\n",
       "\t\t<dd>18.1626642269832</dd>\n",
       "\t<dt>instr</dt>\n",
       "\t\t<dd>15.5669562395413</dd>\n",
       "\t<dt>Q7</dt>\n",
       "\t\t<dd>10.7572861086854</dd>\n",
       "\t<dt>Q24</dt>\n",
       "\t\t<dd>10.6793347600717</dd>\n",
       "\t<dt>Q8</dt>\n",
       "\t\t<dd>10.601383411458</dd>\n",
       "\t<dt>Q26</dt>\n",
       "\t\t<dd>10.5234320628444</dd>\n",
       "\t<dt>Q9</dt>\n",
       "\t\t<dd>10.2116266683897</dd>\n",
       "\t<dt>Q11</dt>\n",
       "\t\t<dd>0.589298080225845</dd>\n",
       "\t<dt>Q21</dt>\n",
       "\t\t<dd>0.41871179384468</dd>\n",
       "\t<dt>Q22</dt>\n",
       "\t\t<dd>0.201601974814104</dd>\n",
       "</dl>\n"
      ],
      "text/latex": [
       "\\begin{description*}\n",
       "\\item[attendance] 519.073230534664\n",
       "\\item[class] 66.3797501175982\n",
       "\\item[Q17] 31.7123697944968\n",
       "\\item[Q25] 24.0092504025806\n",
       "\\item[Q14] 21.3039827515856\n",
       "\\item[Q15] 20.6276658388369\n",
       "\\item[Q3] 20.2895073824625\n",
       "\\item[Q10] 18.1626642269832\n",
       "\\item[instr] 15.5669562395413\n",
       "\\item[Q7] 10.7572861086854\n",
       "\\item[Q24] 10.6793347600717\n",
       "\\item[Q8] 10.601383411458\n",
       "\\item[Q26] 10.5234320628444\n",
       "\\item[Q9] 10.2116266683897\n",
       "\\item[Q11] 0.589298080225845\n",
       "\\item[Q21] 0.41871179384468\n",
       "\\item[Q22] 0.201601974814104\n",
       "\\end{description*}\n"
      ],
      "text/markdown": [
       "attendance\n",
       ":   519.073230534664class\n",
       ":   66.3797501175982Q17\n",
       ":   31.7123697944968Q25\n",
       ":   24.0092504025806Q14\n",
       ":   21.3039827515856Q15\n",
       ":   20.6276658388369Q3\n",
       ":   20.2895073824625Q10\n",
       ":   18.1626642269832instr\n",
       ":   15.5669562395413Q7\n",
       ":   10.7572861086854Q24\n",
       ":   10.6793347600717Q8\n",
       ":   10.601383411458Q26\n",
       ":   10.5234320628444Q9\n",
       ":   10.2116266683897Q11\n",
       ":   0.589298080225845Q21\n",
       ":   0.41871179384468Q22\n",
       ":   0.201601974814104\n",
       "\n"
      ],
      "text/plain": [
       " attendance       class         Q17         Q25         Q14         Q15 \n",
       "519.0732305  66.3797501  31.7123698  24.0092504  21.3039828  20.6276658 \n",
       "         Q3         Q10       instr          Q7         Q24          Q8 \n",
       " 20.2895074  18.1626642  15.5669562  10.7572861  10.6793348  10.6013834 \n",
       "        Q26          Q9         Q11         Q21         Q22 \n",
       " 10.5234321  10.2116267   0.5892981   0.4187118   0.2016020 "
      ]
     },
     "metadata": {},
     "output_type": "display_data"
    },
    {
     "data": {
      "image/png": "[encoded data removed]",
      "text/plain": [
       "Plot with title \"\""
      ]
     },
     "metadata": {},
     "output_type": "display_data"
    }
   ],
   "source": [
    "reg_tree_std=rpart(difficulty~.,train,method='class',minbucket=100)\n",
    "fancyRpartPlot(reg_tree_std)\n",
    "reg_tree_std$variable.importance"
   ]
  },
  {
   "cell_type": "code",
   "execution_count": 164,
   "metadata": {},
   "outputs": [],
   "source": [
    "predicted_std=predict(reg_tree_std,newdata=test,type=\"class\")"
   ]
  },
  {
   "cell_type": "markdown",
   "metadata": {},
   "source": [
    "### Performanca Measure"
   ]
  },
  {
   "cell_type": "code",
   "execution_count": 165,
   "metadata": {},
   "outputs": [
    {
     "data": {
      "text/html": [
       "<table>\n",
       "<thead><tr><th scope=col>1</th><th scope=col>2</th><th scope=col>3</th><th scope=col>4</th><th scope=col>5</th></tr></thead>\n",
       "<tbody>\n",
       "\t<tr><td>0.69055375</td><td>0.05537459</td><td>0.1179153 </td><td>0.07882736</td><td>0.05732899</td></tr>\n",
       "\t<tr><td>0.05285868</td><td>0.09600863</td><td>0.4163970 </td><td>0.34088457</td><td>0.09385113</td></tr>\n",
       "\t<tr><td>0.05285868</td><td>0.09600863</td><td>0.4163970 </td><td>0.34088457</td><td>0.09385113</td></tr>\n",
       "\t<tr><td>0.05285868</td><td>0.09600863</td><td>0.4163970 </td><td>0.34088457</td><td>0.09385113</td></tr>\n",
       "\t<tr><td>0.05285868</td><td>0.09600863</td><td>0.4163970 </td><td>0.34088457</td><td>0.09385113</td></tr>\n",
       "\t<tr><td>0.05285868</td><td>0.09600863</td><td>0.4163970 </td><td>0.34088457</td><td>0.09385113</td></tr>\n",
       "\t<tr><td>0.69055375</td><td>0.05537459</td><td>0.1179153 </td><td>0.07882736</td><td>0.05732899</td></tr>\n",
       "\t<tr><td>0.05285868</td><td>0.09600863</td><td>0.4163970 </td><td>0.34088457</td><td>0.09385113</td></tr>\n",
       "\t<tr><td>0.05285868</td><td>0.09600863</td><td>0.4163970 </td><td>0.34088457</td><td>0.09385113</td></tr>\n",
       "\t<tr><td>0.05285868</td><td>0.09600863</td><td>0.4163970 </td><td>0.34088457</td><td>0.09385113</td></tr>\n",
       "\t<tr><td>0.05285868</td><td>0.09600863</td><td>0.4163970 </td><td>0.34088457</td><td>0.09385113</td></tr>\n",
       "\t<tr><td>0.05285868</td><td>0.09600863</td><td>0.4163970 </td><td>0.34088457</td><td>0.09385113</td></tr>\n",
       "\t<tr><td>0.05285868</td><td>0.09600863</td><td>0.4163970 </td><td>0.34088457</td><td>0.09385113</td></tr>\n",
       "\t<tr><td>0.05285868</td><td>0.09600863</td><td>0.4163970 </td><td>0.34088457</td><td>0.09385113</td></tr>\n",
       "\t<tr><td>0.05285868</td><td>0.09600863</td><td>0.4163970 </td><td>0.34088457</td><td>0.09385113</td></tr>\n",
       "\t<tr><td>0.05285868</td><td>0.09600863</td><td>0.4163970 </td><td>0.34088457</td><td>0.09385113</td></tr>\n",
       "\t<tr><td>0.05285868</td><td>0.09600863</td><td>0.4163970 </td><td>0.34088457</td><td>0.09385113</td></tr>\n",
       "\t<tr><td>0.05285868</td><td>0.09600863</td><td>0.4163970 </td><td>0.34088457</td><td>0.09385113</td></tr>\n",
       "\t<tr><td>0.05285868</td><td>0.09600863</td><td>0.4163970 </td><td>0.34088457</td><td>0.09385113</td></tr>\n",
       "\t<tr><td>0.05285868</td><td>0.09600863</td><td>0.4163970 </td><td>0.34088457</td><td>0.09385113</td></tr>\n",
       "\t<tr><td>0.69055375</td><td>0.05537459</td><td>0.1179153 </td><td>0.07882736</td><td>0.05732899</td></tr>\n",
       "\t<tr><td>0.05285868</td><td>0.09600863</td><td>0.4163970 </td><td>0.34088457</td><td>0.09385113</td></tr>\n",
       "\t<tr><td>0.05285868</td><td>0.09600863</td><td>0.4163970 </td><td>0.34088457</td><td>0.09385113</td></tr>\n",
       "\t<tr><td>0.69055375</td><td>0.05537459</td><td>0.1179153 </td><td>0.07882736</td><td>0.05732899</td></tr>\n",
       "\t<tr><td>0.05285868</td><td>0.09600863</td><td>0.4163970 </td><td>0.34088457</td><td>0.09385113</td></tr>\n",
       "\t<tr><td>0.05285868</td><td>0.09600863</td><td>0.4163970 </td><td>0.34088457</td><td>0.09385113</td></tr>\n",
       "\t<tr><td>0.69055375</td><td>0.05537459</td><td>0.1179153 </td><td>0.07882736</td><td>0.05732899</td></tr>\n",
       "\t<tr><td>0.69055375</td><td>0.05537459</td><td>0.1179153 </td><td>0.07882736</td><td>0.05732899</td></tr>\n",
       "\t<tr><td>0.07547170</td><td>0.04905660</td><td>0.2981132 </td><td>0.38113208</td><td>0.19622642</td></tr>\n",
       "\t<tr><td>0.07547170</td><td>0.04905660</td><td>0.2981132 </td><td>0.38113208</td><td>0.19622642</td></tr>\n",
       "\t<tr><td>...</td><td>...</td><td>...</td><td>...</td><td>...</td></tr>\n",
       "\t<tr><td>0.08662093</td><td>0.18524871</td><td>0.4819897 </td><td>0.15694683</td><td>0.08919383</td></tr>\n",
       "\t<tr><td>0.08662093</td><td>0.18524871</td><td>0.4819897 </td><td>0.15694683</td><td>0.08919383</td></tr>\n",
       "\t<tr><td>0.08662093</td><td>0.18524871</td><td>0.4819897 </td><td>0.15694683</td><td>0.08919383</td></tr>\n",
       "\t<tr><td>0.69055375</td><td>0.05537459</td><td>0.1179153 </td><td>0.07882736</td><td>0.05732899</td></tr>\n",
       "\t<tr><td>0.08662093</td><td>0.18524871</td><td>0.4819897 </td><td>0.15694683</td><td>0.08919383</td></tr>\n",
       "\t<tr><td>0.69055375</td><td>0.05537459</td><td>0.1179153 </td><td>0.07882736</td><td>0.05732899</td></tr>\n",
       "\t<tr><td>0.69055375</td><td>0.05537459</td><td>0.1179153 </td><td>0.07882736</td><td>0.05732899</td></tr>\n",
       "\t<tr><td>0.69055375</td><td>0.05537459</td><td>0.1179153 </td><td>0.07882736</td><td>0.05732899</td></tr>\n",
       "\t<tr><td>0.08662093</td><td>0.18524871</td><td>0.4819897 </td><td>0.15694683</td><td>0.08919383</td></tr>\n",
       "\t<tr><td>0.69055375</td><td>0.05537459</td><td>0.1179153 </td><td>0.07882736</td><td>0.05732899</td></tr>\n",
       "\t<tr><td>0.08662093</td><td>0.18524871</td><td>0.4819897 </td><td>0.15694683</td><td>0.08919383</td></tr>\n",
       "\t<tr><td>0.69055375</td><td>0.05537459</td><td>0.1179153 </td><td>0.07882736</td><td>0.05732899</td></tr>\n",
       "\t<tr><td>0.08662093</td><td>0.18524871</td><td>0.4819897 </td><td>0.15694683</td><td>0.08919383</td></tr>\n",
       "\t<tr><td>0.08662093</td><td>0.18524871</td><td>0.4819897 </td><td>0.15694683</td><td>0.08919383</td></tr>\n",
       "\t<tr><td>0.08662093</td><td>0.18524871</td><td>0.4819897 </td><td>0.15694683</td><td>0.08919383</td></tr>\n",
       "\t<tr><td>0.08662093</td><td>0.18524871</td><td>0.4819897 </td><td>0.15694683</td><td>0.08919383</td></tr>\n",
       "\t<tr><td>0.08662093</td><td>0.18524871</td><td>0.4819897 </td><td>0.15694683</td><td>0.08919383</td></tr>\n",
       "\t<tr><td>0.69055375</td><td>0.05537459</td><td>0.1179153 </td><td>0.07882736</td><td>0.05732899</td></tr>\n",
       "\t<tr><td>0.08662093</td><td>0.18524871</td><td>0.4819897 </td><td>0.15694683</td><td>0.08919383</td></tr>\n",
       "\t<tr><td>0.08662093</td><td>0.18524871</td><td>0.4819897 </td><td>0.15694683</td><td>0.08919383</td></tr>\n",
       "\t<tr><td>0.08662093</td><td>0.18524871</td><td>0.4819897 </td><td>0.15694683</td><td>0.08919383</td></tr>\n",
       "\t<tr><td>0.08662093</td><td>0.18524871</td><td>0.4819897 </td><td>0.15694683</td><td>0.08919383</td></tr>\n",
       "\t<tr><td>0.69055375</td><td>0.05537459</td><td>0.1179153 </td><td>0.07882736</td><td>0.05732899</td></tr>\n",
       "\t<tr><td>0.08662093</td><td>0.18524871</td><td>0.4819897 </td><td>0.15694683</td><td>0.08919383</td></tr>\n",
       "\t<tr><td>0.69055375</td><td>0.05537459</td><td>0.1179153 </td><td>0.07882736</td><td>0.05732899</td></tr>\n",
       "\t<tr><td>0.08662093</td><td>0.18524871</td><td>0.4819897 </td><td>0.15694683</td><td>0.08919383</td></tr>\n",
       "\t<tr><td>0.08662093</td><td>0.18524871</td><td>0.4819897 </td><td>0.15694683</td><td>0.08919383</td></tr>\n",
       "\t<tr><td>0.08662093</td><td>0.18524871</td><td>0.4819897 </td><td>0.15694683</td><td>0.08919383</td></tr>\n",
       "\t<tr><td>0.08662093</td><td>0.18524871</td><td>0.4819897 </td><td>0.15694683</td><td>0.08919383</td></tr>\n",
       "\t<tr><td>0.08662093</td><td>0.18524871</td><td>0.4819897 </td><td>0.15694683</td><td>0.08919383</td></tr>\n",
       "</tbody>\n",
       "</table>\n"
      ],
      "text/latex": [
       "\\begin{tabular}{r|lllll}\n",
       " 1 & 2 & 3 & 4 & 5\\\\\n",
       "\\hline\n",
       "\t 0.69055375 & 0.05537459 & 0.1179153  & 0.07882736 & 0.05732899\\\\\n",
       "\t 0.05285868 & 0.09600863 & 0.4163970  & 0.34088457 & 0.09385113\\\\\n",
       "\t 0.05285868 & 0.09600863 & 0.4163970  & 0.34088457 & 0.09385113\\\\\n",
       "\t 0.05285868 & 0.09600863 & 0.4163970  & 0.34088457 & 0.09385113\\\\\n",
       "\t 0.05285868 & 0.09600863 & 0.4163970  & 0.34088457 & 0.09385113\\\\\n",
       "\t 0.05285868 & 0.09600863 & 0.4163970  & 0.34088457 & 0.09385113\\\\\n",
       "\t 0.69055375 & 0.05537459 & 0.1179153  & 0.07882736 & 0.05732899\\\\\n",
       "\t 0.05285868 & 0.09600863 & 0.4163970  & 0.34088457 & 0.09385113\\\\\n",
       "\t 0.05285868 & 0.09600863 & 0.4163970  & 0.34088457 & 0.09385113\\\\\n",
       "\t 0.05285868 & 0.09600863 & 0.4163970  & 0.34088457 & 0.09385113\\\\\n",
       "\t 0.05285868 & 0.09600863 & 0.4163970  & 0.34088457 & 0.09385113\\\\\n",
       "\t 0.05285868 & 0.09600863 & 0.4163970  & 0.34088457 & 0.09385113\\\\\n",
       "\t 0.05285868 & 0.09600863 & 0.4163970  & 0.34088457 & 0.09385113\\\\\n",
       "\t 0.05285868 & 0.09600863 & 0.4163970  & 0.34088457 & 0.09385113\\\\\n",
       "\t 0.05285868 & 0.09600863 & 0.4163970  & 0.34088457 & 0.09385113\\\\\n",
       "\t 0.05285868 & 0.09600863 & 0.4163970  & 0.34088457 & 0.09385113\\\\\n",
       "\t 0.05285868 & 0.09600863 & 0.4163970  & 0.34088457 & 0.09385113\\\\\n",
       "\t 0.05285868 & 0.09600863 & 0.4163970  & 0.34088457 & 0.09385113\\\\\n",
       "\t 0.05285868 & 0.09600863 & 0.4163970  & 0.34088457 & 0.09385113\\\\\n",
       "\t 0.05285868 & 0.09600863 & 0.4163970  & 0.34088457 & 0.09385113\\\\\n",
       "\t 0.69055375 & 0.05537459 & 0.1179153  & 0.07882736 & 0.05732899\\\\\n",
       "\t 0.05285868 & 0.09600863 & 0.4163970  & 0.34088457 & 0.09385113\\\\\n",
       "\t 0.05285868 & 0.09600863 & 0.4163970  & 0.34088457 & 0.09385113\\\\\n",
       "\t 0.69055375 & 0.05537459 & 0.1179153  & 0.07882736 & 0.05732899\\\\\n",
       "\t 0.05285868 & 0.09600863 & 0.4163970  & 0.34088457 & 0.09385113\\\\\n",
       "\t 0.05285868 & 0.09600863 & 0.4163970  & 0.34088457 & 0.09385113\\\\\n",
       "\t 0.69055375 & 0.05537459 & 0.1179153  & 0.07882736 & 0.05732899\\\\\n",
       "\t 0.69055375 & 0.05537459 & 0.1179153  & 0.07882736 & 0.05732899\\\\\n",
       "\t 0.07547170 & 0.04905660 & 0.2981132  & 0.38113208 & 0.19622642\\\\\n",
       "\t 0.07547170 & 0.04905660 & 0.2981132  & 0.38113208 & 0.19622642\\\\\n",
       "\t ... & ... & ... & ... & ...\\\\\n",
       "\t 0.08662093 & 0.18524871 & 0.4819897  & 0.15694683 & 0.08919383\\\\\n",
       "\t 0.08662093 & 0.18524871 & 0.4819897  & 0.15694683 & 0.08919383\\\\\n",
       "\t 0.08662093 & 0.18524871 & 0.4819897  & 0.15694683 & 0.08919383\\\\\n",
       "\t 0.69055375 & 0.05537459 & 0.1179153  & 0.07882736 & 0.05732899\\\\\n",
       "\t 0.08662093 & 0.18524871 & 0.4819897  & 0.15694683 & 0.08919383\\\\\n",
       "\t 0.69055375 & 0.05537459 & 0.1179153  & 0.07882736 & 0.05732899\\\\\n",
       "\t 0.69055375 & 0.05537459 & 0.1179153  & 0.07882736 & 0.05732899\\\\\n",
       "\t 0.69055375 & 0.05537459 & 0.1179153  & 0.07882736 & 0.05732899\\\\\n",
       "\t 0.08662093 & 0.18524871 & 0.4819897  & 0.15694683 & 0.08919383\\\\\n",
       "\t 0.69055375 & 0.05537459 & 0.1179153  & 0.07882736 & 0.05732899\\\\\n",
       "\t 0.08662093 & 0.18524871 & 0.4819897  & 0.15694683 & 0.08919383\\\\\n",
       "\t 0.69055375 & 0.05537459 & 0.1179153  & 0.07882736 & 0.05732899\\\\\n",
       "\t 0.08662093 & 0.18524871 & 0.4819897  & 0.15694683 & 0.08919383\\\\\n",
       "\t 0.08662093 & 0.18524871 & 0.4819897  & 0.15694683 & 0.08919383\\\\\n",
       "\t 0.08662093 & 0.18524871 & 0.4819897  & 0.15694683 & 0.08919383\\\\\n",
       "\t 0.08662093 & 0.18524871 & 0.4819897  & 0.15694683 & 0.08919383\\\\\n",
       "\t 0.08662093 & 0.18524871 & 0.4819897  & 0.15694683 & 0.08919383\\\\\n",
       "\t 0.69055375 & 0.05537459 & 0.1179153  & 0.07882736 & 0.05732899\\\\\n",
       "\t 0.08662093 & 0.18524871 & 0.4819897  & 0.15694683 & 0.08919383\\\\\n",
       "\t 0.08662093 & 0.18524871 & 0.4819897  & 0.15694683 & 0.08919383\\\\\n",
       "\t 0.08662093 & 0.18524871 & 0.4819897  & 0.15694683 & 0.08919383\\\\\n",
       "\t 0.08662093 & 0.18524871 & 0.4819897  & 0.15694683 & 0.08919383\\\\\n",
       "\t 0.69055375 & 0.05537459 & 0.1179153  & 0.07882736 & 0.05732899\\\\\n",
       "\t 0.08662093 & 0.18524871 & 0.4819897  & 0.15694683 & 0.08919383\\\\\n",
       "\t 0.69055375 & 0.05537459 & 0.1179153  & 0.07882736 & 0.05732899\\\\\n",
       "\t 0.08662093 & 0.18524871 & 0.4819897  & 0.15694683 & 0.08919383\\\\\n",
       "\t 0.08662093 & 0.18524871 & 0.4819897  & 0.15694683 & 0.08919383\\\\\n",
       "\t 0.08662093 & 0.18524871 & 0.4819897  & 0.15694683 & 0.08919383\\\\\n",
       "\t 0.08662093 & 0.18524871 & 0.4819897  & 0.15694683 & 0.08919383\\\\\n",
       "\t 0.08662093 & 0.18524871 & 0.4819897  & 0.15694683 & 0.08919383\\\\\n",
       "\\end{tabular}\n"
      ],
      "text/markdown": [
       "\n",
       "| 1 | 2 | 3 | 4 | 5 |\n",
       "|---|---|---|---|---|\n",
       "| 0.69055375 | 0.05537459 | 0.1179153  | 0.07882736 | 0.05732899 |\n",
       "| 0.05285868 | 0.09600863 | 0.4163970  | 0.34088457 | 0.09385113 |\n",
       "| 0.05285868 | 0.09600863 | 0.4163970  | 0.34088457 | 0.09385113 |\n",
       "| 0.05285868 | 0.09600863 | 0.4163970  | 0.34088457 | 0.09385113 |\n",
       "| 0.05285868 | 0.09600863 | 0.4163970  | 0.34088457 | 0.09385113 |\n",
       "| 0.05285868 | 0.09600863 | 0.4163970  | 0.34088457 | 0.09385113 |\n",
       "| 0.69055375 | 0.05537459 | 0.1179153  | 0.07882736 | 0.05732899 |\n",
       "| 0.05285868 | 0.09600863 | 0.4163970  | 0.34088457 | 0.09385113 |\n",
       "| 0.05285868 | 0.09600863 | 0.4163970  | 0.34088457 | 0.09385113 |\n",
       "| 0.05285868 | 0.09600863 | 0.4163970  | 0.34088457 | 0.09385113 |\n",
       "| 0.05285868 | 0.09600863 | 0.4163970  | 0.34088457 | 0.09385113 |\n",
       "| 0.05285868 | 0.09600863 | 0.4163970  | 0.34088457 | 0.09385113 |\n",
       "| 0.05285868 | 0.09600863 | 0.4163970  | 0.34088457 | 0.09385113 |\n",
       "| 0.05285868 | 0.09600863 | 0.4163970  | 0.34088457 | 0.09385113 |\n",
       "| 0.05285868 | 0.09600863 | 0.4163970  | 0.34088457 | 0.09385113 |\n",
       "| 0.05285868 | 0.09600863 | 0.4163970  | 0.34088457 | 0.09385113 |\n",
       "| 0.05285868 | 0.09600863 | 0.4163970  | 0.34088457 | 0.09385113 |\n",
       "| 0.05285868 | 0.09600863 | 0.4163970  | 0.34088457 | 0.09385113 |\n",
       "| 0.05285868 | 0.09600863 | 0.4163970  | 0.34088457 | 0.09385113 |\n",
       "| 0.05285868 | 0.09600863 | 0.4163970  | 0.34088457 | 0.09385113 |\n",
       "| 0.69055375 | 0.05537459 | 0.1179153  | 0.07882736 | 0.05732899 |\n",
       "| 0.05285868 | 0.09600863 | 0.4163970  | 0.34088457 | 0.09385113 |\n",
       "| 0.05285868 | 0.09600863 | 0.4163970  | 0.34088457 | 0.09385113 |\n",
       "| 0.69055375 | 0.05537459 | 0.1179153  | 0.07882736 | 0.05732899 |\n",
       "| 0.05285868 | 0.09600863 | 0.4163970  | 0.34088457 | 0.09385113 |\n",
       "| 0.05285868 | 0.09600863 | 0.4163970  | 0.34088457 | 0.09385113 |\n",
       "| 0.69055375 | 0.05537459 | 0.1179153  | 0.07882736 | 0.05732899 |\n",
       "| 0.69055375 | 0.05537459 | 0.1179153  | 0.07882736 | 0.05732899 |\n",
       "| 0.07547170 | 0.04905660 | 0.2981132  | 0.38113208 | 0.19622642 |\n",
       "| 0.07547170 | 0.04905660 | 0.2981132  | 0.38113208 | 0.19622642 |\n",
       "| ... | ... | ... | ... | ... |\n",
       "| 0.08662093 | 0.18524871 | 0.4819897  | 0.15694683 | 0.08919383 |\n",
       "| 0.08662093 | 0.18524871 | 0.4819897  | 0.15694683 | 0.08919383 |\n",
       "| 0.08662093 | 0.18524871 | 0.4819897  | 0.15694683 | 0.08919383 |\n",
       "| 0.69055375 | 0.05537459 | 0.1179153  | 0.07882736 | 0.05732899 |\n",
       "| 0.08662093 | 0.18524871 | 0.4819897  | 0.15694683 | 0.08919383 |\n",
       "| 0.69055375 | 0.05537459 | 0.1179153  | 0.07882736 | 0.05732899 |\n",
       "| 0.69055375 | 0.05537459 | 0.1179153  | 0.07882736 | 0.05732899 |\n",
       "| 0.69055375 | 0.05537459 | 0.1179153  | 0.07882736 | 0.05732899 |\n",
       "| 0.08662093 | 0.18524871 | 0.4819897  | 0.15694683 | 0.08919383 |\n",
       "| 0.69055375 | 0.05537459 | 0.1179153  | 0.07882736 | 0.05732899 |\n",
       "| 0.08662093 | 0.18524871 | 0.4819897  | 0.15694683 | 0.08919383 |\n",
       "| 0.69055375 | 0.05537459 | 0.1179153  | 0.07882736 | 0.05732899 |\n",
       "| 0.08662093 | 0.18524871 | 0.4819897  | 0.15694683 | 0.08919383 |\n",
       "| 0.08662093 | 0.18524871 | 0.4819897  | 0.15694683 | 0.08919383 |\n",
       "| 0.08662093 | 0.18524871 | 0.4819897  | 0.15694683 | 0.08919383 |\n",
       "| 0.08662093 | 0.18524871 | 0.4819897  | 0.15694683 | 0.08919383 |\n",
       "| 0.08662093 | 0.18524871 | 0.4819897  | 0.15694683 | 0.08919383 |\n",
       "| 0.69055375 | 0.05537459 | 0.1179153  | 0.07882736 | 0.05732899 |\n",
       "| 0.08662093 | 0.18524871 | 0.4819897  | 0.15694683 | 0.08919383 |\n",
       "| 0.08662093 | 0.18524871 | 0.4819897  | 0.15694683 | 0.08919383 |\n",
       "| 0.08662093 | 0.18524871 | 0.4819897  | 0.15694683 | 0.08919383 |\n",
       "| 0.08662093 | 0.18524871 | 0.4819897  | 0.15694683 | 0.08919383 |\n",
       "| 0.69055375 | 0.05537459 | 0.1179153  | 0.07882736 | 0.05732899 |\n",
       "| 0.08662093 | 0.18524871 | 0.4819897  | 0.15694683 | 0.08919383 |\n",
       "| 0.69055375 | 0.05537459 | 0.1179153  | 0.07882736 | 0.05732899 |\n",
       "| 0.08662093 | 0.18524871 | 0.4819897  | 0.15694683 | 0.08919383 |\n",
       "| 0.08662093 | 0.18524871 | 0.4819897  | 0.15694683 | 0.08919383 |\n",
       "| 0.08662093 | 0.18524871 | 0.4819897  | 0.15694683 | 0.08919383 |\n",
       "| 0.08662093 | 0.18524871 | 0.4819897  | 0.15694683 | 0.08919383 |\n",
       "| 0.08662093 | 0.18524871 | 0.4819897  | 0.15694683 | 0.08919383 |\n",
       "\n"
      ],
      "text/plain": [
       "     1          2          3         4          5         \n",
       "1    0.69055375 0.05537459 0.1179153 0.07882736 0.05732899\n",
       "2    0.05285868 0.09600863 0.4163970 0.34088457 0.09385113\n",
       "3    0.05285868 0.09600863 0.4163970 0.34088457 0.09385113\n",
       "4    0.05285868 0.09600863 0.4163970 0.34088457 0.09385113\n",
       "5    0.05285868 0.09600863 0.4163970 0.34088457 0.09385113\n",
       "6    0.05285868 0.09600863 0.4163970 0.34088457 0.09385113\n",
       "7    0.69055375 0.05537459 0.1179153 0.07882736 0.05732899\n",
       "8    0.05285868 0.09600863 0.4163970 0.34088457 0.09385113\n",
       "9    0.05285868 0.09600863 0.4163970 0.34088457 0.09385113\n",
       "10   0.05285868 0.09600863 0.4163970 0.34088457 0.09385113\n",
       "11   0.05285868 0.09600863 0.4163970 0.34088457 0.09385113\n",
       "12   0.05285868 0.09600863 0.4163970 0.34088457 0.09385113\n",
       "13   0.05285868 0.09600863 0.4163970 0.34088457 0.09385113\n",
       "14   0.05285868 0.09600863 0.4163970 0.34088457 0.09385113\n",
       "15   0.05285868 0.09600863 0.4163970 0.34088457 0.09385113\n",
       "16   0.05285868 0.09600863 0.4163970 0.34088457 0.09385113\n",
       "17   0.05285868 0.09600863 0.4163970 0.34088457 0.09385113\n",
       "18   0.05285868 0.09600863 0.4163970 0.34088457 0.09385113\n",
       "19   0.05285868 0.09600863 0.4163970 0.34088457 0.09385113\n",
       "20   0.05285868 0.09600863 0.4163970 0.34088457 0.09385113\n",
       "21   0.69055375 0.05537459 0.1179153 0.07882736 0.05732899\n",
       "22   0.05285868 0.09600863 0.4163970 0.34088457 0.09385113\n",
       "23   0.05285868 0.09600863 0.4163970 0.34088457 0.09385113\n",
       "24   0.69055375 0.05537459 0.1179153 0.07882736 0.05732899\n",
       "25   0.05285868 0.09600863 0.4163970 0.34088457 0.09385113\n",
       "26   0.05285868 0.09600863 0.4163970 0.34088457 0.09385113\n",
       "27   0.69055375 0.05537459 0.1179153 0.07882736 0.05732899\n",
       "28   0.69055375 0.05537459 0.1179153 0.07882736 0.05732899\n",
       "29   0.07547170 0.04905660 0.2981132 0.38113208 0.19622642\n",
       "30   0.07547170 0.04905660 0.2981132 0.38113208 0.19622642\n",
       "...  ...        ...        ...       ...        ...       \n",
       "1135 0.08662093 0.18524871 0.4819897 0.15694683 0.08919383\n",
       "1136 0.08662093 0.18524871 0.4819897 0.15694683 0.08919383\n",
       "1137 0.08662093 0.18524871 0.4819897 0.15694683 0.08919383\n",
       "1138 0.69055375 0.05537459 0.1179153 0.07882736 0.05732899\n",
       "1139 0.08662093 0.18524871 0.4819897 0.15694683 0.08919383\n",
       "1140 0.69055375 0.05537459 0.1179153 0.07882736 0.05732899\n",
       "1141 0.69055375 0.05537459 0.1179153 0.07882736 0.05732899\n",
       "1142 0.69055375 0.05537459 0.1179153 0.07882736 0.05732899\n",
       "1143 0.08662093 0.18524871 0.4819897 0.15694683 0.08919383\n",
       "1144 0.69055375 0.05537459 0.1179153 0.07882736 0.05732899\n",
       "1145 0.08662093 0.18524871 0.4819897 0.15694683 0.08919383\n",
       "1146 0.69055375 0.05537459 0.1179153 0.07882736 0.05732899\n",
       "1147 0.08662093 0.18524871 0.4819897 0.15694683 0.08919383\n",
       "1148 0.08662093 0.18524871 0.4819897 0.15694683 0.08919383\n",
       "1149 0.08662093 0.18524871 0.4819897 0.15694683 0.08919383\n",
       "1150 0.08662093 0.18524871 0.4819897 0.15694683 0.08919383\n",
       "1151 0.08662093 0.18524871 0.4819897 0.15694683 0.08919383\n",
       "1152 0.69055375 0.05537459 0.1179153 0.07882736 0.05732899\n",
       "1153 0.08662093 0.18524871 0.4819897 0.15694683 0.08919383\n",
       "1154 0.08662093 0.18524871 0.4819897 0.15694683 0.08919383\n",
       "1155 0.08662093 0.18524871 0.4819897 0.15694683 0.08919383\n",
       "1156 0.08662093 0.18524871 0.4819897 0.15694683 0.08919383\n",
       "1157 0.69055375 0.05537459 0.1179153 0.07882736 0.05732899\n",
       "1158 0.08662093 0.18524871 0.4819897 0.15694683 0.08919383\n",
       "1159 0.69055375 0.05537459 0.1179153 0.07882736 0.05732899\n",
       "1160 0.08662093 0.18524871 0.4819897 0.15694683 0.08919383\n",
       "1161 0.08662093 0.18524871 0.4819897 0.15694683 0.08919383\n",
       "1162 0.08662093 0.18524871 0.4819897 0.15694683 0.08919383\n",
       "1163 0.08662093 0.18524871 0.4819897 0.15694683 0.08919383\n",
       "1164 0.08662093 0.18524871 0.4819897 0.15694683 0.08919383"
      ]
     },
     "metadata": {},
     "output_type": "display_data"
    }
   ],
   "source": [
    "Predicted_std=which.max(Predicted_std)"
   ]
  },
  {
   "cell_type": "code",
   "execution_count": 158,
   "metadata": {},
   "outputs": [
    {
     "name": "stderr",
     "output_type": "stream",
     "text": [
      "Warning message in Ops.ordered(actual, forecast):\n",
      "\"'-' is not meaningful for ordered factors\"Warning message in mean.default(actual):\n",
      "\"argument is not numeric or logical: returning NA\""
     ]
    },
    {
     "ename": "ERROR",
     "evalue": "Error in var(if (is.vector(x) || is.factor(x)) x else as.double(x), na.rm = na.rm): Calling var(x) on a factor x is defunct.\n  Use something like 'all(duplicated(x)[-1L])' to test for a constant vector.\n",
     "output_type": "error",
     "traceback": [
      "Error in var(if (is.vector(x) || is.factor(x)) x else as.double(x), na.rm = na.rm): Calling var(x) on a factor x is defunct.\n  Use something like 'all(duplicated(x)[-1L])' to test for a constant vector.\nTraceback:\n",
      "1. perf_dt(\"Decision Tree-Daily\", test$difficulty, Predicted_std)",
      "2. sd(actual)   # at line 6 of file <text>",
      "3. var(if (is.vector(x) || is.factor(x)) x else as.double(x), na.rm = na.rm)"
     ]
    }
   ],
   "source": [
    "perf_dt(\"Decision Tree-Daily\",test$difficulty,Predicted_std)"
   ]
  },
  {
   "cell_type": "markdown",
   "metadata": {},
   "source": [
    "## Random Forest(RF)"
   ]
  },
  {
   "cell_type": "code",
   "execution_count": 264,
   "metadata": {},
   "outputs": [],
   "source": [
    "library(randomForest)"
   ]
  },
  {
   "cell_type": "code",
   "execution_count": 265,
   "metadata": {},
   "outputs": [],
   "source": [
    "train_random_forest_daily=train_daily[8:.N]"
   ]
  },
  {
   "cell_type": "code",
   "execution_count": 314,
   "metadata": {},
   "outputs": [
    {
     "data": {
      "text/plain": [
       "\n",
       "Call:\n",
       " randomForest(formula = Consumption ~ . - date, data = train_random_forest_daily,      ntree = 300, nodesize = 30) \n",
       "               Type of random forest: regression\n",
       "                     Number of trees: 300\n",
       "No. of variables tried at each split: 5\n",
       "\n",
       "          Mean of squared residuals: 768322035\n",
       "                    % Var explained: 88.73"
      ]
     },
     "metadata": {},
     "output_type": "display_data"
    }
   ],
   "source": [
    "random_forest_daily=randomForest(Consumption~.-date,data=train_random_forest_daily,\n",
    "                           ntree=300,nodesize=30)\n",
    "random_forest_daily"
   ]
  },
  {
   "cell_type": "code",
   "execution_count": 315,
   "metadata": {},
   "outputs": [
    {
     "data": {
      "image/png": "[encoded data removed]",
      "text/plain": [
       "Plot with title \"random_forest_daily\""
      ]
     },
     "metadata": {},
     "output_type": "display_data"
    }
   ],
   "source": [
    "varImpPlot(random_forest_daily)"
   ]
  },
  {
   "cell_type": "code",
   "execution_count": 316,
   "metadata": {},
   "outputs": [],
   "source": [
    "PredictRandomForest_daily=predict(random_forest_daily,newdata=test_daily)"
   ]
  },
  {
   "cell_type": "markdown",
   "metadata": {},
   "source": [
    "### Performanca Measure"
   ]
  },
  {
   "cell_type": "code",
   "execution_count": 317,
   "metadata": {
    "scrolled": true
   },
   "outputs": [
    {
     "data": {
      "text/html": [
       "<table>\n",
       "<thead><tr><th scope=col>name</th><th scope=col>n</th><th scope=col>mean</th><th scope=col>sd</th><th scope=col>FBias</th><th scope=col>MAPE</th><th scope=col>RMSE</th><th scope=col>MAD</th><th scope=col>WMAPE</th></tr></thead>\n",
       "<tbody>\n",
       "\t<tr><td>Decision Tree-daily</td><td>38                 </td><td>839774.3           </td><td>61167.81           </td><td>-0.007851525       </td><td>0.02863335         </td><td>6843.236           </td><td>22683.19           </td><td>0.02701105         </td></tr>\n",
       "</tbody>\n",
       "</table>\n"
      ],
      "text/latex": [
       "\\begin{tabular}{r|lllllllll}\n",
       " name & n & mean & sd & FBias & MAPE & RMSE & MAD & WMAPE\\\\\n",
       "\\hline\n",
       "\t Decision Tree-daily & 38                  & 839774.3            & 61167.81            & -0.007851525        & 0.02863335          & 6843.236            & 22683.19            & 0.02701105         \\\\\n",
       "\\end{tabular}\n"
      ],
      "text/markdown": [
       "\n",
       "| name | n | mean | sd | FBias | MAPE | RMSE | MAD | WMAPE |\n",
       "|---|---|---|---|---|---|---|---|---|\n",
       "| Decision Tree-daily | 38                  | 839774.3            | 61167.81            | -0.007851525        | 0.02863335          | 6843.236            | 22683.19            | 0.02701105          |\n",
       "\n"
      ],
      "text/plain": [
       "  name                n  mean     sd       FBias        MAPE       RMSE    \n",
       "1 Decision Tree-daily 38 839774.3 61167.81 -0.007851525 0.02863335 6843.236\n",
       "  MAD      WMAPE     \n",
       "1 22683.19 0.02701105"
      ]
     },
     "metadata": {},
     "output_type": "display_data"
    },
    {
     "data": {
      "text/html": [
       "<table>\n",
       "<thead><tr><th scope=col>name</th><th scope=col>n</th><th scope=col>mean</th><th scope=col>sd</th><th scope=col>FBias</th><th scope=col>MAPE</th><th scope=col>RMSE</th><th scope=col>MAD</th><th scope=col>WMAPE</th></tr></thead>\n",
       "<tbody>\n",
       "\t<tr><td>Random Forest-daily</td><td>38                 </td><td>839774.3           </td><td>61167.81           </td><td>0.02093843         </td><td>0.03681139         </td><td>5762.231           </td><td>30286.1            </td><td>0.03606457         </td></tr>\n",
       "</tbody>\n",
       "</table>\n"
      ],
      "text/latex": [
       "\\begin{tabular}{r|lllllllll}\n",
       " name & n & mean & sd & FBias & MAPE & RMSE & MAD & WMAPE\\\\\n",
       "\\hline\n",
       "\t Random Forest-daily & 38                  & 839774.3            & 61167.81            & 0.02093843          & 0.03681139          & 5762.231            & 30286.1             & 0.03606457         \\\\\n",
       "\\end{tabular}\n"
      ],
      "text/markdown": [
       "\n",
       "| name | n | mean | sd | FBias | MAPE | RMSE | MAD | WMAPE |\n",
       "|---|---|---|---|---|---|---|---|---|\n",
       "| Random Forest-daily | 38                  | 839774.3            | 61167.81            | 0.02093843          | 0.03681139          | 5762.231            | 30286.1             | 0.03606457          |\n",
       "\n"
      ],
      "text/plain": [
       "  name                n  mean     sd       FBias      MAPE       RMSE    \n",
       "1 Random Forest-daily 38 839774.3 61167.81 0.02093843 0.03681139 5762.231\n",
       "  MAD     WMAPE     \n",
       "1 30286.1 0.03606457"
      ]
     },
     "metadata": {},
     "output_type": "display_data"
    }
   ],
   "source": [
    "perf_dt(\"Decision Tree-daily\",test_daily$Consumption,PredictCART_daily)\n",
    "perf_dt(\"Random Forest-daily\",test_daily$Consumption,PredictRandomForest_daily)"
   ]
  },
  {
   "cell_type": "markdown",
   "metadata": {},
   "source": [
    "## Stochastic Gradient Boosting(SGB)"
   ]
  },
  {
   "cell_type": "code",
   "execution_count": null,
   "metadata": {},
   "outputs": [],
   "source": [
    "# plot results\n",
    "plot(t, y1, t=\"l\", ylim=range(y1,y2)*c(1,1.2))\n",
    "lines(t, y2, col=2)\n",
    "legend(\"top\", legend=c(\"y1\", \"y2\"), col=1:2, lty=1, ncol=2, bty=\"n\")\n",
    "\n",
    "require(gbm)\n",
    "dat=data.frame(t=t,y=y1)\n",
    "noftrees=100\n",
    "depth=5\n",
    "learning_rate=0.01\n",
    "sampling_fraction=1\n",
    "y=y1\n",
    "boosting_model=gbm(y~., data=dat,distribution = \"gaussian\", n.trees = noftrees,\n",
    "        interaction.depth = depth, n.minobsinnode = 5, shrinkage =learning_rate ,\n",
    "        bag.fraction = sampling_fraction)\n",
    "        \n",
    "for(i in 1:noftrees){\n",
    "    print(i)\n",
    "    predicted=predict(boosting_model,dat,n.trees=i)\n",
    "\n",
    "    if(i %% 10 ==0){\n",
    "       plot(t, y, t=\"l\", ylim=range(y1,y2)*c(1,1.2),main=paste0('Tree:',i))\n",
    "        lines(t, predicted, col=2)\n",
    "        legend(\"top\", legend=c(\"y\", \"predicted\"), col=1:2, lty=1, ncol=2, bty=\"n\")\n",
    "        Sys.sleep(1)\n",
    "    }\n",
    "}    "
   ]
  },
  {
   "cell_type": "markdown",
   "metadata": {},
   "source": [
    "# General Comparision"
   ]
  },
  {
   "cell_type": "code",
   "execution_count": null,
   "metadata": {},
   "outputs": [],
   "source": []
  }
 ],
 "metadata": {
  "kernelspec": {
   "display_name": "R",
   "language": "R",
   "name": "ir"
  },
  "language_info": {
   "codemirror_mode": "r",
   "file_extension": ".r",
   "mimetype": "text/x-r-source",
   "name": "R",
   "pygments_lexer": "r",
   "version": "3.6.1"
  }
 },
 "nbformat": 4,
 "nbformat_minor": 4
}
