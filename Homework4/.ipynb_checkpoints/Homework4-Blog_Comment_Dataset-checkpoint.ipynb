{
 "cells": [
  {
   "cell_type": "code",
   "execution_count": 45,
   "metadata": {},
   "outputs": [],
   "source": [
    "library(data.table)\n",
    "library(glmnet)\n",
    "library(ggplot2)\n",
    "library(lubridate, quietly=TRUE)\n",
    "library(zoo, quietly = TRUE)\n",
    "library(dplyr, quietly = TRUE)\n",
    "library(GGally, quietly=TRUE)\n",
    "library(caTools)\n",
    "library(rpart)\n",
    "library(rattle)\n",
    "library(caret)\n",
    "library(e1071)\n",
    "library(randomForest)\n",
    "library(gbm)"
   ]
  },
  {
   "cell_type": "markdown",
   "metadata": {},
   "source": [
    "### Performance Function"
   ]
  },
  {
   "cell_type": "code",
   "execution_count": 2,
   "metadata": {},
   "outputs": [],
   "source": [
    "perf_dt=function(type,actual,forecast){\n",
    "    name=type\n",
    "    n=length(actual)\n",
    "    error=actual-forecast\n",
    "    mean=mean(actual)\n",
    "    sd=sd(actual)\n",
    "    FBias=sum(error)/sum(actual)\n",
    "    MPE=sum(error/actual)/n\n",
    "    MAPE=sum(abs(error/actual))/n\n",
    "    RMSE=sqrt(sum(error^2))/n\n",
    "    MAD=sum(abs(error))/n\n",
    "    WMAPE=MAD/mean\n",
    "    l=data.frame(name,n,mean,sd,FBias,MAPE,RMSE,MAD,WMAPE)\n",
    "    return(l)\n",
    "}"
   ]
  },
  {
   "cell_type": "markdown",
   "metadata": {},
   "source": [
    "# Fourth Dataset"
   ]
  },
  {
   "cell_type": "markdown",
   "metadata": {},
   "source": [
    "### Loading Dataset"
   ]
  },
  {
   "cell_type": "code",
   "execution_count": 3,
   "metadata": {},
   "outputs": [],
   "source": [
    "blog_data=read.csv(\"blogData_train.csv\")\n",
    "setnames(blog_data,\"X1.0.2\", \"target\")"
   ]
  },
  {
   "cell_type": "code",
   "execution_count": 4,
   "metadata": {},
   "outputs": [
    {
     "name": "stdout",
     "output_type": "stream",
     "text": [
      "Classes 'data.table' and 'data.frame':\t10000 obs. of  281 variables:\n",
      " $ X40.30467   : num  40.3 40.3 40.3 40.3 40.3 ...\n",
      " $ X53.845657  : num  53.8 53.8 53.8 53.8 53.8 ...\n",
      " $ X0.0        : num  0 0 0 0 0 0 0 0 0 0 ...\n",
      " $ X401.0      : num  401 401 401 401 401 401 401 401 401 401 ...\n",
      " $ X15.0       : num  15 15 15 15 15 15 15 15 15 15 ...\n",
      " $ X15.52416   : num  15.5 15.5 15.5 15.5 15.5 ...\n",
      " $ X32.44188   : num  32.4 32.4 32.4 32.4 32.4 ...\n",
      " $ X0.0.1      : num  0 0 0 0 0 0 0 0 0 0 ...\n",
      " $ X377.0      : num  377 377 377 377 377 377 377 377 377 377 ...\n",
      " $ X3.0        : num  3 3 3 3 3 3 3 3 3 3 ...\n",
      " $ X14.044226  : num  14 14 14 14 14 ...\n",
      " $ X32.615417  : num  32.6 32.6 32.6 32.6 32.6 ...\n",
      " $ X0.0.2      : num  0 0 0 0 0 0 0 0 0 0 ...\n",
      " $ X377.0.1    : num  377 377 377 377 377 377 377 377 377 377 ...\n",
      " $ X2.0        : num  2 2 2 2 2 2 2 2 2 2 ...\n",
      " $ X34.567566  : num  34.6 34.6 34.6 34.6 34.6 ...\n",
      " $ X48.475178  : num  48.5 48.5 48.5 48.5 48.5 ...\n",
      " $ X0.0.3      : num  0 0 0 0 0 0 0 0 0 0 ...\n",
      " $ X378.0      : num  378 378 378 378 378 378 378 378 378 378 ...\n",
      " $ X12.0       : num  12 12 12 12 12 12 12 12 12 12 ...\n",
      " $ X1.4799345  : num  1.48 1.48 1.48 1.48 1.48 ...\n",
      " $ X46.18691   : num  46.2 46.2 46.2 46.2 46.2 ...\n",
      " $ X.356.0     : num  -356 -356 -356 -356 -356 -356 -356 -356 -356 -356 ...\n",
      " $ X377.0.2    : num  377 377 377 377 377 377 377 377 377 377 ...\n",
      " $ X0.0.4      : num  0 0 0 0 0 0 0 0 0 0 ...\n",
      " $ X1.0761671  : num  1.08 1.08 1.08 1.08 1.08 ...\n",
      " $ X1.795416   : num  1.8 1.8 1.8 1.8 1.8 ...\n",
      " $ X0.0.5      : num  0 0 0 0 0 0 0 0 0 0 ...\n",
      " $ X11.0       : num  11 11 11 11 11 11 11 11 11 11 ...\n",
      " $ X0.0.6      : num  0 0 0 0 0 0 0 0 0 0 ...\n",
      " $ X0.4004914  : num  0.4 0.4 0.4 0.4 0.4 ...\n",
      " $ X1.0780969  : num  1.08 1.08 1.08 1.08 1.08 ...\n",
      " $ X0.0.7      : num  0 0 0 0 0 0 0 0 0 0 ...\n",
      " $ X9.0        : num  9 9 9 9 9 9 9 9 9 9 ...\n",
      " $ X0.0.8      : num  0 0 0 0 0 0 0 0 0 0 ...\n",
      " $ X0.37755936 : num  0.378 0.378 0.378 0.378 0.378 ...\n",
      " $ X1.07421    : num  1.07 1.07 1.07 1.07 1.07 ...\n",
      " $ X0.0.9      : num  0 0 0 0 0 0 0 0 0 0 ...\n",
      " $ X9.0.1      : num  9 9 9 9 9 9 9 9 9 9 ...\n",
      " $ X0.0.10     : num  0 0 0 0 0 0 0 0 0 0 ...\n",
      " $ X0.972973   : num  0.973 0.973 0.973 0.973 0.973 ...\n",
      " $ X1.704671   : num  1.7 1.7 1.7 1.7 1.7 ...\n",
      " $ X0.0.11     : num  0 0 0 0 0 0 0 0 0 0 ...\n",
      " $ X10.0       : num  10 10 10 10 10 10 10 10 10 10 ...\n",
      " $ X0.0.12     : num  0 0 0 0 0 0 0 0 0 0 ...\n",
      " $ X0.022932023: num  0.0229 0.0229 0.0229 0.0229 0.0229 ...\n",
      " $ X1.521174   : num  1.52 1.52 1.52 1.52 1.52 ...\n",
      " $ X.8.0       : num  -8 -8 -8 -8 -8 -8 -8 -8 -8 -8 ...\n",
      " $ X9.0.2      : num  9 9 9 9 9 9 9 9 9 9 ...\n",
      " $ X0.0.13     : num  0 0 0 0 0 0 0 0 0 0 ...\n",
      " $ X2.0.1      : num  6 6 2 3 6 6 3 30 30 0 ...\n",
      " $ X2.0.2      : num  2 2 2 1 0 0 1 27 27 0 ...\n",
      " $ X0.0.14     : num  4 4 0 2 2 2 2 1 1 0 ...\n",
      " $ X2.0.3      : num  5 5 2 2 5 5 2 2 2 0 ...\n",
      " $ X2.0.4      : num  -2 -2 2 -1 -2 -2 -1 26 26 0 ...\n",
      " $ X0.0.15     : num  0 0 0 0 0 0 0 0 0 2 ...\n",
      " $ X0.0.16     : num  0 0 0 0 0 0 0 0 0 2 ...\n",
      " $ X0.0.17     : num  0 0 0 0 0 0 0 0 0 0 ...\n",
      " $ X0.0.18     : num  0 0 0 0 0 0 0 0 0 2 ...\n",
      " $ X0.0.19     : num  0 0 0 0 0 0 0 0 0 2 ...\n",
      " $ X10.0.1     : num  35 35 10 34 59 59 34 58 58 11 ...\n",
      " $ X0.0.20     : num  0 0 0 0 0 0 0 0 0 0 ...\n",
      " $ X0.0.21     : num  0 0 0 0 0 0 0 0 0 0 ...\n",
      " $ X0.0.22     : num  0 0 0 0 0 0 0 0 0 0 ...\n",
      " $ X0.0.23     : num  0 0 0 0 0 0 0 0 0 0 ...\n",
      " $ X0.0.24     : num  0 0 0 0 0 0 0 0 0 0 ...\n",
      " $ X0.0.25     : num  0 0 0 0 0 0 0 0 0 0 ...\n",
      " $ X0.0.26     : num  0 0 0 0 0 0 0 0 0 0 ...\n",
      " $ X0.0.27     : num  0 0 0 0 0 0 0 0 0 0 ...\n",
      " $ X0.0.28     : num  0 0 0 0 0 0 0 0 0 0 ...\n",
      " $ X0.0.29     : num  0 0 0 0 0 0 0 0 0 0 ...\n",
      " $ X0.0.30     : num  0 0 0 0 0 0 0 0 0 0 ...\n",
      " $ X0.0.31     : num  0 0 0 0 0 0 0 0 0 0 ...\n",
      " $ X0.0.32     : num  0 0 0 0 0 0 0 0 0 0 ...\n",
      " $ X0.0.33     : num  0 0 0 0 0 0 0 0 0 0 ...\n",
      " $ X0.0.34     : num  0 0 0 0 0 0 0 0 0 0 ...\n",
      " $ X0.0.35     : num  0 0 0 0 0 0 0 0 0 0 ...\n",
      " $ X0.0.36     : num  0 0 0 0 0 0 0 0 0 0 ...\n",
      " $ X0.0.37     : num  0 0 0 0 0 0 0 0 0 0 ...\n",
      " $ X0.0.38     : num  0 0 0 0 0 0 0 0 0 0 ...\n",
      " $ X0.0.39     : num  0 0 0 0 0 0 0 0 0 0 ...\n",
      " $ X0.0.40     : num  0 0 0 0 0 0 0 0 0 0 ...\n",
      " $ X0.0.41     : num  0 0 0 0 0 0 0 0 0 0 ...\n",
      " $ X0.0.42     : num  0 0 0 0 0 0 0 0 0 0 ...\n",
      " $ X0.0.43     : num  0 0 0 0 0 0 0 0 0 0 ...\n",
      " $ X0.0.44     : num  0 0 0 0 0 0 0 0 0 0 ...\n",
      " $ X0.0.45     : num  0 0 0 0 0 0 0 0 0 0 ...\n",
      " $ X0.0.46     : num  0 0 0 0 0 0 0 0 0 0 ...\n",
      " $ X0.0.47     : num  0 0 0 0 0 0 0 0 0 0 ...\n",
      " $ X0.0.48     : num  0 0 0 0 0 0 0 0 0 0 ...\n",
      " $ X0.0.49     : num  0 0 0 0 0 0 0 0 0 0 ...\n",
      " $ X0.0.50     : num  0 0 0 0 0 0 0 0 0 0 ...\n",
      " $ X0.0.51     : num  0 0 0 0 0 0 0 0 0 0 ...\n",
      " $ X0.0.52     : num  0 0 0 0 0 0 0 0 0 0 ...\n",
      " $ X0.0.53     : num  0 0 0 0 0 0 0 0 0 0 ...\n",
      " $ X0.0.54     : num  0 0 0 0 0 0 0 0 0 0 ...\n",
      " $ X0.0.55     : num  0 0 0 0 0 0 0 0 0 0 ...\n",
      " $ X0.0.56     : num  0 0 0 0 0 0 0 0 0 0 ...\n",
      " $ X0.0.57     : num  0 0 0 0 0 0 0 0 0 0 ...\n",
      "  [list output truncated]\n",
      " - attr(*, \".internal.selfref\")=<externalptr> \n"
     ]
    }
   ],
   "source": [
    "blog_data=as.data.table(blog_data)\n",
    "blog_data=blog_data[0:10000]\n",
    "blog_data=na.omit(blog_data)\n",
    "str(blog_data)"
   ]
  },
  {
   "cell_type": "code",
   "execution_count": 5,
   "metadata": {},
   "outputs": [],
   "source": [
    "set.seed(35)\n",
    "spl=sample.split(blog_data$target, SplitRatio = 0.8)\n",
    "blog_train=subset(blog_data,spl==TRUE)\n",
    "blog_test=subset(blog_data,spl==FALSE)"
   ]
  },
  {
   "cell_type": "markdown",
   "metadata": {},
   "source": [
    "## Penalized Regression Approaches(PRA)"
   ]
  },
  {
   "cell_type": "markdown",
   "metadata": {},
   "source": [
    "### L1 Penalty with Mean Square Error measure"
   ]
  },
  {
   "cell_type": "markdown",
   "metadata": {},
   "source": [
    "In order to tune lambda values, glmnet packages are used to get best lambda values for Penalized Regression. "
   ]
  },
  {
   "cell_type": "code",
   "execution_count": 6,
   "metadata": {},
   "outputs": [],
   "source": [
    "train_mat_blog=data.matrix(blog_train[complete.cases(blog_train),-c(\"target\"),with=F])\n",
    "\n",
    "result_vec_blog=as.vector(t(blog_train[complete.cases(blog_train),\"target\"]))\n",
    "\n",
    "cvfit_blog=cv.glmnet(train_mat_blog,result_vec_blog,family=\"gaussian\",nfolds = 10,type.measure = \"mse\")\n",
    "\n",
    "test_mat_blog=data.matrix(blog_test[complete.cases(blog_test),-c(\"target\")])\n",
    "\n",
    "lasso_model_blog_mse_min <- glmnet(train_mat_blog,result_vec_blog, alpha = 1, lambda = cvfit_blog$lambda.min, standardize = FALSE)\n",
    "lasso_model_blog_mse_1se <- glmnet(train_mat_blog,result_vec_blog, alpha = 1, lambda = cvfit_blog$lambda.1se, standardize = FALSE)\n",
    "lasso_model_blog_mse_10th <- glmnet(train_mat_blog,result_vec_blog, alpha = 1, lambda = cvfit_blog$lambda[10], standardize = FALSE)"
   ]
  },
  {
   "cell_type": "code",
   "execution_count": 7,
   "metadata": {},
   "outputs": [],
   "source": [
    "# train_mat_blog=data.matrix(blog_train[complete.cases(blog_train),-c(\"target\"),with=F])\n",
    "\n",
    "# result_vec_blog=as.vector(t(blog_train[complete.cases(blog_train),\"target\"]))\n",
    "\n",
    "# cvfit_blog=cv.glmnet(train_mat_blog,result_vec_blog,family=\"gaussian\",nfolds = 10)\n",
    "\n",
    "# test_mat_blog=data.matrix(blog_test[complete.cases(blog_test),-c(\"target\")])\n",
    "\n",
    "# lasso_model_blog <- glmnet(train_mat_blog,result_vec_blog, alpha = 1, lambda = cvfit_blog$lambda.1se, standardize = FALSE)"
   ]
  },
  {
   "cell_type": "code",
   "execution_count": 8,
   "metadata": {},
   "outputs": [
    {
     "data": {
      "image/png": "[encoded data removed]",
      "text/plain": [
       "plot without title"
      ]
     },
     "metadata": {},
     "output_type": "display_data"
    }
   ],
   "source": [
    "plot(cvfit_blog)"
   ]
  },
  {
   "cell_type": "markdown",
   "metadata": {},
   "source": [
    "### Lambda Values for Mean Square Error Values"
   ]
  },
  {
   "cell_type": "code",
   "execution_count": 9,
   "metadata": {},
   "outputs": [
    {
     "data": {
      "text/html": [
       "0.315280438601415"
      ],
      "text/latex": [
       "0.315280438601415"
      ],
      "text/markdown": [
       "0.315280438601415"
      ],
      "text/plain": [
       "[1] 0.3152804"
      ]
     },
     "metadata": {},
     "output_type": "display_data"
    }
   ],
   "source": [
    "cvfit_blog$lambda.min"
   ]
  },
  {
   "cell_type": "code",
   "execution_count": 10,
   "metadata": {},
   "outputs": [
    {
     "data": {
      "text/html": [
       "7.45477256891137"
      ],
      "text/latex": [
       "7.45477256891137"
      ],
      "text/markdown": [
       "7.45477256891137"
      ],
      "text/plain": [
       "[1] 7.454773"
      ]
     },
     "metadata": {},
     "output_type": "display_data"
    }
   ],
   "source": [
    "cvfit_blog$lambda.1se"
   ]
  },
  {
   "cell_type": "code",
   "execution_count": 11,
   "metadata": {},
   "outputs": [
    {
     "data": {
      "text/html": [
       "4.68181443856375"
      ],
      "text/latex": [
       "4.68181443856375"
      ],
      "text/markdown": [
       "4.68181443856375"
      ],
      "text/plain": [
       "[1] 4.681814"
      ]
     },
     "metadata": {},
     "output_type": "display_data"
    }
   ],
   "source": [
    "cvfit_blog$lambda[10]"
   ]
  },
  {
   "cell_type": "markdown",
   "metadata": {},
   "source": [
    "2 possible lambda values are determined by the cv.glmnet(). One of them is used for getting minimum Mean-Squared Error. The other one is determined by looking how many paramater is used in the model. Namely, this lambda value can be beneficial for reducing the possibility of over-fitting model on train dataset. Lastly, one random lambda was selected to compare results for these 3 lambda values."
   ]
  },
  {
   "cell_type": "code",
   "execution_count": 12,
   "metadata": {},
   "outputs": [],
   "source": [
    "prediction_pra_mse_blog_min <- predict(lasso_model_blog_mse_min, s = cvfit_blog$lambda.min, newx = test_mat_blog)\n",
    "prediction_pra_mse_blog_1se <- predict(lasso_model_blog_mse_1se, s = cvfit_blog$lambda.1se, newx = test_mat_blog)\n",
    "prediction_pra_mse_blog_10th <- predict(lasso_model_blog_mse_10th, s = cvfit_blog$lambda[10], newx = test_mat_blog)"
   ]
  },
  {
   "cell_type": "markdown",
   "metadata": {},
   "source": [
    "## L1 Penalty with Mean Absolute Error measure"
   ]
  },
  {
   "cell_type": "code",
   "execution_count": 13,
   "metadata": {},
   "outputs": [],
   "source": [
    "train_mat_blog=data.matrix(blog_train[complete.cases(blog_train),-c(\"target\"),with=F])\n",
    "\n",
    "result_vec_blog=as.vector(t(blog_train[complete.cases(blog_train),\"target\"]))\n",
    "\n",
    "cvfit_blog_mae=cv.glmnet(train_mat_blog,result_vec_blog,family=\"gaussian\",nfolds = 10,type.measure = \"mae\")\n",
    "\n",
    "test_mat_blog=data.matrix(blog_test[complete.cases(blog_test),-c(\"target\")])\n",
    "\n",
    "lasso_model_blog_mae_min <- glmnet(train_mat_blog,result_vec_blog, alpha = 1, lambda = cvfit_blog_mae$lambda.min, standardize = FALSE)\n",
    "lasso_model_blog_mae_1se <- glmnet(train_mat_blog,result_vec_blog, alpha = 1, lambda = cvfit_blog_mae$lambda.1se, standardize = FALSE)\n",
    "lasso_model_blog_mae_10th <- glmnet(train_mat_blog,result_vec_blog, alpha = 1, lambda = cvfit_blog_mae$lambda[10], standardize = FALSE)"
   ]
  },
  {
   "cell_type": "code",
   "execution_count": 14,
   "metadata": {},
   "outputs": [
    {
     "data": {
      "image/png": "[encoded data removed]",
      "text/plain": [
       "plot without title"
      ]
     },
     "metadata": {},
     "output_type": "display_data"
    }
   ],
   "source": [
    "plot(cvfit_blog_mae)"
   ]
  },
  {
   "cell_type": "markdown",
   "metadata": {},
   "source": [
    "### Lambda Values for Mean Square Error Values"
   ]
  },
  {
   "cell_type": "code",
   "execution_count": 15,
   "metadata": {},
   "outputs": [
    {
     "data": {
      "text/html": [
       "2.44110193003535"
      ],
      "text/latex": [
       "2.44110193003535"
      ],
      "text/markdown": [
       "2.44110193003535"
      ],
      "text/plain": [
       "[1] 2.441102"
      ]
     },
     "metadata": {},
     "output_type": "display_data"
    }
   ],
   "source": [
    "cvfit_blog_mae$lambda.min"
   ]
  },
  {
   "cell_type": "code",
   "execution_count": 16,
   "metadata": {},
   "outputs": [
    {
     "data": {
      "text/html": [
       "3.22699308807477"
      ],
      "text/latex": [
       "3.22699308807477"
      ],
      "text/markdown": [
       "3.22699308807477"
      ],
      "text/plain": [
       "[1] 3.226993"
      ]
     },
     "metadata": {},
     "output_type": "display_data"
    }
   ],
   "source": [
    "cvfit_blog_mae$lambda.1se"
   ]
  },
  {
   "cell_type": "code",
   "execution_count": 17,
   "metadata": {},
   "outputs": [
    {
     "data": {
      "text/html": [
       "4.68181443856375"
      ],
      "text/latex": [
       "4.68181443856375"
      ],
      "text/markdown": [
       "4.68181443856375"
      ],
      "text/plain": [
       "[1] 4.681814"
      ]
     },
     "metadata": {},
     "output_type": "display_data"
    }
   ],
   "source": [
    "cvfit_blog_mae$lambda[10]"
   ]
  },
  {
   "cell_type": "markdown",
   "metadata": {},
   "source": [
    "2 possible lambda values are determined by the cv.glmnet(). One of them is used for getting minimum Mean-Squared Error. The other one is determined by looking how many paramater is used in the model. Namely, this lambda value can be beneficial for reducing the possibility of over-fitting model on train dataset. Lastly, one random lambda was selected to compare results for these 3 lambda values."
   ]
  },
  {
   "cell_type": "code",
   "execution_count": 18,
   "metadata": {},
   "outputs": [],
   "source": [
    "prediction_pra_mae_blog_min <- predict(lasso_model_blog_mae_min, s = cvfit_blog_mae$lambda.min, newx = test_mat_blog)\n",
    "prediction_pra_mae_blog_1se <- predict(lasso_model_blog_mae_1se, s = cvfit_blog_mae$lambda.1se, newx = test_mat_blog)\n",
    "prediction_pra_mae_blog_10th <- predict(lasso_model_blog_mae_10th, s = cvfit_blog_mae$lambda[10], newx = test_mat_blog)"
   ]
  },
  {
   "cell_type": "markdown",
   "metadata": {},
   "source": [
    "### Performance Measure for Lasso Regression"
   ]
  },
  {
   "cell_type": "code",
   "execution_count": 19,
   "metadata": {},
   "outputs": [
    {
     "data": {
      "text/html": [
       "<table>\n",
       "<thead><tr><th scope=col>name</th><th scope=col>n</th><th scope=col>mean</th><th scope=col>sd</th><th scope=col>FBias</th><th scope=col>MAPE</th><th scope=col>RMSE</th><th scope=col>MAD</th><th scope=col>WMAPE</th></tr></thead>\n",
       "<tbody>\n",
       "\t<tr><td>Blog Data Set for Lasso Function with min lambda and mse objective</td><td>1977                                                              </td><td>7.152757                                                          </td><td>16.66787                                                          </td><td>-0.2243988                                                        </td><td>Inf                                                               </td><td>0.3313882                                                         </td><td>8.906574                                                          </td><td>1.245195                                                          </td></tr>\n",
       "</tbody>\n",
       "</table>\n"
      ],
      "text/latex": [
       "\\begin{tabular}{r|lllllllll}\n",
       " name & n & mean & sd & FBias & MAPE & RMSE & MAD & WMAPE\\\\\n",
       "\\hline\n",
       "\t Blog Data Set for Lasso Function with min lambda and mse objective & 1977                                                               & 7.152757                                                           & 16.66787                                                           & -0.2243988                                                         & Inf                                                                & 0.3313882                                                          & 8.906574                                                           & 1.245195                                                          \\\\\n",
       "\\end{tabular}\n"
      ],
      "text/markdown": [
       "\n",
       "| name | n | mean | sd | FBias | MAPE | RMSE | MAD | WMAPE |\n",
       "|---|---|---|---|---|---|---|---|---|\n",
       "| Blog Data Set for Lasso Function with min lambda and mse objective | 1977                                                               | 7.152757                                                           | 16.66787                                                           | -0.2243988                                                         | Inf                                                                | 0.3313882                                                          | 8.906574                                                           | 1.245195                                                           |\n",
       "\n"
      ],
      "text/plain": [
       "  name                                                               n   \n",
       "1 Blog Data Set for Lasso Function with min lambda and mse objective 1977\n",
       "  mean     sd       FBias      MAPE RMSE      MAD      WMAPE   \n",
       "1 7.152757 16.66787 -0.2243988 Inf  0.3313882 8.906574 1.245195"
      ]
     },
     "metadata": {},
     "output_type": "display_data"
    },
    {
     "data": {
      "text/html": [
       "<table>\n",
       "<thead><tr><th scope=col>name</th><th scope=col>n</th><th scope=col>mean</th><th scope=col>sd</th><th scope=col>FBias</th><th scope=col>MAPE</th><th scope=col>RMSE</th><th scope=col>MAD</th><th scope=col>WMAPE</th></tr></thead>\n",
       "<tbody>\n",
       "\t<tr><td>Blog Data Set for Lasso Function with 1se lambda and mse objective</td><td>1977                                                              </td><td>7.152757                                                          </td><td>16.66787                                                          </td><td>-0.2301968                                                        </td><td>Inf                                                               </td><td>0.3298626                                                         </td><td>8.726155                                                          </td><td>1.219971                                                          </td></tr>\n",
       "</tbody>\n",
       "</table>\n"
      ],
      "text/latex": [
       "\\begin{tabular}{r|lllllllll}\n",
       " name & n & mean & sd & FBias & MAPE & RMSE & MAD & WMAPE\\\\\n",
       "\\hline\n",
       "\t Blog Data Set for Lasso Function with 1se lambda and mse objective & 1977                                                               & 7.152757                                                           & 16.66787                                                           & -0.2301968                                                         & Inf                                                                & 0.3298626                                                          & 8.726155                                                           & 1.219971                                                          \\\\\n",
       "\\end{tabular}\n"
      ],
      "text/markdown": [
       "\n",
       "| name | n | mean | sd | FBias | MAPE | RMSE | MAD | WMAPE |\n",
       "|---|---|---|---|---|---|---|---|---|\n",
       "| Blog Data Set for Lasso Function with 1se lambda and mse objective | 1977                                                               | 7.152757                                                           | 16.66787                                                           | -0.2301968                                                         | Inf                                                                | 0.3298626                                                          | 8.726155                                                           | 1.219971                                                           |\n",
       "\n"
      ],
      "text/plain": [
       "  name                                                               n   \n",
       "1 Blog Data Set for Lasso Function with 1se lambda and mse objective 1977\n",
       "  mean     sd       FBias      MAPE RMSE      MAD      WMAPE   \n",
       "1 7.152757 16.66787 -0.2301968 Inf  0.3298626 8.726155 1.219971"
      ]
     },
     "metadata": {},
     "output_type": "display_data"
    },
    {
     "data": {
      "text/html": [
       "<table>\n",
       "<thead><tr><th scope=col>name</th><th scope=col>n</th><th scope=col>mean</th><th scope=col>sd</th><th scope=col>FBias</th><th scope=col>MAPE</th><th scope=col>RMSE</th><th scope=col>MAD</th><th scope=col>WMAPE</th></tr></thead>\n",
       "<tbody>\n",
       "\t<tr><td>Blog Data Set for Lasso Function with 10th lambda and mse objective</td><td>1977                                                               </td><td>7.152757                                                           </td><td>16.66787                                                           </td><td>-0.2276585                                                         </td><td>Inf                                                                </td><td>0.33034                                                            </td><td>8.790585                                                           </td><td>1.228979                                                           </td></tr>\n",
       "</tbody>\n",
       "</table>\n"
      ],
      "text/latex": [
       "\\begin{tabular}{r|lllllllll}\n",
       " name & n & mean & sd & FBias & MAPE & RMSE & MAD & WMAPE\\\\\n",
       "\\hline\n",
       "\t Blog Data Set for Lasso Function with 10th lambda and mse objective & 1977                                                                & 7.152757                                                            & 16.66787                                                            & -0.2276585                                                          & Inf                                                                 & 0.33034                                                             & 8.790585                                                            & 1.228979                                                           \\\\\n",
       "\\end{tabular}\n"
      ],
      "text/markdown": [
       "\n",
       "| name | n | mean | sd | FBias | MAPE | RMSE | MAD | WMAPE |\n",
       "|---|---|---|---|---|---|---|---|---|\n",
       "| Blog Data Set for Lasso Function with 10th lambda and mse objective | 1977                                                                | 7.152757                                                            | 16.66787                                                            | -0.2276585                                                          | Inf                                                                 | 0.33034                                                             | 8.790585                                                            | 1.228979                                                            |\n",
       "\n"
      ],
      "text/plain": [
       "  name                                                                n   \n",
       "1 Blog Data Set for Lasso Function with 10th lambda and mse objective 1977\n",
       "  mean     sd       FBias      MAPE RMSE    MAD      WMAPE   \n",
       "1 7.152757 16.66787 -0.2276585 Inf  0.33034 8.790585 1.228979"
      ]
     },
     "metadata": {},
     "output_type": "display_data"
    },
    {
     "data": {
      "text/html": [
       "<table>\n",
       "<thead><tr><th scope=col>name</th><th scope=col>n</th><th scope=col>mean</th><th scope=col>sd</th><th scope=col>FBias</th><th scope=col>MAPE</th><th scope=col>RMSE</th><th scope=col>MAD</th><th scope=col>WMAPE</th></tr></thead>\n",
       "<tbody>\n",
       "\t<tr><td>Blog Data Set for Lasso Function with min lambda and mae objective</td><td>1977                                                              </td><td>7.152757                                                          </td><td>16.66787                                                          </td><td>-0.2257989                                                        </td><td>Inf                                                               </td><td>0.3308737                                                         </td><td>8.852091                                                          </td><td>1.237578                                                          </td></tr>\n",
       "</tbody>\n",
       "</table>\n"
      ],
      "text/latex": [
       "\\begin{tabular}{r|lllllllll}\n",
       " name & n & mean & sd & FBias & MAPE & RMSE & MAD & WMAPE\\\\\n",
       "\\hline\n",
       "\t Blog Data Set for Lasso Function with min lambda and mae objective & 1977                                                               & 7.152757                                                           & 16.66787                                                           & -0.2257989                                                         & Inf                                                                & 0.3308737                                                          & 8.852091                                                           & 1.237578                                                          \\\\\n",
       "\\end{tabular}\n"
      ],
      "text/markdown": [
       "\n",
       "| name | n | mean | sd | FBias | MAPE | RMSE | MAD | WMAPE |\n",
       "|---|---|---|---|---|---|---|---|---|\n",
       "| Blog Data Set for Lasso Function with min lambda and mae objective | 1977                                                               | 7.152757                                                           | 16.66787                                                           | -0.2257989                                                         | Inf                                                                | 0.3308737                                                          | 8.852091                                                           | 1.237578                                                           |\n",
       "\n"
      ],
      "text/plain": [
       "  name                                                               n   \n",
       "1 Blog Data Set for Lasso Function with min lambda and mae objective 1977\n",
       "  mean     sd       FBias      MAPE RMSE      MAD      WMAPE   \n",
       "1 7.152757 16.66787 -0.2257989 Inf  0.3308737 8.852091 1.237578"
      ]
     },
     "metadata": {},
     "output_type": "display_data"
    },
    {
     "data": {
      "text/html": [
       "<table>\n",
       "<thead><tr><th scope=col>name</th><th scope=col>n</th><th scope=col>mean</th><th scope=col>sd</th><th scope=col>FBias</th><th scope=col>MAPE</th><th scope=col>RMSE</th><th scope=col>MAD</th><th scope=col>WMAPE</th></tr></thead>\n",
       "<tbody>\n",
       "\t<tr><td>Blog Data Set for Lasso Function with 1se lambda and mae objective</td><td>1977                                                              </td><td>7.152757                                                          </td><td>16.66787                                                          </td><td>-0.2264184                                                        </td><td>Inf                                                               </td><td>0.3306597                                                         </td><td>8.827931                                                          </td><td>1.2342                                                            </td></tr>\n",
       "</tbody>\n",
       "</table>\n"
      ],
      "text/latex": [
       "\\begin{tabular}{r|lllllllll}\n",
       " name & n & mean & sd & FBias & MAPE & RMSE & MAD & WMAPE\\\\\n",
       "\\hline\n",
       "\t Blog Data Set for Lasso Function with 1se lambda and mae objective & 1977                                                               & 7.152757                                                           & 16.66787                                                           & -0.2264184                                                         & Inf                                                                & 0.3306597                                                          & 8.827931                                                           & 1.2342                                                            \\\\\n",
       "\\end{tabular}\n"
      ],
      "text/markdown": [
       "\n",
       "| name | n | mean | sd | FBias | MAPE | RMSE | MAD | WMAPE |\n",
       "|---|---|---|---|---|---|---|---|---|\n",
       "| Blog Data Set for Lasso Function with 1se lambda and mae objective | 1977                                                               | 7.152757                                                           | 16.66787                                                           | -0.2264184                                                         | Inf                                                                | 0.3306597                                                          | 8.827931                                                           | 1.2342                                                             |\n",
       "\n"
      ],
      "text/plain": [
       "  name                                                               n   \n",
       "1 Blog Data Set for Lasso Function with 1se lambda and mae objective 1977\n",
       "  mean     sd       FBias      MAPE RMSE      MAD      WMAPE \n",
       "1 7.152757 16.66787 -0.2264184 Inf  0.3306597 8.827931 1.2342"
      ]
     },
     "metadata": {},
     "output_type": "display_data"
    },
    {
     "data": {
      "text/html": [
       "<table>\n",
       "<thead><tr><th scope=col>name</th><th scope=col>n</th><th scope=col>mean</th><th scope=col>sd</th><th scope=col>FBias</th><th scope=col>MAPE</th><th scope=col>RMSE</th><th scope=col>MAD</th><th scope=col>WMAPE</th></tr></thead>\n",
       "<tbody>\n",
       "\t<tr><td>Blog Data Set for Lasso Function with 10th lambda and mae objective</td><td>1977                                                               </td><td>7.152757                                                           </td><td>16.66787                                                           </td><td>-0.2276585                                                         </td><td>Inf                                                                </td><td>0.33034                                                            </td><td>8.790585                                                           </td><td>1.228979                                                           </td></tr>\n",
       "</tbody>\n",
       "</table>\n"
      ],
      "text/latex": [
       "\\begin{tabular}{r|lllllllll}\n",
       " name & n & mean & sd & FBias & MAPE & RMSE & MAD & WMAPE\\\\\n",
       "\\hline\n",
       "\t Blog Data Set for Lasso Function with 10th lambda and mae objective & 1977                                                                & 7.152757                                                            & 16.66787                                                            & -0.2276585                                                          & Inf                                                                 & 0.33034                                                             & 8.790585                                                            & 1.228979                                                           \\\\\n",
       "\\end{tabular}\n"
      ],
      "text/markdown": [
       "\n",
       "| name | n | mean | sd | FBias | MAPE | RMSE | MAD | WMAPE |\n",
       "|---|---|---|---|---|---|---|---|---|\n",
       "| Blog Data Set for Lasso Function with 10th lambda and mae objective | 1977                                                                | 7.152757                                                            | 16.66787                                                            | -0.2276585                                                          | Inf                                                                 | 0.33034                                                             | 8.790585                                                            | 1.228979                                                            |\n",
       "\n"
      ],
      "text/plain": [
       "  name                                                                n   \n",
       "1 Blog Data Set for Lasso Function with 10th lambda and mae objective 1977\n",
       "  mean     sd       FBias      MAPE RMSE    MAD      WMAPE   \n",
       "1 7.152757 16.66787 -0.2276585 Inf  0.33034 8.790585 1.228979"
      ]
     },
     "metadata": {},
     "output_type": "display_data"
    }
   ],
   "source": [
    "perf_dt(\"Blog Data Set for Lasso Function with min lambda and mse objective\", as.numeric(blog_test$target), prediction_pra_mse_blog_min)\n",
    "perf_dt(\"Blog Data Set for Lasso Function with 1se lambda and mse objective\", as.numeric(blog_test$target), prediction_pra_mse_blog_1se)\n",
    "perf_dt(\"Blog Data Set for Lasso Function with 10th lambda and mse objective\", as.numeric(blog_test$target), prediction_pra_mse_blog_10th)\n",
    "\n",
    "perf_dt(\"Blog Data Set for Lasso Function with min lambda and mae objective\", as.numeric(blog_test$target), prediction_pra_mae_blog_min)\n",
    "perf_dt(\"Blog Data Set for Lasso Function with 1se lambda and mae objective\", as.numeric(blog_test$target), prediction_pra_mae_blog_1se)\n",
    "perf_dt(\"Blog Data Set for Lasso Function with 10th lambda and mae objective\", as.numeric(blog_test$target), prediction_pra_mae_blog_10th)"
   ]
  },
  {
   "cell_type": "markdown",
   "metadata": {},
   "source": [
    "## Decision Tree(DT)"
   ]
  },
  {
   "cell_type": "code",
   "execution_count": 20,
   "metadata": {},
   "outputs": [],
   "source": [
    "set.seed(35)"
   ]
  },
  {
   "cell_type": "code",
   "execution_count": 21,
   "metadata": {
    "scrolled": false
   },
   "outputs": [
    {
     "name": "stdout",
     "output_type": "stream",
     "text": [
      "CART \n",
      "\n",
      "8023 samples\n",
      " 280 predictor\n",
      "\n",
      "No pre-processing\n",
      "Resampling: Cross-Validated (10 fold) \n",
      "Summary of sample sizes: 7222, 7220, 7221, 7220, 7220, 7221, ... \n",
      "Resampling results across tuning parameters:\n",
      "\n",
      "  cp    RMSE      Rsquared   MAE      \n",
      "  0.00  22.19199  0.3853273   7.603728\n",
      "  0.01  23.39357  0.2852710   8.856399\n",
      "  0.02  23.45041  0.2620904   9.370173\n",
      "  0.03  23.47057  0.2560673   9.483803\n",
      "  0.04  24.00953  0.2217356   9.657709\n",
      "  0.05  24.46023  0.1884401   9.994240\n",
      "  0.06  24.72126  0.1710733  10.129938\n",
      "  0.07  25.31053  0.1284348  10.426885\n",
      "  0.08  25.29362  0.1299611  10.451589\n",
      "  0.09  25.29362  0.1299611  10.451589\n",
      "  0.10  25.29362  0.1299611  10.451589\n",
      "\n",
      "RMSE was used to select the optimal model using the smallest value.\n",
      "The final value used for the model was cp = 0.\n",
      "CART \n",
      "\n",
      "8023 samples\n",
      " 280 predictor\n",
      "\n",
      "No pre-processing\n",
      "Resampling: Cross-Validated (10 fold) \n",
      "Summary of sample sizes: 7222, 7220, 7220, 7221, 7221, 7221, ... \n",
      "Resampling results across tuning parameters:\n",
      "\n",
      "  cp    RMSE      Rsquared   MAE      \n",
      "  0.00  22.11942  0.3767113   7.753684\n",
      "  0.01  23.11049  0.2882539   8.865858\n",
      "  0.02  23.29740  0.2702750   9.287989\n",
      "  0.03  23.63279  0.2461694   9.460335\n",
      "  0.04  24.01674  0.2152860   9.615323\n",
      "  0.05  24.60202  0.1785025   9.990932\n",
      "  0.06  24.77930  0.1660326  10.153959\n",
      "  0.07  25.22729  0.1323202  10.359830\n",
      "  0.08  25.29586  0.1285914  10.409245\n",
      "  0.09  25.29586  0.1285914  10.409245\n",
      "  0.10  25.29586  0.1285914  10.409245\n",
      "\n",
      "RMSE was used to select the optimal model using the smallest value.\n",
      "The final value used for the model was cp = 0.\n"
     ]
    },
    {
     "data": {
      "image/png": "[encoded data removed]",
      "text/plain": [
       "plot without title"
      ]
     },
     "metadata": {},
     "output_type": "display_data"
    },
    {
     "name": "stdout",
     "output_type": "stream",
     "text": [
      "CART \n",
      "\n",
      "8023 samples\n",
      " 280 predictor\n",
      "\n",
      "No pre-processing\n",
      "Resampling: Cross-Validated (10 fold) \n",
      "Summary of sample sizes: 7220, 7220, 7220, 7221, 7221, 7221, ... \n",
      "Resampling results across tuning parameters:\n",
      "\n",
      "  cp    RMSE      Rsquared   MAE      \n",
      "  0.00  22.41309  0.3566943   7.826263\n",
      "  0.01  23.17618  0.2900864   8.809889\n",
      "  0.02  23.37807  0.2760738   9.219326\n",
      "  0.03  23.58675  0.2577259   9.431677\n",
      "  0.04  23.95065  0.2335036   9.506912\n",
      "  0.05  24.37008  0.2006009   9.834922\n",
      "  0.06  25.19986  0.1465266  10.291834\n",
      "  0.07  25.46280  0.1255471  10.445302\n",
      "  0.08  25.46280  0.1255471  10.445302\n",
      "  0.09  25.46280  0.1255471  10.445302\n",
      "  0.10  25.46280  0.1255471  10.445302\n",
      "\n",
      "RMSE was used to select the optimal model using the smallest value.\n",
      "The final value used for the model was cp = 0.\n"
     ]
    },
    {
     "data": {
      "image/png": "[encoded data removed]",
      "text/plain": [
       "plot without title"
      ]
     },
     "metadata": {},
     "output_type": "display_data"
    },
    {
     "name": "stdout",
     "output_type": "stream",
     "text": [
      "CART \n",
      "\n",
      "8023 samples\n",
      " 280 predictor\n",
      "\n",
      "No pre-processing\n",
      "Resampling: Cross-Validated (10 fold) \n",
      "Summary of sample sizes: 7221, 7221, 7221, 7221, 7220, 7220, ... \n",
      "Resampling results across tuning parameters:\n",
      "\n",
      "  cp    RMSE      Rsquared   MAE      \n",
      "  0.00  22.34826  0.3582948   7.950214\n",
      "  0.01  23.22672  0.2871459   8.802480\n",
      "  0.02  23.37998  0.2721888   9.315961\n",
      "  0.03  23.33501  0.2758044   9.383709\n",
      "  0.04  24.23808  0.2120166   9.702696\n",
      "  0.05  24.32628  0.2002152   9.935582\n",
      "  0.06  24.65797  0.1802512  10.049736\n",
      "  0.07  25.31352  0.1309855  10.337748\n",
      "  0.08  25.29457  0.1316937  10.404182\n",
      "  0.09  25.29457  0.1316937  10.404182\n",
      "  0.10  25.29457  0.1316937  10.404182\n",
      "\n",
      "RMSE was used to select the optimal model using the smallest value.\n",
      "The final value used for the model was cp = 0.\n"
     ]
    },
    {
     "data": {
      "image/png": "[encoded data removed]",
      "text/plain": [
       "plot without title"
      ]
     },
     "metadata": {},
     "output_type": "display_data"
    },
    {
     "name": "stdout",
     "output_type": "stream",
     "text": [
      "CART \n",
      "\n",
      "8023 samples\n",
      " 280 predictor\n",
      "\n",
      "No pre-processing\n",
      "Resampling: Cross-Validated (10 fold) \n",
      "Summary of sample sizes: 7221, 7221, 7221, 7222, 7221, 7220, ... \n",
      "Resampling results across tuning parameters:\n",
      "\n",
      "  cp    RMSE      Rsquared   MAE      \n",
      "  0.00  22.05051  0.3740397   7.943829\n",
      "  0.01  23.35699  0.2840902   8.843194\n",
      "  0.02  23.65451  0.2583118   9.267911\n",
      "  0.03  23.61097  0.2554079   9.405995\n",
      "  0.04  24.23950  0.2144014   9.628656\n",
      "  0.05  24.68917  0.1821829   9.980277\n",
      "  0.06  25.08616  0.1558009  10.162702\n",
      "  0.07  25.49545  0.1259631  10.325817\n",
      "  0.08  25.53129  0.1246686  10.415070\n",
      "  0.09  25.53129  0.1246686  10.415070\n",
      "  0.10  25.53129  0.1246686  10.415070\n",
      "\n",
      "RMSE was used to select the optimal model using the smallest value.\n",
      "The final value used for the model was cp = 0.\n"
     ]
    },
    {
     "data": {
      "image/png": "[encoded data removed]",
      "text/plain": [
       "plot without title"
      ]
     },
     "metadata": {},
     "output_type": "display_data"
    },
    {
     "data": {
      "image/png": "[encoded data removed]",
      "text/plain": [
       "plot without title"
      ]
     },
     "metadata": {},
     "output_type": "display_data"
    },
    {
     "name": "stdout",
     "output_type": "stream",
     "text": [
      "CART \n",
      "\n",
      "8023 samples\n",
      " 280 predictor\n",
      "\n",
      "No pre-processing\n",
      "Resampling: Cross-Validated (10 fold) \n",
      "Summary of sample sizes: 7220, 7221, 7221, 7221, 7221, 7220, ... \n",
      "Resampling results across tuning parameters:\n",
      "\n",
      "  cp    RMSE      Rsquared   MAE      \n",
      "  0.00  22.40235  0.3457160   7.854748\n",
      "  0.01  23.44146  0.2726905   8.791024\n",
      "  0.02  23.52858  0.2594959   9.278822\n",
      "  0.03  23.59981  0.2496713   9.394675\n",
      "  0.04  24.12738  0.2171165   9.574562\n",
      "  0.05  24.41028  0.1974758   9.940318\n",
      "  0.06  24.85231  0.1673103  10.049114\n",
      "  0.07  25.28040  0.1341191  10.321568\n",
      "  0.08  25.38610  0.1280509  10.411522\n",
      "  0.09  25.38610  0.1280509  10.411522\n",
      "  0.10  25.38610  0.1280509  10.411522\n",
      "\n",
      "RMSE was used to select the optimal model using the smallest value.\n",
      "The final value used for the model was cp = 0.\n"
     ]
    },
    {
     "data": {
      "image/png": "[encoded data removed]",
      "text/plain": [
       "plot without title"
      ]
     },
     "metadata": {},
     "output_type": "display_data"
    }
   ],
   "source": [
    "numFolds=trainControl(method=\"cv\",number = 10)\n",
    "cpGrid=expand.grid(.cp=(0:10)*0.01)\n",
    "#minbucket_grid=expand.grid(.cp=(5:10))\n",
    "for(i in 5:10){\n",
    "    tr=train(target~.,\n",
    "          data=blog_train, \n",
    "          method=\"rpart\",\n",
    "          trControl=numFolds,\n",
    "          tuneGrid= cpGrid,\n",
    "            # minbucket=minbucket_grid\n",
    "           control= rpart.control(minbucket = i)\n",
    "            )\n",
    "    trellis.par.set(caretTheme())\n",
    "    print(plot(tr))    \n",
    "    print(tr)\n",
    "}"
   ]
  },
  {
   "cell_type": "code",
   "execution_count": 22,
   "metadata": {},
   "outputs": [
    {
     "name": "stdout",
     "output_type": "stream",
     "text": [
      "CART \n",
      "\n",
      "8023 samples\n",
      " 280 predictor\n",
      "\n",
      "No pre-processing\n",
      "Resampling: Cross-Validated (10 fold) \n",
      "Summary of sample sizes: 7220, 7220, 7221, 7222, 7221, 7220, ... \n",
      "Resampling results across tuning parameters:\n",
      "\n",
      "  cp    RMSE      Rsquared   MAE      \n",
      "  0.00  22.57559  0.3897072   7.384471\n",
      "  0.01  23.31100  0.2881720   8.693458\n",
      "  0.02  23.59941  0.2619470   9.289978\n",
      "  0.03  23.57051  0.2572654   9.434858\n",
      "  0.04  24.22841  0.2119279   9.718694\n",
      "  0.05  24.51101  0.1872444   9.984797\n",
      "  0.06  24.51033  0.1872444   9.990837\n",
      "  0.07  25.27038  0.1352021  10.349000\n",
      "  0.08  25.27885  0.1329492  10.415419\n",
      "  0.09  25.27885  0.1329492  10.415419\n",
      "  0.10  25.27885  0.1329492  10.415419\n",
      "\n",
      "RMSE was used to select the optimal model using the smallest value.\n",
      "The final value used for the model was cp = 0.\n"
     ]
    },
    {
     "data": {
      "image/png": "[encoded data removed]",
      "text/plain": [
       "plot without title"
      ]
     },
     "metadata": {},
     "output_type": "display_data"
    }
   ],
   "source": [
    "numFolds=trainControl(method=\"cv\",number = 10)\n",
    "cpGrid=expand.grid(.cp=(0:10)*0.01)\n",
    "tr=train(target~.,\n",
    "      data=blog_train, \n",
    "      method=\"rpart\",\n",
    "      trControl=numFolds,\n",
    "      tuneGrid= cpGrid,\n",
    "        # minbucket=minbucket_grid\n",
    "       control= rpart.control(minsplit = 8)\n",
    "        )\n",
    "trellis.par.set(caretTheme())\n",
    "print(plot(tr))    \n",
    "print(tr)"
   ]
  },
  {
   "cell_type": "code",
   "execution_count": 23,
   "metadata": {
    "scrolled": false
   },
   "outputs": [
    {
     "name": "stderr",
     "output_type": "stream",
     "text": [
      "Warning message:\n",
      "\"labs do not fit even at cex 0.15, there may be some overplotting\""
     ]
    },
    {
     "data": {
      "text/html": [
       "<dl class=dl-horizontal>\n",
       "\t<dt>X2.0.4</dt>\n",
       "\t\t<dd>1550799.0666189</dd>\n",
       "\t<dt>X2.0.2</dt>\n",
       "\t\t<dd>1403887.12460683</dd>\n",
       "\t<dt>X10.0.1</dt>\n",
       "\t\t<dd>1127240.16411385</dd>\n",
       "\t<dt>X2.0.3</dt>\n",
       "\t\t<dd>880771.788474947</dd>\n",
       "\t<dt>X2.0.1</dt>\n",
       "\t\t<dd>876731.467600778</dd>\n",
       "\t<dt>X401.0</dt>\n",
       "\t\t<dd>440618.41686825</dd>\n",
       "\t<dt>X0.0.20</dt>\n",
       "\t\t<dd>436372.558790126</dd>\n",
       "\t<dt>X15.52416</dt>\n",
       "\t\t<dd>425300.120859836</dd>\n",
       "\t<dt>X32.44188</dt>\n",
       "\t\t<dd>408365.438295677</dd>\n",
       "\t<dt>X15.0</dt>\n",
       "\t\t<dd>390821.826720942</dd>\n",
       "\t<dt>X377.0</dt>\n",
       "\t\t<dd>366181.799733973</dd>\n",
       "\t<dt>X14.044226</dt>\n",
       "\t\t<dd>239648.670705663</dd>\n",
       "\t<dt>X53.845657</dt>\n",
       "\t\t<dd>213377.855323924</dd>\n",
       "\t<dt>X40.30467</dt>\n",
       "\t\t<dd>148981.427286889</dd>\n",
       "\t<dt>X0.0.14</dt>\n",
       "\t\t<dd>147648.00989148</dd>\n",
       "\t<dt>X3.0</dt>\n",
       "\t\t<dd>118731.482443682</dd>\n",
       "\t<dt>X0.0.152</dt>\n",
       "\t\t<dd>106276.114202429</dd>\n",
       "\t<dt>X.356.0</dt>\n",
       "\t\t<dd>97728.7770190944</dd>\n",
       "\t<dt>X0.0.129</dt>\n",
       "\t\t<dd>91922.7155359656</dd>\n",
       "\t<dt>X0.0.27</dt>\n",
       "\t\t<dd>90876.3522179959</dd>\n",
       "\t<dt>X0.0.25</dt>\n",
       "\t\t<dd>90331.219717784</dd>\n",
       "\t<dt>X0.0.165</dt>\n",
       "\t\t<dd>85855.0490449291</dd>\n",
       "\t<dt>X2.0</dt>\n",
       "\t\t<dd>79046.8366475724</dd>\n",
       "\t<dt>X0.0.80</dt>\n",
       "\t\t<dd>70019.7810859589</dd>\n",
       "\t<dt>X0.0.37</dt>\n",
       "\t\t<dd>68449.4428161693</dd>\n",
       "\t<dt>X0.0.101</dt>\n",
       "\t\t<dd>67964.3193290515</dd>\n",
       "\t<dt>X0.0.204</dt>\n",
       "\t\t<dd>62257.3792021872</dd>\n",
       "\t<dt>X1.0.1</dt>\n",
       "\t\t<dd>61718.6103827174</dd>\n",
       "\t<dt>X48.475178</dt>\n",
       "\t\t<dd>58040.7839995776</dd>\n",
       "\t<dt>X0.0.224</dt>\n",
       "\t\t<dd>58033.8733586402</dd>\n",
       "\t<dt>X0.0.86</dt>\n",
       "\t\t<dd>57728.2553326026</dd>\n",
       "\t<dt>X0.0.206</dt>\n",
       "\t\t<dd>54360.6714972462</dd>\n",
       "\t<dt>X0.0.142</dt>\n",
       "\t\t<dd>53276.0074911939</dd>\n",
       "\t<dt>X1.4799345</dt>\n",
       "\t\t<dd>52289.3075518091</dd>\n",
       "\t<dt>X0.0.30</dt>\n",
       "\t\t<dd>51299.5738374768</dd>\n",
       "\t<dt>X12.0</dt>\n",
       "\t\t<dd>50606.1787154529</dd>\n",
       "\t<dt>X11.0</dt>\n",
       "\t\t<dd>50605.8768835918</dd>\n",
       "\t<dt>X0.0.184</dt>\n",
       "\t\t<dd>49284.9282485391</dd>\n",
       "\t<dt>X0.0.59</dt>\n",
       "\t\t<dd>46563.9746823896</dd>\n",
       "\t<dt>X1.795416</dt>\n",
       "\t\t<dd>45664.9476638345</dd>\n",
       "\t<dt>X1.0761671</dt>\n",
       "\t\t<dd>45579.9039496775</dd>\n",
       "\t<dt>X0.0.227</dt>\n",
       "\t\t<dd>44111.6297508718</dd>\n",
       "\t<dt>X0.0.97</dt>\n",
       "\t\t<dd>42830.1638358179</dd>\n",
       "\t<dt>X0.0.191</dt>\n",
       "\t\t<dd>42425.0665624955</dd>\n",
       "\t<dt>X0.0.221</dt>\n",
       "\t\t<dd>41170.3753300316</dd>\n",
       "\t<dt>X0.0.232</dt>\n",
       "\t\t<dd>41131.0379495019</dd>\n",
       "\t<dt>X0.0.223</dt>\n",
       "\t\t<dd>40849.2488425584</dd>\n",
       "\t<dt>X0.0.109</dt>\n",
       "\t\t<dd>40604.6090284088</dd>\n",
       "\t<dt>X0.0.190</dt>\n",
       "\t\t<dd>35836.8174539349</dd>\n",
       "\t<dt>X0.0.230</dt>\n",
       "\t\t<dd>35731.3219670888</dd>\n",
       "\t<dt>X0.0.225</dt>\n",
       "\t\t<dd>35204.1698120411</dd>\n",
       "\t<dt>X0.0.226</dt>\n",
       "\t\t<dd>32954.0373584804</dd>\n",
       "\t<dt>X0.0.111</dt>\n",
       "\t\t<dd>32923.9358879276</dd>\n",
       "\t<dt>X0.0.60</dt>\n",
       "\t\t<dd>32710.877100889</dd>\n",
       "\t<dt>X0.0.19</dt>\n",
       "\t\t<dd>31334.5010604255</dd>\n",
       "\t<dt>X0.0.228</dt>\n",
       "\t\t<dd>29269.3884449824</dd>\n",
       "\t<dt>X0.0.93</dt>\n",
       "\t\t<dd>27752.6692045797</dd>\n",
       "\t<dt>X0.0.139</dt>\n",
       "\t\t<dd>27686.6790463771</dd>\n",
       "\t<dt>X0.0.62</dt>\n",
       "\t\t<dd>26119.3419782839</dd>\n",
       "\t<dt>X0.0.222</dt>\n",
       "\t\t<dd>25766.1697257449</dd>\n",
       "\t<dt>X0.0.215</dt>\n",
       "\t\t<dd>25191.2481185726</dd>\n",
       "\t<dt>X0.0.16</dt>\n",
       "\t\t<dd>24407.7427889585</dd>\n",
       "\t<dt>X0.0.231</dt>\n",
       "\t\t<dd>24301.1084267886</dd>\n",
       "\t<dt>X0.0.171</dt>\n",
       "\t\t<dd>24264.4063000058</dd>\n",
       "\t<dt>X0.0.117</dt>\n",
       "\t\t<dd>22400.0921743446</dd>\n",
       "\t<dt>X0.0.72</dt>\n",
       "\t\t<dd>21874.380021863</dd>\n",
       "\t<dt>X0.0.229</dt>\n",
       "\t\t<dd>21867.6633402137</dd>\n",
       "\t<dt>X0.0.98</dt>\n",
       "\t\t<dd>21819.5503648526</dd>\n",
       "\t<dt>X0.0.54</dt>\n",
       "\t\t<dd>21527.0699580708</dd>\n",
       "\t<dt>X0.0.78</dt>\n",
       "\t\t<dd>18685.7603716802</dd>\n",
       "\t<dt>X0.0.160</dt>\n",
       "\t\t<dd>18284.8098545673</dd>\n",
       "\t<dt>X0.0.77</dt>\n",
       "\t\t<dd>18166.0351301143</dd>\n",
       "\t<dt>X0.0.35</dt>\n",
       "\t\t<dd>18048.2041176031</dd>\n",
       "\t<dt>X0.0.128</dt>\n",
       "\t\t<dd>17731.8805620435</dd>\n",
       "\t<dt>X0.0.94</dt>\n",
       "\t\t<dd>17678.9461308468</dd>\n",
       "\t<dt>X0.0.40</dt>\n",
       "\t\t<dd>17292.4329420144</dd>\n",
       "\t<dt>X0.0.186</dt>\n",
       "\t\t<dd>17112.9073596909</dd>\n",
       "\t<dt>X0.0.112</dt>\n",
       "\t\t<dd>15910.9846108527</dd>\n",
       "\t<dt>X0.0.61</dt>\n",
       "\t\t<dd>15845.3510386777</dd>\n",
       "\t<dt>X0.0.138</dt>\n",
       "\t\t<dd>14577.8773513397</dd>\n",
       "\t<dt>X0.0.26</dt>\n",
       "\t\t<dd>14054.5966053094</dd>\n",
       "\t<dt>X0.0.99</dt>\n",
       "\t\t<dd>13986.488830587</dd>\n",
       "\t<dt>X0.0.44</dt>\n",
       "\t\t<dd>13697.8521830575</dd>\n",
       "\t<dt>X0.0.210</dt>\n",
       "\t\t<dd>13487.4038871755</dd>\n",
       "\t<dt>X0.0.79</dt>\n",
       "\t\t<dd>13069.5059005671</dd>\n",
       "\t<dt>X0.0.22</dt>\n",
       "\t\t<dd>12590.3283232375</dd>\n",
       "\t<dt>X0.0.151</dt>\n",
       "\t\t<dd>12349.8172993564</dd>\n",
       "\t<dt>X34.567566</dt>\n",
       "\t\t<dd>12245.1238245234</dd>\n",
       "\t<dt>X0.0.168</dt>\n",
       "\t\t<dd>12178.9451820688</dd>\n",
       "\t<dt>X0.0.63</dt>\n",
       "\t\t<dd>11549.6132081696</dd>\n",
       "\t<dt>X0.0.33</dt>\n",
       "\t\t<dd>11353.1900736397</dd>\n",
       "\t<dt>X0.0.153</dt>\n",
       "\t\t<dd>10706.6910246547</dd>\n",
       "\t<dt>X0.0.116</dt>\n",
       "\t\t<dd>10076.1027074348</dd>\n",
       "\t<dt>X0.0.203</dt>\n",
       "\t\t<dd>9697.75179984727</dd>\n",
       "\t<dt>X0.972973</dt>\n",
       "\t\t<dd>9616.37363286485</dd>\n",
       "\t<dt>X0.0.213</dt>\n",
       "\t\t<dd>9289.33254842854</dd>\n",
       "\t<dt>X0.0.199</dt>\n",
       "\t\t<dd>9181.30773805277</dd>\n",
       "\t<dt>X0.0.141</dt>\n",
       "\t\t<dd>9055.68970327044</dd>\n",
       "\t<dt>X0.0.74</dt>\n",
       "\t\t<dd>9030.33093140889</dd>\n",
       "\t<dt>X0.0.92</dt>\n",
       "\t\t<dd>8870.68711839842</dd>\n",
       "\t<dt>X0.0.133</dt>\n",
       "\t\t<dd>8847.92477769235</dd>\n",
       "\t<dt>X0.0.132</dt>\n",
       "\t\t<dd>8572.78891679579</dd>\n",
       "\t<dt>X0.0.145</dt>\n",
       "\t\t<dd>7534.48750378331</dd>\n",
       "\t<dt>X0.0.15</dt>\n",
       "\t\t<dd>7459.15532938928</dd>\n",
       "\t<dt>X0.0.192</dt>\n",
       "\t\t<dd>6955.03529989613</dd>\n",
       "\t<dt>X0.0.4</dt>\n",
       "\t\t<dd>6814.3200788503</dd>\n",
       "\t<dt>X10.0</dt>\n",
       "\t\t<dd>6647.35089977182</dd>\n",
       "\t<dt>X0.0.174</dt>\n",
       "\t\t<dd>6632.45144385036</dd>\n",
       "\t<dt>X9.0</dt>\n",
       "\t\t<dd>6467.41261412556</dd>\n",
       "\t<dt>X0.0.188</dt>\n",
       "\t\t<dd>6248.31256377371</dd>\n",
       "\t<dt>X0.0.68</dt>\n",
       "\t\t<dd>6022.75907416396</dd>\n",
       "\t<dt>X1.0</dt>\n",
       "\t\t<dd>5928.96486678299</dd>\n",
       "\t<dt>X0.0.73</dt>\n",
       "\t\t<dd>5877.87483260942</dd>\n",
       "\t<dt>X0.0.95</dt>\n",
       "\t\t<dd>5669.60270979826</dd>\n",
       "\t<dt>X0.0.179</dt>\n",
       "\t\t<dd>5668.78956415783</dd>\n",
       "\t<dt>X0.0.46</dt>\n",
       "\t\t<dd>5580.11532846664</dd>\n",
       "\t<dt>X0.0.118</dt>\n",
       "\t\t<dd>5154.79787361404</dd>\n",
       "\t<dt>X0.0.18</dt>\n",
       "\t\t<dd>5100.93212732662</dd>\n",
       "\t<dt>X0.0.150</dt>\n",
       "\t\t<dd>5090.0425653575</dd>\n",
       "\t<dt>X0.0.28</dt>\n",
       "\t\t<dd>5087.32654438295</dd>\n",
       "\t<dt>X0.0.205</dt>\n",
       "\t\t<dd>4974.98973620073</dd>\n",
       "\t<dt>X9.0.1</dt>\n",
       "\t\t<dd>4681.73373646587</dd>\n",
       "\t<dt>X9.0.2</dt>\n",
       "\t\t<dd>4678.86715952017</dd>\n",
       "\t<dt>X0.0.83</dt>\n",
       "\t\t<dd>4602.95240911184</dd>\n",
       "\t<dt>X0.0.85</dt>\n",
       "\t\t<dd>4466.38137491122</dd>\n",
       "\t<dt>X0.0.105</dt>\n",
       "\t\t<dd>4190.25999951042</dd>\n",
       "\t<dt>X0.0.155</dt>\n",
       "\t\t<dd>4113.77671728251</dd>\n",
       "\t<dt>X0.0.115</dt>\n",
       "\t\t<dd>3990.59826999363</dd>\n",
       "\t<dt>X0.0.121</dt>\n",
       "\t\t<dd>3961.89259905475</dd>\n",
       "\t<dt>X0.0.180</dt>\n",
       "\t\t<dd>3860.92273616346</dd>\n",
       "\t<dt>X0.0.233</dt>\n",
       "\t\t<dd>3635.30695862142</dd>\n",
       "\t<dt>X0.0.108</dt>\n",
       "\t\t<dd>2948.20947094655</dd>\n",
       "\t<dt>X0.0.144</dt>\n",
       "\t\t<dd>2942.76904228381</dd>\n",
       "\t<dt>X0.0.17</dt>\n",
       "\t\t<dd>2878.13127272584</dd>\n",
       "\t<dt>X0.0.58</dt>\n",
       "\t\t<dd>2748.41172699025</dd>\n",
       "\t<dt>X0.0.96</dt>\n",
       "\t\t<dd>2722.10590372938</dd>\n",
       "\t<dt>X0.0.66</dt>\n",
       "\t\t<dd>2691.44255568894</dd>\n",
       "\t<dt>X0.0.89</dt>\n",
       "\t\t<dd>2539.26144009406</dd>\n",
       "\t<dt>X0.0.149</dt>\n",
       "\t\t<dd>2492.98812174511</dd>\n",
       "\t<dt>X0.0.159</dt>\n",
       "\t\t<dd>2473.93736078386</dd>\n",
       "\t<dt>X1.0780969</dt>\n",
       "\t\t<dd>2383.44715867138</dd>\n",
       "\t<dt>X0.0.47</dt>\n",
       "\t\t<dd>2289.49775231311</dd>\n",
       "\t<dt>X0.0.50</dt>\n",
       "\t\t<dd>2282.02008228368</dd>\n",
       "\t<dt>X0.0.134</dt>\n",
       "\t\t<dd>2030.40293261436</dd>\n",
       "\t<dt>X.8.0</dt>\n",
       "\t\t<dd>1961.30101359826</dd>\n",
       "\t<dt>X0.4004914</dt>\n",
       "\t\t<dd>1950.68552584772</dd>\n",
       "\t<dt>X0.0.209</dt>\n",
       "\t\t<dd>1927.75303607408</dd>\n",
       "\t<dt>X0.0.57</dt>\n",
       "\t\t<dd>1911.81451908739</dd>\n",
       "\t<dt>X0.0.169</dt>\n",
       "\t\t<dd>1715.78323241791</dd>\n",
       "\t<dt>X0.0.120</dt>\n",
       "\t\t<dd>1706.53109297982</dd>\n",
       "\t<dt>X0.0.198</dt>\n",
       "\t\t<dd>1698.24513953976</dd>\n",
       "\t<dt>X0.0.32</dt>\n",
       "\t\t<dd>1679.57990571486</dd>\n",
       "\t<dt>X1.704671</dt>\n",
       "\t\t<dd>1582.77624883548</dd>\n",
       "\t<dt>X0.0.146</dt>\n",
       "\t\t<dd>1402.34625027069</dd>\n",
       "\t<dt>X0.0.135</dt>\n",
       "\t\t<dd>1402.21125730994</dd>\n",
       "\t<dt>X0.0</dt>\n",
       "\t\t<dd>1247.57533107894</dd>\n",
       "\t<dt>X1.07421</dt>\n",
       "\t\t<dd>1149.27251267664</dd>\n",
       "\t<dt>X0.0.185</dt>\n",
       "\t\t<dd>1119.74725318851</dd>\n",
       "\t<dt>X0.0.3</dt>\n",
       "\t\t<dd>1024.014652105</dd>\n",
       "\t<dt>X32.615417</dt>\n",
       "\t\t<dd>992.497583607594</dd>\n",
       "\t<dt>X0.0.29</dt>\n",
       "\t\t<dd>987.747016421972</dd>\n",
       "\t<dt>X0.0.51</dt>\n",
       "\t\t<dd>984.990774628478</dd>\n",
       "\t<dt>X0.0.236</dt>\n",
       "\t\t<dd>955.039659800918</dd>\n",
       "\t<dt>X0.0.166</dt>\n",
       "\t\t<dd>951.923199642419</dd>\n",
       "\t<dt>X0.0.56</dt>\n",
       "\t\t<dd>927.570553784681</dd>\n",
       "\t<dt>X377.0.1</dt>\n",
       "\t\t<dd>878.616233260432</dd>\n",
       "\t<dt>X46.18691</dt>\n",
       "\t\t<dd>875.7953567817</dd>\n",
       "\t<dt>X378.0</dt>\n",
       "\t\t<dd>863.937289481663</dd>\n",
       "\t<dt>X0.0.200</dt>\n",
       "\t\t<dd>833.015135288457</dd>\n",
       "\t<dt>X0.0.189</dt>\n",
       "\t\t<dd>767.40325630551</dd>\n",
       "\t<dt>X0.37755936</dt>\n",
       "\t\t<dd>750.140183281844</dd>\n",
       "\t<dt>X0.0.235</dt>\n",
       "\t\t<dd>729.928364126108</dd>\n",
       "\t<dt>X0.0.75</dt>\n",
       "\t\t<dd>714.500906996252</dd>\n",
       "\t<dt>X0.0.122</dt>\n",
       "\t\t<dd>689.548432235332</dd>\n",
       "\t<dt>X0.0.176</dt>\n",
       "\t\t<dd>639.108743509585</dd>\n",
       "\t<dt>X0.0.103</dt>\n",
       "\t\t<dd>526.644124251172</dd>\n",
       "\t<dt>X0.0.154</dt>\n",
       "\t\t<dd>425.609268001655</dd>\n",
       "\t<dt>X0.0.195</dt>\n",
       "\t\t<dd>396.66787666286</dd>\n",
       "\t<dt>X0.0.65</dt>\n",
       "\t\t<dd>383.406445869073</dd>\n",
       "\t<dt>X0.0.207</dt>\n",
       "\t\t<dd>361.133576068066</dd>\n",
       "\t<dt>X0.0.177</dt>\n",
       "\t\t<dd>342.498394017047</dd>\n",
       "\t<dt>X0.0.76</dt>\n",
       "\t\t<dd>305.427499442163</dd>\n",
       "\t<dt>X0.0.147</dt>\n",
       "\t\t<dd>301.00149717767</dd>\n",
       "\t<dt>X0.0.187</dt>\n",
       "\t\t<dd>258.307956252236</dd>\n",
       "\t<dt>X0.0.167</dt>\n",
       "\t\t<dd>205.671477000896</dd>\n",
       "\t<dt>X0.0.193</dt>\n",
       "\t\t<dd>168.414325303102</dd>\n",
       "\t<dt>X0.0.196</dt>\n",
       "\t\t<dd>121.559295415452</dd>\n",
       "\t<dt>X0.0.41</dt>\n",
       "\t\t<dd>90.9061288233836</dd>\n",
       "\t<dt>X0.022932023</dt>\n",
       "\t\t<dd>82.6750566803229</dd>\n",
       "\t<dt>X0.0.21</dt>\n",
       "\t\t<dd>79.9926640505777</dd>\n",
       "\t<dt>X0.0.163</dt>\n",
       "\t\t<dd>76.6885986604813</dd>\n",
       "\t<dt>X0.0.49</dt>\n",
       "\t\t<dd>74.5888078415396</dd>\n",
       "\t<dt>X0.0.6</dt>\n",
       "\t\t<dd>71.9691808856715</dd>\n",
       "\t<dt>X0.0.126</dt>\n",
       "\t\t<dd>66.9496820448846</dd>\n",
       "\t<dt>X0.0.182</dt>\n",
       "\t\t<dd>55.0037814263842</dd>\n",
       "\t<dt>X0.0.173</dt>\n",
       "\t\t<dd>38.1113183958821</dd>\n",
       "\t<dt>X0.0.23</dt>\n",
       "\t\t<dd>37.8190202245351</dd>\n",
       "\t<dt>X0.0.24</dt>\n",
       "\t\t<dd>37.8190202245351</dd>\n",
       "\t<dt>X0.0.31</dt>\n",
       "\t\t<dd>37.8190202245351</dd>\n",
       "\t<dt>X0.0.100</dt>\n",
       "\t\t<dd>36.2535297386028</dd>\n",
       "\t<dt>X0.0.36</dt>\n",
       "\t\t<dd>34.2337459892879</dd>\n",
       "\t<dt>X0.0.34</dt>\n",
       "\t\t<dd>33.4748410224423</dd>\n",
       "\t<dt>X0.0.212</dt>\n",
       "\t\t<dd>21.5089092585624</dd>\n",
       "\t<dt>X0.0.84</dt>\n",
       "\t\t<dd>13.4541004894615</dd>\n",
       "\t<dt>X0.0.104</dt>\n",
       "\t\t<dd>9.87830687830689</dd>\n",
       "\t<dt>X0.0.216</dt>\n",
       "\t\t<dd>9.59463359463361</dd>\n",
       "\t<dt>X0.0.217</dt>\n",
       "\t\t<dd>5.16632940702708</dd>\n",
       "\t<dt>X0.0.102</dt>\n",
       "\t\t<dd>3.31515812431846</dd>\n",
       "\t<dt>X0.0.123</dt>\n",
       "\t\t<dd>3.12597574347723</dd>\n",
       "\t<dt>X0.0.45</dt>\n",
       "\t\t<dd>3.01474288577238</dd>\n",
       "\t<dt>X0.0.164</dt>\n",
       "\t\t<dd>1.67731579656181</dd>\n",
       "\t<dt>X0.0.125</dt>\n",
       "\t\t<dd>0.976362308456898</dd>\n",
       "\t<dt>X0.0.178</dt>\n",
       "\t\t<dd>0.870748299319727</dd>\n",
       "\t<dt>X0.0.183</dt>\n",
       "\t\t<dd>0.139325782409416</dd>\n",
       "</dl>\n"
      ],
      "text/latex": [
       "\\begin{description*}\n",
       "\\item[X2.0.4] 1550799.0666189\n",
       "\\item[X2.0.2] 1403887.12460683\n",
       "\\item[X10.0.1] 1127240.16411385\n",
       "\\item[X2.0.3] 880771.788474947\n",
       "\\item[X2.0.1] 876731.467600778\n",
       "\\item[X401.0] 440618.41686825\n",
       "\\item[X0.0.20] 436372.558790126\n",
       "\\item[X15.52416] 425300.120859836\n",
       "\\item[X32.44188] 408365.438295677\n",
       "\\item[X15.0] 390821.826720942\n",
       "\\item[X377.0] 366181.799733973\n",
       "\\item[X14.044226] 239648.670705663\n",
       "\\item[X53.845657] 213377.855323924\n",
       "\\item[X40.30467] 148981.427286889\n",
       "\\item[X0.0.14] 147648.00989148\n",
       "\\item[X3.0] 118731.482443682\n",
       "\\item[X0.0.152] 106276.114202429\n",
       "\\item[X.356.0] 97728.7770190944\n",
       "\\item[X0.0.129] 91922.7155359656\n",
       "\\item[X0.0.27] 90876.3522179959\n",
       "\\item[X0.0.25] 90331.219717784\n",
       "\\item[X0.0.165] 85855.0490449291\n",
       "\\item[X2.0] 79046.8366475724\n",
       "\\item[X0.0.80] 70019.7810859589\n",
       "\\item[X0.0.37] 68449.4428161693\n",
       "\\item[X0.0.101] 67964.3193290515\n",
       "\\item[X0.0.204] 62257.3792021872\n",
       "\\item[X1.0.1] 61718.6103827174\n",
       "\\item[X48.475178] 58040.7839995776\n",
       "\\item[X0.0.224] 58033.8733586402\n",
       "\\item[X0.0.86] 57728.2553326026\n",
       "\\item[X0.0.206] 54360.6714972462\n",
       "\\item[X0.0.142] 53276.0074911939\n",
       "\\item[X1.4799345] 52289.3075518091\n",
       "\\item[X0.0.30] 51299.5738374768\n",
       "\\item[X12.0] 50606.1787154529\n",
       "\\item[X11.0] 50605.8768835918\n",
       "\\item[X0.0.184] 49284.9282485391\n",
       "\\item[X0.0.59] 46563.9746823896\n",
       "\\item[X1.795416] 45664.9476638345\n",
       "\\item[X1.0761671] 45579.9039496775\n",
       "\\item[X0.0.227] 44111.6297508718\n",
       "\\item[X0.0.97] 42830.1638358179\n",
       "\\item[X0.0.191] 42425.0665624955\n",
       "\\item[X0.0.221] 41170.3753300316\n",
       "\\item[X0.0.232] 41131.0379495019\n",
       "\\item[X0.0.223] 40849.2488425584\n",
       "\\item[X0.0.109] 40604.6090284088\n",
       "\\item[X0.0.190] 35836.8174539349\n",
       "\\item[X0.0.230] 35731.3219670888\n",
       "\\item[X0.0.225] 35204.1698120411\n",
       "\\item[X0.0.226] 32954.0373584804\n",
       "\\item[X0.0.111] 32923.9358879276\n",
       "\\item[X0.0.60] 32710.877100889\n",
       "\\item[X0.0.19] 31334.5010604255\n",
       "\\item[X0.0.228] 29269.3884449824\n",
       "\\item[X0.0.93] 27752.6692045797\n",
       "\\item[X0.0.139] 27686.6790463771\n",
       "\\item[X0.0.62] 26119.3419782839\n",
       "\\item[X0.0.222] 25766.1697257449\n",
       "\\item[X0.0.215] 25191.2481185726\n",
       "\\item[X0.0.16] 24407.7427889585\n",
       "\\item[X0.0.231] 24301.1084267886\n",
       "\\item[X0.0.171] 24264.4063000058\n",
       "\\item[X0.0.117] 22400.0921743446\n",
       "\\item[X0.0.72] 21874.380021863\n",
       "\\item[X0.0.229] 21867.6633402137\n",
       "\\item[X0.0.98] 21819.5503648526\n",
       "\\item[X0.0.54] 21527.0699580708\n",
       "\\item[X0.0.78] 18685.7603716802\n",
       "\\item[X0.0.160] 18284.8098545673\n",
       "\\item[X0.0.77] 18166.0351301143\n",
       "\\item[X0.0.35] 18048.2041176031\n",
       "\\item[X0.0.128] 17731.8805620435\n",
       "\\item[X0.0.94] 17678.9461308468\n",
       "\\item[X0.0.40] 17292.4329420144\n",
       "\\item[X0.0.186] 17112.9073596909\n",
       "\\item[X0.0.112] 15910.9846108527\n",
       "\\item[X0.0.61] 15845.3510386777\n",
       "\\item[X0.0.138] 14577.8773513397\n",
       "\\item[X0.0.26] 14054.5966053094\n",
       "\\item[X0.0.99] 13986.488830587\n",
       "\\item[X0.0.44] 13697.8521830575\n",
       "\\item[X0.0.210] 13487.4038871755\n",
       "\\item[X0.0.79] 13069.5059005671\n",
       "\\item[X0.0.22] 12590.3283232375\n",
       "\\item[X0.0.151] 12349.8172993564\n",
       "\\item[X34.567566] 12245.1238245234\n",
       "\\item[X0.0.168] 12178.9451820688\n",
       "\\item[X0.0.63] 11549.6132081696\n",
       "\\item[X0.0.33] 11353.1900736397\n",
       "\\item[X0.0.153] 10706.6910246547\n",
       "\\item[X0.0.116] 10076.1027074348\n",
       "\\item[X0.0.203] 9697.75179984727\n",
       "\\item[X0.972973] 9616.37363286485\n",
       "\\item[X0.0.213] 9289.33254842854\n",
       "\\item[X0.0.199] 9181.30773805277\n",
       "\\item[X0.0.141] 9055.68970327044\n",
       "\\item[X0.0.74] 9030.33093140889\n",
       "\\item[X0.0.92] 8870.68711839842\n",
       "\\item[X0.0.133] 8847.92477769235\n",
       "\\item[X0.0.132] 8572.78891679579\n",
       "\\item[X0.0.145] 7534.48750378331\n",
       "\\item[X0.0.15] 7459.15532938928\n",
       "\\item[X0.0.192] 6955.03529989613\n",
       "\\item[X0.0.4] 6814.3200788503\n",
       "\\item[X10.0] 6647.35089977182\n",
       "\\item[X0.0.174] 6632.45144385036\n",
       "\\item[X9.0] 6467.41261412556\n",
       "\\item[X0.0.188] 6248.31256377371\n",
       "\\item[X0.0.68] 6022.75907416396\n",
       "\\item[X1.0] 5928.96486678299\n",
       "\\item[X0.0.73] 5877.87483260942\n",
       "\\item[X0.0.95] 5669.60270979826\n",
       "\\item[X0.0.179] 5668.78956415783\n",
       "\\item[X0.0.46] 5580.11532846664\n",
       "\\item[X0.0.118] 5154.79787361404\n",
       "\\item[X0.0.18] 5100.93212732662\n",
       "\\item[X0.0.150] 5090.0425653575\n",
       "\\item[X0.0.28] 5087.32654438295\n",
       "\\item[X0.0.205] 4974.98973620073\n",
       "\\item[X9.0.1] 4681.73373646587\n",
       "\\item[X9.0.2] 4678.86715952017\n",
       "\\item[X0.0.83] 4602.95240911184\n",
       "\\item[X0.0.85] 4466.38137491122\n",
       "\\item[X0.0.105] 4190.25999951042\n",
       "\\item[X0.0.155] 4113.77671728251\n",
       "\\item[X0.0.115] 3990.59826999363\n",
       "\\item[X0.0.121] 3961.89259905475\n",
       "\\item[X0.0.180] 3860.92273616346\n",
       "\\item[X0.0.233] 3635.30695862142\n",
       "\\item[X0.0.108] 2948.20947094655\n",
       "\\item[X0.0.144] 2942.76904228381\n",
       "\\item[X0.0.17] 2878.13127272584\n",
       "\\item[X0.0.58] 2748.41172699025\n",
       "\\item[X0.0.96] 2722.10590372938\n",
       "\\item[X0.0.66] 2691.44255568894\n",
       "\\item[X0.0.89] 2539.26144009406\n",
       "\\item[X0.0.149] 2492.98812174511\n",
       "\\item[X0.0.159] 2473.93736078386\n",
       "\\item[X1.0780969] 2383.44715867138\n",
       "\\item[X0.0.47] 2289.49775231311\n",
       "\\item[X0.0.50] 2282.02008228368\n",
       "\\item[X0.0.134] 2030.40293261436\n",
       "\\item[X.8.0] 1961.30101359826\n",
       "\\item[X0.4004914] 1950.68552584772\n",
       "\\item[X0.0.209] 1927.75303607408\n",
       "\\item[X0.0.57] 1911.81451908739\n",
       "\\item[X0.0.169] 1715.78323241791\n",
       "\\item[X0.0.120] 1706.53109297982\n",
       "\\item[X0.0.198] 1698.24513953976\n",
       "\\item[X0.0.32] 1679.57990571486\n",
       "\\item[X1.704671] 1582.77624883548\n",
       "\\item[X0.0.146] 1402.34625027069\n",
       "\\item[X0.0.135] 1402.21125730994\n",
       "\\item[X0.0] 1247.57533107894\n",
       "\\item[X1.07421] 1149.27251267664\n",
       "\\item[X0.0.185] 1119.74725318851\n",
       "\\item[X0.0.3] 1024.014652105\n",
       "\\item[X32.615417] 992.497583607594\n",
       "\\item[X0.0.29] 987.747016421972\n",
       "\\item[X0.0.51] 984.990774628478\n",
       "\\item[X0.0.236] 955.039659800918\n",
       "\\item[X0.0.166] 951.923199642419\n",
       "\\item[X0.0.56] 927.570553784681\n",
       "\\item[X377.0.1] 878.616233260432\n",
       "\\item[X46.18691] 875.7953567817\n",
       "\\item[X378.0] 863.937289481663\n",
       "\\item[X0.0.200] 833.015135288457\n",
       "\\item[X0.0.189] 767.40325630551\n",
       "\\item[X0.37755936] 750.140183281844\n",
       "\\item[X0.0.235] 729.928364126108\n",
       "\\item[X0.0.75] 714.500906996252\n",
       "\\item[X0.0.122] 689.548432235332\n",
       "\\item[X0.0.176] 639.108743509585\n",
       "\\item[X0.0.103] 526.644124251172\n",
       "\\item[X0.0.154] 425.609268001655\n",
       "\\item[X0.0.195] 396.66787666286\n",
       "\\item[X0.0.65] 383.406445869073\n",
       "\\item[X0.0.207] 361.133576068066\n",
       "\\item[X0.0.177] 342.498394017047\n",
       "\\item[X0.0.76] 305.427499442163\n",
       "\\item[X0.0.147] 301.00149717767\n",
       "\\item[X0.0.187] 258.307956252236\n",
       "\\item[X0.0.167] 205.671477000896\n",
       "\\item[X0.0.193] 168.414325303102\n",
       "\\item[X0.0.196] 121.559295415452\n",
       "\\item[X0.0.41] 90.9061288233836\n",
       "\\item[X0.022932023] 82.6750566803229\n",
       "\\item[X0.0.21] 79.9926640505777\n",
       "\\item[X0.0.163] 76.6885986604813\n",
       "\\item[X0.0.49] 74.5888078415396\n",
       "\\item[X0.0.6] 71.9691808856715\n",
       "\\item[X0.0.126] 66.9496820448846\n",
       "\\item[X0.0.182] 55.0037814263842\n",
       "\\item[X0.0.173] 38.1113183958821\n",
       "\\item[X0.0.23] 37.8190202245351\n",
       "\\item[X0.0.24] 37.8190202245351\n",
       "\\item[X0.0.31] 37.8190202245351\n",
       "\\item[X0.0.100] 36.2535297386028\n",
       "\\item[X0.0.36] 34.2337459892879\n",
       "\\item[X0.0.34] 33.4748410224423\n",
       "\\item[X0.0.212] 21.5089092585624\n",
       "\\item[X0.0.84] 13.4541004894615\n",
       "\\item[X0.0.104] 9.87830687830689\n",
       "\\item[X0.0.216] 9.59463359463361\n",
       "\\item[X0.0.217] 5.16632940702708\n",
       "\\item[X0.0.102] 3.31515812431846\n",
       "\\item[X0.0.123] 3.12597574347723\n",
       "\\item[X0.0.45] 3.01474288577238\n",
       "\\item[X0.0.164] 1.67731579656181\n",
       "\\item[X0.0.125] 0.976362308456898\n",
       "\\item[X0.0.178] 0.870748299319727\n",
       "\\item[X0.0.183] 0.139325782409416\n",
       "\\end{description*}\n"
      ],
      "text/markdown": [
       "X2.0.4\n",
       ":   1550799.0666189X2.0.2\n",
       ":   1403887.12460683X10.0.1\n",
       ":   1127240.16411385X2.0.3\n",
       ":   880771.788474947X2.0.1\n",
       ":   876731.467600778X401.0\n",
       ":   440618.41686825X0.0.20\n",
       ":   436372.558790126X15.52416\n",
       ":   425300.120859836X32.44188\n",
       ":   408365.438295677X15.0\n",
       ":   390821.826720942X377.0\n",
       ":   366181.799733973X14.044226\n",
       ":   239648.670705663X53.845657\n",
       ":   213377.855323924X40.30467\n",
       ":   148981.427286889X0.0.14\n",
       ":   147648.00989148X3.0\n",
       ":   118731.482443682X0.0.152\n",
       ":   106276.114202429X.356.0\n",
       ":   97728.7770190944X0.0.129\n",
       ":   91922.7155359656X0.0.27\n",
       ":   90876.3522179959X0.0.25\n",
       ":   90331.219717784X0.0.165\n",
       ":   85855.0490449291X2.0\n",
       ":   79046.8366475724X0.0.80\n",
       ":   70019.7810859589X0.0.37\n",
       ":   68449.4428161693X0.0.101\n",
       ":   67964.3193290515X0.0.204\n",
       ":   62257.3792021872X1.0.1\n",
       ":   61718.6103827174X48.475178\n",
       ":   58040.7839995776X0.0.224\n",
       ":   58033.8733586402X0.0.86\n",
       ":   57728.2553326026X0.0.206\n",
       ":   54360.6714972462X0.0.142\n",
       ":   53276.0074911939X1.4799345\n",
       ":   52289.3075518091X0.0.30\n",
       ":   51299.5738374768X12.0\n",
       ":   50606.1787154529X11.0\n",
       ":   50605.8768835918X0.0.184\n",
       ":   49284.9282485391X0.0.59\n",
       ":   46563.9746823896X1.795416\n",
       ":   45664.9476638345X1.0761671\n",
       ":   45579.9039496775X0.0.227\n",
       ":   44111.6297508718X0.0.97\n",
       ":   42830.1638358179X0.0.191\n",
       ":   42425.0665624955X0.0.221\n",
       ":   41170.3753300316X0.0.232\n",
       ":   41131.0379495019X0.0.223\n",
       ":   40849.2488425584X0.0.109\n",
       ":   40604.6090284088X0.0.190\n",
       ":   35836.8174539349X0.0.230\n",
       ":   35731.3219670888X0.0.225\n",
       ":   35204.1698120411X0.0.226\n",
       ":   32954.0373584804X0.0.111\n",
       ":   32923.9358879276X0.0.60\n",
       ":   32710.877100889X0.0.19\n",
       ":   31334.5010604255X0.0.228\n",
       ":   29269.3884449824X0.0.93\n",
       ":   27752.6692045797X0.0.139\n",
       ":   27686.6790463771X0.0.62\n",
       ":   26119.3419782839X0.0.222\n",
       ":   25766.1697257449X0.0.215\n",
       ":   25191.2481185726X0.0.16\n",
       ":   24407.7427889585X0.0.231\n",
       ":   24301.1084267886X0.0.171\n",
       ":   24264.4063000058X0.0.117\n",
       ":   22400.0921743446X0.0.72\n",
       ":   21874.380021863X0.0.229\n",
       ":   21867.6633402137X0.0.98\n",
       ":   21819.5503648526X0.0.54\n",
       ":   21527.0699580708X0.0.78\n",
       ":   18685.7603716802X0.0.160\n",
       ":   18284.8098545673X0.0.77\n",
       ":   18166.0351301143X0.0.35\n",
       ":   18048.2041176031X0.0.128\n",
       ":   17731.8805620435X0.0.94\n",
       ":   17678.9461308468X0.0.40\n",
       ":   17292.4329420144X0.0.186\n",
       ":   17112.9073596909X0.0.112\n",
       ":   15910.9846108527X0.0.61\n",
       ":   15845.3510386777X0.0.138\n",
       ":   14577.8773513397X0.0.26\n",
       ":   14054.5966053094X0.0.99\n",
       ":   13986.488830587X0.0.44\n",
       ":   13697.8521830575X0.0.210\n",
       ":   13487.4038871755X0.0.79\n",
       ":   13069.5059005671X0.0.22\n",
       ":   12590.3283232375X0.0.151\n",
       ":   12349.8172993564X34.567566\n",
       ":   12245.1238245234X0.0.168\n",
       ":   12178.9451820688X0.0.63\n",
       ":   11549.6132081696X0.0.33\n",
       ":   11353.1900736397X0.0.153\n",
       ":   10706.6910246547X0.0.116\n",
       ":   10076.1027074348X0.0.203\n",
       ":   9697.75179984727X0.972973\n",
       ":   9616.37363286485X0.0.213\n",
       ":   9289.33254842854X0.0.199\n",
       ":   9181.30773805277X0.0.141\n",
       ":   9055.68970327044X0.0.74\n",
       ":   9030.33093140889X0.0.92\n",
       ":   8870.68711839842X0.0.133\n",
       ":   8847.92477769235X0.0.132\n",
       ":   8572.78891679579X0.0.145\n",
       ":   7534.48750378331X0.0.15\n",
       ":   7459.15532938928X0.0.192\n",
       ":   6955.03529989613X0.0.4\n",
       ":   6814.3200788503X10.0\n",
       ":   6647.35089977182X0.0.174\n",
       ":   6632.45144385036X9.0\n",
       ":   6467.41261412556X0.0.188\n",
       ":   6248.31256377371X0.0.68\n",
       ":   6022.75907416396X1.0\n",
       ":   5928.96486678299X0.0.73\n",
       ":   5877.87483260942X0.0.95\n",
       ":   5669.60270979826X0.0.179\n",
       ":   5668.78956415783X0.0.46\n",
       ":   5580.11532846664X0.0.118\n",
       ":   5154.79787361404X0.0.18\n",
       ":   5100.93212732662X0.0.150\n",
       ":   5090.0425653575X0.0.28\n",
       ":   5087.32654438295X0.0.205\n",
       ":   4974.98973620073X9.0.1\n",
       ":   4681.73373646587X9.0.2\n",
       ":   4678.86715952017X0.0.83\n",
       ":   4602.95240911184X0.0.85\n",
       ":   4466.38137491122X0.0.105\n",
       ":   4190.25999951042X0.0.155\n",
       ":   4113.77671728251X0.0.115\n",
       ":   3990.59826999363X0.0.121\n",
       ":   3961.89259905475X0.0.180\n",
       ":   3860.92273616346X0.0.233\n",
       ":   3635.30695862142X0.0.108\n",
       ":   2948.20947094655X0.0.144\n",
       ":   2942.76904228381X0.0.17\n",
       ":   2878.13127272584X0.0.58\n",
       ":   2748.41172699025X0.0.96\n",
       ":   2722.10590372938X0.0.66\n",
       ":   2691.44255568894X0.0.89\n",
       ":   2539.26144009406X0.0.149\n",
       ":   2492.98812174511X0.0.159\n",
       ":   2473.93736078386X1.0780969\n",
       ":   2383.44715867138X0.0.47\n",
       ":   2289.49775231311X0.0.50\n",
       ":   2282.02008228368X0.0.134\n",
       ":   2030.40293261436X.8.0\n",
       ":   1961.30101359826X0.4004914\n",
       ":   1950.68552584772X0.0.209\n",
       ":   1927.75303607408X0.0.57\n",
       ":   1911.81451908739X0.0.169\n",
       ":   1715.78323241791X0.0.120\n",
       ":   1706.53109297982X0.0.198\n",
       ":   1698.24513953976X0.0.32\n",
       ":   1679.57990571486X1.704671\n",
       ":   1582.77624883548X0.0.146\n",
       ":   1402.34625027069X0.0.135\n",
       ":   1402.21125730994X0.0\n",
       ":   1247.57533107894X1.07421\n",
       ":   1149.27251267664X0.0.185\n",
       ":   1119.74725318851X0.0.3\n",
       ":   1024.014652105X32.615417\n",
       ":   992.497583607594X0.0.29\n",
       ":   987.747016421972X0.0.51\n",
       ":   984.990774628478X0.0.236\n",
       ":   955.039659800918X0.0.166\n",
       ":   951.923199642419X0.0.56\n",
       ":   927.570553784681X377.0.1\n",
       ":   878.616233260432X46.18691\n",
       ":   875.7953567817X378.0\n",
       ":   863.937289481663X0.0.200\n",
       ":   833.015135288457X0.0.189\n",
       ":   767.40325630551X0.37755936\n",
       ":   750.140183281844X0.0.235\n",
       ":   729.928364126108X0.0.75\n",
       ":   714.500906996252X0.0.122\n",
       ":   689.548432235332X0.0.176\n",
       ":   639.108743509585X0.0.103\n",
       ":   526.644124251172X0.0.154\n",
       ":   425.609268001655X0.0.195\n",
       ":   396.66787666286X0.0.65\n",
       ":   383.406445869073X0.0.207\n",
       ":   361.133576068066X0.0.177\n",
       ":   342.498394017047X0.0.76\n",
       ":   305.427499442163X0.0.147\n",
       ":   301.00149717767X0.0.187\n",
       ":   258.307956252236X0.0.167\n",
       ":   205.671477000896X0.0.193\n",
       ":   168.414325303102X0.0.196\n",
       ":   121.559295415452X0.0.41\n",
       ":   90.9061288233836X0.022932023\n",
       ":   82.6750566803229X0.0.21\n",
       ":   79.9926640505777X0.0.163\n",
       ":   76.6885986604813X0.0.49\n",
       ":   74.5888078415396X0.0.6\n",
       ":   71.9691808856715X0.0.126\n",
       ":   66.9496820448846X0.0.182\n",
       ":   55.0037814263842X0.0.173\n",
       ":   38.1113183958821X0.0.23\n",
       ":   37.8190202245351X0.0.24\n",
       ":   37.8190202245351X0.0.31\n",
       ":   37.8190202245351X0.0.100\n",
       ":   36.2535297386028X0.0.36\n",
       ":   34.2337459892879X0.0.34\n",
       ":   33.4748410224423X0.0.212\n",
       ":   21.5089092585624X0.0.84\n",
       ":   13.4541004894615X0.0.104\n",
       ":   9.87830687830689X0.0.216\n",
       ":   9.59463359463361X0.0.217\n",
       ":   5.16632940702708X0.0.102\n",
       ":   3.31515812431846X0.0.123\n",
       ":   3.12597574347723X0.0.45\n",
       ":   3.01474288577238X0.0.164\n",
       ":   1.67731579656181X0.0.125\n",
       ":   0.976362308456898X0.0.178\n",
       ":   0.870748299319727X0.0.183\n",
       ":   0.139325782409416\n",
       "\n"
      ],
      "text/plain": [
       "      X2.0.4       X2.0.2      X10.0.1       X2.0.3       X2.0.1       X401.0 \n",
       "1.550799e+06 1.403887e+06 1.127240e+06 8.807718e+05 8.767315e+05 4.406184e+05 \n",
       "     X0.0.20    X15.52416    X32.44188        X15.0       X377.0   X14.044226 \n",
       "4.363726e+05 4.253001e+05 4.083654e+05 3.908218e+05 3.661818e+05 2.396487e+05 \n",
       "  X53.845657    X40.30467      X0.0.14         X3.0     X0.0.152      X.356.0 \n",
       "2.133779e+05 1.489814e+05 1.476480e+05 1.187315e+05 1.062761e+05 9.772878e+04 \n",
       "    X0.0.129      X0.0.27      X0.0.25     X0.0.165         X2.0      X0.0.80 \n",
       "9.192272e+04 9.087635e+04 9.033122e+04 8.585505e+04 7.904684e+04 7.001978e+04 \n",
       "     X0.0.37     X0.0.101     X0.0.204       X1.0.1   X48.475178     X0.0.224 \n",
       "6.844944e+04 6.796432e+04 6.225738e+04 6.171861e+04 5.804078e+04 5.803387e+04 \n",
       "     X0.0.86     X0.0.206     X0.0.142   X1.4799345      X0.0.30        X12.0 \n",
       "5.772826e+04 5.436067e+04 5.327601e+04 5.228931e+04 5.129957e+04 5.060618e+04 \n",
       "       X11.0     X0.0.184      X0.0.59    X1.795416   X1.0761671     X0.0.227 \n",
       "5.060588e+04 4.928493e+04 4.656397e+04 4.566495e+04 4.557990e+04 4.411163e+04 \n",
       "     X0.0.97     X0.0.191     X0.0.221     X0.0.232     X0.0.223     X0.0.109 \n",
       "4.283016e+04 4.242507e+04 4.117038e+04 4.113104e+04 4.084925e+04 4.060461e+04 \n",
       "    X0.0.190     X0.0.230     X0.0.225     X0.0.226     X0.0.111      X0.0.60 \n",
       "3.583682e+04 3.573132e+04 3.520417e+04 3.295404e+04 3.292394e+04 3.271088e+04 \n",
       "     X0.0.19     X0.0.228      X0.0.93     X0.0.139      X0.0.62     X0.0.222 \n",
       "3.133450e+04 2.926939e+04 2.775267e+04 2.768668e+04 2.611934e+04 2.576617e+04 \n",
       "    X0.0.215      X0.0.16     X0.0.231     X0.0.171     X0.0.117      X0.0.72 \n",
       "2.519125e+04 2.440774e+04 2.430111e+04 2.426441e+04 2.240009e+04 2.187438e+04 \n",
       "    X0.0.229      X0.0.98      X0.0.54      X0.0.78     X0.0.160      X0.0.77 \n",
       "2.186766e+04 2.181955e+04 2.152707e+04 1.868576e+04 1.828481e+04 1.816604e+04 \n",
       "     X0.0.35     X0.0.128      X0.0.94      X0.0.40     X0.0.186     X0.0.112 \n",
       "1.804820e+04 1.773188e+04 1.767895e+04 1.729243e+04 1.711291e+04 1.591098e+04 \n",
       "     X0.0.61     X0.0.138      X0.0.26      X0.0.99      X0.0.44     X0.0.210 \n",
       "1.584535e+04 1.457788e+04 1.405460e+04 1.398649e+04 1.369785e+04 1.348740e+04 \n",
       "     X0.0.79      X0.0.22     X0.0.151   X34.567566     X0.0.168      X0.0.63 \n",
       "1.306951e+04 1.259033e+04 1.234982e+04 1.224512e+04 1.217895e+04 1.154961e+04 \n",
       "     X0.0.33     X0.0.153     X0.0.116     X0.0.203    X0.972973     X0.0.213 \n",
       "1.135319e+04 1.070669e+04 1.007610e+04 9.697752e+03 9.616374e+03 9.289333e+03 \n",
       "    X0.0.199     X0.0.141      X0.0.74      X0.0.92     X0.0.133     X0.0.132 \n",
       "9.181308e+03 9.055690e+03 9.030331e+03 8.870687e+03 8.847925e+03 8.572789e+03 \n",
       "    X0.0.145      X0.0.15     X0.0.192       X0.0.4        X10.0     X0.0.174 \n",
       "7.534488e+03 7.459155e+03 6.955035e+03 6.814320e+03 6.647351e+03 6.632451e+03 \n",
       "        X9.0     X0.0.188      X0.0.68         X1.0      X0.0.73      X0.0.95 \n",
       "6.467413e+03 6.248313e+03 6.022759e+03 5.928965e+03 5.877875e+03 5.669603e+03 \n",
       "    X0.0.179      X0.0.46     X0.0.118      X0.0.18     X0.0.150      X0.0.28 \n",
       "5.668790e+03 5.580115e+03 5.154798e+03 5.100932e+03 5.090043e+03 5.087327e+03 \n",
       "    X0.0.205       X9.0.1       X9.0.2      X0.0.83      X0.0.85     X0.0.105 \n",
       "4.974990e+03 4.681734e+03 4.678867e+03 4.602952e+03 4.466381e+03 4.190260e+03 \n",
       "    X0.0.155     X0.0.115     X0.0.121     X0.0.180     X0.0.233     X0.0.108 \n",
       "4.113777e+03 3.990598e+03 3.961893e+03 3.860923e+03 3.635307e+03 2.948209e+03 \n",
       "    X0.0.144      X0.0.17      X0.0.58      X0.0.96      X0.0.66      X0.0.89 \n",
       "2.942769e+03 2.878131e+03 2.748412e+03 2.722106e+03 2.691443e+03 2.539261e+03 \n",
       "    X0.0.149     X0.0.159   X1.0780969      X0.0.47      X0.0.50     X0.0.134 \n",
       "2.492988e+03 2.473937e+03 2.383447e+03 2.289498e+03 2.282020e+03 2.030403e+03 \n",
       "       X.8.0   X0.4004914     X0.0.209      X0.0.57     X0.0.169     X0.0.120 \n",
       "1.961301e+03 1.950686e+03 1.927753e+03 1.911815e+03 1.715783e+03 1.706531e+03 \n",
       "    X0.0.198      X0.0.32    X1.704671     X0.0.146     X0.0.135         X0.0 \n",
       "1.698245e+03 1.679580e+03 1.582776e+03 1.402346e+03 1.402211e+03 1.247575e+03 \n",
       "    X1.07421     X0.0.185       X0.0.3   X32.615417      X0.0.29      X0.0.51 \n",
       "1.149273e+03 1.119747e+03 1.024015e+03 9.924976e+02 9.877470e+02 9.849908e+02 \n",
       "    X0.0.236     X0.0.166      X0.0.56     X377.0.1    X46.18691       X378.0 \n",
       "9.550397e+02 9.519232e+02 9.275706e+02 8.786162e+02 8.757954e+02 8.639373e+02 \n",
       "    X0.0.200     X0.0.189  X0.37755936     X0.0.235      X0.0.75     X0.0.122 \n",
       "8.330151e+02 7.674033e+02 7.501402e+02 7.299284e+02 7.145009e+02 6.895484e+02 \n",
       "    X0.0.176     X0.0.103     X0.0.154     X0.0.195      X0.0.65     X0.0.207 \n",
       "6.391087e+02 5.266441e+02 4.256093e+02 3.966679e+02 3.834064e+02 3.611336e+02 \n",
       "    X0.0.177      X0.0.76     X0.0.147     X0.0.187     X0.0.167     X0.0.193 \n",
       "3.424984e+02 3.054275e+02 3.010015e+02 2.583080e+02 2.056715e+02 1.684143e+02 \n",
       "    X0.0.196      X0.0.41 X0.022932023      X0.0.21     X0.0.163      X0.0.49 \n",
       "1.215593e+02 9.090613e+01 8.267506e+01 7.999266e+01 7.668860e+01 7.458881e+01 \n",
       "      X0.0.6     X0.0.126     X0.0.182     X0.0.173      X0.0.23      X0.0.24 \n",
       "7.196918e+01 6.694968e+01 5.500378e+01 3.811132e+01 3.781902e+01 3.781902e+01 \n",
       "     X0.0.31     X0.0.100      X0.0.36      X0.0.34     X0.0.212      X0.0.84 \n",
       "3.781902e+01 3.625353e+01 3.423375e+01 3.347484e+01 2.150891e+01 1.345410e+01 \n",
       "    X0.0.104     X0.0.216     X0.0.217     X0.0.102     X0.0.123      X0.0.45 \n",
       "9.878307e+00 9.594634e+00 5.166329e+00 3.315158e+00 3.125976e+00 3.014743e+00 \n",
       "    X0.0.164     X0.0.125     X0.0.178     X0.0.183 \n",
       "1.677316e+00 9.763623e-01 8.707483e-01 1.393258e-01 "
      ]
     },
     "metadata": {},
     "output_type": "display_data"
    },
    {
     "data": {
      "image/png": "[encoded data removed]",
      "text/plain": [
       "Plot with title \"\""
      ]
     },
     "metadata": {},
     "output_type": "display_data"
    }
   ],
   "source": [
    "reg_tree_blog=tr$finalModel\n",
    "fancyRpartPlot(reg_tree_blog)\n",
    "reg_tree_blog$variable.importance"
   ]
  },
  {
   "cell_type": "code",
   "execution_count": 24,
   "metadata": {},
   "outputs": [],
   "source": [
    "predicted_blog_dt=predict(reg_tree_blog,newdata=blog_test)"
   ]
  },
  {
   "cell_type": "code",
   "execution_count": 25,
   "metadata": {},
   "outputs": [
    {
     "data": {
      "text/html": [
       "1977"
      ],
      "text/latex": [
       "1977"
      ],
      "text/markdown": [
       "1977"
      ],
      "text/plain": [
       "[1] 1977"
      ]
     },
     "metadata": {},
     "output_type": "display_data"
    }
   ],
   "source": [
    "length(predicted_blog_dt)"
   ]
  },
  {
   "cell_type": "markdown",
   "metadata": {},
   "source": [
    "### Performanca Measure"
   ]
  },
  {
   "cell_type": "code",
   "execution_count": 26,
   "metadata": {
    "scrolled": true
   },
   "outputs": [
    {
     "data": {
      "text/html": [
       "<table>\n",
       "<thead><tr><th scope=col>name</th><th scope=col>n</th><th scope=col>mean</th><th scope=col>sd</th><th scope=col>FBias</th><th scope=col>MAPE</th><th scope=col>RMSE</th><th scope=col>MAD</th><th scope=col>WMAPE</th></tr></thead>\n",
       "<tbody>\n",
       "\t<tr><td>Decision Tree with CV for Pisa Dataset</td><td>1977                                  </td><td>7.152757                              </td><td>16.66787                              </td><td>-0.211185                             </td><td>NaN                                   </td><td>0.3807407                             </td><td>6.082319                              </td><td>0.8503462                             </td></tr>\n",
       "</tbody>\n",
       "</table>\n"
      ],
      "text/latex": [
       "\\begin{tabular}{r|lllllllll}\n",
       " name & n & mean & sd & FBias & MAPE & RMSE & MAD & WMAPE\\\\\n",
       "\\hline\n",
       "\t Decision Tree with CV for Pisa Dataset & 1977                                   & 7.152757                               & 16.66787                               & -0.211185                              & NaN                                    & 0.3807407                              & 6.082319                               & 0.8503462                             \\\\\n",
       "\\end{tabular}\n"
      ],
      "text/markdown": [
       "\n",
       "| name | n | mean | sd | FBias | MAPE | RMSE | MAD | WMAPE |\n",
       "|---|---|---|---|---|---|---|---|---|\n",
       "| Decision Tree with CV for Pisa Dataset | 1977                                   | 7.152757                               | 16.66787                               | -0.211185                              | NaN                                    | 0.3807407                              | 6.082319                               | 0.8503462                              |\n",
       "\n"
      ],
      "text/plain": [
       "  name                                   n    mean     sd       FBias     MAPE\n",
       "1 Decision Tree with CV for Pisa Dataset 1977 7.152757 16.66787 -0.211185 NaN \n",
       "  RMSE      MAD      WMAPE    \n",
       "1 0.3807407 6.082319 0.8503462"
      ]
     },
     "metadata": {},
     "output_type": "display_data"
    }
   ],
   "source": [
    "perf_dt(\"Decision Tree with CV for Pisa Dataset\",blog_test$target,as.numeric(predicted_blog_dt))"
   ]
  },
  {
   "cell_type": "markdown",
   "metadata": {},
   "source": [
    "## Random Forest(RF)"
   ]
  },
  {
   "cell_type": "code",
   "execution_count": 27,
   "metadata": {},
   "outputs": [
    {
     "name": "stderr",
     "output_type": "stream",
     "text": [
      "Warning message:\n",
      "\"package 'ranger' was built under R version 3.6.3\"\n",
      "Attaching package: 'ranger'\n",
      "\n",
      "The following object is masked from 'package:randomForest':\n",
      "\n",
      "    importance\n",
      "\n",
      "The following object is masked from 'package:rattle':\n",
      "\n",
      "    importance\n",
      "\n"
     ]
    }
   ],
   "source": [
    "library(ranger)"
   ]
  },
  {
   "cell_type": "code",
   "execution_count": 28,
   "metadata": {},
   "outputs": [],
   "source": [
    "fitControl=trainControl(method = \"repeatedcv\",\n",
    "                           number = 10) "
   ]
  },
  {
   "cell_type": "code",
   "execution_count": 29,
   "metadata": {},
   "outputs": [
    {
     "data": {
      "text/html": [
       "<table>\n",
       "<thead><tr><th scope=col>mtry</th><th scope=col>splitrule</th><th scope=col>min.node.size</th></tr></thead>\n",
       "<tbody>\n",
       "\t<tr><td> 4      </td><td>variance</td><td>5       </td></tr>\n",
       "\t<tr><td> 8      </td><td>variance</td><td>5       </td></tr>\n",
       "\t<tr><td>10      </td><td>variance</td><td>5       </td></tr>\n",
       "\t<tr><td>15      </td><td>variance</td><td>5       </td></tr>\n",
       "</tbody>\n",
       "</table>\n"
      ],
      "text/latex": [
       "\\begin{tabular}{r|lll}\n",
       " mtry & splitrule & min.node.size\\\\\n",
       "\\hline\n",
       "\t  4       & variance & 5       \\\\\n",
       "\t  8       & variance & 5       \\\\\n",
       "\t 10       & variance & 5       \\\\\n",
       "\t 15       & variance & 5       \\\\\n",
       "\\end{tabular}\n"
      ],
      "text/markdown": [
       "\n",
       "| mtry | splitrule | min.node.size |\n",
       "|---|---|---|\n",
       "|  4       | variance | 5        |\n",
       "|  8       | variance | 5        |\n",
       "| 10       | variance | 5        |\n",
       "| 15       | variance | 5        |\n",
       "\n"
      ],
      "text/plain": [
       "  mtry splitrule min.node.size\n",
       "1  4   variance  5            \n",
       "2  8   variance  5            \n",
       "3 10   variance  5            \n",
       "4 15   variance  5            "
      ]
     },
     "metadata": {},
     "output_type": "display_data"
    }
   ],
   "source": [
    "rf_grid=expand.grid(mtry=c(4,8,10,15),\n",
    "                   splitrule = c(\"variance\"),\n",
    "                   min.node.size= c(5))\n",
    "rf_grid  "
   ]
  },
  {
   "cell_type": "code",
   "execution_count": 30,
   "metadata": {},
   "outputs": [],
   "source": [
    "rf_fit=train(target ~ ., data = blog_train, \n",
    "                 method = \"ranger\", \n",
    "                 trControl = fitControl, num.trees=500,\n",
    "                 tuneGrid = rf_grid) "
   ]
  },
  {
   "cell_type": "code",
   "execution_count": 31,
   "metadata": {},
   "outputs": [
    {
     "data": {
      "text/plain": [
       "Random Forest \n",
       "\n",
       "8023 samples\n",
       " 280 predictor\n",
       "\n",
       "No pre-processing\n",
       "Resampling: Cross-Validated (10 fold, repeated 1 times) \n",
       "Summary of sample sizes: 7220, 7221, 7220, 7221, 7221, 7221, ... \n",
       "Resampling results across tuning parameters:\n",
       "\n",
       "  mtry  RMSE      Rsquared   MAE     \n",
       "   4    23.12233  0.3410507  9.550554\n",
       "   8    20.40609  0.4818724  7.921203\n",
       "  10    19.78936  0.5023333  7.523441\n",
       "  15    19.20015  0.5178478  6.988483\n",
       "\n",
       "Tuning parameter 'splitrule' was held constant at a value of variance\n",
       "\n",
       "Tuning parameter 'min.node.size' was held constant at a value of 5\n",
       "RMSE was used to select the optimal model using the smallest value.\n",
       "The final values used for the model were mtry = 15, splitrule = variance\n",
       " and min.node.size = 5."
      ]
     },
     "metadata": {},
     "output_type": "display_data"
    },
    {
     "data": {
      "image/png": "[encoded data removed]",
      "text/plain": [
       "plot without title"
      ]
     },
     "metadata": {},
     "output_type": "display_data"
    }
   ],
   "source": [
    "rf_fit\n",
    "plot(rf_fit)"
   ]
  },
  {
   "cell_type": "code",
   "execution_count": 32,
   "metadata": {},
   "outputs": [],
   "source": [
    "RandomForest_blog=predict(rf_fit,newdata=blog_test)"
   ]
  },
  {
   "cell_type": "markdown",
   "metadata": {},
   "source": [
    "### Performanca Measure"
   ]
  },
  {
   "cell_type": "code",
   "execution_count": 46,
   "metadata": {
    "scrolled": true
   },
   "outputs": [
    {
     "data": {
      "text/html": [
       "<table>\n",
       "<thead><tr><th scope=col>name</th><th scope=col>n</th><th scope=col>mean</th><th scope=col>sd</th><th scope=col>FBias</th><th scope=col>MAPE</th><th scope=col>RMSE</th><th scope=col>MAD</th><th scope=col>WMAPE</th></tr></thead>\n",
       "<tbody>\n",
       "\t<tr><td>First Data Set for Random Forest</td><td>1977                            </td><td>7.152757                        </td><td>16.66787                        </td><td>-0.2323384                      </td><td>Inf                             </td><td>0.2484009                       </td><td>5.514749                        </td><td>0.7709963                       </td></tr>\n",
       "</tbody>\n",
       "</table>\n"
      ],
      "text/latex": [
       "\\begin{tabular}{r|lllllllll}\n",
       " name & n & mean & sd & FBias & MAPE & RMSE & MAD & WMAPE\\\\\n",
       "\\hline\n",
       "\t First Data Set for Random Forest & 1977                             & 7.152757                         & 16.66787                         & -0.2323384                       & Inf                              & 0.2484009                        & 5.514749                         & 0.7709963                       \\\\\n",
       "\\end{tabular}\n"
      ],
      "text/markdown": [
       "\n",
       "| name | n | mean | sd | FBias | MAPE | RMSE | MAD | WMAPE |\n",
       "|---|---|---|---|---|---|---|---|---|\n",
       "| First Data Set for Random Forest | 1977                             | 7.152757                         | 16.66787                         | -0.2323384                       | Inf                              | 0.2484009                        | 5.514749                         | 0.7709963                        |\n",
       "\n"
      ],
      "text/plain": [
       "  name                             n    mean     sd       FBias      MAPE\n",
       "1 First Data Set for Random Forest 1977 7.152757 16.66787 -0.2323384 Inf \n",
       "  RMSE      MAD      WMAPE    \n",
       "1 0.2484009 5.514749 0.7709963"
      ]
     },
     "metadata": {},
     "output_type": "display_data"
    }
   ],
   "source": [
    "perf_dt(\"First Data Set for Random Forest\", as.numeric(blog_test$target), as.numeric(RandomForest_blog))"
   ]
  },
  {
   "cell_type": "markdown",
   "metadata": {},
   "source": [
    "## Stochastic Gradient Boosting(SGB)"
   ]
  },
  {
   "cell_type": "code",
   "execution_count": 34,
   "metadata": {},
   "outputs": [],
   "source": [
    "set.seed(35)"
   ]
  },
  {
   "cell_type": "code",
   "execution_count": 49,
   "metadata": {},
   "outputs": [
    {
     "name": "stderr",
     "output_type": "stream",
     "text": [
      "Warning message in `[.data.table`(blog_train, , `:=`(X0.0.1, NULL)):\n",
      "\"Column 'X0.0.1' does not exist to remove\"Warning message in `[.data.table`(blog_train, , `:=`(X0.0.2, NULL)):\n",
      "\"Column 'X0.0.2' does not exist to remove\"Warning message in `[.data.table`(blog_train, , `:=`(X0.0.5, NULL)):\n",
      "\"Column 'X0.0.5' does not exist to remove\"Warning message in `[.data.table`(blog_train, , `:=`(X0.0.7, NULL)):\n",
      "\"Column 'X0.0.7' does not exist to remove\"Warning message in `[.data.table`(blog_train, , `:=`(X0.0.8, NULL)):\n",
      "\"Column 'X0.0.8' does not exist to remove\"Warning message in `[.data.table`(blog_train, , `:=`(X0.0.9, NULL)):\n",
      "\"Column 'X0.0.9' does not exist to remove\"Warning message in `[.data.table`(blog_train, , `:=`(X0.0.10, NULL)):\n",
      "\"Column 'X0.0.10' does not exist to remove\"Warning message in `[.data.table`(blog_train, , `:=`(X0.0.11, NULL)):\n",
      "\"Column 'X0.0.11' does not exist to remove\"Warning message in `[.data.table`(blog_train, , `:=`(X0.0.13, NULL)):\n",
      "\"Column 'X0.0.13' does not exist to remove\"Warning message in `[.data.table`(blog_train, , `:=`(X0.0.234, NULL)):\n",
      "\"Column 'X0.0.234' does not exist to remove\"Warning message in `[.data.table`(blog_test, , `:=`(X0.0.1, NULL)):\n",
      "\"Column 'X0.0.1' does not exist to remove\"Warning message in `[.data.table`(blog_test, , `:=`(X0.0.2, NULL)):\n",
      "\"Column 'X0.0.2' does not exist to remove\"Warning message in `[.data.table`(blog_test, , `:=`(X0.0.5, NULL)):\n",
      "\"Column 'X0.0.5' does not exist to remove\"Warning message in `[.data.table`(blog_test, , `:=`(X0.0.7, NULL)):\n",
      "\"Column 'X0.0.7' does not exist to remove\"Warning message in `[.data.table`(blog_test, , `:=`(X0.0.8, NULL)):\n",
      "\"Column 'X0.0.8' does not exist to remove\"Warning message in `[.data.table`(blog_test, , `:=`(X0.0.9, NULL)):\n",
      "\"Column 'X0.0.9' does not exist to remove\"Warning message in `[.data.table`(blog_test, , `:=`(X0.0.10, NULL)):\n",
      "\"Column 'X0.0.10' does not exist to remove\"Warning message in `[.data.table`(blog_test, , `:=`(X0.0.11, NULL)):\n",
      "\"Column 'X0.0.11' does not exist to remove\"Warning message in `[.data.table`(blog_test, , `:=`(X0.0.13, NULL)):\n",
      "\"Column 'X0.0.13' does not exist to remove\"Warning message in `[.data.table`(blog_test, , `:=`(X0.0.234, NULL)):\n",
      "\"Column 'X0.0.234' does not exist to remove\""
     ]
    }
   ],
   "source": [
    "blog_train[,X0.0.1:=NULL]\n",
    "blog_train[,X0.0.2:=NULL]\n",
    "blog_train[,X0.0.5:=NULL]\n",
    "blog_train[,X0.0.7:=NULL]\n",
    "blog_train[,X0.0.8:=NULL]\n",
    "blog_train[,X0.0.9:=NULL]\n",
    "blog_train[,X0.0.10:=NULL]\n",
    "blog_train[,X0.0.11:=NULL]\n",
    "blog_train[,X0.0.13:=NULL]\n",
    "blog_train[,X0.0.234:=NULL]\n",
    "\n",
    "blog_test[,X0.0.1:=NULL]\n",
    "blog_test[,X0.0.2:=NULL]\n",
    "blog_test[,X0.0.5:=NULL]\n",
    "blog_test[,X0.0.7:=NULL]\n",
    "blog_test[,X0.0.8:=NULL]\n",
    "blog_test[,X0.0.9:=NULL]\n",
    "blog_test[,X0.0.10:=NULL]\n",
    "blog_test[,X0.0.11:=NULL]\n",
    "blog_test[,X0.0.13:=NULL]\n",
    "blog_test[,X0.0.234:=NULL]"
   ]
  },
  {
   "cell_type": "code",
   "execution_count": 50,
   "metadata": {},
   "outputs": [
    {
     "data": {
      "image/png": "[encoded data removed]",
      "text/plain": [
       "plot without title"
      ]
     },
     "metadata": {},
     "output_type": "display_data"
    }
   ],
   "source": [
    "gbmGrid=expand.grid(interaction.depth = c(1, 3, 5), \n",
    "                        n.trees = (1:5)*30, \n",
    "                        shrinkage = c(0.1, 0.3, 0.5),\n",
    "                        n.minobsinnode = 20)\n",
    "                                                                \n",
    "\n",
    "gbm_fit=train(target ~ ., data = blog_train, \n",
    "                 method = \"gbm\", \n",
    "                 trControl = fitControl,  \n",
    "                 tuneGrid = gbmGrid,\n",
    "                 verbose=F) #verbose is an argument from gbm, prints to screen\n",
    "\n",
    "plot(gbm_fit)"
   ]
  },
  {
   "cell_type": "code",
   "execution_count": 51,
   "metadata": {},
   "outputs": [],
   "source": [
    "predicted_blog_sgb=predict(gbm_fit,blog_test)"
   ]
  },
  {
   "cell_type": "markdown",
   "metadata": {},
   "source": [
    "### Performanca Measure"
   ]
  },
  {
   "cell_type": "code",
   "execution_count": 55,
   "metadata": {
    "scrolled": false
   },
   "outputs": [
    {
     "data": {
      "text/html": [
       "<table>\n",
       "<thead><tr><th scope=col>name</th><th scope=col>n</th><th scope=col>mean</th><th scope=col>sd</th><th scope=col>FBias</th><th scope=col>MAPE</th><th scope=col>RMSE</th><th scope=col>MAD</th><th scope=col>WMAPE</th></tr></thead>\n",
       "<tbody>\n",
       "\t<tr><td>First Data Set for Stochastic Gradient Boosting</td><td>1977                                           </td><td>7.152757                                       </td><td>16.66787                                       </td><td>-0.2051966                                     </td><td>Inf                                            </td><td>0.3122572                                      </td><td>6.329834                                       </td><td>0.8849503                                      </td></tr>\n",
       "</tbody>\n",
       "</table>\n"
      ],
      "text/latex": [
       "\\begin{tabular}{r|lllllllll}\n",
       " name & n & mean & sd & FBias & MAPE & RMSE & MAD & WMAPE\\\\\n",
       "\\hline\n",
       "\t First Data Set for Stochastic Gradient Boosting & 1977                                            & 7.152757                                        & 16.66787                                        & -0.2051966                                      & Inf                                             & 0.3122572                                       & 6.329834                                        & 0.8849503                                      \\\\\n",
       "\\end{tabular}\n"
      ],
      "text/markdown": [
       "\n",
       "| name | n | mean | sd | FBias | MAPE | RMSE | MAD | WMAPE |\n",
       "|---|---|---|---|---|---|---|---|---|\n",
       "| First Data Set for Stochastic Gradient Boosting | 1977                                            | 7.152757                                        | 16.66787                                        | -0.2051966                                      | Inf                                             | 0.3122572                                       | 6.329834                                        | 0.8849503                                       |\n",
       "\n"
      ],
      "text/plain": [
       "  name                                            n    mean     sd      \n",
       "1 First Data Set for Stochastic Gradient Boosting 1977 7.152757 16.66787\n",
       "  FBias      MAPE RMSE      MAD      WMAPE    \n",
       "1 -0.2051966 Inf  0.3122572 6.329834 0.8849503"
      ]
     },
     "metadata": {},
     "output_type": "display_data"
    }
   ],
   "source": [
    "perf_dt(\"First Data Set for Stochastic Gradient Boosting\",as.numeric(blog_test$target), as.numeric(predicted_blog_sgb))"
   ]
  },
  {
   "cell_type": "markdown",
   "metadata": {},
   "source": [
    "# General Result for 4 Method for Pisa Reading Results"
   ]
  },
  {
   "cell_type": "code",
   "execution_count": 56,
   "metadata": {},
   "outputs": [
    {
     "data": {
      "text/html": [
       "<table>\n",
       "<thead><tr><th scope=col>name</th><th scope=col>n</th><th scope=col>mean</th><th scope=col>sd</th><th scope=col>FBias</th><th scope=col>MAPE</th><th scope=col>RMSE</th><th scope=col>MAD</th><th scope=col>WMAPE</th></tr></thead>\n",
       "<tbody>\n",
       "\t<tr><td>Pisa Data Set for Lasso Function with min lambda and mse objective</td><td>1977                                                              </td><td>7.152757                                                          </td><td>16.66787                                                          </td><td>-0.2301968                                                        </td><td>Inf                                                               </td><td>0.3298626                                                         </td><td>8.726155                                                          </td><td>1.219971                                                          </td></tr>\n",
       "</tbody>\n",
       "</table>\n"
      ],
      "text/latex": [
       "\\begin{tabular}{r|lllllllll}\n",
       " name & n & mean & sd & FBias & MAPE & RMSE & MAD & WMAPE\\\\\n",
       "\\hline\n",
       "\t Pisa Data Set for Lasso Function with min lambda and mse objective & 1977                                                               & 7.152757                                                           & 16.66787                                                           & -0.2301968                                                         & Inf                                                                & 0.3298626                                                          & 8.726155                                                           & 1.219971                                                          \\\\\n",
       "\\end{tabular}\n"
      ],
      "text/markdown": [
       "\n",
       "| name | n | mean | sd | FBias | MAPE | RMSE | MAD | WMAPE |\n",
       "|---|---|---|---|---|---|---|---|---|\n",
       "| Pisa Data Set for Lasso Function with min lambda and mse objective | 1977                                                               | 7.152757                                                           | 16.66787                                                           | -0.2301968                                                         | Inf                                                                | 0.3298626                                                          | 8.726155                                                           | 1.219971                                                           |\n",
       "\n"
      ],
      "text/plain": [
       "  name                                                               n   \n",
       "1 Pisa Data Set for Lasso Function with min lambda and mse objective 1977\n",
       "  mean     sd       FBias      MAPE RMSE      MAD      WMAPE   \n",
       "1 7.152757 16.66787 -0.2301968 Inf  0.3298626 8.726155 1.219971"
      ]
     },
     "metadata": {},
     "output_type": "display_data"
    },
    {
     "data": {
      "text/html": [
       "<table>\n",
       "<thead><tr><th scope=col>name</th><th scope=col>n</th><th scope=col>mean</th><th scope=col>sd</th><th scope=col>FBias</th><th scope=col>MAPE</th><th scope=col>RMSE</th><th scope=col>MAD</th><th scope=col>WMAPE</th></tr></thead>\n",
       "<tbody>\n",
       "\t<tr><td>Decision Tree with CV for Pisa Dataset</td><td>1977                                  </td><td>7.152757                              </td><td>16.66787                              </td><td>-0.211185                             </td><td>NaN                                   </td><td>0.3807407                             </td><td>6.082319                              </td><td>0.8503462                             </td></tr>\n",
       "</tbody>\n",
       "</table>\n"
      ],
      "text/latex": [
       "\\begin{tabular}{r|lllllllll}\n",
       " name & n & mean & sd & FBias & MAPE & RMSE & MAD & WMAPE\\\\\n",
       "\\hline\n",
       "\t Decision Tree with CV for Pisa Dataset & 1977                                   & 7.152757                               & 16.66787                               & -0.211185                              & NaN                                    & 0.3807407                              & 6.082319                               & 0.8503462                             \\\\\n",
       "\\end{tabular}\n"
      ],
      "text/markdown": [
       "\n",
       "| name | n | mean | sd | FBias | MAPE | RMSE | MAD | WMAPE |\n",
       "|---|---|---|---|---|---|---|---|---|\n",
       "| Decision Tree with CV for Pisa Dataset | 1977                                   | 7.152757                               | 16.66787                               | -0.211185                              | NaN                                    | 0.3807407                              | 6.082319                               | 0.8503462                              |\n",
       "\n"
      ],
      "text/plain": [
       "  name                                   n    mean     sd       FBias     MAPE\n",
       "1 Decision Tree with CV for Pisa Dataset 1977 7.152757 16.66787 -0.211185 NaN \n",
       "  RMSE      MAD      WMAPE    \n",
       "1 0.3807407 6.082319 0.8503462"
      ]
     },
     "metadata": {},
     "output_type": "display_data"
    },
    {
     "data": {
      "text/html": [
       "<table>\n",
       "<thead><tr><th scope=col>name</th><th scope=col>n</th><th scope=col>mean</th><th scope=col>sd</th><th scope=col>FBias</th><th scope=col>MAPE</th><th scope=col>RMSE</th><th scope=col>MAD</th><th scope=col>WMAPE</th></tr></thead>\n",
       "<tbody>\n",
       "\t<tr><td>First Data Set for Random Forest</td><td>1977                            </td><td>7.152757                        </td><td>16.66787                        </td><td>-0.2323384                      </td><td>Inf                             </td><td>0.2484009                       </td><td>5.514749                        </td><td>0.7709963                       </td></tr>\n",
       "</tbody>\n",
       "</table>\n"
      ],
      "text/latex": [
       "\\begin{tabular}{r|lllllllll}\n",
       " name & n & mean & sd & FBias & MAPE & RMSE & MAD & WMAPE\\\\\n",
       "\\hline\n",
       "\t First Data Set for Random Forest & 1977                             & 7.152757                         & 16.66787                         & -0.2323384                       & Inf                              & 0.2484009                        & 5.514749                         & 0.7709963                       \\\\\n",
       "\\end{tabular}\n"
      ],
      "text/markdown": [
       "\n",
       "| name | n | mean | sd | FBias | MAPE | RMSE | MAD | WMAPE |\n",
       "|---|---|---|---|---|---|---|---|---|\n",
       "| First Data Set for Random Forest | 1977                             | 7.152757                         | 16.66787                         | -0.2323384                       | Inf                              | 0.2484009                        | 5.514749                         | 0.7709963                        |\n",
       "\n"
      ],
      "text/plain": [
       "  name                             n    mean     sd       FBias      MAPE\n",
       "1 First Data Set for Random Forest 1977 7.152757 16.66787 -0.2323384 Inf \n",
       "  RMSE      MAD      WMAPE    \n",
       "1 0.2484009 5.514749 0.7709963"
      ]
     },
     "metadata": {},
     "output_type": "display_data"
    },
    {
     "data": {
      "text/html": [
       "<table>\n",
       "<thead><tr><th scope=col>name</th><th scope=col>n</th><th scope=col>mean</th><th scope=col>sd</th><th scope=col>FBias</th><th scope=col>MAPE</th><th scope=col>RMSE</th><th scope=col>MAD</th><th scope=col>WMAPE</th></tr></thead>\n",
       "<tbody>\n",
       "\t<tr><td>First Data Set for Stochastic Gradient Boosting</td><td>1977                                           </td><td>7.152757                                       </td><td>16.66787                                       </td><td>-0.2051966                                     </td><td>Inf                                            </td><td>0.3122572                                      </td><td>6.329834                                       </td><td>0.8849503                                      </td></tr>\n",
       "</tbody>\n",
       "</table>\n"
      ],
      "text/latex": [
       "\\begin{tabular}{r|lllllllll}\n",
       " name & n & mean & sd & FBias & MAPE & RMSE & MAD & WMAPE\\\\\n",
       "\\hline\n",
       "\t First Data Set for Stochastic Gradient Boosting & 1977                                            & 7.152757                                        & 16.66787                                        & -0.2051966                                      & Inf                                             & 0.3122572                                       & 6.329834                                        & 0.8849503                                      \\\\\n",
       "\\end{tabular}\n"
      ],
      "text/markdown": [
       "\n",
       "| name | n | mean | sd | FBias | MAPE | RMSE | MAD | WMAPE |\n",
       "|---|---|---|---|---|---|---|---|---|\n",
       "| First Data Set for Stochastic Gradient Boosting | 1977                                            | 7.152757                                        | 16.66787                                        | -0.2051966                                      | Inf                                             | 0.3122572                                       | 6.329834                                        | 0.8849503                                       |\n",
       "\n"
      ],
      "text/plain": [
       "  name                                            n    mean     sd      \n",
       "1 First Data Set for Stochastic Gradient Boosting 1977 7.152757 16.66787\n",
       "  FBias      MAPE RMSE      MAD      WMAPE    \n",
       "1 -0.2051966 Inf  0.3122572 6.329834 0.8849503"
      ]
     },
     "metadata": {},
     "output_type": "display_data"
    }
   ],
   "source": [
    "perf_dt(\"Pisa Data Set for Lasso Function with min lambda and mse objective\", as.numeric(blog_test$target), prediction_pra_mse_blog_1se)\n",
    "perf_dt(\"Decision Tree with CV for Pisa Dataset\",blog_test$target,as.numeric(predicted_blog_dt))\n",
    "perf_dt(\"First Data Set for Random Forest\", as.numeric(blog_test$target), as.numeric(RandomForest_blog))\n",
    "perf_dt(\"First Data Set for Stochastic Gradient Boosting\", as.numeric(blog_test$target), as.numeric(predicted_blog_sgb) )"
   ]
  },
  {
   "cell_type": "code",
   "execution_count": null,
   "metadata": {},
   "outputs": [],
   "source": []
  },
  {
   "cell_type": "code",
   "execution_count": null,
   "metadata": {},
   "outputs": [],
   "source": []
  }
 ],
 "metadata": {
  "kernelspec": {
   "display_name": "R",
   "language": "R",
   "name": "ir"
  },
  "language_info": {
   "codemirror_mode": "r",
   "file_extension": ".r",
   "mimetype": "text/x-r-source",
   "name": "R",
   "pygments_lexer": "r",
   "version": "3.6.1"
  }
 },
 "nbformat": 4,
 "nbformat_minor": 4
}
