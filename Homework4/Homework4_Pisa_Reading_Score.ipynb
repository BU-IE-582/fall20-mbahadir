{
 "cells": [
  {
   "cell_type": "code",
   "execution_count": 2,
   "metadata": {},
   "outputs": [],
   "source": [
    "library(data.table)\n",
    "library(glmnet)\n",
    "library(ggplot2)\n",
    "library(lubridate, quietly=TRUE)\n",
    "library(zoo, quietly = TRUE)\n",
    "library(dplyr, quietly = TRUE)\n",
    "library(GGally, quietly=TRUE)\n",
    "library(caTools)\n",
    "library(rpart)\n",
    "library(rattle)\n",
    "library(caret)\n",
    "library(e1071)\n",
    "library(randomForest)\n",
    "library(gbm)\n",
    "library(fastDummies)"
   ]
  },
  {
   "cell_type": "markdown",
   "metadata": {},
   "source": [
    "### Performance Function"
   ]
  },
  {
   "cell_type": "code",
   "execution_count": 3,
   "metadata": {},
   "outputs": [],
   "source": [
    "perf_dt=function(type,actual,forecast){\n",
    "    name=type\n",
    "    n=length(actual)\n",
    "    error=actual-forecast\n",
    "    mean=mean(actual)\n",
    "    sd=sd(actual)\n",
    "    FBias=sum(error)/sum(actual)\n",
    "    MPE=sum(error/actual)/n\n",
    "    MAPE=sum(abs(error/actual))/n\n",
    "    RMSE=sqrt(sum(error^2))/n\n",
    "    MAD=sum(abs(error))/n\n",
    "    WMAPE=MAD/mean\n",
    "    l=data.frame(name,n,mean,sd,FBias,MAPE,RMSE,MAD,WMAPE)\n",
    "    return(l)\n",
    "}"
   ]
  },
  {
   "cell_type": "markdown",
   "metadata": {},
   "source": [
    "In order to obtain the similar measure performance, a perf_dt function is written. In addition, if target variable categorical, confusionMatrix() function will be used for understanding performance of the model."
   ]
  },
  {
   "cell_type": "markdown",
   "metadata": {},
   "source": [
    "# Pisa Dataset"
   ]
  },
  {
   "cell_type": "markdown",
   "metadata": {},
   "source": [
    "Reading Test Scores\n",
    "The Programme for International Student Assessment (PISA) is a test given every three years to 15-year-old students from around the world to evaluate their performance in mathematics, reading, and science. This test provides a quantitative way to compare the performance of students from different parts of the world. In this homework assignment, we will predict the reading scores of students from the United States of America on the 2009 PISA exam.\n",
    "\n",
    "The datasets pisa2009train.csv and pisa2009test.csv contain information about the demographics and schools for American students taking the exam, derived from 2009 PISA Public-Use Data Files distributed by the United States National Center for Education Statistics (NCES). While the datasets are not supposed to contain identifying information about students taking the test, by using the data you are bound by the NCES data use agreement, which prohibits any attempt to determine the identity of any student in the datasets.\n",
    "\n",
    "Each row in the datasets pisa2009train.csv and pisa2009test.csv represents one student taking the exam. The datasets have the following variables:\n",
    "\n",
    "grade: The grade in school of the student (most 15-year-olds in America are in 10th grade)\n",
    "\n",
    "male: Whether the student is male (1/0)\n",
    "\n",
    "raceeth: The race/ethnicity composite of the student\n",
    "\n",
    "preschool: Whether the student attended preschool (1/0)\n",
    "\n",
    "expectBachelors: Whether the student expects to obtain a bachelor's degree (1/0)\n",
    "\n",
    "motherHS: Whether the student's mother completed high school (1/0)\n",
    "\n",
    "motherBachelors: Whether the student's mother obtained a bachelor's degree (1/0)\n",
    "\n",
    "motherWork: Whether the student's mother has part-time or full-time work (1/0)\n",
    "\n",
    "fatherHS: Whether the student's father completed high school (1/0)\n",
    "\n",
    "fatherBachelors: Whether the student's father obtained a bachelor's degree (1/0)\n",
    "\n",
    "fatherWork: Whether the student's father has part-time or full-time work (1/0)\n",
    "\n",
    "selfBornUS: Whether the student was born in the United States of America (1/0)\n",
    "\n",
    "motherBornUS: Whether the student's mother was born in the United States of America (1/0)\n",
    "\n",
    "fatherBornUS: Whether the student's father was born in the United States of America (1/0)\n",
    "\n",
    "englishAtHome: Whether the student speaks English at home (1/0)\n",
    "\n",
    "computerForSchoolwork: Whether the student has access to a computer for schoolwork (1/0)\n",
    "\n",
    "read30MinsADay: Whether the student reads for pleasure for 30 minutes/day (1/0)\n",
    "\n",
    "minutesPerWeekEnglish: The number of minutes per week the student spend in English class\n",
    "\n",
    "studentsInEnglish: The number of students in this student's English class at school\n",
    "\n",
    "schoolHasLibrary: Whether this student's school has a library (1/0)\n",
    "\n",
    "publicSchool: Whether this student attends a public school (1/0)\n",
    "\n",
    "urban: Whether this student's school is in an urban area (1/0)\n",
    "\n",
    "schoolSize: The number of students in this student's school\n",
    "\n",
    "readingScore: The student's reading score, on a 1000-point scale"
   ]
  },
  {
   "cell_type": "markdown",
   "metadata": {},
   "source": [
    "### Loading Dataset"
   ]
  },
  {
   "cell_type": "code",
   "execution_count": 4,
   "metadata": {},
   "outputs": [],
   "source": [
    "pisa_train=read.csv(\"pisa_train.csv\")\n",
    "pisa_test=read.csv(\"pisa_test.csv\")\n",
    "pisa_train=as.data.table(pisa_train,na.rm=TRUE)\n",
    "pisa_test=as.data.table(pisa_test,na.rm=TRUE)\n",
    "pisa_train=na.omit(pisa_train)\n",
    "pisa_test=na.omit(pisa_test)"
   ]
  },
  {
   "cell_type": "code",
   "execution_count": 5,
   "metadata": {},
   "outputs": [],
   "source": [
    "pisa_train$raceeth=as.factor(as.numeric(pisa_train$raceeth))\n",
    "pisa_test$raceeth=as.factor(as.numeric(pisa_test$raceeth))"
   ]
  },
  {
   "cell_type": "markdown",
   "metadata": {},
   "source": [
    "In this dataset, train and test dataset were seperated. 23 features exist in the data. Train input size is 2414 and test input size is 990. Namely, both of them exceeds the lower bound(200). In addition, target variable is \"readingScore\". readingScores take values in between 0 to 1000, which makes the dataset labeled. \n",
    "\n",
    "This dataset is proper for **Linear Regression** problems. Much as there is some wheter or not question, these values will be used as numeric. The **only factorial** feature is the **raceeth** representing the race of the students."
   ]
  },
  {
   "cell_type": "code",
   "execution_count": 6,
   "metadata": {},
   "outputs": [
    {
     "name": "stdout",
     "output_type": "stream",
     "text": [
      "Classes 'data.table' and 'data.frame':\t2414 obs. of  24 variables:\n",
      " $ grade                : int  11 10 10 10 10 10 10 10 11 9 ...\n",
      " $ male                 : int  1 0 1 0 1 0 0 0 1 1 ...\n",
      " $ raceeth              : Factor w/ 7 levels \"1\",\"2\",\"3\",\"4\",..: 7 3 4 7 5 4 7 4 7 7 ...\n",
      " $ preschool            : int  0 1 1 1 1 1 1 1 1 1 ...\n",
      " $ expectBachelors      : int  0 1 0 1 1 1 1 0 1 1 ...\n",
      " $ motherHS             : int  1 0 1 1 1 1 1 0 1 1 ...\n",
      " $ motherBachelors      : int  1 0 0 0 1 0 0 0 0 1 ...\n",
      " $ motherWork           : int  1 1 1 0 1 1 1 0 0 1 ...\n",
      " $ fatherHS             : int  1 1 1 1 0 1 1 0 1 1 ...\n",
      " $ fatherBachelors      : int  0 0 0 0 0 0 1 0 1 1 ...\n",
      " $ fatherWork           : int  1 1 0 1 1 0 1 1 1 1 ...\n",
      " $ selfBornUS           : int  1 1 1 1 1 0 1 0 1 1 ...\n",
      " $ motherBornUS         : int  1 1 1 1 1 0 1 0 1 1 ...\n",
      " $ fatherBornUS         : int  1 1 0 1 1 0 1 0 1 1 ...\n",
      " $ englishAtHome        : int  1 1 1 1 1 0 1 0 1 1 ...\n",
      " $ computerForSchoolwork: int  1 1 1 1 1 0 1 1 1 1 ...\n",
      " $ read30MinsADay       : int  1 1 1 1 0 1 1 1 0 0 ...\n",
      " $ minutesPerWeekEnglish: int  450 200 250 300 294 232 225 270 275 225 ...\n",
      " $ studentsInEnglish    : int  25 23 35 30 24 14 20 25 30 15 ...\n",
      " $ schoolHasLibrary     : int  1 1 1 1 1 1 1 1 1 1 ...\n",
      " $ publicSchool         : int  1 1 1 1 1 1 1 1 1 0 ...\n",
      " $ urban                : int  0 1 1 0 0 0 0 1 1 1 ...\n",
      " $ schoolSize           : int  1173 2640 1095 1913 899 1733 149 1400 1988 915 ...\n",
      " $ readingScore         : num  575 458 614 439 466 ...\n",
      " - attr(*, \".internal.selfref\")=<externalptr> \n"
     ]
    }
   ],
   "source": [
    "str(pisa_train)"
   ]
  },
  {
   "cell_type": "code",
   "execution_count": 7,
   "metadata": {},
   "outputs": [
    {
     "name": "stdout",
     "output_type": "stream",
     "text": [
      "Classes 'data.table' and 'data.frame':\t990 obs. of  24 variables:\n",
      " $ grade                : int  10 10 10 10 11 10 10 10 10 10 ...\n",
      " $ male                 : int  0 0 0 0 0 1 0 1 1 0 ...\n",
      " $ raceeth              : Factor w/ 7 levels \"1\",\"2\",\"3\",\"4\",..: 7 7 1 7 7 4 7 4 7 4 ...\n",
      " $ preschool            : int  1 1 1 1 0 1 0 1 1 1 ...\n",
      " $ expectBachelors      : int  0 1 0 0 0 1 1 0 1 1 ...\n",
      " $ motherHS             : int  1 1 1 1 1 1 1 1 1 1 ...\n",
      " $ motherBachelors      : int  1 0 0 0 1 1 0 0 1 0 ...\n",
      " $ motherWork           : int  1 0 0 1 1 1 0 1 1 1 ...\n",
      " $ fatherHS             : int  1 1 1 1 1 1 1 1 1 1 ...\n",
      " $ fatherBachelors      : int  0 1 0 0 1 0 0 0 1 1 ...\n",
      " $ fatherWork           : int  0 1 0 1 1 1 1 0 1 1 ...\n",
      " $ selfBornUS           : int  1 1 1 1 1 1 1 1 1 1 ...\n",
      " $ motherBornUS         : int  1 1 1 1 1 1 1 1 1 1 ...\n",
      " $ fatherBornUS         : int  1 1 1 1 1 1 1 1 1 1 ...\n",
      " $ englishAtHome        : int  1 1 1 1 1 1 1 1 1 1 ...\n",
      " $ computerForSchoolwork: int  1 1 1 1 1 1 1 1 1 1 ...\n",
      " $ read30MinsADay       : int  0 0 1 1 1 1 0 0 0 1 ...\n",
      " $ minutesPerWeekEnglish: int  240 240 240 270 270 350 350 360 350 360 ...\n",
      " $ studentsInEnglish    : int  30 30 30 35 30 25 27 28 25 27 ...\n",
      " $ schoolHasLibrary     : int  1 1 1 1 1 1 1 1 1 1 ...\n",
      " $ publicSchool         : int  1 1 1 1 1 1 1 1 1 1 ...\n",
      " $ urban                : int  0 0 0 0 0 0 0 0 0 0 ...\n",
      " $ schoolSize           : int  808 808 808 808 808 899 899 899 899 899 ...\n",
      " $ readingScore         : num  355 454 405 665 605 ...\n",
      " - attr(*, \".internal.selfref\")=<externalptr> \n"
     ]
    }
   ],
   "source": [
    "str(pisa_test)"
   ]
  },
  {
   "cell_type": "markdown",
   "metadata": {},
   "source": [
    "# Penalized Regression Approaches(PRA)"
   ]
  },
  {
   "cell_type": "markdown",
   "metadata": {},
   "source": [
    "### L1 Penalty with Mean Square Error measure"
   ]
  },
  {
   "cell_type": "markdown",
   "metadata": {},
   "source": [
    "In order to tune lambda values, glmnet packages are used to get best lambda values for Penalized Regression. "
   ]
  },
  {
   "cell_type": "code",
   "execution_count": 8,
   "metadata": {},
   "outputs": [],
   "source": [
    "train_mat_pisa=data.matrix(pisa_train[complete.cases(pisa_train),-c(\"readingScore\"),with=F])\n",
    "\n",
    "result_vec_pisa=as.vector(t(pisa_train[complete.cases(pisa_train),\"readingScore\"]))\n",
    "\n",
    "cvfit_pisa=cv.glmnet(train_mat_pisa,result_vec_pisa,family=\"gaussian\",nfolds = 10,type.measure = \"mse\")\n",
    "\n",
    "test_mat_pisa=data.matrix(pisa_test[complete.cases(pisa_test),-c(\"readingScore\")])\n",
    "\n",
    "lasso_model_pisa_mse_min <- glmnet(train_mat_pisa,result_vec_pisa, alpha = 1, lambda = cvfit_pisa$lambda.min, standardize = FALSE)\n",
    "lasso_model_pisa_mse_1se <- glmnet(train_mat_pisa,result_vec_pisa, alpha = 1, lambda = cvfit_pisa$lambda.1se, standardize = FALSE)\n",
    "lasso_model_pisa_mse_10th <- glmnet(train_mat_pisa,result_vec_pisa, alpha = 1, lambda = cvfit_pisa$lambda[10], standardize = FALSE)"
   ]
  },
  {
   "cell_type": "code",
   "execution_count": 9,
   "metadata": {},
   "outputs": [
    {
     "data": {
      "image/png": "[encoded data removed]",
      "text/plain": [
       "plot without title"
      ]
     },
     "metadata": {},
     "output_type": "display_data"
    }
   ],
   "source": [
    "plot(cvfit_pisa)"
   ]
  },
  {
   "cell_type": "markdown",
   "metadata": {},
   "source": [
    "### Lambda Values for Mean Square Error Values"
   ]
  },
  {
   "cell_type": "code",
   "execution_count": 10,
   "metadata": {},
   "outputs": [
    {
     "data": {
      "text/html": [
       "0.322129285811919"
      ],
      "text/latex": [
       "0.322129285811919"
      ],
      "text/markdown": [
       "0.322129285811919"
      ],
      "text/plain": [
       "[1] 0.3221293"
      ]
     },
     "metadata": {},
     "output_type": "display_data"
    }
   ],
   "source": [
    "cvfit_pisa$lambda.min"
   ]
  },
  {
   "cell_type": "code",
   "execution_count": 11,
   "metadata": {},
   "outputs": [
    {
     "data": {
      "text/html": [
       "4.35856312237393"
      ],
      "text/latex": [
       "4.35856312237393"
      ],
      "text/markdown": [
       "4.35856312237393"
      ],
      "text/plain": [
       "[1] 4.358563"
      ]
     },
     "metadata": {},
     "output_type": "display_data"
    }
   ],
   "source": [
    "cvfit_pisa$lambda.1se"
   ]
  },
  {
   "cell_type": "code",
   "execution_count": 12,
   "metadata": {},
   "outputs": [
    {
     "data": {
      "text/html": [
       "13.3104219880205"
      ],
      "text/latex": [
       "13.3104219880205"
      ],
      "text/markdown": [
       "13.3104219880205"
      ],
      "text/plain": [
       "[1] 13.31042"
      ]
     },
     "metadata": {},
     "output_type": "display_data"
    }
   ],
   "source": [
    "cvfit_pisa$lambda[10]"
   ]
  },
  {
   "cell_type": "markdown",
   "metadata": {},
   "source": [
    "2 possible lambda values are determined by the cv.glmnet(). One of them is used for getting minimum Mean-Squared Error. The other one is determined by looking how many paramater is used in the model. Namely, this lambda value can be beneficial for reducing the possibility of over-fitting model on train dataset. Lastly, one random lambda was selected to compare results for these 3 lambda values."
   ]
  },
  {
   "cell_type": "code",
   "execution_count": 13,
   "metadata": {},
   "outputs": [],
   "source": [
    "prediction_pra_mse_pisa_min <- predict(lasso_model_pisa_mse_min, s = cvfit_pisa$lambda.min, newx = test_mat_pisa)\n",
    "prediction_pra_mse_pisa_1se <- predict(lasso_model_pisa_mse_1se, s = cvfit_pisa$lambda.1se, newx = test_mat_pisa)\n",
    "prediction_pra_mse_pisa_10th <- predict(lasso_model_pisa_mse_10th, s = cvfit_pisa$lambda[10], newx = test_mat_pisa)"
   ]
  },
  {
   "cell_type": "markdown",
   "metadata": {},
   "source": [
    "## L1 Penalty with Mean Absolute Error measure"
   ]
  },
  {
   "cell_type": "code",
   "execution_count": 14,
   "metadata": {},
   "outputs": [],
   "source": [
    "train_mat_pisa=data.matrix(pisa_train[complete.cases(pisa_train),-c(\"readingScore\"),with=F])\n",
    "\n",
    "result_vec_pisa=as.vector(t(pisa_train[complete.cases(pisa_train),\"readingScore\"]))\n",
    "\n",
    "cvfit_pisa_mae=cv.glmnet(train_mat_pisa,result_vec_pisa,family=\"gaussian\",nfolds = 10,type.measure=\"mae\")\n",
    "\n",
    "test_mat_pisa=data.matrix(pisa_test[complete.cases(pisa_test),-c(\"readingScore\")])\n",
    "\n",
    "lasso_model_pisa_mae_min <- glmnet(train_mat_pisa,result_vec_pisa, alpha = 1, lambda = cvfit_pisa_mae$lambda.min, standardize = FALSE)\n",
    "lasso_model_pisa_mae_1se <- glmnet(train_mat_pisa,result_vec_pisa, alpha = 1, lambda = cvfit_pisa_mae$lambda.1se, standardize = FALSE)\n",
    "lasso_model_pisa_mae_10th <- glmnet(train_mat_pisa,result_vec_pisa, alpha = 1, lambda = cvfit_pisa_mae$lambda[10], standardize = FALSE)"
   ]
  },
  {
   "cell_type": "code",
   "execution_count": 15,
   "metadata": {},
   "outputs": [
    {
     "data": {
      "image/png": "[encoded data removed]",
      "text/plain": [
       "plot without title"
      ]
     },
     "metadata": {},
     "output_type": "display_data"
    }
   ],
   "source": [
    "plot(cvfit_pisa_mae)"
   ]
  },
  {
   "cell_type": "markdown",
   "metadata": {},
   "source": [
    "### Lambda Values for Mean Absolute Error Values"
   ]
  },
  {
   "cell_type": "code",
   "execution_count": 16,
   "metadata": {},
   "outputs": [
    {
     "data": {
      "text/html": [
       "0.139442078101294"
      ],
      "text/latex": [
       "0.139442078101294"
      ],
      "text/markdown": [
       "0.139442078101294"
      ],
      "text/plain": [
       "[1] 0.1394421"
      ]
     },
     "metadata": {},
     "output_type": "display_data"
    }
   ],
   "source": [
    "cvfit_pisa_mae$lambda.min"
   ]
  },
  {
   "cell_type": "code",
   "execution_count": 17,
   "metadata": {},
   "outputs": [
    {
     "data": {
      "text/html": [
       "3.97136038762966"
      ],
      "text/latex": [
       "3.97136038762966"
      ],
      "text/markdown": [
       "3.97136038762966"
      ],
      "text/plain": [
       "[1] 3.97136"
      ]
     },
     "metadata": {},
     "output_type": "display_data"
    }
   ],
   "source": [
    "cvfit_pisa_mae$lambda.1se"
   ]
  },
  {
   "cell_type": "code",
   "execution_count": 18,
   "metadata": {},
   "outputs": [
    {
     "data": {
      "text/html": [
       "13.3104219880205"
      ],
      "text/latex": [
       "13.3104219880205"
      ],
      "text/markdown": [
       "13.3104219880205"
      ],
      "text/plain": [
       "[1] 13.31042"
      ]
     },
     "metadata": {},
     "output_type": "display_data"
    }
   ],
   "source": [
    "cvfit_pisa_mae$lambda[10]"
   ]
  },
  {
   "cell_type": "markdown",
   "metadata": {},
   "source": [
    "2 possible lambda values are determined by the cv.glmnet(). One of them is used for getting minimum Mean-Squared Error. The other one is determined by looking how many paramater is used in the model. Namely, this lambda value can be beneficial for reducing the possibility of over-fitting model on train dataset. Lastly, one random lambda was selected to compare results for these 3 lambda values."
   ]
  },
  {
   "cell_type": "code",
   "execution_count": 19,
   "metadata": {},
   "outputs": [],
   "source": [
    "prediction_pra_mae_pisa_min <- predict(lasso_model_pisa_mae_min, s = cvfit_pisa_mae$lambda.min, newx = test_mat_pisa)\n",
    "prediction_pra_mae_pisa_1se <- predict(lasso_model_pisa_mae_1se, s = cvfit_pisa_mae$lambda.1se, newx = test_mat_pisa)\n",
    "prediction_pra_mae_pisa_10th <- predict(lasso_model_pisa_mae_10th, s = cvfit_pisa_mae$lambda[10], newx = test_mat_pisa)"
   ]
  },
  {
   "cell_type": "markdown",
   "metadata": {},
   "source": [
    "### Performance Measure for Lasso Regression"
   ]
  },
  {
   "cell_type": "code",
   "execution_count": 20,
   "metadata": {
    "scrolled": false
   },
   "outputs": [
    {
     "data": {
      "text/html": [
       "<table>\n",
       "<thead><tr><th scope=col>name</th><th scope=col>n</th><th scope=col>mean</th><th scope=col>sd</th><th scope=col>FBias</th><th scope=col>MAPE</th><th scope=col>RMSE</th><th scope=col>MAD</th><th scope=col>WMAPE</th></tr></thead>\n",
       "<tbody>\n",
       "\t<tr><td>Pisa Data Set for Lasso Function with min lambda and mse objective</td><td>990                                                               </td><td>519.8643                                                          </td><td>88.80043                                                          </td><td>0.007059544                                                       </td><td>0.1221016                                                         </td><td>2.436743                                                          </td><td>60.67282                                                          </td><td>0.116709                                                          </td></tr>\n",
       "</tbody>\n",
       "</table>\n"
      ],
      "text/latex": [
       "\\begin{tabular}{r|lllllllll}\n",
       " name & n & mean & sd & FBias & MAPE & RMSE & MAD & WMAPE\\\\\n",
       "\\hline\n",
       "\t Pisa Data Set for Lasso Function with min lambda and mse objective & 990                                                                & 519.8643                                                           & 88.80043                                                           & 0.007059544                                                        & 0.1221016                                                          & 2.436743                                                           & 60.67282                                                           & 0.116709                                                          \\\\\n",
       "\\end{tabular}\n"
      ],
      "text/markdown": [
       "\n",
       "| name | n | mean | sd | FBias | MAPE | RMSE | MAD | WMAPE |\n",
       "|---|---|---|---|---|---|---|---|---|\n",
       "| Pisa Data Set for Lasso Function with min lambda and mse objective | 990                                                                | 519.8643                                                           | 88.80043                                                           | 0.007059544                                                        | 0.1221016                                                          | 2.436743                                                           | 60.67282                                                           | 0.116709                                                           |\n",
       "\n"
      ],
      "text/plain": [
       "  name                                                               n  \n",
       "1 Pisa Data Set for Lasso Function with min lambda and mse objective 990\n",
       "  mean     sd       FBias       MAPE      RMSE     MAD      WMAPE   \n",
       "1 519.8643 88.80043 0.007059544 0.1221016 2.436743 60.67282 0.116709"
      ]
     },
     "metadata": {},
     "output_type": "display_data"
    },
    {
     "data": {
      "text/html": [
       "<table>\n",
       "<thead><tr><th scope=col>name</th><th scope=col>n</th><th scope=col>mean</th><th scope=col>sd</th><th scope=col>FBias</th><th scope=col>MAPE</th><th scope=col>RMSE</th><th scope=col>MAD</th><th scope=col>WMAPE</th></tr></thead>\n",
       "<tbody>\n",
       "\t<tr><td>Pisa Data Set for Lasso Function with 1se lambda and mse objective</td><td>990                                                               </td><td>519.8643                                                          </td><td>88.80043                                                          </td><td>0.00595535                                                        </td><td>0.1254263                                                         </td><td>2.486058                                                          </td><td>62.00751                                                          </td><td>0.1192763                                                         </td></tr>\n",
       "</tbody>\n",
       "</table>\n"
      ],
      "text/latex": [
       "\\begin{tabular}{r|lllllllll}\n",
       " name & n & mean & sd & FBias & MAPE & RMSE & MAD & WMAPE\\\\\n",
       "\\hline\n",
       "\t Pisa Data Set for Lasso Function with 1se lambda and mse objective & 990                                                                & 519.8643                                                           & 88.80043                                                           & 0.00595535                                                         & 0.1254263                                                          & 2.486058                                                           & 62.00751                                                           & 0.1192763                                                         \\\\\n",
       "\\end{tabular}\n"
      ],
      "text/markdown": [
       "\n",
       "| name | n | mean | sd | FBias | MAPE | RMSE | MAD | WMAPE |\n",
       "|---|---|---|---|---|---|---|---|---|\n",
       "| Pisa Data Set for Lasso Function with 1se lambda and mse objective | 990                                                                | 519.8643                                                           | 88.80043                                                           | 0.00595535                                                         | 0.1254263                                                          | 2.486058                                                           | 62.00751                                                           | 0.1192763                                                          |\n",
       "\n"
      ],
      "text/plain": [
       "  name                                                               n  \n",
       "1 Pisa Data Set for Lasso Function with 1se lambda and mse objective 990\n",
       "  mean     sd       FBias      MAPE      RMSE     MAD      WMAPE    \n",
       "1 519.8643 88.80043 0.00595535 0.1254263 2.486058 62.00751 0.1192763"
      ]
     },
     "metadata": {},
     "output_type": "display_data"
    },
    {
     "data": {
      "text/html": [
       "<table>\n",
       "<thead><tr><th scope=col>name</th><th scope=col>n</th><th scope=col>mean</th><th scope=col>sd</th><th scope=col>FBias</th><th scope=col>MAPE</th><th scope=col>RMSE</th><th scope=col>MAD</th><th scope=col>WMAPE</th></tr></thead>\n",
       "<tbody>\n",
       "\t<tr><td>Pisa Data Set for Lasso Function with 10th lambda and mse objective</td><td>990                                                                </td><td>519.8643                                                           </td><td>88.80043                                                           </td><td>0.00334385                                                         </td><td>0.1397751                                                          </td><td>2.733464                                                           </td><td>68.49831                                                           </td><td>0.1317619                                                          </td></tr>\n",
       "</tbody>\n",
       "</table>\n"
      ],
      "text/latex": [
       "\\begin{tabular}{r|lllllllll}\n",
       " name & n & mean & sd & FBias & MAPE & RMSE & MAD & WMAPE\\\\\n",
       "\\hline\n",
       "\t Pisa Data Set for Lasso Function with 10th lambda and mse objective & 990                                                                 & 519.8643                                                            & 88.80043                                                            & 0.00334385                                                          & 0.1397751                                                           & 2.733464                                                            & 68.49831                                                            & 0.1317619                                                          \\\\\n",
       "\\end{tabular}\n"
      ],
      "text/markdown": [
       "\n",
       "| name | n | mean | sd | FBias | MAPE | RMSE | MAD | WMAPE |\n",
       "|---|---|---|---|---|---|---|---|---|\n",
       "| Pisa Data Set for Lasso Function with 10th lambda and mse objective | 990                                                                 | 519.8643                                                            | 88.80043                                                            | 0.00334385                                                          | 0.1397751                                                           | 2.733464                                                            | 68.49831                                                            | 0.1317619                                                           |\n",
       "\n"
      ],
      "text/plain": [
       "  name                                                                n  \n",
       "1 Pisa Data Set for Lasso Function with 10th lambda and mse objective 990\n",
       "  mean     sd       FBias      MAPE      RMSE     MAD      WMAPE    \n",
       "1 519.8643 88.80043 0.00334385 0.1397751 2.733464 68.49831 0.1317619"
      ]
     },
     "metadata": {},
     "output_type": "display_data"
    },
    {
     "data": {
      "text/html": [
       "<table>\n",
       "<thead><tr><th scope=col>name</th><th scope=col>n</th><th scope=col>mean</th><th scope=col>sd</th><th scope=col>FBias</th><th scope=col>MAPE</th><th scope=col>RMSE</th><th scope=col>MAD</th><th scope=col>WMAPE</th></tr></thead>\n",
       "<tbody>\n",
       "\t<tr><td>Pisa Data Set for Lasso Function with min lambda and mae objective</td><td>990                                                               </td><td>519.8643                                                          </td><td>88.80043                                                          </td><td>0.007075397                                                       </td><td>0.1223196                                                         </td><td>2.441894                                                          </td><td>60.80408                                                          </td><td>0.1169614                                                         </td></tr>\n",
       "</tbody>\n",
       "</table>\n"
      ],
      "text/latex": [
       "\\begin{tabular}{r|lllllllll}\n",
       " name & n & mean & sd & FBias & MAPE & RMSE & MAD & WMAPE\\\\\n",
       "\\hline\n",
       "\t Pisa Data Set for Lasso Function with min lambda and mae objective & 990                                                                & 519.8643                                                           & 88.80043                                                           & 0.007075397                                                        & 0.1223196                                                          & 2.441894                                                           & 60.80408                                                           & 0.1169614                                                         \\\\\n",
       "\\end{tabular}\n"
      ],
      "text/markdown": [
       "\n",
       "| name | n | mean | sd | FBias | MAPE | RMSE | MAD | WMAPE |\n",
       "|---|---|---|---|---|---|---|---|---|\n",
       "| Pisa Data Set for Lasso Function with min lambda and mae objective | 990                                                                | 519.8643                                                           | 88.80043                                                           | 0.007075397                                                        | 0.1223196                                                          | 2.441894                                                           | 60.80408                                                           | 0.1169614                                                          |\n",
       "\n"
      ],
      "text/plain": [
       "  name                                                               n  \n",
       "1 Pisa Data Set for Lasso Function with min lambda and mae objective 990\n",
       "  mean     sd       FBias       MAPE      RMSE     MAD      WMAPE    \n",
       "1 519.8643 88.80043 0.007075397 0.1223196 2.441894 60.80408 0.1169614"
      ]
     },
     "metadata": {},
     "output_type": "display_data"
    },
    {
     "data": {
      "text/html": [
       "<table>\n",
       "<thead><tr><th scope=col>name</th><th scope=col>n</th><th scope=col>mean</th><th scope=col>sd</th><th scope=col>FBias</th><th scope=col>MAPE</th><th scope=col>RMSE</th><th scope=col>MAD</th><th scope=col>WMAPE</th></tr></thead>\n",
       "<tbody>\n",
       "\t<tr><td>Pisa Data Set for Lasso Function with 1se lambda and mae objective</td><td>990                                                               </td><td>519.8643                                                          </td><td>88.80043                                                          </td><td>0.006143376                                                       </td><td>0.1249088                                                         </td><td>2.478112                                                          </td><td>61.78621                                                          </td><td>0.1188506                                                         </td></tr>\n",
       "</tbody>\n",
       "</table>\n"
      ],
      "text/latex": [
       "\\begin{tabular}{r|lllllllll}\n",
       " name & n & mean & sd & FBias & MAPE & RMSE & MAD & WMAPE\\\\\n",
       "\\hline\n",
       "\t Pisa Data Set for Lasso Function with 1se lambda and mae objective & 990                                                                & 519.8643                                                           & 88.80043                                                           & 0.006143376                                                        & 0.1249088                                                          & 2.478112                                                           & 61.78621                                                           & 0.1188506                                                         \\\\\n",
       "\\end{tabular}\n"
      ],
      "text/markdown": [
       "\n",
       "| name | n | mean | sd | FBias | MAPE | RMSE | MAD | WMAPE |\n",
       "|---|---|---|---|---|---|---|---|---|\n",
       "| Pisa Data Set for Lasso Function with 1se lambda and mae objective | 990                                                                | 519.8643                                                           | 88.80043                                                           | 0.006143376                                                        | 0.1249088                                                          | 2.478112                                                           | 61.78621                                                           | 0.1188506                                                          |\n",
       "\n"
      ],
      "text/plain": [
       "  name                                                               n  \n",
       "1 Pisa Data Set for Lasso Function with 1se lambda and mae objective 990\n",
       "  mean     sd       FBias       MAPE      RMSE     MAD      WMAPE    \n",
       "1 519.8643 88.80043 0.006143376 0.1249088 2.478112 61.78621 0.1188506"
      ]
     },
     "metadata": {},
     "output_type": "display_data"
    },
    {
     "data": {
      "text/html": [
       "<table>\n",
       "<thead><tr><th scope=col>name</th><th scope=col>n</th><th scope=col>mean</th><th scope=col>sd</th><th scope=col>FBias</th><th scope=col>MAPE</th><th scope=col>RMSE</th><th scope=col>MAD</th><th scope=col>WMAPE</th></tr></thead>\n",
       "<tbody>\n",
       "\t<tr><td>Pisa Data Set for Lasso Function with 10th lambda and mae objective</td><td>990                                                                </td><td>519.8643                                                           </td><td>88.80043                                                           </td><td>0.00334385                                                         </td><td>0.1397751                                                          </td><td>2.733464                                                           </td><td>68.49831                                                           </td><td>0.1317619                                                          </td></tr>\n",
       "</tbody>\n",
       "</table>\n"
      ],
      "text/latex": [
       "\\begin{tabular}{r|lllllllll}\n",
       " name & n & mean & sd & FBias & MAPE & RMSE & MAD & WMAPE\\\\\n",
       "\\hline\n",
       "\t Pisa Data Set for Lasso Function with 10th lambda and mae objective & 990                                                                 & 519.8643                                                            & 88.80043                                                            & 0.00334385                                                          & 0.1397751                                                           & 2.733464                                                            & 68.49831                                                            & 0.1317619                                                          \\\\\n",
       "\\end{tabular}\n"
      ],
      "text/markdown": [
       "\n",
       "| name | n | mean | sd | FBias | MAPE | RMSE | MAD | WMAPE |\n",
       "|---|---|---|---|---|---|---|---|---|\n",
       "| Pisa Data Set for Lasso Function with 10th lambda and mae objective | 990                                                                 | 519.8643                                                            | 88.80043                                                            | 0.00334385                                                          | 0.1397751                                                           | 2.733464                                                            | 68.49831                                                            | 0.1317619                                                           |\n",
       "\n"
      ],
      "text/plain": [
       "  name                                                                n  \n",
       "1 Pisa Data Set for Lasso Function with 10th lambda and mae objective 990\n",
       "  mean     sd       FBias      MAPE      RMSE     MAD      WMAPE    \n",
       "1 519.8643 88.80043 0.00334385 0.1397751 2.733464 68.49831 0.1317619"
      ]
     },
     "metadata": {},
     "output_type": "display_data"
    }
   ],
   "source": [
    "perf_dt(\"Pisa Data Set for Lasso Function with min lambda and mse objective\", as.numeric(pisa_test$readingScore), prediction_pra_mse_pisa_min)\n",
    "perf_dt(\"Pisa Data Set for Lasso Function with 1se lambda and mse objective\", as.numeric(pisa_test$readingScore), prediction_pra_mse_pisa_1se)\n",
    "perf_dt(\"Pisa Data Set for Lasso Function with 10th lambda and mse objective\", as.numeric(pisa_test$readingScore), prediction_pra_mse_pisa_10th)\n",
    "\n",
    "perf_dt(\"Pisa Data Set for Lasso Function with min lambda and mae objective\", as.numeric(pisa_test$readingScore), prediction_pra_mae_pisa_min)\n",
    "perf_dt(\"Pisa Data Set for Lasso Function with 1se lambda and mae objective\", as.numeric(pisa_test$readingScore), prediction_pra_mae_pisa_1se)\n",
    "perf_dt(\"Pisa Data Set for Lasso Function with 10th lambda and mae objective\", as.numeric(pisa_test$readingScore), prediction_pra_mae_pisa_10th)"
   ]
  },
  {
   "cell_type": "markdown",
   "metadata": {},
   "source": [
    "# Decision Tree(DT)"
   ]
  },
  {
   "cell_type": "code",
   "execution_count": 21,
   "metadata": {},
   "outputs": [],
   "source": [
    "set.seed(35)"
   ]
  },
  {
   "cell_type": "code",
   "execution_count": 22,
   "metadata": {},
   "outputs": [],
   "source": [
    "pisa_train_dt=cbind(pisa_train,dummy_cols(pisa_train$raceeth)[2:8])\n",
    "pisa_test_dt=cbind(pisa_test,dummy_cols(pisa_test$raceeth)[2:8])\n",
    "pisa_train_dt[,raceeth:=NULL]\n",
    "pisa_test_dt[,raceeth:=NULL]"
   ]
  },
  {
   "cell_type": "code",
   "execution_count": 23,
   "metadata": {
    "scrolled": false
   },
   "outputs": [
    {
     "name": "stdout",
     "output_type": "stream",
     "text": [
      "CART \n",
      "\n",
      "2414 samples\n",
      "  29 predictor\n",
      "\n",
      "No pre-processing\n",
      "Resampling: Cross-Validated (10 fold) \n",
      "Summary of sample sizes: 2173, 2172, 2172, 2171, 2173, 2174, ... \n",
      "Resampling results across tuning parameters:\n",
      "\n",
      "  cp    RMSE      Rsquared   MAE     \n",
      "  0.00  86.50066  0.1746239  69.09722\n",
      "  0.01  80.11652  0.2001995  64.42273\n",
      "  0.02  81.56068  0.1699200  65.52759\n",
      "  0.03  81.70770  0.1660326  65.69102\n",
      "  0.04  81.70770  0.1660326  65.69102\n",
      "  0.05  81.70770  0.1660326  65.69102\n",
      "  0.06  83.96370  0.1179701  67.73135\n",
      "  0.07  83.84534  0.1192076  67.71352\n",
      "  0.08  83.84534  0.1192076  67.71352\n",
      "  0.09  83.84534  0.1192076  67.71352\n",
      "  0.10  83.84534  0.1192076  67.71352\n",
      "\n",
      "RMSE was used to select the optimal model using the smallest value.\n",
      "The final value used for the model was cp = 0.01.\n",
      "CART \n",
      "\n",
      "2414 samples\n",
      "  29 predictor\n",
      "\n",
      "No pre-processing\n",
      "Resampling: Cross-Validated (10 fold) \n",
      "Summary of sample sizes: 2172, 2174, 2173, 2173, 2173, 2173, ... \n",
      "Resampling results across tuning parameters:\n",
      "\n",
      "  cp    RMSE      Rsquared   MAE     \n",
      "  0.00  84.40135  0.1892707  67.17012\n",
      "  0.01  79.62024  0.2077726  63.59100\n",
      "  0.02  81.02483  0.1782161  65.09079\n",
      "  0.03  81.20418  0.1742049  65.30184\n",
      "  0.04  81.20418  0.1742049  65.30184\n",
      "  0.05  81.75009  0.1630827  65.63570\n",
      "  0.06  83.84831  0.1209052  67.73224\n",
      "  0.07  83.84831  0.1209052  67.73224\n",
      "  0.08  83.84831  0.1209052  67.73224\n",
      "  0.09  83.84831  0.1209052  67.73224\n",
      "  0.10  83.84831  0.1209052  67.73224\n",
      "\n",
      "RMSE was used to select the optimal model using the smallest value.\n",
      "The final value used for the model was cp = 0.01.\n"
     ]
    },
    {
     "data": {
      "image/png": "[encoded data removed]",
      "text/plain": [
       "plot without title"
      ]
     },
     "metadata": {},
     "output_type": "display_data"
    },
    {
     "name": "stdout",
     "output_type": "stream",
     "text": [
      "CART \n",
      "\n",
      "2414 samples\n",
      "  29 predictor\n",
      "\n",
      "No pre-processing\n",
      "Resampling: Cross-Validated (10 fold) \n",
      "Summary of sample sizes: 2174, 2172, 2173, 2173, 2174, 2173, ... \n",
      "Resampling results across tuning parameters:\n",
      "\n",
      "  cp    RMSE      Rsquared   MAE     \n",
      "  0.00  83.10623  0.2042705  65.92511\n",
      "  0.01  79.72072  0.2072557  63.77333\n",
      "  0.02  81.27668  0.1747838  65.12713\n",
      "  0.03  81.59061  0.1682998  65.65572\n",
      "  0.04  81.59061  0.1682998  65.65572\n",
      "  0.05  81.59061  0.1682998  65.65572\n",
      "  0.06  83.83757  0.1216271  67.73349\n",
      "  0.07  83.83757  0.1216271  67.73349\n",
      "  0.08  83.83757  0.1216271  67.73349\n",
      "  0.09  83.83757  0.1216271  67.73349\n",
      "  0.10  83.83757  0.1216271  67.73349\n",
      "\n",
      "RMSE was used to select the optimal model using the smallest value.\n",
      "The final value used for the model was cp = 0.01.\n"
     ]
    },
    {
     "data": {
      "image/png": "[encoded data removed]",
      "text/plain": [
       "plot without title"
      ]
     },
     "metadata": {},
     "output_type": "display_data"
    },
    {
     "name": "stdout",
     "output_type": "stream",
     "text": [
      "CART \n",
      "\n",
      "2414 samples\n",
      "  29 predictor\n",
      "\n",
      "No pre-processing\n",
      "Resampling: Cross-Validated (10 fold) \n",
      "Summary of sample sizes: 2174, 2173, 2173, 2172, 2172, 2172, ... \n",
      "Resampling results across tuning parameters:\n",
      "\n",
      "  cp    RMSE      Rsquared   MAE     \n",
      "  0.00  82.58844  0.2064691  65.76560\n",
      "  0.01  79.67005  0.2082959  63.81894\n",
      "  0.02  81.59098  0.1688634  65.54886\n",
      "  0.03  81.78121  0.1636208  65.76019\n",
      "  0.04  81.78121  0.1636208  65.76019\n",
      "  0.05  82.09565  0.1571104  66.13777\n",
      "  0.06  83.83054  0.1225344  67.63578\n",
      "  0.07  83.87788  0.1219992  67.74730\n",
      "  0.08  83.87788  0.1219992  67.74730\n",
      "  0.09  83.87788  0.1219992  67.74730\n",
      "  0.10  83.87788  0.1219992  67.74730\n",
      "\n",
      "RMSE was used to select the optimal model using the smallest value.\n",
      "The final value used for the model was cp = 0.01.\n"
     ]
    },
    {
     "data": {
      "image/png": "[encoded data removed]",
      "text/plain": [
       "plot without title"
      ]
     },
     "metadata": {},
     "output_type": "display_data"
    },
    {
     "name": "stdout",
     "output_type": "stream",
     "text": [
      "CART \n",
      "\n",
      "2414 samples\n",
      "  29 predictor\n",
      "\n",
      "No pre-processing\n",
      "Resampling: Cross-Validated (10 fold) \n",
      "Summary of sample sizes: 2174, 2173, 2171, 2172, 2173, 2173, ... \n",
      "Resampling results across tuning parameters:\n",
      "\n",
      "  cp    RMSE      Rsquared   MAE     \n",
      "  0.00  81.55842  0.2154011  65.39836\n",
      "  0.01  79.90192  0.2043913  64.34941\n",
      "  0.02  81.09908  0.1781122  65.14190\n",
      "  0.03  81.13830  0.1762420  65.29943\n",
      "  0.04  81.13830  0.1762420  65.29943\n",
      "  0.05  81.13830  0.1762420  65.29943\n",
      "  0.06  83.82082  0.1210064  67.73534\n",
      "  0.07  83.82082  0.1210064  67.73534\n",
      "  0.08  83.82082  0.1210064  67.73534\n",
      "  0.09  83.82082  0.1210064  67.73534\n",
      "  0.10  83.82082  0.1210064  67.73534\n",
      "\n",
      "RMSE was used to select the optimal model using the smallest value.\n",
      "The final value used for the model was cp = 0.01.\n"
     ]
    },
    {
     "data": {
      "image/png": "[encoded data removed]",
      "text/plain": [
       "plot without title"
      ]
     },
     "metadata": {},
     "output_type": "display_data"
    },
    {
     "data": {
      "image/png": "[encoded data removed]",
      "text/plain": [
       "plot without title"
      ]
     },
     "metadata": {},
     "output_type": "display_data"
    },
    {
     "name": "stdout",
     "output_type": "stream",
     "text": [
      "CART \n",
      "\n",
      "2414 samples\n",
      "  29 predictor\n",
      "\n",
      "No pre-processing\n",
      "Resampling: Cross-Validated (10 fold) \n",
      "Summary of sample sizes: 2172, 2172, 2170, 2173, 2174, 2173, ... \n",
      "Resampling results across tuning parameters:\n",
      "\n",
      "  cp    RMSE      Rsquared   MAE     \n",
      "  0.00  79.54363  0.2404413  63.35393\n",
      "  0.01  79.95420  0.2029384  64.18293\n",
      "  0.02  81.16471  0.1783318  65.44269\n",
      "  0.03  81.19061  0.1782912  65.34287\n",
      "  0.04  81.19061  0.1782912  65.34287\n",
      "  0.05  81.73555  0.1664384  65.78270\n",
      "  0.06  83.86917  0.1226030  67.75446\n",
      "  0.07  83.86917  0.1226030  67.75446\n",
      "  0.08  83.86917  0.1226030  67.75446\n",
      "  0.09  83.86917  0.1226030  67.75446\n",
      "  0.10  83.86917  0.1226030  67.75446\n",
      "\n",
      "RMSE was used to select the optimal model using the smallest value.\n",
      "The final value used for the model was cp = 0.\n"
     ]
    },
    {
     "data": {
      "image/png": "[encoded data removed]",
      "text/plain": [
       "plot without title"
      ]
     },
     "metadata": {},
     "output_type": "display_data"
    }
   ],
   "source": [
    "numFolds=trainControl(method=\"cv\",number = 10)\n",
    "cpGrid=expand.grid(.cp=(0:10)*0.01)\n",
    "#minbucket_grid=expand.grid(.cp=(5:10))\n",
    "for(i in 5:10){\n",
    "    tr=train(readingScore~.,\n",
    "          data=pisa_train_dt, \n",
    "          method=\"rpart\",\n",
    "          trControl=numFolds,\n",
    "          tuneGrid= cpGrid,\n",
    "            # minbucket=minbucket_grid\n",
    "           control= rpart.control(minbucket = i)\n",
    "            )\n",
    "    trellis.par.set(caretTheme())\n",
    "    print(plot(tr))    \n",
    "    print(tr)\n",
    "}"
   ]
  },
  {
   "cell_type": "code",
   "execution_count": 24,
   "metadata": {},
   "outputs": [
    {
     "name": "stdout",
     "output_type": "stream",
     "text": [
      "CART \n",
      "\n",
      "2414 samples\n",
      "  29 predictor\n",
      "\n",
      "No pre-processing\n",
      "Resampling: Cross-Validated (10 fold) \n",
      "Summary of sample sizes: 2173, 2172, 2173, 2173, 2171, 2172, ... \n",
      "Resampling results across tuning parameters:\n",
      "\n",
      "  cp    RMSE      Rsquared   MAE     \n",
      "  0.00  91.27112  0.1599851  72.71649\n",
      "  0.01  79.62911  0.2113380  63.93057\n",
      "  0.02  81.04538  0.1808928  65.05840\n",
      "  0.03  81.53996  0.1717659  65.64659\n",
      "\n",
      "RMSE was used to select the optimal model using the smallest value.\n",
      "The final value used for the model was cp = 0.01.\n"
     ]
    },
    {
     "data": {
      "image/png": "[encoded data removed]",
      "text/plain": [
       "plot without title"
      ]
     },
     "metadata": {},
     "output_type": "display_data"
    }
   ],
   "source": [
    "numFolds=trainControl(method=\"cv\",number = 10)\n",
    "cpGrid=expand.grid(.cp=(0:3)*0.01)\n",
    "tr=train(readingScore~.,\n",
    "      data=pisa_train_dt, \n",
    "      method=\"rpart\",\n",
    "      trControl=numFolds,\n",
    "      tuneGrid= cpGrid,\n",
    "        # minbucket=minbucket_grid\n",
    "       control= rpart.control(minsplit = 9)\n",
    "        )\n",
    "trellis.par.set(caretTheme())\n",
    "print(plot(tr))    \n",
    "print(tr)"
   ]
  },
  {
   "cell_type": "code",
   "execution_count": 25,
   "metadata": {},
   "outputs": [
    {
     "data": {
      "text/html": [
       "<dl class=dl-horizontal>\n",
       "\t<dt>expectBachelors</dt>\n",
       "\t\t<dd>2282409.89320684</dd>\n",
       "\t<dt>.data_7</dt>\n",
       "\t\t<dd>1070628.90821269</dd>\n",
       "\t<dt>.data_4</dt>\n",
       "\t\t<dd>542284.694394186</dd>\n",
       "\t<dt>motherBornUS</dt>\n",
       "\t\t<dd>429366.801731129</dd>\n",
       "\t<dt>fatherBornUS</dt>\n",
       "\t\t<dd>400091.792522189</dd>\n",
       "\t<dt>motherBachelors</dt>\n",
       "\t\t<dd>393018.066266264</dd>\n",
       "\t<dt>grade</dt>\n",
       "\t\t<dd>293364.123980217</dd>\n",
       "\t<dt>.data_3</dt>\n",
       "\t\t<dd>269051.27511074</dd>\n",
       "\t<dt>englishAtHome</dt>\n",
       "\t\t<dd>257898.890650191</dd>\n",
       "\t<dt>.data_2</dt>\n",
       "\t\t<dd>257193.845462851</dd>\n",
       "\t<dt>fatherBachelors</dt>\n",
       "\t\t<dd>204369.394458457</dd>\n",
       "\t<dt>read30MinsADay</dt>\n",
       "\t\t<dd>192735.040123115</dd>\n",
       "\t<dt>male</dt>\n",
       "\t\t<dd>43231.987289289</dd>\n",
       "\t<dt>preschool</dt>\n",
       "\t\t<dd>41921.9270684015</dd>\n",
       "\t<dt>publicSchool</dt>\n",
       "\t\t<dd>34716.59585352</dd>\n",
       "\t<dt>urban</dt>\n",
       "\t\t<dd>19650.9033133132</dd>\n",
       "\t<dt>schoolSize</dt>\n",
       "\t\t<dd>11412.0494660341</dd>\n",
       "\t<dt>studentsInEnglish</dt>\n",
       "\t\t<dd>7550.37918395667</dd>\n",
       "\t<dt>minutesPerWeekEnglish</dt>\n",
       "\t\t<dd>922.177225469394</dd>\n",
       "</dl>\n"
      ],
      "text/latex": [
       "\\begin{description*}\n",
       "\\item[expectBachelors] 2282409.89320684\n",
       "\\item[.data\\textbackslash{}\\_7] 1070628.90821269\n",
       "\\item[.data\\textbackslash{}\\_4] 542284.694394186\n",
       "\\item[motherBornUS] 429366.801731129\n",
       "\\item[fatherBornUS] 400091.792522189\n",
       "\\item[motherBachelors] 393018.066266264\n",
       "\\item[grade] 293364.123980217\n",
       "\\item[.data\\textbackslash{}\\_3] 269051.27511074\n",
       "\\item[englishAtHome] 257898.890650191\n",
       "\\item[.data\\textbackslash{}\\_2] 257193.845462851\n",
       "\\item[fatherBachelors] 204369.394458457\n",
       "\\item[read30MinsADay] 192735.040123115\n",
       "\\item[male] 43231.987289289\n",
       "\\item[preschool] 41921.9270684015\n",
       "\\item[publicSchool] 34716.59585352\n",
       "\\item[urban] 19650.9033133132\n",
       "\\item[schoolSize] 11412.0494660341\n",
       "\\item[studentsInEnglish] 7550.37918395667\n",
       "\\item[minutesPerWeekEnglish] 922.177225469394\n",
       "\\end{description*}\n"
      ],
      "text/markdown": [
       "expectBachelors\n",
       ":   2282409.89320684.data_7\n",
       ":   1070628.90821269.data_4\n",
       ":   542284.694394186motherBornUS\n",
       ":   429366.801731129fatherBornUS\n",
       ":   400091.792522189motherBachelors\n",
       ":   393018.066266264grade\n",
       ":   293364.123980217.data_3\n",
       ":   269051.27511074englishAtHome\n",
       ":   257898.890650191.data_2\n",
       ":   257193.845462851fatherBachelors\n",
       ":   204369.394458457read30MinsADay\n",
       ":   192735.040123115male\n",
       ":   43231.987289289preschool\n",
       ":   41921.9270684015publicSchool\n",
       ":   34716.59585352urban\n",
       ":   19650.9033133132schoolSize\n",
       ":   11412.0494660341studentsInEnglish\n",
       ":   7550.37918395667minutesPerWeekEnglish\n",
       ":   922.177225469394\n",
       "\n"
      ],
      "text/plain": [
       "      expectBachelors               .data_7               .data_4 \n",
       "         2282409.8932          1070628.9082           542284.6944 \n",
       "         motherBornUS          fatherBornUS       motherBachelors \n",
       "          429366.8017           400091.7925           393018.0663 \n",
       "                grade               .data_3         englishAtHome \n",
       "          293364.1240           269051.2751           257898.8907 \n",
       "              .data_2       fatherBachelors        read30MinsADay \n",
       "          257193.8455           204369.3945           192735.0401 \n",
       "                 male             preschool          publicSchool \n",
       "           43231.9873            41921.9271            34716.5959 \n",
       "                urban            schoolSize     studentsInEnglish \n",
       "           19650.9033            11412.0495             7550.3792 \n",
       "minutesPerWeekEnglish \n",
       "             922.1772 "
      ]
     },
     "metadata": {},
     "output_type": "display_data"
    },
    {
     "data": {
      "image/png": "[encoded data removed]",
      "text/plain": [
       "Plot with title \"\""
      ]
     },
     "metadata": {},
     "output_type": "display_data"
    }
   ],
   "source": [
    "reg_tree_pisa=tr$finalModel\n",
    "fancyRpartPlot(reg_tree_pisa)\n",
    "reg_tree_pisa$variable.importance"
   ]
  },
  {
   "cell_type": "code",
   "execution_count": 26,
   "metadata": {},
   "outputs": [],
   "source": [
    "predicted_pisa_dt=predict(reg_tree_pisa,newdata=pisa_test_dt)"
   ]
  },
  {
   "cell_type": "markdown",
   "metadata": {},
   "source": [
    "### Performanca Measure"
   ]
  },
  {
   "cell_type": "code",
   "execution_count": 27,
   "metadata": {
    "scrolled": true
   },
   "outputs": [
    {
     "data": {
      "text/html": [
       "<table>\n",
       "<thead><tr><th scope=col>name</th><th scope=col>n</th><th scope=col>mean</th><th scope=col>sd</th><th scope=col>FBias</th><th scope=col>MAPE</th><th scope=col>RMSE</th><th scope=col>MAD</th><th scope=col>WMAPE</th></tr></thead>\n",
       "<tbody>\n",
       "\t<tr><td>Decision Tree with CV for Pisa Dataset</td><td>990                                   </td><td>519.8643                              </td><td>88.80043                              </td><td>0.007325851                           </td><td>0.1262667                             </td><td>2.506513                              </td><td>62.69629                              </td><td>0.1206013                             </td></tr>\n",
       "</tbody>\n",
       "</table>\n"
      ],
      "text/latex": [
       "\\begin{tabular}{r|lllllllll}\n",
       " name & n & mean & sd & FBias & MAPE & RMSE & MAD & WMAPE\\\\\n",
       "\\hline\n",
       "\t Decision Tree with CV for Pisa Dataset & 990                                    & 519.8643                               & 88.80043                               & 0.007325851                            & 0.1262667                              & 2.506513                               & 62.69629                               & 0.1206013                             \\\\\n",
       "\\end{tabular}\n"
      ],
      "text/markdown": [
       "\n",
       "| name | n | mean | sd | FBias | MAPE | RMSE | MAD | WMAPE |\n",
       "|---|---|---|---|---|---|---|---|---|\n",
       "| Decision Tree with CV for Pisa Dataset | 990                                    | 519.8643                               | 88.80043                               | 0.007325851                            | 0.1262667                              | 2.506513                               | 62.69629                               | 0.1206013                              |\n",
       "\n"
      ],
      "text/plain": [
       "  name                                   n   mean     sd       FBias      \n",
       "1 Decision Tree with CV for Pisa Dataset 990 519.8643 88.80043 0.007325851\n",
       "  MAPE      RMSE     MAD      WMAPE    \n",
       "1 0.1262667 2.506513 62.69629 0.1206013"
      ]
     },
     "metadata": {},
     "output_type": "display_data"
    }
   ],
   "source": [
    "perf_dt(\"Decision Tree with CV for Pisa Dataset\",pisa_test_dt$readingScore,as.numeric(predicted_pisa_dt))"
   ]
  },
  {
   "cell_type": "markdown",
   "metadata": {},
   "source": [
    "## Random Forest(RF)"
   ]
  },
  {
   "cell_type": "code",
   "execution_count": 40,
   "metadata": {},
   "outputs": [],
   "source": [
    "library(ranger)"
   ]
  },
  {
   "cell_type": "code",
   "execution_count": 29,
   "metadata": {},
   "outputs": [],
   "source": [
    "fitControl=trainControl(method = \"repeatedcv\",\n",
    "                           number = 10) "
   ]
  },
  {
   "cell_type": "code",
   "execution_count": 30,
   "metadata": {},
   "outputs": [
    {
     "data": {
      "text/html": [
       "<table>\n",
       "<thead><tr><th scope=col>mtry</th><th scope=col>splitrule</th><th scope=col>min.node.size</th></tr></thead>\n",
       "<tbody>\n",
       "\t<tr><td> 4      </td><td>variance</td><td>5       </td></tr>\n",
       "\t<tr><td> 8      </td><td>variance</td><td>5       </td></tr>\n",
       "\t<tr><td>10      </td><td>variance</td><td>5       </td></tr>\n",
       "\t<tr><td>15      </td><td>variance</td><td>5       </td></tr>\n",
       "</tbody>\n",
       "</table>\n"
      ],
      "text/latex": [
       "\\begin{tabular}{r|lll}\n",
       " mtry & splitrule & min.node.size\\\\\n",
       "\\hline\n",
       "\t  4       & variance & 5       \\\\\n",
       "\t  8       & variance & 5       \\\\\n",
       "\t 10       & variance & 5       \\\\\n",
       "\t 15       & variance & 5       \\\\\n",
       "\\end{tabular}\n"
      ],
      "text/markdown": [
       "\n",
       "| mtry | splitrule | min.node.size |\n",
       "|---|---|---|\n",
       "|  4       | variance | 5        |\n",
       "|  8       | variance | 5        |\n",
       "| 10       | variance | 5        |\n",
       "| 15       | variance | 5        |\n",
       "\n"
      ],
      "text/plain": [
       "  mtry splitrule min.node.size\n",
       "1  4   variance  5            \n",
       "2  8   variance  5            \n",
       "3 10   variance  5            \n",
       "4 15   variance  5            "
      ]
     },
     "metadata": {},
     "output_type": "display_data"
    }
   ],
   "source": [
    "rf_grid=expand.grid(mtry=c(4,8,10,15),\n",
    "                   splitrule = c(\"variance\"),\n",
    "                   min.node.size= c(5))\n",
    "rf_grid  "
   ]
  },
  {
   "cell_type": "code",
   "execution_count": 31,
   "metadata": {},
   "outputs": [],
   "source": [
    "rf_fit=train(readingScore ~ ., data = pisa_train, \n",
    "                 method = \"ranger\", \n",
    "                 trControl = fitControl, num.trees=500,\n",
    "                 tuneGrid = rf_grid) "
   ]
  },
  {
   "cell_type": "code",
   "execution_count": 32,
   "metadata": {},
   "outputs": [
    {
     "data": {
      "text/plain": [
       "Random Forest \n",
       "\n",
       "2414 samples\n",
       "  23 predictor\n",
       "\n",
       "No pre-processing\n",
       "Resampling: Cross-Validated (10 fold, repeated 1 times) \n",
       "Summary of sample sizes: 2173, 2172, 2172, 2173, 2173, 2173, ... \n",
       "Resampling results across tuning parameters:\n",
       "\n",
       "  mtry  RMSE      Rsquared   MAE     \n",
       "   4    74.22778  0.3127169  59.68398\n",
       "   8    74.86137  0.2988596  60.03758\n",
       "  10    75.34474  0.2908063  60.46137\n",
       "  15    75.50474  0.2895483  60.54514\n",
       "\n",
       "Tuning parameter 'splitrule' was held constant at a value of variance\n",
       "\n",
       "Tuning parameter 'min.node.size' was held constant at a value of 5\n",
       "RMSE was used to select the optimal model using the smallest value.\n",
       "The final values used for the model were mtry = 4, splitrule = variance\n",
       " and min.node.size = 5."
      ]
     },
     "metadata": {},
     "output_type": "display_data"
    },
    {
     "data": {
      "image/png": "[encoded data removed]",
      "text/plain": [
       "plot without title"
      ]
     },
     "metadata": {},
     "output_type": "display_data"
    }
   ],
   "source": [
    "rf_fit\n",
    "plot(rf_fit)"
   ]
  },
  {
   "cell_type": "code",
   "execution_count": 33,
   "metadata": {},
   "outputs": [],
   "source": [
    "RandomForest_pisa=predict(rf_fit,newdata=pisa_test)"
   ]
  },
  {
   "cell_type": "markdown",
   "metadata": {},
   "source": [
    "### Performanca Measure"
   ]
  },
  {
   "cell_type": "code",
   "execution_count": 34,
   "metadata": {
    "scrolled": true
   },
   "outputs": [
    {
     "data": {
      "text/html": [
       "<table>\n",
       "<thead><tr><th scope=col>name</th><th scope=col>n</th><th scope=col>mean</th><th scope=col>sd</th><th scope=col>FBias</th><th scope=col>MAPE</th><th scope=col>RMSE</th><th scope=col>MAD</th><th scope=col>WMAPE</th></tr></thead>\n",
       "<tbody>\n",
       "\t<tr><td>First Data Set for Random Forest</td><td>990                             </td><td>517.8192                        </td><td>45.48294                        </td><td>-0.003949342                    </td><td>0.1157326                       </td><td>2.383545                        </td><td>59.41911                        </td><td>0.1147487                       </td></tr>\n",
       "</tbody>\n",
       "</table>\n"
      ],
      "text/latex": [
       "\\begin{tabular}{r|lllllllll}\n",
       " name & n & mean & sd & FBias & MAPE & RMSE & MAD & WMAPE\\\\\n",
       "\\hline\n",
       "\t First Data Set for Random Forest & 990                              & 517.8192                         & 45.48294                         & -0.003949342                     & 0.1157326                        & 2.383545                         & 59.41911                         & 0.1147487                       \\\\\n",
       "\\end{tabular}\n"
      ],
      "text/markdown": [
       "\n",
       "| name | n | mean | sd | FBias | MAPE | RMSE | MAD | WMAPE |\n",
       "|---|---|---|---|---|---|---|---|---|\n",
       "| First Data Set for Random Forest | 990                              | 517.8192                         | 45.48294                         | -0.003949342                     | 0.1157326                        | 2.383545                         | 59.41911                         | 0.1147487                        |\n",
       "\n"
      ],
      "text/plain": [
       "  name                             n   mean     sd       FBias        MAPE     \n",
       "1 First Data Set for Random Forest 990 517.8192 45.48294 -0.003949342 0.1157326\n",
       "  RMSE     MAD      WMAPE    \n",
       "1 2.383545 59.41911 0.1147487"
      ]
     },
     "metadata": {},
     "output_type": "display_data"
    }
   ],
   "source": [
    "perf_dt(\"First Data Set for Random Forest\", as.numeric(RandomForest_pisa), as.numeric(pisa_test$readingScore))"
   ]
  },
  {
   "cell_type": "markdown",
   "metadata": {},
   "source": [
    "# Stochastic Gradient Boosting(SGB)"
   ]
  },
  {
   "cell_type": "code",
   "execution_count": 35,
   "metadata": {},
   "outputs": [],
   "source": [
    "set.seed(35)"
   ]
  },
  {
   "cell_type": "code",
   "execution_count": 36,
   "metadata": {},
   "outputs": [
    {
     "data": {
      "image/png": "[encoded data removed]",
      "text/plain": [
       "plot without title"
      ]
     },
     "metadata": {},
     "output_type": "display_data"
    }
   ],
   "source": [
    "gbmGrid=expand.grid(interaction.depth = c(1, 3, 5), \n",
    "                        n.trees = (1:5)*50, \n",
    "                        shrinkage = c(0.1, 0.3, 0.5),\n",
    "                        n.minobsinnode = 20)\n",
    "                                                                \n",
    "\n",
    "gbm_fit=train(readingScore ~ ., data = pisa_train, \n",
    "                 method = \"gbm\", \n",
    "                 trControl = fitControl,  \n",
    "                 tuneGrid = gbmGrid,\n",
    "                 verbose=F) #verbose is an argument from gbm, prints to screen\n",
    "\n",
    "plot(gbm_fit)"
   ]
  },
  {
   "cell_type": "code",
   "execution_count": 37,
   "metadata": {},
   "outputs": [],
   "source": [
    "predicted_pisa_sgb=predict(gbm_fit,pisa_test)"
   ]
  },
  {
   "cell_type": "markdown",
   "metadata": {},
   "source": [
    "### Performanca Measure"
   ]
  },
  {
   "cell_type": "code",
   "execution_count": 38,
   "metadata": {
    "scrolled": false
   },
   "outputs": [
    {
     "data": {
      "text/html": [
       "<table>\n",
       "<thead><tr><th scope=col>name</th><th scope=col>n</th><th scope=col>mean</th><th scope=col>sd</th><th scope=col>FBias</th><th scope=col>MAPE</th><th scope=col>RMSE</th><th scope=col>MAD</th><th scope=col>WMAPE</th></tr></thead>\n",
       "<tbody>\n",
       "\t<tr><td>First Data Set for Stochastic Gradient Boosting</td><td>990                                            </td><td>516.5296                                       </td><td>52.44005                                       </td><td>-0.00645595                                    </td><td>0.1154572                                      </td><td>2.364434                                       </td><td>58.9861                                        </td><td>0.1141969                                      </td></tr>\n",
       "</tbody>\n",
       "</table>\n"
      ],
      "text/latex": [
       "\\begin{tabular}{r|lllllllll}\n",
       " name & n & mean & sd & FBias & MAPE & RMSE & MAD & WMAPE\\\\\n",
       "\\hline\n",
       "\t First Data Set for Stochastic Gradient Boosting & 990                                             & 516.5296                                        & 52.44005                                        & -0.00645595                                     & 0.1154572                                       & 2.364434                                        & 58.9861                                         & 0.1141969                                      \\\\\n",
       "\\end{tabular}\n"
      ],
      "text/markdown": [
       "\n",
       "| name | n | mean | sd | FBias | MAPE | RMSE | MAD | WMAPE |\n",
       "|---|---|---|---|---|---|---|---|---|\n",
       "| First Data Set for Stochastic Gradient Boosting | 990                                             | 516.5296                                        | 52.44005                                        | -0.00645595                                     | 0.1154572                                       | 2.364434                                        | 58.9861                                         | 0.1141969                                       |\n",
       "\n"
      ],
      "text/plain": [
       "  name                                            n   mean     sd      \n",
       "1 First Data Set for Stochastic Gradient Boosting 990 516.5296 52.44005\n",
       "  FBias       MAPE      RMSE     MAD     WMAPE    \n",
       "1 -0.00645595 0.1154572 2.364434 58.9861 0.1141969"
      ]
     },
     "metadata": {},
     "output_type": "display_data"
    }
   ],
   "source": [
    "perf_dt(\"First Data Set for Stochastic Gradient Boosting\", as.numeric(predicted_pisa_sgb), as.numeric(pisa_test$readingScore))"
   ]
  },
  {
   "cell_type": "markdown",
   "metadata": {},
   "source": [
    "# General Result for 4 Method for Pisa Reading Results"
   ]
  },
  {
   "cell_type": "code",
   "execution_count": 39,
   "metadata": {},
   "outputs": [
    {
     "data": {
      "text/html": [
       "<table>\n",
       "<thead><tr><th scope=col>name</th><th scope=col>n</th><th scope=col>mean</th><th scope=col>sd</th><th scope=col>FBias</th><th scope=col>MAPE</th><th scope=col>RMSE</th><th scope=col>MAD</th><th scope=col>WMAPE</th></tr></thead>\n",
       "<tbody>\n",
       "\t<tr><td>Pisa Data Set for Lasso Function with min lambda and mse objective</td><td>990                                                               </td><td>519.8643                                                          </td><td>88.80043                                                          </td><td>0.007059544                                                       </td><td>0.1221016                                                         </td><td>2.436743                                                          </td><td>60.67282                                                          </td><td>0.116709                                                          </td></tr>\n",
       "</tbody>\n",
       "</table>\n"
      ],
      "text/latex": [
       "\\begin{tabular}{r|lllllllll}\n",
       " name & n & mean & sd & FBias & MAPE & RMSE & MAD & WMAPE\\\\\n",
       "\\hline\n",
       "\t Pisa Data Set for Lasso Function with min lambda and mse objective & 990                                                                & 519.8643                                                           & 88.80043                                                           & 0.007059544                                                        & 0.1221016                                                          & 2.436743                                                           & 60.67282                                                           & 0.116709                                                          \\\\\n",
       "\\end{tabular}\n"
      ],
      "text/markdown": [
       "\n",
       "| name | n | mean | sd | FBias | MAPE | RMSE | MAD | WMAPE |\n",
       "|---|---|---|---|---|---|---|---|---|\n",
       "| Pisa Data Set for Lasso Function with min lambda and mse objective | 990                                                                | 519.8643                                                           | 88.80043                                                           | 0.007059544                                                        | 0.1221016                                                          | 2.436743                                                           | 60.67282                                                           | 0.116709                                                           |\n",
       "\n"
      ],
      "text/plain": [
       "  name                                                               n  \n",
       "1 Pisa Data Set for Lasso Function with min lambda and mse objective 990\n",
       "  mean     sd       FBias       MAPE      RMSE     MAD      WMAPE   \n",
       "1 519.8643 88.80043 0.007059544 0.1221016 2.436743 60.67282 0.116709"
      ]
     },
     "metadata": {},
     "output_type": "display_data"
    },
    {
     "data": {
      "text/html": [
       "<table>\n",
       "<thead><tr><th scope=col>name</th><th scope=col>n</th><th scope=col>mean</th><th scope=col>sd</th><th scope=col>FBias</th><th scope=col>MAPE</th><th scope=col>RMSE</th><th scope=col>MAD</th><th scope=col>WMAPE</th></tr></thead>\n",
       "<tbody>\n",
       "\t<tr><td>Decision Tree with CV for Pisa Dataset</td><td>990                                   </td><td>519.8643                              </td><td>88.80043                              </td><td>0.007325851                           </td><td>0.1262667                             </td><td>2.506513                              </td><td>62.69629                              </td><td>0.1206013                             </td></tr>\n",
       "</tbody>\n",
       "</table>\n"
      ],
      "text/latex": [
       "\\begin{tabular}{r|lllllllll}\n",
       " name & n & mean & sd & FBias & MAPE & RMSE & MAD & WMAPE\\\\\n",
       "\\hline\n",
       "\t Decision Tree with CV for Pisa Dataset & 990                                    & 519.8643                               & 88.80043                               & 0.007325851                            & 0.1262667                              & 2.506513                               & 62.69629                               & 0.1206013                             \\\\\n",
       "\\end{tabular}\n"
      ],
      "text/markdown": [
       "\n",
       "| name | n | mean | sd | FBias | MAPE | RMSE | MAD | WMAPE |\n",
       "|---|---|---|---|---|---|---|---|---|\n",
       "| Decision Tree with CV for Pisa Dataset | 990                                    | 519.8643                               | 88.80043                               | 0.007325851                            | 0.1262667                              | 2.506513                               | 62.69629                               | 0.1206013                              |\n",
       "\n"
      ],
      "text/plain": [
       "  name                                   n   mean     sd       FBias      \n",
       "1 Decision Tree with CV for Pisa Dataset 990 519.8643 88.80043 0.007325851\n",
       "  MAPE      RMSE     MAD      WMAPE    \n",
       "1 0.1262667 2.506513 62.69629 0.1206013"
      ]
     },
     "metadata": {},
     "output_type": "display_data"
    },
    {
     "data": {
      "text/html": [
       "<table>\n",
       "<thead><tr><th scope=col>name</th><th scope=col>n</th><th scope=col>mean</th><th scope=col>sd</th><th scope=col>FBias</th><th scope=col>MAPE</th><th scope=col>RMSE</th><th scope=col>MAD</th><th scope=col>WMAPE</th></tr></thead>\n",
       "<tbody>\n",
       "\t<tr><td>First Data Set for Random Forest</td><td>990                             </td><td>517.8192                        </td><td>45.48294                        </td><td>-0.003949342                    </td><td>0.1157326                       </td><td>2.383545                        </td><td>59.41911                        </td><td>0.1147487                       </td></tr>\n",
       "</tbody>\n",
       "</table>\n"
      ],
      "text/latex": [
       "\\begin{tabular}{r|lllllllll}\n",
       " name & n & mean & sd & FBias & MAPE & RMSE & MAD & WMAPE\\\\\n",
       "\\hline\n",
       "\t First Data Set for Random Forest & 990                              & 517.8192                         & 45.48294                         & -0.003949342                     & 0.1157326                        & 2.383545                         & 59.41911                         & 0.1147487                       \\\\\n",
       "\\end{tabular}\n"
      ],
      "text/markdown": [
       "\n",
       "| name | n | mean | sd | FBias | MAPE | RMSE | MAD | WMAPE |\n",
       "|---|---|---|---|---|---|---|---|---|\n",
       "| First Data Set for Random Forest | 990                              | 517.8192                         | 45.48294                         | -0.003949342                     | 0.1157326                        | 2.383545                         | 59.41911                         | 0.1147487                        |\n",
       "\n"
      ],
      "text/plain": [
       "  name                             n   mean     sd       FBias        MAPE     \n",
       "1 First Data Set for Random Forest 990 517.8192 45.48294 -0.003949342 0.1157326\n",
       "  RMSE     MAD      WMAPE    \n",
       "1 2.383545 59.41911 0.1147487"
      ]
     },
     "metadata": {},
     "output_type": "display_data"
    },
    {
     "data": {
      "text/html": [
       "<table>\n",
       "<thead><tr><th scope=col>name</th><th scope=col>n</th><th scope=col>mean</th><th scope=col>sd</th><th scope=col>FBias</th><th scope=col>MAPE</th><th scope=col>RMSE</th><th scope=col>MAD</th><th scope=col>WMAPE</th></tr></thead>\n",
       "<tbody>\n",
       "\t<tr><td>First Data Set for Stochastic Gradient Boosting</td><td>990                                            </td><td>516.5296                                       </td><td>52.44005                                       </td><td>-0.00645595                                    </td><td>0.1154572                                      </td><td>2.364434                                       </td><td>58.9861                                        </td><td>0.1141969                                      </td></tr>\n",
       "</tbody>\n",
       "</table>\n"
      ],
      "text/latex": [
       "\\begin{tabular}{r|lllllllll}\n",
       " name & n & mean & sd & FBias & MAPE & RMSE & MAD & WMAPE\\\\\n",
       "\\hline\n",
       "\t First Data Set for Stochastic Gradient Boosting & 990                                             & 516.5296                                        & 52.44005                                        & -0.00645595                                     & 0.1154572                                       & 2.364434                                        & 58.9861                                         & 0.1141969                                      \\\\\n",
       "\\end{tabular}\n"
      ],
      "text/markdown": [
       "\n",
       "| name | n | mean | sd | FBias | MAPE | RMSE | MAD | WMAPE |\n",
       "|---|---|---|---|---|---|---|---|---|\n",
       "| First Data Set for Stochastic Gradient Boosting | 990                                             | 516.5296                                        | 52.44005                                        | -0.00645595                                     | 0.1154572                                       | 2.364434                                        | 58.9861                                         | 0.1141969                                       |\n",
       "\n"
      ],
      "text/plain": [
       "  name                                            n   mean     sd      \n",
       "1 First Data Set for Stochastic Gradient Boosting 990 516.5296 52.44005\n",
       "  FBias       MAPE      RMSE     MAD     WMAPE    \n",
       "1 -0.00645595 0.1154572 2.364434 58.9861 0.1141969"
      ]
     },
     "metadata": {},
     "output_type": "display_data"
    }
   ],
   "source": [
    "perf_dt(\"Pisa Data Set for Lasso Function with min lambda and mse objective\", as.numeric(pisa_test$readingScore), prediction_pra_mse_pisa_min)\n",
    "perf_dt(\"Decision Tree with CV for Pisa Dataset\",pisa_test_dt$readingScore,as.numeric(predicted_pisa_dt))\n",
    "perf_dt(\"First Data Set for Random Forest\", as.numeric(RandomForest_pisa), as.numeric(pisa_test$readingScore))\n",
    "perf_dt(\"First Data Set for Stochastic Gradient Boosting\", as.numeric(predicted_pisa_sgb), as.numeric(pisa_test$readingScore))"
   ]
  },
  {
   "cell_type": "code",
   "execution_count": null,
   "metadata": {},
   "outputs": [],
   "source": []
  }
 ],
 "metadata": {
  "kernelspec": {
   "display_name": "R",
   "language": "R",
   "name": "ir"
  },
  "language_info": {
   "codemirror_mode": "r",
   "file_extension": ".r",
   "mimetype": "text/x-r-source",
   "name": "R",
   "pygments_lexer": "r",
   "version": "3.6.1"
  }
 },
 "nbformat": 4,
 "nbformat_minor": 4
}
