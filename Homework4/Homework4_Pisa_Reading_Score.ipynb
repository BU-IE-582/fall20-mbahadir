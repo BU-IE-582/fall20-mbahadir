{
 "cells": [
  {
   "cell_type": "code",
   "execution_count": 84,
   "metadata": {},
   "outputs": [
    {
     "name": "stderr",
     "output_type": "stream",
     "text": [
      "Warning message:\n",
      "\"package 'fastDummies' was built under R version 3.6.3\""
     ]
    }
   ],
   "source": [
    "library(data.table)\n",
    "library(glmnet)\n",
    "library(ggplot2)\n",
    "library(lubridate, quietly=TRUE)\n",
    "library(zoo, quietly = TRUE)\n",
    "library(dplyr, quietly = TRUE)\n",
    "library(GGally, quietly=TRUE)\n",
    "library(caTools)\n",
    "library(rpart)\n",
    "library(rattle)\n",
    "library(caret)\n",
    "library(e1071)\n",
    "library(randomForest)\n",
    "library(gbm)\n",
    "library(fastDummies)"
   ]
  },
  {
   "cell_type": "markdown",
   "metadata": {},
   "source": [
    "### Performance Function"
   ]
  },
  {
   "cell_type": "code",
   "execution_count": 89,
   "metadata": {},
   "outputs": [],
   "source": [
    "perf_dt=function(type,actual,forecast){\n",
    "    name=type\n",
    "    n=length(actual)\n",
    "    error=actual-forecast\n",
    "    mean=mean(actual)\n",
    "    sd=sd(actual)\n",
    "    FBias=sum(error)/sum(actual)\n",
    "    MPE=sum(error/actual)/n\n",
    "    MAPE=sum(abs(error/actual))/n\n",
    "    RMSE=sqrt(sum(error^2))/n\n",
    "    MAD=sum(abs(error))/n\n",
    "    WMAPE=MAD/mean\n",
    "    l=data.frame(name,n,mean,sd,FBias,MAPE,RMSE,MAD,WMAPE)\n",
    "    return(l)\n",
    "}"
   ]
  },
  {
   "cell_type": "markdown",
   "metadata": {},
   "source": [
    "In order to obtain the similar measure performance, a perf_dt function is written. In addition, if target variable categorical, confusionMatrix() function will be used for understanding performance of the model."
   ]
  },
  {
   "cell_type": "markdown",
   "metadata": {},
   "source": [
    "# Pisa Dataset"
   ]
  },
  {
   "cell_type": "markdown",
   "metadata": {},
   "source": [
    "Reading Test Scores\n",
    "The Programme for International Student Assessment (PISA) is a test given every three years to 15-year-old students from around the world to evaluate their performance in mathematics, reading, and science. This test provides a quantitative way to compare the performance of students from different parts of the world. In this homework assignment, we will predict the reading scores of students from the United States of America on the 2009 PISA exam.\n",
    "\n",
    "The datasets pisa2009train.csv and pisa2009test.csv contain information about the demographics and schools for American students taking the exam, derived from 2009 PISA Public-Use Data Files distributed by the United States National Center for Education Statistics (NCES). While the datasets are not supposed to contain identifying information about students taking the test, by using the data you are bound by the NCES data use agreement, which prohibits any attempt to determine the identity of any student in the datasets.\n",
    "\n",
    "Each row in the datasets pisa2009train.csv and pisa2009test.csv represents one student taking the exam. The datasets have the following variables:\n",
    "\n",
    "grade: The grade in school of the student (most 15-year-olds in America are in 10th grade)\n",
    "\n",
    "male: Whether the student is male (1/0)\n",
    "\n",
    "raceeth: The race/ethnicity composite of the student\n",
    "\n",
    "preschool: Whether the student attended preschool (1/0)\n",
    "\n",
    "expectBachelors: Whether the student expects to obtain a bachelor's degree (1/0)\n",
    "\n",
    "motherHS: Whether the student's mother completed high school (1/0)\n",
    "\n",
    "motherBachelors: Whether the student's mother obtained a bachelor's degree (1/0)\n",
    "\n",
    "motherWork: Whether the student's mother has part-time or full-time work (1/0)\n",
    "\n",
    "fatherHS: Whether the student's father completed high school (1/0)\n",
    "\n",
    "fatherBachelors: Whether the student's father obtained a bachelor's degree (1/0)\n",
    "\n",
    "fatherWork: Whether the student's father has part-time or full-time work (1/0)\n",
    "\n",
    "selfBornUS: Whether the student was born in the United States of America (1/0)\n",
    "\n",
    "motherBornUS: Whether the student's mother was born in the United States of America (1/0)\n",
    "\n",
    "fatherBornUS: Whether the student's father was born in the United States of America (1/0)\n",
    "\n",
    "englishAtHome: Whether the student speaks English at home (1/0)\n",
    "\n",
    "computerForSchoolwork: Whether the student has access to a computer for schoolwork (1/0)\n",
    "\n",
    "read30MinsADay: Whether the student reads for pleasure for 30 minutes/day (1/0)\n",
    "\n",
    "minutesPerWeekEnglish: The number of minutes per week the student spend in English class\n",
    "\n",
    "studentsInEnglish: The number of students in this student's English class at school\n",
    "\n",
    "schoolHasLibrary: Whether this student's school has a library (1/0)\n",
    "\n",
    "publicSchool: Whether this student attends a public school (1/0)\n",
    "\n",
    "urban: Whether this student's school is in an urban area (1/0)\n",
    "\n",
    "schoolSize: The number of students in this student's school\n",
    "\n",
    "readingScore: The student's reading score, on a 1000-point scale"
   ]
  },
  {
   "cell_type": "markdown",
   "metadata": {},
   "source": [
    "### Loading Dataset"
   ]
  },
  {
   "cell_type": "code",
   "execution_count": 90,
   "metadata": {},
   "outputs": [],
   "source": [
    "pisa_train=read.csv(\"pisa_train.csv\")\n",
    "pisa_test=read.csv(\"pisa_test.csv\")\n",
    "pisa_train=as.data.table(pisa_train,na.rm=TRUE)\n",
    "pisa_test=as.data.table(pisa_test,na.rm=TRUE)\n",
    "pisa_train=na.omit(pisa_train)\n",
    "pisa_test=na.omit(pisa_test)"
   ]
  },
  {
   "cell_type": "code",
   "execution_count": 91,
   "metadata": {},
   "outputs": [],
   "source": [
    "pisa_train$raceeth=as.factor(as.numeric(pisa_train$raceeth))\n",
    "pisa_test$raceeth=as.factor(as.numeric(pisa_test$raceeth))"
   ]
  },
  {
   "cell_type": "markdown",
   "metadata": {},
   "source": [
    "In this dataset, train and test dataset were seperated. 23 features exist in the data. Train input size is 2414 and test input size is 990. Namely, both of them exceeds the lower bound(200). In addition, target variable is \"readingScore\". readingScores take values in between 0 to 1000, which makes the dataset labeled. \n",
    "\n",
    "This dataset is proper for **Linear Regression** problems. Much as there is some wheter or not question, these values will be used as numeric. The **only factorial** feature is the **raceeth** representing the race of the students."
   ]
  },
  {
   "cell_type": "code",
   "execution_count": 92,
   "metadata": {},
   "outputs": [
    {
     "name": "stdout",
     "output_type": "stream",
     "text": [
      "Classes 'data.table' and 'data.frame':\t2414 obs. of  24 variables:\n",
      " $ grade                : int  11 10 10 10 10 10 10 10 11 9 ...\n",
      " $ male                 : int  1 0 1 0 1 0 0 0 1 1 ...\n",
      " $ raceeth              : Factor w/ 7 levels \"1\",\"2\",\"3\",\"4\",..: 7 3 4 7 5 4 7 4 7 7 ...\n",
      " $ preschool            : int  0 1 1 1 1 1 1 1 1 1 ...\n",
      " $ expectBachelors      : int  0 1 0 1 1 1 1 0 1 1 ...\n",
      " $ motherHS             : int  1 0 1 1 1 1 1 0 1 1 ...\n",
      " $ motherBachelors      : int  1 0 0 0 1 0 0 0 0 1 ...\n",
      " $ motherWork           : int  1 1 1 0 1 1 1 0 0 1 ...\n",
      " $ fatherHS             : int  1 1 1 1 0 1 1 0 1 1 ...\n",
      " $ fatherBachelors      : int  0 0 0 0 0 0 1 0 1 1 ...\n",
      " $ fatherWork           : int  1 1 0 1 1 0 1 1 1 1 ...\n",
      " $ selfBornUS           : int  1 1 1 1 1 0 1 0 1 1 ...\n",
      " $ motherBornUS         : int  1 1 1 1 1 0 1 0 1 1 ...\n",
      " $ fatherBornUS         : int  1 1 0 1 1 0 1 0 1 1 ...\n",
      " $ englishAtHome        : int  1 1 1 1 1 0 1 0 1 1 ...\n",
      " $ computerForSchoolwork: int  1 1 1 1 1 0 1 1 1 1 ...\n",
      " $ read30MinsADay       : int  1 1 1 1 0 1 1 1 0 0 ...\n",
      " $ minutesPerWeekEnglish: int  450 200 250 300 294 232 225 270 275 225 ...\n",
      " $ studentsInEnglish    : int  25 23 35 30 24 14 20 25 30 15 ...\n",
      " $ schoolHasLibrary     : int  1 1 1 1 1 1 1 1 1 1 ...\n",
      " $ publicSchool         : int  1 1 1 1 1 1 1 1 1 0 ...\n",
      " $ urban                : int  0 1 1 0 0 0 0 1 1 1 ...\n",
      " $ schoolSize           : int  1173 2640 1095 1913 899 1733 149 1400 1988 915 ...\n",
      " $ readingScore         : num  575 458 614 439 466 ...\n",
      " - attr(*, \".internal.selfref\")=<externalptr> \n"
     ]
    }
   ],
   "source": [
    "str(pisa_train)"
   ]
  },
  {
   "cell_type": "code",
   "execution_count": 93,
   "metadata": {},
   "outputs": [
    {
     "name": "stdout",
     "output_type": "stream",
     "text": [
      "Classes 'data.table' and 'data.frame':\t990 obs. of  24 variables:\n",
      " $ grade                : int  10 10 10 10 11 10 10 10 10 10 ...\n",
      " $ male                 : int  0 0 0 0 0 1 0 1 1 0 ...\n",
      " $ raceeth              : Factor w/ 7 levels \"1\",\"2\",\"3\",\"4\",..: 7 7 1 7 7 4 7 4 7 4 ...\n",
      " $ preschool            : int  1 1 1 1 0 1 0 1 1 1 ...\n",
      " $ expectBachelors      : int  0 1 0 0 0 1 1 0 1 1 ...\n",
      " $ motherHS             : int  1 1 1 1 1 1 1 1 1 1 ...\n",
      " $ motherBachelors      : int  1 0 0 0 1 1 0 0 1 0 ...\n",
      " $ motherWork           : int  1 0 0 1 1 1 0 1 1 1 ...\n",
      " $ fatherHS             : int  1 1 1 1 1 1 1 1 1 1 ...\n",
      " $ fatherBachelors      : int  0 1 0 0 1 0 0 0 1 1 ...\n",
      " $ fatherWork           : int  0 1 0 1 1 1 1 0 1 1 ...\n",
      " $ selfBornUS           : int  1 1 1 1 1 1 1 1 1 1 ...\n",
      " $ motherBornUS         : int  1 1 1 1 1 1 1 1 1 1 ...\n",
      " $ fatherBornUS         : int  1 1 1 1 1 1 1 1 1 1 ...\n",
      " $ englishAtHome        : int  1 1 1 1 1 1 1 1 1 1 ...\n",
      " $ computerForSchoolwork: int  1 1 1 1 1 1 1 1 1 1 ...\n",
      " $ read30MinsADay       : int  0 0 1 1 1 1 0 0 0 1 ...\n",
      " $ minutesPerWeekEnglish: int  240 240 240 270 270 350 350 360 350 360 ...\n",
      " $ studentsInEnglish    : int  30 30 30 35 30 25 27 28 25 27 ...\n",
      " $ schoolHasLibrary     : int  1 1 1 1 1 1 1 1 1 1 ...\n",
      " $ publicSchool         : int  1 1 1 1 1 1 1 1 1 1 ...\n",
      " $ urban                : int  0 0 0 0 0 0 0 0 0 0 ...\n",
      " $ schoolSize           : int  808 808 808 808 808 899 899 899 899 899 ...\n",
      " $ readingScore         : num  355 454 405 665 605 ...\n",
      " - attr(*, \".internal.selfref\")=<externalptr> \n"
     ]
    }
   ],
   "source": [
    "str(pisa_test)"
   ]
  },
  {
   "cell_type": "markdown",
   "metadata": {},
   "source": [
    "# Penalized Regression Approaches(PRA)"
   ]
  },
  {
   "cell_type": "markdown",
   "metadata": {},
   "source": [
    "### L1 Penalty with Mean Square Error measure"
   ]
  },
  {
   "cell_type": "markdown",
   "metadata": {},
   "source": [
    "In order to tune lambda values, glmnet packages are used to get best lambda values for Penalized Regression. "
   ]
  },
  {
   "cell_type": "code",
   "execution_count": 94,
   "metadata": {},
   "outputs": [],
   "source": [
    "train_mat_pisa=data.matrix(pisa_train[complete.cases(pisa_train),-c(\"readingScore\"),with=F])\n",
    "\n",
    "result_vec_pisa=as.vector(t(pisa_train[complete.cases(pisa_train),\"readingScore\"]))\n",
    "\n",
    "cvfit_pisa=cv.glmnet(train_mat_pisa,result_vec_pisa,family=\"gaussian\",nfolds = 10,type.measure = \"mse\")\n",
    "\n",
    "test_mat_pisa=data.matrix(pisa_test[complete.cases(pisa_test),-c(\"readingScore\")])\n",
    "\n",
    "lasso_model_pisa_mse_min <- glmnet(train_mat_pisa,result_vec_pisa, alpha = 1, lambda = cvfit_pisa$lambda.min, standardize = FALSE)\n",
    "lasso_model_pisa_mse_1se <- glmnet(train_mat_pisa,result_vec_pisa, alpha = 1, lambda = cvfit_pisa$lambda.1se, standardize = FALSE)\n",
    "lasso_model_pisa_mse_10th <- glmnet(train_mat_pisa,result_vec_pisa, alpha = 1, lambda = cvfit_pisa$lambda[10], standardize = FALSE)"
   ]
  },
  {
   "cell_type": "code",
   "execution_count": 95,
   "metadata": {},
   "outputs": [
    {
     "data": {
      "image/png": "[encoded data removed]",
      "text/plain": [
       "plot without title"
      ]
     },
     "metadata": {},
     "output_type": "display_data"
    }
   ],
   "source": [
    "plot(cvfit_pisa)"
   ]
  },
  {
   "cell_type": "markdown",
   "metadata": {},
   "source": [
    "### Lambda Values for Mean Square Error Values"
   ]
  },
  {
   "cell_type": "code",
   "execution_count": 96,
   "metadata": {},
   "outputs": [
    {
     "data": {
      "text/html": [
       "0.467354438090302"
      ],
      "text/latex": [
       "0.467354438090302"
      ],
      "text/markdown": [
       "0.467354438090302"
      ],
      "text/plain": [
       "[1] 0.4673544"
      ]
     },
     "metadata": {},
     "output_type": "display_data"
    }
   ],
   "source": [
    "cvfit_pisa$lambda.min"
   ]
  },
  {
   "cell_type": "code",
   "execution_count": 97,
   "metadata": {},
   "outputs": [
    {
     "data": {
      "text/html": [
       "4.78351764571449"
      ],
      "text/latex": [
       "4.78351764571449"
      ],
      "text/markdown": [
       "4.78351764571449"
      ],
      "text/plain": [
       "[1] 4.783518"
      ]
     },
     "metadata": {},
     "output_type": "display_data"
    }
   ],
   "source": [
    "cvfit_pisa$lambda.1se"
   ]
  },
  {
   "cell_type": "code",
   "execution_count": 98,
   "metadata": {},
   "outputs": [
    {
     "data": {
      "text/html": [
       "13.3104219880205"
      ],
      "text/latex": [
       "13.3104219880205"
      ],
      "text/markdown": [
       "13.3104219880205"
      ],
      "text/plain": [
       "[1] 13.31042"
      ]
     },
     "metadata": {},
     "output_type": "display_data"
    }
   ],
   "source": [
    "cvfit_pisa$lambda[10]"
   ]
  },
  {
   "cell_type": "markdown",
   "metadata": {},
   "source": [
    "2 possible lambda values are determined by the cv.glmnet(). One of them is used for getting minimum Mean-Squared Error. The other one is determined by looking how many paramater is used in the model. Namely, this lambda value can be beneficial for reducing the possibility of over-fitting model on train dataset. Lastly, one random lambda was selected to compare results for these 3 lambda values."
   ]
  },
  {
   "cell_type": "code",
   "execution_count": 99,
   "metadata": {},
   "outputs": [],
   "source": [
    "prediction_pra_mse_pisa_min <- predict(lasso_model_pisa_mse_min, s = cvfit_pisa$lambda.min, newx = test_mat_pisa)\n",
    "prediction_pra_mse_pisa_1se <- predict(lasso_model_pisa_mse_1se, s = cvfit_pisa$lambda.1se, newx = test_mat_pisa)\n",
    "prediction_pra_mse_pisa_10th <- predict(lasso_model_pisa_mse_10th, s = cvfit_pisa$lambda[10], newx = test_mat_pisa)"
   ]
  },
  {
   "cell_type": "markdown",
   "metadata": {},
   "source": [
    "## L1 Penalty with Mean Absolute Error measure"
   ]
  },
  {
   "cell_type": "code",
   "execution_count": 100,
   "metadata": {},
   "outputs": [],
   "source": [
    "train_mat_pisa=data.matrix(pisa_train[complete.cases(pisa_train),-c(\"readingScore\"),with=F])\n",
    "\n",
    "result_vec_pisa=as.vector(t(pisa_train[complete.cases(pisa_train),\"readingScore\"]))\n",
    "\n",
    "cvfit_pisa_mae=cv.glmnet(train_mat_pisa,result_vec_pisa,family=\"gaussian\",nfolds = 10,type.measure=\"mae\")\n",
    "\n",
    "test_mat_pisa=data.matrix(pisa_test[complete.cases(pisa_test),-c(\"readingScore\")])\n",
    "\n",
    "lasso_model_pisa_mae_min <- glmnet(train_mat_pisa,result_vec_pisa, alpha = 1, lambda = cvfit_pisa_mae$lambda.min, standardize = FALSE)\n",
    "lasso_model_pisa_mae_1se <- glmnet(train_mat_pisa,result_vec_pisa, alpha = 1, lambda = cvfit_pisa_mae$lambda.1se, standardize = FALSE)\n",
    "lasso_model_pisa_mae_10th <- glmnet(train_mat_pisa,result_vec_pisa, alpha = 1, lambda = cvfit_pisa_mae$lambda[10], standardize = FALSE)"
   ]
  },
  {
   "cell_type": "code",
   "execution_count": 101,
   "metadata": {},
   "outputs": [
    {
     "data": {
      "image/png": "[encoded data removed]",
      "text/plain": [
       "plot without title"
      ]
     },
     "metadata": {},
     "output_type": "display_data"
    }
   ],
   "source": [
    "plot(cvfit_pisa_mae)"
   ]
  },
  {
   "cell_type": "markdown",
   "metadata": {},
   "source": [
    "### Lambda Values for Mean Absolute Error Values"
   ]
  },
  {
   "cell_type": "code",
   "execution_count": 102,
   "metadata": {},
   "outputs": [
    {
     "data": {
      "text/html": [
       "0.167958476704945"
      ],
      "text/latex": [
       "0.167958476704945"
      ],
      "text/markdown": [
       "0.167958476704945"
      ],
      "text/plain": [
       "[1] 0.1679585"
      ]
     },
     "metadata": {},
     "output_type": "display_data"
    }
   ],
   "source": [
    "cvfit_pisa_mae$lambda.min"
   ]
  },
  {
   "cell_type": "code",
   "execution_count": 103,
   "metadata": {},
   "outputs": [
    {
     "data": {
      "text/html": [
       "4.35856312237393"
      ],
      "text/latex": [
       "4.35856312237393"
      ],
      "text/markdown": [
       "4.35856312237393"
      ],
      "text/plain": [
       "[1] 4.358563"
      ]
     },
     "metadata": {},
     "output_type": "display_data"
    }
   ],
   "source": [
    "cvfit_pisa_mae$lambda.1se"
   ]
  },
  {
   "cell_type": "code",
   "execution_count": 104,
   "metadata": {},
   "outputs": [
    {
     "data": {
      "text/html": [
       "13.3104219880205"
      ],
      "text/latex": [
       "13.3104219880205"
      ],
      "text/markdown": [
       "13.3104219880205"
      ],
      "text/plain": [
       "[1] 13.31042"
      ]
     },
     "metadata": {},
     "output_type": "display_data"
    }
   ],
   "source": [
    "cvfit_pisa_mae$lambda[10]"
   ]
  },
  {
   "cell_type": "markdown",
   "metadata": {},
   "source": [
    "2 possible lambda values are determined by the cv.glmnet(). One of them is used for getting minimum Mean-Squared Error. The other one is determined by looking how many paramater is used in the model. Namely, this lambda value can be beneficial for reducing the possibility of over-fitting model on train dataset. Lastly, one random lambda was selected to compare results for these 3 lambda values."
   ]
  },
  {
   "cell_type": "code",
   "execution_count": 105,
   "metadata": {},
   "outputs": [],
   "source": [
    "prediction_pra_mae_pisa_min <- predict(lasso_model_pisa_mae_min, s = cvfit_pisa_mae$lambda.min, newx = test_mat_pisa)\n",
    "prediction_pra_mae_pisa_1se <- predict(lasso_model_pisa_mae_1se, s = cvfit_pisa_mae$lambda.1se, newx = test_mat_pisa)\n",
    "prediction_pra_mae_pisa_10th <- predict(lasso_model_pisa_mae_10th, s = cvfit_pisa_mae$lambda[10], newx = test_mat_pisa)"
   ]
  },
  {
   "cell_type": "markdown",
   "metadata": {},
   "source": [
    "### Performance Measure for Lasso Regression"
   ]
  },
  {
   "cell_type": "code",
   "execution_count": 106,
   "metadata": {
    "scrolled": false
   },
   "outputs": [
    {
     "data": {
      "text/html": [
       "<table>\n",
       "<thead><tr><th scope=col>name</th><th scope=col>n</th><th scope=col>mean</th><th scope=col>sd</th><th scope=col>FBias</th><th scope=col>MAPE</th><th scope=col>RMSE</th><th scope=col>MAD</th><th scope=col>WMAPE</th></tr></thead>\n",
       "<tbody>\n",
       "\t<tr><td>Pisa Data Set for Lasso Function with min lambda and mse objective</td><td>990                                                               </td><td>519.8643                                                          </td><td>88.80043                                                          </td><td>0.007024564                                                       </td><td>0.1220858                                                         </td><td>2.43564                                                           </td><td>60.6515                                                           </td><td>0.116668                                                          </td></tr>\n",
       "</tbody>\n",
       "</table>\n"
      ],
      "text/latex": [
       "\\begin{tabular}{r|lllllllll}\n",
       " name & n & mean & sd & FBias & MAPE & RMSE & MAD & WMAPE\\\\\n",
       "\\hline\n",
       "\t Pisa Data Set for Lasso Function with min lambda and mse objective & 990                                                                & 519.8643                                                           & 88.80043                                                           & 0.007024564                                                        & 0.1220858                                                          & 2.43564                                                            & 60.6515                                                            & 0.116668                                                          \\\\\n",
       "\\end{tabular}\n"
      ],
      "text/markdown": [
       "\n",
       "| name | n | mean | sd | FBias | MAPE | RMSE | MAD | WMAPE |\n",
       "|---|---|---|---|---|---|---|---|---|\n",
       "| Pisa Data Set for Lasso Function with min lambda and mse objective | 990                                                                | 519.8643                                                           | 88.80043                                                           | 0.007024564                                                        | 0.1220858                                                          | 2.43564                                                            | 60.6515                                                            | 0.116668                                                           |\n",
       "\n"
      ],
      "text/plain": [
       "  name                                                               n  \n",
       "1 Pisa Data Set for Lasso Function with min lambda and mse objective 990\n",
       "  mean     sd       FBias       MAPE      RMSE    MAD     WMAPE   \n",
       "1 519.8643 88.80043 0.007024564 0.1220858 2.43564 60.6515 0.116668"
      ]
     },
     "metadata": {},
     "output_type": "display_data"
    },
    {
     "data": {
      "text/html": [
       "<table>\n",
       "<thead><tr><th scope=col>name</th><th scope=col>n</th><th scope=col>mean</th><th scope=col>sd</th><th scope=col>FBias</th><th scope=col>MAPE</th><th scope=col>RMSE</th><th scope=col>MAD</th><th scope=col>WMAPE</th></tr></thead>\n",
       "<tbody>\n",
       "\t<tr><td>Pisa Data Set for Lasso Function with 1se lambda and mse objective</td><td>990                                                               </td><td>519.8643                                                          </td><td>88.80043                                                          </td><td>0.005745756                                                       </td><td>0.1260195                                                         </td><td>2.495768                                                          </td><td>62.26346                                                          </td><td>0.1197687                                                         </td></tr>\n",
       "</tbody>\n",
       "</table>\n"
      ],
      "text/latex": [
       "\\begin{tabular}{r|lllllllll}\n",
       " name & n & mean & sd & FBias & MAPE & RMSE & MAD & WMAPE\\\\\n",
       "\\hline\n",
       "\t Pisa Data Set for Lasso Function with 1se lambda and mse objective & 990                                                                & 519.8643                                                           & 88.80043                                                           & 0.005745756                                                        & 0.1260195                                                          & 2.495768                                                           & 62.26346                                                           & 0.1197687                                                         \\\\\n",
       "\\end{tabular}\n"
      ],
      "text/markdown": [
       "\n",
       "| name | n | mean | sd | FBias | MAPE | RMSE | MAD | WMAPE |\n",
       "|---|---|---|---|---|---|---|---|---|\n",
       "| Pisa Data Set for Lasso Function with 1se lambda and mse objective | 990                                                                | 519.8643                                                           | 88.80043                                                           | 0.005745756                                                        | 0.1260195                                                          | 2.495768                                                           | 62.26346                                                           | 0.1197687                                                          |\n",
       "\n"
      ],
      "text/plain": [
       "  name                                                               n  \n",
       "1 Pisa Data Set for Lasso Function with 1se lambda and mse objective 990\n",
       "  mean     sd       FBias       MAPE      RMSE     MAD      WMAPE    \n",
       "1 519.8643 88.80043 0.005745756 0.1260195 2.495768 62.26346 0.1197687"
      ]
     },
     "metadata": {},
     "output_type": "display_data"
    },
    {
     "data": {
      "text/html": [
       "<table>\n",
       "<thead><tr><th scope=col>name</th><th scope=col>n</th><th scope=col>mean</th><th scope=col>sd</th><th scope=col>FBias</th><th scope=col>MAPE</th><th scope=col>RMSE</th><th scope=col>MAD</th><th scope=col>WMAPE</th></tr></thead>\n",
       "<tbody>\n",
       "\t<tr><td>Pisa Data Set for Lasso Function with 10th lambda and mse objective</td><td>990                                                                </td><td>519.8643                                                           </td><td>88.80043                                                           </td><td>0.00334385                                                         </td><td>0.1397751                                                          </td><td>2.733464                                                           </td><td>68.49831                                                           </td><td>0.1317619                                                          </td></tr>\n",
       "</tbody>\n",
       "</table>\n"
      ],
      "text/latex": [
       "\\begin{tabular}{r|lllllllll}\n",
       " name & n & mean & sd & FBias & MAPE & RMSE & MAD & WMAPE\\\\\n",
       "\\hline\n",
       "\t Pisa Data Set for Lasso Function with 10th lambda and mse objective & 990                                                                 & 519.8643                                                            & 88.80043                                                            & 0.00334385                                                          & 0.1397751                                                           & 2.733464                                                            & 68.49831                                                            & 0.1317619                                                          \\\\\n",
       "\\end{tabular}\n"
      ],
      "text/markdown": [
       "\n",
       "| name | n | mean | sd | FBias | MAPE | RMSE | MAD | WMAPE |\n",
       "|---|---|---|---|---|---|---|---|---|\n",
       "| Pisa Data Set for Lasso Function with 10th lambda and mse objective | 990                                                                 | 519.8643                                                            | 88.80043                                                            | 0.00334385                                                          | 0.1397751                                                           | 2.733464                                                            | 68.49831                                                            | 0.1317619                                                           |\n",
       "\n"
      ],
      "text/plain": [
       "  name                                                                n  \n",
       "1 Pisa Data Set for Lasso Function with 10th lambda and mse objective 990\n",
       "  mean     sd       FBias      MAPE      RMSE     MAD      WMAPE    \n",
       "1 519.8643 88.80043 0.00334385 0.1397751 2.733464 68.49831 0.1317619"
      ]
     },
     "metadata": {},
     "output_type": "display_data"
    },
    {
     "data": {
      "text/html": [
       "<table>\n",
       "<thead><tr><th scope=col>name</th><th scope=col>n</th><th scope=col>mean</th><th scope=col>sd</th><th scope=col>FBias</th><th scope=col>MAPE</th><th scope=col>RMSE</th><th scope=col>MAD</th><th scope=col>WMAPE</th></tr></thead>\n",
       "<tbody>\n",
       "\t<tr><td>Pisa Data Set for Lasso Function with min lambda and mae objective</td><td>990                                                               </td><td>519.8643                                                          </td><td>88.80043                                                          </td><td>0.007086702                                                       </td><td>0.1222803                                                         </td><td>2.440891                                                          </td><td>60.78138                                                          </td><td>0.1169178                                                         </td></tr>\n",
       "</tbody>\n",
       "</table>\n"
      ],
      "text/latex": [
       "\\begin{tabular}{r|lllllllll}\n",
       " name & n & mean & sd & FBias & MAPE & RMSE & MAD & WMAPE\\\\\n",
       "\\hline\n",
       "\t Pisa Data Set for Lasso Function with min lambda and mae objective & 990                                                                & 519.8643                                                           & 88.80043                                                           & 0.007086702                                                        & 0.1222803                                                          & 2.440891                                                           & 60.78138                                                           & 0.1169178                                                         \\\\\n",
       "\\end{tabular}\n"
      ],
      "text/markdown": [
       "\n",
       "| name | n | mean | sd | FBias | MAPE | RMSE | MAD | WMAPE |\n",
       "|---|---|---|---|---|---|---|---|---|\n",
       "| Pisa Data Set for Lasso Function with min lambda and mae objective | 990                                                                | 519.8643                                                           | 88.80043                                                           | 0.007086702                                                        | 0.1222803                                                          | 2.440891                                                           | 60.78138                                                           | 0.1169178                                                          |\n",
       "\n"
      ],
      "text/plain": [
       "  name                                                               n  \n",
       "1 Pisa Data Set for Lasso Function with min lambda and mae objective 990\n",
       "  mean     sd       FBias       MAPE      RMSE     MAD      WMAPE    \n",
       "1 519.8643 88.80043 0.007086702 0.1222803 2.440891 60.78138 0.1169178"
      ]
     },
     "metadata": {},
     "output_type": "display_data"
    },
    {
     "data": {
      "text/html": [
       "<table>\n",
       "<thead><tr><th scope=col>name</th><th scope=col>n</th><th scope=col>mean</th><th scope=col>sd</th><th scope=col>FBias</th><th scope=col>MAPE</th><th scope=col>RMSE</th><th scope=col>MAD</th><th scope=col>WMAPE</th></tr></thead>\n",
       "<tbody>\n",
       "\t<tr><td>Pisa Data Set for Lasso Function with 1se lambda and mae objective</td><td>990                                                               </td><td>519.8643                                                          </td><td>88.80043                                                          </td><td>0.00595535                                                        </td><td>0.1254263                                                         </td><td>2.486058                                                          </td><td>62.00751                                                          </td><td>0.1192763                                                         </td></tr>\n",
       "</tbody>\n",
       "</table>\n"
      ],
      "text/latex": [
       "\\begin{tabular}{r|lllllllll}\n",
       " name & n & mean & sd & FBias & MAPE & RMSE & MAD & WMAPE\\\\\n",
       "\\hline\n",
       "\t Pisa Data Set for Lasso Function with 1se lambda and mae objective & 990                                                                & 519.8643                                                           & 88.80043                                                           & 0.00595535                                                         & 0.1254263                                                          & 2.486058                                                           & 62.00751                                                           & 0.1192763                                                         \\\\\n",
       "\\end{tabular}\n"
      ],
      "text/markdown": [
       "\n",
       "| name | n | mean | sd | FBias | MAPE | RMSE | MAD | WMAPE |\n",
       "|---|---|---|---|---|---|---|---|---|\n",
       "| Pisa Data Set for Lasso Function with 1se lambda and mae objective | 990                                                                | 519.8643                                                           | 88.80043                                                           | 0.00595535                                                         | 0.1254263                                                          | 2.486058                                                           | 62.00751                                                           | 0.1192763                                                          |\n",
       "\n"
      ],
      "text/plain": [
       "  name                                                               n  \n",
       "1 Pisa Data Set for Lasso Function with 1se lambda and mae objective 990\n",
       "  mean     sd       FBias      MAPE      RMSE     MAD      WMAPE    \n",
       "1 519.8643 88.80043 0.00595535 0.1254263 2.486058 62.00751 0.1192763"
      ]
     },
     "metadata": {},
     "output_type": "display_data"
    },
    {
     "data": {
      "text/html": [
       "<table>\n",
       "<thead><tr><th scope=col>name</th><th scope=col>n</th><th scope=col>mean</th><th scope=col>sd</th><th scope=col>FBias</th><th scope=col>MAPE</th><th scope=col>RMSE</th><th scope=col>MAD</th><th scope=col>WMAPE</th></tr></thead>\n",
       "<tbody>\n",
       "\t<tr><td>Pisa Data Set for Lasso Function with 10th lambda and mae objective</td><td>990                                                                </td><td>519.8643                                                           </td><td>88.80043                                                           </td><td>0.00334385                                                         </td><td>0.1397751                                                          </td><td>2.733464                                                           </td><td>68.49831                                                           </td><td>0.1317619                                                          </td></tr>\n",
       "</tbody>\n",
       "</table>\n"
      ],
      "text/latex": [
       "\\begin{tabular}{r|lllllllll}\n",
       " name & n & mean & sd & FBias & MAPE & RMSE & MAD & WMAPE\\\\\n",
       "\\hline\n",
       "\t Pisa Data Set for Lasso Function with 10th lambda and mae objective & 990                                                                 & 519.8643                                                            & 88.80043                                                            & 0.00334385                                                          & 0.1397751                                                           & 2.733464                                                            & 68.49831                                                            & 0.1317619                                                          \\\\\n",
       "\\end{tabular}\n"
      ],
      "text/markdown": [
       "\n",
       "| name | n | mean | sd | FBias | MAPE | RMSE | MAD | WMAPE |\n",
       "|---|---|---|---|---|---|---|---|---|\n",
       "| Pisa Data Set for Lasso Function with 10th lambda and mae objective | 990                                                                 | 519.8643                                                            | 88.80043                                                            | 0.00334385                                                          | 0.1397751                                                           | 2.733464                                                            | 68.49831                                                            | 0.1317619                                                           |\n",
       "\n"
      ],
      "text/plain": [
       "  name                                                                n  \n",
       "1 Pisa Data Set for Lasso Function with 10th lambda and mae objective 990\n",
       "  mean     sd       FBias      MAPE      RMSE     MAD      WMAPE    \n",
       "1 519.8643 88.80043 0.00334385 0.1397751 2.733464 68.49831 0.1317619"
      ]
     },
     "metadata": {},
     "output_type": "display_data"
    }
   ],
   "source": [
    "perf_dt(\"Pisa Data Set for Lasso Function with min lambda and mse objective\", as.numeric(pisa_test$readingScore), prediction_pra_mse_pisa_min)\n",
    "perf_dt(\"Pisa Data Set for Lasso Function with 1se lambda and mse objective\", as.numeric(pisa_test$readingScore), prediction_pra_mse_pisa_1se)\n",
    "perf_dt(\"Pisa Data Set for Lasso Function with 10th lambda and mse objective\", as.numeric(pisa_test$readingScore), prediction_pra_mse_pisa_10th)\n",
    "\n",
    "perf_dt(\"Pisa Data Set for Lasso Function with min lambda and mae objective\", as.numeric(pisa_test$readingScore), prediction_pra_mae_pisa_min)\n",
    "perf_dt(\"Pisa Data Set for Lasso Function with 1se lambda and mae objective\", as.numeric(pisa_test$readingScore), prediction_pra_mae_pisa_1se)\n",
    "perf_dt(\"Pisa Data Set for Lasso Function with 10th lambda and mae objective\", as.numeric(pisa_test$readingScore), prediction_pra_mae_pisa_10th)"
   ]
  },
  {
   "cell_type": "markdown",
   "metadata": {},
   "source": [
    "# Decision Tree(DT)"
   ]
  },
  {
   "cell_type": "code",
   "execution_count": 107,
   "metadata": {},
   "outputs": [],
   "source": [
    "set.seed(35)"
   ]
  },
  {
   "cell_type": "code",
   "execution_count": 122,
   "metadata": {},
   "outputs": [],
   "source": [
    "pisa_train_dt=cbind(pisa_train,dummy_cols(pisa_train$raceeth)[2:8])\n",
    "pisa_test_dt=cbind(pisa_test,dummy_cols(pisa_test$raceeth)[2:8])\n",
    "pisa_train_dt[,raceeth:=NULL]\n",
    "pisa_test_dt[,raceeth:=NULL]"
   ]
  },
  {
   "cell_type": "code",
   "execution_count": 134,
   "metadata": {
    "scrolled": false
   },
   "outputs": [
    {
     "name": "stdout",
     "output_type": "stream",
     "text": [
      "CART \n",
      "\n",
      "2414 samples\n",
      "  29 predictor\n",
      "\n",
      "No pre-processing\n",
      "Resampling: Cross-Validated (10 fold) \n",
      "Summary of sample sizes: 2173, 2174, 2171, 2174, 2172, 2173, ... \n",
      "Resampling results across tuning parameters:\n",
      "\n",
      "  cp    RMSE      Rsquared   MAE     \n",
      "  0.00  85.34171  0.1947043  68.64251\n",
      "  0.01  79.13922  0.2175422  63.31365\n",
      "  0.02  81.15992  0.1772923  65.28153\n",
      "  0.03  81.62003  0.1675409  65.65334\n",
      "  0.04  81.62003  0.1675409  65.65334\n",
      "  0.05  81.62003  0.1675409  65.65334\n",
      "  0.06  83.93531  0.1194084  67.76816\n",
      "  0.07  83.86643  0.1208509  67.73574\n",
      "  0.08  83.86643  0.1208509  67.73574\n",
      "  0.09  83.86643  0.1208509  67.73574\n",
      "  0.10  83.86643  0.1208509  67.73574\n",
      "\n",
      "RMSE was used to select the optimal model using the smallest value.\n",
      "The final value used for the model was cp = 0.01.\n",
      "CART \n",
      "\n",
      "2414 samples\n",
      "  29 predictor\n",
      "\n",
      "No pre-processing\n",
      "Resampling: Cross-Validated (10 fold) \n",
      "Summary of sample sizes: 2172, 2173, 2172, 2172, 2173, 2174, ... \n",
      "Resampling results across tuning parameters:\n",
      "\n",
      "  cp    RMSE      Rsquared   MAE     \n",
      "  0.00  83.28784  0.2063498  67.01964\n",
      "  0.01  79.65685  0.2080008  64.08354\n",
      "  0.02  81.23446  0.1748767  65.29589\n",
      "  0.03  81.16287  0.1761554  65.31840\n",
      "  0.04  81.16287  0.1761554  65.31840\n",
      "  0.05  81.16287  0.1761554  65.31840\n",
      "  0.06  83.84408  0.1212534  67.74586\n",
      "  0.07  83.84408  0.1212534  67.74586\n",
      "  0.08  83.84408  0.1212534  67.74586\n",
      "  0.09  83.84408  0.1212534  67.74586\n",
      "  0.10  83.84408  0.1212534  67.74586\n",
      "\n",
      "RMSE was used to select the optimal model using the smallest value.\n",
      "The final value used for the model was cp = 0.01.\n"
     ]
    },
    {
     "data": {
      "image/png": "[encoded data removed]",
      "text/plain": [
       "plot without title"
      ]
     },
     "metadata": {},
     "output_type": "display_data"
    },
    {
     "name": "stdout",
     "output_type": "stream",
     "text": [
      "CART \n",
      "\n",
      "2414 samples\n",
      "  29 predictor\n",
      "\n",
      "No pre-processing\n",
      "Resampling: Cross-Validated (10 fold) \n",
      "Summary of sample sizes: 2171, 2174, 2171, 2173, 2173, 2172, ... \n",
      "Resampling results across tuning parameters:\n",
      "\n",
      "  cp    RMSE      Rsquared   MAE     \n",
      "  0.00  83.15021  0.2035019  66.50858\n",
      "  0.01  79.25359  0.2141516  63.48474\n",
      "  0.02  80.95378  0.1794562  65.05690\n",
      "  0.03  81.17936  0.1746005  65.32148\n",
      "  0.04  81.17936  0.1746005  65.32148\n",
      "  0.05  81.68697  0.1638289  65.74420\n",
      "  0.06  83.76105  0.1210452  67.59915\n",
      "  0.07  83.84070  0.1191038  67.72701\n",
      "  0.08  83.84070  0.1191038  67.72701\n",
      "  0.09  83.84070  0.1191038  67.72701\n",
      "  0.10  83.84070  0.1191038  67.72701\n",
      "\n",
      "RMSE was used to select the optimal model using the smallest value.\n",
      "The final value used for the model was cp = 0.01.\n"
     ]
    },
    {
     "data": {
      "image/png": "[encoded data removed]",
      "text/plain": [
       "plot without title"
      ]
     },
     "metadata": {},
     "output_type": "display_data"
    },
    {
     "name": "stdout",
     "output_type": "stream",
     "text": [
      "CART \n",
      "\n",
      "2414 samples\n",
      "  29 predictor\n",
      "\n",
      "No pre-processing\n",
      "Resampling: Cross-Validated (10 fold) \n",
      "Summary of sample sizes: 2173, 2173, 2174, 2171, 2174, 2172, ... \n",
      "Resampling results across tuning parameters:\n",
      "\n",
      "  cp    RMSE      Rsquared   MAE     \n",
      "  0.00  82.80938  0.2027363  66.05323\n",
      "  0.01  80.20876  0.1976242  64.37162\n",
      "  0.02  81.30453  0.1741430  65.27891\n",
      "  0.03  81.47629  0.1698002  65.41198\n",
      "  0.04  81.47629  0.1698002  65.41198\n",
      "  0.05  81.47629  0.1698002  65.41198\n",
      "  0.06  83.89903  0.1190744  67.75281\n",
      "  0.07  83.83057  0.1204079  67.73415\n",
      "  0.08  83.83057  0.1204079  67.73415\n",
      "  0.09  83.83057  0.1204079  67.73415\n",
      "  0.10  83.83057  0.1204079  67.73415\n",
      "\n",
      "RMSE was used to select the optimal model using the smallest value.\n",
      "The final value used for the model was cp = 0.01.\n"
     ]
    },
    {
     "data": {
      "image/png": "[encoded data removed]",
      "text/plain": [
       "plot without title"
      ]
     },
     "metadata": {},
     "output_type": "display_data"
    },
    {
     "name": "stdout",
     "output_type": "stream",
     "text": [
      "CART \n",
      "\n",
      "2414 samples\n",
      "  29 predictor\n",
      "\n",
      "No pre-processing\n",
      "Resampling: Cross-Validated (10 fold) \n",
      "Summary of sample sizes: 2171, 2174, 2173, 2173, 2172, 2172, ... \n",
      "Resampling results across tuning parameters:\n",
      "\n",
      "  cp    RMSE      Rsquared   MAE     \n",
      "  0.00  81.32760  0.2164133  65.13267\n",
      "  0.01  79.92593  0.2029090  64.02004\n",
      "  0.02  80.80460  0.1834732  64.86095\n",
      "  0.03  81.14820  0.1763910  65.29176\n",
      "  0.04  81.14820  0.1763910  65.29176\n",
      "  0.05  81.14820  0.1763910  65.29176\n",
      "  0.06  83.83607  0.1219902  67.73594\n",
      "  0.07  83.83607  0.1219902  67.73594\n",
      "  0.08  83.83607  0.1219902  67.73594\n",
      "  0.09  83.83607  0.1219902  67.73594\n",
      "  0.10  83.83607  0.1219902  67.73594\n",
      "\n",
      "RMSE was used to select the optimal model using the smallest value.\n",
      "The final value used for the model was cp = 0.01.\n"
     ]
    },
    {
     "data": {
      "image/png": "[encoded data removed]",
      "text/plain": [
       "plot without title"
      ]
     },
     "metadata": {},
     "output_type": "display_data"
    },
    {
     "data": {
      "image/png": "[encoded data removed]",
      "text/plain": [
       "plot without title"
      ]
     },
     "metadata": {},
     "output_type": "display_data"
    },
    {
     "name": "stdout",
     "output_type": "stream",
     "text": [
      "CART \n",
      "\n",
      "2414 samples\n",
      "  29 predictor\n",
      "\n",
      "No pre-processing\n",
      "Resampling: Cross-Validated (10 fold) \n",
      "Summary of sample sizes: 2173, 2171, 2171, 2173, 2174, 2174, ... \n",
      "Resampling results across tuning parameters:\n",
      "\n",
      "  cp    RMSE      Rsquared   MAE     \n",
      "  0.00  80.46232  0.2286411  64.62664\n",
      "  0.01  80.27280  0.1961770  64.31787\n",
      "  0.02  81.18441  0.1757141  65.38239\n",
      "  0.03  81.16713  0.1755869  65.30956\n",
      "  0.04  81.16713  0.1755869  65.30956\n",
      "  0.05  81.16713  0.1755869  65.30956\n",
      "  0.06  83.76793  0.1222558  67.79035\n",
      "  0.07  83.81447  0.1203616  67.72830\n",
      "  0.08  83.81447  0.1203616  67.72830\n",
      "  0.09  83.81447  0.1203616  67.72830\n",
      "  0.10  83.81447  0.1203616  67.72830\n",
      "\n",
      "RMSE was used to select the optimal model using the smallest value.\n",
      "The final value used for the model was cp = 0.01.\n"
     ]
    },
    {
     "data": {
      "image/png": "[encoded data removed]",
      "text/plain": [
       "plot without title"
      ]
     },
     "metadata": {},
     "output_type": "display_data"
    }
   ],
   "source": [
    "numFolds=trainControl(method=\"cv\",number = 10)\n",
    "cpGrid=expand.grid(.cp=(0:10)*0.01)\n",
    "#minbucket_grid=expand.grid(.cp=(5:10))\n",
    "for(i in 5:10){\n",
    "    tr=train(readingScore~.,\n",
    "          data=pisa_train_dt, \n",
    "          method=\"rpart\",\n",
    "          trControl=numFolds,\n",
    "          tuneGrid= cpGrid,\n",
    "            # minbucket=minbucket_grid\n",
    "           control= rpart.control(minbucket = i)\n",
    "            )\n",
    "    trellis.par.set(caretTheme())\n",
    "    print(plot(tr))    \n",
    "    print(tr)\n",
    "}"
   ]
  },
  {
   "cell_type": "code",
   "execution_count": 127,
   "metadata": {},
   "outputs": [
    {
     "name": "stdout",
     "output_type": "stream",
     "text": [
      "CART \n",
      "\n",
      "2414 samples\n",
      "  29 predictor\n",
      "\n",
      "No pre-processing\n",
      "Resampling: Cross-Validated (10 fold) \n",
      "Summary of sample sizes: 2173, 2173, 2172, 2173, 2172, 2173, ... \n",
      "Resampling results across tuning parameters:\n",
      "\n",
      "  cp    RMSE      Rsquared   MAE     \n",
      "  0.00  90.78032  0.1647413  72.79861\n",
      "  0.01  79.71377  0.2087649  63.93785\n",
      "  0.02  81.39180  0.1732683  65.33374\n",
      "  0.03  81.94599  0.1625154  66.07720\n",
      "  0.04  81.94599  0.1625154  66.07720\n",
      "  0.05  81.94599  0.1625154  66.07720\n",
      "  0.06  83.83326  0.1211038  67.68014\n",
      "  0.07  83.84996  0.1214724  67.74468\n",
      "  0.08  83.84996  0.1214724  67.74468\n",
      "  0.09  83.84996  0.1214724  67.74468\n",
      "  0.10  83.84996  0.1214724  67.74468\n",
      "\n",
      "RMSE was used to select the optimal model using the smallest value.\n",
      "The final value used for the model was cp = 0.01.\n"
     ]
    },
    {
     "data": {
      "image/png": "[encoded data removed]",
      "text/plain": [
       "plot without title"
      ]
     },
     "metadata": {},
     "output_type": "display_data"
    }
   ],
   "source": [
    "numFolds=trainControl(method=\"cv\",number = 10)\n",
    "cpGrid=expand.grid(.cp=(0:10)*0.01)\n",
    "tr=train(readingScore~.,\n",
    "      data=pisa_train_dt, \n",
    "      method=\"rpart\",\n",
    "      trControl=numFolds,\n",
    "      tuneGrid= cpGrid,\n",
    "        # minbucket=minbucket_grid\n",
    "       control= rpart.control(minsplit = 9)\n",
    "        )\n",
    "trellis.par.set(caretTheme())\n",
    "print(plot(tr))    \n",
    "print(tr)"
   ]
  },
  {
   "cell_type": "code",
   "execution_count": 128,
   "metadata": {},
   "outputs": [
    {
     "data": {
      "text/html": [
       "<dl class=dl-horizontal>\n",
       "\t<dt>expectBachelors</dt>\n",
       "\t\t<dd>2282409.89320684</dd>\n",
       "\t<dt>.data_7</dt>\n",
       "\t\t<dd>1070628.90821269</dd>\n",
       "\t<dt>.data_4</dt>\n",
       "\t\t<dd>542284.694394186</dd>\n",
       "\t<dt>motherBornUS</dt>\n",
       "\t\t<dd>429366.801731129</dd>\n",
       "\t<dt>fatherBornUS</dt>\n",
       "\t\t<dd>400091.792522189</dd>\n",
       "\t<dt>motherBachelors</dt>\n",
       "\t\t<dd>393018.066266264</dd>\n",
       "\t<dt>grade</dt>\n",
       "\t\t<dd>293364.123980217</dd>\n",
       "\t<dt>.data_3</dt>\n",
       "\t\t<dd>269051.27511074</dd>\n",
       "\t<dt>englishAtHome</dt>\n",
       "\t\t<dd>257898.890650191</dd>\n",
       "\t<dt>.data_2</dt>\n",
       "\t\t<dd>257193.845462851</dd>\n",
       "\t<dt>fatherBachelors</dt>\n",
       "\t\t<dd>204369.394458457</dd>\n",
       "\t<dt>read30MinsADay</dt>\n",
       "\t\t<dd>192735.040123115</dd>\n",
       "\t<dt>male</dt>\n",
       "\t\t<dd>43231.987289289</dd>\n",
       "\t<dt>preschool</dt>\n",
       "\t\t<dd>41921.9270684015</dd>\n",
       "\t<dt>publicSchool</dt>\n",
       "\t\t<dd>34716.59585352</dd>\n",
       "\t<dt>urban</dt>\n",
       "\t\t<dd>19650.9033133132</dd>\n",
       "\t<dt>schoolSize</dt>\n",
       "\t\t<dd>11412.0494660341</dd>\n",
       "\t<dt>studentsInEnglish</dt>\n",
       "\t\t<dd>7550.37918395667</dd>\n",
       "\t<dt>minutesPerWeekEnglish</dt>\n",
       "\t\t<dd>922.177225469394</dd>\n",
       "</dl>\n"
      ],
      "text/latex": [
       "\\begin{description*}\n",
       "\\item[expectBachelors] 2282409.89320684\n",
       "\\item[.data\\textbackslash{}\\_7] 1070628.90821269\n",
       "\\item[.data\\textbackslash{}\\_4] 542284.694394186\n",
       "\\item[motherBornUS] 429366.801731129\n",
       "\\item[fatherBornUS] 400091.792522189\n",
       "\\item[motherBachelors] 393018.066266264\n",
       "\\item[grade] 293364.123980217\n",
       "\\item[.data\\textbackslash{}\\_3] 269051.27511074\n",
       "\\item[englishAtHome] 257898.890650191\n",
       "\\item[.data\\textbackslash{}\\_2] 257193.845462851\n",
       "\\item[fatherBachelors] 204369.394458457\n",
       "\\item[read30MinsADay] 192735.040123115\n",
       "\\item[male] 43231.987289289\n",
       "\\item[preschool] 41921.9270684015\n",
       "\\item[publicSchool] 34716.59585352\n",
       "\\item[urban] 19650.9033133132\n",
       "\\item[schoolSize] 11412.0494660341\n",
       "\\item[studentsInEnglish] 7550.37918395667\n",
       "\\item[minutesPerWeekEnglish] 922.177225469394\n",
       "\\end{description*}\n"
      ],
      "text/markdown": [
       "expectBachelors\n",
       ":   2282409.89320684.data_7\n",
       ":   1070628.90821269.data_4\n",
       ":   542284.694394186motherBornUS\n",
       ":   429366.801731129fatherBornUS\n",
       ":   400091.792522189motherBachelors\n",
       ":   393018.066266264grade\n",
       ":   293364.123980217.data_3\n",
       ":   269051.27511074englishAtHome\n",
       ":   257898.890650191.data_2\n",
       ":   257193.845462851fatherBachelors\n",
       ":   204369.394458457read30MinsADay\n",
       ":   192735.040123115male\n",
       ":   43231.987289289preschool\n",
       ":   41921.9270684015publicSchool\n",
       ":   34716.59585352urban\n",
       ":   19650.9033133132schoolSize\n",
       ":   11412.0494660341studentsInEnglish\n",
       ":   7550.37918395667minutesPerWeekEnglish\n",
       ":   922.177225469394\n",
       "\n"
      ],
      "text/plain": [
       "      expectBachelors               .data_7               .data_4 \n",
       "         2282409.8932          1070628.9082           542284.6944 \n",
       "         motherBornUS          fatherBornUS       motherBachelors \n",
       "          429366.8017           400091.7925           393018.0663 \n",
       "                grade               .data_3         englishAtHome \n",
       "          293364.1240           269051.2751           257898.8907 \n",
       "              .data_2       fatherBachelors        read30MinsADay \n",
       "          257193.8455           204369.3945           192735.0401 \n",
       "                 male             preschool          publicSchool \n",
       "           43231.9873            41921.9271            34716.5959 \n",
       "                urban            schoolSize     studentsInEnglish \n",
       "           19650.9033            11412.0495             7550.3792 \n",
       "minutesPerWeekEnglish \n",
       "             922.1772 "
      ]
     },
     "metadata": {},
     "output_type": "display_data"
    },
    {
     "data": {
      "image/png": "[encoded data removed]",
      "text/plain": [
       "Plot with title \"\""
      ]
     },
     "metadata": {},
     "output_type": "display_data"
    }
   ],
   "source": [
    "reg_tree_pisa=tr$finalModel\n",
    "fancyRpartPlot(reg_tree_pisa)\n",
    "reg_tree_pisa$variable.importance"
   ]
  },
  {
   "cell_type": "code",
   "execution_count": 129,
   "metadata": {},
   "outputs": [],
   "source": [
    "predicted_pisa_dt=predict(reg_tree_pisa,newdata=pisa_test_dt)"
   ]
  },
  {
   "cell_type": "markdown",
   "metadata": {},
   "source": [
    "### Performanca Measure"
   ]
  },
  {
   "cell_type": "code",
   "execution_count": 133,
   "metadata": {
    "scrolled": true
   },
   "outputs": [
    {
     "data": {
      "text/html": [
       "<table>\n",
       "<thead><tr><th scope=col>name</th><th scope=col>n</th><th scope=col>mean</th><th scope=col>sd</th><th scope=col>FBias</th><th scope=col>MAPE</th><th scope=col>RMSE</th><th scope=col>MAD</th><th scope=col>WMAPE</th></tr></thead>\n",
       "<tbody>\n",
       "\t<tr><td>Decision Tree with CV for Pisa Dataset</td><td>990                                   </td><td>519.8643                              </td><td>88.80043                              </td><td>0.007325851                           </td><td>0.1262667                             </td><td>2.506513                              </td><td>62.69629                              </td><td>0.1206013                             </td></tr>\n",
       "</tbody>\n",
       "</table>\n"
      ],
      "text/latex": [
       "\\begin{tabular}{r|lllllllll}\n",
       " name & n & mean & sd & FBias & MAPE & RMSE & MAD & WMAPE\\\\\n",
       "\\hline\n",
       "\t Decision Tree with CV for Pisa Dataset & 990                                    & 519.8643                               & 88.80043                               & 0.007325851                            & 0.1262667                              & 2.506513                               & 62.69629                               & 0.1206013                             \\\\\n",
       "\\end{tabular}\n"
      ],
      "text/markdown": [
       "\n",
       "| name | n | mean | sd | FBias | MAPE | RMSE | MAD | WMAPE |\n",
       "|---|---|---|---|---|---|---|---|---|\n",
       "| Decision Tree with CV for Pisa Dataset | 990                                    | 519.8643                               | 88.80043                               | 0.007325851                            | 0.1262667                              | 2.506513                               | 62.69629                               | 0.1206013                              |\n",
       "\n"
      ],
      "text/plain": [
       "  name                                   n   mean     sd       FBias      \n",
       "1 Decision Tree with CV for Pisa Dataset 990 519.8643 88.80043 0.007325851\n",
       "  MAPE      RMSE     MAD      WMAPE    \n",
       "1 0.1262667 2.506513 62.69629 0.1206013"
      ]
     },
     "metadata": {},
     "output_type": "display_data"
    }
   ],
   "source": [
    "perf_dt(\"Decision Tree with CV for Pisa Dataset\",pisa_test_dt$readingScore,as.numeric(predicted_pisa_dt))"
   ]
  },
  {
   "cell_type": "markdown",
   "metadata": {},
   "source": [
    "## Random Forest(RF)"
   ]
  },
  {
   "cell_type": "code",
   "execution_count": null,
   "metadata": {},
   "outputs": [],
   "source": [
    "rf_grid=expand.grid(mtry = c(4, 6, 8),\n",
    "                    splitrule = c(\"gini\", \"extratrees\"),\n",
    "                    min.node.size = c(5))\n",
    "rf_grid "
   ]
  },
  {
   "cell_type": "code",
   "execution_count": null,
   "metadata": {},
   "outputs": [],
   "source": [
    "rf_fit=train(is_expensive ~ ., data = data.frame(classification_data), \n",
    "                 method = \"ranger\", \n",
    "                 trControl = fitControl, num.trees=100,\n",
    "                 tuneGrid = rf_grid) "
   ]
  },
  {
   "cell_type": "code",
   "execution_count": null,
   "metadata": {},
   "outputs": [],
   "source": [
    "rf_fit\n",
    "plot(rf_fit)"
   ]
  },
  {
   "cell_type": "code",
   "execution_count": null,
   "metadata": {},
   "outputs": [],
   "source": [
    "random_forest_pisa=randomForest(readingScore~.,data=pisa_train,\n",
    "                           ntree=300,nodesize=5)\n",
    "random_forest_pisa"
   ]
  },
  {
   "cell_type": "code",
   "execution_count": null,
   "metadata": {},
   "outputs": [],
   "source": [
    "varImpPlot(random_forest_pisa)"
   ]
  },
  {
   "cell_type": "code",
   "execution_count": null,
   "metadata": {},
   "outputs": [],
   "source": [
    "RandomForest_pisa=predict(random_forest_pisa,newdata=pisa_test)"
   ]
  },
  {
   "cell_type": "markdown",
   "metadata": {},
   "source": [
    "### Performanca Measure"
   ]
  },
  {
   "cell_type": "code",
   "execution_count": null,
   "metadata": {
    "scrolled": true
   },
   "outputs": [],
   "source": [
    "perf_dt(\"First Data Set for Random Forest\", as.numeric(RandomForest_pisa), as.numeric(pisa_test$readingScore))"
   ]
  },
  {
   "cell_type": "markdown",
   "metadata": {},
   "source": [
    "# Stochastic Gradient Boosting(SGB)"
   ]
  },
  {
   "cell_type": "code",
   "execution_count": null,
   "metadata": {},
   "outputs": [],
   "source": [
    "noftrees=100\n",
    "depth=5\n",
    "learning_rate=0.01\n",
    "sampling_fraction=1\n",
    "boosting_model_pisa=gbm(readingScore~., data=pisa_train ,distribution = \"gaussian\", n.trees = noftrees,\n",
    "        interaction.depth = depth, n.minobsinnode = 5, shrinkage =learning_rate ,\n",
    "        bag.fraction = sampling_fraction)\n",
    "\n",
    "predicted_pisa_sgb=predict(boosting_model_pisa,newdata=pisa_test,n.trees=noftrees)   "
   ]
  },
  {
   "cell_type": "markdown",
   "metadata": {},
   "source": [
    "### Performanca Measure"
   ]
  },
  {
   "cell_type": "code",
   "execution_count": null,
   "metadata": {
    "scrolled": false
   },
   "outputs": [],
   "source": [
    "perf_dt(\"First Data Set for Stochastic Gradient Boosting\", as.numeric(predicted_pisa_sgb), as.numeric(pisa_test$readingScore))"
   ]
  },
  {
   "cell_type": "markdown",
   "metadata": {},
   "source": [
    "# General Comparision"
   ]
  },
  {
   "cell_type": "code",
   "execution_count": null,
   "metadata": {},
   "outputs": [],
   "source": []
  }
 ],
 "metadata": {
  "kernelspec": {
   "display_name": "R",
   "language": "R",
   "name": "ir"
  },
  "language_info": {
   "codemirror_mode": "r",
   "file_extension": ".r",
   "mimetype": "text/x-r-source",
   "name": "R",
   "pygments_lexer": "r",
   "version": "3.6.1"
  }
 },
 "nbformat": 4,
 "nbformat_minor": 4
}
