{
 "cells": [
  {
   "cell_type": "code",
   "execution_count": 2,
   "metadata": {},
   "outputs": [],
   "source": [
    "library(data.table)\n",
    "library(glmnet)\n",
    "library(ggplot2)\n",
    "library(lubridate, quietly=TRUE)\n",
    "library(zoo, quietly = TRUE)\n",
    "library(dplyr, quietly = TRUE)\n",
    "library(GGally, quietly=TRUE)\n",
    "library(caTools)\n",
    "library(rpart)\n",
    "library(rattle)\n",
    "library(caret)\n",
    "library(e1071)\n",
    "library(randomForest)\n",
    "library(gbm)\n",
    "library(fastDummies)"
   ]
  },
  {
   "cell_type": "markdown",
   "metadata": {},
   "source": [
    "### Performance Function"
   ]
  },
  {
   "cell_type": "code",
   "execution_count": 2,
   "metadata": {},
   "outputs": [],
   "source": [
    "perf_dt=function(type,actual,forecast){\n",
    "    name=type\n",
    "    n=length(actual)\n",
    "    error=actual-forecast\n",
    "    mean=mean(actual)\n",
    "    sd=sd(actual)\n",
    "    FBias=sum(error)/sum(actual)\n",
    "    MPE=sum(error/actual)/n\n",
    "    MAPE=sum(abs(error/actual))/n\n",
    "    RMSE=sqrt(sum(error^2))/n\n",
    "    MAD=sum(abs(error))/n\n",
    "    WMAPE=MAD/mean\n",
    "    l=data.frame(name,n,mean,sd,FBias,MAPE,RMSE,MAD,WMAPE)\n",
    "    return(l)\n",
    "}"
   ]
  },
  {
   "cell_type": "markdown",
   "metadata": {},
   "source": [
    "In order to obtain the similar measure performance, a perf_dt function is written. In addition, if target variable categorical, confusionMatrix() function will be used for understanding performance of the model."
   ]
  },
  {
   "cell_type": "markdown",
   "metadata": {},
   "source": [
    "# Pisa Dataset"
   ]
  },
  {
   "cell_type": "markdown",
   "metadata": {},
   "source": [
    "Reading Test Scores\n",
    "The Programme for International Student Assessment (PISA) is a test given every three years to 15-year-old students from around the world to evaluate their performance in mathematics, reading, and science. This test provides a quantitative way to compare the performance of students from different parts of the world. In this homework assignment, we will predict the reading scores of students from the United States of America on the 2009 PISA exam.\n",
    "\n",
    "The datasets pisa2009train.csv and pisa2009test.csv contain information about the demographics and schools for American students taking the exam, derived from 2009 PISA Public-Use Data Files distributed by the United States National Center for Education Statistics (NCES). While the datasets are not supposed to contain identifying information about students taking the test, by using the data you are bound by the NCES data use agreement, which prohibits any attempt to determine the identity of any student in the datasets.\n",
    "\n",
    "Each row in the datasets pisa2009train.csv and pisa2009test.csv represents one student taking the exam. The datasets have the following variables:\n",
    "\n",
    "grade: The grade in school of the student (most 15-year-olds in America are in 10th grade)\n",
    "\n",
    "male: Whether the student is male (1/0)\n",
    "\n",
    "raceeth: The race/ethnicity composite of the student\n",
    "\n",
    "preschool: Whether the student attended preschool (1/0)\n",
    "\n",
    "expectBachelors: Whether the student expects to obtain a bachelor's degree (1/0)\n",
    "\n",
    "motherHS: Whether the student's mother completed high school (1/0)\n",
    "\n",
    "motherBachelors: Whether the student's mother obtained a bachelor's degree (1/0)\n",
    "\n",
    "motherWork: Whether the student's mother has part-time or full-time work (1/0)\n",
    "\n",
    "fatherHS: Whether the student's father completed high school (1/0)\n",
    "\n",
    "fatherBachelors: Whether the student's father obtained a bachelor's degree (1/0)\n",
    "\n",
    "fatherWork: Whether the student's father has part-time or full-time work (1/0)\n",
    "\n",
    "selfBornUS: Whether the student was born in the United States of America (1/0)\n",
    "\n",
    "motherBornUS: Whether the student's mother was born in the United States of America (1/0)\n",
    "\n",
    "fatherBornUS: Whether the student's father was born in the United States of America (1/0)\n",
    "\n",
    "englishAtHome: Whether the student speaks English at home (1/0)\n",
    "\n",
    "computerForSchoolwork: Whether the student has access to a computer for schoolwork (1/0)\n",
    "\n",
    "read30MinsADay: Whether the student reads for pleasure for 30 minutes/day (1/0)\n",
    "\n",
    "minutesPerWeekEnglish: The number of minutes per week the student spend in English class\n",
    "\n",
    "studentsInEnglish: The number of students in this student's English class at school\n",
    "\n",
    "schoolHasLibrary: Whether this student's school has a library (1/0)\n",
    "\n",
    "publicSchool: Whether this student attends a public school (1/0)\n",
    "\n",
    "urban: Whether this student's school is in an urban area (1/0)\n",
    "\n",
    "schoolSize: The number of students in this student's school\n",
    "\n",
    "readingScore: The student's reading score, on a 1000-point scale"
   ]
  },
  {
   "cell_type": "markdown",
   "metadata": {},
   "source": [
    "### Loading Dataset"
   ]
  },
  {
   "cell_type": "code",
   "execution_count": 3,
   "metadata": {},
   "outputs": [],
   "source": [
    "pisa_train=read.csv(\"pisa_train.csv\")\n",
    "pisa_test=read.csv(\"pisa_test.csv\")\n",
    "pisa_train=as.data.table(pisa_train,na.rm=TRUE)\n",
    "pisa_test=as.data.table(pisa_test,na.rm=TRUE)\n",
    "pisa_train=na.omit(pisa_train)\n",
    "pisa_test=na.omit(pisa_test)"
   ]
  },
  {
   "cell_type": "code",
   "execution_count": 4,
   "metadata": {},
   "outputs": [],
   "source": [
    "pisa_train$raceeth=as.factor(as.numeric(pisa_train$raceeth))\n",
    "pisa_test$raceeth=as.factor(as.numeric(pisa_test$raceeth))"
   ]
  },
  {
   "cell_type": "markdown",
   "metadata": {},
   "source": [
    "In this dataset, train and test dataset were seperated. 23 features exist in the data. Train input size is 2414 and test input size is 990. Namely, both of them exceeds the lower bound(200). In addition, target variable is \"readingScore\". readingScores take values in between 0 to 1000, which makes the dataset labeled. \n",
    "\n",
    "This dataset is proper for **Linear Regression** problems. Much as there is some wheter or not question, these values will be used as numeric. The **only factorial** feature is the **raceeth** representing the race of the students."
   ]
  },
  {
   "cell_type": "code",
   "execution_count": 5,
   "metadata": {},
   "outputs": [
    {
     "name": "stdout",
     "output_type": "stream",
     "text": [
      "Classes 'data.table' and 'data.frame':\t2414 obs. of  24 variables:\n",
      " $ grade                : int  11 10 10 10 10 10 10 10 11 9 ...\n",
      " $ male                 : int  1 0 1 0 1 0 0 0 1 1 ...\n",
      " $ raceeth              : Factor w/ 7 levels \"1\",\"2\",\"3\",\"4\",..: 7 3 4 7 5 4 7 4 7 7 ...\n",
      " $ preschool            : int  0 1 1 1 1 1 1 1 1 1 ...\n",
      " $ expectBachelors      : int  0 1 0 1 1 1 1 0 1 1 ...\n",
      " $ motherHS             : int  1 0 1 1 1 1 1 0 1 1 ...\n",
      " $ motherBachelors      : int  1 0 0 0 1 0 0 0 0 1 ...\n",
      " $ motherWork           : int  1 1 1 0 1 1 1 0 0 1 ...\n",
      " $ fatherHS             : int  1 1 1 1 0 1 1 0 1 1 ...\n",
      " $ fatherBachelors      : int  0 0 0 0 0 0 1 0 1 1 ...\n",
      " $ fatherWork           : int  1 1 0 1 1 0 1 1 1 1 ...\n",
      " $ selfBornUS           : int  1 1 1 1 1 0 1 0 1 1 ...\n",
      " $ motherBornUS         : int  1 1 1 1 1 0 1 0 1 1 ...\n",
      " $ fatherBornUS         : int  1 1 0 1 1 0 1 0 1 1 ...\n",
      " $ englishAtHome        : int  1 1 1 1 1 0 1 0 1 1 ...\n",
      " $ computerForSchoolwork: int  1 1 1 1 1 0 1 1 1 1 ...\n",
      " $ read30MinsADay       : int  1 1 1 1 0 1 1 1 0 0 ...\n",
      " $ minutesPerWeekEnglish: int  450 200 250 300 294 232 225 270 275 225 ...\n",
      " $ studentsInEnglish    : int  25 23 35 30 24 14 20 25 30 15 ...\n",
      " $ schoolHasLibrary     : int  1 1 1 1 1 1 1 1 1 1 ...\n",
      " $ publicSchool         : int  1 1 1 1 1 1 1 1 1 0 ...\n",
      " $ urban                : int  0 1 1 0 0 0 0 1 1 1 ...\n",
      " $ schoolSize           : int  1173 2640 1095 1913 899 1733 149 1400 1988 915 ...\n",
      " $ readingScore         : num  575 458 614 439 466 ...\n",
      " - attr(*, \".internal.selfref\")=<externalptr> \n"
     ]
    }
   ],
   "source": [
    "str(pisa_train)"
   ]
  },
  {
   "cell_type": "code",
   "execution_count": 6,
   "metadata": {},
   "outputs": [
    {
     "name": "stdout",
     "output_type": "stream",
     "text": [
      "Classes 'data.table' and 'data.frame':\t990 obs. of  24 variables:\n",
      " $ grade                : int  10 10 10 10 11 10 10 10 10 10 ...\n",
      " $ male                 : int  0 0 0 0 0 1 0 1 1 0 ...\n",
      " $ raceeth              : Factor w/ 7 levels \"1\",\"2\",\"3\",\"4\",..: 7 7 1 7 7 4 7 4 7 4 ...\n",
      " $ preschool            : int  1 1 1 1 0 1 0 1 1 1 ...\n",
      " $ expectBachelors      : int  0 1 0 0 0 1 1 0 1 1 ...\n",
      " $ motherHS             : int  1 1 1 1 1 1 1 1 1 1 ...\n",
      " $ motherBachelors      : int  1 0 0 0 1 1 0 0 1 0 ...\n",
      " $ motherWork           : int  1 0 0 1 1 1 0 1 1 1 ...\n",
      " $ fatherHS             : int  1 1 1 1 1 1 1 1 1 1 ...\n",
      " $ fatherBachelors      : int  0 1 0 0 1 0 0 0 1 1 ...\n",
      " $ fatherWork           : int  0 1 0 1 1 1 1 0 1 1 ...\n",
      " $ selfBornUS           : int  1 1 1 1 1 1 1 1 1 1 ...\n",
      " $ motherBornUS         : int  1 1 1 1 1 1 1 1 1 1 ...\n",
      " $ fatherBornUS         : int  1 1 1 1 1 1 1 1 1 1 ...\n",
      " $ englishAtHome        : int  1 1 1 1 1 1 1 1 1 1 ...\n",
      " $ computerForSchoolwork: int  1 1 1 1 1 1 1 1 1 1 ...\n",
      " $ read30MinsADay       : int  0 0 1 1 1 1 0 0 0 1 ...\n",
      " $ minutesPerWeekEnglish: int  240 240 240 270 270 350 350 360 350 360 ...\n",
      " $ studentsInEnglish    : int  30 30 30 35 30 25 27 28 25 27 ...\n",
      " $ schoolHasLibrary     : int  1 1 1 1 1 1 1 1 1 1 ...\n",
      " $ publicSchool         : int  1 1 1 1 1 1 1 1 1 1 ...\n",
      " $ urban                : int  0 0 0 0 0 0 0 0 0 0 ...\n",
      " $ schoolSize           : int  808 808 808 808 808 899 899 899 899 899 ...\n",
      " $ readingScore         : num  355 454 405 665 605 ...\n",
      " - attr(*, \".internal.selfref\")=<externalptr> \n"
     ]
    }
   ],
   "source": [
    "str(pisa_test)"
   ]
  },
  {
   "cell_type": "markdown",
   "metadata": {},
   "source": [
    "# Penalized Regression Approaches(PRA)"
   ]
  },
  {
   "cell_type": "markdown",
   "metadata": {},
   "source": [
    "### L1 Penalty with Mean Square Error measure"
   ]
  },
  {
   "cell_type": "markdown",
   "metadata": {},
   "source": [
    "In order to tune lambda values, glmnet packages are used to get best lambda values for Penalized Regression. "
   ]
  },
  {
   "cell_type": "code",
   "execution_count": 7,
   "metadata": {},
   "outputs": [],
   "source": [
    "train_mat_pisa=data.matrix(pisa_train[complete.cases(pisa_train),-c(\"readingScore\"),with=F])\n",
    "\n",
    "result_vec_pisa=as.vector(t(pisa_train[complete.cases(pisa_train),\"readingScore\"]))\n",
    "\n",
    "cvfit_pisa=cv.glmnet(train_mat_pisa,result_vec_pisa,family=\"gaussian\",nfolds = 10,type.measure = \"mse\")\n",
    "\n",
    "test_mat_pisa=data.matrix(pisa_test[complete.cases(pisa_test),-c(\"readingScore\")])\n",
    "\n",
    "lasso_model_pisa_mse_min <- glmnet(train_mat_pisa,result_vec_pisa, alpha = 1, lambda = cvfit_pisa$lambda.min, standardize = FALSE)\n",
    "lasso_model_pisa_mse_1se <- glmnet(train_mat_pisa,result_vec_pisa, alpha = 1, lambda = cvfit_pisa$lambda.1se, standardize = FALSE)\n",
    "lasso_model_pisa_mse_10th <- glmnet(train_mat_pisa,result_vec_pisa, alpha = 1, lambda = cvfit_pisa$lambda[10], standardize = FALSE)"
   ]
  },
  {
   "cell_type": "code",
   "execution_count": 8,
   "metadata": {},
   "outputs": [
    {
     "data": {
      "image/png": "[encoded data removed]",
      "text/plain": [
       "plot without title"
      ]
     },
     "metadata": {},
     "output_type": "display_data"
    }
   ],
   "source": [
    "plot(cvfit_pisa)"
   ]
  },
  {
   "cell_type": "markdown",
   "metadata": {},
   "source": [
    "### Lambda Values for Mean Square Error Values"
   ]
  },
  {
   "cell_type": "code",
   "execution_count": 9,
   "metadata": {},
   "outputs": [
    {
     "data": {
      "text/html": [
       "0.425835957930061"
      ],
      "text/latex": [
       "0.425835957930061"
      ],
      "text/markdown": [
       "0.425835957930061"
      ],
      "text/plain": [
       "[1] 0.425836"
      ]
     },
     "metadata": {},
     "output_type": "display_data"
    }
   ],
   "source": [
    "cvfit_pisa$lambda.min"
   ]
  },
  {
   "cell_type": "code",
   "execution_count": 10,
   "metadata": {},
   "outputs": [
    {
     "data": {
      "text/html": [
       "4.78351764571449"
      ],
      "text/latex": [
       "4.78351764571449"
      ],
      "text/markdown": [
       "4.78351764571449"
      ],
      "text/plain": [
       "[1] 4.783518"
      ]
     },
     "metadata": {},
     "output_type": "display_data"
    }
   ],
   "source": [
    "cvfit_pisa$lambda.1se"
   ]
  },
  {
   "cell_type": "code",
   "execution_count": 11,
   "metadata": {},
   "outputs": [
    {
     "data": {
      "text/html": [
       "13.3104219880205"
      ],
      "text/latex": [
       "13.3104219880205"
      ],
      "text/markdown": [
       "13.3104219880205"
      ],
      "text/plain": [
       "[1] 13.31042"
      ]
     },
     "metadata": {},
     "output_type": "display_data"
    }
   ],
   "source": [
    "cvfit_pisa$lambda[10]"
   ]
  },
  {
   "cell_type": "markdown",
   "metadata": {},
   "source": [
    "3 possible lambda values are determined by the cv.glmnet(). One of them is used for getting minimum Mean-Squared Error. The other one is determined by looking how many paramater is used in the model. Namely, this lambda value can be beneficial for reducing the possibility of over-fitting model on train dataset. Lastly, one random lambda was selected to compare results for these 3 lambda values."
   ]
  },
  {
   "cell_type": "code",
   "execution_count": 12,
   "metadata": {},
   "outputs": [],
   "source": [
    "prediction_pra_mse_pisa_min <- predict(lasso_model_pisa_mse_min, s = cvfit_pisa$lambda.min, newx = test_mat_pisa)\n",
    "prediction_pra_mse_pisa_1se <- predict(lasso_model_pisa_mse_1se, s = cvfit_pisa$lambda.1se, newx = test_mat_pisa)\n",
    "prediction_pra_mse_pisa_10th <- predict(lasso_model_pisa_mse_10th, s = cvfit_pisa$lambda[10], newx = test_mat_pisa)"
   ]
  },
  {
   "cell_type": "markdown",
   "metadata": {},
   "source": [
    "## L1 Penalty with Mean Absolute Error measure"
   ]
  },
  {
   "cell_type": "code",
   "execution_count": 13,
   "metadata": {},
   "outputs": [],
   "source": [
    "train_mat_pisa=data.matrix(pisa_train[complete.cases(pisa_train),-c(\"readingScore\"),with=F])\n",
    "\n",
    "result_vec_pisa=as.vector(t(pisa_train[complete.cases(pisa_train),\"readingScore\"]))\n",
    "\n",
    "cvfit_pisa_mae=cv.glmnet(train_mat_pisa,result_vec_pisa,family=\"gaussian\",nfolds = 10,type.measure=\"mae\")\n",
    "\n",
    "test_mat_pisa=data.matrix(pisa_test[complete.cases(pisa_test),-c(\"readingScore\")])\n",
    "\n",
    "lasso_model_pisa_mae_min <- glmnet(train_mat_pisa,result_vec_pisa, alpha = 1, lambda = cvfit_pisa_mae$lambda.min, standardize = FALSE)\n",
    "lasso_model_pisa_mae_1se <- glmnet(train_mat_pisa,result_vec_pisa, alpha = 1, lambda = cvfit_pisa_mae$lambda.1se, standardize = FALSE)\n",
    "lasso_model_pisa_mae_10th <- glmnet(train_mat_pisa,result_vec_pisa, alpha = 1, lambda = cvfit_pisa_mae$lambda[10], standardize = FALSE)"
   ]
  },
  {
   "cell_type": "code",
   "execution_count": 14,
   "metadata": {},
   "outputs": [
    {
     "data": {
      "image/png": "[encoded data removed]",
      "text/plain": [
       "plot without title"
      ]
     },
     "metadata": {},
     "output_type": "display_data"
    }
   ],
   "source": [
    "plot(cvfit_pisa_mae)"
   ]
  },
  {
   "cell_type": "markdown",
   "metadata": {},
   "source": [
    "### Lambda Values for Mean Absolute Error Values"
   ]
  },
  {
   "cell_type": "code",
   "execution_count": 15,
   "metadata": {},
   "outputs": [
    {
     "data": {
      "text/html": [
       "0.293512207911334"
      ],
      "text/latex": [
       "0.293512207911334"
      ],
      "text/markdown": [
       "0.293512207911334"
      ],
      "text/plain": [
       "[1] 0.2935122"
      ]
     },
     "metadata": {},
     "output_type": "display_data"
    }
   ],
   "source": [
    "cvfit_pisa_mae$lambda.min"
   ]
  },
  {
   "cell_type": "code",
   "execution_count": 16,
   "metadata": {},
   "outputs": [
    {
     "data": {
      "text/html": [
       "4.78351764571449"
      ],
      "text/latex": [
       "4.78351764571449"
      ],
      "text/markdown": [
       "4.78351764571449"
      ],
      "text/plain": [
       "[1] 4.783518"
      ]
     },
     "metadata": {},
     "output_type": "display_data"
    }
   ],
   "source": [
    "cvfit_pisa_mae$lambda.1se"
   ]
  },
  {
   "cell_type": "code",
   "execution_count": 17,
   "metadata": {},
   "outputs": [
    {
     "data": {
      "text/html": [
       "13.3104219880205"
      ],
      "text/latex": [
       "13.3104219880205"
      ],
      "text/markdown": [
       "13.3104219880205"
      ],
      "text/plain": [
       "[1] 13.31042"
      ]
     },
     "metadata": {},
     "output_type": "display_data"
    }
   ],
   "source": [
    "cvfit_pisa_mae$lambda[10]"
   ]
  },
  {
   "cell_type": "markdown",
   "metadata": {},
   "source": [
    "3 possible lambda values are determined by the cv.glmnet(). One of them is used for getting minimum Mean-Squared Error. The other one is determined by looking how many paramater is used in the model. Namely, this lambda value can be beneficial for reducing the possibility of over-fitting model on train dataset. Lastly, one random lambda was selected to compare results for these 3 lambda values."
   ]
  },
  {
   "cell_type": "code",
   "execution_count": 18,
   "metadata": {},
   "outputs": [],
   "source": [
    "prediction_pra_mae_pisa_min <- predict(lasso_model_pisa_mae_min, s = cvfit_pisa_mae$lambda.min, newx = test_mat_pisa)\n",
    "prediction_pra_mae_pisa_1se <- predict(lasso_model_pisa_mae_1se, s = cvfit_pisa_mae$lambda.1se, newx = test_mat_pisa)\n",
    "prediction_pra_mae_pisa_10th <- predict(lasso_model_pisa_mae_10th, s = cvfit_pisa_mae$lambda[10], newx = test_mat_pisa)"
   ]
  },
  {
   "cell_type": "markdown",
   "metadata": {},
   "source": [
    "### Performance Measure for Lasso Regression"
   ]
  },
  {
   "cell_type": "code",
   "execution_count": 19,
   "metadata": {
    "scrolled": false
   },
   "outputs": [
    {
     "data": {
      "text/html": [
       "<table>\n",
       "<thead><tr><th scope=col>name</th><th scope=col>n</th><th scope=col>mean</th><th scope=col>sd</th><th scope=col>FBias</th><th scope=col>MAPE</th><th scope=col>RMSE</th><th scope=col>MAD</th><th scope=col>WMAPE</th></tr></thead>\n",
       "<tbody>\n",
       "\t<tr><td>Pisa Data Set for Lasso Function with min lambda and mse objective</td><td>990                                                               </td><td>519.8643                                                          </td><td>88.80043                                                          </td><td>0.007031004                                                       </td><td>0.1220864                                                         </td><td>2.435895                                                          </td><td>60.65549                                                          </td><td>0.1166756                                                         </td></tr>\n",
       "</tbody>\n",
       "</table>\n"
      ],
      "text/latex": [
       "\\begin{tabular}{r|lllllllll}\n",
       " name & n & mean & sd & FBias & MAPE & RMSE & MAD & WMAPE\\\\\n",
       "\\hline\n",
       "\t Pisa Data Set for Lasso Function with min lambda and mse objective & 990                                                                & 519.8643                                                           & 88.80043                                                           & 0.007031004                                                        & 0.1220864                                                          & 2.435895                                                           & 60.65549                                                           & 0.1166756                                                         \\\\\n",
       "\\end{tabular}\n"
      ],
      "text/markdown": [
       "\n",
       "| name | n | mean | sd | FBias | MAPE | RMSE | MAD | WMAPE |\n",
       "|---|---|---|---|---|---|---|---|---|\n",
       "| Pisa Data Set for Lasso Function with min lambda and mse objective | 990                                                                | 519.8643                                                           | 88.80043                                                           | 0.007031004                                                        | 0.1220864                                                          | 2.435895                                                           | 60.65549                                                           | 0.1166756                                                          |\n",
       "\n"
      ],
      "text/plain": [
       "  name                                                               n  \n",
       "1 Pisa Data Set for Lasso Function with min lambda and mse objective 990\n",
       "  mean     sd       FBias       MAPE      RMSE     MAD      WMAPE    \n",
       "1 519.8643 88.80043 0.007031004 0.1220864 2.435895 60.65549 0.1166756"
      ]
     },
     "metadata": {},
     "output_type": "display_data"
    },
    {
     "data": {
      "text/html": [
       "<table>\n",
       "<thead><tr><th scope=col>name</th><th scope=col>n</th><th scope=col>mean</th><th scope=col>sd</th><th scope=col>FBias</th><th scope=col>MAPE</th><th scope=col>RMSE</th><th scope=col>MAD</th><th scope=col>WMAPE</th></tr></thead>\n",
       "<tbody>\n",
       "\t<tr><td>Pisa Data Set for Lasso Function with 1se lambda and mse objective</td><td>990                                                               </td><td>519.8643                                                          </td><td>88.80043                                                          </td><td>0.005745756                                                       </td><td>0.1260195                                                         </td><td>2.495768                                                          </td><td>62.26346                                                          </td><td>0.1197687                                                         </td></tr>\n",
       "</tbody>\n",
       "</table>\n"
      ],
      "text/latex": [
       "\\begin{tabular}{r|lllllllll}\n",
       " name & n & mean & sd & FBias & MAPE & RMSE & MAD & WMAPE\\\\\n",
       "\\hline\n",
       "\t Pisa Data Set for Lasso Function with 1se lambda and mse objective & 990                                                                & 519.8643                                                           & 88.80043                                                           & 0.005745756                                                        & 0.1260195                                                          & 2.495768                                                           & 62.26346                                                           & 0.1197687                                                         \\\\\n",
       "\\end{tabular}\n"
      ],
      "text/markdown": [
       "\n",
       "| name | n | mean | sd | FBias | MAPE | RMSE | MAD | WMAPE |\n",
       "|---|---|---|---|---|---|---|---|---|\n",
       "| Pisa Data Set for Lasso Function with 1se lambda and mse objective | 990                                                                | 519.8643                                                           | 88.80043                                                           | 0.005745756                                                        | 0.1260195                                                          | 2.495768                                                           | 62.26346                                                           | 0.1197687                                                          |\n",
       "\n"
      ],
      "text/plain": [
       "  name                                                               n  \n",
       "1 Pisa Data Set for Lasso Function with 1se lambda and mse objective 990\n",
       "  mean     sd       FBias       MAPE      RMSE     MAD      WMAPE    \n",
       "1 519.8643 88.80043 0.005745756 0.1260195 2.495768 62.26346 0.1197687"
      ]
     },
     "metadata": {},
     "output_type": "display_data"
    },
    {
     "data": {
      "text/html": [
       "<table>\n",
       "<thead><tr><th scope=col>name</th><th scope=col>n</th><th scope=col>mean</th><th scope=col>sd</th><th scope=col>FBias</th><th scope=col>MAPE</th><th scope=col>RMSE</th><th scope=col>MAD</th><th scope=col>WMAPE</th></tr></thead>\n",
       "<tbody>\n",
       "\t<tr><td>Pisa Data Set for Lasso Function with 10th lambda and mse objective</td><td>990                                                                </td><td>519.8643                                                           </td><td>88.80043                                                           </td><td>0.00334385                                                         </td><td>0.1397751                                                          </td><td>2.733464                                                           </td><td>68.49831                                                           </td><td>0.1317619                                                          </td></tr>\n",
       "</tbody>\n",
       "</table>\n"
      ],
      "text/latex": [
       "\\begin{tabular}{r|lllllllll}\n",
       " name & n & mean & sd & FBias & MAPE & RMSE & MAD & WMAPE\\\\\n",
       "\\hline\n",
       "\t Pisa Data Set for Lasso Function with 10th lambda and mse objective & 990                                                                 & 519.8643                                                            & 88.80043                                                            & 0.00334385                                                          & 0.1397751                                                           & 2.733464                                                            & 68.49831                                                            & 0.1317619                                                          \\\\\n",
       "\\end{tabular}\n"
      ],
      "text/markdown": [
       "\n",
       "| name | n | mean | sd | FBias | MAPE | RMSE | MAD | WMAPE |\n",
       "|---|---|---|---|---|---|---|---|---|\n",
       "| Pisa Data Set for Lasso Function with 10th lambda and mse objective | 990                                                                 | 519.8643                                                            | 88.80043                                                            | 0.00334385                                                          | 0.1397751                                                           | 2.733464                                                            | 68.49831                                                            | 0.1317619                                                           |\n",
       "\n"
      ],
      "text/plain": [
       "  name                                                                n  \n",
       "1 Pisa Data Set for Lasso Function with 10th lambda and mse objective 990\n",
       "  mean     sd       FBias      MAPE      RMSE     MAD      WMAPE    \n",
       "1 519.8643 88.80043 0.00334385 0.1397751 2.733464 68.49831 0.1317619"
      ]
     },
     "metadata": {},
     "output_type": "display_data"
    },
    {
     "data": {
      "text/html": [
       "<table>\n",
       "<thead><tr><th scope=col>name</th><th scope=col>n</th><th scope=col>mean</th><th scope=col>sd</th><th scope=col>FBias</th><th scope=col>MAPE</th><th scope=col>RMSE</th><th scope=col>MAD</th><th scope=col>WMAPE</th></tr></thead>\n",
       "<tbody>\n",
       "\t<tr><td>Pisa Data Set for Lasso Function with min lambda and mae objective</td><td>990                                                               </td><td>519.8643                                                          </td><td>88.80043                                                          </td><td>0.007077976                                                       </td><td>0.122128                                                          </td><td>2.437318                                                          </td><td>60.69028                                                          </td><td>0.1167425                                                         </td></tr>\n",
       "</tbody>\n",
       "</table>\n"
      ],
      "text/latex": [
       "\\begin{tabular}{r|lllllllll}\n",
       " name & n & mean & sd & FBias & MAPE & RMSE & MAD & WMAPE\\\\\n",
       "\\hline\n",
       "\t Pisa Data Set for Lasso Function with min lambda and mae objective & 990                                                                & 519.8643                                                           & 88.80043                                                           & 0.007077976                                                        & 0.122128                                                           & 2.437318                                                           & 60.69028                                                           & 0.1167425                                                         \\\\\n",
       "\\end{tabular}\n"
      ],
      "text/markdown": [
       "\n",
       "| name | n | mean | sd | FBias | MAPE | RMSE | MAD | WMAPE |\n",
       "|---|---|---|---|---|---|---|---|---|\n",
       "| Pisa Data Set for Lasso Function with min lambda and mae objective | 990                                                                | 519.8643                                                           | 88.80043                                                           | 0.007077976                                                        | 0.122128                                                           | 2.437318                                                           | 60.69028                                                           | 0.1167425                                                          |\n",
       "\n"
      ],
      "text/plain": [
       "  name                                                               n  \n",
       "1 Pisa Data Set for Lasso Function with min lambda and mae objective 990\n",
       "  mean     sd       FBias       MAPE     RMSE     MAD      WMAPE    \n",
       "1 519.8643 88.80043 0.007077976 0.122128 2.437318 60.69028 0.1167425"
      ]
     },
     "metadata": {},
     "output_type": "display_data"
    },
    {
     "data": {
      "text/html": [
       "<table>\n",
       "<thead><tr><th scope=col>name</th><th scope=col>n</th><th scope=col>mean</th><th scope=col>sd</th><th scope=col>FBias</th><th scope=col>MAPE</th><th scope=col>RMSE</th><th scope=col>MAD</th><th scope=col>WMAPE</th></tr></thead>\n",
       "<tbody>\n",
       "\t<tr><td>Pisa Data Set for Lasso Function with 1se lambda and mae objective</td><td>990                                                               </td><td>519.8643                                                          </td><td>88.80043                                                          </td><td>0.005745756                                                       </td><td>0.1260195                                                         </td><td>2.495768                                                          </td><td>62.26346                                                          </td><td>0.1197687                                                         </td></tr>\n",
       "</tbody>\n",
       "</table>\n"
      ],
      "text/latex": [
       "\\begin{tabular}{r|lllllllll}\n",
       " name & n & mean & sd & FBias & MAPE & RMSE & MAD & WMAPE\\\\\n",
       "\\hline\n",
       "\t Pisa Data Set for Lasso Function with 1se lambda and mae objective & 990                                                                & 519.8643                                                           & 88.80043                                                           & 0.005745756                                                        & 0.1260195                                                          & 2.495768                                                           & 62.26346                                                           & 0.1197687                                                         \\\\\n",
       "\\end{tabular}\n"
      ],
      "text/markdown": [
       "\n",
       "| name | n | mean | sd | FBias | MAPE | RMSE | MAD | WMAPE |\n",
       "|---|---|---|---|---|---|---|---|---|\n",
       "| Pisa Data Set for Lasso Function with 1se lambda and mae objective | 990                                                                | 519.8643                                                           | 88.80043                                                           | 0.005745756                                                        | 0.1260195                                                          | 2.495768                                                           | 62.26346                                                           | 0.1197687                                                          |\n",
       "\n"
      ],
      "text/plain": [
       "  name                                                               n  \n",
       "1 Pisa Data Set for Lasso Function with 1se lambda and mae objective 990\n",
       "  mean     sd       FBias       MAPE      RMSE     MAD      WMAPE    \n",
       "1 519.8643 88.80043 0.005745756 0.1260195 2.495768 62.26346 0.1197687"
      ]
     },
     "metadata": {},
     "output_type": "display_data"
    },
    {
     "data": {
      "text/html": [
       "<table>\n",
       "<thead><tr><th scope=col>name</th><th scope=col>n</th><th scope=col>mean</th><th scope=col>sd</th><th scope=col>FBias</th><th scope=col>MAPE</th><th scope=col>RMSE</th><th scope=col>MAD</th><th scope=col>WMAPE</th></tr></thead>\n",
       "<tbody>\n",
       "\t<tr><td>Pisa Data Set for Lasso Function with 10th lambda and mae objective</td><td>990                                                                </td><td>519.8643                                                           </td><td>88.80043                                                           </td><td>0.00334385                                                         </td><td>0.1397751                                                          </td><td>2.733464                                                           </td><td>68.49831                                                           </td><td>0.1317619                                                          </td></tr>\n",
       "</tbody>\n",
       "</table>\n"
      ],
      "text/latex": [
       "\\begin{tabular}{r|lllllllll}\n",
       " name & n & mean & sd & FBias & MAPE & RMSE & MAD & WMAPE\\\\\n",
       "\\hline\n",
       "\t Pisa Data Set for Lasso Function with 10th lambda and mae objective & 990                                                                 & 519.8643                                                            & 88.80043                                                            & 0.00334385                                                          & 0.1397751                                                           & 2.733464                                                            & 68.49831                                                            & 0.1317619                                                          \\\\\n",
       "\\end{tabular}\n"
      ],
      "text/markdown": [
       "\n",
       "| name | n | mean | sd | FBias | MAPE | RMSE | MAD | WMAPE |\n",
       "|---|---|---|---|---|---|---|---|---|\n",
       "| Pisa Data Set for Lasso Function with 10th lambda and mae objective | 990                                                                 | 519.8643                                                            | 88.80043                                                            | 0.00334385                                                          | 0.1397751                                                           | 2.733464                                                            | 68.49831                                                            | 0.1317619                                                           |\n",
       "\n"
      ],
      "text/plain": [
       "  name                                                                n  \n",
       "1 Pisa Data Set for Lasso Function with 10th lambda and mae objective 990\n",
       "  mean     sd       FBias      MAPE      RMSE     MAD      WMAPE    \n",
       "1 519.8643 88.80043 0.00334385 0.1397751 2.733464 68.49831 0.1317619"
      ]
     },
     "metadata": {},
     "output_type": "display_data"
    }
   ],
   "source": [
    "perf_dt(\"Pisa Data Set for Lasso Function with min lambda and mse objective\", as.numeric(pisa_test$readingScore), prediction_pra_mse_pisa_min)\n",
    "perf_dt(\"Pisa Data Set for Lasso Function with 1se lambda and mse objective\", as.numeric(pisa_test$readingScore), prediction_pra_mse_pisa_1se)\n",
    "perf_dt(\"Pisa Data Set for Lasso Function with 10th lambda and mse objective\", as.numeric(pisa_test$readingScore), prediction_pra_mse_pisa_10th)\n",
    "\n",
    "perf_dt(\"Pisa Data Set for Lasso Function with min lambda and mae objective\", as.numeric(pisa_test$readingScore), prediction_pra_mae_pisa_min)\n",
    "perf_dt(\"Pisa Data Set for Lasso Function with 1se lambda and mae objective\", as.numeric(pisa_test$readingScore), prediction_pra_mae_pisa_1se)\n",
    "perf_dt(\"Pisa Data Set for Lasso Function with 10th lambda and mae objective\", as.numeric(pisa_test$readingScore), prediction_pra_mae_pisa_10th)"
   ]
  },
  {
   "cell_type": "markdown",
   "metadata": {},
   "source": [
    "### Glmnet with Caret Library"
   ]
  },
  {
   "cell_type": "code",
   "execution_count": 20,
   "metadata": {},
   "outputs": [],
   "source": [
    "fitControl=trainControl(method = \"repeatedcv\",\n",
    "                           number = 10) "
   ]
  },
  {
   "cell_type": "markdown",
   "metadata": {},
   "source": [
    "In order to compare obtained result with resamples function, the same process will be made with caret() library. "
   ]
  },
  {
   "cell_type": "code",
   "execution_count": 21,
   "metadata": {},
   "outputs": [],
   "source": [
    "lambda_grid <- expand.grid(alpha = 1, lambda = c(cvfit_pisa_mae$lambda.min,\n",
    "                                                 cvfit_pisa_mae$lambda.1se,\n",
    "                                                 cvfit_pisa_mae$lambda[10]))"
   ]
  },
  {
   "cell_type": "code",
   "execution_count": 23,
   "metadata": {},
   "outputs": [],
   "source": [
    "lm_model <- train(readingScore ~ ., data = pisa_train, method = \"glmnet\", \n",
    "                   trControl = fitControl, tuneGrid = lambda_grid)"
   ]
  },
  {
   "cell_type": "code",
   "execution_count": 24,
   "metadata": {},
   "outputs": [
    {
     "data": {
      "text/plain": [
       "glmnet \n",
       "\n",
       "2414 samples\n",
       "  23 predictor\n",
       "\n",
       "No pre-processing\n",
       "Resampling: Cross-Validated (10 fold, repeated 1 times) \n",
       "Summary of sample sizes: 2172, 2170, 2173, 2173, 2172, 2173, ... \n",
       "Resampling results across tuning parameters:\n",
       "\n",
       "  lambda      RMSE      Rsquared   MAE     \n",
       "   0.2935122  74.18294  0.3113987  59.11383\n",
       "   4.7835176  75.29688  0.3020824  60.35636\n",
       "  13.3104220  80.12992  0.2660190  64.68339\n",
       "\n",
       "Tuning parameter 'alpha' was held constant at a value of 1\n",
       "RMSE was used to select the optimal model using the smallest value.\n",
       "The final values used for the model were alpha = 1 and lambda = 0.2935122."
      ]
     },
     "metadata": {},
     "output_type": "display_data"
    },
    {
     "data": {
      "image/png": "[encoded data removed]",
      "text/plain": [
       "plot without title"
      ]
     },
     "metadata": {},
     "output_type": "display_data"
    }
   ],
   "source": [
    "lm_model\n",
    "plot(lm_model)"
   ]
  },
  {
   "cell_type": "markdown",
   "metadata": {},
   "source": [
    "# Decision Tree(DT)"
   ]
  },
  {
   "cell_type": "code",
   "execution_count": 25,
   "metadata": {},
   "outputs": [],
   "source": [
    "set.seed(35)"
   ]
  },
  {
   "cell_type": "code",
   "execution_count": 26,
   "metadata": {},
   "outputs": [],
   "source": [
    "pisa_train_dt=cbind(pisa_train,dummy_cols(pisa_train$raceeth)[2:8])\n",
    "pisa_test_dt=cbind(pisa_test,dummy_cols(pisa_test$raceeth)[2:8])\n",
    "pisa_train_dt[,raceeth:=NULL]\n",
    "pisa_test_dt[,raceeth:=NULL]"
   ]
  },
  {
   "cell_type": "code",
   "execution_count": 84,
   "metadata": {
    "scrolled": false
   },
   "outputs": [
    {
     "name": "stdout",
     "output_type": "stream",
     "text": [
      "CART \n",
      "\n",
      "2414 samples\n",
      "  29 predictor\n",
      "\n",
      "No pre-processing\n",
      "Resampling: Cross-Validated (10 fold) \n",
      "Summary of sample sizes: 2174, 2174, 2173, 2173, 2172, 2172, ... \n",
      "Resampling results across tuning parameters:\n",
      "\n",
      "  cp    RMSE      Rsquared   MAE     \n",
      "  0.00  86.43239  0.1788168  69.03796\n",
      "  0.01  79.78645  0.2062530  63.87710\n",
      "  0.02  81.55944  0.1706490  65.42246\n",
      "  0.03  81.84562  0.1643843  65.79221\n",
      "  0.04  81.84562  0.1643843  65.79221\n",
      "  0.05  81.84562  0.1643843  65.79221\n",
      "  0.06  83.80662  0.1249895  67.72905\n",
      "  0.07  83.83896  0.1239966  67.75617\n",
      "  0.08  83.83896  0.1239966  67.75617\n",
      "  0.09  83.83896  0.1239966  67.75617\n",
      "  0.10  83.83896  0.1239966  67.75617\n",
      "\n",
      "RMSE was used to select the optimal model using the smallest value.\n",
      "The final value used for the model was cp = 0.01.\n",
      "CART \n",
      "\n",
      "2414 samples\n",
      "  29 predictor\n",
      "\n",
      "No pre-processing\n",
      "Resampling: Cross-Validated (10 fold) \n",
      "Summary of sample sizes: 2171, 2172, 2172, 2173, 2171, 2174, ... \n",
      "Resampling results across tuning parameters:\n",
      "\n",
      "  cp    RMSE      Rsquared   MAE     \n",
      "  0.00  85.09262  0.1857661  67.70502\n",
      "  0.01  79.76706  0.2076705  64.13921\n",
      "  0.02  81.05704  0.1798099  65.13733\n",
      "  0.03  81.21922  0.1758374  65.30603\n",
      "  0.04  81.21922  0.1758374  65.30603\n",
      "  0.05  81.21922  0.1758374  65.30603\n",
      "  0.06  83.82285  0.1224986  67.59371\n",
      "  0.07  83.87534  0.1217311  67.74230\n",
      "  0.08  83.87534  0.1217311  67.74230\n",
      "  0.09  83.87534  0.1217311  67.74230\n",
      "  0.10  83.87534  0.1217311  67.74230\n",
      "\n",
      "RMSE was used to select the optimal model using the smallest value.\n",
      "The final value used for the model was cp = 0.01.\n"
     ]
    },
    {
     "data": {
      "image/png": "[encoded data removed]",
      "text/plain": [
       "plot without title"
      ]
     },
     "metadata": {},
     "output_type": "display_data"
    },
    {
     "name": "stdout",
     "output_type": "stream",
     "text": [
      "CART \n",
      "\n",
      "2414 samples\n",
      "  29 predictor\n",
      "\n",
      "No pre-processing\n",
      "Resampling: Cross-Validated (10 fold) \n",
      "Summary of sample sizes: 2172, 2173, 2174, 2171, 2172, 2172, ... \n",
      "Resampling results across tuning parameters:\n",
      "\n",
      "  cp    RMSE      Rsquared   MAE     \n",
      "  0.00  83.19228  0.2057427  66.08406\n",
      "  0.01  79.54630  0.2087188  63.63208\n",
      "  0.02  81.23162  0.1744081  64.94994\n",
      "  0.03  81.73480  0.1635318  65.72892\n",
      "  0.04  81.73480  0.1635318  65.72892\n",
      "  0.05  81.73480  0.1635318  65.72892\n",
      "  0.06  83.80335  0.1219118  67.72705\n",
      "  0.07  83.80335  0.1219118  67.72705\n",
      "  0.08  83.80335  0.1219118  67.72705\n",
      "  0.09  83.80335  0.1219118  67.72705\n",
      "  0.10  83.80335  0.1219118  67.72705\n",
      "\n",
      "RMSE was used to select the optimal model using the smallest value.\n",
      "The final value used for the model was cp = 0.01.\n"
     ]
    },
    {
     "data": {
      "image/png": "[encoded data removed]",
      "text/plain": [
       "plot without title"
      ]
     },
     "metadata": {},
     "output_type": "display_data"
    },
    {
     "name": "stdout",
     "output_type": "stream",
     "text": [
      "CART \n",
      "\n",
      "2414 samples\n",
      "  29 predictor\n",
      "\n",
      "No pre-processing\n",
      "Resampling: Cross-Validated (10 fold) \n",
      "Summary of sample sizes: 2173, 2172, 2171, 2172, 2174, 2173, ... \n",
      "Resampling results across tuning parameters:\n",
      "\n",
      "  cp    RMSE      Rsquared   MAE     \n",
      "  0.00  82.74390  0.2064050  65.99749\n",
      "  0.01  79.94185  0.2039930  64.28358\n",
      "  0.02  81.30953  0.1749238  65.28039\n",
      "  0.03  81.21586  0.1759162  65.34955\n",
      "  0.04  81.21586  0.1759162  65.34955\n",
      "  0.05  81.21586  0.1759162  65.34955\n",
      "  0.06  83.78658  0.1246983  67.72485\n",
      "  0.07  83.86069  0.1237147  67.75225\n",
      "  0.08  83.86069  0.1237147  67.75225\n",
      "  0.09  83.86069  0.1237147  67.75225\n",
      "  0.10  83.86069  0.1237147  67.75225\n",
      "\n",
      "RMSE was used to select the optimal model using the smallest value.\n",
      "The final value used for the model was cp = 0.01.\n"
     ]
    },
    {
     "data": {
      "image/png": "[encoded data removed]",
      "text/plain": [
       "plot without title"
      ]
     },
     "metadata": {},
     "output_type": "display_data"
    },
    {
     "name": "stdout",
     "output_type": "stream",
     "text": [
      "CART \n",
      "\n",
      "2414 samples\n",
      "  29 predictor\n",
      "\n",
      "No pre-processing\n",
      "Resampling: Cross-Validated (10 fold) \n",
      "Summary of sample sizes: 2174, 2174, 2174, 2172, 2173, 2172, ... \n",
      "Resampling results across tuning parameters:\n",
      "\n",
      "  cp    RMSE      Rsquared   MAE     \n",
      "  0.00  81.09108  0.2224158  64.68187\n",
      "  0.01  79.62314  0.2078914  63.89771\n",
      "  0.02  81.23304  0.1745189  65.18371\n",
      "  0.03  81.17396  0.1752825  65.28091\n",
      "  0.04  81.17396  0.1752825  65.28091\n",
      "  0.05  81.17396  0.1752825  65.28091\n",
      "  0.06  83.83153  0.1203198  67.71387\n",
      "  0.07  83.83153  0.1203198  67.71387\n",
      "  0.08  83.83153  0.1203198  67.71387\n",
      "  0.09  83.83153  0.1203198  67.71387\n",
      "  0.10  83.83153  0.1203198  67.71387\n",
      "\n",
      "RMSE was used to select the optimal model using the smallest value.\n",
      "The final value used for the model was cp = 0.01.\n"
     ]
    },
    {
     "data": {
      "image/png": "[encoded data removed]",
      "text/plain": [
       "plot without title"
      ]
     },
     "metadata": {},
     "output_type": "display_data"
    },
    {
     "data": {
      "image/png": "[encoded data removed]",
      "text/plain": [
       "plot without title"
      ]
     },
     "metadata": {},
     "output_type": "display_data"
    },
    {
     "name": "stdout",
     "output_type": "stream",
     "text": [
      "CART \n",
      "\n",
      "2414 samples\n",
      "  29 predictor\n",
      "\n",
      "No pre-processing\n",
      "Resampling: Cross-Validated (10 fold) \n",
      "Summary of sample sizes: 2172, 2174, 2172, 2174, 2172, 2172, ... \n",
      "Resampling results across tuning parameters:\n",
      "\n",
      "  cp    RMSE      Rsquared   MAE     \n",
      "  0.00  80.30267  0.2296149  63.79635\n",
      "  0.01  79.13076  0.2179484  63.53133\n",
      "  0.02  80.98301  0.1805495  65.06587\n",
      "  0.03  81.17066  0.1758621  65.28910\n",
      "  0.04  81.17066  0.1758621  65.28910\n",
      "  0.05  81.17066  0.1758621  65.28910\n",
      "  0.06  83.84066  0.1207353  67.73345\n",
      "  0.07  83.84066  0.1207353  67.73345\n",
      "  0.08  83.84066  0.1207353  67.73345\n",
      "  0.09  83.84066  0.1207353  67.73345\n",
      "  0.10  83.84066  0.1207353  67.73345\n",
      "\n",
      "RMSE was used to select the optimal model using the smallest value.\n",
      "The final value used for the model was cp = 0.01.\n"
     ]
    },
    {
     "data": {
      "image/png": "[encoded data removed]",
      "text/plain": [
       "plot without title"
      ]
     },
     "metadata": {},
     "output_type": "display_data"
    }
   ],
   "source": [
    "numFolds=trainControl(method=\"cv\",number = 10)\n",
    "cpGrid=expand.grid(.cp=(0:10)*0.01)\n",
    "#minbucket_grid=expand.grid(.cp=(5:10))\n",
    "for(i in 5:10){\n",
    "    tr=train(readingScore~.,\n",
    "          data=pisa_train_dt, \n",
    "          method=\"rpart\",\n",
    "          trControl=numFolds,\n",
    "          tuneGrid= cpGrid,\n",
    "            # minbucket=minbucket_grid\n",
    "           control= rpart.control(minbucket = i)\n",
    "            )\n",
    "    trellis.par.set(caretTheme())\n",
    "    print(plot(tr))    \n",
    "    print(tr)\n",
    "}"
   ]
  },
  {
   "cell_type": "markdown",
   "metadata": {},
   "source": [
    "Best minbucket is determined by looking the plots and the RMSE values in the models. The model with smallest RMSE value's minbucket is determined as optimal minbucket size for Decision Tree. This model is names as tr_last to keep information of this model to compare with other models."
   ]
  },
  {
   "cell_type": "code",
   "execution_count": 91,
   "metadata": {},
   "outputs": [
    {
     "name": "stdout",
     "output_type": "stream",
     "text": [
      "CART \n",
      "\n",
      "2414 samples\n",
      "  29 predictor\n",
      "\n",
      "No pre-processing\n",
      "Resampling: Cross-Validated (10 fold) \n",
      "Summary of sample sizes: 2174, 2171, 2173, 2172, 2172, 2172, ... \n",
      "Resampling results across tuning parameters:\n",
      "\n",
      "  cp    RMSE      Rsquared   MAE     \n",
      "  0.00  80.54359  0.2271929  64.29627\n",
      "  0.01  79.54121  0.2094880  63.67533\n",
      "  0.02  81.09784  0.1780498  65.22498\n",
      "  0.03  81.86471  0.1618356  65.90086\n",
      "  0.04  81.86471  0.1618356  65.90086\n",
      "  0.05  81.86471  0.1618356  65.90086\n",
      "  0.06  83.80165  0.1216110  67.70118\n",
      "  0.07  83.82850  0.1210650  67.73239\n",
      "  0.08  83.82850  0.1210650  67.73239\n",
      "  0.09  83.82850  0.1210650  67.73239\n",
      "  0.10  83.82850  0.1210650  67.73239\n",
      "\n",
      "RMSE was used to select the optimal model using the smallest value.\n",
      "The final value used for the model was cp = 0.01.\n"
     ]
    },
    {
     "data": {
      "image/png": "[encoded data removed]",
      "text/plain": [
       "plot without title"
      ]
     },
     "metadata": {},
     "output_type": "display_data"
    }
   ],
   "source": [
    "numFolds=trainControl(method=\"cv\",number = 10)\n",
    "cpGrid=expand.grid(.cp=(0:10)*0.01)\n",
    "tr_last=train(readingScore~.,\n",
    "      data=pisa_train_dt, \n",
    "      method=\"rpart\",\n",
    "      trControl=numFolds,\n",
    "      tuneGrid= cpGrid,\n",
    "        # minbucket=minbucket_grid\n",
    "       control= rpart.control(minbucket = 9)\n",
    "        )\n",
    "trellis.par.set(caretTheme())\n",
    "print(plot(tr_last))    \n",
    "print(tr_last)"
   ]
  },
  {
   "cell_type": "code",
   "execution_count": 87,
   "metadata": {},
   "outputs": [
    {
     "data": {
      "text/html": [
       "<dl class=dl-horizontal>\n",
       "\t<dt>expectBachelors</dt>\n",
       "\t\t<dd>2282409.89320684</dd>\n",
       "\t<dt>.data_7</dt>\n",
       "\t\t<dd>1070628.90821269</dd>\n",
       "\t<dt>.data_4</dt>\n",
       "\t\t<dd>542284.694394186</dd>\n",
       "\t<dt>motherBornUS</dt>\n",
       "\t\t<dd>429366.801731129</dd>\n",
       "\t<dt>fatherBornUS</dt>\n",
       "\t\t<dd>400091.792522189</dd>\n",
       "\t<dt>motherBachelors</dt>\n",
       "\t\t<dd>393018.066266264</dd>\n",
       "\t<dt>grade</dt>\n",
       "\t\t<dd>293364.123980217</dd>\n",
       "\t<dt>.data_3</dt>\n",
       "\t\t<dd>269051.27511074</dd>\n",
       "\t<dt>englishAtHome</dt>\n",
       "\t\t<dd>257898.890650191</dd>\n",
       "\t<dt>.data_2</dt>\n",
       "\t\t<dd>257193.845462851</dd>\n",
       "\t<dt>fatherBachelors</dt>\n",
       "\t\t<dd>204369.394458457</dd>\n",
       "\t<dt>read30MinsADay</dt>\n",
       "\t\t<dd>192735.040123115</dd>\n",
       "\t<dt>male</dt>\n",
       "\t\t<dd>43231.987289289</dd>\n",
       "\t<dt>preschool</dt>\n",
       "\t\t<dd>41921.9270684015</dd>\n",
       "\t<dt>publicSchool</dt>\n",
       "\t\t<dd>34716.59585352</dd>\n",
       "\t<dt>urban</dt>\n",
       "\t\t<dd>19650.9033133132</dd>\n",
       "\t<dt>schoolSize</dt>\n",
       "\t\t<dd>11412.0494660341</dd>\n",
       "\t<dt>studentsInEnglish</dt>\n",
       "\t\t<dd>7550.37918395667</dd>\n",
       "\t<dt>minutesPerWeekEnglish</dt>\n",
       "\t\t<dd>922.177225469394</dd>\n",
       "</dl>\n"
      ],
      "text/latex": [
       "\\begin{description*}\n",
       "\\item[expectBachelors] 2282409.89320684\n",
       "\\item[.data\\textbackslash{}\\_7] 1070628.90821269\n",
       "\\item[.data\\textbackslash{}\\_4] 542284.694394186\n",
       "\\item[motherBornUS] 429366.801731129\n",
       "\\item[fatherBornUS] 400091.792522189\n",
       "\\item[motherBachelors] 393018.066266264\n",
       "\\item[grade] 293364.123980217\n",
       "\\item[.data\\textbackslash{}\\_3] 269051.27511074\n",
       "\\item[englishAtHome] 257898.890650191\n",
       "\\item[.data\\textbackslash{}\\_2] 257193.845462851\n",
       "\\item[fatherBachelors] 204369.394458457\n",
       "\\item[read30MinsADay] 192735.040123115\n",
       "\\item[male] 43231.987289289\n",
       "\\item[preschool] 41921.9270684015\n",
       "\\item[publicSchool] 34716.59585352\n",
       "\\item[urban] 19650.9033133132\n",
       "\\item[schoolSize] 11412.0494660341\n",
       "\\item[studentsInEnglish] 7550.37918395667\n",
       "\\item[minutesPerWeekEnglish] 922.177225469394\n",
       "\\end{description*}\n"
      ],
      "text/markdown": [
       "expectBachelors\n",
       ":   2282409.89320684.data_7\n",
       ":   1070628.90821269.data_4\n",
       ":   542284.694394186motherBornUS\n",
       ":   429366.801731129fatherBornUS\n",
       ":   400091.792522189motherBachelors\n",
       ":   393018.066266264grade\n",
       ":   293364.123980217.data_3\n",
       ":   269051.27511074englishAtHome\n",
       ":   257898.890650191.data_2\n",
       ":   257193.845462851fatherBachelors\n",
       ":   204369.394458457read30MinsADay\n",
       ":   192735.040123115male\n",
       ":   43231.987289289preschool\n",
       ":   41921.9270684015publicSchool\n",
       ":   34716.59585352urban\n",
       ":   19650.9033133132schoolSize\n",
       ":   11412.0494660341studentsInEnglish\n",
       ":   7550.37918395667minutesPerWeekEnglish\n",
       ":   922.177225469394\n",
       "\n"
      ],
      "text/plain": [
       "      expectBachelors               .data_7               .data_4 \n",
       "         2282409.8932          1070628.9082           542284.6944 \n",
       "         motherBornUS          fatherBornUS       motherBachelors \n",
       "          429366.8017           400091.7925           393018.0663 \n",
       "                grade               .data_3         englishAtHome \n",
       "          293364.1240           269051.2751           257898.8907 \n",
       "              .data_2       fatherBachelors        read30MinsADay \n",
       "          257193.8455           204369.3945           192735.0401 \n",
       "                 male             preschool          publicSchool \n",
       "           43231.9873            41921.9271            34716.5959 \n",
       "                urban            schoolSize     studentsInEnglish \n",
       "           19650.9033            11412.0495             7550.3792 \n",
       "minutesPerWeekEnglish \n",
       "             922.1772 "
      ]
     },
     "metadata": {},
     "output_type": "display_data"
    },
    {
     "data": {
      "image/png": "[encoded data removed]",
      "text/plain": [
       "Plot with title \"\""
      ]
     },
     "metadata": {},
     "output_type": "display_data"
    }
   ],
   "source": [
    "reg_tree_pisa=tr$finalModel\n",
    "fancyRpartPlot(reg_tree_pisa)\n",
    "reg_tree_pisa$variable.importance"
   ]
  },
  {
   "cell_type": "code",
   "execution_count": 88,
   "metadata": {},
   "outputs": [],
   "source": [
    "predicted_pisa_dt=predict(reg_tree_pisa,newdata=pisa_test_dt)"
   ]
  },
  {
   "cell_type": "markdown",
   "metadata": {},
   "source": [
    "### Performanca Measure"
   ]
  },
  {
   "cell_type": "code",
   "execution_count": 89,
   "metadata": {
    "scrolled": true
   },
   "outputs": [
    {
     "data": {
      "text/html": [
       "<table>\n",
       "<thead><tr><th scope=col>name</th><th scope=col>n</th><th scope=col>mean</th><th scope=col>sd</th><th scope=col>FBias</th><th scope=col>MAPE</th><th scope=col>RMSE</th><th scope=col>MAD</th><th scope=col>WMAPE</th></tr></thead>\n",
       "<tbody>\n",
       "\t<tr><td>Decision Tree with CV for Pisa Dataset</td><td>990                                   </td><td>519.8643                              </td><td>88.80043                              </td><td>0.007325851                           </td><td>0.1262667                             </td><td>2.506513                              </td><td>62.69629                              </td><td>0.1206013                             </td></tr>\n",
       "</tbody>\n",
       "</table>\n"
      ],
      "text/latex": [
       "\\begin{tabular}{r|lllllllll}\n",
       " name & n & mean & sd & FBias & MAPE & RMSE & MAD & WMAPE\\\\\n",
       "\\hline\n",
       "\t Decision Tree with CV for Pisa Dataset & 990                                    & 519.8643                               & 88.80043                               & 0.007325851                            & 0.1262667                              & 2.506513                               & 62.69629                               & 0.1206013                             \\\\\n",
       "\\end{tabular}\n"
      ],
      "text/markdown": [
       "\n",
       "| name | n | mean | sd | FBias | MAPE | RMSE | MAD | WMAPE |\n",
       "|---|---|---|---|---|---|---|---|---|\n",
       "| Decision Tree with CV for Pisa Dataset | 990                                    | 519.8643                               | 88.80043                               | 0.007325851                            | 0.1262667                              | 2.506513                               | 62.69629                               | 0.1206013                              |\n",
       "\n"
      ],
      "text/plain": [
       "  name                                   n   mean     sd       FBias      \n",
       "1 Decision Tree with CV for Pisa Dataset 990 519.8643 88.80043 0.007325851\n",
       "  MAPE      RMSE     MAD      WMAPE    \n",
       "1 0.1262667 2.506513 62.69629 0.1206013"
      ]
     },
     "metadata": {},
     "output_type": "display_data"
    }
   ],
   "source": [
    "perf_dt(\"Decision Tree with CV for Pisa Dataset\",pisa_test_dt$readingScore,as.numeric(predicted_pisa_dt))"
   ]
  },
  {
   "cell_type": "markdown",
   "metadata": {},
   "source": [
    "## Random Forest(RF)"
   ]
  },
  {
   "cell_type": "code",
   "execution_count": 46,
   "metadata": {},
   "outputs": [],
   "source": [
    "library(ranger)"
   ]
  },
  {
   "cell_type": "code",
   "execution_count": 33,
   "metadata": {},
   "outputs": [],
   "source": [
    "fitControl=trainControl(method = \"repeatedcv\",\n",
    "                           number = 10) "
   ]
  },
  {
   "cell_type": "code",
   "execution_count": 34,
   "metadata": {},
   "outputs": [
    {
     "data": {
      "text/html": [
       "<table>\n",
       "<thead><tr><th scope=col>mtry</th><th scope=col>splitrule</th><th scope=col>min.node.size</th></tr></thead>\n",
       "<tbody>\n",
       "\t<tr><td> 4      </td><td>variance</td><td>5       </td></tr>\n",
       "\t<tr><td> 8      </td><td>variance</td><td>5       </td></tr>\n",
       "\t<tr><td>10      </td><td>variance</td><td>5       </td></tr>\n",
       "\t<tr><td>15      </td><td>variance</td><td>5       </td></tr>\n",
       "</tbody>\n",
       "</table>\n"
      ],
      "text/latex": [
       "\\begin{tabular}{r|lll}\n",
       " mtry & splitrule & min.node.size\\\\\n",
       "\\hline\n",
       "\t  4       & variance & 5       \\\\\n",
       "\t  8       & variance & 5       \\\\\n",
       "\t 10       & variance & 5       \\\\\n",
       "\t 15       & variance & 5       \\\\\n",
       "\\end{tabular}\n"
      ],
      "text/markdown": [
       "\n",
       "| mtry | splitrule | min.node.size |\n",
       "|---|---|---|\n",
       "|  4       | variance | 5        |\n",
       "|  8       | variance | 5        |\n",
       "| 10       | variance | 5        |\n",
       "| 15       | variance | 5        |\n",
       "\n"
      ],
      "text/plain": [
       "  mtry splitrule min.node.size\n",
       "1  4   variance  5            \n",
       "2  8   variance  5            \n",
       "3 10   variance  5            \n",
       "4 15   variance  5            "
      ]
     },
     "metadata": {},
     "output_type": "display_data"
    }
   ],
   "source": [
    "rf_grid=expand.grid(mtry=c(4,8,10,15),\n",
    "                   splitrule = c(\"variance\"),\n",
    "                   min.node.size= c(5))\n",
    "rf_grid  "
   ]
  },
  {
   "cell_type": "code",
   "execution_count": 35,
   "metadata": {},
   "outputs": [],
   "source": [
    "rf_fit=train(readingScore ~ ., data = pisa_train, \n",
    "                 method = \"ranger\", \n",
    "                 trControl = fitControl, num.trees=500,\n",
    "                 tuneGrid = rf_grid) "
   ]
  },
  {
   "cell_type": "code",
   "execution_count": 36,
   "metadata": {},
   "outputs": [
    {
     "data": {
      "text/plain": [
       "Random Forest \n",
       "\n",
       "2414 samples\n",
       "  23 predictor\n",
       "\n",
       "No pre-processing\n",
       "Resampling: Cross-Validated (10 fold, repeated 1 times) \n",
       "Summary of sample sizes: 2173, 2172, 2172, 2173, 2173, 2173, ... \n",
       "Resampling results across tuning parameters:\n",
       "\n",
       "  mtry  RMSE      Rsquared   MAE     \n",
       "   4    74.22778  0.3127169  59.68398\n",
       "   8    74.86137  0.2988596  60.03758\n",
       "  10    75.34474  0.2908063  60.46137\n",
       "  15    75.50474  0.2895483  60.54514\n",
       "\n",
       "Tuning parameter 'splitrule' was held constant at a value of variance\n",
       "\n",
       "Tuning parameter 'min.node.size' was held constant at a value of 5\n",
       "RMSE was used to select the optimal model using the smallest value.\n",
       "The final values used for the model were mtry = 4, splitrule = variance\n",
       " and min.node.size = 5."
      ]
     },
     "metadata": {},
     "output_type": "display_data"
    },
    {
     "data": {
      "image/png": "[encoded data removed]",
      "text/plain": [
       "plot without title"
      ]
     },
     "metadata": {},
     "output_type": "display_data"
    }
   ],
   "source": [
    "rf_fit\n",
    "plot(rf_fit)"
   ]
  },
  {
   "cell_type": "code",
   "execution_count": 37,
   "metadata": {},
   "outputs": [],
   "source": [
    "RandomForest_pisa=predict(rf_fit,newdata=pisa_test)"
   ]
  },
  {
   "cell_type": "markdown",
   "metadata": {},
   "source": [
    "### Performanca Measure"
   ]
  },
  {
   "cell_type": "code",
   "execution_count": 38,
   "metadata": {
    "scrolled": true
   },
   "outputs": [
    {
     "data": {
      "text/html": [
       "<table>\n",
       "<thead><tr><th scope=col>name</th><th scope=col>n</th><th scope=col>mean</th><th scope=col>sd</th><th scope=col>FBias</th><th scope=col>MAPE</th><th scope=col>RMSE</th><th scope=col>MAD</th><th scope=col>WMAPE</th></tr></thead>\n",
       "<tbody>\n",
       "\t<tr><td>First Data Set for Random Forest</td><td>990                             </td><td>517.8192                        </td><td>45.48294                        </td><td>-0.003949342                    </td><td>0.1157326                       </td><td>2.383545                        </td><td>59.41911                        </td><td>0.1147487                       </td></tr>\n",
       "</tbody>\n",
       "</table>\n"
      ],
      "text/latex": [
       "\\begin{tabular}{r|lllllllll}\n",
       " name & n & mean & sd & FBias & MAPE & RMSE & MAD & WMAPE\\\\\n",
       "\\hline\n",
       "\t First Data Set for Random Forest & 990                              & 517.8192                         & 45.48294                         & -0.003949342                     & 0.1157326                        & 2.383545                         & 59.41911                         & 0.1147487                       \\\\\n",
       "\\end{tabular}\n"
      ],
      "text/markdown": [
       "\n",
       "| name | n | mean | sd | FBias | MAPE | RMSE | MAD | WMAPE |\n",
       "|---|---|---|---|---|---|---|---|---|\n",
       "| First Data Set for Random Forest | 990                              | 517.8192                         | 45.48294                         | -0.003949342                     | 0.1157326                        | 2.383545                         | 59.41911                         | 0.1147487                        |\n",
       "\n"
      ],
      "text/plain": [
       "  name                             n   mean     sd       FBias        MAPE     \n",
       "1 First Data Set for Random Forest 990 517.8192 45.48294 -0.003949342 0.1157326\n",
       "  RMSE     MAD      WMAPE    \n",
       "1 2.383545 59.41911 0.1147487"
      ]
     },
     "metadata": {},
     "output_type": "display_data"
    }
   ],
   "source": [
    "perf_dt(\"First Data Set for Random Forest\", as.numeric(RandomForest_pisa), as.numeric(pisa_test$readingScore))"
   ]
  },
  {
   "cell_type": "markdown",
   "metadata": {},
   "source": [
    "# Stochastic Gradient Boosting(SGB)"
   ]
  },
  {
   "cell_type": "code",
   "execution_count": 39,
   "metadata": {},
   "outputs": [],
   "source": [
    "set.seed(35)"
   ]
  },
  {
   "cell_type": "code",
   "execution_count": 40,
   "metadata": {},
   "outputs": [
    {
     "data": {
      "image/png": "[encoded data removed]",
      "text/plain": [
       "plot without title"
      ]
     },
     "metadata": {},
     "output_type": "display_data"
    }
   ],
   "source": [
    "gbmGrid=expand.grid(interaction.depth = c(1, 3, 5), \n",
    "                        n.trees = (1:5)*50, \n",
    "                        shrinkage = c(0.1, 0.3, 0.5),\n",
    "                        n.minobsinnode = 20)\n",
    "                                                                \n",
    "\n",
    "gbm_fit=train(readingScore ~ ., data = pisa_train, \n",
    "                 method = \"gbm\", \n",
    "                 trControl = fitControl,  \n",
    "                 tuneGrid = gbmGrid,\n",
    "                 verbose=F) #verbose is an argument from gbm, prints to screen\n",
    "\n",
    "plot(gbm_fit)"
   ]
  },
  {
   "cell_type": "code",
   "execution_count": 41,
   "metadata": {},
   "outputs": [],
   "source": [
    "predicted_pisa_sgb=predict(gbm_fit,pisa_test)"
   ]
  },
  {
   "cell_type": "markdown",
   "metadata": {},
   "source": [
    "### Performanca Measure"
   ]
  },
  {
   "cell_type": "code",
   "execution_count": 42,
   "metadata": {
    "scrolled": false
   },
   "outputs": [
    {
     "data": {
      "text/html": [
       "<table>\n",
       "<thead><tr><th scope=col>name</th><th scope=col>n</th><th scope=col>mean</th><th scope=col>sd</th><th scope=col>FBias</th><th scope=col>MAPE</th><th scope=col>RMSE</th><th scope=col>MAD</th><th scope=col>WMAPE</th></tr></thead>\n",
       "<tbody>\n",
       "\t<tr><td>First Data Set for Stochastic Gradient Boosting</td><td>990                                            </td><td>516.5296                                       </td><td>52.44005                                       </td><td>-0.00645595                                    </td><td>0.1154572                                      </td><td>2.364434                                       </td><td>58.9861                                        </td><td>0.1141969                                      </td></tr>\n",
       "</tbody>\n",
       "</table>\n"
      ],
      "text/latex": [
       "\\begin{tabular}{r|lllllllll}\n",
       " name & n & mean & sd & FBias & MAPE & RMSE & MAD & WMAPE\\\\\n",
       "\\hline\n",
       "\t First Data Set for Stochastic Gradient Boosting & 990                                             & 516.5296                                        & 52.44005                                        & -0.00645595                                     & 0.1154572                                       & 2.364434                                        & 58.9861                                         & 0.1141969                                      \\\\\n",
       "\\end{tabular}\n"
      ],
      "text/markdown": [
       "\n",
       "| name | n | mean | sd | FBias | MAPE | RMSE | MAD | WMAPE |\n",
       "|---|---|---|---|---|---|---|---|---|\n",
       "| First Data Set for Stochastic Gradient Boosting | 990                                             | 516.5296                                        | 52.44005                                        | -0.00645595                                     | 0.1154572                                       | 2.364434                                        | 58.9861                                         | 0.1141969                                       |\n",
       "\n"
      ],
      "text/plain": [
       "  name                                            n   mean     sd      \n",
       "1 First Data Set for Stochastic Gradient Boosting 990 516.5296 52.44005\n",
       "  FBias       MAPE      RMSE     MAD     WMAPE    \n",
       "1 -0.00645595 0.1154572 2.364434 58.9861 0.1141969"
      ]
     },
     "metadata": {},
     "output_type": "display_data"
    }
   ],
   "source": [
    "perf_dt(\"First Data Set for Stochastic Gradient Boosting\", as.numeric(predicted_pisa_sgb), as.numeric(pisa_test$readingScore))"
   ]
  },
  {
   "cell_type": "markdown",
   "metadata": {},
   "source": [
    "# General Result for 4 Method for Pisa Reading Results with Test Dataset"
   ]
  },
  {
   "cell_type": "code",
   "execution_count": 43,
   "metadata": {},
   "outputs": [
    {
     "data": {
      "text/html": [
       "<table>\n",
       "<thead><tr><th scope=col>name</th><th scope=col>n</th><th scope=col>mean</th><th scope=col>sd</th><th scope=col>FBias</th><th scope=col>MAPE</th><th scope=col>RMSE</th><th scope=col>MAD</th><th scope=col>WMAPE</th></tr></thead>\n",
       "<tbody>\n",
       "\t<tr><td>Pisa Data Set for Lasso Function with min lambda and mse objective</td><td>990                                                               </td><td>519.8643                                                          </td><td>88.80043                                                          </td><td>0.007031004                                                       </td><td>0.1220864                                                         </td><td>2.435895                                                          </td><td>60.65549                                                          </td><td>0.1166756                                                         </td></tr>\n",
       "</tbody>\n",
       "</table>\n"
      ],
      "text/latex": [
       "\\begin{tabular}{r|lllllllll}\n",
       " name & n & mean & sd & FBias & MAPE & RMSE & MAD & WMAPE\\\\\n",
       "\\hline\n",
       "\t Pisa Data Set for Lasso Function with min lambda and mse objective & 990                                                                & 519.8643                                                           & 88.80043                                                           & 0.007031004                                                        & 0.1220864                                                          & 2.435895                                                           & 60.65549                                                           & 0.1166756                                                         \\\\\n",
       "\\end{tabular}\n"
      ],
      "text/markdown": [
       "\n",
       "| name | n | mean | sd | FBias | MAPE | RMSE | MAD | WMAPE |\n",
       "|---|---|---|---|---|---|---|---|---|\n",
       "| Pisa Data Set for Lasso Function with min lambda and mse objective | 990                                                                | 519.8643                                                           | 88.80043                                                           | 0.007031004                                                        | 0.1220864                                                          | 2.435895                                                           | 60.65549                                                           | 0.1166756                                                          |\n",
       "\n"
      ],
      "text/plain": [
       "  name                                                               n  \n",
       "1 Pisa Data Set for Lasso Function with min lambda and mse objective 990\n",
       "  mean     sd       FBias       MAPE      RMSE     MAD      WMAPE    \n",
       "1 519.8643 88.80043 0.007031004 0.1220864 2.435895 60.65549 0.1166756"
      ]
     },
     "metadata": {},
     "output_type": "display_data"
    },
    {
     "data": {
      "text/html": [
       "<table>\n",
       "<thead><tr><th scope=col>name</th><th scope=col>n</th><th scope=col>mean</th><th scope=col>sd</th><th scope=col>FBias</th><th scope=col>MAPE</th><th scope=col>RMSE</th><th scope=col>MAD</th><th scope=col>WMAPE</th></tr></thead>\n",
       "<tbody>\n",
       "\t<tr><td>Decision Tree with CV for Pisa Dataset</td><td>990                                   </td><td>519.8643                              </td><td>88.80043                              </td><td>0.007325851                           </td><td>0.1262667                             </td><td>2.506513                              </td><td>62.69629                              </td><td>0.1206013                             </td></tr>\n",
       "</tbody>\n",
       "</table>\n"
      ],
      "text/latex": [
       "\\begin{tabular}{r|lllllllll}\n",
       " name & n & mean & sd & FBias & MAPE & RMSE & MAD & WMAPE\\\\\n",
       "\\hline\n",
       "\t Decision Tree with CV for Pisa Dataset & 990                                    & 519.8643                               & 88.80043                               & 0.007325851                            & 0.1262667                              & 2.506513                               & 62.69629                               & 0.1206013                             \\\\\n",
       "\\end{tabular}\n"
      ],
      "text/markdown": [
       "\n",
       "| name | n | mean | sd | FBias | MAPE | RMSE | MAD | WMAPE |\n",
       "|---|---|---|---|---|---|---|---|---|\n",
       "| Decision Tree with CV for Pisa Dataset | 990                                    | 519.8643                               | 88.80043                               | 0.007325851                            | 0.1262667                              | 2.506513                               | 62.69629                               | 0.1206013                              |\n",
       "\n"
      ],
      "text/plain": [
       "  name                                   n   mean     sd       FBias      \n",
       "1 Decision Tree with CV for Pisa Dataset 990 519.8643 88.80043 0.007325851\n",
       "  MAPE      RMSE     MAD      WMAPE    \n",
       "1 0.1262667 2.506513 62.69629 0.1206013"
      ]
     },
     "metadata": {},
     "output_type": "display_data"
    },
    {
     "data": {
      "text/html": [
       "<table>\n",
       "<thead><tr><th scope=col>name</th><th scope=col>n</th><th scope=col>mean</th><th scope=col>sd</th><th scope=col>FBias</th><th scope=col>MAPE</th><th scope=col>RMSE</th><th scope=col>MAD</th><th scope=col>WMAPE</th></tr></thead>\n",
       "<tbody>\n",
       "\t<tr><td>First Data Set for Random Forest</td><td>990                             </td><td>517.8192                        </td><td>45.48294                        </td><td>-0.003949342                    </td><td>0.1157326                       </td><td>2.383545                        </td><td>59.41911                        </td><td>0.1147487                       </td></tr>\n",
       "</tbody>\n",
       "</table>\n"
      ],
      "text/latex": [
       "\\begin{tabular}{r|lllllllll}\n",
       " name & n & mean & sd & FBias & MAPE & RMSE & MAD & WMAPE\\\\\n",
       "\\hline\n",
       "\t First Data Set for Random Forest & 990                              & 517.8192                         & 45.48294                         & -0.003949342                     & 0.1157326                        & 2.383545                         & 59.41911                         & 0.1147487                       \\\\\n",
       "\\end{tabular}\n"
      ],
      "text/markdown": [
       "\n",
       "| name | n | mean | sd | FBias | MAPE | RMSE | MAD | WMAPE |\n",
       "|---|---|---|---|---|---|---|---|---|\n",
       "| First Data Set for Random Forest | 990                              | 517.8192                         | 45.48294                         | -0.003949342                     | 0.1157326                        | 2.383545                         | 59.41911                         | 0.1147487                        |\n",
       "\n"
      ],
      "text/plain": [
       "  name                             n   mean     sd       FBias        MAPE     \n",
       "1 First Data Set for Random Forest 990 517.8192 45.48294 -0.003949342 0.1157326\n",
       "  RMSE     MAD      WMAPE    \n",
       "1 2.383545 59.41911 0.1147487"
      ]
     },
     "metadata": {},
     "output_type": "display_data"
    },
    {
     "data": {
      "text/html": [
       "<table>\n",
       "<thead><tr><th scope=col>name</th><th scope=col>n</th><th scope=col>mean</th><th scope=col>sd</th><th scope=col>FBias</th><th scope=col>MAPE</th><th scope=col>RMSE</th><th scope=col>MAD</th><th scope=col>WMAPE</th></tr></thead>\n",
       "<tbody>\n",
       "\t<tr><td>First Data Set for Stochastic Gradient Boosting</td><td>990                                            </td><td>516.5296                                       </td><td>52.44005                                       </td><td>-0.00645595                                    </td><td>0.1154572                                      </td><td>2.364434                                       </td><td>58.9861                                        </td><td>0.1141969                                      </td></tr>\n",
       "</tbody>\n",
       "</table>\n"
      ],
      "text/latex": [
       "\\begin{tabular}{r|lllllllll}\n",
       " name & n & mean & sd & FBias & MAPE & RMSE & MAD & WMAPE\\\\\n",
       "\\hline\n",
       "\t First Data Set for Stochastic Gradient Boosting & 990                                             & 516.5296                                        & 52.44005                                        & -0.00645595                                     & 0.1154572                                       & 2.364434                                        & 58.9861                                         & 0.1141969                                      \\\\\n",
       "\\end{tabular}\n"
      ],
      "text/markdown": [
       "\n",
       "| name | n | mean | sd | FBias | MAPE | RMSE | MAD | WMAPE |\n",
       "|---|---|---|---|---|---|---|---|---|\n",
       "| First Data Set for Stochastic Gradient Boosting | 990                                             | 516.5296                                        | 52.44005                                        | -0.00645595                                     | 0.1154572                                       | 2.364434                                        | 58.9861                                         | 0.1141969                                       |\n",
       "\n"
      ],
      "text/plain": [
       "  name                                            n   mean     sd      \n",
       "1 First Data Set for Stochastic Gradient Boosting 990 516.5296 52.44005\n",
       "  FBias       MAPE      RMSE     MAD     WMAPE    \n",
       "1 -0.00645595 0.1154572 2.364434 58.9861 0.1141969"
      ]
     },
     "metadata": {},
     "output_type": "display_data"
    }
   ],
   "source": [
    "perf_dt(\"Pisa Data Set for Lasso Function with min lambda and mse objective\", as.numeric(pisa_test$readingScore), prediction_pra_mse_pisa_min)\n",
    "perf_dt(\"Decision Tree with CV for Pisa Dataset\",pisa_test_dt$readingScore,as.numeric(predicted_pisa_dt))\n",
    "perf_dt(\"First Data Set for Random Forest\", as.numeric(RandomForest_pisa), as.numeric(pisa_test$readingScore))\n",
    "perf_dt(\"First Data Set for Stochastic Gradient Boosting\", as.numeric(predicted_pisa_sgb), as.numeric(pisa_test$readingScore))"
   ]
  },
  {
   "cell_type": "markdown",
   "metadata": {},
   "source": [
    "# Conclusion of Models"
   ]
  },
  {
   "cell_type": "markdown",
   "metadata": {},
   "source": [
    "## Linear Regression with Penalty"
   ]
  },
  {
   "cell_type": "markdown",
   "metadata": {},
   "source": [
    "Different Penalty types are tried in the glmnet package by using mean absolute percentage error and mean square error objective. In these 2 penalty, 3 different lambdas are tried to obtain a model. In addition, all the possible lambda values are checked by plotting the cv.glmnet() results. Predictions are made based on these models. Best model performance are observed in this test dataset. After all, caret() packages are used to make a model can be comparable with other method's models. Namely, caret library is used in all the methods to obtain similar report types. Penalized Regression Approach is made with 3 different lambda values. These are lambda.min, lambda.1se, and random a lambda value achieved in the previous cv.glmnet() process. Model results are as follows:"
   ]
  },
  {
   "cell_type": "code",
   "execution_count": 70,
   "metadata": {},
   "outputs": [
    {
     "data": {
      "text/plain": [
       "glmnet \n",
       "\n",
       "2414 samples\n",
       "  23 predictor\n",
       "\n",
       "No pre-processing\n",
       "Resampling: Cross-Validated (10 fold, repeated 1 times) \n",
       "Summary of sample sizes: 2172, 2170, 2173, 2173, 2172, 2173, ... \n",
       "Resampling results across tuning parameters:\n",
       "\n",
       "  lambda      RMSE      Rsquared   MAE     \n",
       "   0.2935122  74.18294  0.3113987  59.11383\n",
       "   4.7835176  75.29688  0.3020824  60.35636\n",
       "  13.3104220  80.12992  0.2660190  64.68339\n",
       "\n",
       "Tuning parameter 'alpha' was held constant at a value of 1\n",
       "RMSE was used to select the optimal model using the smallest value.\n",
       "The final values used for the model were alpha = 1 and lambda = 0.2935122."
      ]
     },
     "metadata": {},
     "output_type": "display_data"
    }
   ],
   "source": [
    "lm_model"
   ]
  },
  {
   "cell_type": "markdown",
   "metadata": {},
   "source": [
    "### Best Model for Penalized Regression Approach"
   ]
  },
  {
   "cell_type": "markdown",
   "metadata": {},
   "source": [
    "RMSE will be the objective parameter for evaluation of the model. In this perpective, **lambda 0.2935122(lambda.min) and MAE Penalty type** is the best tuned parameter for this model for Pisa Reading Score Dataset."
   ]
  },
  {
   "cell_type": "code",
   "execution_count": 100,
   "metadata": {},
   "outputs": [
    {
     "name": "stdout",
     "output_type": "stream",
     "text": [
      "[1] \"The Smallest RMSE value in Penalized Regression Approach: 74.1829393463686\"\n"
     ]
    }
   ],
   "source": [
    "print(paste(\"The Smallest RMSE value in Penalized Regression Approach:\",lm_model$results$RMSE[which.min(lm_model$results$RMSE)]))"
   ]
  },
  {
   "cell_type": "markdown",
   "metadata": {},
   "source": [
    "## Decision Tree"
   ]
  },
  {
   "cell_type": "markdown",
   "metadata": {},
   "source": [
    "**6 different minbucket** values are tried to get best model for Decision Tree. However, in caret library there is no available packages for rpart for tuning the minimal number of observation per tree leaf. So for loop is tried to get information related to effects in the change of number of variable in the tree leaf. In addition, all models tested with **10 different cp value**. After looking the created model's result, the best model is selected. The best RMSE value is selected with considering the minbucket values and cp values. Selected model evaluated 1 more time and named as tr_last. Model results are as follows:"
   ]
  },
  {
   "cell_type": "code",
   "execution_count": 92,
   "metadata": {},
   "outputs": [
    {
     "data": {
      "text/plain": [
       "CART \n",
       "\n",
       "2414 samples\n",
       "  29 predictor\n",
       "\n",
       "No pre-processing\n",
       "Resampling: Cross-Validated (10 fold) \n",
       "Summary of sample sizes: 2174, 2171, 2173, 2172, 2172, 2172, ... \n",
       "Resampling results across tuning parameters:\n",
       "\n",
       "  cp    RMSE      Rsquared   MAE     \n",
       "  0.00  80.54359  0.2271929  64.29627\n",
       "  0.01  79.54121  0.2094880  63.67533\n",
       "  0.02  81.09784  0.1780498  65.22498\n",
       "  0.03  81.86471  0.1618356  65.90086\n",
       "  0.04  81.86471  0.1618356  65.90086\n",
       "  0.05  81.86471  0.1618356  65.90086\n",
       "  0.06  83.80165  0.1216110  67.70118\n",
       "  0.07  83.82850  0.1210650  67.73239\n",
       "  0.08  83.82850  0.1210650  67.73239\n",
       "  0.09  83.82850  0.1210650  67.73239\n",
       "  0.10  83.82850  0.1210650  67.73239\n",
       "\n",
       "RMSE was used to select the optimal model using the smallest value.\n",
       "The final value used for the model was cp = 0.01."
      ]
     },
     "metadata": {},
     "output_type": "display_data"
    }
   ],
   "source": [
    "tr_last"
   ]
  },
  {
   "cell_type": "markdown",
   "metadata": {},
   "source": [
    "### Best Model for Decision Tree"
   ]
  },
  {
   "cell_type": "markdown",
   "metadata": {},
   "source": [
    "RMSE will be the objective parameter for evaluation of the model. In this perpective, **cp=0.01 and minbucket = 9** is the best tuned parameter for this model for Pisa Reading Score Dataset."
   ]
  },
  {
   "cell_type": "code",
   "execution_count": 93,
   "metadata": {},
   "outputs": [
    {
     "data": {
      "text/html": [
       "79.5412116765522"
      ],
      "text/latex": [
       "79.5412116765522"
      ],
      "text/markdown": [
       "79.5412116765522"
      ],
      "text/plain": [
       "[1] 79.54121"
      ]
     },
     "metadata": {},
     "output_type": "display_data"
    }
   ],
   "source": [
    "print(paste(\"The Smallest RMSE value in Decision Tree:\",tr_last$results$RMSE[which.min(tr_last$results$RMSE)]))"
   ]
  },
  {
   "cell_type": "markdown",
   "metadata": {},
   "source": [
    "## Random Forest"
   ]
  },
  {
   "cell_type": "markdown",
   "metadata": {},
   "source": [
    "As mentioned in the homework description, only mtry namely number of selected feature for model is modified. 4 different number is determined. Best model is achived the model with the biggest number of feature. Hovewer, Mean Absolute Error is the smallest in the model with the smallest number of feature. Model results are as follows:"
   ]
  },
  {
   "cell_type": "code",
   "execution_count": 49,
   "metadata": {},
   "outputs": [
    {
     "data": {
      "text/plain": [
       "Random Forest \n",
       "\n",
       "2414 samples\n",
       "  23 predictor\n",
       "\n",
       "No pre-processing\n",
       "Resampling: Cross-Validated (10 fold, repeated 1 times) \n",
       "Summary of sample sizes: 2173, 2172, 2172, 2173, 2173, 2173, ... \n",
       "Resampling results across tuning parameters:\n",
       "\n",
       "  mtry  RMSE      Rsquared   MAE     \n",
       "   4    74.22778  0.3127169  59.68398\n",
       "   8    74.86137  0.2988596  60.03758\n",
       "  10    75.34474  0.2908063  60.46137\n",
       "  15    75.50474  0.2895483  60.54514\n",
       "\n",
       "Tuning parameter 'splitrule' was held constant at a value of variance\n",
       "\n",
       "Tuning parameter 'min.node.size' was held constant at a value of 5\n",
       "RMSE was used to select the optimal model using the smallest value.\n",
       "The final values used for the model were mtry = 4, splitrule = variance\n",
       " and min.node.size = 5."
      ]
     },
     "metadata": {},
     "output_type": "display_data"
    }
   ],
   "source": [
    "rf_fit"
   ]
  },
  {
   "cell_type": "markdown",
   "metadata": {},
   "source": [
    "### Best Model for Random Forest"
   ]
  },
  {
   "cell_type": "markdown",
   "metadata": {},
   "source": [
    "RMSE will be the objective parameter for evaluation of the model. In this perpective, **mtry=4** is the best tuned parameter for this model for Pisa Reading Score Dataset."
   ]
  },
  {
   "cell_type": "code",
   "execution_count": 99,
   "metadata": {},
   "outputs": [
    {
     "name": "stdout",
     "output_type": "stream",
     "text": [
      "[1] \"The Smallest RMSE value in Random Forest: 74.2277812566288\"\n"
     ]
    }
   ],
   "source": [
    "print(paste(\"The Smallest RMSE value in Random Forest:\",rf_fit$results$RMSE[which.min(rf_fit$results$RMSE)]))"
   ]
  },
  {
   "cell_type": "markdown",
   "metadata": {},
   "source": [
    "## Stochastic Gradient Boosting"
   ]
  },
  {
   "cell_type": "markdown",
   "metadata": {},
   "source": [
    "**Different 5 shrinkage value, 3 interaction.depth, 5 n.trees values** are tried to obtain the best model. This model is the one which takes the most time to create the models. The reason behind this fact caused from number of tuned parameter in the approach. However, it has the best RMSE value among the models. Model results are as follows:"
   ]
  },
  {
   "cell_type": "code",
   "execution_count": 50,
   "metadata": {},
   "outputs": [
    {
     "data": {
      "text/plain": [
       "Stochastic Gradient Boosting \n",
       "\n",
       "2414 samples\n",
       "  23 predictor\n",
       "\n",
       "No pre-processing\n",
       "Resampling: Cross-Validated (10 fold, repeated 1 times) \n",
       "Summary of sample sizes: 2173, 2172, 2172, 2171, 2173, 2174, ... \n",
       "Resampling results across tuning parameters:\n",
       "\n",
       "  shrinkage  interaction.depth  n.trees  RMSE      Rsquared   MAE     \n",
       "  0.1        1                   50      75.47460  0.3126352  60.62038\n",
       "  0.1        1                  100      73.47254  0.3300000  58.69375\n",
       "  0.1        1                  150      72.95822  0.3358354  58.19940\n",
       "  0.1        1                  200      72.80733  0.3378907  58.00691\n",
       "  0.1        1                  250      72.63771  0.3407722  57.90860\n",
       "  0.1        3                   50      73.16656  0.3337547  58.63596\n",
       "  0.1        3                  100      72.34571  0.3459466  57.79544\n",
       "  0.1        3                  150      72.28070  0.3472914  57.76970\n",
       "  0.1        3                  200      72.12923  0.3504537  57.65767\n",
       "  0.1        3                  250      72.17670  0.3501236  57.65177\n",
       "  0.1        5                   50      72.62962  0.3418939  58.13086\n",
       "  0.1        5                  100      72.12213  0.3501401  57.66027\n",
       "  0.1        5                  150      72.23960  0.3489102  57.67923\n",
       "  0.1        5                  200      72.40157  0.3467039  57.85780\n",
       "  0.1        5                  250      72.57940  0.3439994  58.02686\n",
       "  0.3        1                   50      73.10363  0.3342225  58.22410\n",
       "  0.3        1                  100      72.80414  0.3384781  57.98277\n",
       "  0.3        1                  150      72.95011  0.3357024  58.15391\n",
       "  0.3        1                  200      72.53172  0.3435654  57.77987\n",
       "  0.3        1                  250      72.31134  0.3471333  57.71882\n",
       "  0.3        3                   50      72.69742  0.3405160  57.79556\n",
       "  0.3        3                  100      72.96487  0.3376297  58.10455\n",
       "  0.3        3                  150      73.54539  0.3307890  58.65520\n",
       "  0.3        3                  200      74.04792  0.3245085  59.03830\n",
       "  0.3        3                  250      74.44774  0.3203904  59.34712\n",
       "  0.3        5                   50      73.14272  0.3348002  58.48057\n",
       "  0.3        5                  100      73.64867  0.3315839  59.09907\n",
       "  0.3        5                  150      74.25703  0.3243931  59.55848\n",
       "  0.3        5                  200      75.26677  0.3127645  60.12264\n",
       "  0.3        5                  250      76.56458  0.2973616  61.06134\n",
       "  0.5        1                   50      73.12045  0.3333609  58.19274\n",
       "  0.5        1                  100      72.45678  0.3450455  57.75706\n",
       "  0.5        1                  150      72.52661  0.3440706  57.91504\n",
       "  0.5        1                  200      72.60811  0.3434056  57.72905\n",
       "  0.5        1                  250      72.21692  0.3493538  57.52855\n",
       "  0.5        3                   50      73.29377  0.3332815  58.68340\n",
       "  0.5        3                  100      74.11072  0.3253293  59.37377\n",
       "  0.5        3                  150      74.86961  0.3175046  59.98942\n",
       "  0.5        3                  200      75.35855  0.3130353  60.47737\n",
       "  0.5        3                  250      76.00930  0.3062170  60.90497\n",
       "  0.5        5                   50      75.05514  0.3136308  60.25197\n",
       "  0.5        5                  100      77.85234  0.2830813  62.12729\n",
       "  0.5        5                  150      79.66701  0.2644785  63.74646\n",
       "  0.5        5                  200      81.89056  0.2397880  65.42251\n",
       "  0.5        5                  250      83.40476  0.2288027  67.05508\n",
       "\n",
       "Tuning parameter 'n.minobsinnode' was held constant at a value of 20\n",
       "RMSE was used to select the optimal model using the smallest value.\n",
       "The final values used for the model were n.trees = 100, interaction.depth =\n",
       " 5, shrinkage = 0.1 and n.minobsinnode = 20."
      ]
     },
     "metadata": {},
     "output_type": "display_data"
    }
   ],
   "source": [
    "gbm_fit"
   ]
  },
  {
   "cell_type": "markdown",
   "metadata": {},
   "source": [
    "### Best Model for Stochastic Gradient Boosting"
   ]
  },
  {
   "cell_type": "markdown",
   "metadata": {},
   "source": [
    "RMSE will be the objective parameter for evaluation of the model. In this perpective, **n.trees = 100 interaction.depth =\n",
    " 5, shrinkage = 0.1 and n.minobsinnode = 20** is the best tuned parameter for this model for Pisa Reading Score Dataset."
   ]
  },
  {
   "cell_type": "code",
   "execution_count": 97,
   "metadata": {},
   "outputs": [
    {
     "name": "stdout",
     "output_type": "stream",
     "text": [
      "[1] \"The Smallest RMSE value in Stochastic Gradient Boosting: 72.1221273300718\"\n"
     ]
    }
   ],
   "source": [
    "print(paste(\"The Smallest RMSE value in Stochastic Gradient Boosting:\",gbm_fit$results$RMSE[which.min(gbm_fit$results$RMSE)]))"
   ]
  },
  {
   "cell_type": "markdown",
   "metadata": {},
   "source": [
    "# Comparision of Results in Training and Test Dataset"
   ]
  },
  {
   "cell_type": "code",
   "execution_count": 126,
   "metadata": {},
   "outputs": [],
   "source": [
    "train=list(\"Linear Regression with Lasso Results\"=lm_model$results$RMSE[which.min(lm_model$results$RMSE)],\n",
    "            \"Decision Tree Results\"=    tr_last$results$RMSE[which.min(tr_last$results$RMSE)],\n",
    "            \"Random Forest Results\"=    rf_fit$results$RMSE[which.min(rf_fit$results$RMSE)],\n",
    "            \"Result Stochastic Gradient Boosting Results\"=    gbm_fit$results$RMSE[which.min(gbm_fit$results$RMSE)])"
   ]
  },
  {
   "cell_type": "markdown",
   "metadata": {},
   "source": [
    "## RMSE in The Train Dataset"
   ]
  },
  {
   "cell_type": "code",
   "execution_count": 129,
   "metadata": {},
   "outputs": [
    {
     "data": {
      "text/html": [
       "<table>\n",
       "<thead><tr><th scope=col>Linear Regression with Lasso Results</th><th scope=col>Decision Tree Results</th><th scope=col>Random Forest Results</th><th scope=col>Result Stochastic Gradient Boosting Results</th></tr></thead>\n",
       "<tbody>\n",
       "\t<tr><td>74.18294</td><td>79.54121</td><td>74.22778</td><td>72.12213</td></tr>\n",
       "</tbody>\n",
       "</table>\n"
      ],
      "text/latex": [
       "\\begin{tabular}{llll}\n",
       " Linear Regression with Lasso Results & Decision Tree Results & Random Forest Results & Result Stochastic Gradient Boosting Results\\\\\n",
       "\\hline\n",
       "\t 74.18294 & 79.54121 & 74.22778 & 72.12213\\\\\n",
       "\\end{tabular}\n"
      ],
      "text/markdown": [
       "\n",
       "| Linear Regression with Lasso Results | Decision Tree Results | Random Forest Results | Result Stochastic Gradient Boosting Results |\n",
       "|---|---|---|---|\n",
       "| 74.18294 | 79.54121 | 74.22778 | 72.12213 |\n",
       "\n"
      ],
      "text/plain": [
       "     Linear Regression with Lasso Results Decision Tree Results\n",
       "[1,] 74.18294                             79.54121             \n",
       "     Random Forest Results Result Stochastic Gradient Boosting Results\n",
       "[1,] 74.22778              72.12213                                   "
      ]
     },
     "metadata": {},
     "output_type": "display_data"
    }
   ],
   "source": [
    "t(train)"
   ]
  },
  {
   "cell_type": "code",
   "execution_count": 115,
   "metadata": {},
   "outputs": [
    {
     "data": {
      "text/html": [
       "<table>\n",
       "<thead><tr><th scope=col>name</th><th scope=col>n</th><th scope=col>mean</th><th scope=col>sd</th><th scope=col>FBias</th><th scope=col>MAPE</th><th scope=col>RMSE</th><th scope=col>MAD</th><th scope=col>WMAPE</th></tr></thead>\n",
       "<tbody>\n",
       "\t<tr><td>Pisa Data Set for Lasso Function with min lambda and mse objective</td><td>990                                                               </td><td>519.8643                                                          </td><td>88.80043                                                          </td><td>0.007031004                                                       </td><td>0.1220864                                                         </td><td>2.435895                                                          </td><td>60.65549                                                          </td><td>0.1166756                                                         </td></tr>\n",
       "</tbody>\n",
       "</table>\n"
      ],
      "text/latex": [
       "\\begin{tabular}{r|lllllllll}\n",
       " name & n & mean & sd & FBias & MAPE & RMSE & MAD & WMAPE\\\\\n",
       "\\hline\n",
       "\t Pisa Data Set for Lasso Function with min lambda and mse objective & 990                                                                & 519.8643                                                           & 88.80043                                                           & 0.007031004                                                        & 0.1220864                                                          & 2.435895                                                           & 60.65549                                                           & 0.1166756                                                         \\\\\n",
       "\\end{tabular}\n"
      ],
      "text/markdown": [
       "\n",
       "| name | n | mean | sd | FBias | MAPE | RMSE | MAD | WMAPE |\n",
       "|---|---|---|---|---|---|---|---|---|\n",
       "| Pisa Data Set for Lasso Function with min lambda and mse objective | 990                                                                | 519.8643                                                           | 88.80043                                                           | 0.007031004                                                        | 0.1220864                                                          | 2.435895                                                           | 60.65549                                                           | 0.1166756                                                          |\n",
       "\n"
      ],
      "text/plain": [
       "  name                                                               n  \n",
       "1 Pisa Data Set for Lasso Function with min lambda and mse objective 990\n",
       "  mean     sd       FBias       MAPE      RMSE     MAD      WMAPE    \n",
       "1 519.8643 88.80043 0.007031004 0.1220864 2.435895 60.65549 0.1166756"
      ]
     },
     "metadata": {},
     "output_type": "display_data"
    },
    {
     "data": {
      "text/html": [
       "<table>\n",
       "<thead><tr><th scope=col>name</th><th scope=col>n</th><th scope=col>mean</th><th scope=col>sd</th><th scope=col>FBias</th><th scope=col>MAPE</th><th scope=col>RMSE</th><th scope=col>MAD</th><th scope=col>WMAPE</th></tr></thead>\n",
       "<tbody>\n",
       "\t<tr><td>Decision Tree with CV for Pisa Dataset</td><td>990                                   </td><td>519.8643                              </td><td>88.80043                              </td><td>0.007325851                           </td><td>0.1262667                             </td><td>2.506513                              </td><td>62.69629                              </td><td>0.1206013                             </td></tr>\n",
       "</tbody>\n",
       "</table>\n"
      ],
      "text/latex": [
       "\\begin{tabular}{r|lllllllll}\n",
       " name & n & mean & sd & FBias & MAPE & RMSE & MAD & WMAPE\\\\\n",
       "\\hline\n",
       "\t Decision Tree with CV for Pisa Dataset & 990                                    & 519.8643                               & 88.80043                               & 0.007325851                            & 0.1262667                              & 2.506513                               & 62.69629                               & 0.1206013                             \\\\\n",
       "\\end{tabular}\n"
      ],
      "text/markdown": [
       "\n",
       "| name | n | mean | sd | FBias | MAPE | RMSE | MAD | WMAPE |\n",
       "|---|---|---|---|---|---|---|---|---|\n",
       "| Decision Tree with CV for Pisa Dataset | 990                                    | 519.8643                               | 88.80043                               | 0.007325851                            | 0.1262667                              | 2.506513                               | 62.69629                               | 0.1206013                              |\n",
       "\n"
      ],
      "text/plain": [
       "  name                                   n   mean     sd       FBias      \n",
       "1 Decision Tree with CV for Pisa Dataset 990 519.8643 88.80043 0.007325851\n",
       "  MAPE      RMSE     MAD      WMAPE    \n",
       "1 0.1262667 2.506513 62.69629 0.1206013"
      ]
     },
     "metadata": {},
     "output_type": "display_data"
    },
    {
     "data": {
      "text/html": [
       "<table>\n",
       "<thead><tr><th scope=col>name</th><th scope=col>n</th><th scope=col>mean</th><th scope=col>sd</th><th scope=col>FBias</th><th scope=col>MAPE</th><th scope=col>RMSE</th><th scope=col>MAD</th><th scope=col>WMAPE</th></tr></thead>\n",
       "<tbody>\n",
       "\t<tr><td>First Data Set for Random Forest</td><td>990                             </td><td>517.8192                        </td><td>45.48294                        </td><td>-0.003949342                    </td><td>0.1157326                       </td><td>2.383545                        </td><td>59.41911                        </td><td>0.1147487                       </td></tr>\n",
       "</tbody>\n",
       "</table>\n"
      ],
      "text/latex": [
       "\\begin{tabular}{r|lllllllll}\n",
       " name & n & mean & sd & FBias & MAPE & RMSE & MAD & WMAPE\\\\\n",
       "\\hline\n",
       "\t First Data Set for Random Forest & 990                              & 517.8192                         & 45.48294                         & -0.003949342                     & 0.1157326                        & 2.383545                         & 59.41911                         & 0.1147487                       \\\\\n",
       "\\end{tabular}\n"
      ],
      "text/markdown": [
       "\n",
       "| name | n | mean | sd | FBias | MAPE | RMSE | MAD | WMAPE |\n",
       "|---|---|---|---|---|---|---|---|---|\n",
       "| First Data Set for Random Forest | 990                              | 517.8192                         | 45.48294                         | -0.003949342                     | 0.1157326                        | 2.383545                         | 59.41911                         | 0.1147487                        |\n",
       "\n"
      ],
      "text/plain": [
       "  name                             n   mean     sd       FBias        MAPE     \n",
       "1 First Data Set for Random Forest 990 517.8192 45.48294 -0.003949342 0.1157326\n",
       "  RMSE     MAD      WMAPE    \n",
       "1 2.383545 59.41911 0.1147487"
      ]
     },
     "metadata": {},
     "output_type": "display_data"
    },
    {
     "data": {
      "text/html": [
       "<table>\n",
       "<thead><tr><th scope=col>name</th><th scope=col>n</th><th scope=col>mean</th><th scope=col>sd</th><th scope=col>FBias</th><th scope=col>MAPE</th><th scope=col>RMSE</th><th scope=col>MAD</th><th scope=col>WMAPE</th></tr></thead>\n",
       "<tbody>\n",
       "\t<tr><td>First Data Set for Stochastic Gradient Boosting</td><td>990                                            </td><td>516.5296                                       </td><td>52.44005                                       </td><td>-0.00645595                                    </td><td>0.1154572                                      </td><td>2.364434                                       </td><td>58.9861                                        </td><td>0.1141969                                      </td></tr>\n",
       "</tbody>\n",
       "</table>\n"
      ],
      "text/latex": [
       "\\begin{tabular}{r|lllllllll}\n",
       " name & n & mean & sd & FBias & MAPE & RMSE & MAD & WMAPE\\\\\n",
       "\\hline\n",
       "\t First Data Set for Stochastic Gradient Boosting & 990                                             & 516.5296                                        & 52.44005                                        & -0.00645595                                     & 0.1154572                                       & 2.364434                                        & 58.9861                                         & 0.1141969                                      \\\\\n",
       "\\end{tabular}\n"
      ],
      "text/markdown": [
       "\n",
       "| name | n | mean | sd | FBias | MAPE | RMSE | MAD | WMAPE |\n",
       "|---|---|---|---|---|---|---|---|---|\n",
       "| First Data Set for Stochastic Gradient Boosting | 990                                             | 516.5296                                        | 52.44005                                        | -0.00645595                                     | 0.1154572                                       | 2.364434                                        | 58.9861                                         | 0.1141969                                       |\n",
       "\n"
      ],
      "text/plain": [
       "  name                                            n   mean     sd      \n",
       "1 First Data Set for Stochastic Gradient Boosting 990 516.5296 52.44005\n",
       "  FBias       MAPE      RMSE     MAD     WMAPE    \n",
       "1 -0.00645595 0.1154572 2.364434 58.9861 0.1141969"
      ]
     },
     "metadata": {},
     "output_type": "display_data"
    }
   ],
   "source": [
    "perf_dt(\"Pisa Data Set for Lasso Function with min lambda and mse objective\", as.numeric(pisa_test$readingScore), prediction_pra_mse_pisa_min)\n",
    "perf_dt(\"Decision Tree with CV for Pisa Dataset\",pisa_test_dt$readingScore,as.numeric(predicted_pisa_dt))\n",
    "perf_dt(\"First Data Set for Random Forest\", as.numeric(RandomForest_pisa), as.numeric(pisa_test$readingScore))\n",
    "perf_dt(\"First Data Set for Stochastic Gradient Boosting\", as.numeric(predicted_pisa_sgb), as.numeric(pisa_test$readingScore))"
   ]
  },
  {
   "cell_type": "markdown",
   "metadata": {},
   "source": [
    "Models got similar performance as achieved in the training dataset. Namely, it is hard to say that there is an over-fitting or under-fitting. Reading Score Estimation can be described as regression problem, so having the worst performance measure both training and test data sets aren't a suprise for decision tree model. In addition to under/over-fitting, it can be said that error rates are consistent for both datasets, which can be observed looking the correlation between the results pf performance of the models in both dataset. "
   ]
  },
  {
   "cell_type": "code",
   "execution_count": null,
   "metadata": {},
   "outputs": [],
   "source": []
  }
 ],
 "metadata": {
  "kernelspec": {
   "display_name": "R",
   "language": "R",
   "name": "ir"
  },
  "language_info": {
   "codemirror_mode": "r",
   "file_extension": ".r",
   "mimetype": "text/x-r-source",
   "name": "R",
   "pygments_lexer": "r",
   "version": "3.6.1"
  }
 },
 "nbformat": 4,
 "nbformat_minor": 4
}
