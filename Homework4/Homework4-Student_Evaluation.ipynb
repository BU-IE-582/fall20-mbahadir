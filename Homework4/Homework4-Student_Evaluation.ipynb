{
 "cells": [
  {
   "cell_type": "code",
   "execution_count": 37,
   "metadata": {},
   "outputs": [],
   "source": [
    "library(data.table)\n",
    "library(glmnet)\n",
    "library(ggplot2)\n",
    "library(lubridate, quietly=TRUE)\n",
    "library(zoo, quietly = TRUE)\n",
    "library(dplyr, quietly = TRUE)\n",
    "library(GGally, quietly=TRUE)\n",
    "library(caTools)\n",
    "library(rpart)\n",
    "library(rattle)\n",
    "library(caret)\n",
    "library(e1071)\n",
    "library(randomForest)\n",
    "library(gbm)\n",
    "library(fastDummies)"
   ]
  },
  {
   "cell_type": "markdown",
   "metadata": {},
   "source": [
    "### Performance Function"
   ]
  },
  {
   "cell_type": "code",
   "execution_count": 6,
   "metadata": {},
   "outputs": [],
   "source": [
    "perf_dt=function(type,actual,forecast){\n",
    "    name=type\n",
    "    n=length(actual)\n",
    "    error=actual-forecast\n",
    "    mean=mean(actual)\n",
    "    sd=sd(actual)\n",
    "    FBias=sum(error)/sum(actual)\n",
    "    MPE=sum(error/actual)/n\n",
    "    MAPE=sum(abs(error/actual))/n\n",
    "    RMSE=sqrt(sum(error^2))/n\n",
    "    MAD=sum(abs(error))/n\n",
    "    WMAPE=MAD/mean\n",
    "    l=data.frame(name,n,mean,sd,FBias,MAPE,RMSE,MAD,WMAPE)\n",
    "    return(l)\n",
    "}"
   ]
  },
  {
   "cell_type": "markdown",
   "metadata": {},
   "source": [
    "# Student Performance Dataset"
   ]
  },
  {
   "cell_type": "markdown",
   "metadata": {},
   "source": [
    "Attribute Information:\n",
    "\n",
    "instr: Instructor's identifier; values taken from {1,2,3}\n",
    "\n",
    "class: Course code (descriptor); values taken from {1-13}\n",
    "\n",
    "repeat: Number of times the student is taking this course; values taken from {0,1,2,3,...}\n",
    "\n",
    "attendance: Code of the level of attendance; values from {0, 1, 2, 3, 4}\n",
    "\n",
    "difficulty: Level of difficulty of the course as perceived by the student; values taken from {1,2,3,4,5}\n",
    "\n",
    "Q1: The semester course content, teaching method and evaluation system were provided at the start.\n",
    "\n",
    "Q2: The course aims and objectives were clearly stated at the beginning of the period.\n",
    "\n",
    "Q3: The course was worth the amount of credit assigned to it.\n",
    "\n",
    "Q4: The course was taught according to the syllabus announced on the first day of class.\n",
    "\n",
    "Q5: The class discussions, homework assignments, applications and studies were satisfactory.\n",
    "\n",
    "Q6: The textbook and other courses resources were sufficient and up to date.\n",
    "\n",
    "Q7: The course allowed field work, applications, laboratory, discussion and other studies.\n",
    "\n",
    "Q8: The quizzes, assignments, projects and exams contributed to helping the learning.\n",
    "\n",
    "Q9: I greatly enjoyed the class and was eager to actively participate during the lectures.\n",
    "\n",
    "Q10: My initial expectations about the course were met at the end of the period or year.\n",
    "\n",
    "Q11: The course was relevant and beneficial to my professional development.\n",
    "\n",
    "Q12: The course helped me look at life and the world with a new perspective.\n",
    "\n",
    "Q13: The Instructor's knowledge was relevant and up to date.\n",
    "\n",
    "Q14: The Instructor came prepared for classes.\n",
    "\n",
    "Q15: The Instructor taught in accordance with the announced lesson plan.\n",
    "\n",
    "Q16: The Instructor was committed to the course and was understandable.\n",
    "\n",
    "Q17: The Instructor arrived on time for classes.\n",
    "\n",
    "Q18: The Instructor has a smooth and easy to follow delivery/speech.\n",
    "\n",
    "Q19: The Instructor made effective use of class hours.\n",
    "\n",
    "Q20: The Instructor explained the course and was eager to be helpful to students.\n",
    "\n",
    "Q21: The Instructor demonstrated a positive approach to students.\n",
    "\n",
    "Q22: The Instructor was open and respectful of the views of students about the course.\n",
    "\n",
    "Q23: The Instructor encouraged participation in the course.\n",
    "\n",
    "Q24: The Instructor gave relevant homework assignments/projects, and helped/guided students.\n",
    "\n",
    "Q25: The Instructor responded to questions about the course inside and outside of the course.\n",
    "\n",
    "Q26: The Instructor's evaluation system (midterm and final questions, projects, assignments, etc.) effectively measured the course objectives.\n",
    "\n",
    "Q27: The Instructor provided solutions to exams and discussed them with students.\n",
    "\n",
    "Q28: The Instructor treated all students in a right and objective manner.\n",
    "\n",
    "Q1-Q28 are all Likert-type, meaning that the values are taken from {1,2,3,4,5}"
   ]
  },
  {
   "cell_type": "markdown",
   "metadata": {},
   "source": [
    "### Loading Dataset"
   ]
  },
  {
   "cell_type": "code",
   "execution_count": 7,
   "metadata": {},
   "outputs": [],
   "source": [
    "std_eva=read.csv(\"turkiye-student-evaluation_R_Specific.csv\")\n",
    "std_eva=as.data.table(std_eva)"
   ]
  },
  {
   "cell_type": "code",
   "execution_count": 8,
   "metadata": {},
   "outputs": [],
   "source": [
    "for (i in colnames(std_eva)){\n",
    "   std_eva[[i]]=as.factor(std_eva[[i]])\n",
    "}"
   ]
  },
  {
   "cell_type": "code",
   "execution_count": 9,
   "metadata": {},
   "outputs": [
    {
     "name": "stderr",
     "output_type": "stream",
     "text": [
      "Warning message in `[.data.table`(std_eva, , `:=`(y, difficulty)):\n",
      "\"Invalid .internal.selfref detected and fixed by taking a (shallow) copy of the data.table so that := can add this new column by reference. At an earlier point, this data.table has been copied by R (or was created manually using structure() or similar). Avoid names<- and attr<- which in R currently (and oddly) may copy the whole data.table. Use set* syntax instead to avoid copying: ?set, ?setnames and ?setattr. If this message doesn't help, please report your use case to the data.table issue tracker so the root cause can be fixed or this message improved.\""
     ]
    }
   ],
   "source": [
    "std_eva[,y:=difficulty]\n",
    "std_eva[,difficulty:=NULL]"
   ]
  },
  {
   "cell_type": "code",
   "execution_count": 10,
   "metadata": {
    "scrolled": false
   },
   "outputs": [
    {
     "name": "stdout",
     "output_type": "stream",
     "text": [
      "Classes 'data.table' and 'data.frame':\t5820 obs. of  33 variables:\n",
      " $ instr     : Factor w/ 3 levels \"1\",\"2\",\"3\": 1 1 1 1 1 1 1 1 1 1 ...\n",
      " $ class     : Factor w/ 13 levels \"1\",\"2\",\"3\",\"4\",..: 2 2 2 2 2 2 2 2 2 2 ...\n",
      " $ nb.repeat : Factor w/ 3 levels \"1\",\"2\",\"3\": 1 1 1 1 1 1 1 1 1 1 ...\n",
      " $ attendance: Factor w/ 5 levels \"0\",\"1\",\"2\",\"3\",..: 1 2 3 2 1 4 2 2 2 5 ...\n",
      " $ Q1        : Factor w/ 5 levels \"1\",\"2\",\"3\",\"4\",..: 3 3 5 3 1 4 4 5 4 4 ...\n",
      " $ Q2        : Factor w/ 5 levels \"1\",\"2\",\"3\",\"4\",..: 3 3 5 3 1 4 4 5 4 4 ...\n",
      " $ Q3        : Factor w/ 5 levels \"1\",\"2\",\"3\",\"4\",..: 3 3 5 3 1 4 4 5 4 4 ...\n",
      " $ Q4        : Factor w/ 5 levels \"1\",\"2\",\"3\",\"4\",..: 3 3 5 3 1 4 4 5 4 4 ...\n",
      " $ Q5        : Factor w/ 5 levels \"1\",\"2\",\"3\",\"4\",..: 3 3 5 3 1 4 4 5 4 4 ...\n",
      " $ Q6        : Factor w/ 5 levels \"1\",\"2\",\"3\",\"4\",..: 3 3 5 3 1 4 4 5 4 4 ...\n",
      " $ Q7        : Factor w/ 5 levels \"1\",\"2\",\"3\",\"4\",..: 3 3 5 3 1 4 4 5 4 4 ...\n",
      " $ Q8        : Factor w/ 5 levels \"1\",\"2\",\"3\",\"4\",..: 3 3 5 3 1 4 4 5 4 4 ...\n",
      " $ Q9        : Factor w/ 5 levels \"1\",\"2\",\"3\",\"4\",..: 3 3 5 3 1 4 4 5 4 4 ...\n",
      " $ Q10       : Factor w/ 5 levels \"1\",\"2\",\"3\",\"4\",..: 3 3 5 3 1 4 4 5 4 4 ...\n",
      " $ Q11       : Factor w/ 5 levels \"1\",\"2\",\"3\",\"4\",..: 3 3 5 3 1 4 4 5 5 4 ...\n",
      " $ Q12       : Factor w/ 5 levels \"1\",\"2\",\"3\",\"4\",..: 3 3 5 3 1 4 4 5 4 4 ...\n",
      " $ Q13       : Factor w/ 5 levels \"1\",\"2\",\"3\",\"4\",..: 3 3 5 3 1 4 4 5 4 4 ...\n",
      " $ Q14       : Factor w/ 5 levels \"1\",\"2\",\"3\",\"4\",..: 3 3 5 3 1 4 4 5 4 4 ...\n",
      " $ Q15       : Factor w/ 5 levels \"1\",\"2\",\"3\",\"4\",..: 3 3 5 3 1 4 4 5 4 4 ...\n",
      " $ Q16       : Factor w/ 5 levels \"1\",\"2\",\"3\",\"4\",..: 3 3 5 3 1 4 4 5 4 4 ...\n",
      " $ Q17       : Factor w/ 5 levels \"1\",\"2\",\"3\",\"4\",..: 3 3 5 3 1 4 4 5 4 4 ...\n",
      " $ Q18       : Factor w/ 5 levels \"1\",\"2\",\"3\",\"4\",..: 3 3 5 3 1 4 4 5 4 4 ...\n",
      " $ Q19       : Factor w/ 5 levels \"1\",\"2\",\"3\",\"4\",..: 3 3 5 3 1 4 4 5 4 4 ...\n",
      " $ Q20       : Factor w/ 5 levels \"1\",\"2\",\"3\",\"4\",..: 3 3 5 3 1 4 4 5 4 4 ...\n",
      " $ Q21       : Factor w/ 5 levels \"1\",\"2\",\"3\",\"4\",..: 3 3 5 3 1 4 4 5 4 4 ...\n",
      " $ Q22       : Factor w/ 5 levels \"1\",\"2\",\"3\",\"4\",..: 3 3 5 3 1 4 4 5 4 4 ...\n",
      " $ Q23       : Factor w/ 5 levels \"1\",\"2\",\"3\",\"4\",..: 3 3 5 3 1 4 4 5 4 4 ...\n",
      " $ Q24       : Factor w/ 5 levels \"1\",\"2\",\"3\",\"4\",..: 3 3 5 3 1 4 4 5 4 4 ...\n",
      " $ Q25       : Factor w/ 5 levels \"1\",\"2\",\"3\",\"4\",..: 3 3 5 3 1 4 4 5 4 4 ...\n",
      " $ Q26       : Factor w/ 5 levels \"1\",\"2\",\"3\",\"4\",..: 3 3 5 3 1 4 4 5 4 4 ...\n",
      " $ Q27       : Factor w/ 5 levels \"1\",\"2\",\"3\",\"4\",..: 3 3 5 3 1 4 4 5 4 4 ...\n",
      " $ Q28       : Factor w/ 5 levels \"1\",\"2\",\"3\",\"4\",..: 3 3 5 3 1 4 4 5 4 4 ...\n",
      " $ y         : Factor w/ 5 levels \"1\",\"2\",\"3\",\"4\",..: 4 3 4 3 1 3 3 3 3 4 ...\n",
      " - attr(*, \".internal.selfref\")=<externalptr> \n"
     ]
    }
   ],
   "source": [
    "str(std_eva)"
   ]
  },
  {
   "cell_type": "code",
   "execution_count": 11,
   "metadata": {},
   "outputs": [],
   "source": [
    "set.seed(35)\n",
    "spl=sample.split(std_eva$y, SplitRatio = 0.8)\n",
    "train=subset(std_eva,spl==TRUE)\n",
    "test=subset(std_eva,spl==FALSE)"
   ]
  },
  {
   "cell_type": "markdown",
   "metadata": {},
   "source": [
    "## Penalized Regression Approaches(PRA)"
   ]
  },
  {
   "cell_type": "markdown",
   "metadata": {},
   "source": [
    "### L1 Penalty with Mean Square Error measure"
   ]
  },
  {
   "cell_type": "markdown",
   "metadata": {},
   "source": [
    "In order to tune lambda values, glmnet packages are used to get best lambda values for Penalized Regression. "
   ]
  },
  {
   "cell_type": "code",
   "execution_count": 20,
   "metadata": {},
   "outputs": [],
   "source": [
    "train_mat=data.matrix(train[complete.cases(train),-c(\"y\"),with=F])\n",
    "\n",
    "result_vec=as.vector(t(train[complete.cases(train),\"y\"]))\n",
    "\n",
    "cvfit=cv.glmnet(train_mat,result_vec,family=\"multinomial\",nfolds = 10, type.measure=\"mse\")\n",
    "\n",
    "test_mat=data.matrix(test[complete.cases(test),-c(\"y\")])\n",
    "\n",
    "lasso_model_mse_min <- glmnet(train_mat,result_vec, alpha = 1, lambda = cvfit$lambda.min, standardize = FALSE,family=\"multinomial\")\n",
    "lasso_model_mse_1se <- glmnet(train_mat,result_vec, alpha = 1, lambda = cvfit$lambda.1se, standardize = FALSE,family=\"multinomial\")\n",
    "lasso_model_mse_10th <- glmnet(train_mat,result_vec, alpha = 1, lambda = cvfit$lambda[10], standardize = FALSE,family=\"multinomial\")"
   ]
  },
  {
   "cell_type": "code",
   "execution_count": 14,
   "metadata": {},
   "outputs": [],
   "source": [
    "# train_mat=data.matrix(train[complete.cases(train),-c(\"y\"),with=F])\n",
    "\n",
    "# result_vec=as.vector(t(train[complete.cases(train),\"y\"]))\n",
    "\n",
    "# cvfit=cv.glmnet(train_mat,result_vec,family=\"multinomial\",nfolds = 10)\n",
    "\n",
    "# test_mat=data.matrix(test[complete.cases(test),-c(\"y\")])\n",
    "\n",
    "# lasso_model <- glmnet(train_mat,result_vec, alpha = 1, lambda = cvfit$lambda.min, standardize = FALSE,family=\"multinomial\")"
   ]
  },
  {
   "cell_type": "code",
   "execution_count": 16,
   "metadata": {},
   "outputs": [
    {
     "data": {
      "image/png": "[encoded data removed]",
      "text/plain": [
       "plot without title"
      ]
     },
     "metadata": {},
     "output_type": "display_data"
    }
   ],
   "source": [
    "plot(cvfit)"
   ]
  },
  {
   "cell_type": "markdown",
   "metadata": {},
   "source": [
    "### Lambda Values for Mean Square Error Values"
   ]
  },
  {
   "cell_type": "code",
   "execution_count": 17,
   "metadata": {},
   "outputs": [
    {
     "data": {
      "text/html": [
       "0.00217931358111362"
      ],
      "text/latex": [
       "0.00217931358111362"
      ],
      "text/markdown": [
       "0.00217931358111362"
      ],
      "text/plain": [
       "[1] 0.002179314"
      ]
     },
     "metadata": {},
     "output_type": "display_data"
    }
   ],
   "source": [
    "cvfit$lambda.min"
   ]
  },
  {
   "cell_type": "code",
   "execution_count": 18,
   "metadata": {},
   "outputs": [
    {
     "data": {
      "text/html": [
       "0.00879792652741519"
      ],
      "text/latex": [
       "0.00879792652741519"
      ],
      "text/markdown": [
       "0.00879792652741519"
      ],
      "text/plain": [
       "[1] 0.008797927"
      ]
     },
     "metadata": {},
     "output_type": "display_data"
    }
   ],
   "source": [
    "cvfit$lambda.1se"
   ]
  },
  {
   "cell_type": "code",
   "execution_count": 19,
   "metadata": {},
   "outputs": [
    {
     "data": {
      "text/html": [
       "0.098829222863566"
      ],
      "text/latex": [
       "0.098829222863566"
      ],
      "text/markdown": [
       "0.098829222863566"
      ],
      "text/plain": [
       "[1] 0.09882922"
      ]
     },
     "metadata": {},
     "output_type": "display_data"
    }
   ],
   "source": [
    "cvfit$lambda[10]"
   ]
  },
  {
   "cell_type": "markdown",
   "metadata": {},
   "source": [
    "2 possible lambda values are determined by the cv.glmnet(). One of them is used for getting minimum Mean-Squared Error. The other one is determined by looking how many paramater is used in the model. Namely, this lambda value can be beneficial for reducing the possibility of over-fitting model on train dataset. Lastly, one random lambda was selected to compare results for these 3 lambda values."
   ]
  },
  {
   "cell_type": "code",
   "execution_count": 23,
   "metadata": {},
   "outputs": [],
   "source": [
    "prediction_pra_mse_min <- predict(lasso_model_mse_min, s = cvfit$lambda.min, newx = test_mat, type=\"class\")\n",
    "prediction_pra_mse_1se <- predict(lasso_model_mse_1se, s = cvfit$lambda.1se, newx = test_mat, type=\"class\")\n",
    "prediction_pra_mse_10th <- predict(lasso_model_mse_10th, s = cvfit$lambda[10], newx = test_mat, type=\"class\")"
   ]
  },
  {
   "cell_type": "markdown",
   "metadata": {},
   "source": [
    "## L1 Penalty with Mean Absolute Error measure"
   ]
  },
  {
   "cell_type": "code",
   "execution_count": 25,
   "metadata": {},
   "outputs": [],
   "source": [
    "train_mat=data.matrix(train[complete.cases(train),-c(\"y\"),with=F])\n",
    "\n",
    "result_vec=as.vector(t(train[complete.cases(train),\"y\"]))\n",
    "\n",
    "cvfit_mae=cv.glmnet(train_mat,result_vec,family=\"multinomial\",nfolds = 10, type.measure=\"mae\")\n",
    "\n",
    "test_mat=data.matrix(test[complete.cases(test),-c(\"y\")])\n",
    "\n",
    "lasso_model_mae_min <- glmnet(train_mat,result_vec, alpha = 1, lambda = cvfit_mae$lambda.min, standardize = FALSE,family=\"multinomial\")\n",
    "lasso_model_mae_1se <- glmnet(train_mat,result_vec, alpha = 1, lambda = cvfit_mae$lambda.1se, standardize = FALSE,family=\"multinomial\")\n",
    "lasso_model_mae_10th <- glmnet(train_mat,result_vec, alpha = 1, lambda = cvfit_mae$lambda[10], standardize = FALSE,family=\"multinomial\")"
   ]
  },
  {
   "cell_type": "code",
   "execution_count": 27,
   "metadata": {},
   "outputs": [
    {
     "data": {
      "image/png": "[encoded data removed]",
      "text/plain": [
       "plot without title"
      ]
     },
     "metadata": {},
     "output_type": "display_data"
    }
   ],
   "source": [
    "plot(cvfit_mae)"
   ]
  },
  {
   "cell_type": "markdown",
   "metadata": {},
   "source": [
    "### Lambda Values for Mean Square Error Values"
   ]
  },
  {
   "cell_type": "code",
   "execution_count": 28,
   "metadata": {},
   "outputs": [
    {
     "data": {
      "text/html": [
       "0.000176770843973532"
      ],
      "text/latex": [
       "0.000176770843973532"
      ],
      "text/markdown": [
       "0.000176770843973532"
      ],
      "text/plain": [
       "[1] 0.0001767708"
      ]
     },
     "metadata": {},
     "output_type": "display_data"
    }
   ],
   "source": [
    "cvfit_mae$lambda.min"
   ]
  },
  {
   "cell_type": "code",
   "execution_count": 29,
   "metadata": {},
   "outputs": [
    {
     "data": {
      "text/html": [
       "0.00136867244384704"
      ],
      "text/latex": [
       "0.00136867244384704"
      ],
      "text/markdown": [
       "0.00136867244384704"
      ],
      "text/plain": [
       "[1] 0.001368672"
      ]
     },
     "metadata": {},
     "output_type": "display_data"
    }
   ],
   "source": [
    "cvfit_mae$lambda.1se"
   ]
  },
  {
   "cell_type": "code",
   "execution_count": 30,
   "metadata": {},
   "outputs": [
    {
     "data": {
      "text/html": [
       "0.098829222863566"
      ],
      "text/latex": [
       "0.098829222863566"
      ],
      "text/markdown": [
       "0.098829222863566"
      ],
      "text/plain": [
       "[1] 0.09882922"
      ]
     },
     "metadata": {},
     "output_type": "display_data"
    }
   ],
   "source": [
    "cvfit_mae$lambda[10]"
   ]
  },
  {
   "cell_type": "markdown",
   "metadata": {},
   "source": [
    "2 possible lambda values are determined by the cv.glmnet(). One of them is used for getting minimum Mean-Squared Error. The other one is determined by looking how many paramater is used in the model. Namely, this lambda value can be beneficial for reducing the possibility of over-fitting model on train dataset. Lastly, one random lambda was selected to compare results for these 3 lambda values."
   ]
  },
  {
   "cell_type": "code",
   "execution_count": 31,
   "metadata": {},
   "outputs": [],
   "source": [
    "prediction_pra_mae_min <- predict(lasso_model_mae_min, s = cvfit_mae$lambda.min, newx = test_mat, type=\"class\")\n",
    "prediction_pra_mae_1se <- predict(lasso_model_mae_1se, s = cvfit_mae$lambda.1se, newx = test_mat, type=\"class\")\n",
    "prediction_pra_mae_10th <- predict(lasso_model_mae_10th, s = cvfit_mae$lambda[10], newx = test_mat, type=\"class\")"
   ]
  },
  {
   "cell_type": "markdown",
   "metadata": {},
   "source": [
    "### Performance Measure for Lasso Regression"
   ]
  },
  {
   "cell_type": "code",
   "execution_count": 33,
   "metadata": {},
   "outputs": [
    {
     "data": {
      "text/html": [
       "<table>\n",
       "<thead><tr><th scope=col>name</th><th scope=col>n</th><th scope=col>mean</th><th scope=col>sd</th><th scope=col>FBias</th><th scope=col>MAPE</th><th scope=col>RMSE</th><th scope=col>MAD</th><th scope=col>WMAPE</th></tr></thead>\n",
       "<tbody>\n",
       "\t<tr><td>Student Data Set for Lasso Function with min lambda and mse objective</td><td>1164                                                                 </td><td>2.782646                                                             </td><td>1.348866                                                             </td><td>0.1358444                                                            </td><td>0.3637743                                                            </td><td>0.04162901                                                           </td><td>0.919244                                                             </td><td>0.3303489                                                            </td></tr>\n",
       "</tbody>\n",
       "</table>\n"
      ],
      "text/latex": [
       "\\begin{tabular}{r|lllllllll}\n",
       " name & n & mean & sd & FBias & MAPE & RMSE & MAD & WMAPE\\\\\n",
       "\\hline\n",
       "\t Student Data Set for Lasso Function with min lambda and mse objective & 1164                                                                  & 2.782646                                                              & 1.348866                                                              & 0.1358444                                                             & 0.3637743                                                             & 0.04162901                                                            & 0.919244                                                              & 0.3303489                                                            \\\\\n",
       "\\end{tabular}\n"
      ],
      "text/markdown": [
       "\n",
       "| name | n | mean | sd | FBias | MAPE | RMSE | MAD | WMAPE |\n",
       "|---|---|---|---|---|---|---|---|---|\n",
       "| Student Data Set for Lasso Function with min lambda and mse objective | 1164                                                                  | 2.782646                                                              | 1.348866                                                              | 0.1358444                                                             | 0.3637743                                                             | 0.04162901                                                            | 0.919244                                                              | 0.3303489                                                             |\n",
       "\n"
      ],
      "text/plain": [
       "  name                                                                  n   \n",
       "1 Student Data Set for Lasso Function with min lambda and mse objective 1164\n",
       "  mean     sd       FBias     MAPE      RMSE       MAD      WMAPE    \n",
       "1 2.782646 1.348866 0.1358444 0.3637743 0.04162901 0.919244 0.3303489"
      ]
     },
     "metadata": {},
     "output_type": "display_data"
    },
    {
     "data": {
      "text/html": [
       "<table>\n",
       "<thead><tr><th scope=col>name</th><th scope=col>n</th><th scope=col>mean</th><th scope=col>sd</th><th scope=col>FBias</th><th scope=col>MAPE</th><th scope=col>RMSE</th><th scope=col>MAD</th><th scope=col>WMAPE</th></tr></thead>\n",
       "<tbody>\n",
       "\t<tr><td>Student Data Set for Lasso Function with 1se lambda and mse objective</td><td>1164                                                                 </td><td>2.782646                                                             </td><td>1.348866                                                             </td><td>0.1917258                                                            </td><td>0.3418528                                                            </td><td>0.04153138                                                           </td><td>0.9235395                                                            </td><td>0.3318926                                                            </td></tr>\n",
       "</tbody>\n",
       "</table>\n"
      ],
      "text/latex": [
       "\\begin{tabular}{r|lllllllll}\n",
       " name & n & mean & sd & FBias & MAPE & RMSE & MAD & WMAPE\\\\\n",
       "\\hline\n",
       "\t Student Data Set for Lasso Function with 1se lambda and mse objective & 1164                                                                  & 2.782646                                                              & 1.348866                                                              & 0.1917258                                                             & 0.3418528                                                             & 0.04153138                                                            & 0.9235395                                                             & 0.3318926                                                            \\\\\n",
       "\\end{tabular}\n"
      ],
      "text/markdown": [
       "\n",
       "| name | n | mean | sd | FBias | MAPE | RMSE | MAD | WMAPE |\n",
       "|---|---|---|---|---|---|---|---|---|\n",
       "| Student Data Set for Lasso Function with 1se lambda and mse objective | 1164                                                                  | 2.782646                                                              | 1.348866                                                              | 0.1917258                                                             | 0.3418528                                                             | 0.04153138                                                            | 0.9235395                                                             | 0.3318926                                                             |\n",
       "\n"
      ],
      "text/plain": [
       "  name                                                                  n   \n",
       "1 Student Data Set for Lasso Function with 1se lambda and mse objective 1164\n",
       "  mean     sd       FBias     MAPE      RMSE       MAD       WMAPE    \n",
       "1 2.782646 1.348866 0.1917258 0.3418528 0.04153138 0.9235395 0.3318926"
      ]
     },
     "metadata": {},
     "output_type": "display_data"
    },
    {
     "data": {
      "text/html": [
       "<table>\n",
       "<thead><tr><th scope=col>name</th><th scope=col>n</th><th scope=col>mean</th><th scope=col>sd</th><th scope=col>FBias</th><th scope=col>MAPE</th><th scope=col>RMSE</th><th scope=col>MAD</th><th scope=col>WMAPE</th></tr></thead>\n",
       "<tbody>\n",
       "\t<tr><td>Student Data Set for Lasso Function with 10th lambda and mse objective</td><td>1164                                                                  </td><td>2.782646                                                              </td><td>1.348866                                                              </td><td>0.2701451                                                             </td><td>0.3632732                                                             </td><td>0.0456783                                                             </td><td>1.054124                                                              </td><td>0.3788206                                                             </td></tr>\n",
       "</tbody>\n",
       "</table>\n"
      ],
      "text/latex": [
       "\\begin{tabular}{r|lllllllll}\n",
       " name & n & mean & sd & FBias & MAPE & RMSE & MAD & WMAPE\\\\\n",
       "\\hline\n",
       "\t Student Data Set for Lasso Function with 10th lambda and mse objective & 1164                                                                   & 2.782646                                                               & 1.348866                                                               & 0.2701451                                                              & 0.3632732                                                              & 0.0456783                                                              & 1.054124                                                               & 0.3788206                                                             \\\\\n",
       "\\end{tabular}\n"
      ],
      "text/markdown": [
       "\n",
       "| name | n | mean | sd | FBias | MAPE | RMSE | MAD | WMAPE |\n",
       "|---|---|---|---|---|---|---|---|---|\n",
       "| Student Data Set for Lasso Function with 10th lambda and mse objective | 1164                                                                   | 2.782646                                                               | 1.348866                                                               | 0.2701451                                                              | 0.3632732                                                              | 0.0456783                                                              | 1.054124                                                               | 0.3788206                                                              |\n",
       "\n"
      ],
      "text/plain": [
       "  name                                                                   n   \n",
       "1 Student Data Set for Lasso Function with 10th lambda and mse objective 1164\n",
       "  mean     sd       FBias     MAPE      RMSE      MAD      WMAPE    \n",
       "1 2.782646 1.348866 0.2701451 0.3632732 0.0456783 1.054124 0.3788206"
      ]
     },
     "metadata": {},
     "output_type": "display_data"
    },
    {
     "data": {
      "text/html": [
       "<table>\n",
       "<thead><tr><th scope=col>name</th><th scope=col>n</th><th scope=col>mean</th><th scope=col>sd</th><th scope=col>FBias</th><th scope=col>MAPE</th><th scope=col>RMSE</th><th scope=col>MAD</th><th scope=col>WMAPE</th></tr></thead>\n",
       "<tbody>\n",
       "\t<tr><td>Student Data Set for Lasso Function with min lambda and mae objective</td><td>1164                                                                 </td><td>2.782646                                                             </td><td>1.348866                                                             </td><td>0.12226                                                              </td><td>0.3734107                                                            </td><td>0.04217504                                                           </td><td>0.9243986                                                            </td><td>0.3322013                                                            </td></tr>\n",
       "</tbody>\n",
       "</table>\n"
      ],
      "text/latex": [
       "\\begin{tabular}{r|lllllllll}\n",
       " name & n & mean & sd & FBias & MAPE & RMSE & MAD & WMAPE\\\\\n",
       "\\hline\n",
       "\t Student Data Set for Lasso Function with min lambda and mae objective & 1164                                                                  & 2.782646                                                              & 1.348866                                                              & 0.12226                                                               & 0.3734107                                                             & 0.04217504                                                            & 0.9243986                                                             & 0.3322013                                                            \\\\\n",
       "\\end{tabular}\n"
      ],
      "text/markdown": [
       "\n",
       "| name | n | mean | sd | FBias | MAPE | RMSE | MAD | WMAPE |\n",
       "|---|---|---|---|---|---|---|---|---|\n",
       "| Student Data Set for Lasso Function with min lambda and mae objective | 1164                                                                  | 2.782646                                                              | 1.348866                                                              | 0.12226                                                               | 0.3734107                                                             | 0.04217504                                                            | 0.9243986                                                             | 0.3322013                                                             |\n",
       "\n"
      ],
      "text/plain": [
       "  name                                                                  n   \n",
       "1 Student Data Set for Lasso Function with min lambda and mae objective 1164\n",
       "  mean     sd       FBias   MAPE      RMSE       MAD       WMAPE    \n",
       "1 2.782646 1.348866 0.12226 0.3734107 0.04217504 0.9243986 0.3322013"
      ]
     },
     "metadata": {},
     "output_type": "display_data"
    },
    {
     "data": {
      "text/html": [
       "<table>\n",
       "<thead><tr><th scope=col>name</th><th scope=col>n</th><th scope=col>mean</th><th scope=col>sd</th><th scope=col>FBias</th><th scope=col>MAPE</th><th scope=col>RMSE</th><th scope=col>MAD</th><th scope=col>WMAPE</th></tr></thead>\n",
       "<tbody>\n",
       "\t<tr><td>Student Data Set for Lasso Function with 1se lambda and mae objective</td><td>1164                                                                 </td><td>2.782646                                                             </td><td>1.348866                                                             </td><td>0.1287434                                                            </td><td>0.3700888                                                            </td><td>0.04177944                                                           </td><td>0.9252577                                                            </td><td>0.33251                                                              </td></tr>\n",
       "</tbody>\n",
       "</table>\n"
      ],
      "text/latex": [
       "\\begin{tabular}{r|lllllllll}\n",
       " name & n & mean & sd & FBias & MAPE & RMSE & MAD & WMAPE\\\\\n",
       "\\hline\n",
       "\t Student Data Set for Lasso Function with 1se lambda and mae objective & 1164                                                                  & 2.782646                                                              & 1.348866                                                              & 0.1287434                                                             & 0.3700888                                                             & 0.04177944                                                            & 0.9252577                                                             & 0.33251                                                              \\\\\n",
       "\\end{tabular}\n"
      ],
      "text/markdown": [
       "\n",
       "| name | n | mean | sd | FBias | MAPE | RMSE | MAD | WMAPE |\n",
       "|---|---|---|---|---|---|---|---|---|\n",
       "| Student Data Set for Lasso Function with 1se lambda and mae objective | 1164                                                                  | 2.782646                                                              | 1.348866                                                              | 0.1287434                                                             | 0.3700888                                                             | 0.04177944                                                            | 0.9252577                                                             | 0.33251                                                               |\n",
       "\n"
      ],
      "text/plain": [
       "  name                                                                  n   \n",
       "1 Student Data Set for Lasso Function with 1se lambda and mae objective 1164\n",
       "  mean     sd       FBias     MAPE      RMSE       MAD       WMAPE  \n",
       "1 2.782646 1.348866 0.1287434 0.3700888 0.04177944 0.9252577 0.33251"
      ]
     },
     "metadata": {},
     "output_type": "display_data"
    },
    {
     "data": {
      "text/html": [
       "<table>\n",
       "<thead><tr><th scope=col>name</th><th scope=col>n</th><th scope=col>mean</th><th scope=col>sd</th><th scope=col>FBias</th><th scope=col>MAPE</th><th scope=col>RMSE</th><th scope=col>MAD</th><th scope=col>WMAPE</th></tr></thead>\n",
       "<tbody>\n",
       "\t<tr><td>Student Data Set for Lasso Function with 10th lambda and mae objective</td><td>1164                                                                  </td><td>2.782646                                                              </td><td>1.348866                                                              </td><td>0.2701451                                                             </td><td>0.3632732                                                             </td><td>0.0456783                                                             </td><td>1.054124                                                              </td><td>0.3788206                                                             </td></tr>\n",
       "</tbody>\n",
       "</table>\n"
      ],
      "text/latex": [
       "\\begin{tabular}{r|lllllllll}\n",
       " name & n & mean & sd & FBias & MAPE & RMSE & MAD & WMAPE\\\\\n",
       "\\hline\n",
       "\t Student Data Set for Lasso Function with 10th lambda and mae objective & 1164                                                                   & 2.782646                                                               & 1.348866                                                               & 0.2701451                                                              & 0.3632732                                                              & 0.0456783                                                              & 1.054124                                                               & 0.3788206                                                             \\\\\n",
       "\\end{tabular}\n"
      ],
      "text/markdown": [
       "\n",
       "| name | n | mean | sd | FBias | MAPE | RMSE | MAD | WMAPE |\n",
       "|---|---|---|---|---|---|---|---|---|\n",
       "| Student Data Set for Lasso Function with 10th lambda and mae objective | 1164                                                                   | 2.782646                                                               | 1.348866                                                               | 0.2701451                                                              | 0.3632732                                                              | 0.0456783                                                              | 1.054124                                                               | 0.3788206                                                              |\n",
       "\n"
      ],
      "text/plain": [
       "  name                                                                   n   \n",
       "1 Student Data Set for Lasso Function with 10th lambda and mae objective 1164\n",
       "  mean     sd       FBias     MAPE      RMSE      MAD      WMAPE    \n",
       "1 2.782646 1.348866 0.2701451 0.3632732 0.0456783 1.054124 0.3788206"
      ]
     },
     "metadata": {},
     "output_type": "display_data"
    }
   ],
   "source": [
    "perf_dt(\"Student Data Set for Lasso Function with min lambda and mse objective\", as.numeric(test$y), as.numeric(prediction_pra_mse_min))\n",
    "perf_dt(\"Student Data Set for Lasso Function with 1se lambda and mse objective\", as.numeric(test$y), as.numeric(prediction_pra_mse_1se))\n",
    "perf_dt(\"Student Data Set for Lasso Function with 10th lambda and mse objective\", as.numeric(test$y), as.numeric(prediction_pra_mse_10th))\n",
    "\n",
    "perf_dt(\"Student Data Set for Lasso Function with min lambda and mae objective\", as.numeric(test$y), as.numeric(prediction_pra_mae_min))\n",
    "perf_dt(\"Student Data Set for Lasso Function with 1se lambda and mae objective\", as.numeric(test$y), as.numeric(prediction_pra_mae_1se))\n",
    "perf_dt(\"Student Data Set for Lasso Function with 10th lambda and mae objective\", as.numeric(test$y), as.numeric(prediction_pra_mae_10th))"
   ]
  },
  {
   "cell_type": "code",
   "execution_count": 34,
   "metadata": {},
   "outputs": [
    {
     "data": {
      "text/plain": [
       "Confusion Matrix and Statistics\n",
       "\n",
       "          Reference\n",
       "Prediction   1   2   3   4   5\n",
       "         1 249  28  61  49  37\n",
       "         2   0   1   0   1   0\n",
       "         3  56  70 255 155  60\n",
       "         4   9   8  23  29  14\n",
       "         5  10   3  16  11  19\n",
       "\n",
       "Overall Statistics\n",
       "                                          \n",
       "               Accuracy : 0.4751          \n",
       "                 95% CI : (0.4461, 0.5042)\n",
       "    No Information Rate : 0.305           \n",
       "    P-Value [Acc > NIR] : < 2.2e-16       \n",
       "                                          \n",
       "                  Kappa : 0.2726          \n",
       "                                          \n",
       " Mcnemar's Test P-Value : < 2.2e-16       \n",
       "\n",
       "Statistics by Class:\n",
       "\n",
       "                     Class: 1  Class: 2 Class: 3 Class: 4 Class: 5\n",
       "Precision              0.5873 0.5000000   0.4279  0.34940  0.32203\n",
       "Recall                 0.7685 0.0090909   0.7183  0.11837  0.14615\n",
       "F1                     0.6658 0.0178571   0.5363  0.17683  0.20106\n",
       "Prevalence             0.2784 0.0945017   0.3050  0.21048  0.11168\n",
       "Detection Rate         0.2139 0.0008591   0.2191  0.02491  0.01632\n",
       "Detection Prevalence   0.3643 0.0017182   0.5120  0.07131  0.05069\n",
       "Balanced Accuracy      0.7801 0.5040711   0.6484  0.52980  0.55373"
      ]
     },
     "metadata": {},
     "output_type": "display_data"
    }
   ],
   "source": [
    "confusionMatrix(data = as.factor(prediction_pra_mae_min), reference = as.factor(test$y), mode = \"prec_recall\")"
   ]
  },
  {
   "cell_type": "markdown",
   "metadata": {},
   "source": [
    "## Decision Tree(DT)"
   ]
  },
  {
   "cell_type": "code",
   "execution_count": null,
   "metadata": {},
   "outputs": [],
   "source": [
    "set.seed(35)"
   ]
  },
  {
   "cell_type": "code",
   "execution_count": 65,
   "metadata": {},
   "outputs": [],
   "source": [
    "train_dt=cbind(train[,\"y\"],dummy_cols(train[,1:32])[,33:196])\n",
    "test_dt=cbind(test[,\"y\"],dummy_cols(test[,1:32])[,33:196])"
   ]
  },
  {
   "cell_type": "code",
   "execution_count": 74,
   "metadata": {
    "scrolled": false
   },
   "outputs": [
    {
     "name": "stdout",
     "output_type": "stream",
     "text": [
      "CART \n",
      "\n",
      "4656 samples\n",
      " 164 predictor\n",
      "   5 classes: '1', '2', '3', '4', '5' \n",
      "\n",
      "No pre-processing\n",
      "Resampling: Cross-Validated (10 fold) \n",
      "Summary of sample sizes: 4191, 4190, 4191, 4190, 4190, 4190, ... \n",
      "Resampling results across tuning parameters:\n",
      "\n",
      "  cp    Accuracy   Kappa    \n",
      "  0.00  0.5083649  0.3284912\n",
      "  0.02  0.4935539  0.2805437\n",
      "  0.04  0.4935539  0.2805437\n",
      "  0.06  0.4935539  0.2805437\n",
      "  0.08  0.4935539  0.2805437\n",
      "  0.10  0.4935539  0.2805437\n",
      "  0.12  0.4935539  0.2805437\n",
      "  0.14  0.4935539  0.2805437\n",
      "  0.16  0.4935539  0.2805437\n",
      "  0.18  0.4935539  0.2805437\n",
      "  0.20  0.4935539  0.2805437\n",
      "\n",
      "Accuracy was used to select the optimal model using the largest value.\n",
      "The final value used for the model was cp = 0.\n",
      "CART \n",
      "\n",
      "4656 samples\n",
      " 164 predictor\n",
      "   5 classes: '1', '2', '3', '4', '5' \n",
      "\n",
      "No pre-processing\n",
      "Resampling: Cross-Validated (10 fold) \n",
      "Summary of sample sizes: 4190, 4190, 4190, 4190, 4191, 4192, ... \n",
      "Resampling results across tuning parameters:\n",
      "\n",
      "  cp    Accuracy   Kappa    \n",
      "  0.00  0.5152536  0.3383158\n",
      "  0.02  0.4935654  0.2805707\n",
      "  0.04  0.4935654  0.2805707\n",
      "  0.06  0.4935654  0.2805707\n",
      "  0.08  0.4935654  0.2805707\n",
      "  0.10  0.4935654  0.2805707\n",
      "  0.12  0.4935654  0.2805707\n",
      "  0.14  0.4935654  0.2805707\n",
      "  0.16  0.4935654  0.2805707\n",
      "  0.18  0.4935654  0.2805707\n",
      "  0.20  0.4935654  0.2805707\n",
      "\n",
      "Accuracy was used to select the optimal model using the largest value.\n",
      "The final value used for the model was cp = 0.\n"
     ]
    },
    {
     "data": {
      "image/png": "[encoded data removed]",
      "text/plain": [
       "plot without title"
      ]
     },
     "metadata": {},
     "output_type": "display_data"
    },
    {
     "name": "stdout",
     "output_type": "stream",
     "text": [
      "CART \n",
      "\n",
      "4656 samples\n",
      " 164 predictor\n",
      "   5 classes: '1', '2', '3', '4', '5' \n",
      "\n",
      "No pre-processing\n",
      "Resampling: Cross-Validated (10 fold) \n",
      "Summary of sample sizes: 4190, 4190, 4192, 4191, 4190, 4191, ... \n",
      "Resampling results across tuning parameters:\n",
      "\n",
      "  cp    Accuracy   Kappa    \n",
      "  0.00  0.5133237  0.3338278\n",
      "  0.02  0.4935599  0.2805675\n",
      "  0.04  0.4935599  0.2805675\n",
      "  0.06  0.4935599  0.2805675\n",
      "  0.08  0.4935599  0.2805675\n",
      "  0.10  0.4935599  0.2805675\n",
      "  0.12  0.4935599  0.2805675\n",
      "  0.14  0.4935599  0.2805675\n",
      "  0.16  0.4935599  0.2805675\n",
      "  0.18  0.4935599  0.2805675\n",
      "  0.20  0.4935599  0.2805675\n",
      "\n",
      "Accuracy was used to select the optimal model using the largest value.\n",
      "The final value used for the model was cp = 0.\n"
     ]
    },
    {
     "data": {
      "image/png": "[encoded data removed]",
      "text/plain": [
       "plot without title"
      ]
     },
     "metadata": {},
     "output_type": "display_data"
    },
    {
     "name": "stdout",
     "output_type": "stream",
     "text": [
      "CART \n",
      "\n",
      "4656 samples\n",
      " 164 predictor\n",
      "   5 classes: '1', '2', '3', '4', '5' \n",
      "\n",
      "No pre-processing\n",
      "Resampling: Cross-Validated (10 fold) \n",
      "Summary of sample sizes: 4190, 4190, 4192, 4192, 4189, 4191, ... \n",
      "Resampling results across tuning parameters:\n",
      "\n",
      "  cp    Accuracy   Kappa    \n",
      "  0.00  0.5066283  0.3267718\n",
      "  0.02  0.4935368  0.2805211\n",
      "  0.04  0.4935368  0.2805211\n",
      "  0.06  0.4935368  0.2805211\n",
      "  0.08  0.4935368  0.2805211\n",
      "  0.10  0.4935368  0.2805211\n",
      "  0.12  0.4935368  0.2805211\n",
      "  0.14  0.4935368  0.2805211\n",
      "  0.16  0.4935368  0.2805211\n",
      "  0.18  0.4935368  0.2805211\n",
      "  0.20  0.4935368  0.2805211\n",
      "\n",
      "Accuracy was used to select the optimal model using the largest value.\n",
      "The final value used for the model was cp = 0.\n"
     ]
    },
    {
     "data": {
      "image/png": "[encoded data removed]",
      "text/plain": [
       "plot without title"
      ]
     },
     "metadata": {},
     "output_type": "display_data"
    },
    {
     "name": "stdout",
     "output_type": "stream",
     "text": [
      "CART \n",
      "\n",
      "4656 samples\n",
      " 164 predictor\n",
      "   5 classes: '1', '2', '3', '4', '5' \n",
      "\n",
      "No pre-processing\n",
      "Resampling: Cross-Validated (10 fold) \n",
      "Summary of sample sizes: 4190, 4190, 4191, 4190, 4190, 4191, ... \n",
      "Resampling results across tuning parameters:\n",
      "\n",
      "  cp    Accuracy   Kappa    \n",
      "  0.00  0.5103106  0.3260359\n",
      "  0.02  0.4935613  0.2805745\n",
      "  0.04  0.4935613  0.2805745\n",
      "  0.06  0.4935613  0.2805745\n",
      "  0.08  0.4935613  0.2805745\n",
      "  0.10  0.4935613  0.2805745\n",
      "  0.12  0.4935613  0.2805745\n",
      "  0.14  0.4935613  0.2805745\n",
      "  0.16  0.4935613  0.2805745\n",
      "  0.18  0.4935613  0.2805745\n",
      "  0.20  0.4935613  0.2805745\n",
      "\n",
      "Accuracy was used to select the optimal model using the largest value.\n",
      "The final value used for the model was cp = 0.\n"
     ]
    },
    {
     "data": {
      "image/png": "[encoded data removed]",
      "text/plain": [
       "plot without title"
      ]
     },
     "metadata": {},
     "output_type": "display_data"
    },
    {
     "data": {
      "image/png": "[encoded data removed]",
      "text/plain": [
       "plot without title"
      ]
     },
     "metadata": {},
     "output_type": "display_data"
    },
    {
     "name": "stdout",
     "output_type": "stream",
     "text": [
      "CART \n",
      "\n",
      "4656 samples\n",
      " 164 predictor\n",
      "   5 classes: '1', '2', '3', '4', '5' \n",
      "\n",
      "No pre-processing\n",
      "Resampling: Cross-Validated (10 fold) \n",
      "Summary of sample sizes: 4191, 4191, 4190, 4192, 4190, 4191, ... \n",
      "Resampling results across tuning parameters:\n",
      "\n",
      "  cp    Accuracy   Kappa    \n",
      "  0.00  0.5085856  0.3261764\n",
      "  0.02  0.4935627  0.2805648\n",
      "  0.04  0.4935627  0.2805648\n",
      "  0.06  0.4935627  0.2805648\n",
      "  0.08  0.4935627  0.2805648\n",
      "  0.10  0.4935627  0.2805648\n",
      "  0.12  0.4935627  0.2805648\n",
      "  0.14  0.4935627  0.2805648\n",
      "  0.16  0.4935627  0.2805648\n",
      "  0.18  0.4935627  0.2805648\n",
      "  0.20  0.4935627  0.2805648\n",
      "\n",
      "Accuracy was used to select the optimal model using the largest value.\n",
      "The final value used for the model was cp = 0.\n"
     ]
    },
    {
     "data": {
      "image/png": "[encoded data removed]",
      "text/plain": [
       "plot without title"
      ]
     },
     "metadata": {},
     "output_type": "display_data"
    }
   ],
   "source": [
    "numFolds=trainControl(method=\"cv\",number = 10)\n",
    "cpGrid=expand.grid(.cp=(0:10)*0.02)\n",
    "#minbucket_grid=expand.grid(.cp=(5:10))\n",
    "for(i in 100:105){\n",
    "    tr=train(y~.,\n",
    "          data=train_dt, \n",
    "          method=\"rpart\",\n",
    "          trControl=numFolds,\n",
    "          tuneGrid= cpGrid,\n",
    "            # minbucket=minbucket_grid\n",
    "           control= rpart.control(minbucket = i)\n",
    "            )\n",
    "    trellis.par.set(caretTheme())\n",
    "    print(plot(tr))    \n",
    "    print(tr)\n",
    "}"
   ]
  },
  {
   "cell_type": "code",
   "execution_count": 75,
   "metadata": {},
   "outputs": [
    {
     "name": "stdout",
     "output_type": "stream",
     "text": [
      "CART \n",
      "\n",
      "4656 samples\n",
      " 164 predictor\n",
      "   5 classes: '1', '2', '3', '4', '5' \n",
      "\n",
      "No pre-processing\n",
      "Resampling: Cross-Validated (10 fold) \n",
      "Summary of sample sizes: 4191, 4190, 4190, 4191, 4191, 4189, ... \n",
      "Resampling results across tuning parameters:\n",
      "\n",
      "  cp    Accuracy   Kappa    \n",
      "  0.00  0.4613438  0.2837636\n",
      "  0.01  0.4935677  0.2805761\n",
      "  0.02  0.4935677  0.2805761\n",
      "  0.03  0.4935677  0.2805761\n",
      "  0.04  0.4935677  0.2805761\n",
      "  0.05  0.4935677  0.2805761\n",
      "  0.06  0.4935677  0.2805761\n",
      "  0.07  0.4935677  0.2805761\n",
      "  0.08  0.4935677  0.2805761\n",
      "  0.09  0.4935677  0.2805761\n",
      "  0.10  0.4935677  0.2805761\n",
      "\n",
      "Accuracy was used to select the optimal model using the largest value.\n",
      "The final value used for the model was cp = 0.1.\n"
     ]
    },
    {
     "data": {
      "image/png": "[encoded data removed]",
      "text/plain": [
       "plot without title"
      ]
     },
     "metadata": {},
     "output_type": "display_data"
    }
   ],
   "source": [
    "numFolds=trainControl(method=\"cv\",number = 10)\n",
    "cpGrid=expand.grid(.cp=(0:10)*0.01)\n",
    "tr=train(y~.,\n",
    "      data=train_dt, \n",
    "      method=\"rpart\",\n",
    "      trControl=numFolds,\n",
    "      tuneGrid= cpGrid,\n",
    "        # minbucket=minbucket_grid\n",
    "       control= rpart.control(minsplit = 8)\n",
    "        )\n",
    "trellis.par.set(caretTheme())\n",
    "print(plot(tr))    \n",
    "print(tr)"
   ]
  },
  {
   "cell_type": "code",
   "execution_count": 76,
   "metadata": {},
   "outputs": [
    {
     "data": {
      "text/html": [
       "<dl class=dl-horizontal>\n",
       "\t<dt>attendance_0</dt>\n",
       "\t\t<dd>519.073230534664</dd>\n",
       "\t<dt>Q17_1</dt>\n",
       "\t\t<dd>31.4487364428168</dd>\n",
       "\t<dt>Q25_1</dt>\n",
       "\t\t<dd>24.0092504025806</dd>\n",
       "\t<dt>Q14_1</dt>\n",
       "\t\t<dd>21.3039827515856</dd>\n",
       "\t<dt>Q15_1</dt>\n",
       "\t\t<dd>20.6276658388369</dd>\n",
       "\t<dt>Q3_1</dt>\n",
       "\t\t<dd>20.2895073824625</dd>\n",
       "</dl>\n"
      ],
      "text/latex": [
       "\\begin{description*}\n",
       "\\item[attendance\\textbackslash{}\\_0] 519.073230534664\n",
       "\\item[Q17\\textbackslash{}\\_1] 31.4487364428168\n",
       "\\item[Q25\\textbackslash{}\\_1] 24.0092504025806\n",
       "\\item[Q14\\textbackslash{}\\_1] 21.3039827515856\n",
       "\\item[Q15\\textbackslash{}\\_1] 20.6276658388369\n",
       "\\item[Q3\\textbackslash{}\\_1] 20.2895073824625\n",
       "\\end{description*}\n"
      ],
      "text/markdown": [
       "attendance_0\n",
       ":   519.073230534664Q17_1\n",
       ":   31.4487364428168Q25_1\n",
       ":   24.0092504025806Q14_1\n",
       ":   21.3039827515856Q15_1\n",
       ":   20.6276658388369Q3_1\n",
       ":   20.2895073824625\n",
       "\n"
      ],
      "text/plain": [
       "attendance_0        Q17_1        Q25_1        Q14_1        Q15_1         Q3_1 \n",
       "   519.07323     31.44874     24.00925     21.30398     20.62767     20.28951 "
      ]
     },
     "metadata": {},
     "output_type": "display_data"
    },
    {
     "data": {
      "image/png": "[encoded data removed]",
      "text/plain": [
       "Plot with title \"\""
      ]
     },
     "metadata": {},
     "output_type": "display_data"
    }
   ],
   "source": [
    "reg_tree_std=tr$finalModel\n",
    "fancyRpartPlot(reg_tree_std)\n",
    "reg_tree_std$variable.importance"
   ]
  },
  {
   "cell_type": "code",
   "execution_count": 77,
   "metadata": {},
   "outputs": [],
   "source": [
    "predicted_std=predict(reg_tree_std,newdata=test_dt,type=\"class\")"
   ]
  },
  {
   "cell_type": "code",
   "execution_count": 78,
   "metadata": {},
   "outputs": [
    {
     "data": {
      "text/plain": [
       "predicted_std\n",
       "  1   2   3   4   5 \n",
       "367   0 797   0   0 "
      ]
     },
     "metadata": {},
     "output_type": "display_data"
    }
   ],
   "source": [
    "table(predicted_std)"
   ]
  },
  {
   "cell_type": "markdown",
   "metadata": {},
   "source": [
    "### Performanca Measure"
   ]
  },
  {
   "cell_type": "code",
   "execution_count": 79,
   "metadata": {},
   "outputs": [
    {
     "data": {
      "text/plain": [
       "Confusion Matrix and Statistics\n",
       "\n",
       "          Reference\n",
       "Prediction   1   2   3   4   5\n",
       "         1 257  14  40  24  32\n",
       "         2   0   0   0   0   0\n",
       "         3  67  96 315 221  98\n",
       "         4   0   0   0   0   0\n",
       "         5   0   0   0   0   0\n",
       "\n",
       "Overall Statistics\n",
       "                                          \n",
       "               Accuracy : 0.4914          \n",
       "                 95% CI : (0.4623, 0.5205)\n",
       "    No Information Rate : 0.305           \n",
       "    P-Value [Acc > NIR] : < 2.2e-16       \n",
       "                                          \n",
       "                  Kappa : 0.277           \n",
       "                                          \n",
       " Mcnemar's Test P-Value : NA              \n",
       "\n",
       "Statistics by Class:\n",
       "\n",
       "                     Class: 1 Class: 2 Class: 3 Class: 4 Class: 5\n",
       "Precision              0.7003       NA   0.3952       NA       NA\n",
       "Recall                 0.7932   0.0000   0.8873   0.0000   0.0000\n",
       "F1                     0.7438       NA   0.5469       NA       NA\n",
       "Prevalence             0.2784   0.0945   0.3050   0.2105   0.1117\n",
       "Detection Rate         0.2208   0.0000   0.2706   0.0000   0.0000\n",
       "Detection Prevalence   0.3153   0.0000   0.6847   0.0000   0.0000\n",
       "Balanced Accuracy      0.8311   0.5000   0.6458   0.5000   0.5000"
      ]
     },
     "metadata": {},
     "output_type": "display_data"
    }
   ],
   "source": [
    "confusionMatrix(data = as.factor(predicted_std), reference = as.factor(test$y), mode = \"prec_recall\")"
   ]
  },
  {
   "cell_type": "code",
   "execution_count": 80,
   "metadata": {
    "scrolled": true
   },
   "outputs": [
    {
     "data": {
      "text/html": [
       "<table>\n",
       "<thead><tr><th scope=col>name</th><th scope=col>n</th><th scope=col>mean</th><th scope=col>sd</th><th scope=col>FBias</th><th scope=col>MAPE</th><th scope=col>RMSE</th><th scope=col>MAD</th><th scope=col>WMAPE</th></tr></thead>\n",
       "<tbody>\n",
       "\t<tr><td>First Data Set for Decision Tree</td><td>1164                            </td><td>2.369416                        </td><td>0.9296636                       </td><td>-0.1744017                      </td><td>0.437858                        </td><td>0.03724006                      </td><td>0.8084192                       </td><td>0.3411893                       </td></tr>\n",
       "</tbody>\n",
       "</table>\n"
      ],
      "text/latex": [
       "\\begin{tabular}{r|lllllllll}\n",
       " name & n & mean & sd & FBias & MAPE & RMSE & MAD & WMAPE\\\\\n",
       "\\hline\n",
       "\t First Data Set for Decision Tree & 1164                             & 2.369416                         & 0.9296636                        & -0.1744017                       & 0.437858                         & 0.03724006                       & 0.8084192                        & 0.3411893                       \\\\\n",
       "\\end{tabular}\n"
      ],
      "text/markdown": [
       "\n",
       "| name | n | mean | sd | FBias | MAPE | RMSE | MAD | WMAPE |\n",
       "|---|---|---|---|---|---|---|---|---|\n",
       "| First Data Set for Decision Tree | 1164                             | 2.369416                         | 0.9296636                        | -0.1744017                       | 0.437858                         | 0.03724006                       | 0.8084192                        | 0.3411893                        |\n",
       "\n"
      ],
      "text/plain": [
       "  name                             n    mean     sd        FBias      MAPE    \n",
       "1 First Data Set for Decision Tree 1164 2.369416 0.9296636 -0.1744017 0.437858\n",
       "  RMSE       MAD       WMAPE    \n",
       "1 0.03724006 0.8084192 0.3411893"
      ]
     },
     "metadata": {},
     "output_type": "display_data"
    }
   ],
   "source": [
    "perf_dt(\"First Data Set for Decision Tree\", as.numeric(predicted_std), as.numeric(test$y))"
   ]
  },
  {
   "cell_type": "markdown",
   "metadata": {},
   "source": [
    "## Random Forest(RF)"
   ]
  },
  {
   "cell_type": "code",
   "execution_count": 82,
   "metadata": {},
   "outputs": [],
   "source": [
    "library(ranger)"
   ]
  },
  {
   "cell_type": "code",
   "execution_count": 83,
   "metadata": {},
   "outputs": [],
   "source": [
    "fitControl=trainControl(method = \"repeatedcv\",\n",
    "                           number = 10) "
   ]
  },
  {
   "cell_type": "code",
   "execution_count": 87,
   "metadata": {},
   "outputs": [
    {
     "data": {
      "text/html": [
       "<table>\n",
       "<thead><tr><th scope=col>mtry</th><th scope=col>splitrule</th><th scope=col>min.node.size</th></tr></thead>\n",
       "<tbody>\n",
       "\t<tr><td> 4        </td><td>extratrees</td><td>5         </td></tr>\n",
       "\t<tr><td> 8        </td><td>extratrees</td><td>5         </td></tr>\n",
       "\t<tr><td>10        </td><td>extratrees</td><td>5         </td></tr>\n",
       "\t<tr><td>15        </td><td>extratrees</td><td>5         </td></tr>\n",
       "</tbody>\n",
       "</table>\n"
      ],
      "text/latex": [
       "\\begin{tabular}{r|lll}\n",
       " mtry & splitrule & min.node.size\\\\\n",
       "\\hline\n",
       "\t  4         & extratrees & 5         \\\\\n",
       "\t  8         & extratrees & 5         \\\\\n",
       "\t 10         & extratrees & 5         \\\\\n",
       "\t 15         & extratrees & 5         \\\\\n",
       "\\end{tabular}\n"
      ],
      "text/markdown": [
       "\n",
       "| mtry | splitrule | min.node.size |\n",
       "|---|---|---|\n",
       "|  4         | extratrees | 5          |\n",
       "|  8         | extratrees | 5          |\n",
       "| 10         | extratrees | 5          |\n",
       "| 15         | extratrees | 5          |\n",
       "\n"
      ],
      "text/plain": [
       "  mtry splitrule  min.node.size\n",
       "1  4   extratrees 5            \n",
       "2  8   extratrees 5            \n",
       "3 10   extratrees 5            \n",
       "4 15   extratrees 5            "
      ]
     },
     "metadata": {},
     "output_type": "display_data"
    }
   ],
   "source": [
    "rf_grid=expand.grid(mtry=c(4,8,10,15),\n",
    "                   splitrule = c(\"extratrees\"),\n",
    "                   min.node.size= c(5))\n",
    "rf_grid  "
   ]
  },
  {
   "cell_type": "code",
   "execution_count": 88,
   "metadata": {},
   "outputs": [],
   "source": [
    "rf_fit=train(y ~ ., data = train, \n",
    "                 method = \"ranger\", \n",
    "                 trControl = fitControl, num.trees=500,\n",
    "                 tuneGrid = rf_grid) "
   ]
  },
  {
   "cell_type": "code",
   "execution_count": 89,
   "metadata": {},
   "outputs": [
    {
     "data": {
      "text/plain": [
       "Random Forest \n",
       "\n",
       "4656 samples\n",
       "  32 predictor\n",
       "   5 classes: '1', '2', '3', '4', '5' \n",
       "\n",
       "No pre-processing\n",
       "Resampling: Cross-Validated (10 fold, repeated 1 times) \n",
       "Summary of sample sizes: 4191, 4190, 4190, 4192, 4189, 4191, ... \n",
       "Resampling results across tuning parameters:\n",
       "\n",
       "  mtry  Accuracy   Kappa    \n",
       "   4    0.4364146  0.2091454\n",
       "   8    0.4791642  0.2812263\n",
       "  10    0.4894743  0.2985529\n",
       "  15    0.4969892  0.3130386\n",
       "\n",
       "Tuning parameter 'splitrule' was held constant at a value of extratrees\n",
       "\n",
       "Tuning parameter 'min.node.size' was held constant at a value of 5\n",
       "Accuracy was used to select the optimal model using the largest value.\n",
       "The final values used for the model were mtry = 15, splitrule = extratrees\n",
       " and min.node.size = 5."
      ]
     },
     "metadata": {},
     "output_type": "display_data"
    },
    {
     "data": {
      "image/png": "[encoded data removed]",
      "text/plain": [
       "plot without title"
      ]
     },
     "metadata": {},
     "output_type": "display_data"
    }
   ],
   "source": [
    "rf_fit\n",
    "plot(rf_fit)"
   ]
  },
  {
   "cell_type": "code",
   "execution_count": 91,
   "metadata": {},
   "outputs": [],
   "source": [
    "RandomForest_std=predict(rf_fit,newdata=test)"
   ]
  },
  {
   "cell_type": "markdown",
   "metadata": {},
   "source": [
    "### Performanca Measure"
   ]
  },
  {
   "cell_type": "code",
   "execution_count": 92,
   "metadata": {
    "scrolled": true
   },
   "outputs": [
    {
     "data": {
      "text/html": [
       "<table>\n",
       "<thead><tr><th scope=col>name</th><th scope=col>n</th><th scope=col>mean</th><th scope=col>sd</th><th scope=col>FBias</th><th scope=col>MAPE</th><th scope=col>RMSE</th><th scope=col>MAD</th><th scope=col>WMAPE</th></tr></thead>\n",
       "<tbody>\n",
       "\t<tr><td>First Data Set for Random Forest</td><td>1164                            </td><td>2.651203                        </td><td>1.197011                        </td><td>-0.04957874                     </td><td>0.3932274                       </td><td>0.03814085                      </td><td>0.8101375                       </td><td>0.3055736                       </td></tr>\n",
       "</tbody>\n",
       "</table>\n"
      ],
      "text/latex": [
       "\\begin{tabular}{r|lllllllll}\n",
       " name & n & mean & sd & FBias & MAPE & RMSE & MAD & WMAPE\\\\\n",
       "\\hline\n",
       "\t First Data Set for Random Forest & 1164                             & 2.651203                         & 1.197011                         & -0.04957874                      & 0.3932274                        & 0.03814085                       & 0.8101375                        & 0.3055736                       \\\\\n",
       "\\end{tabular}\n"
      ],
      "text/markdown": [
       "\n",
       "| name | n | mean | sd | FBias | MAPE | RMSE | MAD | WMAPE |\n",
       "|---|---|---|---|---|---|---|---|---|\n",
       "| First Data Set for Random Forest | 1164                             | 2.651203                         | 1.197011                         | -0.04957874                      | 0.3932274                        | 0.03814085                       | 0.8101375                        | 0.3055736                        |\n",
       "\n"
      ],
      "text/plain": [
       "  name                             n    mean     sd       FBias       MAPE     \n",
       "1 First Data Set for Random Forest 1164 2.651203 1.197011 -0.04957874 0.3932274\n",
       "  RMSE       MAD       WMAPE    \n",
       "1 0.03814085 0.8101375 0.3055736"
      ]
     },
     "metadata": {},
     "output_type": "display_data"
    }
   ],
   "source": [
    "perf_dt(\"First Data Set for Random Forest\", as.numeric(RandomForest_std), as.numeric(test$y))"
   ]
  },
  {
   "cell_type": "code",
   "execution_count": 94,
   "metadata": {},
   "outputs": [
    {
     "data": {
      "text/plain": [
       "Confusion Matrix and Statistics\n",
       "\n",
       "          Reference\n",
       "Prediction   1   2   3   4   5\n",
       "         1 244  12  36  21  25\n",
       "         2   0  13   6   3   3\n",
       "         3  53  67 252 146  56\n",
       "         4  19  15  46  57  22\n",
       "         5   8   3  15  18  24\n",
       "\n",
       "Overall Statistics\n",
       "                                         \n",
       "               Accuracy : 0.5069         \n",
       "                 95% CI : (0.4777, 0.536)\n",
       "    No Information Rate : 0.305          \n",
       "    P-Value [Acc > NIR] : < 2.2e-16      \n",
       "                                         \n",
       "                  Kappa : 0.3258         \n",
       "                                         \n",
       " Mcnemar's Test P-Value : < 2.2e-16      \n",
       "\n",
       "Statistics by Class:\n",
       "\n",
       "                     Class: 1 Class: 2 Class: 3 Class: 4 Class: 5\n",
       "Precision              0.7219  0.52000   0.4390  0.35849  0.35294\n",
       "Recall                 0.7531  0.11818   0.7099  0.23265  0.18462\n",
       "F1                     0.7372  0.19259   0.5425  0.28218  0.24242\n",
       "Prevalence             0.2784  0.09450   0.3050  0.21048  0.11168\n",
       "Detection Rate         0.2096  0.01117   0.2165  0.04897  0.02062\n",
       "Detection Prevalence   0.2904  0.02148   0.4931  0.13660  0.05842\n",
       "Balanced Accuracy      0.8206  0.55340   0.6559  0.56083  0.57103"
      ]
     },
     "metadata": {},
     "output_type": "display_data"
    }
   ],
   "source": [
    "confusionMatrix(data = as.factor(RandomForest_std), reference = as.factor(test$y), mode = \"prec_recall\")"
   ]
  },
  {
   "cell_type": "markdown",
   "metadata": {},
   "source": [
    "### Performanca Measure"
   ]
  },
  {
   "cell_type": "code",
   "execution_count": 95,
   "metadata": {
    "scrolled": true
   },
   "outputs": [
    {
     "data": {
      "text/html": [
       "<table>\n",
       "<thead><tr><th scope=col>name</th><th scope=col>n</th><th scope=col>mean</th><th scope=col>sd</th><th scope=col>FBias</th><th scope=col>MAPE</th><th scope=col>RMSE</th><th scope=col>MAD</th><th scope=col>WMAPE</th></tr></thead>\n",
       "<tbody>\n",
       "\t<tr><td>First Data Set for Random Forest</td><td>1164                            </td><td>2.651203                        </td><td>1.197011                        </td><td>-0.04957874                     </td><td>0.3932274                       </td><td>0.03814085                      </td><td>0.8101375                       </td><td>0.3055736                       </td></tr>\n",
       "</tbody>\n",
       "</table>\n"
      ],
      "text/latex": [
       "\\begin{tabular}{r|lllllllll}\n",
       " name & n & mean & sd & FBias & MAPE & RMSE & MAD & WMAPE\\\\\n",
       "\\hline\n",
       "\t First Data Set for Random Forest & 1164                             & 2.651203                         & 1.197011                         & -0.04957874                      & 0.3932274                        & 0.03814085                       & 0.8101375                        & 0.3055736                       \\\\\n",
       "\\end{tabular}\n"
      ],
      "text/markdown": [
       "\n",
       "| name | n | mean | sd | FBias | MAPE | RMSE | MAD | WMAPE |\n",
       "|---|---|---|---|---|---|---|---|---|\n",
       "| First Data Set for Random Forest | 1164                             | 2.651203                         | 1.197011                         | -0.04957874                      | 0.3932274                        | 0.03814085                       | 0.8101375                        | 0.3055736                        |\n",
       "\n"
      ],
      "text/plain": [
       "  name                             n    mean     sd       FBias       MAPE     \n",
       "1 First Data Set for Random Forest 1164 2.651203 1.197011 -0.04957874 0.3932274\n",
       "  RMSE       MAD       WMAPE    \n",
       "1 0.03814085 0.8101375 0.3055736"
      ]
     },
     "metadata": {},
     "output_type": "display_data"
    }
   ],
   "source": [
    "perf_dt(\"First Data Set for Random Forest\", as.numeric(RandomForest_std), as.numeric(test$y))"
   ]
  },
  {
   "cell_type": "markdown",
   "metadata": {},
   "source": [
    "## Stochastic Gradient Boosting(SGB)"
   ]
  },
  {
   "cell_type": "code",
   "execution_count": 96,
   "metadata": {},
   "outputs": [],
   "source": [
    "set.seed(35)"
   ]
  },
  {
   "cell_type": "code",
   "execution_count": null,
   "metadata": {},
   "outputs": [],
   "source": [
    "gbmGrid=expand.grid(interaction.depth = c(1, 3, 5), \n",
    "                        n.trees = (1:5)*50, \n",
    "                        shrinkage = c(0.1, 0.3, 0.5),\n",
    "                        n.minobsinnode = 20)\n",
    "                                                                \n",
    "\n",
    "gbm_fit=train(y ~ ., data = train, \n",
    "                 method = \"gbm\", \n",
    "                 trControl = fitControl,  \n",
    "                 tuneGrid = gbmGrid,\n",
    "                 verbose=F) #verbose is an argument from gbm, prints to screen\n",
    "\n",
    "plot(gbm_fit)"
   ]
  },
  {
   "cell_type": "code",
   "execution_count": null,
   "metadata": {},
   "outputs": [],
   "source": [
    "predicted_sgb=predict(gbm_fit,train)"
   ]
  },
  {
   "cell_type": "markdown",
   "metadata": {},
   "source": [
    "### Performanca Measure"
   ]
  },
  {
   "cell_type": "code",
   "execution_count": null,
   "metadata": {},
   "outputs": [],
   "source": [
    "confusionMatrix(data = as.factor(predicted_sgb), reference = as.factor(test$y), mode = \"prec_recall\")"
   ]
  },
  {
   "cell_type": "code",
   "execution_count": null,
   "metadata": {
    "scrolled": true
   },
   "outputs": [],
   "source": [
    "perf_dt(\"First Data Set for Random Forest\", as.numeric(predicted_sgb), as.numeric(test$y))"
   ]
  },
  {
   "cell_type": "markdown",
   "metadata": {},
   "source": [
    "# General Result for 4 Method for Pisa Reading Results"
   ]
  },
  {
   "cell_type": "code",
   "execution_count": 94,
   "metadata": {},
   "outputs": [
    {
     "data": {
      "text/html": [
       "<table>\n",
       "<thead><tr><th scope=col>name</th><th scope=col>n</th><th scope=col>mean</th><th scope=col>sd</th><th scope=col>FBias</th><th scope=col>MAPE</th><th scope=col>RMSE</th><th scope=col>MAD</th><th scope=col>WMAPE</th></tr></thead>\n",
       "<tbody>\n",
       "\t<tr><td>Pisa Data Set for Lasso Function with min lambda and mse objective</td><td>721                                                               </td><td>1.226075                                                          </td><td>0.4185786                                                         </td><td>0.8291855                                                         </td><td>0.8814147                                                         </td><td>0.0391556                                                         </td><td>1.016644                                                          </td><td>0.8291855                                                         </td></tr>\n",
       "</tbody>\n",
       "</table>\n"
      ],
      "text/latex": [
       "\\begin{tabular}{r|lllllllll}\n",
       " name & n & mean & sd & FBias & MAPE & RMSE & MAD & WMAPE\\\\\n",
       "\\hline\n",
       "\t Pisa Data Set for Lasso Function with min lambda and mse objective & 721                                                                & 1.226075                                                           & 0.4185786                                                          & 0.8291855                                                          & 0.8814147                                                          & 0.0391556                                                          & 1.016644                                                           & 0.8291855                                                         \\\\\n",
       "\\end{tabular}\n"
      ],
      "text/markdown": [
       "\n",
       "| name | n | mean | sd | FBias | MAPE | RMSE | MAD | WMAPE |\n",
       "|---|---|---|---|---|---|---|---|---|\n",
       "| Pisa Data Set for Lasso Function with min lambda and mse objective | 721                                                                | 1.226075                                                           | 0.4185786                                                          | 0.8291855                                                          | 0.8814147                                                          | 0.0391556                                                          | 1.016644                                                           | 0.8291855                                                          |\n",
       "\n"
      ],
      "text/plain": [
       "  name                                                               n  \n",
       "1 Pisa Data Set for Lasso Function with min lambda and mse objective 721\n",
       "  mean     sd        FBias     MAPE      RMSE      MAD      WMAPE    \n",
       "1 1.226075 0.4185786 0.8291855 0.8814147 0.0391556 1.016644 0.8291855"
      ]
     },
     "metadata": {},
     "output_type": "display_data"
    },
    {
     "data": {
      "text/html": [
       "<table>\n",
       "<thead><tr><th scope=col>name</th><th scope=col>n</th><th scope=col>mean</th><th scope=col>sd</th><th scope=col>FBias</th><th scope=col>MAPE</th><th scope=col>RMSE</th><th scope=col>MAD</th><th scope=col>WMAPE</th></tr></thead>\n",
       "<tbody>\n",
       "\t<tr><td>Decision Tree with CV for Pisa Dataset</td><td>721                                   </td><td>1.226075                              </td><td>0.4185786                             </td><td>0.005656109                           </td><td>0.0554785                             </td><td>0.01028599                            </td><td>0.07628294                            </td><td>0.06221719                            </td></tr>\n",
       "</tbody>\n",
       "</table>\n"
      ],
      "text/latex": [
       "\\begin{tabular}{r|lllllllll}\n",
       " name & n & mean & sd & FBias & MAPE & RMSE & MAD & WMAPE\\\\\n",
       "\\hline\n",
       "\t Decision Tree with CV for Pisa Dataset & 721                                    & 1.226075                               & 0.4185786                              & 0.005656109                            & 0.0554785                              & 0.01028599                             & 0.07628294                             & 0.06221719                            \\\\\n",
       "\\end{tabular}\n"
      ],
      "text/markdown": [
       "\n",
       "| name | n | mean | sd | FBias | MAPE | RMSE | MAD | WMAPE |\n",
       "|---|---|---|---|---|---|---|---|---|\n",
       "| Decision Tree with CV for Pisa Dataset | 721                                    | 1.226075                               | 0.4185786                              | 0.005656109                            | 0.0554785                              | 0.01028599                             | 0.07628294                             | 0.06221719                             |\n",
       "\n"
      ],
      "text/plain": [
       "  name                                   n   mean     sd        FBias      \n",
       "1 Decision Tree with CV for Pisa Dataset 721 1.226075 0.4185786 0.005656109\n",
       "  MAPE      RMSE       MAD        WMAPE     \n",
       "1 0.0554785 0.01028599 0.07628294 0.06221719"
      ]
     },
     "metadata": {},
     "output_type": "display_data"
    },
    {
     "data": {
      "text/html": [
       "<table>\n",
       "<thead><tr><th scope=col>name</th><th scope=col>n</th><th scope=col>mean</th><th scope=col>sd</th><th scope=col>FBias</th><th scope=col>MAPE</th><th scope=col>RMSE</th><th scope=col>MAD</th><th scope=col>WMAPE</th></tr></thead>\n",
       "<tbody>\n",
       "\t<tr><td>First Data Set for Random Forest</td><td>721                             </td><td>1.226075                        </td><td>0.4185786                       </td><td>0.005656109                     </td><td>0.02427184                      </td><td>0.006934813                     </td><td>0.03467406                      </td><td>0.02828054                      </td></tr>\n",
       "</tbody>\n",
       "</table>\n"
      ],
      "text/latex": [
       "\\begin{tabular}{r|lllllllll}\n",
       " name & n & mean & sd & FBias & MAPE & RMSE & MAD & WMAPE\\\\\n",
       "\\hline\n",
       "\t First Data Set for Random Forest & 721                              & 1.226075                         & 0.4185786                        & 0.005656109                      & 0.02427184                       & 0.006934813                      & 0.03467406                       & 0.02828054                      \\\\\n",
       "\\end{tabular}\n"
      ],
      "text/markdown": [
       "\n",
       "| name | n | mean | sd | FBias | MAPE | RMSE | MAD | WMAPE |\n",
       "|---|---|---|---|---|---|---|---|---|\n",
       "| First Data Set for Random Forest | 721                              | 1.226075                         | 0.4185786                        | 0.005656109                      | 0.02427184                       | 0.006934813                      | 0.03467406                       | 0.02828054                       |\n",
       "\n"
      ],
      "text/plain": [
       "  name                             n   mean     sd        FBias      \n",
       "1 First Data Set for Random Forest 721 1.226075 0.4185786 0.005656109\n",
       "  MAPE       RMSE        MAD        WMAPE     \n",
       "1 0.02427184 0.006934813 0.03467406 0.02828054"
      ]
     },
     "metadata": {},
     "output_type": "display_data"
    },
    {
     "data": {
      "text/html": [
       "<table>\n",
       "<thead><tr><th scope=col>name</th><th scope=col>n</th><th scope=col>mean</th><th scope=col>sd</th><th scope=col>FBias</th><th scope=col>MAPE</th><th scope=col>RMSE</th><th scope=col>MAD</th><th scope=col>WMAPE</th></tr></thead>\n",
       "<tbody>\n",
       "\t<tr><td>First Data Set for Stochastic Gradient Boosting</td><td>721                                            </td><td>1.226075                                       </td><td>0.4185786                                      </td><td>0.003393665                                    </td><td>0.02912621                                     </td><td>0.007469022                                    </td><td>0.04022191                                     </td><td>0.03280543                                     </td></tr>\n",
       "</tbody>\n",
       "</table>\n"
      ],
      "text/latex": [
       "\\begin{tabular}{r|lllllllll}\n",
       " name & n & mean & sd & FBias & MAPE & RMSE & MAD & WMAPE\\\\\n",
       "\\hline\n",
       "\t First Data Set for Stochastic Gradient Boosting & 721                                             & 1.226075                                        & 0.4185786                                       & 0.003393665                                     & 0.02912621                                      & 0.007469022                                     & 0.04022191                                      & 0.03280543                                     \\\\\n",
       "\\end{tabular}\n"
      ],
      "text/markdown": [
       "\n",
       "| name | n | mean | sd | FBias | MAPE | RMSE | MAD | WMAPE |\n",
       "|---|---|---|---|---|---|---|---|---|\n",
       "| First Data Set for Stochastic Gradient Boosting | 721                                             | 1.226075                                        | 0.4185786                                       | 0.003393665                                     | 0.02912621                                      | 0.007469022                                     | 0.04022191                                      | 0.03280543                                      |\n",
       "\n"
      ],
      "text/plain": [
       "  name                                            n   mean     sd       \n",
       "1 First Data Set for Stochastic Gradient Boosting 721 1.226075 0.4185786\n",
       "  FBias       MAPE       RMSE        MAD        WMAPE     \n",
       "1 0.003393665 0.02912621 0.007469022 0.04022191 0.03280543"
      ]
     },
     "metadata": {},
     "output_type": "display_data"
    }
   ],
   "source": [
    "perf_dt(\"Pisa Data Set for Lasso Function with min lambda and mse objective\", as.numeric(test$y), as.numeric(prediction_pra_mae_min))\n",
    "perf_dt(\"Decision Tree with CV for Pisa Dataset\",as.numeric(test$y),as.numeric(predicted_std))\n",
    "perf_dt(\"First Data Set for Random Forest\", as.numeric(test$y), as.numeric(RandomForest_std))\n",
    "perf_dt(\"First Data Set for Stochastic Gradient Boosting\", as.numeric(test$y), as.numeric(predicted_sgb))"
   ]
  },
  {
   "cell_type": "markdown",
   "metadata": {},
   "source": [
    "## Performance"
   ]
  },
  {
   "cell_type": "code",
   "execution_count": null,
   "metadata": {
    "scrolled": false
   },
   "outputs": [],
   "source": [
    "results = resamples(list(\"Random Forest\"=rf_fit,#\"Linear Regression with Penalty\"=lasso_model_spam_mae_min,\n",
    "                         \"Stochastic Gradient Boosting\"=gbm_fit),metrics='Accuracy')\n",
    "summary(results)\n",
    "bwplot(results)\n",
    "densityplot(results)"
   ]
  },
  {
   "cell_type": "code",
   "execution_count": 100,
   "metadata": {},
   "outputs": [
    {
     "data": {
      "text/plain": [
       "Confusion Matrix and Statistics\n",
       "\n",
       "          Reference\n",
       "Prediction   0   1\n",
       "         0 538  32\n",
       "         1  20 131\n",
       "                                          \n",
       "               Accuracy : 0.9279          \n",
       "                 95% CI : (0.9065, 0.9457)\n",
       "    No Information Rate : 0.7739          \n",
       "    P-Value [Acc > NIR] : <2e-16          \n",
       "                                          \n",
       "                  Kappa : 0.7884          \n",
       "                                          \n",
       " Mcnemar's Test P-Value : 0.1272          \n",
       "                                          \n",
       "              Precision : 0.9439          \n",
       "                 Recall : 0.9642          \n",
       "                     F1 : 0.9539          \n",
       "             Prevalence : 0.7739          \n",
       "         Detection Rate : 0.7462          \n",
       "   Detection Prevalence : 0.7906          \n",
       "      Balanced Accuracy : 0.8839          \n",
       "                                          \n",
       "       'Positive' Class : 0               \n",
       "                                          "
      ]
     },
     "metadata": {},
     "output_type": "display_data"
    }
   ],
   "source": [
    "confusionMatrix(data = as.factor(prediction_pra_mae_spam_min), reference = as.factor(test_spam$X1), mode = \"prec_recall\")"
   ]
  },
  {
   "cell_type": "code",
   "execution_count": 101,
   "metadata": {},
   "outputs": [
    {
     "data": {
      "text/plain": [
       "Confusion Matrix and Statistics\n",
       "\n",
       "          Reference\n",
       "Prediction   0   1\n",
       "         0 533  30\n",
       "         1  25 133\n",
       "                                         \n",
       "               Accuracy : 0.9237         \n",
       "                 95% CI : (0.9019, 0.942)\n",
       "    No Information Rate : 0.7739         \n",
       "    P-Value [Acc > NIR] : <2e-16         \n",
       "                                         \n",
       "                  Kappa : 0.7796         \n",
       "                                         \n",
       " Mcnemar's Test P-Value : 0.5896         \n",
       "                                         \n",
       "              Precision : 0.9467         \n",
       "                 Recall : 0.9552         \n",
       "                     F1 : 0.9509         \n",
       "             Prevalence : 0.7739         \n",
       "         Detection Rate : 0.7393         \n",
       "   Detection Prevalence : 0.7809         \n",
       "      Balanced Accuracy : 0.8856         \n",
       "                                         \n",
       "       'Positive' Class : 0              \n",
       "                                         "
      ]
     },
     "metadata": {},
     "output_type": "display_data"
    }
   ],
   "source": [
    "confusionMatrix(data = as.factor(predicted_pisa), reference = as.factor(test_spam$X1), mode = \"prec_recall\")"
   ]
  },
  {
   "cell_type": "code",
   "execution_count": 102,
   "metadata": {},
   "outputs": [
    {
     "data": {
      "text/plain": [
       "Confusion Matrix and Statistics\n",
       "\n",
       "          Reference\n",
       "Prediction   0   1\n",
       "         0 548  15\n",
       "         1  10 148\n",
       "                                          \n",
       "               Accuracy : 0.9653          \n",
       "                 95% CI : (0.9492, 0.9774)\n",
       "    No Information Rate : 0.7739          \n",
       "    P-Value [Acc > NIR] : <2e-16          \n",
       "                                          \n",
       "                  Kappa : 0.8998          \n",
       "                                          \n",
       " Mcnemar's Test P-Value : 0.4237          \n",
       "                                          \n",
       "              Precision : 0.9734          \n",
       "                 Recall : 0.9821          \n",
       "                     F1 : 0.9777          \n",
       "             Prevalence : 0.7739          \n",
       "         Detection Rate : 0.7601          \n",
       "   Detection Prevalence : 0.7809          \n",
       "      Balanced Accuracy : 0.9450          \n",
       "                                          \n",
       "       'Positive' Class : 0               \n",
       "                                          "
      ]
     },
     "metadata": {},
     "output_type": "display_data"
    }
   ],
   "source": [
    "confusionMatrix(data = as.factor(PredictRandomForest_spam), reference = as.factor(test_spam$X1), mode = \"prec_recall\")"
   ]
  },
  {
   "cell_type": "code",
   "execution_count": 103,
   "metadata": {
    "scrolled": true
   },
   "outputs": [
    {
     "data": {
      "text/plain": [
       "Confusion Matrix and Statistics\n",
       "\n",
       "          Reference\n",
       "Prediction   0   1\n",
       "         0 545  16\n",
       "         1  13 147\n",
       "                                          \n",
       "               Accuracy : 0.9598          \n",
       "                 95% CI : (0.9427, 0.9729)\n",
       "    No Information Rate : 0.7739          \n",
       "    P-Value [Acc > NIR] : <2e-16          \n",
       "                                          \n",
       "                  Kappa : 0.8843          \n",
       "                                          \n",
       " Mcnemar's Test P-Value : 0.7103          \n",
       "                                          \n",
       "              Precision : 0.9715          \n",
       "                 Recall : 0.9767          \n",
       "                     F1 : 0.9741          \n",
       "             Prevalence : 0.7739          \n",
       "         Detection Rate : 0.7559          \n",
       "   Detection Prevalence : 0.7781          \n",
       "      Balanced Accuracy : 0.9393          \n",
       "                                          \n",
       "       'Positive' Class : 0               \n",
       "                                          "
      ]
     },
     "metadata": {},
     "output_type": "display_data"
    }
   ],
   "source": [
    "confusionMatrix(data = as.factor(predicted_spam_sgb), reference = as.factor(test_spam$X1), mode = \"prec_recall\")"
   ]
  },
  {
   "cell_type": "code",
   "execution_count": null,
   "metadata": {},
   "outputs": [],
   "source": []
  }
 ],
 "metadata": {
  "kernelspec": {
   "display_name": "R",
   "language": "R",
   "name": "ir"
  },
  "language_info": {
   "codemirror_mode": "r",
   "file_extension": ".r",
   "mimetype": "text/x-r-source",
   "name": "R",
   "pygments_lexer": "r",
   "version": "3.6.1"
  }
 },
 "nbformat": 4,
 "nbformat_minor": 4
}
