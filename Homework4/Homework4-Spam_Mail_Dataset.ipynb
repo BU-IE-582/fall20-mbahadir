{
 "cells": [
  {
   "cell_type": "code",
   "execution_count": 3,
   "metadata": {},
   "outputs": [],
   "source": [
    "library(data.table)\n",
    "library(glmnet)\n",
    "library(ggplot2)\n",
    "library(lubridate, quietly=TRUE)\n",
    "library(zoo, quietly = TRUE)\n",
    "library(dplyr, quietly = TRUE)\n",
    "library(GGally, quietly=TRUE)\n",
    "library(caTools)\n",
    "library(rpart)\n",
    "library(rattle)\n",
    "library(caret)\n",
    "library(e1071)\n",
    "library(randomForest)\n",
    "library(gbm)"
   ]
  },
  {
   "cell_type": "markdown",
   "metadata": {},
   "source": [
    "### Performance Function"
   ]
  },
  {
   "cell_type": "code",
   "execution_count": 4,
   "metadata": {},
   "outputs": [],
   "source": [
    "perf_dt=function(type,actual,forecast){\n",
    "    name=type\n",
    "    n=length(actual)\n",
    "    error=actual-forecast\n",
    "    mean=mean(actual)\n",
    "    sd=sd(actual)\n",
    "    FBias=sum(error)/sum(actual)\n",
    "    MPE=sum(error/actual)/n\n",
    "    MAPE=sum(abs(error/actual))/n\n",
    "    RMSE=sqrt(sum(error^2))/n\n",
    "    MAD=sum(abs(error))/n\n",
    "    WMAPE=MAD/mean\n",
    "    l=data.frame(name,n,mean,sd,FBias,MAPE,RMSE,MAD,WMAPE)\n",
    "    return(l)\n",
    "}"
   ]
  },
  {
   "cell_type": "markdown",
   "metadata": {},
   "source": [
    "# Second Dataset"
   ]
  },
  {
   "cell_type": "markdown",
   "metadata": {},
   "source": [
    "The \"spam\" concept is diverse: advertisements for products/web sites, make money fast schemes, chain letters, pornography...\n",
    "\n",
    "Our collection of spam e-mails came from our postmaster and individuals who had filed spam. Our collection of non-spam e-mails came from filed work and personal e-mails, and hence the word 'george' and the area code '650' are indicators of non-spam. These are useful when constructing a personalized spam filter. One would either have to blind such non-spam indicators or get a very wide collection of non-spam to generate a general purpose spam filter.\n",
    "\n",
    "For background on spam:\n",
    "\n",
    "Cranor, Lorrie F., LaMacchia, Brian A. Spam!\n",
    "Communications of the ACM, 41(8):74-83, 1998.\n",
    "\n",
    "(a) Hewlett-Packard Internal-only Technical Report. External forthcoming.\n",
    "(b) Determine whether a given email is spam or not.\n",
    "(c) ~7% misclassification error. False positives (marking good mail as spam) are very undesirable.If we insist on zero false positives in the training/testing set, 20-25% of the spam passed through the filter.\n",
    "\n",
    "\n",
    "Attribute Information:\n",
    "\n",
    "The last column of 'spambase.data' denotes whether the e-mail was considered spam (1) or not (0), i.e. unsolicited commercial e-mail. Most of the attributes indicate whether a particular word or character was frequently occuring in the e-mail. The run-length attributes (55-57) measure the length of sequences of consecutive capital letters. For the statistical measures of each attribute, see the end of this file. Here are the definitions of the attributes:\n",
    "\n",
    "48 continuous real [0,100] attributes of type word_freq_WORD\n",
    "= percentage of words in the e-mail that match WORD, i.e. 100 * (number of times the WORD appears in the e-mail) / total number of words in e-mail. A \"word\" in this case is any string of alphanumeric characters bounded by non-alphanumeric characters or end-of-string.\n",
    "\n",
    "6 continuous real [0,100] attributes of type char_freq_CHAR]\n",
    "= percentage of characters in the e-mail that match CHAR, i.e. 100 * (number of CHAR occurences) / total characters in e-mail\n",
    "\n",
    "1 continuous real [1,...] attribute of type capital_run_length_average\n",
    "= average length of uninterrupted sequences of capital letters\n",
    "\n",
    "1 continuous integer [1,...] attribute of type capital_run_length_longest\n",
    "= length of longest uninterrupted sequence of capital letters\n",
    "\n",
    "1 continuous integer [1,...] attribute of type capital_run_length_total\n",
    "= sum of length of uninterrupted sequences of capital letters\n",
    "= total number of capital letters in the e-mail\n",
    "\n",
    "1 nominal {0,1} class attribute of type spam\n",
    "= denotes whether the e-mail was considered spam (1) or not (0), i.e. unsolicited commercial e-mail.\n",
    "\n"
   ]
  },
  {
   "cell_type": "markdown",
   "metadata": {},
   "source": [
    "### Loading Dataset"
   ]
  },
  {
   "cell_type": "code",
   "execution_count": 5,
   "metadata": {},
   "outputs": [],
   "source": [
    "spam=read.csv(\"spambase.data\")\n",
    "spam=as.data.table(spam[1000:nrow(spam),])\n",
    "spam=na.omit(spam)\n",
    "spam$X1=as.factor(spam$X1)"
   ]
  },
  {
   "cell_type": "code",
   "execution_count": 6,
   "metadata": {
    "scrolled": false
   },
   "outputs": [
    {
     "name": "stdout",
     "output_type": "stream",
     "text": [
      "Classes 'data.table' and 'data.frame':\t3601 obs. of  58 variables:\n",
      " $ X0     : num  0.45 0.45 0.82 0.09 0 0 0 0.47 0 1.47 ...\n",
      " $ X0.64  : num  0.9 0.91 0 0.49 0 0 0 0 0.72 0 ...\n",
      " $ X0.64.1: num  0.9 0.91 0.82 0.59 1.31 1.31 0.6 0.94 1.81 0 ...\n",
      " $ X0.1   : num  0 0 0 0 0 0 0 0 0 0 ...\n",
      " $ X0.32  : num  0.45 0.45 0.41 0.39 0 0 0 0.94 0 0 ...\n",
      " $ X0.2   : num  0 0 0 0.19 0 0 0.6 0 0.36 0 ...\n",
      " $ X0.3   : num  0 0 0.41 0 0 0 0 0.94 0 0 ...\n",
      " $ X0.4   : num  0.45 0.45 0.82 0 0 0 0 0 0.36 0 ...\n",
      " $ X0.5   : num  0 0 0.41 0.09 0 0 0.6 0 0.72 0 ...\n",
      " $ X0.6   : num  1.8 1.83 1.23 0.39 0 0 0 0 1.08 1.47 ...\n",
      " $ X0.7   : num  0 0 1.65 0 0 0 0 0 0.36 0 ...\n",
      " $ X0.64.2: num  2.26 2.29 0.41 1.57 1.31 1.31 1.8 0.47 0.72 0 ...\n",
      " $ X0.8   : num  0 0 0 0.19 0 0 0 0 0 1.47 ...\n",
      " $ X0.9   : num  0.45 0.91 0 0 0 0 0 0 0.36 0 ...\n",
      " $ X0.10  : num  0 0 0 0 0 0 0 0 0 0 ...\n",
      " $ X0.32.1: num  0.45 0.45 2.47 0 0 0 0.3 0 0.36 7.35 ...\n",
      " $ X0.11  : num  0 0 1.65 0.09 0 0 0 0.47 0.36 0 ...\n",
      " $ X1.29  : num  0 0 0 0 0 0 0 0 0.36 0 ...\n",
      " $ X1.93  : num  1.8 1.83 1.23 3.75 1.31 1.31 2.7 4.24 1.08 2.94 ...\n",
      " $ X0.12  : num  0 0 1.23 0.09 0 0 0 0 0 0 ...\n",
      " $ X0.96  : num  4.97 5.04 2.06 1.08 5.26 5.26 1.2 0.94 2.53 1.47 ...\n",
      " $ X0.13  : num  0 0 0 0 0 0 0 0 0 0 ...\n",
      " $ X0.14  : num  0 0 0 0 0 0 0 1.41 0 0 ...\n",
      " $ X0.15  : num  0 0 0.82 0.09 1.31 1.31 0.6 0 0 4.41 ...\n",
      " $ X0.16  : num  0 0 0 0 0 0 0 0 0 0 ...\n",
      " $ X0.17  : num  0 0 0 0 0 0 0 0 0 0 ...\n",
      " $ X0.18  : num  0 0 0 0 0 0 0 0 0 0 ...\n",
      " $ X0.19  : num  0 0 0 0 0 0 0 0 0 0 ...\n",
      " $ X0.20  : num  0 0 0 0 0 0 0 0 0 0 ...\n",
      " $ X0.21  : num  0 0 0 0 0 0 0 0 0 0 ...\n",
      " $ X0.22  : num  0 0 0 0 0 0 0 0 0 0 ...\n",
      " $ X0.23  : num  0 0 0 0 0 0 0 0 0 0 ...\n",
      " $ X0.24  : num  0 0 0 0 0 0 0 0 0 0 ...\n",
      " $ X0.25  : num  0 0 0 0 0 0 0 0 0 0 ...\n",
      " $ X0.26  : num  0 0 0 0 0 0 0 0.47 0 0 ...\n",
      " $ X0.27  : num  0 0 0 0 0 0 0 0 0 0 ...\n",
      " $ X0.28  : num  0 0 0 0 0 0 0 0 1.08 0 ...\n",
      " $ X0.29  : num  0 0 0 0 0 0 0 0 0 0 ...\n",
      " $ X0.30  : num  0 0 0 0 0 0 0 0 0 0 ...\n",
      " $ X0.31  : num  0 0 0 0 0 0 0 0 0 0 ...\n",
      " $ X0.33  : num  0 0 0 0 0 0 0 0 0 0 ...\n",
      " $ X0.34  : num  0 0 0 0 0 0 0 0 0 0 ...\n",
      " $ X0.35  : num  0 0 0 0 0 0 0 0 0 0 ...\n",
      " $ X0.36  : num  0 0 0 0 0 0 0 0 0 0 ...\n",
      " $ X0.37  : num  0 0 0 0 0 0 0 0.47 0.36 0 ...\n",
      " $ X0.38  : num  0 0 0 0 0 0 0 0 0 0 ...\n",
      " $ X0.39  : num  0 0 0 0 0 0 0 0 0 0 ...\n",
      " $ X0.40  : num  0 0 0 0 0 0 0 0 0 0 ...\n",
      " $ X0.41  : num  0 0 0 0.768 0 0 0 0 0 0 ...\n",
      " $ X0.42  : num  0.244 0.245 0 0.037 0 0 0.094 0.073 0.334 0 ...\n",
      " $ X0.43  : num  0 0 0 0 0 0 0.047 0 0 0 ...\n",
      " $ X0.778 : num  1.63 1.63 0.53 5.85 0 ...\n",
      " $ X0.44  : num  0.244 0.245 0.132 1.313 0.212 ...\n",
      " $ X0.45  : num  0.081 0.081 0.132 0 0 0 0 0 0.066 0 ...\n",
      " $ X3.756 : num  64.42 64.42 6.4 5.96 4.82 ...\n",
      " $ X61    : int  708 708 76 54 25 25 31 91 393 63 ...\n",
      " $ X278   : int  773 773 301 757 53 53 201 219 736 107 ...\n",
      " $ X1     : Factor w/ 2 levels \"0\",\"1\": 2 2 2 2 2 2 2 2 2 2 ...\n",
      " - attr(*, \".internal.selfref\")=<externalptr> \n"
     ]
    }
   ],
   "source": [
    "str(spam)"
   ]
  },
  {
   "cell_type": "code",
   "execution_count": 7,
   "metadata": {},
   "outputs": [],
   "source": [
    "set.seed(35)\n",
    "spl=sample.split(spam$X1, SplitRatio = 0.8)\n",
    "train_spam=subset(spam,spl==TRUE)\n",
    "test_spam=subset(spam,spl==FALSE)"
   ]
  },
  {
   "cell_type": "markdown",
   "metadata": {},
   "source": [
    "## Penalized Regression Approaches(PRA)"
   ]
  },
  {
   "cell_type": "markdown",
   "metadata": {},
   "source": [
    "### L1 Penalty with Mean Square Error measure"
   ]
  },
  {
   "cell_type": "markdown",
   "metadata": {},
   "source": [
    "In order to tune lambda values, glmnet packages are used to get best lambda values for Penalized Regression. "
   ]
  },
  {
   "cell_type": "code",
   "execution_count": 29,
   "metadata": {},
   "outputs": [],
   "source": [
    "train_mat_spam=data.matrix(train_spam[complete.cases(train_spam),-c(\"X1\"),with=F])\n",
    "\n",
    "result_vec_spam=as.vector(t(train_spam[complete.cases(train_spam),\"X1\"]))\n",
    "\n",
    "cvfit_spam=cv.glmnet(train_mat_spam,result_vec_spam,family=\"binomial\",nfolds = 10,type.measure = \"mse\")\n",
    "\n",
    "test_mat_spam=data.matrix(test_spam[complete.cases(test_spam),-c(\"X1\")])\n",
    "\n",
    "lasso_model_spam_mse_min <- glmnet(train_mat_spam,result_vec_spam,family=\"binomial\", alpha = 1, lambda = cvfit_spam$lambda.min, standardize = FALSE)\n",
    "lasso_model_spam_mse_1se <- glmnet(train_mat_spam,result_vec_spam,family=\"binomial\", alpha = 1, lambda = cvfit_spam$lambda.1se, standardize = FALSE)\n",
    "lasso_model_spam_mse_10th <- glmnet(train_mat_spam,result_vec_spam,family=\"binomial\", alpha = 1, lambda = cvfit_spam$lambda[10], standardize = FALSE)"
   ]
  },
  {
   "cell_type": "code",
   "execution_count": 30,
   "metadata": {},
   "outputs": [],
   "source": [
    "# train_mat_spam=data.matrix(train_spam[complete.cases(train_spam),-c(\"X1\"),with=F])\n",
    "\n",
    "# result_vec_spam=as.vector(t(train_spam[complete.cases(train_spam),\"X1\"]))\n",
    "\n",
    "# cvfit_spam=cv.glmnet(train_mat_spam,result_vec_spam,family=\"binomial\",nfolds = 10)\n",
    "\n",
    "# test_mat_spam=data.matrix(test_spam[complete.cases(test_spam),-c(\"X1\")])\n",
    "\n",
    "# lasso_model_spam <- glmnet(train_mat_spam,result_vec_spam, alpha = 1,family=\"binomial\", lambda = cvfit_spam$lambda.min, standardize = FALSE)"
   ]
  },
  {
   "cell_type": "code",
   "execution_count": 31,
   "metadata": {},
   "outputs": [
    {
     "data": {
      "image/png": "[encoded data removed]",
      "text/plain": [
       "plot without title"
      ]
     },
     "metadata": {},
     "output_type": "display_data"
    }
   ],
   "source": [
    "plot(cvfit_spam)"
   ]
  },
  {
   "cell_type": "markdown",
   "metadata": {},
   "source": [
    "### Lambda Values for Mean Square Error Values"
   ]
  },
  {
   "cell_type": "code",
   "execution_count": 32,
   "metadata": {},
   "outputs": [
    {
     "data": {
      "text/html": [
       "1.79272561636051e-05"
      ],
      "text/latex": [
       "1.79272561636051e-05"
      ],
      "text/markdown": [
       "1.79272561636051e-05"
      ],
      "text/plain": [
       "[1] 1.792726e-05"
      ]
     },
     "metadata": {},
     "output_type": "display_data"
    }
   ],
   "source": [
    "cvfit_spam$lambda.min"
   ]
  },
  {
   "cell_type": "code",
   "execution_count": 33,
   "metadata": {},
   "outputs": [
    {
     "data": {
      "text/html": [
       "0.000979236425532164"
      ],
      "text/latex": [
       "0.000979236425532164"
      ],
      "text/markdown": [
       "0.000979236425532164"
      ],
      "text/plain": [
       "[1] 0.0009792364"
      ]
     },
     "metadata": {},
     "output_type": "display_data"
    }
   ],
   "source": [
    "cvfit_spam$lambda.1se"
   ]
  },
  {
   "cell_type": "code",
   "execution_count": 34,
   "metadata": {},
   "outputs": [
    {
     "data": {
      "text/html": [
       "0.064427217664051"
      ],
      "text/latex": [
       "0.064427217664051"
      ],
      "text/markdown": [
       "0.064427217664051"
      ],
      "text/plain": [
       "[1] 0.06442722"
      ]
     },
     "metadata": {},
     "output_type": "display_data"
    }
   ],
   "source": [
    "cvfit_spam$lambda[10]"
   ]
  },
  {
   "cell_type": "markdown",
   "metadata": {},
   "source": [
    "2 possible lambda values are determined by the cv.glmnet(). One of them is used for getting minimum Mean-Squared Error. The other one is determined by looking how many paramater is used in the model. Namely, this lambda value can be beneficial for reducing the possibility of over-fitting model on train dataset. Lastly, one random lambda was selected to compare results for these 3 lambda values."
   ]
  },
  {
   "cell_type": "code",
   "execution_count": 36,
   "metadata": {},
   "outputs": [],
   "source": [
    "prediction_pra_mse_spam_min <- predict(lasso_model_spam_mse_min, s = cvfit_spam$lambda.min, newx = test_mat_spam,type=\"class\")\n",
    "prediction_pra_mse_spam_1se <- predict(lasso_model_spam_mse_1se, s = cvfit_spam$lambda.1se, newx = test_mat_spam,type=\"class\")\n",
    "prediction_pra_mse_spam_10th <-predict(lasso_model_spam_mse_10th, s = cvfit_spam$lambda[10], newx = test_mat_spam,type=\"class\")"
   ]
  },
  {
   "cell_type": "markdown",
   "metadata": {},
   "source": [
    "## L1 Penalty with Mean Absolute Error measure"
   ]
  },
  {
   "cell_type": "code",
   "execution_count": 37,
   "metadata": {},
   "outputs": [],
   "source": [
    "train_mat_spam=data.matrix(train_spam[complete.cases(train_spam),-c(\"X1\"),with=F])\n",
    "\n",
    "result_vec_spam=as.vector(t(train_spam[complete.cases(train_spam),\"X1\"]))\n",
    "\n",
    "cvfit_spam_mae=cv.glmnet(train_mat_spam,result_vec_spam,family=\"binomial\",nfolds = 10,type.measure = \"mae\")\n",
    "\n",
    "test_mat_spam=data.matrix(test_spam[complete.cases(test_spam),-c(\"X1\")])\n",
    "\n",
    "lasso_model_spam_mae_min <- glmnet(train_mat_spam,result_vec_spam,family=\"binomial\", alpha = 1, lambda = cvfit_spam_mae$lambda.min, standardize = FALSE)\n",
    "lasso_model_spam_mae_1se <- glmnet(train_mat_spam,result_vec_spam, family=\"binomial\",alpha = 1, lambda = cvfit_spam_mae$lambda.1se, standardize = FALSE)\n",
    "lasso_model_spam_mae_10th <- glmnet(train_mat_spam,result_vec_spam,family=\"binomial\", alpha = 1, lambda = cvfit_spam_mae$lambda[10], standardize = FALSE)"
   ]
  },
  {
   "cell_type": "code",
   "execution_count": 38,
   "metadata": {},
   "outputs": [
    {
     "data": {
      "image/png": "[encoded data removed]",
      "text/plain": [
       "plot without title"
      ]
     },
     "metadata": {},
     "output_type": "display_data"
    }
   ],
   "source": [
    "plot(cvfit_spam_mae)"
   ]
  },
  {
   "cell_type": "markdown",
   "metadata": {},
   "source": [
    "### Lambda Values for Mean Absolute Error Values"
   ]
  },
  {
   "cell_type": "code",
   "execution_count": 39,
   "metadata": {},
   "outputs": [
    {
     "data": {
      "text/html": [
       "2.36987775956008e-05"
      ],
      "text/latex": [
       "2.36987775956008e-05"
      ],
      "text/markdown": [
       "2.36987775956008e-05"
      ],
      "text/plain": [
       "[1] 2.369878e-05"
      ]
     },
     "metadata": {},
     "output_type": "display_data"
    }
   ],
   "source": [
    "cvfit_spam_mae$lambda.min"
   ]
  },
  {
   "cell_type": "code",
   "execution_count": 40,
   "metadata": {},
   "outputs": [
    {
     "data": {
      "text/html": [
       "0.000152337474910797"
      ],
      "text/latex": [
       "0.000152337474910797"
      ],
      "text/markdown": [
       "0.000152337474910797"
      ],
      "text/plain": [
       "[1] 0.0001523375"
      ]
     },
     "metadata": {},
     "output_type": "display_data"
    }
   ],
   "source": [
    "cvfit_spam_mae$lambda.1se"
   ]
  },
  {
   "cell_type": "code",
   "execution_count": 41,
   "metadata": {},
   "outputs": [
    {
     "data": {
      "text/html": [
       "0.064427217664051"
      ],
      "text/latex": [
       "0.064427217664051"
      ],
      "text/markdown": [
       "0.064427217664051"
      ],
      "text/plain": [
       "[1] 0.06442722"
      ]
     },
     "metadata": {},
     "output_type": "display_data"
    }
   ],
   "source": [
    "cvfit_spam_mae$lambda[10]"
   ]
  },
  {
   "cell_type": "markdown",
   "metadata": {},
   "source": [
    "2 possible lambda values are determined by the cv.glmnet(). One of them is used for getting minimum Mean-Squared Error. The other one is determined by looking how many paramater is used in the model. Namely, this lambda value can be beneficial for reducing the possibility of over-fitting model on train dataset. Lastly, one random lambda was selected to compare results for these 3 lambda values."
   ]
  },
  {
   "cell_type": "code",
   "execution_count": 42,
   "metadata": {},
   "outputs": [],
   "source": [
    "prediction_pra_mae_spam_min <- predict(lasso_model_spam_mae_min, s = cvfit_spam$lambda.min, newx = test_mat_spam,type=\"class\")\n",
    "prediction_pra_mae_spam_1se <- predict(lasso_model_spam_mae_1se, s = cvfit_spam$lambda.1se, newx = test_mat_spam,type=\"class\")\n",
    "prediction_pra_mae_spam_10th <- predict(lasso_model_spam_mae_10th, s = cvfit_spam$lambda[10], newx = test_mat_spam,type=\"response\")"
   ]
  },
  {
   "cell_type": "markdown",
   "metadata": {},
   "source": [
    "### Performance Measure for Lasso Regression"
   ]
  },
  {
   "cell_type": "code",
   "execution_count": 44,
   "metadata": {},
   "outputs": [
    {
     "data": {
      "text/html": [
       "<table>\n",
       "<thead><tr><th scope=col>name</th><th scope=col>n</th><th scope=col>mean</th><th scope=col>sd</th><th scope=col>FBias</th><th scope=col>MAPE</th><th scope=col>RMSE</th><th scope=col>MAD</th><th scope=col>WMAPE</th></tr></thead>\n",
       "<tbody>\n",
       "\t<tr><td>Spam Data Set for Lasso Function with min lambda and mse objective</td><td>721                                                               </td><td>1.226075                                                          </td><td>0.4185786                                                         </td><td>0.8303167                                                         </td><td>0.8821082                                                         </td><td>0.03922923                                                        </td><td>1.018031                                                          </td><td>0.8303167                                                         </td></tr>\n",
       "</tbody>\n",
       "</table>\n"
      ],
      "text/latex": [
       "\\begin{tabular}{r|lllllllll}\n",
       " name & n & mean & sd & FBias & MAPE & RMSE & MAD & WMAPE\\\\\n",
       "\\hline\n",
       "\t Spam Data Set for Lasso Function with min lambda and mse objective & 721                                                                & 1.226075                                                           & 0.4185786                                                          & 0.8303167                                                          & 0.8821082                                                          & 0.03922923                                                         & 1.018031                                                           & 0.8303167                                                         \\\\\n",
       "\\end{tabular}\n"
      ],
      "text/markdown": [
       "\n",
       "| name | n | mean | sd | FBias | MAPE | RMSE | MAD | WMAPE |\n",
       "|---|---|---|---|---|---|---|---|---|\n",
       "| Spam Data Set for Lasso Function with min lambda and mse objective | 721                                                                | 1.226075                                                           | 0.4185786                                                          | 0.8303167                                                          | 0.8821082                                                          | 0.03922923                                                         | 1.018031                                                           | 0.8303167                                                          |\n",
       "\n"
      ],
      "text/plain": [
       "  name                                                               n  \n",
       "1 Spam Data Set for Lasso Function with min lambda and mse objective 721\n",
       "  mean     sd        FBias     MAPE      RMSE       MAD      WMAPE    \n",
       "1 1.226075 0.4185786 0.8303167 0.8821082 0.03922923 1.018031 0.8303167"
      ]
     },
     "metadata": {},
     "output_type": "display_data"
    },
    {
     "data": {
      "text/html": [
       "<table>\n",
       "<thead><tr><th scope=col>name</th><th scope=col>n</th><th scope=col>mean</th><th scope=col>sd</th><th scope=col>FBias</th><th scope=col>MAPE</th><th scope=col>RMSE</th><th scope=col>MAD</th><th scope=col>WMAPE</th></tr></thead>\n",
       "<tbody>\n",
       "\t<tr><td>Spam Data Set for Lasso Function with 1se lambda and mse objective</td><td>721                                                               </td><td>1.226075                                                          </td><td>0.4185786                                                         </td><td>0.831448                                                          </td><td>0.8828017                                                         </td><td>0.03930271                                                        </td><td>1.019417                                                          </td><td>0.831448                                                          </td></tr>\n",
       "</tbody>\n",
       "</table>\n"
      ],
      "text/latex": [
       "\\begin{tabular}{r|lllllllll}\n",
       " name & n & mean & sd & FBias & MAPE & RMSE & MAD & WMAPE\\\\\n",
       "\\hline\n",
       "\t Spam Data Set for Lasso Function with 1se lambda and mse objective & 721                                                                & 1.226075                                                           & 0.4185786                                                          & 0.831448                                                           & 0.8828017                                                          & 0.03930271                                                         & 1.019417                                                           & 0.831448                                                          \\\\\n",
       "\\end{tabular}\n"
      ],
      "text/markdown": [
       "\n",
       "| name | n | mean | sd | FBias | MAPE | RMSE | MAD | WMAPE |\n",
       "|---|---|---|---|---|---|---|---|---|\n",
       "| Spam Data Set for Lasso Function with 1se lambda and mse objective | 721                                                                | 1.226075                                                           | 0.4185786                                                          | 0.831448                                                           | 0.8828017                                                          | 0.03930271                                                         | 1.019417                                                           | 0.831448                                                           |\n",
       "\n"
      ],
      "text/plain": [
       "  name                                                               n  \n",
       "1 Spam Data Set for Lasso Function with 1se lambda and mse objective 721\n",
       "  mean     sd        FBias    MAPE      RMSE       MAD      WMAPE   \n",
       "1 1.226075 0.4185786 0.831448 0.8828017 0.03930271 1.019417 0.831448"
      ]
     },
     "metadata": {},
     "output_type": "display_data"
    },
    {
     "data": {
      "text/html": [
       "<table>\n",
       "<thead><tr><th scope=col>name</th><th scope=col>n</th><th scope=col>mean</th><th scope=col>sd</th><th scope=col>FBias</th><th scope=col>MAPE</th><th scope=col>RMSE</th><th scope=col>MAD</th><th scope=col>WMAPE</th></tr></thead>\n",
       "<tbody>\n",
       "\t<tr><td>Spam Data Set for Lasso Function with 10th lambda and mse objective</td><td>721                                                                </td><td>1.226075                                                           </td><td>0.4185786                                                          </td><td>0.9332579                                                          </td><td>0.9486824                                                          </td><td>0.04522008                                                         </td><td>1.144244                                                           </td><td>0.9332579                                                          </td></tr>\n",
       "</tbody>\n",
       "</table>\n"
      ],
      "text/latex": [
       "\\begin{tabular}{r|lllllllll}\n",
       " name & n & mean & sd & FBias & MAPE & RMSE & MAD & WMAPE\\\\\n",
       "\\hline\n",
       "\t Spam Data Set for Lasso Function with 10th lambda and mse objective & 721                                                                 & 1.226075                                                            & 0.4185786                                                           & 0.9332579                                                           & 0.9486824                                                           & 0.04522008                                                          & 1.144244                                                            & 0.9332579                                                          \\\\\n",
       "\\end{tabular}\n"
      ],
      "text/markdown": [
       "\n",
       "| name | n | mean | sd | FBias | MAPE | RMSE | MAD | WMAPE |\n",
       "|---|---|---|---|---|---|---|---|---|\n",
       "| Spam Data Set for Lasso Function with 10th lambda and mse objective | 721                                                                 | 1.226075                                                            | 0.4185786                                                           | 0.9332579                                                           | 0.9486824                                                           | 0.04522008                                                          | 1.144244                                                            | 0.9332579                                                           |\n",
       "\n"
      ],
      "text/plain": [
       "  name                                                                n  \n",
       "1 Spam Data Set for Lasso Function with 10th lambda and mse objective 721\n",
       "  mean     sd        FBias     MAPE      RMSE       MAD      WMAPE    \n",
       "1 1.226075 0.4185786 0.9332579 0.9486824 0.04522008 1.144244 0.9332579"
      ]
     },
     "metadata": {},
     "output_type": "display_data"
    },
    {
     "data": {
      "text/html": [
       "<table>\n",
       "<thead><tr><th scope=col>name</th><th scope=col>n</th><th scope=col>mean</th><th scope=col>sd</th><th scope=col>FBias</th><th scope=col>MAPE</th><th scope=col>RMSE</th><th scope=col>MAD</th><th scope=col>WMAPE</th></tr></thead>\n",
       "<tbody>\n",
       "\t<tr><td>Spam Data Set for Lasso Function with min lambda and mae objective</td><td>721                                                               </td><td>1.226075                                                          </td><td>0.4185786                                                         </td><td>0.8291855                                                         </td><td>0.8814147                                                         </td><td>0.0391556                                                         </td><td>1.016644                                                          </td><td>0.8291855                                                         </td></tr>\n",
       "</tbody>\n",
       "</table>\n"
      ],
      "text/latex": [
       "\\begin{tabular}{r|lllllllll}\n",
       " name & n & mean & sd & FBias & MAPE & RMSE & MAD & WMAPE\\\\\n",
       "\\hline\n",
       "\t Spam Data Set for Lasso Function with min lambda and mae objective & 721                                                                & 1.226075                                                           & 0.4185786                                                          & 0.8291855                                                          & 0.8814147                                                          & 0.0391556                                                          & 1.016644                                                           & 0.8291855                                                         \\\\\n",
       "\\end{tabular}\n"
      ],
      "text/markdown": [
       "\n",
       "| name | n | mean | sd | FBias | MAPE | RMSE | MAD | WMAPE |\n",
       "|---|---|---|---|---|---|---|---|---|\n",
       "| Spam Data Set for Lasso Function with min lambda and mae objective | 721                                                                | 1.226075                                                           | 0.4185786                                                          | 0.8291855                                                          | 0.8814147                                                          | 0.0391556                                                          | 1.016644                                                           | 0.8291855                                                          |\n",
       "\n"
      ],
      "text/plain": [
       "  name                                                               n  \n",
       "1 Spam Data Set for Lasso Function with min lambda and mae objective 721\n",
       "  mean     sd        FBias     MAPE      RMSE      MAD      WMAPE    \n",
       "1 1.226075 0.4185786 0.8291855 0.8814147 0.0391556 1.016644 0.8291855"
      ]
     },
     "metadata": {},
     "output_type": "display_data"
    },
    {
     "data": {
      "text/html": [
       "<table>\n",
       "<thead><tr><th scope=col>name</th><th scope=col>n</th><th scope=col>mean</th><th scope=col>sd</th><th scope=col>FBias</th><th scope=col>MAPE</th><th scope=col>RMSE</th><th scope=col>MAD</th><th scope=col>WMAPE</th></tr></thead>\n",
       "<tbody>\n",
       "\t<tr><td>Spam Data Set for Lasso Function with 1se lambda and mae objective</td><td>721                                                               </td><td>1.226075                                                          </td><td>0.4185786                                                         </td><td>0.831448                                                          </td><td>0.8828017                                                         </td><td>0.03930271                                                        </td><td>1.019417                                                          </td><td>0.831448                                                          </td></tr>\n",
       "</tbody>\n",
       "</table>\n"
      ],
      "text/latex": [
       "\\begin{tabular}{r|lllllllll}\n",
       " name & n & mean & sd & FBias & MAPE & RMSE & MAD & WMAPE\\\\\n",
       "\\hline\n",
       "\t Spam Data Set for Lasso Function with 1se lambda and mae objective & 721                                                                & 1.226075                                                           & 0.4185786                                                          & 0.831448                                                           & 0.8828017                                                          & 0.03930271                                                         & 1.019417                                                           & 0.831448                                                          \\\\\n",
       "\\end{tabular}\n"
      ],
      "text/markdown": [
       "\n",
       "| name | n | mean | sd | FBias | MAPE | RMSE | MAD | WMAPE |\n",
       "|---|---|---|---|---|---|---|---|---|\n",
       "| Spam Data Set for Lasso Function with 1se lambda and mae objective | 721                                                                | 1.226075                                                           | 0.4185786                                                          | 0.831448                                                           | 0.8828017                                                          | 0.03930271                                                         | 1.019417                                                           | 0.831448                                                           |\n",
       "\n"
      ],
      "text/plain": [
       "  name                                                               n  \n",
       "1 Spam Data Set for Lasso Function with 1se lambda and mae objective 721\n",
       "  mean     sd        FBias    MAPE      RMSE       MAD      WMAPE   \n",
       "1 1.226075 0.4185786 0.831448 0.8828017 0.03930271 1.019417 0.831448"
      ]
     },
     "metadata": {},
     "output_type": "display_data"
    },
    {
     "data": {
      "text/html": [
       "<table>\n",
       "<thead><tr><th scope=col>name</th><th scope=col>n</th><th scope=col>mean</th><th scope=col>sd</th><th scope=col>FBias</th><th scope=col>MAPE</th><th scope=col>RMSE</th><th scope=col>MAD</th><th scope=col>WMAPE</th></tr></thead>\n",
       "<tbody>\n",
       "\t<tr><td>Spam Data Set for Lasso Function with 10th lambda and mae objective</td><td>721                                                                </td><td>1.226075                                                           </td><td>0.4185786                                                          </td><td>0.8227484                                                          </td><td>0.8290385                                                          </td><td>0.03987065                                                         </td><td>1.008751                                                           </td><td>0.8227484                                                          </td></tr>\n",
       "</tbody>\n",
       "</table>\n"
      ],
      "text/latex": [
       "\\begin{tabular}{r|lllllllll}\n",
       " name & n & mean & sd & FBias & MAPE & RMSE & MAD & WMAPE\\\\\n",
       "\\hline\n",
       "\t Spam Data Set for Lasso Function with 10th lambda and mae objective & 721                                                                 & 1.226075                                                            & 0.4185786                                                           & 0.8227484                                                           & 0.8290385                                                           & 0.03987065                                                          & 1.008751                                                            & 0.8227484                                                          \\\\\n",
       "\\end{tabular}\n"
      ],
      "text/markdown": [
       "\n",
       "| name | n | mean | sd | FBias | MAPE | RMSE | MAD | WMAPE |\n",
       "|---|---|---|---|---|---|---|---|---|\n",
       "| Spam Data Set for Lasso Function with 10th lambda and mae objective | 721                                                                 | 1.226075                                                            | 0.4185786                                                           | 0.8227484                                                           | 0.8290385                                                           | 0.03987065                                                          | 1.008751                                                            | 0.8227484                                                           |\n",
       "\n"
      ],
      "text/plain": [
       "  name                                                                n  \n",
       "1 Spam Data Set for Lasso Function with 10th lambda and mae objective 721\n",
       "  mean     sd        FBias     MAPE      RMSE       MAD      WMAPE    \n",
       "1 1.226075 0.4185786 0.8227484 0.8290385 0.03987065 1.008751 0.8227484"
      ]
     },
     "metadata": {},
     "output_type": "display_data"
    }
   ],
   "source": [
    "perf_dt(\"Spam Data Set for Lasso Function with min lambda and mse objective\", as.numeric(test_spam$X1), as.numeric(prediction_pra_mse_spam_min))\n",
    "perf_dt(\"Spam Data Set for Lasso Function with 1se lambda and mse objective\", as.numeric(test_spam$X1), as.numeric(prediction_pra_mse_spam_1se))\n",
    "perf_dt(\"Spam Data Set for Lasso Function with 10th lambda and mse objective\", as.numeric(test_spam$X1), as.numeric(prediction_pra_mse_spam_10th))\n",
    "\n",
    "perf_dt(\"Spam Data Set for Lasso Function with min lambda and mae objective\", as.numeric(test_spam$X1), as.numeric(prediction_pra_mae_spam_min))\n",
    "perf_dt(\"Spam Data Set for Lasso Function with 1se lambda and mae objective\", as.numeric(test_spam$X1), as.numeric(prediction_pra_mae_spam_1se))\n",
    "perf_dt(\"Spam Data Set for Lasso Function with 10th lambda and mae objective\", as.numeric(test_spam$X1), as.numeric(prediction_pra_mae_spam_10th))"
   ]
  },
  {
   "cell_type": "code",
   "execution_count": 46,
   "metadata": {},
   "outputs": [
    {
     "data": {
      "text/plain": [
       "Confusion Matrix and Statistics\n",
       "\n",
       "          Reference\n",
       "Prediction   0   1\n",
       "         0 538  32\n",
       "         1  20 131\n",
       "                                          \n",
       "               Accuracy : 0.9279          \n",
       "                 95% CI : (0.9065, 0.9457)\n",
       "    No Information Rate : 0.7739          \n",
       "    P-Value [Acc > NIR] : <2e-16          \n",
       "                                          \n",
       "                  Kappa : 0.7884          \n",
       "                                          \n",
       " Mcnemar's Test P-Value : 0.1272          \n",
       "                                          \n",
       "              Precision : 0.9439          \n",
       "                 Recall : 0.9642          \n",
       "                     F1 : 0.9539          \n",
       "             Prevalence : 0.7739          \n",
       "         Detection Rate : 0.7462          \n",
       "   Detection Prevalence : 0.7906          \n",
       "      Balanced Accuracy : 0.8839          \n",
       "                                          \n",
       "       'Positive' Class : 0               \n",
       "                                          "
      ]
     },
     "metadata": {},
     "output_type": "display_data"
    }
   ],
   "source": [
    "confusionMatrix(data = as.factor(prediction_pra_mae_spam_min), reference = as.factor(test_spam$X1), mode = \"prec_recall\")"
   ]
  },
  {
   "cell_type": "markdown",
   "metadata": {},
   "source": [
    "## Decision Tree(DT)"
   ]
  },
  {
   "cell_type": "code",
   "execution_count": 47,
   "metadata": {},
   "outputs": [],
   "source": [
    "set.seed(35)"
   ]
  },
  {
   "cell_type": "code",
   "execution_count": 51,
   "metadata": {
    "scrolled": false
   },
   "outputs": [
    {
     "name": "stdout",
     "output_type": "stream",
     "text": [
      "CART \n",
      "\n",
      "2880 samples\n",
      "  57 predictor\n",
      "   2 classes: '0', '1' \n",
      "\n",
      "No pre-processing\n",
      "Resampling: Cross-Validated (10 fold) \n",
      "Summary of sample sizes: 2592, 2592, 2592, 2592, 2592, 2592, ... \n",
      "Resampling results across tuning parameters:\n",
      "\n",
      "  cp    Accuracy   Kappa    \n",
      "  0.00  0.9222222  0.7751089\n",
      "  0.01  0.9215278  0.7650709\n",
      "  0.02  0.9135417  0.7449049\n",
      "  0.03  0.9097222  0.7270835\n",
      "  0.04  0.9097222  0.7270835\n",
      "  0.05  0.9069444  0.7194714\n",
      "  0.06  0.9069444  0.7194714\n",
      "  0.07  0.9069444  0.7194714\n",
      "  0.08  0.9069444  0.7194714\n",
      "  0.09  0.9017361  0.7062339\n",
      "  0.10  0.8899306  0.6678720\n",
      "\n",
      "Accuracy was used to select the optimal model using the largest value.\n",
      "The final value used for the model was cp = 0.\n",
      "CART \n",
      "\n",
      "2880 samples\n",
      "  57 predictor\n",
      "   2 classes: '0', '1' \n",
      "\n",
      "No pre-processing\n",
      "Resampling: Cross-Validated (10 fold) \n",
      "Summary of sample sizes: 2592, 2592, 2592, 2592, 2592, 2592, ... \n",
      "Resampling results across tuning parameters:\n",
      "\n",
      "  cp    Accuracy   Kappa    \n",
      "  0.00  0.9274306  0.7898270\n",
      "  0.01  0.9284722  0.7867880\n",
      "  0.02  0.9180556  0.7595554\n",
      "  0.03  0.9104167  0.7284558\n",
      "  0.04  0.9104167  0.7284558\n",
      "  0.05  0.9104167  0.7284558\n",
      "  0.06  0.9104167  0.7284558\n",
      "  0.07  0.9104167  0.7284558\n",
      "  0.08  0.9104167  0.7284558\n",
      "  0.09  0.9045139  0.7139999\n",
      "  0.10  0.8906250  0.6802296\n",
      "\n",
      "Accuracy was used to select the optimal model using the largest value.\n",
      "The final value used for the model was cp = 0.01.\n"
     ]
    },
    {
     "data": {
      "image/png": "[encoded data removed]",
      "text/plain": [
       "plot without title"
      ]
     },
     "metadata": {},
     "output_type": "display_data"
    },
    {
     "name": "stdout",
     "output_type": "stream",
     "text": [
      "CART \n",
      "\n",
      "2880 samples\n",
      "  57 predictor\n",
      "   2 classes: '0', '1' \n",
      "\n",
      "No pre-processing\n",
      "Resampling: Cross-Validated (10 fold) \n",
      "Summary of sample sizes: 2592, 2592, 2592, 2592, 2592, 2592, ... \n",
      "Resampling results across tuning parameters:\n",
      "\n",
      "  cp    Accuracy   Kappa    \n",
      "  0.00  0.9253472  0.7827161\n",
      "  0.01  0.9246528  0.7754984\n",
      "  0.02  0.9156250  0.7504951\n",
      "  0.03  0.9104167  0.7285925\n",
      "  0.04  0.9104167  0.7277043\n",
      "  0.05  0.9104167  0.7277043\n",
      "  0.06  0.9104167  0.7277043\n",
      "  0.07  0.9104167  0.7277043\n",
      "  0.08  0.9104167  0.7277043\n",
      "  0.09  0.8996528  0.7014892\n",
      "  0.10  0.8836806  0.6521648\n",
      "\n",
      "Accuracy was used to select the optimal model using the largest value.\n",
      "The final value used for the model was cp = 0.\n"
     ]
    },
    {
     "data": {
      "image/png": "[encoded data removed]",
      "text/plain": [
       "plot without title"
      ]
     },
     "metadata": {},
     "output_type": "display_data"
    },
    {
     "name": "stdout",
     "output_type": "stream",
     "text": [
      "CART \n",
      "\n",
      "2880 samples\n",
      "  57 predictor\n",
      "   2 classes: '0', '1' \n",
      "\n",
      "No pre-processing\n",
      "Resampling: Cross-Validated (10 fold) \n",
      "Summary of sample sizes: 2592, 2592, 2592, 2592, 2592, 2592, ... \n",
      "Resampling results across tuning parameters:\n",
      "\n",
      "  cp    Accuracy   Kappa    \n",
      "  0.00  0.9274306  0.7886153\n",
      "  0.01  0.9291667  0.7871744\n",
      "  0.02  0.9201389  0.7610640\n",
      "  0.03  0.9107639  0.7283206\n",
      "  0.04  0.9111111  0.7289284\n",
      "  0.05  0.9111111  0.7289284\n",
      "  0.06  0.9111111  0.7289284\n",
      "  0.07  0.9111111  0.7289284\n",
      "  0.08  0.9111111  0.7289284\n",
      "  0.09  0.9052083  0.7141873\n",
      "  0.10  0.8916667  0.6803096\n",
      "\n",
      "Accuracy was used to select the optimal model using the largest value.\n",
      "The final value used for the model was cp = 0.01.\n"
     ]
    },
    {
     "data": {
      "image/png": "[encoded data removed]",
      "text/plain": [
       "plot without title"
      ]
     },
     "metadata": {},
     "output_type": "display_data"
    },
    {
     "name": "stdout",
     "output_type": "stream",
     "text": [
      "CART \n",
      "\n",
      "2880 samples\n",
      "  57 predictor\n",
      "   2 classes: '0', '1' \n",
      "\n",
      "No pre-processing\n",
      "Resampling: Cross-Validated (10 fold) \n",
      "Summary of sample sizes: 2592, 2592, 2592, 2592, 2592, 2592, ... \n",
      "Resampling results across tuning parameters:\n",
      "\n",
      "  cp    Accuracy   Kappa    \n",
      "  0.00  0.9288194  0.7917508\n",
      "  0.01  0.9274306  0.7817519\n",
      "  0.02  0.9201389  0.7616216\n",
      "  0.03  0.9104167  0.7271364\n",
      "  0.04  0.9104167  0.7268878\n",
      "  0.05  0.9104167  0.7268878\n",
      "  0.06  0.9104167  0.7268878\n",
      "  0.07  0.9104167  0.7268878\n",
      "  0.08  0.9069444  0.7186799\n",
      "  0.09  0.9013889  0.7048584\n",
      "  0.10  0.8878472  0.6605767\n",
      "\n",
      "Accuracy was used to select the optimal model using the largest value.\n",
      "The final value used for the model was cp = 0.\n"
     ]
    },
    {
     "data": {
      "image/png": "[encoded data removed]",
      "text/plain": [
       "plot without title"
      ]
     },
     "metadata": {},
     "output_type": "display_data"
    },
    {
     "data": {
      "image/png": "[encoded data removed]",
      "text/plain": [
       "plot without title"
      ]
     },
     "metadata": {},
     "output_type": "display_data"
    },
    {
     "name": "stdout",
     "output_type": "stream",
     "text": [
      "CART \n",
      "\n",
      "2880 samples\n",
      "  57 predictor\n",
      "   2 classes: '0', '1' \n",
      "\n",
      "No pre-processing\n",
      "Resampling: Cross-Validated (10 fold) \n",
      "Summary of sample sizes: 2592, 2592, 2592, 2592, 2592, 2592, ... \n",
      "Resampling results across tuning parameters:\n",
      "\n",
      "  cp    Accuracy   Kappa    \n",
      "  0.00  0.9302083  0.7950186\n",
      "  0.01  0.9267361  0.7801254\n",
      "  0.02  0.9197917  0.7619570\n",
      "  0.03  0.9100694  0.7269212\n",
      "  0.04  0.9093750  0.7239467\n",
      "  0.05  0.9093750  0.7239467\n",
      "  0.06  0.9093750  0.7239467\n",
      "  0.07  0.9086806  0.7221431\n",
      "  0.08  0.9086806  0.7221431\n",
      "  0.09  0.9000000  0.7008597\n",
      "  0.10  0.8951389  0.6886196\n",
      "\n",
      "Accuracy was used to select the optimal model using the largest value.\n",
      "The final value used for the model was cp = 0.\n"
     ]
    },
    {
     "data": {
      "image/png": "[encoded data removed]",
      "text/plain": [
       "plot without title"
      ]
     },
     "metadata": {},
     "output_type": "display_data"
    }
   ],
   "source": [
    "numFolds=trainControl(method=\"cv\",number = 10)\n",
    "cpGrid=expand.grid(.cp=(0:10)*0.01)\n",
    "#minbucket_grid=expand.grid(.cp=(5:10))\n",
    "for(i in 5:10){\n",
    "    tr=train(X1~.,\n",
    "          data=train_spam, \n",
    "          method=\"rpart\",\n",
    "          trControl=numFolds,\n",
    "          tuneGrid= cpGrid,\n",
    "            # minbucket=minbucket_grid\n",
    "           control= rpart.control(minbucket = i)\n",
    "            )\n",
    "    trellis.par.set(caretTheme())\n",
    "    print(plot(tr))    \n",
    "    print(tr)\n",
    "}"
   ]
  },
  {
   "cell_type": "code",
   "execution_count": 52,
   "metadata": {},
   "outputs": [
    {
     "name": "stdout",
     "output_type": "stream",
     "text": [
      "CART \n",
      "\n",
      "2880 samples\n",
      "  57 predictor\n",
      "   2 classes: '0', '1' \n",
      "\n",
      "No pre-processing\n",
      "Resampling: Cross-Validated (10 fold) \n",
      "Summary of sample sizes: 2592, 2592, 2592, 2592, 2592, 2592, ... \n",
      "Resampling results across tuning parameters:\n",
      "\n",
      "  cp    Accuracy   Kappa    \n",
      "  0.00  0.9350694  0.8122931\n",
      "  0.01  0.9281250  0.7855911\n",
      "  0.02  0.9159722  0.7510844\n",
      "  0.03  0.9100694  0.7272719\n",
      "  0.04  0.9079861  0.7189954\n",
      "  0.05  0.9079861  0.7189954\n",
      "  0.06  0.9069444  0.7163624\n",
      "  0.07  0.9069444  0.7163624\n",
      "  0.08  0.9069444  0.7163624\n",
      "  0.09  0.8958333  0.6886555\n",
      "  0.10  0.8902778  0.6752735\n",
      "\n",
      "Accuracy was used to select the optimal model using the largest value.\n",
      "The final value used for the model was cp = 0.\n"
     ]
    },
    {
     "data": {
      "image/png": "[encoded data removed]",
      "text/plain": [
       "plot without title"
      ]
     },
     "metadata": {},
     "output_type": "display_data"
    }
   ],
   "source": [
    "numFolds=trainControl(method=\"cv\",number = 10)\n",
    "cpGrid=expand.grid(.cp=(0:10)*0.01)\n",
    "tr=train(X1~.,\n",
    "      data=train_spam, \n",
    "      method=\"rpart\",\n",
    "      trControl=numFolds,\n",
    "      tuneGrid= cpGrid,\n",
    "        # minbucket=minbucket_grid\n",
    "       control= rpart.control(minsplit = 10)\n",
    "        )\n",
    "trellis.par.set(caretTheme())\n",
    "print(plot(tr))    \n",
    "print(tr)"
   ]
  },
  {
   "cell_type": "code",
   "execution_count": 53,
   "metadata": {
    "scrolled": false
   },
   "outputs": [
    {
     "name": "stderr",
     "output_type": "stream",
     "text": [
      "Warning message:\n",
      "\"labs do not fit even at cex 0.15, there may be some overplotting\""
     ]
    },
    {
     "data": {
      "text/html": [
       "<dl class=dl-horizontal>\n",
       "\t<dt>X0.44</dt>\n",
       "\t\t<dd>352.204157326462</dd>\n",
       "\t<dt>X0.3</dt>\n",
       "\t\t<dd>158.717328817267</dd>\n",
       "\t<dt>X0.14</dt>\n",
       "\t\t<dd>121.747870434236</dd>\n",
       "\t<dt>X0.15</dt>\n",
       "\t\t<dd>119.60397984557</dd>\n",
       "\t<dt>X61</dt>\n",
       "\t\t<dd>101.160839184402</dd>\n",
       "\t<dt>X0.16</dt>\n",
       "\t\t<dd>98.4821917986498</dd>\n",
       "\t<dt>X0.778</dt>\n",
       "\t\t<dd>55.3092939323108</dd>\n",
       "\t<dt>X0.17</dt>\n",
       "\t\t<dd>53.8192788267824</dd>\n",
       "\t<dt>X0.12</dt>\n",
       "\t\t<dd>52.4350155334124</dd>\n",
       "\t<dt>X0.18</dt>\n",
       "\t\t<dd>45.8666848696898</dd>\n",
       "\t<dt>X0.32.1</dt>\n",
       "\t\t<dd>45.5172950717438</dd>\n",
       "\t<dt>X3.756</dt>\n",
       "\t\t<dd>34.2260641924168</dd>\n",
       "\t<dt>X278</dt>\n",
       "\t\t<dd>33.2162630275151</dd>\n",
       "\t<dt>X0.19</dt>\n",
       "\t\t<dd>31.108981071396</dd>\n",
       "\t<dt>X0.96</dt>\n",
       "\t\t<dd>24.9146266058546</dd>\n",
       "\t<dt>X0.32</dt>\n",
       "\t\t<dd>20.8591470631063</dd>\n",
       "\t<dt>X1.93</dt>\n",
       "\t\t<dd>20.4985824794934</dd>\n",
       "\t<dt>X0.38</dt>\n",
       "\t\t<dd>18.7170242723996</dd>\n",
       "\t<dt>X0.22</dt>\n",
       "\t\t<dd>17.0498738212808</dd>\n",
       "\t<dt>X0.42</dt>\n",
       "\t\t<dd>16.2342981823245</dd>\n",
       "\t<dt>X0.41</dt>\n",
       "\t\t<dd>15.092265638757</dd>\n",
       "\t<dt>X0.11</dt>\n",
       "\t\t<dd>14.9187539806318</dd>\n",
       "\t<dt>X0.64</dt>\n",
       "\t\t<dd>13.138470465797</dd>\n",
       "\t<dt>X0.37</dt>\n",
       "\t\t<dd>12.4765311170251</dd>\n",
       "\t<dt>X0.26</dt>\n",
       "\t\t<dd>11.6237910258443</dd>\n",
       "\t<dt>X0.34</dt>\n",
       "\t\t<dd>11.2404218468245</dd>\n",
       "\t<dt>X0.2</dt>\n",
       "\t\t<dd>11.2336438822762</dd>\n",
       "\t<dt>X1.29</dt>\n",
       "\t\t<dd>10.5957683494642</dd>\n",
       "\t<dt>X0.20</dt>\n",
       "\t\t<dd>9.18070128838194</dd>\n",
       "\t<dt>X0.64.1</dt>\n",
       "\t\t<dd>8.63742594339517</dd>\n",
       "\t<dt>X0.23</dt>\n",
       "\t\t<dd>8.58569843031552</dd>\n",
       "\t<dt>X0.25</dt>\n",
       "\t\t<dd>8.58569843031552</dd>\n",
       "\t<dt>X0.45</dt>\n",
       "\t\t<dd>7.89707189007859</dd>\n",
       "\t<dt>X0.4</dt>\n",
       "\t\t<dd>7.73416990070453</dd>\n",
       "\t<dt>X0.13</dt>\n",
       "\t\t<dd>6.71039013896148</dd>\n",
       "\t<dt>X0.8</dt>\n",
       "\t\t<dd>5.86933538195601</dd>\n",
       "\t<dt>X0.6</dt>\n",
       "\t\t<dd>5.62353930631326</dd>\n",
       "\t<dt>X0.7</dt>\n",
       "\t\t<dd>5.16675048528878</dd>\n",
       "\t<dt>X0.30</dt>\n",
       "\t\t<dd>4.9528473414086</dd>\n",
       "\t<dt>X0.9</dt>\n",
       "\t\t<dd>4.33621916424057</dd>\n",
       "\t<dt>X0.28</dt>\n",
       "\t\t<dd>3.89790656677554</dd>\n",
       "\t<dt>X0.64.2</dt>\n",
       "\t\t<dd>3.09853737863771</dd>\n",
       "\t<dt>X0.5</dt>\n",
       "\t\t<dd>2.61333456707963</dd>\n",
       "\t<dt>X0.29</dt>\n",
       "\t\t<dd>2.56935706613472</dd>\n",
       "\t<dt>X0.27</dt>\n",
       "\t\t<dd>1.99121680545048</dd>\n",
       "\t<dt>X0.21</dt>\n",
       "\t\t<dd>1.31399550253777</dd>\n",
       "\t<dt>X0.10</dt>\n",
       "\t\t<dd>0.858480948881453</dd>\n",
       "\t<dt>X0</dt>\n",
       "\t\t<dd>0.854700854700855</dd>\n",
       "\t<dt>X0.1</dt>\n",
       "\t\t<dd>0.789197805982522</dd>\n",
       "</dl>\n"
      ],
      "text/latex": [
       "\\begin{description*}\n",
       "\\item[X0.44] 352.204157326462\n",
       "\\item[X0.3] 158.717328817267\n",
       "\\item[X0.14] 121.747870434236\n",
       "\\item[X0.15] 119.60397984557\n",
       "\\item[X61] 101.160839184402\n",
       "\\item[X0.16] 98.4821917986498\n",
       "\\item[X0.778] 55.3092939323108\n",
       "\\item[X0.17] 53.8192788267824\n",
       "\\item[X0.12] 52.4350155334124\n",
       "\\item[X0.18] 45.8666848696898\n",
       "\\item[X0.32.1] 45.5172950717438\n",
       "\\item[X3.756] 34.2260641924168\n",
       "\\item[X278] 33.2162630275151\n",
       "\\item[X0.19] 31.108981071396\n",
       "\\item[X0.96] 24.9146266058546\n",
       "\\item[X0.32] 20.8591470631063\n",
       "\\item[X1.93] 20.4985824794934\n",
       "\\item[X0.38] 18.7170242723996\n",
       "\\item[X0.22] 17.0498738212808\n",
       "\\item[X0.42] 16.2342981823245\n",
       "\\item[X0.41] 15.092265638757\n",
       "\\item[X0.11] 14.9187539806318\n",
       "\\item[X0.64] 13.138470465797\n",
       "\\item[X0.37] 12.4765311170251\n",
       "\\item[X0.26] 11.6237910258443\n",
       "\\item[X0.34] 11.2404218468245\n",
       "\\item[X0.2] 11.2336438822762\n",
       "\\item[X1.29] 10.5957683494642\n",
       "\\item[X0.20] 9.18070128838194\n",
       "\\item[X0.64.1] 8.63742594339517\n",
       "\\item[X0.23] 8.58569843031552\n",
       "\\item[X0.25] 8.58569843031552\n",
       "\\item[X0.45] 7.89707189007859\n",
       "\\item[X0.4] 7.73416990070453\n",
       "\\item[X0.13] 6.71039013896148\n",
       "\\item[X0.8] 5.86933538195601\n",
       "\\item[X0.6] 5.62353930631326\n",
       "\\item[X0.7] 5.16675048528878\n",
       "\\item[X0.30] 4.9528473414086\n",
       "\\item[X0.9] 4.33621916424057\n",
       "\\item[X0.28] 3.89790656677554\n",
       "\\item[X0.64.2] 3.09853737863771\n",
       "\\item[X0.5] 2.61333456707963\n",
       "\\item[X0.29] 2.56935706613472\n",
       "\\item[X0.27] 1.99121680545048\n",
       "\\item[X0.21] 1.31399550253777\n",
       "\\item[X0.10] 0.858480948881453\n",
       "\\item[X0] 0.854700854700855\n",
       "\\item[X0.1] 0.789197805982522\n",
       "\\end{description*}\n"
      ],
      "text/markdown": [
       "X0.44\n",
       ":   352.204157326462X0.3\n",
       ":   158.717328817267X0.14\n",
       ":   121.747870434236X0.15\n",
       ":   119.60397984557X61\n",
       ":   101.160839184402X0.16\n",
       ":   98.4821917986498X0.778\n",
       ":   55.3092939323108X0.17\n",
       ":   53.8192788267824X0.12\n",
       ":   52.4350155334124X0.18\n",
       ":   45.8666848696898X0.32.1\n",
       ":   45.5172950717438X3.756\n",
       ":   34.2260641924168X278\n",
       ":   33.2162630275151X0.19\n",
       ":   31.108981071396X0.96\n",
       ":   24.9146266058546X0.32\n",
       ":   20.8591470631063X1.93\n",
       ":   20.4985824794934X0.38\n",
       ":   18.7170242723996X0.22\n",
       ":   17.0498738212808X0.42\n",
       ":   16.2342981823245X0.41\n",
       ":   15.092265638757X0.11\n",
       ":   14.9187539806318X0.64\n",
       ":   13.138470465797X0.37\n",
       ":   12.4765311170251X0.26\n",
       ":   11.6237910258443X0.34\n",
       ":   11.2404218468245X0.2\n",
       ":   11.2336438822762X1.29\n",
       ":   10.5957683494642X0.20\n",
       ":   9.18070128838194X0.64.1\n",
       ":   8.63742594339517X0.23\n",
       ":   8.58569843031552X0.25\n",
       ":   8.58569843031552X0.45\n",
       ":   7.89707189007859X0.4\n",
       ":   7.73416990070453X0.13\n",
       ":   6.71039013896148X0.8\n",
       ":   5.86933538195601X0.6\n",
       ":   5.62353930631326X0.7\n",
       ":   5.16675048528878X0.30\n",
       ":   4.9528473414086X0.9\n",
       ":   4.33621916424057X0.28\n",
       ":   3.89790656677554X0.64.2\n",
       ":   3.09853737863771X0.5\n",
       ":   2.61333456707963X0.29\n",
       ":   2.56935706613472X0.27\n",
       ":   1.99121680545048X0.21\n",
       ":   1.31399550253777X0.10\n",
       ":   0.858480948881453X0\n",
       ":   0.854700854700855X0.1\n",
       ":   0.789197805982522\n",
       "\n"
      ],
      "text/plain": [
       "      X0.44        X0.3       X0.14       X0.15         X61       X0.16 \n",
       "352.2041573 158.7173288 121.7478704 119.6039798 101.1608392  98.4821918 \n",
       "     X0.778       X0.17       X0.12       X0.18     X0.32.1      X3.756 \n",
       " 55.3092939  53.8192788  52.4350155  45.8666849  45.5172951  34.2260642 \n",
       "       X278       X0.19       X0.96       X0.32       X1.93       X0.38 \n",
       " 33.2162630  31.1089811  24.9146266  20.8591471  20.4985825  18.7170243 \n",
       "      X0.22       X0.42       X0.41       X0.11       X0.64       X0.37 \n",
       " 17.0498738  16.2342982  15.0922656  14.9187540  13.1384705  12.4765311 \n",
       "      X0.26       X0.34        X0.2       X1.29       X0.20     X0.64.1 \n",
       " 11.6237910  11.2404218  11.2336439  10.5957683   9.1807013   8.6374259 \n",
       "      X0.23       X0.25       X0.45        X0.4       X0.13        X0.8 \n",
       "  8.5856984   8.5856984   7.8970719   7.7341699   6.7103901   5.8693354 \n",
       "       X0.6        X0.7       X0.30        X0.9       X0.28     X0.64.2 \n",
       "  5.6235393   5.1667505   4.9528473   4.3362192   3.8979066   3.0985374 \n",
       "       X0.5       X0.29       X0.27       X0.21       X0.10          X0 \n",
       "  2.6133346   2.5693571   1.9912168   1.3139955   0.8584809   0.8547009 \n",
       "       X0.1 \n",
       "  0.7891978 "
      ]
     },
     "metadata": {},
     "output_type": "display_data"
    },
    {
     "data": {
      "image/png": "[encoded data removed]",
      "text/plain": [
       "Plot with title \"\""
      ]
     },
     "metadata": {},
     "output_type": "display_data"
    }
   ],
   "source": [
    "reg_tree_spam=tr$finalModel\n",
    "fancyRpartPlot(reg_tree_spam)\n",
    "reg_tree_spam$variable.importance"
   ]
  },
  {
   "cell_type": "code",
   "execution_count": 54,
   "metadata": {},
   "outputs": [],
   "source": [
    "predicted_pisa=predict(reg_tree_spam,newdata=test_spam,type=\"class\")"
   ]
  },
  {
   "cell_type": "code",
   "execution_count": 55,
   "metadata": {},
   "outputs": [
    {
     "data": {
      "text/plain": [
       "   predicted_pisa\n",
       "      0   1\n",
       "  0 533  25\n",
       "  1  30 133"
      ]
     },
     "metadata": {},
     "output_type": "display_data"
    }
   ],
   "source": [
    "table(test_spam$X1,predicted_pisa)"
   ]
  },
  {
   "cell_type": "markdown",
   "metadata": {},
   "source": [
    "### Performanca Measure"
   ]
  },
  {
   "cell_type": "code",
   "execution_count": 57,
   "metadata": {},
   "outputs": [
    {
     "data": {
      "text/plain": [
       "Confusion Matrix and Statistics\n",
       "\n",
       "          Reference\n",
       "Prediction   0   1\n",
       "         0 533  30\n",
       "         1  25 133\n",
       "                                         \n",
       "               Accuracy : 0.9237         \n",
       "                 95% CI : (0.9019, 0.942)\n",
       "    No Information Rate : 0.7739         \n",
       "    P-Value [Acc > NIR] : <2e-16         \n",
       "                                         \n",
       "                  Kappa : 0.7796         \n",
       "                                         \n",
       " Mcnemar's Test P-Value : 0.5896         \n",
       "                                         \n",
       "              Precision : 0.9467         \n",
       "                 Recall : 0.9552         \n",
       "                     F1 : 0.9509         \n",
       "             Prevalence : 0.7739         \n",
       "         Detection Rate : 0.7393         \n",
       "   Detection Prevalence : 0.7809         \n",
       "      Balanced Accuracy : 0.8856         \n",
       "                                         \n",
       "       'Positive' Class : 0              \n",
       "                                         "
      ]
     },
     "metadata": {},
     "output_type": "display_data"
    }
   ],
   "source": [
    "confusionMatrix(data = as.factor(predicted_pisa), reference = as.factor(test_spam$X1), mode = \"prec_recall\")"
   ]
  },
  {
   "cell_type": "code",
   "execution_count": 56,
   "metadata": {},
   "outputs": [
    {
     "data": {
      "text/html": [
       "<table>\n",
       "<thead><tr><th scope=col>name</th><th scope=col>n</th><th scope=col>mean</th><th scope=col>sd</th><th scope=col>FBias</th><th scope=col>MAPE</th><th scope=col>RMSE</th><th scope=col>MAD</th><th scope=col>WMAPE</th></tr></thead>\n",
       "<tbody>\n",
       "\t<tr><td>Decision Tree-Daily</td><td>721                </td><td>1.226075           </td><td>0.4185786          </td><td>0.005656109        </td><td>0.0554785          </td><td>0.01028599         </td><td>0.07628294         </td><td>0.06221719         </td></tr>\n",
       "</tbody>\n",
       "</table>\n"
      ],
      "text/latex": [
       "\\begin{tabular}{r|lllllllll}\n",
       " name & n & mean & sd & FBias & MAPE & RMSE & MAD & WMAPE\\\\\n",
       "\\hline\n",
       "\t Decision Tree-Daily & 721                 & 1.226075            & 0.4185786           & 0.005656109         & 0.0554785           & 0.01028599          & 0.07628294          & 0.06221719         \\\\\n",
       "\\end{tabular}\n"
      ],
      "text/markdown": [
       "\n",
       "| name | n | mean | sd | FBias | MAPE | RMSE | MAD | WMAPE |\n",
       "|---|---|---|---|---|---|---|---|---|\n",
       "| Decision Tree-Daily | 721                 | 1.226075            | 0.4185786           | 0.005656109         | 0.0554785           | 0.01028599          | 0.07628294          | 0.06221719          |\n",
       "\n"
      ],
      "text/plain": [
       "  name                n   mean     sd        FBias       MAPE      RMSE      \n",
       "1 Decision Tree-Daily 721 1.226075 0.4185786 0.005656109 0.0554785 0.01028599\n",
       "  MAD        WMAPE     \n",
       "1 0.07628294 0.06221719"
      ]
     },
     "metadata": {},
     "output_type": "display_data"
    }
   ],
   "source": [
    "perf_dt(\"Decision Tree-Daily\",as.numeric(test_spam$X1),as.numeric(predicted_pisa))"
   ]
  },
  {
   "cell_type": "markdown",
   "metadata": {},
   "source": [
    "## Random Forest(RF)"
   ]
  },
  {
   "cell_type": "code",
   "execution_count": 183,
   "metadata": {},
   "outputs": [],
   "source": [
    "library(randomForest)"
   ]
  },
  {
   "cell_type": "code",
   "execution_count": 184,
   "metadata": {},
   "outputs": [
    {
     "data": {
      "text/plain": [
       "\n",
       "Call:\n",
       " randomForest(formula = X1 ~ ., data = train_spam, method = \"class\",      ntree = 300, nodesize = 30) \n",
       "               Type of random forest: classification\n",
       "                     Number of trees: 300\n",
       "No. of variables tried at each split: 7\n",
       "\n",
       "        OOB estimate of  error rate: 5.1%\n",
       "Confusion matrix:\n",
       "     0   1 class.error\n",
       "0 2191  39  0.01748879\n",
       "1  108 542  0.16615385"
      ]
     },
     "metadata": {},
     "output_type": "display_data"
    }
   ],
   "source": [
    "random_forest_spam=randomForest(X1~.,method='class',data=train_spam,\n",
    "                           ntree=300,nodesize=30)\n",
    "random_forest_spam"
   ]
  },
  {
   "cell_type": "code",
   "execution_count": 185,
   "metadata": {},
   "outputs": [
    {
     "data": {
      "image/png": "[encoded data removed]",
      "text/plain": [
       "Plot with title \"random_forest_spam\""
      ]
     },
     "metadata": {},
     "output_type": "display_data"
    }
   ],
   "source": [
    "varImpPlot(random_forest_spam)"
   ]
  },
  {
   "cell_type": "code",
   "execution_count": 186,
   "metadata": {},
   "outputs": [],
   "source": [
    "PredictRandomForest_spam=predict(random_forest_spam,newdata=test_spam,type=\"class\")"
   ]
  },
  {
   "cell_type": "markdown",
   "metadata": {},
   "source": [
    "### Performanca Measure"
   ]
  },
  {
   "cell_type": "code",
   "execution_count": 187,
   "metadata": {},
   "outputs": [
    {
     "data": {
      "text/plain": [
       "Confusion Matrix and Statistics\n",
       "\n",
       "          Reference\n",
       "Prediction   0   1\n",
       "         0 545  22\n",
       "         1  13 141\n",
       "                                         \n",
       "               Accuracy : 0.9515         \n",
       "                 95% CI : (0.9331, 0.966)\n",
       "    No Information Rate : 0.7739         \n",
       "    P-Value [Acc > NIR] : <2e-16         \n",
       "                                         \n",
       "                  Kappa : 0.8585         \n",
       "                                         \n",
       " Mcnemar's Test P-Value : 0.1763         \n",
       "                                         \n",
       "              Precision : 0.9612         \n",
       "                 Recall : 0.9767         \n",
       "                     F1 : 0.9689         \n",
       "             Prevalence : 0.7739         \n",
       "         Detection Rate : 0.7559         \n",
       "   Detection Prevalence : 0.7864         \n",
       "      Balanced Accuracy : 0.9209         \n",
       "                                         \n",
       "       'Positive' Class : 0              \n",
       "                                         "
      ]
     },
     "metadata": {},
     "output_type": "display_data"
    }
   ],
   "source": [
    "confusionMatrix(data = as.factor(PredictRandomForest_spam), reference = as.factor(test_spam$X1), mode = \"prec_recall\")"
   ]
  },
  {
   "cell_type": "markdown",
   "metadata": {},
   "source": [
    "### Performanca Measure"
   ]
  },
  {
   "cell_type": "code",
   "execution_count": 188,
   "metadata": {
    "scrolled": true
   },
   "outputs": [
    {
     "data": {
      "text/html": [
       "<table>\n",
       "<thead><tr><th scope=col>name</th><th scope=col>n</th><th scope=col>mean</th><th scope=col>sd</th><th scope=col>FBias</th><th scope=col>MAPE</th><th scope=col>RMSE</th><th scope=col>MAD</th><th scope=col>WMAPE</th></tr></thead>\n",
       "<tbody>\n",
       "\t<tr><td>Random Forest-daily</td><td>721                </td><td>1.226075           </td><td>0.4185786          </td><td>0.010181           </td><td>0.0332871          </td><td>0.008205381        </td><td>0.04854369         </td><td>0.03959276         </td></tr>\n",
       "</tbody>\n",
       "</table>\n"
      ],
      "text/latex": [
       "\\begin{tabular}{r|lllllllll}\n",
       " name & n & mean & sd & FBias & MAPE & RMSE & MAD & WMAPE\\\\\n",
       "\\hline\n",
       "\t Random Forest-daily & 721                 & 1.226075            & 0.4185786           & 0.010181            & 0.0332871           & 0.008205381         & 0.04854369          & 0.03959276         \\\\\n",
       "\\end{tabular}\n"
      ],
      "text/markdown": [
       "\n",
       "| name | n | mean | sd | FBias | MAPE | RMSE | MAD | WMAPE |\n",
       "|---|---|---|---|---|---|---|---|---|\n",
       "| Random Forest-daily | 721                 | 1.226075            | 0.4185786           | 0.010181            | 0.0332871           | 0.008205381         | 0.04854369          | 0.03959276          |\n",
       "\n"
      ],
      "text/plain": [
       "  name                n   mean     sd        FBias    MAPE      RMSE       \n",
       "1 Random Forest-daily 721 1.226075 0.4185786 0.010181 0.0332871 0.008205381\n",
       "  MAD        WMAPE     \n",
       "1 0.04854369 0.03959276"
      ]
     },
     "metadata": {},
     "output_type": "display_data"
    }
   ],
   "source": [
    "perf_dt(\"Random Forest-daily\",as.numeric(test_spam$X1),as.numeric(PredictRandomForest_spam))"
   ]
  },
  {
   "cell_type": "markdown",
   "metadata": {},
   "source": [
    "## Stochastic Gradient Boosting(SGB)"
   ]
  },
  {
   "cell_type": "code",
   "execution_count": 222,
   "metadata": {},
   "outputs": [],
   "source": [
    "train_spam$X1=as.numeric(train_spam$X1)-1\n",
    "test_spam$X1=as.numeric(test_spam$X1)-1"
   ]
  },
  {
   "cell_type": "code",
   "execution_count": 223,
   "metadata": {},
   "outputs": [],
   "source": [
    "train_spam$X1=as.character(train_spam$X1)\n",
    "test_spam$X1=as.character(test_spam$X1)"
   ]
  },
  {
   "cell_type": "code",
   "execution_count": 224,
   "metadata": {},
   "outputs": [
    {
     "name": "stdout",
     "output_type": "stream",
     "text": [
      "Classes 'data.table' and 'data.frame':\t721 obs. of  58 variables:\n",
      " $ X0     : num  0.45 0.09 0 1.47 0 0 1.63 0 0.54 0 ...\n",
      " $ X0.64  : num  0.9 0.49 0.72 0 0 0 0 0 0 0 ...\n",
      " $ X0.64.1: num  0.9 0.59 1.81 0 0.15 0 1.63 0 0 0 ...\n",
      " $ X0.1   : num  0 0 0 0 0 0 0 0 0 9.16 ...\n",
      " $ X0.32  : num  0.45 0.39 0 0 0.9 0 0 2.29 2.16 0.27 ...\n",
      " $ X0.2   : num  0 0.19 0.36 0 0.15 0 0 0 0 0 ...\n",
      " $ X0.3   : num  0 0 0 0 0 0 0 0 0 0.55 ...\n",
      " $ X0.4   : num  0.45 0 0.36 0 0 0 0 0 0.54 0.27 ...\n",
      " $ X0.5   : num  0 0.09 0.72 0 0.9 0 1.63 0 0 0.27 ...\n",
      " $ X0.6   : num  1.8 0.39 1.08 1.47 0 1.19 0 0 1.08 0.27 ...\n",
      " $ X0.7   : num  0 0 0.36 0 0 0 0 0 0 0 ...\n",
      " $ X0.64.2: num  2.26 1.57 0.72 0 0.75 0 0 1.14 0 0.27 ...\n",
      " $ X0.8   : num  0 0.19 0 1.47 0.15 0 0 0 0 0 ...\n",
      " $ X0.9   : num  0.45 0 0.36 0 0 0 0 0 0 0 ...\n",
      " $ X0.10  : num  0 0 0 0 0 0 0 0 0 0 ...\n",
      " $ X0.32.1: num  0.45 0 0.36 7.35 0 1.19 1.63 4.59 0 0 ...\n",
      " $ X0.11  : num  0 0.09 0.36 0 0.3 0 0 0 1.08 1.11 ...\n",
      " $ X1.29  : num  0 0 0.36 0 0 0 0 0 0 0 ...\n",
      " $ X1.93  : num  1.8 3.75 1.08 2.94 2.26 3.57 3.27 3.44 2.7 0.55 ...\n",
      " $ X0.12  : num  0 0.09 0 0 0 0 0 0 0 0.27 ...\n",
      " $ X0.96  : num  4.97 1.08 2.53 1.47 0.9 3.57 3.27 1.14 0.54 0.83 ...\n",
      " $ X0.13  : num  0 0 0 0 0 0 0 0 0 0 ...\n",
      " $ X0.14  : num  0 0 0 0 0.15 0 0 0 0 0 ...\n",
      " $ X0.15  : num  0 0.09 0 4.41 0.3 0 0 0 0 0 ...\n",
      " $ X0.16  : num  0 0 0 0 0 1.19 0 0 0 0 ...\n",
      " $ X0.17  : num  0 0 0 0 0 1.19 0 0 0 0 ...\n",
      " $ X0.18  : num  0 0 0 0 0 0 0 0 0 0 ...\n",
      " $ X0.19  : num  0 0 0 0 0 0 0 0 0 0 ...\n",
      " $ X0.20  : num  0 0 0 0 0 0 0 0 0 0 ...\n",
      " $ X0.21  : num  0 0 0 0 0 0 0 0 0 0 ...\n",
      " $ X0.22  : num  0 0 0 0 0 0 0 0 0 0 ...\n",
      " $ X0.23  : num  0 0 0 0 0 0 0 0 0 0 ...\n",
      " $ X0.24  : num  0 0 0 0 0 0 0 0 0 0 ...\n",
      " $ X0.25  : num  0 0 0 0 0 0 0 0 0 0 ...\n",
      " $ X0.26  : num  0 0 0 0 0.6 0 0 0 0 0 ...\n",
      " $ X0.27  : num  0 0 0 0 0 0 0 0 0 0 ...\n",
      " $ X0.28  : num  0 0 1.08 0 0 0 0 0 0.54 0 ...\n",
      " $ X0.29  : num  0 0 0 0 0 0 0 0 0 0 ...\n",
      " $ X0.30  : num  0 0 0 0 0 0 0 0 0 0 ...\n",
      " $ X0.31  : num  0 0 0 0 0 0 0 0 0 0 ...\n",
      " $ X0.33  : num  0 0 0 0 0 0 0 0 0 0 ...\n",
      " $ X0.34  : num  0 0 0 0 0 0 0 0 0 0 ...\n",
      " $ X0.35  : num  0 0 0 0 0 0 0 0 0 0 ...\n",
      " $ X0.36  : num  0 0 0 0 0 0 0 0 0 0 ...\n",
      " $ X0.37  : num  0 0 0.36 0 0 1.19 0 1.14 0 0 ...\n",
      " $ X0.38  : num  0 0 0 0 0 0 0 0 0 0 ...\n",
      " $ X0.39  : num  0 0 0 0 0 0 0 0 0 0 ...\n",
      " $ X0.40  : num  0 0 0 0 0 0 0 0 0 0 ...\n",
      " $ X0.41  : num  0 0.768 0 0 0 0 0 0 0 0.387 ...\n",
      " $ X0.42  : num  0.244 0.037 0.334 0 0.1 0 0 0.646 0.051 0 ...\n",
      " $ X0.43  : num  0 0 0 0 0 0 0 0 0 0 ...\n",
      " $ X0.778 : num  1.631 5.848 1.203 1.272 0.376 ...\n",
      " $ X0.44  : num  0.244 1.313 0.467 0.254 0.05 ...\n",
      " $ X0.45  : num  0.081 0 0.066 0 0.025 0 0 0 0 0.043 ...\n",
      " $ X3.756 : num  64.42 5.96 18.4 6.29 2.27 ...\n",
      " $ X61    : int  708 54 393 63 49 41 16 30 19 694 ...\n",
      " $ X278   : int  773 757 736 107 427 95 36 110 82 1130 ...\n",
      " $ X1     : chr  \"1\" \"1\" \"1\" \"1\" ...\n",
      " - attr(*, \".internal.selfref\")=<externalptr> \n"
     ]
    }
   ],
   "source": [
    "str(test_spam)"
   ]
  },
  {
   "cell_type": "code",
   "execution_count": 225,
   "metadata": {},
   "outputs": [],
   "source": [
    "noftrees=300\n",
    "depth=5\n",
    "learning_rate=0.1\n",
    "sampling_fraction=1\n",
    "boosting_model=gbm(X1~., data=train_spam ,distribution = \"bernoulli\", n.trees = noftrees,\n",
    "        interaction.depth = depth, n.minobsinnode = 5, shrinkage =learning_rate ,\n",
    "        bag.fraction = sampling_fraction)\n",
    "\n",
    "predicted_spa_sgbm=predict(boosting_model,\n",
    "                    newdata = test_spam,\n",
    "                    n.trees = noftrees,\n",
    "                    type = \"response\")  \n",
    "\n",
    "res_spam_sgb <- ifelse(predicted_spa_sgbm>0.5,1,0)"
   ]
  },
  {
   "cell_type": "code",
   "execution_count": 229,
   "metadata": {},
   "outputs": [
    {
     "data": {
      "text/plain": [
       "Confusion Matrix and Statistics\n",
       "\n",
       "          Reference\n",
       "Prediction   0   1\n",
       "         0 548  14\n",
       "         1  10 149\n",
       "                                          \n",
       "               Accuracy : 0.9667          \n",
       "                 95% CI : (0.9509, 0.9786)\n",
       "    No Information Rate : 0.7739          \n",
       "    P-Value [Acc > NIR] : <2e-16          \n",
       "                                          \n",
       "                  Kappa : 0.904           \n",
       "                                          \n",
       " Mcnemar's Test P-Value : 0.5403          \n",
       "                                          \n",
       "              Precision : 0.9751          \n",
       "                 Recall : 0.9821          \n",
       "                     F1 : 0.9786          \n",
       "             Prevalence : 0.7739          \n",
       "         Detection Rate : 0.7601          \n",
       "   Detection Prevalence : 0.7795          \n",
       "      Balanced Accuracy : 0.9481          \n",
       "                                          \n",
       "       'Positive' Class : 0               \n",
       "                                          "
      ]
     },
     "metadata": {},
     "output_type": "display_data"
    }
   ],
   "source": [
    "confusionMatrix(data = as.factor(res_spam_sgb), reference = as.factor(test_spam$X1), mode = \"prec_recall\")"
   ]
  },
  {
   "cell_type": "markdown",
   "metadata": {},
   "source": [
    "### Performanca Measure"
   ]
  },
  {
   "cell_type": "code",
   "execution_count": 230,
   "metadata": {
    "scrolled": true
   },
   "outputs": [
    {
     "data": {
      "text/html": [
       "<table>\n",
       "<thead><tr><th scope=col>name</th><th scope=col>n</th><th scope=col>mean</th><th scope=col>sd</th><th scope=col>FBias</th><th scope=col>MAPE</th><th scope=col>RMSE</th><th scope=col>MAD</th><th scope=col>WMAPE</th></tr></thead>\n",
       "<tbody>\n",
       "\t<tr><td>First Data Set for Random Forest</td><td>721                             </td><td>0.220527                        </td><td>0.4148899                       </td><td>-0.02515723                     </td><td>NaN                             </td><td>0.006794701                     </td><td>0.0332871                       </td><td>0.1509434                       </td></tr>\n",
       "</tbody>\n",
       "</table>\n"
      ],
      "text/latex": [
       "\\begin{tabular}{r|lllllllll}\n",
       " name & n & mean & sd & FBias & MAPE & RMSE & MAD & WMAPE\\\\\n",
       "\\hline\n",
       "\t First Data Set for Random Forest & 721                              & 0.220527                         & 0.4148899                        & -0.02515723                      & NaN                              & 0.006794701                      & 0.0332871                        & 0.1509434                       \\\\\n",
       "\\end{tabular}\n"
      ],
      "text/markdown": [
       "\n",
       "| name | n | mean | sd | FBias | MAPE | RMSE | MAD | WMAPE |\n",
       "|---|---|---|---|---|---|---|---|---|\n",
       "| First Data Set for Random Forest | 721                              | 0.220527                         | 0.4148899                        | -0.02515723                      | NaN                              | 0.006794701                      | 0.0332871                        | 0.1509434                        |\n",
       "\n"
      ],
      "text/plain": [
       "  name                             n   mean     sd        FBias       MAPE\n",
       "1 First Data Set for Random Forest 721 0.220527 0.4148899 -0.02515723 NaN \n",
       "  RMSE        MAD       WMAPE    \n",
       "1 0.006794701 0.0332871 0.1509434"
      ]
     },
     "metadata": {},
     "output_type": "display_data"
    }
   ],
   "source": [
    "perf_dt(\"First Data Set for Random Forest\", as.numeric(res_spam_sgb), as.numeric(test_spam$X1))"
   ]
  },
  {
   "cell_type": "code",
   "execution_count": null,
   "metadata": {},
   "outputs": [],
   "source": []
  }
 ],
 "metadata": {
  "kernelspec": {
   "display_name": "R",
   "language": "R",
   "name": "ir"
  },
  "language_info": {
   "codemirror_mode": "r",
   "file_extension": ".r",
   "mimetype": "text/x-r-source",
   "name": "R",
   "pygments_lexer": "r",
   "version": "3.6.1"
  }
 },
 "nbformat": 4,
 "nbformat_minor": 4
}
